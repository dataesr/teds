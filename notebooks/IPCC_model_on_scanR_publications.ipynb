{
 "cells": [
  {
   "cell_type": "code",
   "execution_count": 1,
   "metadata": {},
   "outputs": [],
   "source": [
    "import os\n",
    "from dotenv import load_dotenv\n",
    "load_dotenv()\n",
    "import requests\n",
    "import base64\n",
    "import matplotlib.pyplot as plt\n",
    "import numpy as np\n",
    "from elasticsearch import Elasticsearch\n",
    "from urllib import parse\n",
    "import pandas as pd\n",
    "import sys\n",
    "module_path = os.path.abspath(os.path.join('..'))\n",
    "if module_path not in sys.path:\n",
    "    sys.path.append(module_path)\n",
    "\n",
    "import logging\n",
    "logging.basicConfig(level=logging.CRITICAL)\n",
    "\n",
    "from code_utils.elastic import get_from_es,get_data_from_elastic,plot_graph,interfaces_evaluation\n",
    "from code_utils.utils import get_year_ipbes,get_year_ipcc,aplatir"
   ]
  },
  {
   "cell_type": "code",
   "execution_count": 2,
   "metadata": {},
   "outputs": [
    {
     "data": {
      "text/plain": [
       "{'took': 4560,\n",
       " 'timed_out': False,\n",
       " '_shards': {'total': 1, 'successful': 1, 'skipped': 0, 'failed': 0},\n",
       " 'hits': {'total': {'value': 1451506, 'relation': 'eq'},\n",
       "  'max_score': None,\n",
       "  'hits': []},\n",
       " 'aggregations': {'predicted_labels': {'doc_count_error_upper_bound': 0,\n",
       "   'sum_other_doc_count': 0,\n",
       "   'buckets': [{'key': 'not_ipcc', 'doc_count': 1386002},\n",
       "    {'key': 'ipcc', 'doc_count': 65504},\n",
       "    {'key': 'ipcc_adaptation', 'doc_count': 43479},\n",
       "    {'key': 'ipcc_science', 'doc_count': 15250},\n",
       "    {'key': 'ipcc_mitigation', 'doc_count': 8819}]}}}"
      ]
     },
     "execution_count": 2,
     "metadata": {},
     "output_type": "execute_result"
    }
   ],
   "source": [
    "body = {\n",
    "  \"size\": 0,\n",
    "  \"track_total_hits\": True,\n",
    "  \"query\": {\n",
    "    \"exists\": {\n",
    "      \"field\": \"topics\"\n",
    "    }\n",
    "  },\n",
    "  \"aggs\": {\n",
    "    \"predicted_labels\": {\n",
    "      \"terms\": {\n",
    "        \"field\": \"predict_teds.label.keyword\",\n",
    "        \"size\": 10000000\n",
    "      }\n",
    "    }\n",
    "  }\n",
    "}\n",
    "get_from_es(body,'scanr-publications')"
   ]
  },
  {
   "cell_type": "code",
   "execution_count": 8,
   "metadata": {},
   "outputs": [
    {
     "data": {
      "text/plain": [
       "{'took': 1331,\n",
       " 'timed_out': False,\n",
       " '_shards': {'total': 1, 'successful': 1, 'skipped': 0, 'failed': 0},\n",
       " 'hits': {'total': {'value': 4550895, 'relation': 'eq'},\n",
       "  'max_score': None,\n",
       "  'hits': []},\n",
       " 'aggregations': {'predicted_labels': {'doc_count_error_upper_bound': 0,\n",
       "   'sum_other_doc_count': 0,\n",
       "   'buckets': [{'key': 'not_ipcc', 'doc_count': 4538677},\n",
       "    {'key': 'ipcc', 'doc_count': 12218},\n",
       "    {'key': 'ipcc_adaptation', 'doc_count': 5871},\n",
       "    {'key': 'ipcc_mitigation', 'doc_count': 3285},\n",
       "    {'key': 'ipcc_science', 'doc_count': 284}]}}}"
      ]
     },
     "execution_count": 8,
     "metadata": {},
     "output_type": "execute_result"
    }
   ],
   "source": [
    "body = {\n",
    "  \"size\": 0,\n",
    "  \"track_total_hits\": True,\n",
    "  \"query\": {\n",
    "    \"bool\": {\n",
    "      \"must_not\": [\n",
    "        {\n",
    "          \"exists\": {\n",
    "            \"field\": \"topics\"\n",
    "          }\n",
    "        }\n",
    "      ]\n",
    "    }\n",
    "  },\n",
    "  \"aggs\": {\n",
    "    \"predicted_labels\": {\n",
    "      \"terms\": {\n",
    "        \"field\": \"predict_teds.label.keyword\",\n",
    "        \"size\": 10000000\n",
    "      }\n",
    "    }\n",
    "  }\n",
    "}\n",
    "get_from_es(body,'scanr-publications')"
   ]
  },
  {
   "cell_type": "code",
   "execution_count": 3,
   "metadata": {},
   "outputs": [],
   "source": [
    "body = {\n",
    "  \"size\": 0, \n",
    "  \"query\": {\n",
    "    \"exists\": {\n",
    "      \"field\": \"topics\"\n",
    "    }\n",
    "  }\n",
    "}"
   ]
  },
  {
   "cell_type": "code",
   "execution_count": null,
   "metadata": {},
   "outputs": [],
   "source": [
    "body = {\n",
    "  \"size\": 0,\n",
    "  \"track_total_hits\": True,\n",
    "  \"query\": {\n",
    "    \"exists\": {\n",
    "      \"field\": \"topics\"\n",
    "    }\n",
    "  },\n",
    "  \"aggs\": {\n",
    "    \"predicted_labels\": {\n",
    "      \"terms\": {\n",
    "        \"field\": \"predict_teds.label.keyword\",\n",
    "        \"size\": 10000000\n",
    "      },\n",
    "      \"aggs\": {\n",
    "        \"predicted_labels\": {\n",
    "          \"terms\": {\n",
    "            \"field\": \"predict_teds.label.keyword\",\n",
    "            \"size\": 10000000\n",
    "          }\n",
    "        }\n",
    "      }\n",
    "    }\n",
    "  }\n",
    "}\n",
    "get_from_es(body,'scanr-publications')"
   ]
  },
  {
   "cell_type": "code",
   "execution_count": 55,
   "metadata": {},
   "outputs": [
    {
     "data": {
      "text/plain": [
       "{'took': 5,\n",
       " 'timed_out': False,\n",
       " '_shards': {'total': 1, 'successful': 1, 'skipped': 0, 'failed': 0},\n",
       " 'hits': {'total': {'value': 1451506, 'relation': 'eq'},\n",
       "  'max_score': None,\n",
       "  'hits': []},\n",
       " 'aggregations': {'years': {'doc_count_error_upper_bound': 0,\n",
       "   'sum_other_doc_count': 0,\n",
       "   'buckets': [{'key': 2022,\n",
       "     'doc_count': 139716,\n",
       "     'predicted_labels': {'doc_count_error_upper_bound': 0,\n",
       "      'sum_other_doc_count': 0,\n",
       "      'buckets': [{'key': 'not_ipcc', 'doc_count': 131942},\n",
       "       {'key': 'ipcc', 'doc_count': 7774},\n",
       "       {'key': 'ipcc_adaptation', 'doc_count': 5028},\n",
       "       {'key': 'ipcc_science', 'doc_count': 1837},\n",
       "       {'key': 'ipcc_mitigation', 'doc_count': 1140}]}},\n",
       "    {'key': 2021,\n",
       "     'doc_count': 139629,\n",
       "     'predicted_labels': {'doc_count_error_upper_bound': 0,\n",
       "      'sum_other_doc_count': 0,\n",
       "      'buckets': [{'key': 'not_ipcc', 'doc_count': 132113},\n",
       "       {'key': 'ipcc', 'doc_count': 7516},\n",
       "       {'key': 'ipcc_adaptation', 'doc_count': 4928},\n",
       "       {'key': 'ipcc_science', 'doc_count': 1703},\n",
       "       {'key': 'ipcc_mitigation', 'doc_count': 1063}]}},\n",
       "    {'key': 2020,\n",
       "     'doc_count': 137571,\n",
       "     'predicted_labels': {'doc_count_error_upper_bound': 0,\n",
       "      'sum_other_doc_count': 0,\n",
       "      'buckets': [{'key': 'not_ipcc', 'doc_count': 130537},\n",
       "       {'key': 'ipcc', 'doc_count': 7034},\n",
       "       {'key': 'ipcc_adaptation', 'doc_count': 4684},\n",
       "       {'key': 'ipcc_science', 'doc_count': 1695},\n",
       "       {'key': 'ipcc_mitigation', 'doc_count': 882}]}},\n",
       "    {'key': 2023,\n",
       "     'doc_count': 132144,\n",
       "     'predicted_labels': {'doc_count_error_upper_bound': 0,\n",
       "      'sum_other_doc_count': 0,\n",
       "      'buckets': [{'key': 'not_ipcc', 'doc_count': 124552},\n",
       "       {'key': 'ipcc', 'doc_count': 7592},\n",
       "       {'key': 'ipcc_adaptation', 'doc_count': 4868},\n",
       "       {'key': 'ipcc_science', 'doc_count': 1733},\n",
       "       {'key': 'ipcc_mitigation', 'doc_count': 1243}]}},\n",
       "    {'key': 2019,\n",
       "     'doc_count': 132118,\n",
       "     'predicted_labels': {'doc_count_error_upper_bound': 0,\n",
       "      'sum_other_doc_count': 0,\n",
       "      'buckets': [{'key': 'not_ipcc', 'doc_count': 126247},\n",
       "       {'key': 'ipcc', 'doc_count': 5871},\n",
       "       {'key': 'ipcc_adaptation', 'doc_count': 3949},\n",
       "       {'key': 'ipcc_science', 'doc_count': 1288},\n",
       "       {'key': 'ipcc_mitigation', 'doc_count': 832}]}},\n",
       "    {'key': 2018,\n",
       "     'doc_count': 131867,\n",
       "     'predicted_labels': {'doc_count_error_upper_bound': 0,\n",
       "      'sum_other_doc_count': 0,\n",
       "      'buckets': [{'key': 'not_ipcc', 'doc_count': 126167},\n",
       "       {'key': 'ipcc', 'doc_count': 5700},\n",
       "       {'key': 'ipcc_adaptation', 'doc_count': 3894},\n",
       "       {'key': 'ipcc_science', 'doc_count': 1249},\n",
       "       {'key': 'ipcc_mitigation', 'doc_count': 771}]}},\n",
       "    {'key': 2017,\n",
       "     'doc_count': 127291,\n",
       "     'predicted_labels': {'doc_count_error_upper_bound': 0,\n",
       "      'sum_other_doc_count': 0,\n",
       "      'buckets': [{'key': 'not_ipcc', 'doc_count': 122416},\n",
       "       {'key': 'ipcc', 'doc_count': 4875},\n",
       "       {'key': 'ipcc_adaptation', 'doc_count': 3325},\n",
       "       {'key': 'ipcc_science', 'doc_count': 1068},\n",
       "       {'key': 'ipcc_mitigation', 'doc_count': 639}]}},\n",
       "    {'key': 2016,\n",
       "     'doc_count': 127174,\n",
       "     'predicted_labels': {'doc_count_error_upper_bound': 0,\n",
       "      'sum_other_doc_count': 0,\n",
       "      'buckets': [{'key': 'not_ipcc', 'doc_count': 122402},\n",
       "       {'key': 'ipcc', 'doc_count': 4772},\n",
       "       {'key': 'ipcc_adaptation', 'doc_count': 3217},\n",
       "       {'key': 'ipcc_science', 'doc_count': 1120},\n",
       "       {'key': 'ipcc_mitigation', 'doc_count': 560}]}},\n",
       "    {'key': 2014,\n",
       "     'doc_count': 122485,\n",
       "     'predicted_labels': {'doc_count_error_upper_bound': 0,\n",
       "      'sum_other_doc_count': 0,\n",
       "      'buckets': [{'key': 'not_ipcc', 'doc_count': 118152},\n",
       "       {'key': 'ipcc', 'doc_count': 4333},\n",
       "       {'key': 'ipcc_adaptation', 'doc_count': 2912},\n",
       "       {'key': 'ipcc_science', 'doc_count': 1076},\n",
       "       {'key': 'ipcc_mitigation', 'doc_count': 473}]}},\n",
       "    {'key': 2015,\n",
       "     'doc_count': 121950,\n",
       "     'predicted_labels': {'doc_count_error_upper_bound': 0,\n",
       "      'sum_other_doc_count': 0,\n",
       "      'buckets': [{'key': 'not_ipcc', 'doc_count': 117462},\n",
       "       {'key': 'ipcc', 'doc_count': 4488},\n",
       "       {'key': 'ipcc_adaptation', 'doc_count': 3033},\n",
       "       {'key': 'ipcc_science', 'doc_count': 1045},\n",
       "       {'key': 'ipcc_mitigation', 'doc_count': 537}]}},\n",
       "    {'key': 2013,\n",
       "     'doc_count': 117666,\n",
       "     'predicted_labels': {'doc_count_error_upper_bound': 0,\n",
       "      'sum_other_doc_count': 0,\n",
       "      'buckets': [{'key': 'not_ipcc', 'doc_count': 113602},\n",
       "       {'key': 'ipcc', 'doc_count': 4064},\n",
       "       {'key': 'ipcc_adaptation', 'doc_count': 2656},\n",
       "       {'key': 'ipcc_science', 'doc_count': 1130},\n",
       "       {'key': 'ipcc_mitigation', 'doc_count': 451}]}},\n",
       "    {'key': 2024,\n",
       "     'doc_count': 21861,\n",
       "     'predicted_labels': {'doc_count_error_upper_bound': 0,\n",
       "      'sum_other_doc_count': 0,\n",
       "      'buckets': [{'key': 'not_ipcc', 'doc_count': 20378},\n",
       "       {'key': 'ipcc', 'doc_count': 1483},\n",
       "       {'key': 'ipcc_adaptation', 'doc_count': 983},\n",
       "       {'key': 'ipcc_science', 'doc_count': 306},\n",
       "       {'key': 'ipcc_mitigation', 'doc_count': 228}]}},\n",
       "    {'key': 2012,\n",
       "     'doc_count': 8,\n",
       "     'predicted_labels': {'doc_count_error_upper_bound': 0,\n",
       "      'sum_other_doc_count': 0,\n",
       "      'buckets': [{'key': 'not_ipcc', 'doc_count': 7},\n",
       "       {'key': 'ipcc', 'doc_count': 1},\n",
       "       {'key': 'ipcc_adaptation', 'doc_count': 1}]}},\n",
       "    {'key': 2011,\n",
       "     'doc_count': 7,\n",
       "     'predicted_labels': {'doc_count_error_upper_bound': 0,\n",
       "      'sum_other_doc_count': 0,\n",
       "      'buckets': [{'key': 'not_ipcc', 'doc_count': 6},\n",
       "       {'key': 'ipcc', 'doc_count': 1},\n",
       "       {'key': 'ipcc_adaptation', 'doc_count': 1}]}},\n",
       "    {'key': 2025,\n",
       "     'doc_count': 6,\n",
       "     'predicted_labels': {'doc_count_error_upper_bound': 0,\n",
       "      'sum_other_doc_count': 0,\n",
       "      'buckets': [{'key': 'not_ipcc', 'doc_count': 6}]}},\n",
       "    {'key': 1970,\n",
       "     'doc_count': 4,\n",
       "     'predicted_labels': {'doc_count_error_upper_bound': 0,\n",
       "      'sum_other_doc_count': 0,\n",
       "      'buckets': [{'key': 'not_ipcc', 'doc_count': 4}]}},\n",
       "    {'key': 2026,\n",
       "     'doc_count': 4,\n",
       "     'predicted_labels': {'doc_count_error_upper_bound': 0,\n",
       "      'sum_other_doc_count': 0,\n",
       "      'buckets': [{'key': 'not_ipcc', 'doc_count': 4}]}},\n",
       "    {'key': 2009,\n",
       "     'doc_count': 1,\n",
       "     'predicted_labels': {'doc_count_error_upper_bound': 0,\n",
       "      'sum_other_doc_count': 0,\n",
       "      'buckets': [{'key': 'not_ipcc', 'doc_count': 1}]}},\n",
       "    {'key': 2010,\n",
       "     'doc_count': 1,\n",
       "     'predicted_labels': {'doc_count_error_upper_bound': 0,\n",
       "      'sum_other_doc_count': 0,\n",
       "      'buckets': [{'key': 'not_ipcc', 'doc_count': 1}]}},\n",
       "    {'key': 2033,\n",
       "     'doc_count': 1,\n",
       "     'predicted_labels': {'doc_count_error_upper_bound': 0,\n",
       "      'sum_other_doc_count': 0,\n",
       "      'buckets': [{'key': 'not_ipcc', 'doc_count': 1}]}},\n",
       "    {'key': 2050,\n",
       "     'doc_count': 1,\n",
       "     'predicted_labels': {'doc_count_error_upper_bound': 0,\n",
       "      'sum_other_doc_count': 0,\n",
       "      'buckets': [{'key': 'not_ipcc', 'doc_count': 1}]}},\n",
       "    {'key': 2103,\n",
       "     'doc_count': 1,\n",
       "     'predicted_labels': {'doc_count_error_upper_bound': 0,\n",
       "      'sum_other_doc_count': 0,\n",
       "      'buckets': [{'key': 'not_ipcc', 'doc_count': 1}]}}]}}}"
      ]
     },
     "execution_count": 55,
     "metadata": {},
     "output_type": "execute_result"
    }
   ],
   "source": [
    "body = {\n",
    "  \"size\": 0,\n",
    "  \"track_total_hits\": True,\n",
    "  \"query\": {\n",
    "    \"exists\": {\n",
    "      \"field\": \"topics\"\n",
    "    }\n",
    "  },\n",
    "  \"aggs\": {\n",
    "    \"years\": {\n",
    "      \"terms\": {\n",
    "        \"field\": \"year\",\n",
    "        \"size\": 10000000\n",
    "      },\n",
    "      \"aggs\": {\n",
    "        \"predicted_labels\": {\n",
    "          \"terms\": {\n",
    "            \"field\": \"predict_teds.label.keyword\",\n",
    "            \"size\": 10000000\n",
    "          }\n",
    "        }\n",
    "      }\n",
    "    }\n",
    "  }\n",
    "}\n",
    "get_from_es(body,'scanr-publications')"
   ]
  },
  {
   "cell_type": "code",
   "execution_count": 56,
   "metadata": {},
   "outputs": [],
   "source": [
    "data=get_from_es(body,'scanr-publications')"
   ]
  },
  {
   "cell_type": "code",
   "execution_count": 57,
   "metadata": {},
   "outputs": [],
   "source": [
    "years = [x['key'] for x in data['aggregations']['years']['buckets']]\n",
    "labels = ['ipcc_adaptation', 'ipcc_science', 'ipcc_mitigation']\n",
    "values = {label: [] for label in labels}"
   ]
  },
  {
   "cell_type": "code",
   "execution_count": 58,
   "metadata": {},
   "outputs": [],
   "source": [
    "x=data['aggregations']['years']['buckets'][0]"
   ]
  },
  {
   "cell_type": "code",
   "execution_count": 59,
   "metadata": {},
   "outputs": [
    {
     "data": {
      "text/plain": [
       "['not_ipcc', 'ipcc', 'ipcc_adaptation', 'ipcc_science', 'ipcc_mitigation']"
      ]
     },
     "execution_count": 59,
     "metadata": {},
     "output_type": "execute_result"
    }
   ],
   "source": [
    "[bucket['key'] for bucket in x['predicted_labels']['buckets']]"
   ]
  },
  {
   "cell_type": "code",
   "execution_count": 60,
   "metadata": {},
   "outputs": [],
   "source": [
    "data_counts={}\n",
    "for x in data['aggregations']['years']['buckets']:\n",
    "    #print(x['key'])\n",
    "    data_counts[x['key']]=[]#x['doc_count']]\n",
    "    if 'ipcc_science' in [bucket['key'] for bucket in x['predicted_labels']['buckets']]:\n",
    "        data_counts[x['key']].append([bucket['doc_count'] for bucket in x['predicted_labels']['buckets'] if bucket['key']=='ipcc_science'][0]) \n",
    "    else:\n",
    "        data_counts[x['key']].append(0)\n",
    "    if 'ipcc_adaptation' in [bucket['key'] for bucket in x['predicted_labels']['buckets']]:\n",
    "        data_counts[x['key']].append([bucket['doc_count'] for bucket in x['predicted_labels']['buckets'] if bucket['key']=='ipcc_adaptation'][0]) \n",
    "    else:\n",
    "        data_counts[x['key']].append(0)\n",
    "    if 'ipcc_mitigation' in [bucket['key'] for bucket in x['predicted_labels']['buckets']]:   \n",
    "        data_counts[x['key']].append([bucket['doc_count'] for bucket in x['predicted_labels']['buckets'] if bucket['key']=='ipcc_mitigation'][0]) \n",
    "    else:\n",
    "        data_counts[x['key']].append(0)"
   ]
  },
  {
   "cell_type": "code",
   "execution_count": 61,
   "metadata": {},
   "outputs": [
    {
     "data": {
      "text/plain": [
       "{2022: [1837, 5028, 1140],\n",
       " 2021: [1703, 4928, 1063],\n",
       " 2020: [1695, 4684, 882],\n",
       " 2023: [1733, 4868, 1243],\n",
       " 2019: [1288, 3949, 832],\n",
       " 2018: [1249, 3894, 771],\n",
       " 2017: [1068, 3325, 639],\n",
       " 2016: [1120, 3217, 560],\n",
       " 2014: [1076, 2912, 473],\n",
       " 2015: [1045, 3033, 537],\n",
       " 2013: [1130, 2656, 451],\n",
       " 2024: [306, 983, 228],\n",
       " 2012: [0, 1, 0],\n",
       " 2011: [0, 1, 0],\n",
       " 2025: [0, 0, 0],\n",
       " 1970: [0, 0, 0],\n",
       " 2026: [0, 0, 0],\n",
       " 2009: [0, 0, 0],\n",
       " 2010: [0, 0, 0],\n",
       " 2033: [0, 0, 0],\n",
       " 2050: [0, 0, 0],\n",
       " 2103: [0, 0, 0]}"
      ]
     },
     "execution_count": 61,
     "metadata": {},
     "output_type": "execute_result"
    }
   ],
   "source": [
    "data_counts"
   ]
  },
  {
   "cell_type": "code",
   "execution_count": 62,
   "metadata": {},
   "outputs": [],
   "source": [
    "df = pd.DataFrame.from_dict(data_counts, orient='index', columns=['ipcc_science', 'ipcc_adaptation', 'ipcc_mitigation'])\n",
    "df = df.sort_index()"
   ]
  },
  {
   "cell_type": "code",
   "execution_count": 63,
   "metadata": {},
   "outputs": [
    {
     "data": {
      "image/png": "[encoded data removed]",
      "text/plain": [
       "<Figure size 1000x600 with 1 Axes>"
      ]
     },
     "metadata": {},
     "output_type": "display_data"
    }
   ],
   "source": [
    "ax = df.plot(kind='bar', stacked=True, figsize=(10, 6), colormap='viridis')\n",
    "ax.set_xlabel('Year')\n",
    "ax.set_ylabel('Number of publications')\n",
    "ax.legend(title='Publication type')\n",
    "\n",
    "plt.suptitle(\"Publications by years\", size=25)\n",
    "plt.title('Source : OpenAlex\\nTraitement : Science et Ingénierie des Données, SIES', size=10, loc='right')\n",
    "plt.tight_layout()\n",
    "plt.show()"
   ]
  }
 ],
 "metadata": {
  "kernelspec": {
   "display_name": "Python 3",
   "language": "python",
   "name": "python3"
  },
  "language_info": {
   "codemirror_mode": {
    "name": "ipython",
    "version": 3
   },
   "file_extension": ".py",
   "mimetype": "text/x-python",
   "name": "python",
   "nbconvert_exporter": "python",
   "pygments_lexer": "ipython3",
   "version": "3.9.10"
  }
 },
 "nbformat": 4,
 "nbformat_minor": 2
}
