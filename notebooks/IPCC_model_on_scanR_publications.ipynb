{
 "cells": [
  {
   "cell_type": "code",
   "execution_count": 64,
   "metadata": {},
   "outputs": [],
   "source": [
    "import os\n",
    "from dotenv import load_dotenv\n",
    "load_dotenv()\n",
    "import requests\n",
    "import base64\n",
    "import matplotlib.pyplot as plt\n",
    "import numpy as np\n",
    "from elasticsearch import Elasticsearch\n",
    "from urllib import parse\n",
    "import pandas as pd\n",
    "import sys\n",
    "module_path = os.path.abspath(os.path.join('..'))\n",
    "if module_path not in sys.path:\n",
    "    sys.path.append(module_path)\n",
    "\n",
    "import logging\n",
    "logging.basicConfig(level=logging.CRITICAL)\n",
    "\n",
    "from code_utils.elastic import get_from_es,get_data_from_elastic,plot_graph,interfaces_evaluation\n",
    "from code_utils.utils import get_year_ipbes,get_year_ipcc,aplatir"
   ]
  },
  {
   "cell_type": "code",
   "execution_count": 54,
   "metadata": {},
   "outputs": [
    {
     "data": {
      "text/plain": [
       "{'took': 306,\n",
       " 'timed_out': False,\n",
       " '_shards': {'total': 1, 'successful': 1, 'skipped': 0, 'failed': 0},\n",
       " 'hits': {'total': {'value': 672972, 'relation': 'eq'},\n",
       "  'max_score': None,\n",
       "  'hits': []},\n",
       " 'aggregations': {'predicted_labels': {'doc_count_error_upper_bound': 0,\n",
       "   'sum_other_doc_count': 0,\n",
       "   'buckets': [{'key': 'ipcc', 'doc_count': 31060},\n",
       "    {'key': 'ipcc_adaptation', 'doc_count': 20198},\n",
       "    {'key': 'ipcc_science', 'doc_count': 7183},\n",
       "    {'key': 'ipcc_mitigation', 'doc_count': 4551}]}}}"
      ]
     },
     "execution_count": 54,
     "metadata": {},
     "output_type": "execute_result"
    }
   ],
   "source": [
    "body = {\n",
    "  \"size\": 0,\n",
    "  \"track_total_hits\": True,\n",
    "  \"query\": {\n",
    "    \"exists\": {\n",
    "      \"field\": \"topics\"\n",
    "    }\n",
    "  },\n",
    "  \"aggs\": {\n",
    "    \"predicted_labels\": {\n",
    "      \"terms\": {\n",
    "        \"field\": \"predict_teds.label.keyword\",\n",
    "        \"size\": 10000000\n",
    "      }\n",
    "    }\n",
    "  }\n",
    "}\n",
    "get_from_es(body,'scanr-publications')"
   ]
  },
  {
   "cell_type": "code",
   "execution_count": 26,
   "metadata": {},
   "outputs": [],
   "source": [
    "body = {\n",
    "  \"size\": 0, \n",
    "  \"query\": {\n",
    "    \"exists\": {\n",
    "      \"field\": \"topics\"\n",
    "    }\n",
    "  }\n",
    "}"
   ]
  },
  {
   "cell_type": "code",
   "execution_count": 84,
   "metadata": {},
   "outputs": [],
   "source": [
    "body = {\n",
    "  \"size\": 0,\n",
    "  \"track_total_hits\": True,\n",
    "  \"query\": {\n",
    "    \"exists\": {\n",
    "      \"field\": \"topics\"\n",
    "    }\n",
    "  },\n",
    "  \"aggs\": {\n",
    "    \"years\": {\n",
    "      \"terms\": {\n",
    "        \"field\": \"year\",\n",
    "        \"size\": 10000000\n",
    "      },\n",
    "      \"aggs\": {\n",
    "        \"predicted_labels\": {\n",
    "          \"terms\": {\n",
    "            \"field\": \"predict_teds.label.keyword\",\n",
    "            \"size\": 10000000\n",
    "          }\n",
    "        }\n",
    "      }\n",
    "    }\n",
    "  }\n",
    "}"
   ]
  },
  {
   "cell_type": "code",
   "execution_count": 85,
   "metadata": {},
   "outputs": [],
   "source": [
    "data=get_from_es(body,'scanr-publications')"
   ]
  },
  {
   "cell_type": "code",
   "execution_count": 68,
   "metadata": {},
   "outputs": [],
   "source": [
    "years = [x['key'] for x in data]\n",
    "labels = ['ipcc_adaptation', 'ipcc_science', 'ipcc_mitigation']\n",
    "values = {label: [] for label in labels}"
   ]
  },
  {
   "cell_type": "code",
   "execution_count": 70,
   "metadata": {},
   "outputs": [
    {
     "data": {
      "text/plain": [
       "{'ipcc_adaptation': [], 'ipcc_science': [], 'ipcc_mitigation': []}"
      ]
     },
     "execution_count": 70,
     "metadata": {},
     "output_type": "execute_result"
    }
   ],
   "source": [
    "values"
   ]
  },
  {
   "cell_type": "code",
   "execution_count": 93,
   "metadata": {},
   "outputs": [
    {
     "data": {
      "text/plain": [
       "{'key': 2022,\n",
       " 'doc_count': 117511,\n",
       " 'predicted_labels': {'doc_count_error_upper_bound': 0,\n",
       "  'sum_other_doc_count': 0,\n",
       "  'buckets': [{'key': 'ipcc', 'doc_count': 6508},\n",
       "   {'key': 'ipcc_adaptation', 'doc_count': 4108},\n",
       "   {'key': 'ipcc_science', 'doc_count': 1630},\n",
       "   {'key': 'ipcc_mitigation', 'doc_count': 972}]}}"
      ]
     },
     "execution_count": 93,
     "metadata": {},
     "output_type": "execute_result"
    }
   ],
   "source": [
    "x=data['aggregations']['years']['buckets'][0]\n",
    "x"
   ]
  },
  {
   "cell_type": "code",
   "execution_count": 109,
   "metadata": {},
   "outputs": [
    {
     "name": "stdout",
     "output_type": "stream",
     "text": [
      "2022\n",
      "2023\n",
      "2021\n",
      "2020\n",
      "2019\n",
      "2018\n",
      "2016\n",
      "2017\n",
      "2015\n",
      "2014\n",
      "2013\n",
      "2024\n",
      "2012\n"
     ]
    },
    {
     "ename": "IndexError",
     "evalue": "list index out of range",
     "output_type": "error",
     "traceback": [
      "\u001b[1;31m---------------------------------------------------------------------------\u001b[0m",
      "\u001b[1;31mIndexError\u001b[0m                                Traceback (most recent call last)",
      "Cell \u001b[1;32mIn[109], line 5\u001b[0m\n\u001b[0;32m      3\u001b[0m \u001b[38;5;28mprint\u001b[39m(x[\u001b[38;5;124m'\u001b[39m\u001b[38;5;124mkey\u001b[39m\u001b[38;5;124m'\u001b[39m])\n\u001b[0;32m      4\u001b[0m data_counts[x[\u001b[38;5;124m'\u001b[39m\u001b[38;5;124mkey\u001b[39m\u001b[38;5;124m'\u001b[39m]]\u001b[38;5;241m=\u001b[39m[x[\u001b[38;5;124m'\u001b[39m\u001b[38;5;124mdoc_count\u001b[39m\u001b[38;5;124m'\u001b[39m]]\n\u001b[1;32m----> 5\u001b[0m data_counts[x[\u001b[38;5;124m'\u001b[39m\u001b[38;5;124mkey\u001b[39m\u001b[38;5;124m'\u001b[39m]]\u001b[38;5;241m.\u001b[39mappend(\u001b[43m[\u001b[49m\u001b[43mbucket\u001b[49m\u001b[43m[\u001b[49m\u001b[38;5;124;43m'\u001b[39;49m\u001b[38;5;124;43mdoc_count\u001b[39;49m\u001b[38;5;124;43m'\u001b[39;49m\u001b[43m]\u001b[49m\u001b[43m \u001b[49m\u001b[38;5;28;43;01mfor\u001b[39;49;00m\u001b[43m \u001b[49m\u001b[43mbucket\u001b[49m\u001b[43m \u001b[49m\u001b[38;5;129;43;01min\u001b[39;49;00m\u001b[43m \u001b[49m\u001b[43mx\u001b[49m\u001b[43m[\u001b[49m\u001b[38;5;124;43m'\u001b[39;49m\u001b[38;5;124;43mpredicted_labels\u001b[39;49m\u001b[38;5;124;43m'\u001b[39;49m\u001b[43m]\u001b[49m\u001b[43m[\u001b[49m\u001b[38;5;124;43m'\u001b[39;49m\u001b[38;5;124;43mbuckets\u001b[39;49m\u001b[38;5;124;43m'\u001b[39;49m\u001b[43m]\u001b[49m\u001b[43m \u001b[49m\u001b[38;5;28;43;01mif\u001b[39;49;00m\u001b[43m \u001b[49m\u001b[43mbucket\u001b[49m\u001b[43m[\u001b[49m\u001b[38;5;124;43m'\u001b[39;49m\u001b[38;5;124;43mkey\u001b[39;49m\u001b[38;5;124;43m'\u001b[39;49m\u001b[43m]\u001b[49m\u001b[38;5;241;43m==\u001b[39;49m\u001b[38;5;124;43m'\u001b[39;49m\u001b[38;5;124;43mipcc_science\u001b[39;49m\u001b[38;5;124;43m'\u001b[39;49m\u001b[43m \u001b[49m\u001b[43m]\u001b[49m\u001b[43m[\u001b[49m\u001b[38;5;241;43m0\u001b[39;49m\u001b[43m]\u001b[49m) \n\u001b[0;32m      6\u001b[0m data_counts[x[\u001b[38;5;124m'\u001b[39m\u001b[38;5;124mkey\u001b[39m\u001b[38;5;124m'\u001b[39m]]\u001b[38;5;241m.\u001b[39mappend([bucket[\u001b[38;5;124m'\u001b[39m\u001b[38;5;124mdoc_count\u001b[39m\u001b[38;5;124m'\u001b[39m] \u001b[38;5;28;01mfor\u001b[39;00m bucket \u001b[38;5;129;01min\u001b[39;00m x[\u001b[38;5;124m'\u001b[39m\u001b[38;5;124mpredicted_labels\u001b[39m\u001b[38;5;124m'\u001b[39m][\u001b[38;5;124m'\u001b[39m\u001b[38;5;124mbuckets\u001b[39m\u001b[38;5;124m'\u001b[39m] \u001b[38;5;28;01mif\u001b[39;00m bucket[\u001b[38;5;124m'\u001b[39m\u001b[38;5;124mkey\u001b[39m\u001b[38;5;124m'\u001b[39m]\u001b[38;5;241m==\u001b[39m\u001b[38;5;124m'\u001b[39m\u001b[38;5;124mipcc_adaptation\u001b[39m\u001b[38;5;124m'\u001b[39m ][\u001b[38;5;241m0\u001b[39m]) \n\u001b[0;32m      7\u001b[0m data_counts[x[\u001b[38;5;124m'\u001b[39m\u001b[38;5;124mkey\u001b[39m\u001b[38;5;124m'\u001b[39m]]\u001b[38;5;241m.\u001b[39mappend([bucket[\u001b[38;5;124m'\u001b[39m\u001b[38;5;124mdoc_count\u001b[39m\u001b[38;5;124m'\u001b[39m] \u001b[38;5;28;01mfor\u001b[39;00m bucket \u001b[38;5;129;01min\u001b[39;00m x[\u001b[38;5;124m'\u001b[39m\u001b[38;5;124mpredicted_labels\u001b[39m\u001b[38;5;124m'\u001b[39m][\u001b[38;5;124m'\u001b[39m\u001b[38;5;124mbuckets\u001b[39m\u001b[38;5;124m'\u001b[39m] \u001b[38;5;28;01mif\u001b[39;00m bucket[\u001b[38;5;124m'\u001b[39m\u001b[38;5;124mkey\u001b[39m\u001b[38;5;124m'\u001b[39m]\u001b[38;5;241m==\u001b[39m\u001b[38;5;124m'\u001b[39m\u001b[38;5;124mipcc_mitigation\u001b[39m\u001b[38;5;124m'\u001b[39m ][\u001b[38;5;241m0\u001b[39m]) \n",
      "\u001b[1;31mIndexError\u001b[0m: list index out of range"
     ]
    }
   ],
   "source": [
    "data_counts={}\n",
    "for x in data['aggregations']['years']['buckets']:\n",
    "    print(x['key'])\n",
    "    data_counts[x['key']]=[x['doc_count']]\n",
    "    data_counts[x['key']].append([bucket['doc_count'] for bucket in x['predicted_labels']['buckets'] if bucket['key']=='ipcc_science' ][0]) \n",
    "    data_counts[x['key']].append([bucket['doc_count'] for bucket in x['predicted_labels']['buckets'] if bucket['key']=='ipcc_adaptation' ][0]) \n",
    "    data_counts[x['key']].append([bucket['doc_count'] for bucket in x['predicted_labels']['buckets'] if bucket['key']=='ipcc_mitigation' ][0]) "
   ]
  },
  {
   "cell_type": "code",
   "execution_count": null,
   "metadata": {},
   "outputs": [],
   "source": [
    "for x in data.get('aggregations').get('by_countries').get('buckets'):\n",
    "    for k in range(len(years)):\n",
    "        if years[k]== x.get('key'):\n",
    "            label[years[k]]=x.get('doc_count')\n",
    "ordered_value={j: round(label[j]*100/tot[j],3) if j in label else 0 for j in groups}\n",
    "values.append(list(ordered_value.values()))"
   ]
  }
 ],
 "metadata": {
  "kernelspec": {
   "display_name": "tf",
   "language": "python",
   "name": "python3"
  },
  "language_info": {
   "codemirror_mode": {
    "name": "ipython",
    "version": 3
   },
   "file_extension": ".py",
   "mimetype": "text/x-python",
   "name": "python",
   "nbconvert_exporter": "python",
   "pygments_lexer": "ipython3",
   "version": "3.9.10"
  }
 },
 "nbformat": 4,
 "nbformat_minor": 2
}
