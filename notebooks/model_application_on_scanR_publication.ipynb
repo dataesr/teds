{
 "cells": [
  {
   "cell_type": "code",
   "execution_count": 71,
   "metadata": {},
   "outputs": [],
   "source": [
    "import requests\n",
    "import json\n",
    "import pandas as pd\n",
    "import pickle\n",
    "import neattext.functions as nfx"
   ]
  },
  {
   "cell_type": "markdown",
   "metadata": {},
   "source": [
    "embeddings model"
   ]
  },
  {
   "cell_type": "code",
   "execution_count": 1,
   "metadata": {},
   "outputs": [],
   "source": [
    "#pip install -U sentence-transformers"
   ]
  },
  {
   "cell_type": "code",
   "execution_count": 67,
   "metadata": {},
   "outputs": [
    {
     "name": "stderr",
     "output_type": "stream",
     "text": [
      "c:\\Users\\haallat\\Anaconda3\\envs\\tf\\lib\\site-packages\\sentence_transformers\\cross_encoder\\CrossEncoder.py:11: TqdmWarning: IProgress not found. Please update jupyter and ipywidgets. See https://ipywidgets.readthedocs.io/en/stable/user_install.html\n",
      "  from tqdm.autonotebook import tqdm, trange\n",
      "c:\\Users\\haallat\\Anaconda3\\envs\\tf\\lib\\site-packages\\huggingface_hub\\file_download.py:1132: FutureWarning: `resume_download` is deprecated and will be removed in version 1.0.0. Downloads always resume when possible. If you want to force a new download, use `force_download=True`.\n",
      "  warnings.warn(\n"
     ]
    }
   ],
   "source": [
    "from sentence_transformers import SentenceTransformer, util\n",
    "\n",
    "sentence_transformer_model = SentenceTransformer(\"thenlper/gte-large\")"
   ]
  },
  {
   "cell_type": "code",
   "execution_count": 69,
   "metadata": {},
   "outputs": [],
   "source": [
    "def get_embeddings(text):\n",
    "    tokvecs = sentence_transformer_model.encode(text, normalize_embeddings=True)\n",
    "    return [float(e) for e in tokvecs]"
   ]
  },
  {
   "cell_type": "markdown",
   "metadata": {},
   "source": [
    "fetch a scanR publication"
   ]
  },
  {
   "cell_type": "code",
   "execution_count": 9,
   "metadata": {},
   "outputs": [],
   "source": [
    "url=\"https://scanr.enseignementsup-recherche.gouv.fr/api/scanr-publications/_search?filter=externalIds.type:doi\""
   ]
  },
  {
   "cell_type": "code",
   "execution_count": 10,
   "metadata": {},
   "outputs": [
    {
     "name": "stderr",
     "output_type": "stream",
     "text": [
      "c:\\Users\\haallat\\Anaconda3\\envs\\tf\\lib\\site-packages\\urllib3\\connectionpool.py:1056: InsecureRequestWarning: Unverified HTTPS request is being made to host 'scanr.enseignementsup-recherche.gouv.fr'. Adding certificate verification is strongly advised. See: https://urllib3.readthedocs.io/en/1.26.x/advanced-usage.html#ssl-warnings\n",
      "  warnings.warn(\n"
     ]
    }
   ],
   "source": [
    "response = requests.get(url, verify=False)"
   ]
  },
  {
   "cell_type": "code",
   "execution_count": 11,
   "metadata": {},
   "outputs": [
    {
     "data": {
      "text/plain": [
       "<Response [200]>"
      ]
     },
     "execution_count": 11,
     "metadata": {},
     "output_type": "execute_result"
    }
   ],
   "source": [
    "response"
   ]
  },
  {
   "cell_type": "code",
   "execution_count": 12,
   "metadata": {},
   "outputs": [],
   "source": [
    "page=response.json()"
   ]
  },
  {
   "cell_type": "code",
   "execution_count": 111,
   "metadata": {},
   "outputs": [
    {
     "data": {
      "text/plain": [
       "{'default': 'Effect of water temperature and induced acoustic pressure on cavitation erosion behaviour of aluminium alloys',\n",
       " 'en': 'Effect of water temperature and induced acoustic pressure on cavitation erosion behaviour of aluminium alloys'}"
      ]
     },
     "execution_count": 111,
     "metadata": {},
     "output_type": "execute_result"
    }
   ],
   "source": [
    "page.get('hits').get('hits')[3].get('_source').get('title')"
   ]
  },
  {
   "cell_type": "code",
   "execution_count": 112,
   "metadata": {},
   "outputs": [
    {
     "data": {
      "text/plain": [
       "[{'type': 'doi', 'id': '10.1016/j.triboint.2023.108994'}]"
      ]
     },
     "execution_count": 112,
     "metadata": {},
     "output_type": "execute_result"
    }
   ],
   "source": [
    "externalIds=page.get('hits').get('hits')[3].get('_source').get('externalIds')\n",
    "externalIds"
   ]
  },
  {
   "cell_type": "code",
   "execution_count": 113,
   "metadata": {},
   "outputs": [
    {
     "data": {
      "text/plain": [
       "'10.1016/j.triboint.2023.108994'"
      ]
     },
     "execution_count": 113,
     "metadata": {},
     "output_type": "execute_result"
    }
   ],
   "source": [
    "doi=[x for x in externalIds if x['type']=='doi'][0]['id']\n",
    "doi"
   ]
  },
  {
   "cell_type": "code",
   "execution_count": 90,
   "metadata": {},
   "outputs": [],
   "source": [
    "#doi='10.1038/s41477-018-0139-4'  #ex de publi tagué \"verte\""
   ]
  },
  {
   "cell_type": "code",
   "execution_count": 114,
   "metadata": {},
   "outputs": [],
   "source": [
    "url_OA=f\"https://api.openalex.org/works?filter=doi:{doi}\"\n",
    "response_OA = requests.get(url_OA)\n",
    "data = response_OA.json()"
   ]
  },
  {
   "cell_type": "code",
   "execution_count": 115,
   "metadata": {},
   "outputs": [
    {
     "data": {
      "text/plain": [
       "'Applications of Ultrasound in Nanostructured Materials Synthesis Cavitation in Hydropower Systems and Turbines Modern Electrostatic Gas Cleaning Technologies and Methods'"
      ]
     },
     "execution_count": 115,
     "metadata": {},
     "output_type": "execute_result"
    }
   ],
   "source": [
    "topics=data.get('results')[0].get('topics')\n",
    "topics_names=' '.join([topic.get('display_name') for topic in topics])\n",
    "topics_names"
   ]
  },
  {
   "cell_type": "code",
   "execution_count": 116,
   "metadata": {},
   "outputs": [
    {
     "data": {
      "text/plain": [
       "'Effect of water temperature and induced acoustic pressure on cavitation erosion behaviour of aluminium alloys'"
      ]
     },
     "execution_count": 116,
     "metadata": {},
     "output_type": "execute_result"
    }
   ],
   "source": [
    "title=data.get('results')[0].get('title')\n",
    "title"
   ]
  },
  {
   "cell_type": "code",
   "execution_count": 117,
   "metadata": {},
   "outputs": [
    {
     "name": "stdout",
     "output_type": "stream",
     "text": [
      "Tribology international 0301-679X\n"
     ]
    }
   ],
   "source": [
    "locations=data.get('results')[0].get('locations')\n",
    "if (locations!=[]):\n",
    "    for k in range(len(locations)):\n",
    "        if pd.isna(locations[k].get('source'))==False:\n",
    "            if locations[k].get('source').get('type')=='journal':\n",
    "                locations_names=locations[k].get('source').get('display_name')\n",
    "                locations_id=locations[k].get('source').get('issn_l') \n",
    "                break\n",
    "print(locations_names,locations_id)"
   ]
  },
  {
   "cell_type": "code",
   "execution_count": 118,
   "metadata": {},
   "outputs": [
    {
     "name": "stderr",
     "output_type": "stream",
     "text": [
      "c:\\Users\\haallat\\Anaconda3\\envs\\tf\\lib\\site-packages\\sklearn\\base.py:348: InconsistentVersionWarning: Trying to unpickle estimator DecisionTreeClassifier from version 1.3.2 when using version 1.3.1. This might lead to breaking code or invalid results. Use at your own risk. For more info please refer to:\n",
      "https://scikit-learn.org/stable/model_persistence.html#security-maintainability-limitations\n",
      "  warnings.warn(\n",
      "c:\\Users\\haallat\\Anaconda3\\envs\\tf\\lib\\site-packages\\sklearn\\base.py:348: InconsistentVersionWarning: Trying to unpickle estimator RandomForestClassifier from version 1.3.2 when using version 1.3.1. This might lead to breaking code or invalid results. Use at your own risk. For more info please refer to:\n",
      "https://scikit-learn.org/stable/model_persistence.html#security-maintainability-limitations\n",
      "  warnings.warn(\n"
     ]
    }
   ],
   "source": [
    "model = pickle.load(open(\"ipcc_model_rd_forest.pkl\", 'rb'))"
   ]
  },
  {
   "cell_type": "code",
   "execution_count": 119,
   "metadata": {},
   "outputs": [],
   "source": [
    "test=pd.DataFrame(data={\n",
    "    'title': [title],\n",
    "    'topics': [topics_names],\n",
    "    'locations_names':[locations_names],\n",
    "    'locations_ids':[locations_id]\n",
    "})"
   ]
  },
  {
   "cell_type": "code",
   "execution_count": 120,
   "metadata": {},
   "outputs": [
    {
     "data": {
      "text/html": [
       "<div>\n",
       "<style scoped>\n",
       "    .dataframe tbody tr th:only-of-type {\n",
       "        vertical-align: middle;\n",
       "    }\n",
       "\n",
       "    .dataframe tbody tr th {\n",
       "        vertical-align: top;\n",
       "    }\n",
       "\n",
       "    .dataframe thead th {\n",
       "        text-align: right;\n",
       "    }\n",
       "</style>\n",
       "<table border=\"1\" class=\"dataframe\">\n",
       "  <thead>\n",
       "    <tr style=\"text-align: right;\">\n",
       "      <th></th>\n",
       "      <th>title</th>\n",
       "      <th>topics</th>\n",
       "      <th>locations_names</th>\n",
       "      <th>locations_ids</th>\n",
       "    </tr>\n",
       "  </thead>\n",
       "  <tbody>\n",
       "    <tr>\n",
       "      <th>0</th>\n",
       "      <td>Effect of water temperature and induced acoust...</td>\n",
       "      <td>Applications of Ultrasound in Nanostructured M...</td>\n",
       "      <td>Tribology international</td>\n",
       "      <td>0301-679X</td>\n",
       "    </tr>\n",
       "  </tbody>\n",
       "</table>\n",
       "</div>"
      ],
      "text/plain": [
       "                                               title  \\\n",
       "0  Effect of water temperature and induced acoust...   \n",
       "\n",
       "                                              topics          locations_names  \\\n",
       "0  Applications of Ultrasound in Nanostructured M...  Tribology international   \n",
       "\n",
       "  locations_ids  \n",
       "0     0301-679X  "
      ]
     },
     "execution_count": 120,
     "metadata": {},
     "output_type": "execute_result"
    }
   ],
   "source": [
    "test"
   ]
  },
  {
   "cell_type": "markdown",
   "metadata": {},
   "source": [
    "vecyorization sur 1024 dimensions"
   ]
  },
  {
   "cell_type": "code",
   "execution_count": 121,
   "metadata": {},
   "outputs": [],
   "source": [
    "test['title_vect']=test['title'].apply(lambda x: get_embeddings(nfx.remove_stopwords(x)))"
   ]
  },
  {
   "cell_type": "code",
   "execution_count": 122,
   "metadata": {},
   "outputs": [],
   "source": [
    "test['topics_vect']=test['topics'].apply(lambda x: get_embeddings(nfx.remove_stopwords(x)))"
   ]
  },
  {
   "cell_type": "code",
   "execution_count": 123,
   "metadata": {},
   "outputs": [],
   "source": [
    "test['locations_names_vect']=test['locations_names'].apply(lambda x: get_embeddings(nfx.remove_stopwords(x.replace('Journal',''))))"
   ]
  },
  {
   "cell_type": "code",
   "execution_count": 124,
   "metadata": {},
   "outputs": [],
   "source": [
    "test['locations_ids_vect']=test['locations_ids'].apply(lambda x: get_embeddings(nfx.remove_stopwords(x)))"
   ]
  },
  {
   "cell_type": "code",
   "execution_count": 125,
   "metadata": {},
   "outputs": [],
   "source": [
    "dict_vect={}\n",
    "for y in ['title','topics','locations_ids','locations_names']:\n",
    "    dict_vect[y]=test[f\"{y}_vect\"].apply(pd.Series)\n",
    "    dict_vect[y].columns=[f\"{y}_dim_{x}\" for x in dict_vect[y].columns]"
   ]
  },
  {
   "cell_type": "code",
   "execution_count": 126,
   "metadata": {},
   "outputs": [],
   "source": [
    "features_df = pd.concat(list(dict_vect.values()), axis=1)"
   ]
  },
  {
   "cell_type": "code",
   "execution_count": 127,
   "metadata": {},
   "outputs": [
    {
     "data": {
      "text/html": [
       "<div>\n",
       "<style scoped>\n",
       "    .dataframe tbody tr th:only-of-type {\n",
       "        vertical-align: middle;\n",
       "    }\n",
       "\n",
       "    .dataframe tbody tr th {\n",
       "        vertical-align: top;\n",
       "    }\n",
       "\n",
       "    .dataframe thead th {\n",
       "        text-align: right;\n",
       "    }\n",
       "</style>\n",
       "<table border=\"1\" class=\"dataframe\">\n",
       "  <thead>\n",
       "    <tr style=\"text-align: right;\">\n",
       "      <th></th>\n",
       "      <th>title_dim_0</th>\n",
       "      <th>title_dim_1</th>\n",
       "      <th>title_dim_2</th>\n",
       "      <th>title_dim_3</th>\n",
       "      <th>title_dim_4</th>\n",
       "      <th>title_dim_5</th>\n",
       "      <th>title_dim_6</th>\n",
       "      <th>title_dim_7</th>\n",
       "      <th>title_dim_8</th>\n",
       "      <th>title_dim_9</th>\n",
       "      <th>...</th>\n",
       "      <th>locations_names_dim_1014</th>\n",
       "      <th>locations_names_dim_1015</th>\n",
       "      <th>locations_names_dim_1016</th>\n",
       "      <th>locations_names_dim_1017</th>\n",
       "      <th>locations_names_dim_1018</th>\n",
       "      <th>locations_names_dim_1019</th>\n",
       "      <th>locations_names_dim_1020</th>\n",
       "      <th>locations_names_dim_1021</th>\n",
       "      <th>locations_names_dim_1022</th>\n",
       "      <th>locations_names_dim_1023</th>\n",
       "    </tr>\n",
       "  </thead>\n",
       "  <tbody>\n",
       "    <tr>\n",
       "      <th>0</th>\n",
       "      <td>-0.040717</td>\n",
       "      <td>0.036337</td>\n",
       "      <td>0.003367</td>\n",
       "      <td>-0.001128</td>\n",
       "      <td>-0.037562</td>\n",
       "      <td>-0.0026</td>\n",
       "      <td>-0.029111</td>\n",
       "      <td>0.011241</td>\n",
       "      <td>0.020599</td>\n",
       "      <td>0.03038</td>\n",
       "      <td>...</td>\n",
       "      <td>0.041917</td>\n",
       "      <td>-0.028001</td>\n",
       "      <td>-0.040227</td>\n",
       "      <td>-0.055334</td>\n",
       "      <td>0.041721</td>\n",
       "      <td>0.014581</td>\n",
       "      <td>0.005566</td>\n",
       "      <td>-0.032269</td>\n",
       "      <td>-0.019421</td>\n",
       "      <td>-0.039953</td>\n",
       "    </tr>\n",
       "  </tbody>\n",
       "</table>\n",
       "<p>1 rows × 4096 columns</p>\n",
       "</div>"
      ],
      "text/plain": [
       "   title_dim_0  title_dim_1  title_dim_2  title_dim_3  title_dim_4  \\\n",
       "0    -0.040717     0.036337     0.003367    -0.001128    -0.037562   \n",
       "\n",
       "   title_dim_5  title_dim_6  title_dim_7  title_dim_8  title_dim_9  ...  \\\n",
       "0      -0.0026    -0.029111     0.011241     0.020599      0.03038  ...   \n",
       "\n",
       "   locations_names_dim_1014  locations_names_dim_1015  \\\n",
       "0                  0.041917                 -0.028001   \n",
       "\n",
       "   locations_names_dim_1016  locations_names_dim_1017  \\\n",
       "0                 -0.040227                 -0.055334   \n",
       "\n",
       "   locations_names_dim_1018  locations_names_dim_1019  \\\n",
       "0                  0.041721                  0.014581   \n",
       "\n",
       "   locations_names_dim_1020  locations_names_dim_1021  \\\n",
       "0                  0.005566                 -0.032269   \n",
       "\n",
       "   locations_names_dim_1022  locations_names_dim_1023  \n",
       "0                 -0.019421                 -0.039953  \n",
       "\n",
       "[1 rows x 4096 columns]"
      ]
     },
     "execution_count": 127,
     "metadata": {},
     "output_type": "execute_result"
    }
   ],
   "source": [
    "features_df"
   ]
  },
  {
   "cell_type": "markdown",
   "metadata": {},
   "source": [
    "0 -> pas vert\n",
    "<br />\n",
    "1 -> vert"
   ]
  },
  {
   "cell_type": "code",
   "execution_count": 128,
   "metadata": {},
   "outputs": [
    {
     "data": {
      "text/plain": [
       "0"
      ]
     },
     "execution_count": 128,
     "metadata": {},
     "output_type": "execute_result"
    }
   ],
   "source": [
    "model.predict(features_df)[0]"
   ]
  }
 ],
 "metadata": {
  "kernelspec": {
   "display_name": "Python 3",
   "language": "python",
   "name": "python3"
  },
  "language_info": {
   "codemirror_mode": {
    "name": "ipython",
    "version": 3
   },
   "file_extension": ".py",
   "mimetype": "text/x-python",
   "name": "python",
   "nbconvert_exporter": "python",
   "pygments_lexer": "ipython3",
   "version": "3.10.13"
  }
 },
 "nbformat": 4,
 "nbformat_minor": 2
}
