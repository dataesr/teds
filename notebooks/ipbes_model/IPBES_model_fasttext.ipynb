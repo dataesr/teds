{
 "cells": [
  {
   "cell_type": "code",
   "execution_count": 1,
   "metadata": {},
   "outputs": [],
   "source": [
    "import os\n",
    "import sys\n",
    "import pandas as pd\n",
    "import matplotlib.pyplot as plt\n",
    "import re\n",
    "\n",
    "module_path = os.path.abspath(os.path.join('..','..'))\n",
    "if module_path not in sys.path:\n",
    "    sys.path.append(module_path)\n",
    "\n",
    "import fasttext\n",
    "from sklearn.metrics import confusion_matrix\n",
    "from sklearn.model_selection import train_test_split\n",
    "from sklearn.ensemble import RandomForestClassifier \n",
    "import warnings\n",
    "from sklearn.metrics import accuracy_score, recall_score, f1_score, roc_auc_score, confusion_matrix\n",
    "import numpy as np\n",
    "import neattext.functions as nfx\n",
    " \n",
    "warnings.filterwarnings(action='ignore')\n",
    "\n",
    "from code_utils.utils import preprocess,aplatir"
   ]
  },
  {
   "cell_type": "code",
   "execution_count": 2,
   "metadata": {},
   "outputs": [],
   "source": [
    "df_ipbes=pd.read_json(module_path+f'\\\\IPCC_bibliography\\\\AR6\\\\structured_data\\\\data_model_ipbes\\\\data_ipbes.jsonl', lines= True).dropna(subset=['year'])"
   ]
  },
  {
   "cell_type": "code",
   "execution_count": 3,
   "metadata": {},
   "outputs": [],
   "source": [
    "df_not_ipbes=pd.read_json(module_path+f'\\\\IPCC_bibliography\\\\AR6\\\\structured_data\\\\data_model_ipbes\\\\data_not_ipbes.jsonl', lines= True)"
   ]
  },
  {
   "cell_type": "code",
   "execution_count": 4,
   "metadata": {},
   "outputs": [],
   "source": [
    "df_ipbes=df_ipbes[['year','doi', 'title','topics','locations_names','locations_id']]"
   ]
  },
  {
   "cell_type": "code",
   "execution_count": 5,
   "metadata": {},
   "outputs": [],
   "source": [
    "df_not_ipbes=df_not_ipbes[['year','doi', 'title','topics','locations_names','locations_id']]"
   ]
  },
  {
   "cell_type": "code",
   "execution_count": 6,
   "metadata": {},
   "outputs": [],
   "source": [
    "df_ipbes=df_ipbes.dropna(subset=['year','doi', 'title','topics','locations_names','locations_id']).drop_duplicates(subset=['doi'])"
   ]
  },
  {
   "cell_type": "code",
   "execution_count": 7,
   "metadata": {},
   "outputs": [],
   "source": [
    "df_not_ipbes=df_not_ipbes.dropna(subset=['doi', 'title','topics','locations_names','locations_id'])"
   ]
  },
  {
   "cell_type": "code",
   "execution_count": 8,
   "metadata": {},
   "outputs": [],
   "source": [
    "data_counts=pd.Series([int(x) for x in list(df_ipbes.year.dropna())]).value_counts()\n",
    "data_counts=pd.Series(dict(data_counts)).sort_index()"
   ]
  },
  {
   "cell_type": "markdown",
   "metadata": {},
   "source": [
    "building the learning dataset"
   ]
  },
  {
   "cell_type": "code",
   "execution_count": 9,
   "metadata": {},
   "outputs": [
    {
     "name": "stdout",
     "output_type": "stream",
     "text": [
      "5531 5531\n"
     ]
    }
   ],
   "source": [
    "print(len(df_ipbes),len(df_not_ipbes))"
   ]
  },
  {
   "cell_type": "code",
   "execution_count": 10,
   "metadata": {},
   "outputs": [
    {
     "data": {
      "text/plain": [
       "5531"
      ]
     },
     "execution_count": 10,
     "metadata": {},
     "output_type": "execute_result"
    }
   ],
   "source": [
    "len(df_ipbes.drop_duplicates(subset='doi').dropna(subset='doi'))"
   ]
  },
  {
   "cell_type": "code",
   "execution_count": 11,
   "metadata": {},
   "outputs": [],
   "source": [
    "df_ipbes['label']='ipbes'\n",
    "df_not_ipbes['label']='not_ipbes'"
   ]
  },
  {
   "cell_type": "code",
   "execution_count": 12,
   "metadata": {},
   "outputs": [],
   "source": [
    "df_all=pd.concat([df_ipbes,df_not_ipbes]).reset_index()\n",
    "del df_all['index']"
   ]
  },
  {
   "cell_type": "code",
   "execution_count": 13,
   "metadata": {},
   "outputs": [],
   "source": [
    "df_all.loc[:,'doi']=df_all.loc[:,'doi'].apply(lambda x: str(nfx.remove_stopwords(x)).replace('https://doi.org/','').lower())"
   ]
  },
  {
   "cell_type": "code",
   "execution_count": 14,
   "metadata": {},
   "outputs": [],
   "source": [
    "df_all.loc[:,'title']=df_all.loc[:,'title'].apply(lambda x: str(nfx.remove_stopwords(x)).replace('}','').replace('{','').lower())"
   ]
  },
  {
   "cell_type": "code",
   "execution_count": 15,
   "metadata": {},
   "outputs": [],
   "source": [
    "df_all.loc[:,'topics']=df_all.loc[:,'topics'].apply(lambda x: nfx.remove_stopwords(' '.join(x)).lower())"
   ]
  },
  {
   "cell_type": "code",
   "execution_count": 16,
   "metadata": {},
   "outputs": [
    {
     "data": {
      "text/html": [
       "<div>\n",
       "<style scoped>\n",
       "    .dataframe tbody tr th:only-of-type {\n",
       "        vertical-align: middle;\n",
       "    }\n",
       "\n",
       "    .dataframe tbody tr th {\n",
       "        vertical-align: top;\n",
       "    }\n",
       "\n",
       "    .dataframe thead th {\n",
       "        text-align: right;\n",
       "    }\n",
       "</style>\n",
       "<table border=\"1\" class=\"dataframe\">\n",
       "  <thead>\n",
       "    <tr style=\"text-align: right;\">\n",
       "      <th></th>\n",
       "      <th>year</th>\n",
       "      <th>doi</th>\n",
       "      <th>title</th>\n",
       "      <th>topics</th>\n",
       "      <th>locations_names</th>\n",
       "      <th>locations_id</th>\n",
       "      <th>label</th>\n",
       "    </tr>\n",
       "  </thead>\n",
       "  <tbody>\n",
       "    <tr>\n",
       "      <th>0</th>\n",
       "      <td>2000</td>\n",
       "      <td>10.1890/1051-0761(2000)010[1251:roteka]2.0.co;2</td>\n",
       "      <td>rediscovery traditional ecological knowledge a...</td>\n",
       "      <td>conservation, biodiversity, resource managemen...</td>\n",
       "      <td>Ecological Applications</td>\n",
       "      <td>1051-0761</td>\n",
       "      <td>ipbes</td>\n",
       "    </tr>\n",
       "    <tr>\n",
       "      <th>1</th>\n",
       "      <td>2014</td>\n",
       "      <td>10.1016/j.gloenvcha.2013.12.012</td>\n",
       "      <td>evaluating knowledge exchange interdisciplinar...</td>\n",
       "      <td>sustainability climate change governance risk ...</td>\n",
       "      <td>Global Environmental Change</td>\n",
       "      <td>0959-3780</td>\n",
       "      <td>ipbes</td>\n",
       "    </tr>\n",
       "    <tr>\n",
       "      <th>2</th>\n",
       "      <td>2015</td>\n",
       "      <td>10.5751/es-07868-200344</td>\n",
       "      <td>multiple telecouplings complex interrelationships</td>\n",
       "      <td>land use ecosystem services species distributi...</td>\n",
       "      <td>Ecology and Society</td>\n",
       "      <td>1708-3087</td>\n",
       "      <td>ipbes</td>\n",
       "    </tr>\n",
       "    <tr>\n",
       "      <th>3</th>\n",
       "      <td>2008</td>\n",
       "      <td>10.1177/0959683607087927</td>\n",
       "      <td>concept human impacts past use-by date?</td>\n",
       "      <td>environmental philosophy ethics global energy ...</td>\n",
       "      <td>The Holocene</td>\n",
       "      <td>0959-6836</td>\n",
       "      <td>ipbes</td>\n",
       "    </tr>\n",
       "    <tr>\n",
       "      <th>4</th>\n",
       "      <td>2014</td>\n",
       "      <td>10.1038/nclimate2339</td>\n",
       "      <td>changing intellectual climate</td>\n",
       "      <td>sustainability climate change governance clima...</td>\n",
       "      <td>Nature Climate Change</td>\n",
       "      <td>1758-678X</td>\n",
       "      <td>ipbes</td>\n",
       "    </tr>\n",
       "    <tr>\n",
       "      <th>...</th>\n",
       "      <td>...</td>\n",
       "      <td>...</td>\n",
       "      <td>...</td>\n",
       "      <td>...</td>\n",
       "      <td>...</td>\n",
       "      <td>...</td>\n",
       "      <td>...</td>\n",
       "    </tr>\n",
       "    <tr>\n",
       "      <th>11057</th>\n",
       "      <td>1974</td>\n",
       "      <td>10.7589/0090-3558-10.2.111</td>\n",
       "      <td>emaciation enteritis cottontail rabbits infect...</td>\n",
       "      <td>rabbits: nutrition, reproduction, health helmi...</td>\n",
       "      <td>Journal of Wildlife Diseases</td>\n",
       "      <td>0090-3558</td>\n",
       "      <td>not_ipbes</td>\n",
       "    </tr>\n",
       "    <tr>\n",
       "      <th>11058</th>\n",
       "      <td>1975</td>\n",
       "      <td>10.1021/i260056a022</td>\n",
       "      <td>role liquid holdup, effective catalyst wetting...</td>\n",
       "      <td>catalysis hydrodesulfurization studies</td>\n",
       "      <td>Industrial &amp; Engineering Chemistry Process Des...</td>\n",
       "      <td>0196-4305</td>\n",
       "      <td>not_ipbes</td>\n",
       "    </tr>\n",
       "    <tr>\n",
       "      <th>11059</th>\n",
       "      <td>1976</td>\n",
       "      <td>10.1080/05695557608975071</td>\n",
       "      <td>branch bound algorithm use resource allocation</td>\n",
       "      <td>resource-constrained project scheduling schedu...</td>\n",
       "      <td>A I I E Transactions</td>\n",
       "      <td>0569-5554</td>\n",
       "      <td>not_ipbes</td>\n",
       "    </tr>\n",
       "    <tr>\n",
       "      <th>11060</th>\n",
       "      <td>1954</td>\n",
       "      <td>10.1007/bf02247002</td>\n",
       "      <td>application particle dynamics derive general c...</td>\n",
       "      <td>tropical extratropical cyclones research meteo...</td>\n",
       "      <td>Archives for Meteorology Geophysics and Biocli...</td>\n",
       "      <td>0066-6416</td>\n",
       "      <td>not_ipbes</td>\n",
       "    </tr>\n",
       "    <tr>\n",
       "      <th>11061</th>\n",
       "      <td>1936</td>\n",
       "      <td>10.3406/ccmaa.1936.12254</td>\n",
       "      <td>b) wekâla appartenant aux hoirs d'al-husseini,...</td>\n",
       "      <td>archaeology historical studies ancient mediter...</td>\n",
       "      <td>Comité de Conservation des Monuments de l Art ...</td>\n",
       "      <td>1110-6824</td>\n",
       "      <td>not_ipbes</td>\n",
       "    </tr>\n",
       "  </tbody>\n",
       "</table>\n",
       "<p>11062 rows × 7 columns</p>\n",
       "</div>"
      ],
      "text/plain": [
       "       year                                              doi  \\\n",
       "0      2000  10.1890/1051-0761(2000)010[1251:roteka]2.0.co;2   \n",
       "1      2014                  10.1016/j.gloenvcha.2013.12.012   \n",
       "2      2015                          10.5751/es-07868-200344   \n",
       "3      2008                         10.1177/0959683607087927   \n",
       "4      2014                             10.1038/nclimate2339   \n",
       "...     ...                                              ...   \n",
       "11057  1974                       10.7589/0090-3558-10.2.111   \n",
       "11058  1975                              10.1021/i260056a022   \n",
       "11059  1976                        10.1080/05695557608975071   \n",
       "11060  1954                               10.1007/bf02247002   \n",
       "11061  1936                         10.3406/ccmaa.1936.12254   \n",
       "\n",
       "                                                   title  \\\n",
       "0      rediscovery traditional ecological knowledge a...   \n",
       "1      evaluating knowledge exchange interdisciplinar...   \n",
       "2      multiple telecouplings complex interrelationships   \n",
       "3                concept human impacts past use-by date?   \n",
       "4                          changing intellectual climate   \n",
       "...                                                  ...   \n",
       "11057  emaciation enteritis cottontail rabbits infect...   \n",
       "11058  role liquid holdup, effective catalyst wetting...   \n",
       "11059     branch bound algorithm use resource allocation   \n",
       "11060  application particle dynamics derive general c...   \n",
       "11061  b) wekâla appartenant aux hoirs d'al-husseini,...   \n",
       "\n",
       "                                                  topics  \\\n",
       "0      conservation, biodiversity, resource managemen...   \n",
       "1      sustainability climate change governance risk ...   \n",
       "2      land use ecosystem services species distributi...   \n",
       "3      environmental philosophy ethics global energy ...   \n",
       "4      sustainability climate change governance clima...   \n",
       "...                                                  ...   \n",
       "11057  rabbits: nutrition, reproduction, health helmi...   \n",
       "11058             catalysis hydrodesulfurization studies   \n",
       "11059  resource-constrained project scheduling schedu...   \n",
       "11060  tropical extratropical cyclones research meteo...   \n",
       "11061  archaeology historical studies ancient mediter...   \n",
       "\n",
       "                                         locations_names locations_id  \\\n",
       "0                                Ecological Applications    1051-0761   \n",
       "1                            Global Environmental Change    0959-3780   \n",
       "2                                    Ecology and Society    1708-3087   \n",
       "3                                           The Holocene    0959-6836   \n",
       "4                                  Nature Climate Change    1758-678X   \n",
       "...                                                  ...          ...   \n",
       "11057                       Journal of Wildlife Diseases    0090-3558   \n",
       "11058  Industrial & Engineering Chemistry Process Des...    0196-4305   \n",
       "11059                               A I I E Transactions    0569-5554   \n",
       "11060  Archives for Meteorology Geophysics and Biocli...    0066-6416   \n",
       "11061  Comité de Conservation des Monuments de l Art ...    1110-6824   \n",
       "\n",
       "           label  \n",
       "0          ipbes  \n",
       "1          ipbes  \n",
       "2          ipbes  \n",
       "3          ipbes  \n",
       "4          ipbes  \n",
       "...          ...  \n",
       "11057  not_ipbes  \n",
       "11058  not_ipbes  \n",
       "11059  not_ipbes  \n",
       "11060  not_ipbes  \n",
       "11061  not_ipbes  \n",
       "\n",
       "[11062 rows x 7 columns]"
      ]
     },
     "execution_count": 16,
     "metadata": {},
     "output_type": "execute_result"
    }
   ],
   "source": [
    "df_all"
   ]
  },
  {
   "cell_type": "code",
   "execution_count": 17,
   "metadata": {},
   "outputs": [
    {
     "data": {
      "text/plain": [
       "Index(['year', 'doi', 'title', 'topics', 'locations_names', 'locations_id',\n",
       "       'label'],\n",
       "      dtype='object')"
      ]
     },
     "execution_count": 17,
     "metadata": {},
     "output_type": "execute_result"
    }
   ],
   "source": [
    "df_all.columns"
   ]
  },
  {
   "cell_type": "markdown",
   "metadata": {},
   "source": [
    "using fasttext"
   ]
  },
  {
   "cell_type": "code",
   "execution_count": 19,
   "metadata": {},
   "outputs": [],
   "source": [
    "df_all['label'] = '__label__' + df_all['label'].astype(str)\n",
    "df_all['category_description']=df_all['label']+' '+df_all['title']+' '+df_all['topics']+' '+df_all['locations_names']+' '+df_all['locations_id']"
   ]
  },
  {
   "cell_type": "code",
   "execution_count": 20,
   "metadata": {},
   "outputs": [],
   "source": [
    "train, test = train_test_split(df_all, test_size=0.2, random_state=42)"
   ]
  },
  {
   "cell_type": "code",
   "execution_count": 21,
   "metadata": {},
   "outputs": [
    {
     "data": {
      "text/plain": [
       "((8849, 8), (2213, 8))"
      ]
     },
     "execution_count": 21,
     "metadata": {},
     "output_type": "execute_result"
    }
   ],
   "source": [
    "train.shape, test.shape"
   ]
  },
  {
   "cell_type": "code",
   "execution_count": 42,
   "metadata": {},
   "outputs": [],
   "source": [
    "train.to_csv(\"teds_ipbes.train\", columns=[\"category_description\"], index=False, header=False)\n",
    "test.to_csv(\"teds_ipbes.test\", columns=[\"category_description\"], index=False, header=False)"
   ]
  },
  {
   "cell_type": "code",
   "execution_count": 43,
   "metadata": {},
   "outputs": [
    {
     "data": {
      "text/plain": [
       "(1478, 0.9431664411366711, 0.9431664411366711)"
      ]
     },
     "execution_count": 43,
     "metadata": {},
     "output_type": "execute_result"
    }
   ],
   "source": [
    "model = fasttext.train_supervised(input=\"teds_ipbes.train\")\n",
    "model.test(\"teds_ipbes.test\")"
   ]
  },
  {
   "cell_type": "code",
   "execution_count": 44,
   "metadata": {},
   "outputs": [],
   "source": [
    "model.save_model(\"..\\\\models_fasttext_or_random_forest\\\\fasttext_model_teds_ipbes.bin\")"
   ]
  },
  {
   "cell_type": "code",
   "execution_count": 45,
   "metadata": {},
   "outputs": [
    {
     "name": "stderr",
     "output_type": "stream",
     "text": [
      "Warning : `load_model` does not return WordVectorModel or SupervisedModel any more, but a `FastText` object which is very similar.\n"
     ]
    }
   ],
   "source": [
    "model = fasttext.load_model(\"..\\\\models_fasttext_or_random_forest\\\\fasttext_model_teds_ipbes.bin\")"
   ]
  },
  {
   "cell_type": "code",
   "execution_count": 46,
   "metadata": {},
   "outputs": [],
   "source": [
    "test_data = pd.read_csv(\"teds_ipbes.test\", header=None, names=[\"text\"])"
   ]
  },
  {
   "cell_type": "code",
   "execution_count": 47,
   "metadata": {},
   "outputs": [],
   "source": [
    "true_labels = []\n",
    "predicted_labels = []\n",
    "\n",
    "for line in test_data[\"text\"]:\n",
    "    label, text = line.split(' ', 1)\n",
    "    true_labels.append(label)\n",
    "    text = text.replace('\\n', '').strip()\n",
    "    predicted_label = model.predict(text)[0][0]  \n",
    "    predicted_labels.append(predicted_label)"
   ]
  },
  {
   "cell_type": "code",
   "execution_count": 48,
   "metadata": {},
   "outputs": [],
   "source": [
    "conf_matrix = confusion_matrix(true_labels, predicted_labels)"
   ]
  },
  {
   "cell_type": "code",
   "execution_count": 49,
   "metadata": {},
   "outputs": [
    {
     "data": {
      "text/plain": [
       "array([[1051,   65],\n",
       "       [  65, 1032]], dtype=int64)"
      ]
     },
     "execution_count": 49,
     "metadata": {},
     "output_type": "execute_result"
    }
   ],
   "source": [
    "conf_matrix"
   ]
  },
  {
   "cell_type": "code",
   "execution_count": 50,
   "metadata": {},
   "outputs": [
    {
     "data": {
      "text/plain": [
       "0.9412562132851333"
      ]
     },
     "execution_count": 50,
     "metadata": {},
     "output_type": "execute_result"
    }
   ],
   "source": [
    "accuracy_score(true_labels, predicted_labels)"
   ]
  },
  {
   "cell_type": "code",
   "execution_count": 51,
   "metadata": {},
   "outputs": [
    {
     "data": {
      "text/plain": [
       "0.9412562132851333"
      ]
     },
     "execution_count": 51,
     "metadata": {},
     "output_type": "execute_result"
    }
   ],
   "source": [
    "recall_score(true_labels, predicted_labels, average=\"weighted\")"
   ]
  },
  {
   "cell_type": "code",
   "execution_count": 52,
   "metadata": {},
   "outputs": [
    {
     "data": {
      "text/plain": [
       "0.9412562132851333"
      ]
     },
     "execution_count": 52,
     "metadata": {},
     "output_type": "execute_result"
    }
   ],
   "source": [
    "f1_score(true_labels, predicted_labels, average=\"weighted\")"
   ]
  },
  {
   "cell_type": "code",
   "execution_count": 53,
   "metadata": {},
   "outputs": [],
   "source": [
    "t=test.iloc[3,:]"
   ]
  },
  {
   "cell_type": "code",
   "execution_count": 54,
   "metadata": {},
   "outputs": [
    {
     "data": {
      "text/plain": [
       "year                                                                 1980\n",
       "doi                                          10.1016/0006-3207(80)90003-8\n",
       "title                   temperature dependence sexual differentiation ...\n",
       "topics                  turtle biology conservation animal behavior re...\n",
       "locations_names                                   Biological Conservation\n",
       "locations_id                                                    0006-3207\n",
       "label                                             __label____label__ipbes\n",
       "category_description    __label____label__ipbes temperature dependence...\n",
       "Name: 3710, dtype: object"
      ]
     },
     "execution_count": 54,
     "metadata": {},
     "output_type": "execute_result"
    }
   ],
   "source": [
    "t"
   ]
  },
  {
   "cell_type": "code",
   "execution_count": 55,
   "metadata": {},
   "outputs": [
    {
     "name": "stdout",
     "output_type": "stream",
     "text": [
      "temperature dependence sexual differentiation sea turtles: implications conservation practices turtle biology conservation animal behavior reproduction genetic clinical aspects sex determination chromosomal abnormalities Biological Conservation 0006-3207 (('__label____label__ipbes', '__label____label__not_ipbes'), array([0.80408823, 0.19593175]))\n"
     ]
    }
   ],
   "source": [
    "print(f\"{t.title} {t.topics} {t.locations_names} {t.locations_id}\",model.predict(nfx.remove_stopwords(f\"{t.title} {t.topics} {t.locations_names} {t.locations_id}\"), k=-1))"
   ]
  }
 ],
 "metadata": {
  "kernelspec": {
   "display_name": "Python 3",
   "language": "python",
   "name": "python3"
  },
  "language_info": {
   "codemirror_mode": {
    "name": "ipython",
    "version": 3
   },
   "file_extension": ".py",
   "mimetype": "text/x-python",
   "name": "python",
   "nbconvert_exporter": "python",
   "pygments_lexer": "ipython3",
   "version": "3.9.10"
  }
 },
 "nbformat": 4,
 "nbformat_minor": 2
}
