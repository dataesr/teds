{
 "cells": [
  {
   "cell_type": "code",
   "execution_count": 1,
   "metadata": {},
   "outputs": [
    {
     "name": "stderr",
     "output_type": "stream",
     "text": [
      "c:\\Users\\haallat\\Anaconda3\\envs\\my_env\\lib\\site-packages\\scipy\\__init__.py:146: UserWarning: A NumPy version >=1.16.5 and <1.23.0 is required for this version of SciPy (detected version 1.26.0\n",
      "  warnings.warn(f\"A NumPy version >={np_minversion} and <{np_maxversion}\"\n"
     ]
    }
   ],
   "source": [
    "import os\n",
    "import sys\n",
    "import pandas as pd\n",
    "import matplotlib.pyplot as plt\n",
    "import re\n",
    "\n",
    "module_path = os.path.abspath(os.path.join('..','..'))\n",
    "if module_path not in sys.path:\n",
    "    sys.path.append(module_path)\n",
    "\n",
    "import fasttext\n",
    "from sklearn.metrics import confusion_matrix\n",
    "from sklearn.model_selection import train_test_split\n",
    "from sklearn.ensemble import RandomForestClassifier \n",
    "import warnings\n",
    "from sklearn.metrics import accuracy_score, recall_score, f1_score, roc_auc_score, confusion_matrix\n",
    "import numpy as np\n",
    "import neattext.functions as nfx\n",
    " \n",
    "warnings.filterwarnings(action='ignore')\n",
    "\n",
    "from code_utils.utils import preprocess,aplatir"
   ]
  },
  {
   "cell_type": "code",
   "execution_count": 2,
   "metadata": {},
   "outputs": [],
   "source": [
    "df_ipbes=pd.read_json(module_path+f'\\\\IPCC_bibliography\\\\AR6\\\\structured_data\\\\data_model_ipbes\\\\data_ipbes.jsonl', lines= True).dropna(subset=['year'])"
   ]
  },
  {
   "cell_type": "code",
   "execution_count": 3,
   "metadata": {},
   "outputs": [],
   "source": [
    "df_not_ipbes=pd.read_json(module_path+f'\\\\IPCC_bibliography\\\\AR6\\\\structured_data\\\\data_model_ipbes\\\\data_not_ipbes.jsonl', lines= True)"
   ]
  },
  {
   "cell_type": "code",
   "execution_count": 4,
   "metadata": {},
   "outputs": [],
   "source": [
    "df_ipbes=df_ipbes[['year','doi', 'title','topics','locations_names','locations_id']]"
   ]
  },
  {
   "cell_type": "code",
   "execution_count": 5,
   "metadata": {},
   "outputs": [],
   "source": [
    "df_not_ipbes=df_not_ipbes[['year','doi', 'title','topics','locations_names','locations_id']]"
   ]
  },
  {
   "cell_type": "code",
   "execution_count": 6,
   "metadata": {},
   "outputs": [],
   "source": [
    "df_ipbes=df_ipbes.dropna(subset=['year','doi', 'title','topics','locations_names','locations_id']).drop_duplicates(subset=['doi'])"
   ]
  },
  {
   "cell_type": "code",
   "execution_count": 7,
   "metadata": {},
   "outputs": [],
   "source": [
    "df_not_ipbes=df_not_ipbes.dropna(subset=['doi', 'title','topics','locations_names','locations_id'])"
   ]
  },
  {
   "cell_type": "code",
   "execution_count": 8,
   "metadata": {},
   "outputs": [],
   "source": [
    "data_counts=pd.Series([int(x) for x in list(df_ipbes.year.dropna())]).value_counts()\n",
    "data_counts=pd.Series(dict(data_counts)).sort_index()"
   ]
  },
  {
   "cell_type": "markdown",
   "metadata": {},
   "source": [
    "building the learning dataset"
   ]
  },
  {
   "cell_type": "code",
   "execution_count": 9,
   "metadata": {},
   "outputs": [
    {
     "name": "stdout",
     "output_type": "stream",
     "text": [
      "5531 5531\n"
     ]
    }
   ],
   "source": [
    "print(len(df_ipbes),len(df_not_ipbes))"
   ]
  },
  {
   "cell_type": "code",
   "execution_count": 10,
   "metadata": {},
   "outputs": [
    {
     "data": {
      "text/plain": [
       "5531"
      ]
     },
     "execution_count": 10,
     "metadata": {},
     "output_type": "execute_result"
    }
   ],
   "source": [
    "len(df_ipbes.drop_duplicates(subset='doi').dropna(subset='doi'))"
   ]
  },
  {
   "cell_type": "code",
   "execution_count": 11,
   "metadata": {},
   "outputs": [],
   "source": [
    "df_ipbes['label']='ipbes'\n",
    "df_not_ipbes['label']='not_ipbes'"
   ]
  },
  {
   "cell_type": "code",
   "execution_count": 12,
   "metadata": {},
   "outputs": [],
   "source": [
    "df_all=pd.concat([df_ipbes,df_not_ipbes]).reset_index()\n",
    "del df_all['index']"
   ]
  },
  {
   "cell_type": "code",
   "execution_count": 13,
   "metadata": {},
   "outputs": [],
   "source": [
    "df_all.loc[:,'doi']=df_all.loc[:,'doi'].apply(lambda x: str(nfx.remove_stopwords(x)).replace('https://doi.org/','').lower())"
   ]
  },
  {
   "cell_type": "code",
   "execution_count": 14,
   "metadata": {},
   "outputs": [],
   "source": [
    "df_all.loc[:,'title']=df_all.loc[:,'title'].apply(lambda x: str(nfx.remove_stopwords(x)).replace('}','').replace('{','').lower())"
   ]
  },
  {
   "cell_type": "code",
   "execution_count": 15,
   "metadata": {},
   "outputs": [],
   "source": [
    "df_all.loc[:,'topics']=df_all.loc[:,'topics'].apply(lambda x: nfx.remove_stopwords(' '.join(x)).lower())"
   ]
  },
  {
   "cell_type": "code",
   "execution_count": 16,
   "metadata": {},
   "outputs": [
    {
     "data": {
      "text/html": [
       "<div>\n",
       "<style scoped>\n",
       "    .dataframe tbody tr th:only-of-type {\n",
       "        vertical-align: middle;\n",
       "    }\n",
       "\n",
       "    .dataframe tbody tr th {\n",
       "        vertical-align: top;\n",
       "    }\n",
       "\n",
       "    .dataframe thead th {\n",
       "        text-align: right;\n",
       "    }\n",
       "</style>\n",
       "<table border=\"1\" class=\"dataframe\">\n",
       "  <thead>\n",
       "    <tr style=\"text-align: right;\">\n",
       "      <th></th>\n",
       "      <th>year</th>\n",
       "      <th>doi</th>\n",
       "      <th>title</th>\n",
       "      <th>topics</th>\n",
       "      <th>locations_names</th>\n",
       "      <th>locations_id</th>\n",
       "      <th>label</th>\n",
       "    </tr>\n",
       "  </thead>\n",
       "  <tbody>\n",
       "    <tr>\n",
       "      <th>0</th>\n",
       "      <td>2000</td>\n",
       "      <td>10.1890/1051-0761(2000)010[1251:roteka]2.0.co;2</td>\n",
       "      <td>rediscovery traditional ecological knowledge a...</td>\n",
       "      <td>conservation, biodiversity, resource managemen...</td>\n",
       "      <td>Ecological Applications</td>\n",
       "      <td>1051-0761</td>\n",
       "      <td>ipbes</td>\n",
       "    </tr>\n",
       "    <tr>\n",
       "      <th>1</th>\n",
       "      <td>2014</td>\n",
       "      <td>10.1016/j.gloenvcha.2013.12.012</td>\n",
       "      <td>evaluating knowledge exchange interdisciplinar...</td>\n",
       "      <td>sustainability climate change governance risk ...</td>\n",
       "      <td>Global Environmental Change</td>\n",
       "      <td>0959-3780</td>\n",
       "      <td>ipbes</td>\n",
       "    </tr>\n",
       "    <tr>\n",
       "      <th>2</th>\n",
       "      <td>2015</td>\n",
       "      <td>10.5751/es-07868-200344</td>\n",
       "      <td>multiple telecouplings complex interrelationships</td>\n",
       "      <td>land use ecosystem services species distributi...</td>\n",
       "      <td>Ecology and Society</td>\n",
       "      <td>1708-3087</td>\n",
       "      <td>ipbes</td>\n",
       "    </tr>\n",
       "    <tr>\n",
       "      <th>3</th>\n",
       "      <td>2008</td>\n",
       "      <td>10.1177/0959683607087927</td>\n",
       "      <td>concept human impacts past use-by date?</td>\n",
       "      <td>environmental philosophy ethics global energy ...</td>\n",
       "      <td>The Holocene</td>\n",
       "      <td>0959-6836</td>\n",
       "      <td>ipbes</td>\n",
       "    </tr>\n",
       "    <tr>\n",
       "      <th>4</th>\n",
       "      <td>2014</td>\n",
       "      <td>10.1038/nclimate2339</td>\n",
       "      <td>changing intellectual climate</td>\n",
       "      <td>sustainability climate change governance clima...</td>\n",
       "      <td>Nature Climate Change</td>\n",
       "      <td>1758-678X</td>\n",
       "      <td>ipbes</td>\n",
       "    </tr>\n",
       "    <tr>\n",
       "      <th>...</th>\n",
       "      <td>...</td>\n",
       "      <td>...</td>\n",
       "      <td>...</td>\n",
       "      <td>...</td>\n",
       "      <td>...</td>\n",
       "      <td>...</td>\n",
       "      <td>...</td>\n",
       "    </tr>\n",
       "    <tr>\n",
       "      <th>11057</th>\n",
       "      <td>1974</td>\n",
       "      <td>10.1016/0021-8928(74)90095-1</td>\n",
       "      <td>contact problem stamp narrow rectangular base</td>\n",
       "      <td>elasticity wave propagation structural mechani...</td>\n",
       "      <td>Journal of Applied Mathematics and Mechanics</td>\n",
       "      <td>0021-8928</td>\n",
       "      <td>not_ipbes</td>\n",
       "    </tr>\n",
       "    <tr>\n",
       "      <th>11058</th>\n",
       "      <td>1975</td>\n",
       "      <td>10.1002/chin.197517067</td>\n",
       "      <td>cheminform abstract: nuclear quadrupole resona...</td>\n",
       "      <td>radioactive element chemistry processing histo...</td>\n",
       "      <td>Chemischer Informationsdienst</td>\n",
       "      <td>0009-2975</td>\n",
       "      <td>not_ipbes</td>\n",
       "    </tr>\n",
       "    <tr>\n",
       "      <th>11059</th>\n",
       "      <td>1976</td>\n",
       "      <td>10.11619/africa1964.1976.63</td>\n",
       "      <td>urano tatsuo, international relations africa; ...</td>\n",
       "      <td>global peace security dynamics</td>\n",
       "      <td>Journal of African Studies</td>\n",
       "      <td>0065-4140</td>\n",
       "      <td>not_ipbes</td>\n",
       "    </tr>\n",
       "    <tr>\n",
       "      <th>11060</th>\n",
       "      <td>1954</td>\n",
       "      <td>10.1159/000150766</td>\n",
       "      <td>evidence multiple mutation theory cancer-induc...</td>\n",
       "      <td>mathematical biology tumor growth</td>\n",
       "      <td>Human Heredity</td>\n",
       "      <td>0001-5652</td>\n",
       "      <td>not_ipbes</td>\n",
       "    </tr>\n",
       "    <tr>\n",
       "      <th>11061</th>\n",
       "      <td>1936</td>\n",
       "      <td>10.1136/jramc-66-01-10</td>\n",
       "      <td>cases foreign body causing delayed disability</td>\n",
       "      <td>foreign body medical cases traumatic ocular fo...</td>\n",
       "      <td>Journal of the Royal Army Medical Corps</td>\n",
       "      <td>0035-8665</td>\n",
       "      <td>not_ipbes</td>\n",
       "    </tr>\n",
       "  </tbody>\n",
       "</table>\n",
       "<p>11062 rows × 7 columns</p>\n",
       "</div>"
      ],
      "text/plain": [
       "       year                                              doi  \\\n",
       "0      2000  10.1890/1051-0761(2000)010[1251:roteka]2.0.co;2   \n",
       "1      2014                  10.1016/j.gloenvcha.2013.12.012   \n",
       "2      2015                          10.5751/es-07868-200344   \n",
       "3      2008                         10.1177/0959683607087927   \n",
       "4      2014                             10.1038/nclimate2339   \n",
       "...     ...                                              ...   \n",
       "11057  1974                     10.1016/0021-8928(74)90095-1   \n",
       "11058  1975                           10.1002/chin.197517067   \n",
       "11059  1976                      10.11619/africa1964.1976.63   \n",
       "11060  1954                                10.1159/000150766   \n",
       "11061  1936                           10.1136/jramc-66-01-10   \n",
       "\n",
       "                                                   title  \\\n",
       "0      rediscovery traditional ecological knowledge a...   \n",
       "1      evaluating knowledge exchange interdisciplinar...   \n",
       "2      multiple telecouplings complex interrelationships   \n",
       "3                concept human impacts past use-by date?   \n",
       "4                          changing intellectual climate   \n",
       "...                                                  ...   \n",
       "11057      contact problem stamp narrow rectangular base   \n",
       "11058  cheminform abstract: nuclear quadrupole resona...   \n",
       "11059  urano tatsuo, international relations africa; ...   \n",
       "11060  evidence multiple mutation theory cancer-induc...   \n",
       "11061      cases foreign body causing delayed disability   \n",
       "\n",
       "                                                  topics  \\\n",
       "0      conservation, biodiversity, resource managemen...   \n",
       "1      sustainability climate change governance risk ...   \n",
       "2      land use ecosystem services species distributi...   \n",
       "3      environmental philosophy ethics global energy ...   \n",
       "4      sustainability climate change governance clima...   \n",
       "...                                                  ...   \n",
       "11057  elasticity wave propagation structural mechani...   \n",
       "11058  radioactive element chemistry processing histo...   \n",
       "11059                     global peace security dynamics   \n",
       "11060                  mathematical biology tumor growth   \n",
       "11061  foreign body medical cases traumatic ocular fo...   \n",
       "\n",
       "                                    locations_names locations_id      label  \n",
       "0                           Ecological Applications    1051-0761      ipbes  \n",
       "1                       Global Environmental Change    0959-3780      ipbes  \n",
       "2                               Ecology and Society    1708-3087      ipbes  \n",
       "3                                      The Holocene    0959-6836      ipbes  \n",
       "4                             Nature Climate Change    1758-678X      ipbes  \n",
       "...                                             ...          ...        ...  \n",
       "11057  Journal of Applied Mathematics and Mechanics    0021-8928  not_ipbes  \n",
       "11058                 Chemischer Informationsdienst    0009-2975  not_ipbes  \n",
       "11059                    Journal of African Studies    0065-4140  not_ipbes  \n",
       "11060                                Human Heredity    0001-5652  not_ipbes  \n",
       "11061       Journal of the Royal Army Medical Corps    0035-8665  not_ipbes  \n",
       "\n",
       "[11062 rows x 7 columns]"
      ]
     },
     "execution_count": 16,
     "metadata": {},
     "output_type": "execute_result"
    }
   ],
   "source": [
    "df_all"
   ]
  },
  {
   "cell_type": "code",
   "execution_count": 17,
   "metadata": {},
   "outputs": [
    {
     "data": {
      "text/plain": [
       "Index(['year', 'doi', 'title', 'topics', 'locations_names', 'locations_id',\n",
       "       'label'],\n",
       "      dtype='object')"
      ]
     },
     "execution_count": 17,
     "metadata": {},
     "output_type": "execute_result"
    }
   ],
   "source": [
    "df_all.columns"
   ]
  },
  {
   "cell_type": "markdown",
   "metadata": {},
   "source": [
    "using fasttext"
   ]
  },
  {
   "cell_type": "code",
   "execution_count": 18,
   "metadata": {},
   "outputs": [],
   "source": [
    "df_all['label'] = '__label__' + df_all['label'].astype(str)\n",
    "df_all['category_description']=df_all['label']+' '+df_all['title']+' '+df_all['topics']+' '+df_all['locations_names']+' '+df_all['locations_id']"
   ]
  },
  {
   "cell_type": "code",
   "execution_count": 19,
   "metadata": {},
   "outputs": [],
   "source": [
    "train, test = train_test_split(df_all, test_size=0.2, random_state=42)"
   ]
  },
  {
   "cell_type": "code",
   "execution_count": 20,
   "metadata": {},
   "outputs": [
    {
     "data": {
      "text/plain": [
       "((8849, 8), (2213, 8))"
      ]
     },
     "execution_count": 20,
     "metadata": {},
     "output_type": "execute_result"
    }
   ],
   "source": [
    "train.shape, test.shape"
   ]
  },
  {
   "cell_type": "code",
   "execution_count": 21,
   "metadata": {},
   "outputs": [],
   "source": [
    "train.to_csv(\"teds_ipbes.train\", columns=[\"category_description\"], index=False, header=False)\n",
    "test.to_csv(\"teds_ipbes.test\", columns=[\"category_description\"], index=False, header=False)"
   ]
  },
  {
   "cell_type": "code",
   "execution_count": 22,
   "metadata": {},
   "outputs": [
    {
     "data": {
      "text/plain": [
       "(1464, 0.9542349726775956, 0.9542349726775956)"
      ]
     },
     "execution_count": 22,
     "metadata": {},
     "output_type": "execute_result"
    }
   ],
   "source": [
    "model = fasttext.train_supervised(input=\"teds_ipbes.train\")\n",
    "model.test(\"teds_ipbes.test\")"
   ]
  },
  {
   "cell_type": "code",
   "execution_count": 23,
   "metadata": {},
   "outputs": [],
   "source": [
    "model.save_model(\"..\\\\models_fasttext_or_random_forest\\\\fasttext_model_teds_ipbes.bin\")"
   ]
  },
  {
   "cell_type": "code",
   "execution_count": 24,
   "metadata": {},
   "outputs": [
    {
     "name": "stderr",
     "output_type": "stream",
     "text": [
      "Warning : `load_model` does not return WordVectorModel or SupervisedModel any more, but a `FastText` object which is very similar.\n"
     ]
    }
   ],
   "source": [
    "model = fasttext.load_model(\"..\\\\models_fasttext_or_random_forest\\\\fasttext_model_teds_ipbes.bin\")"
   ]
  },
  {
   "cell_type": "code",
   "execution_count": 25,
   "metadata": {},
   "outputs": [],
   "source": [
    "test_data = pd.read_csv(\"teds_ipbes.test\", header=None, names=[\"text\"])"
   ]
  },
  {
   "cell_type": "code",
   "execution_count": 26,
   "metadata": {},
   "outputs": [],
   "source": [
    "true_labels = []\n",
    "predicted_labels = []\n",
    "\n",
    "for line in test_data[\"text\"]:\n",
    "    label, text = line.split(' ', 1)\n",
    "    true_labels.append(label)\n",
    "    text = text.replace('\\n', '').strip()\n",
    "    predicted_label = model.predict(text)[0][0]  \n",
    "    predicted_labels.append(predicted_label)"
   ]
  },
  {
   "cell_type": "code",
   "execution_count": 27,
   "metadata": {},
   "outputs": [],
   "source": [
    "conf_matrix = confusion_matrix(true_labels, predicted_labels)"
   ]
  },
  {
   "cell_type": "code",
   "execution_count": 28,
   "metadata": {},
   "outputs": [
    {
     "data": {
      "text/plain": [
       "array([[1047,   69],\n",
       "       [  43, 1054]], dtype=int64)"
      ]
     },
     "execution_count": 28,
     "metadata": {},
     "output_type": "execute_result"
    }
   ],
   "source": [
    "conf_matrix"
   ]
  },
  {
   "cell_type": "code",
   "execution_count": 29,
   "metadata": {},
   "outputs": [
    {
     "data": {
      "text/plain": [
       "0.9493899683687302"
      ]
     },
     "execution_count": 29,
     "metadata": {},
     "output_type": "execute_result"
    }
   ],
   "source": [
    "accuracy_score(true_labels, predicted_labels)"
   ]
  },
  {
   "cell_type": "code",
   "execution_count": 30,
   "metadata": {},
   "outputs": [
    {
     "data": {
      "text/plain": [
       "0.9493899683687302"
      ]
     },
     "execution_count": 30,
     "metadata": {},
     "output_type": "execute_result"
    }
   ],
   "source": [
    "recall_score(true_labels, predicted_labels, average=\"weighted\")"
   ]
  },
  {
   "cell_type": "code",
   "execution_count": 31,
   "metadata": {},
   "outputs": [
    {
     "data": {
      "text/plain": [
       "0.9493880875388566"
      ]
     },
     "execution_count": 31,
     "metadata": {},
     "output_type": "execute_result"
    }
   ],
   "source": [
    "f1_score(true_labels, predicted_labels, average=\"weighted\")"
   ]
  },
  {
   "cell_type": "code",
   "execution_count": 32,
   "metadata": {},
   "outputs": [],
   "source": [
    "t=test.iloc[3,:]"
   ]
  },
  {
   "cell_type": "code",
   "execution_count": 33,
   "metadata": {},
   "outputs": [
    {
     "data": {
      "text/plain": [
       "year                                                                 1980\n",
       "doi                                          10.1016/0006-3207(80)90003-8\n",
       "title                   temperature dependence sexual differentiation ...\n",
       "topics                  turtle biology conservation animal behavior re...\n",
       "locations_names                                   Biological Conservation\n",
       "locations_id                                                    0006-3207\n",
       "label                                                      __label__ipbes\n",
       "category_description    __label__ipbes temperature dependence sexual d...\n",
       "Name: 3710, dtype: object"
      ]
     },
     "execution_count": 33,
     "metadata": {},
     "output_type": "execute_result"
    }
   ],
   "source": [
    "t"
   ]
  },
  {
   "cell_type": "code",
   "execution_count": 34,
   "metadata": {},
   "outputs": [
    {
     "name": "stdout",
     "output_type": "stream",
     "text": [
      "temperature dependence sexual differentiation sea turtles: implications conservation practices turtle biology conservation animal behavior reproduction genetic clinical aspects sex determination chromosomal abnormalities Biological Conservation 0006-3207 (('__label__ipbes', '__label__not_ipbes'), array([0.84948003, 0.15054002]))\n"
     ]
    }
   ],
   "source": [
    "print(f\"{t.title} {t.topics} {t.locations_names} {t.locations_id}\",model.predict(nfx.remove_stopwords(f\"{t.title} {t.topics} {t.locations_names} {t.locations_id}\"), k=-1))"
   ]
  }
 ],
 "metadata": {
  "kernelspec": {
   "display_name": "my_env",
   "language": "python",
   "name": "python3"
  },
  "language_info": {
   "codemirror_mode": {
    "name": "ipython",
    "version": 3
   },
   "file_extension": ".py",
   "mimetype": "text/x-python",
   "name": "python",
   "nbconvert_exporter": "python",
   "pygments_lexer": "ipython3",
   "version": "3.9.12"
  }
 },
 "nbformat": 4,
 "nbformat_minor": 2
}
