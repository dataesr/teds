{
 "cells": [
  {
   "cell_type": "code",
   "execution_count": 1,
   "metadata": {},
   "outputs": [],
   "source": [
    "import os\n",
    "import sys\n",
    "import pandas as pd\n",
    "import matplotlib.pyplot as plt\n",
    "import json \n",
    "from dotenv import load_dotenv\n",
    "load_dotenv()\n",
    "from urllib import parse\n",
    "\n",
    "\n",
    "module_path = os.path.abspath(os.path.join('..'))\n",
    "if module_path not in sys.path:\n",
    "    sys.path.append(module_path)\n",
    "\n",
    "from code_utils.utils import type_score,get_year_ipcc,get_year_ipbes,get_xy,check_doi_glutton,normalize,aplatir,remove_too_long\n",
    "from code_utils.BSO import update_bso_publications,get_bso_publications\n",
    "from code_utils.pickle import load_cache"
   ]
  },
  {
   "cell_type": "code",
   "execution_count": 2,
   "metadata": {},
   "outputs": [],
   "source": [
    "df_ipcc=pd.read_json(module_path+'\\\\IPCC_bibliography\\\\AR6\\\\structured_data\\\\data_ipcc_visualization.json')"
   ]
  },
  {
   "cell_type": "code",
   "execution_count": 3,
   "metadata": {},
   "outputs": [],
   "source": [
    "df_ipcc=df_ipcc.rename(columns={'wg_chap':'ipcc'})"
   ]
  },
  {
   "cell_type": "code",
   "execution_count": 4,
   "metadata": {},
   "outputs": [],
   "source": [
    "df_ipcc.loc[:,'rors']=df_ipcc.loc[:,'rors'].apply(lambda x: [[]] if x==[None] else x)\n",
    "df_ipcc.loc[:,'rors']=df_ipcc.loc[:,'rors'].apply(lambda x: None if aplatir(x)==[] else x)"
   ]
  },
  {
   "cell_type": "code",
   "execution_count": 5,
   "metadata": {},
   "outputs": [],
   "source": [
    "df_ipcc_group=df_ipcc.groupby(by=['doi'], dropna=True).agg({'year': lambda x: list(x)[0], 'title': lambda x: list(x)[0], 'rors': lambda x: list(x)[0],'authors_name': lambda x: list(x)[0], 'institutions_names': lambda x: list(x)[0], 'ipcc': lambda x: list(x)[0], 'countries': lambda x: list(x)[0], 'topics': lambda x: list(x)[0], 'freq':'sum'})\n",
    "df_ipcc_group=df_ipcc_group.reset_index()"
   ]
  },
  {
   "cell_type": "code",
   "execution_count": 6,
   "metadata": {},
   "outputs": [],
   "source": [
    "df_ipcc_group.loc[:,'countries']=df_ipcc_group.loc[:,'countries'].apply(lambda x: None if x==['None'] else x)"
   ]
  },
  {
   "cell_type": "code",
   "execution_count": 7,
   "metadata": {},
   "outputs": [
    {
     "data": {
      "text/plain": [
       "53258"
      ]
     },
     "execution_count": 7,
     "metadata": {},
     "output_type": "execute_result"
    }
   ],
   "source": [
    "len(df_ipcc_group)"
   ]
  },
  {
   "cell_type": "code",
   "execution_count": 8,
   "metadata": {},
   "outputs": [
    {
     "data": {
      "text/plain": [
       "True"
      ]
     },
     "execution_count": 8,
     "metadata": {},
     "output_type": "execute_result"
    }
   ],
   "source": [
    "len(df_ipcc_group.doi.drop_duplicates())==len(df_ipcc_group.doi)"
   ]
  },
  {
   "cell_type": "code",
   "execution_count": 9,
   "metadata": {},
   "outputs": [],
   "source": [
    "df_ipbes=pd.read_json(module_path+'\\\\IPCC_bibliography\\\\AR6\\\\structured_data\\\\data_ipbes_visualization.json')"
   ]
  },
  {
   "cell_type": "code",
   "execution_count": 10,
   "metadata": {},
   "outputs": [],
   "source": [
    "df_ipbes['ipbes']=df_ipbes.apply(lambda row: [{'chapter': str(x['tag']).replace('ipbes-global_chapter','')} for x in row['tags']], axis=1)"
   ]
  },
  {
   "cell_type": "code",
   "execution_count": 11,
   "metadata": {},
   "outputs": [],
   "source": [
    "df_ipbes.loc[:,'rors']=df_ipbes.loc[:,'rors'].apply(lambda x: [[]] if x==[None] else x)\n",
    "df_ipbes.loc[:,'rors']=df_ipbes.loc[:,'rors'].apply(lambda x: None if aplatir(x)==[] else x)"
   ]
  },
  {
   "cell_type": "code",
   "execution_count": 12,
   "metadata": {},
   "outputs": [],
   "source": [
    "df_ipbes_group=df_ipbes.groupby(by=['doi'], dropna=True).agg({'year': lambda x: list(x)[0], 'title': lambda x: list(x)[0], 'rors': lambda x: list(x)[0],'authors_name': lambda x: list(x)[0], 'institutions_names': lambda x: list(x)[0],'ipbes': lambda x: list(x)[0], 'countries': lambda x: list(x)[0], 'topics': lambda x: list(x)[0]})\n",
    "df_ipbes_group=df_ipbes_group.reset_index()"
   ]
  },
  {
   "cell_type": "code",
   "execution_count": 13,
   "metadata": {},
   "outputs": [],
   "source": [
    "df_ipbes_group.loc[:,'countries']=df_ipbes_group.loc[:,'countries'].apply(lambda x: None if x==['None'] else x)"
   ]
  },
  {
   "cell_type": "code",
   "execution_count": 14,
   "metadata": {},
   "outputs": [
    {
     "data": {
      "text/plain": [
       "True"
      ]
     },
     "execution_count": 14,
     "metadata": {},
     "output_type": "execute_result"
    }
   ],
   "source": [
    "len(df_ipbes_group.doi.drop_duplicates())==len(df_ipbes_group.doi)"
   ]
  },
  {
   "cell_type": "code",
   "execution_count": 15,
   "metadata": {},
   "outputs": [],
   "source": [
    "df_ipcc_ipbes=pd.merge(df_ipcc_group,df_ipbes_group, on='doi', how='outer')"
   ]
  },
  {
   "cell_type": "code",
   "execution_count": 16,
   "metadata": {},
   "outputs": [],
   "source": [
    "df_ipcc_ipbes['countries']=df_ipcc_ipbes.apply(lambda row: get_xy('countries',row), axis=1)\n",
    "df_ipcc_ipbes['year']=df_ipcc_ipbes.apply(lambda row: get_xy('year',row), axis=1)\n",
    "df_ipcc_ipbes['title']=df_ipcc_ipbes.apply(lambda row: get_xy('title',row), axis=1)\n",
    "df_ipcc_ipbes['rors']=df_ipcc_ipbes.apply(lambda row: get_xy('rors',row), axis=1)\n",
    "df_ipcc_ipbes['authors_name']=df_ipcc_ipbes.apply(lambda row: get_xy('authors_name',row), axis=1)\n",
    "df_ipcc_ipbes['institutions_names']=df_ipcc_ipbes.apply(lambda row: get_xy('institutions_names',row), axis=1)\n",
    "df_ipcc_ipbes['topics']=df_ipcc_ipbes.apply(lambda row: get_xy('topics',row), axis=1)"
   ]
  },
  {
   "cell_type": "code",
   "execution_count": 17,
   "metadata": {},
   "outputs": [],
   "source": [
    "df_ipcc_ipbes=df_ipcc_ipbes[['doi', 'year','title', 'rors', 'authors_name', 'institutions_names',\n",
    "       'ipcc', 'countries', 'ipbes','topics']]"
   ]
  },
  {
   "cell_type": "code",
   "execution_count": 18,
   "metadata": {},
   "outputs": [
    {
     "data": {
      "text/plain": [
       "True"
      ]
     },
     "execution_count": 18,
     "metadata": {},
     "output_type": "execute_result"
    }
   ],
   "source": [
    "len(df_ipcc_ipbes.doi.drop_duplicates())==len(df_ipcc_ipbes.doi)"
   ]
  },
  {
   "cell_type": "code",
   "execution_count": null,
   "metadata": {},
   "outputs": [],
   "source": [
    "update_bso_publications()"
   ]
  },
  {
   "cell_type": "code",
   "execution_count": 19,
   "metadata": {},
   "outputs": [],
   "source": [
    "bso=pd.DataFrame(get_bso_publications())"
   ]
  },
  {
   "cell_type": "code",
   "execution_count": 20,
   "metadata": {},
   "outputs": [],
   "source": [
    "df_bso=bso.transpose().reset_index()"
   ]
  },
  {
   "cell_type": "code",
   "execution_count": 21,
   "metadata": {},
   "outputs": [],
   "source": [
    "df_bso.columns=['doi','rors', 'bso_local_affiliations']"
   ]
  },
  {
   "cell_type": "code",
   "execution_count": 22,
   "metadata": {},
   "outputs": [],
   "source": [
    "df_ipcc_ipbes_bso=pd.merge(df_ipcc_ipbes,df_bso,on='doi',how='left').rename(columns={'rors_x':'rors'})"
   ]
  },
  {
   "cell_type": "code",
   "execution_count": 23,
   "metadata": {},
   "outputs": [],
   "source": [
    "del df_ipcc_ipbes_bso['rors_y']"
   ]
  },
  {
   "cell_type": "code",
   "execution_count": 24,
   "metadata": {},
   "outputs": [
    {
     "data": {
      "text/plain": [
       "True"
      ]
     },
     "execution_count": 24,
     "metadata": {},
     "output_type": "execute_result"
    }
   ],
   "source": [
    "len(df_ipcc_ipbes_bso.doi.drop_duplicates())==len(df_ipcc_ipbes_bso.doi)"
   ]
  },
  {
   "cell_type": "code",
   "execution_count": 25,
   "metadata": {},
   "outputs": [
    {
     "data": {
      "text/plain": [
       "Index(['doi', 'year', 'title', 'rors', 'authors_name', 'institutions_names',\n",
       "       'ipcc', 'countries', 'ipbes', 'topics', 'bso_local_affiliations'],\n",
       "      dtype='object')"
      ]
     },
     "execution_count": 25,
     "metadata": {},
     "output_type": "execute_result"
    }
   ],
   "source": [
    "df_ipcc_ipbes_bso.columns"
   ]
  },
  {
   "cell_type": "code",
   "execution_count": 26,
   "metadata": {},
   "outputs": [],
   "source": [
    "df_iso=pd.read_json(module_path+'\\\\IPCC_bibliography\\\\AR6\\\\structured_data\\\\iso2_iso3.json')"
   ]
  },
  {
   "cell_type": "code",
   "execution_count": 27,
   "metadata": {},
   "outputs": [],
   "source": [
    "#df_iso=df_iso.transpose().reset_index().rename(columns={'index':'code',0:'name'})"
   ]
  },
  {
   "cell_type": "code",
   "execution_count": 27,
   "metadata": {},
   "outputs": [],
   "source": [
    "dict_iso=df_iso.to_dict(orient='records')[0]\n",
    "dict_iso['XK']='XKX'"
   ]
  },
  {
   "cell_type": "code",
   "execution_count": null,
   "metadata": {},
   "outputs": [],
   "source": [
    "# dict_iso={}\n",
    "# for i,row in df_iso.iterrows():\n",
    "#     dict_iso[row['code']]=row['name']\n",
    "# dict_iso['CW']='Curaçao'\n",
    "# dict_iso['RS']='Serbia'\n",
    "# dict_iso['ME']='Montenegro'\n",
    "# dict_iso['XK']='Kosovo'\n",
    "# dict_iso['SS']='South Soudan'\n",
    "# dict_iso['MF']='Saint Martin'"
   ]
  },
  {
   "cell_type": "code",
   "execution_count": 28,
   "metadata": {},
   "outputs": [],
   "source": [
    "df_ipcc_ipbes_bso.loc[:,'countries']=df_ipcc_ipbes_bso.loc[:,'countries'].apply(lambda x: [dict_iso[y] for y in x] if (x!=None)&(x!=[])&(isinstance(x,float)==False) else None)"
   ]
  },
  {
   "cell_type": "code",
   "execution_count": 31,
   "metadata": {},
   "outputs": [],
   "source": [
    "df_brevet_doi=pd.read_json('brevet_doi.json')"
   ]
  },
  {
   "cell_type": "code",
   "execution_count": null,
   "metadata": {},
   "outputs": [],
   "source": [
    "df_ipcc_ipbes_bso_brevet=pd.merge(df_ipcc_ipbes_bso,df_brevet_doi, on='doi', how='left')"
   ]
  },
  {
   "cell_type": "code",
   "execution_count": null,
   "metadata": {},
   "outputs": [],
   "source": [
    "len(df_ipcc_ipbes_bso_brevet.doi.drop_duplicates())==len(df_ipcc_ipbes_bso_brevet.doi)"
   ]
  },
  {
   "cell_type": "code",
   "execution_count": null,
   "metadata": {},
   "outputs": [],
   "source": [
    "df_ipcc_ipbes_bso_brevet.doi.value_counts()[:10]"
   ]
  },
  {
   "cell_type": "code",
   "execution_count": 29,
   "metadata": {},
   "outputs": [
    {
     "name": "stdout",
     "output_type": "stream",
     "text": [
      "54821 data in cached openalex data\n",
      "6608 data in cached openalex data\n"
     ]
    }
   ],
   "source": [
    "cached_openalex_data = load_cache({},module_path+'\\\\IPCC_bibliography\\\\AR6\\\\structured_data\\\\cached_openalex_data.pkl')\n",
    "cached_openalex_data_ipbes = load_cache({},module_path+'\\\\IPCC_bibliography\\\\AR6\\\\structured_data\\\\cached_openalex_data_ipbes.pkl')\n",
    "cached_openalex_data.update(cached_openalex_data_ipbes)\n",
    "df_cache=pd.DataFrame({'doi':list(cached_openalex_data.keys()),'OpenAlex_data':list(cached_openalex_data.values())})"
   ]
  },
  {
   "cell_type": "code",
   "execution_count": 30,
   "metadata": {},
   "outputs": [],
   "source": [
    "df_ipcc_ipbes_bso=pd.merge(df_ipcc_ipbes_bso,df_cache, on='doi', how='inner')"
   ]
  },
  {
   "cell_type": "code",
   "execution_count": 31,
   "metadata": {},
   "outputs": [
    {
     "data": {
      "text/plain": [
       "True"
      ]
     },
     "execution_count": 31,
     "metadata": {},
     "output_type": "execute_result"
    }
   ],
   "source": [
    "len(df_ipcc_ipbes_bso.doi.drop_duplicates())==len(df_ipcc_ipbes_bso.doi)"
   ]
  },
  {
   "cell_type": "code",
   "execution_count": 32,
   "metadata": {},
   "outputs": [],
   "source": [
    "current_dict = df_ipcc_ipbes_bso.to_dict(orient='records')"
   ]
  },
  {
   "cell_type": "code",
   "execution_count": 33,
   "metadata": {},
   "outputs": [],
   "source": [
    "list_bso_ipcc_ipbes=[]\n",
    "for i in range(len(df_ipcc_ipbes_bso)):\n",
    "    if len(current_dict[i]['OpenAlex_data'])==1:\n",
    "        openalex_info = current_dict[i]['OpenAlex_data'][0]\n",
    "    else:\n",
    "        openalex_info = current_dict[i]['OpenAlex_data'][1]\n",
    "    del current_dict[i]['OpenAlex_data']\n",
    "    for f in openalex_info:\n",
    "        current_dict[i]['openalex_'+f] = openalex_info[f]  "
   ]
  },
  {
   "cell_type": "code",
   "execution_count": 34,
   "metadata": {},
   "outputs": [],
   "source": [
    "df_elastic_input=pd.DataFrame(current_dict)"
   ]
  },
  {
   "cell_type": "code",
   "execution_count": 35,
   "metadata": {},
   "outputs": [],
   "source": [
    "df_elastic_input=df_ipcc_ipbes_bso"
   ]
  },
  {
   "cell_type": "code",
   "execution_count": 36,
   "metadata": {},
   "outputs": [],
   "source": [
    "df_elastic_input=df_elastic_input[['doi', 'year', 'title', 'rors', 'ipcc','authors_name', 'institutions_names',\n",
    "       'countries', 'ipbes','topics']]"
   ]
  },
  {
   "cell_type": "code",
   "execution_count": 37,
   "metadata": {},
   "outputs": [
    {
     "name": "stderr",
     "output_type": "stream",
     "text": [
      "C:\\Users\\haallat\\AppData\\Local\\Temp\\ipykernel_5476\\4250329376.py:1: SettingWithCopyWarning: \n",
      "A value is trying to be set on a copy of a slice from a DataFrame\n",
      "\n",
      "See the caveats in the documentation: https://pandas.pydata.org/pandas-docs/stable/user_guide/indexing.html#returning-a-view-versus-a-copy\n",
      "  df_elastic_input.loc[df_elastic_input.authors_name.apply(lambda x: x==[None]),'authors_name']=None\n",
      "C:\\Users\\haallat\\AppData\\Local\\Temp\\ipykernel_5476\\4250329376.py:2: SettingWithCopyWarning: \n",
      "A value is trying to be set on a copy of a slice from a DataFrame\n",
      "\n",
      "See the caveats in the documentation: https://pandas.pydata.org/pandas-docs/stable/user_guide/indexing.html#returning-a-view-versus-a-copy\n",
      "  df_elastic_input.loc[df_elastic_input.countries.apply(lambda x: x==[None]),'countries']=None\n",
      "C:\\Users\\haallat\\AppData\\Local\\Temp\\ipykernel_5476\\4250329376.py:3: SettingWithCopyWarning: \n",
      "A value is trying to be set on a copy of a slice from a DataFrame\n",
      "\n",
      "See the caveats in the documentation: https://pandas.pydata.org/pandas-docs/stable/user_guide/indexing.html#returning-a-view-versus-a-copy\n",
      "  df_elastic_input.loc[df_elastic_input.institutions_names.apply(lambda x: x==[None]),'institutions_names']=None\n",
      "C:\\Users\\haallat\\AppData\\Local\\Temp\\ipykernel_5476\\4250329376.py:4: SettingWithCopyWarning: \n",
      "A value is trying to be set on a copy of a slice from a DataFrame\n",
      "\n",
      "See the caveats in the documentation: https://pandas.pydata.org/pandas-docs/stable/user_guide/indexing.html#returning-a-view-versus-a-copy\n",
      "  df_elastic_input.loc[df_elastic_input.rors.apply(lambda x: x==[None]),'rors']=None\n",
      "C:\\Users\\haallat\\AppData\\Local\\Temp\\ipykernel_5476\\4250329376.py:5: SettingWithCopyWarning: \n",
      "A value is trying to be set on a copy of a slice from a DataFrame\n",
      "\n",
      "See the caveats in the documentation: https://pandas.pydata.org/pandas-docs/stable/user_guide/indexing.html#returning-a-view-versus-a-copy\n",
      "  df_elastic_input.loc[df_elastic_input.authors_name.apply(lambda x: x==[]),'authors_name']=None\n",
      "C:\\Users\\haallat\\AppData\\Local\\Temp\\ipykernel_5476\\4250329376.py:6: SettingWithCopyWarning: \n",
      "A value is trying to be set on a copy of a slice from a DataFrame\n",
      "\n",
      "See the caveats in the documentation: https://pandas.pydata.org/pandas-docs/stable/user_guide/indexing.html#returning-a-view-versus-a-copy\n",
      "  df_elastic_input.loc[df_elastic_input.countries.apply(lambda x: x==[]),'countries']=None\n",
      "C:\\Users\\haallat\\AppData\\Local\\Temp\\ipykernel_5476\\4250329376.py:7: SettingWithCopyWarning: \n",
      "A value is trying to be set on a copy of a slice from a DataFrame\n",
      "\n",
      "See the caveats in the documentation: https://pandas.pydata.org/pandas-docs/stable/user_guide/indexing.html#returning-a-view-versus-a-copy\n",
      "  df_elastic_input.loc[df_elastic_input.institutions_names.apply(lambda x: x==[]),'institutions_names']=None\n",
      "C:\\Users\\haallat\\AppData\\Local\\Temp\\ipykernel_5476\\4250329376.py:8: SettingWithCopyWarning: \n",
      "A value is trying to be set on a copy of a slice from a DataFrame\n",
      "\n",
      "See the caveats in the documentation: https://pandas.pydata.org/pandas-docs/stable/user_guide/indexing.html#returning-a-view-versus-a-copy\n",
      "  df_elastic_input.loc[df_elastic_input.rors.apply(lambda x: x==[]),'rors']=None\n",
      "C:\\Users\\haallat\\AppData\\Local\\Temp\\ipykernel_5476\\4250329376.py:9: SettingWithCopyWarning: \n",
      "A value is trying to be set on a copy of a slice from a DataFrame\n",
      "\n",
      "See the caveats in the documentation: https://pandas.pydata.org/pandas-docs/stable/user_guide/indexing.html#returning-a-view-versus-a-copy\n",
      "  df_elastic_input.loc[df_elastic_input.year=='XXXX','year']=None\n"
     ]
    }
   ],
   "source": [
    "df_elastic_input.loc[df_elastic_input.authors_name.apply(lambda x: x==[None]),'authors_name']=None\n",
    "df_elastic_input.loc[df_elastic_input.countries.apply(lambda x: x==[None]),'countries']=None\n",
    "df_elastic_input.loc[df_elastic_input.institutions_names.apply(lambda x: x==[None]),'institutions_names']=None\n",
    "df_elastic_input.loc[df_elastic_input.rors.apply(lambda x: x==[None]),'rors']=None\n",
    "df_elastic_input.loc[df_elastic_input.authors_name.apply(lambda x: x==[]),'authors_name']=None\n",
    "df_elastic_input.loc[df_elastic_input.countries.apply(lambda x: x==[]),'countries']=None\n",
    "df_elastic_input.loc[df_elastic_input.institutions_names.apply(lambda x: x==[]),'institutions_names']=None\n",
    "df_elastic_input.loc[df_elastic_input.rors.apply(lambda x: x==[]),'rors']=None\n",
    "df_elastic_input.loc[df_elastic_input.year=='XXXX','year']=None"
   ]
  },
  {
   "cell_type": "code",
   "execution_count": 38,
   "metadata": {},
   "outputs": [
    {
     "data": {
      "text/plain": [
       "58240"
      ]
     },
     "execution_count": 38,
     "metadata": {},
     "output_type": "execute_result"
    }
   ],
   "source": [
    "len(df_elastic_input)"
   ]
  },
  {
   "cell_type": "code",
   "execution_count": 43,
   "metadata": {},
   "outputs": [],
   "source": [
    "df_elastic_input=df_elastic_input.dropna(subset=['countries'])"
   ]
  },
  {
   "cell_type": "code",
   "execution_count": 58,
   "metadata": {},
   "outputs": [
    {
     "data": {
      "text/html": [
       "<div>\n",
       "<style scoped>\n",
       "    .dataframe tbody tr th:only-of-type {\n",
       "        vertical-align: middle;\n",
       "    }\n",
       "\n",
       "    .dataframe tbody tr th {\n",
       "        vertical-align: top;\n",
       "    }\n",
       "\n",
       "    .dataframe thead th {\n",
       "        text-align: right;\n",
       "    }\n",
       "</style>\n",
       "<table border=\"1\" class=\"dataframe\">\n",
       "  <thead>\n",
       "    <tr style=\"text-align: right;\">\n",
       "      <th></th>\n",
       "      <th>index</th>\n",
       "      <th>doi</th>\n",
       "      <th>year</th>\n",
       "      <th>title</th>\n",
       "      <th>rors</th>\n",
       "      <th>ipcc</th>\n",
       "      <th>authors_name</th>\n",
       "      <th>institutions_names</th>\n",
       "      <th>countries</th>\n",
       "      <th>ipbes</th>\n",
       "      <th>topics</th>\n",
       "    </tr>\n",
       "  </thead>\n",
       "  <tbody>\n",
       "    <tr>\n",
       "      <th>0</th>\n",
       "      <td>38</td>\n",
       "      <td>10.1002/2013gl057775</td>\n",
       "      <td>2013.0</td>\n",
       "      <td>{Global-scale seasonally resolved black carbon...</td>\n",
       "      <td>[[https://ror.org/033tt8e33, US], [https://ror...</td>\n",
       "      <td>[{'name': 'wg1_chap_06', 'wg': '1', 'chap': 6}]</td>\n",
       "      <td>[[J. P. Schwarz, [US]], [B. H. Samset, [NO]], ...</td>\n",
       "      <td>[[NOAA Earth System Research Laboratory, US], ...</td>\n",
       "      <td>[GBR, FRA, USA, NOR]</td>\n",
       "      <td>NaN</td>\n",
       "      <td>[Atmospheric Aerosols and their Impacts, Strat...</td>\n",
       "    </tr>\n",
       "    <tr>\n",
       "      <th>1</th>\n",
       "      <td>44</td>\n",
       "      <td>10.1002/2013gl058118</td>\n",
       "      <td>2013.0</td>\n",
       "      <td>{Robust increase in equilibrium climate sensit...</td>\n",
       "      <td>[[https://ror.org/05esem239, DE], [https://ror...</td>\n",
       "      <td>[{'name': 'wg1_chap_07', 'wg': '1', 'chap': 7}]</td>\n",
       "      <td>[[Katharina Meraner, [DE]], [Thorsten Mauritse...</td>\n",
       "      <td>[[Max Planck Institute for Meteorology, DE], [...</td>\n",
       "      <td>[DEU, FRA]</td>\n",
       "      <td>NaN</td>\n",
       "      <td>[Climate Change and Variability Research, Glob...</td>\n",
       "    </tr>\n",
       "    <tr>\n",
       "      <th>2</th>\n",
       "      <td>52</td>\n",
       "      <td>10.1002/2013gl058511</td>\n",
       "      <td>2013.0</td>\n",
       "      <td>{Modeling soil moisture–precipitation feedback...</td>\n",
       "      <td>[[https://ror.org/00pggkr55, GB], [https://ror...</td>\n",
       "      <td>[{'name': 'wg1_chap_08', 'wg': '1', 'chap': 8}...</td>\n",
       "      <td>[[Christopher M. Taylor, [GB]], [Cathryn E. Bi...</td>\n",
       "      <td>[[UK Centre for Ecology &amp; Hydrology, GB], [Uni...</td>\n",
       "      <td>[GBR, SWE, FRA]</td>\n",
       "      <td>NaN</td>\n",
       "      <td>[Climate Change and Variability Research, Nume...</td>\n",
       "    </tr>\n",
       "    <tr>\n",
       "      <th>3</th>\n",
       "      <td>54</td>\n",
       "      <td>10.1002/2013gl058653</td>\n",
       "      <td>2014.0</td>\n",
       "      <td>{Optimal fingerprinting under multiple sources...</td>\n",
       "      <td>[[https://ror.org/05k07f122, AR], [https://ror...</td>\n",
       "      <td>[{'name': 'wg1_chap_03', 'wg': '1', 'chap': 3}]</td>\n",
       "      <td>[[Alexis Hannart, [AR]], [Aurélien Ribes, [FR]...</td>\n",
       "      <td>[[Instituto Franco-Argentino sobre Estudios de...</td>\n",
       "      <td>[ARG, FRA]</td>\n",
       "      <td>NaN</td>\n",
       "      <td>[Total Least Squares Methods and Applications,...</td>\n",
       "    </tr>\n",
       "    <tr>\n",
       "      <th>4</th>\n",
       "      <td>70</td>\n",
       "      <td>10.1002/2013jc009071</td>\n",
       "      <td>2013.0</td>\n",
       "      <td>{Skill testing a three-dimensional global tide...</td>\n",
       "      <td>[[https://ror.org/05g3dte14, US], [https://ror...</td>\n",
       "      <td>[{'name': 'wg1_chap_09', 'wg': '1', 'chap': 9}]</td>\n",
       "      <td>[[Patrick G. Timko, [GB, US]], [Brian K. Arbic...</td>\n",
       "      <td>[[Florida State University, US], [University o...</td>\n",
       "      <td>[GBR, FRA, USA]</td>\n",
       "      <td>NaN</td>\n",
       "      <td>[Oceanic Modeling and Circulation Studies, Glo...</td>\n",
       "    </tr>\n",
       "    <tr>\n",
       "      <th>...</th>\n",
       "      <td>...</td>\n",
       "      <td>...</td>\n",
       "      <td>...</td>\n",
       "      <td>...</td>\n",
       "      <td>...</td>\n",
       "      <td>...</td>\n",
       "      <td>...</td>\n",
       "      <td>...</td>\n",
       "      <td>...</td>\n",
       "      <td>...</td>\n",
       "      <td>...</td>\n",
       "    </tr>\n",
       "    <tr>\n",
       "      <th>4249</th>\n",
       "      <td>58055</td>\n",
       "      <td>10.5194/bg-7-2851-2010</td>\n",
       "      <td>2010</td>\n",
       "      <td>Deep, diverse and definitely different: unique...</td>\n",
       "      <td>[[https://ror.org/01bpa4157, ES], [https://ror...</td>\n",
       "      <td>NaN</td>\n",
       "      <td>[[Eva Ramirez-Llodra, [ES]], [Angelika Brandt,...</td>\n",
       "      <td>[[Institut Català de Ciències del Clima, ES], ...</td>\n",
       "      <td>[GBR, FRA, ESP, ITA, DEU, CAN, USA, NOR, BEL]</td>\n",
       "      <td>[{'chapter': '2.2_nature'}]</td>\n",
       "      <td>[Marine Biodiversity and Ecosystem Functioning...</td>\n",
       "    </tr>\n",
       "    <tr>\n",
       "      <th>4250</th>\n",
       "      <td>58057</td>\n",
       "      <td>10.5194/bg-7-979-2010</td>\n",
       "      <td>2010</td>\n",
       "      <td>Projected 21st century decrease in marine prod...</td>\n",
       "      <td>[[https://ror.org/02k7v4d05, CH], [https://ror...</td>\n",
       "      <td>NaN</td>\n",
       "      <td>[[Marco Steinacher, [CH]], [F. Joos, [CH]], [T...</td>\n",
       "      <td>[[University of Bern, CH], [Oeschger Centre fo...</td>\n",
       "      <td>[CHE, DEU, USA, FRA]</td>\n",
       "      <td>[{'chapter': '4'}]</td>\n",
       "      <td>[Marine Biogeochemistry and Ecosystem Dynamics...</td>\n",
       "    </tr>\n",
       "    <tr>\n",
       "      <th>4251</th>\n",
       "      <td>58064</td>\n",
       "      <td>10.5194/essd-5-165-2013</td>\n",
       "      <td>2013</td>\n",
       "      <td>The global carbon budget 1959–2011</td>\n",
       "      <td>[[https://ror.org/040tfy969, GB], [https://ror...</td>\n",
       "      <td>NaN</td>\n",
       "      <td>[[Corinne Le Quéré, [GB]], [R. J. Andres, [US]...</td>\n",
       "      <td>[[Tyndall Centre, GB], [University of East Ang...</td>\n",
       "      <td>[GBR, FRA, NLD, ITA, AUS, JPN, DEU, USA, NOR, ...</td>\n",
       "      <td>[{'chapter': '3'}]</td>\n",
       "      <td>[Global Methane Emissions and Impacts, Atmosph...</td>\n",
       "    </tr>\n",
       "    <tr>\n",
       "      <th>4252</th>\n",
       "      <td>58230</td>\n",
       "      <td>10.7717/peerj.2249</td>\n",
       "      <td>2016</td>\n",
       "      <td>A horizon scan of future threats and opportuni...</td>\n",
       "      <td>[[https://ror.org/04g2vpn86, GB], [https://ror...</td>\n",
       "      <td>NaN</td>\n",
       "      <td>[[Mark J. F. Brown, [GB]], [Lynn V. Dicks, [GB...</td>\n",
       "      <td>[[Royal Holloway University of London, GB], [C...</td>\n",
       "      <td>[CHN, GBR, FRA, BRA, ZAF, AUS, IRL, DEU, USA, ...</td>\n",
       "      <td>[{'chapter': '6'}]</td>\n",
       "      <td>[Impact of Pesticides on Honey Bee Health, Imp...</td>\n",
       "    </tr>\n",
       "    <tr>\n",
       "      <th>4253</th>\n",
       "      <td>58235</td>\n",
       "      <td>10.7770/cuhso-v27n1-art1134</td>\n",
       "      <td>2017</td>\n",
       "      <td>Living the territoriality: Mapuche tourism and...</td>\n",
       "      <td>[[https://ror.org/04h4z8k05, FR]]</td>\n",
       "      <td>NaN</td>\n",
       "      <td>[[Dorian Rommens, [FR]]]</td>\n",
       "      <td>[[United Nations Educational, Scientific and C...</td>\n",
       "      <td>[FRA]</td>\n",
       "      <td>[{'chapter': '3'}]</td>\n",
       "      <td>[Indigenous Peoples at National Margins in Lat...</td>\n",
       "    </tr>\n",
       "  </tbody>\n",
       "</table>\n",
       "<p>4254 rows × 11 columns</p>\n",
       "</div>"
      ],
      "text/plain": [
       "      index                          doi    year  \\\n",
       "0        38         10.1002/2013gl057775  2013.0   \n",
       "1        44         10.1002/2013gl058118  2013.0   \n",
       "2        52         10.1002/2013gl058511  2013.0   \n",
       "3        54         10.1002/2013gl058653  2014.0   \n",
       "4        70         10.1002/2013jc009071  2013.0   \n",
       "...     ...                          ...     ...   \n",
       "4249  58055       10.5194/bg-7-2851-2010    2010   \n",
       "4250  58057        10.5194/bg-7-979-2010    2010   \n",
       "4251  58064      10.5194/essd-5-165-2013    2013   \n",
       "4252  58230           10.7717/peerj.2249    2016   \n",
       "4253  58235  10.7770/cuhso-v27n1-art1134    2017   \n",
       "\n",
       "                                                  title  \\\n",
       "0     {Global-scale seasonally resolved black carbon...   \n",
       "1     {Robust increase in equilibrium climate sensit...   \n",
       "2     {Modeling soil moisture–precipitation feedback...   \n",
       "3     {Optimal fingerprinting under multiple sources...   \n",
       "4     {Skill testing a three-dimensional global tide...   \n",
       "...                                                 ...   \n",
       "4249  Deep, diverse and definitely different: unique...   \n",
       "4250  Projected 21st century decrease in marine prod...   \n",
       "4251                 The global carbon budget 1959–2011   \n",
       "4252  A horizon scan of future threats and opportuni...   \n",
       "4253  Living the territoriality: Mapuche tourism and...   \n",
       "\n",
       "                                                   rors  \\\n",
       "0     [[https://ror.org/033tt8e33, US], [https://ror...   \n",
       "1     [[https://ror.org/05esem239, DE], [https://ror...   \n",
       "2     [[https://ror.org/00pggkr55, GB], [https://ror...   \n",
       "3     [[https://ror.org/05k07f122, AR], [https://ror...   \n",
       "4     [[https://ror.org/05g3dte14, US], [https://ror...   \n",
       "...                                                 ...   \n",
       "4249  [[https://ror.org/01bpa4157, ES], [https://ror...   \n",
       "4250  [[https://ror.org/02k7v4d05, CH], [https://ror...   \n",
       "4251  [[https://ror.org/040tfy969, GB], [https://ror...   \n",
       "4252  [[https://ror.org/04g2vpn86, GB], [https://ror...   \n",
       "4253                  [[https://ror.org/04h4z8k05, FR]]   \n",
       "\n",
       "                                                   ipcc  \\\n",
       "0       [{'name': 'wg1_chap_06', 'wg': '1', 'chap': 6}]   \n",
       "1       [{'name': 'wg1_chap_07', 'wg': '1', 'chap': 7}]   \n",
       "2     [{'name': 'wg1_chap_08', 'wg': '1', 'chap': 8}...   \n",
       "3       [{'name': 'wg1_chap_03', 'wg': '1', 'chap': 3}]   \n",
       "4       [{'name': 'wg1_chap_09', 'wg': '1', 'chap': 9}]   \n",
       "...                                                 ...   \n",
       "4249                                                NaN   \n",
       "4250                                                NaN   \n",
       "4251                                                NaN   \n",
       "4252                                                NaN   \n",
       "4253                                                NaN   \n",
       "\n",
       "                                           authors_name  \\\n",
       "0     [[J. P. Schwarz, [US]], [B. H. Samset, [NO]], ...   \n",
       "1     [[Katharina Meraner, [DE]], [Thorsten Mauritse...   \n",
       "2     [[Christopher M. Taylor, [GB]], [Cathryn E. Bi...   \n",
       "3     [[Alexis Hannart, [AR]], [Aurélien Ribes, [FR]...   \n",
       "4     [[Patrick G. Timko, [GB, US]], [Brian K. Arbic...   \n",
       "...                                                 ...   \n",
       "4249  [[Eva Ramirez-Llodra, [ES]], [Angelika Brandt,...   \n",
       "4250  [[Marco Steinacher, [CH]], [F. Joos, [CH]], [T...   \n",
       "4251  [[Corinne Le Quéré, [GB]], [R. J. Andres, [US]...   \n",
       "4252  [[Mark J. F. Brown, [GB]], [Lynn V. Dicks, [GB...   \n",
       "4253                           [[Dorian Rommens, [FR]]]   \n",
       "\n",
       "                                     institutions_names  \\\n",
       "0     [[NOAA Earth System Research Laboratory, US], ...   \n",
       "1     [[Max Planck Institute for Meteorology, DE], [...   \n",
       "2     [[UK Centre for Ecology & Hydrology, GB], [Uni...   \n",
       "3     [[Instituto Franco-Argentino sobre Estudios de...   \n",
       "4     [[Florida State University, US], [University o...   \n",
       "...                                                 ...   \n",
       "4249  [[Institut Català de Ciències del Clima, ES], ...   \n",
       "4250  [[University of Bern, CH], [Oeschger Centre fo...   \n",
       "4251  [[Tyndall Centre, GB], [University of East Ang...   \n",
       "4252  [[Royal Holloway University of London, GB], [C...   \n",
       "4253  [[United Nations Educational, Scientific and C...   \n",
       "\n",
       "                                              countries  \\\n",
       "0                                  [GBR, FRA, USA, NOR]   \n",
       "1                                            [DEU, FRA]   \n",
       "2                                       [GBR, SWE, FRA]   \n",
       "3                                            [ARG, FRA]   \n",
       "4                                       [GBR, FRA, USA]   \n",
       "...                                                 ...   \n",
       "4249      [GBR, FRA, ESP, ITA, DEU, CAN, USA, NOR, BEL]   \n",
       "4250                               [CHE, DEU, USA, FRA]   \n",
       "4251  [GBR, FRA, NLD, ITA, AUS, JPN, DEU, USA, NOR, ...   \n",
       "4252  [CHN, GBR, FRA, BRA, ZAF, AUS, IRL, DEU, USA, ...   \n",
       "4253                                              [FRA]   \n",
       "\n",
       "                            ipbes  \\\n",
       "0                             NaN   \n",
       "1                             NaN   \n",
       "2                             NaN   \n",
       "3                             NaN   \n",
       "4                             NaN   \n",
       "...                           ...   \n",
       "4249  [{'chapter': '2.2_nature'}]   \n",
       "4250           [{'chapter': '4'}]   \n",
       "4251           [{'chapter': '3'}]   \n",
       "4252           [{'chapter': '6'}]   \n",
       "4253           [{'chapter': '3'}]   \n",
       "\n",
       "                                                 topics  \n",
       "0     [Atmospheric Aerosols and their Impacts, Strat...  \n",
       "1     [Climate Change and Variability Research, Glob...  \n",
       "2     [Climate Change and Variability Research, Nume...  \n",
       "3     [Total Least Squares Methods and Applications,...  \n",
       "4     [Oceanic Modeling and Circulation Studies, Glo...  \n",
       "...                                                 ...  \n",
       "4249  [Marine Biodiversity and Ecosystem Functioning...  \n",
       "4250  [Marine Biogeochemistry and Ecosystem Dynamics...  \n",
       "4251  [Global Methane Emissions and Impacts, Atmosph...  \n",
       "4252  [Impact of Pesticides on Honey Bee Health, Imp...  \n",
       "4253  [Indigenous Peoples at National Margins in Lat...  \n",
       "\n",
       "[4254 rows x 11 columns]"
      ]
     },
     "execution_count": 58,
     "metadata": {},
     "output_type": "execute_result"
    }
   ],
   "source": [
    "df_elastic_input[df_elastic_input.countries.apply(lambda x: 'FRA' in x)].reset_index()#.doi.to_json('list_doi_fr.json',orient='records')"
   ]
  },
  {
   "cell_type": "code",
   "execution_count": 47,
   "metadata": {},
   "outputs": [],
   "source": [
    "dict_doi_bso=[]\n",
    "for i,row in df_elastic_input.iterrows():\n",
    "    dict_row=row.to_dict()\n",
    "    dict_row2={k:v for k,v in list(dict_row.items()) if ((str(v)!='nan')&(str(v)!='NaN')&(str(v)!='None')&(str(v)!='x'))}\n",
    "    #dict_row3=remove_too_long(dict_row2)\n",
    "    dict_doi_bso.append(dict_row2)"
   ]
  },
  {
   "cell_type": "code",
   "execution_count": 48,
   "metadata": {},
   "outputs": [],
   "source": [
    "json_lines='\\n'.join(json.dumps(entry) for entry in dict_doi_bso)\n",
    "with open('bso_ipcc_ipbes_elastic.jsonl', 'w') as f:\n",
    "      f.write(json_lines)"
   ]
  },
  {
   "cell_type": "markdown",
   "metadata": {},
   "source": [
    "fichier excel"
   ]
  },
  {
   "cell_type": "code",
   "execution_count": 2,
   "metadata": {},
   "outputs": [],
   "source": [
    "df=pd.read_json('bso_ipcc_ipbes_elastic.jsonl', lines=True)"
   ]
  },
  {
   "cell_type": "code",
   "execution_count": 3,
   "metadata": {},
   "outputs": [],
   "source": [
    "df=df[['doi','ipcc','ipbes']]"
   ]
  },
  {
   "cell_type": "code",
   "execution_count": 4,
   "metadata": {},
   "outputs": [
    {
     "data": {
      "text/html": [
       "<div>\n",
       "<style scoped>\n",
       "    .dataframe tbody tr th:only-of-type {\n",
       "        vertical-align: middle;\n",
       "    }\n",
       "\n",
       "    .dataframe tbody tr th {\n",
       "        vertical-align: top;\n",
       "    }\n",
       "\n",
       "    .dataframe thead th {\n",
       "        text-align: right;\n",
       "    }\n",
       "</style>\n",
       "<table border=\"1\" class=\"dataframe\">\n",
       "  <thead>\n",
       "    <tr style=\"text-align: right;\">\n",
       "      <th></th>\n",
       "      <th>doi</th>\n",
       "      <th>ipcc</th>\n",
       "      <th>ipbes</th>\n",
       "    </tr>\n",
       "  </thead>\n",
       "  <tbody>\n",
       "    <tr>\n",
       "      <th>0</th>\n",
       "      <td>10.1001/jama.2012.108940</td>\n",
       "      <td>[{'name': 'wg2_chap_06', 'wg': '2', 'chap': 6}]</td>\n",
       "      <td>NaN</td>\n",
       "    </tr>\n",
       "    <tr>\n",
       "      <th>1</th>\n",
       "      <td>10.1001/jama.2014.13186</td>\n",
       "      <td>[{'name': 'wg2_chap_07', 'wg': '2', 'chap': 7}]</td>\n",
       "      <td>NaN</td>\n",
       "    </tr>\n",
       "    <tr>\n",
       "      <th>2</th>\n",
       "      <td>10.1001/jama.2014.15715</td>\n",
       "      <td>[{'name': 'wg2_chap_07', 'wg': '2', 'chap': 7}]</td>\n",
       "      <td>NaN</td>\n",
       "    </tr>\n",
       "    <tr>\n",
       "      <th>3</th>\n",
       "      <td>10.1001/jama.2020.1097</td>\n",
       "      <td>[{'name': 'wg2_chap_07', 'wg': '2', 'chap': 7}]</td>\n",
       "      <td>NaN</td>\n",
       "    </tr>\n",
       "    <tr>\n",
       "      <th>4</th>\n",
       "      <td>10.1001/jama.2020.15398</td>\n",
       "      <td>[{'name': 'wg2_chap_04', 'wg': '2', 'chap': 4}...</td>\n",
       "      <td>NaN</td>\n",
       "    </tr>\n",
       "    <tr>\n",
       "      <th>...</th>\n",
       "      <td>...</td>\n",
       "      <td>...</td>\n",
       "      <td>...</td>\n",
       "    </tr>\n",
       "    <tr>\n",
       "      <th>58235</th>\n",
       "      <td>10.7770/cuhso-v27n1-art1134</td>\n",
       "      <td>NaN</td>\n",
       "      <td>[{'chapter': '3'}]</td>\n",
       "    </tr>\n",
       "    <tr>\n",
       "      <th>58236</th>\n",
       "      <td>10.7930/j0x63jt0</td>\n",
       "      <td>NaN</td>\n",
       "      <td>[{'chapter': 'ipbes-global_glossary'}]</td>\n",
       "    </tr>\n",
       "    <tr>\n",
       "      <th>58237</th>\n",
       "      <td>10.9755/ejfa.v25i1.15376</td>\n",
       "      <td>NaN</td>\n",
       "      <td>[{'chapter': '3'}]</td>\n",
       "    </tr>\n",
       "    <tr>\n",
       "      <th>58238</th>\n",
       "      <td>10.9758/cpn.2015.13.3.239</td>\n",
       "      <td>NaN</td>\n",
       "      <td>[{'chapter': '2.3_ncp'}]</td>\n",
       "    </tr>\n",
       "    <tr>\n",
       "      <th>58239</th>\n",
       "      <td>10.9783/9780812295948-002</td>\n",
       "      <td>NaN</td>\n",
       "      <td>[{'chapter': '3'}]</td>\n",
       "    </tr>\n",
       "  </tbody>\n",
       "</table>\n",
       "<p>58240 rows × 3 columns</p>\n",
       "</div>"
      ],
      "text/plain": [
       "                               doi  \\\n",
       "0         10.1001/jama.2012.108940   \n",
       "1          10.1001/jama.2014.13186   \n",
       "2          10.1001/jama.2014.15715   \n",
       "3           10.1001/jama.2020.1097   \n",
       "4          10.1001/jama.2020.15398   \n",
       "...                            ...   \n",
       "58235  10.7770/cuhso-v27n1-art1134   \n",
       "58236             10.7930/j0x63jt0   \n",
       "58237     10.9755/ejfa.v25i1.15376   \n",
       "58238    10.9758/cpn.2015.13.3.239   \n",
       "58239    10.9783/9780812295948-002   \n",
       "\n",
       "                                                    ipcc  \\\n",
       "0        [{'name': 'wg2_chap_06', 'wg': '2', 'chap': 6}]   \n",
       "1        [{'name': 'wg2_chap_07', 'wg': '2', 'chap': 7}]   \n",
       "2        [{'name': 'wg2_chap_07', 'wg': '2', 'chap': 7}]   \n",
       "3        [{'name': 'wg2_chap_07', 'wg': '2', 'chap': 7}]   \n",
       "4      [{'name': 'wg2_chap_04', 'wg': '2', 'chap': 4}...   \n",
       "...                                                  ...   \n",
       "58235                                                NaN   \n",
       "58236                                                NaN   \n",
       "58237                                                NaN   \n",
       "58238                                                NaN   \n",
       "58239                                                NaN   \n",
       "\n",
       "                                        ipbes  \n",
       "0                                         NaN  \n",
       "1                                         NaN  \n",
       "2                                         NaN  \n",
       "3                                         NaN  \n",
       "4                                         NaN  \n",
       "...                                       ...  \n",
       "58235                      [{'chapter': '3'}]  \n",
       "58236  [{'chapter': 'ipbes-global_glossary'}]  \n",
       "58237                      [{'chapter': '3'}]  \n",
       "58238                [{'chapter': '2.3_ncp'}]  \n",
       "58239                      [{'chapter': '3'}]  \n",
       "\n",
       "[58240 rows x 3 columns]"
      ]
     },
     "execution_count": 4,
     "metadata": {},
     "output_type": "execute_result"
    }
   ],
   "source": [
    "df"
   ]
  },
  {
   "cell_type": "code",
   "execution_count": 5,
   "metadata": {},
   "outputs": [
    {
     "data": {
      "text/html": [
       "<div>\n",
       "<style scoped>\n",
       "    .dataframe tbody tr th:only-of-type {\n",
       "        vertical-align: middle;\n",
       "    }\n",
       "\n",
       "    .dataframe tbody tr th {\n",
       "        vertical-align: top;\n",
       "    }\n",
       "\n",
       "    .dataframe thead th {\n",
       "        text-align: right;\n",
       "    }\n",
       "</style>\n",
       "<table border=\"1\" class=\"dataframe\">\n",
       "  <thead>\n",
       "    <tr style=\"text-align: right;\">\n",
       "      <th></th>\n",
       "      <th>doi</th>\n",
       "      <th>ipcc</th>\n",
       "      <th>ipbes</th>\n",
       "    </tr>\n",
       "  </thead>\n",
       "  <tbody>\n",
       "    <tr>\n",
       "      <th>137</th>\n",
       "      <td>10.1002/2014ef000238</td>\n",
       "      <td>[{'name': 'wg3_chap_03', 'wg': '3', 'chap': 3}]</td>\n",
       "      <td>[{'chapter': '5'}]</td>\n",
       "    </tr>\n",
       "    <tr>\n",
       "      <th>153</th>\n",
       "      <td>10.1002/2014gb004949</td>\n",
       "      <td>[{'name': 'wg1_chap_07', 'wg': '1', 'chap': 7}...</td>\n",
       "      <td>[{'chapter': '4'}]</td>\n",
       "    </tr>\n",
       "    <tr>\n",
       "      <th>154</th>\n",
       "      <td>10.1002/2014gb004995</td>\n",
       "      <td>[{'name': 'wg1_chap_05', 'wg': '1', 'chap': 5}...</td>\n",
       "      <td>[{'chapter': '4'}]</td>\n",
       "    </tr>\n",
       "    <tr>\n",
       "      <th>189</th>\n",
       "      <td>10.1002/2014gl060382</td>\n",
       "      <td>[{'name': 'wg1_chap_08', 'wg': '1', 'chap': 8}]</td>\n",
       "      <td>[{'chapter': '4'}]</td>\n",
       "    </tr>\n",
       "    <tr>\n",
       "      <th>635</th>\n",
       "      <td>10.1002/2015jg003036</td>\n",
       "      <td>[{'name': 'wg2_chap_13', 'wg': '2', 'chap': 13...</td>\n",
       "      <td>[{'chapter': '4'}]</td>\n",
       "    </tr>\n",
       "    <tr>\n",
       "      <th>...</th>\n",
       "      <td>...</td>\n",
       "      <td>...</td>\n",
       "      <td>...</td>\n",
       "    </tr>\n",
       "    <tr>\n",
       "      <th>52846</th>\n",
       "      <td>10.5751/es-08388-210247</td>\n",
       "      <td>[{'name': 'wg2_chap_18', 'wg': '2', 'chap': 18}]</td>\n",
       "      <td>[{'chapter': '4'}, {'chapter': '5'}]</td>\n",
       "    </tr>\n",
       "    <tr>\n",
       "      <th>52851</th>\n",
       "      <td>10.5751/es-08685-210404</td>\n",
       "      <td>[{'name': 'wg2_chap_17', 'wg': '2', 'chap': 17}]</td>\n",
       "      <td>[{'chapter': '5'}]</td>\n",
       "    </tr>\n",
       "    <tr>\n",
       "      <th>52857</th>\n",
       "      <td>10.5751/es-08804-210409</td>\n",
       "      <td>[{'name': 'wg2_chap_04', 'wg': '2', 'chap': 4}...</td>\n",
       "      <td>[{'chapter': '2.3_ncp'}, {'chapter': '3'}]</td>\n",
       "    </tr>\n",
       "    <tr>\n",
       "      <th>53076</th>\n",
       "      <td>10.7208/chicago/9780226145006.001.0001</td>\n",
       "      <td>[{'name': 'wg2_chap_02', 'wg': '2', 'chap': 2}]</td>\n",
       "      <td>[{'chapter': '1'}, {'chapter': '2.1_drivers'},...</td>\n",
       "    </tr>\n",
       "    <tr>\n",
       "      <th>53127</th>\n",
       "      <td>10.7554/elife.00590</td>\n",
       "      <td>[{'name': 'wg2_chap_03', 'wg': '2', 'chap': 3}]</td>\n",
       "      <td>[{'chapter': '2.2_nature'}]</td>\n",
       "    </tr>\n",
       "  </tbody>\n",
       "</table>\n",
       "<p>1124 rows × 3 columns</p>\n",
       "</div>"
      ],
      "text/plain": [
       "                                          doi  \\\n",
       "137                      10.1002/2014ef000238   \n",
       "153                      10.1002/2014gb004949   \n",
       "154                      10.1002/2014gb004995   \n",
       "189                      10.1002/2014gl060382   \n",
       "635                      10.1002/2015jg003036   \n",
       "...                                       ...   \n",
       "52846                 10.5751/es-08388-210247   \n",
       "52851                 10.5751/es-08685-210404   \n",
       "52857                 10.5751/es-08804-210409   \n",
       "53076  10.7208/chicago/9780226145006.001.0001   \n",
       "53127                     10.7554/elife.00590   \n",
       "\n",
       "                                                    ipcc  \\\n",
       "137      [{'name': 'wg3_chap_03', 'wg': '3', 'chap': 3}]   \n",
       "153    [{'name': 'wg1_chap_07', 'wg': '1', 'chap': 7}...   \n",
       "154    [{'name': 'wg1_chap_05', 'wg': '1', 'chap': 5}...   \n",
       "189      [{'name': 'wg1_chap_08', 'wg': '1', 'chap': 8}]   \n",
       "635    [{'name': 'wg2_chap_13', 'wg': '2', 'chap': 13...   \n",
       "...                                                  ...   \n",
       "52846   [{'name': 'wg2_chap_18', 'wg': '2', 'chap': 18}]   \n",
       "52851   [{'name': 'wg2_chap_17', 'wg': '2', 'chap': 17}]   \n",
       "52857  [{'name': 'wg2_chap_04', 'wg': '2', 'chap': 4}...   \n",
       "53076    [{'name': 'wg2_chap_02', 'wg': '2', 'chap': 2}]   \n",
       "53127    [{'name': 'wg2_chap_03', 'wg': '2', 'chap': 3}]   \n",
       "\n",
       "                                                   ipbes  \n",
       "137                                   [{'chapter': '5'}]  \n",
       "153                                   [{'chapter': '4'}]  \n",
       "154                                   [{'chapter': '4'}]  \n",
       "189                                   [{'chapter': '4'}]  \n",
       "635                                   [{'chapter': '4'}]  \n",
       "...                                                  ...  \n",
       "52846               [{'chapter': '4'}, {'chapter': '5'}]  \n",
       "52851                                 [{'chapter': '5'}]  \n",
       "52857         [{'chapter': '2.3_ncp'}, {'chapter': '3'}]  \n",
       "53076  [{'chapter': '1'}, {'chapter': '2.1_drivers'},...  \n",
       "53127                        [{'chapter': '2.2_nature'}]  \n",
       "\n",
       "[1124 rows x 3 columns]"
      ]
     },
     "execution_count": 5,
     "metadata": {},
     "output_type": "execute_result"
    }
   ],
   "source": [
    "df[(pd.isna(df.ipcc)==False)&(pd.isna(df.ipbes)==False)]"
   ]
  },
  {
   "cell_type": "code",
   "execution_count": null,
   "metadata": {},
   "outputs": [],
   "source": [
    "df.loc[:,'ipbes']=df.loc[:,'ipbes'].apply(lambda x: [y['chapter'] for y in x] if isinstance(x, list) else None)"
   ]
  },
  {
   "cell_type": "code",
   "execution_count": null,
   "metadata": {},
   "outputs": [],
   "source": [
    "df.loc[:,'ipcc']=df.loc[:,'ipcc'].apply(lambda x: [y['name'] for y in x] if isinstance(x, list) else None)"
   ]
  },
  {
   "cell_type": "code",
   "execution_count": 8,
   "metadata": {},
   "outputs": [
    {
     "data": {
      "text/html": [
       "<div>\n",
       "<style scoped>\n",
       "    .dataframe tbody tr th:only-of-type {\n",
       "        vertical-align: middle;\n",
       "    }\n",
       "\n",
       "    .dataframe tbody tr th {\n",
       "        vertical-align: top;\n",
       "    }\n",
       "\n",
       "    .dataframe thead th {\n",
       "        text-align: right;\n",
       "    }\n",
       "</style>\n",
       "<table border=\"1\" class=\"dataframe\">\n",
       "  <thead>\n",
       "    <tr style=\"text-align: right;\">\n",
       "      <th></th>\n",
       "      <th>doi</th>\n",
       "      <th>ipcc</th>\n",
       "      <th>ipbes</th>\n",
       "    </tr>\n",
       "  </thead>\n",
       "  <tbody>\n",
       "    <tr>\n",
       "      <th>0</th>\n",
       "      <td>10.1001/jama.2012.108940</td>\n",
       "      <td>[wg2_chap_06]</td>\n",
       "      <td>[]</td>\n",
       "    </tr>\n",
       "    <tr>\n",
       "      <th>1</th>\n",
       "      <td>10.1001/jama.2014.13186</td>\n",
       "      <td>[wg2_chap_07]</td>\n",
       "      <td>[]</td>\n",
       "    </tr>\n",
       "    <tr>\n",
       "      <th>2</th>\n",
       "      <td>10.1001/jama.2014.15715</td>\n",
       "      <td>[wg2_chap_07]</td>\n",
       "      <td>[]</td>\n",
       "    </tr>\n",
       "    <tr>\n",
       "      <th>3</th>\n",
       "      <td>10.1001/jama.2020.1097</td>\n",
       "      <td>[wg2_chap_07]</td>\n",
       "      <td>[]</td>\n",
       "    </tr>\n",
       "    <tr>\n",
       "      <th>4</th>\n",
       "      <td>10.1001/jama.2020.15398</td>\n",
       "      <td>[wg2_chap_04, wg2_chap_07, wg2_cross_chap_2]</td>\n",
       "      <td>[]</td>\n",
       "    </tr>\n",
       "    <tr>\n",
       "      <th>...</th>\n",
       "      <td>...</td>\n",
       "      <td>...</td>\n",
       "      <td>...</td>\n",
       "    </tr>\n",
       "    <tr>\n",
       "      <th>58235</th>\n",
       "      <td>10.7770/cuhso-v27n1-art1134</td>\n",
       "      <td>[]</td>\n",
       "      <td>[3]</td>\n",
       "    </tr>\n",
       "    <tr>\n",
       "      <th>58236</th>\n",
       "      <td>10.7930/j0x63jt0</td>\n",
       "      <td>[]</td>\n",
       "      <td>[ipbes-global_glossary]</td>\n",
       "    </tr>\n",
       "    <tr>\n",
       "      <th>58237</th>\n",
       "      <td>10.9755/ejfa.v25i1.15376</td>\n",
       "      <td>[]</td>\n",
       "      <td>[3]</td>\n",
       "    </tr>\n",
       "    <tr>\n",
       "      <th>58238</th>\n",
       "      <td>10.9758/cpn.2015.13.3.239</td>\n",
       "      <td>[]</td>\n",
       "      <td>[2.3_ncp]</td>\n",
       "    </tr>\n",
       "    <tr>\n",
       "      <th>58239</th>\n",
       "      <td>10.9783/9780812295948-002</td>\n",
       "      <td>[]</td>\n",
       "      <td>[3]</td>\n",
       "    </tr>\n",
       "  </tbody>\n",
       "</table>\n",
       "<p>58240 rows × 3 columns</p>\n",
       "</div>"
      ],
      "text/plain": [
       "                               doi  \\\n",
       "0         10.1001/jama.2012.108940   \n",
       "1          10.1001/jama.2014.13186   \n",
       "2          10.1001/jama.2014.15715   \n",
       "3           10.1001/jama.2020.1097   \n",
       "4          10.1001/jama.2020.15398   \n",
       "...                            ...   \n",
       "58235  10.7770/cuhso-v27n1-art1134   \n",
       "58236             10.7930/j0x63jt0   \n",
       "58237     10.9755/ejfa.v25i1.15376   \n",
       "58238    10.9758/cpn.2015.13.3.239   \n",
       "58239    10.9783/9780812295948-002   \n",
       "\n",
       "                                               ipcc                    ipbes  \n",
       "0                                     [wg2_chap_06]                       []  \n",
       "1                                     [wg2_chap_07]                       []  \n",
       "2                                     [wg2_chap_07]                       []  \n",
       "3                                     [wg2_chap_07]                       []  \n",
       "4      [wg2_chap_04, wg2_chap_07, wg2_cross_chap_2]                       []  \n",
       "...                                             ...                      ...  \n",
       "58235                                            []                      [3]  \n",
       "58236                                            []  [ipbes-global_glossary]  \n",
       "58237                                            []                      [3]  \n",
       "58238                                            []                [2.3_ncp]  \n",
       "58239                                            []                      [3]  \n",
       "\n",
       "[58240 rows x 3 columns]"
      ]
     },
     "execution_count": 8,
     "metadata": {},
     "output_type": "execute_result"
    }
   ],
   "source": [
    "df.drop_duplicates('doi')"
   ]
  },
  {
   "cell_type": "code",
   "execution_count": 9,
   "metadata": {},
   "outputs": [],
   "source": [
    "df.to_json('ipcc_ipbes_chapters.jsonl', orient= 'records', lines=True)"
   ]
  },
  {
   "cell_type": "code",
   "execution_count": null,
   "metadata": {},
   "outputs": [],
   "source": [
    "df.loc[:,'rors']=df.loc[:,'rors'].apply(lambda x: [[]] if x==[None] else x)\n",
    "df.loc[:,'authors_name']=df.loc[:,'authors_name'].apply(lambda x: [[]] if x==[None] else x)\n",
    "df.loc[:,'institutions_names']=df.loc[:,'institutions_names'].apply(lambda x: [[]] if x==[None] else x)"
   ]
  },
  {
   "cell_type": "code",
   "execution_count": null,
   "metadata": {},
   "outputs": [],
   "source": [
    "df.loc[pd.isna(df['rors'])==False,'rors']=df.loc[pd.isna(df['rors'])==False,'rors'].apply(lambda x: ','.join([j.replace('https://ror.org/','') for j in list(pd.Series(aplatir([list(y[i].keys()) for y in x for i in range(len(y))])).drop_duplicates())]))"
   ]
  },
  {
   "cell_type": "code",
   "execution_count": null,
   "metadata": {},
   "outputs": [],
   "source": [
    "df.loc[pd.isna(df['institutions_names'])==False,'institutions_names']=df.loc[pd.isna(df['institutions_names'])==False,'institutions_names'].apply(lambda x: ','.join(list(pd.Series(aplatir([list(y[i].keys()) for y in x for i in range(len(y))])).drop_duplicates())))"
   ]
  },
  {
   "cell_type": "code",
   "execution_count": null,
   "metadata": {},
   "outputs": [],
   "source": [
    "df.loc[pd.isna(df['authors_name'])==False,'authors_name']=df.loc[pd.isna(df['authors_name'])==False,'authors_name'].apply(lambda x: ','.join(list(pd.Series(aplatir([list(y.keys()) for y in x if isinstance(y,dict)])).drop_duplicates())))"
   ]
  },
  {
   "cell_type": "code",
   "execution_count": null,
   "metadata": {},
   "outputs": [],
   "source": [
    "df.loc[pd.isna(df['ipcc'])==False,'ipcc']=df.loc[pd.isna(df['ipcc'])==False,'ipcc'].apply(lambda x: ','.join(list((pd.Series([y.get('name') for y in x]).drop_duplicates()))))"
   ]
  },
  {
   "cell_type": "code",
   "execution_count": null,
   "metadata": {},
   "outputs": [],
   "source": [
    "df.loc[pd.isna(df['ipbes'])==False,'ipbes']=df.loc[pd.isna(df['ipbes'])==False,'ipbes'].apply(lambda x: ','.join(list((pd.Series([y.get('chapter') for y in x]).drop_duplicates()))))"
   ]
  },
  {
   "cell_type": "code",
   "execution_count": null,
   "metadata": {},
   "outputs": [],
   "source": [
    "df['is_fr']=df['countries'].apply(lambda x: 'France' in x if isinstance(x,list) else False)"
   ]
  },
  {
   "cell_type": "code",
   "execution_count": null,
   "metadata": {},
   "outputs": [],
   "source": [
    "df.loc[pd.isna(df['countries'])==False,'countries']=df.loc[pd.isna(df['countries'])==False,'countries'].apply(lambda x: ','.join(x))"
   ]
  },
  {
   "cell_type": "code",
   "execution_count": null,
   "metadata": {},
   "outputs": [],
   "source": [
    "df[['doi','title','ipcc','ipbes','countries','is_fr','rors','institutions_names','authors_name']].to_excel('doi_ipcc_ipbes.xlsx', index=False)"
   ]
  }
 ],
 "metadata": {
  "kernelspec": {
   "display_name": "Python 3",
   "language": "python",
   "name": "python3"
  },
  "language_info": {
   "codemirror_mode": {
    "name": "ipython",
    "version": 3
   },
   "file_extension": ".py",
   "mimetype": "text/x-python",
   "name": "python",
   "nbconvert_exporter": "python",
   "pygments_lexer": "ipython3",
   "version": "3.9.10"
  }
 },
 "nbformat": 4,
 "nbformat_minor": 2
}
