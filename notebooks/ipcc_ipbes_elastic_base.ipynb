{
 "cells": [
  {
   "cell_type": "code",
   "execution_count": null,
   "metadata": {},
   "outputs": [],
   "source": [
    "import os\n",
    "import sys\n",
    "import pandas as pd\n",
    "import matplotlib.pyplot as plt\n",
    "import json \n",
    "from dotenv import load_dotenv\n",
    "load_dotenv()\n",
    "import requests\n",
    "from urllib import parse\n",
    "\n",
    "\n",
    "module_path = os.path.abspath(os.path.join('..'))\n",
    "if module_path not in sys.path:\n",
    "    sys.path.append(module_path)\n",
    "\n",
    "from code_utils.utils import type_score,get_year_ipcc,get_year_ipbes,get_xy,check_doi_glutton,normalize,aplatir,remove_too_long\n",
    "from code_utils.BSO import update_bso_publications,get_bso_publications\n",
    "from code_utils.pickle import load_cache"
   ]
  },
  {
   "cell_type": "code",
   "execution_count": 2,
   "metadata": {},
   "outputs": [],
   "source": [
    "df_ipcc=pd.read_json(module_path+'\\\\IPCC_bibliography\\\\AR6\\\\structured_data\\\\data_ipcc_visualization.json')\n",
    "ipcc_chap=pd.read_json(module_path+'\\\\IPCC_bibliography\\\\AR6\\\\structured_data\\\\ipcc_chap.jsonl', lines=True)"
   ]
  },
  {
   "cell_type": "code",
   "execution_count": 3,
   "metadata": {},
   "outputs": [
    {
     "data": {
      "text/html": [
       "<div>\n",
       "<style scoped>\n",
       "    .dataframe tbody tr th:only-of-type {\n",
       "        vertical-align: middle;\n",
       "    }\n",
       "\n",
       "    .dataframe tbody tr th {\n",
       "        vertical-align: top;\n",
       "    }\n",
       "\n",
       "    .dataframe thead th {\n",
       "        text-align: right;\n",
       "    }\n",
       "</style>\n",
       "<table border=\"1\" class=\"dataframe\">\n",
       "  <thead>\n",
       "    <tr style=\"text-align: right;\">\n",
       "      <th></th>\n",
       "      <th>year</th>\n",
       "      <th>url</th>\n",
       "      <th>doi</th>\n",
       "      <th>title</th>\n",
       "      <th>author</th>\n",
       "      <th>freq</th>\n",
       "      <th>countries</th>\n",
       "      <th>concepts</th>\n",
       "      <th>sdg</th>\n",
       "      <th>topics</th>\n",
       "      <th>...</th>\n",
       "      <th>title_OA</th>\n",
       "      <th>year_OA</th>\n",
       "      <th>authors_name</th>\n",
       "      <th>rors</th>\n",
       "      <th>institutions_names</th>\n",
       "      <th>locations_names</th>\n",
       "      <th>locations_ids</th>\n",
       "      <th>type</th>\n",
       "      <th>type_crossref</th>\n",
       "      <th>test_glutton</th>\n",
       "    </tr>\n",
       "  </thead>\n",
       "  <tbody>\n",
       "    <tr>\n",
       "      <th>0</th>\n",
       "      <td>2019</td>\n",
       "      <td>https://www.frontiersin.org/research-topics/82...</td>\n",
       "      <td>10.3389/978-2-88963-118-6</td>\n",
       "      <td>{OceanObs'19: An Ocean of Opportunity. Volume 1}</td>\n",
       "      <td>None</td>\n",
       "      <td>1</td>\n",
       "      <td>[None]</td>\n",
       "      <td>[Volume (thermodynamics), Oceanography, Enviro...</td>\n",
       "      <td>[{'id': '14', 'name': 'Life below water'}]</td>\n",
       "      <td>[Marine Biology and Ecology Research]</td>\n",
       "      <td>...</td>\n",
       "      <td>Oceanobs'19: An Ocean of Opportunity. Volume I</td>\n",
       "      <td>2020</td>\n",
       "      <td>[None]</td>\n",
       "      <td>[None]</td>\n",
       "      <td>[None]</td>\n",
       "      <td>Frontiers research topics</td>\n",
       "      <td>1664-8714</td>\n",
       "      <td>book</td>\n",
       "      <td>book</td>\n",
       "      <td>True</td>\n",
       "    </tr>\n",
       "    <tr>\n",
       "      <th>1</th>\n",
       "      <td>2000</td>\n",
       "      <td>None</td>\n",
       "      <td>10.1007/978-94-015-9612-1</td>\n",
       "      <td>{Eduard Br{\\\"{u}}ckner – The Sources and Conse...</td>\n",
       "      <td>None</td>\n",
       "      <td>1</td>\n",
       "      <td>[CA, UA]</td>\n",
       "      <td>[Geographer, Climate change, Politics, Climato...</td>\n",
       "      <td>[{'id': '13', 'name': 'Climate action'}]</td>\n",
       "      <td>[Geology and Paleoclimatology Research, Climat...</td>\n",
       "      <td>...</td>\n",
       "      <td>Eduard Brückner — The Sources and Consequences...</td>\n",
       "      <td>2000</td>\n",
       "      <td>[[Nico Stehr, [CA]], [Hans von Storch, [UA]]]</td>\n",
       "      <td>[[https://ror.org/03rmrcq20, CA], [https://ror...</td>\n",
       "      <td>[[University of British Columbia, CA], [Instit...</td>\n",
       "      <td>None</td>\n",
       "      <td>None</td>\n",
       "      <td>book</td>\n",
       "      <td>book</td>\n",
       "      <td>True</td>\n",
       "    </tr>\n",
       "    <tr>\n",
       "      <th>2</th>\n",
       "      <td>1900</td>\n",
       "      <td>None</td>\n",
       "      <td>10.1002/andp.19003081208</td>\n",
       "      <td>{{\\\"{U}}ber die Bedeutung des Wasserdampfes un...</td>\n",
       "      <td>{\\AA}ngstr{\\\"{o}}m, Knut</td>\n",
       "      <td>1</td>\n",
       "      <td>[US]</td>\n",
       "      <td>[Physics, Humanities, Angstrom, Crystallograph...</td>\n",
       "      <td>None</td>\n",
       "      <td>[Atmospheric Ozone and Climate, Atmospheric ch...</td>\n",
       "      <td>...</td>\n",
       "      <td>Ueber die Bedeutung des Wasserdampfes und der ...</td>\n",
       "      <td>1900</td>\n",
       "      <td>[[Knut Ångström, [US]]]</td>\n",
       "      <td>[[https://ror.org/03wbhj477, US]]</td>\n",
       "      <td>[[Upsala College, US]]</td>\n",
       "      <td>Annalen der Physik</td>\n",
       "      <td>0003-3804</td>\n",
       "      <td>article</td>\n",
       "      <td>journal-article</td>\n",
       "      <td>True</td>\n",
       "    </tr>\n",
       "    <tr>\n",
       "      <th>3</th>\n",
       "      <td>1964</td>\n",
       "      <td>https://www.tandfonline.com/doi/full/10.3402/t...</td>\n",
       "      <td>10.3402/tellusa.v16i1.8885</td>\n",
       "      <td>{The parameters of atmospheric turbidity}</td>\n",
       "      <td>{\\AA}ngstr{\\\"{o}}m, Anders</td>\n",
       "      <td>1</td>\n",
       "      <td>[US]</td>\n",
       "      <td>[Turbidity, Environmental science, Meteorology...</td>\n",
       "      <td>None</td>\n",
       "      <td>[Ocean Waves and Remote Sensing]</td>\n",
       "      <td>...</td>\n",
       "      <td>The parameters of atmospheric turbidity</td>\n",
       "      <td>1964</td>\n",
       "      <td>[[Anders Ångström, [US]]]</td>\n",
       "      <td>[[https://ror.org/03a8x4b06, US]]</td>\n",
       "      <td>[[Eppley Foundation for Research, US]]</td>\n",
       "      <td>Tellus A Dynamic Meteorology and Oceanography</td>\n",
       "      <td>0280-6495</td>\n",
       "      <td>article</td>\n",
       "      <td>journal-article</td>\n",
       "      <td>True</td>\n",
       "    </tr>\n",
       "    <tr>\n",
       "      <th>4</th>\n",
       "      <td>1929</td>\n",
       "      <td>https://www.tandfonline.com/doi/full/10.1080/2...</td>\n",
       "      <td>10.1080/20014422.1929.11880498</td>\n",
       "      <td>{On the Atmospheric Transmission of Sun Radiat...</td>\n",
       "      <td>{\\AA}ngstr{\\\"{o}}m, Anders</td>\n",
       "      <td>1</td>\n",
       "      <td>[None]</td>\n",
       "      <td>[Atmospheric dust, Radiation, Transmission (te...</td>\n",
       "      <td>[{'id': '14', 'name': 'Life below water'}]</td>\n",
       "      <td>[Atmospheric aerosols and clouds]</td>\n",
       "      <td>...</td>\n",
       "      <td>On the Atmospheric Transmission of Sun Radiati...</td>\n",
       "      <td>1929</td>\n",
       "      <td>[[Anders Ångström, []]]</td>\n",
       "      <td>[]</td>\n",
       "      <td>[]</td>\n",
       "      <td>Geografiska Annaler</td>\n",
       "      <td>1651-3215</td>\n",
       "      <td>article</td>\n",
       "      <td>journal-article</td>\n",
       "      <td>True</td>\n",
       "    </tr>\n",
       "    <tr>\n",
       "      <th>...</th>\n",
       "      <td>...</td>\n",
       "      <td>...</td>\n",
       "      <td>...</td>\n",
       "      <td>...</td>\n",
       "      <td>...</td>\n",
       "      <td>...</td>\n",
       "      <td>...</td>\n",
       "      <td>...</td>\n",
       "      <td>...</td>\n",
       "      <td>...</td>\n",
       "      <td>...</td>\n",
       "      <td>...</td>\n",
       "      <td>...</td>\n",
       "      <td>...</td>\n",
       "      <td>...</td>\n",
       "      <td>...</td>\n",
       "      <td>...</td>\n",
       "      <td>...</td>\n",
       "      <td>...</td>\n",
       "      <td>...</td>\n",
       "      <td>...</td>\n",
       "    </tr>\n",
       "    <tr>\n",
       "      <th>72829</th>\n",
       "      <td>2018</td>\n",
       "      <td>https://doi.org/10.1016%2Fj.apenergy.2017.07.036</td>\n",
       "      <td>10.1016/j.apenergy.2017.07.036</td>\n",
       "      <td>The water-food-energy nexus optimization appro...</td>\n",
       "      <td>Jie Zhang and Pietro Elia Campana and Tian Yao...</td>\n",
       "      <td>1</td>\n",
       "      <td>[SE, US]</td>\n",
       "      <td>[Nexus (standard), Agriculture, Yield (enginee...</td>\n",
       "      <td>None</td>\n",
       "      <td>[Water-Energy-Food Nexus Studies, Water resour...</td>\n",
       "      <td>...</td>\n",
       "      <td>The water-food-energy nexus optimization appro...</td>\n",
       "      <td>2017</td>\n",
       "      <td>[[Jie Zhang, [US]], [Pietro Elia Campana, [SE]...</td>\n",
       "      <td>[[https://ror.org/047s2c258, US], [https://ror...</td>\n",
       "      <td>[[University of Maryland, College Park, US], [...</td>\n",
       "      <td>Applied Energy</td>\n",
       "      <td>0306-2619</td>\n",
       "      <td>article</td>\n",
       "      <td>journal-article</td>\n",
       "      <td>True</td>\n",
       "    </tr>\n",
       "    <tr>\n",
       "      <th>72830</th>\n",
       "      <td>2019</td>\n",
       "      <td>https://doi.org/10.1029%2F2019rg000644</td>\n",
       "      <td>10.1029/2019rg000644</td>\n",
       "      <td>A Review of the Role of the Atlantic Meridiona...</td>\n",
       "      <td>Rong Zhang and Rowan Sutton and Gokhan Danabas...</td>\n",
       "      <td>1</td>\n",
       "      <td>[GB, US]</td>\n",
       "      <td>[Atlantic multidecadal oscillation, Climatolog...</td>\n",
       "      <td>[{'id': '13', 'name': 'Climate action'}]</td>\n",
       "      <td>[Climate variability and models, Tropical and ...</td>\n",
       "      <td>...</td>\n",
       "      <td>A Review of the Role of the Atlantic Meridiona...</td>\n",
       "      <td>2019</td>\n",
       "      <td>[[Rong Zhang, [US]], [Rowan Sutton, [GB]], [Gö...</td>\n",
       "      <td>[[https://ror.org/03vmn1898, US], [https://ror...</td>\n",
       "      <td>[[NOAA Geophysical Fluid Dynamics Laboratory, ...</td>\n",
       "      <td>Reviews of Geophysics</td>\n",
       "      <td>1944-9208</td>\n",
       "      <td>review</td>\n",
       "      <td>journal-article</td>\n",
       "      <td>True</td>\n",
       "    </tr>\n",
       "    <tr>\n",
       "      <th>72831</th>\n",
       "      <td>2013</td>\n",
       "      <td>https://doi.org/10.1016%2Fj.enpol.2013.08.092</td>\n",
       "      <td>10.1016/j.enpol.2013.08.092</td>\n",
       "      <td>To what extent does wind power deployment affe...</td>\n",
       "      <td>Xiaoli Zhao and Sufang Zhang and Yasheng Zou a...</td>\n",
       "      <td>1</td>\n",
       "      <td>[CN]</td>\n",
       "      <td>[Software deployment, Revenue, Renewable energ...</td>\n",
       "      <td>[{'id': '7', 'name': 'Affordable and clean ene...</td>\n",
       "      <td>[Social Acceptance of Renewable Energy, Integr...</td>\n",
       "      <td>...</td>\n",
       "      <td>To what extent does wind power deployment affe...</td>\n",
       "      <td>2013</td>\n",
       "      <td>[[Xiaoli Zhao, [CN]], [Sufang Zhang, [CN]], [Y...</td>\n",
       "      <td>[[https://ror.org/04qr5t414, CN], [https://ror...</td>\n",
       "      <td>[[North China Electric Power University, CN], ...</td>\n",
       "      <td>Energy Policy</td>\n",
       "      <td>0301-4215</td>\n",
       "      <td>article</td>\n",
       "      <td>journal-article</td>\n",
       "      <td>True</td>\n",
       "    </tr>\n",
       "    <tr>\n",
       "      <th>72832</th>\n",
       "      <td>2019</td>\n",
       "      <td>https://doi.org/10.1038%2Fs41558-019-0519-4</td>\n",
       "      <td>10.1038/s41558-019-0519-4</td>\n",
       "      <td>Tackling climate change to accelerate sustaina...</td>\n",
       "      <td>Liu Zhenmin and Patricia Espinosa</td>\n",
       "      <td>1</td>\n",
       "      <td>[US, DE]</td>\n",
       "      <td>[Climate change, Sustainable development, Busi...</td>\n",
       "      <td>[{'id': '13', 'name': 'Climate action'}]</td>\n",
       "      <td>[Sustainable Development and Environmental Pol...</td>\n",
       "      <td>...</td>\n",
       "      <td>Tackling climate change to accelerate sustaina...</td>\n",
       "      <td>2019</td>\n",
       "      <td>[[Liu Zhen-min, [US]], [Patricia Rodríguez Esp...</td>\n",
       "      <td>[[https://ror.org/050bms902, US], [https://ror...</td>\n",
       "      <td>[[United Nations Department of Economic and So...</td>\n",
       "      <td>Nature Climate Change</td>\n",
       "      <td>1758-678X</td>\n",
       "      <td>article</td>\n",
       "      <td>journal-article</td>\n",
       "      <td>True</td>\n",
       "    </tr>\n",
       "    <tr>\n",
       "      <th>72833</th>\n",
       "      <td>2012</td>\n",
       "      <td>https://doi.org/10.4324%2F9780203153833</td>\n",
       "      <td>10.4324/9780203153833</td>\n",
       "      <td>Low Carbon Transport in Asia</td>\n",
       "      <td>None</td>\n",
       "      <td>1</td>\n",
       "      <td>[TH]</td>\n",
       "      <td>[Carbon fibers, Environmental science, Materia...</td>\n",
       "      <td>[{'id': '13', 'name': 'Climate action'}]</td>\n",
       "      <td>[Energy, Environment, and Transportation Polic...</td>\n",
       "      <td>...</td>\n",
       "      <td>Low Carbon Transport in Asia</td>\n",
       "      <td>2012</td>\n",
       "      <td>[[Eric Zusman, []], [Ancha Srinivasan, [TH]], ...</td>\n",
       "      <td>[[https://ror.org/0403qcr87, TH]]</td>\n",
       "      <td>[[Asian Institute of Technology, TH]]</td>\n",
       "      <td>None</td>\n",
       "      <td>None</td>\n",
       "      <td>book</td>\n",
       "      <td>book</td>\n",
       "      <td>True</td>\n",
       "    </tr>\n",
       "  </tbody>\n",
       "</table>\n",
       "<p>72834 rows × 21 columns</p>\n",
       "</div>"
      ],
      "text/plain": [
       "       year                                                url  \\\n",
       "0      2019  https://www.frontiersin.org/research-topics/82...   \n",
       "1      2000                                               None   \n",
       "2      1900                                               None   \n",
       "3      1964  https://www.tandfonline.com/doi/full/10.3402/t...   \n",
       "4      1929  https://www.tandfonline.com/doi/full/10.1080/2...   \n",
       "...     ...                                                ...   \n",
       "72829  2018   https://doi.org/10.1016%2Fj.apenergy.2017.07.036   \n",
       "72830  2019             https://doi.org/10.1029%2F2019rg000644   \n",
       "72831  2013      https://doi.org/10.1016%2Fj.enpol.2013.08.092   \n",
       "72832  2019        https://doi.org/10.1038%2Fs41558-019-0519-4   \n",
       "72833  2012            https://doi.org/10.4324%2F9780203153833   \n",
       "\n",
       "                                  doi  \\\n",
       "0           10.3389/978-2-88963-118-6   \n",
       "1           10.1007/978-94-015-9612-1   \n",
       "2            10.1002/andp.19003081208   \n",
       "3          10.3402/tellusa.v16i1.8885   \n",
       "4      10.1080/20014422.1929.11880498   \n",
       "...                               ...   \n",
       "72829  10.1016/j.apenergy.2017.07.036   \n",
       "72830            10.1029/2019rg000644   \n",
       "72831     10.1016/j.enpol.2013.08.092   \n",
       "72832       10.1038/s41558-019-0519-4   \n",
       "72833           10.4324/9780203153833   \n",
       "\n",
       "                                                   title  \\\n",
       "0       {OceanObs'19: An Ocean of Opportunity. Volume 1}   \n",
       "1      {Eduard Br{\\\"{u}}ckner – The Sources and Conse...   \n",
       "2      {{\\\"{U}}ber die Bedeutung des Wasserdampfes un...   \n",
       "3              {The parameters of atmospheric turbidity}   \n",
       "4      {On the Atmospheric Transmission of Sun Radiat...   \n",
       "...                                                  ...   \n",
       "72829  The water-food-energy nexus optimization appro...   \n",
       "72830  A Review of the Role of the Atlantic Meridiona...   \n",
       "72831  To what extent does wind power deployment affe...   \n",
       "72832  Tackling climate change to accelerate sustaina...   \n",
       "72833                       Low Carbon Transport in Asia   \n",
       "\n",
       "                                                  author  freq countries  \\\n",
       "0                                                   None     1    [None]   \n",
       "1                                                   None     1  [CA, UA]   \n",
       "2                               {\\AA}ngstr{\\\"{o}}m, Knut     1      [US]   \n",
       "3                             {\\AA}ngstr{\\\"{o}}m, Anders     1      [US]   \n",
       "4                             {\\AA}ngstr{\\\"{o}}m, Anders     1    [None]   \n",
       "...                                                  ...   ...       ...   \n",
       "72829  Jie Zhang and Pietro Elia Campana and Tian Yao...     1  [SE, US]   \n",
       "72830  Rong Zhang and Rowan Sutton and Gokhan Danabas...     1  [GB, US]   \n",
       "72831  Xiaoli Zhao and Sufang Zhang and Yasheng Zou a...     1      [CN]   \n",
       "72832                  Liu Zhenmin and Patricia Espinosa     1  [US, DE]   \n",
       "72833                                               None     1      [TH]   \n",
       "\n",
       "                                                concepts  \\\n",
       "0      [Volume (thermodynamics), Oceanography, Enviro...   \n",
       "1      [Geographer, Climate change, Politics, Climato...   \n",
       "2      [Physics, Humanities, Angstrom, Crystallograph...   \n",
       "3      [Turbidity, Environmental science, Meteorology...   \n",
       "4      [Atmospheric dust, Radiation, Transmission (te...   \n",
       "...                                                  ...   \n",
       "72829  [Nexus (standard), Agriculture, Yield (enginee...   \n",
       "72830  [Atlantic multidecadal oscillation, Climatolog...   \n",
       "72831  [Software deployment, Revenue, Renewable energ...   \n",
       "72832  [Climate change, Sustainable development, Busi...   \n",
       "72833  [Carbon fibers, Environmental science, Materia...   \n",
       "\n",
       "                                                     sdg  \\\n",
       "0             [{'id': '14', 'name': 'Life below water'}]   \n",
       "1               [{'id': '13', 'name': 'Climate action'}]   \n",
       "2                                                   None   \n",
       "3                                                   None   \n",
       "4             [{'id': '14', 'name': 'Life below water'}]   \n",
       "...                                                  ...   \n",
       "72829                                               None   \n",
       "72830           [{'id': '13', 'name': 'Climate action'}]   \n",
       "72831  [{'id': '7', 'name': 'Affordable and clean ene...   \n",
       "72832           [{'id': '13', 'name': 'Climate action'}]   \n",
       "72833           [{'id': '13', 'name': 'Climate action'}]   \n",
       "\n",
       "                                                  topics  ...  \\\n",
       "0                  [Marine Biology and Ecology Research]  ...   \n",
       "1      [Geology and Paleoclimatology Research, Climat...  ...   \n",
       "2      [Atmospheric Ozone and Climate, Atmospheric ch...  ...   \n",
       "3                       [Ocean Waves and Remote Sensing]  ...   \n",
       "4                      [Atmospheric aerosols and clouds]  ...   \n",
       "...                                                  ...  ...   \n",
       "72829  [Water-Energy-Food Nexus Studies, Water resour...  ...   \n",
       "72830  [Climate variability and models, Tropical and ...  ...   \n",
       "72831  [Social Acceptance of Renewable Energy, Integr...  ...   \n",
       "72832  [Sustainable Development and Environmental Pol...  ...   \n",
       "72833  [Energy, Environment, and Transportation Polic...  ...   \n",
       "\n",
       "                                                title_OA year_OA  \\\n",
       "0         Oceanobs'19: An Ocean of Opportunity. Volume I    2020   \n",
       "1      Eduard Brückner — The Sources and Consequences...    2000   \n",
       "2      Ueber die Bedeutung des Wasserdampfes und der ...    1900   \n",
       "3                The parameters of atmospheric turbidity    1964   \n",
       "4      On the Atmospheric Transmission of Sun Radiati...    1929   \n",
       "...                                                  ...     ...   \n",
       "72829  The water-food-energy nexus optimization appro...    2017   \n",
       "72830  A Review of the Role of the Atlantic Meridiona...    2019   \n",
       "72831  To what extent does wind power deployment affe...    2013   \n",
       "72832  Tackling climate change to accelerate sustaina...    2019   \n",
       "72833                       Low Carbon Transport in Asia    2012   \n",
       "\n",
       "                                            authors_name  \\\n",
       "0                                                 [None]   \n",
       "1          [[Nico Stehr, [CA]], [Hans von Storch, [UA]]]   \n",
       "2                                [[Knut Ångström, [US]]]   \n",
       "3                              [[Anders Ångström, [US]]]   \n",
       "4                                [[Anders Ångström, []]]   \n",
       "...                                                  ...   \n",
       "72829  [[Jie Zhang, [US]], [Pietro Elia Campana, [SE]...   \n",
       "72830  [[Rong Zhang, [US]], [Rowan Sutton, [GB]], [Gö...   \n",
       "72831  [[Xiaoli Zhao, [CN]], [Sufang Zhang, [CN]], [Y...   \n",
       "72832  [[Liu Zhen-min, [US]], [Patricia Rodríguez Esp...   \n",
       "72833  [[Eric Zusman, []], [Ancha Srinivasan, [TH]], ...   \n",
       "\n",
       "                                                    rors  \\\n",
       "0                                                 [None]   \n",
       "1      [[https://ror.org/03rmrcq20, CA], [https://ror...   \n",
       "2                      [[https://ror.org/03wbhj477, US]]   \n",
       "3                      [[https://ror.org/03a8x4b06, US]]   \n",
       "4                                                     []   \n",
       "...                                                  ...   \n",
       "72829  [[https://ror.org/047s2c258, US], [https://ror...   \n",
       "72830  [[https://ror.org/03vmn1898, US], [https://ror...   \n",
       "72831  [[https://ror.org/04qr5t414, CN], [https://ror...   \n",
       "72832  [[https://ror.org/050bms902, US], [https://ror...   \n",
       "72833                  [[https://ror.org/0403qcr87, TH]]   \n",
       "\n",
       "                                      institutions_names  \\\n",
       "0                                                 [None]   \n",
       "1      [[University of British Columbia, CA], [Instit...   \n",
       "2                                 [[Upsala College, US]]   \n",
       "3                 [[Eppley Foundation for Research, US]]   \n",
       "4                                                     []   \n",
       "...                                                  ...   \n",
       "72829  [[University of Maryland, College Park, US], [...   \n",
       "72830  [[NOAA Geophysical Fluid Dynamics Laboratory, ...   \n",
       "72831  [[North China Electric Power University, CN], ...   \n",
       "72832  [[United Nations Department of Economic and So...   \n",
       "72833              [[Asian Institute of Technology, TH]]   \n",
       "\n",
       "                                     locations_names locations_ids     type  \\\n",
       "0                          Frontiers research topics     1664-8714     book   \n",
       "1                                               None          None     book   \n",
       "2                                 Annalen der Physik     0003-3804  article   \n",
       "3      Tellus A Dynamic Meteorology and Oceanography     0280-6495  article   \n",
       "4                                Geografiska Annaler     1651-3215  article   \n",
       "...                                              ...           ...      ...   \n",
       "72829                                 Applied Energy     0306-2619  article   \n",
       "72830                          Reviews of Geophysics     1944-9208   review   \n",
       "72831                                  Energy Policy     0301-4215  article   \n",
       "72832                          Nature Climate Change     1758-678X  article   \n",
       "72833                                           None          None     book   \n",
       "\n",
       "         type_crossref test_glutton  \n",
       "0                 book         True  \n",
       "1                 book         True  \n",
       "2      journal-article         True  \n",
       "3      journal-article         True  \n",
       "4      journal-article         True  \n",
       "...                ...          ...  \n",
       "72829  journal-article         True  \n",
       "72830  journal-article         True  \n",
       "72831  journal-article         True  \n",
       "72832  journal-article         True  \n",
       "72833             book         True  \n",
       "\n",
       "[72834 rows x 21 columns]"
      ]
     },
     "execution_count": 3,
     "metadata": {},
     "output_type": "execute_result"
    }
   ],
   "source": [
    "df_ipcc"
   ]
  },
  {
   "cell_type": "code",
   "execution_count": 4,
   "metadata": {},
   "outputs": [],
   "source": [
    "ipcc_chap['ipcc']=ipcc_chap.apply(lambda row: {'name': str(row.chap), 'wg': str(row.wg), 'chap': str(row.chap)[-2:]},axis=1)"
   ]
  },
  {
   "cell_type": "code",
   "execution_count": 5,
   "metadata": {},
   "outputs": [],
   "source": [
    "ipcc_chap=ipcc_chap.groupby(by='doi').agg({'ipcc': lambda x: list(x)}).reset_index()"
   ]
  },
  {
   "cell_type": "code",
   "execution_count": 6,
   "metadata": {},
   "outputs": [],
   "source": [
    "df_ipcc.loc[:,'rors']=df_ipcc.loc[:,'rors'].apply(lambda x: [[]] if x==[None] else x)\n",
    "df_ipcc.loc[:,'rors']=df_ipcc.loc[:,'rors'].apply(lambda x: None if aplatir(x)==[] else x)"
   ]
  },
  {
   "cell_type": "code",
   "execution_count": 7,
   "metadata": {},
   "outputs": [],
   "source": [
    "df_ipcc_group=df_ipcc.groupby(by=['doi'], dropna=True).agg({'year': lambda x: list(x)[0], 'title': lambda x: list(x)[0], 'rors': lambda x: list(x)[0],'authors_name': lambda x: list(x)[0], 'institutions_names': lambda x: list(x)[0], 'countries': lambda x: list(x)[0], 'topics': lambda x: list(x)[0], 'freq':'sum'})\n",
    "df_ipcc_group=df_ipcc_group.reset_index()"
   ]
  },
  {
   "cell_type": "code",
   "execution_count": 8,
   "metadata": {},
   "outputs": [],
   "source": [
    "df_ipcc_group=pd.merge(df_ipcc_group,ipcc_chap, on='doi', how='left')"
   ]
  },
  {
   "cell_type": "code",
   "execution_count": 9,
   "metadata": {},
   "outputs": [],
   "source": [
    "df_ipcc_group.loc[:,'countries']=df_ipcc_group.loc[:,'countries'].apply(lambda x: None if x==['None'] else x)"
   ]
  },
  {
   "cell_type": "code",
   "execution_count": 10,
   "metadata": {},
   "outputs": [
    {
     "data": {
      "text/plain": [
       "52471"
      ]
     },
     "execution_count": 10,
     "metadata": {},
     "output_type": "execute_result"
    }
   ],
   "source": [
    "len(df_ipcc_group)"
   ]
  },
  {
   "cell_type": "code",
   "execution_count": 11,
   "metadata": {},
   "outputs": [
    {
     "data": {
      "text/plain": [
       "True"
      ]
     },
     "execution_count": 11,
     "metadata": {},
     "output_type": "execute_result"
    }
   ],
   "source": [
    "len(df_ipcc_group.doi.drop_duplicates())==len(df_ipcc_group.doi)"
   ]
  },
  {
   "cell_type": "code",
   "execution_count": 12,
   "metadata": {},
   "outputs": [],
   "source": [
    "df_ipbes=pd.read_json(module_path+'\\\\IPCC_bibliography\\\\AR6\\\\structured_data\\\\data_ipbes_visualization.jsonl', lines=True)"
   ]
  },
  {
   "cell_type": "code",
   "execution_count": 13,
   "metadata": {},
   "outputs": [
    {
     "data": {
      "text/html": [
       "<div>\n",
       "<style scoped>\n",
       "    .dataframe tbody tr th:only-of-type {\n",
       "        vertical-align: middle;\n",
       "    }\n",
       "\n",
       "    .dataframe tbody tr th {\n",
       "        vertical-align: top;\n",
       "    }\n",
       "\n",
       "    .dataframe thead th {\n",
       "        text-align: right;\n",
       "    }\n",
       "</style>\n",
       "<table border=\"1\" class=\"dataframe\">\n",
       "  <thead>\n",
       "    <tr style=\"text-align: right;\">\n",
       "      <th></th>\n",
       "      <th>doi</th>\n",
       "      <th>title</th>\n",
       "      <th>date</th>\n",
       "      <th>creators</th>\n",
       "      <th>tags</th>\n",
       "      <th>countries</th>\n",
       "      <th>concepts</th>\n",
       "      <th>sdg</th>\n",
       "      <th>topics</th>\n",
       "      <th>is_OA_available</th>\n",
       "      <th>year_OA</th>\n",
       "      <th>authors_name</th>\n",
       "      <th>rors</th>\n",
       "      <th>institutions_names</th>\n",
       "      <th>locations_names</th>\n",
       "      <th>locations_id</th>\n",
       "      <th>year</th>\n",
       "    </tr>\n",
       "  </thead>\n",
       "  <tbody>\n",
       "    <tr>\n",
       "      <th>0</th>\n",
       "      <td>10.1890/1051-0761(2000)010[1251:roteka]2.0.co;2</td>\n",
       "      <td>REDISCOVERY OF TRADITIONAL ECOLOGICAL KNOWLEDG...</td>\n",
       "      <td>10/2000</td>\n",
       "      <td>[{'creatorType': 'author', 'firstName': 'Fikre...</td>\n",
       "      <td>[{'tag': 'ipbes-global_chapter1'}, {'tag': 'ip...</td>\n",
       "      <td>[SE, CA]</td>\n",
       "      <td>[Traditional knowledge, Environmental resource...</td>\n",
       "      <td>[{'id': '15', 'name': 'Life on land'}]</td>\n",
       "      <td>[Conservation, Biodiversity, and Resource Mana...</td>\n",
       "      <td>True</td>\n",
       "      <td>2000</td>\n",
       "      <td>[[Fikret Berkes, [CA]], [Johan Colding, [SE]],...</td>\n",
       "      <td>[[https://ror.org/02gfys938, CA], [https://ror...</td>\n",
       "      <td>[[University of Manitoba, CA], [Royal Swedish ...</td>\n",
       "      <td>Ecological Applications</td>\n",
       "      <td>1051-0761</td>\n",
       "      <td>2000</td>\n",
       "    </tr>\n",
       "    <tr>\n",
       "      <th>1</th>\n",
       "      <td>10.1890/1051-0761(2000)010[1251:roteka]2.0.co;2</td>\n",
       "      <td>REDISCOVERY OF TRADITIONAL ECOLOGICAL KNOWLEDG...</td>\n",
       "      <td>10/2000</td>\n",
       "      <td>[{'creatorType': 'author', 'firstName': 'Fikre...</td>\n",
       "      <td>[{'tag': 'ipbes-global_chapter1'}, {'tag': 'ip...</td>\n",
       "      <td>[SE, CA]</td>\n",
       "      <td>[Traditional knowledge, Environmental resource...</td>\n",
       "      <td>[{'id': '15', 'name': 'Life on land'}]</td>\n",
       "      <td>[Conservation, Biodiversity, and Resource Mana...</td>\n",
       "      <td>True</td>\n",
       "      <td>2000</td>\n",
       "      <td>[[Fikret Berkes, [CA]], [Johan Colding, [SE]],...</td>\n",
       "      <td>[[https://ror.org/02gfys938, CA], [https://ror...</td>\n",
       "      <td>[[University of Manitoba, CA], [Royal Swedish ...</td>\n",
       "      <td>Ecological Applications</td>\n",
       "      <td>1051-0761</td>\n",
       "      <td>2000</td>\n",
       "    </tr>\n",
       "    <tr>\n",
       "      <th>2</th>\n",
       "      <td>10.1890/1051-0761(2000)010[1251:roteka]2.0.co;2</td>\n",
       "      <td>REDISCOVERY OF TRADITIONAL ECOLOGICAL KNOWLEDG...</td>\n",
       "      <td>10/2000</td>\n",
       "      <td>[{'creatorType': 'author', 'firstName': 'Fikre...</td>\n",
       "      <td>[{'tag': 'ipbes-global_chapter1'}, {'tag': 'ip...</td>\n",
       "      <td>[SE, CA]</td>\n",
       "      <td>[Traditional knowledge, Environmental resource...</td>\n",
       "      <td>[{'id': '15', 'name': 'Life on land'}]</td>\n",
       "      <td>[Conservation, Biodiversity, and Resource Mana...</td>\n",
       "      <td>True</td>\n",
       "      <td>2000</td>\n",
       "      <td>[[Fikret Berkes, [CA]], [Johan Colding, [SE]],...</td>\n",
       "      <td>[[https://ror.org/02gfys938, CA], [https://ror...</td>\n",
       "      <td>[[University of Manitoba, CA], [Royal Swedish ...</td>\n",
       "      <td>Ecological Applications</td>\n",
       "      <td>1051-0761</td>\n",
       "      <td>2000</td>\n",
       "    </tr>\n",
       "    <tr>\n",
       "      <th>3</th>\n",
       "      <td>10.1016/j.gloenvcha.2013.12.012</td>\n",
       "      <td>Evaluating knowledge exchange in interdiscipli...</td>\n",
       "      <td>2014</td>\n",
       "      <td>[{'creatorType': 'author', 'firstName': 'Ioan'...</td>\n",
       "      <td>[{'tag': 'ipbes-global_chapter1'}]</td>\n",
       "      <td>[GB]</td>\n",
       "      <td>[Knowledge management, Stakeholder, Knowledge ...</td>\n",
       "      <td>[{'id': '15', 'name': 'Life on land'}]</td>\n",
       "      <td>[Sustainability and Climate Change Governance,...</td>\n",
       "      <td>True</td>\n",
       "      <td>2014</td>\n",
       "      <td>[[Ioan Fazey, [GB]], [Lukas Bunse, [GB]], [Jos...</td>\n",
       "      <td>[[https://ror.org/03h2bxq36, GB], [https://ror...</td>\n",
       "      <td>[[University of Dundee, GB], [University of Du...</td>\n",
       "      <td>Global Environmental Change</td>\n",
       "      <td>0959-3780</td>\n",
       "      <td>2014</td>\n",
       "    </tr>\n",
       "    <tr>\n",
       "      <th>4</th>\n",
       "      <td>10.5751/es-07868-200344</td>\n",
       "      <td>Multiple telecouplings and their complex inter...</td>\n",
       "      <td>2015</td>\n",
       "      <td>[{'creatorType': 'author', 'firstName': 'Jiang...</td>\n",
       "      <td>[{'tag': 'ipbes-global_chapter1'}, {'tag': 'ip...</td>\n",
       "      <td>[CN, AT, US]</td>\n",
       "      <td>[Zhàng, Ecology, Humanities, Philosophy, Mathe...</td>\n",
       "      <td>None</td>\n",
       "      <td>[Land Use and Ecosystem Services, Species Dist...</td>\n",
       "      <td>True</td>\n",
       "      <td>2015</td>\n",
       "      <td>[[Jianguo Liu, [US]], [Vanessa Hull, [US]], [J...</td>\n",
       "      <td>[[https://ror.org/05hs6h993, US], [https://ror...</td>\n",
       "      <td>[[Michigan State University, US], [Michigan St...</td>\n",
       "      <td>Ecology and Society</td>\n",
       "      <td>1708-3087</td>\n",
       "      <td>2015</td>\n",
       "    </tr>\n",
       "    <tr>\n",
       "      <th>...</th>\n",
       "      <td>...</td>\n",
       "      <td>...</td>\n",
       "      <td>...</td>\n",
       "      <td>...</td>\n",
       "      <td>...</td>\n",
       "      <td>...</td>\n",
       "      <td>...</td>\n",
       "      <td>...</td>\n",
       "      <td>...</td>\n",
       "      <td>...</td>\n",
       "      <td>...</td>\n",
       "      <td>...</td>\n",
       "      <td>...</td>\n",
       "      <td>...</td>\n",
       "      <td>...</td>\n",
       "      <td>...</td>\n",
       "      <td>...</td>\n",
       "    </tr>\n",
       "    <tr>\n",
       "      <th>6358</th>\n",
       "      <td>10.1016/j.tree.2017.06.014</td>\n",
       "      <td>Unifying Research on Social–Ecological Resilie...</td>\n",
       "      <td>2017</td>\n",
       "      <td>[{'creatorType': 'author', 'firstName': 'Graem...</td>\n",
       "      <td>[{'tag': 'ipbes-global_glossary'}]</td>\n",
       "      <td>[SE, AU]</td>\n",
       "      <td>[Resilience (materials science), Ecological sy...</td>\n",
       "      <td>[{'id': '15', 'name': 'Life on land'}]</td>\n",
       "      <td>[Ecosystem dynamics and resilience, Climate Ch...</td>\n",
       "      <td>True</td>\n",
       "      <td>2017</td>\n",
       "      <td>[[Graeme S. Cumming, [AU]], [Garry Peterson, [...</td>\n",
       "      <td>[[https://ror.org/028cdc266, AU], [https://ror...</td>\n",
       "      <td>[[ARC Centre of Excellence for Coral Reef Stud...</td>\n",
       "      <td>Trends in Ecology &amp; Evolution</td>\n",
       "      <td>0169-5347</td>\n",
       "      <td>2017</td>\n",
       "    </tr>\n",
       "    <tr>\n",
       "      <th>6359</th>\n",
       "      <td>10.2307/2388682</td>\n",
       "      <td>The Structure and Diversity of Rain Forests at...</td>\n",
       "      <td>1991</td>\n",
       "      <td>[{'creatorType': 'author', 'firstName': 'Don',...</td>\n",
       "      <td>[{'tag': 'ipbes-global_glossary'}]</td>\n",
       "      <td>[None]</td>\n",
       "      <td>[Rainforest, Geography, Tropical rain forest, ...</td>\n",
       "      <td>[{'id': '15', 'name': 'Life on land'}]</td>\n",
       "      <td>[Plant and soil sciences, Environmental and Ec...</td>\n",
       "      <td>True</td>\n",
       "      <td>1991</td>\n",
       "      <td>[[Don Faber‐Langendoen, []], [Alwyn H. Gentry,...</td>\n",
       "      <td>[]</td>\n",
       "      <td>[]</td>\n",
       "      <td>Biotropica</td>\n",
       "      <td>0006-3606</td>\n",
       "      <td>1991</td>\n",
       "    </tr>\n",
       "    <tr>\n",
       "      <th>6360</th>\n",
       "      <td>10.2307/3060213</td>\n",
       "      <td>The Length of the Fallow Period in Tropical Fa...</td>\n",
       "      <td>1996</td>\n",
       "      <td>[{'creatorType': 'author', 'firstName': 'M. B....</td>\n",
       "      <td>[{'tag': 'ipbes-global_glossary'}]</td>\n",
       "      <td>[None]</td>\n",
       "      <td>[Sierra leone, Period (music), Geography, Agri...</td>\n",
       "      <td>[{'id': '2', 'name': 'Zero hunger'}]</td>\n",
       "      <td>[Agriculture and Rural Development Research, L...</td>\n",
       "      <td>True</td>\n",
       "      <td>1996</td>\n",
       "      <td>[[M. B. Gleave, []]]</td>\n",
       "      <td>[]</td>\n",
       "      <td>[]</td>\n",
       "      <td>Geographical Journal</td>\n",
       "      <td>0016-7398</td>\n",
       "      <td>1996</td>\n",
       "    </tr>\n",
       "    <tr>\n",
       "      <th>6361</th>\n",
       "      <td>10.1016/bs.apar.2016.02.009</td>\n",
       "      <td>Genetic Diversity and Population Structure of ...</td>\n",
       "      <td>2016</td>\n",
       "      <td>[{'creatorType': 'author', 'firstName': 'J. S....</td>\n",
       "      <td>[{'tag': 'ipbes-global_glossary'}]</td>\n",
       "      <td>[CA]</td>\n",
       "      <td>[Haemonchus contortus, Genetic diversity, Biol...</td>\n",
       "      <td>[{'id': '3', 'name': 'Good health and well-bei...</td>\n",
       "      <td>[Helminth infection and control, Parasite Biol...</td>\n",
       "      <td>True</td>\n",
       "      <td>2016</td>\n",
       "      <td>[[John S. Gilleard, [CA]], [E. Redman, [CA]]]</td>\n",
       "      <td>[[https://ror.org/03yjb2x39, CA], [https://ror...</td>\n",
       "      <td>[[University of Calgary, CA], [University of C...</td>\n",
       "      <td>None</td>\n",
       "      <td>None</td>\n",
       "      <td>2016</td>\n",
       "    </tr>\n",
       "    <tr>\n",
       "      <th>6362</th>\n",
       "      <td>10.2993/0278-0771-34.3.294</td>\n",
       "      <td>A Community-Based Approach to Mapping Gwich'in...</td>\n",
       "      <td>2014</td>\n",
       "      <td>[{'creatorType': 'author', 'firstName': 'Harne...</td>\n",
       "      <td>[{'tag': 'ipbes-global_glossary'}]</td>\n",
       "      <td>[CA]</td>\n",
       "      <td>[Environmental change, Watershed, Environmenta...</td>\n",
       "      <td>[{'id': '13', 'name': 'Climate action'}]</td>\n",
       "      <td>[Indigenous Studies and Ecology, Climate chang...</td>\n",
       "      <td>True</td>\n",
       "      <td>2014</td>\n",
       "      <td>[[Harneet K. Gill, [CA]], [Trevor C. Lantz, [C...</td>\n",
       "      <td>[[https://ror.org/04s5mat29, CA], [https://ror...</td>\n",
       "      <td>[[University of Victoria, CA], [University of ...</td>\n",
       "      <td>Journal of Ethnobiology</td>\n",
       "      <td>0278-0771</td>\n",
       "      <td>2014</td>\n",
       "    </tr>\n",
       "  </tbody>\n",
       "</table>\n",
       "<p>6363 rows × 17 columns</p>\n",
       "</div>"
      ],
      "text/plain": [
       "                                                  doi  \\\n",
       "0     10.1890/1051-0761(2000)010[1251:roteka]2.0.co;2   \n",
       "1     10.1890/1051-0761(2000)010[1251:roteka]2.0.co;2   \n",
       "2     10.1890/1051-0761(2000)010[1251:roteka]2.0.co;2   \n",
       "3                     10.1016/j.gloenvcha.2013.12.012   \n",
       "4                             10.5751/es-07868-200344   \n",
       "...                                               ...   \n",
       "6358                       10.1016/j.tree.2017.06.014   \n",
       "6359                                  10.2307/2388682   \n",
       "6360                                  10.2307/3060213   \n",
       "6361                      10.1016/bs.apar.2016.02.009   \n",
       "6362                       10.2993/0278-0771-34.3.294   \n",
       "\n",
       "                                                  title     date  \\\n",
       "0     REDISCOVERY OF TRADITIONAL ECOLOGICAL KNOWLEDG...  10/2000   \n",
       "1     REDISCOVERY OF TRADITIONAL ECOLOGICAL KNOWLEDG...  10/2000   \n",
       "2     REDISCOVERY OF TRADITIONAL ECOLOGICAL KNOWLEDG...  10/2000   \n",
       "3     Evaluating knowledge exchange in interdiscipli...     2014   \n",
       "4     Multiple telecouplings and their complex inter...     2015   \n",
       "...                                                 ...      ...   \n",
       "6358  Unifying Research on Social–Ecological Resilie...     2017   \n",
       "6359  The Structure and Diversity of Rain Forests at...     1991   \n",
       "6360  The Length of the Fallow Period in Tropical Fa...     1996   \n",
       "6361  Genetic Diversity and Population Structure of ...     2016   \n",
       "6362  A Community-Based Approach to Mapping Gwich'in...     2014   \n",
       "\n",
       "                                               creators  \\\n",
       "0     [{'creatorType': 'author', 'firstName': 'Fikre...   \n",
       "1     [{'creatorType': 'author', 'firstName': 'Fikre...   \n",
       "2     [{'creatorType': 'author', 'firstName': 'Fikre...   \n",
       "3     [{'creatorType': 'author', 'firstName': 'Ioan'...   \n",
       "4     [{'creatorType': 'author', 'firstName': 'Jiang...   \n",
       "...                                                 ...   \n",
       "6358  [{'creatorType': 'author', 'firstName': 'Graem...   \n",
       "6359  [{'creatorType': 'author', 'firstName': 'Don',...   \n",
       "6360  [{'creatorType': 'author', 'firstName': 'M. B....   \n",
       "6361  [{'creatorType': 'author', 'firstName': 'J. S....   \n",
       "6362  [{'creatorType': 'author', 'firstName': 'Harne...   \n",
       "\n",
       "                                                   tags     countries  \\\n",
       "0     [{'tag': 'ipbes-global_chapter1'}, {'tag': 'ip...      [SE, CA]   \n",
       "1     [{'tag': 'ipbes-global_chapter1'}, {'tag': 'ip...      [SE, CA]   \n",
       "2     [{'tag': 'ipbes-global_chapter1'}, {'tag': 'ip...      [SE, CA]   \n",
       "3                    [{'tag': 'ipbes-global_chapter1'}]          [GB]   \n",
       "4     [{'tag': 'ipbes-global_chapter1'}, {'tag': 'ip...  [CN, AT, US]   \n",
       "...                                                 ...           ...   \n",
       "6358                 [{'tag': 'ipbes-global_glossary'}]      [SE, AU]   \n",
       "6359                 [{'tag': 'ipbes-global_glossary'}]        [None]   \n",
       "6360                 [{'tag': 'ipbes-global_glossary'}]        [None]   \n",
       "6361                 [{'tag': 'ipbes-global_glossary'}]          [CA]   \n",
       "6362                 [{'tag': 'ipbes-global_glossary'}]          [CA]   \n",
       "\n",
       "                                               concepts  \\\n",
       "0     [Traditional knowledge, Environmental resource...   \n",
       "1     [Traditional knowledge, Environmental resource...   \n",
       "2     [Traditional knowledge, Environmental resource...   \n",
       "3     [Knowledge management, Stakeholder, Knowledge ...   \n",
       "4     [Zhàng, Ecology, Humanities, Philosophy, Mathe...   \n",
       "...                                                 ...   \n",
       "6358  [Resilience (materials science), Ecological sy...   \n",
       "6359  [Rainforest, Geography, Tropical rain forest, ...   \n",
       "6360  [Sierra leone, Period (music), Geography, Agri...   \n",
       "6361  [Haemonchus contortus, Genetic diversity, Biol...   \n",
       "6362  [Environmental change, Watershed, Environmenta...   \n",
       "\n",
       "                                                    sdg  \\\n",
       "0                [{'id': '15', 'name': 'Life on land'}]   \n",
       "1                [{'id': '15', 'name': 'Life on land'}]   \n",
       "2                [{'id': '15', 'name': 'Life on land'}]   \n",
       "3                [{'id': '15', 'name': 'Life on land'}]   \n",
       "4                                                  None   \n",
       "...                                                 ...   \n",
       "6358             [{'id': '15', 'name': 'Life on land'}]   \n",
       "6359             [{'id': '15', 'name': 'Life on land'}]   \n",
       "6360               [{'id': '2', 'name': 'Zero hunger'}]   \n",
       "6361  [{'id': '3', 'name': 'Good health and well-bei...   \n",
       "6362           [{'id': '13', 'name': 'Climate action'}]   \n",
       "\n",
       "                                                 topics  is_OA_available  \\\n",
       "0     [Conservation, Biodiversity, and Resource Mana...             True   \n",
       "1     [Conservation, Biodiversity, and Resource Mana...             True   \n",
       "2     [Conservation, Biodiversity, and Resource Mana...             True   \n",
       "3     [Sustainability and Climate Change Governance,...             True   \n",
       "4     [Land Use and Ecosystem Services, Species Dist...             True   \n",
       "...                                                 ...              ...   \n",
       "6358  [Ecosystem dynamics and resilience, Climate Ch...             True   \n",
       "6359  [Plant and soil sciences, Environmental and Ec...             True   \n",
       "6360  [Agriculture and Rural Development Research, L...             True   \n",
       "6361  [Helminth infection and control, Parasite Biol...             True   \n",
       "6362  [Indigenous Studies and Ecology, Climate chang...             True   \n",
       "\n",
       "      year_OA                                       authors_name  \\\n",
       "0        2000  [[Fikret Berkes, [CA]], [Johan Colding, [SE]],...   \n",
       "1        2000  [[Fikret Berkes, [CA]], [Johan Colding, [SE]],...   \n",
       "2        2000  [[Fikret Berkes, [CA]], [Johan Colding, [SE]],...   \n",
       "3        2014  [[Ioan Fazey, [GB]], [Lukas Bunse, [GB]], [Jos...   \n",
       "4        2015  [[Jianguo Liu, [US]], [Vanessa Hull, [US]], [J...   \n",
       "...       ...                                                ...   \n",
       "6358     2017  [[Graeme S. Cumming, [AU]], [Garry Peterson, [...   \n",
       "6359     1991  [[Don Faber‐Langendoen, []], [Alwyn H. Gentry,...   \n",
       "6360     1996                               [[M. B. Gleave, []]]   \n",
       "6361     2016      [[John S. Gilleard, [CA]], [E. Redman, [CA]]]   \n",
       "6362     2014  [[Harneet K. Gill, [CA]], [Trevor C. Lantz, [C...   \n",
       "\n",
       "                                                   rors  \\\n",
       "0     [[https://ror.org/02gfys938, CA], [https://ror...   \n",
       "1     [[https://ror.org/02gfys938, CA], [https://ror...   \n",
       "2     [[https://ror.org/02gfys938, CA], [https://ror...   \n",
       "3     [[https://ror.org/03h2bxq36, GB], [https://ror...   \n",
       "4     [[https://ror.org/05hs6h993, US], [https://ror...   \n",
       "...                                                 ...   \n",
       "6358  [[https://ror.org/028cdc266, AU], [https://ror...   \n",
       "6359                                                 []   \n",
       "6360                                                 []   \n",
       "6361  [[https://ror.org/03yjb2x39, CA], [https://ror...   \n",
       "6362  [[https://ror.org/04s5mat29, CA], [https://ror...   \n",
       "\n",
       "                                     institutions_names  \\\n",
       "0     [[University of Manitoba, CA], [Royal Swedish ...   \n",
       "1     [[University of Manitoba, CA], [Royal Swedish ...   \n",
       "2     [[University of Manitoba, CA], [Royal Swedish ...   \n",
       "3     [[University of Dundee, GB], [University of Du...   \n",
       "4     [[Michigan State University, US], [Michigan St...   \n",
       "...                                                 ...   \n",
       "6358  [[ARC Centre of Excellence for Coral Reef Stud...   \n",
       "6359                                                 []   \n",
       "6360                                                 []   \n",
       "6361  [[University of Calgary, CA], [University of C...   \n",
       "6362  [[University of Victoria, CA], [University of ...   \n",
       "\n",
       "                    locations_names locations_id  year  \n",
       "0           Ecological Applications    1051-0761  2000  \n",
       "1           Ecological Applications    1051-0761  2000  \n",
       "2           Ecological Applications    1051-0761  2000  \n",
       "3       Global Environmental Change    0959-3780  2014  \n",
       "4               Ecology and Society    1708-3087  2015  \n",
       "...                             ...          ...   ...  \n",
       "6358  Trends in Ecology & Evolution    0169-5347  2017  \n",
       "6359                     Biotropica    0006-3606  1991  \n",
       "6360           Geographical Journal    0016-7398  1996  \n",
       "6361                           None         None  2016  \n",
       "6362        Journal of Ethnobiology    0278-0771  2014  \n",
       "\n",
       "[6363 rows x 17 columns]"
      ]
     },
     "execution_count": 13,
     "metadata": {},
     "output_type": "execute_result"
    }
   ],
   "source": [
    "df_ipbes"
   ]
  },
  {
   "cell_type": "code",
   "execution_count": 14,
   "metadata": {},
   "outputs": [],
   "source": [
    "df_ipbes['ipbes']=df_ipbes.apply(lambda row: [{'chapter': str(x['tag']).replace('ipbes-global_chapter','')} for x in row['tags']], axis=1)"
   ]
  },
  {
   "cell_type": "code",
   "execution_count": 15,
   "metadata": {},
   "outputs": [],
   "source": [
    "df_ipbes.loc[:,'rors']=df_ipbes.loc[:,'rors'].apply(lambda x: [[]] if x==[None] else x)\n",
    "df_ipbes.loc[:,'rors']=df_ipbes.loc[:,'rors'].apply(lambda x: None if aplatir(x)==[] else x)"
   ]
  },
  {
   "cell_type": "code",
   "execution_count": 16,
   "metadata": {},
   "outputs": [],
   "source": [
    "df_ipbes_group=df_ipbes.groupby(by=['doi'], dropna=True).agg({'year': lambda x: list(x)[0], 'title': lambda x: list(x)[0], 'rors': lambda x: list(x)[0],'authors_name': lambda x: list(x)[0], 'institutions_names': lambda x: list(x)[0],'ipbes': lambda x: list(x)[0], 'countries': lambda x: list(x)[0], 'topics': lambda x: list(x)[0]})\n",
    "df_ipbes_group=df_ipbes_group.reset_index()"
   ]
  },
  {
   "cell_type": "code",
   "execution_count": 17,
   "metadata": {},
   "outputs": [],
   "source": [
    "df_ipbes_group.loc[:,'countries']=df_ipbes_group.loc[:,'countries'].apply(lambda x: None if x==['None'] else x)"
   ]
  },
  {
   "cell_type": "code",
   "execution_count": 18,
   "metadata": {},
   "outputs": [
    {
     "data": {
      "text/plain": [
       "True"
      ]
     },
     "execution_count": 18,
     "metadata": {},
     "output_type": "execute_result"
    }
   ],
   "source": [
    "len(df_ipbes_group.doi.drop_duplicates())==len(df_ipbes_group.doi)"
   ]
  },
  {
   "cell_type": "code",
   "execution_count": 19,
   "metadata": {},
   "outputs": [],
   "source": [
    "df_ipcc_ipbes=pd.merge(df_ipcc_group,df_ipbes_group, on='doi', how='outer')"
   ]
  },
  {
   "cell_type": "code",
   "execution_count": 20,
   "metadata": {},
   "outputs": [],
   "source": [
    "df_ipcc_ipbes['countries']=df_ipcc_ipbes.apply(lambda row: get_xy('countries',row), axis=1)\n",
    "df_ipcc_ipbes['year']=df_ipcc_ipbes.apply(lambda row: get_xy('year',row), axis=1)\n",
    "df_ipcc_ipbes['title']=df_ipcc_ipbes.apply(lambda row: get_xy('title',row), axis=1)\n",
    "df_ipcc_ipbes['rors']=df_ipcc_ipbes.apply(lambda row: get_xy('rors',row), axis=1)\n",
    "df_ipcc_ipbes['authors_name']=df_ipcc_ipbes.apply(lambda row: get_xy('authors_name',row), axis=1)\n",
    "df_ipcc_ipbes['institutions_names']=df_ipcc_ipbes.apply(lambda row: get_xy('institutions_names',row), axis=1)\n",
    "df_ipcc_ipbes['topics']=df_ipcc_ipbes.apply(lambda row: get_xy('topics',row), axis=1)"
   ]
  },
  {
   "cell_type": "code",
   "execution_count": 21,
   "metadata": {},
   "outputs": [],
   "source": [
    "df_ipcc_ipbes=df_ipcc_ipbes[['doi', 'year','title', 'rors', 'authors_name', 'institutions_names',\n",
    "       'ipcc', 'countries', 'ipbes','topics']]"
   ]
  },
  {
   "cell_type": "code",
   "execution_count": 22,
   "metadata": {},
   "outputs": [
    {
     "data": {
      "text/plain": [
       "True"
      ]
     },
     "execution_count": 22,
     "metadata": {},
     "output_type": "execute_result"
    }
   ],
   "source": [
    "len(df_ipcc_ipbes.doi.drop_duplicates())==len(df_ipcc_ipbes.doi)"
   ]
  },
  {
   "cell_type": "code",
   "execution_count": 23,
   "metadata": {},
   "outputs": [],
   "source": [
    "#update_bso_publications()"
   ]
  },
  {
   "cell_type": "code",
   "execution_count": 24,
   "metadata": {},
   "outputs": [],
   "source": [
    "bso=pd.DataFrame(get_bso_publications())"
   ]
  },
  {
   "cell_type": "code",
   "execution_count": 25,
   "metadata": {},
   "outputs": [],
   "source": [
    "df_bso=bso.transpose().reset_index()"
   ]
  },
  {
   "cell_type": "code",
   "execution_count": 26,
   "metadata": {},
   "outputs": [],
   "source": [
    "df_bso.columns=['doi','rors', 'bso_local_affiliations']"
   ]
  },
  {
   "cell_type": "code",
   "execution_count": 27,
   "metadata": {},
   "outputs": [],
   "source": [
    "df_ipcc_ipbes_bso=pd.merge(df_ipcc_ipbes,df_bso,on='doi',how='left').rename(columns={'rors_x':'rors'})"
   ]
  },
  {
   "cell_type": "code",
   "execution_count": 28,
   "metadata": {},
   "outputs": [],
   "source": [
    "del df_ipcc_ipbes_bso['rors_y']"
   ]
  },
  {
   "cell_type": "code",
   "execution_count": 29,
   "metadata": {},
   "outputs": [
    {
     "data": {
      "text/plain": [
       "True"
      ]
     },
     "execution_count": 29,
     "metadata": {},
     "output_type": "execute_result"
    }
   ],
   "source": [
    "len(df_ipcc_ipbes_bso.doi.drop_duplicates())==len(df_ipcc_ipbes_bso.doi)"
   ]
  },
  {
   "cell_type": "code",
   "execution_count": 30,
   "metadata": {},
   "outputs": [
    {
     "data": {
      "text/plain": [
       "Index(['doi', 'year', 'title', 'rors', 'authors_name', 'institutions_names',\n",
       "       'ipcc', 'countries', 'ipbes', 'topics', 'bso_local_affiliations'],\n",
       "      dtype='object')"
      ]
     },
     "execution_count": 30,
     "metadata": {},
     "output_type": "execute_result"
    }
   ],
   "source": [
    "df_ipcc_ipbes_bso.columns"
   ]
  },
  {
   "cell_type": "code",
   "execution_count": 31,
   "metadata": {},
   "outputs": [],
   "source": [
    "df_iso=pd.read_json(module_path+'\\\\IPCC_bibliography\\\\AR6\\\\structured_data\\\\iso2_iso3.json')"
   ]
  },
  {
   "cell_type": "code",
   "execution_count": 32,
   "metadata": {},
   "outputs": [],
   "source": [
    "#df_iso=df_iso.transpose().reset_index().rename(columns={'index':'code',0:'name'})"
   ]
  },
  {
   "cell_type": "code",
   "execution_count": 33,
   "metadata": {},
   "outputs": [],
   "source": [
    "dict_iso=df_iso.to_dict(orient='records')[0]\n",
    "dict_iso['XK']='XKX'"
   ]
  },
  {
   "cell_type": "code",
   "execution_count": 34,
   "metadata": {},
   "outputs": [],
   "source": [
    "# dict_iso={}\n",
    "# for i,row in df_iso.iterrows():\n",
    "#     dict_iso[row['code']]=row['name']\n",
    "# dict_iso['CW']='Curaçao'\n",
    "# dict_iso['RS']='Serbia'\n",
    "# dict_iso['ME']='Montenegro'\n",
    "# dict_iso['XK']='Kosovo'\n",
    "# dict_iso['SS']='South Soudan'\n",
    "# dict_iso['MF']='Saint Martin'"
   ]
  },
  {
   "cell_type": "code",
   "execution_count": 35,
   "metadata": {},
   "outputs": [],
   "source": [
    "df_ipcc_ipbes_bso.loc[:,'countries']=df_ipcc_ipbes_bso.loc[:,'countries'].apply(lambda x: [dict_iso[y] for y in x] if (x!=None)&(x!=[])&(isinstance(x,float)==False) else None)"
   ]
  },
  {
   "cell_type": "code",
   "execution_count": 36,
   "metadata": {},
   "outputs": [],
   "source": [
    "#df_brevet_doi=pd.read_json('brevet_doi.json')"
   ]
  },
  {
   "cell_type": "code",
   "execution_count": 37,
   "metadata": {},
   "outputs": [],
   "source": [
    "#df_ipcc_ipbes_bso_brevet=pd.merge(df_ipcc_ipbes_bso,df_brevet_doi, on='doi', how='left')"
   ]
  },
  {
   "cell_type": "code",
   "execution_count": 38,
   "metadata": {},
   "outputs": [],
   "source": [
    "#len(df_ipcc_ipbes_bso_brevet.doi.drop_duplicates())==len(df_ipcc_ipbes_bso_brevet.doi)"
   ]
  },
  {
   "cell_type": "code",
   "execution_count": 39,
   "metadata": {},
   "outputs": [],
   "source": [
    "#df_ipcc_ipbes_bso_brevet.doi.value_counts()[:10]"
   ]
  },
  {
   "cell_type": "code",
   "execution_count": 40,
   "metadata": {},
   "outputs": [
    {
     "name": "stdout",
     "output_type": "stream",
     "text": [
      "54816 data in cached openalex data\n",
      "5690 data in cached openalex data\n"
     ]
    }
   ],
   "source": [
    "cached_openalex_data = load_cache({},module_path+'\\\\IPCC_bibliography\\\\AR6\\\\structured_data\\\\caches\\\\cached_openalex_data.pkl')\n",
    "cached_openalex_data_ipbes = load_cache({},module_path+'\\\\IPCC_bibliography\\\\AR6\\\\structured_data\\\\caches\\\\cached_openalex_data_ipbes.pkl')\n",
    "cached_openalex_data.update(cached_openalex_data_ipbes)\n",
    "df_cache=pd.DataFrame({'doi':list(cached_openalex_data.keys()),'OpenAlex_data':list(cached_openalex_data.values())})"
   ]
  },
  {
   "cell_type": "code",
   "execution_count": 41,
   "metadata": {},
   "outputs": [],
   "source": [
    "df_ipcc_ipbes_bso=pd.merge(df_ipcc_ipbes_bso,df_cache, on='doi', how='inner')"
   ]
  },
  {
   "cell_type": "code",
   "execution_count": 42,
   "metadata": {},
   "outputs": [
    {
     "data": {
      "text/plain": [
       "True"
      ]
     },
     "execution_count": 42,
     "metadata": {},
     "output_type": "execute_result"
    }
   ],
   "source": [
    "len(df_ipcc_ipbes_bso.doi.drop_duplicates())==len(df_ipcc_ipbes_bso.doi)"
   ]
  },
  {
   "cell_type": "code",
   "execution_count": 43,
   "metadata": {},
   "outputs": [],
   "source": [
    "current_dict = df_ipcc_ipbes_bso.to_dict(orient='records')"
   ]
  },
  {
   "cell_type": "code",
   "execution_count": 44,
   "metadata": {},
   "outputs": [],
   "source": [
    "list_bso_ipcc_ipbes=[]\n",
    "for i in range(len(df_ipcc_ipbes_bso)):\n",
    "    if len(current_dict[i]['OpenAlex_data'])==1:\n",
    "        openalex_info = current_dict[i]['OpenAlex_data'][0]\n",
    "    else:\n",
    "        openalex_info = current_dict[i]['OpenAlex_data'][1]\n",
    "    del current_dict[i]['OpenAlex_data']\n",
    "    for f in openalex_info:\n",
    "        current_dict[i]['openalex_'+f] = openalex_info[f]  "
   ]
  },
  {
   "cell_type": "code",
   "execution_count": 45,
   "metadata": {},
   "outputs": [],
   "source": [
    "df_elastic_input=pd.DataFrame(current_dict)"
   ]
  },
  {
   "cell_type": "code",
   "execution_count": 46,
   "metadata": {},
   "outputs": [],
   "source": [
    "df_elastic_input=df_ipcc_ipbes_bso"
   ]
  },
  {
   "cell_type": "code",
   "execution_count": 47,
   "metadata": {},
   "outputs": [],
   "source": [
    "df_elastic_input=df_elastic_input[['doi', 'year', 'title', 'rors', 'ipcc','authors_name', 'institutions_names',\n",
    "       'countries', 'ipbes','topics']]"
   ]
  },
  {
   "cell_type": "code",
   "execution_count": 48,
   "metadata": {},
   "outputs": [],
   "source": [
    "df_elastic_input.loc[df_elastic_input.authors_name.apply(lambda x: x==[None]),'authors_name']=None\n",
    "df_elastic_input.loc[df_elastic_input.countries.apply(lambda x: x==[None]),'countries']=None\n",
    "df_elastic_input.loc[df_elastic_input.institutions_names.apply(lambda x: x==[None]),'institutions_names']=None\n",
    "df_elastic_input.loc[df_elastic_input.rors.apply(lambda x: x==[None]),'rors']=None\n",
    "df_elastic_input.loc[df_elastic_input.authors_name.apply(lambda x: x==[]),'authors_name']=None\n",
    "df_elastic_input.loc[df_elastic_input.countries.apply(lambda x: x==[]),'countries']=None\n",
    "df_elastic_input.loc[df_elastic_input.institutions_names.apply(lambda x: x==[]),'institutions_names']=None\n",
    "df_elastic_input.loc[df_elastic_input.rors.apply(lambda x: x==[]),'rors']=None\n",
    "df_elastic_input.loc[df_elastic_input.year=='XXXX','year']=None"
   ]
  },
  {
   "cell_type": "markdown",
   "metadata": {},
   "source": [
    "labs"
   ]
  },
  {
   "cell_type": "code",
   "execution_count": 69,
   "metadata": {},
   "outputs": [],
   "source": [
    "struct_paysage=pd.read_json(module_path+'\\\\IPCC_bibliography\\\\AR6\\\\structured_data\\\\fr_esr_paysage_structures_all.json')\n",
    "ror_rnsr_paysage=struct_paysage[['uo_lib','element_ror','identifiant_rnsr']].dropna(subset=['identifiant_rnsr']).rename(columns={'element_ror':'ror'}).dropna(subset=['ror','uo_lib'])"
   ]
  },
  {
   "cell_type": "code",
   "execution_count": 70,
   "metadata": {},
   "outputs": [],
   "source": [
    "list_ror=ror_rnsr_paysage[['ror','uo_lib']].to_dict(orient='records')"
   ]
  },
  {
   "cell_type": "code",
   "execution_count": 71,
   "metadata": {},
   "outputs": [],
   "source": [
    "dict_ror={ l['ror']:l['uo_lib'] for l in list_ror}"
   ]
  },
  {
   "cell_type": "code",
   "execution_count": 72,
   "metadata": {},
   "outputs": [
    {
     "data": {
      "text/plain": [
       "[[None, 'CN'],\n",
       " [\"Laboratoire des sciences du climat et de l'environnement\", 'FR'],\n",
       " [None, 'FR'],\n",
       " [None, 'FR'],\n",
       " [None, 'FR'],\n",
       " [None, 'CN'],\n",
       " [\"Laboratoire des sciences du climat et de l'environnement\", 'FR'],\n",
       " [None, 'FR'],\n",
       " [None, 'FR'],\n",
       " [None, 'FR'],\n",
       " [None, 'US'],\n",
       " [None, 'US'],\n",
       " [None, 'CN'],\n",
       " [None, 'CN'],\n",
       " [None, 'CN']]"
      ]
     },
     "execution_count": 72,
     "metadata": {},
     "output_type": "execute_result"
    }
   ],
   "source": [
    "x=df_elastic_input.rors[100]\n",
    "[[dict_ror[i[0]],i[1]] if i[0] in list(dict_ror.keys()) else [None,i[1]] for i in x]"
   ]
  },
  {
   "cell_type": "code",
   "execution_count": 73,
   "metadata": {},
   "outputs": [
    {
     "name": "stderr",
     "output_type": "stream",
     "text": [
      "C:\\Users\\haallat\\AppData\\Local\\Temp\\ipykernel_19968\\701975774.py:1: SettingWithCopyWarning: \n",
      "A value is trying to be set on a copy of a slice from a DataFrame.\n",
      "Try using .loc[row_indexer,col_indexer] = value instead\n",
      "\n",
      "See the caveats in the documentation: https://pandas.pydata.org/pandas-docs/stable/user_guide/indexing.html#returning-a-view-versus-a-copy\n",
      "  df_elastic_input['labs']=df_elastic_input.loc[:,'rors'].apply(lambda x: [[dict_ror[i[0]],i[1]] if i[0] in list(dict_ror.keys()) else [None,i[1]] for i in x ]if isinstance(x,list) else None)\n"
     ]
    }
   ],
   "source": [
    "df_elastic_input['labs']=df_elastic_input.loc[:,'rors'].apply(lambda x: [[dict_ror[i[0]],i[1]] if i[0] in list(dict_ror.keys()) else [None,i[1]] for i in x ]if isinstance(x,list) else None)"
   ]
  },
  {
   "cell_type": "markdown",
   "metadata": {},
   "source": [
    "communes des labos FR"
   ]
  },
  {
   "cell_type": "code",
   "execution_count": 74,
   "metadata": {},
   "outputs": [],
   "source": [
    "struct_paysage=pd.read_json(module_path+'\\\\IPCC_bibliography\\\\AR6\\\\structured_data\\\\fr_esr_paysage_structures_all.json')\n",
    "struct_paysage=struct_paysage[struct_paysage.pays_etranger_acheminement=='France']\n",
    "ror_com_code_paysage=struct_paysage[['element_ror','com_code']].rename(columns={'element_ror':'ror'}).dropna(subset=['ror','com_code'])"
   ]
  },
  {
   "cell_type": "code",
   "execution_count": 75,
   "metadata": {},
   "outputs": [],
   "source": [
    "list_ror=ror_com_code_paysage[['ror','com_code']].to_dict(orient='records')"
   ]
  },
  {
   "cell_type": "code",
   "execution_count": 76,
   "metadata": {},
   "outputs": [],
   "source": [
    "dict_ror={ l['ror']:l['com_code'] for l in list_ror}"
   ]
  },
  {
   "cell_type": "code",
   "execution_count": 77,
   "metadata": {},
   "outputs": [],
   "source": [
    "df_elastic_input['labs_com_code']=df_elastic_input.loc[:,'rors'].apply(lambda x: [[dict_ror[i[0]],i[1]] if i[0] in list(dict_ror.keys()) else [None,i[1]] for i in x ]if isinstance(x,list) else None)"
   ]
  },
  {
   "cell_type": "code",
   "execution_count": 78,
   "metadata": {},
   "outputs": [],
   "source": [
    "ref_geo=pd.read_json(\"https://data.enseignementsup-recherche.gouv.fr/api/explore/v2.1/catalog/datasets/fr-esr-referentiel-geographique/exports/json?lang=fr&timezone=Europe%2FBerlin\")"
   ]
  },
  {
   "cell_type": "code",
   "execution_count": 79,
   "metadata": {},
   "outputs": [],
   "source": [
    "ref_geo=ref_geo[['com_code', 'com_id', 'com_nom','uucr_id', 'uucr_nom', 'dep_code', 'dep_id', 'dep_nom', 'aca_code', 'aca_id', 'aca_nom', 'reg_code', 'reg_id', 'reg_nom']]"
   ]
  },
  {
   "cell_type": "code",
   "execution_count": 80,
   "metadata": {},
   "outputs": [],
   "source": [
    "ref_geo['ref_geo']=ref_geo.apply(lambda row: {'com_code':row['com_code'],'':row['com_id'],'com_nom':row['com_nom'],'uucr_id':row['uucr_id'],'uucr_nom':row['uucr_nom'],'dep_code':row['dep_code'],'dep_id':row['dep_id'],'dep_nom':row['dep_nom'],'aca_code':row['aca_code'],'aca_id':row['aca_id'],'':row['aca_nom'],'':row['aca_nom'],'reg_code':row['reg_code'],'reg_id':row['reg_id'],'reg_nom':row['reg_nom']} ,axis=1)"
   ]
  },
  {
   "cell_type": "code",
   "execution_count": 81,
   "metadata": {},
   "outputs": [],
   "source": [
    "list_com=ref_geo[['com_code','ref_geo']].to_dict(orient='records')\n",
    "dict_com={ l['com_code']:l['ref_geo'] for l in list_com}"
   ]
  },
  {
   "cell_type": "code",
   "execution_count": 82,
   "metadata": {},
   "outputs": [
    {
     "ename": "KeyboardInterrupt",
     "evalue": "",
     "output_type": "error",
     "traceback": [
      "\u001b[1;31m---------------------------------------------------------------------------\u001b[0m",
      "\u001b[1;31mKeyboardInterrupt\u001b[0m                         Traceback (most recent call last)",
      "Cell \u001b[1;32mIn[82], line 1\u001b[0m\n\u001b[1;32m----> 1\u001b[0m df_elastic_input[\u001b[38;5;124m'\u001b[39m\u001b[38;5;124mlabs_ref_geo\u001b[39m\u001b[38;5;124m'\u001b[39m]\u001b[38;5;241m=\u001b[39m\u001b[43mdf_elastic_input\u001b[49m\u001b[38;5;241;43m.\u001b[39;49m\u001b[43mloc\u001b[49m\u001b[43m[\u001b[49m\u001b[43m:\u001b[49m\u001b[43m,\u001b[49m\u001b[38;5;124;43m'\u001b[39;49m\u001b[38;5;124;43mlabs_com_code\u001b[39;49m\u001b[38;5;124;43m'\u001b[39;49m\u001b[43m]\u001b[49m\u001b[38;5;241;43m.\u001b[39;49m\u001b[43mapply\u001b[49m\u001b[43m(\u001b[49m\u001b[38;5;28;43;01mlambda\u001b[39;49;00m\u001b[43m \u001b[49m\u001b[43mx\u001b[49m\u001b[43m:\u001b[49m\u001b[43m \u001b[49m\u001b[43m[\u001b[49m\u001b[43m[\u001b[49m\u001b[43mdict_com\u001b[49m\u001b[43m[\u001b[49m\u001b[43mi\u001b[49m\u001b[43m[\u001b[49m\u001b[38;5;241;43m0\u001b[39;49m\u001b[43m]\u001b[49m\u001b[43m]\u001b[49m\u001b[43m,\u001b[49m\u001b[43mi\u001b[49m\u001b[43m[\u001b[49m\u001b[38;5;241;43m1\u001b[39;49m\u001b[43m]\u001b[49m\u001b[43m]\u001b[49m\u001b[43m \u001b[49m\u001b[38;5;28;43;01mif\u001b[39;49;00m\u001b[43m \u001b[49m\u001b[43mi\u001b[49m\u001b[43m[\u001b[49m\u001b[38;5;241;43m0\u001b[39;49m\u001b[43m]\u001b[49m\u001b[43m \u001b[49m\u001b[38;5;129;43;01min\u001b[39;49;00m\u001b[43m \u001b[49m\u001b[38;5;28;43mlist\u001b[39;49m\u001b[43m(\u001b[49m\u001b[43mdict_com\u001b[49m\u001b[38;5;241;43m.\u001b[39;49m\u001b[43mkeys\u001b[49m\u001b[43m(\u001b[49m\u001b[43m)\u001b[49m\u001b[43m)\u001b[49m\u001b[43m \u001b[49m\u001b[38;5;28;43;01melse\u001b[39;49;00m\u001b[43m \u001b[49m\u001b[43m[\u001b[49m\u001b[38;5;28;43;01mNone\u001b[39;49;00m\u001b[43m,\u001b[49m\u001b[43mi\u001b[49m\u001b[43m[\u001b[49m\u001b[38;5;241;43m1\u001b[39;49m\u001b[43m]\u001b[49m\u001b[43m]\u001b[49m\u001b[43m \u001b[49m\u001b[38;5;28;43;01mfor\u001b[39;49;00m\u001b[43m \u001b[49m\u001b[43mi\u001b[49m\u001b[43m \u001b[49m\u001b[38;5;129;43;01min\u001b[39;49;00m\u001b[43m \u001b[49m\u001b[43mx\u001b[49m\u001b[43m \u001b[49m\u001b[43m]\u001b[49m\u001b[38;5;28;43;01mif\u001b[39;49;00m\u001b[43m \u001b[49m\u001b[38;5;28;43misinstance\u001b[39;49m\u001b[43m(\u001b[49m\u001b[43mx\u001b[49m\u001b[43m,\u001b[49m\u001b[38;5;28;43mlist\u001b[39;49m\u001b[43m)\u001b[49m\u001b[43m \u001b[49m\u001b[38;5;28;43;01melse\u001b[39;49;00m\u001b[43m \u001b[49m\u001b[38;5;28;43;01mNone\u001b[39;49;00m\u001b[43m)\u001b[49m\n",
      "File \u001b[1;32mc:\\Users\\haallat\\AppData\\Local\\Programs\\Python\\Python39\\lib\\site-packages\\pandas\\core\\series.py:4917\u001b[0m, in \u001b[0;36mSeries.apply\u001b[1;34m(self, func, convert_dtype, args, by_row, **kwargs)\u001b[0m\n\u001b[0;32m   4789\u001b[0m \u001b[38;5;28;01mdef\u001b[39;00m \u001b[38;5;21mapply\u001b[39m(\n\u001b[0;32m   4790\u001b[0m     \u001b[38;5;28mself\u001b[39m,\n\u001b[0;32m   4791\u001b[0m     func: AggFuncType,\n\u001b[1;32m   (...)\u001b[0m\n\u001b[0;32m   4796\u001b[0m     \u001b[38;5;241m*\u001b[39m\u001b[38;5;241m*\u001b[39mkwargs,\n\u001b[0;32m   4797\u001b[0m ) \u001b[38;5;241m-\u001b[39m\u001b[38;5;241m>\u001b[39m DataFrame \u001b[38;5;241m|\u001b[39m Series:\n\u001b[0;32m   4798\u001b[0m \u001b[38;5;250m    \u001b[39m\u001b[38;5;124;03m\"\"\"\u001b[39;00m\n\u001b[0;32m   4799\u001b[0m \u001b[38;5;124;03m    Invoke function on values of Series.\u001b[39;00m\n\u001b[0;32m   4800\u001b[0m \n\u001b[1;32m   (...)\u001b[0m\n\u001b[0;32m   4915\u001b[0m \u001b[38;5;124;03m    dtype: float64\u001b[39;00m\n\u001b[0;32m   4916\u001b[0m \u001b[38;5;124;03m    \"\"\"\u001b[39;00m\n\u001b[1;32m-> 4917\u001b[0m     \u001b[38;5;28;01mreturn\u001b[39;00m \u001b[43mSeriesApply\u001b[49m\u001b[43m(\u001b[49m\n\u001b[0;32m   4918\u001b[0m \u001b[43m        \u001b[49m\u001b[38;5;28;43mself\u001b[39;49m\u001b[43m,\u001b[49m\n\u001b[0;32m   4919\u001b[0m \u001b[43m        \u001b[49m\u001b[43mfunc\u001b[49m\u001b[43m,\u001b[49m\n\u001b[0;32m   4920\u001b[0m \u001b[43m        \u001b[49m\u001b[43mconvert_dtype\u001b[49m\u001b[38;5;241;43m=\u001b[39;49m\u001b[43mconvert_dtype\u001b[49m\u001b[43m,\u001b[49m\n\u001b[0;32m   4921\u001b[0m \u001b[43m        \u001b[49m\u001b[43mby_row\u001b[49m\u001b[38;5;241;43m=\u001b[39;49m\u001b[43mby_row\u001b[49m\u001b[43m,\u001b[49m\n\u001b[0;32m   4922\u001b[0m \u001b[43m        \u001b[49m\u001b[43margs\u001b[49m\u001b[38;5;241;43m=\u001b[39;49m\u001b[43margs\u001b[49m\u001b[43m,\u001b[49m\n\u001b[0;32m   4923\u001b[0m \u001b[43m        \u001b[49m\u001b[43mkwargs\u001b[49m\u001b[38;5;241;43m=\u001b[39;49m\u001b[43mkwargs\u001b[49m\u001b[43m,\u001b[49m\n\u001b[0;32m   4924\u001b[0m \u001b[43m    \u001b[49m\u001b[43m)\u001b[49m\u001b[38;5;241;43m.\u001b[39;49m\u001b[43mapply\u001b[49m\u001b[43m(\u001b[49m\u001b[43m)\u001b[49m\n",
      "File \u001b[1;32mc:\\Users\\haallat\\AppData\\Local\\Programs\\Python\\Python39\\lib\\site-packages\\pandas\\core\\apply.py:1427\u001b[0m, in \u001b[0;36mSeriesApply.apply\u001b[1;34m(self)\u001b[0m\n\u001b[0;32m   1424\u001b[0m     \u001b[38;5;28;01mreturn\u001b[39;00m \u001b[38;5;28mself\u001b[39m\u001b[38;5;241m.\u001b[39mapply_compat()\n\u001b[0;32m   1426\u001b[0m \u001b[38;5;66;03m# self.func is Callable\u001b[39;00m\n\u001b[1;32m-> 1427\u001b[0m \u001b[38;5;28;01mreturn\u001b[39;00m \u001b[38;5;28;43mself\u001b[39;49m\u001b[38;5;241;43m.\u001b[39;49m\u001b[43mapply_standard\u001b[49m\u001b[43m(\u001b[49m\u001b[43m)\u001b[49m\n",
      "File \u001b[1;32mc:\\Users\\haallat\\AppData\\Local\\Programs\\Python\\Python39\\lib\\site-packages\\pandas\\core\\apply.py:1507\u001b[0m, in \u001b[0;36mSeriesApply.apply_standard\u001b[1;34m(self)\u001b[0m\n\u001b[0;32m   1501\u001b[0m \u001b[38;5;66;03m# row-wise access\u001b[39;00m\n\u001b[0;32m   1502\u001b[0m \u001b[38;5;66;03m# apply doesn't have a `na_action` keyword and for backward compat reasons\u001b[39;00m\n\u001b[0;32m   1503\u001b[0m \u001b[38;5;66;03m# we need to give `na_action=\"ignore\"` for categorical data.\u001b[39;00m\n\u001b[0;32m   1504\u001b[0m \u001b[38;5;66;03m# TODO: remove the `na_action=\"ignore\"` when that default has been changed in\u001b[39;00m\n\u001b[0;32m   1505\u001b[0m \u001b[38;5;66;03m#  Categorical (GH51645).\u001b[39;00m\n\u001b[0;32m   1506\u001b[0m action \u001b[38;5;241m=\u001b[39m \u001b[38;5;124m\"\u001b[39m\u001b[38;5;124mignore\u001b[39m\u001b[38;5;124m\"\u001b[39m \u001b[38;5;28;01mif\u001b[39;00m \u001b[38;5;28misinstance\u001b[39m(obj\u001b[38;5;241m.\u001b[39mdtype, CategoricalDtype) \u001b[38;5;28;01melse\u001b[39;00m \u001b[38;5;28;01mNone\u001b[39;00m\n\u001b[1;32m-> 1507\u001b[0m mapped \u001b[38;5;241m=\u001b[39m \u001b[43mobj\u001b[49m\u001b[38;5;241;43m.\u001b[39;49m\u001b[43m_map_values\u001b[49m\u001b[43m(\u001b[49m\n\u001b[0;32m   1508\u001b[0m \u001b[43m    \u001b[49m\u001b[43mmapper\u001b[49m\u001b[38;5;241;43m=\u001b[39;49m\u001b[43mcurried\u001b[49m\u001b[43m,\u001b[49m\u001b[43m \u001b[49m\u001b[43mna_action\u001b[49m\u001b[38;5;241;43m=\u001b[39;49m\u001b[43maction\u001b[49m\u001b[43m,\u001b[49m\u001b[43m \u001b[49m\u001b[43mconvert\u001b[49m\u001b[38;5;241;43m=\u001b[39;49m\u001b[38;5;28;43mself\u001b[39;49m\u001b[38;5;241;43m.\u001b[39;49m\u001b[43mconvert_dtype\u001b[49m\n\u001b[0;32m   1509\u001b[0m \u001b[43m\u001b[49m\u001b[43m)\u001b[49m\n\u001b[0;32m   1511\u001b[0m \u001b[38;5;28;01mif\u001b[39;00m \u001b[38;5;28mlen\u001b[39m(mapped) \u001b[38;5;129;01mand\u001b[39;00m \u001b[38;5;28misinstance\u001b[39m(mapped[\u001b[38;5;241m0\u001b[39m], ABCSeries):\n\u001b[0;32m   1512\u001b[0m     \u001b[38;5;66;03m# GH#43986 Need to do list(mapped) in order to get treated as nested\u001b[39;00m\n\u001b[0;32m   1513\u001b[0m     \u001b[38;5;66;03m#  See also GH#25959 regarding EA support\u001b[39;00m\n\u001b[0;32m   1514\u001b[0m     \u001b[38;5;28;01mreturn\u001b[39;00m obj\u001b[38;5;241m.\u001b[39m_constructor_expanddim(\u001b[38;5;28mlist\u001b[39m(mapped), index\u001b[38;5;241m=\u001b[39mobj\u001b[38;5;241m.\u001b[39mindex)\n",
      "File \u001b[1;32mc:\\Users\\haallat\\AppData\\Local\\Programs\\Python\\Python39\\lib\\site-packages\\pandas\\core\\base.py:921\u001b[0m, in \u001b[0;36mIndexOpsMixin._map_values\u001b[1;34m(self, mapper, na_action, convert)\u001b[0m\n\u001b[0;32m    918\u001b[0m \u001b[38;5;28;01mif\u001b[39;00m \u001b[38;5;28misinstance\u001b[39m(arr, ExtensionArray):\n\u001b[0;32m    919\u001b[0m     \u001b[38;5;28;01mreturn\u001b[39;00m arr\u001b[38;5;241m.\u001b[39mmap(mapper, na_action\u001b[38;5;241m=\u001b[39mna_action)\n\u001b[1;32m--> 921\u001b[0m \u001b[38;5;28;01mreturn\u001b[39;00m \u001b[43malgorithms\u001b[49m\u001b[38;5;241;43m.\u001b[39;49m\u001b[43mmap_array\u001b[49m\u001b[43m(\u001b[49m\u001b[43marr\u001b[49m\u001b[43m,\u001b[49m\u001b[43m \u001b[49m\u001b[43mmapper\u001b[49m\u001b[43m,\u001b[49m\u001b[43m \u001b[49m\u001b[43mna_action\u001b[49m\u001b[38;5;241;43m=\u001b[39;49m\u001b[43mna_action\u001b[49m\u001b[43m,\u001b[49m\u001b[43m \u001b[49m\u001b[43mconvert\u001b[49m\u001b[38;5;241;43m=\u001b[39;49m\u001b[43mconvert\u001b[49m\u001b[43m)\u001b[49m\n",
      "File \u001b[1;32mc:\\Users\\haallat\\AppData\\Local\\Programs\\Python\\Python39\\lib\\site-packages\\pandas\\core\\algorithms.py:1743\u001b[0m, in \u001b[0;36mmap_array\u001b[1;34m(arr, mapper, na_action, convert)\u001b[0m\n\u001b[0;32m   1741\u001b[0m values \u001b[38;5;241m=\u001b[39m arr\u001b[38;5;241m.\u001b[39mastype(\u001b[38;5;28mobject\u001b[39m, copy\u001b[38;5;241m=\u001b[39m\u001b[38;5;28;01mFalse\u001b[39;00m)\n\u001b[0;32m   1742\u001b[0m \u001b[38;5;28;01mif\u001b[39;00m na_action \u001b[38;5;129;01mis\u001b[39;00m \u001b[38;5;28;01mNone\u001b[39;00m:\n\u001b[1;32m-> 1743\u001b[0m     \u001b[38;5;28;01mreturn\u001b[39;00m \u001b[43mlib\u001b[49m\u001b[38;5;241;43m.\u001b[39;49m\u001b[43mmap_infer\u001b[49m\u001b[43m(\u001b[49m\u001b[43mvalues\u001b[49m\u001b[43m,\u001b[49m\u001b[43m \u001b[49m\u001b[43mmapper\u001b[49m\u001b[43m,\u001b[49m\u001b[43m \u001b[49m\u001b[43mconvert\u001b[49m\u001b[38;5;241;43m=\u001b[39;49m\u001b[43mconvert\u001b[49m\u001b[43m)\u001b[49m\n\u001b[0;32m   1744\u001b[0m \u001b[38;5;28;01melse\u001b[39;00m:\n\u001b[0;32m   1745\u001b[0m     \u001b[38;5;28;01mreturn\u001b[39;00m lib\u001b[38;5;241m.\u001b[39mmap_infer_mask(\n\u001b[0;32m   1746\u001b[0m         values, mapper, mask\u001b[38;5;241m=\u001b[39misna(values)\u001b[38;5;241m.\u001b[39mview(np\u001b[38;5;241m.\u001b[39muint8), convert\u001b[38;5;241m=\u001b[39mconvert\n\u001b[0;32m   1747\u001b[0m     )\n",
      "File \u001b[1;32mlib.pyx:2972\u001b[0m, in \u001b[0;36mpandas._libs.lib.map_infer\u001b[1;34m()\u001b[0m\n",
      "Cell \u001b[1;32mIn[82], line 1\u001b[0m, in \u001b[0;36m<lambda>\u001b[1;34m(x)\u001b[0m\n\u001b[1;32m----> 1\u001b[0m df_elastic_input[\u001b[38;5;124m'\u001b[39m\u001b[38;5;124mlabs_ref_geo\u001b[39m\u001b[38;5;124m'\u001b[39m]\u001b[38;5;241m=\u001b[39mdf_elastic_input\u001b[38;5;241m.\u001b[39mloc[:,\u001b[38;5;124m'\u001b[39m\u001b[38;5;124mlabs_com_code\u001b[39m\u001b[38;5;124m'\u001b[39m]\u001b[38;5;241m.\u001b[39mapply(\u001b[38;5;28;01mlambda\u001b[39;00m x: [[dict_com[i[\u001b[38;5;241m0\u001b[39m]],i[\u001b[38;5;241m1\u001b[39m]] \u001b[38;5;28;01mif\u001b[39;00m i[\u001b[38;5;241m0\u001b[39m] \u001b[38;5;129;01min\u001b[39;00m \u001b[38;5;28mlist\u001b[39m(dict_com\u001b[38;5;241m.\u001b[39mkeys()) \u001b[38;5;28;01melse\u001b[39;00m [\u001b[38;5;28;01mNone\u001b[39;00m,i[\u001b[38;5;241m1\u001b[39m]] \u001b[38;5;28;01mfor\u001b[39;00m i \u001b[38;5;129;01min\u001b[39;00m x ]\u001b[38;5;28;01mif\u001b[39;00m \u001b[38;5;28misinstance\u001b[39m(x,\u001b[38;5;28mlist\u001b[39m) \u001b[38;5;28;01melse\u001b[39;00m \u001b[38;5;28;01mNone\u001b[39;00m)\n",
      "Cell \u001b[1;32mIn[82], line 1\u001b[0m, in \u001b[0;36m<listcomp>\u001b[1;34m(.0)\u001b[0m\n\u001b[1;32m----> 1\u001b[0m df_elastic_input[\u001b[38;5;124m'\u001b[39m\u001b[38;5;124mlabs_ref_geo\u001b[39m\u001b[38;5;124m'\u001b[39m]\u001b[38;5;241m=\u001b[39mdf_elastic_input\u001b[38;5;241m.\u001b[39mloc[:,\u001b[38;5;124m'\u001b[39m\u001b[38;5;124mlabs_com_code\u001b[39m\u001b[38;5;124m'\u001b[39m]\u001b[38;5;241m.\u001b[39mapply(\u001b[38;5;28;01mlambda\u001b[39;00m x: [[dict_com[i[\u001b[38;5;241m0\u001b[39m]],i[\u001b[38;5;241m1\u001b[39m]] \u001b[38;5;28;01mif\u001b[39;00m i[\u001b[38;5;241m0\u001b[39m] \u001b[38;5;129;01min\u001b[39;00m \u001b[38;5;28mlist\u001b[39m(dict_com\u001b[38;5;241m.\u001b[39mkeys()) \u001b[38;5;28;01melse\u001b[39;00m [\u001b[38;5;28;01mNone\u001b[39;00m,i[\u001b[38;5;241m1\u001b[39m]] \u001b[38;5;28;01mfor\u001b[39;00m i \u001b[38;5;129;01min\u001b[39;00m x ]\u001b[38;5;28;01mif\u001b[39;00m \u001b[38;5;28misinstance\u001b[39m(x,\u001b[38;5;28mlist\u001b[39m) \u001b[38;5;28;01melse\u001b[39;00m \u001b[38;5;28;01mNone\u001b[39;00m)\n",
      "\u001b[1;31mKeyboardInterrupt\u001b[0m: "
     ]
    }
   ],
   "source": [
    "df_elastic_input['labs_ref_geo']=df_elastic_input.loc[:,'labs_com_code'].apply(lambda x: [[dict_com[i[0]],i[1]] if i[0] in list(dict_com.keys()) else [None,i[1]] for i in x ]if isinstance(x,list) else None)"
   ]
  },
  {
   "cell_type": "code",
   "execution_count": null,
   "metadata": {},
   "outputs": [],
   "source": [
    "df_elastic_input['french_labs']=df_elastic_input.apply(lambda x: [{\"french_lab\":x['labs'][i][0], \"ref_geo\": x['labs_ref_geo'][i][0]} for i in range(len(x['labs'])) if x['labs'][i][1]=='FR' and pd.isna(x['labs'][i][0])==False] if isinstance(x['labs'],list) else None, axis=1)"
   ]
  },
  {
   "cell_type": "code",
   "execution_count": null,
   "metadata": {},
   "outputs": [],
   "source": [
    "len(aplatir(list(df_elastic_input['french_labs'].dropna())))"
   ]
  },
  {
   "cell_type": "code",
   "execution_count": null,
   "metadata": {},
   "outputs": [
    {
     "data": {
      "text/plain": [
       "[{'french_lab': 'Laboratoire de météorologie dynamique',\n",
       "  'ref_geo': {'com_code': '91477',\n",
       "   '': 'Versailles',\n",
       "   'com_nom': 'Palaiseau',\n",
       "   'uucr_id': 'UU00851',\n",
       "   'uucr_nom': 'Paris',\n",
       "   'dep_code': '91',\n",
       "   'dep_id': 'D091',\n",
       "   'dep_nom': 'Essonne',\n",
       "   'aca_code': 25,\n",
       "   'aca_id': 'A25',\n",
       "   'reg_code': 11,\n",
       "   'reg_id': 'R11',\n",
       "   'reg_nom': 'Île-de-France'}},\n",
       " {'french_lab': 'Laboratoire de météorologie dynamique',\n",
       "  'ref_geo': {'com_code': '91477',\n",
       "   '': 'Versailles',\n",
       "   'com_nom': 'Palaiseau',\n",
       "   'uucr_id': 'UU00851',\n",
       "   'uucr_nom': 'Paris',\n",
       "   'dep_code': '91',\n",
       "   'dep_id': 'D091',\n",
       "   'dep_nom': 'Essonne',\n",
       "   'aca_code': 25,\n",
       "   'aca_id': 'A25',\n",
       "   'reg_code': 11,\n",
       "   'reg_id': 'R11',\n",
       "   'reg_nom': 'Île-de-France'}}]"
      ]
     },
     "execution_count": 66,
     "metadata": {},
     "output_type": "execute_result"
    }
   ],
   "source": [
    "df_elastic_input['french_labs'][100]"
   ]
  },
  {
   "cell_type": "markdown",
   "metadata": {},
   "source": [
    "Communes des labos ou institutions internationals"
   ]
  },
  {
   "cell_type": "code",
   "execution_count": null,
   "metadata": {},
   "outputs": [],
   "source": [
    "data_ror=requests.get(f\"https://api.ror.org/organizations/{'018mejw64'}\").json()\n",
    "city=data_ror['addresses'][0]['city']\n",
    "print(city)\n",
    "geo_url = f\"https://geo.api.gouv.fr/communes?nom={city}&boost=population&limit=1\"\n",
    "geo_response = requests.get(geo_url).json()\n",
    "geo_response[0]"
   ]
  },
  {
   "cell_type": "code",
   "execution_count": null,
   "metadata": {},
   "outputs": [],
   "source": [
    "def com_labs_and_institutions(ror):\n",
    "    data_ror=requests.get(f\"https://api.ror.org/organizations/{ror}\").json()\n",
    "    city=data_ror['addresses'][0]['city']\n",
    "    print(city)\n",
    "    geo_url = f\"https://geo.api.gouv.fr/communes?nom={city}&boost=population&limit=1\"\n",
    "    geo_response = requests.get(geo_url).json()\n",
    "    if len(geo_response)>0:\n",
    "        return {\"com_code\": geo_response[0]['city']}\n",
    "    \n",
    "#si l'Organization types c'est \"Facility\" alors c'est labo, sinon c'est une intitutions (regarder si il a des parents)\n",
    "def labs_or_institutions(ror):\n",
    "    url=f\"https://api.ror.org/organizations/{ror}\"\n",
    "    ror_info=requests.get(url).json()\n",
    "    if 'Facility' in ror_info['types']:\n",
    "        return 'lab'\n",
    "    else:\n",
    "        [relationship['type'] for relationship in ror_info['relationships'] if relationship['type']=='parent']"
   ]
  },
  {
   "cell_type": "code",
   "execution_count": null,
   "metadata": {},
   "outputs": [],
   "source": []
  },
  {
   "cell_type": "code",
   "execution_count": null,
   "metadata": {},
   "outputs": [],
   "source": []
  },
  {
   "cell_type": "markdown",
   "metadata": {},
   "source": [
    "institutions"
   ]
  },
  {
   "cell_type": "code",
   "execution_count": 67,
   "metadata": {},
   "outputs": [
    {
     "data": {
      "text/plain": [
       "Index(['uo_lib', 'ror', 'identifiant_rnsr'], dtype='object')"
      ]
     },
     "execution_count": 67,
     "metadata": {},
     "output_type": "execute_result"
    }
   ],
   "source": [
    "ror_rnsr_paysage.columns"
   ]
  },
  {
   "cell_type": "code",
   "execution_count": 68,
   "metadata": {},
   "outputs": [],
   "source": [
    "list_ror=ror_rnsr_paysage[['ror','identifiant_rnsr']].to_dict(orient='records')\n",
    "dict_ror={ l['ror']:l['identifiant_rnsr'] for l in list_ror}"
   ]
  },
  {
   "cell_type": "code",
   "execution_count": 69,
   "metadata": {},
   "outputs": [],
   "source": [
    "rnsr_tutelles_scanr=pd.read_json(module_path+'\\\\IPCC_bibliography\\\\AR6\\\\structured_data\\\\organizations.jsonl', lines=True)\n",
    "rnsr_tutelles_scanr['tutelles_label']=rnsr_tutelles_scanr['institutions'].apply(lambda x: [y.get('label') for y in x] if len(x)>0 else None)\n",
    "rnsr_tutelles_scanr['tutelles_id']=rnsr_tutelles_scanr['institutions'].apply(lambda x: [y.get('structure') for y in x] if len(x)>0 else None)\n",
    "rnsr_tutelles_scanr.loc[:,'ror']=rnsr_tutelles_scanr.loc[:,'externalIds'].apply(lambda y: [x.get('id') for x in y if x.get('type')=='ROR'])\n",
    "rnsr_tutelles_scanr.loc[:,'rnsr']=rnsr_tutelles_scanr.loc[:,'externalIds'].apply(lambda y: [x.get('id') for x in y if x.get('type')=='rnsr'])\n",
    "rnsr_tutelles=rnsr_tutelles_scanr[['id','tutelles_label','tutelles_id']].rename(columns={'id':'rnsr'}).dropna()\n",
    "ror_tutelles=rnsr_tutelles_scanr[['ror','tutelles_label','tutelles_id']].explode('ror').dropna()\n",
    "rnsr_tutelles_siren=rnsr_tutelles_scanr[['id','tutelles_id']].rename(columns={'id':'rnsr'}).dropna()\n",
    "ror_tutelles_siren=rnsr_tutelles_scanr[['ror','tutelles_id']].explode('ror').dropna()"
   ]
  },
  {
   "cell_type": "code",
   "execution_count": 70,
   "metadata": {},
   "outputs": [],
   "source": [
    "list_tutelles_rnsr=rnsr_tutelles.to_dict(orient='records')\n",
    "dict_tutelles_rnsr={l['rnsr']:l['tutelles_label'] for l in list_tutelles_rnsr}\n",
    "list_tutelles_ror=ror_tutelles.to_dict(orient='records')\n",
    "dict_tutelles_ror={l['ror']:l['tutelles_label'] for l in list_tutelles_ror}"
   ]
  },
  {
   "cell_type": "code",
   "execution_count": 71,
   "metadata": {},
   "outputs": [],
   "source": [
    "list_tutelles_id_rnsr=rnsr_tutelles_siren.to_dict(orient='records')\n",
    "dict_tutelles_id_rnsr={l['rnsr']:l['tutelles_id'] for l in list_tutelles_id_rnsr}\n",
    "list_tutelles_id_ror=ror_tutelles.to_dict(orient='records')\n",
    "dict_tutelles_id_ror={l['ror']:l['tutelles_id'] for l in list_tutelles_id_ror}"
   ]
  },
  {
   "cell_type": "code",
   "execution_count": 72,
   "metadata": {},
   "outputs": [],
   "source": [
    "df_elastic_input['rnsr']=df_elastic_input.loc[:,'rors'].apply(lambda x: [[dict_ror[i[0]],i[1]] if i[0] in list(dict_ror.keys()) else [None,i[1]] for i in x ]if isinstance(x,list) else None)"
   ]
  },
  {
   "cell_type": "code",
   "execution_count": 73,
   "metadata": {},
   "outputs": [],
   "source": [
    "df_elastic_input['tutelles_label_rnsr']=df_elastic_input.loc[:,'rnsr'].apply(lambda x: [[dict_tutelles_rnsr[i[0]],i[1]] if i[0] in list(dict_tutelles_rnsr.keys()) else [None,i[1]] for i in x ]if isinstance(x,list) else None)\n",
    "df_elastic_input['tutelles_label_ror']=df_elastic_input.loc[:,'rors'].apply(lambda x: [[dict_tutelles_ror[i[0]],i[1]] if i[0] in list(dict_tutelles_ror.keys()) else [None,i[1]] for i in x ]if isinstance(x,list) else None)"
   ]
  },
  {
   "cell_type": "code",
   "execution_count": 74,
   "metadata": {},
   "outputs": [],
   "source": [
    "df_elastic_input['tutelles_siren_rnsr']=df_elastic_input.loc[:,'rnsr'].apply(lambda x: [[dict_tutelles_id_rnsr[i[0]],i[1]] if i[0] in list(dict_tutelles_rnsr.keys()) else [None,i[1]] for i in x ]if isinstance(x,list) else None)\n",
    "df_elastic_input['tutelles_siren_ror']=df_elastic_input.loc[:,'rors'].apply(lambda x: [[dict_tutelles_id_ror[i[0]],i[1]] if i[0] in list(dict_tutelles_ror.keys()) else [None,i[1]] for i in x ]if isinstance(x,list) else None)"
   ]
  },
  {
   "cell_type": "code",
   "execution_count": 75,
   "metadata": {},
   "outputs": [],
   "source": [
    "def get_tutelle(row, label='label'):\n",
    "    tutelles=[]\n",
    "    if isinstance(row[f\"tutelles_{label}_rnsr\"],list):\n",
    "        for i in range(len(row[f\"tutelles_{label}_rnsr\"])):\n",
    "            if isinstance(row[f\"tutelles_{label}_rnsr\"][i][0],list):\n",
    "                tutelles.append([row[f\"tutelles_{label}_rnsr\"][i][0],row[f\"tutelles_{label}_rnsr\"][i][1]])\n",
    "            elif isinstance(row[f\"tutelles_{label}_ror\"][i][0],list):\n",
    "                tutelles.append([row[f\"tutelles_{label}_ror\"][i][0],row[f\"tutelles_{label}_ror\"][i][1]])\n",
    "            else:\n",
    "                tutelles.append([None,row[f\"tutelles_{label}_ror\"][i][1]])\n",
    "        return tutelles\n",
    "    else:\n",
    "        return None"
   ]
  },
  {
   "cell_type": "code",
   "execution_count": 81,
   "metadata": {},
   "outputs": [],
   "source": [
    "df_elastic_input['tutelles_name']=df_elastic_input.apply( lambda row: get_tutelle(row) ,axis=1)"
   ]
  },
  {
   "cell_type": "code",
   "execution_count": 77,
   "metadata": {},
   "outputs": [],
   "source": [
    "df_elastic_input['tutelles_siren']=df_elastic_input.apply( lambda row: get_tutelle(row, label='siren') ,axis=1)"
   ]
  },
  {
   "cell_type": "code",
   "execution_count": 79,
   "metadata": {},
   "outputs": [
    {
     "data": {
      "text/plain": [
       "[[None, 'CN'],\n",
       " [None, 'CN'],\n",
       " [None, 'DE'],\n",
       " [None, 'CN'],\n",
       " [None, 'CN'],\n",
       " [None, 'CN'],\n",
       " [None, 'CN'],\n",
       " [None, 'NO'],\n",
       " [None, 'NO'],\n",
       " [None, 'NO'],\n",
       " [['197534597',\n",
       "   '197535016',\n",
       "   '199115684',\n",
       "   '180089013',\n",
       "   '130023385',\n",
       "   '130025620',\n",
       "   '130026149'],\n",
       "  'FR'],\n",
       " [None, 'FR'],\n",
       " [None, 'FR'],\n",
       " [None, 'FR'],\n",
       " [None, 'FR'],\n",
       " [['197534597',\n",
       "   '197535016',\n",
       "   '199115684',\n",
       "   '180089013',\n",
       "   '130023385',\n",
       "   '130025620',\n",
       "   '130026149'],\n",
       "  'FR'],\n",
       " [None, 'US'],\n",
       " [None, 'US'],\n",
       " [None, 'DE'],\n",
       " [None, 'NO'],\n",
       " [None, 'US'],\n",
       " [None, 'JP'],\n",
       " [None, 'DK']]"
      ]
     },
     "execution_count": 79,
     "metadata": {},
     "output_type": "execute_result"
    }
   ],
   "source": [
    "df_elastic_input.tutelles_siren[100]"
   ]
  },
  {
   "cell_type": "code",
   "execution_count": null,
   "metadata": {},
   "outputs": [],
   "source": [
    "df_elastic_input['french_tutelles']=df_elastic_input.loc[:,'tutelles'].apply(lambda x: aplatir(list(pd.Series([i[0] for i in x if i[1]=='FR' and isinstance(i[0],list)]))) if isinstance(x,list) else None)"
   ]
  },
  {
   "cell_type": "code",
   "execution_count": null,
   "metadata": {},
   "outputs": [],
   "source": [
    "df_elastic_input['french_tutelles'][100]"
   ]
  },
  {
   "cell_type": "code",
   "execution_count": null,
   "metadata": {},
   "outputs": [],
   "source": [
    "pd.Series(aplatir(list(df_elastic_input['french_tutelles'].dropna()))).value_counts()"
   ]
  },
  {
   "cell_type": "markdown",
   "metadata": {},
   "source": [
    "communes institutions"
   ]
  },
  {
   "cell_type": "code",
   "execution_count": 80,
   "metadata": {},
   "outputs": [],
   "source": [
    "from dotenv import load_dotenv\n",
    "from code_utils.utils import get_headers  \n",
    "load_dotenv()\n",
    "\n",
    "def get_code_commune_siege(siren):\n",
    "    try:\n",
    "        headers = get_headers(base=\"https://api.insee.fr/entreprises/sirene/V3.11/\")\n",
    "        url = f\"https://api.insee.fr/entreprises/sirene/V3.11/siren/{siren}\"\n",
    "        response = requests.get(url, headers=headers)\n",
    "        data=response.json()\n",
    "        unite_legale = data.get(\"uniteLegale\", {})\n",
    "        periode_actuelle = unite_legale.get(\"periodesUniteLegale\", [])[0]\n",
    "        nic_siege = periode_actuelle.get(\"nicSiegeUniteLegale\")\n",
    "        siret_siege = siren + nic_siege\n",
    "        url =f\"https://api.insee.fr/entreprises/sirene/V3.11/siret/{siret_siege}\"\n",
    "        response = requests.get(url, headers=headers)\n",
    "        data=response.json()\n",
    "        return data[\"etablissement\"][\"adresseEtablissement\"][\"codeCommuneEtablissement\"]\n",
    "    except:\n",
    "        return None "
   ]
  },
  {
   "cell_type": "code",
   "execution_count": null,
   "metadata": {},
   "outputs": [],
   "source": [
    "df_elastic_input['tutelles']=df_elastic_input.apply( lambda row: {'name': str(get_tutelle(row)), 'siren': str(get_tutelle(row, label='siren')), 'code_com': get_code_commune_siege(get_tutelle(row, label='siren'))} ,axis=1)"
   ]
  },
  {
   "cell_type": "code",
   "execution_count": null,
   "metadata": {},
   "outputs": [],
   "source": [
    "df_elastic_input['tutelles'][100]"
   ]
  },
  {
   "cell_type": "code",
   "execution_count": null,
   "metadata": {},
   "outputs": [],
   "source": [
    "list_org_nat=['Centre national de la recherche scientifique', 'Institut de recherche pour le developpement',\"Commissariat à l'énergie atomique et aux énergies alternatives\",\"Institut national de recherche pour l'agriculture, l'alimentation et l'environnement\"]"
   ]
  },
  {
   "cell_type": "code",
   "execution_count": null,
   "metadata": {},
   "outputs": [],
   "source": [
    "def com_institutions(row):\n",
    "    liste=[]\n",
    "    if isinstance(row['tutelles_com_code'],list):\n",
    "        for i in range(len(row['tutelles_com_code'])):\n",
    "            if row['tutelles_com_code'][i][0] in list(dict_com.keys()) and row['tutelles'][i][0] not in list_org_nat:\n",
    "                liste.append([dict_com[row['tutelles_com_code'][i][0]],row['tutelles_com_code'][i][1]]) \n",
    "            elif row['tutelles_com_code'][i][0] in list(dict_com.keys()) and row['tutelles'][i][0] in list_org_nat:\n",
    "                liste.append(['Organisme national',row['tutelles_com_code'][i][1]])\n",
    "            else:\n",
    "                liste.append([None,row['tutelles_com_code'][i][1]])\n",
    "        return liste\n",
    "    else :\n",
    "        return None"
   ]
  },
  {
   "cell_type": "code",
   "execution_count": null,
   "metadata": {},
   "outputs": [],
   "source": [
    "df_elastic_input['tutelles_ref_geo']=df_elastic_input.apply(lambda row: com_institutions(row), axis=1)"
   ]
  },
  {
   "cell_type": "markdown",
   "metadata": {},
   "source": [
    "into json to push into the cluster"
   ]
  },
  {
   "cell_type": "code",
   "execution_count": null,
   "metadata": {},
   "outputs": [],
   "source": [
    "aplatir(list(df_elastic_input[pd.isna(df_elastic_input.countries)].french_labs.dropna()))"
   ]
  },
  {
   "cell_type": "code",
   "execution_count": null,
   "metadata": {},
   "outputs": [],
   "source": [
    "aplatir(list(df_elastic_input[pd.isna(df_elastic_input.countries)].french_tutelles.dropna()))"
   ]
  },
  {
   "cell_type": "code",
   "execution_count": null,
   "metadata": {},
   "outputs": [],
   "source": [
    "df_elastic_input=df_elastic_input.dropna(subset=['countries'])"
   ]
  },
  {
   "cell_type": "code",
   "execution_count": null,
   "metadata": {},
   "outputs": [],
   "source": [
    "df_elastic_input[df_elastic_input.countries.apply(lambda x: 'FRA' in x)].reset_index()#.doi.to_json('list_doi_fr.json',orient='records')"
   ]
  },
  {
   "cell_type": "code",
   "execution_count": null,
   "metadata": {},
   "outputs": [],
   "source": [
    "df_elastic_input.french_tutelles[37]"
   ]
  },
  {
   "cell_type": "code",
   "execution_count": null,
   "metadata": {},
   "outputs": [],
   "source": [
    "df_elastic_input.rors[100]"
   ]
  },
  {
   "cell_type": "code",
   "execution_count": null,
   "metadata": {},
   "outputs": [],
   "source": [
    "dict_doi_bso=[]\n",
    "for i,row in df_elastic_input.iterrows():\n",
    "    dict_row=row.to_dict()\n",
    "    dict_row2={k:v for k,v in list(dict_row.items()) if ((str(v)!='nan')&(str(v)!='NaN')&(str(v)!='None')&(str(v)!='x'))}\n",
    "    #dict_row3=remove_too_long(dict_row2)\n",
    "    dict_doi_bso.append(dict_row2)"
   ]
  },
  {
   "cell_type": "code",
   "execution_count": null,
   "metadata": {},
   "outputs": [],
   "source": [
    "dict_doi_bso[0].keys()"
   ]
  },
  {
   "cell_type": "code",
   "execution_count": null,
   "metadata": {},
   "outputs": [],
   "source": [
    "len(dict_doi_bso)"
   ]
  },
  {
   "cell_type": "code",
   "execution_count": null,
   "metadata": {},
   "outputs": [],
   "source": [
    "json_lines='\\n'.join(json.dumps(entry) for entry in dict_doi_bso)\n",
    "with open('bso_ipcc_ipbes_elastic.jsonl', 'w') as f:\n",
    "      f.write(json_lines)"
   ]
  },
  {
   "cell_type": "markdown",
   "metadata": {},
   "source": [
    "fichier excel"
   ]
  },
  {
   "cell_type": "code",
   "execution_count": null,
   "metadata": {},
   "outputs": [],
   "source": [
    "df=pd.read_json('bso_ipcc_ipbes_elastic.jsonl', lines=True)"
   ]
  },
  {
   "cell_type": "code",
   "execution_count": null,
   "metadata": {},
   "outputs": [],
   "source": [
    "df=df[['doi','ipcc','ipbes']]"
   ]
  },
  {
   "cell_type": "code",
   "execution_count": null,
   "metadata": {},
   "outputs": [],
   "source": [
    "df.loc[:,'ipbes']=df.loc[:,'ipbes'].apply(lambda x: [y['chapter'] for y in x] if isinstance(x, list) else [])"
   ]
  },
  {
   "cell_type": "code",
   "execution_count": null,
   "metadata": {},
   "outputs": [],
   "source": [
    "df.loc[:,'ipcc']=df.loc[:,'ipcc'].apply(lambda x: [y['name'] for y in x] if isinstance(x, list) else [])"
   ]
  },
  {
   "cell_type": "code",
   "execution_count": null,
   "metadata": {},
   "outputs": [],
   "source": [
    "df.loc[:,'doi']=df.loc[:,'doi'].apply(lambda x: f\"doi{x}\")"
   ]
  },
  {
   "cell_type": "code",
   "execution_count": null,
   "metadata": {},
   "outputs": [],
   "source": [
    "df.drop_duplicates('doi')"
   ]
  },
  {
   "cell_type": "code",
   "execution_count": null,
   "metadata": {},
   "outputs": [],
   "source": [
    "with open('ipcc_ipbes_chapters.jsonl', 'w') as f:\n",
    "    for record in df.to_dict(orient='records'):\n",
    "        record2 = {k: v for k, v in record.items() if isinstance(v, list) or isinstance(v, str)}\n",
    "        json.dump(record2, f)\n",
    "        f.write('\\n')"
   ]
  },
  {
   "cell_type": "code",
   "execution_count": null,
   "metadata": {},
   "outputs": [],
   "source": [
    "df.loc[:,'rors']=df.loc[:,'rors'].apply(lambda x: [[]] if x==[None] else x)\n",
    "df.loc[:,'authors_name']=df.loc[:,'authors_name'].apply(lambda x: [[]] if x==[None] else x)\n",
    "df.loc[:,'institutions_names']=df.loc[:,'institutions_names'].apply(lambda x: [[]] if x==[None] else x)"
   ]
  },
  {
   "cell_type": "code",
   "execution_count": null,
   "metadata": {},
   "outputs": [],
   "source": [
    "df.loc[pd.isna(df['rors'])==False,'rors']=df.loc[pd.isna(df['rors'])==False,'rors'].apply(lambda x: ','.join([j.replace('https://ror.org/','') for j in list(pd.Series(aplatir([list(y[i].keys()) for y in x for i in range(len(y))])).drop_duplicates())]))"
   ]
  },
  {
   "cell_type": "code",
   "execution_count": null,
   "metadata": {},
   "outputs": [],
   "source": [
    "df.loc[pd.isna(df['institutions_names'])==False,'institutions_names']=df.loc[pd.isna(df['institutions_names'])==False,'institutions_names'].apply(lambda x: ','.join(list(pd.Series(aplatir([list(y[i].keys()) for y in x for i in range(len(y))])).drop_duplicates())))"
   ]
  },
  {
   "cell_type": "code",
   "execution_count": null,
   "metadata": {},
   "outputs": [],
   "source": [
    "df.loc[pd.isna(df['authors_name'])==False,'authors_name']=df.loc[pd.isna(df['authors_name'])==False,'authors_name'].apply(lambda x: ','.join(list(pd.Series(aplatir([list(y.keys()) for y in x if isinstance(y,dict)])).drop_duplicates())))"
   ]
  },
  {
   "cell_type": "code",
   "execution_count": null,
   "metadata": {},
   "outputs": [],
   "source": [
    "df.loc[pd.isna(df['ipcc'])==False,'ipcc']=df.loc[pd.isna(df['ipcc'])==False,'ipcc'].apply(lambda x: ','.join(list((pd.Series([y.get('name') for y in x]).drop_duplicates()))))"
   ]
  },
  {
   "cell_type": "code",
   "execution_count": null,
   "metadata": {},
   "outputs": [],
   "source": [
    "df.loc[pd.isna(df['ipbes'])==False,'ipbes']=df.loc[pd.isna(df['ipbes'])==False,'ipbes'].apply(lambda x: ','.join(list((pd.Series([y.get('chapter') for y in x]).drop_duplicates()))))"
   ]
  },
  {
   "cell_type": "code",
   "execution_count": null,
   "metadata": {},
   "outputs": [],
   "source": [
    "df['is_fr']=df['countries'].apply(lambda x: 'France' in x if isinstance(x,list) else False)"
   ]
  },
  {
   "cell_type": "code",
   "execution_count": null,
   "metadata": {},
   "outputs": [],
   "source": [
    "df.loc[pd.isna(df['countries'])==False,'countries']=df.loc[pd.isna(df['countries'])==False,'countries'].apply(lambda x: ','.join(x))"
   ]
  },
  {
   "cell_type": "code",
   "execution_count": null,
   "metadata": {},
   "outputs": [],
   "source": [
    "df[['doi','title','ipcc','ipbes','countries','is_fr','rors','institutions_names','authors_name']].to_excel('doi_ipcc_ipbes.xlsx', index=False)"
   ]
  }
 ],
 "metadata": {
  "kernelspec": {
   "display_name": "Python 3",
   "language": "python",
   "name": "python3"
  },
  "language_info": {
   "codemirror_mode": {
    "name": "ipython",
    "version": 3
   },
   "file_extension": ".py",
   "mimetype": "text/x-python",
   "name": "python",
   "nbconvert_exporter": "python",
   "pygments_lexer": "ipython3",
   "version": "3.9.10"
  }
 },
 "nbformat": 4,
 "nbformat_minor": 2
}
