{
 "cells": [
  {
   "cell_type": "code",
   "execution_count": 1,
   "id": "e0ef86ad",
   "metadata": {},
   "outputs": [],
   "source": [
    "from pyzotero import zotero\n",
    "import os\n",
    "import sys\n",
    "from dotenv import load_dotenv\n",
    "load_dotenv()\n",
    "import pandas as pd\n",
    "import matplotlib.pyplot as plt\n",
    "from tqdm.notebook import tqdm\n",
    "tqdm.pandas()\n",
    "\n",
    "module_path = os.path.abspath(os.path.join('..'))\n",
    "if module_path not in sys.path:\n",
    "    sys.path.append(module_path)\n",
    "from code_utils.zotero import get_data_from_zotero\n",
    "from code_utils.glutton import get_doi_glutton\n",
    "from code_utils.utils import get_doi_cleaned,aplatir\n",
    "from code_utils.pickle import load_cache,write_cache\n",
    "from code_utils.enriching_data_OpenAlex import get_countries_concepts_sdg,get_open_alex_data,get_open_alex_data_not_in_references"
   ]
  },
  {
   "cell_type": "code",
   "execution_count": 2,
   "id": "9061c147",
   "metadata": {},
   "outputs": [],
   "source": [
    "cached_openalex_data_ipbes = {}\n",
    "cached_openalex_data_not_ipbes = {}"
   ]
  },
  {
   "cell_type": "code",
   "execution_count": 3,
   "id": "dde30c87",
   "metadata": {},
   "outputs": [
    {
     "name": "stdout",
     "output_type": "stream",
     "text": [
      "6607 data in cached openalex data\n",
      "70 data in cached openalex data\n"
     ]
    }
   ],
   "source": [
    "try:\n",
    "    cached_openalex_data_ipbes = load_cache(cached_openalex_data_ipbes,module_path+'\\\\IPCC_bibliography\\\\AR6\\\\structured_data\\\\cached_openalex_data_ipbes.pkl')\n",
    "    cached_openalex_data_not_ipbes = load_cache(cached_openalex_data_ipbes,module_path+'\\\\IPCC_bibliography\\\\AR6\\\\structured_data\\\\cached_openalex_data_not_ipbes.pkl')\n",
    "except:\n",
    "    write_cache(cached_openalex_data_ipbes,module_path+'\\\\IPCC_bibliography\\\\AR6\\\\structured_data\\\\cached_openalex_data_ipbes.pkl')\n",
    "    write_cache(cached_openalex_data_not_ipbes,module_path+'\\\\IPCC_bibliography\\\\AR6\\\\structured_data\\\\cached_openalex_data_not_ipbes.pkl')"
   ]
  },
  {
   "cell_type": "markdown",
   "id": "15bcf112",
   "metadata": {},
   "source": [
    "Read IPBES references in zotero files"
   ]
  },
  {
   "cell_type": "code",
   "execution_count": 4,
   "id": "72fbfc65",
   "metadata": {},
   "outputs": [],
   "source": [
    "ZOTERO_KEY = os.getenv('ZOTERO_KEY')\n",
    "IPBES_ZOTERO_ID = '2333077'\n",
    "COLLECTION_IDS = ['8DQ8YFJI','JR5LKU4U','LBFNF62B','7IMYH9U3','DRZLUY9K','KTPTCAVF','UWNSUNXQ','BJGWRJAK','JT8FJXP6']\n",
    "CHAPTER_IDS=['1','2.1','2.2','2.3','3','4','5','6','glossary']\n",
    "ALL_COLLECTIONS={}"
   ]
  },
  {
   "cell_type": "code",
   "execution_count": 5,
   "id": "cba99ee3",
   "metadata": {},
   "outputs": [],
   "source": [
    "ALL_COLLECTIONS=get_data_from_zotero(ZOTERO_KEY,IPBES_ZOTERO_ID,COLLECTION_IDS,CHAPTER_IDS,ALL_COLLECTIONS)"
   ]
  },
  {
   "cell_type": "code",
   "execution_count": 6,
   "id": "5fdc2bb5",
   "metadata": {},
   "outputs": [
    {
     "name": "stdout",
     "output_type": "stream",
     "text": [
      "63.2258064516129 % doi available for chapter 1\n",
      "71.26436781609196 % doi available for chapter 2.1\n",
      "79.26829268292683 % doi available for chapter 2.2\n",
      "79.60199004975125 % doi available for chapter 2.3\n",
      "81.64682539682539 % doi available for chapter 3\n",
      "85.9103385178408 % doi available for chapter 4\n",
      "73.2587064676617 % doi available for chapter 5\n",
      "81.23682361208714 % doi available for chapter 6\n",
      "37.90613718411552 % doi available for chapter glossary\n"
     ]
    }
   ],
   "source": [
    "df_ipbes_chap={}\n",
    "for i in range(len(COLLECTION_IDS)):\n",
    "    df_ipbes_chap[CHAPTER_IDS[i]]=pd.DataFrame(list(pd.DataFrame(ALL_COLLECTIONS[f'collection_chapter_{CHAPTER_IDS[i]}']).data))[['DOI','title','date','creators','tags']]\n",
    "    df_ipbes_chap[CHAPTER_IDS[i]]['chap']=f'chap_{CHAPTER_IDS[i]}'\n",
    "    print(f'{len(df_ipbes_chap[CHAPTER_IDS[i]][~pd.isna(df_ipbes_chap[CHAPTER_IDS[i]].DOI)])/len(df_ipbes_chap[CHAPTER_IDS[i]])*100} % doi available for chapter {CHAPTER_IDS[i]}')"
   ]
  },
  {
   "cell_type": "markdown",
   "id": "98a44a20",
   "metadata": {},
   "source": [
    "Clean and enrich data "
   ]
  },
  {
   "cell_type": "code",
   "execution_count": 7,
   "id": "9e44246d",
   "metadata": {},
   "outputs": [],
   "source": [
    "df_ipbes=pd.concat(list(df_ipbes_chap.values())).reset_index()\n",
    "del df_ipbes['index']"
   ]
  },
  {
   "cell_type": "code",
   "execution_count": 8,
   "id": "09792a77",
   "metadata": {},
   "outputs": [
    {
     "data": {
      "text/plain": [
       "77.36948241093435"
      ]
     },
     "execution_count": 8,
     "metadata": {},
     "output_type": "execute_result"
    }
   ],
   "source": [
    "len(df_ipbes[~pd.isna(df_ipbes.DOI)])/len(df_ipbes)*100"
   ]
  },
  {
   "cell_type": "code",
   "execution_count": 9,
   "id": "90933b7e",
   "metadata": {},
   "outputs": [
    {
     "data": {
      "application/vnd.jupyter.widget-view+json": {
       "model_id": "3487353166de4c1a8641a05339e4d67b",
       "version_major": 2,
       "version_minor": 0
      },
      "text/plain": [
       "  0%|          | 0/2020 [00:00<?, ?it/s]"
      ]
     },
     "metadata": {},
     "output_type": "display_data"
    }
   ],
   "source": [
    "df_ipbes.loc[pd.isna(df_ipbes.DOI),'DOI']=df_ipbes.loc[pd.isna(df_ipbes.DOI),:].progress_apply(get_doi_glutton, axis=1)"
   ]
  },
  {
   "cell_type": "code",
   "execution_count": 10,
   "id": "b4ccc254",
   "metadata": {},
   "outputs": [
    {
     "data": {
      "text/plain": [
       "89.27851221151691"
      ]
     },
     "execution_count": 10,
     "metadata": {},
     "output_type": "execute_result"
    }
   ],
   "source": [
    "len(df_ipbes[~pd.isna(df_ipbes.DOI)])/len(df_ipbes)*100"
   ]
  },
  {
   "cell_type": "code",
   "execution_count": 11,
   "id": "25ae7b2a",
   "metadata": {},
   "outputs": [],
   "source": [
    "df_ipbes.loc[:,'DOI']=df_ipbes.loc[:,'DOI'].apply(lambda x: get_doi_cleaned(x))\n",
    "df_ipbes.loc[:,'DOI']=df_ipbes.loc[:,'DOI'].apply(lambda x: None if str(x)[:4]=='http' else x)\n",
    "df_ipbes['freq']=1\n",
    "df_ipbes=df_ipbes.rename(columns={'DOI':'doi'})"
   ]
  },
  {
   "cell_type": "markdown",
   "id": "8ca0842d",
   "metadata": {},
   "source": [
    "Enriching data through OpenAlex API integration"
   ]
  },
  {
   "cell_type": "code",
   "execution_count": 12,
   "id": "88889348",
   "metadata": {},
   "outputs": [],
   "source": [
    "df_unique_doi=df_ipbes.groupby(by=['doi'], dropna=True).agg({'chap': lambda x: list(x), 'freq': 'sum'})\n",
    "df_unique_doi=df_unique_doi.reset_index()"
   ]
  },
  {
   "cell_type": "code",
   "execution_count": 13,
   "id": "930eeae1",
   "metadata": {},
   "outputs": [
    {
     "data": {
      "text/plain": [
       "0       [{'id': 'https://openalex.org/W1970666665', 'd...\n",
       "1       [{'id': 'https://openalex.org/W2077652067', 'd...\n",
       "2       [{'id': 'https://openalex.org/W2320183287', 'd...\n",
       "3       [{'id': 'https://openalex.org/W1487177596', 'd...\n",
       "4       [{'id': 'https://openalex.org/W1546680881', 'd...\n",
       "                              ...                        \n",
       "6599    [{'id': 'https://openalex.org/W2890993837', 'd...\n",
       "6600    [{'id': 'https://openalex.org/W2029219906', 'd...\n",
       "6601    [{'id': 'https://openalex.org/W2221413160', 'd...\n",
       "6602    [{'id': 'https://openalex.org/W3124428460', 'd...\n",
       "6603    [{'id': 'https://openalex.org/W3137011924', 'd...\n",
       "Length: 6604, dtype: object"
      ]
     },
     "execution_count": 13,
     "metadata": {},
     "output_type": "execute_result"
    }
   ],
   "source": [
    "#get data_OpenAlex from the API \n",
    "df_unique_doi.apply(lambda row: get_open_alex_data(cached_openalex_data_ipbes,row['doi']), axis= 1)"
   ]
  },
  {
   "cell_type": "code",
   "execution_count": 16,
   "id": "cddfdcb0",
   "metadata": {},
   "outputs": [
    {
     "data": {
      "text/plain": [
       "6608"
      ]
     },
     "execution_count": 16,
     "metadata": {},
     "output_type": "execute_result"
    }
   ],
   "source": [
    "len(cached_openalex_data_ipbes)"
   ]
  },
  {
   "cell_type": "code",
   "execution_count": 17,
   "id": "e85d32d5",
   "metadata": {},
   "outputs": [],
   "source": [
    "write_cache(cached_openalex_data_ipbes,module_path+'\\\\IPCC_bibliography\\\\AR6\\\\structured_data\\\\cached_openalex_data_ipbes.pkl')"
   ]
  },
  {
   "cell_type": "code",
   "execution_count": 81,
   "id": "ef9520f7",
   "metadata": {},
   "outputs": [],
   "source": [
    "def get_countries_concepts_sdg(cached_openalex_data,row=True,ipcc=True,i=0):\n",
    "    if ipcc:\n",
    "        doi=row.doi\n",
    "        if cached_openalex_data[doi]==[]:\n",
    "            topics=[]\n",
    "            data=[]\n",
    "        elif (len(cached_openalex_data[doi])>1)&('topics' not in list(cached_openalex_data[doi][0].keys())):\n",
    "            topics=cached_openalex_data[doi][1].get('topics')\n",
    "            data=cached_openalex_data[doi][1]\n",
    "        elif (len(cached_openalex_data[doi])==1)&('topics' in list(cached_openalex_data[doi][0].keys())):\n",
    "            topics=cached_openalex_data[doi][0].get('topics')\n",
    "            data=cached_openalex_data[doi][0]\n",
    "    else:\n",
    "        if isinstance(cached_openalex_data[i],list):\n",
    "            if (len(cached_openalex_data[i])>1)&('topics' not in list(cached_openalex_data[i][0].keys())):\n",
    "                topics=cached_openalex_data[i][1].get('topics')\n",
    "                data=cached_openalex_data[i][1]\n",
    "            if (len(cached_openalex_data[i])==0)&('topics' in list(cached_openalex_data[i][0].keys())):\n",
    "                topics=cached_openalex_data[i][0].get('topics')\n",
    "                data=cached_openalex_data[i][0]\n",
    "        else:\n",
    "            data=cached_openalex_data[i]\n",
    "            if ('topics' in list(data.keys())):\n",
    "                topics=data.get('topics')\n",
    "            else:\n",
    "                topics=[]\n",
    "        doi=data.get('doi')\n",
    "    if (data!=[]):\n",
    "        authors=data.get('authorships')\n",
    "        if authors!=[]:\n",
    "            countries=list(set(aplatir([author.get('countries') for author in authors]))) \n",
    "        else:\n",
    "            countries=[None]\n",
    "\n",
    "        concepts=data.get('concepts')\n",
    "        if concepts!=[]:\n",
    "            concepts_names=[{'name': concept.get('display_name')} for concept in concepts]\n",
    "        else:\n",
    "            concepts_names=None\n",
    "\n",
    "        if topics!=[]:\n",
    "            topics_names=[{'name': topic.get('display_name')} for topic in topics]\n",
    "        else:\n",
    "            topics_names=None\n",
    "\n",
    "        sdgs=data.get('sustainable_development_goals')\n",
    "        if sdgs!=[]:\n",
    "            sdgs_ids_names=[{'id': str(sdg.get('id'))[-2:].replace(\"/\",\"\"), 'name': sdg.get('display_name')} for sdg in sdgs]\n",
    "        else:\n",
    "            sdgs_ids_names=None\n",
    "    else:\n",
    "        return [None],None,None,None,None,None\n",
    "    return countries,concepts_names,sdgs_ids_names,data.get('publication_year'),topics_names,doi"
   ]
  },
  {
   "cell_type": "code",
   "execution_count": 82,
   "id": "df2254b8",
   "metadata": {},
   "outputs": [],
   "source": [
    "year_list = []\n",
    "countries_list = []\n",
    "concepts_list = []\n",
    "sdg_list = []\n",
    "topics_list = []\n",
    "for i,row in df_unique_doi.iterrows():\n",
    "    countries,concepts,sdg,year,topics,doi=get_countries_concepts_sdg(cached_openalex_data_ipbes,row,ipcc=True,i=0)\n",
    "\n",
    "    countries_list.append(countries)\n",
    "    concepts_list.append(concepts)\n",
    "    sdg_list.append(sdg)\n",
    "    year_list.append(year)   \n",
    "    topics_list.append(topics)   \n",
    "\n",
    "df_unique_doi['countries'] = countries_list\n",
    "df_unique_doi['concepts'] = concepts_list\n",
    "df_unique_doi['sdg'] = sdg_list\n",
    "df_unique_doi['year'] = year_list\n",
    "df_unique_doi['topics'] = topics_list"
   ]
  },
  {
   "cell_type": "markdown",
   "id": "d070eddb",
   "metadata": {},
   "source": [
    "Visualization of the contribution of each countries in ipcc references"
   ]
  },
  {
   "cell_type": "code",
   "execution_count": 83,
   "id": "ca508588",
   "metadata": {},
   "outputs": [],
   "source": [
    "df_ipbes=pd.merge(df_ipbes, df_unique_doi[['doi','countries','concepts','sdg','year']], on='doi', how='left')\n",
    "df_ipbes.loc[:,'countries']=df_ipbes.loc[:,'countries'].apply(lambda x: str(x).replace('nan','None').replace('[]','None').replace('[None]','None') if ((str(x)=='nan')|(str(x)=='[None]')|((str(x)=='[]'))) else x )\n",
    "df_ipbes.loc[:,'countries']=df_ipbes.loc[:,'countries'].apply(lambda x: ['None'] if x=='None' else x)"
   ]
  },
  {
   "cell_type": "code",
   "execution_count": 84,
   "id": "574b3850",
   "metadata": {},
   "outputs": [],
   "source": [
    "#df_ipbes.to_json(module_path+'\\\\IPCC_bibliography\\\\AR6\\\\structured_data\\\\data_ipbes_visualization.json', orient='records')"
   ]
  },
  {
   "cell_type": "code",
   "execution_count": 85,
   "id": "c5402aff",
   "metadata": {},
   "outputs": [],
   "source": [
    "data_counts = pd.Series(aplatir(list(df_ipbes['countries']))).value_counts().drop('None')"
   ]
  },
  {
   "cell_type": "code",
   "execution_count": 86,
   "id": "e0f2d648",
   "metadata": {},
   "outputs": [
    {
     "data": {
      "image/png": "[encoded data removed]",
      "text/plain": [
       "<Figure size 1000x600 with 1 Axes>"
      ]
     },
     "metadata": {},
     "output_type": "display_data"
    }
   ],
   "source": [
    "plt.figure(figsize=(10, 6))\n",
    "data_counts[:20].plot(kind='bar')\n",
    "ax = data_counts[:20].plot(kind='bar')\n",
    "for i, v in enumerate(data_counts[:20]):\n",
    "    ax.text(i, v + 0.1, str(v), ha='center', va='bottom')\n",
    "plt.show()"
   ]
  },
  {
   "cell_type": "markdown",
   "id": "d7efd6db",
   "metadata": {},
   "source": [
    "Find the data for constructing the learning model ( IPBES related or not )"
   ]
  },
  {
   "cell_type": "code",
   "execution_count": 87,
   "id": "01cc5efb",
   "metadata": {},
   "outputs": [],
   "source": [
    "df_ipbes['year'] = pd.to_numeric(df_ipbes['year'], errors='coerce')\n",
    "year=df_ipbes.drop_duplicates(subset='doi')['year'].dropna().sort_values().apply(lambda x: int(x))\n",
    "year_counts = pd.Series(list(year)).value_counts().to_dict()"
   ]
  },
  {
   "cell_type": "code",
   "execution_count": 88,
   "id": "2645aec9",
   "metadata": {},
   "outputs": [],
   "source": [
    "dois=list(df_unique_doi.doi)"
   ]
  },
  {
   "cell_type": "code",
   "execution_count": 89,
   "id": "b2c417d4",
   "metadata": {},
   "outputs": [],
   "source": [
    "year_counts_not_ipbes={}\n",
    "target_iterations = len(dois)"
   ]
  },
  {
   "cell_type": "code",
   "execution_count": 90,
   "id": "c945fe2f",
   "metadata": {},
   "outputs": [
    {
     "name": "stdout",
     "output_type": "stream",
     "text": [
      "plus que 702 publications pour completer l'année 2016\n",
      "plus que 608 publications pour completer l'année 2016\n",
      "plus que 512 publications pour completer l'année 2016\n",
      "plus que 422 publications pour completer l'année 2016\n",
      "plus que 326 publications pour completer l'année 2016\n",
      "plus que 227 publications pour completer l'année 2016\n",
      "plus que 141 publications pour completer l'année 2016\n",
      "plus que 56 publications pour completer l'année 2016\n",
      "plus que 623 publications pour completer l'année 2017\n",
      "plus que 529 publications pour completer l'année 2017\n",
      "plus que 437 publications pour completer l'année 2017\n",
      "plus que 343 publications pour completer l'année 2017\n",
      "plus que 245 publications pour completer l'année 2017\n",
      "plus que 147 publications pour completer l'année 2017\n",
      "plus que 55 publications pour completer l'année 2017\n",
      "plus que 620 publications pour completer l'année 2015\n",
      "plus que 533 publications pour completer l'année 2015\n",
      "plus que 447 publications pour completer l'année 2015\n",
      "plus que 353 publications pour completer l'année 2015\n",
      "plus que 259 publications pour completer l'année 2015\n",
      "plus que 149 publications pour completer l'année 2015\n",
      "plus que 59 publications pour completer l'année 2015\n",
      "plus que 560 publications pour completer l'année 2014\n",
      "plus que 470 publications pour completer l'année 2014\n",
      "plus que 382 publications pour completer l'année 2014\n",
      "plus que 293 publications pour completer l'année 2014\n",
      "plus que 200 publications pour completer l'année 2014\n",
      "plus que 105 publications pour completer l'année 2014\n",
      "plus que 20 publications pour completer l'année 2014\n",
      "plus que 524 publications pour completer l'année 2013\n",
      "plus que 432 publications pour completer l'année 2013\n",
      "plus que 334 publications pour completer l'année 2013\n",
      "plus que 248 publications pour completer l'année 2013\n",
      "plus que 153 publications pour completer l'année 2013\n",
      "plus que 52 publications pour completer l'année 2013\n",
      "plus que 408 publications pour completer l'année 2012\n",
      "plus que 323 publications pour completer l'année 2012\n",
      "plus que 230 publications pour completer l'année 2012\n",
      "plus que 129 publications pour completer l'année 2012\n",
      "plus que 33 publications pour completer l'année 2012\n",
      "plus que 390 publications pour completer l'année 2010\n",
      "plus que 300 publications pour completer l'année 2010\n",
      "plus que 206 publications pour completer l'année 2010\n",
      "plus que 129 publications pour completer l'année 2010\n",
      "plus que 31 publications pour completer l'année 2010\n",
      "plus que 345 publications pour completer l'année 2011\n",
      "plus que 249 publications pour completer l'année 2011\n",
      "plus que 178 publications pour completer l'année 2011\n",
      "plus que 97 publications pour completer l'année 2011\n",
      "plus que 18 publications pour completer l'année 2011\n",
      "plus que 313 publications pour completer l'année 2018\n",
      "plus que 213 publications pour completer l'année 2018\n",
      "plus que 121 publications pour completer l'année 2018\n",
      "plus que 13 publications pour completer l'année 2018\n",
      "plus que 307 publications pour completer l'année 2009\n",
      "plus que 223 publications pour completer l'année 2009\n",
      "plus que 128 publications pour completer l'année 2009\n",
      "plus que 34 publications pour completer l'année 2009\n",
      "plus que 250 publications pour completer l'année 2008\n",
      "plus que 152 publications pour completer l'année 2008\n",
      "plus que 66 publications pour completer l'année 2008\n",
      "plus que 228 publications pour completer l'année 2007\n",
      "plus que 147 publications pour completer l'année 2007\n",
      "plus que 62 publications pour completer l'année 2007\n",
      "plus que 175 publications pour completer l'année 2006\n",
      "plus que 84 publications pour completer l'année 2006\n",
      "plus que 6 publications pour completer l'année 2006\n",
      "plus que 154 publications pour completer l'année 2005\n",
      "plus que 46 publications pour completer l'année 2005\n",
      "plus que 127 publications pour completer l'année 2004\n",
      "plus que 27 publications pour completer l'année 2004\n",
      "plus que 112 publications pour completer l'année 2003\n",
      "plus que 29 publications pour completer l'année 2003\n",
      "plus que 94 publications pour completer l'année 2002\n",
      "plus que 9 publications pour completer l'année 2002\n",
      "plus que 79 publications pour completer l'année 2000\n",
      "plus que 9 publications pour completer l'année 2000\n",
      "plus que 75 publications pour completer l'année 2001\n",
      "plus que 58 publications pour completer l'année 1999\n",
      "plus que 43 publications pour completer l'année 1997\n",
      "plus que 43 publications pour completer l'année 2019\n",
      "plus que 43 publications pour completer l'année 1998\n",
      "plus que 29 publications pour completer l'année 1996\n",
      "plus que 28 publications pour completer l'année 2021\n",
      "plus que 26 publications pour completer l'année 2020\n",
      "plus que 24 publications pour completer l'année 1995\n",
      "plus que 23 publications pour completer l'année 1994\n",
      "plus que 19 publications pour completer l'année 1992\n",
      "plus que 16 publications pour completer l'année 1991\n",
      "plus que 13 publications pour completer l'année 1993\n",
      "plus que 11 publications pour completer l'année 1988\n",
      "plus que 10 publications pour completer l'année 1990\n",
      "plus que 7 publications pour completer l'année 1980\n",
      "plus que 7 publications pour completer l'année 1987\n",
      "plus que 7 publications pour completer l'année 1978\n",
      "plus que 6 publications pour completer l'année 1976\n",
      "plus que 6 publications pour completer l'année 1985\n",
      "plus que 5 publications pour completer l'année 1973\n",
      "plus que 5 publications pour completer l'année 1966\n",
      "plus que 4 publications pour completer l'année 2022\n",
      "plus que 4 publications pour completer l'année 1989\n",
      "plus que 4 publications pour completer l'année 2023\n",
      "plus que 4 publications pour completer l'année 1983\n",
      "plus que 4 publications pour completer l'année 1981\n",
      "plus que 4 publications pour completer l'année 1977\n",
      "plus que 3 publications pour completer l'année 1984\n",
      "plus que 3 publications pour completer l'année 1982\n",
      "plus que 3 publications pour completer l'année 1979\n",
      "plus que 3 publications pour completer l'année 1962\n",
      "plus que 3 publications pour completer l'année 1971\n",
      "plus que 3 publications pour completer l'année 1986\n",
      "plus que 3 publications pour completer l'année 1968\n",
      "plus que 2 publications pour completer l'année 1964\n",
      "plus que 2 publications pour completer l'année 1960\n",
      "plus que 2 publications pour completer l'année 1961\n",
      "plus que 2 publications pour completer l'année 1970\n",
      "plus que 1 publications pour completer l'année 1913\n",
      "plus que 1 publications pour completer l'année 1944\n",
      "plus que 1 publications pour completer l'année 1957\n",
      "plus que 1 publications pour completer l'année 1943\n",
      "plus que 1 publications pour completer l'année 1936\n",
      "plus que 1 publications pour completer l'année 1954\n",
      "plus que 1 publications pour completer l'année 1969\n",
      "plus que 1 publications pour completer l'année 1959\n",
      "plus que 1 publications pour completer l'année 1972\n",
      "plus que 1 publications pour completer l'année 1974\n",
      "plus que 1 publications pour completer l'année 1975\n",
      "plus que 1 publications pour completer l'année 1902\n"
     ]
    }
   ],
   "source": [
    "for year in list(year_counts.keys()):   \n",
    "    cached_openalex_data_not_ipbes[year]=[]\n",
    "    year_counts_not_ipbes[year]=0\n",
    "    while year_counts_not_ipbes[year]<year_counts[year]:\n",
    "        get_open_alex_data_not_in_references(dois,cached_openalex_data_not_ipbes,year_counts,year_counts_not_ipbes,year)\n",
    "    cached_openalex_data_not_ipbes[year]=cached_openalex_data_not_ipbes[year][:year_counts[year]+1]"
   ]
  },
  {
   "cell_type": "code",
   "execution_count": 91,
   "id": "6882dc31",
   "metadata": {},
   "outputs": [
    {
     "data": {
      "text/plain": [
       "70"
      ]
     },
     "execution_count": 91,
     "metadata": {},
     "output_type": "execute_result"
    }
   ],
   "source": [
    "len(cached_openalex_data_not_ipbes)"
   ]
  },
  {
   "cell_type": "code",
   "execution_count": 92,
   "id": "ccc217b8",
   "metadata": {},
   "outputs": [],
   "source": [
    "write_cache(cached_openalex_data_not_ipbes,module_path+'\\\\IPCC_bibliography\\\\AR6\\\\structured_data\\\\cached_openalex_data_not_ipbes.pkl')"
   ]
  },
  {
   "cell_type": "code",
   "execution_count": 93,
   "id": "413f51d4",
   "metadata": {},
   "outputs": [],
   "source": [
    "df_not_ipbes=pd.DataFrame()\n",
    "year_list = []\n",
    "countries_list = []\n",
    "concepts_list = []\n",
    "sdg_list = []\n",
    "topics_list = []\n",
    "dois_list = []\n",
    "for k in range(len(aplatir(list(cached_openalex_data_not_ipbes.values())))):\n",
    "    countries,concepts,sdg,year,topics,doi=get_countries_concepts_sdg(cached_openalex_data=aplatir(list(cached_openalex_data_not_ipbes.values())),ipcc=False,i=k)\n",
    "\n",
    "    countries_list.append(countries)\n",
    "    concepts_list.append(concepts)\n",
    "    sdg_list.append(sdg)\n",
    "    year_list.append(year)   \n",
    "    topics_list.append(topics)   \n",
    "    dois_list.append(doi)   \n",
    "\n",
    "df_not_ipbes['countries'] = countries_list\n",
    "df_not_ipbes['concepts'] = concepts_list\n",
    "df_not_ipbes['sdg'] = sdg_list\n",
    "df_not_ipbes['year'] = year_list\n",
    "df_not_ipbes['topics'] = topics_list\n",
    "df_not_ipbes['doi'] = dois_list"
   ]
  },
  {
   "cell_type": "code",
   "execution_count": 94,
   "id": "ba2ffe1e",
   "metadata": {},
   "outputs": [
    {
     "data": {
      "text/html": [
       "<div>\n",
       "<style scoped>\n",
       "    .dataframe tbody tr th:only-of-type {\n",
       "        vertical-align: middle;\n",
       "    }\n",
       "\n",
       "    .dataframe tbody tr th {\n",
       "        vertical-align: top;\n",
       "    }\n",
       "\n",
       "    .dataframe thead th {\n",
       "        text-align: right;\n",
       "    }\n",
       "</style>\n",
       "<table border=\"1\" class=\"dataframe\">\n",
       "  <thead>\n",
       "    <tr style=\"text-align: right;\">\n",
       "      <th></th>\n",
       "      <th>countries</th>\n",
       "      <th>concepts</th>\n",
       "      <th>sdg</th>\n",
       "      <th>year</th>\n",
       "      <th>topics</th>\n",
       "      <th>doi</th>\n",
       "    </tr>\n",
       "  </thead>\n",
       "  <tbody>\n",
       "    <tr>\n",
       "      <th>0</th>\n",
       "      <td>[US]</td>\n",
       "      <td>[{'name': 'Medicine'}, {'name': 'Specialty'}, ...</td>\n",
       "      <td>[{'id': '3', 'name': 'Good health and well-bei...</td>\n",
       "      <td>2016</td>\n",
       "      <td>[{'name': 'Molecular Mechanisms of Cardiac Arr...</td>\n",
       "      <td>https://doi.org/10.1161/circep.116.003612</td>\n",
       "    </tr>\n",
       "    <tr>\n",
       "      <th>1</th>\n",
       "      <td>[None]</td>\n",
       "      <td>[{'name': 'Business'}, {'name': 'Tourism'}, {'...</td>\n",
       "      <td>[{'id': '8', 'name': 'Decent work and economic...</td>\n",
       "      <td>2016</td>\n",
       "      <td>[{'name': 'Factors Influencing Wine Tourism an...</td>\n",
       "      <td>https://doi.org/10.4135/9781473982871.n21</td>\n",
       "    </tr>\n",
       "    <tr>\n",
       "      <th>2</th>\n",
       "      <td>[EG]</td>\n",
       "      <td>[{'name': 'Medicine'}, {'name': 'Anesthesia'},...</td>\n",
       "      <td>[{'id': '2', 'name': 'Zero hunger'}]</td>\n",
       "      <td>2016</td>\n",
       "      <td>[{'name': 'Management of Postoperative Pain an...</td>\n",
       "      <td>https://doi.org/10.4103/1687-7934.179906</td>\n",
       "    </tr>\n",
       "    <tr>\n",
       "      <th>3</th>\n",
       "      <td>[]</td>\n",
       "      <td>[{'name': 'Medicine'}, {'name': 'Dermatology'}]</td>\n",
       "      <td>[{'id': '3', 'name': 'Good health and well-bei...</td>\n",
       "      <td>2016</td>\n",
       "      <td>[{'name': 'Health Risks in Children and Adoles...</td>\n",
       "      <td>https://doi.org/10.25207/1608-6228-2016-1-83-87</td>\n",
       "    </tr>\n",
       "    <tr>\n",
       "      <th>4</th>\n",
       "      <td>[PL]</td>\n",
       "      <td>[{'name': 'Biology'}, {'name': 'Ixodes ricinus...</td>\n",
       "      <td>[{'id': '15', 'name': 'Life on land'}]</td>\n",
       "      <td>2016</td>\n",
       "      <td>[{'name': 'Tick-Borne Diseases and Pathogens T...</td>\n",
       "      <td>https://doi.org/10.17420/ap6201.25</td>\n",
       "    </tr>\n",
       "    <tr>\n",
       "      <th>...</th>\n",
       "      <td>...</td>\n",
       "      <td>...</td>\n",
       "      <td>...</td>\n",
       "      <td>...</td>\n",
       "      <td>...</td>\n",
       "      <td>...</td>\n",
       "    </tr>\n",
       "    <tr>\n",
       "      <th>6646</th>\n",
       "      <td>[US]</td>\n",
       "      <td>[{'name': 'Medicine'}, {'name': 'Gallstones'},...</td>\n",
       "      <td>[{'id': '3', 'name': 'Good health and well-bei...</td>\n",
       "      <td>1943</td>\n",
       "      <td>[{'name': 'Complications of Gallstone Disease'...</td>\n",
       "      <td>https://doi.org/10.1016/s0002-9610(43)90578-1</td>\n",
       "    </tr>\n",
       "    <tr>\n",
       "      <th>6647</th>\n",
       "      <td>[]</td>\n",
       "      <td>[{'name': 'Spondylolisthesis'}, {'name': 'Comp...</td>\n",
       "      <td>[{'id': '2', 'name': 'Zero hunger'}]</td>\n",
       "      <td>1936</td>\n",
       "      <td>[{'name': 'Pathophysiology of Lumbar Disc Dege...</td>\n",
       "      <td>https://doi.org/10.1136/bmj.2.3956.894-b</td>\n",
       "    </tr>\n",
       "    <tr>\n",
       "      <th>6648</th>\n",
       "      <td>[]</td>\n",
       "      <td>[{'name': 'Ehlers–Danlos syndrome'}, {'name': ...</td>\n",
       "      <td>[{'id': '4', 'name': 'Quality education'}]</td>\n",
       "      <td>1936</td>\n",
       "      <td>[{'name': 'Genetic Disorders Causing Tissue Mi...</td>\n",
       "      <td>https://doi.org/10.1111/j.1365-2133.1936.tb100...</td>\n",
       "    </tr>\n",
       "    <tr>\n",
       "      <th>6649</th>\n",
       "      <td>[CN]</td>\n",
       "      <td>[{'name': 'Bacteroides fragilis'}, {'name': 'O...</td>\n",
       "      <td>[{'id': '3', 'name': 'Good health and well-bei...</td>\n",
       "      <td>2024</td>\n",
       "      <td>[{'name': 'Blood-Brain Barrier and Neurovascul...</td>\n",
       "      <td>https://doi.org/10.1080/15384101.2024.2309005</td>\n",
       "    </tr>\n",
       "    <tr>\n",
       "      <th>6650</th>\n",
       "      <td>[CN]</td>\n",
       "      <td>[{'name': 'Dehydrogenation'}, {'name': 'Formic...</td>\n",
       "      <td>[{'id': '9', 'name': 'Industry, innovation and...</td>\n",
       "      <td>2024</td>\n",
       "      <td>[{'name': 'Carbon Dioxide Utilization for Chem...</td>\n",
       "      <td>https://doi.org/10.1016/j.fuel.2023.129539</td>\n",
       "    </tr>\n",
       "  </tbody>\n",
       "</table>\n",
       "<p>6651 rows × 6 columns</p>\n",
       "</div>"
      ],
      "text/plain": [
       "     countries                                           concepts  \\\n",
       "0         [US]  [{'name': 'Medicine'}, {'name': 'Specialty'}, ...   \n",
       "1       [None]  [{'name': 'Business'}, {'name': 'Tourism'}, {'...   \n",
       "2         [EG]  [{'name': 'Medicine'}, {'name': 'Anesthesia'},...   \n",
       "3           []    [{'name': 'Medicine'}, {'name': 'Dermatology'}]   \n",
       "4         [PL]  [{'name': 'Biology'}, {'name': 'Ixodes ricinus...   \n",
       "...        ...                                                ...   \n",
       "6646      [US]  [{'name': 'Medicine'}, {'name': 'Gallstones'},...   \n",
       "6647        []  [{'name': 'Spondylolisthesis'}, {'name': 'Comp...   \n",
       "6648        []  [{'name': 'Ehlers–Danlos syndrome'}, {'name': ...   \n",
       "6649      [CN]  [{'name': 'Bacteroides fragilis'}, {'name': 'O...   \n",
       "6650      [CN]  [{'name': 'Dehydrogenation'}, {'name': 'Formic...   \n",
       "\n",
       "                                                    sdg  year  \\\n",
       "0     [{'id': '3', 'name': 'Good health and well-bei...  2016   \n",
       "1     [{'id': '8', 'name': 'Decent work and economic...  2016   \n",
       "2                  [{'id': '2', 'name': 'Zero hunger'}]  2016   \n",
       "3     [{'id': '3', 'name': 'Good health and well-bei...  2016   \n",
       "4                [{'id': '15', 'name': 'Life on land'}]  2016   \n",
       "...                                                 ...   ...   \n",
       "6646  [{'id': '3', 'name': 'Good health and well-bei...  1943   \n",
       "6647               [{'id': '2', 'name': 'Zero hunger'}]  1936   \n",
       "6648         [{'id': '4', 'name': 'Quality education'}]  1936   \n",
       "6649  [{'id': '3', 'name': 'Good health and well-bei...  2024   \n",
       "6650  [{'id': '9', 'name': 'Industry, innovation and...  2024   \n",
       "\n",
       "                                                 topics  \\\n",
       "0     [{'name': 'Molecular Mechanisms of Cardiac Arr...   \n",
       "1     [{'name': 'Factors Influencing Wine Tourism an...   \n",
       "2     [{'name': 'Management of Postoperative Pain an...   \n",
       "3     [{'name': 'Health Risks in Children and Adoles...   \n",
       "4     [{'name': 'Tick-Borne Diseases and Pathogens T...   \n",
       "...                                                 ...   \n",
       "6646  [{'name': 'Complications of Gallstone Disease'...   \n",
       "6647  [{'name': 'Pathophysiology of Lumbar Disc Dege...   \n",
       "6648  [{'name': 'Genetic Disorders Causing Tissue Mi...   \n",
       "6649  [{'name': 'Blood-Brain Barrier and Neurovascul...   \n",
       "6650  [{'name': 'Carbon Dioxide Utilization for Chem...   \n",
       "\n",
       "                                                    doi  \n",
       "0             https://doi.org/10.1161/circep.116.003612  \n",
       "1             https://doi.org/10.4135/9781473982871.n21  \n",
       "2              https://doi.org/10.4103/1687-7934.179906  \n",
       "3       https://doi.org/10.25207/1608-6228-2016-1-83-87  \n",
       "4                    https://doi.org/10.17420/ap6201.25  \n",
       "...                                                 ...  \n",
       "6646      https://doi.org/10.1016/s0002-9610(43)90578-1  \n",
       "6647           https://doi.org/10.1136/bmj.2.3956.894-b  \n",
       "6648  https://doi.org/10.1111/j.1365-2133.1936.tb100...  \n",
       "6649      https://doi.org/10.1080/15384101.2024.2309005  \n",
       "6650         https://doi.org/10.1016/j.fuel.2023.129539  \n",
       "\n",
       "[6651 rows x 6 columns]"
      ]
     },
     "execution_count": 94,
     "metadata": {},
     "output_type": "execute_result"
    }
   ],
   "source": [
    "df_not_ipbes"
   ]
  },
  {
   "cell_type": "code",
   "execution_count": null,
   "id": "f2d4625f",
   "metadata": {},
   "outputs": [],
   "source": [
    "#df_not_ipbes.to_json(module_path+f'\\\\IPCC_bibliography\\\\AR6\\\\structured_data\\\\data_not_ipbes.jsonl', orient='records', lines= True)"
   ]
  }
 ],
 "metadata": {
  "kernelspec": {
   "display_name": "Python 3",
   "language": "python",
   "name": "python3"
  },
  "language_info": {
   "codemirror_mode": {
    "name": "ipython",
    "version": 3
   },
   "file_extension": ".py",
   "mimetype": "text/x-python",
   "name": "python",
   "nbconvert_exporter": "python",
   "pygments_lexer": "ipython3",
   "version": "3.10.13"
  }
 },
 "nbformat": 4,
 "nbformat_minor": 5
}
