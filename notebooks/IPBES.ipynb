{
 "cells": [
  {
   "cell_type": "code",
   "execution_count": 1,
   "id": "e0ef86ad",
   "metadata": {},
   "outputs": [],
   "source": [
    "from pyzotero import zotero\n",
    "import os\n",
    "import sys\n",
    "from dotenv import load_dotenv\n",
    "load_dotenv()\n",
    "import pandas as pd\n",
    "import matplotlib.pyplot as plt\n",
    "from datetime import datetime\n",
    "from tqdm.notebook import tqdm\n",
    "tqdm.pandas()\n",
    "\n",
    "module_path = os.path.abspath(os.path.join('..'))\n",
    "if module_path not in sys.path:\n",
    "    sys.path.append(module_path)\n",
    "from code_utils.zotero import get_data_from_zotero\n",
    "from code_utils.glutton import get_doi_glutton\n",
    "from code_utils.utils import get_doi_cleaned,aplatir,wg_chap_to_dict,get_year_ipbes,check_doi_glutton\n",
    "from code_utils.pickle import load_cache,write_cache\n",
    "from code_utils.enriching_data_OpenAlex import get_countries_concepts_sdg,get_open_alex_data,get_open_alex_data_not_in_references"
   ]
  },
  {
   "cell_type": "code",
   "execution_count": 2,
   "id": "9061c147",
   "metadata": {},
   "outputs": [],
   "source": [
    "cached_openalex_data_ipbes = {}\n",
    "cached_openalex_data_not_ipbes = {}"
   ]
  },
  {
   "cell_type": "code",
   "execution_count": 3,
   "id": "dde30c87",
   "metadata": {},
   "outputs": [
    {
     "name": "stdout",
     "output_type": "stream",
     "text": [
      "6608 data in cached openalex data\n",
      "70 data in cached openalex data\n"
     ]
    }
   ],
   "source": [
    "try:\n",
    "    cached_openalex_data_ipbes = load_cache(cached_openalex_data_ipbes,module_path+'\\\\IPCC_bibliography\\\\AR6\\\\structured_data\\\\cached_openalex_data_ipbes.pkl')\n",
    "    cached_openalex_data_not_ipbes = load_cache(cached_openalex_data_ipbes,module_path+'\\\\IPCC_bibliography\\\\AR6\\\\structured_data\\\\cached_openalex_data_not_ipbes.pkl')\n",
    "except:\n",
    "    #write_cache(cached_openalex_data_ipbes,module_path+'\\\\IPCC_bibliography\\\\AR6\\\\structured_data\\\\cached_openalex_data_ipbes.pkl')\n",
    "    #write_cache(cached_openalex_data_not_ipbes,module_path+'\\\\IPCC_bibliography\\\\AR6\\\\structured_data\\\\cached_openalex_data_not_ipbes.pkl')\n",
    "    print('oups')"
   ]
  },
  {
   "cell_type": "markdown",
   "id": "15bcf112",
   "metadata": {},
   "source": [
    "Read IPBES references in zotero files"
   ]
  },
  {
   "cell_type": "code",
   "execution_count": 4,
   "id": "72fbfc65",
   "metadata": {},
   "outputs": [],
   "source": [
    "ZOTERO_KEY = os.getenv('ZOTERO_KEY')\n",
    "IPBES_ZOTERO_ID = '2333077'\n",
    "COLLECTION_IDS = ['8DQ8YFJI','JR5LKU4U','LBFNF62B','7IMYH9U3','DRZLUY9K','KTPTCAVF','UWNSUNXQ','BJGWRJAK','JT8FJXP6']\n",
    "CHAPTER_IDS=['1','2.1','2.2','2.3','3','4','5','6','glossary']\n",
    "ALL_COLLECTIONS={}"
   ]
  },
  {
   "cell_type": "code",
   "execution_count": 5,
   "id": "cba99ee3",
   "metadata": {},
   "outputs": [
    {
     "name": "stderr",
     "output_type": "stream",
     "text": [
      "DEBUG:urllib3.connectionpool:Starting new HTTPS connection (1): api.zotero.org:443\n",
      "DEBUG:urllib3.connectionpool:https://api.zotero.org:443 \"GET /groups/2333077/collections/8DQ8YFJI/items?start=0&limit=100&format=json HTTP/1.1\" 200 None\n",
      "DEBUG:urllib3.connectionpool:Starting new HTTPS connection (1): api.zotero.org:443\n",
      "DEBUG:urllib3.connectionpool:https://api.zotero.org:443 \"GET /groups/2333077/collections/8DQ8YFJI/items?start=100&limit=100&format=json HTTP/1.1\" 200 31551\n",
      "DEBUG:urllib3.connectionpool:Starting new HTTPS connection (1): api.zotero.org:443\n",
      "DEBUG:urllib3.connectionpool:https://api.zotero.org:443 \"GET /groups/2333077/collections/8DQ8YFJI/items?start=200&limit=100&format=json HTTP/1.1\" 200 2\n",
      "DEBUG:urllib3.connectionpool:Starting new HTTPS connection (1): api.zotero.org:443\n",
      "DEBUG:urllib3.connectionpool:https://api.zotero.org:443 \"GET /groups/2333077/collections/JR5LKU4U/items?start=0&limit=100&format=json HTTP/1.1\" 200 30948\n",
      "DEBUG:urllib3.connectionpool:Starting new HTTPS connection (1): api.zotero.org:443\n",
      "DEBUG:urllib3.connectionpool:https://api.zotero.org:443 \"GET /groups/2333077/collections/JR5LKU4U/items?start=100&limit=100&format=json HTTP/1.1\" 200 27398\n",
      "DEBUG:urllib3.connectionpool:Starting new HTTPS connection (1): api.zotero.org:443\n",
      "DEBUG:urllib3.connectionpool:https://api.zotero.org:443 \"GET /groups/2333077/collections/JR5LKU4U/items?start=200&limit=100&format=json HTTP/1.1\" 200 30460\n",
      "DEBUG:urllib3.connectionpool:Starting new HTTPS connection (1): api.zotero.org:443\n",
      "DEBUG:urllib3.connectionpool:https://api.zotero.org:443 \"GET /groups/2333077/collections/JR5LKU4U/items?start=300&limit=100&format=json HTTP/1.1\" 200 29329\n",
      "DEBUG:urllib3.connectionpool:Starting new HTTPS connection (1): api.zotero.org:443\n",
      "DEBUG:urllib3.connectionpool:https://api.zotero.org:443 \"GET /groups/2333077/collections/JR5LKU4U/items?start=400&limit=100&format=json HTTP/1.1\" 200 40533\n",
      "DEBUG:urllib3.connectionpool:Starting new HTTPS connection (1): api.zotero.org:443\n",
      "DEBUG:urllib3.connectionpool:https://api.zotero.org:443 \"GET /groups/2333077/collections/JR5LKU4U/items?start=500&limit=100&format=json HTTP/1.1\" 200 None\n",
      "DEBUG:urllib3.connectionpool:Starting new HTTPS connection (1): api.zotero.org:443\n",
      "DEBUG:urllib3.connectionpool:https://api.zotero.org:443 \"GET /groups/2333077/collections/JR5LKU4U/items?start=600&limit=100&format=json HTTP/1.1\" 200 None\n",
      "DEBUG:urllib3.connectionpool:Starting new HTTPS connection (1): api.zotero.org:443\n",
      "DEBUG:urllib3.connectionpool:https://api.zotero.org:443 \"GET /groups/2333077/collections/JR5LKU4U/items?start=700&limit=100&format=json HTTP/1.1\" 200 None\n",
      "DEBUG:urllib3.connectionpool:Starting new HTTPS connection (1): api.zotero.org:443\n",
      "DEBUG:urllib3.connectionpool:https://api.zotero.org:443 \"GET /groups/2333077/collections/JR5LKU4U/items?start=800&limit=100&format=json HTTP/1.1\" 200 40912\n",
      "DEBUG:urllib3.connectionpool:Starting new HTTPS connection (1): api.zotero.org:443\n",
      "DEBUG:urllib3.connectionpool:https://api.zotero.org:443 \"GET /groups/2333077/collections/JR5LKU4U/items?start=900&limit=100&format=json HTTP/1.1\" 200 36925\n",
      "DEBUG:urllib3.connectionpool:Starting new HTTPS connection (1): api.zotero.org:443\n",
      "DEBUG:urllib3.connectionpool:https://api.zotero.org:443 \"GET /groups/2333077/collections/JR5LKU4U/items?start=1000&limit=100&format=json HTTP/1.1\" 200 None\n",
      "DEBUG:urllib3.connectionpool:Starting new HTTPS connection (1): api.zotero.org:443\n",
      "DEBUG:urllib3.connectionpool:https://api.zotero.org:443 \"GET /groups/2333077/collections/JR5LKU4U/items?start=1100&limit=100&format=json HTTP/1.1\" 200 None\n",
      "DEBUG:urllib3.connectionpool:Starting new HTTPS connection (1): api.zotero.org:443\n",
      "DEBUG:urllib3.connectionpool:https://api.zotero.org:443 \"GET /groups/2333077/collections/JR5LKU4U/items?start=1200&limit=100&format=json HTTP/1.1\" 200 54382\n",
      "DEBUG:urllib3.connectionpool:Starting new HTTPS connection (1): api.zotero.org:443\n",
      "DEBUG:urllib3.connectionpool:https://api.zotero.org:443 \"GET /groups/2333077/collections/JR5LKU4U/items?start=1300&limit=100&format=json HTTP/1.1\" 200 None\n",
      "DEBUG:urllib3.connectionpool:Starting new HTTPS connection (1): api.zotero.org:443\n",
      "DEBUG:urllib3.connectionpool:https://api.zotero.org:443 \"GET /groups/2333077/collections/JR5LKU4U/items?start=1400&limit=100&format=json HTTP/1.1\" 200 None\n",
      "DEBUG:urllib3.connectionpool:Starting new HTTPS connection (1): api.zotero.org:443\n",
      "DEBUG:urllib3.connectionpool:https://api.zotero.org:443 \"GET /groups/2333077/collections/JR5LKU4U/items?start=1500&limit=100&format=json HTTP/1.1\" 200 None\n",
      "DEBUG:urllib3.connectionpool:Starting new HTTPS connection (1): api.zotero.org:443\n",
      "DEBUG:urllib3.connectionpool:https://api.zotero.org:443 \"GET /groups/2333077/collections/JR5LKU4U/items?start=1600&limit=100&format=json HTTP/1.1\" 200 20367\n",
      "DEBUG:urllib3.connectionpool:Starting new HTTPS connection (1): api.zotero.org:443\n",
      "DEBUG:urllib3.connectionpool:https://api.zotero.org:443 \"GET /groups/2333077/collections/JR5LKU4U/items?start=1700&limit=100&format=json HTTP/1.1\" 200 2\n",
      "DEBUG:urllib3.connectionpool:Starting new HTTPS connection (1): api.zotero.org:443\n",
      "DEBUG:urllib3.connectionpool:https://api.zotero.org:443 \"GET /groups/2333077/collections/LBFNF62B/items?start=0&limit=100&format=json HTTP/1.1\" 200 42255\n",
      "DEBUG:urllib3.connectionpool:Starting new HTTPS connection (1): api.zotero.org:443\n",
      "DEBUG:urllib3.connectionpool:https://api.zotero.org:443 \"GET /groups/2333077/collections/LBFNF62B/items?start=100&limit=100&format=json HTTP/1.1\" 200 None\n",
      "DEBUG:urllib3.connectionpool:Starting new HTTPS connection (1): api.zotero.org:443\n",
      "DEBUG:urllib3.connectionpool:https://api.zotero.org:443 \"GET /groups/2333077/collections/LBFNF62B/items?start=200&limit=100&format=json HTTP/1.1\" 200 None\n",
      "DEBUG:urllib3.connectionpool:Starting new HTTPS connection (1): api.zotero.org:443\n",
      "DEBUG:urllib3.connectionpool:https://api.zotero.org:443 \"GET /groups/2333077/collections/LBFNF62B/items?start=300&limit=100&format=json HTTP/1.1\" 200 None\n",
      "DEBUG:urllib3.connectionpool:Starting new HTTPS connection (1): api.zotero.org:443\n",
      "DEBUG:urllib3.connectionpool:https://api.zotero.org:443 \"GET /groups/2333077/collections/LBFNF62B/items?start=400&limit=100&format=json HTTP/1.1\" 200 None\n",
      "DEBUG:urllib3.connectionpool:Starting new HTTPS connection (1): api.zotero.org:443\n",
      "DEBUG:urllib3.connectionpool:https://api.zotero.org:443 \"GET /groups/2333077/collections/LBFNF62B/items?start=500&limit=100&format=json HTTP/1.1\" 200 None\n",
      "DEBUG:urllib3.connectionpool:Starting new HTTPS connection (1): api.zotero.org:443\n",
      "DEBUG:urllib3.connectionpool:https://api.zotero.org:443 \"GET /groups/2333077/collections/LBFNF62B/items?start=600&limit=100&format=json HTTP/1.1\" 200 None\n",
      "DEBUG:urllib3.connectionpool:Starting new HTTPS connection (1): api.zotero.org:443\n",
      "DEBUG:urllib3.connectionpool:https://api.zotero.org:443 \"GET /groups/2333077/collections/LBFNF62B/items?start=700&limit=100&format=json HTTP/1.1\" 200 None\n",
      "DEBUG:urllib3.connectionpool:Starting new HTTPS connection (1): api.zotero.org:443\n",
      "DEBUG:urllib3.connectionpool:https://api.zotero.org:443 \"GET /groups/2333077/collections/LBFNF62B/items?start=800&limit=100&format=json HTTP/1.1\" 200 None\n",
      "DEBUG:urllib3.connectionpool:Starting new HTTPS connection (1): api.zotero.org:443\n",
      "DEBUG:urllib3.connectionpool:https://api.zotero.org:443 \"GET /groups/2333077/collections/LBFNF62B/items?start=900&limit=100&format=json HTTP/1.1\" 200 1854\n",
      "DEBUG:urllib3.connectionpool:Starting new HTTPS connection (1): api.zotero.org:443\n",
      "DEBUG:urllib3.connectionpool:https://api.zotero.org:443 \"GET /groups/2333077/collections/LBFNF62B/items?start=1000&limit=100&format=json HTTP/1.1\" 200 2\n",
      "DEBUG:urllib3.connectionpool:Starting new HTTPS connection (1): api.zotero.org:443\n",
      "DEBUG:urllib3.connectionpool:https://api.zotero.org:443 \"GET /groups/2333077/collections/7IMYH9U3/items?start=0&limit=100&format=json HTTP/1.1\" 200 None\n",
      "DEBUG:urllib3.connectionpool:Starting new HTTPS connection (1): api.zotero.org:443\n",
      "DEBUG:urllib3.connectionpool:https://api.zotero.org:443 \"GET /groups/2333077/collections/7IMYH9U3/items?start=100&limit=100&format=json HTTP/1.1\" 200 None\n",
      "DEBUG:urllib3.connectionpool:Starting new HTTPS connection (1): api.zotero.org:443\n",
      "DEBUG:urllib3.connectionpool:https://api.zotero.org:443 \"GET /groups/2333077/collections/7IMYH9U3/items?start=200&limit=100&format=json HTTP/1.1\" 200 None\n",
      "DEBUG:urllib3.connectionpool:Starting new HTTPS connection (1): api.zotero.org:443\n",
      "DEBUG:urllib3.connectionpool:https://api.zotero.org:443 \"GET /groups/2333077/collections/7IMYH9U3/items?start=300&limit=100&format=json HTTP/1.1\" 200 None\n",
      "DEBUG:urllib3.connectionpool:Starting new HTTPS connection (1): api.zotero.org:443\n",
      "DEBUG:urllib3.connectionpool:https://api.zotero.org:443 \"GET /groups/2333077/collections/7IMYH9U3/items?start=400&limit=100&format=json HTTP/1.1\" 200 None\n",
      "DEBUG:urllib3.connectionpool:Starting new HTTPS connection (1): api.zotero.org:443\n",
      "DEBUG:urllib3.connectionpool:https://api.zotero.org:443 \"GET /groups/2333077/collections/7IMYH9U3/items?start=500&limit=100&format=json HTTP/1.1\" 200 None\n",
      "DEBUG:urllib3.connectionpool:Starting new HTTPS connection (1): api.zotero.org:443\n",
      "DEBUG:urllib3.connectionpool:https://api.zotero.org:443 \"GET /groups/2333077/collections/7IMYH9U3/items?start=600&limit=100&format=json HTTP/1.1\" 200 2396\n",
      "DEBUG:urllib3.connectionpool:Starting new HTTPS connection (1): api.zotero.org:443\n",
      "DEBUG:urllib3.connectionpool:https://api.zotero.org:443 \"GET /groups/2333077/collections/7IMYH9U3/items?start=700&limit=100&format=json HTTP/1.1\" 200 2\n",
      "DEBUG:urllib3.connectionpool:Starting new HTTPS connection (1): api.zotero.org:443\n",
      "DEBUG:urllib3.connectionpool:https://api.zotero.org:443 \"GET /groups/2333077/collections/DRZLUY9K/items?start=0&limit=100&format=json HTTP/1.1\" 200 24310\n",
      "DEBUG:urllib3.connectionpool:Starting new HTTPS connection (1): api.zotero.org:443\n",
      "DEBUG:urllib3.connectionpool:https://api.zotero.org:443 \"GET /groups/2333077/collections/DRZLUY9K/items?start=100&limit=100&format=json HTTP/1.1\" 200 None\n",
      "DEBUG:urllib3.connectionpool:Starting new HTTPS connection (1): api.zotero.org:443\n",
      "DEBUG:urllib3.connectionpool:https://api.zotero.org:443 \"GET /groups/2333077/collections/DRZLUY9K/items?start=200&limit=100&format=json HTTP/1.1\" 200 None\n",
      "DEBUG:urllib3.connectionpool:Starting new HTTPS connection (1): api.zotero.org:443\n",
      "DEBUG:urllib3.connectionpool:https://api.zotero.org:443 \"GET /groups/2333077/collections/DRZLUY9K/items?start=300&limit=100&format=json HTTP/1.1\" 200 49826\n",
      "DEBUG:urllib3.connectionpool:Starting new HTTPS connection (1): api.zotero.org:443\n",
      "DEBUG:urllib3.connectionpool:https://api.zotero.org:443 \"GET /groups/2333077/collections/DRZLUY9K/items?start=400&limit=100&format=json HTTP/1.1\" 200 47177\n",
      "DEBUG:urllib3.connectionpool:Starting new HTTPS connection (1): api.zotero.org:443\n",
      "DEBUG:urllib3.connectionpool:https://api.zotero.org:443 \"GET /groups/2333077/collections/DRZLUY9K/items?start=500&limit=100&format=json HTTP/1.1\" 200 37195\n",
      "DEBUG:urllib3.connectionpool:Starting new HTTPS connection (1): api.zotero.org:443\n",
      "DEBUG:urllib3.connectionpool:https://api.zotero.org:443 \"GET /groups/2333077/collections/DRZLUY9K/items?start=600&limit=100&format=json HTTP/1.1\" 200 34500\n",
      "DEBUG:urllib3.connectionpool:Starting new HTTPS connection (1): api.zotero.org:443\n",
      "DEBUG:urllib3.connectionpool:https://api.zotero.org:443 \"GET /groups/2333077/collections/DRZLUY9K/items?start=700&limit=100&format=json HTTP/1.1\" 200 35849\n",
      "DEBUG:urllib3.connectionpool:Starting new HTTPS connection (1): api.zotero.org:443\n",
      "DEBUG:urllib3.connectionpool:https://api.zotero.org:443 \"GET /groups/2333077/collections/DRZLUY9K/items?start=800&limit=100&format=json HTTP/1.1\" 200 53425\n",
      "DEBUG:urllib3.connectionpool:Starting new HTTPS connection (1): api.zotero.org:443\n",
      "DEBUG:urllib3.connectionpool:https://api.zotero.org:443 \"GET /groups/2333077/collections/DRZLUY9K/items?start=900&limit=100&format=json HTTP/1.1\" 200 35007\n",
      "DEBUG:urllib3.connectionpool:Starting new HTTPS connection (1): api.zotero.org:443\n",
      "DEBUG:urllib3.connectionpool:https://api.zotero.org:443 \"GET /groups/2333077/collections/DRZLUY9K/items?start=1000&limit=100&format=json HTTP/1.1\" 200 47887\n",
      "DEBUG:urllib3.connectionpool:Starting new HTTPS connection (1): api.zotero.org:443\n",
      "DEBUG:urllib3.connectionpool:https://api.zotero.org:443 \"GET /groups/2333077/collections/DRZLUY9K/items?start=1100&limit=100&format=json HTTP/1.1\" 200 37278\n",
      "DEBUG:urllib3.connectionpool:Starting new HTTPS connection (1): api.zotero.org:443\n",
      "DEBUG:urllib3.connectionpool:https://api.zotero.org:443 \"GET /groups/2333077/collections/DRZLUY9K/items?start=1200&limit=100&format=json HTTP/1.1\" 200 27707\n",
      "DEBUG:urllib3.connectionpool:Starting new HTTPS connection (1): api.zotero.org:443\n",
      "DEBUG:urllib3.connectionpool:https://api.zotero.org:443 \"GET /groups/2333077/collections/DRZLUY9K/items?start=1300&limit=100&format=json HTTP/1.1\" 200 25077\n",
      "DEBUG:urllib3.connectionpool:Starting new HTTPS connection (1): api.zotero.org:443\n",
      "DEBUG:urllib3.connectionpool:https://api.zotero.org:443 \"GET /groups/2333077/collections/DRZLUY9K/items?start=1400&limit=100&format=json HTTP/1.1\" 200 37364\n",
      "DEBUG:urllib3.connectionpool:Starting new HTTPS connection (1): api.zotero.org:443\n",
      "DEBUG:urllib3.connectionpool:https://api.zotero.org:443 \"GET /groups/2333077/collections/DRZLUY9K/items?start=1500&limit=100&format=json HTTP/1.1\" 200 38594\n",
      "DEBUG:urllib3.connectionpool:Starting new HTTPS connection (1): api.zotero.org:443\n",
      "DEBUG:urllib3.connectionpool:https://api.zotero.org:443 \"GET /groups/2333077/collections/DRZLUY9K/items?start=1600&limit=100&format=json HTTP/1.1\" 200 44109\n",
      "DEBUG:urllib3.connectionpool:Starting new HTTPS connection (1): api.zotero.org:443\n",
      "DEBUG:urllib3.connectionpool:https://api.zotero.org:443 \"GET /groups/2333077/collections/DRZLUY9K/items?start=1700&limit=100&format=json HTTP/1.1\" 200 19709\n",
      "DEBUG:urllib3.connectionpool:Starting new HTTPS connection (1): api.zotero.org:443\n",
      "DEBUG:urllib3.connectionpool:https://api.zotero.org:443 \"GET /groups/2333077/collections/DRZLUY9K/items?start=1800&limit=100&format=json HTTP/1.1\" 200 17550\n",
      "DEBUG:urllib3.connectionpool:Starting new HTTPS connection (1): api.zotero.org:443\n",
      "DEBUG:urllib3.connectionpool:https://api.zotero.org:443 \"GET /groups/2333077/collections/DRZLUY9K/items?start=1900&limit=100&format=json HTTP/1.1\" 200 15141\n",
      "DEBUG:urllib3.connectionpool:Starting new HTTPS connection (1): api.zotero.org:443\n",
      "DEBUG:urllib3.connectionpool:https://api.zotero.org:443 \"GET /groups/2333077/collections/DRZLUY9K/items?start=2000&limit=100&format=json HTTP/1.1\" 200 5758\n",
      "DEBUG:urllib3.connectionpool:Starting new HTTPS connection (1): api.zotero.org:443\n",
      "DEBUG:urllib3.connectionpool:https://api.zotero.org:443 \"GET /groups/2333077/collections/DRZLUY9K/items?start=2100&limit=100&format=json HTTP/1.1\" 200 2\n",
      "DEBUG:urllib3.connectionpool:Starting new HTTPS connection (1): api.zotero.org:443\n",
      "DEBUG:urllib3.connectionpool:https://api.zotero.org:443 \"GET /groups/2333077/collections/KTPTCAVF/items?start=0&limit=100&format=json HTTP/1.1\" 200 None\n",
      "DEBUG:urllib3.connectionpool:Starting new HTTPS connection (1): api.zotero.org:443\n",
      "DEBUG:urllib3.connectionpool:https://api.zotero.org:443 \"GET /groups/2333077/collections/KTPTCAVF/items?start=100&limit=100&format=json HTTP/1.1\" 200 None\n",
      "DEBUG:urllib3.connectionpool:Starting new HTTPS connection (1): api.zotero.org:443\n",
      "DEBUG:urllib3.connectionpool:https://api.zotero.org:443 \"GET /groups/2333077/collections/KTPTCAVF/items?start=200&limit=100&format=json HTTP/1.1\" 200 None\n",
      "DEBUG:urllib3.connectionpool:Starting new HTTPS connection (1): api.zotero.org:443\n",
      "DEBUG:urllib3.connectionpool:https://api.zotero.org:443 \"GET /groups/2333077/collections/KTPTCAVF/items?start=300&limit=100&format=json HTTP/1.1\" 200 None\n",
      "DEBUG:urllib3.connectionpool:Starting new HTTPS connection (1): api.zotero.org:443\n",
      "DEBUG:urllib3.connectionpool:https://api.zotero.org:443 \"GET /groups/2333077/collections/KTPTCAVF/items?start=400&limit=100&format=json HTTP/1.1\" 200 None\n",
      "DEBUG:urllib3.connectionpool:Starting new HTTPS connection (1): api.zotero.org:443\n",
      "DEBUG:urllib3.connectionpool:https://api.zotero.org:443 \"GET /groups/2333077/collections/KTPTCAVF/items?start=500&limit=100&format=json HTTP/1.1\" 200 None\n",
      "DEBUG:urllib3.connectionpool:Starting new HTTPS connection (1): api.zotero.org:443\n",
      "DEBUG:urllib3.connectionpool:https://api.zotero.org:443 \"GET /groups/2333077/collections/KTPTCAVF/items?start=600&limit=100&format=json HTTP/1.1\" 200 None\n",
      "DEBUG:urllib3.connectionpool:Starting new HTTPS connection (1): api.zotero.org:443\n",
      "DEBUG:urllib3.connectionpool:https://api.zotero.org:443 \"GET /groups/2333077/collections/KTPTCAVF/items?start=700&limit=100&format=json HTTP/1.1\" 200 None\n",
      "DEBUG:urllib3.connectionpool:Starting new HTTPS connection (1): api.zotero.org:443\n",
      "DEBUG:urllib3.connectionpool:https://api.zotero.org:443 \"GET /groups/2333077/collections/KTPTCAVF/items?start=800&limit=100&format=json HTTP/1.1\" 200 None\n",
      "DEBUG:urllib3.connectionpool:Starting new HTTPS connection (1): api.zotero.org:443\n",
      "DEBUG:urllib3.connectionpool:https://api.zotero.org:443 \"GET /groups/2333077/collections/KTPTCAVF/items?start=900&limit=100&format=json HTTP/1.1\" 200 None\n",
      "DEBUG:urllib3.connectionpool:Starting new HTTPS connection (1): api.zotero.org:443\n",
      "DEBUG:urllib3.connectionpool:https://api.zotero.org:443 \"GET /groups/2333077/collections/KTPTCAVF/items?start=1000&limit=100&format=json HTTP/1.1\" 200 None\n",
      "DEBUG:urllib3.connectionpool:Starting new HTTPS connection (1): api.zotero.org:443\n",
      "DEBUG:urllib3.connectionpool:https://api.zotero.org:443 \"GET /groups/2333077/collections/KTPTCAVF/items?start=1100&limit=100&format=json HTTP/1.1\" 200 2\n",
      "DEBUG:urllib3.connectionpool:Starting new HTTPS connection (1): api.zotero.org:443\n",
      "DEBUG:urllib3.connectionpool:https://api.zotero.org:443 \"GET /groups/2333077/collections/UWNSUNXQ/items?start=0&limit=100&format=json HTTP/1.1\" 200 None\n",
      "DEBUG:urllib3.connectionpool:Starting new HTTPS connection (1): api.zotero.org:443\n",
      "DEBUG:urllib3.connectionpool:https://api.zotero.org:443 \"GET /groups/2333077/collections/UWNSUNXQ/items?start=100&limit=100&format=json HTTP/1.1\" 200 None\n",
      "DEBUG:urllib3.connectionpool:Starting new HTTPS connection (1): api.zotero.org:443\n",
      "DEBUG:urllib3.connectionpool:https://api.zotero.org:443 \"GET /groups/2333077/collections/UWNSUNXQ/items?start=200&limit=100&format=json HTTP/1.1\" 200 None\n",
      "DEBUG:urllib3.connectionpool:Starting new HTTPS connection (1): api.zotero.org:443\n",
      "DEBUG:urllib3.connectionpool:https://api.zotero.org:443 \"GET /groups/2333077/collections/UWNSUNXQ/items?start=300&limit=100&format=json HTTP/1.1\" 200 None\n",
      "DEBUG:urllib3.connectionpool:Starting new HTTPS connection (1): api.zotero.org:443\n",
      "DEBUG:urllib3.connectionpool:https://api.zotero.org:443 \"GET /groups/2333077/collections/UWNSUNXQ/items?start=400&limit=100&format=json HTTP/1.1\" 200 49208\n",
      "DEBUG:urllib3.connectionpool:Starting new HTTPS connection (1): api.zotero.org:443\n",
      "DEBUG:urllib3.connectionpool:https://api.zotero.org:443 \"GET /groups/2333077/collections/UWNSUNXQ/items?start=500&limit=100&format=json HTTP/1.1\" 200 None\n",
      "DEBUG:urllib3.connectionpool:Starting new HTTPS connection (1): api.zotero.org:443\n",
      "DEBUG:urllib3.connectionpool:https://api.zotero.org:443 \"GET /groups/2333077/collections/UWNSUNXQ/items?start=600&limit=100&format=json HTTP/1.1\" 200 None\n",
      "DEBUG:urllib3.connectionpool:Starting new HTTPS connection (1): api.zotero.org:443\n",
      "DEBUG:urllib3.connectionpool:https://api.zotero.org:443 \"GET /groups/2333077/collections/UWNSUNXQ/items?start=700&limit=100&format=json HTTP/1.1\" 200 None\n",
      "DEBUG:urllib3.connectionpool:Starting new HTTPS connection (1): api.zotero.org:443\n",
      "DEBUG:urllib3.connectionpool:https://api.zotero.org:443 \"GET /groups/2333077/collections/UWNSUNXQ/items?start=800&limit=100&format=json HTTP/1.1\" 200 3230\n",
      "DEBUG:urllib3.connectionpool:Starting new HTTPS connection (1): api.zotero.org:443\n",
      "DEBUG:urllib3.connectionpool:https://api.zotero.org:443 \"GET /groups/2333077/collections/UWNSUNXQ/items?start=900&limit=100&format=json HTTP/1.1\" 200 2\n",
      "DEBUG:urllib3.connectionpool:Starting new HTTPS connection (1): api.zotero.org:443\n",
      "DEBUG:urllib3.connectionpool:https://api.zotero.org:443 \"GET /groups/2333077/collections/BJGWRJAK/items?start=0&limit=100&format=json HTTP/1.1\" 200 35161\n",
      "DEBUG:urllib3.connectionpool:Starting new HTTPS connection (1): api.zotero.org:443\n",
      "DEBUG:urllib3.connectionpool:https://api.zotero.org:443 \"GET /groups/2333077/collections/BJGWRJAK/items?start=100&limit=100&format=json HTTP/1.1\" 200 51868\n",
      "DEBUG:urllib3.connectionpool:Starting new HTTPS connection (1): api.zotero.org:443\n",
      "DEBUG:urllib3.connectionpool:https://api.zotero.org:443 \"GET /groups/2333077/collections/BJGWRJAK/items?start=200&limit=100&format=json HTTP/1.1\" 200 48323\n",
      "DEBUG:urllib3.connectionpool:Starting new HTTPS connection (1): api.zotero.org:443\n",
      "DEBUG:urllib3.connectionpool:https://api.zotero.org:443 \"GET /groups/2333077/collections/BJGWRJAK/items?start=300&limit=100&format=json HTTP/1.1\" 200 36281\n",
      "DEBUG:urllib3.connectionpool:Starting new HTTPS connection (1): api.zotero.org:443\n",
      "DEBUG:urllib3.connectionpool:https://api.zotero.org:443 \"GET /groups/2333077/collections/BJGWRJAK/items?start=400&limit=100&format=json HTTP/1.1\" 200 41752\n",
      "DEBUG:urllib3.connectionpool:Starting new HTTPS connection (1): api.zotero.org:443\n",
      "DEBUG:urllib3.connectionpool:https://api.zotero.org:443 \"GET /groups/2333077/collections/BJGWRJAK/items?start=500&limit=100&format=json HTTP/1.1\" 200 38589\n",
      "DEBUG:urllib3.connectionpool:Starting new HTTPS connection (1): api.zotero.org:443\n",
      "DEBUG:urllib3.connectionpool:https://api.zotero.org:443 \"GET /groups/2333077/collections/BJGWRJAK/items?start=600&limit=100&format=json HTTP/1.1\" 200 29955\n",
      "DEBUG:urllib3.connectionpool:Starting new HTTPS connection (1): api.zotero.org:443\n",
      "DEBUG:urllib3.connectionpool:https://api.zotero.org:443 \"GET /groups/2333077/collections/BJGWRJAK/items?start=700&limit=100&format=json HTTP/1.1\" 200 21966\n",
      "DEBUG:urllib3.connectionpool:Starting new HTTPS connection (1): api.zotero.org:443\n",
      "DEBUG:urllib3.connectionpool:https://api.zotero.org:443 \"GET /groups/2333077/collections/BJGWRJAK/items?start=800&limit=100&format=json HTTP/1.1\" 200 23677\n",
      "DEBUG:urllib3.connectionpool:Starting new HTTPS connection (1): api.zotero.org:443\n",
      "DEBUG:urllib3.connectionpool:https://api.zotero.org:443 \"GET /groups/2333077/collections/BJGWRJAK/items?start=900&limit=100&format=json HTTP/1.1\" 200 29660\n",
      "DEBUG:urllib3.connectionpool:Starting new HTTPS connection (1): api.zotero.org:443\n",
      "DEBUG:urllib3.connectionpool:https://api.zotero.org:443 \"GET /groups/2333077/collections/BJGWRJAK/items?start=1000&limit=100&format=json HTTP/1.1\" 200 40422\n",
      "DEBUG:urllib3.connectionpool:Starting new HTTPS connection (1): api.zotero.org:443\n",
      "DEBUG:urllib3.connectionpool:https://api.zotero.org:443 \"GET /groups/2333077/collections/BJGWRJAK/items?start=1100&limit=100&format=json HTTP/1.1\" 200 34165\n",
      "DEBUG:urllib3.connectionpool:Starting new HTTPS connection (1): api.zotero.org:443\n",
      "DEBUG:urllib3.connectionpool:https://api.zotero.org:443 \"GET /groups/2333077/collections/BJGWRJAK/items?start=1200&limit=100&format=json HTTP/1.1\" 200 27386\n",
      "DEBUG:urllib3.connectionpool:Starting new HTTPS connection (1): api.zotero.org:443\n",
      "DEBUG:urllib3.connectionpool:https://api.zotero.org:443 \"GET /groups/2333077/collections/BJGWRJAK/items?start=1300&limit=100&format=json HTTP/1.1\" 200 16310\n",
      "DEBUG:urllib3.connectionpool:Starting new HTTPS connection (1): api.zotero.org:443\n",
      "DEBUG:urllib3.connectionpool:https://api.zotero.org:443 \"GET /groups/2333077/collections/BJGWRJAK/items?start=1400&limit=100&format=json HTTP/1.1\" 200 4601\n",
      "DEBUG:urllib3.connectionpool:Starting new HTTPS connection (1): api.zotero.org:443\n",
      "DEBUG:urllib3.connectionpool:https://api.zotero.org:443 \"GET /groups/2333077/collections/BJGWRJAK/items?start=1500&limit=100&format=json HTTP/1.1\" 200 2\n",
      "DEBUG:urllib3.connectionpool:Starting new HTTPS connection (1): api.zotero.org:443\n",
      "DEBUG:urllib3.connectionpool:https://api.zotero.org:443 \"GET /groups/2333077/collections/JT8FJXP6/items?start=0&limit=100&format=json HTTP/1.1\" 200 48928\n",
      "DEBUG:urllib3.connectionpool:Starting new HTTPS connection (1): api.zotero.org:443\n",
      "DEBUG:urllib3.connectionpool:https://api.zotero.org:443 \"GET /groups/2333077/collections/JT8FJXP6/items?start=100&limit=100&format=json HTTP/1.1\" 200 30090\n",
      "DEBUG:urllib3.connectionpool:Starting new HTTPS connection (1): api.zotero.org:443\n",
      "DEBUG:urllib3.connectionpool:https://api.zotero.org:443 \"GET /groups/2333077/collections/JT8FJXP6/items?start=200&limit=100&format=json HTTP/1.1\" 200 26811\n",
      "DEBUG:urllib3.connectionpool:Starting new HTTPS connection (1): api.zotero.org:443\n",
      "DEBUG:urllib3.connectionpool:https://api.zotero.org:443 \"GET /groups/2333077/collections/JT8FJXP6/items?start=300&limit=100&format=json HTTP/1.1\" 200 2\n"
     ]
    }
   ],
   "source": [
    "ALL_COLLECTIONS=get_data_from_zotero(ZOTERO_KEY,IPBES_ZOTERO_ID,COLLECTION_IDS,CHAPTER_IDS,ALL_COLLECTIONS)"
   ]
  },
  {
   "cell_type": "code",
   "execution_count": 6,
   "id": "5fdc2bb5",
   "metadata": {},
   "outputs": [
    {
     "name": "stdout",
     "output_type": "stream",
     "text": [
      "63.2258064516129 % doi available for chapter 1\n",
      "71.26436781609196 % doi available for chapter 2.1\n",
      "79.26829268292683 % doi available for chapter 2.2\n",
      "79.60199004975125 % doi available for chapter 2.3\n",
      "81.64682539682539 % doi available for chapter 3\n",
      "85.9103385178408 % doi available for chapter 4\n",
      "73.2587064676617 % doi available for chapter 5\n",
      "81.23682361208714 % doi available for chapter 6\n",
      "37.90613718411552 % doi available for chapter glossary\n"
     ]
    }
   ],
   "source": [
    "df_ipbes_chap={}\n",
    "for i in range(len(COLLECTION_IDS)):\n",
    "    df_ipbes_chap[CHAPTER_IDS[i]]=pd.DataFrame(list(pd.DataFrame(ALL_COLLECTIONS[f'collection_chapter_{CHAPTER_IDS[i]}']).data))[['DOI','title','date','creators','tags']]\n",
    "    df_ipbes_chap[CHAPTER_IDS[i]]['chap']=f'chap_{CHAPTER_IDS[i]}'\n",
    "    print(f'{len(df_ipbes_chap[CHAPTER_IDS[i]][~pd.isna(df_ipbes_chap[CHAPTER_IDS[i]].DOI)])/len(df_ipbes_chap[CHAPTER_IDS[i]])*100} % doi available for chapter {CHAPTER_IDS[i]}')"
   ]
  },
  {
   "cell_type": "markdown",
   "id": "98a44a20",
   "metadata": {},
   "source": [
    "Clean and enrich data "
   ]
  },
  {
   "cell_type": "code",
   "execution_count": 7,
   "id": "9e44246d",
   "metadata": {},
   "outputs": [],
   "source": [
    "df_ipbes=pd.concat(list(df_ipbes_chap.values())).reset_index()\n",
    "del df_ipbes['index']"
   ]
  },
  {
   "cell_type": "code",
   "execution_count": 8,
   "id": "09792a77",
   "metadata": {},
   "outputs": [
    {
     "data": {
      "text/plain": [
       "77.36948241093435"
      ]
     },
     "execution_count": 8,
     "metadata": {},
     "output_type": "execute_result"
    }
   ],
   "source": [
    "len(df_ipbes[~pd.isna(df_ipbes.DOI)])/len(df_ipbes)*100"
   ]
  },
  {
   "cell_type": "code",
   "execution_count": 11,
   "id": "6d63cd87",
   "metadata": {},
   "outputs": [
    {
     "data": {
      "text/plain": [
       "0       10.1890/1051-0761(2000)010[1251:roteka]2.0.co;2\n",
       "1                                                  None\n",
       "2                       10.1016/j.gloenvcha.2013.12.012\n",
       "3                               10.5751/es-07868-200344\n",
       "9                              10.1177/0959683607087927\n",
       "                             ...                       \n",
       "8907                         10.1016/j.tree.2017.06.014\n",
       "8910                                    10.2307/2388682\n",
       "8913                                    10.2307/3060213\n",
       "8914                        10.1016/bs.apar.2016.02.009\n",
       "8915                         10.2993/0278-0771-34.3.294\n",
       "Name: doi, Length: 5691, dtype: object"
      ]
     },
     "execution_count": 11,
     "metadata": {},
     "output_type": "execute_result"
    }
   ],
   "source": [
    "df_ipbes.doi.drop_duplicates()"
   ]
  },
  {
   "cell_type": "code",
   "execution_count": null,
   "id": "9ceaa53c",
   "metadata": {},
   "outputs": [],
   "source": [
    "get_doi_glutton(df_ipbes.iloc[1,:])"
   ]
  },
  {
   "cell_type": "code",
   "execution_count": null,
   "id": "90933b7e",
   "metadata": {},
   "outputs": [],
   "source": [
    "df_ipbes.loc[pd.isna(df_ipbes.DOI),'DOI']=df_ipbes.loc[pd.isna(df_ipbes.DOI),:].progress_apply(get_doi_glutton, axis=1)"
   ]
  },
  {
   "cell_type": "code",
   "execution_count": null,
   "id": "b4ccc254",
   "metadata": {},
   "outputs": [],
   "source": [
    "len(df_ipbes[~pd.isna(df_ipbes.DOI)])/len(df_ipbes)*100"
   ]
  },
  {
   "cell_type": "code",
   "execution_count": 9,
   "id": "25ae7b2a",
   "metadata": {},
   "outputs": [],
   "source": [
    "df_ipbes.loc[:,'DOI']=df_ipbes.loc[:,'DOI'].apply(lambda x: get_doi_cleaned(x))\n",
    "df_ipbes.loc[:,'DOI']=df_ipbes.loc[:,'DOI'].apply(lambda x: None if str(x)[:4]=='http' else x)\n",
    "df_ipbes['freq']=1\n",
    "df_ipbes=df_ipbes.rename(columns={'DOI':'doi'})"
   ]
  },
  {
   "cell_type": "markdown",
   "id": "8ca0842d",
   "metadata": {},
   "source": [
    "Enriching data through OpenAlex API integration"
   ]
  },
  {
   "cell_type": "code",
   "execution_count": null,
   "id": "ae7af54e",
   "metadata": {},
   "outputs": [],
   "source": [
    "df_unique_doi=df_ipbes.groupby(by=['doi'], dropna=True).agg({'chap': lambda x: list(x), 'freq': 'sum'})\n",
    "df_unique_doi=df_unique_doi.reset_index()"
   ]
  },
  {
   "cell_type": "code",
   "execution_count": null,
   "id": "930eeae1",
   "metadata": {},
   "outputs": [],
   "source": [
    "#get data_OpenAlex from the API \n",
    "df_unique_doi.apply(lambda row: get_open_alex_data(cached_openalex_data_ipbes,row['doi']), axis= 1)"
   ]
  },
  {
   "cell_type": "code",
   "execution_count": null,
   "id": "cddfdcb0",
   "metadata": {},
   "outputs": [],
   "source": [
    "len(cached_openalex_data_ipbes)"
   ]
  },
  {
   "cell_type": "code",
   "execution_count": null,
   "id": "e85d32d5",
   "metadata": {},
   "outputs": [],
   "source": [
    "#write_cache(cached_openalex_data_ipbes,module_path+'\\\\IPCC_bibliography\\\\AR6\\\\structured_data\\\\cached_openalex_data_ipbes.pkl')"
   ]
  },
  {
   "cell_type": "code",
   "execution_count": 12,
   "id": "5202723a",
   "metadata": {},
   "outputs": [],
   "source": [
    "df_ipbes=pd.read_json(module_path+'\\\\IPCC_bibliography\\\\AR6\\\\structured_data\\\\data_ipbes_visualization.json')"
   ]
  },
  {
   "cell_type": "code",
   "execution_count": 13,
   "id": "f8c77753",
   "metadata": {},
   "outputs": [],
   "source": [
    "df_unique_doi=df_ipbes['doi'].drop_duplicates().dropna()\n",
    "df_unique_doi=pd.DataFrame({'doi':list(df_unique_doi)})"
   ]
  },
  {
   "cell_type": "code",
   "execution_count": 14,
   "id": "df2254b8",
   "metadata": {},
   "outputs": [],
   "source": [
    "countries_list = []\n",
    "concepts_list = []\n",
    "sdg_list = []\n",
    "topics_list = []\n",
    "is_OA_available_list=[]\n",
    "title_list=[]\n",
    "year_list=[]\n",
    "names_list=[]\n",
    "rors_list=[]\n",
    "institutions_names_list=[]\n",
    "locations_list=[]\n",
    "\n",
    "for i,row in df_unique_doi.iterrows():\n",
    "    countries,concepts,sdg,year,topics,doi,bool_OA,title,name,rors,institutions_names,locations_names=get_countries_concepts_sdg(cached_openalex_data_ipbes,row,ipcc=True,i=0)\n",
    "\n",
    "    countries_list.append(countries)\n",
    "    concepts_list.append(concepts)\n",
    "    sdg_list.append(sdg)\n",
    "    topics_list.append(topics)  \n",
    "    is_OA_available_list.append(bool_OA)\n",
    "    title_list.append(title)\n",
    "    year_list.append(year)\n",
    "    names_list.append(name)\n",
    "    rors_list.append(rors)\n",
    "    institutions_names_list.append(institutions_names)\n",
    "    locations_list.append(locations_names)\n",
    "\n",
    "df_unique_doi['countries'] = countries_list\n",
    "df_unique_doi['concepts'] = concepts_list\n",
    "df_unique_doi['sdg'] = sdg_list\n",
    "df_unique_doi['topics'] = topics_list\n",
    "df_unique_doi['is_OA_available'] = is_OA_available_list\n",
    "df_unique_doi['year_OA'] = year_list\n",
    "df_unique_doi['authors_name'] = names_list\n",
    "df_unique_doi['rors'] = rors_list\n",
    "df_unique_doi['institutions_names'] = institutions_names_list\n",
    "df_unique_doi['locations_names'] = locations_list"
   ]
  },
  {
   "cell_type": "code",
   "execution_count": 17,
   "id": "478ecfa9",
   "metadata": {},
   "outputs": [
    {
     "data": {
      "text/plain": [
       "is_OA_available\n",
       "True    6106\n",
       "Name: count, dtype: int64"
      ]
     },
     "execution_count": 17,
     "metadata": {},
     "output_type": "execute_result"
    }
   ],
   "source": [
    "df_unique_doi.is_OA_available.value_counts()"
   ]
  },
  {
   "cell_type": "code",
   "execution_count": 18,
   "id": "6d32bec2",
   "metadata": {},
   "outputs": [],
   "source": [
    "df_unique_doi=df_unique_doi[df_unique_doi.is_OA_available]"
   ]
  },
  {
   "cell_type": "code",
   "execution_count": 19,
   "id": "68a49e23",
   "metadata": {},
   "outputs": [],
   "source": [
    "df_unique_doi=df_unique_doi.reset_index()\n",
    "del df_unique_doi['index']"
   ]
  },
  {
   "cell_type": "code",
   "execution_count": 12,
   "id": "b31ee6ad",
   "metadata": {},
   "outputs": [],
   "source": [
    "df_unique_doi.to_json(module_path+'\\\\IPCC_bibliography\\\\AR6\\\\structured_data\\\\data_ipbes_visualization2.json')"
   ]
  },
  {
   "cell_type": "markdown",
   "id": "d070eddb",
   "metadata": {},
   "source": [
    "Ipbes references data"
   ]
  },
  {
   "cell_type": "code",
   "execution_count": 20,
   "id": "fd351e55",
   "metadata": {},
   "outputs": [],
   "source": [
    "df_ipbes=pd.merge(df_ipbes[['doi', 'title', 'date', 'creators', 'tags']], df_unique_doi, on='doi', how='inner')"
   ]
  },
  {
   "cell_type": "code",
   "execution_count": 22,
   "id": "04560cca",
   "metadata": {},
   "outputs": [],
   "source": [
    "df_ipbes['year']=df_ipbes['date'].apply(lambda x: get_year_ipbes(x) if pd.isna(x)==False else None)"
   ]
  },
  {
   "cell_type": "code",
   "execution_count": 23,
   "id": "128a6434",
   "metadata": {},
   "outputs": [
    {
     "data": {
      "text/plain": [
       "check\n",
       "True    6938\n",
       "Name: count, dtype: int64"
      ]
     },
     "execution_count": 23,
     "metadata": {},
     "output_type": "execute_result"
    }
   ],
   "source": [
    "df_ipbes['check']=df_ipbes.apply(lambda row: check_doi_glutton(row), axis=1)\n",
    "df_ipbes.check.value_counts()"
   ]
  },
  {
   "cell_type": "code",
   "execution_count": 14,
   "id": "eac33967",
   "metadata": {},
   "outputs": [],
   "source": [
    "df_ipbes=df_ipbes[(df_ipbes.check) & (pd.isna(df_ipbes['is_OA_available'])==False)]"
   ]
  },
  {
   "cell_type": "code",
   "execution_count": 15,
   "id": "2b9ac07a",
   "metadata": {},
   "outputs": [],
   "source": [
    "del df_ipbes['check']"
   ]
  },
  {
   "cell_type": "code",
   "execution_count": 16,
   "id": "ca508588",
   "metadata": {},
   "outputs": [],
   "source": [
    "df_ipbes.loc[:,'countries']=df_ipbes.loc[:,'countries'].apply(lambda x: str(x).replace('nan','None').replace('[]','None').replace('[None]','None') if ((str(x)=='nan')|(str(x)=='[None]')|((str(x)=='[]'))) else x )\n",
    "df_ipbes.loc[:,'countries']=df_ipbes.loc[:,'countries'].apply(lambda x: ['None'] if x=='None' else x)"
   ]
  },
  {
   "cell_type": "code",
   "execution_count": 17,
   "id": "574b3850",
   "metadata": {},
   "outputs": [],
   "source": [
    "df_ipbes.to_json(module_path+'\\\\IPCC_bibliography\\\\AR6\\\\structured_data\\\\data_ipbes_visualization.json', orient='records')"
   ]
  },
  {
   "cell_type": "markdown",
   "id": "d7efd6db",
   "metadata": {},
   "source": [
    "Find the data for constructing the learning model ( IPBES related or not )"
   ]
  },
  {
   "cell_type": "code",
   "execution_count": null,
   "id": "01cc5efb",
   "metadata": {},
   "outputs": [],
   "source": [
    "df_ipbes['year'] = pd.to_numeric(df_ipbes['year'], errors='coerce')\n",
    "year=df_ipbes.drop_duplicates(subset='doi')['year'].dropna().sort_values().apply(lambda x: int(x))\n",
    "year_counts = pd.Series(list(year)).value_counts().to_dict()"
   ]
  },
  {
   "cell_type": "code",
   "execution_count": null,
   "id": "2645aec9",
   "metadata": {},
   "outputs": [],
   "source": [
    "dois=list(df_unique_doi.doi)"
   ]
  },
  {
   "cell_type": "code",
   "execution_count": null,
   "id": "b2c417d4",
   "metadata": {},
   "outputs": [],
   "source": [
    "year_counts_not_ipbes={}\n",
    "target_iterations = len(dois)"
   ]
  },
  {
   "cell_type": "code",
   "execution_count": null,
   "id": "c945fe2f",
   "metadata": {},
   "outputs": [],
   "source": [
    "for year in list(year_counts.keys()):   \n",
    "    cached_openalex_data_not_ipbes[year]=[]\n",
    "    year_counts_not_ipbes[year]=0\n",
    "    while year_counts_not_ipbes[year]<year_counts[year]:\n",
    "        get_open_alex_data_not_in_references(dois,cached_openalex_data_not_ipbes,year_counts,year_counts_not_ipbes,year)\n",
    "    cached_openalex_data_not_ipbes[year]=cached_openalex_data_not_ipbes[year][:year_counts[year]+1]"
   ]
  },
  {
   "cell_type": "code",
   "execution_count": null,
   "id": "6882dc31",
   "metadata": {},
   "outputs": [],
   "source": [
    "len(cached_openalex_data_not_ipbes)"
   ]
  },
  {
   "cell_type": "code",
   "execution_count": null,
   "id": "ccc217b8",
   "metadata": {},
   "outputs": [],
   "source": [
    "write_cache(cached_openalex_data_not_ipbes,module_path+'\\\\IPCC_bibliography\\\\AR6\\\\structured_data\\\\cached_openalex_data_not_ipbes.pkl')"
   ]
  },
  {
   "cell_type": "code",
   "execution_count": null,
   "id": "413f51d4",
   "metadata": {},
   "outputs": [],
   "source": [
    "df_not_ipbes=pd.DataFrame()\n",
    "year_list = []\n",
    "countries_list = []\n",
    "concepts_list = []\n",
    "sdg_list = []\n",
    "topics_list = []\n",
    "dois_list = []\n",
    "for k in range(len(aplatir(list(cached_openalex_data_not_ipbes.values())))):\n",
    "    countries,concepts,sdg,year,topics,doi=get_countries_concepts_sdg(cached_openalex_data=aplatir(list(cached_openalex_data_not_ipbes.values())),ipcc=False,i=k)\n",
    "\n",
    "    countries_list.append(countries)\n",
    "    concepts_list.append(concepts)\n",
    "    sdg_list.append(sdg)\n",
    "    year_list.append(year)   \n",
    "    topics_list.append(topics)   \n",
    "    dois_list.append(doi)   \n",
    "\n",
    "df_not_ipbes['countries'] = countries_list\n",
    "df_not_ipbes['concepts'] = concepts_list\n",
    "df_not_ipbes['sdg'] = sdg_list\n",
    "df_not_ipbes['year'] = year_list\n",
    "df_not_ipbes['topics'] = topics_list\n",
    "df_not_ipbes['doi'] = dois_list"
   ]
  },
  {
   "cell_type": "code",
   "execution_count": null,
   "id": "ba2ffe1e",
   "metadata": {},
   "outputs": [],
   "source": [
    "df_not_ipbes"
   ]
  },
  {
   "cell_type": "code",
   "execution_count": null,
   "id": "f2d4625f",
   "metadata": {},
   "outputs": [],
   "source": [
    "#df_not_ipbes.to_json(module_path+f'\\\\IPCC_bibliography\\\\AR6\\\\structured_data\\\\data_not_ipbes.jsonl', orient='records', lines= True)"
   ]
  }
 ],
 "metadata": {
  "kernelspec": {
   "display_name": "Python 3",
   "language": "python",
   "name": "python3"
  },
  "language_info": {
   "codemirror_mode": {
    "name": "ipython",
    "version": 3
   },
   "file_extension": ".py",
   "mimetype": "text/x-python",
   "name": "python",
   "nbconvert_exporter": "python",
   "pygments_lexer": "ipython3",
   "version": "3.10.13"
  }
 },
 "nbformat": 4,
 "nbformat_minor": 5
}
