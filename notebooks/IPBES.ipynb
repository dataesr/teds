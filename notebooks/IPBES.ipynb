{
 "cells": [
  {
   "cell_type": "code",
   "execution_count": 1,
   "id": "e0ef86ad",
   "metadata": {},
   "outputs": [],
   "source": [
    "from pyzotero import zotero\n",
    "import os\n",
    "import sys\n",
    "from dotenv import load_dotenv\n",
    "load_dotenv()\n",
    "import pandas as pd\n",
    "\n",
    "module_path = os.path.abspath(os.path.join('..'))\n",
    "if module_path not in sys.path:\n",
    "    sys.path.append(module_path)\n",
    "from code_utils.zotero import get_data_from_zotero"
   ]
  },
  {
   "cell_type": "code",
   "execution_count": 2,
   "id": "72fbfc65",
   "metadata": {},
   "outputs": [],
   "source": [
    "ZOTERO_KEY = os.getenv('ZOTERO_KEY')\n",
    "IPBES_ZOTERO_ID = '2333077'\n",
    "COLLECTION_IDS = ['8DQ8YFJI','JR5LKU4U','LBFNF62B','7IMYH9U3','DRZLUY9K','KTPTCAVF','UWNSUNXQ','BJGWRJAK','JT8FJXP6']\n",
    "CHAPTER_IDS=['1','2.1','2.2','2.3','3','4','5','6','glossary']\n",
    "ALL_COLLECTIONS={}"
   ]
  },
  {
   "cell_type": "code",
   "execution_count": 3,
   "id": "cba99ee3",
   "metadata": {},
   "outputs": [],
   "source": [
    "ALL_COLLECTIONS=get_data_from_zotero(ZOTERO_KEY,IPBES_ZOTERO_ID,COLLECTION_IDS,CHAPTER_IDS,ALL_COLLECTIONS)"
   ]
  },
  {
   "cell_type": "code",
   "execution_count": 32,
   "id": "5fdc2bb5",
   "metadata": {},
   "outputs": [
    {
     "name": "stdout",
     "output_type": "stream",
     "text": [
      "63.2258064516129 % doi available for chapter 1\n",
      "71.26436781609196 % doi available for chapter 2.1\n",
      "79.26829268292683 % doi available for chapter 2.2\n",
      "79.60199004975125 % doi available for chapter 2.3\n",
      "81.64682539682539 % doi available for chapter 3\n",
      "85.9103385178408 % doi available for chapter 4\n",
      "73.2587064676617 % doi available for chapter 5\n",
      "81.23682361208714 % doi available for chapter 6\n",
      "37.90613718411552 % doi available for chapter glossary\n"
     ]
    }
   ],
   "source": [
    "for i in range(len(COLLECTION_IDS)):\n",
    "    df_ipbes_chap=pd.DataFrame(list(pd.DataFrame(ALL_COLLECTIONS[f'collection_chapter_{CHAPTER_IDS[i]}']).data))[['DOI','title','date','creators','tags']]\n",
    "    print(f'{len(df_ipbes_chap[~pd.isna(df_ipbes_chap.DOI)])/len(df_ipbes_chap)*100} % doi available for chapter {CHAPTER_IDS[i]}')"
   ]
  },
  {
   "cell_type": "code",
   "execution_count": null,
   "id": "9e44246d",
   "metadata": {},
   "outputs": [],
   "source": [
    "df_ipbes_chap"
   ]
  }
 ],
 "metadata": {
  "kernelspec": {
   "display_name": "Python 3",
   "language": "python",
   "name": "python3"
  },
  "language_info": {
   "codemirror_mode": {
    "name": "ipython",
    "version": 3
   },
   "file_extension": ".py",
   "mimetype": "text/x-python",
   "name": "python",
   "nbconvert_exporter": "python",
   "pygments_lexer": "ipython3",
   "version": "3.10.13"
  }
 },
 "nbformat": 4,
 "nbformat_minor": 5
}
