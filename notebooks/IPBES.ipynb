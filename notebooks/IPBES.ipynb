{
 "cells": [
  {
   "cell_type": "code",
   "execution_count": 1,
   "id": "e0ef86ad",
   "metadata": {},
   "outputs": [],
   "source": [
    "from pyzotero import zotero\n",
    "import os\n",
    "import sys\n",
    "from dotenv import load_dotenv\n",
    "load_dotenv()\n",
    "import pandas as pd\n",
    "import matplotlib.pyplot as plt\n",
    "from tqdm.notebook import tqdm\n",
    "tqdm.pandas()\n",
    "\n",
    "module_path = os.path.abspath(os.path.join('..'))\n",
    "if module_path not in sys.path:\n",
    "    sys.path.append(module_path)\n",
    "from code_utils.zotero import get_data_from_zotero\n",
    "from code_utils.glutton import get_doi_glutton\n",
    "from code_utils.utils import get_doi_cleaned,aplatir\n",
    "from code_utils.pickle import load_cache,write_cache\n",
    "from code_utils.enriching_data_OpenAlex import get_countries_concepts_sdg,get_open_alex_data,parallel_execution"
   ]
  },
  {
   "cell_type": "code",
   "execution_count": 2,
   "id": "9061c147",
   "metadata": {},
   "outputs": [],
   "source": [
    "cached_openalex_data_ipbes = {}"
   ]
  },
  {
   "cell_type": "code",
   "execution_count": 3,
   "id": "dde30c87",
   "metadata": {},
   "outputs": [
    {
     "name": "stdout",
     "output_type": "stream",
     "text": [
      "6606 data in cached openalex data\n"
     ]
    }
   ],
   "source": [
    "try:\n",
    "    cached_openalex_data_ipbes = load_cache(cached_openalex_data_ipbes,module_path+'\\\\IPCC_bibliography\\\\AR6\\\\structured_data\\\\cached_openalex_data_ipbes.pkl')\n",
    "except:\n",
    "    write_cache(cached_openalex_data_ipbes,module_path+'\\\\IPCC_bibliography\\\\AR6\\\\structured_data\\\\cached_openalex_data_ipbes.pkl')"
   ]
  },
  {
   "cell_type": "markdown",
   "id": "15bcf112",
   "metadata": {},
   "source": [
    "Read IPBES references in zotero files"
   ]
  },
  {
   "cell_type": "code",
   "execution_count": 4,
   "id": "72fbfc65",
   "metadata": {},
   "outputs": [],
   "source": [
    "ZOTERO_KEY = os.getenv('ZOTERO_KEY')\n",
    "IPBES_ZOTERO_ID = '2333077'\n",
    "COLLECTION_IDS = ['8DQ8YFJI','JR5LKU4U','LBFNF62B','7IMYH9U3','DRZLUY9K','KTPTCAVF','UWNSUNXQ','BJGWRJAK','JT8FJXP6']\n",
    "CHAPTER_IDS=['1','2.1','2.2','2.3','3','4','5','6','glossary']\n",
    "ALL_COLLECTIONS={}"
   ]
  },
  {
   "cell_type": "code",
   "execution_count": 5,
   "id": "cba99ee3",
   "metadata": {},
   "outputs": [],
   "source": [
    "ALL_COLLECTIONS=get_data_from_zotero(ZOTERO_KEY,IPBES_ZOTERO_ID,COLLECTION_IDS,CHAPTER_IDS,ALL_COLLECTIONS)"
   ]
  },
  {
   "cell_type": "code",
   "execution_count": null,
   "id": "5fdc2bb5",
   "metadata": {},
   "outputs": [],
   "source": [
    "df_ipbes_chap={}\n",
    "for i in range(len(COLLECTION_IDS)):\n",
    "    df_ipbes_chap[CHAPTER_IDS[i]]=pd.DataFrame(list(pd.DataFrame(ALL_COLLECTIONS[f'collection_chapter_{CHAPTER_IDS[i]}']).data))[['DOI','title','date','creators','tags']]\n",
    "    df_ipbes_chap[CHAPTER_IDS[i]]['chap']=f'chap_{CHAPTER_IDS[i]}'\n",
    "    print(f'{len(df_ipbes_chap[CHAPTER_IDS[i]][~pd.isna(df_ipbes_chap[CHAPTER_IDS[i]].DOI)])/len(df_ipbes_chap[CHAPTER_IDS[i]])*100} % doi available for chapter {CHAPTER_IDS[i]}')"
   ]
  },
  {
   "cell_type": "markdown",
   "id": "98a44a20",
   "metadata": {},
   "source": [
    "Clean and enrich data "
   ]
  },
  {
   "cell_type": "code",
   "execution_count": null,
   "id": "9e44246d",
   "metadata": {},
   "outputs": [],
   "source": [
    "df_ipbes=pd.concat(list(df_ipbes_chap.values())).reset_index()\n",
    "del df_ipbes['index']"
   ]
  },
  {
   "cell_type": "code",
   "execution_count": null,
   "id": "09792a77",
   "metadata": {},
   "outputs": [],
   "source": [
    "len(df_ipbes[~pd.isna(df_ipbes.DOI)])/len(df_ipbes)*100"
   ]
  },
  {
   "cell_type": "code",
   "execution_count": null,
   "id": "90933b7e",
   "metadata": {},
   "outputs": [],
   "source": [
    "df_ipbes.loc[pd.isna(df_ipbes.DOI),'DOI']=df_ipbes.loc[pd.isna(df_ipbes.DOI),:].progress_apply(get_doi_glutton, axis=1)"
   ]
  },
  {
   "cell_type": "code",
   "execution_count": null,
   "id": "b4ccc254",
   "metadata": {},
   "outputs": [],
   "source": [
    "len(df_ipbes[~pd.isna(df_ipbes.DOI)])/len(df_ipbes)*100"
   ]
  },
  {
   "cell_type": "code",
   "execution_count": null,
   "id": "25ae7b2a",
   "metadata": {},
   "outputs": [],
   "source": [
    "df_ipbes.loc[:,'DOI']=df_ipbes.loc[:,'DOI'].apply(lambda x: get_doi_cleaned(x))\n",
    "df_ipbes.loc[:,'DOI']=df_ipbes.loc[:,'DOI'].apply(lambda x: None if str(x)[:4]=='http' else x)\n",
    "df_ipbes['freq']=1\n",
    "df_ipbes=df_ipbes.rename(columns={'DOI':'doi'})"
   ]
  },
  {
   "cell_type": "markdown",
   "id": "8ca0842d",
   "metadata": {},
   "source": [
    "Enriching data through OpenAlex API integration"
   ]
  },
  {
   "cell_type": "code",
   "execution_count": null,
   "id": "88889348",
   "metadata": {},
   "outputs": [],
   "source": [
    "df_unique_doi=df_ipbes.groupby(by=['doi'], dropna=True).agg({'chap': lambda x: list(x), 'freq': 'sum'})\n",
    "df_unique_doi=df_unique_doi.reset_index()"
   ]
  },
  {
   "cell_type": "code",
   "execution_count": null,
   "id": "930eeae1",
   "metadata": {},
   "outputs": [],
   "source": [
    "#get data_OpenAlex from the API \n",
    "df_unique_doi.apply(lambda row: get_open_alex_data(cached_openalex_data_ipbes,row['doi']), axis= 1)\n",
    "write_cache(cached_openalex_data_ipbes,module_path+'\\\\IPCC_bibliography\\\\AR6\\\\structured_data\\\\cached_openalex_data_ipbes.pkl')"
   ]
  },
  {
   "cell_type": "code",
   "execution_count": null,
   "id": "df2254b8",
   "metadata": {},
   "outputs": [],
   "source": [
    "year_list = []\n",
    "countries_list = []\n",
    "concepts_list = []\n",
    "sdg_list = []\n",
    "for i,row in df_unique_doi.iterrows():\n",
    "    countries,concepts,sdg,year=get_countries_concepts_sdg(cached_openalex_data_ipbes,row)\n",
    "\n",
    "    countries_list.append(countries)\n",
    "    concepts_list.append(concepts)\n",
    "    sdg_list.append(sdg)\n",
    "    year_list.append(year)   \n",
    "\n",
    "df_unique_doi['countries'] = countries_list\n",
    "df_unique_doi['concepts'] = concepts_list\n",
    "df_unique_doi['sdg'] = sdg_list\n",
    "df_unique_doi['year'] = year_list"
   ]
  },
  {
   "cell_type": "markdown",
   "id": "d070eddb",
   "metadata": {},
   "source": [
    "Visualization of the contribution of each countries in ipcc references"
   ]
  },
  {
   "cell_type": "code",
   "execution_count": null,
   "id": "8caa529e",
   "metadata": {},
   "outputs": [],
   "source": [
    "df_unique_doi=df_unique_doi[['doi','countries','concepts','sdg','chap','year']]"
   ]
  },
  {
   "cell_type": "code",
   "execution_count": null,
   "id": "ca508588",
   "metadata": {},
   "outputs": [],
   "source": [
    "df_ipbes=pd.merge(df_ipbes, df_unique_doi[['doi','countries','concepts','sdg','year']], on='doi', how='left')\n",
    "df_ipbes.loc[:,'countries']=df_ipbes.loc[:,'countries'].apply(lambda x: str(x).replace('nan','None').replace('[]','None').replace('[None]','None') if ((str(x)=='nan')|(str(x)=='[None]')|((str(x)=='[]'))) else x )\n",
    "df_ipbes.loc[:,'countries']=df_ipbes.loc[:,'countries'].apply(lambda x: ['None'] if x=='None' else x)"
   ]
  },
  {
   "cell_type": "code",
   "execution_count": null,
   "id": "c5402aff",
   "metadata": {},
   "outputs": [],
   "source": [
    "data_counts = pd.Series(aplatir(list(df_ipbes['countries']))).value_counts().drop('None')"
   ]
  },
  {
   "cell_type": "code",
   "execution_count": null,
   "id": "e0f2d648",
   "metadata": {},
   "outputs": [],
   "source": [
    "plt.figure(figsize=(10, 6))\n",
    "data_counts[:20].plot(kind='bar')\n",
    "ax = data_counts[:20].plot(kind='bar')\n",
    "for i, v in enumerate(data_counts[:20]):\n",
    "    ax.text(i, v + 0.1, str(v), ha='center', va='bottom')\n",
    "plt.show()"
   ]
  },
  {
   "cell_type": "markdown",
   "id": "d7efd6db",
   "metadata": {},
   "source": [
    "Find the data for constructing the learning model ( IPBES related or not )"
   ]
  },
  {
   "cell_type": "code",
   "execution_count": null,
   "id": "031ef854",
   "metadata": {},
   "outputs": [],
   "source": [
    "df_ipbes.year.max() #df_ipbes[df_ipbes['chap']=='chap_4']"
   ]
  },
  {
   "cell_type": "code",
   "execution_count": null,
   "id": "01cc5efb",
   "metadata": {},
   "outputs": [],
   "source": [
    "df_ipbes['year'] = pd.to_numeric(df_ipbes['year'], errors='coerce')\n",
    "year=df_ipbes.drop_duplicates(subset='doi')['year'].dropna().sort_values().apply(lambda x: int(x))\n",
    "year_counts = pd.Series(list(year)).value_counts().to_dict()"
   ]
  },
  {
   "cell_type": "code",
   "execution_count": null,
   "id": "2645aec9",
   "metadata": {},
   "outputs": [],
   "source": [
    "dois=list(df_unique_doi.doi)"
   ]
  },
  {
   "cell_type": "code",
   "execution_count": null,
   "id": "b2c417d4",
   "metadata": {},
   "outputs": [],
   "source": [
    "dict_year={}\n",
    "year_counts_not_ipbes={}\n",
    "target_iterations = len(dois)"
   ]
  },
  {
   "cell_type": "code",
   "execution_count": null,
   "id": "c945fe2f",
   "metadata": {},
   "outputs": [],
   "source": [
    "parallel_execution(dois, dict_year, year_counts, year_counts_not_ipbes, target_iterations, 2022)"
   ]
  },
  {
   "cell_type": "code",
   "execution_count": null,
   "id": "5cde475b",
   "metadata": {},
   "outputs": [],
   "source": [
    "pd.DataFrame(aplatir(list(dict_year.values()))).to_json(module_path+f'\\\\IPCC_bibliography\\\\AR6\\\\structured_data\\\\data_not_ipbes.jsonl', orient= 'records', lines= True)"
   ]
  }
 ],
 "metadata": {
  "kernelspec": {
   "display_name": "Python 3",
   "language": "python",
   "name": "python3"
  },
  "language_info": {
   "codemirror_mode": {
    "name": "ipython",
    "version": 3
   },
   "file_extension": ".py",
   "mimetype": "text/x-python",
   "name": "python",
   "nbconvert_exporter": "python",
   "pygments_lexer": "ipython3",
   "version": "3.9.12"
  }
 },
 "nbformat": 4,
 "nbformat_minor": 5
}
