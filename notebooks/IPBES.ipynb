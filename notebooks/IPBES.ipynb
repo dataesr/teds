{
 "cells": [
  {
   "cell_type": "code",
   "execution_count": 1,
   "id": "e0ef86ad",
   "metadata": {},
   "outputs": [],
   "source": [
    "from pyzotero import zotero\n",
    "import os\n",
    "import sys\n",
    "from dotenv import load_dotenv\n",
    "load_dotenv()\n",
    "import pandas as pd\n",
    "import matplotlib.pyplot as plt\n",
    "from datetime import datetime\n",
    "from tqdm.notebook import tqdm\n",
    "tqdm.pandas()\n",
    "\n",
    "module_path = os.path.abspath(os.path.join('..'))\n",
    "if module_path not in sys.path:\n",
    "    sys.path.append(module_path)\n",
    "from code_utils.zotero import get_data_from_zotero\n",
    "from code_utils.glutton import get_doi_glutton\n",
    "from code_utils.utils import get_doi_cleaned,aplatir,wg_chap_to_dict,get_year_ipbes,check_doi_glutton\n",
    "from code_utils.pickle import load_cache,write_cache\n",
    "from code_utils.enriching_data_OpenAlex import get_countries_concepts_sdg,get_open_alex_data,get_open_alex_data_not_in_references"
   ]
  },
  {
   "cell_type": "code",
   "execution_count": 2,
   "id": "9061c147",
   "metadata": {},
   "outputs": [],
   "source": [
    "cached_openalex_data_ipbes = {}\n",
    "cached_openalex_data_not_ipbes = {}"
   ]
  },
  {
   "cell_type": "code",
   "execution_count": null,
   "id": "dde30c87",
   "metadata": {},
   "outputs": [],
   "source": [
    "try:\n",
    "    cached_openalex_data_ipbes = load_cache(cached_openalex_data_ipbes,module_path+'\\\\IPCC_bibliography\\\\AR6\\\\structured_data\\\\caches\\\\cached_openalex_data_ipbes.pkl')\n",
    "    cached_openalex_data_not_ipbes = load_cache(cached_openalex_data_ipbes,module_path+'\\\\IPCC_bibliography\\\\AR6\\\\structured_data\\\\caches\\\\cached_openalex_data_not_ipbes.pkl')\n",
    "except:\n",
    "    #write_cache(cached_openalex_data_ipbes,module_path+'\\\\IPCC_bibliography\\\\AR6\\\\structured_data\\\\caches\\\\cached_openalex_data_ipbes.pkl')\n",
    "    #write_cache(cached_openalex_data_not_ipbes,module_path+'\\\\IPCC_bibliography\\\\AR6\\\\structured_data\\\\caches\\\\cached_openalex_data_not_ipbes.pkl')\n",
    "    print('oups')"
   ]
  },
  {
   "cell_type": "markdown",
   "id": "15bcf112",
   "metadata": {},
   "source": [
    "Read IPBES references in zotero files"
   ]
  },
  {
   "cell_type": "code",
   "execution_count": null,
   "id": "72fbfc65",
   "metadata": {},
   "outputs": [],
   "source": [
    "ZOTERO_KEY = os.getenv('ZOTERO_KEY')\n",
    "IPBES_ZOTERO_ID = '2333077'\n",
    "COLLECTION_IDS = ['8DQ8YFJI','JR5LKU4U','LBFNF62B','7IMYH9U3','DRZLUY9K','KTPTCAVF','UWNSUNXQ','BJGWRJAK','JT8FJXP6']\n",
    "CHAPTER_IDS=['1','2.1','2.2','2.3','3','4','5','6','glossary']\n",
    "ALL_COLLECTIONS={}"
   ]
  },
  {
   "cell_type": "code",
   "execution_count": null,
   "id": "cba99ee3",
   "metadata": {},
   "outputs": [],
   "source": [
    "ALL_COLLECTIONS=get_data_from_zotero(ZOTERO_KEY,IPBES_ZOTERO_ID,COLLECTION_IDS,CHAPTER_IDS,ALL_COLLECTIONS)"
   ]
  },
  {
   "cell_type": "code",
   "execution_count": null,
   "id": "5fdc2bb5",
   "metadata": {},
   "outputs": [],
   "source": [
    "df_ipbes_chap={}\n",
    "for i in range(len(COLLECTION_IDS)):\n",
    "    df_ipbes_chap[CHAPTER_IDS[i]]=pd.DataFrame(list(pd.DataFrame(ALL_COLLECTIONS[f'collection_chapter_{CHAPTER_IDS[i]}']).data))[['DOI','title','date','creators','tags']]\n",
    "    df_ipbes_chap[CHAPTER_IDS[i]]['chap']=f'chap_{CHAPTER_IDS[i]}'\n",
    "    print(f'{len(df_ipbes_chap[CHAPTER_IDS[i]][~pd.isna(df_ipbes_chap[CHAPTER_IDS[i]].DOI)])/len(df_ipbes_chap[CHAPTER_IDS[i]])*100} % doi available for chapter {CHAPTER_IDS[i]}')"
   ]
  },
  {
   "cell_type": "markdown",
   "id": "98a44a20",
   "metadata": {},
   "source": [
    "Clean and enrich data "
   ]
  },
  {
   "cell_type": "code",
   "execution_count": null,
   "id": "9e44246d",
   "metadata": {},
   "outputs": [],
   "source": [
    "df_ipbes=pd.concat(list(df_ipbes_chap.values())).reset_index()\n",
    "del df_ipbes['index']"
   ]
  },
  {
   "cell_type": "code",
   "execution_count": null,
   "id": "09792a77",
   "metadata": {},
   "outputs": [],
   "source": [
    "len(df_ipbes[~pd.isna(df_ipbes.DOI)])/len(df_ipbes)*100"
   ]
  },
  {
   "cell_type": "code",
   "execution_count": null,
   "id": "6d63cd87",
   "metadata": {},
   "outputs": [],
   "source": [
    "df_ipbes.DOI.drop_duplicates()"
   ]
  },
  {
   "cell_type": "code",
   "execution_count": null,
   "id": "9ceaa53c",
   "metadata": {},
   "outputs": [],
   "source": [
    "get_doi_glutton(df_ipbes.iloc[1,:])"
   ]
  },
  {
   "cell_type": "code",
   "execution_count": null,
   "id": "90933b7e",
   "metadata": {},
   "outputs": [],
   "source": [
    "df_ipbes.loc[pd.isna(df_ipbes.DOI),'DOI']=df_ipbes.loc[pd.isna(df_ipbes.DOI),:].progress_apply(get_doi_glutton, axis=1)"
   ]
  },
  {
   "cell_type": "code",
   "execution_count": null,
   "id": "b4ccc254",
   "metadata": {},
   "outputs": [],
   "source": [
    "len(df_ipbes[~pd.isna(df_ipbes.DOI)])/len(df_ipbes)*100"
   ]
  },
  {
   "cell_type": "code",
   "execution_count": null,
   "id": "25ae7b2a",
   "metadata": {},
   "outputs": [],
   "source": [
    "df_ipbes.loc[:,'DOI']=df_ipbes.loc[:,'DOI'].apply(lambda x: get_doi_cleaned(x))\n",
    "df_ipbes.loc[:,'DOI']=df_ipbes.loc[:,'DOI'].apply(lambda x: None if str(x)[:4]=='http' else x)\n",
    "df_ipbes['freq']=1\n",
    "df_ipbes=df_ipbes.rename(columns={'DOI':'doi'})"
   ]
  },
  {
   "cell_type": "code",
   "execution_count": null,
   "id": "bdcb049e",
   "metadata": {},
   "outputs": [],
   "source": [
    "df_ipbes.to_json(module_path+'\\\\IPCC_bibliography\\\\AR6\\\\structured_data\\\\data_ipbes.json', orient='records')"
   ]
  },
  {
   "cell_type": "markdown",
   "id": "8ca0842d",
   "metadata": {},
   "source": [
    "Enriching data through OpenAlex API integration"
   ]
  },
  {
   "cell_type": "code",
   "execution_count": null,
   "id": "bb372fcd",
   "metadata": {},
   "outputs": [],
   "source": [
    "df_ipbes=pd.read_json(module_path+'\\\\IPCC_bibliography\\\\AR6\\\\structured_data\\\\data_ipbes.json', orient='records')"
   ]
  },
  {
   "cell_type": "code",
   "execution_count": null,
   "id": "ae7af54e",
   "metadata": {},
   "outputs": [],
   "source": [
    "df_unique_doi=df_ipbes.groupby(by=['doi'], dropna=True).agg({'chap': lambda x: list(x), 'freq': 'sum'})\n",
    "df_unique_doi=df_unique_doi.reset_index()"
   ]
  },
  {
   "cell_type": "code",
   "execution_count": null,
   "id": "930eeae1",
   "metadata": {},
   "outputs": [],
   "source": [
    "#get data_OpenAlex from the API \n",
    "df_unique_doi.apply(lambda row: get_open_alex_data(cached_openalex_data_ipbes,row['doi']), axis= 1)"
   ]
  },
  {
   "cell_type": "code",
   "execution_count": null,
   "id": "cddfdcb0",
   "metadata": {},
   "outputs": [],
   "source": [
    "len(cached_openalex_data_ipbes)"
   ]
  },
  {
   "cell_type": "code",
   "execution_count": null,
   "id": "e85d32d5",
   "metadata": {},
   "outputs": [],
   "source": [
    "write_cache(cached_openalex_data_ipbes,module_path+'\\\\IPCC_bibliography\\\\AR6\\\\structured_data\\\\caches\\\\cached_openalex_data_ipbes.pkl')"
   ]
  },
  {
   "cell_type": "code",
   "execution_count": null,
   "id": "5202723a",
   "metadata": {},
   "outputs": [],
   "source": [
    "df_ipbes=pd.read_json(module_path+'\\\\IPCC_bibliography\\\\AR6\\\\structured_data\\\\data_ipbes.json')"
   ]
  },
  {
   "cell_type": "code",
   "execution_count": null,
   "id": "f8c77753",
   "metadata": {},
   "outputs": [],
   "source": [
    "df_unique_doi=df_ipbes['doi'].drop_duplicates().dropna()\n",
    "df_unique_doi=pd.DataFrame({'doi':list(df_unique_doi)})"
   ]
  },
  {
   "cell_type": "code",
   "execution_count": null,
   "id": "df2254b8",
   "metadata": {},
   "outputs": [],
   "source": [
    "countries_list = []\n",
    "concepts_list = []\n",
    "sdg_list = []\n",
    "topics_list = []\n",
    "is_OA_available_list=[]\n",
    "title_list=[]\n",
    "year_list=[]\n",
    "names_list=[]\n",
    "rors_list=[]\n",
    "institutions_names_list=[]\n",
    "locations_names_list=[]\n",
    "locations_ids_list=[]\n",
    "\n",
    "for i,row in df_unique_doi.iterrows():\n",
    "    countries,concepts,sdg,year,topics,doi,bool_OA,title,name,rors,institutions_names,locations_names,locations_ids=get_countries_concepts_sdg(cached_openalex_data_ipbes,row,ipcc=True,i=0)\n",
    "\n",
    "    countries_list.append(countries)\n",
    "    concepts_list.append(concepts)\n",
    "    sdg_list.append(sdg)\n",
    "    topics_list.append(topics)  \n",
    "    is_OA_available_list.append(bool_OA)\n",
    "    title_list.append(title)\n",
    "    year_list.append(year)\n",
    "    names_list.append(name)\n",
    "    rors_list.append(rors)\n",
    "    institutions_names_list.append(institutions_names)\n",
    "    locations_names_list.append(locations_names)\n",
    "    locations_ids_list.append(locations_ids)\n",
    "\n",
    "\n",
    "df_unique_doi['countries'] = countries_list\n",
    "df_unique_doi['concepts'] = concepts_list\n",
    "df_unique_doi['sdg'] = sdg_list\n",
    "df_unique_doi['topics'] = topics_list\n",
    "df_unique_doi['is_OA_available'] = is_OA_available_list\n",
    "df_unique_doi['year_OA'] = year_list\n",
    "df_unique_doi['authors_name'] = names_list\n",
    "df_unique_doi['rors'] = rors_list\n",
    "df_unique_doi['institutions_names'] = institutions_names_list\n",
    "df_unique_doi['locations_names'] = locations_names_list\n",
    "df_unique_doi['locations_id'] = locations_ids_list"
   ]
  },
  {
   "cell_type": "code",
   "execution_count": null,
   "id": "478ecfa9",
   "metadata": {},
   "outputs": [],
   "source": [
    "df_unique_doi.is_OA_available.value_counts()"
   ]
  },
  {
   "cell_type": "code",
   "execution_count": null,
   "id": "6d32bec2",
   "metadata": {},
   "outputs": [],
   "source": [
    "df_unique_doi=df_unique_doi[df_unique_doi.is_OA_available]"
   ]
  },
  {
   "cell_type": "code",
   "execution_count": null,
   "id": "68a49e23",
   "metadata": {},
   "outputs": [],
   "source": [
    "df_unique_doi=df_unique_doi.reset_index()\n",
    "del df_unique_doi['index']"
   ]
  },
  {
   "cell_type": "code",
   "execution_count": null,
   "id": "b31ee6ad",
   "metadata": {},
   "outputs": [],
   "source": [
    "df_unique_doi.to_json(module_path+'\\\\IPCC_bibliography\\\\AR6\\\\structured_data\\\\data_ipbes_OA.json', orient='records')"
   ]
  },
  {
   "cell_type": "markdown",
   "id": "d070eddb",
   "metadata": {},
   "source": [
    "Ipbes references data"
   ]
  },
  {
   "cell_type": "code",
   "execution_count": null,
   "id": "8ffad823",
   "metadata": {},
   "outputs": [],
   "source": [
    "df_unique_doi=pd.read_json(module_path+'\\\\IPCC_bibliography\\\\AR6\\\\structured_data\\\\data_ipbes_OA.json', orient='records')"
   ]
  },
  {
   "cell_type": "code",
   "execution_count": null,
   "id": "853f6324",
   "metadata": {},
   "outputs": [],
   "source": [
    "df_ipbes=pd.read_json(module_path+'\\\\IPCC_bibliography\\\\AR6\\\\structured_data\\\\data_ipbes.json')"
   ]
  },
  {
   "cell_type": "code",
   "execution_count": null,
   "id": "fd351e55",
   "metadata": {},
   "outputs": [],
   "source": [
    "df_ipbes=pd.merge(df_ipbes[['doi', 'title', 'date', 'creators', 'tags']], df_unique_doi, on='doi', how='inner')"
   ]
  },
  {
   "cell_type": "code",
   "execution_count": null,
   "id": "04560cca",
   "metadata": {},
   "outputs": [],
   "source": [
    "df_ipbes['year']=df_ipbes['date'].apply(lambda x: get_year_ipbes(x) if pd.isna(x)==False else None)"
   ]
  },
  {
   "cell_type": "code",
   "execution_count": null,
   "id": "128a6434",
   "metadata": {},
   "outputs": [],
   "source": [
    "df_ipbes['check']=df_ipbes.apply(lambda row: check_doi_glutton(row), axis=1)\n",
    "df_ipbes.check.value_counts()"
   ]
  },
  {
   "cell_type": "code",
   "execution_count": null,
   "id": "0c51dc1e",
   "metadata": {},
   "outputs": [],
   "source": [
    "df_ipbes[df_ipbes.check==False]"
   ]
  },
  {
   "cell_type": "code",
   "execution_count": null,
   "id": "eac33967",
   "metadata": {},
   "outputs": [],
   "source": [
    "df_ipbes=df_ipbes[(df_ipbes.check) & (pd.isna(df_ipbes['is_OA_available'])==False)]"
   ]
  },
  {
   "cell_type": "code",
   "execution_count": null,
   "id": "2b9ac07a",
   "metadata": {},
   "outputs": [],
   "source": [
    "del df_ipbes['check']"
   ]
  },
  {
   "cell_type": "code",
   "execution_count": null,
   "id": "ca508588",
   "metadata": {},
   "outputs": [],
   "source": [
    "df_ipbes.loc[:,'countries']=df_ipbes.loc[:,'countries'].apply(lambda x: str(x).replace('nan','None').replace('[]','None').replace('[None]','None') if ((str(x)=='nan')|(str(x)=='[None]')|((str(x)=='[]'))) else x )\n",
    "df_ipbes.loc[:,'countries']=df_ipbes.loc[:,'countries'].apply(lambda x: ['None'] if x=='None' else x)"
   ]
  },
  {
   "cell_type": "code",
   "execution_count": null,
   "id": "574b3850",
   "metadata": {},
   "outputs": [],
   "source": [
    "df_ipbes.to_json(module_path+'\\\\IPCC_bibliography\\\\AR6\\\\structured_data\\\\data_model_ipbes\\\\data_ipbes.jsonl', orient='records',lines=True)"
   ]
  },
  {
   "cell_type": "markdown",
   "id": "d7efd6db",
   "metadata": {},
   "source": [
    "Find the data for constructing the learning model ( IPBES related or not )"
   ]
  },
  {
   "cell_type": "code",
   "execution_count": 3,
   "id": "92e97fe5",
   "metadata": {},
   "outputs": [],
   "source": [
    "df_ipbes=pd.read_json(module_path+f'\\\\IPCC_bibliography\\\\AR6\\\\structured_data\\\\data_model_ipbes\\\\data_ipbes.jsonl', lines= True).dropna(subset=['year'])"
   ]
  },
  {
   "cell_type": "code",
   "execution_count": 4,
   "id": "01cc5efb",
   "metadata": {},
   "outputs": [],
   "source": [
    "df_ipbes['year'] = pd.to_numeric(df_ipbes['year'], errors='coerce')\n",
    "df_ipbes=df_ipbes.dropna(subset=['year','doi', 'title','topics','locations_names','locations_id']).drop_duplicates(subset=['doi'])\n",
    "year=df_ipbes.drop_duplicates(subset='doi').dropna(subset=['doi'])['year'].dropna().sort_values().apply(lambda x: int(x))\n",
    "year_counts = pd.Series(list(year)).value_counts().to_dict()"
   ]
  },
  {
   "cell_type": "code",
   "execution_count": 5,
   "id": "2645aec9",
   "metadata": {},
   "outputs": [],
   "source": [
    "dois=list(df_ipbes.doi.dropna().drop_duplicates())"
   ]
  },
  {
   "cell_type": "code",
   "execution_count": 6,
   "id": "377ef383",
   "metadata": {},
   "outputs": [
    {
     "data": {
      "text/plain": [
       "5531"
      ]
     },
     "execution_count": 6,
     "metadata": {},
     "output_type": "execute_result"
    }
   ],
   "source": [
    "sum(list(year_counts.values()))"
   ]
  },
  {
   "cell_type": "code",
   "execution_count": 7,
   "id": "b2c417d4",
   "metadata": {},
   "outputs": [],
   "source": [
    "year_counts_not_ipbes={}"
   ]
  },
  {
   "cell_type": "code",
   "execution_count": 8,
   "id": "c945fe2f",
   "metadata": {},
   "outputs": [
    {
     "name": "stderr",
     "output_type": "stream",
     "text": [
      "DEBUG:urllib3.connectionpool:Starting new HTTPS connection (1): api.openalex.org:443\n",
      "DEBUG:urllib3.connectionpool:https://api.openalex.org:443 \"GET /works?filter=has_doi:true,concepts_count:%3E0,publication_year:2016&sample=200&per-page=200 HTTP/1.1\" 200 297395\n",
      "DEBUG:urllib3.connectionpool:Starting new HTTPS connection (1): api.openalex.org:443\n"
     ]
    },
    {
     "name": "stdout",
     "output_type": "stream",
     "text": [
      "plus que 624 publications pour completer l'année 2016\n"
     ]
    },
    {
     "name": "stderr",
     "output_type": "stream",
     "text": [
      "DEBUG:urllib3.connectionpool:https://api.openalex.org:443 \"GET /works?filter=has_doi:true,concepts_count:%3E0,publication_year:2016&sample=200&per-page=200 HTTP/1.1\" 200 290705\n",
      "DEBUG:urllib3.connectionpool:Starting new HTTPS connection (1): api.openalex.org:443\n"
     ]
    },
    {
     "name": "stdout",
     "output_type": "stream",
     "text": [
      "plus que 513 publications pour completer l'année 2016\n"
     ]
    },
    {
     "name": "stderr",
     "output_type": "stream",
     "text": [
      "DEBUG:urllib3.connectionpool:https://api.openalex.org:443 \"GET /works?filter=has_doi:true,concepts_count:%3E0,publication_year:2016&sample=200&per-page=200 HTTP/1.1\" 200 311560\n",
      "DEBUG:urllib3.connectionpool:Starting new HTTPS connection (1): api.openalex.org:443\n"
     ]
    },
    {
     "name": "stdout",
     "output_type": "stream",
     "text": [
      "plus que 402 publications pour completer l'année 2016\n"
     ]
    },
    {
     "name": "stderr",
     "output_type": "stream",
     "text": [
      "DEBUG:urllib3.connectionpool:https://api.openalex.org:443 \"GET /works?filter=has_doi:true,concepts_count:%3E0,publication_year:2016&sample=200&per-page=200 HTTP/1.1\" 200 313168\n",
      "DEBUG:urllib3.connectionpool:Starting new HTTPS connection (1): api.openalex.org:443\n"
     ]
    },
    {
     "name": "stdout",
     "output_type": "stream",
     "text": [
      "plus que 279 publications pour completer l'année 2016\n"
     ]
    },
    {
     "name": "stderr",
     "output_type": "stream",
     "text": [
      "DEBUG:urllib3.connectionpool:https://api.openalex.org:443 \"GET /works?filter=has_doi:true,concepts_count:%3E0,publication_year:2016&sample=200&per-page=200 HTTP/1.1\" 200 324625\n",
      "DEBUG:urllib3.connectionpool:Starting new HTTPS connection (1): api.openalex.org:443\n"
     ]
    },
    {
     "name": "stdout",
     "output_type": "stream",
     "text": [
      "plus que 178 publications pour completer l'année 2016\n"
     ]
    },
    {
     "name": "stderr",
     "output_type": "stream",
     "text": [
      "DEBUG:urllib3.connectionpool:https://api.openalex.org:443 \"GET /works?filter=has_doi:true,concepts_count:%3E0,publication_year:2016&sample=200&per-page=200 HTTP/1.1\" 200 338443\n",
      "DEBUG:urllib3.connectionpool:Starting new HTTPS connection (1): api.openalex.org:443\n"
     ]
    },
    {
     "name": "stdout",
     "output_type": "stream",
     "text": [
      "plus que 63 publications pour completer l'année 2016\n"
     ]
    },
    {
     "name": "stderr",
     "output_type": "stream",
     "text": [
      "DEBUG:urllib3.connectionpool:https://api.openalex.org:443 \"GET /works?filter=has_doi:true,concepts_count:%3E0,publication_year:2017&sample=200&per-page=200 HTTP/1.1\" 200 295565\n",
      "DEBUG:urllib3.connectionpool:Starting new HTTPS connection (1): api.openalex.org:443\n"
     ]
    },
    {
     "name": "stdout",
     "output_type": "stream",
     "text": [
      "plus que 584 publications pour completer l'année 2017\n"
     ]
    },
    {
     "name": "stderr",
     "output_type": "stream",
     "text": [
      "DEBUG:urllib3.connectionpool:https://api.openalex.org:443 \"GET /works?filter=has_doi:true,concepts_count:%3E0,publication_year:2017&sample=200&per-page=200 HTTP/1.1\" 200 298021\n",
      "DEBUG:urllib3.connectionpool:Starting new HTTPS connection (1): api.openalex.org:443\n"
     ]
    },
    {
     "name": "stdout",
     "output_type": "stream",
     "text": [
      "plus que 471 publications pour completer l'année 2017\n"
     ]
    },
    {
     "name": "stderr",
     "output_type": "stream",
     "text": [
      "DEBUG:urllib3.connectionpool:https://api.openalex.org:443 \"GET /works?filter=has_doi:true,concepts_count:%3E0,publication_year:2017&sample=200&per-page=200 HTTP/1.1\" 200 301020\n",
      "DEBUG:urllib3.connectionpool:Starting new HTTPS connection (1): api.openalex.org:443\n"
     ]
    },
    {
     "name": "stdout",
     "output_type": "stream",
     "text": [
      "plus que 358 publications pour completer l'année 2017\n"
     ]
    },
    {
     "name": "stderr",
     "output_type": "stream",
     "text": [
      "DEBUG:urllib3.connectionpool:https://api.openalex.org:443 \"GET /works?filter=has_doi:true,concepts_count:%3E0,publication_year:2017&sample=200&per-page=200 HTTP/1.1\" 200 301730\n",
      "DEBUG:urllib3.connectionpool:Starting new HTTPS connection (1): api.openalex.org:443\n"
     ]
    },
    {
     "name": "stdout",
     "output_type": "stream",
     "text": [
      "plus que 245 publications pour completer l'année 2017\n"
     ]
    },
    {
     "name": "stderr",
     "output_type": "stream",
     "text": [
      "DEBUG:urllib3.connectionpool:https://api.openalex.org:443 \"GET /works?filter=has_doi:true,concepts_count:%3E0,publication_year:2017&sample=200&per-page=200 HTTP/1.1\" 200 290678\n",
      "DEBUG:urllib3.connectionpool:Starting new HTTPS connection (1): api.openalex.org:443\n"
     ]
    },
    {
     "name": "stdout",
     "output_type": "stream",
     "text": [
      "plus que 145 publications pour completer l'année 2017\n"
     ]
    },
    {
     "name": "stderr",
     "output_type": "stream",
     "text": [
      "DEBUG:urllib3.connectionpool:https://api.openalex.org:443 \"GET /works?filter=has_doi:true,concepts_count:%3E0,publication_year:2017&sample=200&per-page=200 HTTP/1.1\" 200 291419\n",
      "DEBUG:urllib3.connectionpool:Starting new HTTPS connection (1): api.openalex.org:443\n"
     ]
    },
    {
     "name": "stdout",
     "output_type": "stream",
     "text": [
      "plus que 33 publications pour completer l'année 2017\n"
     ]
    },
    {
     "name": "stderr",
     "output_type": "stream",
     "text": [
      "DEBUG:urllib3.connectionpool:https://api.openalex.org:443 \"GET /works?filter=has_doi:true,concepts_count:%3E0,publication_year:2015&sample=200&per-page=200 HTTP/1.1\" 200 310351\n",
      "DEBUG:urllib3.connectionpool:Starting new HTTPS connection (1): api.openalex.org:443\n"
     ]
    },
    {
     "name": "stdout",
     "output_type": "stream",
     "text": [
      "plus que 545 publications pour completer l'année 2015\n"
     ]
    },
    {
     "name": "stderr",
     "output_type": "stream",
     "text": [
      "DEBUG:urllib3.connectionpool:https://api.openalex.org:443 \"GET /works?filter=has_doi:true,concepts_count:%3E0,publication_year:2015&sample=200&per-page=200 HTTP/1.1\" 200 301919\n",
      "DEBUG:urllib3.connectionpool:Starting new HTTPS connection (1): api.openalex.org:443\n"
     ]
    },
    {
     "name": "stdout",
     "output_type": "stream",
     "text": [
      "plus que 441 publications pour completer l'année 2015\n"
     ]
    },
    {
     "name": "stderr",
     "output_type": "stream",
     "text": [
      "DEBUG:urllib3.connectionpool:https://api.openalex.org:443 \"GET /works?filter=has_doi:true,concepts_count:%3E0,publication_year:2015&sample=200&per-page=200 HTTP/1.1\" 200 338082\n",
      "DEBUG:urllib3.connectionpool:Starting new HTTPS connection (1): api.openalex.org:443\n"
     ]
    },
    {
     "name": "stdout",
     "output_type": "stream",
     "text": [
      "plus que 315 publications pour completer l'année 2015\n"
     ]
    },
    {
     "name": "stderr",
     "output_type": "stream",
     "text": [
      "DEBUG:urllib3.connectionpool:https://api.openalex.org:443 \"GET /works?filter=has_doi:true,concepts_count:%3E0,publication_year:2015&sample=200&per-page=200 HTTP/1.1\" 200 342926\n",
      "DEBUG:urllib3.connectionpool:Starting new HTTPS connection (1): api.openalex.org:443\n"
     ]
    },
    {
     "name": "stdout",
     "output_type": "stream",
     "text": [
      "plus que 194 publications pour completer l'année 2015\n"
     ]
    },
    {
     "name": "stderr",
     "output_type": "stream",
     "text": [
      "DEBUG:urllib3.connectionpool:https://api.openalex.org:443 \"GET /works?filter=has_doi:true,concepts_count:%3E0,publication_year:2015&sample=200&per-page=200 HTTP/1.1\" 200 344779\n",
      "DEBUG:urllib3.connectionpool:Starting new HTTPS connection (1): api.openalex.org:443\n"
     ]
    },
    {
     "name": "stdout",
     "output_type": "stream",
     "text": [
      "plus que 84 publications pour completer l'année 2015\n"
     ]
    },
    {
     "name": "stderr",
     "output_type": "stream",
     "text": [
      "DEBUG:urllib3.connectionpool:https://api.openalex.org:443 \"GET /works?filter=has_doi:true,concepts_count:%3E0,publication_year:2014&sample=200&per-page=200 HTTP/1.1\" 200 273423\n",
      "DEBUG:urllib3.connectionpool:Starting new HTTPS connection (1): api.openalex.org:443\n"
     ]
    },
    {
     "name": "stdout",
     "output_type": "stream",
     "text": [
      "plus que 485 publications pour completer l'année 2014\n"
     ]
    },
    {
     "name": "stderr",
     "output_type": "stream",
     "text": [
      "DEBUG:urllib3.connectionpool:https://api.openalex.org:443 \"GET /works?filter=has_doi:true,concepts_count:%3E0,publication_year:2014&sample=200&per-page=200 HTTP/1.1\" 200 306557\n",
      "DEBUG:urllib3.connectionpool:Starting new HTTPS connection (1): api.openalex.org:443\n"
     ]
    },
    {
     "name": "stdout",
     "output_type": "stream",
     "text": [
      "plus que 373 publications pour completer l'année 2014\n"
     ]
    },
    {
     "name": "stderr",
     "output_type": "stream",
     "text": [
      "DEBUG:urllib3.connectionpool:https://api.openalex.org:443 \"GET /works?filter=has_doi:true,concepts_count:%3E0,publication_year:2014&sample=200&per-page=200 HTTP/1.1\" 200 292265\n",
      "DEBUG:urllib3.connectionpool:Starting new HTTPS connection (1): api.openalex.org:443\n"
     ]
    },
    {
     "name": "stdout",
     "output_type": "stream",
     "text": [
      "plus que 259 publications pour completer l'année 2014\n"
     ]
    },
    {
     "name": "stderr",
     "output_type": "stream",
     "text": [
      "DEBUG:urllib3.connectionpool:https://api.openalex.org:443 \"GET /works?filter=has_doi:true,concepts_count:%3E0,publication_year:2014&sample=200&per-page=200 HTTP/1.1\" 200 287571\n",
      "DEBUG:urllib3.connectionpool:Starting new HTTPS connection (1): api.openalex.org:443\n"
     ]
    },
    {
     "name": "stdout",
     "output_type": "stream",
     "text": [
      "plus que 137 publications pour completer l'année 2014\n"
     ]
    },
    {
     "name": "stderr",
     "output_type": "stream",
     "text": [
      "DEBUG:urllib3.connectionpool:https://api.openalex.org:443 \"GET /works?filter=has_doi:true,concepts_count:%3E0,publication_year:2014&sample=200&per-page=200 HTTP/1.1\" 200 309567\n",
      "DEBUG:urllib3.connectionpool:Starting new HTTPS connection (1): api.openalex.org:443\n"
     ]
    },
    {
     "name": "stdout",
     "output_type": "stream",
     "text": [
      "plus que 28 publications pour completer l'année 2014\n"
     ]
    },
    {
     "name": "stderr",
     "output_type": "stream",
     "text": [
      "DEBUG:urllib3.connectionpool:https://api.openalex.org:443 \"GET /works?filter=has_doi:true,concepts_count:%3E0,publication_year:2013&sample=200&per-page=200 HTTP/1.1\" 200 313901\n",
      "DEBUG:urllib3.connectionpool:Starting new HTTPS connection (1): api.openalex.org:443\n"
     ]
    },
    {
     "name": "stdout",
     "output_type": "stream",
     "text": [
      "plus que 439 publications pour completer l'année 2013\n"
     ]
    },
    {
     "name": "stderr",
     "output_type": "stream",
     "text": [
      "DEBUG:urllib3.connectionpool:https://api.openalex.org:443 \"GET /works?filter=has_doi:true,concepts_count:%3E0,publication_year:2013&sample=200&per-page=200 HTTP/1.1\" 200 298118\n",
      "DEBUG:urllib3.connectionpool:Starting new HTTPS connection (1): api.openalex.org:443\n"
     ]
    },
    {
     "name": "stdout",
     "output_type": "stream",
     "text": [
      "plus que 317 publications pour completer l'année 2013\n"
     ]
    },
    {
     "name": "stderr",
     "output_type": "stream",
     "text": [
      "DEBUG:urllib3.connectionpool:https://api.openalex.org:443 \"GET /works?filter=has_doi:true,concepts_count:%3E0,publication_year:2013&sample=200&per-page=200 HTTP/1.1\" 200 292384\n",
      "DEBUG:urllib3.connectionpool:Starting new HTTPS connection (1): api.openalex.org:443\n"
     ]
    },
    {
     "name": "stdout",
     "output_type": "stream",
     "text": [
      "plus que 198 publications pour completer l'année 2013\n"
     ]
    },
    {
     "name": "stderr",
     "output_type": "stream",
     "text": [
      "DEBUG:urllib3.connectionpool:https://api.openalex.org:443 \"GET /works?filter=has_doi:true,concepts_count:%3E0,publication_year:2013&sample=200&per-page=200 HTTP/1.1\" 200 300549\n",
      "DEBUG:urllib3.connectionpool:Starting new HTTPS connection (1): api.openalex.org:443\n"
     ]
    },
    {
     "name": "stdout",
     "output_type": "stream",
     "text": [
      "plus que 89 publications pour completer l'année 2013\n"
     ]
    },
    {
     "name": "stderr",
     "output_type": "stream",
     "text": [
      "DEBUG:urllib3.connectionpool:https://api.openalex.org:443 \"GET /works?filter=has_doi:true,concepts_count:%3E0,publication_year:2012&sample=200&per-page=200 HTTP/1.1\" 200 304073\n",
      "DEBUG:urllib3.connectionpool:Starting new HTTPS connection (1): api.openalex.org:443\n"
     ]
    },
    {
     "name": "stdout",
     "output_type": "stream",
     "text": [
      "plus que 349 publications pour completer l'année 2012\n"
     ]
    },
    {
     "name": "stderr",
     "output_type": "stream",
     "text": [
      "DEBUG:urllib3.connectionpool:https://api.openalex.org:443 \"GET /works?filter=has_doi:true,concepts_count:%3E0,publication_year:2012&sample=200&per-page=200 HTTP/1.1\" 200 306461\n",
      "DEBUG:urllib3.connectionpool:Starting new HTTPS connection (1): api.openalex.org:443\n"
     ]
    },
    {
     "name": "stdout",
     "output_type": "stream",
     "text": [
      "plus que 235 publications pour completer l'année 2012\n"
     ]
    },
    {
     "name": "stderr",
     "output_type": "stream",
     "text": [
      "DEBUG:urllib3.connectionpool:https://api.openalex.org:443 \"GET /works?filter=has_doi:true,concepts_count:%3E0,publication_year:2012&sample=200&per-page=200 HTTP/1.1\" 200 308720\n",
      "DEBUG:urllib3.connectionpool:Starting new HTTPS connection (1): api.openalex.org:443\n"
     ]
    },
    {
     "name": "stdout",
     "output_type": "stream",
     "text": [
      "plus que 115 publications pour completer l'année 2012\n"
     ]
    },
    {
     "name": "stderr",
     "output_type": "stream",
     "text": [
      "DEBUG:urllib3.connectionpool:https://api.openalex.org:443 \"GET /works?filter=has_doi:true,concepts_count:%3E0,publication_year:2010&sample=200&per-page=200 HTTP/1.1\" 200 323393\n",
      "DEBUG:urllib3.connectionpool:Starting new HTTPS connection (1): api.openalex.org:443\n"
     ]
    },
    {
     "name": "stdout",
     "output_type": "stream",
     "text": [
      "plus que 338 publications pour completer l'année 2010\n"
     ]
    },
    {
     "name": "stderr",
     "output_type": "stream",
     "text": [
      "DEBUG:urllib3.connectionpool:https://api.openalex.org:443 \"GET /works?filter=has_doi:true,concepts_count:%3E0,publication_year:2010&sample=200&per-page=200 HTTP/1.1\" 200 268450\n",
      "DEBUG:urllib3.connectionpool:Starting new HTTPS connection (1): api.openalex.org:443\n"
     ]
    },
    {
     "name": "stdout",
     "output_type": "stream",
     "text": [
      "plus que 214 publications pour completer l'année 2010\n"
     ]
    },
    {
     "name": "stderr",
     "output_type": "stream",
     "text": [
      "DEBUG:urllib3.connectionpool:https://api.openalex.org:443 \"GET /works?filter=has_doi:true,concepts_count:%3E0,publication_year:2010&sample=200&per-page=200 HTTP/1.1\" 200 282574\n",
      "DEBUG:urllib3.connectionpool:Starting new HTTPS connection (1): api.openalex.org:443\n"
     ]
    },
    {
     "name": "stdout",
     "output_type": "stream",
     "text": [
      "plus que 95 publications pour completer l'année 2010\n"
     ]
    },
    {
     "name": "stderr",
     "output_type": "stream",
     "text": [
      "DEBUG:urllib3.connectionpool:https://api.openalex.org:443 \"GET /works?filter=has_doi:true,concepts_count:%3E0,publication_year:2011&sample=200&per-page=200 HTTP/1.1\" 200 271338\n",
      "DEBUG:urllib3.connectionpool:Starting new HTTPS connection (1): api.openalex.org:443\n"
     ]
    },
    {
     "name": "stdout",
     "output_type": "stream",
     "text": [
      "plus que 294 publications pour completer l'année 2011\n"
     ]
    },
    {
     "name": "stderr",
     "output_type": "stream",
     "text": [
      "DEBUG:urllib3.connectionpool:https://api.openalex.org:443 \"GET /works?filter=has_doi:true,concepts_count:%3E0,publication_year:2011&sample=200&per-page=200 HTTP/1.1\" 200 282737\n",
      "DEBUG:urllib3.connectionpool:Starting new HTTPS connection (1): api.openalex.org:443\n"
     ]
    },
    {
     "name": "stdout",
     "output_type": "stream",
     "text": [
      "plus que 183 publications pour completer l'année 2011\n"
     ]
    },
    {
     "name": "stderr",
     "output_type": "stream",
     "text": [
      "DEBUG:urllib3.connectionpool:https://api.openalex.org:443 \"GET /works?filter=has_doi:true,concepts_count:%3E0,publication_year:2011&sample=200&per-page=200 HTTP/1.1\" 200 314708\n",
      "DEBUG:urllib3.connectionpool:Starting new HTTPS connection (1): api.openalex.org:443\n"
     ]
    },
    {
     "name": "stdout",
     "output_type": "stream",
     "text": [
      "plus que 75 publications pour completer l'année 2011\n"
     ]
    },
    {
     "name": "stderr",
     "output_type": "stream",
     "text": [
      "DEBUG:urllib3.connectionpool:https://api.openalex.org:443 \"GET /works?filter=has_doi:true,concepts_count:%3E0,publication_year:2018&sample=200&per-page=200 HTTP/1.1\" 200 320189\n",
      "DEBUG:urllib3.connectionpool:Starting new HTTPS connection (1): api.openalex.org:443\n"
     ]
    },
    {
     "name": "stdout",
     "output_type": "stream",
     "text": [
      "plus que 273 publications pour completer l'année 2018\n"
     ]
    },
    {
     "name": "stderr",
     "output_type": "stream",
     "text": [
      "DEBUG:urllib3.connectionpool:https://api.openalex.org:443 \"GET /works?filter=has_doi:true,concepts_count:%3E0,publication_year:2018&sample=200&per-page=200 HTTP/1.1\" 200 311521\n",
      "DEBUG:urllib3.connectionpool:Starting new HTTPS connection (1): api.openalex.org:443\n"
     ]
    },
    {
     "name": "stdout",
     "output_type": "stream",
     "text": [
      "plus que 155 publications pour completer l'année 2018\n"
     ]
    },
    {
     "name": "stderr",
     "output_type": "stream",
     "text": [
      "DEBUG:urllib3.connectionpool:https://api.openalex.org:443 \"GET /works?filter=has_doi:true,concepts_count:%3E0,publication_year:2018&sample=200&per-page=200 HTTP/1.1\" 200 319296\n",
      "DEBUG:urllib3.connectionpool:Starting new HTTPS connection (1): api.openalex.org:443\n"
     ]
    },
    {
     "name": "stdout",
     "output_type": "stream",
     "text": [
      "plus que 49 publications pour completer l'année 2018\n"
     ]
    },
    {
     "name": "stderr",
     "output_type": "stream",
     "text": [
      "DEBUG:urllib3.connectionpool:https://api.openalex.org:443 \"GET /works?filter=has_doi:true,concepts_count:%3E0,publication_year:2009&sample=200&per-page=200 HTTP/1.1\" 200 278950\n",
      "DEBUG:urllib3.connectionpool:Starting new HTTPS connection (1): api.openalex.org:443\n"
     ]
    },
    {
     "name": "stdout",
     "output_type": "stream",
     "text": [
      "plus que 250 publications pour completer l'année 2009\n"
     ]
    },
    {
     "name": "stderr",
     "output_type": "stream",
     "text": [
      "DEBUG:urllib3.connectionpool:https://api.openalex.org:443 \"GET /works?filter=has_doi:true,concepts_count:%3E0,publication_year:2009&sample=200&per-page=200 HTTP/1.1\" 200 295544\n",
      "DEBUG:urllib3.connectionpool:Starting new HTTPS connection (1): api.openalex.org:443\n"
     ]
    },
    {
     "name": "stdout",
     "output_type": "stream",
     "text": [
      "plus que 132 publications pour completer l'année 2009\n"
     ]
    },
    {
     "name": "stderr",
     "output_type": "stream",
     "text": [
      "DEBUG:urllib3.connectionpool:https://api.openalex.org:443 \"GET /works?filter=has_doi:true,concepts_count:%3E0,publication_year:2009&sample=200&per-page=200 HTTP/1.1\" 200 302329\n",
      "DEBUG:urllib3.connectionpool:Starting new HTTPS connection (1): api.openalex.org:443\n"
     ]
    },
    {
     "name": "stdout",
     "output_type": "stream",
     "text": [
      "plus que 6 publications pour completer l'année 2009\n"
     ]
    },
    {
     "name": "stderr",
     "output_type": "stream",
     "text": [
      "DEBUG:urllib3.connectionpool:https://api.openalex.org:443 \"GET /works?filter=has_doi:true,concepts_count:%3E0,publication_year:2008&sample=200&per-page=200 HTTP/1.1\" 200 275192\n",
      "DEBUG:urllib3.connectionpool:Starting new HTTPS connection (1): api.openalex.org:443\n"
     ]
    },
    {
     "name": "stdout",
     "output_type": "stream",
     "text": [
      "plus que 221 publications pour completer l'année 2008\n"
     ]
    },
    {
     "name": "stderr",
     "output_type": "stream",
     "text": [
      "DEBUG:urllib3.connectionpool:https://api.openalex.org:443 \"GET /works?filter=has_doi:true,concepts_count:%3E0,publication_year:2008&sample=200&per-page=200 HTTP/1.1\" 200 270802\n",
      "DEBUG:urllib3.connectionpool:Starting new HTTPS connection (1): api.openalex.org:443\n"
     ]
    },
    {
     "name": "stdout",
     "output_type": "stream",
     "text": [
      "plus que 108 publications pour completer l'année 2008\n"
     ]
    },
    {
     "name": "stderr",
     "output_type": "stream",
     "text": [
      "DEBUG:urllib3.connectionpool:https://api.openalex.org:443 \"GET /works?filter=has_doi:true,concepts_count:%3E0,publication_year:2007&sample=200&per-page=200 HTTP/1.1\" 200 256913\n",
      "DEBUG:urllib3.connectionpool:Starting new HTTPS connection (1): api.openalex.org:443\n"
     ]
    },
    {
     "name": "stdout",
     "output_type": "stream",
     "text": [
      "plus que 188 publications pour completer l'année 2007\n"
     ]
    },
    {
     "name": "stderr",
     "output_type": "stream",
     "text": [
      "DEBUG:urllib3.connectionpool:https://api.openalex.org:443 \"GET /works?filter=has_doi:true,concepts_count:%3E0,publication_year:2007&sample=200&per-page=200 HTTP/1.1\" 200 269856\n",
      "DEBUG:urllib3.connectionpool:Starting new HTTPS connection (1): api.openalex.org:443\n"
     ]
    },
    {
     "name": "stdout",
     "output_type": "stream",
     "text": [
      "plus que 71 publications pour completer l'année 2007\n"
     ]
    },
    {
     "name": "stderr",
     "output_type": "stream",
     "text": [
      "DEBUG:urllib3.connectionpool:https://api.openalex.org:443 \"GET /works?filter=has_doi:true,concepts_count:%3E0,publication_year:2006&sample=200&per-page=200 HTTP/1.1\" 200 284316\n",
      "DEBUG:urllib3.connectionpool:Starting new HTTPS connection (1): api.openalex.org:443\n"
     ]
    },
    {
     "name": "stdout",
     "output_type": "stream",
     "text": [
      "plus que 153 publications pour completer l'année 2006\n"
     ]
    },
    {
     "name": "stderr",
     "output_type": "stream",
     "text": [
      "DEBUG:urllib3.connectionpool:https://api.openalex.org:443 \"GET /works?filter=has_doi:true,concepts_count:%3E0,publication_year:2006&sample=200&per-page=200 HTTP/1.1\" 200 295797\n",
      "DEBUG:urllib3.connectionpool:Starting new HTTPS connection (1): api.openalex.org:443\n"
     ]
    },
    {
     "name": "stdout",
     "output_type": "stream",
     "text": [
      "plus que 28 publications pour completer l'année 2006\n"
     ]
    },
    {
     "name": "stderr",
     "output_type": "stream",
     "text": [
      "DEBUG:urllib3.connectionpool:https://api.openalex.org:443 \"GET /works?filter=has_doi:true,concepts_count:%3E0,publication_year:2005&sample=200&per-page=200 HTTP/1.1\" 200 272057\n",
      "DEBUG:urllib3.connectionpool:Starting new HTTPS connection (1): api.openalex.org:443\n"
     ]
    },
    {
     "name": "stdout",
     "output_type": "stream",
     "text": [
      "plus que 120 publications pour completer l'année 2005\n"
     ]
    },
    {
     "name": "stderr",
     "output_type": "stream",
     "text": [
      "DEBUG:urllib3.connectionpool:https://api.openalex.org:443 \"GET /works?filter=has_doi:true,concepts_count:%3E0,publication_year:2004&sample=200&per-page=200 HTTP/1.1\" 200 257129\n",
      "DEBUG:urllib3.connectionpool:Starting new HTTPS connection (1): api.openalex.org:443\n"
     ]
    },
    {
     "name": "stdout",
     "output_type": "stream",
     "text": [
      "plus que 106 publications pour completer l'année 2004\n"
     ]
    },
    {
     "name": "stderr",
     "output_type": "stream",
     "text": [
      "DEBUG:urllib3.connectionpool:https://api.openalex.org:443 \"GET /works?filter=has_doi:true,concepts_count:%3E0,publication_year:2003&sample=200&per-page=200 HTTP/1.1\" 200 279736\n",
      "DEBUG:urllib3.connectionpool:Starting new HTTPS connection (1): api.openalex.org:443\n"
     ]
    },
    {
     "name": "stdout",
     "output_type": "stream",
     "text": [
      "plus que 91 publications pour completer l'année 2003\n"
     ]
    },
    {
     "name": "stderr",
     "output_type": "stream",
     "text": [
      "DEBUG:urllib3.connectionpool:https://api.openalex.org:443 \"GET /works?filter=has_doi:true,concepts_count:%3E0,publication_year:2002&sample=200&per-page=200 HTTP/1.1\" 200 283353\n",
      "DEBUG:urllib3.connectionpool:Starting new HTTPS connection (1): api.openalex.org:443\n"
     ]
    },
    {
     "name": "stdout",
     "output_type": "stream",
     "text": [
      "plus que 81 publications pour completer l'année 2002\n"
     ]
    },
    {
     "name": "stderr",
     "output_type": "stream",
     "text": [
      "DEBUG:urllib3.connectionpool:https://api.openalex.org:443 \"GET /works?filter=has_doi:true,concepts_count:%3E0,publication_year:2000&sample=200&per-page=200 HTTP/1.1\" 200 265094\n",
      "DEBUG:urllib3.connectionpool:Starting new HTTPS connection (1): api.openalex.org:443\n"
     ]
    },
    {
     "name": "stdout",
     "output_type": "stream",
     "text": [
      "plus que 63 publications pour completer l'année 2000\n"
     ]
    },
    {
     "name": "stderr",
     "output_type": "stream",
     "text": [
      "DEBUG:urllib3.connectionpool:https://api.openalex.org:443 \"GET /works?filter=has_doi:true,concepts_count:%3E0,publication_year:2001&sample=200&per-page=200 HTTP/1.1\" 200 328511\n",
      "DEBUG:urllib3.connectionpool:Starting new HTTPS connection (1): api.openalex.org:443\n"
     ]
    },
    {
     "name": "stdout",
     "output_type": "stream",
     "text": [
      "plus que 60 publications pour completer l'année 2001\n"
     ]
    },
    {
     "name": "stderr",
     "output_type": "stream",
     "text": [
      "DEBUG:urllib3.connectionpool:https://api.openalex.org:443 \"GET /works?filter=has_doi:true,concepts_count:%3E0,publication_year:1999&sample=200&per-page=200 HTTP/1.1\" 200 330001\n",
      "DEBUG:urllib3.connectionpool:Starting new HTTPS connection (1): api.openalex.org:443\n"
     ]
    },
    {
     "name": "stdout",
     "output_type": "stream",
     "text": [
      "plus que 41 publications pour completer l'année 1999\n"
     ]
    },
    {
     "name": "stderr",
     "output_type": "stream",
     "text": [
      "DEBUG:urllib3.connectionpool:https://api.openalex.org:443 \"GET /works?filter=has_doi:true,concepts_count:%3E0,publication_year:1998&sample=200&per-page=200 HTTP/1.1\" 200 295062\n",
      "DEBUG:urllib3.connectionpool:Starting new HTTPS connection (1): api.openalex.org:443\n"
     ]
    },
    {
     "name": "stdout",
     "output_type": "stream",
     "text": [
      "plus que 33 publications pour completer l'année 1998\n"
     ]
    },
    {
     "name": "stderr",
     "output_type": "stream",
     "text": [
      "DEBUG:urllib3.connectionpool:https://api.openalex.org:443 \"GET /works?filter=has_doi:true,concepts_count:%3E0,publication_year:1997&sample=200&per-page=200 HTTP/1.1\" 200 251451\n",
      "DEBUG:urllib3.connectionpool:Starting new HTTPS connection (1): api.openalex.org:443\n"
     ]
    },
    {
     "name": "stdout",
     "output_type": "stream",
     "text": [
      "plus que 30 publications pour completer l'année 1997\n"
     ]
    },
    {
     "name": "stderr",
     "output_type": "stream",
     "text": [
      "DEBUG:urllib3.connectionpool:https://api.openalex.org:443 \"GET /works?filter=has_doi:true,concepts_count:%3E0,publication_year:1996&sample=200&per-page=200 HTTP/1.1\" 200 298222\n",
      "DEBUG:urllib3.connectionpool:Starting new HTTPS connection (1): api.openalex.org:443\n"
     ]
    },
    {
     "name": "stdout",
     "output_type": "stream",
     "text": [
      "plus que 21 publications pour completer l'année 1996\n"
     ]
    },
    {
     "name": "stderr",
     "output_type": "stream",
     "text": [
      "DEBUG:urllib3.connectionpool:https://api.openalex.org:443 \"GET /works?filter=has_doi:true,concepts_count:%3E0,publication_year:1994&sample=200&per-page=200 HTTP/1.1\" 200 264034\n",
      "DEBUG:urllib3.connectionpool:Starting new HTTPS connection (1): api.openalex.org:443\n"
     ]
    },
    {
     "name": "stdout",
     "output_type": "stream",
     "text": [
      "plus que 17 publications pour completer l'année 1994\n"
     ]
    },
    {
     "name": "stderr",
     "output_type": "stream",
     "text": [
      "DEBUG:urllib3.connectionpool:https://api.openalex.org:443 \"GET /works?filter=has_doi:true,concepts_count:%3E0,publication_year:1992&sample=200&per-page=200 HTTP/1.1\" 200 249880\n",
      "DEBUG:urllib3.connectionpool:Starting new HTTPS connection (1): api.openalex.org:443\n"
     ]
    },
    {
     "name": "stdout",
     "output_type": "stream",
     "text": [
      "plus que 15 publications pour completer l'année 1992\n"
     ]
    },
    {
     "name": "stderr",
     "output_type": "stream",
     "text": [
      "DEBUG:urllib3.connectionpool:https://api.openalex.org:443 \"GET /works?filter=has_doi:true,concepts_count:%3E0,publication_year:1995&sample=200&per-page=200 HTTP/1.1\" 200 252956\n",
      "DEBUG:urllib3.connectionpool:Starting new HTTPS connection (1): api.openalex.org:443\n"
     ]
    },
    {
     "name": "stdout",
     "output_type": "stream",
     "text": [
      "plus que 14 publications pour completer l'année 1995\n"
     ]
    },
    {
     "name": "stderr",
     "output_type": "stream",
     "text": [
      "DEBUG:urllib3.connectionpool:https://api.openalex.org:443 \"GET /works?filter=has_doi:true,concepts_count:%3E0,publication_year:2019&sample=200&per-page=200 HTTP/1.1\" 200 320762\n",
      "DEBUG:urllib3.connectionpool:Starting new HTTPS connection (1): api.openalex.org:443\n"
     ]
    },
    {
     "name": "stdout",
     "output_type": "stream",
     "text": [
      "plus que 13 publications pour completer l'année 2019\n"
     ]
    },
    {
     "name": "stderr",
     "output_type": "stream",
     "text": [
      "DEBUG:urllib3.connectionpool:https://api.openalex.org:443 \"GET /works?filter=has_doi:true,concepts_count:%3E0,publication_year:1991&sample=200&per-page=200 HTTP/1.1\" 200 230996\n",
      "DEBUG:urllib3.connectionpool:Starting new HTTPS connection (1): api.openalex.org:443\n"
     ]
    },
    {
     "name": "stdout",
     "output_type": "stream",
     "text": [
      "plus que 9 publications pour completer l'année 1991\n"
     ]
    },
    {
     "name": "stderr",
     "output_type": "stream",
     "text": [
      "DEBUG:urllib3.connectionpool:https://api.openalex.org:443 \"GET /works?filter=has_doi:true,concepts_count:%3E0,publication_year:1993&sample=200&per-page=200 HTTP/1.1\" 200 233673\n",
      "DEBUG:urllib3.connectionpool:Starting new HTTPS connection (1): api.openalex.org:443\n"
     ]
    },
    {
     "name": "stdout",
     "output_type": "stream",
     "text": [
      "plus que 7 publications pour completer l'année 1993\n"
     ]
    },
    {
     "name": "stderr",
     "output_type": "stream",
     "text": [
      "DEBUG:urllib3.connectionpool:https://api.openalex.org:443 \"GET /works?filter=has_doi:true,concepts_count:%3E0,publication_year:1988&sample=200&per-page=200 HTTP/1.1\" 200 233740\n",
      "DEBUG:urllib3.connectionpool:Starting new HTTPS connection (1): api.openalex.org:443\n"
     ]
    },
    {
     "name": "stdout",
     "output_type": "stream",
     "text": [
      "plus que 7 publications pour completer l'année 1988\n"
     ]
    },
    {
     "name": "stderr",
     "output_type": "stream",
     "text": [
      "DEBUG:urllib3.connectionpool:https://api.openalex.org:443 \"GET /works?filter=has_doi:true,concepts_count:%3E0,publication_year:1978&sample=200&per-page=200 HTTP/1.1\" 200 203373\n",
      "DEBUG:urllib3.connectionpool:Starting new HTTPS connection (1): api.openalex.org:443\n"
     ]
    },
    {
     "name": "stdout",
     "output_type": "stream",
     "text": [
      "plus que 5 publications pour completer l'année 1978\n"
     ]
    },
    {
     "name": "stderr",
     "output_type": "stream",
     "text": [
      "DEBUG:urllib3.connectionpool:https://api.openalex.org:443 \"GET /works?filter=has_doi:true,concepts_count:%3E0,publication_year:1990&sample=200&per-page=200 HTTP/1.1\" 200 243248\n",
      "DEBUG:urllib3.connectionpool:Starting new HTTPS connection (1): api.openalex.org:443\n"
     ]
    },
    {
     "name": "stdout",
     "output_type": "stream",
     "text": [
      "plus que 4 publications pour completer l'année 1990\n"
     ]
    },
    {
     "name": "stderr",
     "output_type": "stream",
     "text": [
      "DEBUG:urllib3.connectionpool:https://api.openalex.org:443 \"GET /works?filter=has_doi:true,concepts_count:%3E0,publication_year:1989&sample=200&per-page=200 HTTP/1.1\" 200 217380\n",
      "DEBUG:urllib3.connectionpool:Starting new HTTPS connection (1): api.openalex.org:443\n"
     ]
    },
    {
     "name": "stdout",
     "output_type": "stream",
     "text": [
      "plus que 4 publications pour completer l'année 1989\n"
     ]
    },
    {
     "name": "stderr",
     "output_type": "stream",
     "text": [
      "DEBUG:urllib3.connectionpool:https://api.openalex.org:443 \"GET /works?filter=has_doi:true,concepts_count:%3E0,publication_year:1987&sample=200&per-page=200 HTTP/1.1\" 200 238178\n",
      "DEBUG:urllib3.connectionpool:Starting new HTTPS connection (1): api.openalex.org:443\n"
     ]
    },
    {
     "name": "stdout",
     "output_type": "stream",
     "text": [
      "plus que 4 publications pour completer l'année 1987\n"
     ]
    },
    {
     "name": "stderr",
     "output_type": "stream",
     "text": [
      "DEBUG:urllib3.connectionpool:https://api.openalex.org:443 \"GET /works?filter=has_doi:true,concepts_count:%3E0,publication_year:1985&sample=200&per-page=200 HTTP/1.1\" 200 219584\n",
      "DEBUG:urllib3.connectionpool:Starting new HTTPS connection (1): api.openalex.org:443\n"
     ]
    },
    {
     "name": "stdout",
     "output_type": "stream",
     "text": [
      "plus que 4 publications pour completer l'année 1985\n"
     ]
    },
    {
     "name": "stderr",
     "output_type": "stream",
     "text": [
      "DEBUG:urllib3.connectionpool:https://api.openalex.org:443 \"GET /works?filter=has_doi:true,concepts_count:%3E0,publication_year:1973&sample=200&per-page=200 HTTP/1.1\" 200 188739\n",
      "DEBUG:urllib3.connectionpool:Starting new HTTPS connection (1): api.openalex.org:443\n"
     ]
    },
    {
     "name": "stdout",
     "output_type": "stream",
     "text": [
      "plus que 4 publications pour completer l'année 1973\n"
     ]
    },
    {
     "name": "stderr",
     "output_type": "stream",
     "text": [
      "DEBUG:urllib3.connectionpool:https://api.openalex.org:443 \"GET /works?filter=has_doi:true,concepts_count:%3E0,publication_year:1980&sample=200&per-page=200 HTTP/1.1\" 200 210017\n",
      "DEBUG:urllib3.connectionpool:Starting new HTTPS connection (1): api.openalex.org:443\n"
     ]
    },
    {
     "name": "stdout",
     "output_type": "stream",
     "text": [
      "plus que 3 publications pour completer l'année 1980\n"
     ]
    },
    {
     "name": "stderr",
     "output_type": "stream",
     "text": [
      "DEBUG:urllib3.connectionpool:https://api.openalex.org:443 \"GET /works?filter=has_doi:true,concepts_count:%3E0,publication_year:1966&sample=200&per-page=200 HTTP/1.1\" 200 190672\n",
      "DEBUG:urllib3.connectionpool:Starting new HTTPS connection (1): api.openalex.org:443\n"
     ]
    },
    {
     "name": "stdout",
     "output_type": "stream",
     "text": [
      "plus que 3 publications pour completer l'année 1966\n"
     ]
    },
    {
     "name": "stderr",
     "output_type": "stream",
     "text": [
      "DEBUG:urllib3.connectionpool:https://api.openalex.org:443 \"GET /works?filter=has_doi:true,concepts_count:%3E0,publication_year:1977&sample=200&per-page=200 HTTP/1.1\" 200 216811\n",
      "DEBUG:urllib3.connectionpool:Starting new HTTPS connection (1): api.openalex.org:443\n"
     ]
    },
    {
     "name": "stdout",
     "output_type": "stream",
     "text": [
      "plus que 3 publications pour completer l'année 1977\n"
     ]
    },
    {
     "name": "stderr",
     "output_type": "stream",
     "text": [
      "DEBUG:urllib3.connectionpool:https://api.openalex.org:443 \"GET /works?filter=has_doi:true,concepts_count:%3E0,publication_year:1981&sample=200&per-page=200 HTTP/1.1\" 200 215814\n",
      "DEBUG:urllib3.connectionpool:Starting new HTTPS connection (1): api.openalex.org:443\n"
     ]
    },
    {
     "name": "stdout",
     "output_type": "stream",
     "text": [
      "plus que 2 publications pour completer l'année 1981\n"
     ]
    },
    {
     "name": "stderr",
     "output_type": "stream",
     "text": [
      "DEBUG:urllib3.connectionpool:https://api.openalex.org:443 \"GET /works?filter=has_doi:true,concepts_count:%3E0,publication_year:1970&sample=200&per-page=200 HTTP/1.1\" 200 195213\n",
      "DEBUG:urllib3.connectionpool:Starting new HTTPS connection (1): api.openalex.org:443\n"
     ]
    },
    {
     "name": "stdout",
     "output_type": "stream",
     "text": [
      "plus que 2 publications pour completer l'année 1970\n"
     ]
    },
    {
     "name": "stderr",
     "output_type": "stream",
     "text": [
      "DEBUG:urllib3.connectionpool:https://api.openalex.org:443 \"GET /works?filter=has_doi:true,concepts_count:%3E0,publication_year:1979&sample=200&per-page=200 HTTP/1.1\" 200 204577\n",
      "DEBUG:urllib3.connectionpool:Starting new HTTPS connection (1): api.openalex.org:443\n"
     ]
    },
    {
     "name": "stdout",
     "output_type": "stream",
     "text": [
      "plus que 2 publications pour completer l'année 1979\n"
     ]
    },
    {
     "name": "stderr",
     "output_type": "stream",
     "text": [
      "DEBUG:urllib3.connectionpool:https://api.openalex.org:443 \"GET /works?filter=has_doi:true,concepts_count:%3E0,publication_year:1983&sample=200&per-page=200 HTTP/1.1\" 200 219183\n",
      "DEBUG:urllib3.connectionpool:Starting new HTTPS connection (1): api.openalex.org:443\n"
     ]
    },
    {
     "name": "stdout",
     "output_type": "stream",
     "text": [
      "plus que 2 publications pour completer l'année 1983\n"
     ]
    },
    {
     "name": "stderr",
     "output_type": "stream",
     "text": [
      "DEBUG:urllib3.connectionpool:https://api.openalex.org:443 \"GET /works?filter=has_doi:true,concepts_count:%3E0,publication_year:1986&sample=200&per-page=200 HTTP/1.1\" 200 235994\n",
      "DEBUG:urllib3.connectionpool:Starting new HTTPS connection (1): api.openalex.org:443\n"
     ]
    },
    {
     "name": "stdout",
     "output_type": "stream",
     "text": [
      "plus que 2 publications pour completer l'année 1986\n"
     ]
    },
    {
     "name": "stderr",
     "output_type": "stream",
     "text": [
      "DEBUG:urllib3.connectionpool:https://api.openalex.org:443 \"GET /works?filter=has_doi:true,concepts_count:%3E0,publication_year:1968&sample=200&per-page=200 HTTP/1.1\" 200 202825\n",
      "DEBUG:urllib3.connectionpool:Starting new HTTPS connection (1): api.openalex.org:443\n"
     ]
    },
    {
     "name": "stdout",
     "output_type": "stream",
     "text": [
      "plus que 2 publications pour completer l'année 1968\n"
     ]
    },
    {
     "name": "stderr",
     "output_type": "stream",
     "text": [
      "DEBUG:urllib3.connectionpool:https://api.openalex.org:443 \"GET /works?filter=has_doi:true,concepts_count:%3E0,publication_year:1971&sample=200&per-page=200 HTTP/1.1\" 200 193832\n",
      "DEBUG:urllib3.connectionpool:Starting new HTTPS connection (1): api.openalex.org:443\n"
     ]
    },
    {
     "name": "stdout",
     "output_type": "stream",
     "text": [
      "plus que 2 publications pour completer l'année 1971\n"
     ]
    },
    {
     "name": "stderr",
     "output_type": "stream",
     "text": [
      "DEBUG:urllib3.connectionpool:https://api.openalex.org:443 \"GET /works?filter=has_doi:true,concepts_count:%3E0,publication_year:1957&sample=200&per-page=200 HTTP/1.1\" 200 168288\n",
      "DEBUG:urllib3.connectionpool:Starting new HTTPS connection (1): api.openalex.org:443\n"
     ]
    },
    {
     "name": "stdout",
     "output_type": "stream",
     "text": [
      "plus que 1 publications pour completer l'année 1957\n"
     ]
    },
    {
     "name": "stderr",
     "output_type": "stream",
     "text": [
      "DEBUG:urllib3.connectionpool:https://api.openalex.org:443 \"GET /works?filter=has_doi:true,concepts_count:%3E0,publication_year:1960&sample=200&per-page=200 HTTP/1.1\" 200 175463\n",
      "DEBUG:urllib3.connectionpool:Starting new HTTPS connection (1): api.openalex.org:443\n"
     ]
    },
    {
     "name": "stdout",
     "output_type": "stream",
     "text": [
      "plus que 1 publications pour completer l'année 1960\n"
     ]
    },
    {
     "name": "stderr",
     "output_type": "stream",
     "text": [
      "DEBUG:urllib3.connectionpool:https://api.openalex.org:443 \"GET /works?filter=has_doi:true,concepts_count:%3E0,publication_year:1961&sample=200&per-page=200 HTTP/1.1\" 200 198455\n",
      "DEBUG:urllib3.connectionpool:Starting new HTTPS connection (1): api.openalex.org:443\n"
     ]
    },
    {
     "name": "stdout",
     "output_type": "stream",
     "text": [
      "plus que 1 publications pour completer l'année 1961\n"
     ]
    },
    {
     "name": "stderr",
     "output_type": "stream",
     "text": [
      "DEBUG:urllib3.connectionpool:https://api.openalex.org:443 \"GET /works?filter=has_doi:true,concepts_count:%3E0,publication_year:1962&sample=200&per-page=200 HTTP/1.1\" 200 163441\n",
      "DEBUG:urllib3.connectionpool:Starting new HTTPS connection (1): api.openalex.org:443\n"
     ]
    },
    {
     "name": "stdout",
     "output_type": "stream",
     "text": [
      "plus que 1 publications pour completer l'année 1962\n"
     ]
    },
    {
     "name": "stderr",
     "output_type": "stream",
     "text": [
      "DEBUG:urllib3.connectionpool:https://api.openalex.org:443 \"GET /works?filter=has_doi:true,concepts_count:%3E0,publication_year:1972&sample=200&per-page=200 HTTP/1.1\" 200 200719\n",
      "DEBUG:urllib3.connectionpool:Starting new HTTPS connection (1): api.openalex.org:443\n"
     ]
    },
    {
     "name": "stdout",
     "output_type": "stream",
     "text": [
      "plus que 1 publications pour completer l'année 1972\n"
     ]
    },
    {
     "name": "stderr",
     "output_type": "stream",
     "text": [
      "DEBUG:urllib3.connectionpool:https://api.openalex.org:443 \"GET /works?filter=has_doi:true,concepts_count:%3E0,publication_year:1982&sample=200&per-page=200 HTTP/1.1\" 200 207866\n",
      "DEBUG:urllib3.connectionpool:Starting new HTTPS connection (1): api.openalex.org:443\n"
     ]
    },
    {
     "name": "stdout",
     "output_type": "stream",
     "text": [
      "plus que 1 publications pour completer l'année 1982\n"
     ]
    },
    {
     "name": "stderr",
     "output_type": "stream",
     "text": [
      "DEBUG:urllib3.connectionpool:https://api.openalex.org:443 \"GET /works?filter=has_doi:true,concepts_count:%3E0,publication_year:1984&sample=200&per-page=200 HTTP/1.1\" 200 221566\n",
      "DEBUG:urllib3.connectionpool:Starting new HTTPS connection (1): api.openalex.org:443\n"
     ]
    },
    {
     "name": "stdout",
     "output_type": "stream",
     "text": [
      "plus que 1 publications pour completer l'année 1984\n"
     ]
    },
    {
     "name": "stderr",
     "output_type": "stream",
     "text": [
      "DEBUG:urllib3.connectionpool:https://api.openalex.org:443 \"GET /works?filter=has_doi:true,concepts_count:%3E0,publication_year:1974&sample=200&per-page=200 HTTP/1.1\" 200 219145\n",
      "DEBUG:urllib3.connectionpool:Starting new HTTPS connection (1): api.openalex.org:443\n"
     ]
    },
    {
     "name": "stdout",
     "output_type": "stream",
     "text": [
      "plus que 1 publications pour completer l'année 1974\n"
     ]
    },
    {
     "name": "stderr",
     "output_type": "stream",
     "text": [
      "DEBUG:urllib3.connectionpool:https://api.openalex.org:443 \"GET /works?filter=has_doi:true,concepts_count:%3E0,publication_year:1975&sample=200&per-page=200 HTTP/1.1\" 200 209216\n",
      "DEBUG:urllib3.connectionpool:Starting new HTTPS connection (1): api.openalex.org:443\n"
     ]
    },
    {
     "name": "stdout",
     "output_type": "stream",
     "text": [
      "plus que 1 publications pour completer l'année 1975\n"
     ]
    },
    {
     "name": "stderr",
     "output_type": "stream",
     "text": [
      "DEBUG:urllib3.connectionpool:https://api.openalex.org:443 \"GET /works?filter=has_doi:true,concepts_count:%3E0,publication_year:1976&sample=200&per-page=200 HTTP/1.1\" 200 223958\n",
      "DEBUG:urllib3.connectionpool:Starting new HTTPS connection (1): api.openalex.org:443\n"
     ]
    },
    {
     "name": "stdout",
     "output_type": "stream",
     "text": [
      "plus que 1 publications pour completer l'année 1976\n"
     ]
    },
    {
     "name": "stderr",
     "output_type": "stream",
     "text": [
      "DEBUG:urllib3.connectionpool:https://api.openalex.org:443 \"GET /works?filter=has_doi:true,concepts_count:%3E0,publication_year:1954&sample=200&per-page=200 HTTP/1.1\" 200 156303\n",
      "DEBUG:urllib3.connectionpool:Starting new HTTPS connection (1): api.openalex.org:443\n"
     ]
    },
    {
     "name": "stdout",
     "output_type": "stream",
     "text": [
      "plus que 1 publications pour completer l'année 1954\n"
     ]
    },
    {
     "name": "stderr",
     "output_type": "stream",
     "text": [
      "DEBUG:urllib3.connectionpool:https://api.openalex.org:443 \"GET /works?filter=has_doi:true,concepts_count:%3E0,publication_year:1936&sample=200&per-page=200 HTTP/1.1\" 200 138554\n"
     ]
    },
    {
     "name": "stdout",
     "output_type": "stream",
     "text": [
      "plus que 1 publications pour completer l'année 1936\n"
     ]
    }
   ],
   "source": [
    "for year in list(year_counts.keys()):   \n",
    "    cached_openalex_data_not_ipbes[year]=[]\n",
    "    year_counts_not_ipbes[year]=0\n",
    "    while year_counts_not_ipbes[year]<year_counts[year]:\n",
    "        get_open_alex_data_not_in_references(dois,cached_openalex_data_not_ipbes,year_counts,year_counts_not_ipbes,year)\n",
    "    cached_openalex_data_not_ipbes[year]=cached_openalex_data_not_ipbes[year][:year_counts[year]]"
   ]
  },
  {
   "cell_type": "code",
   "execution_count": 9,
   "id": "19b1dc23",
   "metadata": {},
   "outputs": [
    {
     "data": {
      "text/plain": [
       "5531"
      ]
     },
     "execution_count": 9,
     "metadata": {},
     "output_type": "execute_result"
    }
   ],
   "source": [
    "sum(list(year_counts.values()))"
   ]
  },
  {
   "cell_type": "code",
   "execution_count": 10,
   "id": "b736fc20",
   "metadata": {},
   "outputs": [
    {
     "data": {
      "text/plain": [
       "5531"
      ]
     },
     "execution_count": 10,
     "metadata": {},
     "output_type": "execute_result"
    }
   ],
   "source": [
    "len(aplatir(list(cached_openalex_data_not_ipbes.values())))\n"
   ]
  },
  {
   "cell_type": "code",
   "execution_count": 11,
   "id": "6882dc31",
   "metadata": {},
   "outputs": [
    {
     "data": {
      "text/plain": [
       "58"
      ]
     },
     "execution_count": 11,
     "metadata": {},
     "output_type": "execute_result"
    }
   ],
   "source": [
    "len(cached_openalex_data_not_ipbes)"
   ]
  },
  {
   "cell_type": "code",
   "execution_count": 12,
   "id": "7e58ed0b",
   "metadata": {},
   "outputs": [],
   "source": [
    "write_cache(cached_openalex_data_not_ipbes,module_path+'\\\\IPCC_bibliography\\\\AR6\\\\structured_data\\\\caches\\\\cached_openalex_data_not_ipbes.pkl')"
   ]
  },
  {
   "cell_type": "code",
   "execution_count": 13,
   "id": "7ffecaa5",
   "metadata": {},
   "outputs": [],
   "source": [
    "df_not_ipbes=pd.DataFrame()\n",
    "countries_list = []\n",
    "concepts_list = []\n",
    "sdg_list = []\n",
    "topics_list = []\n",
    "is_OA_available_list=[]\n",
    "title_list=[]\n",
    "year_list=[]\n",
    "names_list=[]\n",
    "rors_list=[]\n",
    "institutions_names_list=[]\n",
    "locations_names_list=[]\n",
    "locations_ids_list=[]\n",
    "doi_list=[]\n",
    "\n",
    "for k in range(len(aplatir(list(cached_openalex_data_not_ipbes.values())))):\n",
    "    countries,concepts,sdg,year,topics,doi,bool_OA,title,name,rors,institutions_names,locations_names,locations_ids=get_countries_concepts_sdg(cached_openalex_data=aplatir(list(cached_openalex_data_not_ipbes.values())),ipcc=False,i=k)\n",
    "\n",
    "    countries_list.append(countries)\n",
    "    concepts_list.append(concepts)\n",
    "    sdg_list.append(sdg)\n",
    "    topics_list.append(topics)  \n",
    "    is_OA_available_list.append(bool_OA)\n",
    "    title_list.append(title)\n",
    "    year_list.append(year)\n",
    "    names_list.append(name)\n",
    "    rors_list.append(rors)\n",
    "    institutions_names_list.append(institutions_names)\n",
    "    locations_names_list.append(locations_names)\n",
    "    locations_ids_list.append(locations_ids)\n",
    "    doi_list.append(doi)\n",
    "\n",
    "\n",
    "df_not_ipbes['doi'] = doi_list\n",
    "df_not_ipbes['title'] = title_list\n",
    "df_not_ipbes['countries'] = countries_list\n",
    "df_not_ipbes['concepts'] = concepts_list\n",
    "df_not_ipbes['sdg'] = sdg_list\n",
    "df_not_ipbes['topics'] = topics_list\n",
    "df_not_ipbes['is_OA_available'] = is_OA_available_list\n",
    "df_not_ipbes['year'] = year_list\n",
    "df_not_ipbes['authors_name'] = names_list\n",
    "df_not_ipbes['rors'] = rors_list\n",
    "df_not_ipbes['institutions_names'] = institutions_names_list\n",
    "df_not_ipbes['locations_names'] = locations_names_list\n",
    "df_not_ipbes['locations_id'] = locations_ids_list"
   ]
  },
  {
   "cell_type": "code",
   "execution_count": 14,
   "id": "ba2ffe1e",
   "metadata": {},
   "outputs": [
    {
     "data": {
      "text/html": [
       "<div>\n",
       "<style scoped>\n",
       "    .dataframe tbody tr th:only-of-type {\n",
       "        vertical-align: middle;\n",
       "    }\n",
       "\n",
       "    .dataframe tbody tr th {\n",
       "        vertical-align: top;\n",
       "    }\n",
       "\n",
       "    .dataframe thead th {\n",
       "        text-align: right;\n",
       "    }\n",
       "</style>\n",
       "<table border=\"1\" class=\"dataframe\">\n",
       "  <thead>\n",
       "    <tr style=\"text-align: right;\">\n",
       "      <th></th>\n",
       "      <th>doi</th>\n",
       "      <th>title</th>\n",
       "      <th>countries</th>\n",
       "      <th>concepts</th>\n",
       "      <th>sdg</th>\n",
       "      <th>topics</th>\n",
       "      <th>is_OA_available</th>\n",
       "      <th>year</th>\n",
       "      <th>authors_name</th>\n",
       "      <th>rors</th>\n",
       "      <th>institutions_names</th>\n",
       "      <th>locations_names</th>\n",
       "      <th>locations_id</th>\n",
       "    </tr>\n",
       "  </thead>\n",
       "  <tbody>\n",
       "    <tr>\n",
       "      <th>0</th>\n",
       "      <td>https://doi.org/10.26499/ttbng.v4i1.3</td>\n",
       "      <td>DISTRIBUSI FONEM BAHASA DI PULAU SAPARUA: DATA...</td>\n",
       "      <td>[]</td>\n",
       "      <td>[Islam, Linguistics, Humanities, Theology, Art...</td>\n",
       "      <td>[{'id': '4', 'name': 'Quality education'}]</td>\n",
       "      <td>[Linguistics and Language Analysis, English La...</td>\n",
       "      <td>True</td>\n",
       "      <td>2016</td>\n",
       "      <td>[(Erniati Erniati, [])]</td>\n",
       "      <td>[]</td>\n",
       "      <td>[]</td>\n",
       "      <td>TOTOBUANG</td>\n",
       "      <td>2339-1154</td>\n",
       "    </tr>\n",
       "    <tr>\n",
       "      <th>1</th>\n",
       "      <td>https://doi.org/10.1007/s38313-016-0096-0</td>\n",
       "      <td>Active High-pressure Impactor Flexible Oil Sep...</td>\n",
       "      <td>[DE]</td>\n",
       "      <td>[Diesel fuel, Automotive engineering, Separati...</td>\n",
       "      <td>[{'id': '7', 'name': 'Affordable and clean ene...</td>\n",
       "      <td>[Tribology and Lubrication Engineering, Lubric...</td>\n",
       "      <td>True</td>\n",
       "      <td>2016</td>\n",
       "      <td>[(Stefan Ruppel, [DE]), (Volker Kirschner, [DE...</td>\n",
       "      <td>[(https://ror.org/0117jxy09, DE), (https://ror...</td>\n",
       "      <td>[(Springer Nature (Germany), DE), (Springer Na...</td>\n",
       "      <td>MTZ worldwide</td>\n",
       "      <td>2192-9114</td>\n",
       "    </tr>\n",
       "    <tr>\n",
       "      <th>2</th>\n",
       "      <td>https://doi.org/10.4172/2470-0886.1000112</td>\n",
       "      <td>Demystifying Apples in Health and Dentistry</td>\n",
       "      <td>[]</td>\n",
       "      <td>[Enamel paint, Dentistry, Food science, Medici...</td>\n",
       "      <td>None</td>\n",
       "      <td>[Dental Erosion and Treatment, Oral Health Pat...</td>\n",
       "      <td>True</td>\n",
       "      <td>2016</td>\n",
       "      <td>[(Louis Z.G. Touyz, [])]</td>\n",
       "      <td>[]</td>\n",
       "      <td>[]</td>\n",
       "      <td>Dental Health Current Research</td>\n",
       "      <td>2470-0886</td>\n",
       "    </tr>\n",
       "    <tr>\n",
       "      <th>3</th>\n",
       "      <td>https://doi.org/10.3847/0004-6256/151/6/158</td>\n",
       "      <td>TRIPPy: TRAILED IMAGE PHOTOMETRY IN PYTHON</td>\n",
       "      <td>[US, TW, CA, GB, FR]</td>\n",
       "      <td>[Photometry (optics), Point spread function, P...</td>\n",
       "      <td>None</td>\n",
       "      <td>[Advanced Image Processing Techniques, Galaxie...</td>\n",
       "      <td>True</td>\n",
       "      <td>2016</td>\n",
       "      <td>[(Wesley C. Fraser, [GB]), (Mike Alexandersen,...</td>\n",
       "      <td>[(https://ror.org/00hswnk62, GB), (https://ror...</td>\n",
       "      <td>[(Queen's University Belfast, GB), (National T...</td>\n",
       "      <td>The Astronomical Journal</td>\n",
       "      <td>0004-6256</td>\n",
       "    </tr>\n",
       "    <tr>\n",
       "      <th>4</th>\n",
       "      <td>https://doi.org/10.3109/01612840.2015.1111475</td>\n",
       "      <td>Yawning, Why and When?</td>\n",
       "      <td>[US]</td>\n",
       "      <td>[Psychology, MEDLINE, Medicine, Political scie...</td>\n",
       "      <td>None</td>\n",
       "      <td>[Human-Animal Interaction Studies, Primate Beh...</td>\n",
       "      <td>True</td>\n",
       "      <td>2016</td>\n",
       "      <td>[(Jacquelyn H. Flaskerud, [US])]</td>\n",
       "      <td>[(https://ror.org/046rm7j60, US)]</td>\n",
       "      <td>[(University of California, Los Angeles, US)]</td>\n",
       "      <td>Issues in Mental Health Nursing</td>\n",
       "      <td>0161-2840</td>\n",
       "    </tr>\n",
       "    <tr>\n",
       "      <th>...</th>\n",
       "      <td>...</td>\n",
       "      <td>...</td>\n",
       "      <td>...</td>\n",
       "      <td>...</td>\n",
       "      <td>...</td>\n",
       "      <td>...</td>\n",
       "      <td>...</td>\n",
       "      <td>...</td>\n",
       "      <td>...</td>\n",
       "      <td>...</td>\n",
       "      <td>...</td>\n",
       "      <td>...</td>\n",
       "      <td>...</td>\n",
       "    </tr>\n",
       "    <tr>\n",
       "      <th>5526</th>\n",
       "      <td>https://doi.org/10.7589/0090-3558-10.2.111</td>\n",
       "      <td>EMACIATION AND ENTERITIS OF COTTONTAIL RABBITS...</td>\n",
       "      <td>[US]</td>\n",
       "      <td>[Emaciation, Biology, Enteritis, Anatomy, Zool...</td>\n",
       "      <td>[{'id': '15', 'name': 'Life on land'}]</td>\n",
       "      <td>[Rabbits: Nutrition, Reproduction, Health, Hel...</td>\n",
       "      <td>True</td>\n",
       "      <td>1974</td>\n",
       "      <td>[(Harry A. Jacobson, [US]), (R. L. Kirkpatrick...</td>\n",
       "      <td>[(https://ror.org/02smfhw86, US), (https://ror...</td>\n",
       "      <td>[(Virginia Tech, US), (Virginia Tech, US), (Vi...</td>\n",
       "      <td>Journal of Wildlife Diseases</td>\n",
       "      <td>0090-3558</td>\n",
       "    </tr>\n",
       "    <tr>\n",
       "      <th>5527</th>\n",
       "      <td>https://doi.org/10.1021/i260056a022</td>\n",
       "      <td>The Role of Liquid Holdup, Effective Catalyst ...</td>\n",
       "      <td>[]</td>\n",
       "      <td>[Wetting, Icon, Citation, Computer science, Op...</td>\n",
       "      <td>[{'id': '6', 'name': 'Clean water and sanitati...</td>\n",
       "      <td>[Catalysis and Hydrodesulfurization Studies]</td>\n",
       "      <td>True</td>\n",
       "      <td>1975</td>\n",
       "      <td>[(Angelo A. Montagna, []), (Yatish T. Shah, [])]</td>\n",
       "      <td>[]</td>\n",
       "      <td>[]</td>\n",
       "      <td>Industrial &amp; Engineering Chemistry Process Des...</td>\n",
       "      <td>0196-4305</td>\n",
       "    </tr>\n",
       "    <tr>\n",
       "      <th>5528</th>\n",
       "      <td>https://doi.org/10.1080/05695557608975071</td>\n",
       "      <td>A Branch and Bound Algorithm for Use in Resour...</td>\n",
       "      <td>[US]</td>\n",
       "      <td>[Weighting, Resource allocation, Branch and bo...</td>\n",
       "      <td>None</td>\n",
       "      <td>[Resource-Constrained Project Scheduling, Sche...</td>\n",
       "      <td>True</td>\n",
       "      <td>1976</td>\n",
       "      <td>[(Peter C. Katsoulas, [US]), (Randall P. Sadow...</td>\n",
       "      <td>[(https://ror.org/0072zz521, US)]</td>\n",
       "      <td>[(University of Massachusetts Amherst, US)]</td>\n",
       "      <td>A I I E Transactions</td>\n",
       "      <td>0569-5554</td>\n",
       "    </tr>\n",
       "    <tr>\n",
       "      <th>5529</th>\n",
       "      <td>https://doi.org/10.1007/bf02247002</td>\n",
       "      <td>Application of particle dynamics to derive a g...</td>\n",
       "      <td>[GB]</td>\n",
       "      <td>[Zonal and meridional, Equator, Streamlines, s...</td>\n",
       "      <td>[{'id': '13', 'name': 'Climate action'}]</td>\n",
       "      <td>[Tropical and Extratropical Cyclones Research,...</td>\n",
       "      <td>True</td>\n",
       "      <td>1954</td>\n",
       "      <td>[(A. H. Gordon, [GB]), (Patrick Shaw, [GB])]</td>\n",
       "      <td>[(https://ror.org/01ch2yn61, GB), (https://ror...</td>\n",
       "      <td>[(Met Office, GB), (Met Office, GB)]</td>\n",
       "      <td>Archives for Meteorology Geophysics and Biocli...</td>\n",
       "      <td>0066-6416</td>\n",
       "    </tr>\n",
       "    <tr>\n",
       "      <th>5530</th>\n",
       "      <td>https://doi.org/10.3406/ccmaa.1936.12254</td>\n",
       "      <td>b) Wekâla appartenant aux hoirs d'al-Husseini,...</td>\n",
       "      <td>[]</td>\n",
       "      <td>[Humanities, Philosophy]</td>\n",
       "      <td>None</td>\n",
       "      <td>[Archaeology and Historical Studies, Ancient M...</td>\n",
       "      <td>True</td>\n",
       "      <td>1936</td>\n",
       "      <td>[(Marcus H. Simaïka, []), (Muhammad Shafik, []...</td>\n",
       "      <td>[]</td>\n",
       "      <td>[]</td>\n",
       "      <td>Comité de Conservation des Monuments de l Art ...</td>\n",
       "      <td>1110-6824</td>\n",
       "    </tr>\n",
       "  </tbody>\n",
       "</table>\n",
       "<p>5531 rows × 13 columns</p>\n",
       "</div>"
      ],
      "text/plain": [
       "                                                doi  \\\n",
       "0             https://doi.org/10.26499/ttbng.v4i1.3   \n",
       "1         https://doi.org/10.1007/s38313-016-0096-0   \n",
       "2         https://doi.org/10.4172/2470-0886.1000112   \n",
       "3       https://doi.org/10.3847/0004-6256/151/6/158   \n",
       "4     https://doi.org/10.3109/01612840.2015.1111475   \n",
       "...                                             ...   \n",
       "5526     https://doi.org/10.7589/0090-3558-10.2.111   \n",
       "5527            https://doi.org/10.1021/i260056a022   \n",
       "5528      https://doi.org/10.1080/05695557608975071   \n",
       "5529             https://doi.org/10.1007/bf02247002   \n",
       "5530       https://doi.org/10.3406/ccmaa.1936.12254   \n",
       "\n",
       "                                                  title             countries  \\\n",
       "0     DISTRIBUSI FONEM BAHASA DI PULAU SAPARUA: DATA...                    []   \n",
       "1     Active High-pressure Impactor Flexible Oil Sep...                  [DE]   \n",
       "2           Demystifying Apples in Health and Dentistry                    []   \n",
       "3            TRIPPy: TRAILED IMAGE PHOTOMETRY IN PYTHON  [US, TW, CA, GB, FR]   \n",
       "4                                Yawning, Why and When?                  [US]   \n",
       "...                                                 ...                   ...   \n",
       "5526  EMACIATION AND ENTERITIS OF COTTONTAIL RABBITS...                  [US]   \n",
       "5527  The Role of Liquid Holdup, Effective Catalyst ...                    []   \n",
       "5528  A Branch and Bound Algorithm for Use in Resour...                  [US]   \n",
       "5529  Application of particle dynamics to derive a g...                  [GB]   \n",
       "5530  b) Wekâla appartenant aux hoirs d'al-Husseini,...                    []   \n",
       "\n",
       "                                               concepts  \\\n",
       "0     [Islam, Linguistics, Humanities, Theology, Art...   \n",
       "1     [Diesel fuel, Automotive engineering, Separati...   \n",
       "2     [Enamel paint, Dentistry, Food science, Medici...   \n",
       "3     [Photometry (optics), Point spread function, P...   \n",
       "4     [Psychology, MEDLINE, Medicine, Political scie...   \n",
       "...                                                 ...   \n",
       "5526  [Emaciation, Biology, Enteritis, Anatomy, Zool...   \n",
       "5527  [Wetting, Icon, Citation, Computer science, Op...   \n",
       "5528  [Weighting, Resource allocation, Branch and bo...   \n",
       "5529  [Zonal and meridional, Equator, Streamlines, s...   \n",
       "5530                           [Humanities, Philosophy]   \n",
       "\n",
       "                                                    sdg  \\\n",
       "0            [{'id': '4', 'name': 'Quality education'}]   \n",
       "1     [{'id': '7', 'name': 'Affordable and clean ene...   \n",
       "2                                                  None   \n",
       "3                                                  None   \n",
       "4                                                  None   \n",
       "...                                                 ...   \n",
       "5526             [{'id': '15', 'name': 'Life on land'}]   \n",
       "5527  [{'id': '6', 'name': 'Clean water and sanitati...   \n",
       "5528                                               None   \n",
       "5529           [{'id': '13', 'name': 'Climate action'}]   \n",
       "5530                                               None   \n",
       "\n",
       "                                                 topics  is_OA_available  \\\n",
       "0     [Linguistics and Language Analysis, English La...             True   \n",
       "1     [Tribology and Lubrication Engineering, Lubric...             True   \n",
       "2     [Dental Erosion and Treatment, Oral Health Pat...             True   \n",
       "3     [Advanced Image Processing Techniques, Galaxie...             True   \n",
       "4     [Human-Animal Interaction Studies, Primate Beh...             True   \n",
       "...                                                 ...              ...   \n",
       "5526  [Rabbits: Nutrition, Reproduction, Health, Hel...             True   \n",
       "5527       [Catalysis and Hydrodesulfurization Studies]             True   \n",
       "5528  [Resource-Constrained Project Scheduling, Sche...             True   \n",
       "5529  [Tropical and Extratropical Cyclones Research,...             True   \n",
       "5530  [Archaeology and Historical Studies, Ancient M...             True   \n",
       "\n",
       "      year                                       authors_name  \\\n",
       "0     2016                            [(Erniati Erniati, [])]   \n",
       "1     2016  [(Stefan Ruppel, [DE]), (Volker Kirschner, [DE...   \n",
       "2     2016                           [(Louis Z.G. Touyz, [])]   \n",
       "3     2016  [(Wesley C. Fraser, [GB]), (Mike Alexandersen,...   \n",
       "4     2016                   [(Jacquelyn H. Flaskerud, [US])]   \n",
       "...    ...                                                ...   \n",
       "5526  1974  [(Harry A. Jacobson, [US]), (R. L. Kirkpatrick...   \n",
       "5527  1975   [(Angelo A. Montagna, []), (Yatish T. Shah, [])]   \n",
       "5528  1976  [(Peter C. Katsoulas, [US]), (Randall P. Sadow...   \n",
       "5529  1954       [(A. H. Gordon, [GB]), (Patrick Shaw, [GB])]   \n",
       "5530  1936  [(Marcus H. Simaïka, []), (Muhammad Shafik, []...   \n",
       "\n",
       "                                                   rors  \\\n",
       "0                                                    []   \n",
       "1     [(https://ror.org/0117jxy09, DE), (https://ror...   \n",
       "2                                                    []   \n",
       "3     [(https://ror.org/00hswnk62, GB), (https://ror...   \n",
       "4                     [(https://ror.org/046rm7j60, US)]   \n",
       "...                                                 ...   \n",
       "5526  [(https://ror.org/02smfhw86, US), (https://ror...   \n",
       "5527                                                 []   \n",
       "5528                  [(https://ror.org/0072zz521, US)]   \n",
       "5529  [(https://ror.org/01ch2yn61, GB), (https://ror...   \n",
       "5530                                                 []   \n",
       "\n",
       "                                     institutions_names  \\\n",
       "0                                                    []   \n",
       "1     [(Springer Nature (Germany), DE), (Springer Na...   \n",
       "2                                                    []   \n",
       "3     [(Queen's University Belfast, GB), (National T...   \n",
       "4         [(University of California, Los Angeles, US)]   \n",
       "...                                                 ...   \n",
       "5526  [(Virginia Tech, US), (Virginia Tech, US), (Vi...   \n",
       "5527                                                 []   \n",
       "5528        [(University of Massachusetts Amherst, US)]   \n",
       "5529               [(Met Office, GB), (Met Office, GB)]   \n",
       "5530                                                 []   \n",
       "\n",
       "                                        locations_names locations_id  \n",
       "0                                             TOTOBUANG    2339-1154  \n",
       "1                                         MTZ worldwide    2192-9114  \n",
       "2                        Dental Health Current Research    2470-0886  \n",
       "3                              The Astronomical Journal    0004-6256  \n",
       "4                       Issues in Mental Health Nursing    0161-2840  \n",
       "...                                                 ...          ...  \n",
       "5526                       Journal of Wildlife Diseases    0090-3558  \n",
       "5527  Industrial & Engineering Chemistry Process Des...    0196-4305  \n",
       "5528                               A I I E Transactions    0569-5554  \n",
       "5529  Archives for Meteorology Geophysics and Biocli...    0066-6416  \n",
       "5530  Comité de Conservation des Monuments de l Art ...    1110-6824  \n",
       "\n",
       "[5531 rows x 13 columns]"
      ]
     },
     "execution_count": 14,
     "metadata": {},
     "output_type": "execute_result"
    }
   ],
   "source": [
    "df_not_ipbes"
   ]
  },
  {
   "cell_type": "code",
   "execution_count": 15,
   "id": "f2d4625f",
   "metadata": {},
   "outputs": [],
   "source": [
    "df_not_ipbes.to_json(module_path+f'\\\\IPCC_bibliography\\\\AR6\\\\structured_data\\\\data_model_ipbes\\\\data_not_ipbes.jsonl', orient='records', lines= True)"
   ]
  }
 ],
 "metadata": {
  "kernelspec": {
   "display_name": "tf",
   "language": "python",
   "name": "python3"
  },
  "language_info": {
   "codemirror_mode": {
    "name": "ipython",
    "version": 3
   },
   "file_extension": ".py",
   "mimetype": "text/x-python",
   "name": "python",
   "nbconvert_exporter": "python",
   "pygments_lexer": "ipython3",
   "version": "3.10.13"
  }
 },
 "nbformat": 4,
 "nbformat_minor": 5
}
