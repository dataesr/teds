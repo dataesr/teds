{
 "cells": [
  {
   "cell_type": "code",
   "execution_count": 1,
   "id": "e0ef86ad",
   "metadata": {},
   "outputs": [],
   "source": [
    "from pyzotero import zotero\n",
    "import os\n",
    "import sys\n",
    "from dotenv import load_dotenv\n",
    "load_dotenv()\n",
    "import pandas as pd\n",
    "import matplotlib.pyplot as plt\n",
    "from datetime import datetime\n",
    "from tqdm.notebook import tqdm\n",
    "tqdm.pandas()\n",
    "\n",
    "module_path = os.path.abspath(os.path.join('..'))\n",
    "if module_path not in sys.path:\n",
    "    sys.path.append(module_path)\n",
    "from code_utils.zotero import get_data_from_zotero\n",
    "from code_utils.glutton import get_doi_glutton\n",
    "from code_utils.utils import get_doi_cleaned,aplatir,wg_chap_to_dict,get_year_ipbes,check_doi_glutton\n",
    "from code_utils.pickle import load_cache,write_cache\n",
    "from code_utils.enriching_data_OpenAlex import get_countries_concepts_sdg,get_open_alex_data,get_open_alex_data_not_in_references"
   ]
  },
  {
   "cell_type": "code",
   "execution_count": 2,
   "id": "9061c147",
   "metadata": {},
   "outputs": [],
   "source": [
    "cached_openalex_data_ipbes = {}\n",
    "cached_openalex_data_not_ipbes = {}"
   ]
  },
  {
   "cell_type": "code",
   "execution_count": 3,
   "id": "dde30c87",
   "metadata": {},
   "outputs": [
    {
     "name": "stdout",
     "output_type": "stream",
     "text": [
      "5690 data in cached openalex data\n",
      "58 data in cached openalex data\n"
     ]
    }
   ],
   "source": [
    "try:\n",
    "    cached_openalex_data_ipbes = load_cache(cached_openalex_data_ipbes,module_path+'\\\\IPCC_bibliography\\\\AR6\\\\structured_data\\\\caches\\\\cached_openalex_data_ipbes.pkl')\n",
    "    cached_openalex_data_not_ipbes = load_cache(cached_openalex_data_ipbes,module_path+'\\\\IPCC_bibliography\\\\AR6\\\\structured_data\\\\caches\\\\cached_openalex_data_not_ipbes.pkl')\n",
    "except:\n",
    "    #write_cache(cached_openalex_data_ipbes,module_path+'\\\\IPCC_bibliography\\\\AR6\\\\structured_data\\\\caches\\\\cached_openalex_data_ipbes.pkl')\n",
    "    #write_cache(cached_openalex_data_not_ipbes,module_path+'\\\\IPCC_bibliography\\\\AR6\\\\structured_data\\\\caches\\\\cached_openalex_data_not_ipbes.pkl')\n",
    "    print('oups')"
   ]
  },
  {
   "cell_type": "markdown",
   "id": "15bcf112",
   "metadata": {},
   "source": [
    "Read IPBES references in zotero files"
   ]
  },
  {
   "cell_type": "code",
   "execution_count": null,
   "id": "72fbfc65",
   "metadata": {},
   "outputs": [],
   "source": [
    "ZOTERO_KEY = os.getenv('ZOTERO_KEY')\n",
    "IPBES_ZOTERO_ID = '2333077'\n",
    "COLLECTION_IDS = ['8DQ8YFJI','JR5LKU4U','LBFNF62B','7IMYH9U3','DRZLUY9K','KTPTCAVF','UWNSUNXQ','BJGWRJAK','JT8FJXP6']\n",
    "CHAPTER_IDS=['1','2.1','2.2','2.3','3','4','5','6','glossary']\n",
    "ALL_COLLECTIONS={}"
   ]
  },
  {
   "cell_type": "code",
   "execution_count": null,
   "id": "cba99ee3",
   "metadata": {},
   "outputs": [
    {
     "name": "stderr",
     "output_type": "stream",
     "text": [
      "DEBUG:urllib3.connectionpool:https://api.zotero.org:443 \"GET /groups/2333077/collections/JR5LKU4U/items?start=300&limit=100&format=json HTTP/1.1\" 200 19681\n",
      "DEBUG:urllib3.connectionpool:Starting new HTTPS connection (1): api.zotero.org:443\n"
     ]
    }
   ],
   "source": [
    "ALL_COLLECTIONS=get_data_from_zotero(ZOTERO_KEY,IPBES_ZOTERO_ID,COLLECTION_IDS,CHAPTER_IDS,ALL_COLLECTIONS)"
   ]
  },
  {
   "cell_type": "code",
   "execution_count": null,
   "id": "5fdc2bb5",
   "metadata": {},
   "outputs": [],
   "source": [
    "df_ipbes_chap={}\n",
    "for i in range(len(COLLECTION_IDS)):\n",
    "    df_ipbes_chap[CHAPTER_IDS[i]]=pd.DataFrame(list(pd.DataFrame(ALL_COLLECTIONS[f'collection_chapter_{CHAPTER_IDS[i]}']).data))[['DOI','title','date','creators','tags']]\n",
    "    df_ipbes_chap[CHAPTER_IDS[i]]['chap']=f'chap_{CHAPTER_IDS[i]}'\n",
    "    print(f'{len(df_ipbes_chap[CHAPTER_IDS[i]][~pd.isna(df_ipbes_chap[CHAPTER_IDS[i]].DOI)])/len(df_ipbes_chap[CHAPTER_IDS[i]])*100} % doi available for chapter {CHAPTER_IDS[i]}')"
   ]
  },
  {
   "cell_type": "markdown",
   "id": "98a44a20",
   "metadata": {},
   "source": [
    "Clean and enrich data "
   ]
  },
  {
   "cell_type": "code",
   "execution_count": null,
   "id": "9e44246d",
   "metadata": {},
   "outputs": [],
   "source": [
    "df_ipbes=pd.concat(list(df_ipbes_chap.values())).reset_index()\n",
    "del df_ipbes['index']"
   ]
  },
  {
   "cell_type": "code",
   "execution_count": null,
   "id": "09792a77",
   "metadata": {},
   "outputs": [],
   "source": [
    "len(df_ipbes[~pd.isna(df_ipbes.DOI)])/len(df_ipbes)*100"
   ]
  },
  {
   "cell_type": "code",
   "execution_count": null,
   "id": "6d63cd87",
   "metadata": {},
   "outputs": [],
   "source": [
    "df_ipbes.DOI.drop_duplicates()"
   ]
  },
  {
   "cell_type": "code",
   "execution_count": null,
   "id": "9ceaa53c",
   "metadata": {},
   "outputs": [],
   "source": [
    "get_doi_glutton(df_ipbes.iloc[1,:])"
   ]
  },
  {
   "cell_type": "code",
   "execution_count": null,
   "id": "90933b7e",
   "metadata": {},
   "outputs": [],
   "source": [
    "df_ipbes.loc[pd.isna(df_ipbes.DOI),'DOI']=df_ipbes.loc[pd.isna(df_ipbes.DOI),:].progress_apply(get_doi_glutton, axis=1)"
   ]
  },
  {
   "cell_type": "code",
   "execution_count": null,
   "id": "b4ccc254",
   "metadata": {},
   "outputs": [],
   "source": [
    "len(df_ipbes[~pd.isna(df_ipbes.DOI)])/len(df_ipbes)*100"
   ]
  },
  {
   "cell_type": "code",
   "execution_count": null,
   "id": "25ae7b2a",
   "metadata": {},
   "outputs": [],
   "source": [
    "df_ipbes.loc[:,'DOI']=df_ipbes.loc[:,'DOI'].apply(lambda x: get_doi_cleaned(x))\n",
    "df_ipbes.loc[:,'DOI']=df_ipbes.loc[:,'DOI'].apply(lambda x: None if str(x)[:4]=='http' else x)\n",
    "df_ipbes['freq']=1\n",
    "df_ipbes=df_ipbes.rename(columns={'DOI':'doi'})"
   ]
  },
  {
   "cell_type": "code",
   "execution_count": null,
   "id": "bdcb049e",
   "metadata": {},
   "outputs": [],
   "source": [
    "df_ipbes.to_json(module_path+'\\\\IPCC_bibliography\\\\AR6\\\\structured_data\\\\data_ipbes.json', orient='records')"
   ]
  },
  {
   "cell_type": "code",
   "execution_count": null,
   "id": "288e3495",
   "metadata": {},
   "outputs": [],
   "source": [
    "df_ipbes.columns"
   ]
  },
  {
   "cell_type": "markdown",
   "id": "8ca0842d",
   "metadata": {},
   "source": [
    "Enriching data through OpenAlex API integration"
   ]
  },
  {
   "cell_type": "code",
   "execution_count": 4,
   "id": "bb372fcd",
   "metadata": {},
   "outputs": [],
   "source": [
    "df_ipbes=pd.read_json(module_path+'\\\\IPCC_bibliography\\\\AR6\\\\structured_data\\\\data_ipbes.json', orient='records')"
   ]
  },
  {
   "cell_type": "code",
   "execution_count": 5,
   "id": "ae7af54e",
   "metadata": {},
   "outputs": [],
   "source": [
    "df_unique_doi=df_ipbes.groupby(by=['doi'], dropna=True).agg({'chap': lambda x: list(x), 'freq': 'sum'})\n",
    "df_unique_doi=df_unique_doi.reset_index()"
   ]
  },
  {
   "cell_type": "code",
   "execution_count": 6,
   "id": "930eeae1",
   "metadata": {},
   "outputs": [
    {
     "data": {
      "text/plain": [
       "0       [{'id': 'https://openalex.org/W2077652067', 'd...\n",
       "1       [{'id': 'https://openalex.org/W2320183287', 'd...\n",
       "2       [{'id': 'https://openalex.org/W1487177596', 'd...\n",
       "3       [{'id': 'https://openalex.org/W1546680881', 'd...\n",
       "4       [{'id': 'https://openalex.org/W1795688558', 'd...\n",
       "                              ...                        \n",
       "5685    [{'id': 'https://openalex.org/W2752653997', 'd...\n",
       "5686    [{'id': 'https://openalex.org/W2754023309', 'd...\n",
       "5687    [{'id': 'https://openalex.org/W2029219906', 'd...\n",
       "5688    [{'id': 'https://openalex.org/W2221413160', 'd...\n",
       "5689    [{'id': 'https://openalex.org/W3124428460', 'd...\n",
       "Length: 5690, dtype: object"
      ]
     },
     "execution_count": 6,
     "metadata": {},
     "output_type": "execute_result"
    }
   ],
   "source": [
    "#get data_OpenAlex from the API \n",
    "df_unique_doi.apply(lambda row: get_open_alex_data(cached_openalex_data_ipbes,row['doi']), axis= 1)"
   ]
  },
  {
   "cell_type": "code",
   "execution_count": 7,
   "id": "cddfdcb0",
   "metadata": {},
   "outputs": [
    {
     "data": {
      "text/plain": [
       "5690"
      ]
     },
     "execution_count": 7,
     "metadata": {},
     "output_type": "execute_result"
    }
   ],
   "source": [
    "len(cached_openalex_data_ipbes)"
   ]
  },
  {
   "cell_type": "code",
   "execution_count": 8,
   "id": "e85d32d5",
   "metadata": {},
   "outputs": [],
   "source": [
    "write_cache(cached_openalex_data_ipbes,module_path+'\\\\IPCC_bibliography\\\\AR6\\\\structured_data\\\\caches\\\\cached_openalex_data_ipbes.pkl')"
   ]
  },
  {
   "cell_type": "code",
   "execution_count": 9,
   "id": "5202723a",
   "metadata": {},
   "outputs": [],
   "source": [
    "df_ipbes=pd.read_json(module_path+'\\\\IPCC_bibliography\\\\AR6\\\\structured_data\\\\data_ipbes.json')"
   ]
  },
  {
   "cell_type": "code",
   "execution_count": 10,
   "id": "f8c77753",
   "metadata": {},
   "outputs": [],
   "source": [
    "df_unique_doi=df_ipbes['doi'].drop_duplicates().dropna()\n",
    "df_unique_doi=pd.DataFrame({'doi':list(df_unique_doi)})"
   ]
  },
  {
   "cell_type": "code",
   "execution_count": 13,
   "id": "df2254b8",
   "metadata": {},
   "outputs": [],
   "source": [
    "countries_list = []\n",
    "concepts_list = []\n",
    "sdg_list = []\n",
    "topics_list = []\n",
    "is_OA_available_list=[]\n",
    "title_list=[]\n",
    "year_list=[]\n",
    "names_list=[]\n",
    "rors_list=[]\n",
    "institutions_names_list=[]\n",
    "locations_names_list=[]\n",
    "locations_ids_list=[]\n",
    "type_list=[]\n",
    "type_crossref_list=[]\n",
    "\n",
    "for i,row in df_unique_doi.iterrows():\n",
    "    countries,concepts,sdg,year,topics,doi,bool_OA,title,name,rors,institutions_names,locations_names,locations_ids,type_OA,type_crossref=get_countries_concepts_sdg(cached_openalex_data_ipbes,row,ipcc=True,i=0)\n",
    "\n",
    "    countries_list.append(countries)\n",
    "    concepts_list.append(concepts)\n",
    "    sdg_list.append(sdg)\n",
    "    topics_list.append(topics)  \n",
    "    is_OA_available_list.append(bool_OA)\n",
    "    title_list.append(title)\n",
    "    year_list.append(year)\n",
    "    names_list.append(name)\n",
    "    rors_list.append(rors)\n",
    "    institutions_names_list.append(institutions_names)\n",
    "    locations_names_list.append(locations_names)\n",
    "    locations_ids_list.append(locations_ids)\n",
    "    type_list.append(type_OA)\n",
    "    type_crossref_list.append(type_crossref)\n",
    "\n",
    "\n",
    "df_unique_doi['countries'] = countries_list\n",
    "df_unique_doi['concepts'] = concepts_list\n",
    "df_unique_doi['sdg'] = sdg_list\n",
    "df_unique_doi['topics'] = topics_list\n",
    "df_unique_doi['is_OA_available'] = is_OA_available_list\n",
    "df_unique_doi['year_OA'] = year_list\n",
    "df_unique_doi['authors_name'] = names_list\n",
    "df_unique_doi['rors'] = rors_list\n",
    "df_unique_doi['institutions_names'] = institutions_names_list\n",
    "df_unique_doi['locations_names'] = locations_names_list\n",
    "df_unique_doi['locations_ids'] = locations_ids_list\n",
    "df_unique_doi['type'] = type_list\n",
    "df_unique_doi['type_crossref'] = type_crossref_list"
   ]
  },
  {
   "cell_type": "code",
   "execution_count": 14,
   "id": "478ecfa9",
   "metadata": {},
   "outputs": [
    {
     "data": {
      "text/plain": [
       "is_OA_available\n",
       "True     5668\n",
       "False      22\n",
       "Name: count, dtype: int64"
      ]
     },
     "execution_count": 14,
     "metadata": {},
     "output_type": "execute_result"
    }
   ],
   "source": [
    "df_unique_doi.is_OA_available.value_counts()"
   ]
  },
  {
   "cell_type": "code",
   "execution_count": 15,
   "id": "6d32bec2",
   "metadata": {},
   "outputs": [],
   "source": [
    "df_unique_doi=df_unique_doi[df_unique_doi.is_OA_available]"
   ]
  },
  {
   "cell_type": "code",
   "execution_count": 16,
   "id": "68a49e23",
   "metadata": {},
   "outputs": [],
   "source": [
    "df_unique_doi=df_unique_doi.reset_index()\n",
    "del df_unique_doi['index']"
   ]
  },
  {
   "cell_type": "code",
   "execution_count": 17,
   "id": "b31ee6ad",
   "metadata": {},
   "outputs": [],
   "source": [
    "df_unique_doi.to_json(module_path+'\\\\IPCC_bibliography\\\\AR6\\\\structured_data\\\\data_ipbes_OA.json', orient='records')"
   ]
  },
  {
   "cell_type": "markdown",
   "id": "d070eddb",
   "metadata": {},
   "source": [
    "Ipbes references data"
   ]
  },
  {
   "cell_type": "code",
   "execution_count": 18,
   "id": "8ffad823",
   "metadata": {},
   "outputs": [],
   "source": [
    "df_unique_doi=pd.read_json(module_path+'\\\\IPCC_bibliography\\\\AR6\\\\structured_data\\\\data_ipbes_OA.json', orient='records')"
   ]
  },
  {
   "cell_type": "code",
   "execution_count": 19,
   "id": "853f6324",
   "metadata": {},
   "outputs": [],
   "source": [
    "df_ipbes=pd.read_json(module_path+'\\\\IPCC_bibliography\\\\AR6\\\\structured_data\\\\data_ipbes.json')"
   ]
  },
  {
   "cell_type": "code",
   "execution_count": 20,
   "id": "fd351e55",
   "metadata": {},
   "outputs": [],
   "source": [
    "df_ipbes=pd.merge(df_ipbes[['doi', 'title', 'date', 'creators', 'tags']], df_unique_doi, on='doi', how='inner')"
   ]
  },
  {
   "cell_type": "code",
   "execution_count": 21,
   "id": "04560cca",
   "metadata": {},
   "outputs": [],
   "source": [
    "df_ipbes['year']=df_ipbes['date'].apply(lambda x: get_year_ipbes(x) if pd.isna(x)==False else None)"
   ]
  },
  {
   "cell_type": "code",
   "execution_count": 22,
   "id": "128a6434",
   "metadata": {},
   "outputs": [
    {
     "data": {
      "text/plain": [
       "check\n",
       "True     6363\n",
       "False      80\n",
       "Name: count, dtype: int64"
      ]
     },
     "execution_count": 22,
     "metadata": {},
     "output_type": "execute_result"
    }
   ],
   "source": [
    "df_ipbes['check']=df_ipbes.apply(lambda row: check_doi_glutton(row), axis=1)\n",
    "df_ipbes.check.value_counts()"
   ]
  },
  {
   "cell_type": "code",
   "execution_count": 23,
   "id": "0c51dc1e",
   "metadata": {},
   "outputs": [
    {
     "data": {
      "text/html": [
       "<div>\n",
       "<style scoped>\n",
       "    .dataframe tbody tr th:only-of-type {\n",
       "        vertical-align: middle;\n",
       "    }\n",
       "\n",
       "    .dataframe tbody tr th {\n",
       "        vertical-align: top;\n",
       "    }\n",
       "\n",
       "    .dataframe thead th {\n",
       "        text-align: right;\n",
       "    }\n",
       "</style>\n",
       "<table border=\"1\" class=\"dataframe\">\n",
       "  <thead>\n",
       "    <tr style=\"text-align: right;\">\n",
       "      <th></th>\n",
       "      <th>doi</th>\n",
       "      <th>title</th>\n",
       "      <th>date</th>\n",
       "      <th>creators</th>\n",
       "      <th>tags</th>\n",
       "      <th>countries</th>\n",
       "      <th>concepts</th>\n",
       "      <th>sdg</th>\n",
       "      <th>topics</th>\n",
       "      <th>is_OA_available</th>\n",
       "      <th>year_OA</th>\n",
       "      <th>authors_name</th>\n",
       "      <th>rors</th>\n",
       "      <th>institutions_names</th>\n",
       "      <th>locations_names</th>\n",
       "      <th>locations_ids</th>\n",
       "      <th>type</th>\n",
       "      <th>type_crossref</th>\n",
       "      <th>year</th>\n",
       "      <th>check</th>\n",
       "    </tr>\n",
       "  </thead>\n",
       "  <tbody>\n",
       "    <tr>\n",
       "      <th>98</th>\n",
       "      <td>10.1007/s11027-013-9479-6</td>\n",
       "      <td>Combining backcasting and exploratory scenario...</td>\n",
       "      <td>2015</td>\n",
       "      <td>[{'creatorType': 'author', 'firstName': 'Mathi...</td>\n",
       "      <td>[{'tag': 'ipbes-global_chapter1'}, {'tag': 'ip...</td>\n",
       "      <td>[NL]</td>\n",
       "      <td>[Backcasting, Computer science, Exploratory re...</td>\n",
       "      <td>None</td>\n",
       "      <td>[Water resources management and optimization, ...</td>\n",
       "      <td>True</td>\n",
       "      <td>2013</td>\n",
       "      <td>[[M. van Vliet, [NL]], [Kasper Kok, [NL]]]</td>\n",
       "      <td>[[https://ror.org/04qw24q55, NL], [https://ror...</td>\n",
       "      <td>[[Wageningen University &amp; Research, NL], [Wage...</td>\n",
       "      <td>Mitigation and Adaptation Strategies for Globa...</td>\n",
       "      <td>1381-2386</td>\n",
       "      <td>article</td>\n",
       "      <td>journal-article</td>\n",
       "      <td>2015</td>\n",
       "      <td>False</td>\n",
       "    </tr>\n",
       "    <tr>\n",
       "      <th>99</th>\n",
       "      <td>10.1007/s11027-013-9479-6</td>\n",
       "      <td>Combining backcasting and exploratory scenario...</td>\n",
       "      <td>2015</td>\n",
       "      <td>[{'creatorType': 'author', 'firstName': 'Mathi...</td>\n",
       "      <td>[{'tag': 'ipbes-global_chapter1'}, {'tag': 'ip...</td>\n",
       "      <td>[NL]</td>\n",
       "      <td>[Backcasting, Computer science, Exploratory re...</td>\n",
       "      <td>None</td>\n",
       "      <td>[Water resources management and optimization, ...</td>\n",
       "      <td>True</td>\n",
       "      <td>2013</td>\n",
       "      <td>[[M. van Vliet, [NL]], [Kasper Kok, [NL]]]</td>\n",
       "      <td>[[https://ror.org/04qw24q55, NL], [https://ror...</td>\n",
       "      <td>[[Wageningen University &amp; Research, NL], [Wage...</td>\n",
       "      <td>Mitigation and Adaptation Strategies for Globa...</td>\n",
       "      <td>1381-2386</td>\n",
       "      <td>article</td>\n",
       "      <td>journal-article</td>\n",
       "      <td>2015</td>\n",
       "      <td>False</td>\n",
       "    </tr>\n",
       "    <tr>\n",
       "      <th>421</th>\n",
       "      <td>10.1016/j.enpol.2010.03.012</td>\n",
       "      <td>Distributional effects of taxing transport fuel</td>\n",
       "      <td>2012</td>\n",
       "      <td>[{'creatorType': 'author', 'firstName': 'Thoma...</td>\n",
       "      <td>[{'tag': 'ipbes-global_chapter2.1_drivers'}]</td>\n",
       "      <td>[SE]</td>\n",
       "      <td>[Opposition (politics), Economics, Surprise, C...</td>\n",
       "      <td>[{'id': '13', 'name': 'Climate action'}]</td>\n",
       "      <td>[Energy, Environment, and Transportation Polic...</td>\n",
       "      <td>True</td>\n",
       "      <td>2010</td>\n",
       "      <td>[[Thomas Sterner, [SE]]]</td>\n",
       "      <td>[[https://ror.org/01tm6cn81, SE]]</td>\n",
       "      <td>[[University of Gothenburg, SE]]</td>\n",
       "      <td>Energy Policy</td>\n",
       "      <td>0301-4215</td>\n",
       "      <td>article</td>\n",
       "      <td>journal-article</td>\n",
       "      <td>2012</td>\n",
       "      <td>False</td>\n",
       "    </tr>\n",
       "    <tr>\n",
       "      <th>652</th>\n",
       "      <td>10.1073/pnas.1220362110</td>\n",
       "      <td>The material footprint of nations</td>\n",
       "      <td>2015-05-19</td>\n",
       "      <td>[{'creatorType': 'author', 'firstName': 'Thoma...</td>\n",
       "      <td>[{'tag': 'ipbes-global_chapter2.1_drivers'}, {...</td>\n",
       "      <td>[AU, NO, JP, US]</td>\n",
       "      <td>[Decoupling (probability), Natural resource, G...</td>\n",
       "      <td>[{'id': '8', 'name': 'Decent work and economic...</td>\n",
       "      <td>[Environmental Impact and Sustainability, Glob...</td>\n",
       "      <td>True</td>\n",
       "      <td>2013</td>\n",
       "      <td>[[Thomas Wiedmann, [AU]], [Heinz Schandl, [AU]...</td>\n",
       "      <td>[[https://ror.org/03qn8fb07, AU], [https://ror...</td>\n",
       "      <td>[[Commonwealth Scientific and Industrial Resea...</td>\n",
       "      <td>Proceedings of the National Academy of Sciences</td>\n",
       "      <td>0027-8424</td>\n",
       "      <td>article</td>\n",
       "      <td>journal-article</td>\n",
       "      <td>2015</td>\n",
       "      <td>False</td>\n",
       "    </tr>\n",
       "    <tr>\n",
       "      <th>653</th>\n",
       "      <td>10.1073/pnas.1220362110</td>\n",
       "      <td>The material footprint of nations</td>\n",
       "      <td>2015-05-19</td>\n",
       "      <td>[{'creatorType': 'author', 'firstName': 'Thoma...</td>\n",
       "      <td>[{'tag': 'ipbes-global_chapter2.1_drivers'}, {...</td>\n",
       "      <td>[AU, NO, JP, US]</td>\n",
       "      <td>[Decoupling (probability), Natural resource, G...</td>\n",
       "      <td>[{'id': '8', 'name': 'Decent work and economic...</td>\n",
       "      <td>[Environmental Impact and Sustainability, Glob...</td>\n",
       "      <td>True</td>\n",
       "      <td>2013</td>\n",
       "      <td>[[Thomas Wiedmann, [AU]], [Heinz Schandl, [AU]...</td>\n",
       "      <td>[[https://ror.org/03qn8fb07, AU], [https://ror...</td>\n",
       "      <td>[[Commonwealth Scientific and Industrial Resea...</td>\n",
       "      <td>Proceedings of the National Academy of Sciences</td>\n",
       "      <td>0027-8424</td>\n",
       "      <td>article</td>\n",
       "      <td>journal-article</td>\n",
       "      <td>2015</td>\n",
       "      <td>False</td>\n",
       "    </tr>\n",
       "    <tr>\n",
       "      <th>...</th>\n",
       "      <td>...</td>\n",
       "      <td>...</td>\n",
       "      <td>...</td>\n",
       "      <td>...</td>\n",
       "      <td>...</td>\n",
       "      <td>...</td>\n",
       "      <td>...</td>\n",
       "      <td>...</td>\n",
       "      <td>...</td>\n",
       "      <td>...</td>\n",
       "      <td>...</td>\n",
       "      <td>...</td>\n",
       "      <td>...</td>\n",
       "      <td>...</td>\n",
       "      <td>...</td>\n",
       "      <td>...</td>\n",
       "      <td>...</td>\n",
       "      <td>...</td>\n",
       "      <td>...</td>\n",
       "      <td>...</td>\n",
       "    </tr>\n",
       "    <tr>\n",
       "      <th>6289</th>\n",
       "      <td>10.1111/cobi.13056</td>\n",
       "      <td>Dynamics in the global protected‐area estate s...</td>\n",
       "      <td>06/2019</td>\n",
       "      <td>[{'creatorType': 'author', 'firstName': 'Edwar...</td>\n",
       "      <td>[{'tag': 'ipbes-global_chapter6'}]</td>\n",
       "      <td>[CH, GB, DK]</td>\n",
       "      <td>[Protected area, Realm, Environmental resource...</td>\n",
       "      <td>[{'id': '14', 'name': 'Life below water'}]</td>\n",
       "      <td>[Conservation, Biodiversity, and Resource Mana...</td>\n",
       "      <td>True</td>\n",
       "      <td>2017</td>\n",
       "      <td>[[Edward Lewis, [GB]], [Brian MacSharry, [GB]]...</td>\n",
       "      <td>[[https://ror.org/04570b518, GB], [https://ror...</td>\n",
       "      <td>[[World Conservation Monitoring Centre, GB], [...</td>\n",
       "      <td>Conservation Biology</td>\n",
       "      <td>0888-8892</td>\n",
       "      <td>article</td>\n",
       "      <td>journal-article</td>\n",
       "      <td>2019</td>\n",
       "      <td>False</td>\n",
       "    </tr>\n",
       "    <tr>\n",
       "      <th>6291</th>\n",
       "      <td>10.1111/faf.12044</td>\n",
       "      <td>Evaluating the relative conservation value of ...</td>\n",
       "      <td>03/2015</td>\n",
       "      <td>[{'creatorType': 'author', 'firstName': 'Marij...</td>\n",
       "      <td>[{'tag': 'ipbes-global_chapter6'}]</td>\n",
       "      <td>[GB]</td>\n",
       "      <td>[Marine protected area, Fishing, Biomass (ecol...</td>\n",
       "      <td>[{'id': '14', 'name': 'Life below water'}]</td>\n",
       "      <td>[Coral and Marine Ecosystems Studies, Marine a...</td>\n",
       "      <td>True</td>\n",
       "      <td>2013</td>\n",
       "      <td>[[Marija Sciberras, [GB]], [Stuart R. Jenkins,...</td>\n",
       "      <td>[[https://ror.org/006jb1a24, GB], [https://ror...</td>\n",
       "      <td>[[Bangor University, GB], [Bangor University, ...</td>\n",
       "      <td>Fish and Fisheries</td>\n",
       "      <td>1467-2960</td>\n",
       "      <td>article</td>\n",
       "      <td>journal-article</td>\n",
       "      <td>2015</td>\n",
       "      <td>False</td>\n",
       "    </tr>\n",
       "    <tr>\n",
       "      <th>6344</th>\n",
       "      <td>10.1177/0013916510383238</td>\n",
       "      <td>The Effect of Trees on Crime in Portland, Oregon</td>\n",
       "      <td>01/2012</td>\n",
       "      <td>[{'creatorType': 'author', 'firstName': 'Geoff...</td>\n",
       "      <td>[{'tag': 'ipbes-global_chapter6'}]</td>\n",
       "      <td>[US]</td>\n",
       "      <td>[Criminology, Violent crime, Property crime, P...</td>\n",
       "      <td>[{'id': '16', 'name': 'Peace, justice, and str...</td>\n",
       "      <td>[Urban Green Space and Health, Land Use and Ec...</td>\n",
       "      <td>True</td>\n",
       "      <td>2010</td>\n",
       "      <td>[[Geoffrey H. Donovan, [US]], [Jeffrey P. Pres...</td>\n",
       "      <td>[[https://ror.org/03zmjc935, US], [https://ror...</td>\n",
       "      <td>[[US Forest Service, US], [Southern Research S...</td>\n",
       "      <td>Environment and Behavior</td>\n",
       "      <td>0013-9165</td>\n",
       "      <td>article</td>\n",
       "      <td>journal-article</td>\n",
       "      <td>2012</td>\n",
       "      <td>False</td>\n",
       "    </tr>\n",
       "    <tr>\n",
       "      <th>6375</th>\n",
       "      <td>10.1108/17561451011087337</td>\n",
       "      <td>Land and rivers can own themselves</td>\n",
       "      <td>2017</td>\n",
       "      <td>[{'creatorType': 'author', 'firstName': 'M.', ...</td>\n",
       "      <td>[{'tag': 'ipbes-global_chapter6'}]</td>\n",
       "      <td>[GB]</td>\n",
       "      <td>[Procurement, Building information modeling, O...</td>\n",
       "      <td>None</td>\n",
       "      <td>[BIM and Construction Integration, Constructio...</td>\n",
       "      <td>True</td>\n",
       "      <td>2010</td>\n",
       "      <td>[[Brodie McAdam, [GB]]]</td>\n",
       "      <td>[[https://ror.org/01tmqtf75, GB]]</td>\n",
       "      <td>[[University of Salford, GB]]</td>\n",
       "      <td>International Journal of Law in the Built Envi...</td>\n",
       "      <td>1756-1450</td>\n",
       "      <td>article</td>\n",
       "      <td>journal-article</td>\n",
       "      <td>2017</td>\n",
       "      <td>False</td>\n",
       "    </tr>\n",
       "    <tr>\n",
       "      <th>6420</th>\n",
       "      <td>10.1007/978-3-319-20013-2</td>\n",
       "      <td>Trophic transfer and biomagnification potentia...</td>\n",
       "      <td>1994</td>\n",
       "      <td>[{'creatorType': 'author', 'firstName': 'B. C....</td>\n",
       "      <td>[{'tag': 'ipbes-global_glossary'}]</td>\n",
       "      <td>[NL]</td>\n",
       "      <td>[Contamination, Environmental science, Toxicol...</td>\n",
       "      <td>None</td>\n",
       "      <td>None</td>\n",
       "      <td>True</td>\n",
       "      <td>2015</td>\n",
       "      <td>[[Pim de Voogt, [NL]]]</td>\n",
       "      <td>[[https://ror.org/008xxew50, NL], [https://ror...</td>\n",
       "      <td>[[Vrije Universiteit Amsterdam, NL], [Universi...</td>\n",
       "      <td>None</td>\n",
       "      <td>None</td>\n",
       "      <td>book</td>\n",
       "      <td>book</td>\n",
       "      <td>1994</td>\n",
       "      <td>False</td>\n",
       "    </tr>\n",
       "  </tbody>\n",
       "</table>\n",
       "<p>80 rows × 20 columns</p>\n",
       "</div>"
      ],
      "text/plain": [
       "                              doi  \\\n",
       "98      10.1007/s11027-013-9479-6   \n",
       "99      10.1007/s11027-013-9479-6   \n",
       "421   10.1016/j.enpol.2010.03.012   \n",
       "652       10.1073/pnas.1220362110   \n",
       "653       10.1073/pnas.1220362110   \n",
       "...                           ...   \n",
       "6289           10.1111/cobi.13056   \n",
       "6291            10.1111/faf.12044   \n",
       "6344     10.1177/0013916510383238   \n",
       "6375    10.1108/17561451011087337   \n",
       "6420    10.1007/978-3-319-20013-2   \n",
       "\n",
       "                                                  title        date  \\\n",
       "98    Combining backcasting and exploratory scenario...        2015   \n",
       "99    Combining backcasting and exploratory scenario...        2015   \n",
       "421     Distributional effects of taxing transport fuel        2012   \n",
       "652                   The material footprint of nations  2015-05-19   \n",
       "653                   The material footprint of nations  2015-05-19   \n",
       "...                                                 ...         ...   \n",
       "6289  Dynamics in the global protected‐area estate s...     06/2019   \n",
       "6291  Evaluating the relative conservation value of ...     03/2015   \n",
       "6344   The Effect of Trees on Crime in Portland, Oregon     01/2012   \n",
       "6375                 Land and rivers can own themselves        2017   \n",
       "6420  Trophic transfer and biomagnification potentia...        1994   \n",
       "\n",
       "                                               creators  \\\n",
       "98    [{'creatorType': 'author', 'firstName': 'Mathi...   \n",
       "99    [{'creatorType': 'author', 'firstName': 'Mathi...   \n",
       "421   [{'creatorType': 'author', 'firstName': 'Thoma...   \n",
       "652   [{'creatorType': 'author', 'firstName': 'Thoma...   \n",
       "653   [{'creatorType': 'author', 'firstName': 'Thoma...   \n",
       "...                                                 ...   \n",
       "6289  [{'creatorType': 'author', 'firstName': 'Edwar...   \n",
       "6291  [{'creatorType': 'author', 'firstName': 'Marij...   \n",
       "6344  [{'creatorType': 'author', 'firstName': 'Geoff...   \n",
       "6375  [{'creatorType': 'author', 'firstName': 'M.', ...   \n",
       "6420  [{'creatorType': 'author', 'firstName': 'B. C....   \n",
       "\n",
       "                                                   tags         countries  \\\n",
       "98    [{'tag': 'ipbes-global_chapter1'}, {'tag': 'ip...              [NL]   \n",
       "99    [{'tag': 'ipbes-global_chapter1'}, {'tag': 'ip...              [NL]   \n",
       "421        [{'tag': 'ipbes-global_chapter2.1_drivers'}]              [SE]   \n",
       "652   [{'tag': 'ipbes-global_chapter2.1_drivers'}, {...  [AU, NO, JP, US]   \n",
       "653   [{'tag': 'ipbes-global_chapter2.1_drivers'}, {...  [AU, NO, JP, US]   \n",
       "...                                                 ...               ...   \n",
       "6289                 [{'tag': 'ipbes-global_chapter6'}]      [CH, GB, DK]   \n",
       "6291                 [{'tag': 'ipbes-global_chapter6'}]              [GB]   \n",
       "6344                 [{'tag': 'ipbes-global_chapter6'}]              [US]   \n",
       "6375                 [{'tag': 'ipbes-global_chapter6'}]              [GB]   \n",
       "6420                 [{'tag': 'ipbes-global_glossary'}]              [NL]   \n",
       "\n",
       "                                               concepts  \\\n",
       "98    [Backcasting, Computer science, Exploratory re...   \n",
       "99    [Backcasting, Computer science, Exploratory re...   \n",
       "421   [Opposition (politics), Economics, Surprise, C...   \n",
       "652   [Decoupling (probability), Natural resource, G...   \n",
       "653   [Decoupling (probability), Natural resource, G...   \n",
       "...                                                 ...   \n",
       "6289  [Protected area, Realm, Environmental resource...   \n",
       "6291  [Marine protected area, Fishing, Biomass (ecol...   \n",
       "6344  [Criminology, Violent crime, Property crime, P...   \n",
       "6375  [Procurement, Building information modeling, O...   \n",
       "6420  [Contamination, Environmental science, Toxicol...   \n",
       "\n",
       "                                                    sdg  \\\n",
       "98                                                 None   \n",
       "99                                                 None   \n",
       "421            [{'id': '13', 'name': 'Climate action'}]   \n",
       "652   [{'id': '8', 'name': 'Decent work and economic...   \n",
       "653   [{'id': '8', 'name': 'Decent work and economic...   \n",
       "...                                                 ...   \n",
       "6289         [{'id': '14', 'name': 'Life below water'}]   \n",
       "6291         [{'id': '14', 'name': 'Life below water'}]   \n",
       "6344  [{'id': '16', 'name': 'Peace, justice, and str...   \n",
       "6375                                               None   \n",
       "6420                                               None   \n",
       "\n",
       "                                                 topics  is_OA_available  \\\n",
       "98    [Water resources management and optimization, ...             True   \n",
       "99    [Water resources management and optimization, ...             True   \n",
       "421   [Energy, Environment, and Transportation Polic...             True   \n",
       "652   [Environmental Impact and Sustainability, Glob...             True   \n",
       "653   [Environmental Impact and Sustainability, Glob...             True   \n",
       "...                                                 ...              ...   \n",
       "6289  [Conservation, Biodiversity, and Resource Mana...             True   \n",
       "6291  [Coral and Marine Ecosystems Studies, Marine a...             True   \n",
       "6344  [Urban Green Space and Health, Land Use and Ec...             True   \n",
       "6375  [BIM and Construction Integration, Constructio...             True   \n",
       "6420                                               None             True   \n",
       "\n",
       "      year_OA                                       authors_name  \\\n",
       "98       2013         [[M. van Vliet, [NL]], [Kasper Kok, [NL]]]   \n",
       "99       2013         [[M. van Vliet, [NL]], [Kasper Kok, [NL]]]   \n",
       "421      2010                           [[Thomas Sterner, [SE]]]   \n",
       "652      2013  [[Thomas Wiedmann, [AU]], [Heinz Schandl, [AU]...   \n",
       "653      2013  [[Thomas Wiedmann, [AU]], [Heinz Schandl, [AU]...   \n",
       "...       ...                                                ...   \n",
       "6289     2017  [[Edward Lewis, [GB]], [Brian MacSharry, [GB]]...   \n",
       "6291     2013  [[Marija Sciberras, [GB]], [Stuart R. Jenkins,...   \n",
       "6344     2010  [[Geoffrey H. Donovan, [US]], [Jeffrey P. Pres...   \n",
       "6375     2010                            [[Brodie McAdam, [GB]]]   \n",
       "6420     2015                             [[Pim de Voogt, [NL]]]   \n",
       "\n",
       "                                                   rors  \\\n",
       "98    [[https://ror.org/04qw24q55, NL], [https://ror...   \n",
       "99    [[https://ror.org/04qw24q55, NL], [https://ror...   \n",
       "421                   [[https://ror.org/01tm6cn81, SE]]   \n",
       "652   [[https://ror.org/03qn8fb07, AU], [https://ror...   \n",
       "653   [[https://ror.org/03qn8fb07, AU], [https://ror...   \n",
       "...                                                 ...   \n",
       "6289  [[https://ror.org/04570b518, GB], [https://ror...   \n",
       "6291  [[https://ror.org/006jb1a24, GB], [https://ror...   \n",
       "6344  [[https://ror.org/03zmjc935, US], [https://ror...   \n",
       "6375                  [[https://ror.org/01tmqtf75, GB]]   \n",
       "6420  [[https://ror.org/008xxew50, NL], [https://ror...   \n",
       "\n",
       "                                     institutions_names  \\\n",
       "98    [[Wageningen University & Research, NL], [Wage...   \n",
       "99    [[Wageningen University & Research, NL], [Wage...   \n",
       "421                    [[University of Gothenburg, SE]]   \n",
       "652   [[Commonwealth Scientific and Industrial Resea...   \n",
       "653   [[Commonwealth Scientific and Industrial Resea...   \n",
       "...                                                 ...   \n",
       "6289  [[World Conservation Monitoring Centre, GB], [...   \n",
       "6291  [[Bangor University, GB], [Bangor University, ...   \n",
       "6344  [[US Forest Service, US], [Southern Research S...   \n",
       "6375                      [[University of Salford, GB]]   \n",
       "6420  [[Vrije Universiteit Amsterdam, NL], [Universi...   \n",
       "\n",
       "                                        locations_names locations_ids  \\\n",
       "98    Mitigation and Adaptation Strategies for Globa...     1381-2386   \n",
       "99    Mitigation and Adaptation Strategies for Globa...     1381-2386   \n",
       "421                                       Energy Policy     0301-4215   \n",
       "652     Proceedings of the National Academy of Sciences     0027-8424   \n",
       "653     Proceedings of the National Academy of Sciences     0027-8424   \n",
       "...                                                 ...           ...   \n",
       "6289                               Conservation Biology     0888-8892   \n",
       "6291                                 Fish and Fisheries     1467-2960   \n",
       "6344                           Environment and Behavior     0013-9165   \n",
       "6375  International Journal of Law in the Built Envi...     1756-1450   \n",
       "6420                                               None          None   \n",
       "\n",
       "         type    type_crossref  year  check  \n",
       "98    article  journal-article  2015  False  \n",
       "99    article  journal-article  2015  False  \n",
       "421   article  journal-article  2012  False  \n",
       "652   article  journal-article  2015  False  \n",
       "653   article  journal-article  2015  False  \n",
       "...       ...              ...   ...    ...  \n",
       "6289  article  journal-article  2019  False  \n",
       "6291  article  journal-article  2015  False  \n",
       "6344  article  journal-article  2012  False  \n",
       "6375  article  journal-article  2017  False  \n",
       "6420     book             book  1994  False  \n",
       "\n",
       "[80 rows x 20 columns]"
      ]
     },
     "execution_count": 23,
     "metadata": {},
     "output_type": "execute_result"
    }
   ],
   "source": [
    "df_ipbes[df_ipbes.check==False]"
   ]
  },
  {
   "cell_type": "code",
   "execution_count": 24,
   "id": "eac33967",
   "metadata": {},
   "outputs": [],
   "source": [
    "df_ipbes=df_ipbes[(df_ipbes.check) & (pd.isna(df_ipbes['is_OA_available'])==False)]"
   ]
  },
  {
   "cell_type": "code",
   "execution_count": 25,
   "id": "2b9ac07a",
   "metadata": {},
   "outputs": [],
   "source": [
    "del df_ipbes['check']"
   ]
  },
  {
   "cell_type": "code",
   "execution_count": 26,
   "id": "ca508588",
   "metadata": {},
   "outputs": [],
   "source": [
    "df_ipbes.loc[:,'countries']=df_ipbes.loc[:,'countries'].apply(lambda x: str(x).replace('nan','None').replace('[]','None').replace('[None]','None') if ((str(x)=='nan')|(str(x)=='[None]')|((str(x)=='[]'))) else x )\n",
    "df_ipbes.loc[:,'countries']=df_ipbes.loc[:,'countries'].apply(lambda x: ['None'] if x=='None' else x)"
   ]
  },
  {
   "cell_type": "code",
   "execution_count": 28,
   "id": "574b3850",
   "metadata": {},
   "outputs": [],
   "source": [
    "#df_ipbes.to_json(module_path+'\\\\IPCC_bibliography\\\\AR6\\\\structured_data\\\\data_model_ipbes\\\\data_ipbes.jsonl', orient='records',lines=True)\n",
    "df_ipbes.to_json(module_path+'\\\\IPCC_bibliography\\\\AR6\\\\structured_data\\\\data_ipbes_visualization.jsonl', orient='records',lines=True)"
   ]
  },
  {
   "cell_type": "markdown",
   "id": "d7efd6db",
   "metadata": {},
   "source": [
    "Find the data for constructing the learning model ( IPBES related or not )"
   ]
  },
  {
   "cell_type": "code",
   "execution_count": null,
   "id": "92e97fe5",
   "metadata": {},
   "outputs": [],
   "source": [
    "df_ipbes=pd.read_json(module_path+f'\\\\IPCC_bibliography\\\\AR6\\\\structured_data\\\\data_model_ipbes\\\\data_ipbes.jsonl', lines= True).dropna(subset=['year'])"
   ]
  },
  {
   "cell_type": "code",
   "execution_count": null,
   "id": "01cc5efb",
   "metadata": {},
   "outputs": [],
   "source": [
    "df_ipbes['year'] = pd.to_numeric(df_ipbes['year'], errors='coerce')\n",
    "df_ipbes=df_ipbes.dropna(subset=['year','doi', 'title','topics','locations_names','locations_id']).drop_duplicates(subset=['doi'])\n",
    "year=df_ipbes.drop_duplicates(subset='doi').dropna(subset=['doi'])['year'].dropna().sort_values().apply(lambda x: int(x))\n",
    "year_counts = pd.Series(list(year)).value_counts().to_dict()"
   ]
  },
  {
   "cell_type": "code",
   "execution_count": null,
   "id": "2645aec9",
   "metadata": {},
   "outputs": [],
   "source": [
    "dois=list(df_ipbes.doi.dropna().drop_duplicates())"
   ]
  },
  {
   "cell_type": "code",
   "execution_count": null,
   "id": "377ef383",
   "metadata": {},
   "outputs": [],
   "source": [
    "sum(list(year_counts.values()))"
   ]
  },
  {
   "cell_type": "code",
   "execution_count": null,
   "id": "b2c417d4",
   "metadata": {},
   "outputs": [],
   "source": [
    "year_counts_not_ipbes={}"
   ]
  },
  {
   "cell_type": "code",
   "execution_count": null,
   "id": "265725b8",
   "metadata": {},
   "outputs": [],
   "source": [
    "df_ipbes.topics.value_counts()[:50]"
   ]
  },
  {
   "cell_type": "code",
   "execution_count": null,
   "id": "c945fe2f",
   "metadata": {},
   "outputs": [],
   "source": [
    "for year in list(year_counts.keys()):   \n",
    "    cached_openalex_data_not_ipbes[year]=[]\n",
    "    year_counts_not_ipbes[year]=0\n",
    "    while year_counts_not_ipbes[year]<year_counts[year]:\n",
    "        get_open_alex_data_not_in_references(dois,cached_openalex_data_not_ipbes,year_counts,year_counts_not_ipbes,year,ipcc=\"ipbes\")\n",
    "    cached_openalex_data_not_ipbes[year]=cached_openalex_data_not_ipbes[year][:year_counts[year]]"
   ]
  },
  {
   "cell_type": "code",
   "execution_count": null,
   "id": "19b1dc23",
   "metadata": {},
   "outputs": [],
   "source": [
    "sum(list(year_counts.values()))"
   ]
  },
  {
   "cell_type": "code",
   "execution_count": null,
   "id": "b736fc20",
   "metadata": {},
   "outputs": [],
   "source": [
    "len(aplatir(list(cached_openalex_data_not_ipbes.values())))\n"
   ]
  },
  {
   "cell_type": "code",
   "execution_count": null,
   "id": "6882dc31",
   "metadata": {},
   "outputs": [],
   "source": [
    "len(cached_openalex_data_not_ipbes)"
   ]
  },
  {
   "cell_type": "code",
   "execution_count": null,
   "id": "7e58ed0b",
   "metadata": {},
   "outputs": [],
   "source": [
    "write_cache(cached_openalex_data_not_ipbes,module_path+'\\\\IPCC_bibliography\\\\AR6\\\\structured_data\\\\caches\\\\cached_openalex_data_not_ipbes.pkl')"
   ]
  },
  {
   "cell_type": "code",
   "execution_count": null,
   "id": "7ffecaa5",
   "metadata": {},
   "outputs": [],
   "source": [
    "df_not_ipbes=pd.DataFrame()\n",
    "countries_list = []\n",
    "concepts_list = []\n",
    "sdg_list = []\n",
    "topics_list = []\n",
    "is_OA_available_list=[]\n",
    "title_list=[]\n",
    "year_list=[]\n",
    "names_list=[]\n",
    "rors_list=[]\n",
    "institutions_names_list=[]\n",
    "locations_names_list=[]\n",
    "locations_ids_list=[]\n",
    "doi_list=[]\n",
    "\n",
    "for k in range(len(aplatir(list(cached_openalex_data_not_ipbes.values())))):\n",
    "    countries,concepts,sdg,year,topics,doi,bool_OA,title,name,rors,institutions_names,locations_names,locations_ids=get_countries_concepts_sdg(cached_openalex_data=aplatir(list(cached_openalex_data_not_ipbes.values())),ipcc=False,i=k)\n",
    "\n",
    "    countries_list.append(countries)\n",
    "    concepts_list.append(concepts)\n",
    "    sdg_list.append(sdg)\n",
    "    topics_list.append(topics)  \n",
    "    is_OA_available_list.append(bool_OA)\n",
    "    title_list.append(title)\n",
    "    year_list.append(year)\n",
    "    names_list.append(name)\n",
    "    rors_list.append(rors)\n",
    "    institutions_names_list.append(institutions_names)\n",
    "    locations_names_list.append(locations_names)\n",
    "    locations_ids_list.append(locations_ids)\n",
    "    doi_list.append(doi)\n",
    "\n",
    "\n",
    "df_not_ipbes['doi'] = doi_list\n",
    "df_not_ipbes['title'] = title_list\n",
    "df_not_ipbes['countries'] = countries_list\n",
    "df_not_ipbes['concepts'] = concepts_list\n",
    "df_not_ipbes['sdg'] = sdg_list\n",
    "df_not_ipbes['topics'] = topics_list\n",
    "df_not_ipbes['is_OA_available'] = is_OA_available_list\n",
    "df_not_ipbes['year'] = year_list\n",
    "df_not_ipbes['authors_name'] = names_list\n",
    "df_not_ipbes['rors'] = rors_list\n",
    "df_not_ipbes['institutions_names'] = institutions_names_list\n",
    "df_not_ipbes['locations_names'] = locations_names_list\n",
    "df_not_ipbes['locations_id'] = locations_ids_list"
   ]
  },
  {
   "cell_type": "code",
   "execution_count": null,
   "id": "ba2ffe1e",
   "metadata": {},
   "outputs": [],
   "source": [
    "df_not_ipbes"
   ]
  },
  {
   "cell_type": "code",
   "execution_count": null,
   "id": "f2d4625f",
   "metadata": {},
   "outputs": [],
   "source": [
    "df_not_ipbes.to_json(module_path+f'\\\\IPCC_bibliography\\\\AR6\\\\structured_data\\\\data_model_ipbes\\\\data_not_ipbes.jsonl', orient='records', lines= True)"
   ]
  }
 ],
 "metadata": {
  "kernelspec": {
   "display_name": "base",
   "language": "python",
   "name": "python3"
  },
  "language_info": {
   "codemirror_mode": {
    "name": "ipython",
    "version": 3
   },
   "file_extension": ".py",
   "mimetype": "text/x-python",
   "name": "python",
   "nbconvert_exporter": "python",
   "pygments_lexer": "ipython3",
   "version": "3.9.12"
  }
 },
 "nbformat": 4,
 "nbformat_minor": 5
}
