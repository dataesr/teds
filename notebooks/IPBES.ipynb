{
 "cells": [
  {
   "cell_type": "code",
   "execution_count": 1,
   "id": "e0ef86ad",
   "metadata": {},
   "outputs": [],
   "source": [
    "from pyzotero import zotero\n",
    "import os\n",
    "import sys\n",
    "from dotenv import load_dotenv\n",
    "load_dotenv()\n",
    "import pandas as pd\n",
    "import matplotlib.pyplot as plt\n",
    "from datetime import datetime\n",
    "from tqdm.notebook import tqdm\n",
    "tqdm.pandas()\n",
    "\n",
    "module_path = os.path.abspath(os.path.join('..'))\n",
    "if module_path not in sys.path:\n",
    "    sys.path.append(module_path)\n",
    "from code_utils.zotero import get_data_from_zotero\n",
    "from code_utils.glutton import get_doi_glutton\n",
    "from code_utils.utils import get_doi_cleaned,aplatir,wg_chap_to_dict,get_year_ipbes,check_doi_glutton\n",
    "from code_utils.pickle import load_cache,write_cache\n",
    "from code_utils.enriching_data_OpenAlex import get_countries_concepts_sdg,get_open_alex_data,get_open_alex_data_not_in_references"
   ]
  },
  {
   "cell_type": "code",
   "execution_count": 2,
   "id": "9061c147",
   "metadata": {},
   "outputs": [],
   "source": [
    "cached_openalex_data_ipbes = {}\n",
    "cached_openalex_data_not_ipbes = {}"
   ]
  },
  {
   "cell_type": "code",
   "execution_count": 3,
   "id": "dde30c87",
   "metadata": {},
   "outputs": [
    {
     "name": "stdout",
     "output_type": "stream",
     "text": [
      "6607 data in cached openalex data\n",
      "70 data in cached openalex data\n"
     ]
    }
   ],
   "source": [
    "try:\n",
    "    cached_openalex_data_ipbes = load_cache(cached_openalex_data_ipbes,module_path+'\\\\IPCC_bibliography\\\\AR6\\\\structured_data\\\\cached_openalex_data_ipbes.pkl')\n",
    "    cached_openalex_data_not_ipbes = load_cache(cached_openalex_data_ipbes,module_path+'\\\\IPCC_bibliography\\\\AR6\\\\structured_data\\\\cached_openalex_data_not_ipbes.pkl')\n",
    "except:\n",
    "    #write_cache(cached_openalex_data_ipbes,module_path+'\\\\IPCC_bibliography\\\\AR6\\\\structured_data\\\\cached_openalex_data_ipbes.pkl')\n",
    "    #write_cache(cached_openalex_data_not_ipbes,module_path+'\\\\IPCC_bibliography\\\\AR6\\\\structured_data\\\\cached_openalex_data_not_ipbes.pkl')\n",
    "    print('oups')"
   ]
  },
  {
   "cell_type": "markdown",
   "id": "15bcf112",
   "metadata": {},
   "source": [
    "Read IPBES references in zotero files"
   ]
  },
  {
   "cell_type": "code",
   "execution_count": null,
   "id": "72fbfc65",
   "metadata": {},
   "outputs": [],
   "source": [
    "ZOTERO_KEY = os.getenv('ZOTERO_KEY')\n",
    "IPBES_ZOTERO_ID = '2333077'\n",
    "COLLECTION_IDS = ['8DQ8YFJI','JR5LKU4U','LBFNF62B','7IMYH9U3','DRZLUY9K','KTPTCAVF','UWNSUNXQ','BJGWRJAK','JT8FJXP6']\n",
    "CHAPTER_IDS=['1','2.1','2.2','2.3','3','4','5','6','glossary']\n",
    "ALL_COLLECTIONS={}"
   ]
  },
  {
   "cell_type": "code",
   "execution_count": null,
   "id": "cba99ee3",
   "metadata": {},
   "outputs": [],
   "source": [
    "ALL_COLLECTIONS=get_data_from_zotero(ZOTERO_KEY,IPBES_ZOTERO_ID,COLLECTION_IDS,CHAPTER_IDS,ALL_COLLECTIONS)"
   ]
  },
  {
   "cell_type": "code",
   "execution_count": null,
   "id": "5fdc2bb5",
   "metadata": {},
   "outputs": [],
   "source": [
    "df_ipbes_chap={}\n",
    "for i in range(len(COLLECTION_IDS)):\n",
    "    df_ipbes_chap[CHAPTER_IDS[i]]=pd.DataFrame(list(pd.DataFrame(ALL_COLLECTIONS[f'collection_chapter_{CHAPTER_IDS[i]}']).data))[['DOI','title','date','creators','tags']]\n",
    "    df_ipbes_chap[CHAPTER_IDS[i]]['chap']=f'chap_{CHAPTER_IDS[i]}'\n",
    "    print(f'{len(df_ipbes_chap[CHAPTER_IDS[i]][~pd.isna(df_ipbes_chap[CHAPTER_IDS[i]].DOI)])/len(df_ipbes_chap[CHAPTER_IDS[i]])*100} % doi available for chapter {CHAPTER_IDS[i]}')"
   ]
  },
  {
   "cell_type": "markdown",
   "id": "98a44a20",
   "metadata": {},
   "source": [
    "Clean and enrich data "
   ]
  },
  {
   "cell_type": "code",
   "execution_count": null,
   "id": "9e44246d",
   "metadata": {},
   "outputs": [],
   "source": [
    "df_ipbes=pd.concat(list(df_ipbes_chap.values())).reset_index()\n",
    "del df_ipbes['index']"
   ]
  },
  {
   "cell_type": "code",
   "execution_count": null,
   "id": "09792a77",
   "metadata": {},
   "outputs": [],
   "source": [
    "len(df_ipbes[~pd.isna(df_ipbes.DOI)])/len(df_ipbes)*100"
   ]
  },
  {
   "cell_type": "code",
   "execution_count": null,
   "id": "9ceaa53c",
   "metadata": {},
   "outputs": [],
   "source": [
    "get_doi_glutton(df_ipbes.iloc[1,:])"
   ]
  },
  {
   "cell_type": "code",
   "execution_count": null,
   "id": "90933b7e",
   "metadata": {},
   "outputs": [],
   "source": [
    "df_ipbes.loc[pd.isna(df_ipbes.DOI),'DOI']=df_ipbes.loc[pd.isna(df_ipbes.DOI),:].progress_apply(get_doi_glutton, axis=1)"
   ]
  },
  {
   "cell_type": "code",
   "execution_count": null,
   "id": "b4ccc254",
   "metadata": {},
   "outputs": [],
   "source": [
    "len(df_ipbes[~pd.isna(df_ipbes.DOI)])/len(df_ipbes)*100"
   ]
  },
  {
   "cell_type": "code",
   "execution_count": null,
   "id": "25ae7b2a",
   "metadata": {},
   "outputs": [],
   "source": [
    "df_ipbes.loc[:,'DOI']=df_ipbes.loc[:,'DOI'].apply(lambda x: get_doi_cleaned(x))\n",
    "df_ipbes.loc[:,'DOI']=df_ipbes.loc[:,'DOI'].apply(lambda x: None if str(x)[:4]=='http' else x)\n",
    "df_ipbes['freq']=1\n",
    "df_ipbes=df_ipbes.rename(columns={'DOI':'doi'})"
   ]
  },
  {
   "cell_type": "markdown",
   "id": "8ca0842d",
   "metadata": {},
   "source": [
    "Enriching data through OpenAlex API integration"
   ]
  },
  {
   "cell_type": "code",
   "execution_count": null,
   "id": "ae7af54e",
   "metadata": {},
   "outputs": [],
   "source": [
    "df_unique_doi=df_ipbes.groupby(by=['doi'], dropna=True).agg({'chap': lambda x: list(x), 'freq': 'sum'})\n",
    "df_unique_doi=df_unique_doi.reset_index()"
   ]
  },
  {
   "cell_type": "code",
   "execution_count": null,
   "id": "930eeae1",
   "metadata": {},
   "outputs": [],
   "source": [
    "#get data_OpenAlex from the API \n",
    "df_unique_doi.apply(lambda row: get_open_alex_data(cached_openalex_data_ipbes,row['doi']), axis= 1)"
   ]
  },
  {
   "cell_type": "code",
   "execution_count": null,
   "id": "cddfdcb0",
   "metadata": {},
   "outputs": [],
   "source": [
    "len(cached_openalex_data_ipbes)"
   ]
  },
  {
   "cell_type": "code",
   "execution_count": null,
   "id": "e85d32d5",
   "metadata": {},
   "outputs": [],
   "source": [
    "#write_cache(cached_openalex_data_ipbes,module_path+'\\\\IPCC_bibliography\\\\AR6\\\\structured_data\\\\cached_openalex_data_ipbes.pkl')"
   ]
  },
  {
   "cell_type": "code",
   "execution_count": 41,
   "id": "5202723a",
   "metadata": {},
   "outputs": [],
   "source": [
    "df_ipbes=pd.read_json(module_path+'\\\\IPCC_bibliography\\\\AR6\\\\structured_data\\\\data_ipbes_visualization.json')"
   ]
  },
  {
   "cell_type": "code",
   "execution_count": 42,
   "id": "f8c77753",
   "metadata": {},
   "outputs": [],
   "source": [
    "df_unique_doi=df_ipbes['doi'].drop_duplicates().dropna()\n",
    "df_unique_doi=pd.DataFrame({'doi':list(df_unique_doi)})"
   ]
  },
  {
   "cell_type": "code",
   "execution_count": 43,
   "id": "df2254b8",
   "metadata": {},
   "outputs": [],
   "source": [
    "countries_list = []\n",
    "concepts_list = []\n",
    "sdg_list = []\n",
    "topics_list = []\n",
    "is_OA_available_list=[]\n",
    "title_list=[]\n",
    "year_list=[]\n",
    "names_list=[]\n",
    "rors_list=[]\n",
    "institutions_names_list=[]\n",
    "locations_list=[]\n",
    "\n",
    "for i,row in df_unique_doi.iterrows():\n",
    "    countries,concepts,sdg,year,topics,doi,bool_OA,title,name,rors,institutions_names,locations_names=get_countries_concepts_sdg(cached_openalex_data_ipbes,row,ipcc=True,i=0)\n",
    "\n",
    "    countries_list.append(countries)\n",
    "    concepts_list.append(concepts)\n",
    "    sdg_list.append(sdg)\n",
    "    topics_list.append(topics)  \n",
    "    is_OA_available_list.append(bool_OA)\n",
    "    title_list.append(title)\n",
    "    year_list.append(year)\n",
    "    names_list.append(name)\n",
    "    rors_list.append(rors)\n",
    "    institutions_names_list.append(institutions_names)\n",
    "    locations_list.append(locations_names)\n",
    "\n",
    "df_unique_doi['countries'] = countries_list\n",
    "df_unique_doi['concepts'] = concepts_list\n",
    "df_unique_doi['sdg'] = sdg_list\n",
    "df_unique_doi['topics'] = topics_list\n",
    "df_unique_doi['is_OA_available'] = is_OA_available_list\n",
    "df_unique_doi['year_OA'] = year_list\n",
    "df_unique_doi['authors_name'] = names_list\n",
    "df_unique_doi['rors'] = rors_list\n",
    "df_unique_doi['institutions_names'] = institutions_names_list\n",
    "df_unique_doi['locations_names'] = locations_list"
   ]
  },
  {
   "cell_type": "code",
   "execution_count": 44,
   "id": "478ecfa9",
   "metadata": {},
   "outputs": [
    {
     "data": {
      "text/plain": [
       "is_OA_available\n",
       "True     6581\n",
       "False      24\n",
       "Name: count, dtype: int64"
      ]
     },
     "execution_count": 44,
     "metadata": {},
     "output_type": "execute_result"
    }
   ],
   "source": [
    "df_unique_doi.is_OA_available.value_counts()"
   ]
  },
  {
   "cell_type": "code",
   "execution_count": 45,
   "id": "6d32bec2",
   "metadata": {},
   "outputs": [],
   "source": [
    "df_unique_doi=df_unique_doi[df_unique_doi.is_OA_available]"
   ]
  },
  {
   "cell_type": "code",
   "execution_count": 46,
   "id": "68a49e23",
   "metadata": {},
   "outputs": [],
   "source": [
    "df_unique_doi=df_unique_doi.reset_index()\n",
    "del df_unique_doi['index']"
   ]
  },
  {
   "cell_type": "code",
   "execution_count": 12,
   "id": "b31ee6ad",
   "metadata": {},
   "outputs": [],
   "source": [
    "df_unique_doi.to_json(module_path+'\\\\IPCC_bibliography\\\\AR6\\\\structured_data\\\\data_ipbes_visualization2.json')"
   ]
  },
  {
   "cell_type": "markdown",
   "id": "d070eddb",
   "metadata": {},
   "source": [
    "Visualization of the contribution of each countries in ipcc references"
   ]
  },
  {
   "cell_type": "code",
   "execution_count": 47,
   "id": "fd351e55",
   "metadata": {},
   "outputs": [],
   "source": [
    "df_ipbes=pd.merge(df_ipbes[['doi', 'title', 'date', 'creators', 'tags']], df_unique_doi, on='doi', how='inner')"
   ]
  },
  {
   "cell_type": "code",
   "execution_count": 48,
   "id": "7e9989c5",
   "metadata": {},
   "outputs": [
    {
     "data": {
      "text/html": [
       "<div>\n",
       "<style scoped>\n",
       "    .dataframe tbody tr th:only-of-type {\n",
       "        vertical-align: middle;\n",
       "    }\n",
       "\n",
       "    .dataframe tbody tr th {\n",
       "        vertical-align: top;\n",
       "    }\n",
       "\n",
       "    .dataframe thead th {\n",
       "        text-align: right;\n",
       "    }\n",
       "</style>\n",
       "<table border=\"1\" class=\"dataframe\">\n",
       "  <thead>\n",
       "    <tr style=\"text-align: right;\">\n",
       "      <th></th>\n",
       "      <th>doi</th>\n",
       "      <th>title</th>\n",
       "      <th>date</th>\n",
       "      <th>creators</th>\n",
       "      <th>tags</th>\n",
       "      <th>countries</th>\n",
       "      <th>concepts</th>\n",
       "      <th>sdg</th>\n",
       "      <th>topics</th>\n",
       "      <th>is_OA_available</th>\n",
       "      <th>year_OA</th>\n",
       "      <th>authors_name</th>\n",
       "      <th>rors</th>\n",
       "      <th>institutions_names</th>\n",
       "      <th>locations_names</th>\n",
       "    </tr>\n",
       "  </thead>\n",
       "  <tbody>\n",
       "    <tr>\n",
       "      <th>0</th>\n",
       "      <td>10.1890/1051-0761(2000)010[1251:roteka]2.0.co;2</td>\n",
       "      <td>REDISCOVERY OF TRADITIONAL ECOLOGICAL KNOWLEDG...</td>\n",
       "      <td>10/2000</td>\n",
       "      <td>[{'creatorType': 'author', 'firstName': 'Fikre...</td>\n",
       "      <td>[{'tag': 'ipbes-global_chapter1'}, {'tag': 'ip...</td>\n",
       "      <td>[CA, SE]</td>\n",
       "      <td>[{'name': 'Traditional knowledge'}, {'name': '...</td>\n",
       "      <td>[{'id': '15', 'name': 'Life on land'}]</td>\n",
       "      <td>[{'name': 'Drivers and Impacts of Tropical Def...</td>\n",
       "      <td>True</td>\n",
       "      <td>2000.0</td>\n",
       "      <td>[{'Fikret Berkes': ['CA']}, {'Johan Colding': ...</td>\n",
       "      <td>[[{'https://ror.org/02gfys938': 'CA'}], [{'htt...</td>\n",
       "      <td>[[{'University of Manitoba': 'CA'}], [{'Royal ...</td>\n",
       "      <td>[Ecological Applications]</td>\n",
       "    </tr>\n",
       "    <tr>\n",
       "      <th>1</th>\n",
       "      <td>10.1890/1051-0761(2000)010[1251:roteka]2.0.co;2</td>\n",
       "      <td>REDISCOVERY OF TRADITIONAL ECOLOGICAL KNOWLEDG...</td>\n",
       "      <td>10/2000</td>\n",
       "      <td>[{'creatorType': 'author', 'firstName': 'Fikre...</td>\n",
       "      <td>[{'tag': 'ipbes-global_chapter1'}, {'tag': 'ip...</td>\n",
       "      <td>[CA, SE]</td>\n",
       "      <td>[{'name': 'Traditional knowledge'}, {'name': '...</td>\n",
       "      <td>[{'id': '15', 'name': 'Life on land'}]</td>\n",
       "      <td>[{'name': 'Drivers and Impacts of Tropical Def...</td>\n",
       "      <td>True</td>\n",
       "      <td>2000.0</td>\n",
       "      <td>[{'Fikret Berkes': ['CA']}, {'Johan Colding': ...</td>\n",
       "      <td>[[{'https://ror.org/02gfys938': 'CA'}], [{'htt...</td>\n",
       "      <td>[[{'University of Manitoba': 'CA'}], [{'Royal ...</td>\n",
       "      <td>[Ecological Applications]</td>\n",
       "    </tr>\n",
       "    <tr>\n",
       "      <th>2</th>\n",
       "      <td>10.1890/1051-0761(2000)010[1251:roteka]2.0.co;2</td>\n",
       "      <td>REDISCOVERY OF TRADITIONAL ECOLOGICAL KNOWLEDG...</td>\n",
       "      <td>10/2000</td>\n",
       "      <td>[{'creatorType': 'author', 'firstName': 'Fikre...</td>\n",
       "      <td>[{'tag': 'ipbes-global_chapter1'}, {'tag': 'ip...</td>\n",
       "      <td>[CA, SE]</td>\n",
       "      <td>[{'name': 'Traditional knowledge'}, {'name': '...</td>\n",
       "      <td>[{'id': '15', 'name': 'Life on land'}]</td>\n",
       "      <td>[{'name': 'Drivers and Impacts of Tropical Def...</td>\n",
       "      <td>True</td>\n",
       "      <td>2000.0</td>\n",
       "      <td>[{'Fikret Berkes': ['CA']}, {'Johan Colding': ...</td>\n",
       "      <td>[[{'https://ror.org/02gfys938': 'CA'}], [{'htt...</td>\n",
       "      <td>[[{'University of Manitoba': 'CA'}], [{'Royal ...</td>\n",
       "      <td>[Ecological Applications]</td>\n",
       "    </tr>\n",
       "    <tr>\n",
       "      <th>3</th>\n",
       "      <td>10.1016/j.gloenvcha.2013.12.012</td>\n",
       "      <td>Evaluating knowledge exchange in interdiscipli...</td>\n",
       "      <td>2014</td>\n",
       "      <td>[{'creatorType': 'author', 'firstName': 'Ioan'...</td>\n",
       "      <td>[{'tag': 'ipbes-global_chapter1'}]</td>\n",
       "      <td>[GB]</td>\n",
       "      <td>[{'name': 'Knowledge management'}, {'name': 'S...</td>\n",
       "      <td>[{'id': '15', 'name': 'Life on land'}]</td>\n",
       "      <td>[{'name': 'Sustainability Transitions and Resi...</td>\n",
       "      <td>True</td>\n",
       "      <td>2014.0</td>\n",
       "      <td>[{'Ioan Fazey': ['GB']}, {'Lukas Bunse': ['GB'...</td>\n",
       "      <td>[[{'https://ror.org/03h2bxq36': 'GB'}], [{'htt...</td>\n",
       "      <td>[[{'University of Dundee': 'GB'}], [{'Universi...</td>\n",
       "      <td>[Global Environmental Change]</td>\n",
       "    </tr>\n",
       "    <tr>\n",
       "      <th>4</th>\n",
       "      <td>10.5751/es-07868-200344</td>\n",
       "      <td>Multiple telecouplings and their complex inter...</td>\n",
       "      <td>2015</td>\n",
       "      <td>[{'creatorType': 'author', 'firstName': 'Jiang...</td>\n",
       "      <td>[{'tag': 'ipbes-global_chapter1'}, {'tag': 'ip...</td>\n",
       "      <td>[]</td>\n",
       "      <td>[{'name': 'Zhàng'}, {'name': 'Ecology'}, {'nam...</td>\n",
       "      <td>None</td>\n",
       "      <td>[{'name': 'Global Analysis of Ecosystem Servic...</td>\n",
       "      <td>True</td>\n",
       "      <td>2015.0</td>\n",
       "      <td>[{'Jianguo Liu': []}, {'Vanessa Hull': []}, {'...</td>\n",
       "      <td>[[], [], [], [], [], [], [], [], [], [], [], [...</td>\n",
       "      <td>[[], [], [], [], [], [], [], [], [], [], [], [...</td>\n",
       "      <td>[Ecology and Society, DOAJ (DOAJ: Directory of...</td>\n",
       "    </tr>\n",
       "    <tr>\n",
       "      <th>...</th>\n",
       "      <td>...</td>\n",
       "      <td>...</td>\n",
       "      <td>...</td>\n",
       "      <td>...</td>\n",
       "      <td>...</td>\n",
       "      <td>...</td>\n",
       "      <td>...</td>\n",
       "      <td>...</td>\n",
       "      <td>...</td>\n",
       "      <td>...</td>\n",
       "      <td>...</td>\n",
       "      <td>...</td>\n",
       "      <td>...</td>\n",
       "      <td>...</td>\n",
       "      <td>...</td>\n",
       "    </tr>\n",
       "    <tr>\n",
       "      <th>7501</th>\n",
       "      <td>10.1016/b978-0-444-52512-3.00231-x</td>\n",
       "      <td>Domestication of Plants</td>\n",
       "      <td>2014</td>\n",
       "      <td>[{'creatorType': 'author', 'firstName': 'P.', ...</td>\n",
       "      <td>[{'tag': 'ipbes-global_glossary'}]</td>\n",
       "      <td>[US]</td>\n",
       "      <td>[{'name': 'Domestication'}, {'name': 'Agricult...</td>\n",
       "      <td>[{'id': '2', 'name': 'Zero hunger'}]</td>\n",
       "      <td>[{'name': 'Impact of Pollinator Decline on Eco...</td>\n",
       "      <td>True</td>\n",
       "      <td>2014.0</td>\n",
       "      <td>[{'Paul Gepts': ['US']}]</td>\n",
       "      <td>[[{'https://ror.org/05rrcem69': 'US'}]]</td>\n",
       "      <td>[[{'University of California, Davis': 'US'}]]</td>\n",
       "      <td>[Elsevier eBooks]</td>\n",
       "    </tr>\n",
       "    <tr>\n",
       "      <th>7502</th>\n",
       "      <td>10.1016/s0021-8502(99)00571-6</td>\n",
       "      <td>Aerosol technology : properties, behavior, and...</td>\n",
       "      <td>1999</td>\n",
       "      <td>[{'creatorType': 'author', 'firstName': 'Willi...</td>\n",
       "      <td>[{'tag': 'ipbes-global_glossary'}]</td>\n",
       "      <td>[US]</td>\n",
       "      <td>[{'name': 'Aerosol'}, {'name': 'Environmental ...</td>\n",
       "      <td>[{'id': '7', 'name': 'Affordable and clean ene...</td>\n",
       "      <td>[{'name': 'Estimating Vehicle Fuel Consumption...</td>\n",
       "      <td>True</td>\n",
       "      <td>2000.0</td>\n",
       "      <td>[{'M.L. Laucks': ['US']}]</td>\n",
       "      <td>[[{'https://ror.org/00cvxb145': 'US'}]]</td>\n",
       "      <td>[[{'University of Washington': 'US'}]]</td>\n",
       "      <td>[Journal of Aerosol Science]</td>\n",
       "    </tr>\n",
       "    <tr>\n",
       "      <th>7503</th>\n",
       "      <td>10.1201/9781315153292-16</td>\n",
       "      <td>Integrated Water Resources Management in Action</td>\n",
       "      <td>2009</td>\n",
       "      <td>[{'creatorType': 'author', 'firstName': 'Jan',...</td>\n",
       "      <td>[{'tag': 'ipbes-global_glossary'}]</td>\n",
       "      <td>[]</td>\n",
       "      <td>[{'name': 'Business'}, {'name': 'Environmental...</td>\n",
       "      <td>[{'id': '6', 'name': 'Clean water and sanitati...</td>\n",
       "      <td>[{'name': 'Hydrological Modeling and Water Res...</td>\n",
       "      <td>True</td>\n",
       "      <td>2017.0</td>\n",
       "      <td>[{'N. C. Ghosh': []}]</td>\n",
       "      <td>[[]]</td>\n",
       "      <td>[[]]</td>\n",
       "      <td>[CRC Press eBooks]</td>\n",
       "    </tr>\n",
       "    <tr>\n",
       "      <th>7504</th>\n",
       "      <td>10.1002/9780470015902.a0021226</td>\n",
       "      <td>Ecosystem Engineers</td>\n",
       "      <td>2008</td>\n",
       "      <td>[{'creatorType': 'author', 'firstName': 'Jorge...</td>\n",
       "      <td>[{'tag': 'ipbes-global_glossary'}]</td>\n",
       "      <td>[US, AR]</td>\n",
       "      <td>[{'name': 'Ecosystem'}, {'name': 'Abiotic comp...</td>\n",
       "      <td>[{'id': '15', 'name': 'Life on land'}]</td>\n",
       "      <td>[{'name': 'Ecological Impact of Beaver Activit...</td>\n",
       "      <td>True</td>\n",
       "      <td>2008.0</td>\n",
       "      <td>[{'Jorge L Guti��rrez': ['AR']}, {'Clive G. Jo...</td>\n",
       "      <td>[[{'https://ror.org/055eqsb67': 'AR'}], [{'htt...</td>\n",
       "      <td>[[{'National University of Mar del Plata': 'AR...</td>\n",
       "      <td>[Encyclopedia of Life Sciences]</td>\n",
       "    </tr>\n",
       "    <tr>\n",
       "      <th>7505</th>\n",
       "      <td>10.5771/9783828876187-95</td>\n",
       "      <td>Annex I: Glossary</td>\n",
       "      <td>2018</td>\n",
       "      <td>[{'creatorType': 'author', 'firstName': '', 'l...</td>\n",
       "      <td>[{'tag': 'ipbes-global_glossary'}]</td>\n",
       "      <td>[]</td>\n",
       "      <td>[{'name': 'Glossary'}, {'name': 'History'}, {'...</td>\n",
       "      <td>None</td>\n",
       "      <td>None</td>\n",
       "      <td>True</td>\n",
       "      <td>2020.0</td>\n",
       "      <td>[{'John N. T. Helferich': []}]</td>\n",
       "      <td>[[]]</td>\n",
       "      <td>[[]]</td>\n",
       "      <td>[Tectum – ein Verlag in der Nomos Verlagsgesel...</td>\n",
       "    </tr>\n",
       "  </tbody>\n",
       "</table>\n",
       "<p>7506 rows × 15 columns</p>\n",
       "</div>"
      ],
      "text/plain": [
       "                                                  doi  \\\n",
       "0     10.1890/1051-0761(2000)010[1251:roteka]2.0.co;2   \n",
       "1     10.1890/1051-0761(2000)010[1251:roteka]2.0.co;2   \n",
       "2     10.1890/1051-0761(2000)010[1251:roteka]2.0.co;2   \n",
       "3                     10.1016/j.gloenvcha.2013.12.012   \n",
       "4                             10.5751/es-07868-200344   \n",
       "...                                               ...   \n",
       "7501               10.1016/b978-0-444-52512-3.00231-x   \n",
       "7502                    10.1016/s0021-8502(99)00571-6   \n",
       "7503                         10.1201/9781315153292-16   \n",
       "7504                   10.1002/9780470015902.a0021226   \n",
       "7505                         10.5771/9783828876187-95   \n",
       "\n",
       "                                                  title     date  \\\n",
       "0     REDISCOVERY OF TRADITIONAL ECOLOGICAL KNOWLEDG...  10/2000   \n",
       "1     REDISCOVERY OF TRADITIONAL ECOLOGICAL KNOWLEDG...  10/2000   \n",
       "2     REDISCOVERY OF TRADITIONAL ECOLOGICAL KNOWLEDG...  10/2000   \n",
       "3     Evaluating knowledge exchange in interdiscipli...     2014   \n",
       "4     Multiple telecouplings and their complex inter...     2015   \n",
       "...                                                 ...      ...   \n",
       "7501                            Domestication of Plants     2014   \n",
       "7502  Aerosol technology : properties, behavior, and...     1999   \n",
       "7503    Integrated Water Resources Management in Action     2009   \n",
       "7504                                Ecosystem Engineers     2008   \n",
       "7505                                  Annex I: Glossary     2018   \n",
       "\n",
       "                                               creators  \\\n",
       "0     [{'creatorType': 'author', 'firstName': 'Fikre...   \n",
       "1     [{'creatorType': 'author', 'firstName': 'Fikre...   \n",
       "2     [{'creatorType': 'author', 'firstName': 'Fikre...   \n",
       "3     [{'creatorType': 'author', 'firstName': 'Ioan'...   \n",
       "4     [{'creatorType': 'author', 'firstName': 'Jiang...   \n",
       "...                                                 ...   \n",
       "7501  [{'creatorType': 'author', 'firstName': 'P.', ...   \n",
       "7502  [{'creatorType': 'author', 'firstName': 'Willi...   \n",
       "7503  [{'creatorType': 'author', 'firstName': 'Jan',...   \n",
       "7504  [{'creatorType': 'author', 'firstName': 'Jorge...   \n",
       "7505  [{'creatorType': 'author', 'firstName': '', 'l...   \n",
       "\n",
       "                                                   tags countries  \\\n",
       "0     [{'tag': 'ipbes-global_chapter1'}, {'tag': 'ip...  [CA, SE]   \n",
       "1     [{'tag': 'ipbes-global_chapter1'}, {'tag': 'ip...  [CA, SE]   \n",
       "2     [{'tag': 'ipbes-global_chapter1'}, {'tag': 'ip...  [CA, SE]   \n",
       "3                    [{'tag': 'ipbes-global_chapter1'}]      [GB]   \n",
       "4     [{'tag': 'ipbes-global_chapter1'}, {'tag': 'ip...        []   \n",
       "...                                                 ...       ...   \n",
       "7501                 [{'tag': 'ipbes-global_glossary'}]      [US]   \n",
       "7502                 [{'tag': 'ipbes-global_glossary'}]      [US]   \n",
       "7503                 [{'tag': 'ipbes-global_glossary'}]        []   \n",
       "7504                 [{'tag': 'ipbes-global_glossary'}]  [US, AR]   \n",
       "7505                 [{'tag': 'ipbes-global_glossary'}]        []   \n",
       "\n",
       "                                               concepts  \\\n",
       "0     [{'name': 'Traditional knowledge'}, {'name': '...   \n",
       "1     [{'name': 'Traditional knowledge'}, {'name': '...   \n",
       "2     [{'name': 'Traditional knowledge'}, {'name': '...   \n",
       "3     [{'name': 'Knowledge management'}, {'name': 'S...   \n",
       "4     [{'name': 'Zhàng'}, {'name': 'Ecology'}, {'nam...   \n",
       "...                                                 ...   \n",
       "7501  [{'name': 'Domestication'}, {'name': 'Agricult...   \n",
       "7502  [{'name': 'Aerosol'}, {'name': 'Environmental ...   \n",
       "7503  [{'name': 'Business'}, {'name': 'Environmental...   \n",
       "7504  [{'name': 'Ecosystem'}, {'name': 'Abiotic comp...   \n",
       "7505  [{'name': 'Glossary'}, {'name': 'History'}, {'...   \n",
       "\n",
       "                                                    sdg  \\\n",
       "0                [{'id': '15', 'name': 'Life on land'}]   \n",
       "1                [{'id': '15', 'name': 'Life on land'}]   \n",
       "2                [{'id': '15', 'name': 'Life on land'}]   \n",
       "3                [{'id': '15', 'name': 'Life on land'}]   \n",
       "4                                                  None   \n",
       "...                                                 ...   \n",
       "7501               [{'id': '2', 'name': 'Zero hunger'}]   \n",
       "7502  [{'id': '7', 'name': 'Affordable and clean ene...   \n",
       "7503  [{'id': '6', 'name': 'Clean water and sanitati...   \n",
       "7504             [{'id': '15', 'name': 'Life on land'}]   \n",
       "7505                                               None   \n",
       "\n",
       "                                                 topics  is_OA_available  \\\n",
       "0     [{'name': 'Drivers and Impacts of Tropical Def...             True   \n",
       "1     [{'name': 'Drivers and Impacts of Tropical Def...             True   \n",
       "2     [{'name': 'Drivers and Impacts of Tropical Def...             True   \n",
       "3     [{'name': 'Sustainability Transitions and Resi...             True   \n",
       "4     [{'name': 'Global Analysis of Ecosystem Servic...             True   \n",
       "...                                                 ...              ...   \n",
       "7501  [{'name': 'Impact of Pollinator Decline on Eco...             True   \n",
       "7502  [{'name': 'Estimating Vehicle Fuel Consumption...             True   \n",
       "7503  [{'name': 'Hydrological Modeling and Water Res...             True   \n",
       "7504  [{'name': 'Ecological Impact of Beaver Activit...             True   \n",
       "7505                                               None             True   \n",
       "\n",
       "      year_OA                                       authors_name  \\\n",
       "0      2000.0  [{'Fikret Berkes': ['CA']}, {'Johan Colding': ...   \n",
       "1      2000.0  [{'Fikret Berkes': ['CA']}, {'Johan Colding': ...   \n",
       "2      2000.0  [{'Fikret Berkes': ['CA']}, {'Johan Colding': ...   \n",
       "3      2014.0  [{'Ioan Fazey': ['GB']}, {'Lukas Bunse': ['GB'...   \n",
       "4      2015.0  [{'Jianguo Liu': []}, {'Vanessa Hull': []}, {'...   \n",
       "...       ...                                                ...   \n",
       "7501   2014.0                           [{'Paul Gepts': ['US']}]   \n",
       "7502   2000.0                          [{'M.L. Laucks': ['US']}]   \n",
       "7503   2017.0                              [{'N. C. Ghosh': []}]   \n",
       "7504   2008.0  [{'Jorge L Guti��rrez': ['AR']}, {'Clive G. Jo...   \n",
       "7505   2020.0                     [{'John N. T. Helferich': []}]   \n",
       "\n",
       "                                                   rors  \\\n",
       "0     [[{'https://ror.org/02gfys938': 'CA'}], [{'htt...   \n",
       "1     [[{'https://ror.org/02gfys938': 'CA'}], [{'htt...   \n",
       "2     [[{'https://ror.org/02gfys938': 'CA'}], [{'htt...   \n",
       "3     [[{'https://ror.org/03h2bxq36': 'GB'}], [{'htt...   \n",
       "4     [[], [], [], [], [], [], [], [], [], [], [], [...   \n",
       "...                                                 ...   \n",
       "7501            [[{'https://ror.org/05rrcem69': 'US'}]]   \n",
       "7502            [[{'https://ror.org/00cvxb145': 'US'}]]   \n",
       "7503                                               [[]]   \n",
       "7504  [[{'https://ror.org/055eqsb67': 'AR'}], [{'htt...   \n",
       "7505                                               [[]]   \n",
       "\n",
       "                                     institutions_names  \\\n",
       "0     [[{'University of Manitoba': 'CA'}], [{'Royal ...   \n",
       "1     [[{'University of Manitoba': 'CA'}], [{'Royal ...   \n",
       "2     [[{'University of Manitoba': 'CA'}], [{'Royal ...   \n",
       "3     [[{'University of Dundee': 'GB'}], [{'Universi...   \n",
       "4     [[], [], [], [], [], [], [], [], [], [], [], [...   \n",
       "...                                                 ...   \n",
       "7501      [[{'University of California, Davis': 'US'}]]   \n",
       "7502             [[{'University of Washington': 'US'}]]   \n",
       "7503                                               [[]]   \n",
       "7504  [[{'National University of Mar del Plata': 'AR...   \n",
       "7505                                               [[]]   \n",
       "\n",
       "                                        locations_names  \n",
       "0                             [Ecological Applications]  \n",
       "1                             [Ecological Applications]  \n",
       "2                             [Ecological Applications]  \n",
       "3                         [Global Environmental Change]  \n",
       "4     [Ecology and Society, DOAJ (DOAJ: Directory of...  \n",
       "...                                                 ...  \n",
       "7501                                  [Elsevier eBooks]  \n",
       "7502                       [Journal of Aerosol Science]  \n",
       "7503                                 [CRC Press eBooks]  \n",
       "7504                    [Encyclopedia of Life Sciences]  \n",
       "7505  [Tectum – ein Verlag in der Nomos Verlagsgesel...  \n",
       "\n",
       "[7506 rows x 15 columns]"
      ]
     },
     "execution_count": 48,
     "metadata": {},
     "output_type": "execute_result"
    }
   ],
   "source": [
    "df_ipbes"
   ]
  },
  {
   "cell_type": "code",
   "execution_count": 49,
   "id": "04560cca",
   "metadata": {},
   "outputs": [],
   "source": [
    "df_ipbes['year']=df_ipbes['date'].apply(lambda x: get_year_ipbes(x) if pd.isna(x)==False else None)"
   ]
  },
  {
   "cell_type": "code",
   "execution_count": 52,
   "id": "128a6434",
   "metadata": {},
   "outputs": [
    {
     "data": {
      "text/plain": [
       "check\n",
       "True     6938\n",
       "False     568\n",
       "Name: count, dtype: int64"
      ]
     },
     "execution_count": 52,
     "metadata": {},
     "output_type": "execute_result"
    }
   ],
   "source": [
    "df_ipbes['check']=df_ipbes.apply(lambda row: check_doi_glutton(row), axis=1)\n",
    "df_ipbes.check.value_counts()"
   ]
  },
  {
   "cell_type": "code",
   "execution_count": 53,
   "id": "eac33967",
   "metadata": {},
   "outputs": [],
   "source": [
    "df_ipbes=df_ipbes[(df_ipbes.check) & (pd.isna(df_ipbes['is_OA_available'])==False)]"
   ]
  },
  {
   "cell_type": "code",
   "execution_count": 54,
   "id": "2b9ac07a",
   "metadata": {},
   "outputs": [],
   "source": [
    "del df_ipbes['check']"
   ]
  },
  {
   "cell_type": "code",
   "execution_count": 57,
   "id": "ca508588",
   "metadata": {},
   "outputs": [],
   "source": [
    "df_ipbes.loc[:,'countries']=df_ipbes.loc[:,'countries'].apply(lambda x: str(x).replace('nan','None').replace('[]','None').replace('[None]','None') if ((str(x)=='nan')|(str(x)=='[None]')|((str(x)=='[]'))) else x )\n",
    "df_ipbes.loc[:,'countries']=df_ipbes.loc[:,'countries'].apply(lambda x: ['None'] if x=='None' else x)"
   ]
  },
  {
   "cell_type": "code",
   "execution_count": 59,
   "id": "574b3850",
   "metadata": {},
   "outputs": [],
   "source": [
    "df_ipbes.to_json(module_path+'\\\\IPCC_bibliography\\\\AR6\\\\structured_data\\\\data_ipbes_visualization.json', orient='records')"
   ]
  },
  {
   "cell_type": "code",
   "execution_count": null,
   "id": "c0f4ee5a",
   "metadata": {},
   "outputs": [],
   "source": [
    "df_ipbes.columns"
   ]
  },
  {
   "cell_type": "code",
   "execution_count": null,
   "id": "c5402aff",
   "metadata": {},
   "outputs": [],
   "source": [
    "data_counts = pd.Series(aplatir(list(df_ipbes['countries']))).value_counts().drop('None')"
   ]
  },
  {
   "cell_type": "code",
   "execution_count": null,
   "id": "e0f2d648",
   "metadata": {},
   "outputs": [],
   "source": [
    "plt.figure(figsize=(10, 6))\n",
    "data_counts[:20].plot(kind='bar')\n",
    "ax = data_counts[:20].plot(kind='bar')\n",
    "for i, v in enumerate(data_counts[:20]):\n",
    "    ax.text(i, v + 0.1, str(v), ha='center', va='bottom')\n",
    "plt.show()"
   ]
  },
  {
   "cell_type": "markdown",
   "id": "d7efd6db",
   "metadata": {},
   "source": [
    "Find the data for constructing the learning model ( IPBES related or not )"
   ]
  },
  {
   "cell_type": "code",
   "execution_count": null,
   "id": "01cc5efb",
   "metadata": {},
   "outputs": [],
   "source": [
    "df_ipbes['year'] = pd.to_numeric(df_ipbes['year'], errors='coerce')\n",
    "year=df_ipbes.drop_duplicates(subset='doi')['year'].dropna().sort_values().apply(lambda x: int(x))\n",
    "year_counts = pd.Series(list(year)).value_counts().to_dict()"
   ]
  },
  {
   "cell_type": "code",
   "execution_count": null,
   "id": "2645aec9",
   "metadata": {},
   "outputs": [],
   "source": [
    "dois=list(df_unique_doi.doi)"
   ]
  },
  {
   "cell_type": "code",
   "execution_count": null,
   "id": "b2c417d4",
   "metadata": {},
   "outputs": [],
   "source": [
    "year_counts_not_ipbes={}\n",
    "target_iterations = len(dois)"
   ]
  },
  {
   "cell_type": "code",
   "execution_count": null,
   "id": "c945fe2f",
   "metadata": {},
   "outputs": [],
   "source": [
    "for year in list(year_counts.keys()):   \n",
    "    cached_openalex_data_not_ipbes[year]=[]\n",
    "    year_counts_not_ipbes[year]=0\n",
    "    while year_counts_not_ipbes[year]<year_counts[year]:\n",
    "        get_open_alex_data_not_in_references(dois,cached_openalex_data_not_ipbes,year_counts,year_counts_not_ipbes,year)\n",
    "    cached_openalex_data_not_ipbes[year]=cached_openalex_data_not_ipbes[year][:year_counts[year]+1]"
   ]
  },
  {
   "cell_type": "code",
   "execution_count": null,
   "id": "6882dc31",
   "metadata": {},
   "outputs": [],
   "source": [
    "len(cached_openalex_data_not_ipbes)"
   ]
  },
  {
   "cell_type": "code",
   "execution_count": null,
   "id": "ccc217b8",
   "metadata": {},
   "outputs": [],
   "source": [
    "write_cache(cached_openalex_data_not_ipbes,module_path+'\\\\IPCC_bibliography\\\\AR6\\\\structured_data\\\\cached_openalex_data_not_ipbes.pkl')"
   ]
  },
  {
   "cell_type": "code",
   "execution_count": null,
   "id": "413f51d4",
   "metadata": {},
   "outputs": [],
   "source": [
    "df_not_ipbes=pd.DataFrame()\n",
    "year_list = []\n",
    "countries_list = []\n",
    "concepts_list = []\n",
    "sdg_list = []\n",
    "topics_list = []\n",
    "dois_list = []\n",
    "for k in range(len(aplatir(list(cached_openalex_data_not_ipbes.values())))):\n",
    "    countries,concepts,sdg,year,topics,doi=get_countries_concepts_sdg(cached_openalex_data=aplatir(list(cached_openalex_data_not_ipbes.values())),ipcc=False,i=k)\n",
    "\n",
    "    countries_list.append(countries)\n",
    "    concepts_list.append(concepts)\n",
    "    sdg_list.append(sdg)\n",
    "    year_list.append(year)   \n",
    "    topics_list.append(topics)   \n",
    "    dois_list.append(doi)   \n",
    "\n",
    "df_not_ipbes['countries'] = countries_list\n",
    "df_not_ipbes['concepts'] = concepts_list\n",
    "df_not_ipbes['sdg'] = sdg_list\n",
    "df_not_ipbes['year'] = year_list\n",
    "df_not_ipbes['topics'] = topics_list\n",
    "df_not_ipbes['doi'] = dois_list"
   ]
  },
  {
   "cell_type": "code",
   "execution_count": null,
   "id": "ba2ffe1e",
   "metadata": {},
   "outputs": [],
   "source": [
    "df_not_ipbes"
   ]
  },
  {
   "cell_type": "code",
   "execution_count": null,
   "id": "f2d4625f",
   "metadata": {},
   "outputs": [],
   "source": [
    "#df_not_ipbes.to_json(module_path+f'\\\\IPCC_bibliography\\\\AR6\\\\structured_data\\\\data_not_ipbes.jsonl', orient='records', lines= True)"
   ]
  }
 ],
 "metadata": {
  "kernelspec": {
   "display_name": "Python 3",
   "language": "python",
   "name": "python3"
  },
  "language_info": {
   "codemirror_mode": {
    "name": "ipython",
    "version": 3
   },
   "file_extension": ".py",
   "mimetype": "text/x-python",
   "name": "python",
   "nbconvert_exporter": "python",
   "pygments_lexer": "ipython3",
   "version": "3.9.12"
  }
 },
 "nbformat": 4,
 "nbformat_minor": 5
}
