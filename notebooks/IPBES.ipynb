{
 "cells": [
  {
   "cell_type": "code",
   "execution_count": 115,
   "id": "e0ef86ad",
   "metadata": {},
   "outputs": [],
   "source": [
    "from pyzotero import zotero\n",
    "import os\n",
    "import sys\n",
    "from dotenv import load_dotenv\n",
    "load_dotenv()\n",
    "import pandas as pd\n",
    "from tqdm.notebook import tqdm\n",
    "tqdm.pandas()\n",
    "\n",
    "module_path = os.path.abspath(os.path.join('..'))\n",
    "if module_path not in sys.path:\n",
    "    sys.path.append(module_path)\n",
    "from code_utils.zotero import get_data_from_zotero\n",
    "from code_utils.glutton import get_doi_glutton\n",
    "from code_utils.utils import get_doi_cleaned\n",
    "from code_utils.pickle import load_cache,write_cache\n",
    "from code_utils.enriching_data_OpenAlex import get_countries_concepts_sdg,get_open_alex_data"
   ]
  },
  {
   "cell_type": "code",
   "execution_count": null,
   "id": "9061c147",
   "metadata": {},
   "outputs": [],
   "source": [
    "cached_openalex_data_ipbes = {}"
   ]
  },
  {
   "cell_type": "code",
   "execution_count": null,
   "id": "dde30c87",
   "metadata": {},
   "outputs": [],
   "source": [
    "try:\n",
    "    cached_openalex_data_ipbes = load_cache(cached_openalex_data_ipbes,module_path+'\\\\IPCC_bibliography\\\\AR6\\\\structured_data\\\\')\n",
    "except:\n",
    "    write_cache(cached_openalex_data_ipbes,module_path+'\\\\IPCC_bibliography\\\\AR6\\\\structured_data\\\\')"
   ]
  },
  {
   "cell_type": "markdown",
   "id": "15bcf112",
   "metadata": {},
   "source": [
    "Read IPBES references in zotero files"
   ]
  },
  {
   "cell_type": "code",
   "execution_count": 2,
   "id": "72fbfc65",
   "metadata": {},
   "outputs": [],
   "source": [
    "ZOTERO_KEY = os.getenv('ZOTERO_KEY')\n",
    "IPBES_ZOTERO_ID = '2333077'\n",
    "COLLECTION_IDS = ['8DQ8YFJI','JR5LKU4U','LBFNF62B','7IMYH9U3','DRZLUY9K','KTPTCAVF','UWNSUNXQ','BJGWRJAK','JT8FJXP6']\n",
    "CHAPTER_IDS=['1','2.1','2.2','2.3','3','4','5','6','glossary']\n",
    "ALL_COLLECTIONS={}"
   ]
  },
  {
   "cell_type": "code",
   "execution_count": 3,
   "id": "cba99ee3",
   "metadata": {},
   "outputs": [],
   "source": [
    "ALL_COLLECTIONS=get_data_from_zotero(ZOTERO_KEY,IPBES_ZOTERO_ID,COLLECTION_IDS,CHAPTER_IDS,ALL_COLLECTIONS)"
   ]
  },
  {
   "cell_type": "code",
   "execution_count": 98,
   "id": "5fdc2bb5",
   "metadata": {},
   "outputs": [
    {
     "name": "stdout",
     "output_type": "stream",
     "text": [
      "63.2258064516129 % doi available for chapter 1\n",
      "71.26436781609196 % doi available for chapter 2.1\n",
      "79.26829268292683 % doi available for chapter 2.2\n",
      "79.60199004975125 % doi available for chapter 2.3\n",
      "81.64682539682539 % doi available for chapter 3\n",
      "85.9103385178408 % doi available for chapter 4\n",
      "73.2587064676617 % doi available for chapter 5\n",
      "81.23682361208714 % doi available for chapter 6\n",
      "37.90613718411552 % doi available for chapter glossary\n"
     ]
    }
   ],
   "source": [
    "df_ipbes_chap={}\n",
    "for i in range(len(COLLECTION_IDS)):\n",
    "    df_ipbes_chap[CHAPTER_IDS[i]]=pd.DataFrame(list(pd.DataFrame(ALL_COLLECTIONS[f'collection_chapter_{CHAPTER_IDS[i]}']).data))[['DOI','title','date','creators','tags']]\n",
    "    df_ipbes_chap[CHAPTER_IDS[i]]['chap']=f'chap_{CHAPTER_IDS[i]}'\n",
    "    print(f'{len(df_ipbes_chap[CHAPTER_IDS[i]][~pd.isna(df_ipbes_chap[CHAPTER_IDS[i]].DOI)])/len(df_ipbes_chap[CHAPTER_IDS[i]])*100} % doi available for chapter {CHAPTER_IDS[i]}')"
   ]
  },
  {
   "cell_type": "markdown",
   "id": "98a44a20",
   "metadata": {},
   "source": [
    "Clean and enrich data "
   ]
  },
  {
   "cell_type": "code",
   "execution_count": 99,
   "id": "9e44246d",
   "metadata": {},
   "outputs": [],
   "source": [
    "df_ipbes=pd.concat(list(df_ipbes_chap.values())).reset_index()\n",
    "del df_ipbes['index']"
   ]
  },
  {
   "cell_type": "code",
   "execution_count": 100,
   "id": "09792a77",
   "metadata": {},
   "outputs": [
    {
     "data": {
      "text/plain": [
       "77.36948241093435"
      ]
     },
     "execution_count": 100,
     "metadata": {},
     "output_type": "execute_result"
    }
   ],
   "source": [
    "len(df_ipbes[~pd.isna(df_ipbes.DOI)])/len(df_ipbes)*100"
   ]
  },
  {
   "cell_type": "code",
   "execution_count": 103,
   "id": "90933b7e",
   "metadata": {},
   "outputs": [
    {
     "data": {
      "application/vnd.jupyter.widget-view+json": {
       "model_id": "99d389d3eaed407ba222db3ba6b853f7",
       "version_major": 2,
       "version_minor": 0
      },
      "text/plain": [
       "  0%|          | 0/2020 [00:00<?, ?it/s]"
      ]
     },
     "metadata": {},
     "output_type": "display_data"
    }
   ],
   "source": [
    "df_ipbes.loc[pd.isna(df_ipbes.DOI),'DOI']=df_ipbes.loc[pd.isna(df_ipbes.DOI),:].progress_apply(get_doi_glutton, axis=1)"
   ]
  },
  {
   "cell_type": "code",
   "execution_count": 104,
   "id": "b4ccc254",
   "metadata": {},
   "outputs": [
    {
     "data": {
      "text/plain": [
       "89.3009186645754"
      ]
     },
     "execution_count": 104,
     "metadata": {},
     "output_type": "execute_result"
    }
   ],
   "source": [
    "len(df_ipbes[~pd.isna(df_ipbes.DOI)])/len(df_ipbes)*100"
   ]
  },
  {
   "cell_type": "code",
   "execution_count": 105,
   "id": "25ae7b2a",
   "metadata": {},
   "outputs": [],
   "source": [
    "df_ipbes.loc[:,'DOI']=df_ipbes.loc[:,'DOI'].apply(lambda x: get_doi_cleaned(x))\n",
    "df_ipbes.loc[:,'DOI']=df_ipbes.loc[:,'DOI'].apply(lambda x: None if str(x)[:4]=='http' else x)\n",
    "df_ipbes['freq']=1"
   ]
  },
  {
   "cell_type": "markdown",
   "id": "8ca0842d",
   "metadata": {},
   "source": [
    "Enriching data through OpenAlex API integration"
   ]
  },
  {
   "cell_type": "code",
   "execution_count": 109,
   "id": "88889348",
   "metadata": {},
   "outputs": [],
   "source": [
    "df_unique_doi=df_ipbes.groupby(by=['DOI'], dropna=True).agg({'chap': lambda x: list(x), 'freq': 'sum'})"
   ]
  },
  {
   "cell_type": "code",
   "execution_count": 111,
   "id": "53d5530d",
   "metadata": {},
   "outputs": [],
   "source": [
    "df_unique_doi=df_unique_doi.reset_index()"
   ]
  },
  {
   "cell_type": "code",
   "execution_count": null,
   "id": "930eeae1",
   "metadata": {},
   "outputs": [],
   "source": [
    "#get data_OpenAlex from the API \n",
    "df_unique_doi.apply(lambda row: get_open_alex_data(cached_openalex_data_ipbes,row['DOI']), axis= 1)\n",
    "write_cache(cached_openalex_data_ipbes,module_path+'\\\\IPCC_bibliography\\\\AR6\\\\structured_data\\\\')"
   ]
  }
 ],
 "metadata": {
  "kernelspec": {
   "display_name": "Python 3",
   "language": "python",
   "name": "python3"
  },
  "language_info": {
   "codemirror_mode": {
    "name": "ipython",
    "version": 3
   },
   "file_extension": ".py",
   "mimetype": "text/x-python",
   "name": "python",
   "nbconvert_exporter": "python",
   "pygments_lexer": "ipython3",
   "version": "3.9.12"
  }
 },
 "nbformat": 4,
 "nbformat_minor": 5
}
