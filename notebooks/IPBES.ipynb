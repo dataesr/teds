{
 "cells": [
  {
   "cell_type": "code",
   "execution_count": 1,
   "id": "e0ef86ad",
   "metadata": {},
   "outputs": [],
   "source": [
    "from pyzotero import zotero\n",
    "import os\n",
    "import sys\n",
    "from dotenv import load_dotenv\n",
    "load_dotenv()\n",
    "import pandas as pd\n",
    "import matplotlib.pyplot as plt\n",
    "from datetime import datetime\n",
    "from tqdm.notebook import tqdm\n",
    "tqdm.pandas()\n",
    "\n",
    "module_path = os.path.abspath(os.path.join('..'))\n",
    "if module_path not in sys.path:\n",
    "    sys.path.append(module_path)\n",
    "from code_utils.zotero import get_data_from_zotero\n",
    "from code_utils.glutton import get_doi_glutton\n",
    "from code_utils.utils import get_doi_cleaned,aplatir,wg_chap_to_dict,get_year_ipbes,check_doi_glutton\n",
    "from code_utils.pickle import load_cache,write_cache\n",
    "from code_utils.enriching_data_OpenAlex import get_countries_concepts_sdg,get_open_alex_data,get_open_alex_data_not_in_references"
   ]
  },
  {
   "cell_type": "code",
   "execution_count": 2,
   "id": "9061c147",
   "metadata": {},
   "outputs": [],
   "source": [
    "cached_openalex_data_ipbes = {}\n",
    "cached_openalex_data_not_ipbes = {}"
   ]
  },
  {
   "cell_type": "code",
   "execution_count": 3,
   "id": "dde30c87",
   "metadata": {},
   "outputs": [
    {
     "name": "stdout",
     "output_type": "stream",
     "text": [
      "5690 data in cached openalex data\n",
      "58 data in cached openalex data\n"
     ]
    }
   ],
   "source": [
    "try:\n",
    "    cached_openalex_data_ipbes = load_cache(cached_openalex_data_ipbes,module_path+'\\\\IPCC_bibliography\\\\AR6\\\\structured_data\\\\caches\\\\cached_openalex_data_ipbes.pkl')\n",
    "    cached_openalex_data_not_ipbes = load_cache(cached_openalex_data_ipbes,module_path+'\\\\IPCC_bibliography\\\\AR6\\\\structured_data\\\\caches\\\\cached_openalex_data_not_ipbes.pkl')\n",
    "except:\n",
    "    #write_cache(cached_openalex_data_ipbes,module_path+'\\\\IPCC_bibliography\\\\AR6\\\\structured_data\\\\caches\\\\cached_openalex_data_ipbes.pkl')\n",
    "    #write_cache(cached_openalex_data_not_ipbes,module_path+'\\\\IPCC_bibliography\\\\AR6\\\\structured_data\\\\caches\\\\cached_openalex_data_not_ipbes.pkl')\n",
    "    print('oups')"
   ]
  },
  {
   "cell_type": "markdown",
   "id": "15bcf112",
   "metadata": {},
   "source": [
    "Read IPBES references in zotero files"
   ]
  },
  {
   "cell_type": "code",
   "execution_count": null,
   "id": "72fbfc65",
   "metadata": {},
   "outputs": [],
   "source": [
    "ZOTERO_KEY = os.getenv('ZOTERO_KEY')\n",
    "IPBES_ZOTERO_ID = '2333077'\n",
    "COLLECTION_IDS = ['8DQ8YFJI','JR5LKU4U','LBFNF62B','7IMYH9U3','DRZLUY9K','KTPTCAVF','UWNSUNXQ','BJGWRJAK','JT8FJXP6']\n",
    "CHAPTER_IDS=['1','2.1','2.2','2.3','3','4','5','6','glossary']\n",
    "ALL_COLLECTIONS={}"
   ]
  },
  {
   "cell_type": "code",
   "execution_count": null,
   "id": "cba99ee3",
   "metadata": {},
   "outputs": [],
   "source": [
    "ALL_COLLECTIONS=get_data_from_zotero(ZOTERO_KEY,IPBES_ZOTERO_ID,COLLECTION_IDS,CHAPTER_IDS,ALL_COLLECTIONS)"
   ]
  },
  {
   "cell_type": "code",
   "execution_count": null,
   "id": "5fdc2bb5",
   "metadata": {},
   "outputs": [],
   "source": [
    "df_ipbes_chap={}\n",
    "for i in range(len(COLLECTION_IDS)):\n",
    "    df_ipbes_chap[CHAPTER_IDS[i]]=pd.DataFrame(list(pd.DataFrame(ALL_COLLECTIONS[f'collection_chapter_{CHAPTER_IDS[i]}']).data))[['DOI','title','date','creators','tags']]\n",
    "    df_ipbes_chap[CHAPTER_IDS[i]]['chap']=f'chap_{CHAPTER_IDS[i]}'\n",
    "    print(f'{len(df_ipbes_chap[CHAPTER_IDS[i]][~pd.isna(df_ipbes_chap[CHAPTER_IDS[i]].DOI)])/len(df_ipbes_chap[CHAPTER_IDS[i]])*100} % doi available for chapter {CHAPTER_IDS[i]}')"
   ]
  },
  {
   "cell_type": "markdown",
   "id": "98a44a20",
   "metadata": {},
   "source": [
    "Clean and enrich data "
   ]
  },
  {
   "cell_type": "code",
   "execution_count": null,
   "id": "9e44246d",
   "metadata": {},
   "outputs": [],
   "source": [
    "df_ipbes=pd.concat(list(df_ipbes_chap.values())).reset_index()\n",
    "del df_ipbes['index']"
   ]
  },
  {
   "cell_type": "code",
   "execution_count": null,
   "id": "09792a77",
   "metadata": {},
   "outputs": [],
   "source": [
    "len(df_ipbes[~pd.isna(df_ipbes.DOI)])/len(df_ipbes)*100"
   ]
  },
  {
   "cell_type": "code",
   "execution_count": null,
   "id": "6d63cd87",
   "metadata": {},
   "outputs": [],
   "source": [
    "df_ipbes.DOI.drop_duplicates()"
   ]
  },
  {
   "cell_type": "code",
   "execution_count": null,
   "id": "9ceaa53c",
   "metadata": {},
   "outputs": [],
   "source": [
    "get_doi_glutton(df_ipbes.iloc[1,:])"
   ]
  },
  {
   "cell_type": "code",
   "execution_count": null,
   "id": "90933b7e",
   "metadata": {},
   "outputs": [],
   "source": [
    "df_ipbes.loc[pd.isna(df_ipbes.DOI),'DOI']=df_ipbes.loc[pd.isna(df_ipbes.DOI),:].progress_apply(get_doi_glutton, axis=1)"
   ]
  },
  {
   "cell_type": "code",
   "execution_count": null,
   "id": "b4ccc254",
   "metadata": {},
   "outputs": [],
   "source": [
    "len(df_ipbes[~pd.isna(df_ipbes.DOI)])/len(df_ipbes)*100"
   ]
  },
  {
   "cell_type": "code",
   "execution_count": null,
   "id": "25ae7b2a",
   "metadata": {},
   "outputs": [],
   "source": [
    "df_ipbes.loc[:,'DOI']=df_ipbes.loc[:,'DOI'].apply(lambda x: get_doi_cleaned(x))\n",
    "df_ipbes.loc[:,'DOI']=df_ipbes.loc[:,'DOI'].apply(lambda x: None if str(x)[:4]=='http' else x)\n",
    "df_ipbes['freq']=1\n",
    "df_ipbes=df_ipbes.rename(columns={'DOI':'doi'})"
   ]
  },
  {
   "cell_type": "code",
   "execution_count": null,
   "id": "bdcb049e",
   "metadata": {},
   "outputs": [],
   "source": [
    "df_ipbes.to_json(module_path+'\\\\IPCC_bibliography\\\\AR6\\\\structured_data\\\\data_ipbes.json', orient='records')"
   ]
  },
  {
   "cell_type": "markdown",
   "id": "8ca0842d",
   "metadata": {},
   "source": [
    "Enriching data through OpenAlex API integration"
   ]
  },
  {
   "cell_type": "code",
   "execution_count": null,
   "id": "bb372fcd",
   "metadata": {},
   "outputs": [],
   "source": [
    "df_ipbes=pd.read_json(module_path+'\\\\IPCC_bibliography\\\\AR6\\\\structured_data\\\\data_ipbes.json', orient='records')"
   ]
  },
  {
   "cell_type": "code",
   "execution_count": null,
   "id": "ae7af54e",
   "metadata": {},
   "outputs": [],
   "source": [
    "df_unique_doi=df_ipbes.groupby(by=['doi'], dropna=True).agg({'chap': lambda x: list(x), 'freq': 'sum'})\n",
    "df_unique_doi=df_unique_doi.reset_index()"
   ]
  },
  {
   "cell_type": "code",
   "execution_count": null,
   "id": "930eeae1",
   "metadata": {},
   "outputs": [],
   "source": [
    "#get data_OpenAlex from the API \n",
    "df_unique_doi.apply(lambda row: get_open_alex_data(cached_openalex_data_ipbes,row['doi']), axis= 1)"
   ]
  },
  {
   "cell_type": "code",
   "execution_count": null,
   "id": "cddfdcb0",
   "metadata": {},
   "outputs": [],
   "source": [
    "len(cached_openalex_data_ipbes)"
   ]
  },
  {
   "cell_type": "code",
   "execution_count": null,
   "id": "e85d32d5",
   "metadata": {},
   "outputs": [],
   "source": [
    "write_cache(cached_openalex_data_ipbes,module_path+'\\\\IPCC_bibliography\\\\AR6\\\\structured_data\\\\caches\\\\cached_openalex_data_ipbes.pkl')"
   ]
  },
  {
   "cell_type": "code",
   "execution_count": null,
   "id": "5202723a",
   "metadata": {},
   "outputs": [],
   "source": [
    "df_ipbes=pd.read_json(module_path+'\\\\IPCC_bibliography\\\\AR6\\\\structured_data\\\\data_ipbes.json')"
   ]
  },
  {
   "cell_type": "code",
   "execution_count": null,
   "id": "f8c77753",
   "metadata": {},
   "outputs": [],
   "source": [
    "df_unique_doi=df_ipbes['doi'].drop_duplicates().dropna()\n",
    "df_unique_doi=pd.DataFrame({'doi':list(df_unique_doi)})"
   ]
  },
  {
   "cell_type": "code",
   "execution_count": null,
   "id": "df2254b8",
   "metadata": {},
   "outputs": [],
   "source": [
    "countries_list = []\n",
    "concepts_list = []\n",
    "sdg_list = []\n",
    "topics_list = []\n",
    "is_OA_available_list=[]\n",
    "title_list=[]\n",
    "year_list=[]\n",
    "names_list=[]\n",
    "rors_list=[]\n",
    "institutions_names_list=[]\n",
    "locations_names_list=[]\n",
    "locations_ids_list=[]\n",
    "\n",
    "for i,row in df_unique_doi.iterrows():\n",
    "    countries,concepts,sdg,year,topics,doi,bool_OA,title,name,rors,institutions_names,locations_names,locations_ids=get_countries_concepts_sdg(cached_openalex_data_ipbes,row,ipcc=True,i=0)\n",
    "\n",
    "    countries_list.append(countries)\n",
    "    concepts_list.append(concepts)\n",
    "    sdg_list.append(sdg)\n",
    "    topics_list.append(topics)  \n",
    "    is_OA_available_list.append(bool_OA)\n",
    "    title_list.append(title)\n",
    "    year_list.append(year)\n",
    "    names_list.append(name)\n",
    "    rors_list.append(rors)\n",
    "    institutions_names_list.append(institutions_names)\n",
    "    locations_names_list.append(locations_names)\n",
    "    locations_ids_list.append(locations_ids)\n",
    "\n",
    "\n",
    "df_unique_doi['countries'] = countries_list\n",
    "df_unique_doi['concepts'] = concepts_list\n",
    "df_unique_doi['sdg'] = sdg_list\n",
    "df_unique_doi['topics'] = topics_list\n",
    "df_unique_doi['is_OA_available'] = is_OA_available_list\n",
    "df_unique_doi['year_OA'] = year_list\n",
    "df_unique_doi['authors_name'] = names_list\n",
    "df_unique_doi['rors'] = rors_list\n",
    "df_unique_doi['institutions_names'] = institutions_names_list\n",
    "df_unique_doi['locations_names'] = locations_names_list\n",
    "df_unique_doi['locations_id'] = locations_ids_list"
   ]
  },
  {
   "cell_type": "code",
   "execution_count": null,
   "id": "478ecfa9",
   "metadata": {},
   "outputs": [],
   "source": [
    "df_unique_doi.is_OA_available.value_counts()"
   ]
  },
  {
   "cell_type": "code",
   "execution_count": null,
   "id": "6d32bec2",
   "metadata": {},
   "outputs": [],
   "source": [
    "df_unique_doi=df_unique_doi[df_unique_doi.is_OA_available]"
   ]
  },
  {
   "cell_type": "code",
   "execution_count": null,
   "id": "68a49e23",
   "metadata": {},
   "outputs": [],
   "source": [
    "df_unique_doi=df_unique_doi.reset_index()\n",
    "del df_unique_doi['index']"
   ]
  },
  {
   "cell_type": "code",
   "execution_count": null,
   "id": "b31ee6ad",
   "metadata": {},
   "outputs": [],
   "source": [
    "df_unique_doi.to_json(module_path+'\\\\IPCC_bibliography\\\\AR6\\\\structured_data\\\\data_ipbes_OA.json', orient='records')"
   ]
  },
  {
   "cell_type": "markdown",
   "id": "d070eddb",
   "metadata": {},
   "source": [
    "Ipbes references data"
   ]
  },
  {
   "cell_type": "code",
   "execution_count": null,
   "id": "8ffad823",
   "metadata": {},
   "outputs": [],
   "source": [
    "df_unique_doi=pd.read_json(module_path+'\\\\IPCC_bibliography\\\\AR6\\\\structured_data\\\\data_ipbes_OA.json', orient='records')"
   ]
  },
  {
   "cell_type": "code",
   "execution_count": null,
   "id": "853f6324",
   "metadata": {},
   "outputs": [],
   "source": [
    "df_ipbes=pd.read_json(module_path+'\\\\IPCC_bibliography\\\\AR6\\\\structured_data\\\\data_ipbes.json')"
   ]
  },
  {
   "cell_type": "code",
   "execution_count": null,
   "id": "fd351e55",
   "metadata": {},
   "outputs": [],
   "source": [
    "df_ipbes=pd.merge(df_ipbes[['doi', 'title', 'date', 'creators', 'tags']], df_unique_doi, on='doi', how='inner')"
   ]
  },
  {
   "cell_type": "code",
   "execution_count": null,
   "id": "04560cca",
   "metadata": {},
   "outputs": [],
   "source": [
    "df_ipbes['year']=df_ipbes['date'].apply(lambda x: get_year_ipbes(x) if pd.isna(x)==False else None)"
   ]
  },
  {
   "cell_type": "code",
   "execution_count": null,
   "id": "128a6434",
   "metadata": {},
   "outputs": [],
   "source": [
    "df_ipbes['check']=df_ipbes.apply(lambda row: check_doi_glutton(row), axis=1)\n",
    "df_ipbes.check.value_counts()"
   ]
  },
  {
   "cell_type": "code",
   "execution_count": null,
   "id": "0c51dc1e",
   "metadata": {},
   "outputs": [],
   "source": [
    "df_ipbes[df_ipbes.check==False]"
   ]
  },
  {
   "cell_type": "code",
   "execution_count": null,
   "id": "eac33967",
   "metadata": {},
   "outputs": [],
   "source": [
    "df_ipbes=df_ipbes[(df_ipbes.check) & (pd.isna(df_ipbes['is_OA_available'])==False)]"
   ]
  },
  {
   "cell_type": "code",
   "execution_count": null,
   "id": "2b9ac07a",
   "metadata": {},
   "outputs": [],
   "source": [
    "del df_ipbes['check']"
   ]
  },
  {
   "cell_type": "code",
   "execution_count": null,
   "id": "ca508588",
   "metadata": {},
   "outputs": [],
   "source": [
    "df_ipbes.loc[:,'countries']=df_ipbes.loc[:,'countries'].apply(lambda x: str(x).replace('nan','None').replace('[]','None').replace('[None]','None') if ((str(x)=='nan')|(str(x)=='[None]')|((str(x)=='[]'))) else x )\n",
    "df_ipbes.loc[:,'countries']=df_ipbes.loc[:,'countries'].apply(lambda x: ['None'] if x=='None' else x)"
   ]
  },
  {
   "cell_type": "code",
   "execution_count": null,
   "id": "574b3850",
   "metadata": {},
   "outputs": [],
   "source": [
    "df_ipbes.to_json(module_path+'\\\\IPCC_bibliography\\\\AR6\\\\structured_data\\\\data_model_ipbes\\\\data_ipbes.jsonl', orient='records',lines=True)"
   ]
  },
  {
   "cell_type": "markdown",
   "id": "d7efd6db",
   "metadata": {},
   "source": [
    "Find the data for constructing the learning model ( IPBES related or not )"
   ]
  },
  {
   "cell_type": "code",
   "execution_count": 4,
   "id": "92e97fe5",
   "metadata": {},
   "outputs": [],
   "source": [
    "df_ipbes=pd.read_json(module_path+f'\\\\IPCC_bibliography\\\\AR6\\\\structured_data\\\\data_model_ipbes\\\\data_ipbes.jsonl', lines= True).dropna(subset=['year'])"
   ]
  },
  {
   "cell_type": "code",
   "execution_count": 5,
   "id": "01cc5efb",
   "metadata": {},
   "outputs": [],
   "source": [
    "df_ipbes['year'] = pd.to_numeric(df_ipbes['year'], errors='coerce')\n",
    "df_ipbes=df_ipbes.dropna(subset=['year','doi', 'title','topics','locations_names','locations_id']).drop_duplicates(subset=['doi'])\n",
    "year=df_ipbes.drop_duplicates(subset='doi').dropna(subset=['doi'])['year'].dropna().sort_values().apply(lambda x: int(x))\n",
    "year_counts = pd.Series(list(year)).value_counts().to_dict()"
   ]
  },
  {
   "cell_type": "code",
   "execution_count": 6,
   "id": "2645aec9",
   "metadata": {},
   "outputs": [],
   "source": [
    "dois=list(df_ipbes.doi.dropna().drop_duplicates())"
   ]
  },
  {
   "cell_type": "code",
   "execution_count": 7,
   "id": "377ef383",
   "metadata": {},
   "outputs": [
    {
     "data": {
      "text/plain": [
       "5531"
      ]
     },
     "execution_count": 7,
     "metadata": {},
     "output_type": "execute_result"
    }
   ],
   "source": [
    "sum(list(year_counts.values()))"
   ]
  },
  {
   "cell_type": "code",
   "execution_count": 10,
   "id": "b2c417d4",
   "metadata": {},
   "outputs": [],
   "source": [
    "year_counts_not_ipbes={}"
   ]
  },
  {
   "cell_type": "code",
   "execution_count": null,
   "id": "265725b8",
   "metadata": {},
   "outputs": [],
   "source": [
    "df_ipbes.topics.value_counts()[:50]"
   ]
  },
  {
   "cell_type": "code",
   "execution_count": 11,
   "id": "c945fe2f",
   "metadata": {},
   "outputs": [
    {
     "name": "stderr",
     "output_type": "stream",
     "text": [
      "DEBUG:urllib3.connectionpool:Starting new HTTPS connection (1): api.openalex.org:443\n",
      "DEBUG:urllib3.connectionpool:https://api.openalex.org:443 \"GET /works?filter=has_doi:true,concepts_count:%3E0,publication_year:2016&sample=200&per-page=200 HTTP/1.1\" 200 283329\n",
      "DEBUG:urllib3.connectionpool:Starting new HTTPS connection (1): api.openalex.org:443\n"
     ]
    },
    {
     "name": "stdout",
     "output_type": "stream",
     "text": [
      "plus que 624 publications pour completer l'année 2016\n"
     ]
    },
    {
     "name": "stderr",
     "output_type": "stream",
     "text": [
      "DEBUG:urllib3.connectionpool:https://api.openalex.org:443 \"GET /works?filter=has_doi:true,concepts_count:%3E0,publication_year:2016&sample=200&per-page=200 HTTP/1.1\" 200 288988\n",
      "DEBUG:urllib3.connectionpool:Starting new HTTPS connection (1): api.openalex.org:443\n"
     ]
    },
    {
     "name": "stdout",
     "output_type": "stream",
     "text": [
      "plus que 528 publications pour completer l'année 2016\n"
     ]
    },
    {
     "name": "stderr",
     "output_type": "stream",
     "text": [
      "DEBUG:urllib3.connectionpool:https://api.openalex.org:443 \"GET /works?filter=has_doi:true,concepts_count:%3E0,publication_year:2016&sample=200&per-page=200 HTTP/1.1\" 200 292721\n",
      "DEBUG:urllib3.connectionpool:Starting new HTTPS connection (1): api.openalex.org:443\n"
     ]
    },
    {
     "name": "stdout",
     "output_type": "stream",
     "text": [
      "plus que 412 publications pour completer l'année 2016\n"
     ]
    },
    {
     "name": "stderr",
     "output_type": "stream",
     "text": [
      "DEBUG:urllib3.connectionpool:https://api.openalex.org:443 \"GET /works?filter=has_doi:true,concepts_count:%3E0,publication_year:2016&sample=200&per-page=200 HTTP/1.1\" 200 295020\n",
      "DEBUG:urllib3.connectionpool:Starting new HTTPS connection (1): api.openalex.org:443\n"
     ]
    },
    {
     "name": "stdout",
     "output_type": "stream",
     "text": [
      "plus que 298 publications pour completer l'année 2016\n"
     ]
    },
    {
     "name": "stderr",
     "output_type": "stream",
     "text": [
      "DEBUG:urllib3.connectionpool:https://api.openalex.org:443 \"GET /works?filter=has_doi:true,concepts_count:%3E0,publication_year:2016&sample=200&per-page=200 HTTP/1.1\" 200 316369\n",
      "DEBUG:urllib3.connectionpool:Starting new HTTPS connection (1): api.openalex.org:443\n"
     ]
    },
    {
     "name": "stdout",
     "output_type": "stream",
     "text": [
      "plus que 193 publications pour completer l'année 2016\n"
     ]
    },
    {
     "name": "stderr",
     "output_type": "stream",
     "text": [
      "DEBUG:urllib3.connectionpool:https://api.openalex.org:443 \"GET /works?filter=has_doi:true,concepts_count:%3E0,publication_year:2016&sample=200&per-page=200 HTTP/1.1\" 200 282180\n",
      "DEBUG:urllib3.connectionpool:Starting new HTTPS connection (1): api.openalex.org:443\n"
     ]
    },
    {
     "name": "stdout",
     "output_type": "stream",
     "text": [
      "plus que 73 publications pour completer l'année 2016\n"
     ]
    },
    {
     "name": "stderr",
     "output_type": "stream",
     "text": [
      "DEBUG:urllib3.connectionpool:https://api.openalex.org:443 \"GET /works?filter=has_doi:true,concepts_count:%3E0,publication_year:2017&sample=200&per-page=200 HTTP/1.1\" 200 289104\n",
      "DEBUG:urllib3.connectionpool:Starting new HTTPS connection (1): api.openalex.org:443\n"
     ]
    },
    {
     "name": "stdout",
     "output_type": "stream",
     "text": [
      "plus que 584 publications pour completer l'année 2017\n"
     ]
    },
    {
     "name": "stderr",
     "output_type": "stream",
     "text": [
      "DEBUG:urllib3.connectionpool:https://api.openalex.org:443 \"GET /works?filter=has_doi:true,concepts_count:%3E0,publication_year:2017&sample=200&per-page=200 HTTP/1.1\" 200 311031\n",
      "DEBUG:urllib3.connectionpool:Starting new HTTPS connection (1): api.openalex.org:443\n"
     ]
    },
    {
     "name": "stdout",
     "output_type": "stream",
     "text": [
      "plus que 474 publications pour completer l'année 2017\n"
     ]
    },
    {
     "name": "stderr",
     "output_type": "stream",
     "text": [
      "DEBUG:urllib3.connectionpool:https://api.openalex.org:443 \"GET /works?filter=has_doi:true,concepts_count:%3E0,publication_year:2017&sample=200&per-page=200 HTTP/1.1\" 200 331351\n",
      "DEBUG:urllib3.connectionpool:Starting new HTTPS connection (1): api.openalex.org:443\n"
     ]
    },
    {
     "name": "stdout",
     "output_type": "stream",
     "text": [
      "plus que 355 publications pour completer l'année 2017\n"
     ]
    },
    {
     "name": "stderr",
     "output_type": "stream",
     "text": [
      "DEBUG:urllib3.connectionpool:https://api.openalex.org:443 \"GET /works?filter=has_doi:true,concepts_count:%3E0,publication_year:2017&sample=200&per-page=200 HTTP/1.1\" 200 293454\n",
      "DEBUG:urllib3.connectionpool:Starting new HTTPS connection (1): api.openalex.org:443\n"
     ]
    },
    {
     "name": "stdout",
     "output_type": "stream",
     "text": [
      "plus que 241 publications pour completer l'année 2017\n"
     ]
    },
    {
     "name": "stderr",
     "output_type": "stream",
     "text": [
      "DEBUG:urllib3.connectionpool:https://api.openalex.org:443 \"GET /works?filter=has_doi:true,concepts_count:%3E0,publication_year:2017&sample=200&per-page=200 HTTP/1.1\" 200 326789\n",
      "DEBUG:urllib3.connectionpool:Starting new HTTPS connection (1): api.openalex.org:443\n"
     ]
    },
    {
     "name": "stdout",
     "output_type": "stream",
     "text": [
      "plus que 138 publications pour completer l'année 2017\n"
     ]
    },
    {
     "name": "stderr",
     "output_type": "stream",
     "text": [
      "DEBUG:urllib3.connectionpool:https://api.openalex.org:443 \"GET /works?filter=has_doi:true,concepts_count:%3E0,publication_year:2017&sample=200&per-page=200 HTTP/1.1\" 200 275218\n",
      "DEBUG:urllib3.connectionpool:Starting new HTTPS connection (1): api.openalex.org:443\n"
     ]
    },
    {
     "name": "stdout",
     "output_type": "stream",
     "text": [
      "plus que 12 publications pour completer l'année 2017\n"
     ]
    },
    {
     "name": "stderr",
     "output_type": "stream",
     "text": [
      "DEBUG:urllib3.connectionpool:https://api.openalex.org:443 \"GET /works?filter=has_doi:true,concepts_count:%3E0,publication_year:2015&sample=200&per-page=200 HTTP/1.1\" 200 307421\n",
      "DEBUG:urllib3.connectionpool:Starting new HTTPS connection (1): api.openalex.org:443\n"
     ]
    },
    {
     "name": "stdout",
     "output_type": "stream",
     "text": [
      "plus que 545 publications pour completer l'année 2015\n"
     ]
    },
    {
     "name": "stderr",
     "output_type": "stream",
     "text": [
      "DEBUG:urllib3.connectionpool:https://api.openalex.org:443 \"GET /works?filter=has_doi:true,concepts_count:%3E0,publication_year:2015&sample=200&per-page=200 HTTP/1.1\" 200 273433\n",
      "DEBUG:urllib3.connectionpool:Starting new HTTPS connection (1): api.openalex.org:443\n"
     ]
    },
    {
     "name": "stdout",
     "output_type": "stream",
     "text": [
      "plus que 425 publications pour completer l'année 2015\n"
     ]
    },
    {
     "name": "stderr",
     "output_type": "stream",
     "text": [
      "DEBUG:urllib3.connectionpool:https://api.openalex.org:443 \"GET /works?filter=has_doi:true,concepts_count:%3E0,publication_year:2015&sample=200&per-page=200 HTTP/1.1\" 200 315554\n",
      "DEBUG:urllib3.connectionpool:Starting new HTTPS connection (1): api.openalex.org:443\n"
     ]
    },
    {
     "name": "stdout",
     "output_type": "stream",
     "text": [
      "plus que 324 publications pour completer l'année 2015\n"
     ]
    },
    {
     "name": "stderr",
     "output_type": "stream",
     "text": [
      "DEBUG:urllib3.connectionpool:https://api.openalex.org:443 \"GET /works?filter=has_doi:true,concepts_count:%3E0,publication_year:2015&sample=200&per-page=200 HTTP/1.1\" 200 284642\n",
      "DEBUG:urllib3.connectionpool:Starting new HTTPS connection (1): api.openalex.org:443\n"
     ]
    },
    {
     "name": "stdout",
     "output_type": "stream",
     "text": [
      "plus que 225 publications pour completer l'année 2015\n"
     ]
    },
    {
     "name": "stderr",
     "output_type": "stream",
     "text": [
      "DEBUG:urllib3.connectionpool:https://api.openalex.org:443 \"GET /works?filter=has_doi:true,concepts_count:%3E0,publication_year:2015&sample=200&per-page=200 HTTP/1.1\" 200 294112\n",
      "DEBUG:urllib3.connectionpool:Starting new HTTPS connection (1): api.openalex.org:443\n"
     ]
    },
    {
     "name": "stdout",
     "output_type": "stream",
     "text": [
      "plus que 110 publications pour completer l'année 2015\n"
     ]
    },
    {
     "name": "stderr",
     "output_type": "stream",
     "text": [
      "DEBUG:urllib3.connectionpool:https://api.openalex.org:443 \"GET /works?filter=has_doi:true,concepts_count:%3E0,publication_year:2015&sample=200&per-page=200 HTTP/1.1\" 200 296079\n",
      "DEBUG:urllib3.connectionpool:Starting new HTTPS connection (1): api.openalex.org:443\n"
     ]
    },
    {
     "name": "stdout",
     "output_type": "stream",
     "text": [
      "plus que 9 publications pour completer l'année 2015\n"
     ]
    },
    {
     "name": "stderr",
     "output_type": "stream",
     "text": [
      "DEBUG:urllib3.connectionpool:https://api.openalex.org:443 \"GET /works?filter=has_doi:true,concepts_count:%3E0,publication_year:2014&sample=200&per-page=200 HTTP/1.1\" 200 310391\n",
      "DEBUG:urllib3.connectionpool:Starting new HTTPS connection (1): api.openalex.org:443\n"
     ]
    },
    {
     "name": "stdout",
     "output_type": "stream",
     "text": [
      "plus que 485 publications pour completer l'année 2014\n"
     ]
    },
    {
     "name": "stderr",
     "output_type": "stream",
     "text": [
      "DEBUG:urllib3.connectionpool:https://api.openalex.org:443 \"GET /works?filter=has_doi:true,concepts_count:%3E0,publication_year:2014&sample=200&per-page=200 HTTP/1.1\" 200 305672\n",
      "DEBUG:urllib3.connectionpool:Starting new HTTPS connection (1): api.openalex.org:443\n"
     ]
    },
    {
     "name": "stdout",
     "output_type": "stream",
     "text": [
      "plus que 369 publications pour completer l'année 2014\n"
     ]
    },
    {
     "name": "stderr",
     "output_type": "stream",
     "text": [
      "DEBUG:urllib3.connectionpool:https://api.openalex.org:443 \"GET /works?filter=has_doi:true,concepts_count:%3E0,publication_year:2014&sample=200&per-page=200 HTTP/1.1\" 200 290998\n",
      "DEBUG:urllib3.connectionpool:Starting new HTTPS connection (1): api.openalex.org:443\n"
     ]
    },
    {
     "name": "stdout",
     "output_type": "stream",
     "text": [
      "plus que 267 publications pour completer l'année 2014\n"
     ]
    },
    {
     "name": "stderr",
     "output_type": "stream",
     "text": [
      "DEBUG:urllib3.connectionpool:https://api.openalex.org:443 \"GET /works?filter=has_doi:true,concepts_count:%3E0,publication_year:2014&sample=200&per-page=200 HTTP/1.1\" 200 275092\n",
      "DEBUG:urllib3.connectionpool:Starting new HTTPS connection (1): api.openalex.org:443\n"
     ]
    },
    {
     "name": "stdout",
     "output_type": "stream",
     "text": [
      "plus que 144 publications pour completer l'année 2014\n"
     ]
    },
    {
     "name": "stderr",
     "output_type": "stream",
     "text": [
      "DEBUG:urllib3.connectionpool:https://api.openalex.org:443 \"GET /works?filter=has_doi:true,concepts_count:%3E0,publication_year:2014&sample=200&per-page=200 HTTP/1.1\" 200 305097\n",
      "DEBUG:urllib3.connectionpool:Starting new HTTPS connection (1): api.openalex.org:443\n"
     ]
    },
    {
     "name": "stdout",
     "output_type": "stream",
     "text": [
      "plus que 44 publications pour completer l'année 2014\n"
     ]
    },
    {
     "name": "stderr",
     "output_type": "stream",
     "text": [
      "DEBUG:urllib3.connectionpool:https://api.openalex.org:443 \"GET /works?filter=has_doi:true,concepts_count:%3E0,publication_year:2013&sample=200&per-page=200 HTTP/1.1\" 200 291539\n",
      "DEBUG:urllib3.connectionpool:Starting new HTTPS connection (1): api.openalex.org:443\n"
     ]
    },
    {
     "name": "stdout",
     "output_type": "stream",
     "text": [
      "plus que 439 publications pour completer l'année 2013\n"
     ]
    },
    {
     "name": "stderr",
     "output_type": "stream",
     "text": [
      "DEBUG:urllib3.connectionpool:https://api.openalex.org:443 \"GET /works?filter=has_doi:true,concepts_count:%3E0,publication_year:2013&sample=200&per-page=200 HTTP/1.1\" 200 286418\n",
      "DEBUG:urllib3.connectionpool:Starting new HTTPS connection (1): api.openalex.org:443\n"
     ]
    },
    {
     "name": "stdout",
     "output_type": "stream",
     "text": [
      "plus que 326 publications pour completer l'année 2013\n"
     ]
    },
    {
     "name": "stderr",
     "output_type": "stream",
     "text": [
      "DEBUG:urllib3.connectionpool:https://api.openalex.org:443 \"GET /works?filter=has_doi:true,concepts_count:%3E0,publication_year:2013&sample=200&per-page=200 HTTP/1.1\" 200 302137\n",
      "DEBUG:urllib3.connectionpool:Starting new HTTPS connection (1): api.openalex.org:443\n"
     ]
    },
    {
     "name": "stdout",
     "output_type": "stream",
     "text": [
      "plus que 212 publications pour completer l'année 2013\n"
     ]
    },
    {
     "name": "stderr",
     "output_type": "stream",
     "text": [
      "DEBUG:urllib3.connectionpool:https://api.openalex.org:443 \"GET /works?filter=has_doi:true,concepts_count:%3E0,publication_year:2013&sample=200&per-page=200 HTTP/1.1\" 200 290408\n",
      "DEBUG:urllib3.connectionpool:Starting new HTTPS connection (1): api.openalex.org:443\n"
     ]
    },
    {
     "name": "stdout",
     "output_type": "stream",
     "text": [
      "plus que 90 publications pour completer l'année 2013\n"
     ]
    },
    {
     "name": "stderr",
     "output_type": "stream",
     "text": [
      "DEBUG:urllib3.connectionpool:https://api.openalex.org:443 \"GET /works?filter=has_doi:true,concepts_count:%3E0,publication_year:2012&sample=200&per-page=200 HTTP/1.1\" 200 282669\n",
      "DEBUG:urllib3.connectionpool:Starting new HTTPS connection (1): api.openalex.org:443\n"
     ]
    },
    {
     "name": "stdout",
     "output_type": "stream",
     "text": [
      "plus que 349 publications pour completer l'année 2012\n"
     ]
    },
    {
     "name": "stderr",
     "output_type": "stream",
     "text": [
      "DEBUG:urllib3.connectionpool:https://api.openalex.org:443 \"GET /works?filter=has_doi:true,concepts_count:%3E0,publication_year:2012&sample=200&per-page=200 HTTP/1.1\" 200 289329\n",
      "DEBUG:urllib3.connectionpool:Starting new HTTPS connection (1): api.openalex.org:443\n"
     ]
    },
    {
     "name": "stdout",
     "output_type": "stream",
     "text": [
      "plus que 246 publications pour completer l'année 2012\n"
     ]
    },
    {
     "name": "stderr",
     "output_type": "stream",
     "text": [
      "DEBUG:urllib3.connectionpool:https://api.openalex.org:443 \"GET /works?filter=has_doi:true,concepts_count:%3E0,publication_year:2012&sample=200&per-page=200 HTTP/1.1\" 200 300954\n",
      "DEBUG:urllib3.connectionpool:Starting new HTTPS connection (1): api.openalex.org:443\n"
     ]
    },
    {
     "name": "stdout",
     "output_type": "stream",
     "text": [
      "plus que 130 publications pour completer l'année 2012\n"
     ]
    },
    {
     "name": "stderr",
     "output_type": "stream",
     "text": [
      "DEBUG:urllib3.connectionpool:https://api.openalex.org:443 \"GET /works?filter=has_doi:true,concepts_count:%3E0,publication_year:2012&sample=200&per-page=200 HTTP/1.1\" 200 265939\n",
      "DEBUG:urllib3.connectionpool:Starting new HTTPS connection (1): api.openalex.org:443\n"
     ]
    },
    {
     "name": "stdout",
     "output_type": "stream",
     "text": [
      "plus que 19 publications pour completer l'année 2012\n"
     ]
    },
    {
     "name": "stderr",
     "output_type": "stream",
     "text": [
      "DEBUG:urllib3.connectionpool:https://api.openalex.org:443 \"GET /works?filter=has_doi:true,concepts_count:%3E0,publication_year:2010&sample=200&per-page=200 HTTP/1.1\" 200 298112\n",
      "DEBUG:urllib3.connectionpool:Starting new HTTPS connection (1): api.openalex.org:443\n"
     ]
    },
    {
     "name": "stdout",
     "output_type": "stream",
     "text": [
      "plus que 338 publications pour completer l'année 2010\n"
     ]
    },
    {
     "name": "stderr",
     "output_type": "stream",
     "text": [
      "DEBUG:urllib3.connectionpool:https://api.openalex.org:443 \"GET /works?filter=has_doi:true,concepts_count:%3E0,publication_year:2010&sample=200&per-page=200 HTTP/1.1\" 200 309228\n",
      "DEBUG:urllib3.connectionpool:Starting new HTTPS connection (1): api.openalex.org:443\n"
     ]
    },
    {
     "name": "stdout",
     "output_type": "stream",
     "text": [
      "plus que 220 publications pour completer l'année 2010\n"
     ]
    },
    {
     "name": "stderr",
     "output_type": "stream",
     "text": [
      "DEBUG:urllib3.connectionpool:https://api.openalex.org:443 \"GET /works?filter=has_doi:true,concepts_count:%3E0,publication_year:2010&sample=200&per-page=200 HTTP/1.1\" 200 293888\n",
      "DEBUG:urllib3.connectionpool:Starting new HTTPS connection (1): api.openalex.org:443\n"
     ]
    },
    {
     "name": "stdout",
     "output_type": "stream",
     "text": [
      "plus que 102 publications pour completer l'année 2010\n"
     ]
    },
    {
     "name": "stderr",
     "output_type": "stream",
     "text": [
      "DEBUG:urllib3.connectionpool:https://api.openalex.org:443 \"GET /works?filter=has_doi:true,concepts_count:%3E0,publication_year:2011&sample=200&per-page=200 HTTP/1.1\" 200 282321\n",
      "DEBUG:urllib3.connectionpool:Starting new HTTPS connection (1): api.openalex.org:443\n"
     ]
    },
    {
     "name": "stdout",
     "output_type": "stream",
     "text": [
      "plus que 294 publications pour completer l'année 2011\n"
     ]
    },
    {
     "name": "stderr",
     "output_type": "stream",
     "text": [
      "DEBUG:urllib3.connectionpool:https://api.openalex.org:443 \"GET /works?filter=has_doi:true,concepts_count:%3E0,publication_year:2011&sample=200&per-page=200 HTTP/1.1\" 200 292534\n",
      "DEBUG:urllib3.connectionpool:Starting new HTTPS connection (1): api.openalex.org:443\n"
     ]
    },
    {
     "name": "stdout",
     "output_type": "stream",
     "text": [
      "plus que 174 publications pour completer l'année 2011\n"
     ]
    },
    {
     "name": "stderr",
     "output_type": "stream",
     "text": [
      "DEBUG:urllib3.connectionpool:https://api.openalex.org:443 \"GET /works?filter=has_doi:true,concepts_count:%3E0,publication_year:2011&sample=200&per-page=200 HTTP/1.1\" 200 283329\n",
      "DEBUG:urllib3.connectionpool:Starting new HTTPS connection (1): api.openalex.org:443\n"
     ]
    },
    {
     "name": "stdout",
     "output_type": "stream",
     "text": [
      "plus que 59 publications pour completer l'année 2011\n"
     ]
    },
    {
     "name": "stderr",
     "output_type": "stream",
     "text": [
      "DEBUG:urllib3.connectionpool:https://api.openalex.org:443 \"GET /works?filter=has_doi:true,concepts_count:%3E0,publication_year:2018&sample=200&per-page=200 HTTP/1.1\" 200 305362\n",
      "DEBUG:urllib3.connectionpool:Starting new HTTPS connection (1): api.openalex.org:443\n"
     ]
    },
    {
     "name": "stdout",
     "output_type": "stream",
     "text": [
      "plus que 273 publications pour completer l'année 2018\n"
     ]
    },
    {
     "name": "stderr",
     "output_type": "stream",
     "text": [
      "DEBUG:urllib3.connectionpool:https://api.openalex.org:443 \"GET /works?filter=has_doi:true,concepts_count:%3E0,publication_year:2018&sample=200&per-page=200 HTTP/1.1\" 200 313070\n",
      "DEBUG:urllib3.connectionpool:Starting new HTTPS connection (1): api.openalex.org:443\n"
     ]
    },
    {
     "name": "stdout",
     "output_type": "stream",
     "text": [
      "plus que 166 publications pour completer l'année 2018\n"
     ]
    },
    {
     "name": "stderr",
     "output_type": "stream",
     "text": [
      "DEBUG:urllib3.connectionpool:https://api.openalex.org:443 \"GET /works?filter=has_doi:true,concepts_count:%3E0,publication_year:2018&sample=200&per-page=200 HTTP/1.1\" 200 316438\n",
      "DEBUG:urllib3.connectionpool:Starting new HTTPS connection (1): api.openalex.org:443\n"
     ]
    },
    {
     "name": "stdout",
     "output_type": "stream",
     "text": [
      "plus que 59 publications pour completer l'année 2018\n"
     ]
    },
    {
     "name": "stderr",
     "output_type": "stream",
     "text": [
      "DEBUG:urllib3.connectionpool:https://api.openalex.org:443 \"GET /works?filter=has_doi:true,concepts_count:%3E0,publication_year:2009&sample=200&per-page=200 HTTP/1.1\" 200 275358\n",
      "DEBUG:urllib3.connectionpool:Starting new HTTPS connection (1): api.openalex.org:443\n"
     ]
    },
    {
     "name": "stdout",
     "output_type": "stream",
     "text": [
      "plus que 250 publications pour completer l'année 2009\n"
     ]
    },
    {
     "name": "stderr",
     "output_type": "stream",
     "text": [
      "DEBUG:urllib3.connectionpool:https://api.openalex.org:443 \"GET /works?filter=has_doi:true,concepts_count:%3E0,publication_year:2009&sample=200&per-page=200 HTTP/1.1\" 200 284938\n",
      "DEBUG:urllib3.connectionpool:Starting new HTTPS connection (1): api.openalex.org:443\n"
     ]
    },
    {
     "name": "stdout",
     "output_type": "stream",
     "text": [
      "plus que 137 publications pour completer l'année 2009\n"
     ]
    },
    {
     "name": "stderr",
     "output_type": "stream",
     "text": [
      "DEBUG:urllib3.connectionpool:https://api.openalex.org:443 \"GET /works?filter=has_doi:true,concepts_count:%3E0,publication_year:2009&sample=200&per-page=200 HTTP/1.1\" 200 293522\n"
     ]
    },
    {
     "name": "stdout",
     "output_type": "stream",
     "text": [
      "plus que 11 publications pour completer l'année 2009\n"
     ]
    },
    {
     "name": "stderr",
     "output_type": "stream",
     "text": [
      "DEBUG:urllib3.connectionpool:Starting new HTTPS connection (1): api.openalex.org:443\n",
      "DEBUG:urllib3.connectionpool:https://api.openalex.org:443 \"GET /works?filter=has_doi:true,concepts_count:%3E0,publication_year:2008&sample=200&per-page=200 HTTP/1.1\" 200 292201\n",
      "DEBUG:urllib3.connectionpool:Starting new HTTPS connection (1): api.openalex.org:443\n"
     ]
    },
    {
     "name": "stdout",
     "output_type": "stream",
     "text": [
      "plus que 221 publications pour completer l'année 2008\n"
     ]
    },
    {
     "name": "stderr",
     "output_type": "stream",
     "text": [
      "DEBUG:urllib3.connectionpool:https://api.openalex.org:443 \"GET /works?filter=has_doi:true,concepts_count:%3E0,publication_year:2008&sample=200&per-page=200 HTTP/1.1\" 200 257430\n",
      "DEBUG:urllib3.connectionpool:Starting new HTTPS connection (1): api.openalex.org:443\n"
     ]
    },
    {
     "name": "stdout",
     "output_type": "stream",
     "text": [
      "plus que 105 publications pour completer l'année 2008\n"
     ]
    },
    {
     "name": "stderr",
     "output_type": "stream",
     "text": [
      "DEBUG:urllib3.connectionpool:https://api.openalex.org:443 \"GET /works?filter=has_doi:true,concepts_count:%3E0,publication_year:2007&sample=200&per-page=200 HTTP/1.1\" 200 260107\n",
      "DEBUG:urllib3.connectionpool:Starting new HTTPS connection (1): api.openalex.org:443\n"
     ]
    },
    {
     "name": "stdout",
     "output_type": "stream",
     "text": [
      "plus que 188 publications pour completer l'année 2007\n"
     ]
    },
    {
     "name": "stderr",
     "output_type": "stream",
     "text": [
      "DEBUG:urllib3.connectionpool:https://api.openalex.org:443 \"GET /works?filter=has_doi:true,concepts_count:%3E0,publication_year:2007&sample=200&per-page=200 HTTP/1.1\" 200 286910\n",
      "DEBUG:urllib3.connectionpool:Starting new HTTPS connection (1): api.openalex.org:443\n"
     ]
    },
    {
     "name": "stdout",
     "output_type": "stream",
     "text": [
      "plus que 73 publications pour completer l'année 2007\n"
     ]
    },
    {
     "name": "stderr",
     "output_type": "stream",
     "text": [
      "DEBUG:urllib3.connectionpool:https://api.openalex.org:443 \"GET /works?filter=has_doi:true,concepts_count:%3E0,publication_year:2006&sample=200&per-page=200 HTTP/1.1\" 200 295642\n",
      "DEBUG:urllib3.connectionpool:Starting new HTTPS connection (1): api.openalex.org:443\n"
     ]
    },
    {
     "name": "stdout",
     "output_type": "stream",
     "text": [
      "plus que 153 publications pour completer l'année 2006\n"
     ]
    },
    {
     "name": "stderr",
     "output_type": "stream",
     "text": [
      "DEBUG:urllib3.connectionpool:https://api.openalex.org:443 \"GET /works?filter=has_doi:true,concepts_count:%3E0,publication_year:2006&sample=200&per-page=200 HTTP/1.1\" 200 275788\n",
      "DEBUG:urllib3.connectionpool:Starting new HTTPS connection (1): api.openalex.org:443\n"
     ]
    },
    {
     "name": "stdout",
     "output_type": "stream",
     "text": [
      "plus que 28 publications pour completer l'année 2006\n"
     ]
    },
    {
     "name": "stderr",
     "output_type": "stream",
     "text": [
      "DEBUG:urllib3.connectionpool:https://api.openalex.org:443 \"GET /works?filter=has_doi:true,concepts_count:%3E0,publication_year:2005&sample=200&per-page=200 HTTP/1.1\" 200 271282\n",
      "DEBUG:urllib3.connectionpool:Starting new HTTPS connection (1): api.openalex.org:443\n"
     ]
    },
    {
     "name": "stdout",
     "output_type": "stream",
     "text": [
      "plus que 120 publications pour completer l'année 2005\n"
     ]
    },
    {
     "name": "stderr",
     "output_type": "stream",
     "text": [
      "DEBUG:urllib3.connectionpool:https://api.openalex.org:443 \"GET /works?filter=has_doi:true,concepts_count:%3E0,publication_year:2004&sample=200&per-page=200 HTTP/1.1\" 200 285968\n"
     ]
    },
    {
     "name": "stdout",
     "output_type": "stream",
     "text": [
      "plus que 106 publications pour completer l'année 2004\n"
     ]
    },
    {
     "name": "stderr",
     "output_type": "stream",
     "text": [
      "DEBUG:urllib3.connectionpool:Starting new HTTPS connection (1): api.openalex.org:443\n",
      "DEBUG:urllib3.connectionpool:https://api.openalex.org:443 \"GET /works?filter=has_doi:true,concepts_count:%3E0,publication_year:2003&sample=200&per-page=200 HTTP/1.1\" 200 249347\n"
     ]
    },
    {
     "name": "stdout",
     "output_type": "stream",
     "text": [
      "plus que 91 publications pour completer l'année 2003\n"
     ]
    },
    {
     "name": "stderr",
     "output_type": "stream",
     "text": [
      "DEBUG:urllib3.connectionpool:Starting new HTTPS connection (1): api.openalex.org:443\n",
      "DEBUG:urllib3.connectionpool:https://api.openalex.org:443 \"GET /works?filter=has_doi:true,concepts_count:%3E0,publication_year:2002&sample=200&per-page=200 HTTP/1.1\" 200 268715\n",
      "DEBUG:urllib3.connectionpool:Starting new HTTPS connection (1): api.openalex.org:443\n"
     ]
    },
    {
     "name": "stdout",
     "output_type": "stream",
     "text": [
      "plus que 81 publications pour completer l'année 2002\n"
     ]
    },
    {
     "name": "stderr",
     "output_type": "stream",
     "text": [
      "DEBUG:urllib3.connectionpool:https://api.openalex.org:443 \"GET /works?filter=has_doi:true,concepts_count:%3E0,publication_year:2000&sample=200&per-page=200 HTTP/1.1\" 200 256748\n",
      "DEBUG:urllib3.connectionpool:Starting new HTTPS connection (1): api.openalex.org:443\n"
     ]
    },
    {
     "name": "stdout",
     "output_type": "stream",
     "text": [
      "plus que 63 publications pour completer l'année 2000\n"
     ]
    },
    {
     "name": "stderr",
     "output_type": "stream",
     "text": [
      "DEBUG:urllib3.connectionpool:https://api.openalex.org:443 \"GET /works?filter=has_doi:true,concepts_count:%3E0,publication_year:2001&sample=200&per-page=200 HTTP/1.1\" 200 281390\n",
      "DEBUG:urllib3.connectionpool:Starting new HTTPS connection (1): api.openalex.org:443\n"
     ]
    },
    {
     "name": "stdout",
     "output_type": "stream",
     "text": [
      "plus que 60 publications pour completer l'année 2001\n"
     ]
    },
    {
     "name": "stderr",
     "output_type": "stream",
     "text": [
      "DEBUG:urllib3.connectionpool:https://api.openalex.org:443 \"GET /works?filter=has_doi:true,concepts_count:%3E0,publication_year:1999&sample=200&per-page=200 HTTP/1.1\" 200 266139\n",
      "DEBUG:urllib3.connectionpool:Starting new HTTPS connection (1): api.openalex.org:443\n"
     ]
    },
    {
     "name": "stdout",
     "output_type": "stream",
     "text": [
      "plus que 41 publications pour completer l'année 1999\n"
     ]
    },
    {
     "name": "stderr",
     "output_type": "stream",
     "text": [
      "DEBUG:urllib3.connectionpool:https://api.openalex.org:443 \"GET /works?filter=has_doi:true,concepts_count:%3E0,publication_year:1998&sample=200&per-page=200 HTTP/1.1\" 200 268517\n",
      "DEBUG:urllib3.connectionpool:Starting new HTTPS connection (1): api.openalex.org:443\n"
     ]
    },
    {
     "name": "stdout",
     "output_type": "stream",
     "text": [
      "plus que 33 publications pour completer l'année 1998\n"
     ]
    },
    {
     "name": "stderr",
     "output_type": "stream",
     "text": [
      "DEBUG:urllib3.connectionpool:https://api.openalex.org:443 \"GET /works?filter=has_doi:true,concepts_count:%3E0,publication_year:1997&sample=200&per-page=200 HTTP/1.1\" 200 241895\n",
      "DEBUG:urllib3.connectionpool:Starting new HTTPS connection (1): api.openalex.org:443\n"
     ]
    },
    {
     "name": "stdout",
     "output_type": "stream",
     "text": [
      "plus que 30 publications pour completer l'année 1997\n"
     ]
    },
    {
     "name": "stderr",
     "output_type": "stream",
     "text": [
      "DEBUG:urllib3.connectionpool:https://api.openalex.org:443 \"GET /works?filter=has_doi:true,concepts_count:%3E0,publication_year:1996&sample=200&per-page=200 HTTP/1.1\" 200 236992\n",
      "DEBUG:urllib3.connectionpool:Starting new HTTPS connection (1): api.openalex.org:443\n"
     ]
    },
    {
     "name": "stdout",
     "output_type": "stream",
     "text": [
      "plus que 21 publications pour completer l'année 1996\n"
     ]
    },
    {
     "name": "stderr",
     "output_type": "stream",
     "text": [
      "DEBUG:urllib3.connectionpool:https://api.openalex.org:443 \"GET /works?filter=has_doi:true,concepts_count:%3E0,publication_year:1994&sample=200&per-page=200 HTTP/1.1\" 200 255475\n",
      "DEBUG:urllib3.connectionpool:Starting new HTTPS connection (1): api.openalex.org:443\n"
     ]
    },
    {
     "name": "stdout",
     "output_type": "stream",
     "text": [
      "plus que 17 publications pour completer l'année 1994\n"
     ]
    },
    {
     "name": "stderr",
     "output_type": "stream",
     "text": [
      "DEBUG:urllib3.connectionpool:https://api.openalex.org:443 \"GET /works?filter=has_doi:true,concepts_count:%3E0,publication_year:1992&sample=200&per-page=200 HTTP/1.1\" 200 226869\n",
      "DEBUG:urllib3.connectionpool:Starting new HTTPS connection (1): api.openalex.org:443\n"
     ]
    },
    {
     "name": "stdout",
     "output_type": "stream",
     "text": [
      "plus que 15 publications pour completer l'année 1992\n"
     ]
    },
    {
     "name": "stderr",
     "output_type": "stream",
     "text": [
      "DEBUG:urllib3.connectionpool:https://api.openalex.org:443 \"GET /works?filter=has_doi:true,concepts_count:%3E0,publication_year:1995&sample=200&per-page=200 HTTP/1.1\" 200 250445\n",
      "DEBUG:urllib3.connectionpool:Starting new HTTPS connection (1): api.openalex.org:443\n"
     ]
    },
    {
     "name": "stdout",
     "output_type": "stream",
     "text": [
      "plus que 14 publications pour completer l'année 1995\n"
     ]
    },
    {
     "name": "stderr",
     "output_type": "stream",
     "text": [
      "DEBUG:urllib3.connectionpool:https://api.openalex.org:443 \"GET /works?filter=has_doi:true,concepts_count:%3E0,publication_year:2019&sample=200&per-page=200 HTTP/1.1\" 200 345173\n",
      "DEBUG:urllib3.connectionpool:Starting new HTTPS connection (1): api.openalex.org:443\n"
     ]
    },
    {
     "name": "stdout",
     "output_type": "stream",
     "text": [
      "plus que 13 publications pour completer l'année 2019\n"
     ]
    },
    {
     "name": "stderr",
     "output_type": "stream",
     "text": [
      "DEBUG:urllib3.connectionpool:https://api.openalex.org:443 \"GET /works?filter=has_doi:true,concepts_count:%3E0,publication_year:1991&sample=200&per-page=200 HTTP/1.1\" 200 241018\n",
      "DEBUG:urllib3.connectionpool:Starting new HTTPS connection (1): api.openalex.org:443\n"
     ]
    },
    {
     "name": "stdout",
     "output_type": "stream",
     "text": [
      "plus que 9 publications pour completer l'année 1991\n"
     ]
    },
    {
     "name": "stderr",
     "output_type": "stream",
     "text": [
      "DEBUG:urllib3.connectionpool:https://api.openalex.org:443 \"GET /works?filter=has_doi:true,concepts_count:%3E0,publication_year:1993&sample=200&per-page=200 HTTP/1.1\" 200 240083\n",
      "DEBUG:urllib3.connectionpool:Starting new HTTPS connection (1): api.openalex.org:443\n"
     ]
    },
    {
     "name": "stdout",
     "output_type": "stream",
     "text": [
      "plus que 7 publications pour completer l'année 1993\n"
     ]
    },
    {
     "name": "stderr",
     "output_type": "stream",
     "text": [
      "DEBUG:urllib3.connectionpool:https://api.openalex.org:443 \"GET /works?filter=has_doi:true,concepts_count:%3E0,publication_year:1988&sample=200&per-page=200 HTTP/1.1\" 200 217036\n",
      "DEBUG:urllib3.connectionpool:Starting new HTTPS connection (1): api.openalex.org:443\n"
     ]
    },
    {
     "name": "stdout",
     "output_type": "stream",
     "text": [
      "plus que 7 publications pour completer l'année 1988\n"
     ]
    },
    {
     "name": "stderr",
     "output_type": "stream",
     "text": [
      "DEBUG:urllib3.connectionpool:https://api.openalex.org:443 \"GET /works?filter=has_doi:true,concepts_count:%3E0,publication_year:1978&sample=200&per-page=200 HTTP/1.1\" 200 216726\n"
     ]
    },
    {
     "name": "stdout",
     "output_type": "stream",
     "text": [
      "plus que 5 publications pour completer l'année 1978\n"
     ]
    },
    {
     "name": "stderr",
     "output_type": "stream",
     "text": [
      "DEBUG:urllib3.connectionpool:Starting new HTTPS connection (1): api.openalex.org:443\n",
      "DEBUG:urllib3.connectionpool:https://api.openalex.org:443 \"GET /works?filter=has_doi:true,concepts_count:%3E0,publication_year:1990&sample=200&per-page=200 HTTP/1.1\" 200 233773\n",
      "DEBUG:urllib3.connectionpool:Starting new HTTPS connection (1): api.openalex.org:443\n"
     ]
    },
    {
     "name": "stdout",
     "output_type": "stream",
     "text": [
      "plus que 4 publications pour completer l'année 1990\n"
     ]
    },
    {
     "name": "stderr",
     "output_type": "stream",
     "text": [
      "DEBUG:urllib3.connectionpool:https://api.openalex.org:443 \"GET /works?filter=has_doi:true,concepts_count:%3E0,publication_year:1989&sample=200&per-page=200 HTTP/1.1\" 200 230270\n",
      "DEBUG:urllib3.connectionpool:Starting new HTTPS connection (1): api.openalex.org:443\n"
     ]
    },
    {
     "name": "stdout",
     "output_type": "stream",
     "text": [
      "plus que 4 publications pour completer l'année 1989\n"
     ]
    },
    {
     "name": "stderr",
     "output_type": "stream",
     "text": [
      "DEBUG:urllib3.connectionpool:https://api.openalex.org:443 \"GET /works?filter=has_doi:true,concepts_count:%3E0,publication_year:1987&sample=200&per-page=200 HTTP/1.1\" 200 227921\n",
      "DEBUG:urllib3.connectionpool:Starting new HTTPS connection (1): api.openalex.org:443\n"
     ]
    },
    {
     "name": "stdout",
     "output_type": "stream",
     "text": [
      "plus que 4 publications pour completer l'année 1987\n"
     ]
    },
    {
     "name": "stderr",
     "output_type": "stream",
     "text": [
      "DEBUG:urllib3.connectionpool:https://api.openalex.org:443 \"GET /works?filter=has_doi:true,concepts_count:%3E0,publication_year:1985&sample=200&per-page=200 HTTP/1.1\" 200 218290\n",
      "DEBUG:urllib3.connectionpool:Starting new HTTPS connection (1): api.openalex.org:443\n"
     ]
    },
    {
     "name": "stdout",
     "output_type": "stream",
     "text": [
      "plus que 4 publications pour completer l'année 1985\n"
     ]
    },
    {
     "name": "stderr",
     "output_type": "stream",
     "text": [
      "DEBUG:urllib3.connectionpool:https://api.openalex.org:443 \"GET /works?filter=has_doi:true,concepts_count:%3E0,publication_year:1973&sample=200&per-page=200 HTTP/1.1\" 200 186506\n",
      "DEBUG:urllib3.connectionpool:Starting new HTTPS connection (1): api.openalex.org:443\n"
     ]
    },
    {
     "name": "stdout",
     "output_type": "stream",
     "text": [
      "plus que 4 publications pour completer l'année 1973\n"
     ]
    },
    {
     "name": "stderr",
     "output_type": "stream",
     "text": [
      "DEBUG:urllib3.connectionpool:https://api.openalex.org:443 \"GET /works?filter=has_doi:true,concepts_count:%3E0,publication_year:1980&sample=200&per-page=200 HTTP/1.1\" 200 211010\n",
      "DEBUG:urllib3.connectionpool:Starting new HTTPS connection (1): api.openalex.org:443\n"
     ]
    },
    {
     "name": "stdout",
     "output_type": "stream",
     "text": [
      "plus que 3 publications pour completer l'année 1980\n"
     ]
    },
    {
     "name": "stderr",
     "output_type": "stream",
     "text": [
      "DEBUG:urllib3.connectionpool:https://api.openalex.org:443 \"GET /works?filter=has_doi:true,concepts_count:%3E0,publication_year:1966&sample=200&per-page=200 HTTP/1.1\" 200 158706\n",
      "DEBUG:urllib3.connectionpool:Starting new HTTPS connection (1): api.openalex.org:443\n"
     ]
    },
    {
     "name": "stdout",
     "output_type": "stream",
     "text": [
      "plus que 3 publications pour completer l'année 1966\n"
     ]
    },
    {
     "name": "stderr",
     "output_type": "stream",
     "text": [
      "DEBUG:urllib3.connectionpool:https://api.openalex.org:443 \"GET /works?filter=has_doi:true,concepts_count:%3E0,publication_year:1977&sample=200&per-page=200 HTTP/1.1\" 200 189640\n",
      "DEBUG:urllib3.connectionpool:Starting new HTTPS connection (1): api.openalex.org:443\n"
     ]
    },
    {
     "name": "stdout",
     "output_type": "stream",
     "text": [
      "plus que 3 publications pour completer l'année 1977\n"
     ]
    },
    {
     "name": "stderr",
     "output_type": "stream",
     "text": [
      "DEBUG:urllib3.connectionpool:https://api.openalex.org:443 \"GET /works?filter=has_doi:true,concepts_count:%3E0,publication_year:1981&sample=200&per-page=200 HTTP/1.1\" 200 213197\n",
      "DEBUG:urllib3.connectionpool:Starting new HTTPS connection (1): api.openalex.org:443\n"
     ]
    },
    {
     "name": "stdout",
     "output_type": "stream",
     "text": [
      "plus que 2 publications pour completer l'année 1981\n"
     ]
    },
    {
     "name": "stderr",
     "output_type": "stream",
     "text": [
      "DEBUG:urllib3.connectionpool:https://api.openalex.org:443 \"GET /works?filter=has_doi:true,concepts_count:%3E0,publication_year:1970&sample=200&per-page=200 HTTP/1.1\" 200 202654\n",
      "DEBUG:urllib3.connectionpool:Starting new HTTPS connection (1): api.openalex.org:443\n"
     ]
    },
    {
     "name": "stdout",
     "output_type": "stream",
     "text": [
      "plus que 2 publications pour completer l'année 1970\n"
     ]
    },
    {
     "name": "stderr",
     "output_type": "stream",
     "text": [
      "DEBUG:urllib3.connectionpool:https://api.openalex.org:443 \"GET /works?filter=has_doi:true,concepts_count:%3E0,publication_year:1979&sample=200&per-page=200 HTTP/1.1\" 200 212481\n",
      "DEBUG:urllib3.connectionpool:Starting new HTTPS connection (1): api.openalex.org:443\n"
     ]
    },
    {
     "name": "stdout",
     "output_type": "stream",
     "text": [
      "plus que 2 publications pour completer l'année 1979\n"
     ]
    },
    {
     "name": "stderr",
     "output_type": "stream",
     "text": [
      "DEBUG:urllib3.connectionpool:https://api.openalex.org:443 \"GET /works?filter=has_doi:true,concepts_count:%3E0,publication_year:1983&sample=200&per-page=200 HTTP/1.1\" 200 210318\n"
     ]
    },
    {
     "name": "stdout",
     "output_type": "stream",
     "text": [
      "plus que 2 publications pour completer l'année 1983\n"
     ]
    },
    {
     "name": "stderr",
     "output_type": "stream",
     "text": [
      "DEBUG:urllib3.connectionpool:Starting new HTTPS connection (1): api.openalex.org:443\n",
      "DEBUG:urllib3.connectionpool:https://api.openalex.org:443 \"GET /works?filter=has_doi:true,concepts_count:%3E0,publication_year:1986&sample=200&per-page=200 HTTP/1.1\" 200 218598\n",
      "DEBUG:urllib3.connectionpool:Starting new HTTPS connection (1): api.openalex.org:443\n"
     ]
    },
    {
     "name": "stdout",
     "output_type": "stream",
     "text": [
      "plus que 2 publications pour completer l'année 1986\n"
     ]
    },
    {
     "name": "stderr",
     "output_type": "stream",
     "text": [
      "DEBUG:urllib3.connectionpool:https://api.openalex.org:443 \"GET /works?filter=has_doi:true,concepts_count:%3E0,publication_year:1968&sample=200&per-page=200 HTTP/1.1\" 200 171348\n",
      "DEBUG:urllib3.connectionpool:Starting new HTTPS connection (1): api.openalex.org:443\n"
     ]
    },
    {
     "name": "stdout",
     "output_type": "stream",
     "text": [
      "plus que 2 publications pour completer l'année 1968\n"
     ]
    },
    {
     "name": "stderr",
     "output_type": "stream",
     "text": [
      "DEBUG:urllib3.connectionpool:https://api.openalex.org:443 \"GET /works?filter=has_doi:true,concepts_count:%3E0,publication_year:1971&sample=200&per-page=200 HTTP/1.1\" 200 189316\n",
      "DEBUG:urllib3.connectionpool:Starting new HTTPS connection (1): api.openalex.org:443\n"
     ]
    },
    {
     "name": "stdout",
     "output_type": "stream",
     "text": [
      "plus que 2 publications pour completer l'année 1971\n"
     ]
    },
    {
     "name": "stderr",
     "output_type": "stream",
     "text": [
      "DEBUG:urllib3.connectionpool:https://api.openalex.org:443 \"GET /works?filter=has_doi:true,concepts_count:%3E0,publication_year:1957&sample=200&per-page=200 HTTP/1.1\" 200 147340\n",
      "DEBUG:urllib3.connectionpool:Starting new HTTPS connection (1): api.openalex.org:443\n"
     ]
    },
    {
     "name": "stdout",
     "output_type": "stream",
     "text": [
      "plus que 1 publications pour completer l'année 1957\n"
     ]
    },
    {
     "name": "stderr",
     "output_type": "stream",
     "text": [
      "DEBUG:urllib3.connectionpool:https://api.openalex.org:443 \"GET /works?filter=has_doi:true,concepts_count:%3E0,publication_year:1960&sample=200&per-page=200 HTTP/1.1\" 200 167566\n",
      "DEBUG:urllib3.connectionpool:Starting new HTTPS connection (1): api.openalex.org:443\n"
     ]
    },
    {
     "name": "stdout",
     "output_type": "stream",
     "text": [
      "plus que 1 publications pour completer l'année 1960\n"
     ]
    },
    {
     "name": "stderr",
     "output_type": "stream",
     "text": [
      "DEBUG:urllib3.connectionpool:https://api.openalex.org:443 \"GET /works?filter=has_doi:true,concepts_count:%3E0,publication_year:1961&sample=200&per-page=200 HTTP/1.1\" 200 155397\n",
      "DEBUG:urllib3.connectionpool:Starting new HTTPS connection (1): api.openalex.org:443\n"
     ]
    },
    {
     "name": "stdout",
     "output_type": "stream",
     "text": [
      "plus que 1 publications pour completer l'année 1961\n"
     ]
    },
    {
     "name": "stderr",
     "output_type": "stream",
     "text": [
      "DEBUG:urllib3.connectionpool:https://api.openalex.org:443 \"GET /works?filter=has_doi:true,concepts_count:%3E0,publication_year:1962&sample=200&per-page=200 HTTP/1.1\" 200 180206\n",
      "DEBUG:urllib3.connectionpool:Starting new HTTPS connection (1): api.openalex.org:443\n"
     ]
    },
    {
     "name": "stdout",
     "output_type": "stream",
     "text": [
      "plus que 1 publications pour completer l'année 1962\n"
     ]
    },
    {
     "name": "stderr",
     "output_type": "stream",
     "text": [
      "DEBUG:urllib3.connectionpool:https://api.openalex.org:443 \"GET /works?filter=has_doi:true,concepts_count:%3E0,publication_year:1972&sample=200&per-page=200 HTTP/1.1\" 200 190114\n",
      "DEBUG:urllib3.connectionpool:Starting new HTTPS connection (1): api.openalex.org:443\n"
     ]
    },
    {
     "name": "stdout",
     "output_type": "stream",
     "text": [
      "plus que 1 publications pour completer l'année 1972\n"
     ]
    },
    {
     "name": "stderr",
     "output_type": "stream",
     "text": [
      "DEBUG:urllib3.connectionpool:https://api.openalex.org:443 \"GET /works?filter=has_doi:true,concepts_count:%3E0,publication_year:1982&sample=200&per-page=200 HTTP/1.1\" 200 227865\n",
      "DEBUG:urllib3.connectionpool:Starting new HTTPS connection (1): api.openalex.org:443\n"
     ]
    },
    {
     "name": "stdout",
     "output_type": "stream",
     "text": [
      "plus que 1 publications pour completer l'année 1982\n"
     ]
    },
    {
     "name": "stderr",
     "output_type": "stream",
     "text": [
      "DEBUG:urllib3.connectionpool:https://api.openalex.org:443 \"GET /works?filter=has_doi:true,concepts_count:%3E0,publication_year:1984&sample=200&per-page=200 HTTP/1.1\" 200 228402\n",
      "DEBUG:urllib3.connectionpool:Starting new HTTPS connection (1): api.openalex.org:443\n"
     ]
    },
    {
     "name": "stdout",
     "output_type": "stream",
     "text": [
      "plus que 1 publications pour completer l'année 1984\n"
     ]
    },
    {
     "name": "stderr",
     "output_type": "stream",
     "text": [
      "DEBUG:urllib3.connectionpool:https://api.openalex.org:443 \"GET /works?filter=has_doi:true,concepts_count:%3E0,publication_year:1974&sample=200&per-page=200 HTTP/1.1\" 200 191100\n",
      "DEBUG:urllib3.connectionpool:Starting new HTTPS connection (1): api.openalex.org:443\n"
     ]
    },
    {
     "name": "stdout",
     "output_type": "stream",
     "text": [
      "plus que 1 publications pour completer l'année 1974\n"
     ]
    },
    {
     "name": "stderr",
     "output_type": "stream",
     "text": [
      "DEBUG:urllib3.connectionpool:https://api.openalex.org:443 \"GET /works?filter=has_doi:true,concepts_count:%3E0,publication_year:1975&sample=200&per-page=200 HTTP/1.1\" 200 199746\n",
      "DEBUG:urllib3.connectionpool:Starting new HTTPS connection (1): api.openalex.org:443\n"
     ]
    },
    {
     "name": "stdout",
     "output_type": "stream",
     "text": [
      "plus que 1 publications pour completer l'année 1975\n"
     ]
    },
    {
     "name": "stderr",
     "output_type": "stream",
     "text": [
      "DEBUG:urllib3.connectionpool:https://api.openalex.org:443 \"GET /works?filter=has_doi:true,concepts_count:%3E0,publication_year:1976&sample=200&per-page=200 HTTP/1.1\" 200 207071\n",
      "DEBUG:urllib3.connectionpool:Starting new HTTPS connection (1): api.openalex.org:443\n"
     ]
    },
    {
     "name": "stdout",
     "output_type": "stream",
     "text": [
      "plus que 1 publications pour completer l'année 1976\n"
     ]
    },
    {
     "name": "stderr",
     "output_type": "stream",
     "text": [
      "DEBUG:urllib3.connectionpool:https://api.openalex.org:443 \"GET /works?filter=has_doi:true,concepts_count:%3E0,publication_year:1954&sample=200&per-page=200 HTTP/1.1\" 200 146322\n",
      "DEBUG:urllib3.connectionpool:Starting new HTTPS connection (1): api.openalex.org:443\n"
     ]
    },
    {
     "name": "stdout",
     "output_type": "stream",
     "text": [
      "plus que 1 publications pour completer l'année 1954\n"
     ]
    },
    {
     "name": "stderr",
     "output_type": "stream",
     "text": [
      "DEBUG:urllib3.connectionpool:https://api.openalex.org:443 \"GET /works?filter=has_doi:true,concepts_count:%3E0,publication_year:1936&sample=200&per-page=200 HTTP/1.1\" 200 129847\n"
     ]
    },
    {
     "name": "stdout",
     "output_type": "stream",
     "text": [
      "plus que 1 publications pour completer l'année 1936\n"
     ]
    }
   ],
   "source": [
    "for year in list(year_counts.keys()):   \n",
    "    cached_openalex_data_not_ipbes[year]=[]\n",
    "    year_counts_not_ipbes[year]=0\n",
    "    while year_counts_not_ipbes[year]<year_counts[year]:\n",
    "        get_open_alex_data_not_in_references(dois,cached_openalex_data_not_ipbes,year_counts,year_counts_not_ipbes,year,ipcc=\"ipbes\")\n",
    "    cached_openalex_data_not_ipbes[year]=cached_openalex_data_not_ipbes[year][:year_counts[year]]"
   ]
  },
  {
   "cell_type": "code",
   "execution_count": 12,
   "id": "19b1dc23",
   "metadata": {},
   "outputs": [
    {
     "data": {
      "text/plain": [
       "5531"
      ]
     },
     "execution_count": 12,
     "metadata": {},
     "output_type": "execute_result"
    }
   ],
   "source": [
    "sum(list(year_counts.values()))"
   ]
  },
  {
   "cell_type": "code",
   "execution_count": 13,
   "id": "b736fc20",
   "metadata": {},
   "outputs": [
    {
     "data": {
      "text/plain": [
       "5531"
      ]
     },
     "execution_count": 13,
     "metadata": {},
     "output_type": "execute_result"
    }
   ],
   "source": [
    "len(aplatir(list(cached_openalex_data_not_ipbes.values())))\n"
   ]
  },
  {
   "cell_type": "code",
   "execution_count": 14,
   "id": "6882dc31",
   "metadata": {},
   "outputs": [
    {
     "data": {
      "text/plain": [
       "58"
      ]
     },
     "execution_count": 14,
     "metadata": {},
     "output_type": "execute_result"
    }
   ],
   "source": [
    "len(cached_openalex_data_not_ipbes)"
   ]
  },
  {
   "cell_type": "code",
   "execution_count": 15,
   "id": "7e58ed0b",
   "metadata": {},
   "outputs": [],
   "source": [
    "write_cache(cached_openalex_data_not_ipbes,module_path+'\\\\IPCC_bibliography\\\\AR6\\\\structured_data\\\\caches\\\\cached_openalex_data_not_ipbes.pkl')"
   ]
  },
  {
   "cell_type": "code",
   "execution_count": 16,
   "id": "7ffecaa5",
   "metadata": {},
   "outputs": [],
   "source": [
    "df_not_ipbes=pd.DataFrame()\n",
    "countries_list = []\n",
    "concepts_list = []\n",
    "sdg_list = []\n",
    "topics_list = []\n",
    "is_OA_available_list=[]\n",
    "title_list=[]\n",
    "year_list=[]\n",
    "names_list=[]\n",
    "rors_list=[]\n",
    "institutions_names_list=[]\n",
    "locations_names_list=[]\n",
    "locations_ids_list=[]\n",
    "doi_list=[]\n",
    "\n",
    "for k in range(len(aplatir(list(cached_openalex_data_not_ipbes.values())))):\n",
    "    countries,concepts,sdg,year,topics,doi,bool_OA,title,name,rors,institutions_names,locations_names,locations_ids=get_countries_concepts_sdg(cached_openalex_data=aplatir(list(cached_openalex_data_not_ipbes.values())),ipcc=False,i=k)\n",
    "\n",
    "    countries_list.append(countries)\n",
    "    concepts_list.append(concepts)\n",
    "    sdg_list.append(sdg)\n",
    "    topics_list.append(topics)  \n",
    "    is_OA_available_list.append(bool_OA)\n",
    "    title_list.append(title)\n",
    "    year_list.append(year)\n",
    "    names_list.append(name)\n",
    "    rors_list.append(rors)\n",
    "    institutions_names_list.append(institutions_names)\n",
    "    locations_names_list.append(locations_names)\n",
    "    locations_ids_list.append(locations_ids)\n",
    "    doi_list.append(doi)\n",
    "\n",
    "\n",
    "df_not_ipbes['doi'] = doi_list\n",
    "df_not_ipbes['title'] = title_list\n",
    "df_not_ipbes['countries'] = countries_list\n",
    "df_not_ipbes['concepts'] = concepts_list\n",
    "df_not_ipbes['sdg'] = sdg_list\n",
    "df_not_ipbes['topics'] = topics_list\n",
    "df_not_ipbes['is_OA_available'] = is_OA_available_list\n",
    "df_not_ipbes['year'] = year_list\n",
    "df_not_ipbes['authors_name'] = names_list\n",
    "df_not_ipbes['rors'] = rors_list\n",
    "df_not_ipbes['institutions_names'] = institutions_names_list\n",
    "df_not_ipbes['locations_names'] = locations_names_list\n",
    "df_not_ipbes['locations_id'] = locations_ids_list"
   ]
  },
  {
   "cell_type": "code",
   "execution_count": 17,
   "id": "ba2ffe1e",
   "metadata": {},
   "outputs": [
    {
     "data": {
      "text/html": [
       "<div>\n",
       "<style scoped>\n",
       "    .dataframe tbody tr th:only-of-type {\n",
       "        vertical-align: middle;\n",
       "    }\n",
       "\n",
       "    .dataframe tbody tr th {\n",
       "        vertical-align: top;\n",
       "    }\n",
       "\n",
       "    .dataframe thead th {\n",
       "        text-align: right;\n",
       "    }\n",
       "</style>\n",
       "<table border=\"1\" class=\"dataframe\">\n",
       "  <thead>\n",
       "    <tr style=\"text-align: right;\">\n",
       "      <th></th>\n",
       "      <th>doi</th>\n",
       "      <th>title</th>\n",
       "      <th>countries</th>\n",
       "      <th>concepts</th>\n",
       "      <th>sdg</th>\n",
       "      <th>topics</th>\n",
       "      <th>is_OA_available</th>\n",
       "      <th>year</th>\n",
       "      <th>authors_name</th>\n",
       "      <th>rors</th>\n",
       "      <th>institutions_names</th>\n",
       "      <th>locations_names</th>\n",
       "      <th>locations_id</th>\n",
       "    </tr>\n",
       "  </thead>\n",
       "  <tbody>\n",
       "    <tr>\n",
       "      <th>0</th>\n",
       "      <td>https://doi.org/10.1016/j.ijbiomac.2016.09.050</td>\n",
       "      <td>Potassium fulvate-modified graft copolymer of ...</td>\n",
       "      <td>[EG]</td>\n",
       "      <td>[Sorbent, Acrylic acid, Copolymer, Langmuir ad...</td>\n",
       "      <td>[{'id': '6', 'name': 'Clean water and sanitati...</td>\n",
       "      <td>[Advanced Cellulose Research Studies, Adsorpti...</td>\n",
       "      <td>True</td>\n",
       "      <td>2016</td>\n",
       "      <td>[(Magdy F. Mohamed, [EG]), (Hisham Essawy, [EG...</td>\n",
       "      <td>[(https://ror.org/05fnp1145, EG), (https://ror...</td>\n",
       "      <td>[(Al-Azhar University, EG), (National Research...</td>\n",
       "      <td>International Journal of Biological Macromolec...</td>\n",
       "      <td>0141-8130</td>\n",
       "    </tr>\n",
       "    <tr>\n",
       "      <th>1</th>\n",
       "      <td>https://doi.org/10.21037/jtd.2016.s029</td>\n",
       "      <td>AB029. Clinical utility of a molecular diagnos...</td>\n",
       "      <td>[US]</td>\n",
       "      <td>[Medicine, Interstitial lung disease, Disease,...</td>\n",
       "      <td>[{'id': '3', 'name': 'Good health and well-bei...</td>\n",
       "      <td>[Interstitial Lung Diseases and Idiopathic Pul...</td>\n",
       "      <td>True</td>\n",
       "      <td>2016</td>\n",
       "      <td>[(Xiaoping Wu, [US]), (Michael Rosenbluth, [US...</td>\n",
       "      <td>[(https://ror.org/02t11pf93, US), (https://ror...</td>\n",
       "      <td>[(Veracyte (United States), US), (Cornell Univ...</td>\n",
       "      <td>Journal of Thoracic Disease</td>\n",
       "      <td>2072-1439</td>\n",
       "    </tr>\n",
       "    <tr>\n",
       "      <th>2</th>\n",
       "      <td>https://doi.org/10.1515/ci-2016-0516</td>\n",
       "      <td>Guide (and Brief Guide) to Polymer Semiconductors</td>\n",
       "      <td>[None]</td>\n",
       "      <td>[Semiconductor, Polymer, Materials science, Po...</td>\n",
       "      <td>None</td>\n",
       "      <td>[Organic and Molecular Conductors Research]</td>\n",
       "      <td>True</td>\n",
       "      <td>2016</td>\n",
       "      <td>[None]</td>\n",
       "      <td>[None]</td>\n",
       "      <td>[None]</td>\n",
       "      <td>Chemistry International</td>\n",
       "      <td>0193-6484</td>\n",
       "    </tr>\n",
       "    <tr>\n",
       "      <th>3</th>\n",
       "      <td>https://doi.org/10.1093/pastj/gtw027</td>\n",
       "      <td>Common Places and Private Spaces: Libraries, R...</td>\n",
       "      <td>[US]</td>\n",
       "      <td>[History, Genealogy]</td>\n",
       "      <td>[{'id': '11', 'name': 'Sustainable cities and ...</td>\n",
       "      <td>[History of Medicine Studies]</td>\n",
       "      <td>True</td>\n",
       "      <td>2016</td>\n",
       "      <td>[(Hannah Murphy, [US])]</td>\n",
       "      <td>[(https://ror.org/01m006041, US)]</td>\n",
       "      <td>[(Thiel College, US)]</td>\n",
       "      <td>Past &amp; Present</td>\n",
       "      <td>0031-2746</td>\n",
       "    </tr>\n",
       "    <tr>\n",
       "      <th>4</th>\n",
       "      <td>https://doi.org/10.1093/gji/ggw067</td>\n",
       "      <td>Rock-magnetic and geochemical characteristics ...</td>\n",
       "      <td>[]</td>\n",
       "      <td>[Vertisol, Magnetic mineralogy, Geology, Maghe...</td>\n",
       "      <td>[{'id': '13', 'name': 'Climate action'}]</td>\n",
       "      <td>[Geomagnetism and Paleomagnetism Studies, Geol...</td>\n",
       "      <td>True</td>\n",
       "      <td>2016</td>\n",
       "      <td>[(Neli Jordanova, []), (Diana Jordanova, [])]</td>\n",
       "      <td>[]</td>\n",
       "      <td>[]</td>\n",
       "      <td>Geophysical Journal International</td>\n",
       "      <td>0956-540X</td>\n",
       "    </tr>\n",
       "    <tr>\n",
       "      <th>...</th>\n",
       "      <td>...</td>\n",
       "      <td>...</td>\n",
       "      <td>...</td>\n",
       "      <td>...</td>\n",
       "      <td>...</td>\n",
       "      <td>...</td>\n",
       "      <td>...</td>\n",
       "      <td>...</td>\n",
       "      <td>...</td>\n",
       "      <td>...</td>\n",
       "      <td>...</td>\n",
       "      <td>...</td>\n",
       "      <td>...</td>\n",
       "    </tr>\n",
       "    <tr>\n",
       "      <th>5526</th>\n",
       "      <td>https://doi.org/10.1021/ed051p623</td>\n",
       "      <td>A remote pipeting device</td>\n",
       "      <td>[]</td>\n",
       "      <td>[Citation, Altmetrics, Icon, Computer science,...</td>\n",
       "      <td>None</td>\n",
       "      <td>[Various Chemistry Research Topics]</td>\n",
       "      <td>True</td>\n",
       "      <td>1974</td>\n",
       "      <td>[(Dwight E. Talburt, []), (Dale A. Johnson, [])]</td>\n",
       "      <td>[]</td>\n",
       "      <td>[]</td>\n",
       "      <td>Journal of Chemical Education</td>\n",
       "      <td>0021-9584</td>\n",
       "    </tr>\n",
       "    <tr>\n",
       "      <th>5527</th>\n",
       "      <td>https://doi.org/10.7202/700546ar</td>\n",
       "      <td>Problématique de l’économie socialiste décentr...</td>\n",
       "      <td>[CA, US]</td>\n",
       "      <td>[Gynecology, Political science, Medicine]</td>\n",
       "      <td>[{'id': '8', 'name': 'Decent work and economic...</td>\n",
       "      <td>[French Urban and Social Studies, Political an...</td>\n",
       "      <td>True</td>\n",
       "      <td>1975</td>\n",
       "      <td>[(André Joyal, [CA, US])]</td>\n",
       "      <td>[(https://ror.org/02xrw9r68, CA), (https://ror...</td>\n",
       "      <td>[(Université du Québec à Trois-Rivières, CA), ...</td>\n",
       "      <td>Études internationales</td>\n",
       "      <td>0014-2123</td>\n",
       "    </tr>\n",
       "    <tr>\n",
       "      <th>5528</th>\n",
       "      <td>https://doi.org/10.1063/1.433097</td>\n",
       "      <td>Intramolecular 13C kinetic isotope effects in ...</td>\n",
       "      <td>[US]</td>\n",
       "      <td>[Intramolecular force, Chemistry, Kinetic isot...</td>\n",
       "      <td>[{'id': '6', 'name': 'Clean water and sanitati...</td>\n",
       "      <td>[Chemical Synthesis and Characterization, Zeol...</td>\n",
       "      <td>True</td>\n",
       "      <td>1976</td>\n",
       "      <td>[(Richard W. Kidd, [US]), (Thomas Huang, [US])...</td>\n",
       "      <td>[(https://ror.org/047426m28, US), (https://ror...</td>\n",
       "      <td>[(University of Illinois Urbana-Champaign, US)...</td>\n",
       "      <td>The Journal of Chemical Physics</td>\n",
       "      <td>0021-9606</td>\n",
       "    </tr>\n",
       "    <tr>\n",
       "      <th>5529</th>\n",
       "      <td>https://doi.org/10.1042/bj0570297</td>\n",
       "      <td>The branched-chain fatty acids of butterfat. 4...</td>\n",
       "      <td>[NZ]</td>\n",
       "      <td>[Citation, Icon, Library science, Download, Bu...</td>\n",
       "      <td>[{'id': '9', 'name': 'Industry, innovation and...</td>\n",
       "      <td>[Peroxisome Proliferator-Activated Receptors, ...</td>\n",
       "      <td>True</td>\n",
       "      <td>1954</td>\n",
       "      <td>[(R. P. Hansen, [NZ]), (F. B. Shorland, [NZ]),...</td>\n",
       "      <td>[]</td>\n",
       "      <td>[]</td>\n",
       "      <td>Biochemical Journal</td>\n",
       "      <td>0306-3283</td>\n",
       "    </tr>\n",
       "    <tr>\n",
       "      <th>5530</th>\n",
       "      <td>https://doi.org/10.7767/zrgra.1936.56.1.324</td>\n",
       "      <td>Gerda Krüger, Die Rechtsstellung der vorkonsta...</td>\n",
       "      <td>[]</td>\n",
       "      <td>[Philosophy]</td>\n",
       "      <td>[{'id': '16', 'name': 'Peace, justice, and str...</td>\n",
       "      <td>[Theology and Canon Law Studies, Classical Stu...</td>\n",
       "      <td>True</td>\n",
       "      <td>1936</td>\n",
       "      <td>[(A. Steinwenter, [])]</td>\n",
       "      <td>[]</td>\n",
       "      <td>[]</td>\n",
       "      <td>Zeitschrift der Savigny-Stiftung für Rechtsges...</td>\n",
       "      <td>0323-4096</td>\n",
       "    </tr>\n",
       "  </tbody>\n",
       "</table>\n",
       "<p>5531 rows × 13 columns</p>\n",
       "</div>"
      ],
      "text/plain": [
       "                                                 doi  \\\n",
       "0     https://doi.org/10.1016/j.ijbiomac.2016.09.050   \n",
       "1             https://doi.org/10.21037/jtd.2016.s029   \n",
       "2               https://doi.org/10.1515/ci-2016-0516   \n",
       "3               https://doi.org/10.1093/pastj/gtw027   \n",
       "4                 https://doi.org/10.1093/gji/ggw067   \n",
       "...                                              ...   \n",
       "5526               https://doi.org/10.1021/ed051p623   \n",
       "5527                https://doi.org/10.7202/700546ar   \n",
       "5528                https://doi.org/10.1063/1.433097   \n",
       "5529               https://doi.org/10.1042/bj0570297   \n",
       "5530     https://doi.org/10.7767/zrgra.1936.56.1.324   \n",
       "\n",
       "                                                  title countries  \\\n",
       "0     Potassium fulvate-modified graft copolymer of ...      [EG]   \n",
       "1     AB029. Clinical utility of a molecular diagnos...      [US]   \n",
       "2     Guide (and Brief Guide) to Polymer Semiconductors    [None]   \n",
       "3     Common Places and Private Spaces: Libraries, R...      [US]   \n",
       "4     Rock-magnetic and geochemical characteristics ...        []   \n",
       "...                                                 ...       ...   \n",
       "5526                           A remote pipeting device        []   \n",
       "5527  Problématique de l’économie socialiste décentr...  [CA, US]   \n",
       "5528  Intramolecular 13C kinetic isotope effects in ...      [US]   \n",
       "5529  The branched-chain fatty acids of butterfat. 4...      [NZ]   \n",
       "5530  Gerda Krüger, Die Rechtsstellung der vorkonsta...        []   \n",
       "\n",
       "                                               concepts  \\\n",
       "0     [Sorbent, Acrylic acid, Copolymer, Langmuir ad...   \n",
       "1     [Medicine, Interstitial lung disease, Disease,...   \n",
       "2     [Semiconductor, Polymer, Materials science, Po...   \n",
       "3                                  [History, Genealogy]   \n",
       "4     [Vertisol, Magnetic mineralogy, Geology, Maghe...   \n",
       "...                                                 ...   \n",
       "5526  [Citation, Altmetrics, Icon, Computer science,...   \n",
       "5527          [Gynecology, Political science, Medicine]   \n",
       "5528  [Intramolecular force, Chemistry, Kinetic isot...   \n",
       "5529  [Citation, Icon, Library science, Download, Bu...   \n",
       "5530                                       [Philosophy]   \n",
       "\n",
       "                                                    sdg  \\\n",
       "0     [{'id': '6', 'name': 'Clean water and sanitati...   \n",
       "1     [{'id': '3', 'name': 'Good health and well-bei...   \n",
       "2                                                  None   \n",
       "3     [{'id': '11', 'name': 'Sustainable cities and ...   \n",
       "4              [{'id': '13', 'name': 'Climate action'}]   \n",
       "...                                                 ...   \n",
       "5526                                               None   \n",
       "5527  [{'id': '8', 'name': 'Decent work and economic...   \n",
       "5528  [{'id': '6', 'name': 'Clean water and sanitati...   \n",
       "5529  [{'id': '9', 'name': 'Industry, innovation and...   \n",
       "5530  [{'id': '16', 'name': 'Peace, justice, and str...   \n",
       "\n",
       "                                                 topics  is_OA_available  \\\n",
       "0     [Advanced Cellulose Research Studies, Adsorpti...             True   \n",
       "1     [Interstitial Lung Diseases and Idiopathic Pul...             True   \n",
       "2           [Organic and Molecular Conductors Research]             True   \n",
       "3                         [History of Medicine Studies]             True   \n",
       "4     [Geomagnetism and Paleomagnetism Studies, Geol...             True   \n",
       "...                                                 ...              ...   \n",
       "5526                [Various Chemistry Research Topics]             True   \n",
       "5527  [French Urban and Social Studies, Political an...             True   \n",
       "5528  [Chemical Synthesis and Characterization, Zeol...             True   \n",
       "5529  [Peroxisome Proliferator-Activated Receptors, ...             True   \n",
       "5530  [Theology and Canon Law Studies, Classical Stu...             True   \n",
       "\n",
       "      year                                       authors_name  \\\n",
       "0     2016  [(Magdy F. Mohamed, [EG]), (Hisham Essawy, [EG...   \n",
       "1     2016  [(Xiaoping Wu, [US]), (Michael Rosenbluth, [US...   \n",
       "2     2016                                             [None]   \n",
       "3     2016                            [(Hannah Murphy, [US])]   \n",
       "4     2016      [(Neli Jordanova, []), (Diana Jordanova, [])]   \n",
       "...    ...                                                ...   \n",
       "5526  1974   [(Dwight E. Talburt, []), (Dale A. Johnson, [])]   \n",
       "5527  1975                          [(André Joyal, [CA, US])]   \n",
       "5528  1976  [(Richard W. Kidd, [US]), (Thomas Huang, [US])...   \n",
       "5529  1954  [(R. P. Hansen, [NZ]), (F. B. Shorland, [NZ]),...   \n",
       "5530  1936                             [(A. Steinwenter, [])]   \n",
       "\n",
       "                                                   rors  \\\n",
       "0     [(https://ror.org/05fnp1145, EG), (https://ror...   \n",
       "1     [(https://ror.org/02t11pf93, US), (https://ror...   \n",
       "2                                                [None]   \n",
       "3                     [(https://ror.org/01m006041, US)]   \n",
       "4                                                    []   \n",
       "...                                                 ...   \n",
       "5526                                                 []   \n",
       "5527  [(https://ror.org/02xrw9r68, CA), (https://ror...   \n",
       "5528  [(https://ror.org/047426m28, US), (https://ror...   \n",
       "5529                                                 []   \n",
       "5530                                                 []   \n",
       "\n",
       "                                     institutions_names  \\\n",
       "0     [(Al-Azhar University, EG), (National Research...   \n",
       "1     [(Veracyte (United States), US), (Cornell Univ...   \n",
       "2                                                [None]   \n",
       "3                                 [(Thiel College, US)]   \n",
       "4                                                    []   \n",
       "...                                                 ...   \n",
       "5526                                                 []   \n",
       "5527  [(Université du Québec à Trois-Rivières, CA), ...   \n",
       "5528  [(University of Illinois Urbana-Champaign, US)...   \n",
       "5529                                                 []   \n",
       "5530                                                 []   \n",
       "\n",
       "                                        locations_names locations_id  \n",
       "0     International Journal of Biological Macromolec...    0141-8130  \n",
       "1                           Journal of Thoracic Disease    2072-1439  \n",
       "2                               Chemistry International    0193-6484  \n",
       "3                                        Past & Present    0031-2746  \n",
       "4                     Geophysical Journal International    0956-540X  \n",
       "...                                                 ...          ...  \n",
       "5526                      Journal of Chemical Education    0021-9584  \n",
       "5527                             Études internationales    0014-2123  \n",
       "5528                    The Journal of Chemical Physics    0021-9606  \n",
       "5529                                Biochemical Journal    0306-3283  \n",
       "5530  Zeitschrift der Savigny-Stiftung für Rechtsges...    0323-4096  \n",
       "\n",
       "[5531 rows x 13 columns]"
      ]
     },
     "execution_count": 17,
     "metadata": {},
     "output_type": "execute_result"
    }
   ],
   "source": [
    "df_not_ipbes"
   ]
  },
  {
   "cell_type": "code",
   "execution_count": 18,
   "id": "f2d4625f",
   "metadata": {},
   "outputs": [],
   "source": [
    "df_not_ipbes.to_json(module_path+f'\\\\IPCC_bibliography\\\\AR6\\\\structured_data\\\\data_model_ipbes\\\\data_not_ipbes.jsonl', orient='records', lines= True)"
   ]
  }
 ],
 "metadata": {
  "kernelspec": {
   "display_name": "tf",
   "language": "python",
   "name": "python3"
  },
  "language_info": {
   "codemirror_mode": {
    "name": "ipython",
    "version": 3
   },
   "file_extension": ".py",
   "mimetype": "text/x-python",
   "name": "python",
   "nbconvert_exporter": "python",
   "pygments_lexer": "ipython3",
   "version": "3.10.13"
  }
 },
 "nbformat": 4,
 "nbformat_minor": 5
}
