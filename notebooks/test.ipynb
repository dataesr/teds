{
 "cells": [
  {
   "cell_type": "code",
   "execution_count": 1,
   "metadata": {},
   "outputs": [],
   "source": [
    "import os\n",
    "from dotenv import load_dotenv\n",
    "load_dotenv()\n",
    "import requests\n",
    "import base64"
   ]
  },
  {
   "cell_type": "code",
   "execution_count": 20,
   "metadata": {},
   "outputs": [
    {
     "data": {
      "text/plain": [
       "{'took': 26,\n",
       " 'timed_out': False,\n",
       " '_shards': {'total': 1, 'successful': 1, 'skipped': 0, 'failed': 0},\n",
       " 'hits': {'total': {'value': 10000, 'relation': 'gte'},\n",
       "  'max_score': None,\n",
       "  'hits': []},\n",
       " 'aggregations': {'by_countries': {'doc_count_error_upper_bound': 0,\n",
       "   'sum_other_doc_count': 38615,\n",
       "   'buckets': [{'key': 'US', 'doc_count': 21135},\n",
       "    {'key': 'GB', 'doc_count': 11536},\n",
       "    {'key': 'DE', 'doc_count': 7048},\n",
       "    {'key': 'AU', 'doc_count': 6681},\n",
       "    {'key': 'CA', 'doc_count': 4767},\n",
       "    {'key': 'FR', 'doc_count': 4274},\n",
       "    {'key': 'CN', 'doc_count': 4202},\n",
       "    {'key': 'NL', 'doc_count': 4094},\n",
       "    {'key': 'IT', 'doc_count': 2899},\n",
       "    {'key': 'CH', 'doc_count': 2871}]}}}"
      ]
     },
     "execution_count": 20,
     "metadata": {},
     "output_type": "execute_result"
    }
   ],
   "source": [
    "def get_from_es(body):\n",
    "    return requests.post(url, json=body, headers={f'Authorization': f'Basic {token}'}).json()\n",
    "\n",
    "passw = f\"{os.getenv('ES_LOGIN_TEDS_BACK')}:{os.getenv('ES_PASSWORD_TEDS_BACK')}\"\n",
    "base64_bytes = passw.encode('ascii')\n",
    "message_bytes = base64.b64encode(base64_bytes)\n",
    "token = message_bytes.decode('ascii')\n",
    "url = os.getenv('ES_URL')+'teds-bibliography/_search'\n",
    "\n",
    "body = {\n",
    "    'size': 0,\n",
    "    'query': {\n",
    "        'bool': {\n",
    "            \"must_not\": [],\n",
    "            \"filter\": [\n",
    "                { \"match\": { \"ipcc.wg_chap.keyword\":   \"1\" }},\n",
    "            ]\n",
    "        }\n",
    "    },\n",
    "    'aggs': {\n",
    "        'by_countries': {\n",
    "            'terms': {\n",
    "                'field': 'countries.keyword', 'size':10\n",
    "            },\n",
    "            # 'aggs': {\n",
    "            #    'by_is_oa': {\n",
    "            #         'terms': {'field': 'oa_details.2021Q4.is_oa'},\n",
    "            #     }\n",
    "            # }\n",
    "        }\n",
    "    }\n",
    "}\n",
    "res = get_from_es(body)\n",
    "res"
   ]
  },
  {
   "cell_type": "code",
   "execution_count": 19,
   "metadata": {},
   "outputs": [
    {
     "name": "stdout",
     "output_type": "stream",
     "text": [
      "US 63.86\n",
      "GB 32.62\n",
      "DE 22.34\n",
      "FR 16.65\n",
      "CN 15.53\n",
      "AU 14.08\n",
      "CH 11.45\n",
      "CA 11.32\n",
      "JP 9.49\n",
      "NL 9.38\n"
     ]
    }
   ],
   "source": [
    "for x in res.get('aggregations').get('by_countries').get('buckets'):\n",
    "    print(x.get('key'),x.get('doc_count')*100/res.get('hits').get('total').get('value'))"
   ]
  }
 ],
 "metadata": {
  "kernelspec": {
   "display_name": "tf",
   "language": "python",
   "name": "python3"
  },
  "language_info": {
   "codemirror_mode": {
    "name": "ipython",
    "version": 3
   },
   "file_extension": ".py",
   "mimetype": "text/x-python",
   "name": "python",
   "nbconvert_exporter": "python",
   "pygments_lexer": "ipython3",
   "version": "3.10.13"
  }
 },
 "nbformat": 4,
 "nbformat_minor": 2
}
