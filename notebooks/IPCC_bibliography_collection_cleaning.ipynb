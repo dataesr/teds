{
 "cells": [
  {
   "cell_type": "code",
   "execution_count": 7,
   "metadata": {},
   "outputs": [],
   "source": [
    "import bibtexparser\n",
    "import requests\n",
    "import pandas as pd\n",
    "from tqdm.notebook import tqdm\n",
    "import matplotlib.pyplot as plt\n",
    "tqdm.pandas()"
   ]
  },
  {
   "cell_type": "code",
   "execution_count": 9,
   "metadata": {},
   "outputs": [
    {
     "name": "stdout",
     "output_type": "stream",
     "text": [
      "[0.953941541186891, 0.9948387096774194, 0.9965095986038395, 0.9980139026812314, 0.9807121661721068, 0.9953379953379954, 0.9854651162790697, 0.9894736842105263, 0.9920212765957447, 0.9744753261486103, 0.9881489841986456, 0.9615166949632145]\n"
     ]
    }
   ],
   "source": [
    "wgi=[]\n",
    "dataframes_i={}\n",
    "for i in ['01','02','03','04','05','06','07','08','09','10','11','12']:\n",
    "    response = requests.get(f\"https://www.ipcc.ch/report/ar6/wg1/downloads/report/IPCC_AR6_WGI_References_Chapter{i}.bib\")\n",
    "    data = response.text\n",
    "    bib_data = bibtexparser.loads(data)\n",
    "    df=pd.DataFrame(bib_data.entries)\n",
    "    df['wg']='wg1'\n",
    "    df['chap']=f\"wg1_chap_{i}\"\n",
    "    wgi.append(len(df.doi.dropna())/len(df))\n",
    "    df_name = f'df_i_{i}' \n",
    "    dataframes_i[df_name] = df\n",
    "print(wgi)"
   ]
  },
  {
   "cell_type": "code",
   "execution_count": 10,
   "metadata": {},
   "outputs": [
    {
     "name": "stdout",
     "output_type": "stream",
     "text": [
      "[1.0, 1.0, 1.0, 1.0, 1.0, 0.9993614303959132, 1.0, 1.0, 0.9991319444444444, 1.0, 1.0, 1.0, 1.0, 1.0, 1.0, 1.0, 1.0]\n"
     ]
    }
   ],
   "source": [
    "wgiii=[]\n",
    "dataframes_iii={}\n",
    "for i in ['01','02','03','04','05','06','07','08','09','10','11','12','13','14','15','16','17']:\n",
    "    response = requests.get(f\"https://www.ipcc.ch/report/ar6/wg3/downloads/report/IPCC_AR6_WGIII_References_Chapter{i}.bib\")\n",
    "    data = response.text\n",
    "    bib_data = bibtexparser.loads(data)\n",
    "    df=pd.DataFrame(bib_data.entries)\n",
    "    df['wg']='wg3'\n",
    "    df['chap']=f\"wg3_chap_{i}\"\n",
    "    wgiii.append(len(df.doi.dropna())/len(df))\n",
    "    df_name = f'df_iii_{i}' \n",
    "    dataframes_iii[df_name] = df\n",
    "print(wgiii)"
   ]
  },
  {
   "cell_type": "markdown",
   "metadata": {},
   "source": [
    "Get doi from glutton"
   ]
  },
  {
   "cell_type": "code",
   "execution_count": 11,
   "metadata": {},
   "outputs": [],
   "source": [
    "def get_doi(row):\n",
    "    title=row.title\n",
    "    author=str(row.author).split(',')[0]\n",
    "    url=f\"https://cloud.science-miner.com/glutton/service/lookup?atitle={title}&firstAuthor={author}\"\n",
    "    response = requests.get(url)\n",
    "    data = response.json()\n",
    "    return data.get('DOI')"
   ]
  },
  {
   "cell_type": "code",
   "execution_count": 12,
   "metadata": {},
   "outputs": [
    {
     "data": {
      "application/vnd.jupyter.widget-view+json": {
       "model_id": "9b8ec3a0dc4e4531ad5c742abf98cd74",
       "version_major": 2,
       "version_minor": 0
      },
      "text/plain": [
       "  0%|          | 0/237 [00:00<?, ?it/s]"
      ]
     },
     "metadata": {},
     "output_type": "display_data"
    },
    {
     "data": {
      "application/vnd.jupyter.widget-view+json": {
       "model_id": "b7d6133f0a9440fda0df84a608ae2097",
       "version_major": 2,
       "version_minor": 0
      },
      "text/plain": [
       "  0%|          | 0/1302 [00:00<?, ?it/s]"
      ]
     },
     "metadata": {},
     "output_type": "display_data"
    },
    {
     "data": {
      "application/vnd.jupyter.widget-view+json": {
       "model_id": "055c20c79e7e4aa1b1a73486301f9b22",
       "version_major": 2,
       "version_minor": 0
      },
      "text/plain": [
       "  0%|          | 0/194 [00:00<?, ?it/s]"
      ]
     },
     "metadata": {},
     "output_type": "display_data"
    },
    {
     "data": {
      "application/vnd.jupyter.widget-view+json": {
       "model_id": "729d226f4b3944709e563512b1ace50e",
       "version_major": 2,
       "version_minor": 0
      },
      "text/plain": [
       "  0%|          | 0/832 [00:00<?, ?it/s]"
      ]
     },
     "metadata": {},
     "output_type": "display_data"
    },
    {
     "data": {
      "application/vnd.jupyter.widget-view+json": {
       "model_id": "49371bc5fd984c4687da7f3bb8dfe43a",
       "version_major": 2,
       "version_minor": 0
      },
      "text/plain": [
       "  0%|          | 0/372 [00:00<?, ?it/s]"
      ]
     },
     "metadata": {},
     "output_type": "display_data"
    },
    {
     "data": {
      "application/vnd.jupyter.widget-view+json": {
       "model_id": "5b1e4f0401284e7f9413087886ebd285",
       "version_major": 2,
       "version_minor": 0
      },
      "text/plain": [
       "  0%|          | 0/1544 [00:00<?, ?it/s]"
      ]
     },
     "metadata": {},
     "output_type": "display_data"
    },
    {
     "data": {
      "application/vnd.jupyter.widget-view+json": {
       "model_id": "ec4ab921b4ce46d7b66ec298b9773894",
       "version_major": 2,
       "version_minor": 0
      },
      "text/plain": [
       "  0%|          | 0/723 [00:00<?, ?it/s]"
      ]
     },
     "metadata": {},
     "output_type": "display_data"
    },
    {
     "data": {
      "application/vnd.jupyter.widget-view+json": {
       "model_id": "ac4c56e96b4a4026a8a42411e9c3ff1e",
       "version_major": 2,
       "version_minor": 0
      },
      "text/plain": [
       "  0%|          | 0/184 [00:00<?, ?it/s]"
      ]
     },
     "metadata": {},
     "output_type": "display_data"
    },
    {
     "data": {
      "application/vnd.jupyter.widget-view+json": {
       "model_id": "9b511dc9834e45c4972fc3f752fd4446",
       "version_major": 2,
       "version_minor": 0
      },
      "text/plain": [
       "  0%|          | 0/362 [00:00<?, ?it/s]"
      ]
     },
     "metadata": {},
     "output_type": "display_data"
    },
    {
     "data": {
      "application/vnd.jupyter.widget-view+json": {
       "model_id": "1d469ef1d11544d68f1fdd991b52b569",
       "version_major": 2,
       "version_minor": 0
      },
      "text/plain": [
       "  0%|          | 0/753 [00:00<?, ?it/s]"
      ]
     },
     "metadata": {},
     "output_type": "display_data"
    },
    {
     "data": {
      "application/vnd.jupyter.widget-view+json": {
       "model_id": "cd8cf93d377047a494a30feee73aa9de",
       "version_major": 2,
       "version_minor": 0
      },
      "text/plain": [
       "  0%|          | 0/653 [00:00<?, ?it/s]"
      ]
     },
     "metadata": {},
     "output_type": "display_data"
    },
    {
     "data": {
      "application/vnd.jupyter.widget-view+json": {
       "model_id": "6339807d0e7b4802bf1b4af1f59925f9",
       "version_major": 2,
       "version_minor": 0
      },
      "text/plain": [
       "  0%|          | 0/689 [00:00<?, ?it/s]"
      ]
     },
     "metadata": {},
     "output_type": "display_data"
    },
    {
     "data": {
      "application/vnd.jupyter.widget-view+json": {
       "model_id": "93316812b5bb4b7380bce356f9221432",
       "version_major": 2,
       "version_minor": 0
      },
      "text/plain": [
       "  0%|          | 0/209 [00:00<?, ?it/s]"
      ]
     },
     "metadata": {},
     "output_type": "display_data"
    },
    {
     "data": {
      "application/vnd.jupyter.widget-view+json": {
       "model_id": "7e902c8656bd4a3283584dc0846fd675",
       "version_major": 2,
       "version_minor": 0
      },
      "text/plain": [
       "  0%|          | 0/588 [00:00<?, ?it/s]"
      ]
     },
     "metadata": {},
     "output_type": "display_data"
    },
    {
     "data": {
      "application/vnd.jupyter.widget-view+json": {
       "model_id": "5d54ef7a9ede46acb8e7297ac5ff8de5",
       "version_major": 2,
       "version_minor": 0
      },
      "text/plain": [
       "  0%|          | 0/105 [00:00<?, ?it/s]"
      ]
     },
     "metadata": {},
     "output_type": "display_data"
    },
    {
     "data": {
      "application/vnd.jupyter.widget-view+json": {
       "model_id": "5707cc2170604c5aa8c3f28b4da6a30c",
       "version_major": 2,
       "version_minor": 0
      },
      "text/plain": [
       "  0%|          | 0/1237 [00:00<?, ?it/s]"
      ]
     },
     "metadata": {},
     "output_type": "display_data"
    },
    {
     "data": {
      "application/vnd.jupyter.widget-view+json": {
       "model_id": "25982a703f004871bf350c6cb7fce189",
       "version_major": 2,
       "version_minor": 0
      },
      "text/plain": [
       "  0%|          | 0/2090 [00:00<?, ?it/s]"
      ]
     },
     "metadata": {},
     "output_type": "display_data"
    },
    {
     "data": {
      "application/vnd.jupyter.widget-view+json": {
       "model_id": "974dee6ea4514edeb85ec6721ea48c5c",
       "version_major": 2,
       "version_minor": 0
      },
      "text/plain": [
       "  0%|          | 0/504 [00:00<?, ?it/s]"
      ]
     },
     "metadata": {},
     "output_type": "display_data"
    },
    {
     "name": "stdout",
     "output_type": "stream",
     "text": [
      "[0.6403641881638846, 0.6782006920415224, 0.933538883179171, 0.7791345898593045, 0.8560371517027864, 0.21584560690705942, 0.7398344728319539, 0.8275538894095595, 0.8101730466701625, 0.6330409356725146, 0.6312817617165444, 0.7400980761976612, 0.8471104608632041, 0.6468468468468469, 0.8751486325802615, 0.6821685508735869, 0.41831338714166433, 0.5796497080900751]\n",
      "[0.8679817905918058, 0.921156697973307, 0.9612881123672491, 0.9368197504645607, 0.9373065015479877, 0.9055358049771458, 0.9373875494782296, 0.880037488284911, 0.869952805453592, 0.878167641325536, 0.7843026538678712, 0.8159185213127121, 0.936356986100951, 0.8384384384384385, 0.9239001189060642, 0.9177800616649537, 0.8895073754522683, 0.872393661384487]\n"
     ]
    }
   ],
   "source": [
    "wgii=[]\n",
    "wgii_update=[]\n",
    "dataframes_ii = {}\n",
    "for i in ['01','02','03','04','05','06','07','08','09','10','11','12','13','14','15','16','17','18']:\n",
    "    response = requests.get(f\"https://ipcc.ch/report/ar6/wg2/downloads/report/IPCC_AR6_WGII_References_Chapter{i}.bib\")\n",
    "    data = response.text\n",
    "    bib_data = bibtexparser.loads(data)\n",
    "    df=pd.DataFrame(bib_data.entries)\n",
    "    wgii.append(len(df.doi.dropna())/len(df))\n",
    "    df.loc[pd.isna(df.doi),'doi']=df.loc[pd.isna(df.doi),:].progress_apply(get_doi, axis=1)\n",
    "    wgii_update.append(len(df.doi.dropna())/len(df))\n",
    "    df['wg']='wg2'\n",
    "    df['chap']=f\"wg2_chap_{i}\"\n",
    "    df_name = f'df_ii{i}' \n",
    "    dataframes_ii[df_name] = df\n",
    "print(wgii)\n",
    "print(wgii_update)"
   ]
  },
  {
   "cell_type": "code",
   "execution_count": 13,
   "metadata": {},
   "outputs": [
    {
     "data": {
      "application/vnd.jupyter.widget-view+json": {
       "model_id": "aa329422fb924b79be6c75da40287a54",
       "version_major": 2,
       "version_minor": 0
      },
      "text/plain": [
       "  0%|          | 0/1319 [00:00<?, ?it/s]"
      ]
     },
     "metadata": {},
     "output_type": "display_data"
    },
    {
     "data": {
      "application/vnd.jupyter.widget-view+json": {
       "model_id": "5ca6237fb285451983c45a695989e703",
       "version_major": 2,
       "version_minor": 0
      },
      "text/plain": [
       "  0%|          | 0/155 [00:00<?, ?it/s]"
      ]
     },
     "metadata": {},
     "output_type": "display_data"
    },
    {
     "data": {
      "application/vnd.jupyter.widget-view+json": {
       "model_id": "42a8f84928c340e88fb07871e59a86d5",
       "version_major": 2,
       "version_minor": 0
      },
      "text/plain": [
       "  0%|          | 0/215 [00:00<?, ?it/s]"
      ]
     },
     "metadata": {},
     "output_type": "display_data"
    },
    {
     "data": {
      "application/vnd.jupyter.widget-view+json": {
       "model_id": "a2ccbb1af72841089ea6709149bdaa66",
       "version_major": 2,
       "version_minor": 0
      },
      "text/plain": [
       "  0%|          | 0/88 [00:00<?, ?it/s]"
      ]
     },
     "metadata": {},
     "output_type": "display_data"
    },
    {
     "data": {
      "application/vnd.jupyter.widget-view+json": {
       "model_id": "5fecf4c3f1d34e0697cbf6b718fdb10e",
       "version_major": 2,
       "version_minor": 0
      },
      "text/plain": [
       "  0%|          | 0/75 [00:00<?, ?it/s]"
      ]
     },
     "metadata": {},
     "output_type": "display_data"
    },
    {
     "data": {
      "application/vnd.jupyter.widget-view+json": {
       "model_id": "7b4c4849688847c3af675be40237ae18",
       "version_major": 2,
       "version_minor": 0
      },
      "text/plain": [
       "  0%|          | 0/78 [00:00<?, ?it/s]"
      ]
     },
     "metadata": {},
     "output_type": "display_data"
    },
    {
     "data": {
      "application/vnd.jupyter.widget-view+json": {
       "model_id": "5c37a89cb19b4ec2b91722be76851098",
       "version_major": 2,
       "version_minor": 0
      },
      "text/plain": [
       "  0%|          | 0/234 [00:00<?, ?it/s]"
      ]
     },
     "metadata": {},
     "output_type": "display_data"
    },
    {
     "name": "stdout",
     "output_type": "stream",
     "text": [
      "[0.5339222614840989, 0.8250564334085779, 0.6800595238095238, 0.8631415241057543, 0.8590225563909775, 0.8505747126436781, 0.39690721649484534]\n",
      "[0.9752650176678446, 0.9616252821670429, 0.9032738095238095, 0.9300155520995335, 0.9530075187969925, 0.9252873563218391, 0.8969072164948454]\n"
     ]
    }
   ],
   "source": [
    "wgii_cross=[]\n",
    "wgii_cross_update=[]\n",
    "dataframes_cross_ii = {}\n",
    "\n",
    "for i in range(1,8):\n",
    "    response = requests.get(f\"https://www.ipcc.ch/report/ar6/wg2/downloads/report/IPCC_AR6_WGII_References_CCP{i}.bib\")\n",
    "    data = response.text\n",
    "    bib_data = bibtexparser.loads(data)\n",
    "    df=pd.DataFrame(bib_data.entries)\n",
    "    wgii_cross.append(len(df.doi.dropna())/len(df))\n",
    "    df.loc[pd.isna(df.doi),'doi']=df.loc[pd.isna(df.doi),:].progress_apply(get_doi, axis=1)\n",
    "    wgii_cross_update.append(len(df.doi.dropna())/len(df))\n",
    "    df['wg']='wg2_cross'\n",
    "    df['chap']=f\"wg2_cross_chap_{i}\"\n",
    "    df_name = f'df_cross_ii_{i}' \n",
    "    dataframes_cross_ii[df_name] = df\n",
    "print(wgii_cross)\n",
    "print(wgii_cross_update)"
   ]
  },
  {
   "cell_type": "markdown",
   "metadata": {},
   "source": [
    "Clean DOI"
   ]
  },
  {
   "cell_type": "code",
   "execution_count": 14,
   "metadata": {},
   "outputs": [],
   "source": [
    "path='C:/Users/haallat/Documents/teds/IPCC_bibliography/AR6/structured_data/'"
   ]
  },
  {
   "cell_type": "code",
   "execution_count": 15,
   "metadata": {},
   "outputs": [],
   "source": [
    "#data for each wg\n",
    "df_wgi = pd.concat(list(dataframes_i.values()), ignore_index=True)\n",
    "df_wgii = pd.concat(list(dataframes_ii.values()), ignore_index=True)\n",
    "df_cross_wgii = pd.concat(list(dataframes_cross_ii.values()), ignore_index=True)\n",
    "df_wgiii = pd.concat(list(dataframes_iii.values()), ignore_index=True)"
   ]
  },
  {
   "cell_type": "code",
   "execution_count": 20,
   "metadata": {},
   "outputs": [],
   "source": [
    "#all data\n",
    "df_ipcc=pd.concat([df_wgi, df_wgii, df_cross_wgii, df_wgiii], ignore_index=True)"
   ]
  },
  {
   "cell_type": "code",
   "execution_count": 16,
   "metadata": {},
   "outputs": [],
   "source": [
    "\"\"\" df_wgi.to_json(path+'data_wg1.jsonl', orient='records', lines=True)\n",
    "df_wgii.to_json(path+'data_wg2.jsonl', orient='records', lines=True)\n",
    "df_cross_wgii.to_json(path+'data_cross_wg2.jsonl', orient='records', lines=True)\n",
    "df_wgiii.to_json(path+'data_wg3.jsonl', orient='records', lines=True) \"\"\""
   ]
  },
  {
   "cell_type": "code",
   "execution_count": 22,
   "metadata": {},
   "outputs": [],
   "source": [
    "def get_doi_cleaned(x):\n",
    "    low_x=str(x).lower()\n",
    "    if pd.isna(x):\n",
    "        return None\n",
    "    if low_x.find('https://doi.org/')>0:\n",
    "        return low_x.replace('https://doi.org/','')\n",
    "    else:\n",
    "        return low_x"
   ]
  },
  {
   "cell_type": "code",
   "execution_count": 23,
   "metadata": {},
   "outputs": [],
   "source": [
    "df_ipcc['doi']=df_ipcc.loc[:,'doi'].apply(lambda x: get_doi_cleaned(x))"
   ]
  },
  {
   "cell_type": "code",
   "execution_count": 24,
   "metadata": {},
   "outputs": [
    {
     "data": {
      "text/plain": [
       "doi\n",
       "10.1017/cbo9781107415379.005       34\n",
       "10.18411/a-2017-023                30\n",
       "10.1111/padr.12283                 29\n",
       "10.1080/01944363.2014.954464       26\n",
       "10.1017/cbo9781107415324           23\n",
       "                                   ..\n",
       "10.1007/s00484-021-02105-0          1\n",
       "10.1016/j.gloenvcha.2013.05.011     1\n",
       "10.3390/agronomy9110674             1\n",
       "10.1007/s10584-018-2337-5           1\n",
       "10.4324/9780203153833               1\n",
       "Name: count, Length: 56764, dtype: int64"
      ]
     },
     "execution_count": 24,
     "metadata": {},
     "output_type": "execute_result"
    }
   ],
   "source": [
    "df_ipcc.doi.value_counts()"
   ]
  },
  {
   "cell_type": "code",
   "execution_count": 25,
   "metadata": {},
   "outputs": [],
   "source": [
    "df_ipcc.to_json(path+'data_all.jsonl', orient='records', lines=True)"
   ]
  },
  {
   "cell_type": "markdown",
   "metadata": {},
   "source": [
    "Get open_access, sdg, countries from OpenAlex"
   ]
  },
  {
   "cell_type": "code",
   "execution_count": null,
   "metadata": {},
   "outputs": [],
   "source": [
    "def aplatir(conteneurs):\n",
    "    return [conteneurs[i][j] for i in range(len(conteneurs))for j in range(len(conteneurs[i]))]"
   ]
  },
  {
   "cell_type": "code",
   "execution_count": null,
   "metadata": {},
   "outputs": [],
   "source": [
    "json_OA=[]\n",
    "def get_open_alex_data(row):\n",
    "    doi=row.doi\n",
    "    if pd.isna(doi)==False:\n",
    "        url=f\"https://api.openalex.org/works?filter=doi:{doi}\"\n",
    "        response = requests.get(url)\n",
    "        data = response.json()\n",
    "        if 'results' in data.keys():\n",
    "            return {\"doi\": doi, \"results\": data.get('results')}\n",
    "        else:\n",
    "            return {\"doi\": doi, \"results\": []}"
   ]
  },
  {
   "cell_type": "code",
   "execution_count": null,
   "metadata": {},
   "outputs": [],
   "source": [
    "def get_status_sdg_coutries(row):\n",
    "    doi=row.doi\n",
    "    data=pd.read_json('open_alex_data.json')\n",
    "    if 'results' not in data.keys():\n",
    "        return None,None,None\n",
    "    if data.get('results')!=[]:\n",
    "        open_access=data.get('results')[0].get('open_access')\n",
    "        if open_access!={}:\n",
    "            status={'is_oa':open_access.get('is_oa'),'oa_status':open_access.get('oa_status')}\n",
    "        else:\n",
    "            status=None\n",
    "\n",
    "        sdgs=data.get('results')[0].get('sustainable_development_goals')\n",
    "        if sdgs!=[]:\n",
    "            sdgs_id_name=[{'id': str(sdg.get('id'))[-2:].replace(\"/\",\"\"), 'name': sdg.get('display_name')} for sdg in sdgs]\n",
    "        else:\n",
    "            sdgs_id_name=None\n",
    "\n",
    "        authors=data.get('results')[0].get('authorships')\n",
    "        if authors!=[]:\n",
    "            countries=list(set(aplatir([author.get('countries') for author in authors]))) \n",
    "        else:\n",
    "            countries=None\n",
    "    else:\n",
    "        return None,None,None\n",
    "\n",
    "    return status, sdgs_id_name, countries"
   ]
  },
  {
   "cell_type": "code",
   "execution_count": null,
   "metadata": {},
   "outputs": [],
   "source": [
    "status_list = []\n",
    "sdg_list = []\n",
    "countries_list = []\n",
    "for i,row in df_ipcc.iterrows():\n",
    "    print(i)\n",
    "    status, sdg, countries=get_status_sdg_coutries(row)\n",
    "\n",
    "    status_list.append(status)\n",
    "    sdg_list.append(sdg)\n",
    "    countries_list.append(countries)\n",
    "\n",
    "df_ipcc['status'] = status_list\n",
    "df_ipcc['sdg'] = sdg_list\n",
    "df_ipcc['countries'] = countries_list"
   ]
  },
  {
   "cell_type": "code",
   "execution_count": null,
   "metadata": {},
   "outputs": [],
   "source": [
    "data_counts = df_ipcc['countries'].value_counts()"
   ]
  },
  {
   "cell_type": "code",
   "execution_count": null,
   "metadata": {},
   "outputs": [],
   "source": [
    "plt.figure(figsize=(10, 6))\n",
    "plt.pie(data_counts, labels=data_counts.index, autopct='%1.1f%%', startangle=140, colors=plt.cm.Paired.colors)\n",
    "plt.show()"
   ]
  }
 ],
 "metadata": {
  "kernelspec": {
   "display_name": "tf",
   "language": "python",
   "name": "python3"
  },
  "language_info": {
   "codemirror_mode": {
    "name": "ipython",
    "version": 3
   },
   "file_extension": ".py",
   "mimetype": "text/x-python",
   "name": "python",
   "nbconvert_exporter": "python",
   "pygments_lexer": "ipython3",
   "version": "3.10.13"
  }
 },
 "nbformat": 4,
 "nbformat_minor": 2
}
