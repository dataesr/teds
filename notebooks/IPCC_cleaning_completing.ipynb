{
 "cells": [
  {
   "cell_type": "code",
   "execution_count": 1,
   "metadata": {},
   "outputs": [],
   "source": [
    "import requests\n",
    "import pandas as pd\n",
    "from tqdm.notebook import tqdm\n",
    "import matplotlib.pyplot as plt\n",
    "tqdm.pandas()"
   ]
  },
  {
   "cell_type": "markdown",
   "metadata": {},
   "source": [
    "Clean DOI"
   ]
  },
  {
   "cell_type": "code",
   "execution_count": 2,
   "metadata": {},
   "outputs": [],
   "source": [
    "path='../IPCC_bibliography/AR6/structured_data/'"
   ]
  },
  {
   "cell_type": "code",
   "execution_count": 3,
   "metadata": {},
   "outputs": [],
   "source": [
    "#data for each wg\n",
    "df_wgi = pd.read_json(path+'data_wg1.jsonl', lines= True)\n",
    "df_wgii = pd.read_json(path+'data_wg2.jsonl', lines= True)\n",
    "df_cross_wgii = pd.read_json(path+'data_cross_wg2.jsonl', lines= True)\n",
    "df_wgiii = pd.read_json(path+'data_wg3.jsonl', lines= True) "
   ]
  },
  {
   "cell_type": "code",
   "execution_count": 4,
   "metadata": {},
   "outputs": [],
   "source": [
    "#all data\n",
    "df_ipcc=pd.concat([df_wgi, df_wgii, df_cross_wgii, df_wgiii], ignore_index=True)"
   ]
  },
  {
   "cell_type": "code",
   "execution_count": 5,
   "metadata": {},
   "outputs": [],
   "source": [
    "def get_doi_cleaned(x):\n",
    "    low_x=str(x).lower()\n",
    "    if pd.isna(x):\n",
    "        return None\n",
    "    if low_x.find('https://doi.org/')>0:\n",
    "        return low_x.replace('https://doi.org/','')\n",
    "    else:\n",
    "        return low_x"
   ]
  },
  {
   "cell_type": "code",
   "execution_count": 6,
   "metadata": {},
   "outputs": [],
   "source": [
    "df_ipcc['doi']=df_ipcc.loc[:,'doi'].apply(lambda x: get_doi_cleaned(x))"
   ]
  },
  {
   "cell_type": "markdown",
   "metadata": {},
   "source": [
    "Get open_access, sdg, countries from OpenAlex"
   ]
  },
  {
   "cell_type": "code",
   "execution_count": 7,
   "metadata": {},
   "outputs": [],
   "source": [
    "def aplatir(conteneurs):\n",
    "    return [conteneurs[i][j] for i in range(len(conteneurs))for j in range(len(conteneurs[i]))]"
   ]
  },
  {
   "cell_type": "code",
   "execution_count": 8,
   "metadata": {},
   "outputs": [],
   "source": [
    "json_OA=[]\n",
    "def get_open_alex_data(row):\n",
    "    doi=row.doi\n",
    "    if pd.isna(doi)==False:\n",
    "        url=f\"https://api.openalex.org/works?filter=doi:{doi}\"\n",
    "        response = requests.get(url)\n",
    "        data = response.json()\n",
    "        if 'results' in data.keys():\n",
    "            return {\"doi\": doi, \"results\": data.get('results')}\n",
    "        else:\n",
    "            return {\"doi\": doi, \"results\": []}"
   ]
  },
  {
   "cell_type": "code",
   "execution_count": 9,
   "metadata": {},
   "outputs": [],
   "source": [
    "def get_status_sdg_coutries(row):\n",
    "    doi=row.doi\n",
    "    data=pd.read_json('data_OpenAlex.json')\n",
    "    if 'results' not in data.keys():\n",
    "        return None,None,None\n",
    "    if data.get('results')!=[]:\n",
    "        open_access=data.get('results')[0].get('open_access')\n",
    "        if open_access!={}:\n",
    "            status={'is_oa':open_access.get('is_oa'),'oa_status':open_access.get('oa_status')}\n",
    "        else:\n",
    "            status=None\n",
    "\n",
    "        sdgs=data.get('results')[0].get('sustainable_development_goals')\n",
    "        if sdgs!=[]:\n",
    "            sdgs_id_name=[{'id': str(sdg.get('id'))[-2:].replace(\"/\",\"\"), 'name': sdg.get('display_name')} for sdg in sdgs]\n",
    "        else:\n",
    "            sdgs_id_name=None\n",
    "\n",
    "        authors=data.get('results')[0].get('authorships')\n",
    "        if authors!=[]:\n",
    "            countries=list(set(aplatir([author.get('countries') for author in authors]))) \n",
    "        else:\n",
    "            countries=None\n",
    "    else:\n",
    "        return None,None,None\n",
    "\n",
    "    return status, sdgs_id_name, countries"
   ]
  },
  {
   "cell_type": "code",
   "execution_count": 10,
   "metadata": {},
   "outputs": [],
   "source": [
    "df_unique_doi=df_ipcc.drop_duplicates(subset=['doi'])"
   ]
  },
  {
   "cell_type": "code",
   "execution_count": 11,
   "metadata": {},
   "outputs": [],
   "source": [
    "df_unique_doi.loc[:,'doi']=df_unique_doi.loc[:,'doi'].apply(lambda x: None if str(x)[:4]=='http' else x)"
   ]
  },
  {
   "cell_type": "code",
   "execution_count": 12,
   "metadata": {},
   "outputs": [],
   "source": [
    "df_unique_doi=df_unique_doi.dropna(subset=['doi'])"
   ]
  },
  {
   "cell_type": "code",
   "execution_count": 13,
   "metadata": {},
   "outputs": [
    {
     "data": {
      "application/vnd.jupyter.widget-view+json": {
       "model_id": "194050ceb5804b99a9704a9927e654e3",
       "version_major": 2,
       "version_minor": 0
      },
      "text/plain": [
       "  0%|          | 0/53050 [00:00<?, ?it/s]"
      ]
     },
     "metadata": {},
     "output_type": "display_data"
    }
   ],
   "source": [
    "df_unique_doi.progress_apply(get_open_alex_data, axis= 1)\n",
    "print(json_OA)"
   ]
  },
  {
   "cell_type": "code",
   "execution_count": null,
   "metadata": {},
   "outputs": [],
   "source": [
    "json_OA.to_json(path+'data_OpenAlex.json', orient='records')"
   ]
  },
  {
   "cell_type": "code",
   "execution_count": null,
   "metadata": {},
   "outputs": [],
   "source": [
    "status_list = []\n",
    "sdg_list = []\n",
    "countries_list = []\n",
    "for i,row in df_ipcc.iterrows():\n",
    "    print(i)\n",
    "    status, sdg, countries=get_status_sdg_coutries(row)\n",
    "\n",
    "    status_list.append(status)\n",
    "    sdg_list.append(sdg)\n",
    "    countries_list.append(countries)\n",
    "\n",
    "df_ipcc['status'] = status_list\n",
    "df_ipcc['sdg'] = sdg_list\n",
    "df_ipcc['countries'] = countries_list"
   ]
  },
  {
   "cell_type": "code",
   "execution_count": null,
   "metadata": {},
   "outputs": [],
   "source": [
    "data_counts = aplatir(list(df_ipcc['countries'])).value_counts()"
   ]
  },
  {
   "cell_type": "code",
   "execution_count": null,
   "metadata": {},
   "outputs": [],
   "source": [
    "plt.figure(figsize=(10, 6))\n",
    "plt.pie(data_counts, labels=data_counts.index, autopct='%1.1f%%', startangle=140, colors=plt.cm.Paired.colors)\n",
    "plt.show()"
   ]
  }
 ],
 "metadata": {
  "kernelspec": {
   "display_name": "tf",
   "language": "python",
   "name": "python3"
  },
  "language_info": {
   "codemirror_mode": {
    "name": "ipython",
    "version": 3
   },
   "file_extension": ".py",
   "mimetype": "text/x-python",
   "name": "python",
   "nbconvert_exporter": "python",
   "pygments_lexer": "ipython3",
   "version": "3.11.4"
  }
 },
 "nbformat": 4,
 "nbformat_minor": 2
}
