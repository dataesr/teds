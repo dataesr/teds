{
 "cells": [
  {
   "cell_type": "code",
   "execution_count": null,
   "metadata": {},
   "outputs": [],
   "source": [
    "import requests\n",
    "import pandas as pd\n",
    "from tqdm.notebook import tqdm\n",
    "import matplotlib.pyplot as plt\n",
    "tqdm.pandas()"
   ]
  },
  {
   "cell_type": "markdown",
   "metadata": {},
   "source": [
    "Clean DOI"
   ]
  },
  {
   "cell_type": "code",
   "execution_count": null,
   "metadata": {},
   "outputs": [],
   "source": [
    "path='../IPCC_bibliography/AR6/structured_data/'"
   ]
  },
  {
   "cell_type": "code",
   "execution_count": null,
   "metadata": {},
   "outputs": [],
   "source": [
    "#data for each wg\n",
    "df_wgi = pd.read_json(path+'data_wg1.jsonl', lines= True)\n",
    "df_wgii = pd.read_json(path+'data_wg2.jsonl', lines= True)\n",
    "df_cross_wgii = pd.read_json(path+'data_cross_wg2.jsonl', lines= True)\n",
    "df_wgiii = pd.read_json(path+'data_wg3.jsonl', lines= True) "
   ]
  },
  {
   "cell_type": "code",
   "execution_count": null,
   "metadata": {},
   "outputs": [],
   "source": [
    "#all data\n",
    "df_ipcc=pd.concat([df_wgi, df_wgii, df_cross_wgii, df_wgiii], ignore_index=True)"
   ]
  },
  {
   "cell_type": "code",
   "execution_count": null,
   "metadata": {},
   "outputs": [],
   "source": [
    "def get_doi_cleaned(x):\n",
    "    low_x=str(x).lower()\n",
    "    if pd.isna(x):\n",
    "        return None\n",
    "    if low_x.find('https://doi.org/')>0:\n",
    "        return low_x.replace('https://doi.org/','')\n",
    "    else:\n",
    "        return low_x"
   ]
  },
  {
   "cell_type": "code",
   "execution_count": null,
   "metadata": {},
   "outputs": [],
   "source": [
    "df_ipcc['doi']=df_ipcc.loc[:,'doi'].apply(lambda x: get_doi_cleaned(x))"
   ]
  },
  {
   "cell_type": "markdown",
   "metadata": {},
   "source": [
    "Get open_access, sdg, countries from OpenAlex"
   ]
  },
  {
   "cell_type": "code",
   "execution_count": null,
   "metadata": {},
   "outputs": [],
   "source": [
    "def aplatir(conteneurs):\n",
    "    return [conteneurs[i][j] for i in range(len(conteneurs)) for j in range(len(conteneurs[i]))]"
   ]
  },
  {
   "cell_type": "code",
   "execution_count": null,
   "metadata": {},
   "outputs": [],
   "source": [
    "json_OA=[]\n",
    "def get_open_alex_data(row):\n",
    "    doi=row.doi\n",
    "    if pd.isna(doi)==False:\n",
    "        url=f\"https://api.openalex.org/works?filter=doi:{doi}\"\n",
    "        response = requests.get(url)\n",
    "        data = response.json()\n",
    "        if 'results' in data.keys():\n",
    "            json_OA.append({\"doi\": doi, \"results\": data.get('results')})\n",
    "        else:\n",
    "            json_OA.append({\"doi\": doi, \"results\": []})"
   ]
  },
  {
   "cell_type": "code",
   "execution_count": null,
   "metadata": {},
   "outputs": [],
   "source": [
    "def get_status_sdg_coutries(df,row):\n",
    "    doi=row.doi\n",
    "    data=df[df.doi==doi]\n",
    "    i=df[df.doi==doi].index[0]\n",
    "    if data['results'][i]!=[]:\n",
    "        open_access=data['results'][i][0].get('open_access')\n",
    "        if open_access!={}:\n",
    "            status={'is_oa':open_access.get('is_oa'),'oa_status':open_access.get('oa_status')}\n",
    "        else:\n",
    "            status=None\n",
    "\n",
    "        sdgs=data['results'][i][0].get('sustainable_development_goals')\n",
    "        if sdgs!=[]:\n",
    "            sdgs_id_name=[{'id': str(sdg.get('id'))[-2:].replace(\"/\",\"\"), 'name': sdg.get('display_name')} for sdg in sdgs]\n",
    "        else:\n",
    "            sdgs_id_name=None\n",
    "\n",
    "        authors=data['results'][i][0].get('authorships')\n",
    "        if authors!=[]:\n",
    "            countries=list(set(aplatir([author.get('countries') for author in authors]))) \n",
    "        else:\n",
    "            countries=[None]\n",
    "    else:\n",
    "        return None,None,[None]\n",
    "\n",
    "    return status, sdgs_id_name, countries"
   ]
  },
  {
   "cell_type": "code",
   "execution_count": null,
   "metadata": {},
   "outputs": [],
   "source": [
    "#get data_OpenAlex from the API (6h)\n",
    "\"\"\" df_unique_doi=df_ipcc.drop_duplicates(subset=['doi'])\n",
    "df_unique_doi.loc[:,'doi']=df_unique_doi.loc[:,'doi'].apply(lambda x: None if str(x)[:4]=='http' else x)\n",
    "df_unique_doi=df_unique_doi.dropna(subset=['doi'])\n",
    "df_unique_doi.progress_apply(get_open_alex_data, axis= 1)\n",
    "pd.DataFrame(json_OA).to_json(path+'data_OpenAlex.json', orient='records') \"\"\""
   ]
  },
  {
   "cell_type": "code",
   "execution_count": null,
   "metadata": {},
   "outputs": [],
   "source": [
    "#get data_OpenAlex from the file\n",
    "data_OpenAlex_all=pd.read_json(path+'data_OpenAlex.json')"
   ]
  },
  {
   "cell_type": "code",
   "execution_count": null,
   "metadata": {},
   "outputs": [],
   "source": [
    "status_list = []\n",
    "sdg_list = []\n",
    "countries_list = []\n",
    "for i,row in data_OpenAlex_all.iterrows():\n",
    "    status, sdg, countries=get_status_sdg_coutries(data_OpenAlex_all,row)\n",
    "\n",
    "    status_list.append(status)\n",
    "    sdg_list.append(sdg)\n",
    "    countries_list.append(countries)\n",
    "\n",
    "data_OpenAlex_all['status'] = status_list\n",
    "data_OpenAlex_all['sdg'] = sdg_list\n",
    "data_OpenAlex_all['countries'] = countries_list"
   ]
  },
  {
   "cell_type": "code",
   "execution_count": null,
   "metadata": {},
   "outputs": [],
   "source": [
    "data_OpenAlex=data_OpenAlex_all[['doi','status','sdg','countries']]"
   ]
  },
  {
   "cell_type": "markdown",
   "metadata": {},
   "source": [
    "The part of each countries in ipcc references"
   ]
  },
  {
   "cell_type": "code",
   "execution_count": null,
   "metadata": {},
   "outputs": [],
   "source": [
    "df_ipcc=pd.merge(df_ipcc, data_OpenAlex, on='doi', how='left')\n",
    "df_ipcc.loc[:,'countries']=df_ipcc.loc[:,'countries'].apply(lambda x: str(x).replace('nan','None').replace('[]','None').replace('[None]','None') if ((str(x)=='nan')|(str(x)=='[None]')|((str(x)=='[]'))) else x )\n",
    "df_ipcc.loc[:,'countries']=df_ipcc.loc[:,'countries'].apply(lambda x: ['None'] if x=='None' else x)"
   ]
  },
  {
   "cell_type": "code",
   "execution_count": null,
   "metadata": {},
   "outputs": [],
   "source": [
    "data_counts = pd.Series(aplatir(list(df_ipcc['countries']))).value_counts()"
   ]
  },
  {
   "cell_type": "code",
   "execution_count": null,
   "metadata": {},
   "outputs": [],
   "source": [
    "plt.figure(figsize=(10, 6))\n",
    "data_counts[:20].plot(kind='bar')\n",
    "ax = data_counts[:20].plot(kind='bar')\n",
    "for i, v in enumerate(data_counts[:20]):\n",
    "    ax.text(i, v + 0.1, str(v), ha='center', va='bottom')\n",
    "plt.show()"
   ]
  },
  {
   "cell_type": "markdown",
   "metadata": {},
   "source": [
    "The part of each countries in WG1 references"
   ]
  },
  {
   "cell_type": "code",
   "execution_count": null,
   "metadata": {},
   "outputs": [],
   "source": [
    "df_wgiii=pd.merge(df_wgiii, data_OpenAlex, on='doi', how='left')\n",
    "df_wgiii.loc[:,'countries']=df_wgiii.loc[:,'countries'].apply(lambda x: str(x).replace('nan','None').replace('[]','None').replace('[None]','None') if ((str(x)=='nan')|(str(x)=='[None]')|((str(x)=='[]'))) else x )\n",
    "df_wgiii.loc[:,'countries']=df_wgiii.loc[:,'countries'].apply(lambda x: ['None'] if x=='None' else x)"
   ]
  },
  {
   "cell_type": "code",
   "execution_count": null,
   "metadata": {},
   "outputs": [],
   "source": [
    "#retirer les None\n",
    "data_counts = pd.Series(aplatir(list(df_wgiii['countries']))).value_counts()"
   ]
  },
  {
   "cell_type": "code",
   "execution_count": null,
   "metadata": {},
   "outputs": [],
   "source": [
    "plt.figure(figsize=(10, 6))\n",
    "data_counts[:20].plot(kind='bar')\n",
    "ax = data_counts[:20].plot(kind='bar')\n",
    "for i, v in enumerate(data_counts[:20]):\n",
    "    ax.text(i, v + 0.1, str(v), ha='center', va='bottom')\n",
    "plt.show()"
   ]
  },
  {
   "cell_type": "markdown",
   "metadata": {},
   "source": [
    "SDG in IPCC references"
   ]
  },
  {
   "cell_type": "code",
   "execution_count": null,
   "metadata": {},
   "outputs": [],
   "source": [
    "sdg_names=data_OpenAlex.loc[:,'sdg'].dropna().apply(lambda x: str(x[0].get('name')).lower().replace(',',''))"
   ]
  },
  {
   "cell_type": "code",
   "execution_count": null,
   "metadata": {},
   "outputs": [],
   "source": [
    "data_counts = pd.Series(list(sdg_names)).value_counts()"
   ]
  },
  {
   "cell_type": "code",
   "execution_count": null,
   "metadata": {},
   "outputs": [],
   "source": [
    "plt.figure(figsize=(6, 10))\n",
    "plt.pie(data_counts, labels=data_counts.index, autopct='%1.1f%%', startangle=140)\n",
    "plt.subplots_adjust(wspace=0.5, hspace=1)\n",
    "plt.show()"
   ]
  },
  {
   "cell_type": "markdown",
   "metadata": {},
   "source": [
    "Get concepts from OpenAlex"
   ]
  },
  {
   "cell_type": "code",
   "execution_count": null,
   "metadata": {},
   "outputs": [],
   "source": [
    "def get_concepts(df,row):\n",
    "    doi=row.doi\n",
    "    data=df[df.doi==doi]\n",
    "    i=df[df.doi==doi].index[0]\n",
    "    if data['results'][i]!=[]:\n",
    "        concepts=data['results'][i][0].get('concepts')\n",
    "        if concepts!=[]:\n",
    "            concepts_name=[{'name': concept.get('display_name')} for concept in concepts]\n",
    "        else:\n",
    "            concepts_name=None\n",
    "    else:\n",
    "        return None\n",
    "    return concepts_name"
   ]
  },
  {
   "cell_type": "code",
   "execution_count": null,
   "metadata": {},
   "outputs": [],
   "source": [
    "concepts_list = []\n",
    "for i,row in data_OpenAlex_all.iterrows():\n",
    "    concepts=get_concepts(data_OpenAlex_all,row)\n",
    "    concepts_list.append(concepts)\n",
    "\n",
    "data_OpenAlex_all['concepts'] = concepts_list"
   ]
  },
  {
   "cell_type": "code",
   "execution_count": null,
   "metadata": {},
   "outputs": [],
   "source": [
    "concepts_names=data_OpenAlex_all.loc[:,'concepts'].dropna().apply(lambda x: str(x[0].get('name')).lower().replace(',',''))"
   ]
  },
  {
   "cell_type": "code",
   "execution_count": null,
   "metadata": {},
   "outputs": [],
   "source": [
    "data_counts = pd.Series(list(concepts_names)).value_counts()"
   ]
  },
  {
   "cell_type": "code",
   "execution_count": null,
   "metadata": {},
   "outputs": [],
   "source": [
    "data_counts"
   ]
  },
  {
   "cell_type": "code",
   "execution_count": null,
   "metadata": {},
   "outputs": [],
   "source": [
    "plt.figure(figsize=(6, 10))\n",
    "plt.pie(data_counts[:30], labels=data_counts[:30].index, autopct='%1.1f%%', startangle=140)\n",
    "plt.subplots_adjust(wspace=0.5, hspace=1)\n",
    "plt.show()"
   ]
  },
  {
   "cell_type": "code",
   "execution_count": null,
   "metadata": {},
   "outputs": [],
   "source": [
    "data_OpenAlex_all.iloc[8]"
   ]
  },
  {
   "cell_type": "code",
   "execution_count": null,
   "metadata": {},
   "outputs": [],
   "source": [
    "data_OpenAlex_all['concepts'][16]"
   ]
  },
  {
   "cell_type": "code",
   "execution_count": null,
   "metadata": {},
   "outputs": [],
   "source": [
    "data_counts[:30]"
   ]
  },
  {
   "cell_type": "code",
   "execution_count": null,
   "metadata": {},
   "outputs": [],
   "source": [
    "list_green_concepts=['climate change','environmental science','climatology','greenhouse gas','climatology','ecology','climate model','greenhouse gas']"
   ]
  },
  {
   "cell_type": "markdown",
   "metadata": {},
   "source": [
    "Training model: Publication from IPCC's references or not:"
   ]
  },
  {
   "cell_type": "code",
   "execution_count": null,
   "metadata": {},
   "outputs": [],
   "source": [
    "df_ipcc[df_ipcc['wg']=='wg1'].year.max()"
   ]
  },
  {
   "cell_type": "code",
   "execution_count": null,
   "metadata": {},
   "outputs": [],
   "source": [
    "df_ipcc['year'] = pd.to_numeric(df_ipcc['year'], errors='coerce')\n",
    "year=df_ipcc.drop_duplicates(subset='doi')['year'].dropna().sort_values().apply(lambda x: int(x))\n",
    "data_counts = pd.Series(list(year)).value_counts()"
   ]
  },
  {
   "cell_type": "code",
   "execution_count": null,
   "metadata": {},
   "outputs": [],
   "source": [
    "data_counts=data_counts.to_dict()\n",
    "del data_counts[202]"
   ]
  },
  {
   "cell_type": "code",
   "execution_count": null,
   "metadata": {},
   "outputs": [],
   "source": [
    "df_ipcc.apply(lambda x: None if str(x.doi)[:4]=='http' else x, axis=1).dropna(subset=['doi']).drop_duplicates(subset='doi')"
   ]
  },
  {
   "cell_type": "code",
   "execution_count": null,
   "metadata": {},
   "outputs": [],
   "source": [
    "data_OA=pd.read_json('../IPCC_bibliography/AR6/structured_data/data_OA_concepts.json')"
   ]
  },
  {
   "cell_type": "code",
   "execution_count": null,
   "metadata": {},
   "outputs": [],
   "source": [
    "dois=list(data_OA.doi)"
   ]
  },
  {
   "cell_type": "code",
   "execution_count": null,
   "metadata": {},
   "outputs": [],
   "source": [
    "url=f\"https://api.openalex.org/works?filter=publication_year:{2018}&per-page={200}&cursor=*\"\n",
    "response = requests.get(url)\n",
    "data = response.json()"
   ]
  },
  {
   "cell_type": "code",
   "execution_count": null,
   "metadata": {},
   "outputs": [],
   "source": [
    "def get_publi_not_in_ipcc(json_not_in_IPCC,year,nb_publi_page,nb_publi,cursor):\n",
    "    url=f\"https://api.openalex.org/works?filter=publication_year:{year}&per-page={nb_publi_page}&cursor={cursor}\"\n",
    "    response = requests.get(url)\n",
    "    data = response.json()\n",
    "    for i in range(nb_publi_page):\n",
    "        if (nb_publi > len(json_not_in_IPCC[year])):\n",
    "            if ((pd.isna(data.get('results')[i]))==False)&(data.get('results')[i].get('doi') not in dois)&(pd.isna(data.get('results')[i].get('title'))==False)&(data.get('results')[i].get('sustainable_development_goals')!=[])&(data.get('results')[i].get('concepts')!=[]):\n",
    "                json_not_in_IPCC[year].append({\"doi\": data.get('results')[i].get('doi'), \"year\": year, \"title\": data.get('results')[i].get('title'), \"sdg\": data.get('results')[i].get('sustainable_development_goals'), \"concepts\": data.get('results')[i].get('concepts')})\n",
    "                list_cursor.append(data.get('meta').get('next_cursor'))\n",
    "        else:\n",
    "            break"
   ]
  },
  {
   "cell_type": "code",
   "execution_count": null,
   "metadata": {},
   "outputs": [],
   "source": [
    "json_not_in_IPCC={}\n",
    "list_cursor=['*']\n",
    "for year,nb_publi in data_counts.items():\n",
    "    print(year)\n",
    "    json_not_in_IPCC[year]=[]\n",
    "    while (nb_publi > len(json_not_in_IPCC[year])):\n",
    "        get_publi_not_in_ipcc(json_not_in_IPCC,year,200,nb_publi,list_cursor[-1])"
   ]
  },
  {
   "cell_type": "code",
   "execution_count": null,
   "metadata": {},
   "outputs": [],
   "source": [
    "data_counts"
   ]
  }
 ],
 "metadata": {
  "kernelspec": {
   "display_name": "tf",
   "language": "python",
   "name": "python3"
  },
  "language_info": {
   "codemirror_mode": {
    "name": "ipython",
    "version": 3
   },
   "file_extension": ".py",
   "mimetype": "text/x-python",
   "name": "python",
   "nbconvert_exporter": "python",
   "pygments_lexer": "ipython3",
   "version": "3.9.10"
  }
 },
 "nbformat": 4,
 "nbformat_minor": 2
}
