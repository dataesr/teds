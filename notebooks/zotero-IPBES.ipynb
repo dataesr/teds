{
 "cells": [
  {
   "cell_type": "code",
   "execution_count": 1,
   "id": "e0ef86ad",
   "metadata": {},
   "outputs": [
    {
     "data": {
      "text/plain": [
       "True"
      ]
     },
     "execution_count": 1,
     "metadata": {},
     "output_type": "execute_result"
    }
   ],
   "source": [
    "from pyzotero import zotero\n",
    "import os\n",
    "from dotenv import load_dotenv\n",
    "load_dotenv()"
   ]
  },
  {
   "cell_type": "code",
   "execution_count": 2,
   "id": "72fbfc65",
   "metadata": {},
   "outputs": [],
   "source": [
    "ZOTERO_KEY = os.getenv('ZOTERO_KEY')\n",
    "IPBES_ZOTERO_ID = '2333077'"
   ]
  },
  {
   "cell_type": "code",
   "execution_count": null,
   "id": "d6e46db9",
   "metadata": {},
   "outputs": [
    {
     "name": "stdout",
     "output_type": "stream",
     "text": [
      "getting zotero data \n",
      "0, 1, 2, 3, 4, 5, 6, 7, 8, 9, 10, 11, 12, 13, 14, 15, 16, 17, 18, 19, 20, 21, 22, 23, 24, 25, 26, 27, 28, 29, 30, 31, 32, 33, 34, 35, 36, 37, 38, 39, 40, 41, 42, 43, 44, 45, 46, 47, 48, 49, 50, "
     ]
    }
   ],
   "source": [
    "zot = zotero.Zotero(IPBES_ZOTERO_ID, 'group', ZOTERO_KEY)\n",
    "first_data = zot.top(limit=100)\n",
    "ipbes_blibliography = first_data\n",
    "print('getting zotero data ')\n",
    "for i in range(0, 10000):\n",
    "    print(f'{i}', end=', ')\n",
    "    try:\n",
    "        next_data = zot.follow()\n",
    "        ipbes_blibliography += next_data\n",
    "    except:\n",
    "        print(f'stopping get next data from zotero at {i}')\n",
    "        break\n"
   ]
  }
 ],
 "metadata": {
  "kernelspec": {
   "display_name": "Python 3",
   "language": "python",
   "name": "python3"
  },
  "language_info": {
   "codemirror_mode": {
    "name": "ipython",
    "version": 3
   },
   "file_extension": ".py",
   "mimetype": "text/x-python",
   "name": "python",
   "nbconvert_exporter": "python",
   "pygments_lexer": "ipython3",
   "version": "3.9.18"
  }
 },
 "nbformat": 4,
 "nbformat_minor": 5
}
