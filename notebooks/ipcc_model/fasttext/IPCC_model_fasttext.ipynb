{
 "cells": [
  {
   "cell_type": "code",
   "execution_count": 1,
   "metadata": {},
   "outputs": [
    {
     "name": "stderr",
     "output_type": "stream",
     "text": [
      "c:\\Users\\haallat\\Anaconda3\\envs\\my_env\\lib\\site-packages\\scipy\\__init__.py:146: UserWarning: A NumPy version >=1.16.5 and <1.23.0 is required for this version of SciPy (detected version 1.26.0\n",
      "  warnings.warn(f\"A NumPy version >={np_minversion} and <{np_maxversion}\"\n"
     ]
    }
   ],
   "source": [
    "import os\n",
    "import sys\n",
    "import pandas as pd\n",
    "import matplotlib.pyplot as plt\n",
    "import re\n",
    "\n",
    "current_directory = os.getcwd()\n",
    "root_directory = os.path.abspath(os.path.join(current_directory, '..', '..','..')) \n",
    "if root_directory not in sys.path:\n",
    "    sys.path.append(root_directory)\n",
    "\n",
    "import fasttext\n",
    "from sklearn.metrics import confusion_matrix\n",
    "from sklearn.model_selection import train_test_split\n",
    "from sklearn.ensemble import RandomForestClassifier \n",
    "import warnings\n",
    "from sklearn.metrics import accuracy_score, recall_score, f1_score, roc_auc_score, confusion_matrix\n",
    "import numpy as np\n",
    "import neattext.functions as nfx\n",
    " \n",
    "warnings.filterwarnings(action='ignore')"
   ]
  },
  {
   "cell_type": "code",
   "execution_count": 2,
   "metadata": {},
   "outputs": [
    {
     "data": {
      "text/plain": [
       "['data_ipcc.jsonl',\n",
       " 'data_ipcc.zip',\n",
       " 'data_model.json',\n",
       " 'data_not_ipcc.jsonl',\n",
       " 'data_not_ipcc.zip',\n",
       " 'ipcc_vectors.json',\n",
       " 'locations_ids.json',\n",
       " 'locations_names.json',\n",
       " 'title.json',\n",
       " 'topics.json']"
      ]
     },
     "execution_count": 2,
     "metadata": {},
     "output_type": "execute_result"
    }
   ],
   "source": [
    "os.listdir(root_directory+f\"\\\\IPCC_bibliography\\\\AR6\\\\structured_data\\\\data_model_ipcc\")"
   ]
  },
  {
   "cell_type": "code",
   "execution_count": 3,
   "metadata": {},
   "outputs": [],
   "source": [
    "df_ipcc=pd.read_json(root_directory+f\"\\\\IPCC_bibliography\\\\AR6\\\\structured_data\\\\data_model_ipcc\\\\data_ipcc.jsonl\", lines= True).dropna(subset=['year'])"
   ]
  },
  {
   "cell_type": "code",
   "execution_count": 4,
   "metadata": {},
   "outputs": [],
   "source": [
    "df_not_ipcc=pd.read_json(root_directory+f\"\\\\IPCC_bibliography\\\\AR6\\\\structured_data\\\\data_model_ipcc\\\\data_not_ipcc.jsonl\", lines= True)"
   ]
  },
  {
   "cell_type": "code",
   "execution_count": 5,
   "metadata": {},
   "outputs": [],
   "source": [
    "df_ipcc=df_ipcc[['year','doi', 'title','topics','locations_names','locations_ids']]"
   ]
  },
  {
   "cell_type": "code",
   "execution_count": 6,
   "metadata": {},
   "outputs": [],
   "source": [
    "df_not_ipcc=df_not_ipcc[['year','doi', 'title','topics','locations_names','locations_ids']]"
   ]
  },
  {
   "cell_type": "code",
   "execution_count": 7,
   "metadata": {},
   "outputs": [],
   "source": [
    "df_ipcc=df_ipcc.dropna(subset=['year','doi', 'title','topics','locations_names','locations_ids']).drop_duplicates(subset=['doi'])"
   ]
  },
  {
   "cell_type": "code",
   "execution_count": 8,
   "metadata": {},
   "outputs": [],
   "source": [
    "df_not_ipcc=df_not_ipcc.dropna(subset=['doi', 'title','topics','locations_names','locations_ids'])"
   ]
  },
  {
   "cell_type": "code",
   "execution_count": 9,
   "metadata": {},
   "outputs": [],
   "source": [
    "data_counts=pd.Series([int(x) for x in list(df_ipcc.year.dropna())]).value_counts()\n",
    "data_counts=pd.Series(dict(data_counts)).sort_index()"
   ]
  },
  {
   "cell_type": "markdown",
   "metadata": {},
   "source": [
    "building the learning dataset"
   ]
  },
  {
   "cell_type": "code",
   "execution_count": 10,
   "metadata": {},
   "outputs": [
    {
     "name": "stdout",
     "output_type": "stream",
     "text": [
      "48101 48101\n"
     ]
    }
   ],
   "source": [
    "print(len(df_ipcc),len(df_not_ipcc))"
   ]
  },
  {
   "cell_type": "code",
   "execution_count": 11,
   "metadata": {},
   "outputs": [],
   "source": [
    "df_ipcc['label']='ipcc'\n",
    "df_not_ipcc['label']='not_ipcc'"
   ]
  },
  {
   "cell_type": "code",
   "execution_count": 12,
   "metadata": {},
   "outputs": [],
   "source": [
    "df_all=pd.concat([df_ipcc,df_not_ipcc]).reset_index()\n",
    "del df_all['index']"
   ]
  },
  {
   "cell_type": "code",
   "execution_count": 13,
   "metadata": {},
   "outputs": [],
   "source": [
    "df_all.loc[:,'doi']=df_all.loc[:,'doi'].apply(lambda x: str(nfx.remove_stopwords(x)).replace('https://doi.org/','').lower())"
   ]
  },
  {
   "cell_type": "code",
   "execution_count": 14,
   "metadata": {},
   "outputs": [],
   "source": [
    "df_all.loc[:,'title']=df_all.loc[:,'title'].apply(lambda x: str(nfx.remove_stopwords(x)).replace('}','').replace('{','').lower())"
   ]
  },
  {
   "cell_type": "code",
   "execution_count": 15,
   "metadata": {},
   "outputs": [],
   "source": [
    "df_all.loc[:,'topics']=df_all.loc[:,'topics'].apply(lambda x: nfx.remove_stopwords(' '.join(x)).lower())"
   ]
  },
  {
   "cell_type": "code",
   "execution_count": 16,
   "metadata": {},
   "outputs": [
    {
     "data": {
      "text/html": [
       "<div>\n",
       "<style scoped>\n",
       "    .dataframe tbody tr th:only-of-type {\n",
       "        vertical-align: middle;\n",
       "    }\n",
       "\n",
       "    .dataframe tbody tr th {\n",
       "        vertical-align: top;\n",
       "    }\n",
       "\n",
       "    .dataframe thead th {\n",
       "        text-align: right;\n",
       "    }\n",
       "</style>\n",
       "<table border=\"1\" class=\"dataframe\">\n",
       "  <thead>\n",
       "    <tr style=\"text-align: right;\">\n",
       "      <th></th>\n",
       "      <th>year</th>\n",
       "      <th>doi</th>\n",
       "      <th>title</th>\n",
       "      <th>topics</th>\n",
       "      <th>locations_names</th>\n",
       "      <th>locations_ids</th>\n",
       "      <th>label</th>\n",
       "    </tr>\n",
       "  </thead>\n",
       "  <tbody>\n",
       "    <tr>\n",
       "      <th>0</th>\n",
       "      <td>2019</td>\n",
       "      <td>10.3389/978-2-88963-118-6</td>\n",
       "      <td>oceanobs'19: ocean opportunity. volume 1</td>\n",
       "      <td>marine biology ecology research</td>\n",
       "      <td>Frontiers research topics</td>\n",
       "      <td>1664-8714</td>\n",
       "      <td>ipcc</td>\n",
       "    </tr>\n",
       "    <tr>\n",
       "      <th>1</th>\n",
       "      <td>1900</td>\n",
       "      <td>10.1002/andp.19003081208</td>\n",
       "      <td>\\\"uber die bedeutung des wasserdampfes und der...</td>\n",
       "      <td>atmospheric ozone climate atmospheric chemistr...</td>\n",
       "      <td>Annalen der Physik</td>\n",
       "      <td>0003-3804</td>\n",
       "      <td>ipcc</td>\n",
       "    </tr>\n",
       "    <tr>\n",
       "      <th>2</th>\n",
       "      <td>1964</td>\n",
       "      <td>10.3402/tellusa.v16i1.8885</td>\n",
       "      <td>the parameters atmospheric turbidity</td>\n",
       "      <td>ocean waves remote sensing</td>\n",
       "      <td>Tellus A Dynamic Meteorology and Oceanography</td>\n",
       "      <td>0280-6495</td>\n",
       "      <td>ipcc</td>\n",
       "    </tr>\n",
       "    <tr>\n",
       "      <th>3</th>\n",
       "      <td>1929</td>\n",
       "      <td>10.1080/20014422.1929.11880498</td>\n",
       "      <td>on atmospheric transmission sun radiation dust...</td>\n",
       "      <td>atmospheric aerosols clouds</td>\n",
       "      <td>Geografiska Annaler</td>\n",
       "      <td>1651-3215</td>\n",
       "      <td>ipcc</td>\n",
       "    </tr>\n",
       "    <tr>\n",
       "      <th>4</th>\n",
       "      <td>2013</td>\n",
       "      <td>10.1002/rog.20022</td>\n",
       "      <td>a review global ocean temperature observations...</td>\n",
       "      <td>oceanographic atmospheric processes geophysics...</td>\n",
       "      <td>Reviews of Geophysics</td>\n",
       "      <td>1944-9208</td>\n",
       "      <td>ipcc</td>\n",
       "    </tr>\n",
       "    <tr>\n",
       "      <th>...</th>\n",
       "      <td>...</td>\n",
       "      <td>...</td>\n",
       "      <td>...</td>\n",
       "      <td>...</td>\n",
       "      <td>...</td>\n",
       "      <td>...</td>\n",
       "      <td>...</td>\n",
       "    </tr>\n",
       "    <tr>\n",
       "      <th>96197</th>\n",
       "      <td>2018</td>\n",
       "      <td>10.1016/j.cclet.2018.11.014</td>\n",
       "      <td>design synthesis novel branched fluorinated su...</td>\n",
       "      <td>per- polyfluoroalkyl substances research atmos...</td>\n",
       "      <td>Chinese Chemical Letters</td>\n",
       "      <td>1001-8417</td>\n",
       "      <td>not_ipcc</td>\n",
       "    </tr>\n",
       "    <tr>\n",
       "      <th>96198</th>\n",
       "      <td>2018</td>\n",
       "      <td>10.1504/ijhrdm.2018.10013654</td>\n",
       "      <td>relationship time perspective job satisfaction</td>\n",
       "      <td>psychological temporal perspectives research p...</td>\n",
       "      <td>International Journal of Human Resources Devel...</td>\n",
       "      <td>1465-6612</td>\n",
       "      <td>not_ipcc</td>\n",
       "    </tr>\n",
       "    <tr>\n",
       "      <th>96199</th>\n",
       "      <td>2018</td>\n",
       "      <td>10.31727/gzb.41.4.9</td>\n",
       "      <td>istraživanje preferencija u odabiru sobnog bil...</td>\n",
       "      <td>regional development management studies</td>\n",
       "      <td>Glasnik zaštite bilja</td>\n",
       "      <td>0350-9664</td>\n",
       "      <td>not_ipcc</td>\n",
       "    </tr>\n",
       "    <tr>\n",
       "      <th>96200</th>\n",
       "      <td>2018</td>\n",
       "      <td>10.1103/physrevlett.121.021102</td>\n",
       "      <td>origin cosmic ray galactic halo driven advecte...</td>\n",
       "      <td>astrophysics cosmic phenomena solar space plas...</td>\n",
       "      <td>Physical Review Letters</td>\n",
       "      <td>0031-9007</td>\n",
       "      <td>not_ipcc</td>\n",
       "    </tr>\n",
       "    <tr>\n",
       "      <th>96201</th>\n",
       "      <td>2018</td>\n",
       "      <td>10.1016/j.msea.2018.01.069</td>\n",
       "      <td>simultaneously increasing high-temperature ten...</td>\n",
       "      <td>aluminum alloys composites properties aluminum...</td>\n",
       "      <td>Materials Science and Engineering A</td>\n",
       "      <td>0921-5093</td>\n",
       "      <td>not_ipcc</td>\n",
       "    </tr>\n",
       "  </tbody>\n",
       "</table>\n",
       "<p>96202 rows × 7 columns</p>\n",
       "</div>"
      ],
      "text/plain": [
       "       year                             doi  \\\n",
       "0      2019       10.3389/978-2-88963-118-6   \n",
       "1      1900        10.1002/andp.19003081208   \n",
       "2      1964      10.3402/tellusa.v16i1.8885   \n",
       "3      1929  10.1080/20014422.1929.11880498   \n",
       "4      2013               10.1002/rog.20022   \n",
       "...     ...                             ...   \n",
       "96197  2018     10.1016/j.cclet.2018.11.014   \n",
       "96198  2018    10.1504/ijhrdm.2018.10013654   \n",
       "96199  2018             10.31727/gzb.41.4.9   \n",
       "96200  2018  10.1103/physrevlett.121.021102   \n",
       "96201  2018      10.1016/j.msea.2018.01.069   \n",
       "\n",
       "                                                   title  \\\n",
       "0               oceanobs'19: ocean opportunity. volume 1   \n",
       "1      \\\"uber die bedeutung des wasserdampfes und der...   \n",
       "2                   the parameters atmospheric turbidity   \n",
       "3      on atmospheric transmission sun radiation dust...   \n",
       "4      a review global ocean temperature observations...   \n",
       "...                                                  ...   \n",
       "96197  design synthesis novel branched fluorinated su...   \n",
       "96198     relationship time perspective job satisfaction   \n",
       "96199  istraživanje preferencija u odabiru sobnog bil...   \n",
       "96200  origin cosmic ray galactic halo driven advecte...   \n",
       "96201  simultaneously increasing high-temperature ten...   \n",
       "\n",
       "                                                  topics  \\\n",
       "0                        marine biology ecology research   \n",
       "1      atmospheric ozone climate atmospheric chemistr...   \n",
       "2                             ocean waves remote sensing   \n",
       "3                            atmospheric aerosols clouds   \n",
       "4      oceanographic atmospheric processes geophysics...   \n",
       "...                                                  ...   \n",
       "96197  per- polyfluoroalkyl substances research atmos...   \n",
       "96198  psychological temporal perspectives research p...   \n",
       "96199            regional development management studies   \n",
       "96200  astrophysics cosmic phenomena solar space plas...   \n",
       "96201  aluminum alloys composites properties aluminum...   \n",
       "\n",
       "                                         locations_names locations_ids  \\\n",
       "0                              Frontiers research topics     1664-8714   \n",
       "1                                     Annalen der Physik     0003-3804   \n",
       "2          Tellus A Dynamic Meteorology and Oceanography     0280-6495   \n",
       "3                                    Geografiska Annaler     1651-3215   \n",
       "4                                  Reviews of Geophysics     1944-9208   \n",
       "...                                                  ...           ...   \n",
       "96197                           Chinese Chemical Letters     1001-8417   \n",
       "96198  International Journal of Human Resources Devel...     1465-6612   \n",
       "96199                              Glasnik zaštite bilja     0350-9664   \n",
       "96200                            Physical Review Letters     0031-9007   \n",
       "96201                Materials Science and Engineering A     0921-5093   \n",
       "\n",
       "          label  \n",
       "0          ipcc  \n",
       "1          ipcc  \n",
       "2          ipcc  \n",
       "3          ipcc  \n",
       "4          ipcc  \n",
       "...         ...  \n",
       "96197  not_ipcc  \n",
       "96198  not_ipcc  \n",
       "96199  not_ipcc  \n",
       "96200  not_ipcc  \n",
       "96201  not_ipcc  \n",
       "\n",
       "[96202 rows x 7 columns]"
      ]
     },
     "execution_count": 16,
     "metadata": {},
     "output_type": "execute_result"
    }
   ],
   "source": [
    "df_all"
   ]
  },
  {
   "cell_type": "code",
   "execution_count": 17,
   "metadata": {},
   "outputs": [
    {
     "data": {
      "text/plain": [
       "Index(['year', 'doi', 'title', 'topics', 'locations_names', 'locations_ids',\n",
       "       'label'],\n",
       "      dtype='object')"
      ]
     },
     "execution_count": 17,
     "metadata": {},
     "output_type": "execute_result"
    }
   ],
   "source": [
    "df_all.columns"
   ]
  },
  {
   "cell_type": "markdown",
   "metadata": {},
   "source": [
    "using fasttext"
   ]
  },
  {
   "cell_type": "code",
   "execution_count": 18,
   "metadata": {},
   "outputs": [],
   "source": [
    "df_all['label'] = '__label__' + df_all['label'].astype(str)\n",
    "df_all['category_description']=df_all['label']+' '+df_all['title']+' '+df_all['topics']+' '+df_all['locations_names']+' '+df_all['locations_ids']"
   ]
  },
  {
   "cell_type": "code",
   "execution_count": 19,
   "metadata": {},
   "outputs": [],
   "source": [
    "train, test = train_test_split(df_all, test_size=0.2, random_state=42)"
   ]
  },
  {
   "cell_type": "code",
   "execution_count": 20,
   "metadata": {},
   "outputs": [
    {
     "data": {
      "text/plain": [
       "((76961, 8), (19241, 8))"
      ]
     },
     "execution_count": 20,
     "metadata": {},
     "output_type": "execute_result"
    }
   ],
   "source": [
    "train.shape, test.shape"
   ]
  },
  {
   "cell_type": "code",
   "execution_count": 21,
   "metadata": {},
   "outputs": [],
   "source": [
    "train.to_csv(\"teds.train\", columns=[\"category_description\"], index=False, header=False)\n",
    "test.to_csv(\"teds.test\", columns=[\"category_description\"], index=False, header=False)"
   ]
  },
  {
   "cell_type": "code",
   "execution_count": 22,
   "metadata": {},
   "outputs": [
    {
     "data": {
      "text/plain": [
       "(14265, 0.9656501927795303, 0.9656501927795303)"
      ]
     },
     "execution_count": 22,
     "metadata": {},
     "output_type": "execute_result"
    }
   ],
   "source": [
    "model = fasttext.train_supervised(input=\"teds.train\")\n",
    "model.test(\"teds.test\")"
   ]
  },
  {
   "cell_type": "code",
   "execution_count": 23,
   "metadata": {},
   "outputs": [],
   "source": [
    "model.save_model(\"fasttext_model_teds_0204.bin\")"
   ]
  },
  {
   "cell_type": "code",
   "execution_count": 24,
   "metadata": {},
   "outputs": [
    {
     "name": "stderr",
     "output_type": "stream",
     "text": [
      "Warning : `load_model` does not return WordVectorModel or SupervisedModel any more, but a `FastText` object which is very similar.\n"
     ]
    }
   ],
   "source": [
    "model = fasttext.load_model(\"fasttext_model_teds_0204.bin\")"
   ]
  },
  {
   "cell_type": "code",
   "execution_count": 25,
   "metadata": {},
   "outputs": [],
   "source": [
    "test_data = pd.read_csv(\"teds.test\", header=None, names=[\"text\"])"
   ]
  },
  {
   "cell_type": "code",
   "execution_count": 26,
   "metadata": {},
   "outputs": [],
   "source": [
    "true_labels = []\n",
    "predicted_labels = []\n",
    "\n",
    "for line in test_data[\"text\"]:\n",
    "    label, text = line.split(' ', 1)\n",
    "    true_labels.append(label)\n",
    "    text = text.replace('\\n', '').strip()\n",
    "    predicted_label = model.predict(text)[0][0]  \n",
    "    predicted_labels.append(predicted_label)"
   ]
  },
  {
   "cell_type": "code",
   "execution_count": 27,
   "metadata": {},
   "outputs": [],
   "source": [
    "conf_matrix = confusion_matrix(true_labels, predicted_labels)"
   ]
  },
  {
   "cell_type": "code",
   "execution_count": 28,
   "metadata": {},
   "outputs": [
    {
     "data": {
      "text/plain": [
       "array([[9270,  427],\n",
       "       [ 313, 9231]], dtype=int64)"
      ]
     },
     "execution_count": 28,
     "metadata": {},
     "output_type": "execute_result"
    }
   ],
   "source": [
    "conf_matrix"
   ]
  },
  {
   "cell_type": "code",
   "execution_count": 29,
   "metadata": {},
   "outputs": [
    {
     "data": {
      "text/plain": [
       "0.9615404604750273"
      ]
     },
     "execution_count": 29,
     "metadata": {},
     "output_type": "execute_result"
    }
   ],
   "source": [
    "accuracy_score(true_labels, predicted_labels)"
   ]
  },
  {
   "cell_type": "code",
   "execution_count": 30,
   "metadata": {},
   "outputs": [
    {
     "data": {
      "text/plain": [
       "0.9615404604750273"
      ]
     },
     "execution_count": 30,
     "metadata": {},
     "output_type": "execute_result"
    }
   ],
   "source": [
    "recall_score(true_labels, predicted_labels, average=\"weighted\")"
   ]
  },
  {
   "cell_type": "code",
   "execution_count": 31,
   "metadata": {},
   "outputs": [
    {
     "data": {
      "text/plain": [
       "0.961540922345335"
      ]
     },
     "execution_count": 31,
     "metadata": {},
     "output_type": "execute_result"
    }
   ],
   "source": [
    "f1_score(true_labels, predicted_labels, average=\"weighted\")"
   ]
  },
  {
   "cell_type": "code",
   "execution_count": 32,
   "metadata": {},
   "outputs": [],
   "source": [
    "t=test.iloc[3,:]"
   ]
  },
  {
   "cell_type": "code",
   "execution_count": 33,
   "metadata": {},
   "outputs": [
    {
     "data": {
      "text/plain": [
       "year                                                                 2012\n",
       "doi                                              10.1175/jamc-d-11-0137.1\n",
       "title                   comparison impact global climate changes urban...\n",
       "topics                  urban heat island mitigation climate variabili...\n",
       "locations_names            Journal of Applied Meteorology and Climatology\n",
       "locations_ids                                                   1558-8424\n",
       "label                                                       __label__ipcc\n",
       "category_description    __label__ipcc comparison impact global climate...\n",
       "Name: 8938, dtype: object"
      ]
     },
     "execution_count": 33,
     "metadata": {},
     "output_type": "execute_result"
    }
   ],
   "source": [
    "t"
   ]
  },
  {
   "cell_type": "code",
   "execution_count": 34,
   "metadata": {},
   "outputs": [
    {
     "name": "stdout",
     "output_type": "stream",
     "text": [
      "comparison impact global climate changes urbanization summertime future climate tokyo metropolitan area urban heat island mitigation climate variability models land use ecosystem services Journal of Applied Meteorology and Climatology 1558-8424 (('__label__ipcc', '__label__not_ipcc'), array([9.99977112e-01, 4.29159190e-05]))\n"
     ]
    }
   ],
   "source": [
    "print(f\"{t.title} {t.topics} {t.locations_names} {t.locations_ids}\",model.predict(nfx.remove_stopwords(f\"{t.title} {t.topics} {t.locations_names} {t.locations_ids}\"), k=-1))"
   ]
  }
 ],
 "metadata": {
  "kernelspec": {
   "display_name": "my_env",
   "language": "python",
   "name": "python3"
  },
  "language_info": {
   "codemirror_mode": {
    "name": "ipython",
    "version": 3
   },
   "file_extension": ".py",
   "mimetype": "text/x-python",
   "name": "python",
   "nbconvert_exporter": "python",
   "pygments_lexer": "ipython3",
   "version": "3.9.12"
  }
 },
 "nbformat": 4,
 "nbformat_minor": 2
}
