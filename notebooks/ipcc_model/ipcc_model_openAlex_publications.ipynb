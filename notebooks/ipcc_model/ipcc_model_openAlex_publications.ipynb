{
 "cells": [
  {
   "cell_type": "code",
   "execution_count": 1,
   "id": "7f4a48e7",
   "metadata": {},
   "outputs": [
    {
     "ename": "ModuleNotFoundError",
     "evalue": "No module named 'code_utils'",
     "output_type": "error",
     "traceback": [
      "\u001b[1;31m---------------------------------------------------------------------------\u001b[0m",
      "\u001b[1;31mModuleNotFoundError\u001b[0m                       Traceback (most recent call last)",
      "Cell \u001b[1;32mIn[1], line 13\u001b[0m\n\u001b[0;32m     10\u001b[0m \u001b[38;5;28;01mif\u001b[39;00m module_path \u001b[38;5;129;01mnot\u001b[39;00m \u001b[38;5;129;01min\u001b[39;00m sys\u001b[38;5;241m.\u001b[39mpath:\n\u001b[0;32m     11\u001b[0m     sys\u001b[38;5;241m.\u001b[39mpath\u001b[38;5;241m.\u001b[39mappend(module_path)\n\u001b[1;32m---> 13\u001b[0m \u001b[38;5;28;01mfrom\u001b[39;00m \u001b[38;5;21;01mcode_utils\u001b[39;00m\u001b[38;5;21;01m.\u001b[39;00m\u001b[38;5;21;01menriching_data_OpenAlex\u001b[39;00m \u001b[38;5;28;01mimport\u001b[39;00m bool_topics\n",
      "\u001b[1;31mModuleNotFoundError\u001b[0m: No module named 'code_utils'"
     ]
    }
   ],
   "source": [
    "import os\n",
    "import sys\n",
    "import fasttext\n",
    "import pandas as pd\n",
    "import matplotlib.pyplot as plt\n",
    "import neattext.functions as nfx\n",
    "import requests\n",
    "\n",
    "module_path = os.path.abspath(os.path.join('..'))\n",
    "if module_path not in sys.path:\n",
    "    sys.path.append(module_path)\n",
    "    \n",
    "from code_utils.enriching_data_OpenAlex import bool_topics\n"
   ]
  },
  {
   "cell_type": "code",
   "execution_count": null,
   "id": "a28efbcb",
   "metadata": {},
   "outputs": [],
   "source": [
    "climat_topics=['climate change','marine ecosystems','ecology','ecological','ecosystem','environmental','global methane emissions and impacts','impact of ocean acidification on marine ecosystems','arctic sea ice variability and decline','environmental impact','climate ethics','climate and hydrological cycle','global energy transition','environmental behavior','influence of climate','urban heat islands and mitigation strategies','impact on climate','environmental policies','carbon dioxide capture and storage technologies','soil carbon dynamics and nutrient cycling in ecosystems','sustainable development','environmental governance','atmospheric aerosols and their impacts','marine biogeochemistry and ecosystem dynamics','biodiversity','global flood risk assessment and management','arctic sea ice variability and decline','dynamics of ocean surface waves and wind interaction','aeolian geomorphology and wind erosion dynamics','importance of mangrove ecosystems in coastal protection','water resource management','air pollution','deforestation','rebound effect on energy efficiency and consumption','global drought','landslide hazards and risk assessment','paleoclima']\n"
   ]
  },
  {
   "cell_type": "code",
   "execution_count": null,
   "id": "2aec8038",
   "metadata": {},
   "outputs": [],
   "source": [
    "url=f\"https://api.openalex.org/works?filter=has_doi:true,topics_count:>0,publication_year:<2024,publication_year:>2018,institutions.country_code:{country}&sample=200&per-page=200\"\n",
    "response = requests.get(url)\n",
    "data0 = response.json().get('results')"
   ]
  }
 ],
 "metadata": {
  "kernelspec": {
   "display_name": "Python 3",
   "language": "python",
   "name": "python3"
  },
  "language_info": {
   "codemirror_mode": {
    "name": "ipython",
    "version": 3
   },
   "file_extension": ".py",
   "mimetype": "text/x-python",
   "name": "python",
   "nbconvert_exporter": "python",
   "pygments_lexer": "ipython3",
   "version": "3.9.10"
  }
 },
 "nbformat": 4,
 "nbformat_minor": 5
}
