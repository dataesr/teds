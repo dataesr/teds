{
 "cells": [
  {
   "cell_type": "code",
   "execution_count": 1,
   "id": "7f4a48e7",
   "metadata": {},
   "outputs": [],
   "source": [
    "import os\n",
    "import sys\n",
    "import fasttext\n",
    "import numpy as np\n",
    "import pandas as pd\n",
    "import matplotlib.pyplot as plt\n",
    "import neattext.functions as nfx\n",
    "import requests\n",
    "import time\n",
    "from tqdm import tqdm\n",
    "\n",
    "current_directory = os.getcwd()\n",
    "root_directory = os.path.abspath(os.path.join(current_directory, '..', '..')) \n",
    "if root_directory not in sys.path:\n",
    "    sys.path.append(root_directory)\n",
    "\n",
    "import logging\n",
    "logging.basicConfig(level=logging.CRITICAL)\n",
    "\n",
    "from code_utils.utils import aplatir "
   ]
  },
  {
   "cell_type": "code",
   "execution_count": 2,
   "id": "a28efbcb",
   "metadata": {},
   "outputs": [],
   "source": [
    "climat_topics=['T10753', 'T11988', 'T10122', 'T10139', 'T10577', 'T11862', 'T13377', 'T10898', 'T12981', 'T10174', 'T11405', 'T13396', 'T12213', 'T12639', 'T11056', 'T11880', 'T11753', 'T10439', 'T10766', 'T10438', 'T12806', 'T11244', 'T11186', 'T10029', 'T11588', 'T10075', 'T10017', 'T10644', 'T10895', 'T10266', 'T10230', 'T11320', 'T10341', 'T10005', 'T10347', 'T10765', 'T10032', 'T11333', 'T10226', 'T10466', 'T10647', 'T11483', 'T10330', 'T10471', 'T10199', 'T10555', 'T11259', 'T11594', 'T10643', 'T10319', 'T10487', 'T10435', 'T10659', 'T10089','T10255', 'T11088', 'T10930', 'T12073', 'T11459', 'T11061', 'T10302', 'T10190', 'T10779', 'T10535', 'T12617', 'T12414', 'T10166', 'T10004', 'T10889', 'T11913', 'T10398', 'T11760']\n"
   ]
  },
  {
   "cell_type": "code",
   "execution_count": 3,
   "id": "6607dd8e",
   "metadata": {},
   "outputs": [],
   "source": [
    "climat_topics_str=['climate change','marine ecosystems','ecology','ecological','environmental','methane emission','ocean acidification','arctic sea ice','environmental impact','climate ethics','hydrological cycle','energy transition','influence of climate','urban heat islands','mitigation strategies','impact on climate','environmental policies','carbon dioxide capture','carbon dioxide storage','soil carbon dynamics','sustainable development','environmental governance','atmospheric aerosols','marine biogeochemistry','biodiversity','global flood risk','arctic sea ice','ocean surface waves and wind interaction','aeolian geomorphology','wind erosion dynamics','coastal protection','water resource management','air pollution','deforestation','energy efficiency','global drought','landslide hazards','paleoclimat',\"climate resilience\", \"climate adaptation\", \"carbon footprint\", \"carbon neutrality\", \"climate mitigation\", \"climate models\", \"climate scenarios\", \"zero emissions\", \"renewable energy\", \"sustainable agriculture\", \"ecosystem services\", \"climate vulnerability\", \"climate impacts\", \"climate policy\", \"global warming\", \"low-carbon\", \"climate change adaptation strategies\", \"ecosystem-based adaptation\", \"climate finance\", \"fossil fuel phase-out\", \"carbon trading\", \"climate-induced displacement\", \"environmental resilience\", \"greenhouse gas emissions\", \"land-use change\", \"climate risk assessment\", \"climate-induced migration\", \"carbon sequestration\", \"bioenergy\", \"energy transition pathways\", \"climate justice\", \"climate-sensitive diseases\", \"adaptation planning\", \"geoengineering\", \"flood management\", \"ecosystem restoration\", \"heat stress\", \"mitigation\", \"carbon pricing\", \"sustainable forestry\", \"blue carbon\", \"adaptation and resilience building\",\"green infrastructure\", \"climate\", \"urban adaptation strategies\", \"climate-smart agriculture\", \"drought mitigation\", \"weather extremes\", \"ocean conservation\", \"green energy\" \"floodplain management\", \"temperature rise mitigation\"]\n",
    "climat_topics_str=['\"'+str(x)+'\"' for x in climat_topics_str if str(x).find(' ')>=0]+[str(x) for x in climat_topics_str if str(x).find(' ')==-1]"
   ]
  },
  {
   "cell_type": "code",
   "execution_count": 4,
   "id": "f3294db0",
   "metadata": {},
   "outputs": [],
   "source": [
    "climat_topics_OR=('|').join(climat_topics)\n",
    "climat_topics_OR_str=(' OR ').join(climat_topics_str)"
   ]
  },
  {
   "cell_type": "code",
   "execution_count": 5,
   "id": "5f8dd703",
   "metadata": {},
   "outputs": [
    {
     "data": {
      "text/plain": [
       "'\"climate change\" OR \"marine ecosystems\" OR \"methane emission\" OR \"ocean acidification\" OR \"arctic sea ice\" OR \"environmental impact\" OR \"climate ethics\" OR \"hydrological cycle\" OR \"energy transition\" OR \"influence of climate\" OR \"urban heat islands\" OR \"mitigation strategies\" OR \"impact on climate\" OR \"environmental policies\" OR \"carbon dioxide capture\" OR \"carbon dioxide storage\" OR \"soil carbon dynamics\" OR \"sustainable development\" OR \"environmental governance\" OR \"atmospheric aerosols\" OR \"marine biogeochemistry\" OR \"global flood risk\" OR \"arctic sea ice\" OR \"ocean surface waves and wind interaction\" OR \"aeolian geomorphology\" OR \"wind erosion dynamics\" OR \"coastal protection\" OR \"water resource management\" OR \"air pollution\" OR \"energy efficiency\" OR \"global drought\" OR \"landslide hazards\" OR \"climate resilience\" OR \"climate adaptation\" OR \"carbon footprint\" OR \"carbon neutrality\" OR \"climate mitigation\" OR \"climate models\" OR \"climate scenarios\" OR \"zero emissions\" OR \"renewable energy\" OR \"sustainable agriculture\" OR \"ecosystem services\" OR \"climate vulnerability\" OR \"climate impacts\" OR \"climate policy\" OR \"global warming\" OR \"climate change adaptation strategies\" OR \"ecosystem-based adaptation\" OR \"climate finance\" OR \"fossil fuel phase-out\" OR \"carbon trading\" OR \"climate-induced displacement\" OR \"environmental resilience\" OR \"greenhouse gas emissions\" OR \"land-use change\" OR \"climate risk assessment\" OR \"climate-induced migration\" OR \"carbon sequestration\" OR \"energy transition pathways\" OR \"climate justice\" OR \"climate-sensitive diseases\" OR \"adaptation planning\" OR \"flood management\" OR \"ecosystem restoration\" OR \"heat stress\" OR \"carbon pricing\" OR \"sustainable forestry\" OR \"blue carbon\" OR \"adaptation and resilience building\" OR \"green infrastructure\" OR \"urban adaptation strategies\" OR \"climate-smart agriculture\" OR \"drought mitigation\" OR \"weather extremes\" OR \"ocean conservation\" OR \"green energyfloodplain management\" OR \"temperature rise mitigation\" OR ecology OR ecological OR environmental OR biodiversity OR deforestation OR paleoclimat OR low-carbon OR bioenergy OR geoengineering OR mitigation OR climate'"
      ]
     },
     "execution_count": 5,
     "metadata": {},
     "output_type": "execute_result"
    }
   ],
   "source": [
    "climat_topics_OR_str"
   ]
  },
  {
   "cell_type": "code",
   "execution_count": 6,
   "id": "d10fc77d",
   "metadata": {},
   "outputs": [
    {
     "data": {
      "text/plain": [
       "'T10753|T11988|T10122|T10139|T10577|T11862|T13377|T10898|T12981|T10174|T11405|T13396|T12213|T12639|T11056|T11880|T11753|T10439|T10766|T10438|T12806|T11244|T11186|T10029|T11588|T10075|T10017|T10644|T10895|T10266|T10230|T11320|T10341|T10005|T10347|T10765|T10032|T11333|T10226|T10466|T10647|T11483|T10330|T10471|T10199|T10555|T11259|T11594|T10643|T10319|T10487|T10435|T10659|T10089|T10255|T11088|T10930|T12073|T11459|T11061|T10302|T10190|T10779|T10535|T12617|T12414|T10166|T10004|T10889|T11913|T10398|T11760'"
      ]
     },
     "execution_count": 6,
     "metadata": {},
     "output_type": "execute_result"
    }
   ],
   "source": [
    "climat_topics_OR"
   ]
  },
  {
   "cell_type": "code",
   "execution_count": 7,
   "id": "0c981df5",
   "metadata": {},
   "outputs": [],
   "source": [
    "dict_countries=[]\n",
    "\n",
    "for year in range(2013,2024,1):\n",
    "    url=f\"https://api.openalex.org/works?filter=has_doi:true,publication_year:{year},topics.id:{climat_topics_OR},title_and_abstract.search:({climat_topics_OR_str})&group-by=institutions.country_code\"\n",
    "    response = requests.get(url)\n",
    "    data = response.json()\n",
    "    for i in range(0,15,1):\n",
    "        dict_countries.append({\"year\":str(year),'country':data['group_by'][i]['key'].replace('https://openalex.org/countries/',''),'count':data['group_by'][i]['count'],'total':data['meta']['count'], 'rank': i+1})"
   ]
  },
  {
   "cell_type": "code",
   "execution_count": 8,
   "id": "8e7b3994",
   "metadata": {},
   "outputs": [],
   "source": [
    "df=pd.DataFrame(dict_countries)\n",
    "df['percentage']=df.apply(lambda row: round(row['count']*100/row['total'],1),axis=1)"
   ]
  },
  {
   "cell_type": "code",
   "execution_count": 9,
   "id": "cc346549",
   "metadata": {},
   "outputs": [
    {
     "data": {
      "text/html": [
       "<div>\n",
       "<style scoped>\n",
       "    .dataframe tbody tr th:only-of-type {\n",
       "        vertical-align: middle;\n",
       "    }\n",
       "\n",
       "    .dataframe tbody tr th {\n",
       "        vertical-align: top;\n",
       "    }\n",
       "\n",
       "    .dataframe thead th {\n",
       "        text-align: right;\n",
       "    }\n",
       "</style>\n",
       "<table border=\"1\" class=\"dataframe\">\n",
       "  <thead>\n",
       "    <tr style=\"text-align: right;\">\n",
       "      <th></th>\n",
       "      <th>year</th>\n",
       "      <th>country</th>\n",
       "      <th>count</th>\n",
       "      <th>total</th>\n",
       "      <th>rank</th>\n",
       "      <th>percentage</th>\n",
       "    </tr>\n",
       "  </thead>\n",
       "  <tbody>\n",
       "    <tr>\n",
       "      <th>105</th>\n",
       "      <td>2020</td>\n",
       "      <td>US</td>\n",
       "      <td>27013</td>\n",
       "      <td>119699</td>\n",
       "      <td>1</td>\n",
       "      <td>22.6</td>\n",
       "    </tr>\n",
       "    <tr>\n",
       "      <th>106</th>\n",
       "      <td>2020</td>\n",
       "      <td>CN</td>\n",
       "      <td>17529</td>\n",
       "      <td>119699</td>\n",
       "      <td>2</td>\n",
       "      <td>14.6</td>\n",
       "    </tr>\n",
       "    <tr>\n",
       "      <th>107</th>\n",
       "      <td>2020</td>\n",
       "      <td>GB</td>\n",
       "      <td>10585</td>\n",
       "      <td>119699</td>\n",
       "      <td>3</td>\n",
       "      <td>8.8</td>\n",
       "    </tr>\n",
       "    <tr>\n",
       "      <th>108</th>\n",
       "      <td>2020</td>\n",
       "      <td>DE</td>\n",
       "      <td>8717</td>\n",
       "      <td>119699</td>\n",
       "      <td>4</td>\n",
       "      <td>7.3</td>\n",
       "    </tr>\n",
       "    <tr>\n",
       "      <th>109</th>\n",
       "      <td>2020</td>\n",
       "      <td>AU</td>\n",
       "      <td>6143</td>\n",
       "      <td>119699</td>\n",
       "      <td>5</td>\n",
       "      <td>5.1</td>\n",
       "    </tr>\n",
       "    <tr>\n",
       "      <th>110</th>\n",
       "      <td>2020</td>\n",
       "      <td>CA</td>\n",
       "      <td>5798</td>\n",
       "      <td>119699</td>\n",
       "      <td>6</td>\n",
       "      <td>4.8</td>\n",
       "    </tr>\n",
       "    <tr>\n",
       "      <th>111</th>\n",
       "      <td>2020</td>\n",
       "      <td>FR</td>\n",
       "      <td>5448</td>\n",
       "      <td>119699</td>\n",
       "      <td>7</td>\n",
       "      <td>4.6</td>\n",
       "    </tr>\n",
       "    <tr>\n",
       "      <th>112</th>\n",
       "      <td>2020</td>\n",
       "      <td>IT</td>\n",
       "      <td>5004</td>\n",
       "      <td>119699</td>\n",
       "      <td>8</td>\n",
       "      <td>4.2</td>\n",
       "    </tr>\n",
       "    <tr>\n",
       "      <th>113</th>\n",
       "      <td>2020</td>\n",
       "      <td>ES</td>\n",
       "      <td>4639</td>\n",
       "      <td>119699</td>\n",
       "      <td>9</td>\n",
       "      <td>3.9</td>\n",
       "    </tr>\n",
       "    <tr>\n",
       "      <th>114</th>\n",
       "      <td>2020</td>\n",
       "      <td>BR</td>\n",
       "      <td>4024</td>\n",
       "      <td>119699</td>\n",
       "      <td>10</td>\n",
       "      <td>3.4</td>\n",
       "    </tr>\n",
       "    <tr>\n",
       "      <th>115</th>\n",
       "      <td>2020</td>\n",
       "      <td>IN</td>\n",
       "      <td>3869</td>\n",
       "      <td>119699</td>\n",
       "      <td>11</td>\n",
       "      <td>3.2</td>\n",
       "    </tr>\n",
       "    <tr>\n",
       "      <th>116</th>\n",
       "      <td>2020</td>\n",
       "      <td>NL</td>\n",
       "      <td>3450</td>\n",
       "      <td>119699</td>\n",
       "      <td>12</td>\n",
       "      <td>2.9</td>\n",
       "    </tr>\n",
       "    <tr>\n",
       "      <th>117</th>\n",
       "      <td>2020</td>\n",
       "      <td>JP</td>\n",
       "      <td>3123</td>\n",
       "      <td>119699</td>\n",
       "      <td>13</td>\n",
       "      <td>2.6</td>\n",
       "    </tr>\n",
       "    <tr>\n",
       "      <th>118</th>\n",
       "      <td>2020</td>\n",
       "      <td>CH</td>\n",
       "      <td>3060</td>\n",
       "      <td>119699</td>\n",
       "      <td>14</td>\n",
       "      <td>2.6</td>\n",
       "    </tr>\n",
       "    <tr>\n",
       "      <th>119</th>\n",
       "      <td>2020</td>\n",
       "      <td>SE</td>\n",
       "      <td>2896</td>\n",
       "      <td>119699</td>\n",
       "      <td>15</td>\n",
       "      <td>2.4</td>\n",
       "    </tr>\n",
       "  </tbody>\n",
       "</table>\n",
       "</div>"
      ],
      "text/plain": [
       "     year country  count   total  rank  percentage\n",
       "105  2020      US  27013  119699     1        22.6\n",
       "106  2020      CN  17529  119699     2        14.6\n",
       "107  2020      GB  10585  119699     3         8.8\n",
       "108  2020      DE   8717  119699     4         7.3\n",
       "109  2020      AU   6143  119699     5         5.1\n",
       "110  2020      CA   5798  119699     6         4.8\n",
       "111  2020      FR   5448  119699     7         4.6\n",
       "112  2020      IT   5004  119699     8         4.2\n",
       "113  2020      ES   4639  119699     9         3.9\n",
       "114  2020      BR   4024  119699    10         3.4\n",
       "115  2020      IN   3869  119699    11         3.2\n",
       "116  2020      NL   3450  119699    12         2.9\n",
       "117  2020      JP   3123  119699    13         2.6\n",
       "118  2020      CH   3060  119699    14         2.6\n",
       "119  2020      SE   2896  119699    15         2.4"
      ]
     },
     "execution_count": 9,
     "metadata": {},
     "output_type": "execute_result"
    }
   ],
   "source": [
    "df[df.year=='2020']"
   ]
  },
  {
   "cell_type": "code",
   "execution_count": 10,
   "id": "b7702777",
   "metadata": {},
   "outputs": [
    {
     "data": {
      "text/plain": [
       "[9, 8, 9, 9, 9, 8, 8, 9, 10, 10, 10]"
      ]
     },
     "execution_count": 10,
     "metadata": {},
     "output_type": "execute_result"
    }
   ],
   "source": [
    "list(df[df.country=='ES']['rank'])"
   ]
  },
  {
   "cell_type": "code",
   "execution_count": null,
   "id": "b381c287",
   "metadata": {},
   "outputs": [],
   "source": [
    "years = df['year'].unique()\n",
    "\n",
    "color_dict = {\n",
    "    'US': 'pink',\n",
    "    'GB': 'green',\n",
    "    'CN': 'red',\n",
    "    'DE': 'yellow',\n",
    "    'AU': 'purple',\n",
    "    'CA': 'cyan',\n",
    "    'FR': 'blue',\n",
    "    'IN': 'orange',\n",
    "    'IT': 'brown'\n",
    "}\n",
    "\n",
    "bar_width = 0.1\n",
    "index = np.arange(len(years)) \n",
    "fig, ax = plt.subplots(figsize=(14, 8))\n",
    "\n",
    "used_countries = set() \n",
    "for i, year in enumerate(years):\n",
    "    year_data = df[df['year'] == year]\n",
    "    \n",
    "    top_8_countries = year_data.nlargest(8, 'count')['country']\n",
    "    year_data_top_8 = year_data[year_data['country'].isin(top_8_countries)]\n",
    "    \n",
    "    for j, country in enumerate(top_8_countries):\n",
    "        country_data = year_data_top_8[year_data_top_8['country'] == country]\n",
    "        \n",
    "        color = color_dict.get(country, 'gray')\n",
    "        \n",
    "        bar = ax.bar(index[i] + j * bar_width, country_data['percentage'], bar_width, label=country if country not in used_countries else \"\", color=color)\n",
    "        \n",
    "        if country not in used_countries:\n",
    "            used_countries.add(country)\n",
    "\n",
    "ax.set_xlabel('Years')\n",
    "ax.set_ylabel('Part (%)')\n",
    "ax.set_title('Part of publications in OpenAlex by country and by year')\n",
    "ax.set_xticks(index + bar_width * 3.5)\n",
    "ax.set_xticklabels(years)\n",
    "ax.legend(title=\"Countries\", bbox_to_anchor=(1.05, 1), loc='upper left')\n",
    "\n",
    "plt.tight_layout()\n",
    "plt.show()"
   ]
  },
  {
   "cell_type": "markdown",
   "id": "4c635d44",
   "metadata": {},
   "source": [
    "with Highcharts"
   ]
  },
  {
   "cell_type": "code",
   "execution_count": null,
   "id": "d8b39ead",
   "metadata": {},
   "outputs": [],
   "source": [
    "# pip install virtualenv\n",
    "# virtualenv -p python3.10 myenv\n",
    "# myenv\\Scripts\\activate\n",
    "# pip install highcharts_core"
   ]
  },
  {
   "cell_type": "code",
   "execution_count": 19,
   "id": "13dd7cf7",
   "metadata": {},
   "outputs": [],
   "source": [
    "from highcharts_core.chart import Chart\n",
    "from highcharts_core.options import HighchartsOptions\n",
    "from highcharts_core.options.plot_options import PlotOptions\n",
    "from highcharts_core.options.axes.x_axis import XAxis\n",
    "from highcharts_core.options.axes.y_axis import YAxis,YAxisTitle\n",
    "from highcharts_core.options.axes.accessibility import AxisAccessibility\n",
    "from highcharts_core.options.axes.title import AxisTitle\n",
    "from highcharts_core.options.title import Title\n",
    "from highcharts_core.options.subtitle import Subtitle\n",
    "from highcharts_core.options.legend import Legend\n",
    "from highcharts_core.options.plot_options.series import SeriesOptions\n",
    "from highcharts_core.options.series.area import LineSeries\n",
    "from highcharts_core.options.series.labels import SeriesLabel\n",
    "from highcharts_core.options.responsive import Responsive, ResponsiveRules, Condition\n",
    "from highcharts_core.constants import EnforcedNull\n",
    "from highcharts_core.options.credits import Credits"
   ]
  },
  {
   "cell_type": "code",
   "execution_count": 20,
   "id": "c175d15d",
   "metadata": {},
   "outputs": [],
   "source": [
    "chart_options = HighchartsOptions(\n",
    "    title = Title(text = 'Rank for 10 countries by year in OpenAlex publications',\n",
    "                  align = 'left'),\n",
    "    subtitle = Subtitle(text = 'Source: <a href=\"https://irecusa.org/programs/solar-jobs-census/\" target=\"_blank\">OpenAlex</a>',\n",
    "                        align = 'left'),\n",
    "    y_axis = YAxis(title = YAxisTitle(text = 'Rank'), reversed=True, min=1),\n",
    "    x_axis = XAxis(\n",
    "        accessibility = AxisAccessibility(range_description = 'Range: 2013 to 2023')\n",
    "    ),\n",
    "    legend = Legend(layout = 'vertical',\n",
    "                    align = 'right',\n",
    "                    vertical_align = 'middle'),\n",
    "    plot_options = PlotOptions(series = SeriesOptions(point_start = 2013,\n",
    "                                                      label = SeriesLabel(connector_allowed = False))),\n",
    "    credits = Credits(enabled=False)\n",
    ")"
   ]
  },
  {
   "cell_type": "code",
   "execution_count": 21,
   "id": "7500f256",
   "metadata": {},
   "outputs": [],
   "source": [
    "override_options = HighchartsOptions(legend = Legend(layout = 'horizontal',\n",
    "                                                     align = 'center',\n",
    "                                                     vertical_align = 'bottom'))\n",
    "responsive_config = Responsive(\n",
    "    rules = [\n",
    "        ResponsiveRules(chart_options = override_options,\n",
    "                        condition = Condition(max_width = 500))\n",
    "    ]\n",
    ")\n",
    "chart_options.responsive = responsive_config"
   ]
  },
  {
   "cell_type": "code",
   "execution_count": 22,
   "id": "46091dc8",
   "metadata": {},
   "outputs": [],
   "source": [
    "series1 = LineSeries(name = 'US',\n",
    "                     data = [1, 1, 1, 1, 1, 1, 1, 1, 1, 2, 2])\n",
    "series2 = LineSeries(name = 'GB',\n",
    "                     data = [2, 2, 2, 3, 3, 3, 3, 3, 3, 3, 3],\n",
    "                    color = 'green')\n",
    "series3 = LineSeries(name = 'CN',\n",
    "                     data = [3, 3, 3, 2, 2, 2, 2, 2, 2, 1, 1],\n",
    "                     color = 'red')\n",
    "series4 = LineSeries(name = 'DE',\n",
    "                     data = [4, 4, 4, 4, 4, 4, 4, 4, 4, 4, 4],\n",
    "                     color= 'purple')\n",
    "series5 = LineSeries(name = 'FR',\n",
    "                     data = [7, 7, 7, 7, 7, 7, 7, 6, 6, 5, 6],\n",
    "                     color = 'blue')\n",
    "series6 = LineSeries(name = 'IN',\n",
    "                     data = [15, 13, 13, 13, 11, 12, 11, 11, 10, 8, 5],\n",
    "                     color = 'orange')\n",
    "\"\"\" series7 = LineSeries(name = 'AU',\n",
    "                     data = [5, 5, 5, 5, 5, 5, 5, 5, 7, 6, 7],\n",
    "                     color = 'grey')\n",
    "series8 = LineSeries(name = 'CA',\n",
    "                     data = [6, 6, 6, 6, 6, 6, 6, 7, 5, 7, 9],\n",
    "                     color = 'brown')\n",
    "series9 = LineSeries(name = 'IT',\n",
    "                     data = [9, 9, 8, 8, 8, 9, 9, 8, 8, 9, 8],\n",
    "                     color = 'green')\n",
    "series10 = LineSeries(name = 'ES',\n",
    "                     data = [8, 8, 9, 9, 9, 8, 8, 9, 9, 10, 10],\n",
    "                     color = 'yellow') \"\"\"\n",
    "\n",
    "chart_options.add_series(series1, series2, series3, series4, series5, series6)#, series7,series8,series9,series10)"
   ]
  },
  {
   "cell_type": "code",
   "execution_count": 23,
   "id": "f18093f8",
   "metadata": {},
   "outputs": [
    {
     "data": {
      "text/html": [
       "<div id=\"highcharts_target_div_S72SY1\" style=\"width:100%; height:400;\"></div>\n"
      ],
      "text/plain": [
       "<IPython.core.display.HTML object>"
      ]
     },
     "metadata": {},
     "output_type": "display_data"
    },
    {
     "data": {
      "application/javascript": "var has_requirejs = typeof requirejs !== 'undefined';\nif (has_requirejs) {\nrequire.config({\n  packages: [{\n    name: 'highcharts', main: 'highcharts' }],\n  paths: {\n    'highcharts': 'https://code.highcharts.com/'\n  }\n\n}); require(['highcharts', 'highcharts/modules/series-label', 'highcharts/modules/accessibility'], function (Highcharts) {\nfunction retryHighcharts(fn, container = 'highcharts_target_div', retries = 5, retriesLeft = 5, \n        interval = 1000) {\n            return new Promise((resolve, reject) => {\n            try {\n                fn()\n                return resolve();\n            } catch (err) {\n                if ((err instanceof ReferenceError) || (err instanceof TypeError) || (err.message.includes('#17'))) {\n                    if (retriesLeft === 0) {\n                        var target_div = document.getElementById(container);\n                        if (target_div) {\n                            var timeElapsed = (retries * interval) / 1000;\n                            var errorMessage = \"Something went wrong with the Highcharts.js script. It should have been automatically loaded, but it did not load for over \" + timeElapsed + \" seconds. Check your internet connection, and then if the problem persists please reach out for support. (You can also check your browser's console log for more details.)<br/><br/>Detailed Error Message:<br/>\" + err.message;\n                            var errorHTML = errorMessage;\n                            \n                            target_div.innerHTML = errorHTML;\n                            console.log(errorMessage);\n                            console.error(err);\n                        }\n                        return reject();\n                    }\n\n                    setTimeout(() => {\n                        retryHighcharts(fn, container, retries, retriesLeft - 1, interval).then(resolve).catch(reject);\n                    }, interval);\n                } else if ((err instanceof Error) && (err.message.includes('#13'))) {\n                    var errorMessage = \"It looks like the container specified '\" + container + \"' was not created successfully. Please check your browser's console log for more details.\";\n                    console.error(errorMessage);\n                    console.error(err);\n                    \n                    return reject();\n                } else {\n                    throw err;\n                }\n            }\n        });\n    };function insertChart_S72SY1() {\n\nHighcharts.chart('highcharts_target_div_S72SY1',\n{\n  credits: {\n  enabled: false\n},\n  legend: {\n  align: 'right',\n  layout: 'vertical',\n  verticalAlign: 'middle'\n},\n  plotOptions: {\n  series: {\n  pointStart: 2013,\n  label: {\n  connectorAllowed: false\n},\n  type: 'series'\n}\n},\n  responsive: {\n  rules: [{\n  chartOptions: {\n  legend: {\n  align: 'center',\n  layout: 'horizontal',\n  verticalAlign: 'bottom'\n}\n},\n  condition: {\n  maxWidth: 500\n}\n}]\n},\n  series: [{\n  data: [[1],\n[1],\n[1],\n[1],\n[1],\n[1],\n[1],\n[1],\n[1],\n[2],\n[2]],\n  name: 'US',\n  type: 'line'\n},\n{\n  data: [[2],\n[2],\n[2],\n[3],\n[3],\n[3],\n[3],\n[3],\n[3],\n[3],\n[3]],\n  name: 'GB',\n  color: 'green',\n  type: 'line'\n},\n{\n  data: [[3],\n[3],\n[3],\n[2],\n[2],\n[2],\n[2],\n[2],\n[2],\n[1],\n[1]],\n  name: 'CN',\n  color: 'red',\n  type: 'line'\n},\n{\n  data: [[4],\n[4],\n[4],\n[4],\n[4],\n[4],\n[4],\n[4],\n[4],\n[4],\n[4]],\n  name: 'DE',\n  color: 'purple',\n  type: 'line'\n},\n{\n  data: [[7],\n[7],\n[7],\n[7],\n[7],\n[7],\n[7],\n[6],\n[6],\n[5],\n[6]],\n  name: 'FR',\n  color: 'blue',\n  type: 'line'\n},\n{\n  data: [[15],\n[13],\n[13],\n[13],\n[11],\n[12],\n[11],\n[11],\n[10],\n[8],\n[5]],\n  name: 'IN',\n  color: 'orange',\n  type: 'line'\n}],\n  subtitle: {\n  align: 'left',\n  text: 'Source: <a href=\"https://irecusa.org/programs/solar-jobs-census/\" target=\"_blank\">OpenAlex</a>'\n},\n  title: {\n  align: 'left',\n  text: 'Rank for 10 countries by year in OpenAlex publications'\n},\n  xAxis: {\n  accessibility: {\n  rangeDescription: 'Range: 2013 to 2023'\n}\n},\n  yAxis: {\n  min: 1,\n  reversed: true,\n  title: {\n  text: 'Rank'\n}\n}\n},\n);\n\n};\nretryHighcharts(insertChart_S72SY1, 'highcharts_target_div_S72SY1', 5, 5, 1000);\n});\n} else {\nnew Promise(function(resolve, reject) {\n  var existing_tags = document.querySelectorAll(\"script[src='https://code.highcharts.com/highcharts.js']\");  if (existing_tags.length == 0) {\n            var script = document.createElement(\"script\");\n            script.onload = resolve;\n            script.onerror = reject;        script.src = 'https://code.highcharts.com/highcharts.js';        document.head.appendChild(script);\n        } else { resolve() };\n    }).then(() => {new Promise(function(resolve, reject) {\n  var existing_tags = document.querySelectorAll(\"script[src='https://code.highcharts.com/modules/series-label.js']\");  if (existing_tags.length == 0) {\n            var script = document.createElement(\"script\");\n            script.onload = resolve;\n            script.onerror = reject;        script.src = 'https://code.highcharts.com/modules/series-label.js';        document.head.appendChild(script);\n        } else { resolve() };\n    }).then(() => {new Promise(function(resolve, reject) {\n  var existing_tags = document.querySelectorAll(\"script[src='https://code.highcharts.com/modules/accessibility.js']\");  if (existing_tags.length == 0) {\n            var script = document.createElement(\"script\");\n            script.onload = resolve;\n            script.onerror = reject;        script.src = 'https://code.highcharts.com/modules/accessibility.js';        document.head.appendChild(script);\n        } else { resolve() };\n    }).then(() => {});});});\n};",
      "text/plain": [
       "<IPython.core.display.Javascript object>"
      ]
     },
     "metadata": {},
     "output_type": "display_data"
    },
    {
     "data": {
      "application/javascript": "var has_requirejs = typeof requirejs !== 'undefined';\nif (has_requirejs) {\n\n} else {\nfunction retryHighcharts(fn, container = 'highcharts_target_div', retries = 5, retriesLeft = 5, \n        interval = 1000) {\n            return new Promise((resolve, reject) => {\n            try {\n                fn()\n                return resolve();\n            } catch (err) {\n                if ((err instanceof ReferenceError) || (err instanceof TypeError) || (err.message.includes('#17'))) {\n                    if (retriesLeft === 0) {\n                        var target_div = document.getElementById(container);\n                        if (target_div) {\n                            var timeElapsed = (retries * interval) / 1000;\n                            var errorMessage = \"Something went wrong with the Highcharts.js script. It should have been automatically loaded, but it did not load for over \" + timeElapsed + \" seconds. Check your internet connection, and then if the problem persists please reach out for support. (You can also check your browser's console log for more details.)<br/><br/>Detailed Error Message:<br/>\" + err.message;\n                            var errorHTML = errorMessage;\n                            \n                            target_div.innerHTML = errorHTML;\n                            console.log(errorMessage);\n                            console.error(err);\n                        }\n                        return reject();\n                    }\n\n                    setTimeout(() => {\n                        retryHighcharts(fn, container, retries, retriesLeft - 1, interval).then(resolve).catch(reject);\n                    }, interval);\n                } else if ((err instanceof Error) && (err.message.includes('#13'))) {\n                    var errorMessage = \"It looks like the container specified '\" + container + \"' was not created successfully. Please check your browser's console log for more details.\";\n                    console.error(errorMessage);\n                    console.error(err);\n                    \n                    return reject();\n                } else {\n                    throw err;\n                }\n            }\n        });\n    };function insertChart_S72SY1() {\n\nHighcharts.chart('highcharts_target_div_S72SY1',\n{\n  credits: {\n  enabled: false\n},\n  legend: {\n  align: 'right',\n  layout: 'vertical',\n  verticalAlign: 'middle'\n},\n  plotOptions: {\n  series: {\n  pointStart: 2013,\n  label: {\n  connectorAllowed: false\n},\n  type: 'series'\n}\n},\n  responsive: {\n  rules: [{\n  chartOptions: {\n  legend: {\n  align: 'center',\n  layout: 'horizontal',\n  verticalAlign: 'bottom'\n}\n},\n  condition: {\n  maxWidth: 500\n}\n}]\n},\n  series: [{\n  data: [[1],\n[1],\n[1],\n[1],\n[1],\n[1],\n[1],\n[1],\n[1],\n[2],\n[2]],\n  name: 'US',\n  type: 'line'\n},\n{\n  data: [[2],\n[2],\n[2],\n[3],\n[3],\n[3],\n[3],\n[3],\n[3],\n[3],\n[3]],\n  name: 'GB',\n  color: 'green',\n  type: 'line'\n},\n{\n  data: [[3],\n[3],\n[3],\n[2],\n[2],\n[2],\n[2],\n[2],\n[2],\n[1],\n[1]],\n  name: 'CN',\n  color: 'red',\n  type: 'line'\n},\n{\n  data: [[4],\n[4],\n[4],\n[4],\n[4],\n[4],\n[4],\n[4],\n[4],\n[4],\n[4]],\n  name: 'DE',\n  color: 'purple',\n  type: 'line'\n},\n{\n  data: [[7],\n[7],\n[7],\n[7],\n[7],\n[7],\n[7],\n[6],\n[6],\n[5],\n[6]],\n  name: 'FR',\n  color: 'blue',\n  type: 'line'\n},\n{\n  data: [[15],\n[13],\n[13],\n[13],\n[11],\n[12],\n[11],\n[11],\n[10],\n[8],\n[5]],\n  name: 'IN',\n  color: 'orange',\n  type: 'line'\n}],\n  subtitle: {\n  align: 'left',\n  text: 'Source: <a href=\"https://irecusa.org/programs/solar-jobs-census/\" target=\"_blank\">OpenAlex</a>'\n},\n  title: {\n  align: 'left',\n  text: 'Rank for 10 countries by year in OpenAlex publications'\n},\n  xAxis: {\n  accessibility: {\n  rangeDescription: 'Range: 2013 to 2023'\n}\n},\n  yAxis: {\n  min: 1,\n  reversed: true,\n  title: {\n  text: 'Rank'\n}\n}\n},\n);\n\n};\nretryHighcharts(insertChart_S72SY1, 'highcharts_target_div_S72SY1', 5, 5, 1000);\n};",
      "text/plain": [
       "<IPython.core.display.Javascript object>"
      ]
     },
     "metadata": {},
     "output_type": "display_data"
    }
   ],
   "source": [
    "chart = Chart.from_options(chart_options)\n",
    "chart.display()"
   ]
  },
  {
   "cell_type": "markdown",
   "id": "142e1109",
   "metadata": {},
   "source": [
    "2nd ipcc model on openAlex publications "
   ]
  },
  {
   "cell_type": "code",
   "execution_count": null,
   "id": "5ca6b872",
   "metadata": {},
   "outputs": [],
   "source": [
    "data_OA=[]\n",
    "countries=['US','GB','CN','DE','FR']\n",
    "for country in countries:\n",
    "    print(country)\n",
    "    url=f\"https://api.openalex.org/works?filter=has_doi:true,publication_year:2022,topics.id:{climat_topics_OR},title_and_abstract.search:({climat_topics_OR_str}),institutions.country_code:{country}&select=doi,title,topics,locations&per_page=200&page=1\"\n",
    "    response = requests.get(url)\n",
    "    data = response.json()\n",
    "    if data['meta']['count']//data['meta']['per_page']==0:\n",
    "        nb_page=data['meta']['count']//data['meta']['per_page']+1\n",
    "    else:\n",
    "        nb_page=data['meta']['count']//data['meta']['per_page']+2\n",
    "    print(nb_page)\n",
    "    cursor='*'\n",
    "    for j in tqdm(range(1, nb_page), desc=f\"Processing pages for {country}\", leave=False):\n",
    "        if j % 500 and j!=1:\n",
    "            time.sleep(60)\n",
    "        url=f\"https://api.openalex.org/works?filter=has_doi:true,publication_year:2022,topics.id:{climat_topics_OR},title_and_abstract.search:({climat_topics_OR_str}),institutions.country_code:{country}&select=doi,title,topics,locations&per_page=200&cursor={cursor}\"\n",
    "        response = requests.get(url)\n",
    "        data = response.json()\n",
    "        cursor=data['meta']['next_cursor']\n",
    "        for i in range(len(data['results'])):\n",
    "            if 'results' in list(data.keys()):\n",
    "                doi=data['results'][i]['doi']\n",
    "                title=data['results'][i]['title']\n",
    "                topics=[topic.get('display_name') for topic in data['results'][i]['topics'] if 'display_name' in list(topic.keys())]\n",
    "                locations_names=list(pd.Series([location['source'].get('display_name',None) for location in data['results'][i]['locations'] if pd.isna(location['source'])==False]).drop_duplicates().dropna())\n",
    "                locations_ids=list(pd.Series([location['source'].get('issn_l',None) for location in data['results'][i]['locations'] if pd.isna(location['source'])==False]).drop_duplicates().dropna())\n",
    "                data_OA.append({'doi':doi, 'title':title, 'topics':topics, 'locations_names':locations_names, 'locations_ids': locations_ids, 'countries':country})"
   ]
  },
  {
   "cell_type": "code",
   "execution_count": null,
   "id": "7053dccf",
   "metadata": {},
   "outputs": [],
   "source": [
    "data['meta']"
   ]
  },
  {
   "cell_type": "code",
   "execution_count": null,
   "id": "b34bfdc3",
   "metadata": {},
   "outputs": [],
   "source": [
    "pd.DataFrame(data_OA)"
   ]
  },
  {
   "cell_type": "code",
   "execution_count": null,
   "id": "faf0e4af",
   "metadata": {},
   "outputs": [],
   "source": [
    "pd.DataFrame(data_OA).to_json('data_OA_FR.json',orient='records',lines=True)\n"
   ]
  },
  {
   "cell_type": "markdown",
   "id": "9f7bb752",
   "metadata": {},
   "source": [
    "utilisation du model_wg"
   ]
  },
  {
   "cell_type": "code",
   "execution_count": null,
   "id": "3d1145f6",
   "metadata": {},
   "outputs": [],
   "source": [
    "path=os.path.join(root_directory, 'notebooks', 'models_fasttext_or_random_forest','fasttext_model_teds_wg.bin')"
   ]
  },
  {
   "cell_type": "code",
   "execution_count": null,
   "id": "df6623bb",
   "metadata": {},
   "outputs": [],
   "source": [
    "model = fasttext.load_model(path)"
   ]
  },
  {
   "cell_type": "code",
   "execution_count": null,
   "id": "abe6c797",
   "metadata": {},
   "outputs": [],
   "source": [
    "df.loc[:,'doi']=df.loc[:,'doi'].apply(lambda x: str(nfx.remove_stopwords(x)).replace('https://doi.org/','').lower())    "
   ]
  },
  {
   "cell_type": "code",
   "execution_count": null,
   "id": "b80b2693",
   "metadata": {},
   "outputs": [],
   "source": [
    "df.loc[:,'title']=df.loc[:,'title'].apply(lambda x: str(nfx.remove_stopwords(x)).replace('}','').replace('{','').lower())"
   ]
  },
  {
   "cell_type": "code",
   "execution_count": null,
   "id": "d6ad5771",
   "metadata": {},
   "outputs": [],
   "source": [
    "df.loc[:,'topics']=df.loc[:,'topics'].apply(lambda x: nfx.remove_stopwords(' '.join(x)).lower())"
   ]
  },
  {
   "cell_type": "code",
   "execution_count": null,
   "id": "7ef467f6",
   "metadata": {},
   "outputs": [],
   "source": []
  },
  {
   "cell_type": "code",
   "execution_count": null,
   "id": "94e865f6",
   "metadata": {},
   "outputs": [],
   "source": [
    "x=(('__label__adaptation', '__label__mitigation', '__label__science'), np.array([0.79819679, 0.12941273, 0.02596736]))"
   ]
  },
  {
   "cell_type": "code",
   "execution_count": null,
   "id": "b1ae46ce",
   "metadata": {},
   "outputs": [],
   "source": [
    "df.loc[:,'prediction']=df.apply(lambda row: model.predict(nfx.remove_stopwords(f\"{row['title']} {row['topics']} {row['locations_names']} {row['locations_ids']}\".lower()), k=-1),axis=1)\n"
   ]
  }
 ],
 "metadata": {
  "kernelspec": {
   "display_name": "tf",
   "language": "python",
   "name": "python3"
  },
  "language_info": {
   "codemirror_mode": {
    "name": "ipython",
    "version": 3
   },
   "file_extension": ".py",
   "mimetype": "text/x-python",
   "name": "python",
   "nbconvert_exporter": "python",
   "pygments_lexer": "ipython3",
   "version": "3.10.13"
  }
 },
 "nbformat": 4,
 "nbformat_minor": 5
}
