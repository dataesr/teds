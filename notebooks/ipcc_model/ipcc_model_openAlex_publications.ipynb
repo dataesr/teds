{
 "cells": [
  {
   "cell_type": "code",
   "execution_count": 7,
   "id": "7f4a48e7",
   "metadata": {},
   "outputs": [],
   "source": [
    "import os\n",
    "import sys\n",
    "import fasttext\n",
    "import pandas as pd\n",
    "import matplotlib.pyplot as plt\n",
    "import neattext.functions as nfx\n",
    "import requests\n",
    "\n",
    "module_path = os.path.abspath(os.path.join('..', '..'))\n",
    "if module_path not in sys.path:\n",
    "    sys.path.append(module_path)"
   ]
  },
  {
   "cell_type": "code",
   "execution_count": 295,
   "id": "a28efbcb",
   "metadata": {},
   "outputs": [],
   "source": [
    "climat_topics=['T10753', 'T11988', 'T10122', 'T10139', 'T10577', 'T11862', 'T13377', 'T10898', 'T12981', 'T10174', 'T11405', 'T13396', 'T12213', 'T12639', 'T11056', 'T11880', 'T11753', 'T10439', 'T10766', 'T10438', 'T12806', 'T11244', 'T11186', 'T10029', 'T11588', 'T10075', 'T10017', 'T10644', 'T10895', 'T10266', 'T10230', 'T11320', 'T10341', 'T10005', 'T10347', 'T10765', 'T10032', 'T11333', 'T10226', 'T10466', 'T10647', 'T11483', 'T10330', 'T10471', 'T10199', 'T10555', 'T11259', 'T11594', 'T10643', 'T10319', 'T10487', 'T10435', 'T10659', 'T10089']"
   ]
  },
  {
   "cell_type": "code",
   "execution_count": 296,
   "id": "6607dd8e",
   "metadata": {},
   "outputs": [],
   "source": [
    "#climat_topics=['climate change','marine ecosystems','ecology','ecological','environmental','methane emission','ocean acidification','arctic sea ice','environmental impact','climate ethics','hydrological cycle','energy transition','influence of climate','urban heat islands','mitigation strategies','impact on climate','environmental policies','carbon dioxide capture','carbon dioxide storage','soil carbon dynamics','sustainable development','environmental governance','atmospheric aerosols','marine biogeochemistry','biodiversity','global flood risk','arctic sea ice','ocean surface waves and wind interaction','aeolian geomorphology','wind erosion dynamics','coastal protection','water resource management','air pollution','deforestation','energy efficiency','global drought','landslide hazards','paleoclima']"
   ]
  },
  {
   "cell_type": "code",
   "execution_count": 297,
   "id": "f3294db0",
   "metadata": {},
   "outputs": [],
   "source": [
    "climat_topics_OR=('|').join(climat_topics)"
   ]
  },
  {
   "cell_type": "code",
   "execution_count": 298,
   "id": "d10fc77d",
   "metadata": {},
   "outputs": [
    {
     "data": {
      "text/plain": [
       "'T10753|T11988|T10122|T10139|T10577|T11862|T13377|T10898|T12981|T10174|T11405|T13396|T12213|T12639|T11056|T11880|T11753|T10439|T10766|T10438|T12806|T11244|T11186|T10029|T11588|T10075|T10017|T10644|T10895|T10266|T10230|T11320|T10341|T10005|T10347|T10765|T10032|T11333|T10226|T10466|T10647|T11483|T10330|T10471|T10199|T10555|T11259|T11594|T10643|T10319|T10487|T10435|T10659|T10089'"
      ]
     },
     "execution_count": 298,
     "metadata": {},
     "output_type": "execute_result"
    }
   ],
   "source": [
    "climat_topics_OR"
   ]
  },
  {
   "cell_type": "code",
   "execution_count": 299,
   "id": "0c981df5",
   "metadata": {},
   "outputs": [
    {
     "name": "stderr",
     "output_type": "stream",
     "text": [
      "DEBUG:urllib3.connectionpool:Starting new HTTPS connection (1): api.openalex.org:443\n",
      "DEBUG:urllib3.connectionpool:https://api.openalex.org:443 \"GET /works?filter=has_doi:true,publication_year:2022,topics.id:T10753%7CT11988%7CT10122%7CT10139%7CT10577%7CT11862%7CT13377%7CT10898%7CT12981%7CT10174%7CT11405%7CT13396%7CT12213%7CT12639%7CT11056%7CT11880%7CT11753%7CT10439%7CT10766%7CT10438%7CT12806%7CT11244%7CT11186%7CT10029%7CT11588%7CT10075%7CT10017%7CT10644%7CT10895%7CT10266%7CT10230%7CT11320%7CT10341%7CT10005%7CT10347%7CT10765%7CT10032%7CT11333%7CT10226%7CT10466%7CT10647%7CT11483%7CT10330%7CT10471%7CT10199%7CT10555%7CT11259%7CT11594%7CT10643%7CT10319%7CT10487%7CT10435%7CT10659%7CT10089&group-by=institutions.country_code HTTP/1.1\" 200 2960\n"
     ]
    }
   ],
   "source": [
    "for year in range(2022,2023,1):\n",
    "    url=f\"https://api.openalex.org/works?filter=has_doi:true,publication_year:{year},topics.id:{climat_topics_OR}&group-by=institutions.country_code\"\n",
    "    response = requests.get(url)\n",
    "    data = response.json()\n",
    "\n"
   ]
  },
  {
   "cell_type": "code",
   "execution_count": 300,
   "id": "7f423bd6",
   "metadata": {},
   "outputs": [
    {
     "data": {
      "text/plain": [
       "'https://api.openalex.org/works?filter=has_doi:true,publication_year:2022,topics.id:T10753|T11988|T10122|T10139|T10577|T11862|T13377|T10898|T12981|T10174|T11405|T13396|T12213|T12639|T11056|T11880|T11753|T10439|T10766|T10438|T12806|T11244|T11186|T10029|T11588|T10075|T10017|T10644|T10895|T10266|T10230|T11320|T10341|T10005|T10347|T10765|T10032|T11333|T10226|T10466|T10647|T11483|T10330|T10471|T10199|T10555|T11259|T11594|T10643|T10319|T10487|T10435|T10659|T10089&group-by=institutions.country_code'"
      ]
     },
     "execution_count": 300,
     "metadata": {},
     "output_type": "execute_result"
    }
   ],
   "source": [
    "url"
   ]
  },
  {
   "cell_type": "code",
   "execution_count": 301,
   "id": "aaafda8e",
   "metadata": {},
   "outputs": [
    {
     "data": {
      "text/plain": [
       "{'count': 375762,\n",
       " 'db_response_time_ms': 202,\n",
       " 'page': 1,\n",
       " 'per_page': 200,\n",
       " 'groups_count': 200}"
      ]
     },
     "execution_count": 301,
     "metadata": {},
     "output_type": "execute_result"
    }
   ],
   "source": [
    "data['meta']"
   ]
  },
  {
   "cell_type": "code",
   "execution_count": null,
   "id": "bcf292b6",
   "metadata": {},
   "outputs": [
    {
     "data": {
      "text/plain": [
       "[{'key': 'https://openalex.org/countries/CN',\n",
       "  'key_display_name': 'China',\n",
       "  'count': 72310},\n",
       " {'key': 'https://openalex.org/countries/US',\n",
       "  'key_display_name': 'United States of America',\n",
       "  'count': 65271},\n",
       " {'key': 'https://openalex.org/countries/GB',\n",
       "  'key_display_name': 'United Kingdom of Great Britain and Northern Ireland',\n",
       "  'count': 24320},\n",
       " {'key': 'https://openalex.org/countries/DE',\n",
       "  'key_display_name': 'Germany',\n",
       "  'count': 21928},\n",
       " {'key': 'https://openalex.org/countries/FR',\n",
       "  'key_display_name': 'France',\n",
       "  'count': 15920},\n",
       " {'key': 'https://openalex.org/countries/IN',\n",
       "  'key_display_name': 'India',\n",
       "  'count': 15277},\n",
       " {'key': 'https://openalex.org/countries/CA',\n",
       "  'key_display_name': 'Canada',\n",
       "  'count': 13361},\n",
       " {'key': 'https://openalex.org/countries/AU',\n",
       "  'key_display_name': 'Australia',\n",
       "  'count': 13066},\n",
       " {'key': 'https://openalex.org/countries/IT',\n",
       "  'key_display_name': 'Italy',\n",
       "  'count': 12993},\n",
       " {'key': 'https://openalex.org/countries/ES',\n",
       "  'key_display_name': 'Spain',\n",
       "  'count': 11864},\n",
       " {'key': 'https://openalex.org/countries/BR',\n",
       "  'key_display_name': 'Brazil',\n",
       "  'count': 10586},\n",
       " {'key': 'https://openalex.org/countries/JP',\n",
       "  'key_display_name': 'Japan',\n",
       "  'count': 9521},\n",
       " {'key': 'https://openalex.org/countries/NL',\n",
       "  'key_display_name': 'Netherlands',\n",
       "  'count': 7903},\n",
       " {'key': 'https://openalex.org/countries/RU',\n",
       "  'key_display_name': 'Russian Federation',\n",
       "  'count': 7885},\n",
       " {'key': 'https://openalex.org/countries/CH',\n",
       "  'key_display_name': 'Switzerland',\n",
       "  'count': 7318},\n",
       " {'key': 'https://openalex.org/countries/SE',\n",
       "  'key_display_name': 'Sweden',\n",
       "  'count': 5852},\n",
       " {'key': 'https://openalex.org/countries/NO',\n",
       "  'key_display_name': 'Norway',\n",
       "  'count': 5287},\n",
       " {'key': 'https://openalex.org/countries/KR',\n",
       "  'key_display_name': 'Korea, Republic of',\n",
       "  'count': 5204},\n",
       " {'key': 'https://openalex.org/countries/TR',\n",
       "  'key_display_name': 'Turkey',\n",
       "  'count': 5118},\n",
       " {'key': 'https://openalex.org/countries/PL',\n",
       "  'key_display_name': 'Poland',\n",
       "  'count': 4387}]"
      ]
     },
     "execution_count": 302,
     "metadata": {},
     "output_type": "execute_result"
    },
    {
     "ename": "",
     "evalue": "",
     "output_type": "error",
     "traceback": [
      "\u001b[1;31mThe Kernel crashed while executing code in the current cell or a previous cell. \n",
      "\u001b[1;31mPlease review the code in the cell(s) to identify a possible cause of the failure. \n",
      "\u001b[1;31mClick <a href='https://aka.ms/vscodeJupyterKernelCrash'>here</a> for more info. \n",
      "\u001b[1;31mView Jupyter <a href='command:jupyter.viewOutput'>log</a> for further details."
     ]
    }
   ],
   "source": [
    "data['group_by'][:20]"
   ]
  },
  {
   "cell_type": "code",
   "execution_count": null,
   "id": "53e3804f",
   "metadata": {},
   "outputs": [],
   "source": []
  }
 ],
 "metadata": {
  "kernelspec": {
   "display_name": "Python 3",
   "language": "python",
   "name": "python3"
  },
  "language_info": {
   "codemirror_mode": {
    "name": "ipython",
    "version": 3
   },
   "file_extension": ".py",
   "mimetype": "text/x-python",
   "name": "python",
   "nbconvert_exporter": "python",
   "pygments_lexer": "ipython3",
   "version": "3.9.10"
  }
 },
 "nbformat": 4,
 "nbformat_minor": 5
}
