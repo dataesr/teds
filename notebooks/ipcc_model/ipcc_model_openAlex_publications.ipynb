{
 "cells": [
  {
   "cell_type": "code",
   "execution_count": null,
   "id": "7f4a48e7",
   "metadata": {},
   "outputs": [],
   "source": [
    "import os\n",
    "import sys\n",
    "import fasttext\n",
    "import numpy as np\n",
    "import pandas as pd\n",
    "import matplotlib.pyplot as plt\n",
    "import neattext.functions as nfx\n",
    "import requests\n",
    "import time\n",
    "\n",
    "current_directory = os.getcwd()\n",
    "root_directory = os.path.abspath(os.path.join(current_directory, '..', '..')) \n",
    "if root_directory not in sys.path:\n",
    "    sys.path.append(root_directory)\n",
    "\n",
    "import logging\n",
    "logging.basicConfig(level=logging.CRITICAL)\n",
    "\n",
    "from code_utils.utils import aplatir "
   ]
  },
  {
   "cell_type": "code",
   "execution_count": null,
   "id": "a28efbcb",
   "metadata": {},
   "outputs": [],
   "source": [
    "climat_topics=['T10753', 'T11988', 'T10122', 'T10139', 'T10577', 'T11862', 'T13377', 'T10898', 'T12981', 'T10174', 'T11405', 'T13396', 'T12213', 'T12639', 'T11056', 'T11880', 'T11753', 'T10439', 'T10766', 'T10438', 'T12806', 'T11244', 'T11186', 'T10029', 'T11588', 'T10075', 'T10017', 'T10644', 'T10895', 'T10266', 'T10230', 'T11320', 'T10341', 'T10005', 'T10347', 'T10765', 'T10032', 'T11333', 'T10226', 'T10466', 'T10647', 'T11483', 'T10330', 'T10471', 'T10199', 'T10555', 'T11259', 'T11594', 'T10643', 'T10319', 'T10487', 'T10435', 'T10659', 'T10089','T10255', 'T11088', 'T10930', 'T12073', 'T11459', 'T11061', 'T10302', 'T10190', 'T10779', 'T10535', 'T12617', 'T12414', 'T10166', 'T10004', 'T10889', 'T11913', 'T10398', 'T11760']\n"
   ]
  },
  {
   "cell_type": "code",
   "execution_count": null,
   "id": "6607dd8e",
   "metadata": {},
   "outputs": [],
   "source": [
    "climat_topics_str=['climate change','marine ecosystems','ecology','ecological','environmental','methane emission','ocean acidification','arctic sea ice','environmental impact','climate ethics','hydrological cycle','energy transition','influence of climate','urban heat islands','mitigation strategies','impact on climate','environmental policies','carbon dioxide capture','carbon dioxide storage','soil carbon dynamics','sustainable development','environmental governance','atmospheric aerosols','marine biogeochemistry','biodiversity','global flood risk','arctic sea ice','ocean surface waves and wind interaction','aeolian geomorphology','wind erosion dynamics','coastal protection','water resource management','air pollution','deforestation','energy efficiency','global drought','landslide hazards','paleoclimat',\"climate resilience\", \"climate adaptation\", \"carbon footprint\", \"carbon neutrality\", \"climate mitigation\", \"climate models\", \"climate scenarios\", \"zero emissions\", \"renewable energy\", \"sustainable agriculture\", \"ecosystem services\", \"climate vulnerability\", \"climate impacts\", \"climate policy\", \"global warming\", \"low-carbon\", \"climate change adaptation strategies\", \"ecosystem-based adaptation\", \"climate finance\", \"fossil fuel phase-out\", \"carbon trading\", \"climate-induced displacement\", \"environmental resilience\", \"greenhouse gas emissions\", \"land-use change\", \"climate risk assessment\", \"climate-induced migration\", \"carbon sequestration\", \"bioenergy\", \"energy transition pathways\", \"climate justice\", \"climate-sensitive diseases\", \"adaptation planning\", \"geoengineering\", \"flood management\", \"ecosystem restoration\", \"heat stress\", \"mitigation\", \"carbon pricing\", \"sustainable forestry\", \"blue carbon\", \"adaptation and resilience building\",\"green infrastructure\", \"climate\", \"urban adaptation strategies\", \"climate-smart agriculture\", \"drought mitigation\", \"weather extremes\", \"ocean conservation\", \"green energy\" \"floodplain management\", \"temperature rise mitigation\"]\n",
    "climat_topics_str=['\"'+str(x)+'\"' for x in climat_topics_str if str(x).find(' ')>=0]+[str(x) for x in climat_topics_str if str(x).find(' ')==-1]"
   ]
  },
  {
   "cell_type": "code",
   "execution_count": null,
   "id": "f3294db0",
   "metadata": {},
   "outputs": [],
   "source": [
    "climat_topics_OR=('|').join(climat_topics)\n",
    "climat_topics_OR_str=(' OR ').join(climat_topics_str)"
   ]
  },
  {
   "cell_type": "code",
   "execution_count": null,
   "id": "5f8dd703",
   "metadata": {},
   "outputs": [],
   "source": [
    "climat_topics_OR_str"
   ]
  },
  {
   "cell_type": "code",
   "execution_count": null,
   "id": "d10fc77d",
   "metadata": {},
   "outputs": [],
   "source": [
    "climat_topics_OR"
   ]
  },
  {
   "cell_type": "code",
   "execution_count": null,
   "id": "0c981df5",
   "metadata": {},
   "outputs": [],
   "source": [
    "dict_countries=[]\n",
    "\n",
    "for year in range(2013,2024,1):\n",
    "    url=f\"https://api.openalex.org/works?filter=has_doi:true,publication_year:{year},topics.id:{climat_topics_OR},title_and_abstract.search:({climat_topics_OR_str})&group-by=institutions.country_code\"\n",
    "    response = requests.get(url)\n",
    "    data = response.json()\n",
    "    for i in range(0,15,1):\n",
    "        dict_countries.append({\"year\":str(year),'country':data['group_by'][i]['key'].replace('https://openalex.org/countries/',''),'count':data['group_by'][i]['count'],'total':data['meta']['count'], 'rank': i+1})"
   ]
  },
  {
   "cell_type": "code",
   "execution_count": null,
   "id": "8e7b3994",
   "metadata": {},
   "outputs": [],
   "source": [
    "df=pd.DataFrame(dict_countries)\n",
    "df['percentage']=df.apply(lambda row: round(row['count']*100/row['total'],1),axis=1)"
   ]
  },
  {
   "cell_type": "code",
   "execution_count": null,
   "id": "cc346549",
   "metadata": {},
   "outputs": [],
   "source": [
    "df[df.year=='2020']"
   ]
  },
  {
   "cell_type": "code",
   "execution_count": null,
   "id": "b7702777",
   "metadata": {},
   "outputs": [],
   "source": [
    "list(df[df.country=='ES']['rank'])"
   ]
  },
  {
   "cell_type": "code",
   "execution_count": null,
   "id": "6657f1c1",
   "metadata": {},
   "outputs": [],
   "source": [
    "df=pd.DataFrame(dict_countries)"
   ]
  },
  {
   "cell_type": "code",
   "execution_count": null,
   "id": "b381c287",
   "metadata": {},
   "outputs": [],
   "source": [
    "years = df['year'].unique()\n",
    "\n",
    "color_dict = {\n",
    "    'US': 'pink',\n",
    "    'GB': 'green',\n",
    "    'CN': 'red',\n",
    "    'DE': 'yellow',\n",
    "    'AU': 'purple',\n",
    "    'CA': 'cyan',\n",
    "    'FR': 'blue',\n",
    "    'IN': 'orange',\n",
    "    'IT': 'brown'\n",
    "}\n",
    "\n",
    "bar_width = 0.1\n",
    "index = np.arange(len(years)) \n",
    "fig, ax = plt.subplots(figsize=(14, 8))\n",
    "\n",
    "used_countries = set() \n",
    "for i, year in enumerate(years):\n",
    "    year_data = df[df['year'] == year]\n",
    "    \n",
    "    top_8_countries = year_data.nlargest(8, 'count')['country']\n",
    "    year_data_top_8 = year_data[year_data['country'].isin(top_8_countries)]\n",
    "    \n",
    "    for j, country in enumerate(top_8_countries):\n",
    "        country_data = year_data_top_8[year_data_top_8['country'] == country]\n",
    "        \n",
    "        color = color_dict.get(country, 'gray')\n",
    "        \n",
    "        bar = ax.bar(index[i] + j * bar_width, country_data['percentage'], bar_width, label=country if country not in used_countries else \"\", color=color)\n",
    "        \n",
    "        if country not in used_countries:\n",
    "            used_countries.add(country)\n",
    "\n",
    "ax.set_xlabel('Years')\n",
    "ax.set_ylabel('Part (%)')\n",
    "ax.set_title('Part of publications in OpenAlex by country and by year')\n",
    "ax.set_xticks(index + bar_width * 3.5)\n",
    "ax.set_xticklabels(years)\n",
    "ax.legend(title=\"Countries\", bbox_to_anchor=(1.05, 1), loc='upper left')\n",
    "\n",
    "plt.tight_layout()\n",
    "plt.show()"
   ]
  },
  {
   "cell_type": "markdown",
   "id": "4c635d44",
   "metadata": {},
   "source": [
    "with Highcharts"
   ]
  },
  {
   "cell_type": "code",
   "execution_count": null,
   "id": "d8b39ead",
   "metadata": {},
   "outputs": [],
   "source": [
    "# pip install virtualenv\n",
    "# virtualenv -p python3.10 myenv\n",
    "# myenv\\Scripts\\activate\n",
    "# pip install highcharts_core"
   ]
  },
  {
   "cell_type": "code",
   "execution_count": null,
   "id": "13dd7cf7",
   "metadata": {},
   "outputs": [],
   "source": [
    "from highcharts_core.chart import Chart\n",
    "from highcharts_core.options import HighchartsOptions\n",
    "from highcharts_core.options.plot_options import PlotOptions\n",
    "from highcharts_core.options.axes.x_axis import XAxis\n",
    "from highcharts_core.options.axes.y_axis import YAxis,YAxisTitle\n",
    "from highcharts_core.options.axes.accessibility import AxisAccessibility\n",
    "from highcharts_core.options.axes.title import AxisTitle\n",
    "from highcharts_core.options.title import Title\n",
    "from highcharts_core.options.subtitle import Subtitle\n",
    "from highcharts_core.options.legend import Legend\n",
    "from highcharts_core.options.plot_options.series import SeriesOptions\n",
    "from highcharts_core.options.series.area import LineSeries\n",
    "from highcharts_core.options.series.labels import SeriesLabel\n",
    "from highcharts_core.options.responsive import Responsive, ResponsiveRules, Condition\n",
    "from highcharts_core.constants import EnforcedNull"
   ]
  },
  {
   "cell_type": "code",
   "execution_count": null,
   "id": "c175d15d",
   "metadata": {},
   "outputs": [],
   "source": [
    "chart_options = HighchartsOptions(\n",
    "    title = Title(text = 'Rank for 10 countries by year in OpenAlex publications',\n",
    "                  align = 'left'),\n",
    "    subtitle = Subtitle(text = 'Source: <a href=\"https://irecusa.org/programs/solar-jobs-census/\" target=\"_blank\">OpenAlex</a>',\n",
    "                        align = 'left'),\n",
    "    y_axis = YAxis(title = YAxisTitle(text = 'Rank'), reversed=True, min=1),\n",
    "    x_axis = XAxis(\n",
    "        accessibility = AxisAccessibility(range_description = 'Range: 2013 to 2023')\n",
    "    ),\n",
    "    legend = Legend(layout = 'vertical',\n",
    "                    align = 'right',\n",
    "                    vertical_align = 'middle'),\n",
    "    plot_options = PlotOptions(series = SeriesOptions(point_start = 2013,\n",
    "                                                      label = SeriesLabel(connector_allowed = False)))\n",
    ")"
   ]
  },
  {
   "cell_type": "code",
   "execution_count": null,
   "id": "7500f256",
   "metadata": {},
   "outputs": [],
   "source": [
    "override_options = HighchartsOptions(legend = Legend(layout = 'horizontal',\n",
    "                                                     align = 'center',\n",
    "                                                     vertical_align = 'bottom'))\n",
    "responsive_config = Responsive(\n",
    "    rules = [\n",
    "        ResponsiveRules(chart_options = override_options,\n",
    "                        condition = Condition(max_width = 500))\n",
    "    ]\n",
    ")\n",
    "chart_options.responsive = responsive_config"
   ]
  },
  {
   "cell_type": "code",
   "execution_count": null,
   "id": "46091dc8",
   "metadata": {},
   "outputs": [],
   "source": [
    "series1 = LineSeries(name = 'US',\n",
    "                     data = [1, 1, 1, 1, 1, 1, 1, 1, 1, 2, 2])\n",
    "series2 = LineSeries(name = 'GB',\n",
    "                     data = [2, 2, 2, 3, 3, 3, 3, 3, 3, 3, 3],\n",
    "                    color = 'green')\n",
    "series3 = LineSeries(name = 'CN',\n",
    "                     data = [3, 3, 3, 2, 2, 2, 2, 2, 2, 1, 1],\n",
    "                     color = 'red')\n",
    "series4 = LineSeries(name = 'DE',\n",
    "                     data = [4, 4, 4, 4, 4, 4, 4, 4, 4, 4, 4],\n",
    "                     color= 'purple')\n",
    "series5 = LineSeries(name = 'FR',\n",
    "                     data = [7, 7, 7, 7, 7, 7, 7, 6, 6, 5, 6],\n",
    "                     color = 'blue')\n",
    "series6 = LineSeries(name = 'IN',\n",
    "                     data = [15, 13, 13, 13, 11, 12, 11, 11, 10, 8, 5],\n",
    "                     color = 'orange')\n",
    "series7 = LineSeries(name = 'AU',\n",
    "                     data = [5, 5, 5, 5, 5, 5, 5, 5, 7, 6, 7],\n",
    "                     color = 'grey')\n",
    "series8 = LineSeries(name = 'CA',\n",
    "                     data = [6, 6, 6, 6, 6, 6, 6, 7, 5, 7, 9],\n",
    "                     color = 'brown')\n",
    "series9 = LineSeries(name = 'IT',\n",
    "                     data = [9, 9, 8, 8, 8, 9, 9, 8, 8, 9, 8],\n",
    "                     color = 'green')\n",
    "series10 = LineSeries(name = 'ES',\n",
    "                     data = [8, 8, 9, 9, 9, 8, 8, 9, 9, 10, 10],\n",
    "                     color = 'yellow')\n",
    "\n",
    "chart_options.add_series(series1, series2, series3, series4, series5, series6, series7,series8,series9,series10)"
   ]
  },
  {
   "cell_type": "code",
   "execution_count": null,
   "id": "f18093f8",
   "metadata": {},
   "outputs": [],
   "source": [
    "chart = Chart.from_options(chart_options)\n",
    "chart.display()"
   ]
  },
  {
   "cell_type": "markdown",
   "id": "142e1109",
   "metadata": {},
   "source": [
    "2nd ipcc model on openAlex publications "
   ]
  },
  {
   "cell_type": "code",
   "execution_count": null,
   "id": "5ca6b872",
   "metadata": {},
   "outputs": [],
   "source": [
    "data_OA=[]\n",
    "countries=['FR']#['US','GB','CN','DE',\n",
    "for country in countries:\n",
    "    print(country)\n",
    "    url=f\"https://api.openalex.org/works?filter=has_doi:true,topics.id:{climat_topics_OR},title_and_abstract.search:({climat_topics_OR_str}),institutions.country_code:{country}&select=doi,title,topics,locations&per_page=200&page=1\"\n",
    "    response = requests.get(url)\n",
    "    data = response.json()\n",
    "    if data['meta']['count']//data['meta']['per_page']==0:\n",
    "        nb_page=data['meta']['count']//data['meta']['per_page']+1\n",
    "    else:\n",
    "        nb_page=nb_page+1\n",
    "    print(nb_page)\n",
    "    cursor='*'\n",
    "    for j in range(1,nb_page,1):\n",
    "        if j % 500 and j!=1:\n",
    "            time.sleep(60)\n",
    "        print(j)\n",
    "        url=f\"https://api.openalex.org/works?filter=has_doi:true,topics.id:{climat_topics_OR},title_and_abstract.search:({climat_topics_OR_str}),institutions.country_code:{country}&per_page=200&cursor={cursor}\"\n",
    "        response = requests.get(url)\n",
    "        data = response.json()\n",
    "        cursor=data['meta']['next_cursor']\n",
    "        print(url) \n",
    "        for i in range(len(data['results'])):\n",
    "            if 'results' in list(data.keys()):\n",
    "                doi=data['results'][i]['doi']\n",
    "                title=data['results'][i]['title']\n",
    "                topics=[topic.get('display_name') for topic in data['results'][i]['topics'] if 'display_name' in list(topic.keys())]\n",
    "                locations_names=list(pd.Series([location['source'].get('display_name',None) for location in data['results'][i]['locations'] if pd.isna(location['source'])==False]).drop_duplicates().dropna())\n",
    "                locations_ids=list(pd.Series([location['source'].get('issn_l',None) for location in data['results'][i]['locations'] if pd.isna(location['source'])==False]).drop_duplicates().dropna())\n",
    "                data_OA.append({'doi':doi, 'title':title, 'topics':topics, 'locations_names':locations_names, 'locations_ids': locations_ids, 'countries':country})"
   ]
  },
  {
   "cell_type": "code",
   "execution_count": null,
   "id": "7053dccf",
   "metadata": {},
   "outputs": [],
   "source": [
    "data['meta']"
   ]
  },
  {
   "cell_type": "code",
   "execution_count": null,
   "id": "b34bfdc3",
   "metadata": {},
   "outputs": [],
   "source": [
    "pd.DataFrame(data_OA)"
   ]
  },
  {
   "cell_type": "code",
   "execution_count": null,
   "id": "faf0e4af",
   "metadata": {},
   "outputs": [],
   "source": [
    "pd.DataFrame(data_OA).to_json('data_OA_FR.json',orient='records',lines=True)\n"
   ]
  },
  {
   "cell_type": "markdown",
   "id": "9f7bb752",
   "metadata": {},
   "source": [
    "utilisation du model_wg"
   ]
  },
  {
   "cell_type": "code",
   "execution_count": null,
   "id": "3d1145f6",
   "metadata": {},
   "outputs": [],
   "source": [
    "path=os.path.join(root_directory, 'notebooks', 'models_fasttext_or_random_forest','fasttext_model_teds_wg.bin')"
   ]
  },
  {
   "cell_type": "code",
   "execution_count": null,
   "id": "df6623bb",
   "metadata": {},
   "outputs": [],
   "source": [
    "model = fasttext.load_model(path)"
   ]
  },
  {
   "cell_type": "code",
   "execution_count": null,
   "id": "abe6c797",
   "metadata": {},
   "outputs": [],
   "source": [
    "df.loc[:,'doi']=df.loc[:,'doi'].apply(lambda x: str(nfx.remove_stopwords(x)).replace('https://doi.org/','').lower())    "
   ]
  },
  {
   "cell_type": "code",
   "execution_count": null,
   "id": "b80b2693",
   "metadata": {},
   "outputs": [],
   "source": [
    "df.loc[:,'title']=df.loc[:,'title'].apply(lambda x: str(nfx.remove_stopwords(x)).replace('}','').replace('{','').lower())"
   ]
  },
  {
   "cell_type": "code",
   "execution_count": null,
   "id": "d6ad5771",
   "metadata": {},
   "outputs": [],
   "source": [
    "df.loc[:,'topics']=df.loc[:,'topics'].apply(lambda x: nfx.remove_stopwords(' '.join(x)).lower())"
   ]
  },
  {
   "cell_type": "code",
   "execution_count": null,
   "id": "7ef467f6",
   "metadata": {},
   "outputs": [],
   "source": []
  },
  {
   "cell_type": "code",
   "execution_count": null,
   "id": "94e865f6",
   "metadata": {},
   "outputs": [],
   "source": [
    "x=(('__label__adaptation', '__label__mitigation', '__label__science'), np.array([0.79819679, 0.12941273, 0.02596736]))"
   ]
  },
  {
   "cell_type": "code",
   "execution_count": null,
   "id": "b1ae46ce",
   "metadata": {},
   "outputs": [],
   "source": [
    "df.loc[:,'prediction']=df.apply(lambda row: model.predict(nfx.remove_stopwords(f\"{row['title']} {row['topics']} {row['locations_names']} {row['locations_ids']}\".lower()), k=-1),axis=1)\n"
   ]
  }
 ],
 "metadata": {
  "kernelspec": {
   "display_name": "Python 3",
   "language": "python",
   "name": "python3"
  },
  "language_info": {
   "codemirror_mode": {
    "name": "ipython",
    "version": 3
   },
   "file_extension": ".py",
   "mimetype": "text/x-python",
   "name": "python",
   "nbconvert_exporter": "python",
   "pygments_lexer": "ipython3",
   "version": "3.9.10"
  }
 },
 "nbformat": 4,
 "nbformat_minor": 5
}
