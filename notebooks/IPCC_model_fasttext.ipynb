{
 "cells": [
  {
   "cell_type": "code",
   "execution_count": 84,
   "metadata": {},
   "outputs": [],
   "source": [
    "import os\n",
    "import sys\n",
    "import pandas as pd\n",
    "import matplotlib.pyplot as plt\n",
    "import re\n",
    "\n",
    "module_path = os.path.abspath(os.path.join('..'))\n",
    "if module_path not in sys.path:\n",
    "    sys.path.append(module_path)\n",
    "\n",
    "import fasttext\n",
    "from sklearn.metrics import confusion_matrix\n",
    "from sklearn.model_selection import train_test_split\n",
    "from sklearn.ensemble import RandomForestClassifier \n",
    "import warnings\n",
    "from sklearn.metrics import accuracy_score, recall_score, f1_score, roc_auc_score, confusion_matrix\n",
    "import numpy as np\n",
    "import neattext.functions as nfx\n",
    " \n",
    "warnings.filterwarnings(action='ignore')\n",
    "\n",
    "from code_utils.utils import preprocess,aplatir"
   ]
  },
  {
   "cell_type": "code",
   "execution_count": 85,
   "metadata": {},
   "outputs": [],
   "source": [
    "df_ipcc=pd.read_json(module_path+f'\\\\IPCC_bibliography\\\\AR6\\\\structured_data\\\\data_model_ipcc\\\\data_ipcc.jsonl', lines= True).dropna(subset=['year'])"
   ]
  },
  {
   "cell_type": "code",
   "execution_count": 86,
   "metadata": {},
   "outputs": [],
   "source": [
    "wg_doi=pd.read_json('ipcc_wg.json')"
   ]
  },
  {
   "cell_type": "code",
   "execution_count": 87,
   "metadata": {},
   "outputs": [],
   "source": [
    "df_ipcc=df_ipcc.merge(wg_doi,on='doi',how='left')"
   ]
  },
  {
   "cell_type": "code",
   "execution_count": 88,
   "metadata": {},
   "outputs": [
    {
     "data": {
      "text/plain": [
       "Index(['index', 'doi', 'title', 'year', 'countries', 'concepts', 'sdg',\n",
       "       'topics', 'is_OA_available', 'title_OA', 'year_OA', 'authors_name',\n",
       "       'rors', 'institutions_names', 'locations_names', 'locations_ids',\n",
       "       'test_glutton', 'wg'],\n",
       "      dtype='object')"
      ]
     },
     "execution_count": 88,
     "metadata": {},
     "output_type": "execute_result"
    }
   ],
   "source": [
    "df_ipcc.columns"
   ]
  },
  {
   "cell_type": "code",
   "execution_count": 89,
   "metadata": {},
   "outputs": [],
   "source": [
    "dict_wg={'wg1':'science','wg2':'adaptation','wg2_cross':'adaptation','wg3':'mitigation'}"
   ]
  },
  {
   "cell_type": "code",
   "execution_count": 90,
   "metadata": {},
   "outputs": [],
   "source": [
    "df_ipcc['wg_name']=df_ipcc['wg'].apply(lambda y: [dict_wg[str(x)] for x in y] if isinstance(y, list) else None)"
   ]
  },
  {
   "cell_type": "code",
   "execution_count": 91,
   "metadata": {},
   "outputs": [],
   "source": [
    "df_not_ipcc=pd.read_json(module_path+f'\\\\IPCC_bibliography\\\\AR6\\\\structured_data\\\\data_model_ipcc\\\\data_not_ipcc.jsonl', lines= True)"
   ]
  },
  {
   "cell_type": "code",
   "execution_count": 92,
   "metadata": {},
   "outputs": [],
   "source": [
    "df_ipcc=df_ipcc[['year','doi', 'title','topics','locations_names','locations_ids','wg_name']]"
   ]
  },
  {
   "cell_type": "code",
   "execution_count": 93,
   "metadata": {},
   "outputs": [],
   "source": [
    "df_not_ipcc=df_not_ipcc[['year','doi', 'title','topics','locations_names','locations_ids']]"
   ]
  },
  {
   "cell_type": "code",
   "execution_count": 94,
   "metadata": {},
   "outputs": [],
   "source": [
    "df_ipcc=df_ipcc.dropna(subset=['year','doi', 'title','topics','locations_names','locations_ids']).drop_duplicates(subset=['doi'])"
   ]
  },
  {
   "cell_type": "code",
   "execution_count": 95,
   "metadata": {},
   "outputs": [],
   "source": [
    "df_not_ipcc=df_not_ipcc.dropna(subset=['doi', 'title','topics','locations_names','locations_ids'])"
   ]
  },
  {
   "cell_type": "code",
   "execution_count": 96,
   "metadata": {},
   "outputs": [],
   "source": [
    "data_counts=pd.Series([int(x) for x in list(df_ipcc.year.dropna())]).value_counts()\n",
    "data_counts=pd.Series(dict(data_counts)).sort_index()"
   ]
  },
  {
   "cell_type": "markdown",
   "metadata": {},
   "source": [
    "building the learning dataset"
   ]
  },
  {
   "cell_type": "code",
   "execution_count": 97,
   "metadata": {},
   "outputs": [
    {
     "name": "stdout",
     "output_type": "stream",
     "text": [
      "48219 48219\n"
     ]
    }
   ],
   "source": [
    "print(len(df_ipcc),len(df_not_ipcc))"
   ]
  },
  {
   "cell_type": "code",
   "execution_count": 98,
   "metadata": {},
   "outputs": [],
   "source": [
    "df_all=pd.concat([df_ipcc,df_not_ipcc]).reset_index()\n",
    "del df_all['index']"
   ]
  },
  {
   "cell_type": "code",
   "execution_count": 99,
   "metadata": {},
   "outputs": [],
   "source": [
    "df_all.loc[:,'doi']=df_all.loc[:,'doi'].apply(lambda x: str(nfx.remove_stopwords(x)).replace('https://doi.org/','').lower())"
   ]
  },
  {
   "cell_type": "code",
   "execution_count": 100,
   "metadata": {},
   "outputs": [],
   "source": [
    "df_all.loc[:,'title']=df_all.loc[:,'title'].apply(lambda x: str(nfx.remove_stopwords(x)).replace('}','').replace('{','').lower())"
   ]
  },
  {
   "cell_type": "code",
   "execution_count": 101,
   "metadata": {},
   "outputs": [],
   "source": [
    "df_all.loc[:,'topics']=df_all.loc[:,'topics'].apply(lambda x: nfx.remove_stopwords(' '.join(x)).lower())"
   ]
  },
  {
   "cell_type": "code",
   "execution_count": 102,
   "metadata": {},
   "outputs": [
    {
     "data": {
      "text/html": [
       "<div>\n",
       "<style scoped>\n",
       "    .dataframe tbody tr th:only-of-type {\n",
       "        vertical-align: middle;\n",
       "    }\n",
       "\n",
       "    .dataframe tbody tr th {\n",
       "        vertical-align: top;\n",
       "    }\n",
       "\n",
       "    .dataframe thead th {\n",
       "        text-align: right;\n",
       "    }\n",
       "</style>\n",
       "<table border=\"1\" class=\"dataframe\">\n",
       "  <thead>\n",
       "    <tr style=\"text-align: right;\">\n",
       "      <th></th>\n",
       "      <th>year</th>\n",
       "      <th>doi</th>\n",
       "      <th>title</th>\n",
       "      <th>topics</th>\n",
       "      <th>locations_names</th>\n",
       "      <th>locations_ids</th>\n",
       "      <th>wg_name</th>\n",
       "    </tr>\n",
       "  </thead>\n",
       "  <tbody>\n",
       "    <tr>\n",
       "      <th>0</th>\n",
       "      <td>2019.0</td>\n",
       "      <td>10.3389/978-2-88963-118-6</td>\n",
       "      <td>oceanobs'19: ocean opportunity. volume 1</td>\n",
       "      <td>marine biodiversity ecosystem functioning</td>\n",
       "      <td>Frontiers research topics</td>\n",
       "      <td>1664-8714</td>\n",
       "      <td>[science]</td>\n",
       "    </tr>\n",
       "    <tr>\n",
       "      <th>1</th>\n",
       "      <td>1900.0</td>\n",
       "      <td>10.1002/andp.19003081208</td>\n",
       "      <td>\\\"uber die bedeutung des wasserdampfes und der...</td>\n",
       "      <td>stratospheric chemistry climate change impacts...</td>\n",
       "      <td>Annalen der Physik</td>\n",
       "      <td>0003-3804</td>\n",
       "      <td>[science]</td>\n",
       "    </tr>\n",
       "    <tr>\n",
       "      <th>2</th>\n",
       "      <td>1964.0</td>\n",
       "      <td>10.3402/tellusa.v16i1.8885</td>\n",
       "      <td>the parameters atmospheric turbidity</td>\n",
       "      <td>dynamics ocean surface waves wind interaction</td>\n",
       "      <td>Tellus A</td>\n",
       "      <td>0280-6495</td>\n",
       "      <td>[science]</td>\n",
       "    </tr>\n",
       "    <tr>\n",
       "      <th>3</th>\n",
       "      <td>1929.0</td>\n",
       "      <td>10.1080/20014422.1929.11880498</td>\n",
       "      <td>on atmospheric transmission sun radiation dust...</td>\n",
       "      <td>aerosols' impact climate hydrological cycle</td>\n",
       "      <td>Geografiska Annaler</td>\n",
       "      <td>1651-3215</td>\n",
       "      <td>[science]</td>\n",
       "    </tr>\n",
       "    <tr>\n",
       "      <th>4</th>\n",
       "      <td>2013.0</td>\n",
       "      <td>10.1002/rog.20022</td>\n",
       "      <td>a review global ocean temperature observations...</td>\n",
       "      <td>oceanic modeling circulation studies global se...</td>\n",
       "      <td>Reviews of Geophysics</td>\n",
       "      <td>1944-9208</td>\n",
       "      <td>[science, adaptation]</td>\n",
       "    </tr>\n",
       "    <tr>\n",
       "      <th>...</th>\n",
       "      <td>...</td>\n",
       "      <td>...</td>\n",
       "      <td>...</td>\n",
       "      <td>...</td>\n",
       "      <td>...</td>\n",
       "      <td>...</td>\n",
       "      <td>...</td>\n",
       "    </tr>\n",
       "    <tr>\n",
       "      <th>96433</th>\n",
       "      <td>1967.0</td>\n",
       "      <td>10.1007/bf02349230</td>\n",
       "      <td>played physicians patient's path mental hospital</td>\n",
       "      <td>crisis resolution home treatment teams mental ...</td>\n",
       "      <td>Community mental health journal</td>\n",
       "      <td>0010-3853</td>\n",
       "      <td>NaN</td>\n",
       "    </tr>\n",
       "    <tr>\n",
       "      <th>96434</th>\n",
       "      <td>1966.0</td>\n",
       "      <td>10.1038/210701a0</td>\n",
       "      <td>delayed fluorescence chlorophyll vitro vivo</td>\n",
       "      <td>molecular mechanisms photosynthesis photoprote...</td>\n",
       "      <td>Nature</td>\n",
       "      <td>0028-0836</td>\n",
       "      <td>NaN</td>\n",
       "    </tr>\n",
       "    <tr>\n",
       "      <th>96435</th>\n",
       "      <td>1966.0</td>\n",
       "      <td>10.1507/endocrine1927.42.8_880</td>\n",
       "      <td>子宮筋homogenateにおけるacetylcholineと組織蛋白との結合に及ぼすoxy...</td>\n",
       "      <td>principles stereochemical structure nomenclatu...</td>\n",
       "      <td>Nippon Naibunpi Gakkai zasshi/Nihon Naibunpi G...</td>\n",
       "      <td>0029-0661</td>\n",
       "      <td>NaN</td>\n",
       "    </tr>\n",
       "    <tr>\n",
       "      <th>96436</th>\n",
       "      <td>1686.0</td>\n",
       "      <td>10.1098/rstl.1686.0008</td>\n",
       "      <td>voyage emperour china eastern tartary, anno 1682</td>\n",
       "      <td>linguistic studies turkic languages silk roads...</td>\n",
       "      <td>Philosophical transactions of the Royal Societ...</td>\n",
       "      <td>0261-0523</td>\n",
       "      <td>NaN</td>\n",
       "    </tr>\n",
       "    <tr>\n",
       "      <th>96437</th>\n",
       "      <td>1925.0</td>\n",
       "      <td>10.5694/j.1326-5377.1925.tb39013.x</td>\n",
       "      <td>birthday honours</td>\n",
       "      <td>management perennial pasture systems australia</td>\n",
       "      <td>Medical journal of Australia</td>\n",
       "      <td>0025-729X</td>\n",
       "      <td>NaN</td>\n",
       "    </tr>\n",
       "  </tbody>\n",
       "</table>\n",
       "<p>96438 rows × 7 columns</p>\n",
       "</div>"
      ],
      "text/plain": [
       "         year                                 doi  \\\n",
       "0      2019.0           10.3389/978-2-88963-118-6   \n",
       "1      1900.0            10.1002/andp.19003081208   \n",
       "2      1964.0          10.3402/tellusa.v16i1.8885   \n",
       "3      1929.0      10.1080/20014422.1929.11880498   \n",
       "4      2013.0                   10.1002/rog.20022   \n",
       "...       ...                                 ...   \n",
       "96433  1967.0                  10.1007/bf02349230   \n",
       "96434  1966.0                    10.1038/210701a0   \n",
       "96435  1966.0      10.1507/endocrine1927.42.8_880   \n",
       "96436  1686.0              10.1098/rstl.1686.0008   \n",
       "96437  1925.0  10.5694/j.1326-5377.1925.tb39013.x   \n",
       "\n",
       "                                                   title  \\\n",
       "0               oceanobs'19: ocean opportunity. volume 1   \n",
       "1      \\\"uber die bedeutung des wasserdampfes und der...   \n",
       "2                   the parameters atmospheric turbidity   \n",
       "3      on atmospheric transmission sun radiation dust...   \n",
       "4      a review global ocean temperature observations...   \n",
       "...                                                  ...   \n",
       "96433   played physicians patient's path mental hospital   \n",
       "96434        delayed fluorescence chlorophyll vitro vivo   \n",
       "96435  子宮筋homogenateにおけるacetylcholineと組織蛋白との結合に及ぼすoxy...   \n",
       "96436   voyage emperour china eastern tartary, anno 1682   \n",
       "96437                                   birthday honours   \n",
       "\n",
       "                                                  topics  \\\n",
       "0              marine biodiversity ecosystem functioning   \n",
       "1      stratospheric chemistry climate change impacts...   \n",
       "2          dynamics ocean surface waves wind interaction   \n",
       "3            aerosols' impact climate hydrological cycle   \n",
       "4      oceanic modeling circulation studies global se...   \n",
       "...                                                  ...   \n",
       "96433  crisis resolution home treatment teams mental ...   \n",
       "96434  molecular mechanisms photosynthesis photoprote...   \n",
       "96435  principles stereochemical structure nomenclatu...   \n",
       "96436  linguistic studies turkic languages silk roads...   \n",
       "96437     management perennial pasture systems australia   \n",
       "\n",
       "                                         locations_names locations_ids  \\\n",
       "0                              Frontiers research topics     1664-8714   \n",
       "1                                     Annalen der Physik     0003-3804   \n",
       "2                                               Tellus A     0280-6495   \n",
       "3                                    Geografiska Annaler     1651-3215   \n",
       "4                                  Reviews of Geophysics     1944-9208   \n",
       "...                                                  ...           ...   \n",
       "96433                    Community mental health journal     0010-3853   \n",
       "96434                                             Nature     0028-0836   \n",
       "96435  Nippon Naibunpi Gakkai zasshi/Nihon Naibunpi G...     0029-0661   \n",
       "96436  Philosophical transactions of the Royal Societ...     0261-0523   \n",
       "96437                       Medical journal of Australia     0025-729X   \n",
       "\n",
       "                     wg_name  \n",
       "0                  [science]  \n",
       "1                  [science]  \n",
       "2                  [science]  \n",
       "3                  [science]  \n",
       "4      [science, adaptation]  \n",
       "...                      ...  \n",
       "96433                    NaN  \n",
       "96434                    NaN  \n",
       "96435                    NaN  \n",
       "96436                    NaN  \n",
       "96437                    NaN  \n",
       "\n",
       "[96438 rows x 7 columns]"
      ]
     },
     "execution_count": 102,
     "metadata": {},
     "output_type": "execute_result"
    }
   ],
   "source": [
    "df_all"
   ]
  },
  {
   "cell_type": "code",
   "execution_count": 103,
   "metadata": {},
   "outputs": [],
   "source": [
    "df_all.to_json(module_path+f'\\\\IPCC_bibliography\\\\AR6\\\\structured_data\\\\data_model_ipcc\\\\data_model.json')"
   ]
  },
  {
   "cell_type": "code",
   "execution_count": 104,
   "metadata": {},
   "outputs": [
    {
     "data": {
      "text/plain": [
       "Index(['year', 'doi', 'title', 'topics', 'locations_names', 'locations_ids',\n",
       "       'wg_name'],\n",
       "      dtype='object')"
      ]
     },
     "execution_count": 104,
     "metadata": {},
     "output_type": "execute_result"
    }
   ],
   "source": [
    "df_all.columns"
   ]
  },
  {
   "cell_type": "markdown",
   "metadata": {},
   "source": [
    "using fasttext"
   ]
  },
  {
   "cell_type": "code",
   "execution_count": 105,
   "metadata": {},
   "outputs": [],
   "source": [
    "df_all['label']=df_all['wg_name'].apply(lambda x: ' '.join(['__label__' + str(y) for y in x]) if isinstance(x,list) else '__label__not_ipcc') \n",
    "df_all['category_description']=df_all['label']+' '+df_all['title']+' '+df_all['topics']+' '+df_all['locations_names']+' '+df_all['locations_ids']"
   ]
  },
  {
   "cell_type": "code",
   "execution_count": 106,
   "metadata": {},
   "outputs": [],
   "source": [
    "train, test = train_test_split(df_all, test_size=0.2, random_state=42)"
   ]
  },
  {
   "cell_type": "code",
   "execution_count": 107,
   "metadata": {},
   "outputs": [
    {
     "data": {
      "text/plain": [
       "((77150, 9), (19288, 9))"
      ]
     },
     "execution_count": 107,
     "metadata": {},
     "output_type": "execute_result"
    }
   ],
   "source": [
    "train.shape, test.shape"
   ]
  },
  {
   "cell_type": "code",
   "execution_count": 108,
   "metadata": {},
   "outputs": [],
   "source": [
    "train.to_csv(\"teds.train\", columns=[\"category_description\"], index=False, header=False)\n",
    "test.to_csv(\"teds.test\", columns=[\"category_description\"], index=False, header=False)"
   ]
  },
  {
   "cell_type": "code",
   "execution_count": 109,
   "metadata": {},
   "outputs": [
    {
     "data": {
      "text/plain": [
       "(15733, 0.9156549926905231, 0.8604706725600286)"
      ]
     },
     "execution_count": 109,
     "metadata": {},
     "output_type": "execute_result"
    }
   ],
   "source": [
    "model = fasttext.train_supervised(input=\"teds.train\", loss='ova')\n",
    "model.test(\"teds.test\")"
   ]
  },
  {
   "cell_type": "code",
   "execution_count": 110,
   "metadata": {},
   "outputs": [],
   "source": [
    "model.save_model(\"fasttext_model_teds.bin\")"
   ]
  },
  {
   "cell_type": "code",
   "execution_count": 111,
   "metadata": {},
   "outputs": [],
   "source": [
    "model = fasttext.load_model(\"fasttext_model_teds.bin\")"
   ]
  },
  {
   "cell_type": "code",
   "execution_count": 112,
   "metadata": {},
   "outputs": [],
   "source": [
    "test_data = pd.read_csv(\"teds.test\", header=None, names=[\"text\"])"
   ]
  },
  {
   "cell_type": "code",
   "execution_count": 113,
   "metadata": {},
   "outputs": [],
   "source": [
    "# pour 2 labels\n",
    "true_labels = []\n",
    "predicted_labels = []\n",
    "\n",
    "for line in test_data[\"text\"]:\n",
    "    label, text = line.split(' ', 1)\n",
    "    true_labels.append(label)\n",
    "    text = text.replace('\\n', '').strip()\n",
    "    predicted_label = model.predict(text)[0][0]  \n",
    "    predicted_labels.append(predicted_label)"
   ]
  },
  {
   "cell_type": "code",
   "execution_count": 67,
   "metadata": {},
   "outputs": [],
   "source": [
    "# pour multi labels\n",
    "true_labels = []\n",
    "predicted_labels = []\n",
    "\n",
    "for line in test_data[\"text\"]:\n",
    "    label, text = line.split(' ', 1)\n",
    "    true_labels.append(label)\n",
    "    text = text.replace('\\n', '').strip()\n",
    "    labels, probabilities = model.predict(text, k=-1)\n",
    "    predictions_with_scores = list(zip(labels, probabilities))"
   ]
  },
  {
   "cell_type": "code",
   "execution_count": 114,
   "metadata": {},
   "outputs": [
    {
     "data": {
      "text/plain": [
       "[('__label__science', 0.538993239402771),\n",
       " ('__label__mitigation', 0.44553956389427185),\n",
       " ('__label__adaptation', 0.30736804008483887),\n",
       " ('__label__not_ipcc', 0.00048285454977303743)]"
      ]
     },
     "execution_count": 114,
     "metadata": {},
     "output_type": "execute_result"
    }
   ],
   "source": [
    "predictions_with_scores"
   ]
  },
  {
   "cell_type": "code",
   "execution_count": 116,
   "metadata": {},
   "outputs": [],
   "source": [
    "conf_matrix = confusion_matrix(true_labels, predicted_labels)"
   ]
  },
  {
   "cell_type": "code",
   "execution_count": 117,
   "metadata": {},
   "outputs": [
    {
     "data": {
      "text/plain": [
       "array([[4422,  385,  179,  251],\n",
       "       [ 295, 1515,  137,   23],\n",
       "       [ 124,   61, 9398,   11],\n",
       "       [ 478,   63,   17, 1929]], dtype=int64)"
      ]
     },
     "execution_count": 117,
     "metadata": {},
     "output_type": "execute_result"
    }
   ],
   "source": [
    "conf_matrix"
   ]
  },
  {
   "cell_type": "code",
   "execution_count": 118,
   "metadata": {},
   "outputs": [
    {
     "data": {
      "text/plain": [
       "0.8950642886768976"
      ]
     },
     "execution_count": 118,
     "metadata": {},
     "output_type": "execute_result"
    }
   ],
   "source": [
    "accuracy_score(true_labels, predicted_labels)"
   ]
  },
  {
   "cell_type": "code",
   "execution_count": 119,
   "metadata": {},
   "outputs": [
    {
     "data": {
      "text/plain": [
       "0.8950642886768976"
      ]
     },
     "execution_count": 119,
     "metadata": {},
     "output_type": "execute_result"
    }
   ],
   "source": [
    "recall_score(true_labels, predicted_labels, average=\"weighted\")"
   ]
  },
  {
   "cell_type": "code",
   "execution_count": 120,
   "metadata": {},
   "outputs": [
    {
     "data": {
      "text/plain": [
       "0.8945750575093211"
      ]
     },
     "execution_count": 120,
     "metadata": {},
     "output_type": "execute_result"
    }
   ],
   "source": [
    "f1_score(true_labels, predicted_labels, average=\"weighted\")"
   ]
  },
  {
   "cell_type": "code",
   "execution_count": 129,
   "metadata": {},
   "outputs": [],
   "source": [
    "t=test.iloc[0,:]"
   ]
  },
  {
   "cell_type": "code",
   "execution_count": 130,
   "metadata": {},
   "outputs": [
    {
     "data": {
      "text/plain": [
       "year                                                               2002.0\n",
       "doi                                                  10.1029/2002gl015835\n",
       "title                   an important constraint tropical cloud - clima...\n",
       "topics                  stratospheric chemistry climate change impacts...\n",
       "locations_names                              Geophysical Research Letters\n",
       "locations_ids                                                   0094-8276\n",
       "wg_name                                                         [science]\n",
       "label                                                    __label__science\n",
       "category_description    __label__science an important constraint tropi...\n",
       "Name: 5998, dtype: object"
      ]
     },
     "execution_count": 130,
     "metadata": {},
     "output_type": "execute_result"
    }
   ],
   "source": [
    "t"
   ]
  },
  {
   "cell_type": "code",
   "execution_count": 131,
   "metadata": {},
   "outputs": [
    {
     "data": {
      "text/plain": [
       "(('__label__science',\n",
       "  '__label__adaptation',\n",
       "  '__label__mitigation',\n",
       "  '__label__not_ipcc'),\n",
       " array([9.71574008e-01, 1.69249140e-02, 3.18268221e-03, 1.00000034e-05]))"
      ]
     },
     "execution_count": 131,
     "metadata": {},
     "output_type": "execute_result"
    }
   ],
   "source": [
    "model.predict(nfx.remove_stopwords(f\"{t.title} {t.topics} {t.locations_names} {t.locations_ids}\"), k=-1)"
   ]
  },
  {
   "cell_type": "code",
   "execution_count": 132,
   "metadata": {},
   "outputs": [
    {
     "data": {
      "text/plain": [
       "(('__label__science',), array([0.97157401]))"
      ]
     },
     "execution_count": 132,
     "metadata": {},
     "output_type": "execute_result"
    }
   ],
   "source": [
    "model.predict(nfx.remove_stopwords(f\"{t.title} {t.topics} {t.locations_names} {t.locations_ids}\"))"
   ]
  }
 ],
 "metadata": {
  "kernelspec": {
   "display_name": "Python 3",
   "language": "python",
   "name": "python3"
  },
  "language_info": {
   "codemirror_mode": {
    "name": "ipython",
    "version": 3
   },
   "file_extension": ".py",
   "mimetype": "text/x-python",
   "name": "python",
   "nbconvert_exporter": "python",
   "pygments_lexer": "ipython3",
   "version": "3.11.4"
  }
 },
 "nbformat": 4,
 "nbformat_minor": 2
}
