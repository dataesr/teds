{
 "cells": [
  {
   "cell_type": "code",
   "execution_count": 1,
   "metadata": {},
   "outputs": [],
   "source": [
    "import os\n",
    "import sys\n",
    "import pandas as pd\n",
    "import matplotlib.pyplot as plt\n",
    "import re\n",
    "\n",
    "module_path = os.path.abspath(os.path.join('..'))\n",
    "if module_path not in sys.path:\n",
    "    sys.path.append(module_path)\n",
    "\n",
    "import fasttext\n",
    "from sklearn.metrics import confusion_matrix\n",
    "from sklearn.model_selection import train_test_split\n",
    "from sklearn.ensemble import RandomForestClassifier \n",
    "import warnings\n",
    "from sklearn.metrics import accuracy_score, recall_score, f1_score, roc_auc_score, confusion_matrix\n",
    "import numpy as np\n",
    " \n",
    "warnings.filterwarnings(action='ignore')\n",
    "\n",
    "from code_utils.utils import preprocess,aplatir"
   ]
  },
  {
   "cell_type": "code",
   "execution_count": 2,
   "metadata": {},
   "outputs": [],
   "source": [
    "df_ipcc=pd.read_json(module_path+f'\\\\IPCC_bibliography\\\\AR6\\\\structured_data\\\\data_model_ipcc\\\\data_ipcc.jsonl', lines= True).dropna(subset=['year'])"
   ]
  },
  {
   "cell_type": "code",
   "execution_count": 3,
   "metadata": {},
   "outputs": [],
   "source": [
    "df_ipcc=df_ipcc.dropna(subset=['year'])"
   ]
  },
  {
   "cell_type": "code",
   "execution_count": 4,
   "metadata": {},
   "outputs": [],
   "source": [
    "df_not_ipcc=pd.read_json(module_path+f'\\\\IPCC_bibliography\\\\AR6\\\\structured_data\\\\data_model_ipcc\\\\data_not_ipcc.jsonl', lines= True)"
   ]
  },
  {
   "cell_type": "code",
   "execution_count": 5,
   "metadata": {},
   "outputs": [],
   "source": [
    "df_ipcc=df_ipcc[['year','doi', 'title','topics','locations_names','locations_ids']]"
   ]
  },
  {
   "cell_type": "code",
   "execution_count": 6,
   "metadata": {},
   "outputs": [],
   "source": [
    "df_not_ipcc=df_not_ipcc[['year','doi', 'title','topics','locations_names','locations_ids']]"
   ]
  },
  {
   "cell_type": "code",
   "execution_count": 7,
   "metadata": {},
   "outputs": [],
   "source": [
    "df_ipcc=df_ipcc.dropna(subset=['year','doi', 'title','topics','locations_names','locations_ids']).drop_duplicates(subset=['doi'])"
   ]
  },
  {
   "cell_type": "code",
   "execution_count": 8,
   "metadata": {},
   "outputs": [],
   "source": [
    "df_not_ipcc=df_not_ipcc.dropna(subset=['doi', 'title','topics','locations_names','locations_ids'])"
   ]
  },
  {
   "cell_type": "code",
   "execution_count": 9,
   "metadata": {},
   "outputs": [],
   "source": [
    "data_counts=pd.Series([int(x) for x in list(df_ipcc.year.dropna())]).value_counts()\n",
    "data_counts=pd.Series(dict(data_counts)).sort_index()"
   ]
  },
  {
   "cell_type": "markdown",
   "metadata": {},
   "source": [
    "themes visualisation "
   ]
  },
  {
   "cell_type": "code",
   "execution_count": null,
   "metadata": {},
   "outputs": [],
   "source": [
    "import matplotlib.pyplot as plt\n",
    "\n",
    "data_counts=pd.Series([int(x) for x in list(df_ipcc.year.dropna())]).value_counts()\n",
    "data_counts=pd.Series(dict(data_counts)).sort_index()\n",
    "data_counts=data_counts[-40:]\n",
    "plt.figure(figsize=(24, 10))\n",
    "color_dict = {\n",
    "'FR': '#BE2125'\n",
    "}\n",
    "ax = data_counts.plot(kind='bar', color=[color_dict.get(u, 'grey') for u in data_counts.index], width=0.8)\n",
    "\n",
    "for i, v in enumerate(data_counts):\n",
    "    ax.text(i, v + 0.1, f'{v}', ha='center', va='bottom', color='black', size=20)\n",
    "    \n",
    "plt.suptitle(f\"Distribution temporelle des publications du GIEC (top 40)\", size=25)\n",
    "plt.title('Source : OpenAlex\\nTraitement : Science et Ingénierie des Données, SIES', size=15, loc='right')\n",
    "\n",
    "ax.set_xticklabels(data_counts.index, rotation=45, fontsize=20)\n",
    "ax.set_yticklabels([f'{tick:.0f}' for tick in ax.get_yticks()], fontsize=20)\n",
    "ax.set_ylabel(f'nombre de publications', fontsize=15)\n",
    "ax.set_xlabel(f'années', fontsize=15)\n",
    "plt.show()"
   ]
  },
  {
   "cell_type": "code",
   "execution_count": null,
   "metadata": {},
   "outputs": [],
   "source": [
    "import matplotlib.pyplot as plt\n",
    "\n",
    "data_counts=pd.Series(aplatir(list(df_ipcc.topics))).value_counts()\n",
    "plt.figure(figsize=(14, 12))  \n",
    "ax = data_counts[:20].plot(kind='barh', color='grey')  \n",
    "\n",
    "for i, v in enumerate(data_counts[:20]):\n",
    "    ax.text(v + 0.1, i, f'{v}', ha='left', va='center', color='black', size=15)  \n",
    "\n",
    "plt.suptitle(\"Les principaux thèmes des publications du GIEC (top 20)\", size=20)\n",
    "plt.title('Source : OpenAlex \\nTraitement : Science et Ingénierie des Données, SIES', size=10, loc='right')\n",
    "\n",
    "yticklabels = [label[:match_list[0]] + '\\n ' + label[match_list[0]:] if (match_list := [match.start() for match in re.finditer('and', label)]) and len(match_list) > 0 else label for label in data_counts.index[:20]]\n",
    "ax.set_yticklabels(yticklabels, fontsize=15)  \n",
    "ax.set_xticklabels([f'{tick:.0f}' for tick in ax.get_xticks()], fontsize=12)  \n",
    "ax.set_xlabel('Nombre de publications', fontsize=15)  \n",
    "ax.set_ylabel('Thèmes', fontsize=15)  \n",
    "plt.gca().invert_yaxis()  \n",
    "plt.show()"
   ]
  },
  {
   "cell_type": "code",
   "execution_count": null,
   "metadata": {},
   "outputs": [],
   "source": [
    "import matplotlib.pyplot as plt\n",
    "\n",
    "data_counts=df_ipcc.locations_names.value_counts()\n",
    "plt.figure(figsize=(12, 10))  \n",
    "ax = data_counts[:20].plot(kind='barh', color='grey')  \n",
    "\n",
    "for i, v in enumerate(data_counts[:20]):\n",
    "    ax.text(v + 0.1, i, f'{v}', ha='left', va='center', color='black', size=15)  \n",
    "\n",
    "plt.suptitle(\"Les principaux journaux des publications du GIEC (top 20)\", size=20)\n",
    "plt.title('Source : OpenAlex \\nTraitement : Science et Ingénierie des Données, SIES', size=10, loc='right')\n",
    "\n",
    "yticklabels = [label[:match_list[1]] + '\\n ' + label[match_list[1]:] if (match_list := [match.start() for match in re.finditer('of', label)]) and len(match_list) > 1 else label for label in data_counts.index[:20]]\n",
    "ax.set_yticklabels(yticklabels, fontsize=15)  \n",
    "ax.set_xticklabels([f'{tick:.0f}' for tick in ax.get_xticks()], fontsize=12)  \n",
    "ax.set_xlabel('Nombre de publications', fontsize=15)  \n",
    "ax.set_ylabel('Journaux', fontsize=15)  \n",
    "plt.gca().invert_yaxis()  \n",
    "plt.show()"
   ]
  },
  {
   "cell_type": "markdown",
   "metadata": {},
   "source": [
    "building the learning dataset"
   ]
  },
  {
   "cell_type": "code",
   "execution_count": 10,
   "metadata": {},
   "outputs": [
    {
     "name": "stdout",
     "output_type": "stream",
     "text": [
      "48219 48219\n"
     ]
    }
   ],
   "source": [
    "print(len(df_ipcc),len(df_not_ipcc))"
   ]
  },
  {
   "cell_type": "code",
   "execution_count": 11,
   "metadata": {},
   "outputs": [],
   "source": [
    "df_ipcc['label']=1\n",
    "df_not_ipcc['label']=0"
   ]
  },
  {
   "cell_type": "code",
   "execution_count": 12,
   "metadata": {},
   "outputs": [],
   "source": [
    "df_all=pd.concat([df_ipcc,df_not_ipcc]).reset_index()\n",
    "del df_all['index']"
   ]
  },
  {
   "cell_type": "code",
   "execution_count": 13,
   "metadata": {},
   "outputs": [],
   "source": [
    "df_all.loc[:,'doi']=df_all.loc[:,'doi'].apply(lambda x: str(x).replace('https://doi.org/',''))"
   ]
  },
  {
   "cell_type": "code",
   "execution_count": 14,
   "metadata": {},
   "outputs": [],
   "source": [
    "df_all.loc[:,'title']=df_all.loc[:,'title'].apply(lambda x: str(x).replace('}','').replace('{',''))"
   ]
  },
  {
   "cell_type": "code",
   "execution_count": 15,
   "metadata": {},
   "outputs": [],
   "source": [
    "df_all.loc[:,'topics']=df_all.loc[:,'topics'].apply(lambda x: ' '.join(x))"
   ]
  },
  {
   "cell_type": "code",
   "execution_count": 16,
   "metadata": {},
   "outputs": [
    {
     "data": {
      "text/html": [
       "<div>\n",
       "<style scoped>\n",
       "    .dataframe tbody tr th:only-of-type {\n",
       "        vertical-align: middle;\n",
       "    }\n",
       "\n",
       "    .dataframe tbody tr th {\n",
       "        vertical-align: top;\n",
       "    }\n",
       "\n",
       "    .dataframe thead th {\n",
       "        text-align: right;\n",
       "    }\n",
       "</style>\n",
       "<table border=\"1\" class=\"dataframe\">\n",
       "  <thead>\n",
       "    <tr style=\"text-align: right;\">\n",
       "      <th></th>\n",
       "      <th>year</th>\n",
       "      <th>doi</th>\n",
       "      <th>title</th>\n",
       "      <th>topics</th>\n",
       "      <th>locations_names</th>\n",
       "      <th>locations_ids</th>\n",
       "      <th>label</th>\n",
       "    </tr>\n",
       "  </thead>\n",
       "  <tbody>\n",
       "    <tr>\n",
       "      <th>0</th>\n",
       "      <td>2019.0</td>\n",
       "      <td>10.3389/978-2-88963-118-6</td>\n",
       "      <td>OceanObs'19: An Ocean of Opportunity. Volume 1</td>\n",
       "      <td>Marine Biodiversity and Ecosystem Functioning</td>\n",
       "      <td>Frontiers research topics</td>\n",
       "      <td>1664-8714</td>\n",
       "      <td>1</td>\n",
       "    </tr>\n",
       "    <tr>\n",
       "      <th>1</th>\n",
       "      <td>1900.0</td>\n",
       "      <td>10.1002/andp.19003081208</td>\n",
       "      <td>\\\"Uber die Bedeutung des Wasserdampfes und der...</td>\n",
       "      <td>Stratospheric Chemistry and Climate Change Imp...</td>\n",
       "      <td>Annalen der Physik</td>\n",
       "      <td>0003-3804</td>\n",
       "      <td>1</td>\n",
       "    </tr>\n",
       "    <tr>\n",
       "      <th>2</th>\n",
       "      <td>1964.0</td>\n",
       "      <td>10.3402/tellusa.v16i1.8885</td>\n",
       "      <td>The parameters of atmospheric turbidity</td>\n",
       "      <td>Dynamics of Ocean Surface Waves and Wind Inter...</td>\n",
       "      <td>Tellus A</td>\n",
       "      <td>0280-6495</td>\n",
       "      <td>1</td>\n",
       "    </tr>\n",
       "    <tr>\n",
       "      <th>3</th>\n",
       "      <td>1929.0</td>\n",
       "      <td>10.1080/20014422.1929.11880498</td>\n",
       "      <td>On the Atmospheric Transmission of Sun Radiati...</td>\n",
       "      <td>Aerosols' Impact on Climate and Hydrological C...</td>\n",
       "      <td>Geografiska Annaler</td>\n",
       "      <td>1651-3215</td>\n",
       "      <td>1</td>\n",
       "    </tr>\n",
       "    <tr>\n",
       "      <th>4</th>\n",
       "      <td>2013.0</td>\n",
       "      <td>10.1002/rog.20022</td>\n",
       "      <td>A review of global ocean temperature observati...</td>\n",
       "      <td>Oceanic Modeling and Circulation Studies Globa...</td>\n",
       "      <td>Reviews of Geophysics</td>\n",
       "      <td>1944-9208</td>\n",
       "      <td>1</td>\n",
       "    </tr>\n",
       "    <tr>\n",
       "      <th>...</th>\n",
       "      <td>...</td>\n",
       "      <td>...</td>\n",
       "      <td>...</td>\n",
       "      <td>...</td>\n",
       "      <td>...</td>\n",
       "      <td>...</td>\n",
       "      <td>...</td>\n",
       "    </tr>\n",
       "    <tr>\n",
       "      <th>96433</th>\n",
       "      <td>1967.0</td>\n",
       "      <td>10.1007/bf02349230</td>\n",
       "      <td>The part played by physicians in the patient's...</td>\n",
       "      <td>Crisis Resolution and Home Treatment Teams in ...</td>\n",
       "      <td>Community mental health journal</td>\n",
       "      <td>0010-3853</td>\n",
       "      <td>0</td>\n",
       "    </tr>\n",
       "    <tr>\n",
       "      <th>96434</th>\n",
       "      <td>1966.0</td>\n",
       "      <td>10.1038/210701a0</td>\n",
       "      <td>Delayed Fluorescence of Chlorophyll In Vitro a...</td>\n",
       "      <td>Molecular Mechanisms of Photosynthesis and Pho...</td>\n",
       "      <td>Nature</td>\n",
       "      <td>0028-0836</td>\n",
       "      <td>0</td>\n",
       "    </tr>\n",
       "    <tr>\n",
       "      <th>96435</th>\n",
       "      <td>1966.0</td>\n",
       "      <td>10.1507/endocrine1927.42.8_880</td>\n",
       "      <td>子宮筋homogenateにおけるacetylcholineと組織蛋白との結合に及ぼすoxy...</td>\n",
       "      <td>Principles of Stereochemical Structure and Nom...</td>\n",
       "      <td>Nippon Naibunpi Gakkai zasshi/Nihon Naibunpi G...</td>\n",
       "      <td>0029-0661</td>\n",
       "      <td>0</td>\n",
       "    </tr>\n",
       "    <tr>\n",
       "      <th>96436</th>\n",
       "      <td>1686.0</td>\n",
       "      <td>10.1098/rstl.1686.0008</td>\n",
       "      <td>A voyage of the Emperour of China into the Eas...</td>\n",
       "      <td>Linguistic Studies in Turkic Languages Silk Ro...</td>\n",
       "      <td>Philosophical transactions of the Royal Societ...</td>\n",
       "      <td>0261-0523</td>\n",
       "      <td>0</td>\n",
       "    </tr>\n",
       "    <tr>\n",
       "      <th>96437</th>\n",
       "      <td>1925.0</td>\n",
       "      <td>10.5694/j.1326-5377.1925.tb39013.x</td>\n",
       "      <td>BIRTHDAY HONOURS</td>\n",
       "      <td>Management of Perennial Pasture Systems in Aus...</td>\n",
       "      <td>Medical journal of Australia</td>\n",
       "      <td>0025-729X</td>\n",
       "      <td>0</td>\n",
       "    </tr>\n",
       "  </tbody>\n",
       "</table>\n",
       "<p>96438 rows × 7 columns</p>\n",
       "</div>"
      ],
      "text/plain": [
       "         year                                 doi  \\\n",
       "0      2019.0           10.3389/978-2-88963-118-6   \n",
       "1      1900.0            10.1002/andp.19003081208   \n",
       "2      1964.0          10.3402/tellusa.v16i1.8885   \n",
       "3      1929.0      10.1080/20014422.1929.11880498   \n",
       "4      2013.0                   10.1002/rog.20022   \n",
       "...       ...                                 ...   \n",
       "96433  1967.0                  10.1007/bf02349230   \n",
       "96434  1966.0                    10.1038/210701a0   \n",
       "96435  1966.0      10.1507/endocrine1927.42.8_880   \n",
       "96436  1686.0              10.1098/rstl.1686.0008   \n",
       "96437  1925.0  10.5694/j.1326-5377.1925.tb39013.x   \n",
       "\n",
       "                                                   title  \\\n",
       "0         OceanObs'19: An Ocean of Opportunity. Volume 1   \n",
       "1      \\\"Uber die Bedeutung des Wasserdampfes und der...   \n",
       "2                The parameters of atmospheric turbidity   \n",
       "3      On the Atmospheric Transmission of Sun Radiati...   \n",
       "4      A review of global ocean temperature observati...   \n",
       "...                                                  ...   \n",
       "96433  The part played by physicians in the patient's...   \n",
       "96434  Delayed Fluorescence of Chlorophyll In Vitro a...   \n",
       "96435  子宮筋homogenateにおけるacetylcholineと組織蛋白との結合に及ぼすoxy...   \n",
       "96436  A voyage of the Emperour of China into the Eas...   \n",
       "96437                                   BIRTHDAY HONOURS   \n",
       "\n",
       "                                                  topics  \\\n",
       "0          Marine Biodiversity and Ecosystem Functioning   \n",
       "1      Stratospheric Chemistry and Climate Change Imp...   \n",
       "2      Dynamics of Ocean Surface Waves and Wind Inter...   \n",
       "3      Aerosols' Impact on Climate and Hydrological C...   \n",
       "4      Oceanic Modeling and Circulation Studies Globa...   \n",
       "...                                                  ...   \n",
       "96433  Crisis Resolution and Home Treatment Teams in ...   \n",
       "96434  Molecular Mechanisms of Photosynthesis and Pho...   \n",
       "96435  Principles of Stereochemical Structure and Nom...   \n",
       "96436  Linguistic Studies in Turkic Languages Silk Ro...   \n",
       "96437  Management of Perennial Pasture Systems in Aus...   \n",
       "\n",
       "                                         locations_names locations_ids  label  \n",
       "0                              Frontiers research topics     1664-8714      1  \n",
       "1                                     Annalen der Physik     0003-3804      1  \n",
       "2                                               Tellus A     0280-6495      1  \n",
       "3                                    Geografiska Annaler     1651-3215      1  \n",
       "4                                  Reviews of Geophysics     1944-9208      1  \n",
       "...                                                  ...           ...    ...  \n",
       "96433                    Community mental health journal     0010-3853      0  \n",
       "96434                                             Nature     0028-0836      0  \n",
       "96435  Nippon Naibunpi Gakkai zasshi/Nihon Naibunpi G...     0029-0661      0  \n",
       "96436  Philosophical transactions of the Royal Societ...     0261-0523      0  \n",
       "96437                       Medical journal of Australia     0025-729X      0  \n",
       "\n",
       "[96438 rows x 7 columns]"
      ]
     },
     "execution_count": 16,
     "metadata": {},
     "output_type": "execute_result"
    }
   ],
   "source": [
    "df_all"
   ]
  },
  {
   "cell_type": "code",
   "execution_count": 17,
   "metadata": {},
   "outputs": [],
   "source": [
    "df_all.to_json(module_path+f'\\\\IPCC_bibliography\\\\AR6\\\\structured_data\\\\data_model_ipcc\\\\data_model.json')"
   ]
  },
  {
   "cell_type": "code",
   "execution_count": 18,
   "metadata": {},
   "outputs": [
    {
     "data": {
      "text/plain": [
       "Index(['year', 'doi', 'title', 'topics', 'locations_names', 'locations_ids',\n",
       "       'label'],\n",
       "      dtype='object')"
      ]
     },
     "execution_count": 18,
     "metadata": {},
     "output_type": "execute_result"
    }
   ],
   "source": [
    "df_all.columns"
   ]
  },
  {
   "cell_type": "markdown",
   "metadata": {},
   "source": [
    "using fasttext"
   ]
  },
  {
   "cell_type": "code",
   "execution_count": 19,
   "metadata": {},
   "outputs": [],
   "source": [
    "df_all['label'] = '__label__' + df_all['label'].astype(str)\n",
    "df_all['category_description'] = df_all['label']+' '+df_all['title']+' '+df_all['topics']+' '+df_all['locations_names']+' '+df_all['locations_ids']"
   ]
  },
  {
   "cell_type": "code",
   "execution_count": 21,
   "metadata": {},
   "outputs": [],
   "source": [
    "def preprocess(text):\n",
    "    text = re.sub(r'[^\\w\\s\\']',' ', text)\n",
    "    text = re.sub(' +', ' ', text)\n",
    "    return text.strip().lower() "
   ]
  },
  {
   "cell_type": "code",
   "execution_count": 23,
   "metadata": {},
   "outputs": [],
   "source": [
    "df_all['category_description'] = df_all['category_description'].map(preprocess)"
   ]
  },
  {
   "cell_type": "code",
   "execution_count": 26,
   "metadata": {},
   "outputs": [],
   "source": [
    "train, test = train_test_split(df_all, test_size=0.2, random_state=42)"
   ]
  },
  {
   "cell_type": "code",
   "execution_count": 27,
   "metadata": {},
   "outputs": [
    {
     "data": {
      "text/plain": [
       "((77150, 8), (19288, 8))"
      ]
     },
     "execution_count": 27,
     "metadata": {},
     "output_type": "execute_result"
    }
   ],
   "source": [
    "train.shape, test.shape"
   ]
  },
  {
   "cell_type": "code",
   "execution_count": 28,
   "metadata": {},
   "outputs": [],
   "source": [
    "train.to_csv(\"teds.train\", columns=[\"category_description\"], index=False, header=False)\n",
    "test.to_csv(\"teds.test\", columns=[\"category_description\"], index=False, header=False)"
   ]
  },
  {
   "cell_type": "code",
   "execution_count": 29,
   "metadata": {},
   "outputs": [
    {
     "data": {
      "text/plain": [
       "(19286, 0.9589857928030696, 0.9589857928030696)"
      ]
     },
     "execution_count": 29,
     "metadata": {},
     "output_type": "execute_result"
    }
   ],
   "source": [
    "model = fasttext.train_supervised(input=\"teds.train\", epoch=25, lr=0.1)\n",
    "model.test(\"teds.test\")"
   ]
  },
  {
   "cell_type": "code",
   "execution_count": 33,
   "metadata": {},
   "outputs": [],
   "source": [
    "model.save_model(\"fasttext_model_teds.bin\")"
   ]
  },
  {
   "cell_type": "code",
   "execution_count": 34,
   "metadata": {},
   "outputs": [],
   "source": [
    "model = fasttext.load_model(\"fasttext_model_teds.bin\")"
   ]
  },
  {
   "cell_type": "code",
   "execution_count": 35,
   "metadata": {},
   "outputs": [],
   "source": [
    "test_data = pd.read_csv(\"teds.test\", header=None, names=[\"text\"])"
   ]
  },
  {
   "cell_type": "code",
   "execution_count": 37,
   "metadata": {},
   "outputs": [],
   "source": [
    "true_labels = []\n",
    "predicted_labels = []\n",
    "\n",
    "for line in test_data[\"text\"]:\n",
    "    label, text = line.split(' ', 1)\n",
    "    true_labels.append(label)\n",
    "    text = text.replace('\\n', '').strip()\n",
    "    predicted_label = model.predict(text)[0][0]  \n",
    "    predicted_labels.append(predicted_label)"
   ]
  },
  {
   "cell_type": "code",
   "execution_count": 38,
   "metadata": {},
   "outputs": [],
   "source": [
    "conf_matrix = confusion_matrix(true_labels, predicted_labels)"
   ]
  },
  {
   "cell_type": "code",
   "execution_count": 39,
   "metadata": {},
   "outputs": [
    {
     "data": {
      "text/plain": [
       "array([[9223,  371],\n",
       "       [ 420, 9274]], dtype=int64)"
      ]
     },
     "execution_count": 39,
     "metadata": {},
     "output_type": "execute_result"
    }
   ],
   "source": [
    "conf_matrix"
   ]
  },
  {
   "cell_type": "code",
   "execution_count": 40,
   "metadata": {},
   "outputs": [
    {
     "data": {
      "text/plain": [
       "0.9589900456242223"
      ]
     },
     "execution_count": 40,
     "metadata": {},
     "output_type": "execute_result"
    }
   ],
   "source": [
    "accuracy_score(true_labels, predicted_labels)"
   ]
  },
  {
   "cell_type": "code",
   "execution_count": 47,
   "metadata": {},
   "outputs": [
    {
     "data": {
      "text/plain": [
       "0.9589900456242223"
      ]
     },
     "execution_count": 47,
     "metadata": {},
     "output_type": "execute_result"
    }
   ],
   "source": [
    "recall_score(true_labels, predicted_labels, average=\"weighted\")"
   ]
  },
  {
   "cell_type": "code",
   "execution_count": 44,
   "metadata": {},
   "outputs": [
    {
     "data": {
      "text/plain": [
       "0.958990321100486"
      ]
     },
     "execution_count": 44,
     "metadata": {},
     "output_type": "execute_result"
    }
   ],
   "source": [
    "f1_score(true_labels, predicted_labels, average=\"weighted\")"
   ]
  }
 ],
 "metadata": {
  "kernelspec": {
   "display_name": "Python 3",
   "language": "python",
   "name": "python3"
  },
  "language_info": {
   "codemirror_mode": {
    "name": "ipython",
    "version": 3
   },
   "file_extension": ".py",
   "mimetype": "text/x-python",
   "name": "python",
   "nbconvert_exporter": "python",
   "pygments_lexer": "ipython3",
   "version": "3.11.4"
  }
 },
 "nbformat": 4,
 "nbformat_minor": 2
}
