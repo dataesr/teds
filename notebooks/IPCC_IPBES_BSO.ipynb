{
 "cells": [
  {
   "cell_type": "code",
   "execution_count": 1,
   "metadata": {},
   "outputs": [],
   "source": [
    "import os\n",
    "import sys\n",
    "import pandas as pd\n",
    "import matplotlib.pyplot as plt\n",
    "import json \n",
    "from dotenv import load_dotenv\n",
    "load_dotenv()\n",
    "from urllib import parse\n",
    "\n",
    "\n",
    "module_path = os.path.abspath(os.path.join('..'))\n",
    "if module_path not in sys.path:\n",
    "    sys.path.append(module_path)\n",
    "\n",
    "from code_utils.utils import type_score,get_year_ipcc,get_year_ipbes,get_countries,check_doi_glutton,normalize,aplatir,remove_too_long\n",
    "from code_utils.BSO import update_bso_publications,get_bso_publications\n",
    "from code_utils.pickle import load_cache"
   ]
  },
  {
   "cell_type": "code",
   "execution_count": null,
   "metadata": {},
   "outputs": [],
   "source": [
    "df_ipcc=pd.read_json(module_path+'\\\\IPCC_bibliography\\\\AR6\\\\structured_data\\\\data_ipcc_visualization.json')"
   ]
  },
  {
   "cell_type": "code",
   "execution_count": null,
   "metadata": {},
   "outputs": [],
   "source": [
    "pd.Series([list(pd.Series([x[i].get('wg') for i in range(len(x))]).drop_duplicates()) for x in list(df_ipcc.drop_duplicates(subset=['doi']).dropna(subset=['doi']).wg_chap)]).value_counts()"
   ]
  },
  {
   "cell_type": "code",
   "execution_count": null,
   "metadata": {},
   "outputs": [],
   "source": [
    "min([int(x) for x in list(df_ipcc.year_OA.drop_duplicates().dropna())])"
   ]
  },
  {
   "cell_type": "code",
   "execution_count": null,
   "metadata": {},
   "outputs": [],
   "source": [
    "df_ipcc.test_glutton.value_counts()"
   ]
  },
  {
   "cell_type": "code",
   "execution_count": null,
   "metadata": {},
   "outputs": [],
   "source": [
    "df_ipcc=df_ipcc.rename(columns={'wg_chap':'ipcc'})"
   ]
  },
  {
   "cell_type": "code",
   "execution_count": null,
   "metadata": {},
   "outputs": [],
   "source": [
    "df_ipcc.columns"
   ]
  },
  {
   "cell_type": "code",
   "execution_count": null,
   "metadata": {},
   "outputs": [],
   "source": [
    "df_ipcc_group=df_ipcc.groupby(by=['doi'], dropna=True).agg({'year': lambda x: list(x)[0],'rors': lambda x: list(x)[0],'authors_name': lambda x: list(x)[0], 'institutions_names': lambda x: list(x)[0], 'ipcc': lambda x: list(x)[0], 'countries': lambda x: list(x)[0], 'topics': lambda x: list(x)[0], 'freq':'sum'})\n",
    "df_ipcc_group=df_ipcc_group.reset_index()"
   ]
  },
  {
   "cell_type": "code",
   "execution_count": null,
   "metadata": {},
   "outputs": [],
   "source": [
    "df_ipcc_group.loc[:,'countries']=df_ipcc_group.loc[:,'countries'].apply(lambda x: None if x==['None'] else x)"
   ]
  },
  {
   "cell_type": "code",
   "execution_count": null,
   "metadata": {},
   "outputs": [],
   "source": [
    "len(df_ipcc_group.doi.drop_duplicates())==len(df_ipcc_group.doi)"
   ]
  },
  {
   "cell_type": "code",
   "execution_count": null,
   "metadata": {},
   "outputs": [],
   "source": [
    "df_ipbes=pd.read_json(module_path+'\\\\IPCC_bibliography\\\\AR6\\\\structured_data\\\\data_ipbes_visualization.json')"
   ]
  },
  {
   "cell_type": "code",
   "execution_count": null,
   "metadata": {},
   "outputs": [],
   "source": [
    "df_ipbes.columns"
   ]
  },
  {
   "cell_type": "code",
   "execution_count": null,
   "metadata": {},
   "outputs": [],
   "source": [
    "df_ipbes['ipbes']=df_ipbes.apply(lambda row: [{'chapter': str(x['tag']).replace('ipbes-global_chapter','')} for x in row['tags']], axis=1)"
   ]
  },
  {
   "cell_type": "code",
   "execution_count": null,
   "metadata": {},
   "outputs": [],
   "source": [
    "df_ipbes.countries.value_counts()"
   ]
  },
  {
   "cell_type": "code",
   "execution_count": null,
   "metadata": {},
   "outputs": [],
   "source": [
    "df_ipbes[df_ipbes.doi=='10.1016/j.cosust.2016.12.006'].countries[84]"
   ]
  },
  {
   "cell_type": "code",
   "execution_count": null,
   "metadata": {},
   "outputs": [],
   "source": [
    "df_ipbes_group=df_ipbes.groupby(by=['doi'], dropna=True).agg({'year': lambda x: list(x)[0],'rors': lambda x: list(x)[0],'authors_name': lambda x: list(x)[0], 'institutions_names': lambda x: list(x)[0],'ipbes': lambda x: list(x)[0], 'countries': lambda x: list(x)[0], 'topics': lambda x: list(x)[0]})\n",
    "df_ipbes_group=df_ipbes_group.reset_index()"
   ]
  },
  {
   "cell_type": "code",
   "execution_count": null,
   "metadata": {},
   "outputs": [],
   "source": [
    "df_ipbes_group[df_ipbes_group.doi=='10.1016/j.cosust.2016.12.006'].countries[909]"
   ]
  },
  {
   "cell_type": "code",
   "execution_count": null,
   "metadata": {},
   "outputs": [],
   "source": [
    "df_ipbes_group.loc[:,'countries']=df_ipbes_group.loc[:,'countries'].apply(lambda x: x[0])\n",
    "df_ipbes_group.loc[:,'countries']=df_ipbes_group.loc[:,'countries'].apply(lambda x: None if x==['None'] else x)"
   ]
  },
  {
   "cell_type": "code",
   "execution_count": null,
   "metadata": {},
   "outputs": [],
   "source": [
    "len(df_ipbes_group.doi.drop_duplicates())==len(df_ipbes_group.doi)"
   ]
  },
  {
   "cell_type": "code",
   "execution_count": null,
   "metadata": {},
   "outputs": [],
   "source": [
    "df_ipcc_ipbes=pd.merge(df_ipcc_group,df_ipbes_group, on='doi', how='outer')\n",
    "df_ipcc_ipbes=df_ipcc_ipbes[['doi', 'year_x', 'rors_x', 'authors_name_x', 'institutions_names_x',\n",
    "       'ipcc', 'countries_x', 'ipbes']].rename(columns={'year_x':'year', 'rors_x':'rors','authors_name_x':'authors_name','institutions_names_x':'institutions_names', 'countries_x':'countries'})"
   ]
  },
  {
   "cell_type": "code",
   "execution_count": null,
   "metadata": {},
   "outputs": [],
   "source": [
    "len(df_ipcc_ipbes.doi.drop_duplicates())==len(df_ipcc_ipbes.doi)"
   ]
  },
  {
   "cell_type": "code",
   "execution_count": null,
   "metadata": {},
   "outputs": [],
   "source": [
    "update_bso_publications()"
   ]
  },
  {
   "cell_type": "code",
   "execution_count": null,
   "metadata": {},
   "outputs": [],
   "source": [
    "bso=pd.DataFrame(get_bso_publications())"
   ]
  },
  {
   "cell_type": "code",
   "execution_count": null,
   "metadata": {},
   "outputs": [],
   "source": [
    "df_bso=bso.transpose().reset_index()"
   ]
  },
  {
   "cell_type": "code",
   "execution_count": null,
   "metadata": {},
   "outputs": [],
   "source": [
    "df_bso.columns=['doi','rors', 'bso_local_affiliations']"
   ]
  },
  {
   "cell_type": "code",
   "execution_count": null,
   "metadata": {},
   "outputs": [],
   "source": [
    "df_bso"
   ]
  },
  {
   "cell_type": "code",
   "execution_count": null,
   "metadata": {},
   "outputs": [],
   "source": [
    "df_ipcc_ipbes_bso=pd.merge(df_ipcc_ipbes,df_bso,on='doi',how='left').rename(columns={'rors_x':'rors'})"
   ]
  },
  {
   "cell_type": "code",
   "execution_count": null,
   "metadata": {},
   "outputs": [],
   "source": [
    "len(df_ipcc_ipbes_bso.doi.drop_duplicates())==len(df_ipcc_ipbes_bso.doi)"
   ]
  },
  {
   "cell_type": "code",
   "execution_count": null,
   "metadata": {},
   "outputs": [],
   "source": [
    "del df_ipcc_ipbes_bso['rors_y']"
   ]
  },
  {
   "cell_type": "code",
   "execution_count": null,
   "metadata": {},
   "outputs": [],
   "source": [
    "df_ipcc_ipbes_bso.columns"
   ]
  },
  {
   "cell_type": "code",
   "execution_count": null,
   "metadata": {},
   "outputs": [],
   "source": [
    "df_iso=pd.read_json(module_path+'\\\\IPCC_bibliography\\\\AR6\\\\structured_data\\\\iso_countries.json')"
   ]
  },
  {
   "cell_type": "code",
   "execution_count": null,
   "metadata": {},
   "outputs": [],
   "source": [
    "df_iso"
   ]
  },
  {
   "cell_type": "code",
   "execution_count": null,
   "metadata": {},
   "outputs": [],
   "source": [
    "dict_iso={}\n",
    "for i,row in df_iso.iterrows():\n",
    "    dict_iso[row['code']]=row['name']\n",
    "dict_iso['CW']='Curaçao'\n",
    "dict_iso['RS']='Serbia'\n",
    "dict_iso['ME']='Montenegro'\n",
    "dict_iso['XK']='Kosovo'\n",
    "dict_iso['SS']='South Soudan'\n",
    "dict_iso['MF']='Saint Martin'"
   ]
  },
  {
   "cell_type": "code",
   "execution_count": null,
   "metadata": {},
   "outputs": [],
   "source": [
    "df_ipcc_ipbes_bso.loc[:,'countries']=df_ipcc_ipbes_bso.loc[:,'countries'].apply(lambda x: [dict_iso[y] for y in x] if (x!=None)&(x!=[])&(isinstance(x,float)==False) else None)"
   ]
  },
  {
   "cell_type": "code",
   "execution_count": null,
   "metadata": {},
   "outputs": [],
   "source": [
    "df_brevet_doi=pd.read_json('brevet_doi.json')"
   ]
  },
  {
   "cell_type": "code",
   "execution_count": null,
   "metadata": {},
   "outputs": [],
   "source": [
    "df_brevet_doi"
   ]
  },
  {
   "cell_type": "code",
   "execution_count": null,
   "metadata": {},
   "outputs": [],
   "source": [
    "df_ipcc_ipbes_bso_brevet=pd.merge(df_ipcc_ipbes_bso,df_brevet_doi, on='doi', how='left')"
   ]
  },
  {
   "cell_type": "code",
   "execution_count": null,
   "metadata": {},
   "outputs": [],
   "source": [
    "len(df_ipcc_ipbes_bso_brevet.doi.drop_duplicates())==len(df_ipcc_ipbes_bso_brevet.doi)"
   ]
  },
  {
   "cell_type": "code",
   "execution_count": null,
   "metadata": {},
   "outputs": [],
   "source": [
    "df_ipcc_ipbes_bso_brevet.doi.value_counts()[:10]"
   ]
  },
  {
   "cell_type": "code",
   "execution_count": null,
   "metadata": {},
   "outputs": [],
   "source": [
    "cached_openalex_data = load_cache({},module_path+'\\\\IPCC_bibliography\\\\AR6\\\\structured_data\\\\cached_openalex_data.pkl')\n",
    "cached_openalex_data_ipbes = load_cache({},module_path+'\\\\IPCC_bibliography\\\\AR6\\\\structured_data\\\\cached_openalex_data_ipbes.pkl')\n",
    "cached_openalex_data.update(cached_openalex_data_ipbes)\n",
    "df_cache=pd.DataFrame({'doi':list(cached_openalex_data.keys()),'OpenAlex_data':list(cached_openalex_data.values())})"
   ]
  },
  {
   "cell_type": "code",
   "execution_count": null,
   "metadata": {},
   "outputs": [],
   "source": [
    "df_cache"
   ]
  },
  {
   "cell_type": "code",
   "execution_count": null,
   "metadata": {},
   "outputs": [],
   "source": [
    "df_ipcc_ipbes_bso=pd.merge(df_ipcc_ipbes_bso,df_cache, on='doi', how='inner')"
   ]
  },
  {
   "cell_type": "code",
   "execution_count": null,
   "metadata": {},
   "outputs": [],
   "source": [
    "len(df_ipcc_ipbes_bso.doi.drop_duplicates())==len(df_ipcc_ipbes_bso.doi)"
   ]
  },
  {
   "cell_type": "code",
   "execution_count": null,
   "metadata": {},
   "outputs": [],
   "source": [
    "dict_doi_bso=[]"
   ]
  },
  {
   "cell_type": "code",
   "execution_count": null,
   "metadata": {},
   "outputs": [],
   "source": [
    "for i,row in df_ipcc_ipbes_bso.iterrows():\n",
    "    dict_row=row.to_dict()\n",
    "    dict_row2={k:v for k,v in list(dict_row.items()) if ((str(v)!='nan')&(str(v)!='NaN')&(str(v)!='None')&(str(v)!='x'))}\n",
    "    dict_doi_bso.append(dict_row2)"
   ]
  },
  {
   "cell_type": "code",
   "execution_count": null,
   "metadata": {},
   "outputs": [],
   "source": [
    "len(dict_doi_bso)"
   ]
  },
  {
   "cell_type": "code",
   "execution_count": null,
   "metadata": {},
   "outputs": [],
   "source": [
    "json_lines='\\n'.join(json.dumps(entry) for entry in dict_doi_bso)"
   ]
  },
  {
   "cell_type": "code",
   "execution_count": null,
   "metadata": {},
   "outputs": [],
   "source": [
    "with open(module_path+'\\\\IPCC_bibliography\\\\AR6\\\\structured_data\\\\bso_ipcc_ipbes2.jsonl', 'w') as f:\n",
    "      f.write(json_lines)"
   ]
  },
  {
   "cell_type": "markdown",
   "metadata": {},
   "source": [
    "elastic"
   ]
  },
  {
   "cell_type": "code",
   "execution_count": null,
   "metadata": {},
   "outputs": [],
   "source": [
    "dd = pd.read_json(module_path+'\\\\IPCC_bibliography\\\\AR6\\\\structured_data\\\\bso_ipcc_ipbes2.jsonl', lines=True)"
   ]
  },
  {
   "cell_type": "code",
   "execution_count": null,
   "metadata": {},
   "outputs": [],
   "source": [
    "dd.ipbes.value_counts()"
   ]
  },
  {
   "cell_type": "code",
   "execution_count": null,
   "metadata": {},
   "outputs": [],
   "source": [
    "dd2=dd.dropna(subset=['ipcc']).drop_duplicates(subset=['doi'])"
   ]
  },
  {
   "cell_type": "code",
   "execution_count": null,
   "metadata": {},
   "outputs": [],
   "source": [
    "len(dd2.loc[(dd2['ipcc'].apply(lambda wg_chap: any('1' in x.get('wg', '') for x in wg_chap)))])"
   ]
  },
  {
   "cell_type": "code",
   "execution_count": null,
   "metadata": {},
   "outputs": [],
   "source": [
    "current_dict = dd.to_dict(orient='records')"
   ]
  },
  {
   "cell_type": "code",
   "execution_count": null,
   "metadata": {},
   "outputs": [],
   "source": [
    "list_bso_ipcc_ipbes=[]\n",
    "for i in range(len(dd)):\n",
    "    if len(current_dict[i]['OpenAlex_data'])==1:\n",
    "        openalex_info = current_dict[i]['OpenAlex_data'][0]\n",
    "    else:\n",
    "        openalex_info = current_dict[i]['OpenAlex_data'][1]\n",
    "    del current_dict[i]['OpenAlex_data']\n",
    "    for f in openalex_info:\n",
    "        current_dict[i]['openalex_'+f] = openalex_info[f]  "
   ]
  },
  {
   "cell_type": "code",
   "execution_count": null,
   "metadata": {},
   "outputs": [],
   "source": [
    "df_elastic_input=pd.DataFrame(current_dict)"
   ]
  },
  {
   "cell_type": "code",
   "execution_count": null,
   "metadata": {},
   "outputs": [],
   "source": [
    "df_elastic_input.loc[:,'openalex_concepts']=df_elastic_input.loc[:,'openalex_concepts'].apply(type_score)"
   ]
  },
  {
   "cell_type": "code",
   "execution_count": null,
   "metadata": {},
   "outputs": [],
   "source": [
    "del df_elastic_input['openalex_abstract_inverted_index']\n",
    "del df_elastic_input['openalex_primary_topic']"
   ]
  },
  {
   "cell_type": "code",
   "execution_count": null,
   "metadata": {},
   "outputs": [],
   "source": [
    "df_elastic_input=df_elastic_input[['doi', 'year', 'rors', 'ipcc','authors_name', 'institutions_names',\n",
    "       'countries', 'ipbes', 'openalex_authorships','openalex_topics']]"
   ]
  },
  {
   "cell_type": "code",
   "execution_count": null,
   "metadata": {},
   "outputs": [],
   "source": [
    "dict_doi_bso=[]\n",
    "for i,row in df_elastic_input.iterrows():\n",
    "    dict_row=row.to_dict()\n",
    "    dict_row2={k:v for k,v in list(dict_row.items()) if ((str(v)!='nan')&(str(v)!='NaN')&(str(v)!='None')&(str(v)!='x'))}\n",
    "    #dict_row3=remove_too_long(dict_row2)\n",
    "    dict_doi_bso.append(dict_row2)"
   ]
  },
  {
   "cell_type": "code",
   "execution_count": null,
   "metadata": {},
   "outputs": [],
   "source": [
    "json_lines='\\n'.join(json.dumps(entry) for entry in dict_doi_bso)\n",
    "with open('bso_ipcc_ipbes_elastic.jsonl', 'w') as f:\n",
    "      f.write(json_lines)"
   ]
  },
  {
   "cell_type": "code",
   "execution_count": 2,
   "metadata": {},
   "outputs": [],
   "source": [
    "df=pd.read_json('bso_ipcc_ipbes_elastic.jsonl', lines=True)"
   ]
  },
  {
   "cell_type": "code",
   "execution_count": 3,
   "metadata": {},
   "outputs": [],
   "source": [
    "df.loc[:,'rors']=df.loc[:,'rors'].apply(lambda x: [[]] if x==[None] else x)\n",
    "df.loc[:,'authors_name']=df.loc[:,'authors_name'].apply(lambda x: [[]] if x==[None] else x)\n",
    "df.loc[:,'institutions_names']=df.loc[:,'institutions_names'].apply(lambda x: [[]] if x==[None] else x)"
   ]
  },
  {
   "cell_type": "code",
   "execution_count": 4,
   "metadata": {},
   "outputs": [],
   "source": [
    "df.loc[pd.isna(df['rors'])==False,'rors']=df.loc[pd.isna(df['rors'])==False,'rors'].apply(lambda x: [j.replace('https://ror.org/','') for j in list(pd.Series(aplatir([list(y[i].keys()) for y in x for i in range(len(y))])).drop_duplicates())])"
   ]
  },
  {
   "cell_type": "code",
   "execution_count": 5,
   "metadata": {},
   "outputs": [],
   "source": [
    "df.loc[pd.isna(df['institutions_names'])==False,'institutions_names']=df.loc[pd.isna(df['institutions_names'])==False,'institutions_names'].apply(lambda x: list(pd.Series(aplatir([list(y[i].keys()) for y in x for i in range(len(y))])).drop_duplicates()))"
   ]
  },
  {
   "cell_type": "code",
   "execution_count": 8,
   "metadata": {},
   "outputs": [],
   "source": [
    "df.loc[pd.isna(df['authors_name'])==False,'authors_name']=df.loc[pd.isna(df['authors_name'])==False,'authors_name'].apply(lambda x: list(pd.Series(aplatir([list(y.keys()) for y in x if isinstance(y,dict)])).drop_duplicates()))"
   ]
  },
  {
   "cell_type": "code",
   "execution_count": 10,
   "metadata": {},
   "outputs": [
    {
     "data": {
      "text/html": [
       "<div>\n",
       "<style scoped>\n",
       "    .dataframe tbody tr th:only-of-type {\n",
       "        vertical-align: middle;\n",
       "    }\n",
       "\n",
       "    .dataframe tbody tr th {\n",
       "        vertical-align: top;\n",
       "    }\n",
       "\n",
       "    .dataframe thead th {\n",
       "        text-align: right;\n",
       "    }\n",
       "</style>\n",
       "<table border=\"1\" class=\"dataframe\">\n",
       "  <thead>\n",
       "    <tr style=\"text-align: right;\">\n",
       "      <th></th>\n",
       "      <th>doi</th>\n",
       "      <th>rors</th>\n",
       "      <th>authors_name</th>\n",
       "      <th>institutions_names</th>\n",
       "      <th>ipcc</th>\n",
       "      <th>ipbes</th>\n",
       "    </tr>\n",
       "  </thead>\n",
       "  <tbody>\n",
       "    <tr>\n",
       "      <th>0</th>\n",
       "      <td>10.1001/jama.2012.108940</td>\n",
       "      <td>[05cf8a891, 00y4zzh67, 04mrb6c22]</td>\n",
       "      <td>[Tia Powell, Dan Hanfling, Lawrence O. Gostin]</td>\n",
       "      <td>[Albert Einstein College of Medicine, George W...</td>\n",
       "      <td>[{'name': 'wg2_chap_06', 'wg': '2', 'chap': 6}]</td>\n",
       "      <td>NaN</td>\n",
       "    </tr>\n",
       "    <tr>\n",
       "      <th>1</th>\n",
       "      <td>10.1001/jama.2014.13186</td>\n",
       "      <td>[03e3qgk42, 01y2jtd41, 00cvxb145, 00a0jsq62]</td>\n",
       "      <td>[Jonathan A. Patz, Howard Frumkin, Tracey Holl...</td>\n",
       "      <td>[University of Wisconsin Health, University of...</td>\n",
       "      <td>[{'name': 'wg2_chap_07', 'wg': '2', 'chap': 7}]</td>\n",
       "      <td>NaN</td>\n",
       "    </tr>\n",
       "    <tr>\n",
       "      <th>2</th>\n",
       "      <td>10.1001/jama.2014.15715</td>\n",
       "      <td>[03vek6s52, 04b6nzv94]</td>\n",
       "      <td>[Jennifer F. Bobb, Ziad Obermeyer, Yun Wang, F...</td>\n",
       "      <td>[Harvard University, Brigham and Women's Hospi...</td>\n",
       "      <td>[{'name': 'wg2_chap_07', 'wg': '2', 'chap': 7}]</td>\n",
       "      <td>NaN</td>\n",
       "    </tr>\n",
       "    <tr>\n",
       "      <th>3</th>\n",
       "      <td>10.1001/jama.2020.1097</td>\n",
       "      <td>[05vzafd60, 02e5dc168]</td>\n",
       "      <td>[Alexandra Phelan, Rebecca Katz, Lawrence O. G...</td>\n",
       "      <td>[Georgetown University, Center for Global Health]</td>\n",
       "      <td>[{'name': 'wg2_chap_07', 'wg': '2', 'chap': 7}]</td>\n",
       "      <td>NaN</td>\n",
       "    </tr>\n",
       "    <tr>\n",
       "      <th>4</th>\n",
       "      <td>10.1001/jama.2020.15398</td>\n",
       "      <td>[02dgjyy92, 023kj5402, 05qwgg493]</td>\n",
       "      <td>[James M. Shultz, Craig Fugate, Sandro Galea]</td>\n",
       "      <td>[University of Miami, Craig Technologies (Unit...</td>\n",
       "      <td>[{'name': 'wg2_chap_04', 'wg': '2', 'chap': 4}...</td>\n",
       "      <td>NaN</td>\n",
       "    </tr>\n",
       "    <tr>\n",
       "      <th>...</th>\n",
       "      <td>...</td>\n",
       "      <td>...</td>\n",
       "      <td>...</td>\n",
       "      <td>...</td>\n",
       "      <td>...</td>\n",
       "      <td>...</td>\n",
       "    </tr>\n",
       "    <tr>\n",
       "      <th>58235</th>\n",
       "      <td>10.7770/cuhso-v27n1-art1134</td>\n",
       "      <td>NaN</td>\n",
       "      <td>NaN</td>\n",
       "      <td>NaN</td>\n",
       "      <td>NaN</td>\n",
       "      <td>[{'chapter': '3'}]</td>\n",
       "    </tr>\n",
       "    <tr>\n",
       "      <th>58236</th>\n",
       "      <td>10.7930/j0x63jt0</td>\n",
       "      <td>NaN</td>\n",
       "      <td>NaN</td>\n",
       "      <td>NaN</td>\n",
       "      <td>NaN</td>\n",
       "      <td>[{'chapter': 'ipbes-global_glossary'}]</td>\n",
       "    </tr>\n",
       "    <tr>\n",
       "      <th>58237</th>\n",
       "      <td>10.9755/ejfa.v25i1.15376</td>\n",
       "      <td>NaN</td>\n",
       "      <td>NaN</td>\n",
       "      <td>NaN</td>\n",
       "      <td>NaN</td>\n",
       "      <td>[{'chapter': '3'}]</td>\n",
       "    </tr>\n",
       "    <tr>\n",
       "      <th>58238</th>\n",
       "      <td>10.9758/cpn.2015.13.3.239</td>\n",
       "      <td>NaN</td>\n",
       "      <td>NaN</td>\n",
       "      <td>NaN</td>\n",
       "      <td>NaN</td>\n",
       "      <td>[{'chapter': '2.3_ncp'}]</td>\n",
       "    </tr>\n",
       "    <tr>\n",
       "      <th>58239</th>\n",
       "      <td>10.9783/9780812295948-002</td>\n",
       "      <td>NaN</td>\n",
       "      <td>NaN</td>\n",
       "      <td>NaN</td>\n",
       "      <td>NaN</td>\n",
       "      <td>[{'chapter': '3'}]</td>\n",
       "    </tr>\n",
       "  </tbody>\n",
       "</table>\n",
       "<p>58240 rows × 6 columns</p>\n",
       "</div>"
      ],
      "text/plain": [
       "                               doi  \\\n",
       "0         10.1001/jama.2012.108940   \n",
       "1          10.1001/jama.2014.13186   \n",
       "2          10.1001/jama.2014.15715   \n",
       "3           10.1001/jama.2020.1097   \n",
       "4          10.1001/jama.2020.15398   \n",
       "...                            ...   \n",
       "58235  10.7770/cuhso-v27n1-art1134   \n",
       "58236             10.7930/j0x63jt0   \n",
       "58237     10.9755/ejfa.v25i1.15376   \n",
       "58238    10.9758/cpn.2015.13.3.239   \n",
       "58239    10.9783/9780812295948-002   \n",
       "\n",
       "                                               rors  \\\n",
       "0                 [05cf8a891, 00y4zzh67, 04mrb6c22]   \n",
       "1      [03e3qgk42, 01y2jtd41, 00cvxb145, 00a0jsq62]   \n",
       "2                            [03vek6s52, 04b6nzv94]   \n",
       "3                            [05vzafd60, 02e5dc168]   \n",
       "4                 [02dgjyy92, 023kj5402, 05qwgg493]   \n",
       "...                                             ...   \n",
       "58235                                           NaN   \n",
       "58236                                           NaN   \n",
       "58237                                           NaN   \n",
       "58238                                           NaN   \n",
       "58239                                           NaN   \n",
       "\n",
       "                                            authors_name  \\\n",
       "0         [Tia Powell, Dan Hanfling, Lawrence O. Gostin]   \n",
       "1      [Jonathan A. Patz, Howard Frumkin, Tracey Holl...   \n",
       "2      [Jennifer F. Bobb, Ziad Obermeyer, Yun Wang, F...   \n",
       "3      [Alexandra Phelan, Rebecca Katz, Lawrence O. G...   \n",
       "4          [James M. Shultz, Craig Fugate, Sandro Galea]   \n",
       "...                                                  ...   \n",
       "58235                                                NaN   \n",
       "58236                                                NaN   \n",
       "58237                                                NaN   \n",
       "58238                                                NaN   \n",
       "58239                                                NaN   \n",
       "\n",
       "                                      institutions_names  \\\n",
       "0      [Albert Einstein College of Medicine, George W...   \n",
       "1      [University of Wisconsin Health, University of...   \n",
       "2      [Harvard University, Brigham and Women's Hospi...   \n",
       "3      [Georgetown University, Center for Global Health]   \n",
       "4      [University of Miami, Craig Technologies (Unit...   \n",
       "...                                                  ...   \n",
       "58235                                                NaN   \n",
       "58236                                                NaN   \n",
       "58237                                                NaN   \n",
       "58238                                                NaN   \n",
       "58239                                                NaN   \n",
       "\n",
       "                                                    ipcc  \\\n",
       "0        [{'name': 'wg2_chap_06', 'wg': '2', 'chap': 6}]   \n",
       "1        [{'name': 'wg2_chap_07', 'wg': '2', 'chap': 7}]   \n",
       "2        [{'name': 'wg2_chap_07', 'wg': '2', 'chap': 7}]   \n",
       "3        [{'name': 'wg2_chap_07', 'wg': '2', 'chap': 7}]   \n",
       "4      [{'name': 'wg2_chap_04', 'wg': '2', 'chap': 4}...   \n",
       "...                                                  ...   \n",
       "58235                                                NaN   \n",
       "58236                                                NaN   \n",
       "58237                                                NaN   \n",
       "58238                                                NaN   \n",
       "58239                                                NaN   \n",
       "\n",
       "                                        ipbes  \n",
       "0                                         NaN  \n",
       "1                                         NaN  \n",
       "2                                         NaN  \n",
       "3                                         NaN  \n",
       "4                                         NaN  \n",
       "...                                       ...  \n",
       "58235                      [{'chapter': '3'}]  \n",
       "58236  [{'chapter': 'ipbes-global_glossary'}]  \n",
       "58237                      [{'chapter': '3'}]  \n",
       "58238                [{'chapter': '2.3_ncp'}]  \n",
       "58239                      [{'chapter': '3'}]  \n",
       "\n",
       "[58240 rows x 6 columns]"
      ]
     },
     "execution_count": 10,
     "metadata": {},
     "output_type": "execute_result"
    }
   ],
   "source": [
    "df[['doi','rors','authors_name','institutions_names','ipcc','ipbes']]"
   ]
  },
  {
   "cell_type": "code",
   "execution_count": null,
   "metadata": {},
   "outputs": [],
   "source": [
    "x=df.authors_name[0]"
   ]
  },
  {
   "cell_type": "code",
   "execution_count": 7,
   "metadata": {},
   "outputs": [
    {
     "data": {
      "text/plain": [
       "authors_name\n",
       "[[]]                                                                                                                                                                                                                                                         2\n",
       "[{'Tia Powell': ['US']}, {'Dan Hanfling': ['US']}, {'Lawrence O. Gostin': []}]                                                                                                                                                                               1\n",
       "[{'C. Adam Schlosser': ['US']}, {'Kenneth Strzepek': ['US']}, {'Xiang Gao': ['US']}, {'Charles Fant': ['US']}, {'Élodie Blanc': ['US']}, {'Sergey Paltsev': ['US']}, {'Henry D. Jacoby': ['US']}, {'John M. Reilly': ['US']}, {'Arthur Gueneau': ['US']}]    1\n",
       "[{'Geoffrey Gebbie': ['US']}]                                                                                                                                                                                                                                1\n",
       "[{'John J. Kennedy': ['GB']}]                                                                                                                                                                                                                                1\n",
       "                                                                                                                                                                                                                                                            ..\n",
       "[{'Patrick G. Timko': ['GB', 'US']}, {'Brian K. Arbic': ['US']}, {'James G. Richman': ['US']}, {'Robert B. Scott': ['FR', 'US']}, {'E. Joseph Metzger': ['US']}, {'Alan J. Wallcraft': ['US']}]                                                              1\n",
       "[{'Peter D. Bromirski': ['US']}, {'Daniel R. Cayan': ['US']}, {'J. Helly': ['US']}, {'Paul A. Wittmann': ['US']}]                                                                                                                                            1\n",
       "[{'Eugene J. Murphy': ['GB']}, {'Andrew Clarke': ['GB']}, {'Nerilie J. Abram': ['AU', 'GB']}, {'John Turner': ['GB']}]                                                                                                                                       1\n",
       "[{'Guojian Wang': ['AU', 'CN']}, {'Wenju Cai': ['AU', 'CN']}, {'Ariaan Purich': ['AU']}]                                                                                                                                                                     1\n",
       "[{'Nobuhito Mori': ['JP']}, {'Masaaki Kato': ['JP']}, {'Sooyoul Kim': ['JP']}, {'Hajime Mase': ['JP']}, {'Yoko Shibutani': ['JP']}, {'Tetsuya Takemi': ['JP']}, {'Kazuhisa Tsuboki': ['JP']}, {'Tomohiro Yasuda': ['JP']}]                                   1\n",
       "Name: count, Length: 199, dtype: int64"
      ]
     },
     "execution_count": 7,
     "metadata": {},
     "output_type": "execute_result"
    }
   ],
   "source": [
    "df.authors_name[:200].value_counts()"
   ]
  }
 ],
 "metadata": {
  "kernelspec": {
   "display_name": "tf",
   "language": "python",
   "name": "python3"
  },
  "language_info": {
   "codemirror_mode": {
    "name": "ipython",
    "version": 3
   },
   "file_extension": ".py",
   "mimetype": "text/x-python",
   "name": "python",
   "nbconvert_exporter": "python",
   "pygments_lexer": "ipython3",
   "version": "3.9.10"
  }
 },
 "nbformat": 4,
 "nbformat_minor": 2
}
