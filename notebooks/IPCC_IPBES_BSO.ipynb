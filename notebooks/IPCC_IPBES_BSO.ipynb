{
 "cells": [
  {
   "cell_type": "code",
   "execution_count": 1,
   "metadata": {},
   "outputs": [],
   "source": [
    "import os\n",
    "import sys\n",
    "import pandas as pd\n",
    "import matplotlib.pyplot as plt\n",
    "import json \n",
    "from dotenv import load_dotenv\n",
    "load_dotenv()\n",
    "from urllib import parse\n",
    "\n",
    "\n",
    "module_path = os.path.abspath(os.path.join('..'))\n",
    "if module_path not in sys.path:\n",
    "    sys.path.append(module_path)\n",
    "\n",
    "from code_utils.utils import remove_too_long,type_score\n",
    "from code_utils.BSO import update_bso_publications,get_bso_publications\n",
    "from code_utils.pickle import load_cache\n"
   ]
  },
  {
   "cell_type": "code",
   "execution_count": 2,
   "metadata": {},
   "outputs": [],
   "source": [
    "df_ipcc=pd.read_json(module_path+'\\\\IPCC_bibliography\\\\AR6\\\\structured_data\\\\data_ipcc_visualization.json')"
   ]
  },
  {
   "cell_type": "code",
   "execution_count": 3,
   "metadata": {},
   "outputs": [],
   "source": [
    "df_ipcc['ipcc']=df_ipcc.apply(lambda row: {'wg': row['wg'].replace('wg',''), 'chapter': int(row['chap'][-2:].replace('_',''))}, axis=1)"
   ]
  },
  {
   "cell_type": "code",
   "execution_count": 4,
   "metadata": {},
   "outputs": [],
   "source": [
    "df_ipcc_group=df_ipcc.groupby(by=['doi'], dropna=True).agg({'ipcc': lambda x: list(x), 'countries': lambda x: list(x), 'freq': 'sum'})\n",
    "df_ipcc_group=df_ipcc_group.reset_index()"
   ]
  },
  {
   "cell_type": "code",
   "execution_count": 5,
   "metadata": {},
   "outputs": [],
   "source": [
    "df_ipcc_group.loc[:,'countries']=df_ipcc_group.loc[:,'countries'].apply(lambda x: x[0])\n",
    "df_ipcc_group.loc[:,'countries']=df_ipcc_group.loc[:,'countries'].apply(lambda x: None if x==['None'] else x)"
   ]
  },
  {
   "cell_type": "code",
   "execution_count": 6,
   "metadata": {},
   "outputs": [],
   "source": [
    "df_ipbes=pd.read_json(module_path+'\\\\IPCC_bibliography\\\\AR6\\\\structured_data\\\\data_ipbes_visualization.json')"
   ]
  },
  {
   "cell_type": "code",
   "execution_count": 7,
   "metadata": {},
   "outputs": [],
   "source": [
    "df_ipbes['ipbes']=df_ipbes.apply(lambda row: {'chapter': [x.replace('chap_','') for x in row['chap']]}, axis=1)"
   ]
  },
  {
   "cell_type": "code",
   "execution_count": 8,
   "metadata": {},
   "outputs": [],
   "source": [
    "df_ipbes_group=df_ipbes.groupby(by=['doi'], dropna=True).agg({'ipbes': lambda x: list(x), 'countries': lambda x: list(x), 'freq': 'sum'})\n",
    "df_ipbes_group=df_ipbes_group.reset_index()"
   ]
  },
  {
   "cell_type": "code",
   "execution_count": 9,
   "metadata": {},
   "outputs": [],
   "source": [
    "df_ipbes_group.loc[:,'countries']=df_ipbes_group.loc[:,'countries'].apply(lambda x: x[0])\n",
    "df_ipbes_group.loc[:,'countries']=df_ipbes_group.loc[:,'countries'].apply(lambda x: None if x==['None'] else x)"
   ]
  },
  {
   "cell_type": "code",
   "execution_count": 10,
   "metadata": {},
   "outputs": [
    {
     "data": {
      "text/html": [
       "<div>\n",
       "<style scoped>\n",
       "    .dataframe tbody tr th:only-of-type {\n",
       "        vertical-align: middle;\n",
       "    }\n",
       "\n",
       "    .dataframe tbody tr th {\n",
       "        vertical-align: top;\n",
       "    }\n",
       "\n",
       "    .dataframe thead th {\n",
       "        text-align: right;\n",
       "    }\n",
       "</style>\n",
       "<table border=\"1\" class=\"dataframe\">\n",
       "  <thead>\n",
       "    <tr style=\"text-align: right;\">\n",
       "      <th></th>\n",
       "      <th>doi</th>\n",
       "      <th>ipbes</th>\n",
       "      <th>countries</th>\n",
       "      <th>freq</th>\n",
       "    </tr>\n",
       "  </thead>\n",
       "  <tbody>\n",
       "    <tr>\n",
       "      <th>0</th>\n",
       "      <td>10.1001/archpedi.161.7.718</td>\n",
       "      <td>[{'chapter': ['5']}]</td>\n",
       "      <td>None</td>\n",
       "      <td>1</td>\n",
       "    </tr>\n",
       "    <tr>\n",
       "      <th>1</th>\n",
       "      <td>10.1002/(sici)1099-0771(199612)9:4&lt;231::aid-bd...</td>\n",
       "      <td>[{'chapter': ['4']}]</td>\n",
       "      <td>[US]</td>\n",
       "      <td>1</td>\n",
       "    </tr>\n",
       "    <tr>\n",
       "      <th>2</th>\n",
       "      <td>10.1002/16-0188.1</td>\n",
       "      <td>[{'chapter': ['2.1', '5']}, {'chapter': ['2.1'...</td>\n",
       "      <td>[US]</td>\n",
       "      <td>2</td>\n",
       "    </tr>\n",
       "    <tr>\n",
       "      <th>3</th>\n",
       "      <td>10.1002/2013ef000188</td>\n",
       "      <td>[{'chapter': ['2.1']}]</td>\n",
       "      <td>[FR]</td>\n",
       "      <td>1</td>\n",
       "    </tr>\n",
       "    <tr>\n",
       "      <th>4</th>\n",
       "      <td>10.1002/2013gb004654</td>\n",
       "      <td>[{'chapter': ['2.2']}]</td>\n",
       "      <td>[DE]</td>\n",
       "      <td>1</td>\n",
       "    </tr>\n",
       "    <tr>\n",
       "      <th>...</th>\n",
       "      <td>...</td>\n",
       "      <td>...</td>\n",
       "      <td>...</td>\n",
       "      <td>...</td>\n",
       "    </tr>\n",
       "    <tr>\n",
       "      <th>6575</th>\n",
       "      <td>10.7930/j0x63jt0</td>\n",
       "      <td>[{'chapter': ['glossary']}]</td>\n",
       "      <td>None</td>\n",
       "      <td>1</td>\n",
       "    </tr>\n",
       "    <tr>\n",
       "      <th>6576</th>\n",
       "      <td>10.9755/ejfa.v25i1.15376</td>\n",
       "      <td>[{'chapter': ['3']}]</td>\n",
       "      <td>[US]</td>\n",
       "      <td>1</td>\n",
       "    </tr>\n",
       "    <tr>\n",
       "      <th>6577</th>\n",
       "      <td>10.9758/cpn.2015.13.3.239</td>\n",
       "      <td>[{'chapter': ['2.3']}]</td>\n",
       "      <td>[TR]</td>\n",
       "      <td>1</td>\n",
       "    </tr>\n",
       "    <tr>\n",
       "      <th>6578</th>\n",
       "      <td>10.9774/gleaf.978-1-907643-06-4_5</td>\n",
       "      <td>[{'chapter': ['2.1']}]</td>\n",
       "      <td>None</td>\n",
       "      <td>1</td>\n",
       "    </tr>\n",
       "    <tr>\n",
       "      <th>6579</th>\n",
       "      <td>10.9783/9780812295948-002</td>\n",
       "      <td>[{'chapter': ['3']}]</td>\n",
       "      <td>None</td>\n",
       "      <td>1</td>\n",
       "    </tr>\n",
       "  </tbody>\n",
       "</table>\n",
       "<p>6580 rows × 4 columns</p>\n",
       "</div>"
      ],
      "text/plain": [
       "                                                    doi  \\\n",
       "0                            10.1001/archpedi.161.7.718   \n",
       "1     10.1002/(sici)1099-0771(199612)9:4<231::aid-bd...   \n",
       "2                                     10.1002/16-0188.1   \n",
       "3                                  10.1002/2013ef000188   \n",
       "4                                  10.1002/2013gb004654   \n",
       "...                                                 ...   \n",
       "6575                                   10.7930/j0x63jt0   \n",
       "6576                           10.9755/ejfa.v25i1.15376   \n",
       "6577                          10.9758/cpn.2015.13.3.239   \n",
       "6578                  10.9774/gleaf.978-1-907643-06-4_5   \n",
       "6579                          10.9783/9780812295948-002   \n",
       "\n",
       "                                                  ipbes countries  freq  \n",
       "0                                  [{'chapter': ['5']}]      None     1  \n",
       "1                                  [{'chapter': ['4']}]      [US]     1  \n",
       "2     [{'chapter': ['2.1', '5']}, {'chapter': ['2.1'...      [US]     2  \n",
       "3                                [{'chapter': ['2.1']}]      [FR]     1  \n",
       "4                                [{'chapter': ['2.2']}]      [DE]     1  \n",
       "...                                                 ...       ...   ...  \n",
       "6575                        [{'chapter': ['glossary']}]      None     1  \n",
       "6576                               [{'chapter': ['3']}]      [US]     1  \n",
       "6577                             [{'chapter': ['2.3']}]      [TR]     1  \n",
       "6578                             [{'chapter': ['2.1']}]      None     1  \n",
       "6579                               [{'chapter': ['3']}]      None     1  \n",
       "\n",
       "[6580 rows x 4 columns]"
      ]
     },
     "execution_count": 10,
     "metadata": {},
     "output_type": "execute_result"
    }
   ],
   "source": [
    "df_ipbes_group"
   ]
  },
  {
   "cell_type": "code",
   "execution_count": 11,
   "metadata": {},
   "outputs": [
    {
     "data": {
      "text/html": [
       "<div>\n",
       "<style scoped>\n",
       "    .dataframe tbody tr th:only-of-type {\n",
       "        vertical-align: middle;\n",
       "    }\n",
       "\n",
       "    .dataframe tbody tr th {\n",
       "        vertical-align: top;\n",
       "    }\n",
       "\n",
       "    .dataframe thead th {\n",
       "        text-align: right;\n",
       "    }\n",
       "</style>\n",
       "<table border=\"1\" class=\"dataframe\">\n",
       "  <thead>\n",
       "    <tr style=\"text-align: right;\">\n",
       "      <th></th>\n",
       "      <th>doi</th>\n",
       "      <th>ipcc</th>\n",
       "      <th>countries</th>\n",
       "      <th>freq</th>\n",
       "    </tr>\n",
       "  </thead>\n",
       "  <tbody>\n",
       "    <tr>\n",
       "      <th>0</th>\n",
       "      <td>10.1001/jama.2012.108940</td>\n",
       "      <td>[{'wg': '2', 'chapter': 6}]</td>\n",
       "      <td>[US]</td>\n",
       "      <td>1</td>\n",
       "    </tr>\n",
       "    <tr>\n",
       "      <th>1</th>\n",
       "      <td>10.1001/jama.2014.13186</td>\n",
       "      <td>[{'wg': '2', 'chapter': 7}]</td>\n",
       "      <td>[US, GB]</td>\n",
       "      <td>1</td>\n",
       "    </tr>\n",
       "    <tr>\n",
       "      <th>2</th>\n",
       "      <td>10.1001/jama.2014.15715</td>\n",
       "      <td>[{'wg': '2', 'chapter': 7}]</td>\n",
       "      <td>[US]</td>\n",
       "      <td>1</td>\n",
       "    </tr>\n",
       "    <tr>\n",
       "      <th>3</th>\n",
       "      <td>10.1001/jama.2020.1097</td>\n",
       "      <td>[{'wg': '2', 'chapter': 7}]</td>\n",
       "      <td>[US]</td>\n",
       "      <td>1</td>\n",
       "    </tr>\n",
       "    <tr>\n",
       "      <th>4</th>\n",
       "      <td>10.1001/jama.2020.15398</td>\n",
       "      <td>[{'wg': '2', 'chapter': 4}, {'wg': '2', 'chapt...</td>\n",
       "      <td>[US]</td>\n",
       "      <td>3</td>\n",
       "    </tr>\n",
       "    <tr>\n",
       "      <th>...</th>\n",
       "      <td>...</td>\n",
       "      <td>...</td>\n",
       "      <td>...</td>\n",
       "      <td>...</td>\n",
       "    </tr>\n",
       "    <tr>\n",
       "      <th>53107</th>\n",
       "      <td>10.9753/icce.v36.risk.59</td>\n",
       "      <td>[{'wg': '2', 'chapter': 16}]</td>\n",
       "      <td>[US, GB, JP]</td>\n",
       "      <td>1</td>\n",
       "    </tr>\n",
       "    <tr>\n",
       "      <th>53108</th>\n",
       "      <td>10.9770/jesi.2017.4.4(13)</td>\n",
       "      <td>[{'wg': '2', 'chapter': 18}]</td>\n",
       "      <td>None</td>\n",
       "      <td>1</td>\n",
       "    </tr>\n",
       "    <tr>\n",
       "      <th>53109</th>\n",
       "      <td>10.9774/gleaf.3062.2001.wi.00007</td>\n",
       "      <td>[{'wg': '2', 'chapter': 4}]</td>\n",
       "      <td>None</td>\n",
       "      <td>1</td>\n",
       "    </tr>\n",
       "    <tr>\n",
       "      <th>53110</th>\n",
       "      <td>10.9774/gleaf.4700.2015.ju.00009</td>\n",
       "      <td>[{'wg': '2', 'chapter': 18}]</td>\n",
       "      <td>None</td>\n",
       "      <td>1</td>\n",
       "    </tr>\n",
       "    <tr>\n",
       "      <th>53111</th>\n",
       "      <td>10.9778/cmajo.20170047</td>\n",
       "      <td>[{'wg': '2', 'chapter': 14}]</td>\n",
       "      <td>[CA]</td>\n",
       "      <td>1</td>\n",
       "    </tr>\n",
       "  </tbody>\n",
       "</table>\n",
       "<p>53112 rows × 4 columns</p>\n",
       "</div>"
      ],
      "text/plain": [
       "                                    doi  \\\n",
       "0              10.1001/jama.2012.108940   \n",
       "1               10.1001/jama.2014.13186   \n",
       "2               10.1001/jama.2014.15715   \n",
       "3                10.1001/jama.2020.1097   \n",
       "4               10.1001/jama.2020.15398   \n",
       "...                                 ...   \n",
       "53107          10.9753/icce.v36.risk.59   \n",
       "53108         10.9770/jesi.2017.4.4(13)   \n",
       "53109  10.9774/gleaf.3062.2001.wi.00007   \n",
       "53110  10.9774/gleaf.4700.2015.ju.00009   \n",
       "53111            10.9778/cmajo.20170047   \n",
       "\n",
       "                                                    ipcc     countries  freq  \n",
       "0                            [{'wg': '2', 'chapter': 6}]          [US]     1  \n",
       "1                            [{'wg': '2', 'chapter': 7}]      [US, GB]     1  \n",
       "2                            [{'wg': '2', 'chapter': 7}]          [US]     1  \n",
       "3                            [{'wg': '2', 'chapter': 7}]          [US]     1  \n",
       "4      [{'wg': '2', 'chapter': 4}, {'wg': '2', 'chapt...          [US]     3  \n",
       "...                                                  ...           ...   ...  \n",
       "53107                       [{'wg': '2', 'chapter': 16}]  [US, GB, JP]     1  \n",
       "53108                       [{'wg': '2', 'chapter': 18}]          None     1  \n",
       "53109                        [{'wg': '2', 'chapter': 4}]          None     1  \n",
       "53110                       [{'wg': '2', 'chapter': 18}]          None     1  \n",
       "53111                       [{'wg': '2', 'chapter': 14}]          [CA]     1  \n",
       "\n",
       "[53112 rows x 4 columns]"
      ]
     },
     "execution_count": 11,
     "metadata": {},
     "output_type": "execute_result"
    }
   ],
   "source": [
    "df_ipcc_group"
   ]
  },
  {
   "cell_type": "code",
   "execution_count": 12,
   "metadata": {},
   "outputs": [
    {
     "data": {
      "text/html": [
       "<div>\n",
       "<style scoped>\n",
       "    .dataframe tbody tr th:only-of-type {\n",
       "        vertical-align: middle;\n",
       "    }\n",
       "\n",
       "    .dataframe tbody tr th {\n",
       "        vertical-align: top;\n",
       "    }\n",
       "\n",
       "    .dataframe thead th {\n",
       "        text-align: right;\n",
       "    }\n",
       "</style>\n",
       "<table border=\"1\" class=\"dataframe\">\n",
       "  <thead>\n",
       "    <tr style=\"text-align: right;\">\n",
       "      <th></th>\n",
       "      <th>doi</th>\n",
       "      <th>ipcc</th>\n",
       "      <th>countries_x</th>\n",
       "      <th>freq_x</th>\n",
       "      <th>ipbes</th>\n",
       "      <th>countries_y</th>\n",
       "      <th>freq_y</th>\n",
       "    </tr>\n",
       "  </thead>\n",
       "  <tbody>\n",
       "    <tr>\n",
       "      <th>0</th>\n",
       "      <td>10.1001/jama.2012.108940</td>\n",
       "      <td>[{'wg': '2', 'chapter': 6}]</td>\n",
       "      <td>[US]</td>\n",
       "      <td>1.0</td>\n",
       "      <td>NaN</td>\n",
       "      <td>NaN</td>\n",
       "      <td>NaN</td>\n",
       "    </tr>\n",
       "    <tr>\n",
       "      <th>1</th>\n",
       "      <td>10.1001/jama.2014.13186</td>\n",
       "      <td>[{'wg': '2', 'chapter': 7}]</td>\n",
       "      <td>[US, GB]</td>\n",
       "      <td>1.0</td>\n",
       "      <td>NaN</td>\n",
       "      <td>NaN</td>\n",
       "      <td>NaN</td>\n",
       "    </tr>\n",
       "    <tr>\n",
       "      <th>2</th>\n",
       "      <td>10.1001/jama.2014.15715</td>\n",
       "      <td>[{'wg': '2', 'chapter': 7}]</td>\n",
       "      <td>[US]</td>\n",
       "      <td>1.0</td>\n",
       "      <td>NaN</td>\n",
       "      <td>NaN</td>\n",
       "      <td>NaN</td>\n",
       "    </tr>\n",
       "    <tr>\n",
       "      <th>3</th>\n",
       "      <td>10.1001/jama.2020.1097</td>\n",
       "      <td>[{'wg': '2', 'chapter': 7}]</td>\n",
       "      <td>[US]</td>\n",
       "      <td>1.0</td>\n",
       "      <td>NaN</td>\n",
       "      <td>NaN</td>\n",
       "      <td>NaN</td>\n",
       "    </tr>\n",
       "    <tr>\n",
       "      <th>4</th>\n",
       "      <td>10.1001/jama.2020.15398</td>\n",
       "      <td>[{'wg': '2', 'chapter': 4}, {'wg': '2', 'chapt...</td>\n",
       "      <td>[US]</td>\n",
       "      <td>3.0</td>\n",
       "      <td>NaN</td>\n",
       "      <td>NaN</td>\n",
       "      <td>NaN</td>\n",
       "    </tr>\n",
       "    <tr>\n",
       "      <th>...</th>\n",
       "      <td>...</td>\n",
       "      <td>...</td>\n",
       "      <td>...</td>\n",
       "      <td>...</td>\n",
       "      <td>...</td>\n",
       "      <td>...</td>\n",
       "      <td>...</td>\n",
       "    </tr>\n",
       "    <tr>\n",
       "      <th>58515</th>\n",
       "      <td>10.7930/j0x63jt0</td>\n",
       "      <td>NaN</td>\n",
       "      <td>NaN</td>\n",
       "      <td>NaN</td>\n",
       "      <td>[{'chapter': ['glossary']}]</td>\n",
       "      <td>None</td>\n",
       "      <td>1.0</td>\n",
       "    </tr>\n",
       "    <tr>\n",
       "      <th>58516</th>\n",
       "      <td>10.9755/ejfa.v25i1.15376</td>\n",
       "      <td>NaN</td>\n",
       "      <td>NaN</td>\n",
       "      <td>NaN</td>\n",
       "      <td>[{'chapter': ['3']}]</td>\n",
       "      <td>[US]</td>\n",
       "      <td>1.0</td>\n",
       "    </tr>\n",
       "    <tr>\n",
       "      <th>58517</th>\n",
       "      <td>10.9758/cpn.2015.13.3.239</td>\n",
       "      <td>NaN</td>\n",
       "      <td>NaN</td>\n",
       "      <td>NaN</td>\n",
       "      <td>[{'chapter': ['2.3']}]</td>\n",
       "      <td>[TR]</td>\n",
       "      <td>1.0</td>\n",
       "    </tr>\n",
       "    <tr>\n",
       "      <th>58518</th>\n",
       "      <td>10.9774/gleaf.978-1-907643-06-4_5</td>\n",
       "      <td>NaN</td>\n",
       "      <td>NaN</td>\n",
       "      <td>NaN</td>\n",
       "      <td>[{'chapter': ['2.1']}]</td>\n",
       "      <td>None</td>\n",
       "      <td>1.0</td>\n",
       "    </tr>\n",
       "    <tr>\n",
       "      <th>58519</th>\n",
       "      <td>10.9783/9780812295948-002</td>\n",
       "      <td>NaN</td>\n",
       "      <td>NaN</td>\n",
       "      <td>NaN</td>\n",
       "      <td>[{'chapter': ['3']}]</td>\n",
       "      <td>None</td>\n",
       "      <td>1.0</td>\n",
       "    </tr>\n",
       "  </tbody>\n",
       "</table>\n",
       "<p>58520 rows × 7 columns</p>\n",
       "</div>"
      ],
      "text/plain": [
       "                                     doi  \\\n",
       "0               10.1001/jama.2012.108940   \n",
       "1                10.1001/jama.2014.13186   \n",
       "2                10.1001/jama.2014.15715   \n",
       "3                 10.1001/jama.2020.1097   \n",
       "4                10.1001/jama.2020.15398   \n",
       "...                                  ...   \n",
       "58515                   10.7930/j0x63jt0   \n",
       "58516           10.9755/ejfa.v25i1.15376   \n",
       "58517          10.9758/cpn.2015.13.3.239   \n",
       "58518  10.9774/gleaf.978-1-907643-06-4_5   \n",
       "58519          10.9783/9780812295948-002   \n",
       "\n",
       "                                                    ipcc countries_x  freq_x  \\\n",
       "0                            [{'wg': '2', 'chapter': 6}]        [US]     1.0   \n",
       "1                            [{'wg': '2', 'chapter': 7}]    [US, GB]     1.0   \n",
       "2                            [{'wg': '2', 'chapter': 7}]        [US]     1.0   \n",
       "3                            [{'wg': '2', 'chapter': 7}]        [US]     1.0   \n",
       "4      [{'wg': '2', 'chapter': 4}, {'wg': '2', 'chapt...        [US]     3.0   \n",
       "...                                                  ...         ...     ...   \n",
       "58515                                                NaN         NaN     NaN   \n",
       "58516                                                NaN         NaN     NaN   \n",
       "58517                                                NaN         NaN     NaN   \n",
       "58518                                                NaN         NaN     NaN   \n",
       "58519                                                NaN         NaN     NaN   \n",
       "\n",
       "                             ipbes countries_y  freq_y  \n",
       "0                              NaN         NaN     NaN  \n",
       "1                              NaN         NaN     NaN  \n",
       "2                              NaN         NaN     NaN  \n",
       "3                              NaN         NaN     NaN  \n",
       "4                              NaN         NaN     NaN  \n",
       "...                            ...         ...     ...  \n",
       "58515  [{'chapter': ['glossary']}]        None     1.0  \n",
       "58516         [{'chapter': ['3']}]        [US]     1.0  \n",
       "58517       [{'chapter': ['2.3']}]        [TR]     1.0  \n",
       "58518       [{'chapter': ['2.1']}]        None     1.0  \n",
       "58519         [{'chapter': ['3']}]        None     1.0  \n",
       "\n",
       "[58520 rows x 7 columns]"
      ]
     },
     "execution_count": 12,
     "metadata": {},
     "output_type": "execute_result"
    }
   ],
   "source": [
    "df_ipcc_ipbes=pd.merge(df_ipcc_group,df_ipbes_group, on='doi', how='outer')\n",
    "df_ipcc_ipbes"
   ]
  },
  {
   "cell_type": "code",
   "execution_count": 13,
   "metadata": {},
   "outputs": [
    {
     "name": "stdout",
     "output_type": "stream",
     "text": [
      "2024-02-21 17:18:55,120 | code_utils.BSO | DEBUG | update bso publications files\n"
     ]
    },
    {
     "name": "stderr",
     "output_type": "stream",
     "text": [
      "DEBUG:code_utils.BSO:update bso publications files\n",
      "c:\\Users\\haallat\\Documents\\teds\\code_utils\\BSO.py:34: DtypeWarning: Columns (17,18,21,22,23,24,25,27,28,34,35,36,37,38,39,40,41) have mixed types. Specify dtype option on import or set low_memory=False.\n",
      "  df_bso = pd.read_csv('https://storage.gra.cloud.ovh.net/v1/AUTH_32c5d10cb0fe4519b957064a111717e3/bso_dump/bso-publications-latest.csv.gz', sep=';')\n"
     ]
    },
    {
     "name": "stdout",
     "output_type": "stream",
     "text": [
      "2024-02-21 17:21:37,360 | code_utils.BSO | DEBUG | writing 1810971 dois info from bso publications\n"
     ]
    },
    {
     "name": "stderr",
     "output_type": "stream",
     "text": [
      "DEBUG:code_utils.BSO:writing 1810971 dois info from bso publications\n"
     ]
    }
   ],
   "source": [
    "update_bso_publications()"
   ]
  },
  {
   "cell_type": "code",
   "execution_count": 14,
   "metadata": {},
   "outputs": [],
   "source": [
    "bso=pd.DataFrame(get_bso_publications())"
   ]
  },
  {
   "cell_type": "code",
   "execution_count": 15,
   "metadata": {},
   "outputs": [],
   "source": [
    "df_bso=bso.transpose().reset_index()"
   ]
  },
  {
   "cell_type": "code",
   "execution_count": 16,
   "metadata": {},
   "outputs": [],
   "source": [
    "df_bso.columns=['doi','rors', 'bso_local_affiliations']"
   ]
  },
  {
   "cell_type": "code",
   "execution_count": 17,
   "metadata": {},
   "outputs": [
    {
     "data": {
      "text/html": [
       "<div>\n",
       "<style scoped>\n",
       "    .dataframe tbody tr th:only-of-type {\n",
       "        vertical-align: middle;\n",
       "    }\n",
       "\n",
       "    .dataframe tbody tr th {\n",
       "        vertical-align: top;\n",
       "    }\n",
       "\n",
       "    .dataframe thead th {\n",
       "        text-align: right;\n",
       "    }\n",
       "</style>\n",
       "<table border=\"1\" class=\"dataframe\">\n",
       "  <thead>\n",
       "    <tr style=\"text-align: right;\">\n",
       "      <th></th>\n",
       "      <th>doi</th>\n",
       "      <th>rors</th>\n",
       "      <th>bso_local_affiliations</th>\n",
       "    </tr>\n",
       "  </thead>\n",
       "  <tbody>\n",
       "    <tr>\n",
       "      <th>0</th>\n",
       "      <td>10.1109/ntms.2018.8328751</td>\n",
       "      <td>[00e96v939]</td>\n",
       "      <td>[199119751]</td>\n",
       "    </tr>\n",
       "    <tr>\n",
       "      <th>1</th>\n",
       "      <td>10.1504/ijaac.2018.10010855</td>\n",
       "      <td>[00e96v939]</td>\n",
       "      <td>[199119751]</td>\n",
       "    </tr>\n",
       "    <tr>\n",
       "      <th>2</th>\n",
       "      <td>10.2139/ssrn.3544866</td>\n",
       "      <td>[00e96v939]</td>\n",
       "      <td>[199119751]</td>\n",
       "    </tr>\n",
       "    <tr>\n",
       "      <th>3</th>\n",
       "      <td>10.1201/9781003026686</td>\n",
       "      <td>[00e96v939]</td>\n",
       "      <td>[199119751]</td>\n",
       "    </tr>\n",
       "    <tr>\n",
       "      <th>4</th>\n",
       "      <td>10.23919/acc.2018.8431168</td>\n",
       "      <td>[00e96v939]</td>\n",
       "      <td>[199119751]</td>\n",
       "    </tr>\n",
       "    <tr>\n",
       "      <th>...</th>\n",
       "      <td>...</td>\n",
       "      <td>...</td>\n",
       "      <td>...</td>\n",
       "    </tr>\n",
       "    <tr>\n",
       "      <th>1810966</th>\n",
       "      <td>10.1101/2021.02.05.429917</td>\n",
       "      <td>[]</td>\n",
       "      <td>[]</td>\n",
       "    </tr>\n",
       "    <tr>\n",
       "      <th>1810967</th>\n",
       "      <td>10.1101/2021.04.23.441180</td>\n",
       "      <td>[003vg9w96, 03xjwb503]</td>\n",
       "      <td>[180070039, 130002850FULL, sde, gs-biosphera, ...</td>\n",
       "    </tr>\n",
       "    <tr>\n",
       "      <th>1810968</th>\n",
       "      <td>10.1101/2020.04.15.044065</td>\n",
       "      <td>[]</td>\n",
       "      <td>[]</td>\n",
       "    </tr>\n",
       "    <tr>\n",
       "      <th>1810969</th>\n",
       "      <td>10.1364/optica.397172</td>\n",
       "      <td>[02en5vm52]</td>\n",
       "      <td>[180089013, 130023385]</td>\n",
       "    </tr>\n",
       "    <tr>\n",
       "      <th>1810970</th>\n",
       "      <td>10.1128/jvi.00912-21</td>\n",
       "      <td>[03mkjjy25, 04zmssz18, 05f82e368, 02vjkv261, 0...</td>\n",
       "      <td>[197819444, 130008121, 0755976N, 180036048, 77...</td>\n",
       "    </tr>\n",
       "  </tbody>\n",
       "</table>\n",
       "<p>1810971 rows × 3 columns</p>\n",
       "</div>"
      ],
      "text/plain": [
       "                                 doi  \\\n",
       "0          10.1109/ntms.2018.8328751   \n",
       "1        10.1504/ijaac.2018.10010855   \n",
       "2               10.2139/ssrn.3544866   \n",
       "3              10.1201/9781003026686   \n",
       "4          10.23919/acc.2018.8431168   \n",
       "...                              ...   \n",
       "1810966    10.1101/2021.02.05.429917   \n",
       "1810967    10.1101/2021.04.23.441180   \n",
       "1810968    10.1101/2020.04.15.044065   \n",
       "1810969        10.1364/optica.397172   \n",
       "1810970         10.1128/jvi.00912-21   \n",
       "\n",
       "                                                      rors  \\\n",
       "0                                              [00e96v939]   \n",
       "1                                              [00e96v939]   \n",
       "2                                              [00e96v939]   \n",
       "3                                              [00e96v939]   \n",
       "4                                              [00e96v939]   \n",
       "...                                                    ...   \n",
       "1810966                                                 []   \n",
       "1810967                             [003vg9w96, 03xjwb503]   \n",
       "1810968                                                 []   \n",
       "1810969                                        [02en5vm52]   \n",
       "1810970  [03mkjjy25, 04zmssz18, 05f82e368, 02vjkv261, 0...   \n",
       "\n",
       "                                    bso_local_affiliations  \n",
       "0                                              [199119751]  \n",
       "1                                              [199119751]  \n",
       "2                                              [199119751]  \n",
       "3                                              [199119751]  \n",
       "4                                              [199119751]  \n",
       "...                                                    ...  \n",
       "1810966                                                 []  \n",
       "1810967  [180070039, 130002850FULL, sde, gs-biosphera, ...  \n",
       "1810968                                                 []  \n",
       "1810969                             [180089013, 130023385]  \n",
       "1810970  [197819444, 130008121, 0755976N, 180036048, 77...  \n",
       "\n",
       "[1810971 rows x 3 columns]"
      ]
     },
     "execution_count": 17,
     "metadata": {},
     "output_type": "execute_result"
    }
   ],
   "source": [
    "df_bso"
   ]
  },
  {
   "cell_type": "code",
   "execution_count": 18,
   "metadata": {},
   "outputs": [],
   "source": [
    "df_ipcc_ipbes_bso=pd.merge(df_ipcc_ipbes,df_bso,on='doi',how='left')"
   ]
  },
  {
   "cell_type": "code",
   "execution_count": 19,
   "metadata": {},
   "outputs": [],
   "source": [
    "def get_countries(row):\n",
    "    if (isinstance(row.countries_x,list)==False)&(isinstance(row.countries_y,list)==False):\n",
    "        return None\n",
    "    elif (isinstance(row.countries_x,list))&(isinstance(row.countries_y,list)==False):\n",
    "        return row.countries_x\n",
    "    elif (isinstance(row.countries_x,list)==False)&(isinstance(row.countries_y,list)):\n",
    "        return row.countries_y\n",
    "    else:\n",
    "        return row.countries_x"
   ]
  },
  {
   "cell_type": "code",
   "execution_count": 20,
   "metadata": {},
   "outputs": [],
   "source": [
    "df_ipcc_ipbes_bso['countries']=df_ipcc_ipbes_bso.apply(lambda row: get_countries(row),axis=1)"
   ]
  },
  {
   "cell_type": "code",
   "execution_count": 21,
   "metadata": {},
   "outputs": [],
   "source": [
    "df_ipcc_ipbes_bso=df_ipcc_ipbes_bso[['doi', 'ipcc', 'ipbes', 'countries', 'rors', 'bso_local_affiliations']]"
   ]
  },
  {
   "cell_type": "code",
   "execution_count": 22,
   "metadata": {},
   "outputs": [
    {
     "name": "stdout",
     "output_type": "stream",
     "text": [
      "53358 data in cached openalex data\n",
      "6608 data in cached openalex data\n"
     ]
    }
   ],
   "source": [
    "cached_openalex_data = load_cache({},module_path+'\\\\IPCC_bibliography\\\\AR6\\\\structured_data\\\\cached_openalex_data.pkl')\n",
    "cached_openalex_data_ipbes = load_cache({},module_path+'\\\\IPCC_bibliography\\\\AR6\\\\structured_data\\\\cached_openalex_data_ipbes.pkl')\n",
    "cached_openalex_data.update(cached_openalex_data_ipbes)\n",
    "df_cache=pd.DataFrame({'doi':list(cached_openalex_data.keys()),'OpenAlex_data':list(cached_openalex_data.values())})"
   ]
  },
  {
   "cell_type": "code",
   "execution_count": 23,
   "metadata": {},
   "outputs": [
    {
     "data": {
      "text/html": [
       "<div>\n",
       "<style scoped>\n",
       "    .dataframe tbody tr th:only-of-type {\n",
       "        vertical-align: middle;\n",
       "    }\n",
       "\n",
       "    .dataframe tbody tr th {\n",
       "        vertical-align: top;\n",
       "    }\n",
       "\n",
       "    .dataframe thead th {\n",
       "        text-align: right;\n",
       "    }\n",
       "</style>\n",
       "<table border=\"1\" class=\"dataframe\">\n",
       "  <thead>\n",
       "    <tr style=\"text-align: right;\">\n",
       "      <th></th>\n",
       "      <th>doi</th>\n",
       "      <th>OpenAlex_data</th>\n",
       "    </tr>\n",
       "  </thead>\n",
       "  <tbody>\n",
       "    <tr>\n",
       "      <th>0</th>\n",
       "      <td>10.1098/rstl.1686.0026</td>\n",
       "      <td>[{'id': 'https://openalex.org/W4244279015', 'd...</td>\n",
       "    </tr>\n",
       "    <tr>\n",
       "      <th>1</th>\n",
       "      <td>10.1098/rstl.1735.0014</td>\n",
       "      <td>[{'id': 'https://openalex.org/W4252425265', 'd...</td>\n",
       "    </tr>\n",
       "    <tr>\n",
       "      <th>2</th>\n",
       "      <td>10.1098/rstl.1861.0001</td>\n",
       "      <td>[{'id': 'https://openalex.org/W3091998362', 'd...</td>\n",
       "    </tr>\n",
       "    <tr>\n",
       "      <th>3</th>\n",
       "      <td>10.1017/s0080456800017592</td>\n",
       "      <td>[{'id': 'https://openalex.org/W2314134964', 'd...</td>\n",
       "    </tr>\n",
       "    <tr>\n",
       "      <th>4</th>\n",
       "      <td>10.2307/2992177</td>\n",
       "      <td>[{'id': 'https://openalex.org/W256209766', 'do...</td>\n",
       "    </tr>\n",
       "    <tr>\n",
       "      <th>...</th>\n",
       "      <td>...</td>\n",
       "      <td>...</td>\n",
       "    </tr>\n",
       "    <tr>\n",
       "      <th>58788</th>\n",
       "      <td>10.9774/gleaf.978-1-907643-06-4_5</td>\n",
       "      <td>[{'id': 'https://openalex.org/W3124428460', 'd...</td>\n",
       "    </tr>\n",
       "    <tr>\n",
       "      <th>58789</th>\n",
       "      <td>10.9783/9780812295948-002</td>\n",
       "      <td>[{'id': 'https://openalex.org/W3137011924', 'd...</td>\n",
       "    </tr>\n",
       "    <tr>\n",
       "      <th>58790</th>\n",
       "      <td>10.2172/2283221</td>\n",
       "      <td>[{'id': 'https://openalex.org/W4391458189', 'd...</td>\n",
       "    </tr>\n",
       "    <tr>\n",
       "      <th>58791</th>\n",
       "      <td>10.1016/b978-0-12-812362-1.00002-3</td>\n",
       "      <td>[{'id': 'https://openalex.org/W3107290679', 'd...</td>\n",
       "    </tr>\n",
       "    <tr>\n",
       "      <th>58792</th>\n",
       "      <td>10.18772/22008014655.19</td>\n",
       "      <td>[{'id': 'https://openalex.org/W4241645254', 'd...</td>\n",
       "    </tr>\n",
       "  </tbody>\n",
       "</table>\n",
       "<p>58793 rows × 2 columns</p>\n",
       "</div>"
      ],
      "text/plain": [
       "                                      doi  \\\n",
       "0                  10.1098/rstl.1686.0026   \n",
       "1                  10.1098/rstl.1735.0014   \n",
       "2                  10.1098/rstl.1861.0001   \n",
       "3               10.1017/s0080456800017592   \n",
       "4                         10.2307/2992177   \n",
       "...                                   ...   \n",
       "58788   10.9774/gleaf.978-1-907643-06-4_5   \n",
       "58789           10.9783/9780812295948-002   \n",
       "58790                     10.2172/2283221   \n",
       "58791  10.1016/b978-0-12-812362-1.00002-3   \n",
       "58792             10.18772/22008014655.19   \n",
       "\n",
       "                                           OpenAlex_data  \n",
       "0      [{'id': 'https://openalex.org/W4244279015', 'd...  \n",
       "1      [{'id': 'https://openalex.org/W4252425265', 'd...  \n",
       "2      [{'id': 'https://openalex.org/W3091998362', 'd...  \n",
       "3      [{'id': 'https://openalex.org/W2314134964', 'd...  \n",
       "4      [{'id': 'https://openalex.org/W256209766', 'do...  \n",
       "...                                                  ...  \n",
       "58788  [{'id': 'https://openalex.org/W3124428460', 'd...  \n",
       "58789  [{'id': 'https://openalex.org/W3137011924', 'd...  \n",
       "58790  [{'id': 'https://openalex.org/W4391458189', 'd...  \n",
       "58791  [{'id': 'https://openalex.org/W3107290679', 'd...  \n",
       "58792  [{'id': 'https://openalex.org/W4241645254', 'd...  \n",
       "\n",
       "[58793 rows x 2 columns]"
      ]
     },
     "execution_count": 23,
     "metadata": {},
     "output_type": "execute_result"
    }
   ],
   "source": [
    "df_cache"
   ]
  },
  {
   "cell_type": "code",
   "execution_count": 24,
   "metadata": {},
   "outputs": [],
   "source": [
    "df_ipcc_ipbes_bso=pd.merge(df_ipcc_ipbes_bso,df_cache, on='doi', how='inner')"
   ]
  },
  {
   "cell_type": "code",
   "execution_count": 25,
   "metadata": {},
   "outputs": [],
   "source": [
    "dict_doi_bso=[]"
   ]
  },
  {
   "cell_type": "code",
   "execution_count": 26,
   "metadata": {},
   "outputs": [],
   "source": [
    "for i,row in df_ipcc_ipbes_bso.iterrows():\n",
    "    dict_row=row.to_dict()\n",
    "    dict_row2={k:v for k,v in list(dict_row.items()) if ((str(v)!='nan')&(str(v)!='NaN')&(str(v)!='None')&(str(v)!='x'))}\n",
    "    dict_doi_bso.append(dict_row2)"
   ]
  },
  {
   "cell_type": "code",
   "execution_count": null,
   "metadata": {},
   "outputs": [],
   "source": [
    "len(dict_doi_bso)"
   ]
  },
  {
   "cell_type": "code",
   "execution_count": null,
   "metadata": {},
   "outputs": [],
   "source": [
    "json_lines='\\n'.join(json.dumps(entry) for entry in dict_doi_bso)"
   ]
  },
  {
   "cell_type": "code",
   "execution_count": null,
   "metadata": {},
   "outputs": [],
   "source": [
    "with open(module_path+'\\\\IPCC_bibliography\\\\AR6\\\\structured_data\\\\bso_ipcc_ipbes.jsonl', 'w') as f:\n",
    "      f.write(json_lines)"
   ]
  },
  {
   "cell_type": "markdown",
   "metadata": {},
   "source": [
    "elastic"
   ]
  },
  {
   "cell_type": "code",
   "execution_count": null,
   "metadata": {},
   "outputs": [],
   "source": [
    "dd = pd.read_json(module_path+'\\\\IPCC_bibliography\\\\AR6\\\\structured_data\\\\bso_ipcc_ipbes.jsonl', lines=True)"
   ]
  },
  {
   "cell_type": "code",
   "execution_count": null,
   "metadata": {},
   "outputs": [],
   "source": [
    "current_dict = dd.to_dict(orient='records')"
   ]
  },
  {
   "cell_type": "code",
   "execution_count": null,
   "metadata": {},
   "outputs": [],
   "source": [
    "list_bso_ipcc_ipbes=[]\n",
    "for i in range(len(dd)):\n",
    "    if len(current_dict[i]['OpenAlex_data'])==1:\n",
    "        openalex_info = current_dict[i]['OpenAlex_data'][0]\n",
    "    else:\n",
    "        openalex_info = current_dict[i]['OpenAlex_data'][1]\n",
    "    del current_dict[i]['OpenAlex_data']\n",
    "    for f in openalex_info:\n",
    "        current_dict[i]['openalex_'+f] = openalex_info[f]  "
   ]
  },
  {
   "cell_type": "code",
   "execution_count": null,
   "metadata": {},
   "outputs": [],
   "source": [
    "df_elastic_input=pd.DataFrame(current_dict)"
   ]
  },
  {
   "cell_type": "code",
   "execution_count": null,
   "metadata": {},
   "outputs": [],
   "source": [
    "df_elastic_input.loc[:,'openalex_concepts']=df_elastic_input.loc[:,'openalex_concepts'].apply(type_score)"
   ]
  },
  {
   "cell_type": "code",
   "execution_count": null,
   "metadata": {},
   "outputs": [],
   "source": [
    "del df_elastic_input['openalex_abstract_inverted_index']"
   ]
  },
  {
   "cell_type": "code",
   "execution_count": null,
   "metadata": {},
   "outputs": [],
   "source": [
    "len(df_elastic_input)"
   ]
  },
  {
   "cell_type": "code",
   "execution_count": null,
   "metadata": {},
   "outputs": [],
   "source": [
    "dict_doi_bso=[]\n",
    "for i,row in df_elastic_input.iterrows():\n",
    "    dict_row=row.to_dict()\n",
    "    dict_row2={k:v for k,v in list(dict_row.items()) if ((str(v)!='nan')&(str(v)!='NaN')&(str(v)!='None')&(str(v)!='x'))}\n",
    "    #dict_row3=remove_too_long(dict_row2)\n",
    "    dict_doi_bso.append(dict_row2)"
   ]
  },
  {
   "cell_type": "code",
   "execution_count": null,
   "metadata": {},
   "outputs": [],
   "source": [
    "json_lines='\\n'.join(json.dumps(entry) for entry in dict_doi_bso)\n",
    "with open('bso_ipcc_ipbes_elastic.jsonl', 'w') as f:\n",
    "      f.write(json_lines)"
   ]
  },
  {
   "cell_type": "code",
   "execution_count": null,
   "metadata": {},
   "outputs": [],
   "source": [
    "df=pd.read_json('bso_ipcc_ipbes_elastic.jsonl', lines=True)"
   ]
  },
  {
   "cell_type": "code",
   "execution_count": null,
   "metadata": {},
   "outputs": [],
   "source": [
    "es_url_without_http = os.getenv(\"ES_URL\").replace('https://','').replace('http://','')\n",
    "es_host = f'https://{os.getenv(\"ES_LOGIN_TEDS_BACK\")}:{parse.quote(os.getenv(\"ES_PASSWORD_TEDS_BACK\"))}@{es_url_without_http}'\n",
    "index_name='teds-bibliography'"
   ]
  }
 ],
 "metadata": {
  "kernelspec": {
   "display_name": "tf",
   "language": "python",
   "name": "python3"
  },
  "language_info": {
   "codemirror_mode": {
    "name": "ipython",
    "version": 3
   },
   "file_extension": ".py",
   "mimetype": "text/x-python",
   "name": "python",
   "nbconvert_exporter": "python",
   "pygments_lexer": "ipython3",
   "version": "3.10.13"
  }
 },
 "nbformat": 4,
 "nbformat_minor": 2
}
