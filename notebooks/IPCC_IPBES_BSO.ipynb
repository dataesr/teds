{
 "cells": [
  {
   "cell_type": "code",
   "execution_count": 2,
   "metadata": {},
   "outputs": [],
   "source": [
    "import os\n",
    "import sys\n",
    "import pandas as pd\n",
    "import matplotlib.pyplot as plt\n",
    "import json \n",
    "from dotenv import load_dotenv\n",
    "load_dotenv()\n",
    "from urllib import parse\n",
    "\n",
    "\n",
    "module_path = os.path.abspath(os.path.join('..'))\n",
    "if module_path not in sys.path:\n",
    "    sys.path.append(module_path)\n",
    "\n",
    "from code_utils.utils import type_score,get_year_ipcc,get_year_ipbes,get_countries,check_doi_glutton,normalize,aplatir,remove_too_long\n",
    "from code_utils.BSO import update_bso_publications,get_bso_publications\n",
    "from code_utils.pickle import load_cache"
   ]
  },
  {
   "cell_type": "code",
   "execution_count": 3,
   "metadata": {},
   "outputs": [],
   "source": [
    "df_ipcc=pd.read_json(module_path+'\\\\IPCC_bibliography\\\\AR6\\\\structured_data\\\\data_ipcc_visualization.json')"
   ]
  },
  {
   "cell_type": "code",
   "execution_count": 4,
   "metadata": {},
   "outputs": [
    {
     "data": {
      "text/plain": [
       "[2]                   21803\n",
       "[3]                   12324\n",
       "[1]                   10478\n",
       "[2_cross]              3491\n",
       "[2, 2_cross]           1531\n",
       "[1, 2]                 1459\n",
       "[2, 3]                 1226\n",
       "[1, 2, 2_cross]         251\n",
       "[1, 3]                  189\n",
       "[1, 2_cross]            176\n",
       "[1, 2, 3]               172\n",
       "[2, 2_cross, 3]          94\n",
       "[2_cross, 3]             34\n",
       "[1, 2, 2_cross, 3]       24\n",
       "[1, 2_cross, 3]           6\n",
       "Name: count, dtype: int64"
      ]
     },
     "execution_count": 4,
     "metadata": {},
     "output_type": "execute_result"
    }
   ],
   "source": [
    "pd.Series([list(pd.Series([x[i].get('wg') for i in range(len(x))]).drop_duplicates()) for x in list(df_ipcc.drop_duplicates(subset=['doi']).dropna(subset=['doi']).wg_chap)]).value_counts()"
   ]
  },
  {
   "cell_type": "code",
   "execution_count": 5,
   "metadata": {},
   "outputs": [
    {
     "data": {
      "text/plain": [
       "1686"
      ]
     },
     "execution_count": 5,
     "metadata": {},
     "output_type": "execute_result"
    }
   ],
   "source": [
    "min([int(x) for x in list(df_ipcc.year_OA.drop_duplicates().dropna())])"
   ]
  },
  {
   "cell_type": "code",
   "execution_count": 6,
   "metadata": {},
   "outputs": [
    {
     "data": {
      "text/plain": [
       "test_glutton\n",
       "True    74098\n",
       "Name: count, dtype: int64"
      ]
     },
     "execution_count": 6,
     "metadata": {},
     "output_type": "execute_result"
    }
   ],
   "source": [
    "df_ipcc.test_glutton.value_counts()"
   ]
  },
  {
   "cell_type": "code",
   "execution_count": 7,
   "metadata": {},
   "outputs": [],
   "source": [
    "df_ipcc=df_ipcc.rename(columns={'wg_chap':'ipcc'})"
   ]
  },
  {
   "cell_type": "code",
   "execution_count": 8,
   "metadata": {},
   "outputs": [
    {
     "data": {
      "text/plain": [
       "Index(['year', 'url', 'doi', 'title', 'author', 'freq', 'wg', 'chap',\n",
       "       'countries', 'concepts', 'sdg', 'topics', 'is_OA_available', 'title_OA',\n",
       "       'year_OA', 'authors_name', 'rors', 'institutions_names',\n",
       "       'locations_names', 'ipcc', 'test_glutton'],\n",
       "      dtype='object')"
      ]
     },
     "execution_count": 8,
     "metadata": {},
     "output_type": "execute_result"
    }
   ],
   "source": [
    "df_ipcc.columns"
   ]
  },
  {
   "cell_type": "code",
   "execution_count": 9,
   "metadata": {},
   "outputs": [],
   "source": [
    "df_ipcc_group=df_ipcc.groupby(by=['doi'], dropna=True).agg({'year': lambda x: list(x)[0],'rors': lambda x: list(x)[0],'authors_name': lambda x: list(x)[0], 'institutions_names': lambda x: list(x)[0], 'ipcc': lambda x: list(x)[0], 'countries': lambda x: list(x)[0], 'topics': lambda x: list(x)[0], 'freq':'sum'})\n",
    "df_ipcc_group=df_ipcc_group.reset_index()"
   ]
  },
  {
   "cell_type": "code",
   "execution_count": 10,
   "metadata": {},
   "outputs": [],
   "source": [
    "df_ipcc_group.loc[:,'countries']=df_ipcc_group.loc[:,'countries'].apply(lambda x: None if x==['None'] else x)"
   ]
  },
  {
   "cell_type": "code",
   "execution_count": 11,
   "metadata": {},
   "outputs": [
    {
     "data": {
      "text/plain": [
       "True"
      ]
     },
     "execution_count": 11,
     "metadata": {},
     "output_type": "execute_result"
    }
   ],
   "source": [
    "len(df_ipcc_group.doi.drop_duplicates())==len(df_ipcc_group.doi)"
   ]
  },
  {
   "cell_type": "code",
   "execution_count": 12,
   "metadata": {},
   "outputs": [],
   "source": [
    "df_ipbes=pd.read_json(module_path+'\\\\IPCC_bibliography\\\\AR6\\\\structured_data\\\\data_ipbes_visualization.json')"
   ]
  },
  {
   "cell_type": "code",
   "execution_count": 13,
   "metadata": {},
   "outputs": [
    {
     "data": {
      "text/plain": [
       "Index(['doi', 'title', 'date', 'creators', 'tags', 'countries', 'concepts',\n",
       "       'sdg', 'topics', 'is_OA_available', 'year_OA', 'authors_name', 'rors',\n",
       "       'institutions_names', 'locations_names', 'year'],\n",
       "      dtype='object')"
      ]
     },
     "execution_count": 13,
     "metadata": {},
     "output_type": "execute_result"
    }
   ],
   "source": [
    "df_ipbes.columns"
   ]
  },
  {
   "cell_type": "code",
   "execution_count": 14,
   "metadata": {},
   "outputs": [],
   "source": [
    "df_ipbes['ipbes']=df_ipbes.apply(lambda row: [{'chapter': str(x['tag']).replace('ipbes-global_chapter','')} for x in row['tags']], axis=1)"
   ]
  },
  {
   "cell_type": "code",
   "execution_count": 15,
   "metadata": {},
   "outputs": [
    {
     "data": {
      "text/plain": [
       "countries\n",
       "[US]            1164\n",
       "[None]           933\n",
       "[GB]             338\n",
       "[AU]             223\n",
       "[CA]             214\n",
       "                ... \n",
       "[GB, DE, NP]       1\n",
       "[BE, BJ, NG]       1\n",
       "[CU, US]           1\n",
       "[ID, BO]           1\n",
       "[CL, US, CA]       1\n",
       "Name: count, Length: 1583, dtype: int64"
      ]
     },
     "execution_count": 15,
     "metadata": {},
     "output_type": "execute_result"
    }
   ],
   "source": [
    "df_ipbes.countries.value_counts()"
   ]
  },
  {
   "cell_type": "code",
   "execution_count": 16,
   "metadata": {},
   "outputs": [
    {
     "data": {
      "text/plain": [
       "['GB',\n",
       " 'DE',\n",
       " 'MX',\n",
       " 'JP',\n",
       " 'GH',\n",
       " 'US',\n",
       " 'TR',\n",
       " 'SD',\n",
       " 'KR',\n",
       " 'SE',\n",
       " 'FR',\n",
       " 'DK',\n",
       " 'HU',\n",
       " 'AR',\n",
       " 'SA',\n",
       " 'ES']"
      ]
     },
     "execution_count": 16,
     "metadata": {},
     "output_type": "execute_result"
    }
   ],
   "source": [
    "df_ipbes[df_ipbes.doi=='10.1016/j.cosust.2016.12.006'].countries[84]"
   ]
  },
  {
   "cell_type": "code",
   "execution_count": 17,
   "metadata": {},
   "outputs": [],
   "source": [
    "df_ipbes_group=df_ipbes.groupby(by=['doi'], dropna=True).agg({'year': lambda x: list(x)[0],'rors': lambda x: list(x)[0],'authors_name': lambda x: list(x)[0], 'institutions_names': lambda x: list(x)[0],'ipbes': lambda x: list(x)[0], 'countries': lambda x: list(x)[0], 'topics': lambda x: list(x)[0]})\n",
    "df_ipbes_group=df_ipbes_group.reset_index()"
   ]
  },
  {
   "cell_type": "code",
   "execution_count": 18,
   "metadata": {},
   "outputs": [
    {
     "data": {
      "text/plain": [
       "['GB',\n",
       " 'DE',\n",
       " 'MX',\n",
       " 'JP',\n",
       " 'GH',\n",
       " 'US',\n",
       " 'TR',\n",
       " 'SD',\n",
       " 'KR',\n",
       " 'SE',\n",
       " 'FR',\n",
       " 'DK',\n",
       " 'HU',\n",
       " 'AR',\n",
       " 'SA',\n",
       " 'ES']"
      ]
     },
     "execution_count": 18,
     "metadata": {},
     "output_type": "execute_result"
    }
   ],
   "source": [
    "df_ipbes_group[df_ipbes_group.doi=='10.1016/j.cosust.2016.12.006'].countries[909]"
   ]
  },
  {
   "cell_type": "code",
   "execution_count": 19,
   "metadata": {},
   "outputs": [],
   "source": [
    "df_ipbes_group.loc[:,'countries']=df_ipbes_group.loc[:,'countries'].apply(lambda x: x[0])\n",
    "df_ipbes_group.loc[:,'countries']=df_ipbes_group.loc[:,'countries'].apply(lambda x: None if x==['None'] else x)"
   ]
  },
  {
   "cell_type": "code",
   "execution_count": 20,
   "metadata": {},
   "outputs": [
    {
     "data": {
      "text/plain": [
       "True"
      ]
     },
     "execution_count": 20,
     "metadata": {},
     "output_type": "execute_result"
    }
   ],
   "source": [
    "len(df_ipbes_group.doi.drop_duplicates())==len(df_ipbes_group.doi)"
   ]
  },
  {
   "cell_type": "code",
   "execution_count": 21,
   "metadata": {},
   "outputs": [],
   "source": [
    "df_ipcc_ipbes=pd.merge(df_ipcc_group,df_ipbes_group, on='doi', how='outer')\n",
    "df_ipcc_ipbes=df_ipcc_ipbes[['doi', 'year_x', 'rors_x', 'authors_name_x', 'institutions_names_x',\n",
    "       'ipcc', 'countries_x', 'ipbes']].rename(columns={'year_x':'year', 'rors_x':'rors','authors_name_x':'authors_name','institutions_names_x':'institutions_names', 'countries_x':'countries'})"
   ]
  },
  {
   "cell_type": "code",
   "execution_count": 22,
   "metadata": {},
   "outputs": [
    {
     "data": {
      "text/plain": [
       "True"
      ]
     },
     "execution_count": 22,
     "metadata": {},
     "output_type": "execute_result"
    }
   ],
   "source": [
    "len(df_ipcc_ipbes.doi.drop_duplicates())==len(df_ipcc_ipbes.doi)"
   ]
  },
  {
   "cell_type": "code",
   "execution_count": 44,
   "metadata": {},
   "outputs": [
    {
     "name": "stdout",
     "output_type": "stream",
     "text": [
      "2024-03-27 17:04:15,809 | code_utils.BSO | DEBUG | update bso publications files\n"
     ]
    },
    {
     "name": "stderr",
     "output_type": "stream",
     "text": [
      "DEBUG:code_utils.BSO:update bso publications files\n",
      "c:\\Users\\haallat\\Documents\\teds\\code_utils\\BSO.py:34: DtypeWarning: Columns (17,18,21,22,23,24,25,27,28,34,35,36,37,38,39,40,41) have mixed types. Specify dtype option on import or set low_memory=False.\n",
      "  df_bso = pd.read_csv('https://storage.gra.cloud.ovh.net/v1/AUTH_32c5d10cb0fe4519b957064a111717e3/bso_dump/bso-publications-latest.csv.gz', sep=';')\n"
     ]
    },
    {
     "name": "stdout",
     "output_type": "stream",
     "text": [
      "2024-03-27 17:07:55,059 | code_utils.BSO | DEBUG | writing 1813337 dois info from bso publications\n"
     ]
    },
    {
     "name": "stderr",
     "output_type": "stream",
     "text": [
      "DEBUG:code_utils.BSO:writing 1813337 dois info from bso publications\n"
     ]
    }
   ],
   "source": [
    "update_bso_publications()"
   ]
  },
  {
   "cell_type": "code",
   "execution_count": 23,
   "metadata": {},
   "outputs": [],
   "source": [
    "bso=pd.DataFrame(get_bso_publications())"
   ]
  },
  {
   "cell_type": "code",
   "execution_count": 24,
   "metadata": {},
   "outputs": [],
   "source": [
    "df_bso=bso.transpose().reset_index()"
   ]
  },
  {
   "cell_type": "code",
   "execution_count": 25,
   "metadata": {},
   "outputs": [],
   "source": [
    "df_bso.columns=['doi','rors', 'bso_local_affiliations']"
   ]
  },
  {
   "cell_type": "code",
   "execution_count": 26,
   "metadata": {},
   "outputs": [
    {
     "data": {
      "text/html": [
       "<div>\n",
       "<style scoped>\n",
       "    .dataframe tbody tr th:only-of-type {\n",
       "        vertical-align: middle;\n",
       "    }\n",
       "\n",
       "    .dataframe tbody tr th {\n",
       "        vertical-align: top;\n",
       "    }\n",
       "\n",
       "    .dataframe thead th {\n",
       "        text-align: right;\n",
       "    }\n",
       "</style>\n",
       "<table border=\"1\" class=\"dataframe\">\n",
       "  <thead>\n",
       "    <tr style=\"text-align: right;\">\n",
       "      <th></th>\n",
       "      <th>doi</th>\n",
       "      <th>rors</th>\n",
       "      <th>bso_local_affiliations</th>\n",
       "    </tr>\n",
       "  </thead>\n",
       "  <tbody>\n",
       "    <tr>\n",
       "      <th>0</th>\n",
       "      <td>10.47421/sllmoo23_51-66</td>\n",
       "      <td>[04zmssz18]</td>\n",
       "      <td>[130008121]</td>\n",
       "    </tr>\n",
       "    <tr>\n",
       "      <th>1</th>\n",
       "      <td>10.26434/chemrxiv.14095699.v2</td>\n",
       "      <td>[04zmssz18]</td>\n",
       "      <td>[130008121]</td>\n",
       "    </tr>\n",
       "    <tr>\n",
       "      <th>2</th>\n",
       "      <td>10.26434/chemrxiv.13713328.v1</td>\n",
       "      <td>[04zmssz18]</td>\n",
       "      <td>[130008121]</td>\n",
       "    </tr>\n",
       "    <tr>\n",
       "      <th>3</th>\n",
       "      <td>10.1101/2021.03.01.433388</td>\n",
       "      <td>[04zmssz18]</td>\n",
       "      <td>[130008121]</td>\n",
       "    </tr>\n",
       "    <tr>\n",
       "      <th>4</th>\n",
       "      <td>10.20944/preprints202107.0318.v1</td>\n",
       "      <td>[04zmssz18]</td>\n",
       "      <td>[130008121]</td>\n",
       "    </tr>\n",
       "    <tr>\n",
       "      <th>...</th>\n",
       "      <td>...</td>\n",
       "      <td>...</td>\n",
       "      <td>...</td>\n",
       "    </tr>\n",
       "    <tr>\n",
       "      <th>1813332</th>\n",
       "      <td>10.1038/srep30379</td>\n",
       "      <td>[0495fxg12, 04w6kn183]</td>\n",
       "      <td>[775684897, 784314064, gip-be, sante_pub_inser...</td>\n",
       "    </tr>\n",
       "    <tr>\n",
       "      <th>1813333</th>\n",
       "      <td>10.1038/s41567-020-0989-3</td>\n",
       "      <td>[055ss7a31, 013cjyk83, 02en5vm52]</td>\n",
       "      <td>[199411684F, 130026149, 303623, 130023385, pcc...</td>\n",
       "    </tr>\n",
       "    <tr>\n",
       "      <th>1813334</th>\n",
       "      <td>10.1101/147884</td>\n",
       "      <td>[]</td>\n",
       "      <td>[]</td>\n",
       "    </tr>\n",
       "    <tr>\n",
       "      <th>1813335</th>\n",
       "      <td>10.1162/qss_a_00146</td>\n",
       "      <td>[]</td>\n",
       "      <td>[]</td>\n",
       "    </tr>\n",
       "    <tr>\n",
       "      <th>1813336</th>\n",
       "      <td>10.1128/jvi.00912-21</td>\n",
       "      <td>[03mkjjy25, 04zmssz18, 05f82e368, 02vjkv261, 0...</td>\n",
       "      <td>[197819444, 130008121, 0755976N, 180036048, 77...</td>\n",
       "    </tr>\n",
       "  </tbody>\n",
       "</table>\n",
       "<p>1813337 rows × 3 columns</p>\n",
       "</div>"
      ],
      "text/plain": [
       "                                      doi  \\\n",
       "0                 10.47421/sllmoo23_51-66   \n",
       "1           10.26434/chemrxiv.14095699.v2   \n",
       "2           10.26434/chemrxiv.13713328.v1   \n",
       "3               10.1101/2021.03.01.433388   \n",
       "4        10.20944/preprints202107.0318.v1   \n",
       "...                                   ...   \n",
       "1813332                 10.1038/srep30379   \n",
       "1813333         10.1038/s41567-020-0989-3   \n",
       "1813334                    10.1101/147884   \n",
       "1813335               10.1162/qss_a_00146   \n",
       "1813336              10.1128/jvi.00912-21   \n",
       "\n",
       "                                                      rors  \\\n",
       "0                                              [04zmssz18]   \n",
       "1                                              [04zmssz18]   \n",
       "2                                              [04zmssz18]   \n",
       "3                                              [04zmssz18]   \n",
       "4                                              [04zmssz18]   \n",
       "...                                                    ...   \n",
       "1813332                             [0495fxg12, 04w6kn183]   \n",
       "1813333                  [055ss7a31, 013cjyk83, 02en5vm52]   \n",
       "1813334                                                 []   \n",
       "1813335                                                 []   \n",
       "1813336  [03mkjjy25, 04zmssz18, 05f82e368, 02vjkv261, 0...   \n",
       "\n",
       "                                    bso_local_affiliations  \n",
       "0                                              [130008121]  \n",
       "1                                              [130008121]  \n",
       "2                                              [130008121]  \n",
       "3                                              [130008121]  \n",
       "4                                              [130008121]  \n",
       "...                                                    ...  \n",
       "1813332  [775684897, 784314064, gip-be, sante_pub_inser...  \n",
       "1813333  [199411684F, 130026149, 303623, 130023385, pcc...  \n",
       "1813334                                                 []  \n",
       "1813335                                                 []  \n",
       "1813336  [197819444, 130008121, 0755976N, 180036048, 77...  \n",
       "\n",
       "[1813337 rows x 3 columns]"
      ]
     },
     "execution_count": 26,
     "metadata": {},
     "output_type": "execute_result"
    }
   ],
   "source": [
    "df_bso"
   ]
  },
  {
   "cell_type": "code",
   "execution_count": 27,
   "metadata": {},
   "outputs": [],
   "source": [
    "df_ipcc_ipbes_bso=pd.merge(df_ipcc_ipbes,df_bso,on='doi',how='left').rename(columns={'rors_x':'rors'})"
   ]
  },
  {
   "cell_type": "code",
   "execution_count": 28,
   "metadata": {},
   "outputs": [
    {
     "data": {
      "text/plain": [
       "True"
      ]
     },
     "execution_count": 28,
     "metadata": {},
     "output_type": "execute_result"
    }
   ],
   "source": [
    "len(df_ipcc_ipbes_bso.doi.drop_duplicates())==len(df_ipcc_ipbes_bso.doi)"
   ]
  },
  {
   "cell_type": "code",
   "execution_count": 29,
   "metadata": {},
   "outputs": [],
   "source": [
    "del df_ipcc_ipbes_bso['rors_y']"
   ]
  },
  {
   "cell_type": "code",
   "execution_count": 30,
   "metadata": {},
   "outputs": [
    {
     "data": {
      "text/plain": [
       "Index(['doi', 'year', 'rors', 'authors_name', 'institutions_names', 'ipcc',\n",
       "       'countries', 'ipbes', 'bso_local_affiliations'],\n",
       "      dtype='object')"
      ]
     },
     "execution_count": 30,
     "metadata": {},
     "output_type": "execute_result"
    }
   ],
   "source": [
    "df_ipcc_ipbes_bso.columns"
   ]
  },
  {
   "cell_type": "code",
   "execution_count": 31,
   "metadata": {},
   "outputs": [],
   "source": [
    "df_iso=pd.read_json(module_path+'\\\\IPCC_bibliography\\\\AR6\\\\structured_data\\\\iso_countries.json')"
   ]
  },
  {
   "cell_type": "code",
   "execution_count": 32,
   "metadata": {},
   "outputs": [
    {
     "data": {
      "text/html": [
       "<div>\n",
       "<style scoped>\n",
       "    .dataframe tbody tr th:only-of-type {\n",
       "        vertical-align: middle;\n",
       "    }\n",
       "\n",
       "    .dataframe tbody tr th {\n",
       "        vertical-align: top;\n",
       "    }\n",
       "\n",
       "    .dataframe thead th {\n",
       "        text-align: right;\n",
       "    }\n",
       "</style>\n",
       "<table border=\"1\" class=\"dataframe\">\n",
       "  <thead>\n",
       "    <tr style=\"text-align: right;\">\n",
       "      <th></th>\n",
       "      <th>name</th>\n",
       "      <th>code</th>\n",
       "    </tr>\n",
       "  </thead>\n",
       "  <tbody>\n",
       "    <tr>\n",
       "      <th>0</th>\n",
       "      <td>Afghanistan</td>\n",
       "      <td>AF</td>\n",
       "    </tr>\n",
       "    <tr>\n",
       "      <th>1</th>\n",
       "      <td>Åland Islands</td>\n",
       "      <td>AX</td>\n",
       "    </tr>\n",
       "    <tr>\n",
       "      <th>2</th>\n",
       "      <td>Albania</td>\n",
       "      <td>AL</td>\n",
       "    </tr>\n",
       "    <tr>\n",
       "      <th>3</th>\n",
       "      <td>Algeria</td>\n",
       "      <td>DZ</td>\n",
       "    </tr>\n",
       "    <tr>\n",
       "      <th>4</th>\n",
       "      <td>American Samoa</td>\n",
       "      <td>AS</td>\n",
       "    </tr>\n",
       "    <tr>\n",
       "      <th>...</th>\n",
       "      <td>...</td>\n",
       "      <td>...</td>\n",
       "    </tr>\n",
       "    <tr>\n",
       "      <th>238</th>\n",
       "      <td>Wallis and Futuna</td>\n",
       "      <td>WF</td>\n",
       "    </tr>\n",
       "    <tr>\n",
       "      <th>239</th>\n",
       "      <td>Western Sahara</td>\n",
       "      <td>EH</td>\n",
       "    </tr>\n",
       "    <tr>\n",
       "      <th>240</th>\n",
       "      <td>Yemen</td>\n",
       "      <td>YE</td>\n",
       "    </tr>\n",
       "    <tr>\n",
       "      <th>241</th>\n",
       "      <td>Zambia</td>\n",
       "      <td>ZM</td>\n",
       "    </tr>\n",
       "    <tr>\n",
       "      <th>242</th>\n",
       "      <td>Zimbabwe</td>\n",
       "      <td>ZW</td>\n",
       "    </tr>\n",
       "  </tbody>\n",
       "</table>\n",
       "<p>243 rows × 2 columns</p>\n",
       "</div>"
      ],
      "text/plain": [
       "                  name code\n",
       "0          Afghanistan   AF\n",
       "1        Åland Islands   AX\n",
       "2              Albania   AL\n",
       "3              Algeria   DZ\n",
       "4       American Samoa   AS\n",
       "..                 ...  ...\n",
       "238  Wallis and Futuna   WF\n",
       "239     Western Sahara   EH\n",
       "240              Yemen   YE\n",
       "241             Zambia   ZM\n",
       "242           Zimbabwe   ZW\n",
       "\n",
       "[243 rows x 2 columns]"
      ]
     },
     "execution_count": 32,
     "metadata": {},
     "output_type": "execute_result"
    }
   ],
   "source": [
    "df_iso"
   ]
  },
  {
   "cell_type": "code",
   "execution_count": 33,
   "metadata": {},
   "outputs": [],
   "source": [
    "dict_iso={}\n",
    "for i,row in df_iso.iterrows():\n",
    "    dict_iso[row['code']]=row['name']\n",
    "dict_iso['CW']='Curaçao'\n",
    "dict_iso['RS']='Serbia'\n",
    "dict_iso['ME']='Montenegro'\n",
    "dict_iso['XK']='Kosovo'\n",
    "dict_iso['SS']='South Soudan'\n",
    "dict_iso['MF']='Saint Martin'"
   ]
  },
  {
   "cell_type": "code",
   "execution_count": 34,
   "metadata": {},
   "outputs": [],
   "source": [
    "df_ipcc_ipbes_bso.loc[:,'countries']=df_ipcc_ipbes_bso.loc[:,'countries'].apply(lambda x: [dict_iso[y] for y in x] if (x!=None)&(x!=[])&(isinstance(x,float)==False) else None)"
   ]
  },
  {
   "cell_type": "code",
   "execution_count": null,
   "metadata": {},
   "outputs": [],
   "source": [
    "df_brevet_doi=pd.read_json('brevet_doi.json')"
   ]
  },
  {
   "cell_type": "code",
   "execution_count": 58,
   "metadata": {},
   "outputs": [
    {
     "data": {
      "text/html": [
       "<div>\n",
       "<style scoped>\n",
       "    .dataframe tbody tr th:only-of-type {\n",
       "        vertical-align: middle;\n",
       "    }\n",
       "\n",
       "    .dataframe tbody tr th {\n",
       "        vertical-align: top;\n",
       "    }\n",
       "\n",
       "    .dataframe thead th {\n",
       "        text-align: right;\n",
       "    }\n",
       "</style>\n",
       "<table border=\"1\" class=\"dataframe\">\n",
       "  <thead>\n",
       "    <tr style=\"text-align: right;\">\n",
       "      <th></th>\n",
       "      <th>doi</th>\n",
       "      <th>docdb_family_id</th>\n",
       "      <th>appln_publn_number</th>\n",
       "      <th>appln_auth</th>\n",
       "    </tr>\n",
       "  </thead>\n",
       "  <tbody>\n",
       "    <tr>\n",
       "      <th>0</th>\n",
       "      <td>10.1038/s41477-019-0461-5</td>\n",
       "      <td>80461940</td>\n",
       "      <td>2022171736</td>\n",
       "      <td>WO</td>\n",
       "    </tr>\n",
       "    <tr>\n",
       "      <th>1</th>\n",
       "      <td>10.1126/science.aad1329</td>\n",
       "      <td>68610090</td>\n",
       "      <td>2021063948</td>\n",
       "      <td>WO</td>\n",
       "    </tr>\n",
       "    <tr>\n",
       "      <th>2</th>\n",
       "      <td>10.1126/science.aad1329</td>\n",
       "      <td>68610090</td>\n",
       "      <td>4038388</td>\n",
       "      <td>EP</td>\n",
       "    </tr>\n",
       "    <tr>\n",
       "      <th>3</th>\n",
       "      <td>10.1126/science.aad1329</td>\n",
       "      <td>82358379</td>\n",
       "      <td>2022268841</td>\n",
       "      <td>WO</td>\n",
       "    </tr>\n",
       "    <tr>\n",
       "      <th>4</th>\n",
       "      <td>10.1016/j.enpol.2011.09.036</td>\n",
       "      <td>54185996</td>\n",
       "      <td>3030841</td>\n",
       "      <td>FR</td>\n",
       "    </tr>\n",
       "    <tr>\n",
       "      <th>...</th>\n",
       "      <td>...</td>\n",
       "      <td>...</td>\n",
       "      <td>...</td>\n",
       "      <td>...</td>\n",
       "    </tr>\n",
       "    <tr>\n",
       "      <th>95</th>\n",
       "      <td>10.1126/science.aad1329</td>\n",
       "      <td>61074267</td>\n",
       "      <td>3505177</td>\n",
       "      <td>EP</td>\n",
       "    </tr>\n",
       "    <tr>\n",
       "      <th>96</th>\n",
       "      <td>10.1126/science.aad1329</td>\n",
       "      <td>61074267</td>\n",
       "      <td>2019129753</td>\n",
       "      <td>WO</td>\n",
       "    </tr>\n",
       "    <tr>\n",
       "      <th>97</th>\n",
       "      <td>10.1002/ejoc.201200111</td>\n",
       "      <td>48795535</td>\n",
       "      <td>2821791</td>\n",
       "      <td>EP</td>\n",
       "    </tr>\n",
       "    <tr>\n",
       "      <th>98</th>\n",
       "      <td>10.1002/ejoc.201200111</td>\n",
       "      <td>48795535</td>\n",
       "      <td>2015001117</td>\n",
       "      <td>WO</td>\n",
       "    </tr>\n",
       "    <tr>\n",
       "      <th>99</th>\n",
       "      <td>10.1002/ejoc.201200111</td>\n",
       "      <td>48795535</td>\n",
       "      <td>3017307</td>\n",
       "      <td>EP</td>\n",
       "    </tr>\n",
       "  </tbody>\n",
       "</table>\n",
       "<p>100 rows × 4 columns</p>\n",
       "</div>"
      ],
      "text/plain": [
       "                            doi  docdb_family_id  appln_publn_number  \\\n",
       "0     10.1038/s41477-019-0461-5         80461940          2022171736   \n",
       "1       10.1126/science.aad1329         68610090          2021063948   \n",
       "2       10.1126/science.aad1329         68610090             4038388   \n",
       "3       10.1126/science.aad1329         82358379          2022268841   \n",
       "4   10.1016/j.enpol.2011.09.036         54185996             3030841   \n",
       "..                          ...              ...                 ...   \n",
       "95      10.1126/science.aad1329         61074267             3505177   \n",
       "96      10.1126/science.aad1329         61074267          2019129753   \n",
       "97       10.1002/ejoc.201200111         48795535             2821791   \n",
       "98       10.1002/ejoc.201200111         48795535          2015001117   \n",
       "99       10.1002/ejoc.201200111         48795535             3017307   \n",
       "\n",
       "   appln_auth  \n",
       "0          WO  \n",
       "1          WO  \n",
       "2          EP  \n",
       "3          WO  \n",
       "4          FR  \n",
       "..        ...  \n",
       "95         EP  \n",
       "96         WO  \n",
       "97         EP  \n",
       "98         WO  \n",
       "99         EP  \n",
       "\n",
       "[100 rows x 4 columns]"
      ]
     },
     "execution_count": 58,
     "metadata": {},
     "output_type": "execute_result"
    }
   ],
   "source": [
    "df_brevet_doi"
   ]
  },
  {
   "cell_type": "code",
   "execution_count": 112,
   "metadata": {},
   "outputs": [],
   "source": [
    "df_ipcc_ipbes_bso_brevet=pd.merge(df_ipcc_ipbes_bso,df_brevet_doi, on='doi', how='left')"
   ]
  },
  {
   "cell_type": "code",
   "execution_count": 114,
   "metadata": {},
   "outputs": [
    {
     "data": {
      "text/plain": [
       "False"
      ]
     },
     "execution_count": 114,
     "metadata": {},
     "output_type": "execute_result"
    }
   ],
   "source": [
    "len(df_ipcc_ipbes_bso_brevet.doi.drop_duplicates())==len(df_ipcc_ipbes_bso_brevet.doi)"
   ]
  },
  {
   "cell_type": "code",
   "execution_count": 118,
   "metadata": {},
   "outputs": [
    {
     "data": {
      "text/plain": [
       "doi\n",
       "10.1126/science.aad1329                   15\n",
       "10.1038/nature05414                        8\n",
       "10.1016/j.cell.2014.03.011                 5\n",
       "10.1007/s11356-014-3470-y                  5\n",
       "10.1126/science.1223490                    4\n",
       "10.1186/s40779-020-00240-0                 4\n",
       "10.5194/acp-14-13023-2014                  3\n",
       "10.1146/annurev.phyto.40.120301.093927     3\n",
       "10.1016/j.agrformet.2013.04.012            3\n",
       "10.1016/j.renene.2011.03.005               3\n",
       "Name: count, dtype: int64"
      ]
     },
     "execution_count": 118,
     "metadata": {},
     "output_type": "execute_result"
    }
   ],
   "source": [
    "df_ipcc_ipbes_bso_brevet.doi.value_counts()[:10]"
   ]
  },
  {
   "cell_type": "code",
   "execution_count": 35,
   "metadata": {},
   "outputs": [
    {
     "name": "stdout",
     "output_type": "stream",
     "text": [
      "54821 data in cached openalex data\n",
      "6608 data in cached openalex data\n"
     ]
    }
   ],
   "source": [
    "cached_openalex_data = load_cache({},module_path+'\\\\IPCC_bibliography\\\\AR6\\\\structured_data\\\\cached_openalex_data.pkl')\n",
    "cached_openalex_data_ipbes = load_cache({},module_path+'\\\\IPCC_bibliography\\\\AR6\\\\structured_data\\\\cached_openalex_data_ipbes.pkl')\n",
    "cached_openalex_data.update(cached_openalex_data_ipbes)\n",
    "df_cache=pd.DataFrame({'doi':list(cached_openalex_data.keys()),'OpenAlex_data':list(cached_openalex_data.values())})"
   ]
  },
  {
   "cell_type": "code",
   "execution_count": 36,
   "metadata": {},
   "outputs": [
    {
     "data": {
      "text/html": [
       "<div>\n",
       "<style scoped>\n",
       "    .dataframe tbody tr th:only-of-type {\n",
       "        vertical-align: middle;\n",
       "    }\n",
       "\n",
       "    .dataframe tbody tr th {\n",
       "        vertical-align: top;\n",
       "    }\n",
       "\n",
       "    .dataframe thead th {\n",
       "        text-align: right;\n",
       "    }\n",
       "</style>\n",
       "<table border=\"1\" class=\"dataframe\">\n",
       "  <thead>\n",
       "    <tr style=\"text-align: right;\">\n",
       "      <th></th>\n",
       "      <th>doi</th>\n",
       "      <th>OpenAlex_data</th>\n",
       "    </tr>\n",
       "  </thead>\n",
       "  <tbody>\n",
       "    <tr>\n",
       "      <th>0</th>\n",
       "      <td>10.1098/rstl.1686.0026</td>\n",
       "      <td>[{'id': 'https://openalex.org/W4244279015', 'd...</td>\n",
       "    </tr>\n",
       "    <tr>\n",
       "      <th>1</th>\n",
       "      <td>10.1098/rstl.1735.0014</td>\n",
       "      <td>[{'id': 'https://openalex.org/W4252425265', 'd...</td>\n",
       "    </tr>\n",
       "    <tr>\n",
       "      <th>2</th>\n",
       "      <td>10.1098/rstl.1861.0001</td>\n",
       "      <td>[{'id': 'https://openalex.org/W3091998362', 'd...</td>\n",
       "    </tr>\n",
       "    <tr>\n",
       "      <th>3</th>\n",
       "      <td>10.1017/s0080456800017592</td>\n",
       "      <td>[{'id': 'https://openalex.org/W2314134964', 'd...</td>\n",
       "    </tr>\n",
       "    <tr>\n",
       "      <th>4</th>\n",
       "      <td>10.2307/2992177</td>\n",
       "      <td>[{'id': 'https://openalex.org/W256209766', 'do...</td>\n",
       "    </tr>\n",
       "    <tr>\n",
       "      <th>...</th>\n",
       "      <td>...</td>\n",
       "      <td>...</td>\n",
       "    </tr>\n",
       "    <tr>\n",
       "      <th>60245</th>\n",
       "      <td>10.9774/gleaf.978-1-907643-06-4_5</td>\n",
       "      <td>[{'id': 'https://openalex.org/W3124428460', 'd...</td>\n",
       "    </tr>\n",
       "    <tr>\n",
       "      <th>60246</th>\n",
       "      <td>10.9783/9780812295948-002</td>\n",
       "      <td>[{'id': 'https://openalex.org/W3137011924', 'd...</td>\n",
       "    </tr>\n",
       "    <tr>\n",
       "      <th>60247</th>\n",
       "      <td>10.2172/2283221</td>\n",
       "      <td>[{'id': 'https://openalex.org/W4391458189', 'd...</td>\n",
       "    </tr>\n",
       "    <tr>\n",
       "      <th>60248</th>\n",
       "      <td>10.1016/b978-0-12-812362-1.00002-3</td>\n",
       "      <td>[{'id': 'https://openalex.org/W3107290679', 'd...</td>\n",
       "    </tr>\n",
       "    <tr>\n",
       "      <th>60249</th>\n",
       "      <td>10.18772/22008014655.19</td>\n",
       "      <td>[{'id': 'https://openalex.org/W4241645254', 'd...</td>\n",
       "    </tr>\n",
       "  </tbody>\n",
       "</table>\n",
       "<p>60250 rows × 2 columns</p>\n",
       "</div>"
      ],
      "text/plain": [
       "                                      doi  \\\n",
       "0                  10.1098/rstl.1686.0026   \n",
       "1                  10.1098/rstl.1735.0014   \n",
       "2                  10.1098/rstl.1861.0001   \n",
       "3               10.1017/s0080456800017592   \n",
       "4                         10.2307/2992177   \n",
       "...                                   ...   \n",
       "60245   10.9774/gleaf.978-1-907643-06-4_5   \n",
       "60246           10.9783/9780812295948-002   \n",
       "60247                     10.2172/2283221   \n",
       "60248  10.1016/b978-0-12-812362-1.00002-3   \n",
       "60249             10.18772/22008014655.19   \n",
       "\n",
       "                                           OpenAlex_data  \n",
       "0      [{'id': 'https://openalex.org/W4244279015', 'd...  \n",
       "1      [{'id': 'https://openalex.org/W4252425265', 'd...  \n",
       "2      [{'id': 'https://openalex.org/W3091998362', 'd...  \n",
       "3      [{'id': 'https://openalex.org/W2314134964', 'd...  \n",
       "4      [{'id': 'https://openalex.org/W256209766', 'do...  \n",
       "...                                                  ...  \n",
       "60245  [{'id': 'https://openalex.org/W3124428460', 'd...  \n",
       "60246  [{'id': 'https://openalex.org/W3137011924', 'd...  \n",
       "60247  [{'id': 'https://openalex.org/W4391458189', 'd...  \n",
       "60248  [{'id': 'https://openalex.org/W3107290679', 'd...  \n",
       "60249  [{'id': 'https://openalex.org/W4241645254', 'd...  \n",
       "\n",
       "[60250 rows x 2 columns]"
      ]
     },
     "execution_count": 36,
     "metadata": {},
     "output_type": "execute_result"
    }
   ],
   "source": [
    "df_cache"
   ]
  },
  {
   "cell_type": "code",
   "execution_count": 37,
   "metadata": {},
   "outputs": [],
   "source": [
    "df_ipcc_ipbes_bso=pd.merge(df_ipcc_ipbes_bso,df_cache, on='doi', how='inner')"
   ]
  },
  {
   "cell_type": "code",
   "execution_count": 38,
   "metadata": {},
   "outputs": [
    {
     "data": {
      "text/plain": [
       "True"
      ]
     },
     "execution_count": 38,
     "metadata": {},
     "output_type": "execute_result"
    }
   ],
   "source": [
    "len(df_ipcc_ipbes_bso.doi.drop_duplicates())==len(df_ipcc_ipbes_bso.doi)"
   ]
  },
  {
   "cell_type": "code",
   "execution_count": 39,
   "metadata": {},
   "outputs": [],
   "source": [
    "dict_doi_bso=[]"
   ]
  },
  {
   "cell_type": "code",
   "execution_count": 40,
   "metadata": {},
   "outputs": [],
   "source": [
    "for i,row in df_ipcc_ipbes_bso.iterrows():\n",
    "    dict_row=row.to_dict()\n",
    "    dict_row2={k:v for k,v in list(dict_row.items()) if ((str(v)!='nan')&(str(v)!='NaN')&(str(v)!='None')&(str(v)!='x'))}\n",
    "    dict_doi_bso.append(dict_row2)"
   ]
  },
  {
   "cell_type": "code",
   "execution_count": 41,
   "metadata": {},
   "outputs": [
    {
     "data": {
      "text/plain": [
       "58240"
      ]
     },
     "execution_count": 41,
     "metadata": {},
     "output_type": "execute_result"
    }
   ],
   "source": [
    "len(dict_doi_bso)"
   ]
  },
  {
   "cell_type": "code",
   "execution_count": 42,
   "metadata": {},
   "outputs": [],
   "source": [
    "json_lines='\\n'.join(json.dumps(entry) for entry in dict_doi_bso)"
   ]
  },
  {
   "cell_type": "code",
   "execution_count": 43,
   "metadata": {},
   "outputs": [],
   "source": [
    "with open(module_path+'\\\\IPCC_bibliography\\\\AR6\\\\structured_data\\\\bso_ipcc_ipbes2.jsonl', 'w') as f:\n",
    "      f.write(json_lines)"
   ]
  },
  {
   "cell_type": "markdown",
   "metadata": {},
   "source": [
    "elastic"
   ]
  },
  {
   "cell_type": "code",
   "execution_count": 44,
   "metadata": {},
   "outputs": [],
   "source": [
    "dd = pd.read_json(module_path+'\\\\IPCC_bibliography\\\\AR6\\\\structured_data\\\\bso_ipcc_ipbes2.jsonl', lines=True)"
   ]
  },
  {
   "cell_type": "code",
   "execution_count": 45,
   "metadata": {},
   "outputs": [
    {
     "data": {
      "text/plain": [
       "ipbes\n",
       "[{'chapter': '3'}]                                                                                                                  1277\n",
       "[{'chapter': '2.1_drivers'}]                                                                                                        1002\n",
       "[{'chapter': '6'}]                                                                                                                   926\n",
       "[{'chapter': '4'}]                                                                                                                   773\n",
       "[{'chapter': '2.2_nature'}]                                                                                                          552\n",
       "                                                                                                                                    ... \n",
       "[{'chapter': '2.2_nature'}, {'chapter': '2.3_ncp'}, {'chapter': '4'}]                                                                  1\n",
       "[{'chapter': '1'}, {'chapter': '3'}, {'chapter': '4'}, {'chapter': '5'}, {'chapter': '6'}, {'chapter': 'ipbes-global_glossary'}]       1\n",
       "[{'chapter': '1'}, {'chapter': '2.1_drivers'}, {'chapter': '2.2_nature'}, {'chapter': '2.3_ncp'}, {'chapter': '5'}]                    1\n",
       "[{'chapter': '1'}, {'chapter': '2.2_nature'}, {'chapter': '4'}]                                                                        1\n",
       "[{'chapter': '1'}, {'chapter': '5'}, {'chapter': 'ipbes-global_glossary'}]                                                             1\n",
       "Name: count, Length: 111, dtype: int64"
      ]
     },
     "execution_count": 45,
     "metadata": {},
     "output_type": "execute_result"
    }
   ],
   "source": [
    "dd.ipbes.value_counts()"
   ]
  },
  {
   "cell_type": "code",
   "execution_count": null,
   "metadata": {},
   "outputs": [],
   "source": [
    "dd2=dd.dropna(subset=['ipcc']).drop_duplicates(subset=['doi'])"
   ]
  },
  {
   "cell_type": "code",
   "execution_count": null,
   "metadata": {},
   "outputs": [],
   "source": [
    "len(dd2.loc[(dd2['ipcc'].apply(lambda wg_chap: any('1' in x.get('wg', '') for x in wg_chap)))])"
   ]
  },
  {
   "cell_type": "code",
   "execution_count": 46,
   "metadata": {},
   "outputs": [],
   "source": [
    "current_dict = dd.to_dict(orient='records')"
   ]
  },
  {
   "cell_type": "code",
   "execution_count": 47,
   "metadata": {},
   "outputs": [],
   "source": [
    "list_bso_ipcc_ipbes=[]\n",
    "for i in range(len(dd)):\n",
    "    if len(current_dict[i]['OpenAlex_data'])==1:\n",
    "        openalex_info = current_dict[i]['OpenAlex_data'][0]\n",
    "    else:\n",
    "        openalex_info = current_dict[i]['OpenAlex_data'][1]\n",
    "    del current_dict[i]['OpenAlex_data']\n",
    "    for f in openalex_info:\n",
    "        current_dict[i]['openalex_'+f] = openalex_info[f]  "
   ]
  },
  {
   "cell_type": "code",
   "execution_count": 48,
   "metadata": {},
   "outputs": [],
   "source": [
    "df_elastic_input=pd.DataFrame(current_dict)"
   ]
  },
  {
   "cell_type": "code",
   "execution_count": 49,
   "metadata": {},
   "outputs": [],
   "source": [
    "df_elastic_input.loc[:,'openalex_concepts']=df_elastic_input.loc[:,'openalex_concepts'].apply(type_score)"
   ]
  },
  {
   "cell_type": "code",
   "execution_count": 50,
   "metadata": {},
   "outputs": [],
   "source": [
    "del df_elastic_input['openalex_abstract_inverted_index']\n",
    "del df_elastic_input['openalex_primary_topic']"
   ]
  },
  {
   "cell_type": "code",
   "execution_count": 51,
   "metadata": {},
   "outputs": [],
   "source": [
    "df_elastic_input=df_elastic_input[['doi', 'year', 'rors', 'ipcc','authors_name', 'institutions_names',\n",
    "       'countries', 'ipbes', 'openalex_authorships','openalex_topics']]"
   ]
  },
  {
   "cell_type": "code",
   "execution_count": 52,
   "metadata": {},
   "outputs": [],
   "source": [
    "dict_doi_bso=[]\n",
    "for i,row in df_elastic_input.iterrows():\n",
    "    dict_row=row.to_dict()\n",
    "    dict_row2={k:v for k,v in list(dict_row.items()) if ((str(v)!='nan')&(str(v)!='NaN')&(str(v)!='None')&(str(v)!='x'))}\n",
    "    #dict_row3=remove_too_long(dict_row2)\n",
    "    dict_doi_bso.append(dict_row2)"
   ]
  },
  {
   "cell_type": "code",
   "execution_count": 53,
   "metadata": {},
   "outputs": [],
   "source": [
    "json_lines='\\n'.join(json.dumps(entry) for entry in dict_doi_bso)\n",
    "with open('bso_ipcc_ipbes_elastic.jsonl', 'w') as f:\n",
    "      f.write(json_lines)"
   ]
  },
  {
   "cell_type": "code",
   "execution_count": null,
   "metadata": {},
   "outputs": [],
   "source": [
    "df=pd.read_json('bso_ipcc_ipbes_elastic.jsonl', lines=True)"
   ]
  },
  {
   "cell_type": "code",
   "execution_count": null,
   "metadata": {},
   "outputs": [],
   "source": [
    "len(df)"
   ]
  },
  {
   "cell_type": "code",
   "execution_count": null,
   "metadata": {},
   "outputs": [],
   "source": [
    "es_url_without_http = os.getenv(\"ES_URL\").replace('https://','').replace('http://','')\n",
    "es_host = f'https://{os.getenv(\"ES_LOGIN_TEDS_BACK\")}:{parse.quote(os.getenv(\"ES_PASSWORD_TEDS_BACK\"))}@{es_url_without_http}'\n",
    "index_name='teds-bibliography'"
   ]
  }
 ],
 "metadata": {
  "kernelspec": {
   "display_name": "tf",
   "language": "python",
   "name": "python3"
  },
  "language_info": {
   "codemirror_mode": {
    "name": "ipython",
    "version": 3
   },
   "file_extension": ".py",
   "mimetype": "text/x-python",
   "name": "python",
   "nbconvert_exporter": "python",
   "pygments_lexer": "ipython3",
   "version": "3.9.10"
  }
 },
 "nbformat": 4,
 "nbformat_minor": 2
}
