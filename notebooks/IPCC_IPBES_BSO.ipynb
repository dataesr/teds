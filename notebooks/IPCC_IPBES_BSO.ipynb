{
 "cells": [
  {
   "cell_type": "code",
   "execution_count": 1,
   "metadata": {},
   "outputs": [],
   "source": [
    "import os\n",
    "import sys\n",
    "import pandas as pd\n",
    "import matplotlib.pyplot as plt\n",
    "import json \n",
    "from dotenv import load_dotenv\n",
    "load_dotenv()\n",
    "from urllib import parse\n",
    "\n",
    "\n",
    "module_path = os.path.abspath(os.path.join('..'))\n",
    "if module_path not in sys.path:\n",
    "    sys.path.append(module_path)\n",
    "\n",
    "from code_utils.utils import remove_too_long,type_score\n",
    "from code_utils.BSO import update_bso_publications,get_bso_publications\n",
    "from code_utils.pickle import load_cache\n"
   ]
  },
  {
   "cell_type": "code",
   "execution_count": 38,
   "metadata": {},
   "outputs": [],
   "source": [
    "df_ipcc=pd.read_json(module_path+'\\\\IPCC_bibliography\\\\AR6\\\\structured_data\\\\data_ipcc_visualization.json')"
   ]
  },
  {
   "cell_type": "code",
   "execution_count": 39,
   "metadata": {},
   "outputs": [],
   "source": [
    "df_ipcc=df_ipcc.rename(columns={'wg_chap':'ipcc'})"
   ]
  },
  {
   "cell_type": "code",
   "execution_count": 40,
   "metadata": {},
   "outputs": [],
   "source": [
    "df_ipcc_group=df_ipcc.groupby(by=['doi'], dropna=True).agg({'ipcc': lambda x: list(x)[0], 'countries': lambda x: list(x)[0]})\n",
    "df_ipcc_group=df_ipcc_group.reset_index()"
   ]
  },
  {
   "cell_type": "code",
   "execution_count": 41,
   "metadata": {},
   "outputs": [],
   "source": [
    "df_ipcc_group.loc[:,'countries']=df_ipcc_group.loc[:,'countries'].apply(lambda x: None if x==['None'] else x)"
   ]
  },
  {
   "cell_type": "code",
   "execution_count": 23,
   "metadata": {},
   "outputs": [],
   "source": [
    "df_ipbes=pd.read_json(module_path+'\\\\IPCC_bibliography\\\\AR6\\\\structured_data\\\\data_ipbes_visualization.json')"
   ]
  },
  {
   "cell_type": "code",
   "execution_count": 24,
   "metadata": {},
   "outputs": [],
   "source": [
    "df_ipbes['ipbes']=df_ipbes.apply(lambda row: {'chapter': x.replace('chap_','') for x in row['chap']}, axis=1)"
   ]
  },
  {
   "cell_type": "code",
   "execution_count": 25,
   "metadata": {},
   "outputs": [],
   "source": [
    "df_ipbes_group=df_ipbes.groupby(by=['doi'], dropna=True).agg({'ipbes': lambda x: list(x), 'countries': lambda x: list(x), 'freq': 'sum'})\n",
    "df_ipbes_group=df_ipbes_group.reset_index()"
   ]
  },
  {
   "cell_type": "code",
   "execution_count": 26,
   "metadata": {},
   "outputs": [],
   "source": [
    "df_ipbes_group.loc[:,'countries']=df_ipbes_group.loc[:,'countries'].apply(lambda x: x[0])\n",
    "df_ipbes_group.loc[:,'countries']=df_ipbes_group.loc[:,'countries'].apply(lambda x: None if x==['None'] else x)"
   ]
  },
  {
   "cell_type": "code",
   "execution_count": 27,
   "metadata": {},
   "outputs": [
    {
     "data": {
      "text/html": [
       "<div>\n",
       "<style scoped>\n",
       "    .dataframe tbody tr th:only-of-type {\n",
       "        vertical-align: middle;\n",
       "    }\n",
       "\n",
       "    .dataframe tbody tr th {\n",
       "        vertical-align: top;\n",
       "    }\n",
       "\n",
       "    .dataframe thead th {\n",
       "        text-align: right;\n",
       "    }\n",
       "</style>\n",
       "<table border=\"1\" class=\"dataframe\">\n",
       "  <thead>\n",
       "    <tr style=\"text-align: right;\">\n",
       "      <th></th>\n",
       "      <th>doi</th>\n",
       "      <th>ipbes</th>\n",
       "      <th>countries</th>\n",
       "      <th>freq</th>\n",
       "    </tr>\n",
       "  </thead>\n",
       "  <tbody>\n",
       "    <tr>\n",
       "      <th>0</th>\n",
       "      <td>10.1001/archpedi.161.7.718</td>\n",
       "      <td>[{'chapter': '5'}]</td>\n",
       "      <td>None</td>\n",
       "      <td>1</td>\n",
       "    </tr>\n",
       "    <tr>\n",
       "      <th>1</th>\n",
       "      <td>10.1002/(sici)1099-0771(199612)9:4&lt;231::aid-bd...</td>\n",
       "      <td>[{'chapter': '4'}]</td>\n",
       "      <td>[US]</td>\n",
       "      <td>1</td>\n",
       "    </tr>\n",
       "    <tr>\n",
       "      <th>2</th>\n",
       "      <td>10.1002/16-0188.1</td>\n",
       "      <td>[{'chapter': '1'}, {'chapter': '5'}]</td>\n",
       "      <td>[US]</td>\n",
       "      <td>2</td>\n",
       "    </tr>\n",
       "    <tr>\n",
       "      <th>3</th>\n",
       "      <td>10.1002/2013ef000188</td>\n",
       "      <td>[{'chapter': '1'}]</td>\n",
       "      <td>[FR]</td>\n",
       "      <td>1</td>\n",
       "    </tr>\n",
       "    <tr>\n",
       "      <th>4</th>\n",
       "      <td>10.1002/2013gb004654</td>\n",
       "      <td>[{'chapter': '2'}]</td>\n",
       "      <td>[DE]</td>\n",
       "      <td>1</td>\n",
       "    </tr>\n",
       "    <tr>\n",
       "      <th>...</th>\n",
       "      <td>...</td>\n",
       "      <td>...</td>\n",
       "      <td>...</td>\n",
       "      <td>...</td>\n",
       "    </tr>\n",
       "    <tr>\n",
       "      <th>6600</th>\n",
       "      <td>10.7930/j0x63jt0</td>\n",
       "      <td>[{'chapter': 'y'}]</td>\n",
       "      <td>None</td>\n",
       "      <td>1</td>\n",
       "    </tr>\n",
       "    <tr>\n",
       "      <th>6601</th>\n",
       "      <td>10.9755/ejfa.v25i1.15376</td>\n",
       "      <td>[{'chapter': '3'}]</td>\n",
       "      <td>[US]</td>\n",
       "      <td>1</td>\n",
       "    </tr>\n",
       "    <tr>\n",
       "      <th>6602</th>\n",
       "      <td>10.9758/cpn.2015.13.3.239</td>\n",
       "      <td>[{'chapter': '3'}]</td>\n",
       "      <td>[TR]</td>\n",
       "      <td>1</td>\n",
       "    </tr>\n",
       "    <tr>\n",
       "      <th>6603</th>\n",
       "      <td>10.9774/gleaf.978-1-907643-06-4_5</td>\n",
       "      <td>[{'chapter': '1'}]</td>\n",
       "      <td>None</td>\n",
       "      <td>1</td>\n",
       "    </tr>\n",
       "    <tr>\n",
       "      <th>6604</th>\n",
       "      <td>10.9783/9780812295948-002</td>\n",
       "      <td>[{'chapter': '3'}]</td>\n",
       "      <td>None</td>\n",
       "      <td>1</td>\n",
       "    </tr>\n",
       "  </tbody>\n",
       "</table>\n",
       "<p>6605 rows × 4 columns</p>\n",
       "</div>"
      ],
      "text/plain": [
       "                                                    doi  \\\n",
       "0                            10.1001/archpedi.161.7.718   \n",
       "1     10.1002/(sici)1099-0771(199612)9:4<231::aid-bd...   \n",
       "2                                     10.1002/16-0188.1   \n",
       "3                                  10.1002/2013ef000188   \n",
       "4                                  10.1002/2013gb004654   \n",
       "...                                                 ...   \n",
       "6600                                   10.7930/j0x63jt0   \n",
       "6601                           10.9755/ejfa.v25i1.15376   \n",
       "6602                          10.9758/cpn.2015.13.3.239   \n",
       "6603                  10.9774/gleaf.978-1-907643-06-4_5   \n",
       "6604                          10.9783/9780812295948-002   \n",
       "\n",
       "                                     ipbes countries  freq  \n",
       "0                       [{'chapter': '5'}]      None     1  \n",
       "1                       [{'chapter': '4'}]      [US]     1  \n",
       "2     [{'chapter': '1'}, {'chapter': '5'}]      [US]     2  \n",
       "3                       [{'chapter': '1'}]      [FR]     1  \n",
       "4                       [{'chapter': '2'}]      [DE]     1  \n",
       "...                                    ...       ...   ...  \n",
       "6600                    [{'chapter': 'y'}]      None     1  \n",
       "6601                    [{'chapter': '3'}]      [US]     1  \n",
       "6602                    [{'chapter': '3'}]      [TR]     1  \n",
       "6603                    [{'chapter': '1'}]      None     1  \n",
       "6604                    [{'chapter': '3'}]      None     1  \n",
       "\n",
       "[6605 rows x 4 columns]"
      ]
     },
     "execution_count": 27,
     "metadata": {},
     "output_type": "execute_result"
    }
   ],
   "source": [
    "df_ipbes_group"
   ]
  },
  {
   "cell_type": "code",
   "execution_count": 42,
   "metadata": {},
   "outputs": [
    {
     "data": {
      "text/html": [
       "<div>\n",
       "<style scoped>\n",
       "    .dataframe tbody tr th:only-of-type {\n",
       "        vertical-align: middle;\n",
       "    }\n",
       "\n",
       "    .dataframe tbody tr th {\n",
       "        vertical-align: top;\n",
       "    }\n",
       "\n",
       "    .dataframe thead th {\n",
       "        text-align: right;\n",
       "    }\n",
       "</style>\n",
       "<table border=\"1\" class=\"dataframe\">\n",
       "  <thead>\n",
       "    <tr style=\"text-align: right;\">\n",
       "      <th></th>\n",
       "      <th>doi</th>\n",
       "      <th>ipcc</th>\n",
       "      <th>countries</th>\n",
       "    </tr>\n",
       "  </thead>\n",
       "  <tbody>\n",
       "    <tr>\n",
       "      <th>0</th>\n",
       "      <td>10.1001/jama.2012.108940</td>\n",
       "      <td>[{'name': 'wg2_chap_06', 'wg': '2', 'chap': 6,...</td>\n",
       "      <td>[US]</td>\n",
       "    </tr>\n",
       "    <tr>\n",
       "      <th>1</th>\n",
       "      <td>10.1001/jama.2014.13186</td>\n",
       "      <td>[{'name': 'wg2_chap_07', 'wg': '2', 'chap': 7,...</td>\n",
       "      <td>[GB, US]</td>\n",
       "    </tr>\n",
       "    <tr>\n",
       "      <th>2</th>\n",
       "      <td>10.1001/jama.2014.15715</td>\n",
       "      <td>[{'name': 'wg2_chap_07', 'wg': '2', 'chap': 7,...</td>\n",
       "      <td>[US]</td>\n",
       "    </tr>\n",
       "    <tr>\n",
       "      <th>3</th>\n",
       "      <td>10.1001/jama.2020.1097</td>\n",
       "      <td>[{'name': 'wg2_chap_07', 'wg': '2', 'chap': 7,...</td>\n",
       "      <td>[US]</td>\n",
       "    </tr>\n",
       "    <tr>\n",
       "      <th>4</th>\n",
       "      <td>10.1001/jama.2020.15398</td>\n",
       "      <td>[{'name': 'wg2_chap_07', 'wg': '2', 'chap': 7,...</td>\n",
       "      <td>[US]</td>\n",
       "    </tr>\n",
       "    <tr>\n",
       "      <th>...</th>\n",
       "      <td>...</td>\n",
       "      <td>...</td>\n",
       "      <td>...</td>\n",
       "    </tr>\n",
       "    <tr>\n",
       "      <th>53107</th>\n",
       "      <td>10.9753/icce.v36.risk.59</td>\n",
       "      <td>[{'name': 'wg2_chap_16', 'wg': '2', 'chap': 16...</td>\n",
       "      <td>[GB, JP, US]</td>\n",
       "    </tr>\n",
       "    <tr>\n",
       "      <th>53108</th>\n",
       "      <td>10.9770/jesi.2017.4.4(13)</td>\n",
       "      <td>[{'name': 'wg2_chap_18', 'wg': '2', 'chap': 18...</td>\n",
       "      <td>None</td>\n",
       "    </tr>\n",
       "    <tr>\n",
       "      <th>53109</th>\n",
       "      <td>10.9774/gleaf.3062.2001.wi.00007</td>\n",
       "      <td>[{'name': 'wg2_chap_04', 'wg': '2', 'chap': 4,...</td>\n",
       "      <td>None</td>\n",
       "    </tr>\n",
       "    <tr>\n",
       "      <th>53110</th>\n",
       "      <td>10.9774/gleaf.4700.2015.ju.00009</td>\n",
       "      <td>[{'name': 'wg2_chap_18', 'wg': '2', 'chap': 18...</td>\n",
       "      <td>None</td>\n",
       "    </tr>\n",
       "    <tr>\n",
       "      <th>53111</th>\n",
       "      <td>10.9778/cmajo.20170047</td>\n",
       "      <td>[{'name': 'wg2_chap_14', 'wg': '2', 'chap': 14...</td>\n",
       "      <td>[CA]</td>\n",
       "    </tr>\n",
       "  </tbody>\n",
       "</table>\n",
       "<p>53112 rows × 3 columns</p>\n",
       "</div>"
      ],
      "text/plain": [
       "                                    doi  \\\n",
       "0              10.1001/jama.2012.108940   \n",
       "1               10.1001/jama.2014.13186   \n",
       "2               10.1001/jama.2014.15715   \n",
       "3                10.1001/jama.2020.1097   \n",
       "4               10.1001/jama.2020.15398   \n",
       "...                                 ...   \n",
       "53107          10.9753/icce.v36.risk.59   \n",
       "53108         10.9770/jesi.2017.4.4(13)   \n",
       "53109  10.9774/gleaf.3062.2001.wi.00007   \n",
       "53110  10.9774/gleaf.4700.2015.ju.00009   \n",
       "53111            10.9778/cmajo.20170047   \n",
       "\n",
       "                                                    ipcc     countries  \n",
       "0      [{'name': 'wg2_chap_06', 'wg': '2', 'chap': 6,...          [US]  \n",
       "1      [{'name': 'wg2_chap_07', 'wg': '2', 'chap': 7,...      [GB, US]  \n",
       "2      [{'name': 'wg2_chap_07', 'wg': '2', 'chap': 7,...          [US]  \n",
       "3      [{'name': 'wg2_chap_07', 'wg': '2', 'chap': 7,...          [US]  \n",
       "4      [{'name': 'wg2_chap_07', 'wg': '2', 'chap': 7,...          [US]  \n",
       "...                                                  ...           ...  \n",
       "53107  [{'name': 'wg2_chap_16', 'wg': '2', 'chap': 16...  [GB, JP, US]  \n",
       "53108  [{'name': 'wg2_chap_18', 'wg': '2', 'chap': 18...          None  \n",
       "53109  [{'name': 'wg2_chap_04', 'wg': '2', 'chap': 4,...          None  \n",
       "53110  [{'name': 'wg2_chap_18', 'wg': '2', 'chap': 18...          None  \n",
       "53111  [{'name': 'wg2_chap_14', 'wg': '2', 'chap': 14...          [CA]  \n",
       "\n",
       "[53112 rows x 3 columns]"
      ]
     },
     "execution_count": 42,
     "metadata": {},
     "output_type": "execute_result"
    }
   ],
   "source": [
    "df_ipcc_group"
   ]
  },
  {
   "cell_type": "code",
   "execution_count": 43,
   "metadata": {},
   "outputs": [
    {
     "data": {
      "text/html": [
       "<div>\n",
       "<style scoped>\n",
       "    .dataframe tbody tr th:only-of-type {\n",
       "        vertical-align: middle;\n",
       "    }\n",
       "\n",
       "    .dataframe tbody tr th {\n",
       "        vertical-align: top;\n",
       "    }\n",
       "\n",
       "    .dataframe thead th {\n",
       "        text-align: right;\n",
       "    }\n",
       "</style>\n",
       "<table border=\"1\" class=\"dataframe\">\n",
       "  <thead>\n",
       "    <tr style=\"text-align: right;\">\n",
       "      <th></th>\n",
       "      <th>doi</th>\n",
       "      <th>ipcc</th>\n",
       "      <th>countries_x</th>\n",
       "      <th>ipbes</th>\n",
       "      <th>countries_y</th>\n",
       "      <th>freq</th>\n",
       "    </tr>\n",
       "  </thead>\n",
       "  <tbody>\n",
       "    <tr>\n",
       "      <th>0</th>\n",
       "      <td>10.1001/jama.2012.108940</td>\n",
       "      <td>[{'name': 'wg2_chap_06', 'wg': '2', 'chap': 6,...</td>\n",
       "      <td>[US]</td>\n",
       "      <td>NaN</td>\n",
       "      <td>NaN</td>\n",
       "      <td>NaN</td>\n",
       "    </tr>\n",
       "    <tr>\n",
       "      <th>1</th>\n",
       "      <td>10.1001/jama.2014.13186</td>\n",
       "      <td>[{'name': 'wg2_chap_07', 'wg': '2', 'chap': 7,...</td>\n",
       "      <td>[GB, US]</td>\n",
       "      <td>NaN</td>\n",
       "      <td>NaN</td>\n",
       "      <td>NaN</td>\n",
       "    </tr>\n",
       "    <tr>\n",
       "      <th>2</th>\n",
       "      <td>10.1001/jama.2014.15715</td>\n",
       "      <td>[{'name': 'wg2_chap_07', 'wg': '2', 'chap': 7,...</td>\n",
       "      <td>[US]</td>\n",
       "      <td>NaN</td>\n",
       "      <td>NaN</td>\n",
       "      <td>NaN</td>\n",
       "    </tr>\n",
       "    <tr>\n",
       "      <th>3</th>\n",
       "      <td>10.1001/jama.2020.1097</td>\n",
       "      <td>[{'name': 'wg2_chap_07', 'wg': '2', 'chap': 7,...</td>\n",
       "      <td>[US]</td>\n",
       "      <td>NaN</td>\n",
       "      <td>NaN</td>\n",
       "      <td>NaN</td>\n",
       "    </tr>\n",
       "    <tr>\n",
       "      <th>4</th>\n",
       "      <td>10.1001/jama.2020.15398</td>\n",
       "      <td>[{'name': 'wg2_chap_07', 'wg': '2', 'chap': 7,...</td>\n",
       "      <td>[US]</td>\n",
       "      <td>NaN</td>\n",
       "      <td>NaN</td>\n",
       "      <td>NaN</td>\n",
       "    </tr>\n",
       "    <tr>\n",
       "      <th>...</th>\n",
       "      <td>...</td>\n",
       "      <td>...</td>\n",
       "      <td>...</td>\n",
       "      <td>...</td>\n",
       "      <td>...</td>\n",
       "      <td>...</td>\n",
       "    </tr>\n",
       "    <tr>\n",
       "      <th>58540</th>\n",
       "      <td>10.7930/j0x63jt0</td>\n",
       "      <td>NaN</td>\n",
       "      <td>NaN</td>\n",
       "      <td>[{'chapter': 'y'}]</td>\n",
       "      <td>None</td>\n",
       "      <td>1.0</td>\n",
       "    </tr>\n",
       "    <tr>\n",
       "      <th>58541</th>\n",
       "      <td>10.9755/ejfa.v25i1.15376</td>\n",
       "      <td>NaN</td>\n",
       "      <td>NaN</td>\n",
       "      <td>[{'chapter': '3'}]</td>\n",
       "      <td>[US]</td>\n",
       "      <td>1.0</td>\n",
       "    </tr>\n",
       "    <tr>\n",
       "      <th>58542</th>\n",
       "      <td>10.9758/cpn.2015.13.3.239</td>\n",
       "      <td>NaN</td>\n",
       "      <td>NaN</td>\n",
       "      <td>[{'chapter': '3'}]</td>\n",
       "      <td>[TR]</td>\n",
       "      <td>1.0</td>\n",
       "    </tr>\n",
       "    <tr>\n",
       "      <th>58543</th>\n",
       "      <td>10.9774/gleaf.978-1-907643-06-4_5</td>\n",
       "      <td>NaN</td>\n",
       "      <td>NaN</td>\n",
       "      <td>[{'chapter': '1'}]</td>\n",
       "      <td>None</td>\n",
       "      <td>1.0</td>\n",
       "    </tr>\n",
       "    <tr>\n",
       "      <th>58544</th>\n",
       "      <td>10.9783/9780812295948-002</td>\n",
       "      <td>NaN</td>\n",
       "      <td>NaN</td>\n",
       "      <td>[{'chapter': '3'}]</td>\n",
       "      <td>None</td>\n",
       "      <td>1.0</td>\n",
       "    </tr>\n",
       "  </tbody>\n",
       "</table>\n",
       "<p>58545 rows × 6 columns</p>\n",
       "</div>"
      ],
      "text/plain": [
       "                                     doi  \\\n",
       "0               10.1001/jama.2012.108940   \n",
       "1                10.1001/jama.2014.13186   \n",
       "2                10.1001/jama.2014.15715   \n",
       "3                 10.1001/jama.2020.1097   \n",
       "4                10.1001/jama.2020.15398   \n",
       "...                                  ...   \n",
       "58540                   10.7930/j0x63jt0   \n",
       "58541           10.9755/ejfa.v25i1.15376   \n",
       "58542          10.9758/cpn.2015.13.3.239   \n",
       "58543  10.9774/gleaf.978-1-907643-06-4_5   \n",
       "58544          10.9783/9780812295948-002   \n",
       "\n",
       "                                                    ipcc countries_x  \\\n",
       "0      [{'name': 'wg2_chap_06', 'wg': '2', 'chap': 6,...        [US]   \n",
       "1      [{'name': 'wg2_chap_07', 'wg': '2', 'chap': 7,...    [GB, US]   \n",
       "2      [{'name': 'wg2_chap_07', 'wg': '2', 'chap': 7,...        [US]   \n",
       "3      [{'name': 'wg2_chap_07', 'wg': '2', 'chap': 7,...        [US]   \n",
       "4      [{'name': 'wg2_chap_07', 'wg': '2', 'chap': 7,...        [US]   \n",
       "...                                                  ...         ...   \n",
       "58540                                                NaN         NaN   \n",
       "58541                                                NaN         NaN   \n",
       "58542                                                NaN         NaN   \n",
       "58543                                                NaN         NaN   \n",
       "58544                                                NaN         NaN   \n",
       "\n",
       "                    ipbes countries_y  freq  \n",
       "0                     NaN         NaN   NaN  \n",
       "1                     NaN         NaN   NaN  \n",
       "2                     NaN         NaN   NaN  \n",
       "3                     NaN         NaN   NaN  \n",
       "4                     NaN         NaN   NaN  \n",
       "...                   ...         ...   ...  \n",
       "58540  [{'chapter': 'y'}]        None   1.0  \n",
       "58541  [{'chapter': '3'}]        [US]   1.0  \n",
       "58542  [{'chapter': '3'}]        [TR]   1.0  \n",
       "58543  [{'chapter': '1'}]        None   1.0  \n",
       "58544  [{'chapter': '3'}]        None   1.0  \n",
       "\n",
       "[58545 rows x 6 columns]"
      ]
     },
     "execution_count": 43,
     "metadata": {},
     "output_type": "execute_result"
    }
   ],
   "source": [
    "df_ipcc_ipbes=pd.merge(df_ipcc_group,df_ipbes_group, on='doi', how='outer')\n",
    "df_ipcc_ipbes"
   ]
  },
  {
   "cell_type": "code",
   "execution_count": 44,
   "metadata": {},
   "outputs": [
    {
     "name": "stdout",
     "output_type": "stream",
     "text": [
      "2024-02-29 16:20:01,826 | code_utils.BSO | DEBUG | update bso publications files\n"
     ]
    },
    {
     "name": "stderr",
     "output_type": "stream",
     "text": [
      "DEBUG:code_utils.BSO:update bso publications files\n",
      "c:\\Users\\haallat\\Documents\\teds\\code_utils\\BSO.py:34: DtypeWarning: Columns (17,18,21,22,23,24,25,27,28,34,35,36,37,38,39,40,41) have mixed types. Specify dtype option on import or set low_memory=False.\n",
      "  df_bso = pd.read_csv('https://storage.gra.cloud.ovh.net/v1/AUTH_32c5d10cb0fe4519b957064a111717e3/bso_dump/bso-publications-latest.csv.gz', sep=';')\n"
     ]
    },
    {
     "name": "stdout",
     "output_type": "stream",
     "text": [
      "2024-02-29 16:22:07,343 | code_utils.BSO | DEBUG | writing 1812497 dois info from bso publications\n"
     ]
    },
    {
     "name": "stderr",
     "output_type": "stream",
     "text": [
      "DEBUG:code_utils.BSO:writing 1812497 dois info from bso publications\n"
     ]
    }
   ],
   "source": [
    "update_bso_publications()"
   ]
  },
  {
   "cell_type": "code",
   "execution_count": 45,
   "metadata": {},
   "outputs": [],
   "source": [
    "bso=pd.DataFrame(get_bso_publications())"
   ]
  },
  {
   "cell_type": "code",
   "execution_count": 46,
   "metadata": {},
   "outputs": [],
   "source": [
    "df_bso=bso.transpose().reset_index()"
   ]
  },
  {
   "cell_type": "code",
   "execution_count": 47,
   "metadata": {},
   "outputs": [],
   "source": [
    "df_bso.columns=['doi','rors', 'bso_local_affiliations']"
   ]
  },
  {
   "cell_type": "code",
   "execution_count": 48,
   "metadata": {},
   "outputs": [
    {
     "data": {
      "text/html": [
       "<div>\n",
       "<style scoped>\n",
       "    .dataframe tbody tr th:only-of-type {\n",
       "        vertical-align: middle;\n",
       "    }\n",
       "\n",
       "    .dataframe tbody tr th {\n",
       "        vertical-align: top;\n",
       "    }\n",
       "\n",
       "    .dataframe thead th {\n",
       "        text-align: right;\n",
       "    }\n",
       "</style>\n",
       "<table border=\"1\" class=\"dataframe\">\n",
       "  <thead>\n",
       "    <tr style=\"text-align: right;\">\n",
       "      <th></th>\n",
       "      <th>doi</th>\n",
       "      <th>rors</th>\n",
       "      <th>bso_local_affiliations</th>\n",
       "    </tr>\n",
       "  </thead>\n",
       "  <tbody>\n",
       "    <tr>\n",
       "      <th>0</th>\n",
       "      <td>10.3917/capo.005.0103</td>\n",
       "      <td>[057qpr032]</td>\n",
       "      <td>[130018351]</td>\n",
       "    </tr>\n",
       "    <tr>\n",
       "      <th>1</th>\n",
       "      <td>10.4000/champpenal.10450</td>\n",
       "      <td>[057qpr032]</td>\n",
       "      <td>[130018351]</td>\n",
       "    </tr>\n",
       "    <tr>\n",
       "      <th>2</th>\n",
       "      <td>10.7193/dm.100.79.96</td>\n",
       "      <td>[057qpr032]</td>\n",
       "      <td>[130018351]</td>\n",
       "    </tr>\n",
       "    <tr>\n",
       "      <th>3</th>\n",
       "      <td>10.1080/09500340.2015.1079655</td>\n",
       "      <td>[057qpr032]</td>\n",
       "      <td>[130018351]</td>\n",
       "    </tr>\n",
       "    <tr>\n",
       "      <th>4</th>\n",
       "      <td>10.1056/nejmc1604852</td>\n",
       "      <td>[057qpr032]</td>\n",
       "      <td>[130018351]</td>\n",
       "    </tr>\n",
       "    <tr>\n",
       "      <th>...</th>\n",
       "      <td>...</td>\n",
       "      <td>...</td>\n",
       "      <td>...</td>\n",
       "    </tr>\n",
       "    <tr>\n",
       "      <th>1812492</th>\n",
       "      <td>10.1101/2020.04.15.044065</td>\n",
       "      <td>[]</td>\n",
       "      <td>[]</td>\n",
       "    </tr>\n",
       "    <tr>\n",
       "      <th>1812493</th>\n",
       "      <td>10.1101/147884</td>\n",
       "      <td>[]</td>\n",
       "      <td>[]</td>\n",
       "    </tr>\n",
       "    <tr>\n",
       "      <th>1812494</th>\n",
       "      <td>10.1162/qss_a_00146</td>\n",
       "      <td>[]</td>\n",
       "      <td>[]</td>\n",
       "    </tr>\n",
       "    <tr>\n",
       "      <th>1812495</th>\n",
       "      <td>10.1364/optica.397172</td>\n",
       "      <td>[02en5vm52]</td>\n",
       "      <td>[180089013, 130023385]</td>\n",
       "    </tr>\n",
       "    <tr>\n",
       "      <th>1812496</th>\n",
       "      <td>10.1128/jvi.00912-21</td>\n",
       "      <td>[03mkjjy25, 04zmssz18, 05f82e368, 02vjkv261, 0...</td>\n",
       "      <td>[197819444, 130008121, 0755976N, 180036048, 77...</td>\n",
       "    </tr>\n",
       "  </tbody>\n",
       "</table>\n",
       "<p>1812497 rows × 3 columns</p>\n",
       "</div>"
      ],
      "text/plain": [
       "                                   doi  \\\n",
       "0                10.3917/capo.005.0103   \n",
       "1             10.4000/champpenal.10450   \n",
       "2                 10.7193/dm.100.79.96   \n",
       "3        10.1080/09500340.2015.1079655   \n",
       "4                 10.1056/nejmc1604852   \n",
       "...                                ...   \n",
       "1812492      10.1101/2020.04.15.044065   \n",
       "1812493                 10.1101/147884   \n",
       "1812494            10.1162/qss_a_00146   \n",
       "1812495          10.1364/optica.397172   \n",
       "1812496           10.1128/jvi.00912-21   \n",
       "\n",
       "                                                      rors  \\\n",
       "0                                              [057qpr032]   \n",
       "1                                              [057qpr032]   \n",
       "2                                              [057qpr032]   \n",
       "3                                              [057qpr032]   \n",
       "4                                              [057qpr032]   \n",
       "...                                                    ...   \n",
       "1812492                                                 []   \n",
       "1812493                                                 []   \n",
       "1812494                                                 []   \n",
       "1812495                                        [02en5vm52]   \n",
       "1812496  [03mkjjy25, 04zmssz18, 05f82e368, 02vjkv261, 0...   \n",
       "\n",
       "                                    bso_local_affiliations  \n",
       "0                                              [130018351]  \n",
       "1                                              [130018351]  \n",
       "2                                              [130018351]  \n",
       "3                                              [130018351]  \n",
       "4                                              [130018351]  \n",
       "...                                                    ...  \n",
       "1812492                                                 []  \n",
       "1812493                                                 []  \n",
       "1812494                                                 []  \n",
       "1812495                             [180089013, 130023385]  \n",
       "1812496  [197819444, 130008121, 0755976N, 180036048, 77...  \n",
       "\n",
       "[1812497 rows x 3 columns]"
      ]
     },
     "execution_count": 48,
     "metadata": {},
     "output_type": "execute_result"
    }
   ],
   "source": [
    "df_bso"
   ]
  },
  {
   "cell_type": "code",
   "execution_count": null,
   "metadata": {},
   "outputs": [],
   "source": [
    "df_ipcc_ipbes_bso=pd.merge(df_ipcc_ipbes,df_bso,on='doi',how='left')"
   ]
  },
  {
   "cell_type": "code",
   "execution_count": null,
   "metadata": {},
   "outputs": [],
   "source": [
    "def get_countries(row):\n",
    "    if (isinstance(row.countries_x,list)==False)&(isinstance(row.countries_y,list)==False):\n",
    "        return None\n",
    "    elif (isinstance(row.countries_x,list))&(isinstance(row.countries_y,list)==False):\n",
    "        return row.countries_x\n",
    "    elif (isinstance(row.countries_x,list)==False)&(isinstance(row.countries_y,list)):\n",
    "        return row.countries_y\n",
    "    else:\n",
    "        return row.countries_x"
   ]
  },
  {
   "cell_type": "code",
   "execution_count": null,
   "metadata": {},
   "outputs": [],
   "source": [
    "df_ipcc_ipbes_bso['countries']=df_ipcc_ipbes_bso.apply(lambda row: get_countries(row),axis=1)"
   ]
  },
  {
   "cell_type": "code",
   "execution_count": null,
   "metadata": {},
   "outputs": [],
   "source": [
    "df_ipcc_ipbes_bso=df_ipcc_ipbes_bso[['doi', 'ipcc', 'ipbes', 'countries', 'rors', 'bso_local_affiliations']]"
   ]
  },
  {
   "cell_type": "code",
   "execution_count": null,
   "metadata": {},
   "outputs": [],
   "source": [
    "df_iso=pd.read_json(module_path+'\\\\IPCC_bibliography\\\\AR6\\\\structured_data\\\\iso_countries.json')"
   ]
  },
  {
   "cell_type": "code",
   "execution_count": null,
   "metadata": {},
   "outputs": [],
   "source": [
    "df_iso=df_iso.rename(columns={'code':'countries'})"
   ]
  },
  {
   "cell_type": "code",
   "execution_count": null,
   "metadata": {},
   "outputs": [],
   "source": [
    "df_ipcc_ipbes_bso=pd.merge(df_ipcc_ipbes_bso,df_iso, on='countries', how='left')\n",
    "del df_ipcc_ipbes_bso['countries']\n",
    "df_ipcc_ipbes_bso=df_ipcc_ipbes_bso.rename(columns={'name':'countries'})"
   ]
  },
  {
   "cell_type": "code",
   "execution_count": null,
   "metadata": {},
   "outputs": [],
   "source": [
    "cached_openalex_data = load_cache({},module_path+'\\\\IPCC_bibliography\\\\AR6\\\\structured_data\\\\cached_openalex_data.pkl')\n",
    "cached_openalex_data_ipbes = load_cache({},module_path+'\\\\IPCC_bibliography\\\\AR6\\\\structured_data\\\\cached_openalex_data_ipbes.pkl')\n",
    "cached_openalex_data.update(cached_openalex_data_ipbes)\n",
    "df_cache=pd.DataFrame({'doi':list(cached_openalex_data.keys()),'OpenAlex_data':list(cached_openalex_data.values())})"
   ]
  },
  {
   "cell_type": "code",
   "execution_count": null,
   "metadata": {},
   "outputs": [],
   "source": [
    "df_cache"
   ]
  },
  {
   "cell_type": "code",
   "execution_count": null,
   "metadata": {},
   "outputs": [],
   "source": [
    "df_ipcc_ipbes_bso=pd.merge(df_ipcc_ipbes_bso,df_cache, on='doi', how='inner')"
   ]
  },
  {
   "cell_type": "code",
   "execution_count": null,
   "metadata": {},
   "outputs": [],
   "source": [
    "dict_doi_bso=[]"
   ]
  },
  {
   "cell_type": "code",
   "execution_count": null,
   "metadata": {},
   "outputs": [],
   "source": [
    "for i,row in df_ipcc_ipbes_bso.iterrows():\n",
    "    dict_row=row.to_dict()\n",
    "    dict_row2={k:v for k,v in list(dict_row.items()) if ((str(v)!='nan')&(str(v)!='NaN')&(str(v)!='None')&(str(v)!='x'))}\n",
    "    dict_doi_bso.append(dict_row2)"
   ]
  },
  {
   "cell_type": "code",
   "execution_count": null,
   "metadata": {},
   "outputs": [],
   "source": [
    "len(dict_doi_bso)"
   ]
  },
  {
   "cell_type": "code",
   "execution_count": null,
   "metadata": {},
   "outputs": [],
   "source": [
    "json_lines='\\n'.join(json.dumps(entry) for entry in dict_doi_bso)"
   ]
  },
  {
   "cell_type": "code",
   "execution_count": null,
   "metadata": {},
   "outputs": [],
   "source": [
    "with open(module_path+'\\\\IPCC_bibliography\\\\AR6\\\\structured_data\\\\bso_ipcc_ipbes.jsonl', 'w') as f:\n",
    "      f.write(json_lines)"
   ]
  },
  {
   "cell_type": "markdown",
   "metadata": {},
   "source": [
    "elastic"
   ]
  },
  {
   "cell_type": "code",
   "execution_count": null,
   "metadata": {},
   "outputs": [],
   "source": [
    "dd = pd.read_json(module_path+'\\\\IPCC_bibliography\\\\AR6\\\\structured_data\\\\bso_ipcc_ipbes.jsonl', lines=True)"
   ]
  },
  {
   "cell_type": "code",
   "execution_count": null,
   "metadata": {},
   "outputs": [],
   "source": [
    "dd2=dd.dropna(subset=['ipcc']).drop_duplicates(subset=['doi'])"
   ]
  },
  {
   "cell_type": "code",
   "execution_count": null,
   "metadata": {},
   "outputs": [],
   "source": [
    "len(dd2.loc[(dd2['ipcc'].apply(lambda wg_chap: any('1' in x.get('wg', '') for x in wg_chap)))])"
   ]
  },
  {
   "cell_type": "code",
   "execution_count": null,
   "metadata": {},
   "outputs": [],
   "source": [
    "current_dict = dd.to_dict(orient='records')"
   ]
  },
  {
   "cell_type": "code",
   "execution_count": null,
   "metadata": {},
   "outputs": [],
   "source": [
    "list_bso_ipcc_ipbes=[]\n",
    "for i in range(len(dd)):\n",
    "    if len(current_dict[i]['OpenAlex_data'])==1:\n",
    "        openalex_info = current_dict[i]['OpenAlex_data'][0]\n",
    "    else:\n",
    "        openalex_info = current_dict[i]['OpenAlex_data'][1]\n",
    "    del current_dict[i]['OpenAlex_data']\n",
    "    for f in openalex_info:\n",
    "        current_dict[i]['openalex_'+f] = openalex_info[f]  "
   ]
  },
  {
   "cell_type": "code",
   "execution_count": null,
   "metadata": {},
   "outputs": [],
   "source": [
    "df_elastic_input=pd.DataFrame(current_dict)"
   ]
  },
  {
   "cell_type": "code",
   "execution_count": null,
   "metadata": {},
   "outputs": [],
   "source": [
    "df_elastic_input.loc[:,'openalex_concepts']=df_elastic_input.loc[:,'openalex_concepts'].apply(type_score)"
   ]
  },
  {
   "cell_type": "code",
   "execution_count": null,
   "metadata": {},
   "outputs": [],
   "source": [
    "del df_elastic_input['openalex_abstract_inverted_index']"
   ]
  },
  {
   "cell_type": "code",
   "execution_count": null,
   "metadata": {},
   "outputs": [],
   "source": [
    "len(df_elastic_input)"
   ]
  },
  {
   "cell_type": "code",
   "execution_count": null,
   "metadata": {},
   "outputs": [],
   "source": [
    "dict_doi_bso=[]\n",
    "for i,row in df_elastic_input.iterrows():\n",
    "    dict_row=row.to_dict()\n",
    "    dict_row2={k:v for k,v in list(dict_row.items()) if ((str(v)!='nan')&(str(v)!='NaN')&(str(v)!='None')&(str(v)!='x'))}\n",
    "    #dict_row3=remove_too_long(dict_row2)\n",
    "    dict_doi_bso.append(dict_row2)"
   ]
  },
  {
   "cell_type": "code",
   "execution_count": null,
   "metadata": {},
   "outputs": [],
   "source": [
    "json_lines='\\n'.join(json.dumps(entry) for entry in dict_doi_bso)\n",
    "with open('bso_ipcc_ipbes_elastic.jsonl', 'w') as f:\n",
    "      f.write(json_lines)"
   ]
  },
  {
   "cell_type": "code",
   "execution_count": null,
   "metadata": {},
   "outputs": [],
   "source": [
    "#df=pd.read_json('bso_ipcc_ipbes_elastic.jsonl', lines=True)"
   ]
  },
  {
   "cell_type": "code",
   "execution_count": null,
   "metadata": {},
   "outputs": [],
   "source": [
    "es_url_without_http = os.getenv(\"ES_URL\").replace('https://','').replace('http://','')\n",
    "es_host = f'https://{os.getenv(\"ES_LOGIN_TEDS_BACK\")}:{parse.quote(os.getenv(\"ES_PASSWORD_TEDS_BACK\"))}@{es_url_without_http}'\n",
    "index_name='teds-bibliography'"
   ]
  }
 ],
 "metadata": {
  "kernelspec": {
   "display_name": "tf",
   "language": "python",
   "name": "python3"
  },
  "language_info": {
   "codemirror_mode": {
    "name": "ipython",
    "version": 3
   },
   "file_extension": ".py",
   "mimetype": "text/x-python",
   "name": "python",
   "nbconvert_exporter": "python",
   "pygments_lexer": "ipython3",
   "version": "3.9.10"
  }
 },
 "nbformat": 4,
 "nbformat_minor": 2
}
