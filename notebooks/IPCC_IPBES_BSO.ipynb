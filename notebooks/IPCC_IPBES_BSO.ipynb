{
 "cells": [
  {
   "cell_type": "code",
   "execution_count": 2,
   "metadata": {},
   "outputs": [],
   "source": [
    "import os\n",
    "import sys\n",
    "import pandas as pd\n",
    "import matplotlib.pyplot as plt\n",
    "import json \n",
    "from dotenv import load_dotenv\n",
    "load_dotenv()\n",
    "from urllib import parse\n",
    "\n",
    "\n",
    "module_path = os.path.abspath(os.path.join('..'))\n",
    "if module_path not in sys.path:\n",
    "    sys.path.append(module_path)\n",
    "\n",
    "from code_utils.utils import type_score,get_year_ipcc,get_year_ipbes,get_countries,check_doi_glutton,normalize\n",
    "from code_utils.BSO import update_bso_publications,get_bso_publications\n",
    "from code_utils.pickle import load_cache"
   ]
  },
  {
   "cell_type": "code",
   "execution_count": 3,
   "metadata": {},
   "outputs": [],
   "source": [
    "df_ipcc=pd.read_json(module_path+'\\\\IPCC_bibliography\\\\AR6\\\\structured_data\\\\data_ipcc_visualization.json')"
   ]
  },
  {
   "cell_type": "code",
   "execution_count": 4,
   "metadata": {},
   "outputs": [],
   "source": [
    "df_ipcc=df_ipcc.dropna(subset=['doi'])"
   ]
  },
  {
   "cell_type": "code",
   "execution_count": 5,
   "metadata": {},
   "outputs": [
    {
     "data": {
      "text/plain": [
       "[2]                   21803\n",
       "[3]                   12324\n",
       "[1]                   10478\n",
       "[2_cross]              3491\n",
       "[2, 2_cross]           1531\n",
       "[1, 2]                 1459\n",
       "[2, 3]                 1226\n",
       "[1, 2, 2_cross]         251\n",
       "[1, 3]                  189\n",
       "[1, 2_cross]            176\n",
       "[1, 2, 3]               172\n",
       "[2, 2_cross, 3]          94\n",
       "[2_cross, 3]             34\n",
       "[1, 2, 2_cross, 3]       24\n",
       "[1, 2_cross, 3]           6\n",
       "Name: count, dtype: int64"
      ]
     },
     "execution_count": 5,
     "metadata": {},
     "output_type": "execute_result"
    }
   ],
   "source": [
    "pd.Series([list(pd.Series([x[i].get('wg') for i in range(len(x))]).drop_duplicates()) for x in list(df_ipcc.drop_duplicates(subset=['doi']).dropna(subset=['doi']).wg_chap)]).value_counts()"
   ]
  },
  {
   "cell_type": "code",
   "execution_count": 6,
   "metadata": {},
   "outputs": [
    {
     "data": {
      "text/plain": [
       "1686"
      ]
     },
     "execution_count": 6,
     "metadata": {},
     "output_type": "execute_result"
    }
   ],
   "source": [
    "min([int(x) for x in list(df_ipcc.year_OA.drop_duplicates().dropna())])"
   ]
  },
  {
   "cell_type": "code",
   "execution_count": 6,
   "metadata": {},
   "outputs": [
    {
     "data": {
      "text/plain": [
       "test_glutton\n",
       "True    74098\n",
       "Name: count, dtype: int64"
      ]
     },
     "execution_count": 6,
     "metadata": {},
     "output_type": "execute_result"
    }
   ],
   "source": [
    "df_ipcc.test_glutton.value_counts()"
   ]
  },
  {
   "cell_type": "code",
   "execution_count": 7,
   "metadata": {},
   "outputs": [],
   "source": [
    "df_ipcc=df_ipcc.rename(columns={'wg_chap':'ipcc'})"
   ]
  },
  {
   "cell_type": "code",
   "execution_count": 9,
   "metadata": {},
   "outputs": [
    {
     "data": {
      "text/plain": [
       "Index(['year', 'url', 'doi', 'title', 'author', 'freq', 'wg', 'chap',\n",
       "       'countries', 'concepts', 'sdg', 'topics', 'is_OA_available', 'title_OA',\n",
       "       'year_OA', 'authors_name', 'rors', 'institutions_names',\n",
       "       'locations_names', 'ipcc', 'test_glutton'],\n",
       "      dtype='object')"
      ]
     },
     "execution_count": 9,
     "metadata": {},
     "output_type": "execute_result"
    }
   ],
   "source": [
    "df_ipcc.columns"
   ]
  },
  {
   "cell_type": "code",
   "execution_count": 12,
   "metadata": {},
   "outputs": [],
   "source": [
    "df_ipcc_group=df_ipcc.groupby(by=['doi','year'], dropna=True).agg({'rors': lambda x: list(x)[0],'authors_name': lambda x: list(x)[0], 'institutions_names': lambda x: list(x)[0], 'ipcc': lambda x: list(x)[0], 'countries': lambda x: list(x)[0], 'freq':'sum'})\n",
    "df_ipcc_group=df_ipcc_group.reset_index()"
   ]
  },
  {
   "cell_type": "code",
   "execution_count": 14,
   "metadata": {},
   "outputs": [
    {
     "data": {
      "text/plain": [
       "[[{'https://ror.org/05cf8a891': 'US'}],\n",
       " [{'https://ror.org/00y4zzh67': 'US'}, {'https://ror.org/04mrb6c22': 'US'}],\n",
       " []]"
      ]
     },
     "execution_count": 14,
     "metadata": {},
     "output_type": "execute_result"
    }
   ],
   "source": [
    "df_ipcc_group.rors[0]"
   ]
  },
  {
   "cell_type": "code",
   "execution_count": 15,
   "metadata": {},
   "outputs": [],
   "source": [
    "df_ipcc_group.loc[:,'countries']=df_ipcc_group.loc[:,'countries'].apply(lambda x: None if x==['None'] else x)"
   ]
  },
  {
   "cell_type": "code",
   "execution_count": 18,
   "metadata": {},
   "outputs": [],
   "source": [
    "df_ipbes=pd.read_json(module_path+'\\\\IPCC_bibliography\\\\AR6\\\\structured_data\\\\data_ipbes_visualization.json')"
   ]
  },
  {
   "cell_type": "code",
   "execution_count": 19,
   "metadata": {},
   "outputs": [
    {
     "data": {
      "text/plain": [
       "Index(['doi', 'title', 'date', 'creators', 'tags', 'countries', 'concepts',\n",
       "       'sdg', 'topics', 'is_OA_available', 'year_OA', 'authors_name', 'rors',\n",
       "       'institutions_names', 'locations_names', 'year'],\n",
       "      dtype='object')"
      ]
     },
     "execution_count": 19,
     "metadata": {},
     "output_type": "execute_result"
    }
   ],
   "source": [
    "df_ipbes.columns"
   ]
  },
  {
   "cell_type": "code",
   "execution_count": 20,
   "metadata": {},
   "outputs": [],
   "source": [
    "df_ipbes['ipbes']=df_ipbes.apply(lambda row: [{'chapter': str(x['tag']).replace('ipbes-global_chapter','')} for x in row['tags']], axis=1)"
   ]
  },
  {
   "cell_type": "code",
   "execution_count": 25,
   "metadata": {},
   "outputs": [],
   "source": [
    "df_ipbes_group=df_ipbes.groupby(by=['doi','year'], dropna=True).agg({'rors': lambda x: list(x)[0],'authors_name': lambda x: list(x)[0], 'institutions_names': lambda x: list(x)[0],'ipbes': lambda x: list(x)[0], 'countries': lambda x: list(x)})\n",
    "df_ipbes_group=df_ipbes_group.reset_index()"
   ]
  },
  {
   "cell_type": "code",
   "execution_count": 26,
   "metadata": {},
   "outputs": [],
   "source": [
    "df_ipbes_group.loc[:,'countries']=df_ipbes_group.loc[:,'countries'].apply(lambda x: x[0])\n",
    "df_ipbes_group.loc[:,'countries']=df_ipbes_group.loc[:,'countries'].apply(lambda x: None if x==['None'] else x)"
   ]
  },
  {
   "cell_type": "code",
   "execution_count": 27,
   "metadata": {},
   "outputs": [
    {
     "data": {
      "text/html": [
       "<div>\n",
       "<style scoped>\n",
       "    .dataframe tbody tr th:only-of-type {\n",
       "        vertical-align: middle;\n",
       "    }\n",
       "\n",
       "    .dataframe tbody tr th {\n",
       "        vertical-align: top;\n",
       "    }\n",
       "\n",
       "    .dataframe thead th {\n",
       "        text-align: right;\n",
       "    }\n",
       "</style>\n",
       "<table border=\"1\" class=\"dataframe\">\n",
       "  <thead>\n",
       "    <tr style=\"text-align: right;\">\n",
       "      <th></th>\n",
       "      <th>doi</th>\n",
       "      <th>year</th>\n",
       "      <th>rors</th>\n",
       "      <th>authors_name</th>\n",
       "      <th>institutions_names</th>\n",
       "      <th>ipbes</th>\n",
       "      <th>countries</th>\n",
       "    </tr>\n",
       "  </thead>\n",
       "  <tbody>\n",
       "    <tr>\n",
       "      <th>0</th>\n",
       "      <td>10.1001/archpedi.161.7.718</td>\n",
       "      <td>2008</td>\n",
       "      <td>[[]]</td>\n",
       "      <td>[{'Tina Kelley': []}]</td>\n",
       "      <td>[[]]</td>\n",
       "      <td>[{'chapter': '5'}]</td>\n",
       "      <td>None</td>\n",
       "    </tr>\n",
       "    <tr>\n",
       "      <th>1</th>\n",
       "      <td>10.1002/(sici)1099-0771(199612)9:4&lt;231::aid-bd...</td>\n",
       "      <td>1996</td>\n",
       "      <td>[[{'https://ror.org/047426m28': 'US'}], [{'htt...</td>\n",
       "      <td>[{'Kristine M. Kuhn': ['US']}, {'Janet A. Snie...</td>\n",
       "      <td>[[{'University of Illinois Urbana-Champaign': ...</td>\n",
       "      <td>[{'chapter': '4'}]</td>\n",
       "      <td>[US]</td>\n",
       "    </tr>\n",
       "    <tr>\n",
       "      <th>2</th>\n",
       "      <td>10.1002/16-0188.1</td>\n",
       "      <td>2016</td>\n",
       "      <td>[[{'https://ror.org/05hs6h993': 'US'}], [], [{...</td>\n",
       "      <td>[{'Jianguo Liu': ['US']}, {'Wu Yang': []}, {'S...</td>\n",
       "      <td>[[{'Michigan State University': 'US'}], [], [{...</td>\n",
       "      <td>[{'chapter': '2.1_drivers'}, {'chapter': '5'}]</td>\n",
       "      <td>[US]</td>\n",
       "    </tr>\n",
       "    <tr>\n",
       "      <th>3</th>\n",
       "      <td>10.1002/2013ef000188</td>\n",
       "      <td>2014</td>\n",
       "      <td>[[{'https://ror.org/030syve83': 'FR'}, {'https...</td>\n",
       "      <td>[{'Anny Cazenave': ['FR']}, {'Gonéri Le Cozann...</td>\n",
       "      <td>[[{'Observatoire Midi-Pyrénées': 'FR'}, {'Labo...</td>\n",
       "      <td>[{'chapter': '2.1_drivers'}]</td>\n",
       "      <td>[FR]</td>\n",
       "    </tr>\n",
       "    <tr>\n",
       "      <th>4</th>\n",
       "      <td>10.1002/2013gb004654</td>\n",
       "      <td>2013</td>\n",
       "      <td>[[{'https://ror.org/03hkr1v69': 'DE'}], [{'htt...</td>\n",
       "      <td>[{'Florian Schierhorn': ['DE']}, {'Daniel Müll...</td>\n",
       "      <td>[[{'Leibniz Institute of Agricultural Developm...</td>\n",
       "      <td>[{'chapter': '2.2_nature'}]</td>\n",
       "      <td>[DE]</td>\n",
       "    </tr>\n",
       "    <tr>\n",
       "      <th>...</th>\n",
       "      <td>...</td>\n",
       "      <td>...</td>\n",
       "      <td>...</td>\n",
       "      <td>...</td>\n",
       "      <td>...</td>\n",
       "      <td>...</td>\n",
       "      <td>...</td>\n",
       "    </tr>\n",
       "    <tr>\n",
       "      <th>6105</th>\n",
       "      <td>10.7770/cuhso-v27n1-art1134</td>\n",
       "      <td>2017</td>\n",
       "      <td>[[{'https://ror.org/04h4z8k05': 'FR'}]]</td>\n",
       "      <td>[{'Dorian Rommens': ['FR']}]</td>\n",
       "      <td>[[{'United Nations Educational, Scientific and...</td>\n",
       "      <td>[{'chapter': '3'}]</td>\n",
       "      <td>[FR]</td>\n",
       "    </tr>\n",
       "    <tr>\n",
       "      <th>6106</th>\n",
       "      <td>10.7930/j0x63jt0</td>\n",
       "      <td>2014</td>\n",
       "      <td>[[], [], [], [], [], [], [], [], []]</td>\n",
       "      <td>[{'J. N. Galloway': []}, {'William H. Schlesin...</td>\n",
       "      <td>[[], [], [], [], [], [], [], [], []]</td>\n",
       "      <td>[{'chapter': 'ipbes-global_glossary'}]</td>\n",
       "      <td>None</td>\n",
       "    </tr>\n",
       "    <tr>\n",
       "      <th>6107</th>\n",
       "      <td>10.9755/ejfa.v25i1.15376</td>\n",
       "      <td>2013</td>\n",
       "      <td>[[{'https://ror.org/02d2m2044': 'US'}]]</td>\n",
       "      <td>[{'Abdullah A. Jaradat': ['US']}]</td>\n",
       "      <td>[[{'Agricultural Research Service': 'US'}]]</td>\n",
       "      <td>[{'chapter': '3'}]</td>\n",
       "      <td>[US]</td>\n",
       "    </tr>\n",
       "    <tr>\n",
       "      <th>6108</th>\n",
       "      <td>10.9758/cpn.2015.13.3.239</td>\n",
       "      <td>2015</td>\n",
       "      <td>[[{'https://ror.org/02dzjmc73': 'TR'}], [{'htt...</td>\n",
       "      <td>[{'Alper Evrensel': ['TR']}, {'Mehmet Emin Cey...</td>\n",
       "      <td>[[{'Üsküdar University': 'TR'}], [{'Üsküdar Un...</td>\n",
       "      <td>[{'chapter': '2.3_ncp'}]</td>\n",
       "      <td>[TR]</td>\n",
       "    </tr>\n",
       "    <tr>\n",
       "      <th>6109</th>\n",
       "      <td>10.9783/9780812295948-002</td>\n",
       "      <td>2018</td>\n",
       "      <td>[[]]</td>\n",
       "      <td>[{'Anthony Chase': []}]</td>\n",
       "      <td>[[]]</td>\n",
       "      <td>[{'chapter': '3'}]</td>\n",
       "      <td>None</td>\n",
       "    </tr>\n",
       "  </tbody>\n",
       "</table>\n",
       "<p>6110 rows × 7 columns</p>\n",
       "</div>"
      ],
      "text/plain": [
       "                                                    doi  year  \\\n",
       "0                            10.1001/archpedi.161.7.718  2008   \n",
       "1     10.1002/(sici)1099-0771(199612)9:4<231::aid-bd...  1996   \n",
       "2                                     10.1002/16-0188.1  2016   \n",
       "3                                  10.1002/2013ef000188  2014   \n",
       "4                                  10.1002/2013gb004654  2013   \n",
       "...                                                 ...   ...   \n",
       "6105                        10.7770/cuhso-v27n1-art1134  2017   \n",
       "6106                                   10.7930/j0x63jt0  2014   \n",
       "6107                           10.9755/ejfa.v25i1.15376  2013   \n",
       "6108                          10.9758/cpn.2015.13.3.239  2015   \n",
       "6109                          10.9783/9780812295948-002  2018   \n",
       "\n",
       "                                                   rors  \\\n",
       "0                                                  [[]]   \n",
       "1     [[{'https://ror.org/047426m28': 'US'}], [{'htt...   \n",
       "2     [[{'https://ror.org/05hs6h993': 'US'}], [], [{...   \n",
       "3     [[{'https://ror.org/030syve83': 'FR'}, {'https...   \n",
       "4     [[{'https://ror.org/03hkr1v69': 'DE'}], [{'htt...   \n",
       "...                                                 ...   \n",
       "6105            [[{'https://ror.org/04h4z8k05': 'FR'}]]   \n",
       "6106               [[], [], [], [], [], [], [], [], []]   \n",
       "6107            [[{'https://ror.org/02d2m2044': 'US'}]]   \n",
       "6108  [[{'https://ror.org/02dzjmc73': 'TR'}], [{'htt...   \n",
       "6109                                               [[]]   \n",
       "\n",
       "                                           authors_name  \\\n",
       "0                                 [{'Tina Kelley': []}]   \n",
       "1     [{'Kristine M. Kuhn': ['US']}, {'Janet A. Snie...   \n",
       "2     [{'Jianguo Liu': ['US']}, {'Wu Yang': []}, {'S...   \n",
       "3     [{'Anny Cazenave': ['FR']}, {'Gonéri Le Cozann...   \n",
       "4     [{'Florian Schierhorn': ['DE']}, {'Daniel Müll...   \n",
       "...                                                 ...   \n",
       "6105                       [{'Dorian Rommens': ['FR']}]   \n",
       "6106  [{'J. N. Galloway': []}, {'William H. Schlesin...   \n",
       "6107                  [{'Abdullah A. Jaradat': ['US']}]   \n",
       "6108  [{'Alper Evrensel': ['TR']}, {'Mehmet Emin Cey...   \n",
       "6109                            [{'Anthony Chase': []}]   \n",
       "\n",
       "                                     institutions_names  \\\n",
       "0                                                  [[]]   \n",
       "1     [[{'University of Illinois Urbana-Champaign': ...   \n",
       "2     [[{'Michigan State University': 'US'}], [], [{...   \n",
       "3     [[{'Observatoire Midi-Pyrénées': 'FR'}, {'Labo...   \n",
       "4     [[{'Leibniz Institute of Agricultural Developm...   \n",
       "...                                                 ...   \n",
       "6105  [[{'United Nations Educational, Scientific and...   \n",
       "6106               [[], [], [], [], [], [], [], [], []]   \n",
       "6107        [[{'Agricultural Research Service': 'US'}]]   \n",
       "6108  [[{'Üsküdar University': 'TR'}], [{'Üsküdar Un...   \n",
       "6109                                               [[]]   \n",
       "\n",
       "                                               ipbes countries  \n",
       "0                                 [{'chapter': '5'}]      None  \n",
       "1                                 [{'chapter': '4'}]      [US]  \n",
       "2     [{'chapter': '2.1_drivers'}, {'chapter': '5'}]      [US]  \n",
       "3                       [{'chapter': '2.1_drivers'}]      [FR]  \n",
       "4                        [{'chapter': '2.2_nature'}]      [DE]  \n",
       "...                                              ...       ...  \n",
       "6105                              [{'chapter': '3'}]      [FR]  \n",
       "6106          [{'chapter': 'ipbes-global_glossary'}]      None  \n",
       "6107                              [{'chapter': '3'}]      [US]  \n",
       "6108                        [{'chapter': '2.3_ncp'}]      [TR]  \n",
       "6109                              [{'chapter': '3'}]      None  \n",
       "\n",
       "[6110 rows x 7 columns]"
      ]
     },
     "execution_count": 27,
     "metadata": {},
     "output_type": "execute_result"
    }
   ],
   "source": [
    "df_ipbes_group"
   ]
  },
  {
   "cell_type": "code",
   "execution_count": 40,
   "metadata": {},
   "outputs": [],
   "source": [
    "df_ipcc_ipbes=pd.merge(df_ipcc_group,df_ipbes_group, on='doi', how='outer')\n",
    "df_ipcc_ipbes=df_ipcc_ipbes[['doi', 'year_x', 'rors_x', 'authors_name_x', 'institutions_names_x',\n",
    "       'ipcc', 'countries_x', 'ipbes']].rename(columns={'year_x':'year', 'rors_x':'rors','authors_name_x':'authors_name','institutions_names_x':'institutions_names', 'countries_x':'countries'})"
   ]
  },
  {
   "cell_type": "code",
   "execution_count": 29,
   "metadata": {},
   "outputs": [
    {
     "name": "stdout",
     "output_type": "stream",
     "text": [
      "2024-03-26 15:24:52,990 | code_utils.BSO | DEBUG | update bso publications files\n"
     ]
    },
    {
     "name": "stderr",
     "output_type": "stream",
     "text": [
      "DEBUG:code_utils.BSO:update bso publications files\n",
      "c:\\Users\\haallat\\Documents\\teds\\code_utils\\BSO.py:34: DtypeWarning: Columns (17,18,21,22,23,24,25,27,28,34,35,36,37,38,39,40,41) have mixed types. Specify dtype option on import or set low_memory=False.\n",
      "  df_bso = pd.read_csv('https://storage.gra.cloud.ovh.net/v1/AUTH_32c5d10cb0fe4519b957064a111717e3/bso_dump/bso-publications-latest.csv.gz', sep=';')\n"
     ]
    },
    {
     "name": "stdout",
     "output_type": "stream",
     "text": [
      "2024-03-26 15:27:54,066 | code_utils.BSO | DEBUG | writing 1813337 dois info from bso publications\n"
     ]
    },
    {
     "name": "stderr",
     "output_type": "stream",
     "text": [
      "DEBUG:code_utils.BSO:writing 1813337 dois info from bso publications\n"
     ]
    }
   ],
   "source": [
    "update_bso_publications()"
   ]
  },
  {
   "cell_type": "code",
   "execution_count": 42,
   "metadata": {},
   "outputs": [],
   "source": [
    "bso=pd.DataFrame(get_bso_publications())"
   ]
  },
  {
   "cell_type": "code",
   "execution_count": 43,
   "metadata": {},
   "outputs": [],
   "source": [
    "df_bso=bso.transpose().reset_index()"
   ]
  },
  {
   "cell_type": "code",
   "execution_count": 44,
   "metadata": {},
   "outputs": [],
   "source": [
    "df_bso.columns=['doi','rors', 'bso_local_affiliations']"
   ]
  },
  {
   "cell_type": "code",
   "execution_count": 45,
   "metadata": {},
   "outputs": [
    {
     "data": {
      "text/html": [
       "<div>\n",
       "<style scoped>\n",
       "    .dataframe tbody tr th:only-of-type {\n",
       "        vertical-align: middle;\n",
       "    }\n",
       "\n",
       "    .dataframe tbody tr th {\n",
       "        vertical-align: top;\n",
       "    }\n",
       "\n",
       "    .dataframe thead th {\n",
       "        text-align: right;\n",
       "    }\n",
       "</style>\n",
       "<table border=\"1\" class=\"dataframe\">\n",
       "  <thead>\n",
       "    <tr style=\"text-align: right;\">\n",
       "      <th></th>\n",
       "      <th>doi</th>\n",
       "      <th>rors</th>\n",
       "      <th>bso_local_affiliations</th>\n",
       "    </tr>\n",
       "  </thead>\n",
       "  <tbody>\n",
       "    <tr>\n",
       "      <th>0</th>\n",
       "      <td>10.47421/sllmoo23_51-66</td>\n",
       "      <td>[04zmssz18]</td>\n",
       "      <td>[130008121]</td>\n",
       "    </tr>\n",
       "    <tr>\n",
       "      <th>1</th>\n",
       "      <td>10.26434/chemrxiv.14095699.v2</td>\n",
       "      <td>[04zmssz18]</td>\n",
       "      <td>[130008121]</td>\n",
       "    </tr>\n",
       "    <tr>\n",
       "      <th>2</th>\n",
       "      <td>10.26434/chemrxiv.13713328.v1</td>\n",
       "      <td>[04zmssz18]</td>\n",
       "      <td>[130008121]</td>\n",
       "    </tr>\n",
       "    <tr>\n",
       "      <th>3</th>\n",
       "      <td>10.1101/2021.03.01.433388</td>\n",
       "      <td>[04zmssz18]</td>\n",
       "      <td>[130008121]</td>\n",
       "    </tr>\n",
       "    <tr>\n",
       "      <th>4</th>\n",
       "      <td>10.20944/preprints202107.0318.v1</td>\n",
       "      <td>[04zmssz18]</td>\n",
       "      <td>[130008121]</td>\n",
       "    </tr>\n",
       "    <tr>\n",
       "      <th>...</th>\n",
       "      <td>...</td>\n",
       "      <td>...</td>\n",
       "      <td>...</td>\n",
       "    </tr>\n",
       "    <tr>\n",
       "      <th>1813332</th>\n",
       "      <td>10.1038/srep30379</td>\n",
       "      <td>[0495fxg12, 04w6kn183]</td>\n",
       "      <td>[775684897, 784314064, gip-be, sante_pub_inser...</td>\n",
       "    </tr>\n",
       "    <tr>\n",
       "      <th>1813333</th>\n",
       "      <td>10.1038/s41567-020-0989-3</td>\n",
       "      <td>[055ss7a31, 013cjyk83, 02en5vm52]</td>\n",
       "      <td>[199411684F, 130026149, 303623, 130023385, pcc...</td>\n",
       "    </tr>\n",
       "    <tr>\n",
       "      <th>1813334</th>\n",
       "      <td>10.1101/147884</td>\n",
       "      <td>[]</td>\n",
       "      <td>[]</td>\n",
       "    </tr>\n",
       "    <tr>\n",
       "      <th>1813335</th>\n",
       "      <td>10.1162/qss_a_00146</td>\n",
       "      <td>[]</td>\n",
       "      <td>[]</td>\n",
       "    </tr>\n",
       "    <tr>\n",
       "      <th>1813336</th>\n",
       "      <td>10.1128/jvi.00912-21</td>\n",
       "      <td>[03mkjjy25, 04zmssz18, 05f82e368, 02vjkv261, 0...</td>\n",
       "      <td>[197819444, 130008121, 0755976N, 180036048, 77...</td>\n",
       "    </tr>\n",
       "  </tbody>\n",
       "</table>\n",
       "<p>1813337 rows × 3 columns</p>\n",
       "</div>"
      ],
      "text/plain": [
       "                                      doi  \\\n",
       "0                 10.47421/sllmoo23_51-66   \n",
       "1           10.26434/chemrxiv.14095699.v2   \n",
       "2           10.26434/chemrxiv.13713328.v1   \n",
       "3               10.1101/2021.03.01.433388   \n",
       "4        10.20944/preprints202107.0318.v1   \n",
       "...                                   ...   \n",
       "1813332                 10.1038/srep30379   \n",
       "1813333         10.1038/s41567-020-0989-3   \n",
       "1813334                    10.1101/147884   \n",
       "1813335               10.1162/qss_a_00146   \n",
       "1813336              10.1128/jvi.00912-21   \n",
       "\n",
       "                                                      rors  \\\n",
       "0                                              [04zmssz18]   \n",
       "1                                              [04zmssz18]   \n",
       "2                                              [04zmssz18]   \n",
       "3                                              [04zmssz18]   \n",
       "4                                              [04zmssz18]   \n",
       "...                                                    ...   \n",
       "1813332                             [0495fxg12, 04w6kn183]   \n",
       "1813333                  [055ss7a31, 013cjyk83, 02en5vm52]   \n",
       "1813334                                                 []   \n",
       "1813335                                                 []   \n",
       "1813336  [03mkjjy25, 04zmssz18, 05f82e368, 02vjkv261, 0...   \n",
       "\n",
       "                                    bso_local_affiliations  \n",
       "0                                              [130008121]  \n",
       "1                                              [130008121]  \n",
       "2                                              [130008121]  \n",
       "3                                              [130008121]  \n",
       "4                                              [130008121]  \n",
       "...                                                    ...  \n",
       "1813332  [775684897, 784314064, gip-be, sante_pub_inser...  \n",
       "1813333  [199411684F, 130026149, 303623, 130023385, pcc...  \n",
       "1813334                                                 []  \n",
       "1813335                                                 []  \n",
       "1813336  [197819444, 130008121, 0755976N, 180036048, 77...  \n",
       "\n",
       "[1813337 rows x 3 columns]"
      ]
     },
     "execution_count": 45,
     "metadata": {},
     "output_type": "execute_result"
    }
   ],
   "source": [
    "df_bso"
   ]
  },
  {
   "cell_type": "code",
   "execution_count": 51,
   "metadata": {},
   "outputs": [],
   "source": [
    "df_ipcc_ipbes_bso=pd.merge(df_ipcc_ipbes,df_bso,on='doi',how='left').rename(columns={'rors_x':'rors'})"
   ]
  },
  {
   "cell_type": "code",
   "execution_count": 52,
   "metadata": {},
   "outputs": [],
   "source": [
    "del df_ipcc_ipbes_bso['rors_y']"
   ]
  },
  {
   "cell_type": "code",
   "execution_count": 53,
   "metadata": {},
   "outputs": [
    {
     "data": {
      "text/plain": [
       "Index(['doi', 'year', 'rors', 'authors_name', 'institutions_names', 'ipcc',\n",
       "       'countries', 'ipbes', 'bso_local_affiliations'],\n",
       "      dtype='object')"
      ]
     },
     "execution_count": 53,
     "metadata": {},
     "output_type": "execute_result"
    }
   ],
   "source": [
    "df_ipcc_ipbes_bso.columns"
   ]
  },
  {
   "cell_type": "code",
   "execution_count": 54,
   "metadata": {},
   "outputs": [
    {
     "ename": "FileNotFoundError",
     "evalue": "File c:\\Users\\haallat\\Documents\\teds\\IPCC_bibliography\\AR6\\structured_data\\iso_countries.json does not exist",
     "output_type": "error",
     "traceback": [
      "\u001b[1;31m---------------------------------------------------------------------------\u001b[0m",
      "\u001b[1;31mFileNotFoundError\u001b[0m                         Traceback (most recent call last)",
      "Input \u001b[1;32mIn [54]\u001b[0m, in \u001b[0;36m<cell line: 1>\u001b[1;34m()\u001b[0m\n\u001b[1;32m----> 1\u001b[0m df_iso\u001b[38;5;241m=\u001b[39m\u001b[43mpd\u001b[49m\u001b[38;5;241;43m.\u001b[39;49m\u001b[43mread_json\u001b[49m\u001b[43m(\u001b[49m\u001b[43mmodule_path\u001b[49m\u001b[38;5;241;43m+\u001b[39;49m\u001b[38;5;124;43m'\u001b[39;49m\u001b[38;5;130;43;01m\\\\\u001b[39;49;00m\u001b[38;5;124;43mIPCC_bibliography\u001b[39;49m\u001b[38;5;130;43;01m\\\\\u001b[39;49;00m\u001b[38;5;124;43mAR6\u001b[39;49m\u001b[38;5;130;43;01m\\\\\u001b[39;49;00m\u001b[38;5;124;43mstructured_data\u001b[39;49m\u001b[38;5;130;43;01m\\\\\u001b[39;49;00m\u001b[38;5;124;43miso_countries.json\u001b[39;49m\u001b[38;5;124;43m'\u001b[39;49m\u001b[43m)\u001b[49m\n",
      "File \u001b[1;32mc:\\Users\\haallat\\Anaconda3\\lib\\site-packages\\pandas\\io\\json\\_json.py:780\u001b[0m, in \u001b[0;36mread_json\u001b[1;34m(path_or_buf, orient, typ, dtype, convert_axes, convert_dates, keep_default_dates, precise_float, date_unit, encoding, encoding_errors, lines, chunksize, compression, nrows, storage_options, dtype_backend, engine)\u001b[0m\n\u001b[0;32m    777\u001b[0m \u001b[38;5;28;01mif\u001b[39;00m convert_axes \u001b[38;5;129;01mis\u001b[39;00m \u001b[38;5;28;01mNone\u001b[39;00m \u001b[38;5;129;01mand\u001b[39;00m orient \u001b[38;5;241m!=\u001b[39m \u001b[38;5;124m\"\u001b[39m\u001b[38;5;124mtable\u001b[39m\u001b[38;5;124m\"\u001b[39m:\n\u001b[0;32m    778\u001b[0m     convert_axes \u001b[38;5;241m=\u001b[39m \u001b[38;5;28;01mTrue\u001b[39;00m\n\u001b[1;32m--> 780\u001b[0m json_reader \u001b[38;5;241m=\u001b[39m \u001b[43mJsonReader\u001b[49m\u001b[43m(\u001b[49m\n\u001b[0;32m    781\u001b[0m \u001b[43m    \u001b[49m\u001b[43mpath_or_buf\u001b[49m\u001b[43m,\u001b[49m\n\u001b[0;32m    782\u001b[0m \u001b[43m    \u001b[49m\u001b[43morient\u001b[49m\u001b[38;5;241;43m=\u001b[39;49m\u001b[43morient\u001b[49m\u001b[43m,\u001b[49m\n\u001b[0;32m    783\u001b[0m \u001b[43m    \u001b[49m\u001b[43mtyp\u001b[49m\u001b[38;5;241;43m=\u001b[39;49m\u001b[43mtyp\u001b[49m\u001b[43m,\u001b[49m\n\u001b[0;32m    784\u001b[0m \u001b[43m    \u001b[49m\u001b[43mdtype\u001b[49m\u001b[38;5;241;43m=\u001b[39;49m\u001b[43mdtype\u001b[49m\u001b[43m,\u001b[49m\n\u001b[0;32m    785\u001b[0m \u001b[43m    \u001b[49m\u001b[43mconvert_axes\u001b[49m\u001b[38;5;241;43m=\u001b[39;49m\u001b[43mconvert_axes\u001b[49m\u001b[43m,\u001b[49m\n\u001b[0;32m    786\u001b[0m \u001b[43m    \u001b[49m\u001b[43mconvert_dates\u001b[49m\u001b[38;5;241;43m=\u001b[39;49m\u001b[43mconvert_dates\u001b[49m\u001b[43m,\u001b[49m\n\u001b[0;32m    787\u001b[0m \u001b[43m    \u001b[49m\u001b[43mkeep_default_dates\u001b[49m\u001b[38;5;241;43m=\u001b[39;49m\u001b[43mkeep_default_dates\u001b[49m\u001b[43m,\u001b[49m\n\u001b[0;32m    788\u001b[0m \u001b[43m    \u001b[49m\u001b[43mprecise_float\u001b[49m\u001b[38;5;241;43m=\u001b[39;49m\u001b[43mprecise_float\u001b[49m\u001b[43m,\u001b[49m\n\u001b[0;32m    789\u001b[0m \u001b[43m    \u001b[49m\u001b[43mdate_unit\u001b[49m\u001b[38;5;241;43m=\u001b[39;49m\u001b[43mdate_unit\u001b[49m\u001b[43m,\u001b[49m\n\u001b[0;32m    790\u001b[0m \u001b[43m    \u001b[49m\u001b[43mencoding\u001b[49m\u001b[38;5;241;43m=\u001b[39;49m\u001b[43mencoding\u001b[49m\u001b[43m,\u001b[49m\n\u001b[0;32m    791\u001b[0m \u001b[43m    \u001b[49m\u001b[43mlines\u001b[49m\u001b[38;5;241;43m=\u001b[39;49m\u001b[43mlines\u001b[49m\u001b[43m,\u001b[49m\n\u001b[0;32m    792\u001b[0m \u001b[43m    \u001b[49m\u001b[43mchunksize\u001b[49m\u001b[38;5;241;43m=\u001b[39;49m\u001b[43mchunksize\u001b[49m\u001b[43m,\u001b[49m\n\u001b[0;32m    793\u001b[0m \u001b[43m    \u001b[49m\u001b[43mcompression\u001b[49m\u001b[38;5;241;43m=\u001b[39;49m\u001b[43mcompression\u001b[49m\u001b[43m,\u001b[49m\n\u001b[0;32m    794\u001b[0m \u001b[43m    \u001b[49m\u001b[43mnrows\u001b[49m\u001b[38;5;241;43m=\u001b[39;49m\u001b[43mnrows\u001b[49m\u001b[43m,\u001b[49m\n\u001b[0;32m    795\u001b[0m \u001b[43m    \u001b[49m\u001b[43mstorage_options\u001b[49m\u001b[38;5;241;43m=\u001b[39;49m\u001b[43mstorage_options\u001b[49m\u001b[43m,\u001b[49m\n\u001b[0;32m    796\u001b[0m \u001b[43m    \u001b[49m\u001b[43mencoding_errors\u001b[49m\u001b[38;5;241;43m=\u001b[39;49m\u001b[43mencoding_errors\u001b[49m\u001b[43m,\u001b[49m\n\u001b[0;32m    797\u001b[0m \u001b[43m    \u001b[49m\u001b[43mdtype_backend\u001b[49m\u001b[38;5;241;43m=\u001b[39;49m\u001b[43mdtype_backend\u001b[49m\u001b[43m,\u001b[49m\n\u001b[0;32m    798\u001b[0m \u001b[43m    \u001b[49m\u001b[43mengine\u001b[49m\u001b[38;5;241;43m=\u001b[39;49m\u001b[43mengine\u001b[49m\u001b[43m,\u001b[49m\n\u001b[0;32m    799\u001b[0m \u001b[43m\u001b[49m\u001b[43m)\u001b[49m\n\u001b[0;32m    801\u001b[0m \u001b[38;5;28;01mif\u001b[39;00m chunksize:\n\u001b[0;32m    802\u001b[0m     \u001b[38;5;28;01mreturn\u001b[39;00m json_reader\n",
      "File \u001b[1;32mc:\\Users\\haallat\\Anaconda3\\lib\\site-packages\\pandas\\io\\json\\_json.py:893\u001b[0m, in \u001b[0;36mJsonReader.__init__\u001b[1;34m(self, filepath_or_buffer, orient, typ, dtype, convert_axes, convert_dates, keep_default_dates, precise_float, date_unit, encoding, lines, chunksize, compression, nrows, storage_options, encoding_errors, dtype_backend, engine)\u001b[0m\n\u001b[0;32m    891\u001b[0m     \u001b[38;5;28mself\u001b[39m\u001b[38;5;241m.\u001b[39mdata \u001b[38;5;241m=\u001b[39m filepath_or_buffer\n\u001b[0;32m    892\u001b[0m \u001b[38;5;28;01melif\u001b[39;00m \u001b[38;5;28mself\u001b[39m\u001b[38;5;241m.\u001b[39mengine \u001b[38;5;241m==\u001b[39m \u001b[38;5;124m\"\u001b[39m\u001b[38;5;124mujson\u001b[39m\u001b[38;5;124m\"\u001b[39m:\n\u001b[1;32m--> 893\u001b[0m     data \u001b[38;5;241m=\u001b[39m \u001b[38;5;28;43mself\u001b[39;49m\u001b[38;5;241;43m.\u001b[39;49m\u001b[43m_get_data_from_filepath\u001b[49m\u001b[43m(\u001b[49m\u001b[43mfilepath_or_buffer\u001b[49m\u001b[43m)\u001b[49m\n\u001b[0;32m    894\u001b[0m     \u001b[38;5;28mself\u001b[39m\u001b[38;5;241m.\u001b[39mdata \u001b[38;5;241m=\u001b[39m \u001b[38;5;28mself\u001b[39m\u001b[38;5;241m.\u001b[39m_preprocess_data(data)\n",
      "File \u001b[1;32mc:\\Users\\haallat\\Anaconda3\\lib\\site-packages\\pandas\\io\\json\\_json.py:949\u001b[0m, in \u001b[0;36mJsonReader._get_data_from_filepath\u001b[1;34m(self, filepath_or_buffer)\u001b[0m\n\u001b[0;32m    941\u001b[0m     filepath_or_buffer \u001b[38;5;241m=\u001b[39m \u001b[38;5;28mself\u001b[39m\u001b[38;5;241m.\u001b[39mhandles\u001b[38;5;241m.\u001b[39mhandle\n\u001b[0;32m    942\u001b[0m \u001b[38;5;28;01melif\u001b[39;00m (\n\u001b[0;32m    943\u001b[0m     \u001b[38;5;28misinstance\u001b[39m(filepath_or_buffer, \u001b[38;5;28mstr\u001b[39m)\n\u001b[0;32m    944\u001b[0m     \u001b[38;5;129;01mand\u001b[39;00m filepath_or_buffer\u001b[38;5;241m.\u001b[39mlower()\u001b[38;5;241m.\u001b[39mendswith(\n\u001b[1;32m   (...)\u001b[0m\n\u001b[0;32m    947\u001b[0m     \u001b[38;5;129;01mand\u001b[39;00m \u001b[38;5;129;01mnot\u001b[39;00m file_exists(filepath_or_buffer)\n\u001b[0;32m    948\u001b[0m ):\n\u001b[1;32m--> 949\u001b[0m     \u001b[38;5;28;01mraise\u001b[39;00m \u001b[38;5;167;01mFileNotFoundError\u001b[39;00m(\u001b[38;5;124mf\u001b[39m\u001b[38;5;124m\"\u001b[39m\u001b[38;5;124mFile \u001b[39m\u001b[38;5;132;01m{\u001b[39;00mfilepath_or_buffer\u001b[38;5;132;01m}\u001b[39;00m\u001b[38;5;124m does not exist\u001b[39m\u001b[38;5;124m\"\u001b[39m)\n\u001b[0;32m    950\u001b[0m \u001b[38;5;28;01melse\u001b[39;00m:\n\u001b[0;32m    951\u001b[0m     warnings\u001b[38;5;241m.\u001b[39mwarn(\n\u001b[0;32m    952\u001b[0m         \u001b[38;5;124m\"\u001b[39m\u001b[38;5;124mPassing literal json to \u001b[39m\u001b[38;5;124m'\u001b[39m\u001b[38;5;124mread_json\u001b[39m\u001b[38;5;124m'\u001b[39m\u001b[38;5;124m is deprecated and \u001b[39m\u001b[38;5;124m\"\u001b[39m\n\u001b[0;32m    953\u001b[0m         \u001b[38;5;124m\"\u001b[39m\u001b[38;5;124mwill be removed in a future version. To read from a \u001b[39m\u001b[38;5;124m\"\u001b[39m\n\u001b[1;32m   (...)\u001b[0m\n\u001b[0;32m    956\u001b[0m         stacklevel\u001b[38;5;241m=\u001b[39mfind_stack_level(),\n\u001b[0;32m    957\u001b[0m     )\n",
      "\u001b[1;31mFileNotFoundError\u001b[0m: File c:\\Users\\haallat\\Documents\\teds\\IPCC_bibliography\\AR6\\structured_data\\iso_countries.json does not exist"
     ]
    }
   ],
   "source": [
    "df_iso=pd.read_json(module_path+'\\\\IPCC_bibliography\\\\AR6\\\\structured_data\\\\iso_countries.json')"
   ]
  },
  {
   "cell_type": "code",
   "execution_count": null,
   "metadata": {},
   "outputs": [],
   "source": [
    "df_iso=df_iso.rename(columns={'code':'countries'})"
   ]
  },
  {
   "cell_type": "code",
   "execution_count": null,
   "metadata": {},
   "outputs": [],
   "source": [
    "df_ipcc_ipbes_bso=pd.merge(df_ipcc_ipbes_bso,df_iso, on='countries', how='left')\n",
    "del df_ipcc_ipbes_bso['countries']\n",
    "df_ipcc_ipbes_bso=df_ipcc_ipbes_bso.rename(columns={'name':'countries'})"
   ]
  },
  {
   "cell_type": "code",
   "execution_count": null,
   "metadata": {},
   "outputs": [],
   "source": [
    "df_brevet_doi=pd.DataFrame('brevet_doi.json')"
   ]
  },
  {
   "cell_type": "code",
   "execution_count": null,
   "metadata": {},
   "outputs": [],
   "source": [
    "df_brevet_doi"
   ]
  },
  {
   "cell_type": "code",
   "execution_count": null,
   "metadata": {},
   "outputs": [],
   "source": [
    "df_ipcc_ipbes_bso=pd.merge(df_ipcc_ipbes_bso,df_brevet_doi, on='doi', how='left')"
   ]
  },
  {
   "cell_type": "code",
   "execution_count": 1,
   "metadata": {},
   "outputs": [
    {
     "ename": "NameError",
     "evalue": "name 'df_ipcc_ipbes_bso' is not defined",
     "output_type": "error",
     "traceback": [
      "\u001b[1;31m---------------------------------------------------------------------------\u001b[0m",
      "\u001b[1;31mNameError\u001b[0m                                 Traceback (most recent call last)",
      "Input \u001b[1;32mIn [1]\u001b[0m, in \u001b[0;36m<cell line: 1>\u001b[1;34m()\u001b[0m\n\u001b[1;32m----> 1\u001b[0m \u001b[43mdf_ipcc_ipbes_bso\u001b[49m\n",
      "\u001b[1;31mNameError\u001b[0m: name 'df_ipcc_ipbes_bso' is not defined"
     ]
    }
   ],
   "source": [
    "df_ipcc_ipbes_bso"
   ]
  },
  {
   "cell_type": "code",
   "execution_count": 55,
   "metadata": {},
   "outputs": [
    {
     "name": "stdout",
     "output_type": "stream",
     "text": [
      "54821 data in cached openalex data\n",
      "6607 data in cached openalex data\n"
     ]
    }
   ],
   "source": [
    "cached_openalex_data = load_cache({},module_path+'\\\\IPCC_bibliography\\\\AR6\\\\structured_data\\\\cached_openalex_data.pkl')\n",
    "cached_openalex_data_ipbes = load_cache({},module_path+'\\\\IPCC_bibliography\\\\AR6\\\\structured_data\\\\cached_openalex_data_ipbes.pkl')\n",
    "cached_openalex_data.update(cached_openalex_data_ipbes)\n",
    "df_cache=pd.DataFrame({'doi':list(cached_openalex_data.keys()),'OpenAlex_data':list(cached_openalex_data.values())})"
   ]
  },
  {
   "cell_type": "code",
   "execution_count": 56,
   "metadata": {},
   "outputs": [
    {
     "data": {
      "text/html": [
       "<div>\n",
       "<style scoped>\n",
       "    .dataframe tbody tr th:only-of-type {\n",
       "        vertical-align: middle;\n",
       "    }\n",
       "\n",
       "    .dataframe tbody tr th {\n",
       "        vertical-align: top;\n",
       "    }\n",
       "\n",
       "    .dataframe thead th {\n",
       "        text-align: right;\n",
       "    }\n",
       "</style>\n",
       "<table border=\"1\" class=\"dataframe\">\n",
       "  <thead>\n",
       "    <tr style=\"text-align: right;\">\n",
       "      <th></th>\n",
       "      <th>doi</th>\n",
       "      <th>OpenAlex_data</th>\n",
       "    </tr>\n",
       "  </thead>\n",
       "  <tbody>\n",
       "    <tr>\n",
       "      <th>0</th>\n",
       "      <td>10.1098/rstl.1686.0026</td>\n",
       "      <td>[{'id': 'https://openalex.org/W4244279015', 'd...</td>\n",
       "    </tr>\n",
       "    <tr>\n",
       "      <th>1</th>\n",
       "      <td>10.1098/rstl.1735.0014</td>\n",
       "      <td>[{'id': 'https://openalex.org/W4252425265', 'd...</td>\n",
       "    </tr>\n",
       "    <tr>\n",
       "      <th>2</th>\n",
       "      <td>10.1098/rstl.1861.0001</td>\n",
       "      <td>[{'id': 'https://openalex.org/W3091998362', 'd...</td>\n",
       "    </tr>\n",
       "    <tr>\n",
       "      <th>3</th>\n",
       "      <td>10.1017/s0080456800017592</td>\n",
       "      <td>[{'id': 'https://openalex.org/W2314134964', 'd...</td>\n",
       "    </tr>\n",
       "    <tr>\n",
       "      <th>4</th>\n",
       "      <td>10.2307/2992177</td>\n",
       "      <td>[{'id': 'https://openalex.org/W256209766', 'do...</td>\n",
       "    </tr>\n",
       "    <tr>\n",
       "      <th>...</th>\n",
       "      <td>...</td>\n",
       "      <td>...</td>\n",
       "    </tr>\n",
       "    <tr>\n",
       "      <th>60244</th>\n",
       "      <td>10.9758/cpn.2015.13.3.239</td>\n",
       "      <td>[{'id': 'https://openalex.org/W2221413160', 'd...</td>\n",
       "    </tr>\n",
       "    <tr>\n",
       "      <th>60245</th>\n",
       "      <td>10.9774/gleaf.978-1-907643-06-4_5</td>\n",
       "      <td>[{'id': 'https://openalex.org/W3124428460', 'd...</td>\n",
       "    </tr>\n",
       "    <tr>\n",
       "      <th>60246</th>\n",
       "      <td>10.9783/9780812295948-002</td>\n",
       "      <td>[{'id': 'https://openalex.org/W3137011924', 'd...</td>\n",
       "    </tr>\n",
       "    <tr>\n",
       "      <th>60247</th>\n",
       "      <td>10.2172/2283221</td>\n",
       "      <td>[{'id': 'https://openalex.org/W4391458189', 'd...</td>\n",
       "    </tr>\n",
       "    <tr>\n",
       "      <th>60248</th>\n",
       "      <td>10.1016/b978-0-12-812362-1.00002-3</td>\n",
       "      <td>[{'id': 'https://openalex.org/W3107290679', 'd...</td>\n",
       "    </tr>\n",
       "  </tbody>\n",
       "</table>\n",
       "<p>60249 rows × 2 columns</p>\n",
       "</div>"
      ],
      "text/plain": [
       "                                      doi  \\\n",
       "0                  10.1098/rstl.1686.0026   \n",
       "1                  10.1098/rstl.1735.0014   \n",
       "2                  10.1098/rstl.1861.0001   \n",
       "3               10.1017/s0080456800017592   \n",
       "4                         10.2307/2992177   \n",
       "...                                   ...   \n",
       "60244           10.9758/cpn.2015.13.3.239   \n",
       "60245   10.9774/gleaf.978-1-907643-06-4_5   \n",
       "60246           10.9783/9780812295948-002   \n",
       "60247                     10.2172/2283221   \n",
       "60248  10.1016/b978-0-12-812362-1.00002-3   \n",
       "\n",
       "                                           OpenAlex_data  \n",
       "0      [{'id': 'https://openalex.org/W4244279015', 'd...  \n",
       "1      [{'id': 'https://openalex.org/W4252425265', 'd...  \n",
       "2      [{'id': 'https://openalex.org/W3091998362', 'd...  \n",
       "3      [{'id': 'https://openalex.org/W2314134964', 'd...  \n",
       "4      [{'id': 'https://openalex.org/W256209766', 'do...  \n",
       "...                                                  ...  \n",
       "60244  [{'id': 'https://openalex.org/W2221413160', 'd...  \n",
       "60245  [{'id': 'https://openalex.org/W3124428460', 'd...  \n",
       "60246  [{'id': 'https://openalex.org/W3137011924', 'd...  \n",
       "60247  [{'id': 'https://openalex.org/W4391458189', 'd...  \n",
       "60248  [{'id': 'https://openalex.org/W3107290679', 'd...  \n",
       "\n",
       "[60249 rows x 2 columns]"
      ]
     },
     "execution_count": 56,
     "metadata": {},
     "output_type": "execute_result"
    }
   ],
   "source": [
    "df_cache"
   ]
  },
  {
   "cell_type": "code",
   "execution_count": 57,
   "metadata": {},
   "outputs": [],
   "source": [
    "df_ipcc_ipbes_bso=pd.merge(df_ipcc_ipbes_bso,df_cache, on='doi', how='inner')"
   ]
  },
  {
   "cell_type": "code",
   "execution_count": 58,
   "metadata": {},
   "outputs": [],
   "source": [
    "dict_doi_bso=[]"
   ]
  },
  {
   "cell_type": "code",
   "execution_count": 59,
   "metadata": {},
   "outputs": [],
   "source": [
    "for i,row in df_ipcc_ipbes_bso.iterrows():\n",
    "    dict_row=row.to_dict()\n",
    "    dict_row2={k:v for k,v in list(dict_row.items()) if ((str(v)!='nan')&(str(v)!='NaN')&(str(v)!='None')&(str(v)!='x'))}\n",
    "    dict_doi_bso.append(dict_row2)"
   ]
  },
  {
   "cell_type": "code",
   "execution_count": 60,
   "metadata": {},
   "outputs": [
    {
     "data": {
      "text/plain": [
       "58409"
      ]
     },
     "execution_count": 60,
     "metadata": {},
     "output_type": "execute_result"
    }
   ],
   "source": [
    "len(dict_doi_bso)"
   ]
  },
  {
   "cell_type": "code",
   "execution_count": 61,
   "metadata": {},
   "outputs": [],
   "source": [
    "json_lines='\\n'.join(json.dumps(entry) for entry in dict_doi_bso)"
   ]
  },
  {
   "cell_type": "code",
   "execution_count": 62,
   "metadata": {},
   "outputs": [],
   "source": [
    "with open(module_path+'\\\\IPCC_bibliography\\\\AR6\\\\structured_data\\\\bso_ipcc_ipbes2.jsonl', 'w') as f:\n",
    "      f.write(json_lines)"
   ]
  },
  {
   "cell_type": "markdown",
   "metadata": {},
   "source": [
    "elastic"
   ]
  },
  {
   "cell_type": "code",
   "execution_count": null,
   "metadata": {},
   "outputs": [],
   "source": [
    "dd = pd.read_json(module_path+'\\\\IPCC_bibliography\\\\AR6\\\\structured_data\\\\bso_ipcc_ipbes2.jsonl', lines=True)"
   ]
  },
  {
   "cell_type": "code",
   "execution_count": null,
   "metadata": {},
   "outputs": [],
   "source": [
    "dd2=dd.dropna(subset=['ipcc']).drop_duplicates(subset=['doi'])"
   ]
  },
  {
   "cell_type": "code",
   "execution_count": null,
   "metadata": {},
   "outputs": [],
   "source": [
    "len(dd2.loc[(dd2['ipcc'].apply(lambda wg_chap: any('1' in x.get('wg', '') for x in wg_chap)))])"
   ]
  },
  {
   "cell_type": "code",
   "execution_count": null,
   "metadata": {},
   "outputs": [],
   "source": [
    "current_dict = dd.to_dict(orient='records')"
   ]
  },
  {
   "cell_type": "code",
   "execution_count": null,
   "metadata": {},
   "outputs": [],
   "source": [
    "list_bso_ipcc_ipbes=[]\n",
    "for i in range(len(dd)):\n",
    "    if len(current_dict[i]['OpenAlex_data'])==1:\n",
    "        openalex_info = current_dict[i]['OpenAlex_data'][0]\n",
    "    else:\n",
    "        openalex_info = current_dict[i]['OpenAlex_data'][1]\n",
    "    del current_dict[i]['OpenAlex_data']\n",
    "    for f in openalex_info:\n",
    "        current_dict[i]['openalex_'+f] = openalex_info[f]  "
   ]
  },
  {
   "cell_type": "code",
   "execution_count": null,
   "metadata": {},
   "outputs": [],
   "source": [
    "df_elastic_input=pd.DataFrame(current_dict)"
   ]
  },
  {
   "cell_type": "code",
   "execution_count": null,
   "metadata": {},
   "outputs": [],
   "source": [
    "df_elastic_input.loc[:,'openalex_concepts']=df_elastic_input.loc[:,'openalex_concepts'].apply(type_score)"
   ]
  },
  {
   "cell_type": "code",
   "execution_count": null,
   "metadata": {},
   "outputs": [],
   "source": [
    "del df_elastic_input['openalex_abstract_inverted_index']"
   ]
  },
  {
   "cell_type": "code",
   "execution_count": null,
   "metadata": {},
   "outputs": [],
   "source": [
    "len(df_elastic_input)"
   ]
  },
  {
   "cell_type": "code",
   "execution_count": null,
   "metadata": {},
   "outputs": [],
   "source": [
    "dict_doi_bso=[]\n",
    "for i,row in df_elastic_input.iterrows():\n",
    "    dict_row=row.to_dict()\n",
    "    dict_row2={k:v for k,v in list(dict_row.items()) if ((str(v)!='nan')&(str(v)!='NaN')&(str(v)!='None')&(str(v)!='x'))}\n",
    "    #dict_row3=remove_too_long(dict_row2)\n",
    "    dict_doi_bso.append(dict_row2)"
   ]
  },
  {
   "cell_type": "code",
   "execution_count": null,
   "metadata": {},
   "outputs": [],
   "source": [
    "json_lines='\\n'.join(json.dumps(entry) for entry in dict_doi_bso)\n",
    "with open('bso_ipcc_ipbes_elastic.jsonl', 'w') as f:\n",
    "      f.write(json_lines)"
   ]
  },
  {
   "cell_type": "code",
   "execution_count": null,
   "metadata": {},
   "outputs": [],
   "source": [
    "#df=pd.read_json('bso_ipcc_ipbes_elastic.jsonl', lines=True)"
   ]
  },
  {
   "cell_type": "code",
   "execution_count": null,
   "metadata": {},
   "outputs": [],
   "source": [
    "es_url_without_http = os.getenv(\"ES_URL\").replace('https://','').replace('http://','')\n",
    "es_host = f'https://{os.getenv(\"ES_LOGIN_TEDS_BACK\")}:{parse.quote(os.getenv(\"ES_PASSWORD_TEDS_BACK\"))}@{es_url_without_http}'\n",
    "index_name='teds-bibliography'"
   ]
  }
 ],
 "metadata": {
  "kernelspec": {
   "display_name": "tf",
   "language": "python",
   "name": "python3"
  },
  "language_info": {
   "codemirror_mode": {
    "name": "ipython",
    "version": 3
   },
   "file_extension": ".py",
   "mimetype": "text/x-python",
   "name": "python",
   "nbconvert_exporter": "python",
   "pygments_lexer": "ipython3",
   "version": "3.9.12"
  }
 },
 "nbformat": 4,
 "nbformat_minor": 2
}
