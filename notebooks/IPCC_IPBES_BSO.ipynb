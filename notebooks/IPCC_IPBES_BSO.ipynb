{
 "cells": [
  {
   "cell_type": "code",
   "execution_count": 1,
   "metadata": {},
   "outputs": [],
   "source": [
    "import os\n",
    "import sys\n",
    "import pandas as pd\n",
    "import matplotlib.pyplot as plt\n",
    "import json \n",
    "from dotenv import load_dotenv\n",
    "load_dotenv()\n",
    "from urllib import parse\n",
    "\n",
    "\n",
    "module_path = os.path.abspath(os.path.join('..'))\n",
    "if module_path not in sys.path:\n",
    "    sys.path.append(module_path)\n",
    "\n",
    "from code_utils.utils import type_score,get_year_ipcc,get_year_ipbes,get_countries,check_doi_glutton,normalize\n",
    "from code_utils.BSO import update_bso_publications,get_bso_publications\n",
    "from code_utils.pickle import load_cache"
   ]
  },
  {
   "cell_type": "code",
   "execution_count": 27,
   "metadata": {},
   "outputs": [],
   "source": [
    "df_ipcc=pd.read_json(module_path+'\\\\IPCC_bibliography\\\\AR6\\\\structured_data\\\\data_ipcc_visualization.json')"
   ]
  },
  {
   "cell_type": "code",
   "execution_count": 32,
   "metadata": {},
   "outputs": [
    {
     "data": {
      "text/plain": [
       "[2]                   22965\n",
       "[3]                   12402\n",
       "[1]                   10579\n",
       "[2_cross]              3664\n",
       "[2, 2_cross]           1561\n",
       "[1, 2]                 1473\n",
       "[2, 3]                 1227\n",
       "[1, 2, 2_cross]         252\n",
       "[1, 3]                  189\n",
       "[1, 2_cross]            178\n",
       "[1, 2, 3]               172\n",
       "[2, 2_cross, 3]          95\n",
       "[2_cross, 3]             34\n",
       "[1, 2, 2_cross, 3]       24\n",
       "[1, 2_cross, 3]           6\n",
       "Name: count, dtype: int64"
      ]
     },
     "execution_count": 32,
     "metadata": {},
     "output_type": "execute_result"
    }
   ],
   "source": [
    "pd.Series([list(pd.Series([x[i].get('wg') for i in range(len(x))]).drop_duplicates()) for x in list(df_ipcc.drop_duplicates(subset=['doi']).dropna(subset=['doi']).wg_chap)]).value_counts()"
   ]
  },
  {
   "cell_type": "code",
   "execution_count": 21,
   "metadata": {},
   "outputs": [],
   "source": [
    "df_ipcc['year']=df_ipcc.loc[:,'year'].apply(lambda x: get_year_ipcc(x))"
   ]
  },
  {
   "cell_type": "code",
   "execution_count": 26,
   "metadata": {},
   "outputs": [
    {
     "data": {
      "text/plain": [
       "1686"
      ]
     },
     "execution_count": 26,
     "metadata": {},
     "output_type": "execute_result"
    }
   ],
   "source": [
    "min([int(x) for x in list(df_ipcc.year_OA.drop_duplicates().dropna())])"
   ]
  },
  {
   "cell_type": "code",
   "execution_count": 4,
   "metadata": {},
   "outputs": [],
   "source": [
    "df_ipcc['test_glutton']=df_ipcc.apply(lambda row: check_doi_glutton(row), axis=1)"
   ]
  },
  {
   "cell_type": "code",
   "execution_count": 7,
   "metadata": {},
   "outputs": [
    {
     "data": {
      "text/plain": [
       "test_glutton\n",
       "True     63904\n",
       "False    17311\n",
       "Name: count, dtype: int64"
      ]
     },
     "execution_count": 7,
     "metadata": {},
     "output_type": "execute_result"
    }
   ],
   "source": [
    "df_ipcc.test_glutton.value_counts()"
   ]
  },
  {
   "cell_type": "code",
   "execution_count": 6,
   "metadata": {},
   "outputs": [
    {
     "data": {
      "text/html": [
       "<div>\n",
       "<style scoped>\n",
       "    .dataframe tbody tr th:only-of-type {\n",
       "        vertical-align: middle;\n",
       "    }\n",
       "\n",
       "    .dataframe tbody tr th {\n",
       "        vertical-align: top;\n",
       "    }\n",
       "\n",
       "    .dataframe thead th {\n",
       "        text-align: right;\n",
       "    }\n",
       "</style>\n",
       "<table border=\"1\" class=\"dataframe\">\n",
       "  <thead>\n",
       "    <tr style=\"text-align: right;\">\n",
       "      <th></th>\n",
       "      <th>year</th>\n",
       "      <th>url</th>\n",
       "      <th>doi</th>\n",
       "      <th>title</th>\n",
       "      <th>author</th>\n",
       "      <th>freq</th>\n",
       "      <th>wg</th>\n",
       "      <th>chap</th>\n",
       "      <th>countries</th>\n",
       "      <th>concepts</th>\n",
       "      <th>sdg</th>\n",
       "      <th>topics</th>\n",
       "      <th>is_OA_available</th>\n",
       "      <th>title_OA</th>\n",
       "      <th>year_OA</th>\n",
       "      <th>wg_chap</th>\n",
       "      <th>test_glutton</th>\n",
       "    </tr>\n",
       "  </thead>\n",
       "  <tbody>\n",
       "    <tr>\n",
       "      <th>0</th>\n",
       "      <td>2019</td>\n",
       "      <td>https://www.frontiersin.org/research-topics/82...</td>\n",
       "      <td>10.3389/978-2-88963-118-6</td>\n",
       "      <td>{OceanObs'19: An Ocean of Opportunity. Volume 1}</td>\n",
       "      <td>None</td>\n",
       "      <td>1</td>\n",
       "      <td>[wg1]</td>\n",
       "      <td>[wg1_chap_01]</td>\n",
       "      <td>[None]</td>\n",
       "      <td>[{'name': 'Volume (thermodynamics)'}, {'name':...</td>\n",
       "      <td>[{'id': '14', 'name': 'Life below water'}]</td>\n",
       "      <td>[{'name': 'Marine Biodiversity and Ecosystem F...</td>\n",
       "      <td>1.0</td>\n",
       "      <td>Oceanobs'19: An Ocean of Opportunity. Volume I</td>\n",
       "      <td>2020.0</td>\n",
       "      <td>[{'name': 'wg1_chap_01', 'wg': '1', 'chap': 1}]</td>\n",
       "      <td>False</td>\n",
       "    </tr>\n",
       "    <tr>\n",
       "      <th>1</th>\n",
       "      <td>2000</td>\n",
       "      <td>None</td>\n",
       "      <td>10.1007/978-94-015-9612-1</td>\n",
       "      <td>{Eduard Br{\\\"{u}}ckner – The Sources and Conse...</td>\n",
       "      <td>None</td>\n",
       "      <td>1</td>\n",
       "      <td>[wg1]</td>\n",
       "      <td>[wg1_chap_01]</td>\n",
       "      <td>[None]</td>\n",
       "      <td>[{'name': 'Geographer'}, {'name': 'Climate cha...</td>\n",
       "      <td>[{'id': '13', 'name': 'Climate action'}]</td>\n",
       "      <td>[{'name': 'Climate Change and Paleoclimatology...</td>\n",
       "      <td>1.0</td>\n",
       "      <td>Eduard Brückner — The Sources and Consequences...</td>\n",
       "      <td>2000.0</td>\n",
       "      <td>[{'name': 'wg1_chap_01', 'wg': '1', 'chap': 1}]</td>\n",
       "      <td>False</td>\n",
       "    </tr>\n",
       "    <tr>\n",
       "      <th>2</th>\n",
       "      <td>1978</td>\n",
       "      <td>http://pure.iiasa.ac.at/id/eprint/821/1/XB-78-...</td>\n",
       "      <td>None</td>\n",
       "      <td>{Carbon Dioxide, Climate and Society: Proceedi...</td>\n",
       "      <td>None</td>\n",
       "      <td>1</td>\n",
       "      <td>None</td>\n",
       "      <td>None</td>\n",
       "      <td>[None]</td>\n",
       "      <td>None</td>\n",
       "      <td>None</td>\n",
       "      <td>None</td>\n",
       "      <td>NaN</td>\n",
       "      <td>None</td>\n",
       "      <td>NaN</td>\n",
       "      <td>None</td>\n",
       "      <td>False</td>\n",
       "    </tr>\n",
       "    <tr>\n",
       "      <th>3</th>\n",
       "      <td>2017</td>\n",
       "      <td>None</td>\n",
       "      <td>None</td>\n",
       "      <td>{Cultures of Prediction in Atmospheric and Cli...</td>\n",
       "      <td>None</td>\n",
       "      <td>1</td>\n",
       "      <td>None</td>\n",
       "      <td>None</td>\n",
       "      <td>[None]</td>\n",
       "      <td>None</td>\n",
       "      <td>None</td>\n",
       "      <td>None</td>\n",
       "      <td>NaN</td>\n",
       "      <td>None</td>\n",
       "      <td>NaN</td>\n",
       "      <td>None</td>\n",
       "      <td>False</td>\n",
       "    </tr>\n",
       "    <tr>\n",
       "      <th>4</th>\n",
       "      <td>1900</td>\n",
       "      <td>None</td>\n",
       "      <td>10.1002/andp.19003081208</td>\n",
       "      <td>{{\\\"{U}}ber die Bedeutung des Wasserdampfes un...</td>\n",
       "      <td>{\\AA}ngstr{\\\"{o}}m, Knut</td>\n",
       "      <td>1</td>\n",
       "      <td>[wg1, wg1]</td>\n",
       "      <td>[wg1_chap_01, wg1_chap_07]</td>\n",
       "      <td>[US]</td>\n",
       "      <td>[{'name': 'Physics'}, {'name': 'Humanities'}, ...</td>\n",
       "      <td>None</td>\n",
       "      <td>[{'name': 'Stratospheric Chemistry and Climate...</td>\n",
       "      <td>1.0</td>\n",
       "      <td>Ueber die Bedeutung des Wasserdampfes und der ...</td>\n",
       "      <td>1900.0</td>\n",
       "      <td>[{'name': 'wg1_chap_01', 'wg': '1', 'chap': 1}...</td>\n",
       "      <td>False</td>\n",
       "    </tr>\n",
       "    <tr>\n",
       "      <th>...</th>\n",
       "      <td>...</td>\n",
       "      <td>...</td>\n",
       "      <td>...</td>\n",
       "      <td>...</td>\n",
       "      <td>...</td>\n",
       "      <td>...</td>\n",
       "      <td>...</td>\n",
       "      <td>...</td>\n",
       "      <td>...</td>\n",
       "      <td>...</td>\n",
       "      <td>...</td>\n",
       "      <td>...</td>\n",
       "      <td>...</td>\n",
       "      <td>...</td>\n",
       "      <td>...</td>\n",
       "      <td>...</td>\n",
       "      <td>...</td>\n",
       "    </tr>\n",
       "    <tr>\n",
       "      <th>81162</th>\n",
       "      <td>2018.0</td>\n",
       "      <td>https://doi.org/10.1080%2F09640568.2018.1513832</td>\n",
       "      <td>10.1080/09640568.2018.1513832</td>\n",
       "      <td>Special section: advancing the role of cities ...</td>\n",
       "      <td>Jeroen van der Heijden and James Patterson and...</td>\n",
       "      <td>1</td>\n",
       "      <td>[wg2, wg3]</td>\n",
       "      <td>[wg2_chap_06, wg3_chap_17]</td>\n",
       "      <td>[FI, NL, AU, KR, NZ]</td>\n",
       "      <td>[{'name': 'Corporate governance'}, {'name': 'P...</td>\n",
       "      <td>[{'id': '13', 'name': 'Climate action'}]</td>\n",
       "      <td>[{'name': 'Sustainability Transitions and Resi...</td>\n",
       "      <td>1.0</td>\n",
       "      <td>Special section: advancing the role of cities ...</td>\n",
       "      <td>2018.0</td>\n",
       "      <td>[{'name': 'wg2_chap_06', 'wg': '2', 'chap': 6}...</td>\n",
       "      <td>False</td>\n",
       "    </tr>\n",
       "    <tr>\n",
       "      <th>81163</th>\n",
       "      <td>2018.0</td>\n",
       "      <td>https://doi.org/10.1016%2Fj.cosust.2018.03.006</td>\n",
       "      <td>10.1016/j.cosust.2018.03.006</td>\n",
       "      <td>The limits of voluntary programs for low-carbo...</td>\n",
       "      <td>Jeroen Van der Heijden</td>\n",
       "      <td>1</td>\n",
       "      <td>[wg3]</td>\n",
       "      <td>[wg3_chap_17]</td>\n",
       "      <td>[NL, AU]</td>\n",
       "      <td>[{'name': 'Turnover'}, {'name': 'Resource cons...</td>\n",
       "      <td>[{'id': '13', 'name': 'Climate action'}]</td>\n",
       "      <td>[{'name': 'Sustainability Transitions and Resi...</td>\n",
       "      <td>1.0</td>\n",
       "      <td>The limits of voluntary programs for low-carbo...</td>\n",
       "      <td>2018.0</td>\n",
       "      <td>[{'name': 'wg3_chap_17', 'wg': '3', 'chap': 17}]</td>\n",
       "      <td>False</td>\n",
       "    </tr>\n",
       "    <tr>\n",
       "      <th>81173</th>\n",
       "      <td>2000.0</td>\n",
       "      <td>https://doi.org/10.1080%2F00071773.2000.11007303</td>\n",
       "      <td>10.1080/00071773.2000.11007303</td>\n",
       "      <td>$\\less$b$\\greater$The View from Within: First ...</td>\n",
       "      <td>N.E. Wetherick</td>\n",
       "      <td>1</td>\n",
       "      <td>[wg3]</td>\n",
       "      <td>[wg3_chap_17]</td>\n",
       "      <td>[None]</td>\n",
       "      <td>[{'name': 'Consciousness'}, {'name': 'Philosop...</td>\n",
       "      <td>[{'id': '10', 'name': 'Reduced inequalities'}]</td>\n",
       "      <td>[{'name': 'Physics of the Mind and Cognitive S...</td>\n",
       "      <td>1.0</td>\n",
       "      <td>&lt;b&gt;The View from Within: First Person Approach...</td>\n",
       "      <td>2000.0</td>\n",
       "      <td>[{'name': 'wg3_chap_17', 'wg': '3', 'chap': 17}]</td>\n",
       "      <td>False</td>\n",
       "    </tr>\n",
       "    <tr>\n",
       "      <th>81191</th>\n",
       "      <td>2018.0</td>\n",
       "      <td>https://doi.org/10.17645%2Fup.v3i2.1245</td>\n",
       "      <td>10.17645/up.v3i2.1245</td>\n",
       "      <td>{WGV}: An Australian Urban Precinct Case Study...</td>\n",
       "      <td>Jason Wiktorowicz and Tanya Babaeff and Jessic...</td>\n",
       "      <td>1</td>\n",
       "      <td>[wg2, wg3, wg3]</td>\n",
       "      <td>[wg2_chap_11, wg3_chap_08, wg3_chap_17]</td>\n",
       "      <td>[AU]</td>\n",
       "      <td>[{'name': 'Precinct'}, {'name': 'Sustainabilit...</td>\n",
       "      <td>None</td>\n",
       "      <td>[{'name': 'Integrated Management of Water, Ene...</td>\n",
       "      <td>1.0</td>\n",
       "      <td>WGV: An Australian Urban Precinct Case Study t...</td>\n",
       "      <td>2018.0</td>\n",
       "      <td>[{'name': 'wg2_chap_11', 'wg': '2', 'chap': 11...</td>\n",
       "      <td>False</td>\n",
       "    </tr>\n",
       "    <tr>\n",
       "      <th>81195</th>\n",
       "      <td>2018.0</td>\n",
       "      <td>https://doi.org/10.1007%2Fs12053-018-9679-8</td>\n",
       "      <td>10.1007/s12053-018-9679-8</td>\n",
       "      <td>The potential contribution of disruptive low-c...</td>\n",
       "      <td>Charlie Wilson and Hazel Pettifor and Emma Cas...</td>\n",
       "      <td>1</td>\n",
       "      <td>[wg3, wg3, wg3, wg3, wg3]</td>\n",
       "      <td>[wg3_chap_03, wg3_chap_05, wg3_chap_07, wg3_ch...</td>\n",
       "      <td>[GB, AT]</td>\n",
       "      <td>[{'name': 'Disruptive innovation'}, {'name': '...</td>\n",
       "      <td>None</td>\n",
       "      <td>[{'name': 'Rebound Effect on Energy Efficiency...</td>\n",
       "      <td>1.0</td>\n",
       "      <td>The potential contribution of disruptive low-c...</td>\n",
       "      <td>2018.0</td>\n",
       "      <td>[{'name': 'wg3_chap_03', 'wg': '3', 'chap': 3}...</td>\n",
       "      <td>False</td>\n",
       "    </tr>\n",
       "  </tbody>\n",
       "</table>\n",
       "<p>17311 rows × 17 columns</p>\n",
       "</div>"
      ],
      "text/plain": [
       "         year                                                url  \\\n",
       "0        2019  https://www.frontiersin.org/research-topics/82...   \n",
       "1        2000                                               None   \n",
       "2        1978  http://pure.iiasa.ac.at/id/eprint/821/1/XB-78-...   \n",
       "3        2017                                               None   \n",
       "4        1900                                               None   \n",
       "...       ...                                                ...   \n",
       "81162  2018.0    https://doi.org/10.1080%2F09640568.2018.1513832   \n",
       "81163  2018.0     https://doi.org/10.1016%2Fj.cosust.2018.03.006   \n",
       "81173  2000.0   https://doi.org/10.1080%2F00071773.2000.11007303   \n",
       "81191  2018.0            https://doi.org/10.17645%2Fup.v3i2.1245   \n",
       "81195  2018.0        https://doi.org/10.1007%2Fs12053-018-9679-8   \n",
       "\n",
       "                                  doi  \\\n",
       "0           10.3389/978-2-88963-118-6   \n",
       "1           10.1007/978-94-015-9612-1   \n",
       "2                                None   \n",
       "3                                None   \n",
       "4            10.1002/andp.19003081208   \n",
       "...                               ...   \n",
       "81162   10.1080/09640568.2018.1513832   \n",
       "81163    10.1016/j.cosust.2018.03.006   \n",
       "81173  10.1080/00071773.2000.11007303   \n",
       "81191           10.17645/up.v3i2.1245   \n",
       "81195       10.1007/s12053-018-9679-8   \n",
       "\n",
       "                                                   title  \\\n",
       "0       {OceanObs'19: An Ocean of Opportunity. Volume 1}   \n",
       "1      {Eduard Br{\\\"{u}}ckner – The Sources and Conse...   \n",
       "2      {Carbon Dioxide, Climate and Society: Proceedi...   \n",
       "3      {Cultures of Prediction in Atmospheric and Cli...   \n",
       "4      {{\\\"{U}}ber die Bedeutung des Wasserdampfes un...   \n",
       "...                                                  ...   \n",
       "81162  Special section: advancing the role of cities ...   \n",
       "81163  The limits of voluntary programs for low-carbo...   \n",
       "81173  $\\less$b$\\greater$The View from Within: First ...   \n",
       "81191  {WGV}: An Australian Urban Precinct Case Study...   \n",
       "81195  The potential contribution of disruptive low-c...   \n",
       "\n",
       "                                                  author  freq  \\\n",
       "0                                                   None     1   \n",
       "1                                                   None     1   \n",
       "2                                                   None     1   \n",
       "3                                                   None     1   \n",
       "4                               {\\AA}ngstr{\\\"{o}}m, Knut     1   \n",
       "...                                                  ...   ...   \n",
       "81162  Jeroen van der Heijden and James Patterson and...     1   \n",
       "81163                             Jeroen Van der Heijden     1   \n",
       "81173                                     N.E. Wetherick     1   \n",
       "81191  Jason Wiktorowicz and Tanya Babaeff and Jessic...     1   \n",
       "81195  Charlie Wilson and Hazel Pettifor and Emma Cas...     1   \n",
       "\n",
       "                              wg  \\\n",
       "0                          [wg1]   \n",
       "1                          [wg1]   \n",
       "2                           None   \n",
       "3                           None   \n",
       "4                     [wg1, wg1]   \n",
       "...                          ...   \n",
       "81162                 [wg2, wg3]   \n",
       "81163                      [wg3]   \n",
       "81173                      [wg3]   \n",
       "81191            [wg2, wg3, wg3]   \n",
       "81195  [wg3, wg3, wg3, wg3, wg3]   \n",
       "\n",
       "                                                    chap  \\\n",
       "0                                          [wg1_chap_01]   \n",
       "1                                          [wg1_chap_01]   \n",
       "2                                                   None   \n",
       "3                                                   None   \n",
       "4                             [wg1_chap_01, wg1_chap_07]   \n",
       "...                                                  ...   \n",
       "81162                         [wg2_chap_06, wg3_chap_17]   \n",
       "81163                                      [wg3_chap_17]   \n",
       "81173                                      [wg3_chap_17]   \n",
       "81191            [wg2_chap_11, wg3_chap_08, wg3_chap_17]   \n",
       "81195  [wg3_chap_03, wg3_chap_05, wg3_chap_07, wg3_ch...   \n",
       "\n",
       "                  countries  \\\n",
       "0                    [None]   \n",
       "1                    [None]   \n",
       "2                    [None]   \n",
       "3                    [None]   \n",
       "4                      [US]   \n",
       "...                     ...   \n",
       "81162  [FI, NL, AU, KR, NZ]   \n",
       "81163              [NL, AU]   \n",
       "81173                [None]   \n",
       "81191                  [AU]   \n",
       "81195              [GB, AT]   \n",
       "\n",
       "                                                concepts  \\\n",
       "0      [{'name': 'Volume (thermodynamics)'}, {'name':...   \n",
       "1      [{'name': 'Geographer'}, {'name': 'Climate cha...   \n",
       "2                                                   None   \n",
       "3                                                   None   \n",
       "4      [{'name': 'Physics'}, {'name': 'Humanities'}, ...   \n",
       "...                                                  ...   \n",
       "81162  [{'name': 'Corporate governance'}, {'name': 'P...   \n",
       "81163  [{'name': 'Turnover'}, {'name': 'Resource cons...   \n",
       "81173  [{'name': 'Consciousness'}, {'name': 'Philosop...   \n",
       "81191  [{'name': 'Precinct'}, {'name': 'Sustainabilit...   \n",
       "81195  [{'name': 'Disruptive innovation'}, {'name': '...   \n",
       "\n",
       "                                                  sdg  \\\n",
       "0          [{'id': '14', 'name': 'Life below water'}]   \n",
       "1            [{'id': '13', 'name': 'Climate action'}]   \n",
       "2                                                None   \n",
       "3                                                None   \n",
       "4                                                None   \n",
       "...                                               ...   \n",
       "81162        [{'id': '13', 'name': 'Climate action'}]   \n",
       "81163        [{'id': '13', 'name': 'Climate action'}]   \n",
       "81173  [{'id': '10', 'name': 'Reduced inequalities'}]   \n",
       "81191                                            None   \n",
       "81195                                            None   \n",
       "\n",
       "                                                  topics  is_OA_available  \\\n",
       "0      [{'name': 'Marine Biodiversity and Ecosystem F...              1.0   \n",
       "1      [{'name': 'Climate Change and Paleoclimatology...              1.0   \n",
       "2                                                   None              NaN   \n",
       "3                                                   None              NaN   \n",
       "4      [{'name': 'Stratospheric Chemistry and Climate...              1.0   \n",
       "...                                                  ...              ...   \n",
       "81162  [{'name': 'Sustainability Transitions and Resi...              1.0   \n",
       "81163  [{'name': 'Sustainability Transitions and Resi...              1.0   \n",
       "81173  [{'name': 'Physics of the Mind and Cognitive S...              1.0   \n",
       "81191  [{'name': 'Integrated Management of Water, Ene...              1.0   \n",
       "81195  [{'name': 'Rebound Effect on Energy Efficiency...              1.0   \n",
       "\n",
       "                                                title_OA  year_OA  \\\n",
       "0         Oceanobs'19: An Ocean of Opportunity. Volume I   2020.0   \n",
       "1      Eduard Brückner — The Sources and Consequences...   2000.0   \n",
       "2                                                   None      NaN   \n",
       "3                                                   None      NaN   \n",
       "4      Ueber die Bedeutung des Wasserdampfes und der ...   1900.0   \n",
       "...                                                  ...      ...   \n",
       "81162  Special section: advancing the role of cities ...   2018.0   \n",
       "81163  The limits of voluntary programs for low-carbo...   2018.0   \n",
       "81173  <b>The View from Within: First Person Approach...   2000.0   \n",
       "81191  WGV: An Australian Urban Precinct Case Study t...   2018.0   \n",
       "81195  The potential contribution of disruptive low-c...   2018.0   \n",
       "\n",
       "                                                 wg_chap  test_glutton  \n",
       "0        [{'name': 'wg1_chap_01', 'wg': '1', 'chap': 1}]         False  \n",
       "1        [{'name': 'wg1_chap_01', 'wg': '1', 'chap': 1}]         False  \n",
       "2                                                   None         False  \n",
       "3                                                   None         False  \n",
       "4      [{'name': 'wg1_chap_01', 'wg': '1', 'chap': 1}...         False  \n",
       "...                                                  ...           ...  \n",
       "81162  [{'name': 'wg2_chap_06', 'wg': '2', 'chap': 6}...         False  \n",
       "81163   [{'name': 'wg3_chap_17', 'wg': '3', 'chap': 17}]         False  \n",
       "81173   [{'name': 'wg3_chap_17', 'wg': '3', 'chap': 17}]         False  \n",
       "81191  [{'name': 'wg2_chap_11', 'wg': '2', 'chap': 11...         False  \n",
       "81195  [{'name': 'wg3_chap_03', 'wg': '3', 'chap': 3}...         False  \n",
       "\n",
       "[17311 rows x 17 columns]"
      ]
     },
     "execution_count": 6,
     "metadata": {},
     "output_type": "execute_result"
    }
   ],
   "source": [
    "df_ipcc[df_ipcc.test_glutton==False]"
   ]
  },
  {
   "cell_type": "code",
   "execution_count": 8,
   "metadata": {},
   "outputs": [
    {
     "data": {
      "text/plain": [
       "'the potential contribution of disruptive low carbon innovations to 1 5 textdegree c climate mitigation'"
      ]
     },
     "execution_count": 8,
     "metadata": {},
     "output_type": "execute_result"
    }
   ],
   "source": [
    "normalize(df_ipcc[df_ipcc.test_glutton==False].title[81195])"
   ]
  },
  {
   "cell_type": "code",
   "execution_count": 9,
   "metadata": {},
   "outputs": [
    {
     "data": {
      "text/plain": [
       "'the potential contribution of disruptive low carbon innovations to 1 5 ° c climate mitigation'"
      ]
     },
     "execution_count": 9,
     "metadata": {},
     "output_type": "execute_result"
    }
   ],
   "source": [
    "normalize(df_ipcc[df_ipcc.test_glutton==False].title_OA[81195])"
   ]
  },
  {
   "cell_type": "code",
   "execution_count": 11,
   "metadata": {},
   "outputs": [
    {
     "data": {
      "text/plain": [
       "2018.0"
      ]
     },
     "execution_count": 11,
     "metadata": {},
     "output_type": "execute_result"
    }
   ],
   "source": [
    "df_ipcc[df_ipcc.test_glutton==False].year[81195]"
   ]
  },
  {
   "cell_type": "code",
   "execution_count": 10,
   "metadata": {},
   "outputs": [
    {
     "data": {
      "text/plain": [
       "2018.0"
      ]
     },
     "execution_count": 10,
     "metadata": {},
     "output_type": "execute_result"
    }
   ],
   "source": [
    "df_ipcc[df_ipcc.test_glutton==False].year_OA[81195]"
   ]
  },
  {
   "cell_type": "code",
   "execution_count": null,
   "metadata": {},
   "outputs": [],
   "source": [
    "df_ipcc=df_ipcc.rename(columns={'wg_chap':'ipcc'})"
   ]
  },
  {
   "cell_type": "code",
   "execution_count": null,
   "metadata": {},
   "outputs": [],
   "source": [
    "df_ipcc_group=df_ipcc.groupby(by=['doi','year'], dropna=True).agg({'ipcc': lambda x: list(x)[0], 'countries': lambda x: list(x)[0], 'freq':'sum'})\n",
    "df_ipcc_group=df_ipcc_group.reset_index()"
   ]
  },
  {
   "cell_type": "code",
   "execution_count": null,
   "metadata": {},
   "outputs": [],
   "source": [
    "df_ipcc_group[df_ipcc_group.freq>1]"
   ]
  },
  {
   "cell_type": "code",
   "execution_count": null,
   "metadata": {},
   "outputs": [],
   "source": [
    "df_ipcc_group.ipcc[4]"
   ]
  },
  {
   "cell_type": "code",
   "execution_count": null,
   "metadata": {},
   "outputs": [],
   "source": [
    "df_ipcc_group.loc[:,'countries']=df_ipcc_group.loc[:,'countries'].apply(lambda x: None if x==['None'] else x)"
   ]
  },
  {
   "cell_type": "code",
   "execution_count": null,
   "metadata": {},
   "outputs": [],
   "source": [
    "df_ipbes=pd.read_json(module_path+'\\\\IPCC_bibliography\\\\AR6\\\\structured_data\\\\data_ipbes_visualization.json')"
   ]
  },
  {
   "cell_type": "code",
   "execution_count": null,
   "metadata": {},
   "outputs": [],
   "source": [
    "df_ipbes['ipbes']=df_ipbes.apply(lambda row: [{'chapter': str(x['tag']).replace('ipbes-global_chapter','')} for x in row['tags']], axis=1)"
   ]
  },
  {
   "cell_type": "code",
   "execution_count": null,
   "metadata": {},
   "outputs": [],
   "source": [
    "df_ipbes_group=df_ipbes.groupby(by=['doi','year'], dropna=True).agg({'ipbes': lambda x: list(x)[0], 'countries': lambda x: list(x), 'freq': 'sum'})\n",
    "df_ipbes_group=df_ipbes_group.reset_index()"
   ]
  },
  {
   "cell_type": "code",
   "execution_count": null,
   "metadata": {},
   "outputs": [],
   "source": [
    "df_ipbes_group.loc[:,'countries']=df_ipbes_group.loc[:,'countries'].apply(lambda x: x[0])\n",
    "df_ipbes_group.loc[:,'countries']=df_ipbes_group.loc[:,'countries'].apply(lambda x: None if x==['None'] else x)"
   ]
  },
  {
   "cell_type": "code",
   "execution_count": null,
   "metadata": {},
   "outputs": [],
   "source": [
    "df_ipbes['year']=df_ipbes.loc[:,'date'].apply(lambda x: get_year(str(x)) if pd.isna(x)==False else None)"
   ]
  },
  {
   "cell_type": "code",
   "execution_count": null,
   "metadata": {},
   "outputs": [],
   "source": [
    "df_ipcc_ipbes=pd.merge(df_ipcc_group,df_ipbes_group, on='doi', how='outer')\n",
    "df_ipcc_ipbes"
   ]
  },
  {
   "cell_type": "code",
   "execution_count": null,
   "metadata": {},
   "outputs": [],
   "source": [
    "update_bso_publications()"
   ]
  },
  {
   "cell_type": "code",
   "execution_count": null,
   "metadata": {},
   "outputs": [],
   "source": [
    "bso=pd.DataFrame(get_bso_publications())"
   ]
  },
  {
   "cell_type": "code",
   "execution_count": null,
   "metadata": {},
   "outputs": [],
   "source": [
    "df_bso=bso.transpose().reset_index()"
   ]
  },
  {
   "cell_type": "code",
   "execution_count": null,
   "metadata": {},
   "outputs": [],
   "source": [
    "df_bso.columns=['doi','rors', 'bso_local_affiliations']"
   ]
  },
  {
   "cell_type": "code",
   "execution_count": null,
   "metadata": {},
   "outputs": [],
   "source": [
    "df_bso"
   ]
  },
  {
   "cell_type": "code",
   "execution_count": null,
   "metadata": {},
   "outputs": [],
   "source": [
    "df_ipcc_ipbes_bso=pd.merge(df_ipcc_ipbes,df_bso,on='doi',how='left')"
   ]
  },
  {
   "cell_type": "code",
   "execution_count": null,
   "metadata": {},
   "outputs": [],
   "source": [
    "df_ipcc_ipbes_bso['countries']=df_ipcc_ipbes_bso.apply(lambda row: get_countries(row),axis=1)"
   ]
  },
  {
   "cell_type": "code",
   "execution_count": null,
   "metadata": {},
   "outputs": [],
   "source": [
    "df_ipcc_ipbes_bso=df_ipcc_ipbes_bso[['doi', 'ipcc', 'ipbes', 'countries', 'rors', 'bso_local_affiliations']]"
   ]
  },
  {
   "cell_type": "code",
   "execution_count": null,
   "metadata": {},
   "outputs": [],
   "source": [
    "df_iso=pd.read_json(module_path+'\\\\IPCC_bibliography\\\\AR6\\\\structured_data\\\\iso_countries.json')"
   ]
  },
  {
   "cell_type": "code",
   "execution_count": null,
   "metadata": {},
   "outputs": [],
   "source": [
    "df_iso=df_iso.rename(columns={'code':'countries'})"
   ]
  },
  {
   "cell_type": "code",
   "execution_count": null,
   "metadata": {},
   "outputs": [],
   "source": [
    "df_ipcc_ipbes_bso=pd.merge(df_ipcc_ipbes_bso,df_iso, on='countries', how='left')\n",
    "del df_ipcc_ipbes_bso['countries']\n",
    "df_ipcc_ipbes_bso=df_ipcc_ipbes_bso.rename(columns={'name':'countries'})"
   ]
  },
  {
   "cell_type": "code",
   "execution_count": null,
   "metadata": {},
   "outputs": [],
   "source": [
    "df_brevet_doi=pd.DataFrame('brevet_doi.json')"
   ]
  },
  {
   "cell_type": "code",
   "execution_count": null,
   "metadata": {},
   "outputs": [],
   "source": [
    "df_brevet_doi"
   ]
  },
  {
   "cell_type": "code",
   "execution_count": null,
   "metadata": {},
   "outputs": [],
   "source": [
    "df_ipcc_ipbes_bso=pd.merge(df_ipcc_ipbes_bso,df_brevet_doi, on='doi', how='left')"
   ]
  },
  {
   "cell_type": "code",
   "execution_count": null,
   "metadata": {},
   "outputs": [],
   "source": [
    "cached_openalex_data = load_cache({},module_path+'\\\\IPCC_bibliography\\\\AR6\\\\structured_data\\\\cached_openalex_data.pkl')\n",
    "cached_openalex_data_ipbes = load_cache({},module_path+'\\\\IPCC_bibliography\\\\AR6\\\\structured_data\\\\cached_openalex_data_ipbes.pkl')\n",
    "cached_openalex_data.update(cached_openalex_data_ipbes)\n",
    "df_cache=pd.DataFrame({'doi':list(cached_openalex_data.keys()),'OpenAlex_data':list(cached_openalex_data.values())})"
   ]
  },
  {
   "cell_type": "code",
   "execution_count": null,
   "metadata": {},
   "outputs": [],
   "source": [
    "df_cache"
   ]
  },
  {
   "cell_type": "code",
   "execution_count": null,
   "metadata": {},
   "outputs": [],
   "source": [
    "df_ipcc_ipbes_bso=pd.merge(df_ipcc_ipbes_bso,df_cache, on='doi', how='inner')"
   ]
  },
  {
   "cell_type": "code",
   "execution_count": null,
   "metadata": {},
   "outputs": [],
   "source": [
    "dict_doi_bso=[]"
   ]
  },
  {
   "cell_type": "code",
   "execution_count": null,
   "metadata": {},
   "outputs": [],
   "source": [
    "for i,row in df_ipcc_ipbes_bso.iterrows():\n",
    "    dict_row=row.to_dict()\n",
    "    dict_row2={k:v for k,v in list(dict_row.items()) if ((str(v)!='nan')&(str(v)!='NaN')&(str(v)!='None')&(str(v)!='x'))}\n",
    "    dict_doi_bso.append(dict_row2)"
   ]
  },
  {
   "cell_type": "code",
   "execution_count": null,
   "metadata": {},
   "outputs": [],
   "source": [
    "len(dict_doi_bso)"
   ]
  },
  {
   "cell_type": "code",
   "execution_count": null,
   "metadata": {},
   "outputs": [],
   "source": [
    "json_lines='\\n'.join(json.dumps(entry) for entry in dict_doi_bso)"
   ]
  },
  {
   "cell_type": "code",
   "execution_count": null,
   "metadata": {},
   "outputs": [],
   "source": [
    "with open(module_path+'\\\\IPCC_bibliography\\\\AR6\\\\structured_data\\\\bso_ipcc_ipbes.jsonl', 'w') as f:\n",
    "      f.write(json_lines)"
   ]
  },
  {
   "cell_type": "markdown",
   "metadata": {},
   "source": [
    "elastic"
   ]
  },
  {
   "cell_type": "code",
   "execution_count": null,
   "metadata": {},
   "outputs": [],
   "source": [
    "dd = pd.read_json(module_path+'\\\\IPCC_bibliography\\\\AR6\\\\structured_data\\\\bso_ipcc_ipbes.jsonl', lines=True)"
   ]
  },
  {
   "cell_type": "code",
   "execution_count": null,
   "metadata": {},
   "outputs": [],
   "source": [
    "dd2=dd.dropna(subset=['ipcc']).drop_duplicates(subset=['doi'])"
   ]
  },
  {
   "cell_type": "code",
   "execution_count": null,
   "metadata": {},
   "outputs": [],
   "source": [
    "len(dd2.loc[(dd2['ipcc'].apply(lambda wg_chap: any('1' in x.get('wg', '') for x in wg_chap)))])"
   ]
  },
  {
   "cell_type": "code",
   "execution_count": null,
   "metadata": {},
   "outputs": [],
   "source": [
    "current_dict = dd.to_dict(orient='records')"
   ]
  },
  {
   "cell_type": "code",
   "execution_count": null,
   "metadata": {},
   "outputs": [],
   "source": [
    "list_bso_ipcc_ipbes=[]\n",
    "for i in range(len(dd)):\n",
    "    if len(current_dict[i]['OpenAlex_data'])==1:\n",
    "        openalex_info = current_dict[i]['OpenAlex_data'][0]\n",
    "    else:\n",
    "        openalex_info = current_dict[i]['OpenAlex_data'][1]\n",
    "    del current_dict[i]['OpenAlex_data']\n",
    "    for f in openalex_info:\n",
    "        current_dict[i]['openalex_'+f] = openalex_info[f]  "
   ]
  },
  {
   "cell_type": "code",
   "execution_count": null,
   "metadata": {},
   "outputs": [],
   "source": [
    "df_elastic_input=pd.DataFrame(current_dict)"
   ]
  },
  {
   "cell_type": "code",
   "execution_count": null,
   "metadata": {},
   "outputs": [],
   "source": [
    "df_elastic_input.loc[:,'openalex_concepts']=df_elastic_input.loc[:,'openalex_concepts'].apply(type_score)"
   ]
  },
  {
   "cell_type": "code",
   "execution_count": null,
   "metadata": {},
   "outputs": [],
   "source": [
    "del df_elastic_input['openalex_abstract_inverted_index']"
   ]
  },
  {
   "cell_type": "code",
   "execution_count": null,
   "metadata": {},
   "outputs": [],
   "source": [
    "len(df_elastic_input)"
   ]
  },
  {
   "cell_type": "code",
   "execution_count": null,
   "metadata": {},
   "outputs": [],
   "source": [
    "dict_doi_bso=[]\n",
    "for i,row in df_elastic_input.iterrows():\n",
    "    dict_row=row.to_dict()\n",
    "    dict_row2={k:v for k,v in list(dict_row.items()) if ((str(v)!='nan')&(str(v)!='NaN')&(str(v)!='None')&(str(v)!='x'))}\n",
    "    #dict_row3=remove_too_long(dict_row2)\n",
    "    dict_doi_bso.append(dict_row2)"
   ]
  },
  {
   "cell_type": "code",
   "execution_count": null,
   "metadata": {},
   "outputs": [],
   "source": [
    "json_lines='\\n'.join(json.dumps(entry) for entry in dict_doi_bso)\n",
    "with open('bso_ipcc_ipbes_elastic.jsonl', 'w') as f:\n",
    "      f.write(json_lines)"
   ]
  },
  {
   "cell_type": "code",
   "execution_count": null,
   "metadata": {},
   "outputs": [],
   "source": [
    "#df=pd.read_json('bso_ipcc_ipbes_elastic.jsonl', lines=True)"
   ]
  },
  {
   "cell_type": "code",
   "execution_count": null,
   "metadata": {},
   "outputs": [],
   "source": [
    "es_url_without_http = os.getenv(\"ES_URL\").replace('https://','').replace('http://','')\n",
    "es_host = f'https://{os.getenv(\"ES_LOGIN_TEDS_BACK\")}:{parse.quote(os.getenv(\"ES_PASSWORD_TEDS_BACK\"))}@{es_url_without_http}'\n",
    "index_name='teds-bibliography'"
   ]
  }
 ],
 "metadata": {
  "kernelspec": {
   "display_name": "tf",
   "language": "python",
   "name": "python3"
  },
  "language_info": {
   "codemirror_mode": {
    "name": "ipython",
    "version": 3
   },
   "file_extension": ".py",
   "mimetype": "text/x-python",
   "name": "python",
   "nbconvert_exporter": "python",
   "pygments_lexer": "ipython3",
   "version": "3.9.10"
  }
 },
 "nbformat": 4,
 "nbformat_minor": 2
}
