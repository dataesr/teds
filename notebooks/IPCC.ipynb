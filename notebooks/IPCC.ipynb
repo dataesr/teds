{
 "cells": [
  {
   "cell_type": "code",
   "execution_count": 1,
   "id": "7f4a48e7",
   "metadata": {},
   "outputs": [],
   "source": [
    "import os\n",
    "import sys\n",
    "import pandas as pd\n",
    "module_path = os.path.abspath(os.path.join('..'))\n",
    "if module_path not in sys.path:\n",
    "    sys.path.append(module_path)\n",
    "from code_utils.read_ipcc_bib import read_bib_wg\n",
    "from code_utils.clean_doi import get_doi_cleaned\n",
    "from code_utils.enriching_data import get_countries"
   ]
  },
  {
   "cell_type": "markdown",
   "id": "db6ea8c1",
   "metadata": {},
   "source": [
    "Read IPCC references in .bib files"
   ]
  },
  {
   "cell_type": "code",
   "execution_count": null,
   "id": "acf01178",
   "metadata": {},
   "outputs": [],
   "source": [
    "wgs={'1':{'wg1':[], 'dataframes_1':{}, 'listdir1':os.listdir(module_path+f\"\\\\IPCC_bibliography\\\\AR6\\\\WG1\")},\n",
    "     '2':{'wg2':[], 'wg2_update':[], 'dataframes_2':{}, 'listdir2':os.listdir(module_path+f\"\\\\IPCC_bibliography\\\\AR6\\\\WG2\")},\n",
    "     '2_CROSS':{'wg2_CROSS':[], 'wg2_CROSS_update':[], 'dataframes_2_CROSS':{}, 'listdir2_CROSS':os.listdir(module_path+f\"\\\\IPCC_bibliography\\\\AR6\\\\WG2_CROSS\")},\n",
    "     '3':{'wg1':[], 'dataframes_3':{}, 'listdir3':os.listdir(module_path+f\"\\\\IPCC_bibliography\\\\AR6\\\\WG3\")}}"
   ]
  },
  {
   "cell_type": "code",
   "execution_count": null,
   "id": "3723f07d",
   "metadata": {},
   "outputs": [],
   "source": [
    "for k in ['1','2','2_CROSS','3']:\n",
    "    wgs[k][f'df_{k}'] = read_bib_wg(wgs,k,verbose=True)\n",
    "    print(wgs[k][f'wg{k}_update'])\n",
    "    #wgs[k][f'df_{k}'].to_json(module_path+f'\\\\IPCC_bibliography\\\\AR6\\\\structured_data\\\\data_wg{k}.jsonl', orient='records', lines=True)"
   ]
  },
  {
   "cell_type": "markdown",
   "id": "ee989369",
   "metadata": {},
   "source": [
    "Read and clean the data from 'structured_data' folder"
   ]
  },
  {
   "cell_type": "code",
   "execution_count": 2,
   "id": "25cd3cc6",
   "metadata": {},
   "outputs": [],
   "source": [
    "data_all={}"
   ]
  },
  {
   "cell_type": "code",
   "execution_count": 3,
   "id": "3b65104c",
   "metadata": {},
   "outputs": [],
   "source": [
    "for k in ['1','2','2_CROSS','3']:\n",
    "   data_all[f'df_wg{k}']=pd.read_json(module_path+f'\\\\IPCC_bibliography\\\\AR6\\\\structured_data\\\\data_wg{k}.jsonl', lines= True)"
   ]
  },
  {
   "cell_type": "code",
   "execution_count": 4,
   "id": "5140bc4f",
   "metadata": {},
   "outputs": [],
   "source": [
    "#all data \n",
    "df_ipcc=pd.concat(list(data_all.values()), ignore_index=True)"
   ]
  },
  {
   "cell_type": "code",
   "execution_count": 5,
   "id": "937762fa",
   "metadata": {},
   "outputs": [],
   "source": [
    "df_ipcc['doi']=df_ipcc.loc[:,'doi'].apply(lambda x: get_doi_cleaned(x))"
   ]
  },
  {
   "cell_type": "markdown",
   "id": "a70ea794",
   "metadata": {},
   "source": [
    "Enriching data through OpenAlex API integration"
   ]
  },
  {
   "cell_type": "code",
   "execution_count": null,
   "id": "b6a65467",
   "metadata": {},
   "outputs": [],
   "source": [
    "df_unique_doi=df_ipcc.groupby(subset=['doi'])\" faire groupby avec chap et frequence d'apparition\"\n",
    "df_unique_doi.loc[:,'doi']=df_unique_doi.loc[:,'doi'].apply(lambda x: None if str(x)[:4]=='http' else x)\n",
    "df_unique_doi=df_unique_doi.dropna(subset=['doi'])"
   ]
  },
  {
   "cell_type": "code",
   "execution_count": null,
   "id": "86e740ab",
   "metadata": {},
   "outputs": [],
   "source": [
    "#get data_OpenAlex from the API (6h)\n",
    "\"\"\" \n",
    "df_unique_doi.apply(lambda row: get_open_alex_data(json_OA,row['doi']), axis= 1)\n",
    "pd.DataFrame(json_OA).to_json(path+'data_OpenAlex.json', orient='records') \n",
    "\"\"\""
   ]
  },
  {
   "cell_type": "code",
   "execution_count": 6,
   "id": "a0a12ef1",
   "metadata": {},
   "outputs": [],
   "source": [
    "#get data_OpenAlex from the file\n",
    "data_OpenAlex_all=pd.read_json(module_path+f'\\\\IPCC_bibliography\\\\AR6\\\\structured_data\\\\data_OpenAlex.json')"
   ]
  },
  {
   "cell_type": "code",
   "execution_count": null,
   "id": "32d1bc13",
   "metadata": {},
   "outputs": [],
   "source": [
    "data_OpenAlex_all[data_OpenAlex_all.doi==]"
   ]
  },
  {
   "cell_type": "code",
   "execution_count": null,
   "id": "a7958613",
   "metadata": {},
   "outputs": [],
   "source": [
    "countries_list = []\n",
    "for i,row in data_OpenAlex_all.iterrows():\n",
    "    countries=get_countries(data_OpenAlex_all,row)\n",
    "    countries_list.append(countries)\n",
    "data_OpenAlex_all['countries'] = countries_list"
   ]
  }
 ],
 "metadata": {
  "kernelspec": {
   "display_name": "Python 3",
   "language": "python",
   "name": "python3"
  },
  "language_info": {
   "codemirror_mode": {
    "name": "ipython",
    "version": 3
   },
   "file_extension": ".py",
   "mimetype": "text/x-python",
   "name": "python",
   "nbconvert_exporter": "python",
   "pygments_lexer": "ipython3",
   "version": "3.11.4"
  }
 },
 "nbformat": 4,
 "nbformat_minor": 5
}
