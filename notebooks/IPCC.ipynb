{
  "cells": [
    {
      "cell_type": "code",
      "execution_count": 1,
      "id": "7f4a48e7",
      "metadata": {},
      "outputs": [],
      "source": [
        "import os\n",
        "import sys\n",
        "import pandas as pd\n",
        "import matplotlib.pyplot as plt\n",
        "\n",
        "module_path = os.path.abspath(os.path.join('..'))\n",
        "if module_path not in sys.path:\n",
        "    sys.path.append(module_path)\n",
        "    \n",
        "from code_utils.read_ipcc_bib import read_bib_wg\n",
        "from code_utils.enriching_data_OpenAlex import get_countries_concepts_sdg,get_open_alex_data,get_open_alex_data_not_in_references\n",
        "from code_utils.utils import aplatir,wg_chap_to_dict,get_doi_cleaned,check_doi_glutton,get_year_ipcc\n",
        "from code_utils.pickle import load_cache,write_cache"
      ]
    },
    {
      "cell_type": "code",
      "execution_count": 2,
      "id": "d8613600",
      "metadata": {},
      "outputs": [],
      "source": [
        "cached_openalex_data = {}\n",
        "cached_openalex_data_not_ipcc = {}"
      ]
    },
    {
      "cell_type": "code",
      "execution_count": null,
      "id": "0b48c157",
      "metadata": {},
      "outputs": [],
      "source": [
        "try:\n",
        "    cached_openalex_data = load_cache(cached_openalex_data,module_path+'\\\\IPCC_bibliography\\\\AR6\\\\structured_data\\\\caches\\\\cached_openalex_data.pkl')\n",
        "    cached_openalex_data_not_ipcc = load_cache(cached_openalex_data_not_ipcc,module_path+'\\\\IPCC_bibliography\\\\AR6\\\\structured_data\\\\caches\\\\cached_openalex_data_not_ipcc.pkl')\n",
        "except:\n",
        "    #write_cache(cached_openalex_data,module_path+'\\\\IPCC_bibliography\\\\AR6\\\\structured_data\\\\caches\\\\cached_openalex_data.pkl')\n",
        "    #write_cache(cached_openalex_data_not_ipcc,module_path+'\\\\IPCC_bibliography\\\\AR6\\\\structured_data\\\\caches\\\\cached_openalex_data_not_ipcc.pkl')\n",
        "    print('oups not in bibliography folder')"
      ]
    },
    {
      "cell_type": "code",
      "execution_count": null,
      "id": "8eca4e26",
      "metadata": {},
      "outputs": [],
      "source": [
        "#write_cache(cached_openalex_data,module_path+'\\\\IPCC_bibliography\\\\AR6\\\\structured_data\\\\caches\\\\cached_openalex_data.pkl')\n",
        "#write_cache(cached_openalex_data_not_ipcc,module_path+'\\\\IPCC_bibliography\\\\AR6\\\\structured_data\\\\caches\\\\cached_openalex_data_not_ipcc.pkl')"
      ]
    },
    {
      "cell_type": "markdown",
      "id": "db6ea8c1",
      "metadata": {},
      "source": [
        "Read IPCC references in .bib files"
      ]
    },
    {
      "cell_type": "code",
      "execution_count": null,
      "id": "acf01178",
      "metadata": {},
      "outputs": [],
      "source": [
        "wgs={'1':{'wg1':[], 'dataframes_1':{}, 'listdir1':['IPCC_AR6_WGI_References_Chapter01.bib',\n",
        " 'IPCC_AR6_WGI_References_Chapter02.bib',\n",
        " 'IPCC_AR6_WGI_References_Chapter03.bib',\n",
        " 'IPCC_AR6_WGI_References_Chapter04.bib',\n",
        " 'IPCC_AR6_WGI_References_Chapter05.bib',\n",
        " 'IPCC_AR6_WGI_References_Chapter06.bib',\n",
        " 'IPCC_AR6_WGI_References_Chapter07.bib',\n",
        " 'IPCC_AR6_WGI_References_Chapter08.bib',\n",
        " 'IPCC_AR6_WGI_References_Chapter09.bib',\n",
        " 'IPCC_AR6_WGI_References_Chapter10.bib',\n",
        " 'IPCC_AR6_WGI_References_Chapter11.bib',\n",
        " 'IPCC_AR6_WGI_References_Chapter12.bib']},\n",
        "     '2':{'wg2':[], 'wg2_update':[], 'dataframes_2':{}, 'listdir2':os.listdir(module_path+f\"\\\\IPCC_bibliography\\\\AR6\\\\WG2\")},\n",
        "     '2_CROSS':{'wg2_CROSS':[], 'wg2_CROSS_update':[], 'dataframes_2_CROSS':{}, 'listdir2_CROSS':os.listdir(module_path+f\"\\\\IPCC_bibliography\\\\AR6\\\\WG2_CROSS\")},\n",
        "     '3':{'wg3':[], 'dataframes_3':{}, 'listdir3':os.listdir(module_path+f\"\\\\IPCC_bibliography\\\\AR6\\\\WG3\")}}"
      ]
    },
    {
      "cell_type": "code",
      "execution_count": null,
      "id": "a147ed03",
      "metadata": {},
      "outputs": [],
      "source": [
        "os.listdir(module_path+f\"\\\\IPCC_bibliography\\\\AR6\\\\WG1\")"
      ]
    },
    {
      "cell_type": "code",
      "execution_count": null,
      "id": "3723f07d",
      "metadata": {},
      "outputs": [],
      "source": [
        "for k in ['1','2','2_CROSS','3']:\n",
        "    wgs[k][f'df_{k}'] = read_bib_wg(wgs,k,verbose=True)\n",
        "    #wgs[k][f'df_{k}'].to_json(module_path+f'\\\\IPCC_bibliography\\\\AR6\\\\structured_data\\\\data_wg{k}.jsonl', orient='records', lines=True)"
      ]
    },
    {
      "cell_type": "markdown",
      "id": "ee989369",
      "metadata": {},
      "source": [
        "Read and clean the data from 'structured_data' folder"
      ]
    },
    {
      "cell_type": "code",
      "execution_count": 2,
      "id": "25cd3cc6",
      "metadata": {},
      "outputs": [],
      "source": [
        "data_all={}"
      ]
    },
    {
      "cell_type": "code",
      "execution_count": 3,
      "id": "742a33da",
      "metadata": {},
      "outputs": [],
      "source": [
        "for k in ['1','2','2_CROSS','3']:\n",
        "   #data_all[f'df_wg{k}']=wgs[k][f'df_{k}']\n",
        "   data_all[f'df_wg{k}']=pd.read_json(module_path+f'\\\\IPCC_bibliography\\\\AR6\\\\structured_data\\\\data_wg{k}.jsonl', lines= True)"
      ]
    },
    {
      "cell_type": "code",
      "execution_count": 4,
      "id": "5140bc4f",
      "metadata": {},
      "outputs": [],
      "source": [
        "#all data \n",
        "df_ipcc=pd.concat(list(data_all.values()), ignore_index=True)"
      ]
    },
    {
      "cell_type": "code",
      "execution_count": null,
      "id": "937762fa",
      "metadata": {},
      "outputs": [],
      "source": [
        "df_ipcc.loc[:,'doi']=df_ipcc.loc[:,'doi'].apply(lambda x: get_doi_cleaned(x))\n",
        "df_ipcc.loc[:,'doi']=df_ipcc.loc[:,'doi'].apply(lambda x: None if str(x)[:4]=='http' else x)\n",
        "df_ipcc['freq']=1"
      ]
    },
    {
      "cell_type": "code",
      "execution_count": 7,
      "id": "4ee1c2bb",
      "metadata": {},
      "outputs": [
        {
          "data": {
            "text/plain": [
              "0                                10.3389/978-2-88963-118-6\n",
              "1                                10.1007/978-94-015-9612-1\n",
              "2        http://pure.iiasa.ac.at/id/eprint/821/1/XB-78-...\n",
              "4                                 10.1002/andp.19003081208\n",
              "5                               10.3402/tellusa.v16i1.8885\n",
              "                               ...                        \n",
              "81209                        10.1016/j.jclepro.2018.05.194\n",
              "81210                       10.1016/j.apenergy.2017.07.036\n",
              "81211                                 10.1029/2019rg000644\n",
              "81212                          10.1016/j.enpol.2013.08.092\n",
              "81214                                10.4324/9780203153833\n",
              "Name: doi, Length: 57445, dtype: object"
            ]
          },
          "execution_count": 7,
          "metadata": {},
          "output_type": "execute_result"
        }
      ],
      "source": [
        "df_ipcc.doi.dropna().drop_duplicates()"
      ]
    },
    {
      "cell_type": "markdown",
      "id": "a70ea794",
      "metadata": {},
      "source": [
        "Enriching data through OpenAlex API integration"
      ]
    },
    {
      "cell_type": "code",
      "execution_count": null,
      "id": "daa02cba",
      "metadata": {},
      "outputs": [],
      "source": [
        "df_unique_doi=df_ipcc.groupby(by=['doi'], dropna=True).agg({'wg': lambda x: list(x)}).reset_index()\n",
        "df_unique_doi.loc[:,'wg']=df_unique_doi.loc[:,'wg'].apply(lambda x: list(pd.Series(x).drop_duplicates()))\n",
        "#df_unique_doi.to_json('./ipcc_model/fasttext/ipcc_wg.json')"
      ]
    },
    {
      "cell_type": "code",
      "execution_count": null,
      "id": "b6a65467",
      "metadata": {},
      "outputs": [],
      "source": [
        "df_unique_doi=df_ipcc[['doi','title','year']].drop_duplicates(subset=['doi']).dropna(subset=['doi'])\n",
        "df_unique_doi=df_unique_doi.reset_index()"
      ]
    },
    {
      "cell_type": "code",
      "execution_count": null,
      "id": "86e740ab",
      "metadata": {},
      "outputs": [],
      "source": [
        "#get data_OpenAlex from the API \n",
        "df_unique_doi.apply(lambda row: get_open_alex_data(cached_openalex_data,row['doi']), axis= 1)"
      ]
    },
    {
      "cell_type": "code",
      "execution_count": null,
      "id": "b8cc5e28",
      "metadata": {},
      "outputs": [],
      "source": [
        "len(cached_openalex_data)"
      ]
    },
    {
      "cell_type": "code",
      "execution_count": null,
      "id": "2408fe7d",
      "metadata": {},
      "outputs": [],
      "source": [
        "write_cache(cached_openalex_data,module_path+'\\\\IPCC_bibliography\\\\AR6\\\\structured_data\\\\caches\\\\cached_openalex_data.pkl')"
      ]
    },
    {
      "cell_type": "code",
      "execution_count": null,
      "id": "a7958613",
      "metadata": {},
      "outputs": [],
      "source": [
        "countries_list = []\n",
        "concepts_list = []\n",
        "sdg_list = []\n",
        "topics_list = []\n",
        "is_OA_available_list=[]\n",
        "title_list=[]\n",
        "year_list=[]\n",
        "names_list=[]\n",
        "rors_list=[]\n",
        "institutions_names_list=[]\n",
        "locations_list=[]\n",
        "locations_id_list=[]\n",
        "type_list=[]\n",
        "type_crossref_list=[]\n",
        "\n",
        "for i,row in df_unique_doi.iterrows():\n",
        "    countries,concepts,sdg,year,topics,doi,bool_OA,title,name,rors,institutions_names,locations_names,locations_id,type_OA,type_crossref=get_countries_concepts_sdg(cached_openalex_data,row)\n",
        "\n",
        "    countries_list.append(countries)\n",
        "    concepts_list.append(concepts)\n",
        "    sdg_list.append(sdg)\n",
        "    topics_list.append(topics)\n",
        "    is_OA_available_list.append(bool_OA)\n",
        "    title_list.append(title)\n",
        "    year_list.append(year)\n",
        "    names_list.append(name)\n",
        "    rors_list.append(rors)\n",
        "    institutions_names_list.append(institutions_names)\n",
        "    locations_list.append(locations_names)\n",
        "    locations_id_list.append(locations_id)\n",
        "    type_list.append(type_OA)\n",
        "    type_crossref_list.append(type_crossref)\n",
        "    \n",
        "\n",
        "df_unique_doi['countries'] = countries_list\n",
        "df_unique_doi['concepts'] = concepts_list\n",
        "df_unique_doi['sdg'] = sdg_list\n",
        "df_unique_doi['topics'] = topics_list\n",
        "df_unique_doi['is_OA_available'] = is_OA_available_list\n",
        "df_unique_doi['title_OA'] = title_list\n",
        "df_unique_doi['year_OA'] = year_list\n",
        "df_unique_doi['authors_name'] = names_list\n",
        "df_unique_doi['rors'] = rors_list\n",
        "df_unique_doi['institutions_names'] = institutions_names_list\n",
        "df_unique_doi['locations_names'] = locations_list\n",
        "df_unique_doi['locations_ids'] = locations_id_list\n",
        "df_unique_doi['type'] = type_list\n",
        "df_unique_doi['type_crossref'] = type_crossref_list"
      ]
    },
    {
      "cell_type": "code",
      "execution_count": null,
      "id": "b49540b7",
      "metadata": {},
      "outputs": [],
      "source": [
        "#df_unique_doi['wg_chap']=df_unique_doi.apply(lambda row: wg_chap_to_dict(row), axis=1)\n",
        "df_unique_doi.loc[:,'countries']=df_unique_doi.loc[:,'countries'].apply(lambda x: str(x).replace('nan','None').replace('[]','None').replace('[None]','None') if ((str(x)=='nan')|(str(x)=='[None]')|((str(x)=='[]'))) else x )\n",
        "df_unique_doi.loc[:,'countries']=df_unique_doi.loc[:,'countries'].apply(lambda x: ['None'] if x=='None' else x)\n",
        "df_unique_doi.loc[:,'year']=df_unique_doi.loc[:,'year'].apply(lambda x: get_year_ipcc(x))\n",
        "df_unique_doi['test_glutton']=df_unique_doi.apply(lambda row: check_doi_glutton(row), axis=1)\n",
        "df_unique_doi=df_unique_doi[(df_unique_doi['test_glutton']==True)&(pd.isna(df_unique_doi['is_OA_available'])==False)]"
      ]
    },
    {
      "cell_type": "code",
      "execution_count": null,
      "id": "d630f1d0",
      "metadata": {},
      "outputs": [],
      "source": [
        "df_unique_doi.to_json(module_path+f'\\\\IPCC_bibliography\\\\AR6\\\\structured_data\\\\data_model_ipcc\\\\data_ipcc.jsonl', orient='records', lines= True)"
      ]
    },
    {
      "cell_type": "code",
      "execution_count": null,
      "id": "718fde39",
      "metadata": {},
      "outputs": [],
      "source": [
        "df_ipcc=df_ipcc[['year', 'url', 'doi','title','author','freq']]"
      ]
    },
    {
      "cell_type": "code",
      "execution_count": null,
      "id": "9db6380a",
      "metadata": {},
      "outputs": [],
      "source": [
        "df_ipcc=pd.merge(df_ipcc, df_unique_doi[['doi','countries','concepts', 'sdg', 'topics', 'is_OA_available', 'title_OA', 'year_OA', 'authors_name', 'rors', 'institutions_names', 'locations_names', 'locations_ids', 'type', 'type_crossref', 'test_glutton']], on='doi', how='left')\n",
        "df_ipcc.loc[:,'countries']=df_ipcc.loc[:,'countries'].apply(lambda x: str(x).replace('nan','None').replace('[]','None').replace('[None]','None') if ((str(x)=='nan')|(str(x)=='[None]')|((str(x)=='[]'))) else x )\n",
        "df_ipcc.loc[:,'countries']=df_ipcc.loc[:,'countries'].apply(lambda x: ['None'] if x=='None' else x)"
      ]
    },
    {
      "cell_type": "code",
      "execution_count": null,
      "id": "2e99e570",
      "metadata": {},
      "outputs": [],
      "source": [
        "df_ipcc.loc[:,'year']=df_ipcc.loc[:,'year'].apply(lambda x: get_year_ipcc(x))"
      ]
    },
    {
      "cell_type": "code",
      "execution_count": null,
      "id": "4e753c79",
      "metadata": {},
      "outputs": [],
      "source": [
        "df_ipcc['test_glutton']=df_ipcc.apply(lambda row: check_doi_glutton(row), axis=1)"
      ]
    },
    {
      "cell_type": "code",
      "execution_count": null,
      "id": "81bd4120",
      "metadata": {},
      "outputs": [],
      "source": [
        "df_ipcc.drop_duplicates(subset=['doi']).test_glutton.value_counts()"
      ]
    },
    {
      "cell_type": "code",
      "execution_count": null,
      "id": "10a903a9",
      "metadata": {},
      "outputs": [],
      "source": [
        "df_ipcc=df_ipcc[(df_ipcc['test_glutton']==True)&(pd.isna(df_ipcc['is_OA_available'])==False)]"
      ]
    },
    {
      "cell_type": "code",
      "execution_count": null,
      "id": "0640e440",
      "metadata": {},
      "outputs": [],
      "source": [
        "df_ipcc.to_json(module_path+'\\\\IPCC_bibliography\\\\AR6\\\\structured_data\\\\data_ipcc_visualization.json', orient='records')"
      ]
    },
    {
      "cell_type": "code",
      "execution_count": null,
      "id": "0a712bda",
      "metadata": {},
      "outputs": [],
      "source": [
        "df_ipcc=pd.read_json(module_path+f'\\\\IPCC_bibliography\\\\AR6\\\\structured_data\\\\data_ipcc_visualization.json').dropna(subset=['year'])"
      ]
    },
    {
      "cell_type": "markdown",
      "id": "c4297ebd",
      "metadata": {},
      "source": [
        "Find the data for constructing the learning model ( IPCC related or not )"
      ]
    },
    {
      "cell_type": "code",
      "execution_count": 4,
      "id": "87f46aeb",
      "metadata": {},
      "outputs": [],
      "source": [
        "df_ipcc=pd.read_json(module_path+f'\\\\IPCC_bibliography\\\\AR6\\\\structured_data\\\\data_model_ipcc\\\\data_ipcc.jsonl', lines= True).dropna(subset=['year'])"
      ]
    },
    {
      "cell_type": "code",
      "execution_count": 5,
      "id": "d3d0fa68",
      "metadata": {},
      "outputs": [],
      "source": [
        "df_ipcc=df_ipcc.dropna(subset=['year','doi', 'title','topics','locations_names','locations_ids'])"
      ]
    },
    {
      "cell_type": "code",
      "execution_count": 6,
      "id": "9a053b33",
      "metadata": {},
      "outputs": [
        {
          "data": {
            "text/plain": [
              "48101"
            ]
          },
          "execution_count": 6,
          "metadata": {},
          "output_type": "execute_result"
        }
      ],
      "source": [
        "len(df_ipcc)"
      ]
    },
    {
      "cell_type": "code",
      "execution_count": 7,
      "id": "75d41602",
      "metadata": {},
      "outputs": [],
      "source": [
        "df_ipcc['year'] = pd.to_numeric(df_ipcc['year'], errors='coerce')\n",
        "year=df_ipcc.drop_duplicates(subset='doi')['year'].dropna().sort_values().apply(lambda x: int(x))\n",
        "year_counts = pd.Series(list(year)).value_counts().to_dict()"
      ]
    },
    {
      "cell_type": "code",
      "execution_count": 22,
      "id": "36db23d3",
      "metadata": {},
      "outputs": [
        {
          "data": {
            "text/plain": [
              "48101"
            ]
          },
          "execution_count": 22,
          "metadata": {},
          "output_type": "execute_result"
        }
      ],
      "source": [
        "sum(list(year_counts.values()))"
      ]
    },
    {
      "cell_type": "code",
      "execution_count": 23,
      "id": "8664f72f",
      "metadata": {},
      "outputs": [
        {
          "data": {
            "text/plain": [
              "41372"
            ]
          },
          "execution_count": 23,
          "metadata": {},
          "output_type": "execute_result"
        }
      ],
      "source": [
        "len(aplatir(list(cached_openalex_data_not_ipcc.values())))"
      ]
    },
    {
      "cell_type": "code",
      "execution_count": 21,
      "id": "217dc54e",
      "metadata": {},
      "outputs": [],
      "source": [
        "del cached_openalex_data_not_ipcc[2018]"
      ]
    },
    {
      "cell_type": "code",
      "execution_count": 25,
      "id": "bc72000a",
      "metadata": {},
      "outputs": [],
      "source": [
        "dois=list(df_ipcc.doi.dropna().drop_duplicates())+[x['doi'] for x in aplatir(list(cached_openalex_data_not_ipcc.values()))]\n",
        "year_counts_not_ipcc={}"
      ]
    },
    {
      "cell_type": "code",
      "execution_count": 26,
      "id": "3770f7fd",
      "metadata": {},
      "outputs": [
        {
          "name": "stderr",
          "output_type": "stream",
          "text": [
            "DEBUG:urllib3.connectionpool:Starting new HTTPS connection (1): api.openalex.org:443\n",
            "DEBUG:urllib3.connectionpool:https://api.openalex.org:443 \"GET /works?filter=has_doi:true,concepts_count:%3E0,publication_year:2018&sample=200&per-page=200 HTTP/1.1\" 200 305877\n"
          ]
        },
        {
          "name": "stdout",
          "output_type": "stream",
          "text": [
            "plus que 6729 publications pour completer l'année 2018\n"
          ]
        },
        {
          "name": "stderr",
          "output_type": "stream",
          "text": [
            "DEBUG:urllib3.connectionpool:Starting new HTTPS connection (1): api.openalex.org:443\n",
            "DEBUG:urllib3.connectionpool:https://api.openalex.org:443 \"GET /works?filter=has_doi:true,concepts_count:%3E0,publication_year:2018&sample=200&per-page=200 HTTP/1.1\" 200 315522\n"
          ]
        },
        {
          "name": "stdout",
          "output_type": "stream",
          "text": [
            "plus que 6626 publications pour completer l'année 2018\n"
          ]
        },
        {
          "name": "stderr",
          "output_type": "stream",
          "text": [
            "DEBUG:urllib3.connectionpool:Starting new HTTPS connection (1): api.openalex.org:443\n",
            "DEBUG:urllib3.connectionpool:https://api.openalex.org:443 \"GET /works?filter=has_doi:true,concepts_count:%3E0,publication_year:2018&sample=200&per-page=200 HTTP/1.1\" 200 304835\n"
          ]
        },
        {
          "name": "stdout",
          "output_type": "stream",
          "text": [
            "plus que 6525 publications pour completer l'année 2018\n"
          ]
        },
        {
          "name": "stderr",
          "output_type": "stream",
          "text": [
            "DEBUG:urllib3.connectionpool:Starting new HTTPS connection (1): api.openalex.org:443\n",
            "DEBUG:urllib3.connectionpool:https://api.openalex.org:443 \"GET /works?filter=has_doi:true,concepts_count:%3E0,publication_year:2018&sample=200&per-page=200 HTTP/1.1\" 200 309162\n"
          ]
        },
        {
          "name": "stdout",
          "output_type": "stream",
          "text": [
            "plus que 6424 publications pour completer l'année 2018\n"
          ]
        },
        {
          "name": "stderr",
          "output_type": "stream",
          "text": [
            "DEBUG:urllib3.connectionpool:Starting new HTTPS connection (1): api.openalex.org:443\n",
            "DEBUG:urllib3.connectionpool:https://api.openalex.org:443 \"GET /works?filter=has_doi:true,concepts_count:%3E0,publication_year:2018&sample=200&per-page=200 HTTP/1.1\" 200 334478\n"
          ]
        },
        {
          "name": "stdout",
          "output_type": "stream",
          "text": [
            "plus que 6318 publications pour completer l'année 2018\n"
          ]
        },
        {
          "name": "stderr",
          "output_type": "stream",
          "text": [
            "DEBUG:urllib3.connectionpool:Starting new HTTPS connection (1): api.openalex.org:443\n",
            "DEBUG:urllib3.connectionpool:https://api.openalex.org:443 \"GET /works?filter=has_doi:true,concepts_count:%3E0,publication_year:2018&sample=200&per-page=200 HTTP/1.1\" 200 293020\n"
          ]
        },
        {
          "name": "stdout",
          "output_type": "stream",
          "text": [
            "plus que 6211 publications pour completer l'année 2018\n"
          ]
        },
        {
          "name": "stderr",
          "output_type": "stream",
          "text": [
            "DEBUG:urllib3.connectionpool:Starting new HTTPS connection (1): api.openalex.org:443\n",
            "DEBUG:urllib3.connectionpool:https://api.openalex.org:443 \"GET /works?filter=has_doi:true,concepts_count:%3E0,publication_year:2018&sample=200&per-page=200 HTTP/1.1\" 200 299195\n"
          ]
        },
        {
          "name": "stdout",
          "output_type": "stream",
          "text": [
            "plus que 6110 publications pour completer l'année 2018\n"
          ]
        },
        {
          "name": "stderr",
          "output_type": "stream",
          "text": [
            "DEBUG:urllib3.connectionpool:Starting new HTTPS connection (1): api.openalex.org:443\n",
            "DEBUG:urllib3.connectionpool:https://api.openalex.org:443 \"GET /works?filter=has_doi:true,concepts_count:%3E0,publication_year:2018&sample=200&per-page=200 HTTP/1.1\" 200 292814\n"
          ]
        },
        {
          "name": "stdout",
          "output_type": "stream",
          "text": [
            "plus que 5996 publications pour completer l'année 2018\n"
          ]
        },
        {
          "name": "stderr",
          "output_type": "stream",
          "text": [
            "DEBUG:urllib3.connectionpool:Starting new HTTPS connection (1): api.openalex.org:443\n",
            "DEBUG:urllib3.connectionpool:https://api.openalex.org:443 \"GET /works?filter=has_doi:true,concepts_count:%3E0,publication_year:2018&sample=200&per-page=200 HTTP/1.1\" 200 339180\n"
          ]
        },
        {
          "name": "stdout",
          "output_type": "stream",
          "text": [
            "plus que 5902 publications pour completer l'année 2018\n"
          ]
        },
        {
          "name": "stderr",
          "output_type": "stream",
          "text": [
            "DEBUG:urllib3.connectionpool:Starting new HTTPS connection (1): api.openalex.org:443\n",
            "DEBUG:urllib3.connectionpool:https://api.openalex.org:443 \"GET /works?filter=has_doi:true,concepts_count:%3E0,publication_year:2018&sample=200&per-page=200 HTTP/1.1\" 200 303901\n"
          ]
        },
        {
          "name": "stdout",
          "output_type": "stream",
          "text": [
            "plus que 5789 publications pour completer l'année 2018\n"
          ]
        },
        {
          "name": "stderr",
          "output_type": "stream",
          "text": [
            "DEBUG:urllib3.connectionpool:Starting new HTTPS connection (1): api.openalex.org:443\n",
            "DEBUG:urllib3.connectionpool:https://api.openalex.org:443 \"GET /works?filter=has_doi:true,concepts_count:%3E0,publication_year:2018&sample=200&per-page=200 HTTP/1.1\" 200 332601\n"
          ]
        },
        {
          "name": "stdout",
          "output_type": "stream",
          "text": [
            "plus que 5692 publications pour completer l'année 2018\n"
          ]
        },
        {
          "name": "stderr",
          "output_type": "stream",
          "text": [
            "DEBUG:urllib3.connectionpool:Starting new HTTPS connection (1): api.openalex.org:443\n",
            "DEBUG:urllib3.connectionpool:https://api.openalex.org:443 \"GET /works?filter=has_doi:true,concepts_count:%3E0,publication_year:2018&sample=200&per-page=200 HTTP/1.1\" 200 335355\n"
          ]
        },
        {
          "name": "stdout",
          "output_type": "stream",
          "text": [
            "plus que 5585 publications pour completer l'année 2018\n"
          ]
        },
        {
          "name": "stderr",
          "output_type": "stream",
          "text": [
            "DEBUG:urllib3.connectionpool:Starting new HTTPS connection (1): api.openalex.org:443\n",
            "DEBUG:urllib3.connectionpool:https://api.openalex.org:443 \"GET /works?filter=has_doi:true,concepts_count:%3E0,publication_year:2018&sample=200&per-page=200 HTTP/1.1\" 200 324507\n"
          ]
        },
        {
          "name": "stdout",
          "output_type": "stream",
          "text": [
            "plus que 5466 publications pour completer l'année 2018\n"
          ]
        },
        {
          "name": "stderr",
          "output_type": "stream",
          "text": [
            "DEBUG:urllib3.connectionpool:Starting new HTTPS connection (1): api.openalex.org:443\n",
            "DEBUG:urllib3.connectionpool:https://api.openalex.org:443 \"GET /works?filter=has_doi:true,concepts_count:%3E0,publication_year:2018&sample=200&per-page=200 HTTP/1.1\" 200 292518\n"
          ]
        },
        {
          "name": "stdout",
          "output_type": "stream",
          "text": [
            "plus que 5359 publications pour completer l'année 2018\n"
          ]
        },
        {
          "name": "stderr",
          "output_type": "stream",
          "text": [
            "DEBUG:urllib3.connectionpool:Starting new HTTPS connection (1): api.openalex.org:443\n",
            "DEBUG:urllib3.connectionpool:https://api.openalex.org:443 \"GET /works?filter=has_doi:true,concepts_count:%3E0,publication_year:2018&sample=200&per-page=200 HTTP/1.1\" 200 294193\n"
          ]
        },
        {
          "name": "stdout",
          "output_type": "stream",
          "text": [
            "plus que 5271 publications pour completer l'année 2018\n"
          ]
        },
        {
          "name": "stderr",
          "output_type": "stream",
          "text": [
            "DEBUG:urllib3.connectionpool:Starting new HTTPS connection (1): api.openalex.org:443\n",
            "DEBUG:urllib3.connectionpool:https://api.openalex.org:443 \"GET /works?filter=has_doi:true,concepts_count:%3E0,publication_year:2018&sample=200&per-page=200 HTTP/1.1\" 200 317330\n"
          ]
        },
        {
          "name": "stdout",
          "output_type": "stream",
          "text": [
            "plus que 5169 publications pour completer l'année 2018\n"
          ]
        },
        {
          "name": "stderr",
          "output_type": "stream",
          "text": [
            "DEBUG:urllib3.connectionpool:Starting new HTTPS connection (1): api.openalex.org:443\n",
            "DEBUG:urllib3.connectionpool:https://api.openalex.org:443 \"GET /works?filter=has_doi:true,concepts_count:%3E0,publication_year:2018&sample=200&per-page=200 HTTP/1.1\" 200 303433\n"
          ]
        },
        {
          "name": "stdout",
          "output_type": "stream",
          "text": [
            "plus que 5065 publications pour completer l'année 2018\n"
          ]
        },
        {
          "name": "stderr",
          "output_type": "stream",
          "text": [
            "DEBUG:urllib3.connectionpool:Starting new HTTPS connection (1): api.openalex.org:443\n",
            "DEBUG:urllib3.connectionpool:https://api.openalex.org:443 \"GET /works?filter=has_doi:true,concepts_count:%3E0,publication_year:2018&sample=200&per-page=200 HTTP/1.1\" 200 318306\n"
          ]
        },
        {
          "name": "stdout",
          "output_type": "stream",
          "text": [
            "plus que 4962 publications pour completer l'année 2018\n"
          ]
        },
        {
          "name": "stderr",
          "output_type": "stream",
          "text": [
            "DEBUG:urllib3.connectionpool:Starting new HTTPS connection (1): api.openalex.org:443\n",
            "DEBUG:urllib3.connectionpool:https://api.openalex.org:443 \"GET /works?filter=has_doi:true,concepts_count:%3E0,publication_year:2018&sample=200&per-page=200 HTTP/1.1\" 200 308334\n"
          ]
        },
        {
          "name": "stdout",
          "output_type": "stream",
          "text": [
            "plus que 4853 publications pour completer l'année 2018\n"
          ]
        },
        {
          "name": "stderr",
          "output_type": "stream",
          "text": [
            "DEBUG:urllib3.connectionpool:Starting new HTTPS connection (1): api.openalex.org:443\n",
            "DEBUG:urllib3.connectionpool:https://api.openalex.org:443 \"GET /works?filter=has_doi:true,concepts_count:%3E0,publication_year:2018&sample=200&per-page=200 HTTP/1.1\" 200 299379\n"
          ]
        },
        {
          "name": "stdout",
          "output_type": "stream",
          "text": [
            "plus que 4745 publications pour completer l'année 2018\n"
          ]
        },
        {
          "name": "stderr",
          "output_type": "stream",
          "text": [
            "DEBUG:urllib3.connectionpool:Starting new HTTPS connection (1): api.openalex.org:443\n",
            "DEBUG:urllib3.connectionpool:https://api.openalex.org:443 \"GET /works?filter=has_doi:true,concepts_count:%3E0,publication_year:2018&sample=200&per-page=200 HTTP/1.1\" 200 292737\n"
          ]
        },
        {
          "name": "stdout",
          "output_type": "stream",
          "text": [
            "plus que 4641 publications pour completer l'année 2018\n"
          ]
        },
        {
          "name": "stderr",
          "output_type": "stream",
          "text": [
            "DEBUG:urllib3.connectionpool:Starting new HTTPS connection (1): api.openalex.org:443\n",
            "DEBUG:urllib3.connectionpool:https://api.openalex.org:443 \"GET /works?filter=has_doi:true,concepts_count:%3E0,publication_year:2018&sample=200&per-page=200 HTTP/1.1\" 200 339244\n"
          ]
        },
        {
          "name": "stdout",
          "output_type": "stream",
          "text": [
            "plus que 4539 publications pour completer l'année 2018\n"
          ]
        },
        {
          "name": "stderr",
          "output_type": "stream",
          "text": [
            "DEBUG:urllib3.connectionpool:Starting new HTTPS connection (1): api.openalex.org:443\n",
            "DEBUG:urllib3.connectionpool:https://api.openalex.org:443 \"GET /works?filter=has_doi:true,concepts_count:%3E0,publication_year:2018&sample=200&per-page=200 HTTP/1.1\" 200 327228\n"
          ]
        },
        {
          "name": "stdout",
          "output_type": "stream",
          "text": [
            "plus que 4437 publications pour completer l'année 2018\n"
          ]
        },
        {
          "name": "stderr",
          "output_type": "stream",
          "text": [
            "DEBUG:urllib3.connectionpool:Starting new HTTPS connection (1): api.openalex.org:443\n",
            "DEBUG:urllib3.connectionpool:https://api.openalex.org:443 \"GET /works?filter=has_doi:true,concepts_count:%3E0,publication_year:2018&sample=200&per-page=200 HTTP/1.1\" 200 301326\n"
          ]
        },
        {
          "name": "stdout",
          "output_type": "stream",
          "text": [
            "plus que 4342 publications pour completer l'année 2018\n"
          ]
        },
        {
          "name": "stderr",
          "output_type": "stream",
          "text": [
            "DEBUG:urllib3.connectionpool:Starting new HTTPS connection (1): api.openalex.org:443\n",
            "DEBUG:urllib3.connectionpool:https://api.openalex.org:443 \"GET /works?filter=has_doi:true,concepts_count:%3E0,publication_year:2018&sample=200&per-page=200 HTTP/1.1\" 200 336006\n"
          ]
        },
        {
          "name": "stdout",
          "output_type": "stream",
          "text": [
            "plus que 4242 publications pour completer l'année 2018\n"
          ]
        },
        {
          "name": "stderr",
          "output_type": "stream",
          "text": [
            "DEBUG:urllib3.connectionpool:Starting new HTTPS connection (1): api.openalex.org:443\n",
            "DEBUG:urllib3.connectionpool:https://api.openalex.org:443 \"GET /works?filter=has_doi:true,concepts_count:%3E0,publication_year:2018&sample=200&per-page=200 HTTP/1.1\" 200 331486\n"
          ]
        },
        {
          "name": "stdout",
          "output_type": "stream",
          "text": [
            "plus que 4131 publications pour completer l'année 2018\n"
          ]
        },
        {
          "name": "stderr",
          "output_type": "stream",
          "text": [
            "DEBUG:urllib3.connectionpool:Starting new HTTPS connection (1): api.openalex.org:443\n",
            "DEBUG:urllib3.connectionpool:https://api.openalex.org:443 \"GET /works?filter=has_doi:true,concepts_count:%3E0,publication_year:2018&sample=200&per-page=200 HTTP/1.1\" 200 304109\n"
          ]
        },
        {
          "name": "stdout",
          "output_type": "stream",
          "text": [
            "plus que 4019 publications pour completer l'année 2018\n"
          ]
        },
        {
          "name": "stderr",
          "output_type": "stream",
          "text": [
            "DEBUG:urllib3.connectionpool:Starting new HTTPS connection (1): api.openalex.org:443\n",
            "DEBUG:urllib3.connectionpool:https://api.openalex.org:443 \"GET /works?filter=has_doi:true,concepts_count:%3E0,publication_year:2018&sample=200&per-page=200 HTTP/1.1\" 200 298460\n"
          ]
        },
        {
          "name": "stdout",
          "output_type": "stream",
          "text": [
            "plus que 3922 publications pour completer l'année 2018\n"
          ]
        },
        {
          "name": "stderr",
          "output_type": "stream",
          "text": [
            "DEBUG:urllib3.connectionpool:Starting new HTTPS connection (1): api.openalex.org:443\n",
            "DEBUG:urllib3.connectionpool:https://api.openalex.org:443 \"GET /works?filter=has_doi:true,concepts_count:%3E0,publication_year:2018&sample=200&per-page=200 HTTP/1.1\" 200 333303\n"
          ]
        },
        {
          "name": "stdout",
          "output_type": "stream",
          "text": [
            "plus que 3817 publications pour completer l'année 2018\n"
          ]
        },
        {
          "name": "stderr",
          "output_type": "stream",
          "text": [
            "DEBUG:urllib3.connectionpool:Starting new HTTPS connection (1): api.openalex.org:443\n",
            "DEBUG:urllib3.connectionpool:https://api.openalex.org:443 \"GET /works?filter=has_doi:true,concepts_count:%3E0,publication_year:2018&sample=200&per-page=200 HTTP/1.1\" 200 298841\n"
          ]
        },
        {
          "name": "stdout",
          "output_type": "stream",
          "text": [
            "plus que 3717 publications pour completer l'année 2018\n"
          ]
        },
        {
          "name": "stderr",
          "output_type": "stream",
          "text": [
            "DEBUG:urllib3.connectionpool:Starting new HTTPS connection (1): api.openalex.org:443\n",
            "DEBUG:urllib3.connectionpool:https://api.openalex.org:443 \"GET /works?filter=has_doi:true,concepts_count:%3E0,publication_year:2018&sample=200&per-page=200 HTTP/1.1\" 200 308861\n"
          ]
        },
        {
          "name": "stdout",
          "output_type": "stream",
          "text": [
            "plus que 3603 publications pour completer l'année 2018\n"
          ]
        },
        {
          "name": "stderr",
          "output_type": "stream",
          "text": [
            "DEBUG:urllib3.connectionpool:Starting new HTTPS connection (1): api.openalex.org:443\n",
            "DEBUG:urllib3.connectionpool:https://api.openalex.org:443 \"GET /works?filter=has_doi:true,concepts_count:%3E0,publication_year:2018&sample=200&per-page=200 HTTP/1.1\" 200 295321\n"
          ]
        },
        {
          "name": "stdout",
          "output_type": "stream",
          "text": [
            "plus que 3490 publications pour completer l'année 2018\n"
          ]
        },
        {
          "name": "stderr",
          "output_type": "stream",
          "text": [
            "DEBUG:urllib3.connectionpool:Starting new HTTPS connection (1): api.openalex.org:443\n",
            "DEBUG:urllib3.connectionpool:https://api.openalex.org:443 \"GET /works?filter=has_doi:true,concepts_count:%3E0,publication_year:2018&sample=200&per-page=200 HTTP/1.1\" 200 321677\n"
          ]
        },
        {
          "name": "stdout",
          "output_type": "stream",
          "text": [
            "plus que 3385 publications pour completer l'année 2018\n"
          ]
        },
        {
          "name": "stderr",
          "output_type": "stream",
          "text": [
            "DEBUG:urllib3.connectionpool:Starting new HTTPS connection (1): api.openalex.org:443\n",
            "DEBUG:urllib3.connectionpool:https://api.openalex.org:443 \"GET /works?filter=has_doi:true,concepts_count:%3E0,publication_year:2018&sample=200&per-page=200 HTTP/1.1\" 200 311329\n"
          ]
        },
        {
          "name": "stdout",
          "output_type": "stream",
          "text": [
            "plus que 3278 publications pour completer l'année 2018\n"
          ]
        },
        {
          "name": "stderr",
          "output_type": "stream",
          "text": [
            "DEBUG:urllib3.connectionpool:Starting new HTTPS connection (1): api.openalex.org:443\n",
            "DEBUG:urllib3.connectionpool:https://api.openalex.org:443 \"GET /works?filter=has_doi:true,concepts_count:%3E0,publication_year:2018&sample=200&per-page=200 HTTP/1.1\" 200 365814\n"
          ]
        },
        {
          "name": "stdout",
          "output_type": "stream",
          "text": [
            "plus que 3177 publications pour completer l'année 2018\n"
          ]
        },
        {
          "name": "stderr",
          "output_type": "stream",
          "text": [
            "DEBUG:urllib3.connectionpool:Starting new HTTPS connection (1): api.openalex.org:443\n",
            "DEBUG:urllib3.connectionpool:https://api.openalex.org:443 \"GET /works?filter=has_doi:true,concepts_count:%3E0,publication_year:2018&sample=200&per-page=200 HTTP/1.1\" 200 331202\n"
          ]
        },
        {
          "name": "stdout",
          "output_type": "stream",
          "text": [
            "plus que 3071 publications pour completer l'année 2018\n"
          ]
        },
        {
          "name": "stderr",
          "output_type": "stream",
          "text": [
            "DEBUG:urllib3.connectionpool:Starting new HTTPS connection (1): api.openalex.org:443\n",
            "DEBUG:urllib3.connectionpool:https://api.openalex.org:443 \"GET /works?filter=has_doi:true,concepts_count:%3E0,publication_year:2018&sample=200&per-page=200 HTTP/1.1\" 200 287949\n"
          ]
        },
        {
          "name": "stdout",
          "output_type": "stream",
          "text": [
            "plus que 2962 publications pour completer l'année 2018\n"
          ]
        },
        {
          "name": "stderr",
          "output_type": "stream",
          "text": [
            "DEBUG:urllib3.connectionpool:Starting new HTTPS connection (1): api.openalex.org:443\n",
            "DEBUG:urllib3.connectionpool:https://api.openalex.org:443 \"GET /works?filter=has_doi:true,concepts_count:%3E0,publication_year:2018&sample=200&per-page=200 HTTP/1.1\" 200 320887\n"
          ]
        },
        {
          "name": "stdout",
          "output_type": "stream",
          "text": [
            "plus que 2860 publications pour completer l'année 2018\n"
          ]
        },
        {
          "name": "stderr",
          "output_type": "stream",
          "text": [
            "DEBUG:urllib3.connectionpool:Starting new HTTPS connection (1): api.openalex.org:443\n",
            "DEBUG:urllib3.connectionpool:https://api.openalex.org:443 \"GET /works?filter=has_doi:true,concepts_count:%3E0,publication_year:2018&sample=200&per-page=200 HTTP/1.1\" 200 327949\n"
          ]
        },
        {
          "name": "stdout",
          "output_type": "stream",
          "text": [
            "plus que 2743 publications pour completer l'année 2018\n"
          ]
        },
        {
          "name": "stderr",
          "output_type": "stream",
          "text": [
            "DEBUG:urllib3.connectionpool:Starting new HTTPS connection (1): api.openalex.org:443\n",
            "DEBUG:urllib3.connectionpool:https://api.openalex.org:443 \"GET /works?filter=has_doi:true,concepts_count:%3E0,publication_year:2018&sample=200&per-page=200 HTTP/1.1\" 200 305708\n"
          ]
        },
        {
          "name": "stdout",
          "output_type": "stream",
          "text": [
            "plus que 2640 publications pour completer l'année 2018\n"
          ]
        },
        {
          "name": "stderr",
          "output_type": "stream",
          "text": [
            "DEBUG:urllib3.connectionpool:Starting new HTTPS connection (1): api.openalex.org:443\n",
            "DEBUG:urllib3.connectionpool:https://api.openalex.org:443 \"GET /works?filter=has_doi:true,concepts_count:%3E0,publication_year:2018&sample=200&per-page=200 HTTP/1.1\" 200 295080\n"
          ]
        },
        {
          "name": "stdout",
          "output_type": "stream",
          "text": [
            "plus que 2532 publications pour completer l'année 2018\n"
          ]
        },
        {
          "name": "stderr",
          "output_type": "stream",
          "text": [
            "DEBUG:urllib3.connectionpool:Starting new HTTPS connection (1): api.openalex.org:443\n",
            "DEBUG:urllib3.connectionpool:https://api.openalex.org:443 \"GET /works?filter=has_doi:true,concepts_count:%3E0,publication_year:2018&sample=200&per-page=200 HTTP/1.1\" 200 315702\n"
          ]
        },
        {
          "name": "stdout",
          "output_type": "stream",
          "text": [
            "plus que 2439 publications pour completer l'année 2018\n"
          ]
        },
        {
          "name": "stderr",
          "output_type": "stream",
          "text": [
            "DEBUG:urllib3.connectionpool:Starting new HTTPS connection (1): api.openalex.org:443\n",
            "DEBUG:urllib3.connectionpool:https://api.openalex.org:443 \"GET /works?filter=has_doi:true,concepts_count:%3E0,publication_year:2018&sample=200&per-page=200 HTTP/1.1\" 200 295920\n"
          ]
        },
        {
          "name": "stdout",
          "output_type": "stream",
          "text": [
            "plus que 2351 publications pour completer l'année 2018\n"
          ]
        },
        {
          "name": "stderr",
          "output_type": "stream",
          "text": [
            "DEBUG:urllib3.connectionpool:Starting new HTTPS connection (1): api.openalex.org:443\n",
            "DEBUG:urllib3.connectionpool:https://api.openalex.org:443 \"GET /works?filter=has_doi:true,concepts_count:%3E0,publication_year:2018&sample=200&per-page=200 HTTP/1.1\" 200 295674\n"
          ]
        },
        {
          "name": "stdout",
          "output_type": "stream",
          "text": [
            "plus que 2246 publications pour completer l'année 2018\n"
          ]
        },
        {
          "name": "stderr",
          "output_type": "stream",
          "text": [
            "DEBUG:urllib3.connectionpool:Starting new HTTPS connection (1): api.openalex.org:443\n",
            "DEBUG:urllib3.connectionpool:https://api.openalex.org:443 \"GET /works?filter=has_doi:true,concepts_count:%3E0,publication_year:2018&sample=200&per-page=200 HTTP/1.1\" 200 346211\n"
          ]
        },
        {
          "name": "stdout",
          "output_type": "stream",
          "text": [
            "plus que 2153 publications pour completer l'année 2018\n"
          ]
        },
        {
          "name": "stderr",
          "output_type": "stream",
          "text": [
            "DEBUG:urllib3.connectionpool:Starting new HTTPS connection (1): api.openalex.org:443\n",
            "DEBUG:urllib3.connectionpool:https://api.openalex.org:443 \"GET /works?filter=has_doi:true,concepts_count:%3E0,publication_year:2018&sample=200&per-page=200 HTTP/1.1\" 200 277363\n"
          ]
        },
        {
          "name": "stdout",
          "output_type": "stream",
          "text": [
            "plus que 2038 publications pour completer l'année 2018\n"
          ]
        },
        {
          "name": "stderr",
          "output_type": "stream",
          "text": [
            "DEBUG:urllib3.connectionpool:Starting new HTTPS connection (1): api.openalex.org:443\n",
            "DEBUG:urllib3.connectionpool:https://api.openalex.org:443 \"GET /works?filter=has_doi:true,concepts_count:%3E0,publication_year:2018&sample=200&per-page=200 HTTP/1.1\" 200 347542\n"
          ]
        },
        {
          "name": "stdout",
          "output_type": "stream",
          "text": [
            "plus que 1950 publications pour completer l'année 2018\n"
          ]
        },
        {
          "name": "stderr",
          "output_type": "stream",
          "text": [
            "DEBUG:urllib3.connectionpool:Starting new HTTPS connection (1): api.openalex.org:443\n",
            "DEBUG:urllib3.connectionpool:https://api.openalex.org:443 \"GET /works?filter=has_doi:true,concepts_count:%3E0,publication_year:2018&sample=200&per-page=200 HTTP/1.1\" 200 284564\n"
          ]
        },
        {
          "name": "stdout",
          "output_type": "stream",
          "text": [
            "plus que 1845 publications pour completer l'année 2018\n"
          ]
        },
        {
          "name": "stderr",
          "output_type": "stream",
          "text": [
            "DEBUG:urllib3.connectionpool:Starting new HTTPS connection (1): api.openalex.org:443\n",
            "DEBUG:urllib3.connectionpool:https://api.openalex.org:443 \"GET /works?filter=has_doi:true,concepts_count:%3E0,publication_year:2018&sample=200&per-page=200 HTTP/1.1\" 200 344924\n"
          ]
        },
        {
          "name": "stdout",
          "output_type": "stream",
          "text": [
            "plus que 1751 publications pour completer l'année 2018\n"
          ]
        },
        {
          "name": "stderr",
          "output_type": "stream",
          "text": [
            "DEBUG:urllib3.connectionpool:Starting new HTTPS connection (1): api.openalex.org:443\n",
            "DEBUG:urllib3.connectionpool:https://api.openalex.org:443 \"GET /works?filter=has_doi:true,concepts_count:%3E0,publication_year:2018&sample=200&per-page=200 HTTP/1.1\" 200 303567\n"
          ]
        },
        {
          "name": "stdout",
          "output_type": "stream",
          "text": [
            "plus que 1642 publications pour completer l'année 2018\n"
          ]
        },
        {
          "name": "stderr",
          "output_type": "stream",
          "text": [
            "DEBUG:urllib3.connectionpool:Starting new HTTPS connection (1): api.openalex.org:443\n",
            "DEBUG:urllib3.connectionpool:https://api.openalex.org:443 \"GET /works?filter=has_doi:true,concepts_count:%3E0,publication_year:2018&sample=200&per-page=200 HTTP/1.1\" 200 324364\n"
          ]
        },
        {
          "name": "stdout",
          "output_type": "stream",
          "text": [
            "plus que 1528 publications pour completer l'année 2018\n"
          ]
        },
        {
          "name": "stderr",
          "output_type": "stream",
          "text": [
            "DEBUG:urllib3.connectionpool:Starting new HTTPS connection (1): api.openalex.org:443\n",
            "DEBUG:urllib3.connectionpool:https://api.openalex.org:443 \"GET /works?filter=has_doi:true,concepts_count:%3E0,publication_year:2018&sample=200&per-page=200 HTTP/1.1\" 200 298727\n"
          ]
        },
        {
          "name": "stdout",
          "output_type": "stream",
          "text": [
            "plus que 1415 publications pour completer l'année 2018\n"
          ]
        },
        {
          "name": "stderr",
          "output_type": "stream",
          "text": [
            "DEBUG:urllib3.connectionpool:Starting new HTTPS connection (1): api.openalex.org:443\n",
            "DEBUG:urllib3.connectionpool:https://api.openalex.org:443 \"GET /works?filter=has_doi:true,concepts_count:%3E0,publication_year:2018&sample=200&per-page=200 HTTP/1.1\" 200 328299\n"
          ]
        },
        {
          "name": "stdout",
          "output_type": "stream",
          "text": [
            "plus que 1306 publications pour completer l'année 2018\n"
          ]
        },
        {
          "name": "stderr",
          "output_type": "stream",
          "text": [
            "DEBUG:urllib3.connectionpool:Starting new HTTPS connection (1): api.openalex.org:443\n",
            "DEBUG:urllib3.connectionpool:https://api.openalex.org:443 \"GET /works?filter=has_doi:true,concepts_count:%3E0,publication_year:2018&sample=200&per-page=200 HTTP/1.1\" 200 342331\n"
          ]
        },
        {
          "name": "stdout",
          "output_type": "stream",
          "text": [
            "plus que 1208 publications pour completer l'année 2018\n"
          ]
        },
        {
          "name": "stderr",
          "output_type": "stream",
          "text": [
            "DEBUG:urllib3.connectionpool:Starting new HTTPS connection (1): api.openalex.org:443\n",
            "DEBUG:urllib3.connectionpool:https://api.openalex.org:443 \"GET /works?filter=has_doi:true,concepts_count:%3E0,publication_year:2018&sample=200&per-page=200 HTTP/1.1\" 200 306339\n"
          ]
        },
        {
          "name": "stdout",
          "output_type": "stream",
          "text": [
            "plus que 1102 publications pour completer l'année 2018\n"
          ]
        },
        {
          "name": "stderr",
          "output_type": "stream",
          "text": [
            "DEBUG:urllib3.connectionpool:Starting new HTTPS connection (1): api.openalex.org:443\n",
            "DEBUG:urllib3.connectionpool:https://api.openalex.org:443 \"GET /works?filter=has_doi:true,concepts_count:%3E0,publication_year:2018&sample=200&per-page=200 HTTP/1.1\" 200 288816\n"
          ]
        },
        {
          "name": "stdout",
          "output_type": "stream",
          "text": [
            "plus que 1004 publications pour completer l'année 2018\n"
          ]
        },
        {
          "name": "stderr",
          "output_type": "stream",
          "text": [
            "DEBUG:urllib3.connectionpool:Starting new HTTPS connection (1): api.openalex.org:443\n",
            "DEBUG:urllib3.connectionpool:https://api.openalex.org:443 \"GET /works?filter=has_doi:true,concepts_count:%3E0,publication_year:2018&sample=200&per-page=200 HTTP/1.1\" 200 296474\n"
          ]
        },
        {
          "name": "stdout",
          "output_type": "stream",
          "text": [
            "plus que 906 publications pour completer l'année 2018\n"
          ]
        },
        {
          "name": "stderr",
          "output_type": "stream",
          "text": [
            "DEBUG:urllib3.connectionpool:Starting new HTTPS connection (1): api.openalex.org:443\n",
            "DEBUG:urllib3.connectionpool:https://api.openalex.org:443 \"GET /works?filter=has_doi:true,concepts_count:%3E0,publication_year:2018&sample=200&per-page=200 HTTP/1.1\" 200 320958\n"
          ]
        },
        {
          "name": "stdout",
          "output_type": "stream",
          "text": [
            "plus que 810 publications pour completer l'année 2018\n"
          ]
        },
        {
          "name": "stderr",
          "output_type": "stream",
          "text": [
            "DEBUG:urllib3.connectionpool:Starting new HTTPS connection (1): api.openalex.org:443\n",
            "DEBUG:urllib3.connectionpool:https://api.openalex.org:443 \"GET /works?filter=has_doi:true,concepts_count:%3E0,publication_year:2018&sample=200&per-page=200 HTTP/1.1\" 200 291616\n"
          ]
        },
        {
          "name": "stdout",
          "output_type": "stream",
          "text": [
            "plus que 712 publications pour completer l'année 2018\n"
          ]
        },
        {
          "name": "stderr",
          "output_type": "stream",
          "text": [
            "DEBUG:urllib3.connectionpool:Starting new HTTPS connection (1): api.openalex.org:443\n",
            "DEBUG:urllib3.connectionpool:https://api.openalex.org:443 \"GET /works?filter=has_doi:true,concepts_count:%3E0,publication_year:2018&sample=200&per-page=200 HTTP/1.1\" 200 338379\n"
          ]
        },
        {
          "name": "stdout",
          "output_type": "stream",
          "text": [
            "plus que 611 publications pour completer l'année 2018\n"
          ]
        },
        {
          "name": "stderr",
          "output_type": "stream",
          "text": [
            "DEBUG:urllib3.connectionpool:Starting new HTTPS connection (1): api.openalex.org:443\n",
            "DEBUG:urllib3.connectionpool:https://api.openalex.org:443 \"GET /works?filter=has_doi:true,concepts_count:%3E0,publication_year:2018&sample=200&per-page=200 HTTP/1.1\" 200 319837\n"
          ]
        },
        {
          "name": "stdout",
          "output_type": "stream",
          "text": [
            "plus que 493 publications pour completer l'année 2018\n"
          ]
        },
        {
          "name": "stderr",
          "output_type": "stream",
          "text": [
            "DEBUG:urllib3.connectionpool:Starting new HTTPS connection (1): api.openalex.org:443\n",
            "DEBUG:urllib3.connectionpool:https://api.openalex.org:443 \"GET /works?filter=has_doi:true,concepts_count:%3E0,publication_year:2018&sample=200&per-page=200 HTTP/1.1\" 200 285382\n"
          ]
        },
        {
          "name": "stdout",
          "output_type": "stream",
          "text": [
            "plus que 387 publications pour completer l'année 2018\n"
          ]
        },
        {
          "name": "stderr",
          "output_type": "stream",
          "text": [
            "DEBUG:urllib3.connectionpool:Starting new HTTPS connection (1): api.openalex.org:443\n",
            "DEBUG:urllib3.connectionpool:https://api.openalex.org:443 \"GET /works?filter=has_doi:true,concepts_count:%3E0,publication_year:2018&sample=200&per-page=200 HTTP/1.1\" 200 332224\n"
          ]
        },
        {
          "name": "stdout",
          "output_type": "stream",
          "text": [
            "plus que 293 publications pour completer l'année 2018\n"
          ]
        },
        {
          "name": "stderr",
          "output_type": "stream",
          "text": [
            "DEBUG:urllib3.connectionpool:Starting new HTTPS connection (1): api.openalex.org:443\n",
            "DEBUG:urllib3.connectionpool:https://api.openalex.org:443 \"GET /works?filter=has_doi:true,concepts_count:%3E0,publication_year:2018&sample=200&per-page=200 HTTP/1.1\" 200 312541\n"
          ]
        },
        {
          "name": "stdout",
          "output_type": "stream",
          "text": [
            "plus que 182 publications pour completer l'année 2018\n"
          ]
        },
        {
          "name": "stderr",
          "output_type": "stream",
          "text": [
            "DEBUG:urllib3.connectionpool:Starting new HTTPS connection (1): api.openalex.org:443\n",
            "DEBUG:urllib3.connectionpool:https://api.openalex.org:443 \"GET /works?filter=has_doi:true,concepts_count:%3E0,publication_year:2018&sample=200&per-page=200 HTTP/1.1\" 200 344333\n"
          ]
        },
        {
          "name": "stdout",
          "output_type": "stream",
          "text": [
            "plus que 78 publications pour completer l'année 2018\n"
          ]
        },
        {
          "name": "stderr",
          "output_type": "stream",
          "text": [
            "DEBUG:urllib3.connectionpool:Starting new HTTPS connection (1): api.openalex.org:443\n",
            "DEBUG:urllib3.connectionpool:https://api.openalex.org:443 \"GET /works?filter=has_doi:true,concepts_count:%3E0,publication_year:2019&sample=200&per-page=200 HTTP/1.1\" 200 325304\n"
          ]
        },
        {
          "name": "stdout",
          "output_type": "stream",
          "text": [
            "plus que 6564 publications pour completer l'année 2019\n"
          ]
        },
        {
          "name": "stderr",
          "output_type": "stream",
          "text": [
            "DEBUG:urllib3.connectionpool:Starting new HTTPS connection (1): api.openalex.org:443\n",
            "DEBUG:urllib3.connectionpool:https://api.openalex.org:443 \"GET /works?filter=has_doi:true,concepts_count:%3E0,publication_year:2019&sample=200&per-page=200 HTTP/1.1\" 200 330776\n"
          ]
        },
        {
          "name": "stdout",
          "output_type": "stream",
          "text": [
            "plus que 6469 publications pour completer l'année 2019\n"
          ]
        },
        {
          "name": "stderr",
          "output_type": "stream",
          "text": [
            "DEBUG:urllib3.connectionpool:Starting new HTTPS connection (1): api.openalex.org:443\n",
            "DEBUG:urllib3.connectionpool:https://api.openalex.org:443 \"GET /works?filter=has_doi:true,concepts_count:%3E0,publication_year:2019&sample=200&per-page=200 HTTP/1.1\" 200 370253\n"
          ]
        },
        {
          "name": "stdout",
          "output_type": "stream",
          "text": [
            "plus que 6370 publications pour completer l'année 2019\n"
          ]
        },
        {
          "name": "stderr",
          "output_type": "stream",
          "text": [
            "DEBUG:urllib3.connectionpool:Starting new HTTPS connection (1): api.openalex.org:443\n",
            "DEBUG:urllib3.connectionpool:https://api.openalex.org:443 \"GET /works?filter=has_doi:true,concepts_count:%3E0,publication_year:2019&sample=200&per-page=200 HTTP/1.1\" 200 333929\n"
          ]
        },
        {
          "name": "stdout",
          "output_type": "stream",
          "text": [
            "plus que 6252 publications pour completer l'année 2019\n"
          ]
        },
        {
          "name": "stderr",
          "output_type": "stream",
          "text": [
            "DEBUG:urllib3.connectionpool:Starting new HTTPS connection (1): api.openalex.org:443\n",
            "DEBUG:urllib3.connectionpool:https://api.openalex.org:443 \"GET /works?filter=has_doi:true,concepts_count:%3E0,publication_year:2019&sample=200&per-page=200 HTTP/1.1\" 200 342823\n"
          ]
        },
        {
          "name": "stdout",
          "output_type": "stream",
          "text": [
            "plus que 6135 publications pour completer l'année 2019\n"
          ]
        },
        {
          "name": "stderr",
          "output_type": "stream",
          "text": [
            "DEBUG:urllib3.connectionpool:Starting new HTTPS connection (1): api.openalex.org:443\n",
            "DEBUG:urllib3.connectionpool:https://api.openalex.org:443 \"GET /works?filter=has_doi:true,concepts_count:%3E0,publication_year:2019&sample=200&per-page=200 HTTP/1.1\" 200 337101\n"
          ]
        },
        {
          "name": "stdout",
          "output_type": "stream",
          "text": [
            "plus que 6029 publications pour completer l'année 2019\n"
          ]
        },
        {
          "name": "stderr",
          "output_type": "stream",
          "text": [
            "DEBUG:urllib3.connectionpool:Starting new HTTPS connection (1): api.openalex.org:443\n",
            "DEBUG:urllib3.connectionpool:https://api.openalex.org:443 \"GET /works?filter=has_doi:true,concepts_count:%3E0,publication_year:2019&sample=200&per-page=200 HTTP/1.1\" 200 298596\n"
          ]
        },
        {
          "name": "stdout",
          "output_type": "stream",
          "text": [
            "plus que 5923 publications pour completer l'année 2019\n"
          ]
        },
        {
          "name": "stderr",
          "output_type": "stream",
          "text": [
            "DEBUG:urllib3.connectionpool:Starting new HTTPS connection (1): api.openalex.org:443\n",
            "DEBUG:urllib3.connectionpool:https://api.openalex.org:443 \"GET /works?filter=has_doi:true,concepts_count:%3E0,publication_year:2019&sample=200&per-page=200 HTTP/1.1\" 200 327860\n"
          ]
        },
        {
          "name": "stdout",
          "output_type": "stream",
          "text": [
            "plus que 5818 publications pour completer l'année 2019\n"
          ]
        },
        {
          "name": "stderr",
          "output_type": "stream",
          "text": [
            "DEBUG:urllib3.connectionpool:Starting new HTTPS connection (1): api.openalex.org:443\n",
            "DEBUG:urllib3.connectionpool:https://api.openalex.org:443 \"GET /works?filter=has_doi:true,concepts_count:%3E0,publication_year:2019&sample=200&per-page=200 HTTP/1.1\" 200 336163\n"
          ]
        },
        {
          "name": "stdout",
          "output_type": "stream",
          "text": [
            "plus que 5698 publications pour completer l'année 2019\n"
          ]
        },
        {
          "name": "stderr",
          "output_type": "stream",
          "text": [
            "DEBUG:urllib3.connectionpool:Starting new HTTPS connection (1): api.openalex.org:443\n",
            "DEBUG:urllib3.connectionpool:https://api.openalex.org:443 \"GET /works?filter=has_doi:true,concepts_count:%3E0,publication_year:2019&sample=200&per-page=200 HTTP/1.1\" 200 344187\n"
          ]
        },
        {
          "name": "stdout",
          "output_type": "stream",
          "text": [
            "plus que 5593 publications pour completer l'année 2019\n"
          ]
        },
        {
          "name": "stderr",
          "output_type": "stream",
          "text": [
            "DEBUG:urllib3.connectionpool:Starting new HTTPS connection (1): api.openalex.org:443\n",
            "DEBUG:urllib3.connectionpool:https://api.openalex.org:443 \"GET /works?filter=has_doi:true,concepts_count:%3E0,publication_year:2019&sample=200&per-page=200 HTTP/1.1\" 200 327683\n"
          ]
        },
        {
          "name": "stdout",
          "output_type": "stream",
          "text": [
            "plus que 5481 publications pour completer l'année 2019\n"
          ]
        },
        {
          "name": "stderr",
          "output_type": "stream",
          "text": [
            "DEBUG:urllib3.connectionpool:Starting new HTTPS connection (1): api.openalex.org:443\n",
            "DEBUG:urllib3.connectionpool:https://api.openalex.org:443 \"GET /works?filter=has_doi:true,concepts_count:%3E0,publication_year:2019&sample=200&per-page=200 HTTP/1.1\" 200 346198\n"
          ]
        },
        {
          "name": "stdout",
          "output_type": "stream",
          "text": [
            "plus que 5364 publications pour completer l'année 2019\n"
          ]
        },
        {
          "name": "stderr",
          "output_type": "stream",
          "text": [
            "DEBUG:urllib3.connectionpool:Starting new HTTPS connection (1): api.openalex.org:443\n",
            "DEBUG:urllib3.connectionpool:https://api.openalex.org:443 \"GET /works?filter=has_doi:true,concepts_count:%3E0,publication_year:2019&sample=200&per-page=200 HTTP/1.1\" 200 311189\n"
          ]
        },
        {
          "name": "stdout",
          "output_type": "stream",
          "text": [
            "plus que 5247 publications pour completer l'année 2019\n"
          ]
        },
        {
          "name": "stderr",
          "output_type": "stream",
          "text": [
            "DEBUG:urllib3.connectionpool:Starting new HTTPS connection (1): api.openalex.org:443\n",
            "DEBUG:urllib3.connectionpool:https://api.openalex.org:443 \"GET /works?filter=has_doi:true,concepts_count:%3E0,publication_year:2019&sample=200&per-page=200 HTTP/1.1\" 200 322315\n"
          ]
        },
        {
          "name": "stdout",
          "output_type": "stream",
          "text": [
            "plus que 5143 publications pour completer l'année 2019\n"
          ]
        },
        {
          "name": "stderr",
          "output_type": "stream",
          "text": [
            "DEBUG:urllib3.connectionpool:Starting new HTTPS connection (1): api.openalex.org:443\n",
            "DEBUG:urllib3.connectionpool:https://api.openalex.org:443 \"GET /works?filter=has_doi:true,concepts_count:%3E0,publication_year:2019&sample=200&per-page=200 HTTP/1.1\" 200 310002\n"
          ]
        },
        {
          "name": "stdout",
          "output_type": "stream",
          "text": [
            "plus que 5031 publications pour completer l'année 2019\n"
          ]
        },
        {
          "name": "stderr",
          "output_type": "stream",
          "text": [
            "DEBUG:urllib3.connectionpool:Starting new HTTPS connection (1): api.openalex.org:443\n",
            "DEBUG:urllib3.connectionpool:https://api.openalex.org:443 \"GET /works?filter=has_doi:true,concepts_count:%3E0,publication_year:2019&sample=200&per-page=200 HTTP/1.1\" 200 356275\n"
          ]
        },
        {
          "name": "stdout",
          "output_type": "stream",
          "text": [
            "plus que 4912 publications pour completer l'année 2019\n"
          ]
        },
        {
          "name": "stderr",
          "output_type": "stream",
          "text": [
            "DEBUG:urllib3.connectionpool:Starting new HTTPS connection (1): api.openalex.org:443\n",
            "DEBUG:urllib3.connectionpool:https://api.openalex.org:443 \"GET /works?filter=has_doi:true,concepts_count:%3E0,publication_year:2019&sample=200&per-page=200 HTTP/1.1\" 200 332702\n"
          ]
        },
        {
          "name": "stdout",
          "output_type": "stream",
          "text": [
            "plus que 4806 publications pour completer l'année 2019\n"
          ]
        },
        {
          "name": "stderr",
          "output_type": "stream",
          "text": [
            "DEBUG:urllib3.connectionpool:Starting new HTTPS connection (1): api.openalex.org:443\n",
            "DEBUG:urllib3.connectionpool:https://api.openalex.org:443 \"GET /works?filter=has_doi:true,concepts_count:%3E0,publication_year:2019&sample=200&per-page=200 HTTP/1.1\" 200 312864\n"
          ]
        },
        {
          "name": "stdout",
          "output_type": "stream",
          "text": [
            "plus que 4697 publications pour completer l'année 2019\n"
          ]
        },
        {
          "name": "stderr",
          "output_type": "stream",
          "text": [
            "DEBUG:urllib3.connectionpool:Starting new HTTPS connection (1): api.openalex.org:443\n",
            "DEBUG:urllib3.connectionpool:https://api.openalex.org:443 \"GET /works?filter=has_doi:true,concepts_count:%3E0,publication_year:2019&sample=200&per-page=200 HTTP/1.1\" 200 318824\n"
          ]
        },
        {
          "name": "stdout",
          "output_type": "stream",
          "text": [
            "plus que 4587 publications pour completer l'année 2019\n"
          ]
        },
        {
          "name": "stderr",
          "output_type": "stream",
          "text": [
            "DEBUG:urllib3.connectionpool:Starting new HTTPS connection (1): api.openalex.org:443\n",
            "DEBUG:urllib3.connectionpool:https://api.openalex.org:443 \"GET /works?filter=has_doi:true,concepts_count:%3E0,publication_year:2019&sample=200&per-page=200 HTTP/1.1\" 200 331190\n"
          ]
        },
        {
          "name": "stdout",
          "output_type": "stream",
          "text": [
            "plus que 4478 publications pour completer l'année 2019\n"
          ]
        },
        {
          "name": "stderr",
          "output_type": "stream",
          "text": [
            "DEBUG:urllib3.connectionpool:Starting new HTTPS connection (1): api.openalex.org:443\n",
            "DEBUG:urllib3.connectionpool:https://api.openalex.org:443 \"GET /works?filter=has_doi:true,concepts_count:%3E0,publication_year:2019&sample=200&per-page=200 HTTP/1.1\" 200 349288\n"
          ]
        },
        {
          "name": "stdout",
          "output_type": "stream",
          "text": [
            "plus que 4359 publications pour completer l'année 2019\n"
          ]
        },
        {
          "name": "stderr",
          "output_type": "stream",
          "text": [
            "DEBUG:urllib3.connectionpool:Starting new HTTPS connection (1): api.openalex.org:443\n",
            "DEBUG:urllib3.connectionpool:https://api.openalex.org:443 \"GET /works?filter=has_doi:true,concepts_count:%3E0,publication_year:2019&sample=200&per-page=200 HTTP/1.1\" 200 296766\n"
          ]
        },
        {
          "name": "stdout",
          "output_type": "stream",
          "text": [
            "plus que 4244 publications pour completer l'année 2019\n"
          ]
        },
        {
          "name": "stderr",
          "output_type": "stream",
          "text": [
            "DEBUG:urllib3.connectionpool:Starting new HTTPS connection (1): api.openalex.org:443\n",
            "DEBUG:urllib3.connectionpool:https://api.openalex.org:443 \"GET /works?filter=has_doi:true,concepts_count:%3E0,publication_year:2019&sample=200&per-page=200 HTTP/1.1\" 200 327794\n"
          ]
        },
        {
          "name": "stdout",
          "output_type": "stream",
          "text": [
            "plus que 4135 publications pour completer l'année 2019\n"
          ]
        },
        {
          "name": "stderr",
          "output_type": "stream",
          "text": [
            "DEBUG:urllib3.connectionpool:Starting new HTTPS connection (1): api.openalex.org:443\n",
            "DEBUG:urllib3.connectionpool:https://api.openalex.org:443 \"GET /works?filter=has_doi:true,concepts_count:%3E0,publication_year:2019&sample=200&per-page=200 HTTP/1.1\" 200 304551\n"
          ]
        },
        {
          "name": "stdout",
          "output_type": "stream",
          "text": [
            "plus que 4029 publications pour completer l'année 2019\n"
          ]
        },
        {
          "name": "stderr",
          "output_type": "stream",
          "text": [
            "DEBUG:urllib3.connectionpool:Starting new HTTPS connection (1): api.openalex.org:443\n",
            "DEBUG:urllib3.connectionpool:https://api.openalex.org:443 \"GET /works?filter=has_doi:true,concepts_count:%3E0,publication_year:2019&sample=200&per-page=200 HTTP/1.1\" 200 308089\n"
          ]
        },
        {
          "name": "stdout",
          "output_type": "stream",
          "text": [
            "plus que 3928 publications pour completer l'année 2019\n"
          ]
        },
        {
          "name": "stderr",
          "output_type": "stream",
          "text": [
            "DEBUG:urllib3.connectionpool:Starting new HTTPS connection (1): api.openalex.org:443\n",
            "DEBUG:urllib3.connectionpool:https://api.openalex.org:443 \"GET /works?filter=has_doi:true,concepts_count:%3E0,publication_year:2019&sample=200&per-page=200 HTTP/1.1\" 200 319056\n"
          ]
        },
        {
          "name": "stdout",
          "output_type": "stream",
          "text": [
            "plus que 3826 publications pour completer l'année 2019\n"
          ]
        },
        {
          "name": "stderr",
          "output_type": "stream",
          "text": [
            "DEBUG:urllib3.connectionpool:Starting new HTTPS connection (1): api.openalex.org:443\n",
            "DEBUG:urllib3.connectionpool:https://api.openalex.org:443 \"GET /works?filter=has_doi:true,concepts_count:%3E0,publication_year:2019&sample=200&per-page=200 HTTP/1.1\" 200 309358\n"
          ]
        },
        {
          "name": "stdout",
          "output_type": "stream",
          "text": [
            "plus que 3731 publications pour completer l'année 2019\n"
          ]
        },
        {
          "name": "stderr",
          "output_type": "stream",
          "text": [
            "DEBUG:urllib3.connectionpool:Starting new HTTPS connection (1): api.openalex.org:443\n",
            "DEBUG:urllib3.connectionpool:https://api.openalex.org:443 \"GET /works?filter=has_doi:true,concepts_count:%3E0,publication_year:2019&sample=200&per-page=200 HTTP/1.1\" 200 316599\n"
          ]
        },
        {
          "name": "stdout",
          "output_type": "stream",
          "text": [
            "plus que 3637 publications pour completer l'année 2019\n"
          ]
        },
        {
          "name": "stderr",
          "output_type": "stream",
          "text": [
            "DEBUG:urllib3.connectionpool:Starting new HTTPS connection (1): api.openalex.org:443\n",
            "DEBUG:urllib3.connectionpool:https://api.openalex.org:443 \"GET /works?filter=has_doi:true,concepts_count:%3E0,publication_year:2019&sample=200&per-page=200 HTTP/1.1\" 200 328054\n"
          ]
        },
        {
          "name": "stdout",
          "output_type": "stream",
          "text": [
            "plus que 3537 publications pour completer l'année 2019\n"
          ]
        },
        {
          "name": "stderr",
          "output_type": "stream",
          "text": [
            "DEBUG:urllib3.connectionpool:Starting new HTTPS connection (1): api.openalex.org:443\n",
            "DEBUG:urllib3.connectionpool:https://api.openalex.org:443 \"GET /works?filter=has_doi:true,concepts_count:%3E0,publication_year:2019&sample=200&per-page=200 HTTP/1.1\" 200 319799\n"
          ]
        },
        {
          "name": "stdout",
          "output_type": "stream",
          "text": [
            "plus que 3432 publications pour completer l'année 2019\n"
          ]
        },
        {
          "name": "stderr",
          "output_type": "stream",
          "text": [
            "DEBUG:urllib3.connectionpool:Starting new HTTPS connection (1): api.openalex.org:443\n",
            "DEBUG:urllib3.connectionpool:https://api.openalex.org:443 \"GET /works?filter=has_doi:true,concepts_count:%3E0,publication_year:2019&sample=200&per-page=200 HTTP/1.1\" 200 315797\n"
          ]
        },
        {
          "name": "stdout",
          "output_type": "stream",
          "text": [
            "plus que 3320 publications pour completer l'année 2019\n"
          ]
        },
        {
          "name": "stderr",
          "output_type": "stream",
          "text": [
            "DEBUG:urllib3.connectionpool:Starting new HTTPS connection (1): api.openalex.org:443\n",
            "DEBUG:urllib3.connectionpool:https://api.openalex.org:443 \"GET /works?filter=has_doi:true,concepts_count:%3E0,publication_year:2019&sample=200&per-page=200 HTTP/1.1\" 200 318045\n"
          ]
        },
        {
          "name": "stdout",
          "output_type": "stream",
          "text": [
            "plus que 3212 publications pour completer l'année 2019\n"
          ]
        },
        {
          "name": "stderr",
          "output_type": "stream",
          "text": [
            "DEBUG:urllib3.connectionpool:Starting new HTTPS connection (1): api.openalex.org:443\n",
            "DEBUG:urllib3.connectionpool:https://api.openalex.org:443 \"GET /works?filter=has_doi:true,concepts_count:%3E0,publication_year:2019&sample=200&per-page=200 HTTP/1.1\" 200 309810\n"
          ]
        },
        {
          "name": "stdout",
          "output_type": "stream",
          "text": [
            "plus que 3103 publications pour completer l'année 2019\n"
          ]
        },
        {
          "name": "stderr",
          "output_type": "stream",
          "text": [
            "DEBUG:urllib3.connectionpool:Starting new HTTPS connection (1): api.openalex.org:443\n",
            "DEBUG:urllib3.connectionpool:https://api.openalex.org:443 \"GET /works?filter=has_doi:true,concepts_count:%3E0,publication_year:2019&sample=200&per-page=200 HTTP/1.1\" 200 318864\n"
          ]
        },
        {
          "name": "stdout",
          "output_type": "stream",
          "text": [
            "plus que 3003 publications pour completer l'année 2019\n"
          ]
        },
        {
          "name": "stderr",
          "output_type": "stream",
          "text": [
            "DEBUG:urllib3.connectionpool:Starting new HTTPS connection (1): api.openalex.org:443\n",
            "DEBUG:urllib3.connectionpool:https://api.openalex.org:443 \"GET /works?filter=has_doi:true,concepts_count:%3E0,publication_year:2019&sample=200&per-page=200 HTTP/1.1\" 200 340285\n"
          ]
        },
        {
          "name": "stdout",
          "output_type": "stream",
          "text": [
            "plus que 2890 publications pour completer l'année 2019\n"
          ]
        },
        {
          "name": "stderr",
          "output_type": "stream",
          "text": [
            "DEBUG:urllib3.connectionpool:Starting new HTTPS connection (1): api.openalex.org:443\n",
            "DEBUG:urllib3.connectionpool:https://api.openalex.org:443 \"GET /works?filter=has_doi:true,concepts_count:%3E0,publication_year:2019&sample=200&per-page=200 HTTP/1.1\" 200 312843\n"
          ]
        },
        {
          "name": "stdout",
          "output_type": "stream",
          "text": [
            "plus que 2778 publications pour completer l'année 2019\n"
          ]
        },
        {
          "name": "stderr",
          "output_type": "stream",
          "text": [
            "DEBUG:urllib3.connectionpool:Starting new HTTPS connection (1): api.openalex.org:443\n",
            "DEBUG:urllib3.connectionpool:https://api.openalex.org:443 \"GET /works?filter=has_doi:true,concepts_count:%3E0,publication_year:2019&sample=200&per-page=200 HTTP/1.1\" 200 317798\n"
          ]
        },
        {
          "name": "stdout",
          "output_type": "stream",
          "text": [
            "plus que 2667 publications pour completer l'année 2019\n"
          ]
        },
        {
          "name": "stderr",
          "output_type": "stream",
          "text": [
            "DEBUG:urllib3.connectionpool:Starting new HTTPS connection (1): api.openalex.org:443\n",
            "DEBUG:urllib3.connectionpool:https://api.openalex.org:443 \"GET /works?filter=has_doi:true,concepts_count:%3E0,publication_year:2019&sample=200&per-page=200 HTTP/1.1\" 200 352657\n"
          ]
        },
        {
          "name": "stdout",
          "output_type": "stream",
          "text": [
            "plus que 2549 publications pour completer l'année 2019\n"
          ]
        },
        {
          "name": "stderr",
          "output_type": "stream",
          "text": [
            "DEBUG:urllib3.connectionpool:Starting new HTTPS connection (1): api.openalex.org:443\n",
            "DEBUG:urllib3.connectionpool:https://api.openalex.org:443 \"GET /works?filter=has_doi:true,concepts_count:%3E0,publication_year:2019&sample=200&per-page=200 HTTP/1.1\" 200 335699\n"
          ]
        },
        {
          "name": "stdout",
          "output_type": "stream",
          "text": [
            "plus que 2442 publications pour completer l'année 2019\n"
          ]
        },
        {
          "name": "stderr",
          "output_type": "stream",
          "text": [
            "DEBUG:urllib3.connectionpool:Starting new HTTPS connection (1): api.openalex.org:443\n",
            "DEBUG:urllib3.connectionpool:https://api.openalex.org:443 \"GET /works?filter=has_doi:true,concepts_count:%3E0,publication_year:2019&sample=200&per-page=200 HTTP/1.1\" 200 344702\n"
          ]
        },
        {
          "name": "stdout",
          "output_type": "stream",
          "text": [
            "plus que 2334 publications pour completer l'année 2019\n"
          ]
        },
        {
          "name": "stderr",
          "output_type": "stream",
          "text": [
            "DEBUG:urllib3.connectionpool:Starting new HTTPS connection (1): api.openalex.org:443\n",
            "DEBUG:urllib3.connectionpool:https://api.openalex.org:443 \"GET /works?filter=has_doi:true,concepts_count:%3E0,publication_year:2019&sample=200&per-page=200 HTTP/1.1\" 200 330415\n"
          ]
        },
        {
          "name": "stdout",
          "output_type": "stream",
          "text": [
            "plus que 2222 publications pour completer l'année 2019\n"
          ]
        },
        {
          "name": "stderr",
          "output_type": "stream",
          "text": [
            "DEBUG:urllib3.connectionpool:Starting new HTTPS connection (1): api.openalex.org:443\n",
            "DEBUG:urllib3.connectionpool:https://api.openalex.org:443 \"GET /works?filter=has_doi:true,concepts_count:%3E0,publication_year:2019&sample=200&per-page=200 HTTP/1.1\" 200 309600\n"
          ]
        },
        {
          "name": "stdout",
          "output_type": "stream",
          "text": [
            "plus que 2117 publications pour completer l'année 2019\n"
          ]
        },
        {
          "name": "stderr",
          "output_type": "stream",
          "text": [
            "DEBUG:urllib3.connectionpool:Starting new HTTPS connection (1): api.openalex.org:443\n",
            "DEBUG:urllib3.connectionpool:https://api.openalex.org:443 \"GET /works?filter=has_doi:true,concepts_count:%3E0,publication_year:2019&sample=200&per-page=200 HTTP/1.1\" 200 336087\n"
          ]
        },
        {
          "name": "stdout",
          "output_type": "stream",
          "text": [
            "plus que 2004 publications pour completer l'année 2019\n"
          ]
        },
        {
          "name": "stderr",
          "output_type": "stream",
          "text": [
            "DEBUG:urllib3.connectionpool:Starting new HTTPS connection (1): api.openalex.org:443\n",
            "DEBUG:urllib3.connectionpool:https://api.openalex.org:443 \"GET /works?filter=has_doi:true,concepts_count:%3E0,publication_year:2019&sample=200&per-page=200 HTTP/1.1\" 200 331402\n"
          ]
        },
        {
          "name": "stdout",
          "output_type": "stream",
          "text": [
            "plus que 1896 publications pour completer l'année 2019\n"
          ]
        },
        {
          "name": "stderr",
          "output_type": "stream",
          "text": [
            "DEBUG:urllib3.connectionpool:Starting new HTTPS connection (1): api.openalex.org:443\n",
            "DEBUG:urllib3.connectionpool:https://api.openalex.org:443 \"GET /works?filter=has_doi:true,concepts_count:%3E0,publication_year:2019&sample=200&per-page=200 HTTP/1.1\" 200 334890\n"
          ]
        },
        {
          "name": "stdout",
          "output_type": "stream",
          "text": [
            "plus que 1793 publications pour completer l'année 2019\n"
          ]
        },
        {
          "name": "stderr",
          "output_type": "stream",
          "text": [
            "DEBUG:urllib3.connectionpool:Starting new HTTPS connection (1): api.openalex.org:443\n",
            "DEBUG:urllib3.connectionpool:https://api.openalex.org:443 \"GET /works?filter=has_doi:true,concepts_count:%3E0,publication_year:2019&sample=200&per-page=200 HTTP/1.1\" 200 321338\n"
          ]
        },
        {
          "name": "stdout",
          "output_type": "stream",
          "text": [
            "plus que 1695 publications pour completer l'année 2019\n"
          ]
        },
        {
          "name": "stderr",
          "output_type": "stream",
          "text": [
            "DEBUG:urllib3.connectionpool:Starting new HTTPS connection (1): api.openalex.org:443\n",
            "DEBUG:urllib3.connectionpool:https://api.openalex.org:443 \"GET /works?filter=has_doi:true,concepts_count:%3E0,publication_year:2019&sample=200&per-page=200 HTTP/1.1\" 200 324494\n"
          ]
        },
        {
          "name": "stdout",
          "output_type": "stream",
          "text": [
            "plus que 1589 publications pour completer l'année 2019\n"
          ]
        },
        {
          "name": "stderr",
          "output_type": "stream",
          "text": [
            "DEBUG:urllib3.connectionpool:Starting new HTTPS connection (1): api.openalex.org:443\n",
            "DEBUG:urllib3.connectionpool:https://api.openalex.org:443 \"GET /works?filter=has_doi:true,concepts_count:%3E0,publication_year:2019&sample=200&per-page=200 HTTP/1.1\" 200 347371\n"
          ]
        },
        {
          "name": "stdout",
          "output_type": "stream",
          "text": [
            "plus que 1484 publications pour completer l'année 2019\n"
          ]
        },
        {
          "name": "stderr",
          "output_type": "stream",
          "text": [
            "DEBUG:urllib3.connectionpool:Starting new HTTPS connection (1): api.openalex.org:443\n",
            "DEBUG:urllib3.connectionpool:https://api.openalex.org:443 \"GET /works?filter=has_doi:true,concepts_count:%3E0,publication_year:2019&sample=200&per-page=200 HTTP/1.1\" 200 345943\n"
          ]
        },
        {
          "name": "stdout",
          "output_type": "stream",
          "text": [
            "plus que 1374 publications pour completer l'année 2019\n"
          ]
        },
        {
          "name": "stderr",
          "output_type": "stream",
          "text": [
            "DEBUG:urllib3.connectionpool:Starting new HTTPS connection (1): api.openalex.org:443\n",
            "DEBUG:urllib3.connectionpool:https://api.openalex.org:443 \"GET /works?filter=has_doi:true,concepts_count:%3E0,publication_year:2019&sample=200&per-page=200 HTTP/1.1\" 200 339243\n"
          ]
        },
        {
          "name": "stdout",
          "output_type": "stream",
          "text": [
            "plus que 1262 publications pour completer l'année 2019\n"
          ]
        },
        {
          "name": "stderr",
          "output_type": "stream",
          "text": [
            "DEBUG:urllib3.connectionpool:Starting new HTTPS connection (1): api.openalex.org:443\n",
            "DEBUG:urllib3.connectionpool:https://api.openalex.org:443 \"GET /works?filter=has_doi:true,concepts_count:%3E0,publication_year:2019&sample=200&per-page=200 HTTP/1.1\" 200 333710\n"
          ]
        },
        {
          "name": "stdout",
          "output_type": "stream",
          "text": [
            "plus que 1154 publications pour completer l'année 2019\n"
          ]
        },
        {
          "name": "stderr",
          "output_type": "stream",
          "text": [
            "DEBUG:urllib3.connectionpool:Starting new HTTPS connection (1): api.openalex.org:443\n",
            "DEBUG:urllib3.connectionpool:https://api.openalex.org:443 \"GET /works?filter=has_doi:true,concepts_count:%3E0,publication_year:2019&sample=200&per-page=200 HTTP/1.1\" 200 299120\n"
          ]
        },
        {
          "name": "stdout",
          "output_type": "stream",
          "text": [
            "plus que 1049 publications pour completer l'année 2019\n"
          ]
        },
        {
          "name": "stderr",
          "output_type": "stream",
          "text": [
            "DEBUG:urllib3.connectionpool:Starting new HTTPS connection (1): api.openalex.org:443\n",
            "DEBUG:urllib3.connectionpool:https://api.openalex.org:443 \"GET /works?filter=has_doi:true,concepts_count:%3E0,publication_year:2019&sample=200&per-page=200 HTTP/1.1\" 200 320903\n"
          ]
        },
        {
          "name": "stdout",
          "output_type": "stream",
          "text": [
            "plus que 950 publications pour completer l'année 2019\n"
          ]
        },
        {
          "name": "stderr",
          "output_type": "stream",
          "text": [
            "DEBUG:urllib3.connectionpool:Starting new HTTPS connection (1): api.openalex.org:443\n",
            "DEBUG:urllib3.connectionpool:https://api.openalex.org:443 \"GET /works?filter=has_doi:true,concepts_count:%3E0,publication_year:2019&sample=200&per-page=200 HTTP/1.1\" 200 326541\n"
          ]
        },
        {
          "name": "stdout",
          "output_type": "stream",
          "text": [
            "plus que 837 publications pour completer l'année 2019\n"
          ]
        },
        {
          "name": "stderr",
          "output_type": "stream",
          "text": [
            "DEBUG:urllib3.connectionpool:Starting new HTTPS connection (1): api.openalex.org:443\n",
            "DEBUG:urllib3.connectionpool:https://api.openalex.org:443 \"GET /works?filter=has_doi:true,concepts_count:%3E0,publication_year:2019&sample=200&per-page=200 HTTP/1.1\" 200 355588\n"
          ]
        },
        {
          "name": "stdout",
          "output_type": "stream",
          "text": [
            "plus que 735 publications pour completer l'année 2019\n"
          ]
        },
        {
          "name": "stderr",
          "output_type": "stream",
          "text": [
            "DEBUG:urllib3.connectionpool:Starting new HTTPS connection (1): api.openalex.org:443\n",
            "DEBUG:urllib3.connectionpool:https://api.openalex.org:443 \"GET /works?filter=has_doi:true,concepts_count:%3E0,publication_year:2019&sample=200&per-page=200 HTTP/1.1\" 200 353596\n"
          ]
        },
        {
          "name": "stdout",
          "output_type": "stream",
          "text": [
            "plus que 625 publications pour completer l'année 2019\n"
          ]
        },
        {
          "name": "stderr",
          "output_type": "stream",
          "text": [
            "DEBUG:urllib3.connectionpool:Starting new HTTPS connection (1): api.openalex.org:443\n",
            "DEBUG:urllib3.connectionpool:https://api.openalex.org:443 \"GET /works?filter=has_doi:true,concepts_count:%3E0,publication_year:2019&sample=200&per-page=200 HTTP/1.1\" 200 297871\n"
          ]
        },
        {
          "name": "stdout",
          "output_type": "stream",
          "text": [
            "plus que 520 publications pour completer l'année 2019\n"
          ]
        },
        {
          "name": "stderr",
          "output_type": "stream",
          "text": [
            "DEBUG:urllib3.connectionpool:Starting new HTTPS connection (1): api.openalex.org:443\n",
            "DEBUG:urllib3.connectionpool:https://api.openalex.org:443 \"GET /works?filter=has_doi:true,concepts_count:%3E0,publication_year:2019&sample=200&per-page=200 HTTP/1.1\" 200 293277\n"
          ]
        },
        {
          "name": "stdout",
          "output_type": "stream",
          "text": [
            "plus que 422 publications pour completer l'année 2019\n"
          ]
        },
        {
          "name": "stderr",
          "output_type": "stream",
          "text": [
            "DEBUG:urllib3.connectionpool:Starting new HTTPS connection (1): api.openalex.org:443\n",
            "DEBUG:urllib3.connectionpool:https://api.openalex.org:443 \"GET /works?filter=has_doi:true,concepts_count:%3E0,publication_year:2019&sample=200&per-page=200 HTTP/1.1\" 200 289608\n"
          ]
        },
        {
          "name": "stdout",
          "output_type": "stream",
          "text": [
            "plus que 331 publications pour completer l'année 2019\n"
          ]
        },
        {
          "name": "stderr",
          "output_type": "stream",
          "text": [
            "DEBUG:urllib3.connectionpool:Starting new HTTPS connection (1): api.openalex.org:443\n",
            "DEBUG:urllib3.connectionpool:https://api.openalex.org:443 \"GET /works?filter=has_doi:true,concepts_count:%3E0,publication_year:2019&sample=200&per-page=200 HTTP/1.1\" 200 316606\n"
          ]
        },
        {
          "name": "stdout",
          "output_type": "stream",
          "text": [
            "plus que 229 publications pour completer l'année 2019\n"
          ]
        },
        {
          "name": "stderr",
          "output_type": "stream",
          "text": [
            "DEBUG:urllib3.connectionpool:Starting new HTTPS connection (1): api.openalex.org:443\n",
            "DEBUG:urllib3.connectionpool:https://api.openalex.org:443 \"GET /works?filter=has_doi:true,concepts_count:%3E0,publication_year:2019&sample=200&per-page=200 HTTP/1.1\" 200 313336\n"
          ]
        },
        {
          "name": "stdout",
          "output_type": "stream",
          "text": [
            "plus que 117 publications pour completer l'année 2019\n"
          ]
        },
        {
          "name": "stderr",
          "output_type": "stream",
          "text": [
            "DEBUG:urllib3.connectionpool:Starting new HTTPS connection (1): api.openalex.org:443\n",
            "DEBUG:urllib3.connectionpool:https://api.openalex.org:443 \"GET /works?filter=has_doi:true,concepts_count:%3E0,publication_year:2019&sample=200&per-page=200 HTTP/1.1\" 200 296228\n"
          ]
        },
        {
          "name": "stdout",
          "output_type": "stream",
          "text": [
            "plus que 4 publications pour completer l'année 2019\n"
          ]
        },
        {
          "name": "stderr",
          "output_type": "stream",
          "text": [
            "DEBUG:urllib3.connectionpool:Starting new HTTPS connection (1): api.openalex.org:443\n",
            "DEBUG:urllib3.connectionpool:https://api.openalex.org:443 \"GET /works?filter=has_doi:true,concepts_count:%3E0,publication_year:2020&sample=200&per-page=200 HTTP/1.1\" 200 305232\n"
          ]
        },
        {
          "name": "stdout",
          "output_type": "stream",
          "text": [
            "plus que 5707 publications pour completer l'année 2020\n"
          ]
        },
        {
          "name": "stderr",
          "output_type": "stream",
          "text": [
            "DEBUG:urllib3.connectionpool:Starting new HTTPS connection (1): api.openalex.org:443\n",
            "DEBUG:urllib3.connectionpool:https://api.openalex.org:443 \"GET /works?filter=has_doi:true,concepts_count:%3E0,publication_year:2020&sample=200&per-page=200 HTTP/1.1\" 200 335842\n"
          ]
        },
        {
          "name": "stdout",
          "output_type": "stream",
          "text": [
            "plus que 5614 publications pour completer l'année 2020\n"
          ]
        },
        {
          "name": "stderr",
          "output_type": "stream",
          "text": [
            "DEBUG:urllib3.connectionpool:Starting new HTTPS connection (1): api.openalex.org:443\n",
            "DEBUG:urllib3.connectionpool:https://api.openalex.org:443 \"GET /works?filter=has_doi:true,concepts_count:%3E0,publication_year:2020&sample=200&per-page=200 HTTP/1.1\" 200 333755\n"
          ]
        },
        {
          "name": "stdout",
          "output_type": "stream",
          "text": [
            "plus que 5517 publications pour completer l'année 2020\n"
          ]
        },
        {
          "name": "stderr",
          "output_type": "stream",
          "text": [
            "DEBUG:urllib3.connectionpool:Starting new HTTPS connection (1): api.openalex.org:443\n",
            "DEBUG:urllib3.connectionpool:https://api.openalex.org:443 \"GET /works?filter=has_doi:true,concepts_count:%3E0,publication_year:2020&sample=200&per-page=200 HTTP/1.1\" 200 340138\n"
          ]
        },
        {
          "name": "stdout",
          "output_type": "stream",
          "text": [
            "plus que 5423 publications pour completer l'année 2020\n"
          ]
        },
        {
          "name": "stderr",
          "output_type": "stream",
          "text": [
            "DEBUG:urllib3.connectionpool:Starting new HTTPS connection (1): api.openalex.org:443\n",
            "DEBUG:urllib3.connectionpool:https://api.openalex.org:443 \"GET /works?filter=has_doi:true,concepts_count:%3E0,publication_year:2020&sample=200&per-page=200 HTTP/1.1\" 200 336357\n"
          ]
        },
        {
          "name": "stdout",
          "output_type": "stream",
          "text": [
            "plus que 5321 publications pour completer l'année 2020\n"
          ]
        },
        {
          "name": "stderr",
          "output_type": "stream",
          "text": [
            "DEBUG:urllib3.connectionpool:Starting new HTTPS connection (1): api.openalex.org:443\n",
            "DEBUG:urllib3.connectionpool:https://api.openalex.org:443 \"GET /works?filter=has_doi:true,concepts_count:%3E0,publication_year:2020&sample=200&per-page=200 HTTP/1.1\" 200 317717\n"
          ]
        },
        {
          "name": "stdout",
          "output_type": "stream",
          "text": [
            "plus que 5236 publications pour completer l'année 2020\n"
          ]
        },
        {
          "name": "stderr",
          "output_type": "stream",
          "text": [
            "DEBUG:urllib3.connectionpool:Starting new HTTPS connection (1): api.openalex.org:443\n",
            "DEBUG:urllib3.connectionpool:https://api.openalex.org:443 \"GET /works?filter=has_doi:true,concepts_count:%3E0,publication_year:2020&sample=200&per-page=200 HTTP/1.1\" 200 339892\n"
          ]
        },
        {
          "name": "stdout",
          "output_type": "stream",
          "text": [
            "plus que 5141 publications pour completer l'année 2020\n"
          ]
        },
        {
          "name": "stderr",
          "output_type": "stream",
          "text": [
            "DEBUG:urllib3.connectionpool:Starting new HTTPS connection (1): api.openalex.org:443\n",
            "DEBUG:urllib3.connectionpool:https://api.openalex.org:443 \"GET /works?filter=has_doi:true,concepts_count:%3E0,publication_year:2020&sample=200&per-page=200 HTTP/1.1\" 200 330003\n"
          ]
        },
        {
          "name": "stdout",
          "output_type": "stream",
          "text": [
            "plus que 5044 publications pour completer l'année 2020\n"
          ]
        },
        {
          "name": "stderr",
          "output_type": "stream",
          "text": [
            "DEBUG:urllib3.connectionpool:Starting new HTTPS connection (1): api.openalex.org:443\n",
            "DEBUG:urllib3.connectionpool:https://api.openalex.org:443 \"GET /works?filter=has_doi:true,concepts_count:%3E0,publication_year:2020&sample=200&per-page=200 HTTP/1.1\" 200 320059\n"
          ]
        },
        {
          "name": "stdout",
          "output_type": "stream",
          "text": [
            "plus que 4954 publications pour completer l'année 2020\n"
          ]
        },
        {
          "name": "stderr",
          "output_type": "stream",
          "text": [
            "DEBUG:urllib3.connectionpool:Starting new HTTPS connection (1): api.openalex.org:443\n",
            "DEBUG:urllib3.connectionpool:https://api.openalex.org:443 \"GET /works?filter=has_doi:true,concepts_count:%3E0,publication_year:2020&sample=200&per-page=200 HTTP/1.1\" 200 318177\n"
          ]
        },
        {
          "name": "stdout",
          "output_type": "stream",
          "text": [
            "plus que 4853 publications pour completer l'année 2020\n"
          ]
        },
        {
          "name": "stderr",
          "output_type": "stream",
          "text": [
            "DEBUG:urllib3.connectionpool:Starting new HTTPS connection (1): api.openalex.org:443\n",
            "DEBUG:urllib3.connectionpool:https://api.openalex.org:443 \"GET /works?filter=has_doi:true,concepts_count:%3E0,publication_year:2020&sample=200&per-page=200 HTTP/1.1\" 200 347097\n"
          ]
        },
        {
          "name": "stdout",
          "output_type": "stream",
          "text": [
            "plus que 4756 publications pour completer l'année 2020\n"
          ]
        },
        {
          "name": "stderr",
          "output_type": "stream",
          "text": [
            "DEBUG:urllib3.connectionpool:Starting new HTTPS connection (1): api.openalex.org:443\n",
            "DEBUG:urllib3.connectionpool:https://api.openalex.org:443 \"GET /works?filter=has_doi:true,concepts_count:%3E0,publication_year:2020&sample=200&per-page=200 HTTP/1.1\" 200 339373\n"
          ]
        },
        {
          "name": "stdout",
          "output_type": "stream",
          "text": [
            "plus que 4653 publications pour completer l'année 2020\n"
          ]
        },
        {
          "name": "stderr",
          "output_type": "stream",
          "text": [
            "DEBUG:urllib3.connectionpool:Starting new HTTPS connection (1): api.openalex.org:443\n",
            "DEBUG:urllib3.connectionpool:https://api.openalex.org:443 \"GET /works?filter=has_doi:true,concepts_count:%3E0,publication_year:2020&sample=200&per-page=200 HTTP/1.1\" 200 321389\n"
          ]
        },
        {
          "name": "stdout",
          "output_type": "stream",
          "text": [
            "plus que 4548 publications pour completer l'année 2020\n"
          ]
        },
        {
          "name": "stderr",
          "output_type": "stream",
          "text": [
            "DEBUG:urllib3.connectionpool:Starting new HTTPS connection (1): api.openalex.org:443\n",
            "DEBUG:urllib3.connectionpool:https://api.openalex.org:443 \"GET /works?filter=has_doi:true,concepts_count:%3E0,publication_year:2020&sample=200&per-page=200 HTTP/1.1\" 200 343471\n"
          ]
        },
        {
          "name": "stdout",
          "output_type": "stream",
          "text": [
            "plus que 4447 publications pour completer l'année 2020\n"
          ]
        },
        {
          "name": "stderr",
          "output_type": "stream",
          "text": [
            "DEBUG:urllib3.connectionpool:Starting new HTTPS connection (1): api.openalex.org:443\n",
            "DEBUG:urllib3.connectionpool:https://api.openalex.org:443 \"GET /works?filter=has_doi:true,concepts_count:%3E0,publication_year:2020&sample=200&per-page=200 HTTP/1.1\" 200 298346\n"
          ]
        },
        {
          "name": "stdout",
          "output_type": "stream",
          "text": [
            "plus que 4364 publications pour completer l'année 2020\n"
          ]
        },
        {
          "name": "stderr",
          "output_type": "stream",
          "text": [
            "DEBUG:urllib3.connectionpool:Starting new HTTPS connection (1): api.openalex.org:443\n",
            "DEBUG:urllib3.connectionpool:https://api.openalex.org:443 \"GET /works?filter=has_doi:true,concepts_count:%3E0,publication_year:2020&sample=200&per-page=200 HTTP/1.1\" 200 323065\n"
          ]
        },
        {
          "name": "stdout",
          "output_type": "stream",
          "text": [
            "plus que 4276 publications pour completer l'année 2020\n"
          ]
        },
        {
          "name": "stderr",
          "output_type": "stream",
          "text": [
            "DEBUG:urllib3.connectionpool:Starting new HTTPS connection (1): api.openalex.org:443\n",
            "DEBUG:urllib3.connectionpool:https://api.openalex.org:443 \"GET /works?filter=has_doi:true,concepts_count:%3E0,publication_year:2020&sample=200&per-page=200 HTTP/1.1\" 200 338456\n"
          ]
        },
        {
          "name": "stdout",
          "output_type": "stream",
          "text": [
            "plus que 4172 publications pour completer l'année 2020\n"
          ]
        },
        {
          "name": "stderr",
          "output_type": "stream",
          "text": [
            "DEBUG:urllib3.connectionpool:Starting new HTTPS connection (1): api.openalex.org:443\n",
            "DEBUG:urllib3.connectionpool:https://api.openalex.org:443 \"GET /works?filter=has_doi:true,concepts_count:%3E0,publication_year:2020&sample=200&per-page=200 HTTP/1.1\" 200 336398\n"
          ]
        },
        {
          "name": "stdout",
          "output_type": "stream",
          "text": [
            "plus que 4067 publications pour completer l'année 2020\n"
          ]
        },
        {
          "name": "stderr",
          "output_type": "stream",
          "text": [
            "DEBUG:urllib3.connectionpool:Starting new HTTPS connection (1): api.openalex.org:443\n",
            "DEBUG:urllib3.connectionpool:https://api.openalex.org:443 \"GET /works?filter=has_doi:true,concepts_count:%3E0,publication_year:2020&sample=200&per-page=200 HTTP/1.1\" 200 304948\n"
          ]
        },
        {
          "name": "stdout",
          "output_type": "stream",
          "text": [
            "plus que 3961 publications pour completer l'année 2020\n"
          ]
        },
        {
          "name": "stderr",
          "output_type": "stream",
          "text": [
            "DEBUG:urllib3.connectionpool:Starting new HTTPS connection (1): api.openalex.org:443\n",
            "DEBUG:urllib3.connectionpool:https://api.openalex.org:443 \"GET /works?filter=has_doi:true,concepts_count:%3E0,publication_year:2020&sample=200&per-page=200 HTTP/1.1\" 200 302672\n"
          ]
        },
        {
          "name": "stdout",
          "output_type": "stream",
          "text": [
            "plus que 3860 publications pour completer l'année 2020\n"
          ]
        },
        {
          "name": "stderr",
          "output_type": "stream",
          "text": [
            "DEBUG:urllib3.connectionpool:Starting new HTTPS connection (1): api.openalex.org:443\n",
            "DEBUG:urllib3.connectionpool:https://api.openalex.org:443 \"GET /works?filter=has_doi:true,concepts_count:%3E0,publication_year:2020&sample=200&per-page=200 HTTP/1.1\" 200 344741\n"
          ]
        },
        {
          "name": "stdout",
          "output_type": "stream",
          "text": [
            "plus que 3760 publications pour completer l'année 2020\n"
          ]
        },
        {
          "name": "stderr",
          "output_type": "stream",
          "text": [
            "DEBUG:urllib3.connectionpool:Starting new HTTPS connection (1): api.openalex.org:443\n",
            "DEBUG:urllib3.connectionpool:https://api.openalex.org:443 \"GET /works?filter=has_doi:true,concepts_count:%3E0,publication_year:2020&sample=200&per-page=200 HTTP/1.1\" 200 321057\n"
          ]
        },
        {
          "name": "stdout",
          "output_type": "stream",
          "text": [
            "plus que 3637 publications pour completer l'année 2020\n"
          ]
        },
        {
          "name": "stderr",
          "output_type": "stream",
          "text": [
            "DEBUG:urllib3.connectionpool:Starting new HTTPS connection (1): api.openalex.org:443\n",
            "DEBUG:urllib3.connectionpool:https://api.openalex.org:443 \"GET /works?filter=has_doi:true,concepts_count:%3E0,publication_year:2020&sample=200&per-page=200 HTTP/1.1\" 200 331010\n"
          ]
        },
        {
          "name": "stdout",
          "output_type": "stream",
          "text": [
            "plus que 3535 publications pour completer l'année 2020\n"
          ]
        },
        {
          "name": "stderr",
          "output_type": "stream",
          "text": [
            "DEBUG:urllib3.connectionpool:Starting new HTTPS connection (1): api.openalex.org:443\n",
            "DEBUG:urllib3.connectionpool:https://api.openalex.org:443 \"GET /works?filter=has_doi:true,concepts_count:%3E0,publication_year:2020&sample=200&per-page=200 HTTP/1.1\" 200 352233\n"
          ]
        },
        {
          "name": "stdout",
          "output_type": "stream",
          "text": [
            "plus que 3438 publications pour completer l'année 2020\n"
          ]
        },
        {
          "name": "stderr",
          "output_type": "stream",
          "text": [
            "DEBUG:urllib3.connectionpool:Starting new HTTPS connection (1): api.openalex.org:443\n",
            "DEBUG:urllib3.connectionpool:https://api.openalex.org:443 \"GET /works?filter=has_doi:true,concepts_count:%3E0,publication_year:2020&sample=200&per-page=200 HTTP/1.1\" 200 308714\n"
          ]
        },
        {
          "name": "stdout",
          "output_type": "stream",
          "text": [
            "plus que 3333 publications pour completer l'année 2020\n"
          ]
        },
        {
          "name": "stderr",
          "output_type": "stream",
          "text": [
            "DEBUG:urllib3.connectionpool:Starting new HTTPS connection (1): api.openalex.org:443\n",
            "DEBUG:urllib3.connectionpool:https://api.openalex.org:443 \"GET /works?filter=has_doi:true,concepts_count:%3E0,publication_year:2020&sample=200&per-page=200 HTTP/1.1\" 200 332902\n"
          ]
        },
        {
          "name": "stdout",
          "output_type": "stream",
          "text": [
            "plus que 3233 publications pour completer l'année 2020\n"
          ]
        },
        {
          "name": "stderr",
          "output_type": "stream",
          "text": [
            "DEBUG:urllib3.connectionpool:Starting new HTTPS connection (1): api.openalex.org:443\n",
            "DEBUG:urllib3.connectionpool:https://api.openalex.org:443 \"GET /works?filter=has_doi:true,concepts_count:%3E0,publication_year:2020&sample=200&per-page=200 HTTP/1.1\" 200 337628\n"
          ]
        },
        {
          "name": "stdout",
          "output_type": "stream",
          "text": [
            "plus que 3122 publications pour completer l'année 2020\n"
          ]
        },
        {
          "name": "stderr",
          "output_type": "stream",
          "text": [
            "DEBUG:urllib3.connectionpool:Starting new HTTPS connection (1): api.openalex.org:443\n",
            "DEBUG:urllib3.connectionpool:https://api.openalex.org:443 \"GET /works?filter=has_doi:true,concepts_count:%3E0,publication_year:2020&sample=200&per-page=200 HTTP/1.1\" 200 304992\n"
          ]
        },
        {
          "name": "stdout",
          "output_type": "stream",
          "text": [
            "plus que 3016 publications pour completer l'année 2020\n"
          ]
        },
        {
          "name": "stderr",
          "output_type": "stream",
          "text": [
            "DEBUG:urllib3.connectionpool:Starting new HTTPS connection (1): api.openalex.org:443\n",
            "DEBUG:urllib3.connectionpool:https://api.openalex.org:443 \"GET /works?filter=has_doi:true,concepts_count:%3E0,publication_year:2020&sample=200&per-page=200 HTTP/1.1\" 200 333485\n"
          ]
        },
        {
          "name": "stdout",
          "output_type": "stream",
          "text": [
            "plus que 2904 publications pour completer l'année 2020\n"
          ]
        },
        {
          "name": "stderr",
          "output_type": "stream",
          "text": [
            "DEBUG:urllib3.connectionpool:Starting new HTTPS connection (1): api.openalex.org:443\n",
            "DEBUG:urllib3.connectionpool:https://api.openalex.org:443 \"GET /works?filter=has_doi:true,concepts_count:%3E0,publication_year:2020&sample=200&per-page=200 HTTP/1.1\" 200 347746\n"
          ]
        },
        {
          "name": "stdout",
          "output_type": "stream",
          "text": [
            "plus que 2799 publications pour completer l'année 2020\n"
          ]
        },
        {
          "name": "stderr",
          "output_type": "stream",
          "text": [
            "DEBUG:urllib3.connectionpool:Starting new HTTPS connection (1): api.openalex.org:443\n",
            "DEBUG:urllib3.connectionpool:https://api.openalex.org:443 \"GET /works?filter=has_doi:true,concepts_count:%3E0,publication_year:2020&sample=200&per-page=200 HTTP/1.1\" 200 310729\n"
          ]
        },
        {
          "name": "stdout",
          "output_type": "stream",
          "text": [
            "plus que 2682 publications pour completer l'année 2020\n"
          ]
        },
        {
          "name": "stderr",
          "output_type": "stream",
          "text": [
            "DEBUG:urllib3.connectionpool:Starting new HTTPS connection (1): api.openalex.org:443\n",
            "DEBUG:urllib3.connectionpool:https://api.openalex.org:443 \"GET /works?filter=has_doi:true,concepts_count:%3E0,publication_year:2020&sample=200&per-page=200 HTTP/1.1\" 200 307985\n"
          ]
        },
        {
          "name": "stdout",
          "output_type": "stream",
          "text": [
            "plus que 2587 publications pour completer l'année 2020\n"
          ]
        },
        {
          "name": "stderr",
          "output_type": "stream",
          "text": [
            "DEBUG:urllib3.connectionpool:Starting new HTTPS connection (1): api.openalex.org:443\n",
            "DEBUG:urllib3.connectionpool:https://api.openalex.org:443 \"GET /works?filter=has_doi:true,concepts_count:%3E0,publication_year:2020&sample=200&per-page=200 HTTP/1.1\" 200 316212\n"
          ]
        },
        {
          "name": "stdout",
          "output_type": "stream",
          "text": [
            "plus que 2474 publications pour completer l'année 2020\n"
          ]
        },
        {
          "name": "stderr",
          "output_type": "stream",
          "text": [
            "DEBUG:urllib3.connectionpool:Starting new HTTPS connection (1): api.openalex.org:443\n",
            "DEBUG:urllib3.connectionpool:https://api.openalex.org:443 \"GET /works?filter=has_doi:true,concepts_count:%3E0,publication_year:2020&sample=200&per-page=200 HTTP/1.1\" 200 323455\n"
          ]
        },
        {
          "name": "stdout",
          "output_type": "stream",
          "text": [
            "plus que 2374 publications pour completer l'année 2020\n"
          ]
        },
        {
          "name": "stderr",
          "output_type": "stream",
          "text": [
            "DEBUG:urllib3.connectionpool:Starting new HTTPS connection (1): api.openalex.org:443\n",
            "DEBUG:urllib3.connectionpool:https://api.openalex.org:443 \"GET /works?filter=has_doi:true,concepts_count:%3E0,publication_year:2020&sample=200&per-page=200 HTTP/1.1\" 200 311357\n"
          ]
        },
        {
          "name": "stdout",
          "output_type": "stream",
          "text": [
            "plus que 2265 publications pour completer l'année 2020\n"
          ]
        },
        {
          "name": "stderr",
          "output_type": "stream",
          "text": [
            "DEBUG:urllib3.connectionpool:Starting new HTTPS connection (1): api.openalex.org:443\n",
            "DEBUG:urllib3.connectionpool:https://api.openalex.org:443 \"GET /works?filter=has_doi:true,concepts_count:%3E0,publication_year:2020&sample=200&per-page=200 HTTP/1.1\" 200 339138\n"
          ]
        },
        {
          "name": "stdout",
          "output_type": "stream",
          "text": [
            "plus que 2169 publications pour completer l'année 2020\n"
          ]
        },
        {
          "name": "stderr",
          "output_type": "stream",
          "text": [
            "DEBUG:urllib3.connectionpool:Starting new HTTPS connection (1): api.openalex.org:443\n",
            "DEBUG:urllib3.connectionpool:https://api.openalex.org:443 \"GET /works?filter=has_doi:true,concepts_count:%3E0,publication_year:2020&sample=200&per-page=200 HTTP/1.1\" 200 350413\n"
          ]
        },
        {
          "name": "stdout",
          "output_type": "stream",
          "text": [
            "plus que 2057 publications pour completer l'année 2020\n"
          ]
        },
        {
          "name": "stderr",
          "output_type": "stream",
          "text": [
            "DEBUG:urllib3.connectionpool:Starting new HTTPS connection (1): api.openalex.org:443\n",
            "DEBUG:urllib3.connectionpool:https://api.openalex.org:443 \"GET /works?filter=has_doi:true,concepts_count:%3E0,publication_year:2020&sample=200&per-page=200 HTTP/1.1\" 200 310650\n"
          ]
        },
        {
          "name": "stdout",
          "output_type": "stream",
          "text": [
            "plus que 1943 publications pour completer l'année 2020\n"
          ]
        },
        {
          "name": "stderr",
          "output_type": "stream",
          "text": [
            "DEBUG:urllib3.connectionpool:Starting new HTTPS connection (1): api.openalex.org:443\n",
            "DEBUG:urllib3.connectionpool:https://api.openalex.org:443 \"GET /works?filter=has_doi:true,concepts_count:%3E0,publication_year:2020&sample=200&per-page=200 HTTP/1.1\" 200 323669\n"
          ]
        },
        {
          "name": "stdout",
          "output_type": "stream",
          "text": [
            "plus que 1843 publications pour completer l'année 2020\n"
          ]
        },
        {
          "name": "stderr",
          "output_type": "stream",
          "text": [
            "DEBUG:urllib3.connectionpool:Starting new HTTPS connection (1): api.openalex.org:443\n",
            "DEBUG:urllib3.connectionpool:https://api.openalex.org:443 \"GET /works?filter=has_doi:true,concepts_count:%3E0,publication_year:2020&sample=200&per-page=200 HTTP/1.1\" 200 314568\n"
          ]
        },
        {
          "name": "stdout",
          "output_type": "stream",
          "text": [
            "plus que 1738 publications pour completer l'année 2020\n"
          ]
        },
        {
          "name": "stderr",
          "output_type": "stream",
          "text": [
            "DEBUG:urllib3.connectionpool:Starting new HTTPS connection (1): api.openalex.org:443\n",
            "DEBUG:urllib3.connectionpool:https://api.openalex.org:443 \"GET /works?filter=has_doi:true,concepts_count:%3E0,publication_year:2020&sample=200&per-page=200 HTTP/1.1\" 200 362461\n"
          ]
        },
        {
          "name": "stdout",
          "output_type": "stream",
          "text": [
            "plus que 1633 publications pour completer l'année 2020\n"
          ]
        },
        {
          "name": "stderr",
          "output_type": "stream",
          "text": [
            "DEBUG:urllib3.connectionpool:Starting new HTTPS connection (1): api.openalex.org:443\n",
            "DEBUG:urllib3.connectionpool:https://api.openalex.org:443 \"GET /works?filter=has_doi:true,concepts_count:%3E0,publication_year:2020&sample=200&per-page=200 HTTP/1.1\" 200 314821\n"
          ]
        },
        {
          "name": "stdout",
          "output_type": "stream",
          "text": [
            "plus que 1528 publications pour completer l'année 2020\n"
          ]
        },
        {
          "name": "stderr",
          "output_type": "stream",
          "text": [
            "DEBUG:urllib3.connectionpool:Starting new HTTPS connection (1): api.openalex.org:443\n",
            "DEBUG:urllib3.connectionpool:https://api.openalex.org:443 \"GET /works?filter=has_doi:true,concepts_count:%3E0,publication_year:2020&sample=200&per-page=200 HTTP/1.1\" 200 341256\n"
          ]
        },
        {
          "name": "stdout",
          "output_type": "stream",
          "text": [
            "plus que 1423 publications pour completer l'année 2020\n"
          ]
        },
        {
          "name": "stderr",
          "output_type": "stream",
          "text": [
            "DEBUG:urllib3.connectionpool:Starting new HTTPS connection (1): api.openalex.org:443\n",
            "DEBUG:urllib3.connectionpool:https://api.openalex.org:443 \"GET /works?filter=has_doi:true,concepts_count:%3E0,publication_year:2020&sample=200&per-page=200 HTTP/1.1\" 200 338744\n"
          ]
        },
        {
          "name": "stdout",
          "output_type": "stream",
          "text": [
            "plus que 1307 publications pour completer l'année 2020\n"
          ]
        },
        {
          "name": "stderr",
          "output_type": "stream",
          "text": [
            "DEBUG:urllib3.connectionpool:Starting new HTTPS connection (1): api.openalex.org:443\n",
            "DEBUG:urllib3.connectionpool:https://api.openalex.org:443 \"GET /works?filter=has_doi:true,concepts_count:%3E0,publication_year:2020&sample=200&per-page=200 HTTP/1.1\" 200 311199\n"
          ]
        },
        {
          "name": "stdout",
          "output_type": "stream",
          "text": [
            "plus que 1227 publications pour completer l'année 2020\n"
          ]
        },
        {
          "name": "stderr",
          "output_type": "stream",
          "text": [
            "DEBUG:urllib3.connectionpool:Starting new HTTPS connection (1): api.openalex.org:443\n",
            "DEBUG:urllib3.connectionpool:https://api.openalex.org:443 \"GET /works?filter=has_doi:true,concepts_count:%3E0,publication_year:2020&sample=200&per-page=200 HTTP/1.1\" 200 337887\n"
          ]
        },
        {
          "name": "stdout",
          "output_type": "stream",
          "text": [
            "plus que 1125 publications pour completer l'année 2020\n"
          ]
        },
        {
          "name": "stderr",
          "output_type": "stream",
          "text": [
            "DEBUG:urllib3.connectionpool:Starting new HTTPS connection (1): api.openalex.org:443\n",
            "DEBUG:urllib3.connectionpool:https://api.openalex.org:443 \"GET /works?filter=has_doi:true,concepts_count:%3E0,publication_year:2020&sample=200&per-page=200 HTTP/1.1\" 200 328258\n"
          ]
        },
        {
          "name": "stdout",
          "output_type": "stream",
          "text": [
            "plus que 1032 publications pour completer l'année 2020\n"
          ]
        },
        {
          "name": "stderr",
          "output_type": "stream",
          "text": [
            "DEBUG:urllib3.connectionpool:Starting new HTTPS connection (1): api.openalex.org:443\n",
            "DEBUG:urllib3.connectionpool:https://api.openalex.org:443 \"GET /works?filter=has_doi:true,concepts_count:%3E0,publication_year:2020&sample=200&per-page=200 HTTP/1.1\" 200 335774\n"
          ]
        },
        {
          "name": "stdout",
          "output_type": "stream",
          "text": [
            "plus que 938 publications pour completer l'année 2020\n"
          ]
        },
        {
          "name": "stderr",
          "output_type": "stream",
          "text": [
            "DEBUG:urllib3.connectionpool:Starting new HTTPS connection (1): api.openalex.org:443\n",
            "DEBUG:urllib3.connectionpool:https://api.openalex.org:443 \"GET /works?filter=has_doi:true,concepts_count:%3E0,publication_year:2020&sample=200&per-page=200 HTTP/1.1\" 200 343167\n"
          ]
        },
        {
          "name": "stdout",
          "output_type": "stream",
          "text": [
            "plus que 838 publications pour completer l'année 2020\n"
          ]
        },
        {
          "name": "stderr",
          "output_type": "stream",
          "text": [
            "DEBUG:urllib3.connectionpool:Starting new HTTPS connection (1): api.openalex.org:443\n",
            "DEBUG:urllib3.connectionpool:https://api.openalex.org:443 \"GET /works?filter=has_doi:true,concepts_count:%3E0,publication_year:2020&sample=200&per-page=200 HTTP/1.1\" 200 366063\n"
          ]
        },
        {
          "name": "stdout",
          "output_type": "stream",
          "text": [
            "plus que 744 publications pour completer l'année 2020\n"
          ]
        },
        {
          "name": "stderr",
          "output_type": "stream",
          "text": [
            "DEBUG:urllib3.connectionpool:Starting new HTTPS connection (1): api.openalex.org:443\n",
            "DEBUG:urllib3.connectionpool:https://api.openalex.org:443 \"GET /works?filter=has_doi:true,concepts_count:%3E0,publication_year:2020&sample=200&per-page=200 HTTP/1.1\" 200 316373\n"
          ]
        },
        {
          "name": "stdout",
          "output_type": "stream",
          "text": [
            "plus que 632 publications pour completer l'année 2020\n"
          ]
        },
        {
          "name": "stderr",
          "output_type": "stream",
          "text": [
            "DEBUG:urllib3.connectionpool:Starting new HTTPS connection (1): api.openalex.org:443\n",
            "DEBUG:urllib3.connectionpool:https://api.openalex.org:443 \"GET /works?filter=has_doi:true,concepts_count:%3E0,publication_year:2020&sample=200&per-page=200 HTTP/1.1\" 200 328363\n"
          ]
        },
        {
          "name": "stdout",
          "output_type": "stream",
          "text": [
            "plus que 536 publications pour completer l'année 2020\n"
          ]
        },
        {
          "name": "stderr",
          "output_type": "stream",
          "text": [
            "DEBUG:urllib3.connectionpool:Starting new HTTPS connection (1): api.openalex.org:443\n",
            "DEBUG:urllib3.connectionpool:https://api.openalex.org:443 \"GET /works?filter=has_doi:true,concepts_count:%3E0,publication_year:2020&sample=200&per-page=200 HTTP/1.1\" 200 331838\n"
          ]
        },
        {
          "name": "stdout",
          "output_type": "stream",
          "text": [
            "plus que 440 publications pour completer l'année 2020\n"
          ]
        },
        {
          "name": "stderr",
          "output_type": "stream",
          "text": [
            "DEBUG:urllib3.connectionpool:Starting new HTTPS connection (1): api.openalex.org:443\n",
            "DEBUG:urllib3.connectionpool:https://api.openalex.org:443 \"GET /works?filter=has_doi:true,concepts_count:%3E0,publication_year:2020&sample=200&per-page=200 HTTP/1.1\" 200 294630\n"
          ]
        },
        {
          "name": "stdout",
          "output_type": "stream",
          "text": [
            "plus que 331 publications pour completer l'année 2020\n"
          ]
        },
        {
          "name": "stderr",
          "output_type": "stream",
          "text": [
            "DEBUG:urllib3.connectionpool:Starting new HTTPS connection (1): api.openalex.org:443\n",
            "DEBUG:urllib3.connectionpool:https://api.openalex.org:443 \"GET /works?filter=has_doi:true,concepts_count:%3E0,publication_year:2020&sample=200&per-page=200 HTTP/1.1\" 200 306575\n"
          ]
        },
        {
          "name": "stdout",
          "output_type": "stream",
          "text": [
            "plus que 235 publications pour completer l'année 2020\n"
          ]
        },
        {
          "name": "stderr",
          "output_type": "stream",
          "text": [
            "DEBUG:urllib3.connectionpool:Starting new HTTPS connection (1): api.openalex.org:443\n",
            "DEBUG:urllib3.connectionpool:https://api.openalex.org:443 \"GET /works?filter=has_doi:true,concepts_count:%3E0,publication_year:2020&sample=200&per-page=200 HTTP/1.1\" 200 302680\n"
          ]
        },
        {
          "name": "stdout",
          "output_type": "stream",
          "text": [
            "plus que 127 publications pour completer l'année 2020\n"
          ]
        },
        {
          "name": "stderr",
          "output_type": "stream",
          "text": [
            "DEBUG:urllib3.connectionpool:Starting new HTTPS connection (1): api.openalex.org:443\n",
            "DEBUG:urllib3.connectionpool:https://api.openalex.org:443 \"GET /works?filter=has_doi:true,concepts_count:%3E0,publication_year:2020&sample=200&per-page=200 HTTP/1.1\" 200 312979\n"
          ]
        },
        {
          "name": "stdout",
          "output_type": "stream",
          "text": [
            "plus que 32 publications pour completer l'année 2020\n"
          ]
        },
        {
          "name": "stderr",
          "output_type": "stream",
          "text": [
            "DEBUG:urllib3.connectionpool:Starting new HTTPS connection (1): api.openalex.org:443\n",
            "DEBUG:urllib3.connectionpool:https://api.openalex.org:443 \"GET /works?filter=has_doi:true,concepts_count:%3E0,publication_year:2017&sample=200&per-page=200 HTTP/1.1\" 200 301713\n"
          ]
        },
        {
          "name": "stdout",
          "output_type": "stream",
          "text": [
            "plus que 5541 publications pour completer l'année 2017\n"
          ]
        },
        {
          "name": "stderr",
          "output_type": "stream",
          "text": [
            "DEBUG:urllib3.connectionpool:Starting new HTTPS connection (1): api.openalex.org:443\n",
            "DEBUG:urllib3.connectionpool:https://api.openalex.org:443 \"GET /works?filter=has_doi:true,concepts_count:%3E0,publication_year:2017&sample=200&per-page=200 HTTP/1.1\" 200 296050\n"
          ]
        },
        {
          "name": "stdout",
          "output_type": "stream",
          "text": [
            "plus que 5442 publications pour completer l'année 2017\n"
          ]
        },
        {
          "name": "stderr",
          "output_type": "stream",
          "text": [
            "DEBUG:urllib3.connectionpool:Starting new HTTPS connection (1): api.openalex.org:443\n",
            "DEBUG:urllib3.connectionpool:https://api.openalex.org:443 \"GET /works?filter=has_doi:true,concepts_count:%3E0,publication_year:2017&sample=200&per-page=200 HTTP/1.1\" 200 289780\n"
          ]
        },
        {
          "name": "stdout",
          "output_type": "stream",
          "text": [
            "plus que 5334 publications pour completer l'année 2017\n"
          ]
        },
        {
          "name": "stderr",
          "output_type": "stream",
          "text": [
            "DEBUG:urllib3.connectionpool:Starting new HTTPS connection (1): api.openalex.org:443\n",
            "DEBUG:urllib3.connectionpool:https://api.openalex.org:443 \"GET /works?filter=has_doi:true,concepts_count:%3E0,publication_year:2017&sample=200&per-page=200 HTTP/1.1\" 200 290414\n"
          ]
        },
        {
          "name": "stdout",
          "output_type": "stream",
          "text": [
            "plus que 5226 publications pour completer l'année 2017\n"
          ]
        },
        {
          "name": "stderr",
          "output_type": "stream",
          "text": [
            "DEBUG:urllib3.connectionpool:Starting new HTTPS connection (1): api.openalex.org:443\n",
            "DEBUG:urllib3.connectionpool:https://api.openalex.org:443 \"GET /works?filter=has_doi:true,concepts_count:%3E0,publication_year:2017&sample=200&per-page=200 HTTP/1.1\" 200 306135\n"
          ]
        },
        {
          "name": "stdout",
          "output_type": "stream",
          "text": [
            "plus que 5120 publications pour completer l'année 2017\n"
          ]
        },
        {
          "name": "stderr",
          "output_type": "stream",
          "text": [
            "DEBUG:urllib3.connectionpool:Starting new HTTPS connection (1): api.openalex.org:443\n",
            "DEBUG:urllib3.connectionpool:https://api.openalex.org:443 \"GET /works?filter=has_doi:true,concepts_count:%3E0,publication_year:2017&sample=200&per-page=200 HTTP/1.1\" 200 301229\n"
          ]
        },
        {
          "name": "stdout",
          "output_type": "stream",
          "text": [
            "plus que 5005 publications pour completer l'année 2017\n"
          ]
        },
        {
          "name": "stderr",
          "output_type": "stream",
          "text": [
            "DEBUG:urllib3.connectionpool:Starting new HTTPS connection (1): api.openalex.org:443\n",
            "DEBUG:urllib3.connectionpool:https://api.openalex.org:443 \"GET /works?filter=has_doi:true,concepts_count:%3E0,publication_year:2017&sample=200&per-page=200 HTTP/1.1\" 200 308144\n"
          ]
        },
        {
          "name": "stdout",
          "output_type": "stream",
          "text": [
            "plus que 4907 publications pour completer l'année 2017\n"
          ]
        },
        {
          "name": "stderr",
          "output_type": "stream",
          "text": [
            "DEBUG:urllib3.connectionpool:Starting new HTTPS connection (1): api.openalex.org:443\n",
            "DEBUG:urllib3.connectionpool:https://api.openalex.org:443 \"GET /works?filter=has_doi:true,concepts_count:%3E0,publication_year:2017&sample=200&per-page=200 HTTP/1.1\" 200 322381\n"
          ]
        },
        {
          "name": "stdout",
          "output_type": "stream",
          "text": [
            "plus que 4799 publications pour completer l'année 2017\n"
          ]
        },
        {
          "name": "stderr",
          "output_type": "stream",
          "text": [
            "DEBUG:urllib3.connectionpool:Starting new HTTPS connection (1): api.openalex.org:443\n",
            "DEBUG:urllib3.connectionpool:https://api.openalex.org:443 \"GET /works?filter=has_doi:true,concepts_count:%3E0,publication_year:2017&sample=200&per-page=200 HTTP/1.1\" 200 307872\n"
          ]
        },
        {
          "name": "stdout",
          "output_type": "stream",
          "text": [
            "plus que 4692 publications pour completer l'année 2017\n"
          ]
        },
        {
          "name": "stderr",
          "output_type": "stream",
          "text": [
            "DEBUG:urllib3.connectionpool:Starting new HTTPS connection (1): api.openalex.org:443\n",
            "DEBUG:urllib3.connectionpool:https://api.openalex.org:443 \"GET /works?filter=has_doi:true,concepts_count:%3E0,publication_year:2017&sample=200&per-page=200 HTTP/1.1\" 200 280655\n"
          ]
        },
        {
          "name": "stdout",
          "output_type": "stream",
          "text": [
            "plus que 4589 publications pour completer l'année 2017\n"
          ]
        },
        {
          "name": "stderr",
          "output_type": "stream",
          "text": [
            "DEBUG:urllib3.connectionpool:Starting new HTTPS connection (1): api.openalex.org:443\n",
            "DEBUG:urllib3.connectionpool:https://api.openalex.org:443 \"GET /works?filter=has_doi:true,concepts_count:%3E0,publication_year:2017&sample=200&per-page=200 HTTP/1.1\" 200 306221\n"
          ]
        },
        {
          "name": "stdout",
          "output_type": "stream",
          "text": [
            "plus que 4493 publications pour completer l'année 2017\n"
          ]
        },
        {
          "name": "stderr",
          "output_type": "stream",
          "text": [
            "DEBUG:urllib3.connectionpool:Starting new HTTPS connection (1): api.openalex.org:443\n",
            "DEBUG:urllib3.connectionpool:https://api.openalex.org:443 \"GET /works?filter=has_doi:true,concepts_count:%3E0,publication_year:2017&sample=200&per-page=200 HTTP/1.1\" 200 312750\n"
          ]
        },
        {
          "name": "stdout",
          "output_type": "stream",
          "text": [
            "plus que 4384 publications pour completer l'année 2017\n"
          ]
        },
        {
          "name": "stderr",
          "output_type": "stream",
          "text": [
            "DEBUG:urllib3.connectionpool:Starting new HTTPS connection (1): api.openalex.org:443\n",
            "DEBUG:urllib3.connectionpool:https://api.openalex.org:443 \"GET /works?filter=has_doi:true,concepts_count:%3E0,publication_year:2017&sample=200&per-page=200 HTTP/1.1\" 200 351099\n"
          ]
        },
        {
          "name": "stdout",
          "output_type": "stream",
          "text": [
            "plus que 4270 publications pour completer l'année 2017\n"
          ]
        },
        {
          "name": "stderr",
          "output_type": "stream",
          "text": [
            "DEBUG:urllib3.connectionpool:Starting new HTTPS connection (1): api.openalex.org:443\n",
            "DEBUG:urllib3.connectionpool:https://api.openalex.org:443 \"GET /works?filter=has_doi:true,concepts_count:%3E0,publication_year:2017&sample=200&per-page=200 HTTP/1.1\" 200 324697\n"
          ]
        },
        {
          "name": "stdout",
          "output_type": "stream",
          "text": [
            "plus que 4171 publications pour completer l'année 2017\n"
          ]
        },
        {
          "name": "stderr",
          "output_type": "stream",
          "text": [
            "DEBUG:urllib3.connectionpool:Starting new HTTPS connection (1): api.openalex.org:443\n",
            "DEBUG:urllib3.connectionpool:https://api.openalex.org:443 \"GET /works?filter=has_doi:true,concepts_count:%3E0,publication_year:2017&sample=200&per-page=200 HTTP/1.1\" 200 322020\n"
          ]
        },
        {
          "name": "stdout",
          "output_type": "stream",
          "text": [
            "plus que 4058 publications pour completer l'année 2017\n"
          ]
        },
        {
          "name": "stderr",
          "output_type": "stream",
          "text": [
            "DEBUG:urllib3.connectionpool:Starting new HTTPS connection (1): api.openalex.org:443\n",
            "DEBUG:urllib3.connectionpool:https://api.openalex.org:443 \"GET /works?filter=has_doi:true,concepts_count:%3E0,publication_year:2017&sample=200&per-page=200 HTTP/1.1\" 200 302318\n"
          ]
        },
        {
          "name": "stdout",
          "output_type": "stream",
          "text": [
            "plus que 3937 publications pour completer l'année 2017\n"
          ]
        },
        {
          "name": "stderr",
          "output_type": "stream",
          "text": [
            "DEBUG:urllib3.connectionpool:Starting new HTTPS connection (1): api.openalex.org:443\n",
            "DEBUG:urllib3.connectionpool:https://api.openalex.org:443 \"GET /works?filter=has_doi:true,concepts_count:%3E0,publication_year:2017&sample=200&per-page=200 HTTP/1.1\" 200 301343\n"
          ]
        },
        {
          "name": "stdout",
          "output_type": "stream",
          "text": [
            "plus que 3830 publications pour completer l'année 2017\n"
          ]
        },
        {
          "name": "stderr",
          "output_type": "stream",
          "text": [
            "DEBUG:urllib3.connectionpool:Starting new HTTPS connection (1): api.openalex.org:443\n",
            "DEBUG:urllib3.connectionpool:https://api.openalex.org:443 \"GET /works?filter=has_doi:true,concepts_count:%3E0,publication_year:2017&sample=200&per-page=200 HTTP/1.1\" 200 305012\n"
          ]
        },
        {
          "name": "stdout",
          "output_type": "stream",
          "text": [
            "plus que 3725 publications pour completer l'année 2017\n"
          ]
        },
        {
          "name": "stderr",
          "output_type": "stream",
          "text": [
            "DEBUG:urllib3.connectionpool:Starting new HTTPS connection (1): api.openalex.org:443\n",
            "DEBUG:urllib3.connectionpool:https://api.openalex.org:443 \"GET /works?filter=has_doi:true,concepts_count:%3E0,publication_year:2017&sample=200&per-page=200 HTTP/1.1\" 200 302508\n"
          ]
        },
        {
          "name": "stdout",
          "output_type": "stream",
          "text": [
            "plus que 3619 publications pour completer l'année 2017\n"
          ]
        },
        {
          "name": "stderr",
          "output_type": "stream",
          "text": [
            "DEBUG:urllib3.connectionpool:Starting new HTTPS connection (1): api.openalex.org:443\n",
            "DEBUG:urllib3.connectionpool:https://api.openalex.org:443 \"GET /works?filter=has_doi:true,concepts_count:%3E0,publication_year:2017&sample=200&per-page=200 HTTP/1.1\" 200 323787\n"
          ]
        },
        {
          "name": "stdout",
          "output_type": "stream",
          "text": [
            "plus que 3521 publications pour completer l'année 2017\n"
          ]
        },
        {
          "name": "stderr",
          "output_type": "stream",
          "text": [
            "DEBUG:urllib3.connectionpool:Starting new HTTPS connection (1): api.openalex.org:443\n",
            "DEBUG:urllib3.connectionpool:https://api.openalex.org:443 \"GET /works?filter=has_doi:true,concepts_count:%3E0,publication_year:2017&sample=200&per-page=200 HTTP/1.1\" 200 303367\n"
          ]
        },
        {
          "name": "stdout",
          "output_type": "stream",
          "text": [
            "plus que 3415 publications pour completer l'année 2017\n"
          ]
        },
        {
          "name": "stderr",
          "output_type": "stream",
          "text": [
            "DEBUG:urllib3.connectionpool:Starting new HTTPS connection (1): api.openalex.org:443\n",
            "DEBUG:urllib3.connectionpool:https://api.openalex.org:443 \"GET /works?filter=has_doi:true,concepts_count:%3E0,publication_year:2017&sample=200&per-page=200 HTTP/1.1\" 200 312222\n"
          ]
        },
        {
          "name": "stdout",
          "output_type": "stream",
          "text": [
            "plus que 3314 publications pour completer l'année 2017\n"
          ]
        },
        {
          "name": "stderr",
          "output_type": "stream",
          "text": [
            "DEBUG:urllib3.connectionpool:Starting new HTTPS connection (1): api.openalex.org:443\n",
            "DEBUG:urllib3.connectionpool:https://api.openalex.org:443 \"GET /works?filter=has_doi:true,concepts_count:%3E0,publication_year:2017&sample=200&per-page=200 HTTP/1.1\" 200 302463\n"
          ]
        },
        {
          "name": "stdout",
          "output_type": "stream",
          "text": [
            "plus que 3201 publications pour completer l'année 2017\n"
          ]
        },
        {
          "name": "stderr",
          "output_type": "stream",
          "text": [
            "DEBUG:urllib3.connectionpool:Starting new HTTPS connection (1): api.openalex.org:443\n",
            "DEBUG:urllib3.connectionpool:https://api.openalex.org:443 \"GET /works?filter=has_doi:true,concepts_count:%3E0,publication_year:2017&sample=200&per-page=200 HTTP/1.1\" 200 289793\n"
          ]
        },
        {
          "name": "stdout",
          "output_type": "stream",
          "text": [
            "plus que 3094 publications pour completer l'année 2017\n"
          ]
        },
        {
          "name": "stderr",
          "output_type": "stream",
          "text": [
            "DEBUG:urllib3.connectionpool:Starting new HTTPS connection (1): api.openalex.org:443\n",
            "DEBUG:urllib3.connectionpool:https://api.openalex.org:443 \"GET /works?filter=has_doi:true,concepts_count:%3E0,publication_year:2017&sample=200&per-page=200 HTTP/1.1\" 200 297817\n"
          ]
        },
        {
          "name": "stdout",
          "output_type": "stream",
          "text": [
            "plus que 2988 publications pour completer l'année 2017\n"
          ]
        },
        {
          "name": "stderr",
          "output_type": "stream",
          "text": [
            "DEBUG:urllib3.connectionpool:Starting new HTTPS connection (1): api.openalex.org:443\n",
            "DEBUG:urllib3.connectionpool:https://api.openalex.org:443 \"GET /works?filter=has_doi:true,concepts_count:%3E0,publication_year:2017&sample=200&per-page=200 HTTP/1.1\" 200 288570\n"
          ]
        },
        {
          "name": "stdout",
          "output_type": "stream",
          "text": [
            "plus que 2892 publications pour completer l'année 2017\n"
          ]
        },
        {
          "name": "stderr",
          "output_type": "stream",
          "text": [
            "DEBUG:urllib3.connectionpool:Starting new HTTPS connection (1): api.openalex.org:443\n",
            "DEBUG:urllib3.connectionpool:https://api.openalex.org:443 \"GET /works?filter=has_doi:true,concepts_count:%3E0,publication_year:2017&sample=200&per-page=200 HTTP/1.1\" 200 280588\n"
          ]
        },
        {
          "name": "stdout",
          "output_type": "stream",
          "text": [
            "plus que 2808 publications pour completer l'année 2017\n"
          ]
        },
        {
          "name": "stderr",
          "output_type": "stream",
          "text": [
            "DEBUG:urllib3.connectionpool:Starting new HTTPS connection (1): api.openalex.org:443\n",
            "DEBUG:urllib3.connectionpool:https://api.openalex.org:443 \"GET /works?filter=has_doi:true,concepts_count:%3E0,publication_year:2017&sample=200&per-page=200 HTTP/1.1\" 200 313419\n"
          ]
        },
        {
          "name": "stdout",
          "output_type": "stream",
          "text": [
            "plus que 2712 publications pour completer l'année 2017\n"
          ]
        },
        {
          "name": "stderr",
          "output_type": "stream",
          "text": [
            "DEBUG:urllib3.connectionpool:Starting new HTTPS connection (1): api.openalex.org:443\n",
            "DEBUG:urllib3.connectionpool:https://api.openalex.org:443 \"GET /works?filter=has_doi:true,concepts_count:%3E0,publication_year:2017&sample=200&per-page=200 HTTP/1.1\" 200 300906\n"
          ]
        },
        {
          "name": "stdout",
          "output_type": "stream",
          "text": [
            "plus que 2605 publications pour completer l'année 2017\n"
          ]
        },
        {
          "name": "stderr",
          "output_type": "stream",
          "text": [
            "DEBUG:urllib3.connectionpool:Starting new HTTPS connection (1): api.openalex.org:443\n",
            "DEBUG:urllib3.connectionpool:https://api.openalex.org:443 \"GET /works?filter=has_doi:true,concepts_count:%3E0,publication_year:2017&sample=200&per-page=200 HTTP/1.1\" 200 291743\n"
          ]
        },
        {
          "name": "stdout",
          "output_type": "stream",
          "text": [
            "plus que 2505 publications pour completer l'année 2017\n"
          ]
        },
        {
          "name": "stderr",
          "output_type": "stream",
          "text": [
            "DEBUG:urllib3.connectionpool:Starting new HTTPS connection (1): api.openalex.org:443\n",
            "DEBUG:urllib3.connectionpool:https://api.openalex.org:443 \"GET /works?filter=has_doi:true,concepts_count:%3E0,publication_year:2017&sample=200&per-page=200 HTTP/1.1\" 200 304656\n"
          ]
        },
        {
          "name": "stdout",
          "output_type": "stream",
          "text": [
            "plus que 2399 publications pour completer l'année 2017\n"
          ]
        },
        {
          "name": "stderr",
          "output_type": "stream",
          "text": [
            "DEBUG:urllib3.connectionpool:Starting new HTTPS connection (1): api.openalex.org:443\n",
            "DEBUG:urllib3.connectionpool:https://api.openalex.org:443 \"GET /works?filter=has_doi:true,concepts_count:%3E0,publication_year:2017&sample=200&per-page=200 HTTP/1.1\" 200 315338\n"
          ]
        },
        {
          "name": "stdout",
          "output_type": "stream",
          "text": [
            "plus que 2287 publications pour completer l'année 2017\n"
          ]
        },
        {
          "name": "stderr",
          "output_type": "stream",
          "text": [
            "DEBUG:urllib3.connectionpool:Starting new HTTPS connection (1): api.openalex.org:443\n",
            "DEBUG:urllib3.connectionpool:https://api.openalex.org:443 \"GET /works?filter=has_doi:true,concepts_count:%3E0,publication_year:2017&sample=200&per-page=200 HTTP/1.1\" 200 334293\n"
          ]
        },
        {
          "name": "stdout",
          "output_type": "stream",
          "text": [
            "plus que 2177 publications pour completer l'année 2017\n"
          ]
        },
        {
          "name": "stderr",
          "output_type": "stream",
          "text": [
            "DEBUG:urllib3.connectionpool:Starting new HTTPS connection (1): api.openalex.org:443\n",
            "DEBUG:urllib3.connectionpool:https://api.openalex.org:443 \"GET /works?filter=has_doi:true,concepts_count:%3E0,publication_year:2017&sample=200&per-page=200 HTTP/1.1\" 200 329377\n"
          ]
        },
        {
          "name": "stdout",
          "output_type": "stream",
          "text": [
            "plus que 2060 publications pour completer l'année 2017\n"
          ]
        },
        {
          "name": "stderr",
          "output_type": "stream",
          "text": [
            "DEBUG:urllib3.connectionpool:Starting new HTTPS connection (1): api.openalex.org:443\n",
            "DEBUG:urllib3.connectionpool:https://api.openalex.org:443 \"GET /works?filter=has_doi:true,concepts_count:%3E0,publication_year:2017&sample=200&per-page=200 HTTP/1.1\" 200 304675\n"
          ]
        },
        {
          "name": "stdout",
          "output_type": "stream",
          "text": [
            "plus que 1964 publications pour completer l'année 2017\n"
          ]
        },
        {
          "name": "stderr",
          "output_type": "stream",
          "text": [
            "DEBUG:urllib3.connectionpool:Starting new HTTPS connection (1): api.openalex.org:443\n",
            "DEBUG:urllib3.connectionpool:https://api.openalex.org:443 \"GET /works?filter=has_doi:true,concepts_count:%3E0,publication_year:2017&sample=200&per-page=200 HTTP/1.1\" 200 295946\n"
          ]
        },
        {
          "name": "stdout",
          "output_type": "stream",
          "text": [
            "plus que 1865 publications pour completer l'année 2017\n"
          ]
        },
        {
          "name": "stderr",
          "output_type": "stream",
          "text": [
            "DEBUG:urllib3.connectionpool:Starting new HTTPS connection (1): api.openalex.org:443\n",
            "DEBUG:urllib3.connectionpool:https://api.openalex.org:443 \"GET /works?filter=has_doi:true,concepts_count:%3E0,publication_year:2017&sample=200&per-page=200 HTTP/1.1\" 200 320375\n"
          ]
        },
        {
          "name": "stdout",
          "output_type": "stream",
          "text": [
            "plus que 1763 publications pour completer l'année 2017\n"
          ]
        },
        {
          "name": "stderr",
          "output_type": "stream",
          "text": [
            "DEBUG:urllib3.connectionpool:Starting new HTTPS connection (1): api.openalex.org:443\n",
            "DEBUG:urllib3.connectionpool:https://api.openalex.org:443 \"GET /works?filter=has_doi:true,concepts_count:%3E0,publication_year:2017&sample=200&per-page=200 HTTP/1.1\" 200 300633\n"
          ]
        },
        {
          "name": "stdout",
          "output_type": "stream",
          "text": [
            "plus que 1647 publications pour completer l'année 2017\n"
          ]
        },
        {
          "name": "stderr",
          "output_type": "stream",
          "text": [
            "DEBUG:urllib3.connectionpool:Starting new HTTPS connection (1): api.openalex.org:443\n",
            "DEBUG:urllib3.connectionpool:https://api.openalex.org:443 \"GET /works?filter=has_doi:true,concepts_count:%3E0,publication_year:2017&sample=200&per-page=200 HTTP/1.1\" 200 299596\n"
          ]
        },
        {
          "name": "stdout",
          "output_type": "stream",
          "text": [
            "plus que 1550 publications pour completer l'année 2017\n"
          ]
        },
        {
          "name": "stderr",
          "output_type": "stream",
          "text": [
            "DEBUG:urllib3.connectionpool:Starting new HTTPS connection (1): api.openalex.org:443\n",
            "DEBUG:urllib3.connectionpool:https://api.openalex.org:443 \"GET /works?filter=has_doi:true,concepts_count:%3E0,publication_year:2017&sample=200&per-page=200 HTTP/1.1\" 200 313423\n"
          ]
        },
        {
          "name": "stdout",
          "output_type": "stream",
          "text": [
            "plus que 1445 publications pour completer l'année 2017\n"
          ]
        },
        {
          "name": "stderr",
          "output_type": "stream",
          "text": [
            "DEBUG:urllib3.connectionpool:Starting new HTTPS connection (1): api.openalex.org:443\n",
            "DEBUG:urllib3.connectionpool:https://api.openalex.org:443 \"GET /works?filter=has_doi:true,concepts_count:%3E0,publication_year:2017&sample=200&per-page=200 HTTP/1.1\" 200 306486\n"
          ]
        },
        {
          "name": "stdout",
          "output_type": "stream",
          "text": [
            "plus que 1339 publications pour completer l'année 2017\n"
          ]
        },
        {
          "name": "stderr",
          "output_type": "stream",
          "text": [
            "DEBUG:urllib3.connectionpool:Starting new HTTPS connection (1): api.openalex.org:443\n",
            "DEBUG:urllib3.connectionpool:https://api.openalex.org:443 \"GET /works?filter=has_doi:true,concepts_count:%3E0,publication_year:2017&sample=200&per-page=200 HTTP/1.1\" 200 286725\n"
          ]
        },
        {
          "name": "stdout",
          "output_type": "stream",
          "text": [
            "plus que 1237 publications pour completer l'année 2017\n"
          ]
        },
        {
          "name": "stderr",
          "output_type": "stream",
          "text": [
            "DEBUG:urllib3.connectionpool:Starting new HTTPS connection (1): api.openalex.org:443\n",
            "DEBUG:urllib3.connectionpool:https://api.openalex.org:443 \"GET /works?filter=has_doi:true,concepts_count:%3E0,publication_year:2017&sample=200&per-page=200 HTTP/1.1\" 200 320399\n"
          ]
        },
        {
          "name": "stdout",
          "output_type": "stream",
          "text": [
            "plus que 1139 publications pour completer l'année 2017\n"
          ]
        },
        {
          "name": "stderr",
          "output_type": "stream",
          "text": [
            "DEBUG:urllib3.connectionpool:Starting new HTTPS connection (1): api.openalex.org:443\n",
            "DEBUG:urllib3.connectionpool:https://api.openalex.org:443 \"GET /works?filter=has_doi:true,concepts_count:%3E0,publication_year:2017&sample=200&per-page=200 HTTP/1.1\" 200 289837\n"
          ]
        },
        {
          "name": "stdout",
          "output_type": "stream",
          "text": [
            "plus que 1031 publications pour completer l'année 2017\n"
          ]
        },
        {
          "name": "stderr",
          "output_type": "stream",
          "text": [
            "DEBUG:urllib3.connectionpool:Starting new HTTPS connection (1): api.openalex.org:443\n",
            "DEBUG:urllib3.connectionpool:https://api.openalex.org:443 \"GET /works?filter=has_doi:true,concepts_count:%3E0,publication_year:2017&sample=200&per-page=200 HTTP/1.1\" 200 324570\n"
          ]
        },
        {
          "name": "stdout",
          "output_type": "stream",
          "text": [
            "plus que 918 publications pour completer l'année 2017\n"
          ]
        },
        {
          "name": "stderr",
          "output_type": "stream",
          "text": [
            "DEBUG:urllib3.connectionpool:Starting new HTTPS connection (1): api.openalex.org:443\n",
            "DEBUG:urllib3.connectionpool:https://api.openalex.org:443 \"GET /works?filter=has_doi:true,concepts_count:%3E0,publication_year:2017&sample=200&per-page=200 HTTP/1.1\" 200 300955\n"
          ]
        },
        {
          "name": "stdout",
          "output_type": "stream",
          "text": [
            "plus que 812 publications pour completer l'année 2017\n"
          ]
        },
        {
          "name": "stderr",
          "output_type": "stream",
          "text": [
            "DEBUG:urllib3.connectionpool:Starting new HTTPS connection (1): api.openalex.org:443\n",
            "DEBUG:urllib3.connectionpool:https://api.openalex.org:443 \"GET /works?filter=has_doi:true,concepts_count:%3E0,publication_year:2017&sample=200&per-page=200 HTTP/1.1\" 200 310323\n"
          ]
        },
        {
          "name": "stdout",
          "output_type": "stream",
          "text": [
            "plus que 702 publications pour completer l'année 2017\n"
          ]
        },
        {
          "name": "stderr",
          "output_type": "stream",
          "text": [
            "DEBUG:urllib3.connectionpool:Starting new HTTPS connection (1): api.openalex.org:443\n",
            "DEBUG:urllib3.connectionpool:https://api.openalex.org:443 \"GET /works?filter=has_doi:true,concepts_count:%3E0,publication_year:2017&sample=200&per-page=200 HTTP/1.1\" 200 329769\n"
          ]
        },
        {
          "name": "stdout",
          "output_type": "stream",
          "text": [
            "plus que 588 publications pour completer l'année 2017\n"
          ]
        },
        {
          "name": "stderr",
          "output_type": "stream",
          "text": [
            "DEBUG:urllib3.connectionpool:Starting new HTTPS connection (1): api.openalex.org:443\n",
            "DEBUG:urllib3.connectionpool:https://api.openalex.org:443 \"GET /works?filter=has_doi:true,concepts_count:%3E0,publication_year:2017&sample=200&per-page=200 HTTP/1.1\" 200 288409\n"
          ]
        },
        {
          "name": "stdout",
          "output_type": "stream",
          "text": [
            "plus que 484 publications pour completer l'année 2017\n"
          ]
        },
        {
          "name": "stderr",
          "output_type": "stream",
          "text": [
            "DEBUG:urllib3.connectionpool:Starting new HTTPS connection (1): api.openalex.org:443\n",
            "DEBUG:urllib3.connectionpool:https://api.openalex.org:443 \"GET /works?filter=has_doi:true,concepts_count:%3E0,publication_year:2017&sample=200&per-page=200 HTTP/1.1\" 200 333107\n"
          ]
        },
        {
          "name": "stdout",
          "output_type": "stream",
          "text": [
            "plus que 381 publications pour completer l'année 2017\n"
          ]
        },
        {
          "name": "stderr",
          "output_type": "stream",
          "text": [
            "DEBUG:urllib3.connectionpool:Starting new HTTPS connection (1): api.openalex.org:443\n",
            "DEBUG:urllib3.connectionpool:https://api.openalex.org:443 \"GET /works?filter=has_doi:true,concepts_count:%3E0,publication_year:2017&sample=200&per-page=200 HTTP/1.1\" 200 288041\n"
          ]
        },
        {
          "name": "stdout",
          "output_type": "stream",
          "text": [
            "plus que 279 publications pour completer l'année 2017\n"
          ]
        },
        {
          "name": "stderr",
          "output_type": "stream",
          "text": [
            "DEBUG:urllib3.connectionpool:Starting new HTTPS connection (1): api.openalex.org:443\n",
            "DEBUG:urllib3.connectionpool:https://api.openalex.org:443 \"GET /works?filter=has_doi:true,concepts_count:%3E0,publication_year:2017&sample=200&per-page=200 HTTP/1.1\" 200 319369\n"
          ]
        },
        {
          "name": "stdout",
          "output_type": "stream",
          "text": [
            "plus que 182 publications pour completer l'année 2017\n"
          ]
        },
        {
          "name": "stderr",
          "output_type": "stream",
          "text": [
            "DEBUG:urllib3.connectionpool:Starting new HTTPS connection (1): api.openalex.org:443\n",
            "DEBUG:urllib3.connectionpool:https://api.openalex.org:443 \"GET /works?filter=has_doi:true,concepts_count:%3E0,publication_year:2017&sample=200&per-page=200 HTTP/1.1\" 200 299739\n"
          ]
        },
        {
          "name": "stdout",
          "output_type": "stream",
          "text": [
            "plus que 72 publications pour completer l'année 2017\n"
          ]
        },
        {
          "name": "stderr",
          "output_type": "stream",
          "text": [
            "DEBUG:urllib3.connectionpool:Starting new HTTPS connection (1): api.openalex.org:443\n",
            "DEBUG:urllib3.connectionpool:https://api.openalex.org:443 \"GET /works?filter=has_doi:true,concepts_count:%3E0,publication_year:2016&sample=200&per-page=200 HTTP/1.1\" 200 303189\n"
          ]
        },
        {
          "name": "stdout",
          "output_type": "stream",
          "text": [
            "plus que 4941 publications pour completer l'année 2016\n"
          ]
        },
        {
          "name": "stderr",
          "output_type": "stream",
          "text": [
            "DEBUG:urllib3.connectionpool:Starting new HTTPS connection (1): api.openalex.org:443\n",
            "DEBUG:urllib3.connectionpool:https://api.openalex.org:443 \"GET /works?filter=has_doi:true,concepts_count:%3E0,publication_year:2016&sample=200&per-page=200 HTTP/1.1\" 200 281273\n"
          ]
        },
        {
          "name": "stdout",
          "output_type": "stream",
          "text": [
            "plus que 4819 publications pour completer l'année 2016\n"
          ]
        },
        {
          "name": "stderr",
          "output_type": "stream",
          "text": [
            "DEBUG:urllib3.connectionpool:Starting new HTTPS connection (1): api.openalex.org:443\n",
            "DEBUG:urllib3.connectionpool:https://api.openalex.org:443 \"GET /works?filter=has_doi:true,concepts_count:%3E0,publication_year:2016&sample=200&per-page=200 HTTP/1.1\" 200 296143\n"
          ]
        },
        {
          "name": "stdout",
          "output_type": "stream",
          "text": [
            "plus que 4726 publications pour completer l'année 2016\n"
          ]
        },
        {
          "name": "stderr",
          "output_type": "stream",
          "text": [
            "DEBUG:urllib3.connectionpool:Starting new HTTPS connection (1): api.openalex.org:443\n",
            "DEBUG:urllib3.connectionpool:https://api.openalex.org:443 \"GET /works?filter=has_doi:true,concepts_count:%3E0,publication_year:2016&sample=200&per-page=200 HTTP/1.1\" 200 322218\n"
          ]
        },
        {
          "name": "stdout",
          "output_type": "stream",
          "text": [
            "plus que 4615 publications pour completer l'année 2016\n"
          ]
        },
        {
          "name": "stderr",
          "output_type": "stream",
          "text": [
            "DEBUG:urllib3.connectionpool:Starting new HTTPS connection (1): api.openalex.org:443\n",
            "DEBUG:urllib3.connectionpool:https://api.openalex.org:443 \"GET /works?filter=has_doi:true,concepts_count:%3E0,publication_year:2016&sample=200&per-page=200 HTTP/1.1\" 200 312240\n"
          ]
        },
        {
          "name": "stdout",
          "output_type": "stream",
          "text": [
            "plus que 4507 publications pour completer l'année 2016\n"
          ]
        },
        {
          "name": "stderr",
          "output_type": "stream",
          "text": [
            "DEBUG:urllib3.connectionpool:Starting new HTTPS connection (1): api.openalex.org:443\n",
            "DEBUG:urllib3.connectionpool:https://api.openalex.org:443 \"GET /works?filter=has_doi:true,concepts_count:%3E0,publication_year:2016&sample=200&per-page=200 HTTP/1.1\" 200 281824\n"
          ]
        },
        {
          "name": "stdout",
          "output_type": "stream",
          "text": [
            "plus que 4395 publications pour completer l'année 2016\n"
          ]
        },
        {
          "name": "stderr",
          "output_type": "stream",
          "text": [
            "DEBUG:urllib3.connectionpool:Starting new HTTPS connection (1): api.openalex.org:443\n",
            "DEBUG:urllib3.connectionpool:https://api.openalex.org:443 \"GET /works?filter=has_doi:true,concepts_count:%3E0,publication_year:2016&sample=200&per-page=200 HTTP/1.1\" 200 313584\n"
          ]
        },
        {
          "name": "stdout",
          "output_type": "stream",
          "text": [
            "plus que 4295 publications pour completer l'année 2016\n"
          ]
        },
        {
          "name": "stderr",
          "output_type": "stream",
          "text": [
            "DEBUG:urllib3.connectionpool:Starting new HTTPS connection (1): api.openalex.org:443\n",
            "DEBUG:urllib3.connectionpool:https://api.openalex.org:443 \"GET /works?filter=has_doi:true,concepts_count:%3E0,publication_year:2016&sample=200&per-page=200 HTTP/1.1\" 200 314234\n"
          ]
        },
        {
          "name": "stdout",
          "output_type": "stream",
          "text": [
            "plus que 4180 publications pour completer l'année 2016\n"
          ]
        },
        {
          "name": "stderr",
          "output_type": "stream",
          "text": [
            "DEBUG:urllib3.connectionpool:Starting new HTTPS connection (1): api.openalex.org:443\n",
            "DEBUG:urllib3.connectionpool:https://api.openalex.org:443 \"GET /works?filter=has_doi:true,concepts_count:%3E0,publication_year:2016&sample=200&per-page=200 HTTP/1.1\" 200 314553\n"
          ]
        },
        {
          "name": "stdout",
          "output_type": "stream",
          "text": [
            "plus que 4078 publications pour completer l'année 2016\n"
          ]
        },
        {
          "name": "stderr",
          "output_type": "stream",
          "text": [
            "DEBUG:urllib3.connectionpool:Starting new HTTPS connection (1): api.openalex.org:443\n",
            "DEBUG:urllib3.connectionpool:https://api.openalex.org:443 \"GET /works?filter=has_doi:true,concepts_count:%3E0,publication_year:2016&sample=200&per-page=200 HTTP/1.1\" 200 295265\n"
          ]
        },
        {
          "name": "stdout",
          "output_type": "stream",
          "text": [
            "plus que 3968 publications pour completer l'année 2016\n"
          ]
        },
        {
          "name": "stderr",
          "output_type": "stream",
          "text": [
            "DEBUG:urllib3.connectionpool:Starting new HTTPS connection (1): api.openalex.org:443\n",
            "DEBUG:urllib3.connectionpool:https://api.openalex.org:443 \"GET /works?filter=has_doi:true,concepts_count:%3E0,publication_year:2016&sample=200&per-page=200 HTTP/1.1\" 200 300567\n"
          ]
        },
        {
          "name": "stdout",
          "output_type": "stream",
          "text": [
            "plus que 3859 publications pour completer l'année 2016\n"
          ]
        },
        {
          "name": "stderr",
          "output_type": "stream",
          "text": [
            "DEBUG:urllib3.connectionpool:Starting new HTTPS connection (1): api.openalex.org:443\n",
            "DEBUG:urllib3.connectionpool:https://api.openalex.org:443 \"GET /works?filter=has_doi:true,concepts_count:%3E0,publication_year:2016&sample=200&per-page=200 HTTP/1.1\" 200 316393\n"
          ]
        },
        {
          "name": "stdout",
          "output_type": "stream",
          "text": [
            "plus que 3748 publications pour completer l'année 2016\n"
          ]
        },
        {
          "name": "stderr",
          "output_type": "stream",
          "text": [
            "DEBUG:urllib3.connectionpool:Starting new HTTPS connection (1): api.openalex.org:443\n",
            "DEBUG:urllib3.connectionpool:https://api.openalex.org:443 \"GET /works?filter=has_doi:true,concepts_count:%3E0,publication_year:2016&sample=200&per-page=200 HTTP/1.1\" 200 287371\n"
          ]
        },
        {
          "name": "stdout",
          "output_type": "stream",
          "text": [
            "plus que 3645 publications pour completer l'année 2016\n"
          ]
        },
        {
          "name": "stderr",
          "output_type": "stream",
          "text": [
            "DEBUG:urllib3.connectionpool:Starting new HTTPS connection (1): api.openalex.org:443\n",
            "DEBUG:urllib3.connectionpool:https://api.openalex.org:443 \"GET /works?filter=has_doi:true,concepts_count:%3E0,publication_year:2016&sample=200&per-page=200 HTTP/1.1\" 200 289249\n"
          ]
        },
        {
          "name": "stdout",
          "output_type": "stream",
          "text": [
            "plus que 3545 publications pour completer l'année 2016\n"
          ]
        },
        {
          "name": "stderr",
          "output_type": "stream",
          "text": [
            "DEBUG:urllib3.connectionpool:Starting new HTTPS connection (1): api.openalex.org:443\n",
            "DEBUG:urllib3.connectionpool:https://api.openalex.org:443 \"GET /works?filter=has_doi:true,concepts_count:%3E0,publication_year:2016&sample=200&per-page=200 HTTP/1.1\" 200 297024\n"
          ]
        },
        {
          "name": "stdout",
          "output_type": "stream",
          "text": [
            "plus que 3437 publications pour completer l'année 2016\n"
          ]
        },
        {
          "name": "stderr",
          "output_type": "stream",
          "text": [
            "DEBUG:urllib3.connectionpool:Starting new HTTPS connection (1): api.openalex.org:443\n",
            "DEBUG:urllib3.connectionpool:https://api.openalex.org:443 \"GET /works?filter=has_doi:true,concepts_count:%3E0,publication_year:2016&sample=200&per-page=200 HTTP/1.1\" 200 316372\n"
          ]
        },
        {
          "name": "stdout",
          "output_type": "stream",
          "text": [
            "plus que 3338 publications pour completer l'année 2016\n"
          ]
        },
        {
          "name": "stderr",
          "output_type": "stream",
          "text": [
            "DEBUG:urllib3.connectionpool:Starting new HTTPS connection (1): api.openalex.org:443\n",
            "DEBUG:urllib3.connectionpool:https://api.openalex.org:443 \"GET /works?filter=has_doi:true,concepts_count:%3E0,publication_year:2016&sample=200&per-page=200 HTTP/1.1\" 200 299119\n"
          ]
        },
        {
          "name": "stdout",
          "output_type": "stream",
          "text": [
            "plus que 3230 publications pour completer l'année 2016\n"
          ]
        },
        {
          "name": "stderr",
          "output_type": "stream",
          "text": [
            "DEBUG:urllib3.connectionpool:Starting new HTTPS connection (1): api.openalex.org:443\n",
            "DEBUG:urllib3.connectionpool:https://api.openalex.org:443 \"GET /works?filter=has_doi:true,concepts_count:%3E0,publication_year:2016&sample=200&per-page=200 HTTP/1.1\" 200 281507\n"
          ]
        },
        {
          "name": "stdout",
          "output_type": "stream",
          "text": [
            "plus que 3129 publications pour completer l'année 2016\n"
          ]
        },
        {
          "name": "stderr",
          "output_type": "stream",
          "text": [
            "DEBUG:urllib3.connectionpool:Starting new HTTPS connection (1): api.openalex.org:443\n",
            "DEBUG:urllib3.connectionpool:https://api.openalex.org:443 \"GET /works?filter=has_doi:true,concepts_count:%3E0,publication_year:2016&sample=200&per-page=200 HTTP/1.1\" 200 288793\n"
          ]
        },
        {
          "name": "stdout",
          "output_type": "stream",
          "text": [
            "plus que 3024 publications pour completer l'année 2016\n"
          ]
        },
        {
          "name": "stderr",
          "output_type": "stream",
          "text": [
            "DEBUG:urllib3.connectionpool:Starting new HTTPS connection (1): api.openalex.org:443\n",
            "DEBUG:urllib3.connectionpool:https://api.openalex.org:443 \"GET /works?filter=has_doi:true,concepts_count:%3E0,publication_year:2016&sample=200&per-page=200 HTTP/1.1\" 200 287508\n"
          ]
        },
        {
          "name": "stdout",
          "output_type": "stream",
          "text": [
            "plus que 2930 publications pour completer l'année 2016\n"
          ]
        },
        {
          "name": "stderr",
          "output_type": "stream",
          "text": [
            "DEBUG:urllib3.connectionpool:Starting new HTTPS connection (1): api.openalex.org:443\n",
            "DEBUG:urllib3.connectionpool:https://api.openalex.org:443 \"GET /works?filter=has_doi:true,concepts_count:%3E0,publication_year:2016&sample=200&per-page=200 HTTP/1.1\" 200 310983\n"
          ]
        },
        {
          "name": "stdout",
          "output_type": "stream",
          "text": [
            "plus que 2828 publications pour completer l'année 2016\n"
          ]
        },
        {
          "name": "stderr",
          "output_type": "stream",
          "text": [
            "DEBUG:urllib3.connectionpool:Starting new HTTPS connection (1): api.openalex.org:443\n",
            "DEBUG:urllib3.connectionpool:https://api.openalex.org:443 \"GET /works?filter=has_doi:true,concepts_count:%3E0,publication_year:2016&sample=200&per-page=200 HTTP/1.1\" 200 295950\n"
          ]
        },
        {
          "name": "stdout",
          "output_type": "stream",
          "text": [
            "plus que 2716 publications pour completer l'année 2016\n"
          ]
        },
        {
          "name": "stderr",
          "output_type": "stream",
          "text": [
            "DEBUG:urllib3.connectionpool:Starting new HTTPS connection (1): api.openalex.org:443\n",
            "DEBUG:urllib3.connectionpool:https://api.openalex.org:443 \"GET /works?filter=has_doi:true,concepts_count:%3E0,publication_year:2016&sample=200&per-page=200 HTTP/1.1\" 200 294102\n"
          ]
        },
        {
          "name": "stdout",
          "output_type": "stream",
          "text": [
            "plus que 2608 publications pour completer l'année 2016\n"
          ]
        },
        {
          "name": "stderr",
          "output_type": "stream",
          "text": [
            "DEBUG:urllib3.connectionpool:Starting new HTTPS connection (1): api.openalex.org:443\n",
            "DEBUG:urllib3.connectionpool:https://api.openalex.org:443 \"GET /works?filter=has_doi:true,concepts_count:%3E0,publication_year:2016&sample=200&per-page=200 HTTP/1.1\" 200 336032\n"
          ]
        },
        {
          "name": "stdout",
          "output_type": "stream",
          "text": [
            "plus que 2494 publications pour completer l'année 2016\n"
          ]
        },
        {
          "name": "stderr",
          "output_type": "stream",
          "text": [
            "DEBUG:urllib3.connectionpool:Starting new HTTPS connection (1): api.openalex.org:443\n",
            "DEBUG:urllib3.connectionpool:https://api.openalex.org:443 \"GET /works?filter=has_doi:true,concepts_count:%3E0,publication_year:2016&sample=200&per-page=200 HTTP/1.1\" 200 315284\n"
          ]
        },
        {
          "name": "stdout",
          "output_type": "stream",
          "text": [
            "plus que 2385 publications pour completer l'année 2016\n"
          ]
        },
        {
          "name": "stderr",
          "output_type": "stream",
          "text": [
            "DEBUG:urllib3.connectionpool:Starting new HTTPS connection (1): api.openalex.org:443\n",
            "DEBUG:urllib3.connectionpool:https://api.openalex.org:443 \"GET /works?filter=has_doi:true,concepts_count:%3E0,publication_year:2016&sample=200&per-page=200 HTTP/1.1\" 200 305461\n"
          ]
        },
        {
          "name": "stdout",
          "output_type": "stream",
          "text": [
            "plus que 2259 publications pour completer l'année 2016\n"
          ]
        },
        {
          "name": "stderr",
          "output_type": "stream",
          "text": [
            "DEBUG:urllib3.connectionpool:Starting new HTTPS connection (1): api.openalex.org:443\n",
            "DEBUG:urllib3.connectionpool:https://api.openalex.org:443 \"GET /works?filter=has_doi:true,concepts_count:%3E0,publication_year:2016&sample=200&per-page=200 HTTP/1.1\" 200 284212\n"
          ]
        },
        {
          "name": "stdout",
          "output_type": "stream",
          "text": [
            "plus que 2146 publications pour completer l'année 2016\n"
          ]
        },
        {
          "name": "stderr",
          "output_type": "stream",
          "text": [
            "DEBUG:urllib3.connectionpool:Starting new HTTPS connection (1): api.openalex.org:443\n",
            "DEBUG:urllib3.connectionpool:https://api.openalex.org:443 \"GET /works?filter=has_doi:true,concepts_count:%3E0,publication_year:2016&sample=200&per-page=200 HTTP/1.1\" 200 323979\n"
          ]
        },
        {
          "name": "stdout",
          "output_type": "stream",
          "text": [
            "plus que 2044 publications pour completer l'année 2016\n"
          ]
        },
        {
          "name": "stderr",
          "output_type": "stream",
          "text": [
            "DEBUG:urllib3.connectionpool:Starting new HTTPS connection (1): api.openalex.org:443\n",
            "DEBUG:urllib3.connectionpool:https://api.openalex.org:443 \"GET /works?filter=has_doi:true,concepts_count:%3E0,publication_year:2016&sample=200&per-page=200 HTTP/1.1\" 200 303868\n"
          ]
        },
        {
          "name": "stdout",
          "output_type": "stream",
          "text": [
            "plus que 1923 publications pour completer l'année 2016\n"
          ]
        },
        {
          "name": "stderr",
          "output_type": "stream",
          "text": [
            "DEBUG:urllib3.connectionpool:Starting new HTTPS connection (1): api.openalex.org:443\n",
            "DEBUG:urllib3.connectionpool:https://api.openalex.org:443 \"GET /works?filter=has_doi:true,concepts_count:%3E0,publication_year:2016&sample=200&per-page=200 HTTP/1.1\" 200 311788\n"
          ]
        },
        {
          "name": "stdout",
          "output_type": "stream",
          "text": [
            "plus que 1809 publications pour completer l'année 2016\n"
          ]
        },
        {
          "name": "stderr",
          "output_type": "stream",
          "text": [
            "DEBUG:urllib3.connectionpool:Starting new HTTPS connection (1): api.openalex.org:443\n",
            "DEBUG:urllib3.connectionpool:https://api.openalex.org:443 \"GET /works?filter=has_doi:true,concepts_count:%3E0,publication_year:2016&sample=200&per-page=200 HTTP/1.1\" 200 309159\n"
          ]
        },
        {
          "name": "stdout",
          "output_type": "stream",
          "text": [
            "plus que 1710 publications pour completer l'année 2016\n"
          ]
        },
        {
          "name": "stderr",
          "output_type": "stream",
          "text": [
            "DEBUG:urllib3.connectionpool:Starting new HTTPS connection (1): api.openalex.org:443\n",
            "DEBUG:urllib3.connectionpool:https://api.openalex.org:443 \"GET /works?filter=has_doi:true,concepts_count:%3E0,publication_year:2016&sample=200&per-page=200 HTTP/1.1\" 200 300310\n"
          ]
        },
        {
          "name": "stdout",
          "output_type": "stream",
          "text": [
            "plus que 1604 publications pour completer l'année 2016\n"
          ]
        },
        {
          "name": "stderr",
          "output_type": "stream",
          "text": [
            "DEBUG:urllib3.connectionpool:Starting new HTTPS connection (1): api.openalex.org:443\n",
            "DEBUG:urllib3.connectionpool:https://api.openalex.org:443 \"GET /works?filter=has_doi:true,concepts_count:%3E0,publication_year:2016&sample=200&per-page=200 HTTP/1.1\" 200 304965\n"
          ]
        },
        {
          "name": "stdout",
          "output_type": "stream",
          "text": [
            "plus que 1491 publications pour completer l'année 2016\n"
          ]
        },
        {
          "name": "stderr",
          "output_type": "stream",
          "text": [
            "DEBUG:urllib3.connectionpool:Starting new HTTPS connection (1): api.openalex.org:443\n",
            "DEBUG:urllib3.connectionpool:https://api.openalex.org:443 \"GET /works?filter=has_doi:true,concepts_count:%3E0,publication_year:2016&sample=200&per-page=200 HTTP/1.1\" 200 290173\n"
          ]
        },
        {
          "name": "stdout",
          "output_type": "stream",
          "text": [
            "plus que 1371 publications pour completer l'année 2016\n"
          ]
        },
        {
          "name": "stderr",
          "output_type": "stream",
          "text": [
            "DEBUG:urllib3.connectionpool:Starting new HTTPS connection (1): api.openalex.org:443\n",
            "DEBUG:urllib3.connectionpool:https://api.openalex.org:443 \"GET /works?filter=has_doi:true,concepts_count:%3E0,publication_year:2016&sample=200&per-page=200 HTTP/1.1\" 200 279499\n"
          ]
        },
        {
          "name": "stdout",
          "output_type": "stream",
          "text": [
            "plus que 1270 publications pour completer l'année 2016\n"
          ]
        },
        {
          "name": "stderr",
          "output_type": "stream",
          "text": [
            "DEBUG:urllib3.connectionpool:Starting new HTTPS connection (1): api.openalex.org:443\n",
            "DEBUG:urllib3.connectionpool:https://api.openalex.org:443 \"GET /works?filter=has_doi:true,concepts_count:%3E0,publication_year:2016&sample=200&per-page=200 HTTP/1.1\" 200 305607\n"
          ]
        },
        {
          "name": "stdout",
          "output_type": "stream",
          "text": [
            "plus que 1166 publications pour completer l'année 2016\n"
          ]
        },
        {
          "name": "stderr",
          "output_type": "stream",
          "text": [
            "DEBUG:urllib3.connectionpool:Starting new HTTPS connection (1): api.openalex.org:443\n",
            "DEBUG:urllib3.connectionpool:https://api.openalex.org:443 \"GET /works?filter=has_doi:true,concepts_count:%3E0,publication_year:2016&sample=200&per-page=200 HTTP/1.1\" 200 297818\n"
          ]
        },
        {
          "name": "stdout",
          "output_type": "stream",
          "text": [
            "plus que 1060 publications pour completer l'année 2016\n"
          ]
        },
        {
          "name": "stderr",
          "output_type": "stream",
          "text": [
            "DEBUG:urllib3.connectionpool:Starting new HTTPS connection (1): api.openalex.org:443\n",
            "DEBUG:urllib3.connectionpool:https://api.openalex.org:443 \"GET /works?filter=has_doi:true,concepts_count:%3E0,publication_year:2016&sample=200&per-page=200 HTTP/1.1\" 200 304800\n"
          ]
        },
        {
          "name": "stdout",
          "output_type": "stream",
          "text": [
            "plus que 950 publications pour completer l'année 2016\n"
          ]
        },
        {
          "name": "stderr",
          "output_type": "stream",
          "text": [
            "DEBUG:urllib3.connectionpool:Starting new HTTPS connection (1): api.openalex.org:443\n",
            "DEBUG:urllib3.connectionpool:https://api.openalex.org:443 \"GET /works?filter=has_doi:true,concepts_count:%3E0,publication_year:2016&sample=200&per-page=200 HTTP/1.1\" 200 290686\n"
          ]
        },
        {
          "name": "stdout",
          "output_type": "stream",
          "text": [
            "plus que 838 publications pour completer l'année 2016\n"
          ]
        },
        {
          "name": "stderr",
          "output_type": "stream",
          "text": [
            "DEBUG:urllib3.connectionpool:Starting new HTTPS connection (1): api.openalex.org:443\n",
            "DEBUG:urllib3.connectionpool:https://api.openalex.org:443 \"GET /works?filter=has_doi:true,concepts_count:%3E0,publication_year:2016&sample=200&per-page=200 HTTP/1.1\" 200 326710\n"
          ]
        },
        {
          "name": "stdout",
          "output_type": "stream",
          "text": [
            "plus que 729 publications pour completer l'année 2016\n"
          ]
        },
        {
          "name": "stderr",
          "output_type": "stream",
          "text": [
            "DEBUG:urllib3.connectionpool:Starting new HTTPS connection (1): api.openalex.org:443\n",
            "DEBUG:urllib3.connectionpool:https://api.openalex.org:443 \"GET /works?filter=has_doi:true,concepts_count:%3E0,publication_year:2016&sample=200&per-page=200 HTTP/1.1\" 200 295353\n"
          ]
        },
        {
          "name": "stdout",
          "output_type": "stream",
          "text": [
            "plus que 619 publications pour completer l'année 2016\n"
          ]
        },
        {
          "name": "stderr",
          "output_type": "stream",
          "text": [
            "DEBUG:urllib3.connectionpool:Starting new HTTPS connection (1): api.openalex.org:443\n",
            "DEBUG:urllib3.connectionpool:https://api.openalex.org:443 \"GET /works?filter=has_doi:true,concepts_count:%3E0,publication_year:2016&sample=200&per-page=200 HTTP/1.1\" 200 299774\n"
          ]
        },
        {
          "name": "stdout",
          "output_type": "stream",
          "text": [
            "plus que 517 publications pour completer l'année 2016\n"
          ]
        },
        {
          "name": "stderr",
          "output_type": "stream",
          "text": [
            "DEBUG:urllib3.connectionpool:Starting new HTTPS connection (1): api.openalex.org:443\n",
            "DEBUG:urllib3.connectionpool:https://api.openalex.org:443 \"GET /works?filter=has_doi:true,concepts_count:%3E0,publication_year:2016&sample=200&per-page=200 HTTP/1.1\" 200 283151\n"
          ]
        },
        {
          "name": "stdout",
          "output_type": "stream",
          "text": [
            "plus que 421 publications pour completer l'année 2016\n"
          ]
        },
        {
          "name": "stderr",
          "output_type": "stream",
          "text": [
            "DEBUG:urllib3.connectionpool:Starting new HTTPS connection (1): api.openalex.org:443\n",
            "DEBUG:urllib3.connectionpool:https://api.openalex.org:443 \"GET /works?filter=has_doi:true,concepts_count:%3E0,publication_year:2016&sample=200&per-page=200 HTTP/1.1\" 200 298497\n"
          ]
        },
        {
          "name": "stdout",
          "output_type": "stream",
          "text": [
            "plus que 302 publications pour completer l'année 2016\n"
          ]
        },
        {
          "name": "stderr",
          "output_type": "stream",
          "text": [
            "DEBUG:urllib3.connectionpool:Starting new HTTPS connection (1): api.openalex.org:443\n",
            "DEBUG:urllib3.connectionpool:https://api.openalex.org:443 \"GET /works?filter=has_doi:true,concepts_count:%3E0,publication_year:2016&sample=200&per-page=200 HTTP/1.1\" 200 325339\n"
          ]
        },
        {
          "name": "stdout",
          "output_type": "stream",
          "text": [
            "plus que 195 publications pour completer l'année 2016\n"
          ]
        },
        {
          "name": "stderr",
          "output_type": "stream",
          "text": [
            "DEBUG:urllib3.connectionpool:Starting new HTTPS connection (1): api.openalex.org:443\n",
            "DEBUG:urllib3.connectionpool:https://api.openalex.org:443 \"GET /works?filter=has_doi:true,concepts_count:%3E0,publication_year:2016&sample=200&per-page=200 HTTP/1.1\" 200 298485\n"
          ]
        },
        {
          "name": "stdout",
          "output_type": "stream",
          "text": [
            "plus que 74 publications pour completer l'année 2016\n"
          ]
        },
        {
          "name": "stderr",
          "output_type": "stream",
          "text": [
            "DEBUG:urllib3.connectionpool:Starting new HTTPS connection (1): api.openalex.org:443\n",
            "DEBUG:urllib3.connectionpool:https://api.openalex.org:443 \"GET /works?filter=has_doi:true,concepts_count:%3E0,publication_year:2015&sample=200&per-page=200 HTTP/1.1\" 200 330340\n"
          ]
        },
        {
          "name": "stdout",
          "output_type": "stream",
          "text": [
            "plus que 4030 publications pour completer l'année 2015\n"
          ]
        },
        {
          "name": "stderr",
          "output_type": "stream",
          "text": [
            "DEBUG:urllib3.connectionpool:Starting new HTTPS connection (1): api.openalex.org:443\n",
            "DEBUG:urllib3.connectionpool:https://api.openalex.org:443 \"GET /works?filter=has_doi:true,concepts_count:%3E0,publication_year:2015&sample=200&per-page=200 HTTP/1.1\" 200 318356\n"
          ]
        },
        {
          "name": "stdout",
          "output_type": "stream",
          "text": [
            "plus que 3920 publications pour completer l'année 2015\n"
          ]
        },
        {
          "name": "stderr",
          "output_type": "stream",
          "text": [
            "DEBUG:urllib3.connectionpool:Starting new HTTPS connection (1): api.openalex.org:443\n",
            "DEBUG:urllib3.connectionpool:https://api.openalex.org:443 \"GET /works?filter=has_doi:true,concepts_count:%3E0,publication_year:2015&sample=200&per-page=200 HTTP/1.1\" 200 280182\n"
          ]
        },
        {
          "name": "stdout",
          "output_type": "stream",
          "text": [
            "plus que 3809 publications pour completer l'année 2015\n"
          ]
        },
        {
          "name": "stderr",
          "output_type": "stream",
          "text": [
            "DEBUG:urllib3.connectionpool:Starting new HTTPS connection (1): api.openalex.org:443\n",
            "DEBUG:urllib3.connectionpool:https://api.openalex.org:443 \"GET /works?filter=has_doi:true,concepts_count:%3E0,publication_year:2015&sample=200&per-page=200 HTTP/1.1\" 200 320934\n"
          ]
        },
        {
          "name": "stdout",
          "output_type": "stream",
          "text": [
            "plus que 3707 publications pour completer l'année 2015\n"
          ]
        },
        {
          "name": "stderr",
          "output_type": "stream",
          "text": [
            "DEBUG:urllib3.connectionpool:Starting new HTTPS connection (1): api.openalex.org:443\n",
            "DEBUG:urllib3.connectionpool:https://api.openalex.org:443 \"GET /works?filter=has_doi:true,concepts_count:%3E0,publication_year:2015&sample=200&per-page=200 HTTP/1.1\" 200 305041\n"
          ]
        },
        {
          "name": "stdout",
          "output_type": "stream",
          "text": [
            "plus que 3585 publications pour completer l'année 2015\n"
          ]
        },
        {
          "name": "stderr",
          "output_type": "stream",
          "text": [
            "DEBUG:urllib3.connectionpool:Starting new HTTPS connection (1): api.openalex.org:443\n",
            "DEBUG:urllib3.connectionpool:https://api.openalex.org:443 \"GET /works?filter=has_doi:true,concepts_count:%3E0,publication_year:2015&sample=200&per-page=200 HTTP/1.1\" 200 302629\n"
          ]
        },
        {
          "name": "stdout",
          "output_type": "stream",
          "text": [
            "plus que 3482 publications pour completer l'année 2015\n"
          ]
        },
        {
          "name": "stderr",
          "output_type": "stream",
          "text": [
            "DEBUG:urllib3.connectionpool:Starting new HTTPS connection (1): api.openalex.org:443\n",
            "DEBUG:urllib3.connectionpool:https://api.openalex.org:443 \"GET /works?filter=has_doi:true,concepts_count:%3E0,publication_year:2015&sample=200&per-page=200 HTTP/1.1\" 200 311804\n"
          ]
        },
        {
          "name": "stdout",
          "output_type": "stream",
          "text": [
            "plus que 3368 publications pour completer l'année 2015\n"
          ]
        },
        {
          "name": "stderr",
          "output_type": "stream",
          "text": [
            "DEBUG:urllib3.connectionpool:Starting new HTTPS connection (1): api.openalex.org:443\n",
            "DEBUG:urllib3.connectionpool:https://api.openalex.org:443 \"GET /works?filter=has_doi:true,concepts_count:%3E0,publication_year:2015&sample=200&per-page=200 HTTP/1.1\" 200 317272\n"
          ]
        },
        {
          "name": "stdout",
          "output_type": "stream",
          "text": [
            "plus que 3255 publications pour completer l'année 2015\n"
          ]
        },
        {
          "name": "stderr",
          "output_type": "stream",
          "text": [
            "DEBUG:urllib3.connectionpool:Starting new HTTPS connection (1): api.openalex.org:443\n",
            "DEBUG:urllib3.connectionpool:https://api.openalex.org:443 \"GET /works?filter=has_doi:true,concepts_count:%3E0,publication_year:2015&sample=200&per-page=200 HTTP/1.1\" 200 287453\n"
          ]
        },
        {
          "name": "stdout",
          "output_type": "stream",
          "text": [
            "plus que 3145 publications pour completer l'année 2015\n"
          ]
        },
        {
          "name": "stderr",
          "output_type": "stream",
          "text": [
            "DEBUG:urllib3.connectionpool:Starting new HTTPS connection (1): api.openalex.org:443\n",
            "DEBUG:urllib3.connectionpool:https://api.openalex.org:443 \"GET /works?filter=has_doi:true,concepts_count:%3E0,publication_year:2015&sample=200&per-page=200 HTTP/1.1\" 200 292760\n"
          ]
        },
        {
          "name": "stdout",
          "output_type": "stream",
          "text": [
            "plus que 3041 publications pour completer l'année 2015\n"
          ]
        },
        {
          "name": "stderr",
          "output_type": "stream",
          "text": [
            "DEBUG:urllib3.connectionpool:Starting new HTTPS connection (1): api.openalex.org:443\n",
            "DEBUG:urllib3.connectionpool:https://api.openalex.org:443 \"GET /works?filter=has_doi:true,concepts_count:%3E0,publication_year:2015&sample=200&per-page=200 HTTP/1.1\" 200 305991\n"
          ]
        },
        {
          "name": "stdout",
          "output_type": "stream",
          "text": [
            "plus que 2935 publications pour completer l'année 2015\n"
          ]
        },
        {
          "name": "stderr",
          "output_type": "stream",
          "text": [
            "DEBUG:urllib3.connectionpool:Starting new HTTPS connection (1): api.openalex.org:443\n",
            "DEBUG:urllib3.connectionpool:https://api.openalex.org:443 \"GET /works?filter=has_doi:true,concepts_count:%3E0,publication_year:2015&sample=200&per-page=200 HTTP/1.1\" 200 317485\n"
          ]
        },
        {
          "name": "stdout",
          "output_type": "stream",
          "text": [
            "plus que 2824 publications pour completer l'année 2015\n"
          ]
        },
        {
          "name": "stderr",
          "output_type": "stream",
          "text": [
            "DEBUG:urllib3.connectionpool:Starting new HTTPS connection (1): api.openalex.org:443\n",
            "DEBUG:urllib3.connectionpool:https://api.openalex.org:443 \"GET /works?filter=has_doi:true,concepts_count:%3E0,publication_year:2015&sample=200&per-page=200 HTTP/1.1\" 200 267663\n"
          ]
        },
        {
          "name": "stdout",
          "output_type": "stream",
          "text": [
            "plus que 2712 publications pour completer l'année 2015\n"
          ]
        },
        {
          "name": "stderr",
          "output_type": "stream",
          "text": [
            "DEBUG:urllib3.connectionpool:Starting new HTTPS connection (1): api.openalex.org:443\n",
            "DEBUG:urllib3.connectionpool:https://api.openalex.org:443 \"GET /works?filter=has_doi:true,concepts_count:%3E0,publication_year:2015&sample=200&per-page=200 HTTP/1.1\" 200 311267\n"
          ]
        },
        {
          "name": "stdout",
          "output_type": "stream",
          "text": [
            "plus que 2597 publications pour completer l'année 2015\n"
          ]
        },
        {
          "name": "stderr",
          "output_type": "stream",
          "text": [
            "DEBUG:urllib3.connectionpool:Starting new HTTPS connection (1): api.openalex.org:443\n",
            "DEBUG:urllib3.connectionpool:https://api.openalex.org:443 \"GET /works?filter=has_doi:true,concepts_count:%3E0,publication_year:2015&sample=200&per-page=200 HTTP/1.1\" 200 287023\n"
          ]
        },
        {
          "name": "stdout",
          "output_type": "stream",
          "text": [
            "plus que 2489 publications pour completer l'année 2015\n"
          ]
        },
        {
          "name": "stderr",
          "output_type": "stream",
          "text": [
            "DEBUG:urllib3.connectionpool:Starting new HTTPS connection (1): api.openalex.org:443\n",
            "DEBUG:urllib3.connectionpool:https://api.openalex.org:443 \"GET /works?filter=has_doi:true,concepts_count:%3E0,publication_year:2015&sample=200&per-page=200 HTTP/1.1\" 200 332314\n"
          ]
        },
        {
          "name": "stdout",
          "output_type": "stream",
          "text": [
            "plus que 2378 publications pour completer l'année 2015\n"
          ]
        },
        {
          "name": "stderr",
          "output_type": "stream",
          "text": [
            "DEBUG:urllib3.connectionpool:Starting new HTTPS connection (1): api.openalex.org:443\n",
            "DEBUG:urllib3.connectionpool:https://api.openalex.org:443 \"GET /works?filter=has_doi:true,concepts_count:%3E0,publication_year:2015&sample=200&per-page=200 HTTP/1.1\" 200 303285\n"
          ]
        },
        {
          "name": "stdout",
          "output_type": "stream",
          "text": [
            "plus que 2252 publications pour completer l'année 2015\n"
          ]
        },
        {
          "name": "stderr",
          "output_type": "stream",
          "text": [
            "DEBUG:urllib3.connectionpool:Starting new HTTPS connection (1): api.openalex.org:443\n",
            "DEBUG:urllib3.connectionpool:https://api.openalex.org:443 \"GET /works?filter=has_doi:true,concepts_count:%3E0,publication_year:2015&sample=200&per-page=200 HTTP/1.1\" 200 287744\n"
          ]
        },
        {
          "name": "stdout",
          "output_type": "stream",
          "text": [
            "plus que 2152 publications pour completer l'année 2015\n"
          ]
        },
        {
          "name": "stderr",
          "output_type": "stream",
          "text": [
            "DEBUG:urllib3.connectionpool:Starting new HTTPS connection (1): api.openalex.org:443\n",
            "DEBUG:urllib3.connectionpool:https://api.openalex.org:443 \"GET /works?filter=has_doi:true,concepts_count:%3E0,publication_year:2015&sample=200&per-page=200 HTTP/1.1\" 200 328191\n"
          ]
        },
        {
          "name": "stdout",
          "output_type": "stream",
          "text": [
            "plus que 2043 publications pour completer l'année 2015\n"
          ]
        },
        {
          "name": "stderr",
          "output_type": "stream",
          "text": [
            "DEBUG:urllib3.connectionpool:Starting new HTTPS connection (1): api.openalex.org:443\n",
            "DEBUG:urllib3.connectionpool:https://api.openalex.org:443 \"GET /works?filter=has_doi:true,concepts_count:%3E0,publication_year:2015&sample=200&per-page=200 HTTP/1.1\" 200 300943\n"
          ]
        },
        {
          "name": "stdout",
          "output_type": "stream",
          "text": [
            "plus que 1935 publications pour completer l'année 2015\n"
          ]
        },
        {
          "name": "stderr",
          "output_type": "stream",
          "text": [
            "DEBUG:urllib3.connectionpool:Starting new HTTPS connection (1): api.openalex.org:443\n",
            "DEBUG:urllib3.connectionpool:https://api.openalex.org:443 \"GET /works?filter=has_doi:true,concepts_count:%3E0,publication_year:2015&sample=200&per-page=200 HTTP/1.1\" 200 314961\n"
          ]
        },
        {
          "name": "stdout",
          "output_type": "stream",
          "text": [
            "plus que 1821 publications pour completer l'année 2015\n"
          ]
        },
        {
          "name": "stderr",
          "output_type": "stream",
          "text": [
            "DEBUG:urllib3.connectionpool:Starting new HTTPS connection (1): api.openalex.org:443\n",
            "DEBUG:urllib3.connectionpool:https://api.openalex.org:443 \"GET /works?filter=has_doi:true,concepts_count:%3E0,publication_year:2015&sample=200&per-page=200 HTTP/1.1\" 200 311273\n"
          ]
        },
        {
          "name": "stdout",
          "output_type": "stream",
          "text": [
            "plus que 1716 publications pour completer l'année 2015\n"
          ]
        },
        {
          "name": "stderr",
          "output_type": "stream",
          "text": [
            "DEBUG:urllib3.connectionpool:Starting new HTTPS connection (1): api.openalex.org:443\n",
            "DEBUG:urllib3.connectionpool:https://api.openalex.org:443 \"GET /works?filter=has_doi:true,concepts_count:%3E0,publication_year:2015&sample=200&per-page=200 HTTP/1.1\" 200 319788\n"
          ]
        },
        {
          "name": "stdout",
          "output_type": "stream",
          "text": [
            "plus que 1610 publications pour completer l'année 2015\n"
          ]
        },
        {
          "name": "stderr",
          "output_type": "stream",
          "text": [
            "DEBUG:urllib3.connectionpool:Starting new HTTPS connection (1): api.openalex.org:443\n",
            "DEBUG:urllib3.connectionpool:https://api.openalex.org:443 \"GET /works?filter=has_doi:true,concepts_count:%3E0,publication_year:2015&sample=200&per-page=200 HTTP/1.1\" 200 301841\n"
          ]
        },
        {
          "name": "stdout",
          "output_type": "stream",
          "text": [
            "plus que 1495 publications pour completer l'année 2015\n"
          ]
        },
        {
          "name": "stderr",
          "output_type": "stream",
          "text": [
            "DEBUG:urllib3.connectionpool:Starting new HTTPS connection (1): api.openalex.org:443\n",
            "DEBUG:urllib3.connectionpool:https://api.openalex.org:443 \"GET /works?filter=has_doi:true,concepts_count:%3E0,publication_year:2015&sample=200&per-page=200 HTTP/1.1\" 200 297341\n"
          ]
        },
        {
          "name": "stdout",
          "output_type": "stream",
          "text": [
            "plus que 1379 publications pour completer l'année 2015\n"
          ]
        },
        {
          "name": "stderr",
          "output_type": "stream",
          "text": [
            "DEBUG:urllib3.connectionpool:Starting new HTTPS connection (1): api.openalex.org:443\n",
            "DEBUG:urllib3.connectionpool:https://api.openalex.org:443 \"GET /works?filter=has_doi:true,concepts_count:%3E0,publication_year:2015&sample=200&per-page=200 HTTP/1.1\" 200 323655\n"
          ]
        },
        {
          "name": "stdout",
          "output_type": "stream",
          "text": [
            "plus que 1269 publications pour completer l'année 2015\n"
          ]
        },
        {
          "name": "stderr",
          "output_type": "stream",
          "text": [
            "DEBUG:urllib3.connectionpool:Starting new HTTPS connection (1): api.openalex.org:443\n",
            "DEBUG:urllib3.connectionpool:https://api.openalex.org:443 \"GET /works?filter=has_doi:true,concepts_count:%3E0,publication_year:2015&sample=200&per-page=200 HTTP/1.1\" 200 312126\n"
          ]
        },
        {
          "name": "stdout",
          "output_type": "stream",
          "text": [
            "plus que 1162 publications pour completer l'année 2015\n"
          ]
        },
        {
          "name": "stderr",
          "output_type": "stream",
          "text": [
            "DEBUG:urllib3.connectionpool:Starting new HTTPS connection (1): api.openalex.org:443\n",
            "DEBUG:urllib3.connectionpool:https://api.openalex.org:443 \"GET /works?filter=has_doi:true,concepts_count:%3E0,publication_year:2015&sample=200&per-page=200 HTTP/1.1\" 200 304514\n"
          ]
        },
        {
          "name": "stdout",
          "output_type": "stream",
          "text": [
            "plus que 1049 publications pour completer l'année 2015\n"
          ]
        },
        {
          "name": "stderr",
          "output_type": "stream",
          "text": [
            "DEBUG:urllib3.connectionpool:Starting new HTTPS connection (1): api.openalex.org:443\n",
            "DEBUG:urllib3.connectionpool:https://api.openalex.org:443 \"GET /works?filter=has_doi:true,concepts_count:%3E0,publication_year:2015&sample=200&per-page=200 HTTP/1.1\" 200 301236\n"
          ]
        },
        {
          "name": "stdout",
          "output_type": "stream",
          "text": [
            "plus que 935 publications pour completer l'année 2015\n"
          ]
        },
        {
          "name": "stderr",
          "output_type": "stream",
          "text": [
            "DEBUG:urllib3.connectionpool:Starting new HTTPS connection (1): api.openalex.org:443\n",
            "DEBUG:urllib3.connectionpool:https://api.openalex.org:443 \"GET /works?filter=has_doi:true,concepts_count:%3E0,publication_year:2015&sample=200&per-page=200 HTTP/1.1\" 200 288814\n"
          ]
        },
        {
          "name": "stdout",
          "output_type": "stream",
          "text": [
            "plus que 828 publications pour completer l'année 2015\n"
          ]
        },
        {
          "name": "stderr",
          "output_type": "stream",
          "text": [
            "DEBUG:urllib3.connectionpool:Starting new HTTPS connection (1): api.openalex.org:443\n",
            "DEBUG:urllib3.connectionpool:https://api.openalex.org:443 \"GET /works?filter=has_doi:true,concepts_count:%3E0,publication_year:2015&sample=200&per-page=200 HTTP/1.1\" 200 305955\n"
          ]
        },
        {
          "name": "stdout",
          "output_type": "stream",
          "text": [
            "plus que 728 publications pour completer l'année 2015\n"
          ]
        },
        {
          "name": "stderr",
          "output_type": "stream",
          "text": [
            "DEBUG:urllib3.connectionpool:Starting new HTTPS connection (1): api.openalex.org:443\n",
            "DEBUG:urllib3.connectionpool:https://api.openalex.org:443 \"GET /works?filter=has_doi:true,concepts_count:%3E0,publication_year:2015&sample=200&per-page=200 HTTP/1.1\" 200 323132\n"
          ]
        },
        {
          "name": "stdout",
          "output_type": "stream",
          "text": [
            "plus que 611 publications pour completer l'année 2015\n"
          ]
        },
        {
          "name": "stderr",
          "output_type": "stream",
          "text": [
            "DEBUG:urllib3.connectionpool:Starting new HTTPS connection (1): api.openalex.org:443\n",
            "DEBUG:urllib3.connectionpool:https://api.openalex.org:443 \"GET /works?filter=has_doi:true,concepts_count:%3E0,publication_year:2015&sample=200&per-page=200 HTTP/1.1\" 200 306635\n"
          ]
        },
        {
          "name": "stdout",
          "output_type": "stream",
          "text": [
            "plus que 488 publications pour completer l'année 2015\n"
          ]
        },
        {
          "name": "stderr",
          "output_type": "stream",
          "text": [
            "DEBUG:urllib3.connectionpool:Starting new HTTPS connection (1): api.openalex.org:443\n",
            "DEBUG:urllib3.connectionpool:https://api.openalex.org:443 \"GET /works?filter=has_doi:true,concepts_count:%3E0,publication_year:2015&sample=200&per-page=200 HTTP/1.1\" 200 336081\n"
          ]
        },
        {
          "name": "stdout",
          "output_type": "stream",
          "text": [
            "plus que 374 publications pour completer l'année 2015\n"
          ]
        },
        {
          "name": "stderr",
          "output_type": "stream",
          "text": [
            "DEBUG:urllib3.connectionpool:Starting new HTTPS connection (1): api.openalex.org:443\n",
            "DEBUG:urllib3.connectionpool:https://api.openalex.org:443 \"GET /works?filter=has_doi:true,concepts_count:%3E0,publication_year:2015&sample=200&per-page=200 HTTP/1.1\" 200 307124\n"
          ]
        },
        {
          "name": "stdout",
          "output_type": "stream",
          "text": [
            "plus que 267 publications pour completer l'année 2015\n"
          ]
        },
        {
          "name": "stderr",
          "output_type": "stream",
          "text": [
            "DEBUG:urllib3.connectionpool:Starting new HTTPS connection (1): api.openalex.org:443\n",
            "DEBUG:urllib3.connectionpool:https://api.openalex.org:443 \"GET /works?filter=has_doi:true,concepts_count:%3E0,publication_year:2015&sample=200&per-page=200 HTTP/1.1\" 200 297357\n"
          ]
        },
        {
          "name": "stdout",
          "output_type": "stream",
          "text": [
            "plus que 157 publications pour completer l'année 2015\n"
          ]
        },
        {
          "name": "stderr",
          "output_type": "stream",
          "text": [
            "DEBUG:urllib3.connectionpool:Starting new HTTPS connection (1): api.openalex.org:443\n",
            "DEBUG:urllib3.connectionpool:https://api.openalex.org:443 \"GET /works?filter=has_doi:true,concepts_count:%3E0,publication_year:2015&sample=200&per-page=200 HTTP/1.1\" 200 290315\n"
          ]
        },
        {
          "name": "stdout",
          "output_type": "stream",
          "text": [
            "plus que 55 publications pour completer l'année 2015\n"
          ]
        },
        {
          "name": "stderr",
          "output_type": "stream",
          "text": [
            "DEBUG:urllib3.connectionpool:Starting new HTTPS connection (1): api.openalex.org:443\n",
            "DEBUG:urllib3.connectionpool:https://api.openalex.org:443 \"GET /works?filter=has_doi:true,concepts_count:%3E0,publication_year:2014&sample=200&per-page=200 HTTP/1.1\" 200 294422\n"
          ]
        },
        {
          "name": "stdout",
          "output_type": "stream",
          "text": [
            "plus que 3218 publications pour completer l'année 2014\n"
          ]
        },
        {
          "name": "stderr",
          "output_type": "stream",
          "text": [
            "DEBUG:urllib3.connectionpool:Starting new HTTPS connection (1): api.openalex.org:443\n",
            "DEBUG:urllib3.connectionpool:https://api.openalex.org:443 \"GET /works?filter=has_doi:true,concepts_count:%3E0,publication_year:2014&sample=200&per-page=200 HTTP/1.1\" 200 306489\n"
          ]
        },
        {
          "name": "stdout",
          "output_type": "stream",
          "text": [
            "plus que 3111 publications pour completer l'année 2014\n"
          ]
        },
        {
          "name": "stderr",
          "output_type": "stream",
          "text": [
            "DEBUG:urllib3.connectionpool:Starting new HTTPS connection (1): api.openalex.org:443\n",
            "DEBUG:urllib3.connectionpool:https://api.openalex.org:443 \"GET /works?filter=has_doi:true,concepts_count:%3E0,publication_year:2014&sample=200&per-page=200 HTTP/1.1\" 200 313141\n"
          ]
        },
        {
          "name": "stdout",
          "output_type": "stream",
          "text": [
            "plus que 3004 publications pour completer l'année 2014\n"
          ]
        },
        {
          "name": "stderr",
          "output_type": "stream",
          "text": [
            "DEBUG:urllib3.connectionpool:Starting new HTTPS connection (1): api.openalex.org:443\n",
            "DEBUG:urllib3.connectionpool:https://api.openalex.org:443 \"GET /works?filter=has_doi:true,concepts_count:%3E0,publication_year:2014&sample=200&per-page=200 HTTP/1.1\" 200 281436\n"
          ]
        },
        {
          "name": "stdout",
          "output_type": "stream",
          "text": [
            "plus que 2895 publications pour completer l'année 2014\n"
          ]
        },
        {
          "name": "stderr",
          "output_type": "stream",
          "text": [
            "DEBUG:urllib3.connectionpool:Starting new HTTPS connection (1): api.openalex.org:443\n",
            "DEBUG:urllib3.connectionpool:https://api.openalex.org:443 \"GET /works?filter=has_doi:true,concepts_count:%3E0,publication_year:2014&sample=200&per-page=200 HTTP/1.1\" 200 294171\n"
          ]
        },
        {
          "name": "stdout",
          "output_type": "stream",
          "text": [
            "plus que 2796 publications pour completer l'année 2014\n"
          ]
        },
        {
          "name": "stderr",
          "output_type": "stream",
          "text": [
            "DEBUG:urllib3.connectionpool:Starting new HTTPS connection (1): api.openalex.org:443\n",
            "DEBUG:urllib3.connectionpool:https://api.openalex.org:443 \"GET /works?filter=has_doi:true,concepts_count:%3E0,publication_year:2014&sample=200&per-page=200 HTTP/1.1\" 200 275451\n"
          ]
        },
        {
          "name": "stdout",
          "output_type": "stream",
          "text": [
            "plus que 2689 publications pour completer l'année 2014\n"
          ]
        },
        {
          "name": "stderr",
          "output_type": "stream",
          "text": [
            "DEBUG:urllib3.connectionpool:Starting new HTTPS connection (1): api.openalex.org:443\n",
            "DEBUG:urllib3.connectionpool:https://api.openalex.org:443 \"GET /works?filter=has_doi:true,concepts_count:%3E0,publication_year:2014&sample=200&per-page=200 HTTP/1.1\" 200 298347\n"
          ]
        },
        {
          "name": "stdout",
          "output_type": "stream",
          "text": [
            "plus que 2588 publications pour completer l'année 2014\n"
          ]
        },
        {
          "name": "stderr",
          "output_type": "stream",
          "text": [
            "DEBUG:urllib3.connectionpool:Starting new HTTPS connection (1): api.openalex.org:443\n",
            "DEBUG:urllib3.connectionpool:https://api.openalex.org:443 \"GET /works?filter=has_doi:true,concepts_count:%3E0,publication_year:2014&sample=200&per-page=200 HTTP/1.1\" 200 286285\n"
          ]
        },
        {
          "name": "stdout",
          "output_type": "stream",
          "text": [
            "plus que 2484 publications pour completer l'année 2014\n"
          ]
        },
        {
          "name": "stderr",
          "output_type": "stream",
          "text": [
            "DEBUG:urllib3.connectionpool:Starting new HTTPS connection (1): api.openalex.org:443\n",
            "DEBUG:urllib3.connectionpool:https://api.openalex.org:443 \"GET /works?filter=has_doi:true,concepts_count:%3E0,publication_year:2014&sample=200&per-page=200 HTTP/1.1\" 200 290008\n"
          ]
        },
        {
          "name": "stdout",
          "output_type": "stream",
          "text": [
            "plus que 2387 publications pour completer l'année 2014\n"
          ]
        },
        {
          "name": "stderr",
          "output_type": "stream",
          "text": [
            "DEBUG:urllib3.connectionpool:Starting new HTTPS connection (1): api.openalex.org:443\n",
            "DEBUG:urllib3.connectionpool:https://api.openalex.org:443 \"GET /works?filter=has_doi:true,concepts_count:%3E0,publication_year:2014&sample=200&per-page=200 HTTP/1.1\" 200 286954\n"
          ]
        },
        {
          "name": "stdout",
          "output_type": "stream",
          "text": [
            "plus que 2271 publications pour completer l'année 2014\n"
          ]
        },
        {
          "name": "stderr",
          "output_type": "stream",
          "text": [
            "DEBUG:urllib3.connectionpool:Starting new HTTPS connection (1): api.openalex.org:443\n",
            "DEBUG:urllib3.connectionpool:https://api.openalex.org:443 \"GET /works?filter=has_doi:true,concepts_count:%3E0,publication_year:2014&sample=200&per-page=200 HTTP/1.1\" 200 308383\n"
          ]
        },
        {
          "name": "stdout",
          "output_type": "stream",
          "text": [
            "plus que 2163 publications pour completer l'année 2014\n"
          ]
        },
        {
          "name": "stderr",
          "output_type": "stream",
          "text": [
            "DEBUG:urllib3.connectionpool:Starting new HTTPS connection (1): api.openalex.org:443\n",
            "DEBUG:urllib3.connectionpool:https://api.openalex.org:443 \"GET /works?filter=has_doi:true,concepts_count:%3E0,publication_year:2014&sample=200&per-page=200 HTTP/1.1\" 200 291547\n"
          ]
        },
        {
          "name": "stdout",
          "output_type": "stream",
          "text": [
            "plus que 2047 publications pour completer l'année 2014\n"
          ]
        },
        {
          "name": "stderr",
          "output_type": "stream",
          "text": [
            "DEBUG:urllib3.connectionpool:Starting new HTTPS connection (1): api.openalex.org:443\n",
            "DEBUG:urllib3.connectionpool:https://api.openalex.org:443 \"GET /works?filter=has_doi:true,concepts_count:%3E0,publication_year:2014&sample=200&per-page=200 HTTP/1.1\" 200 295684\n"
          ]
        },
        {
          "name": "stdout",
          "output_type": "stream",
          "text": [
            "plus que 1941 publications pour completer l'année 2014\n"
          ]
        },
        {
          "name": "stderr",
          "output_type": "stream",
          "text": [
            "DEBUG:urllib3.connectionpool:Starting new HTTPS connection (1): api.openalex.org:443\n",
            "DEBUG:urllib3.connectionpool:https://api.openalex.org:443 \"GET /works?filter=has_doi:true,concepts_count:%3E0,publication_year:2014&sample=200&per-page=200 HTTP/1.1\" 200 291775\n"
          ]
        },
        {
          "name": "stdout",
          "output_type": "stream",
          "text": [
            "plus que 1831 publications pour completer l'année 2014\n"
          ]
        },
        {
          "name": "stderr",
          "output_type": "stream",
          "text": [
            "DEBUG:urllib3.connectionpool:Starting new HTTPS connection (1): api.openalex.org:443\n",
            "DEBUG:urllib3.connectionpool:https://api.openalex.org:443 \"GET /works?filter=has_doi:true,concepts_count:%3E0,publication_year:2014&sample=200&per-page=200 HTTP/1.1\" 200 309686\n"
          ]
        },
        {
          "name": "stdout",
          "output_type": "stream",
          "text": [
            "plus que 1723 publications pour completer l'année 2014\n"
          ]
        },
        {
          "name": "stderr",
          "output_type": "stream",
          "text": [
            "DEBUG:urllib3.connectionpool:Starting new HTTPS connection (1): api.openalex.org:443\n",
            "DEBUG:urllib3.connectionpool:https://api.openalex.org:443 \"GET /works?filter=has_doi:true,concepts_count:%3E0,publication_year:2014&sample=200&per-page=200 HTTP/1.1\" 200 268773\n"
          ]
        },
        {
          "name": "stdout",
          "output_type": "stream",
          "text": [
            "plus que 1602 publications pour completer l'année 2014\n"
          ]
        },
        {
          "name": "stderr",
          "output_type": "stream",
          "text": [
            "DEBUG:urllib3.connectionpool:Starting new HTTPS connection (1): api.openalex.org:443\n",
            "DEBUG:urllib3.connectionpool:https://api.openalex.org:443 \"GET /works?filter=has_doi:true,concepts_count:%3E0,publication_year:2014&sample=200&per-page=200 HTTP/1.1\" 200 292854\n"
          ]
        },
        {
          "name": "stdout",
          "output_type": "stream",
          "text": [
            "plus que 1491 publications pour completer l'année 2014\n"
          ]
        },
        {
          "name": "stderr",
          "output_type": "stream",
          "text": [
            "DEBUG:urllib3.connectionpool:Starting new HTTPS connection (1): api.openalex.org:443\n",
            "DEBUG:urllib3.connectionpool:https://api.openalex.org:443 \"GET /works?filter=has_doi:true,concepts_count:%3E0,publication_year:2014&sample=200&per-page=200 HTTP/1.1\" 200 294809\n"
          ]
        },
        {
          "name": "stdout",
          "output_type": "stream",
          "text": [
            "plus que 1385 publications pour completer l'année 2014\n"
          ]
        },
        {
          "name": "stderr",
          "output_type": "stream",
          "text": [
            "DEBUG:urllib3.connectionpool:Starting new HTTPS connection (1): api.openalex.org:443\n",
            "DEBUG:urllib3.connectionpool:https://api.openalex.org:443 \"GET /works?filter=has_doi:true,concepts_count:%3E0,publication_year:2014&sample=200&per-page=200 HTTP/1.1\" 200 287894\n"
          ]
        },
        {
          "name": "stdout",
          "output_type": "stream",
          "text": [
            "plus que 1276 publications pour completer l'année 2014\n"
          ]
        },
        {
          "name": "stderr",
          "output_type": "stream",
          "text": [
            "DEBUG:urllib3.connectionpool:Starting new HTTPS connection (1): api.openalex.org:443\n",
            "DEBUG:urllib3.connectionpool:https://api.openalex.org:443 \"GET /works?filter=has_doi:true,concepts_count:%3E0,publication_year:2014&sample=200&per-page=200 HTTP/1.1\" 200 279955\n"
          ]
        },
        {
          "name": "stdout",
          "output_type": "stream",
          "text": [
            "plus que 1172 publications pour completer l'année 2014\n"
          ]
        },
        {
          "name": "stderr",
          "output_type": "stream",
          "text": [
            "DEBUG:urllib3.connectionpool:Starting new HTTPS connection (1): api.openalex.org:443\n",
            "DEBUG:urllib3.connectionpool:https://api.openalex.org:443 \"GET /works?filter=has_doi:true,concepts_count:%3E0,publication_year:2014&sample=200&per-page=200 HTTP/1.1\" 200 301303\n"
          ]
        },
        {
          "name": "stdout",
          "output_type": "stream",
          "text": [
            "plus que 1068 publications pour completer l'année 2014\n"
          ]
        },
        {
          "name": "stderr",
          "output_type": "stream",
          "text": [
            "DEBUG:urllib3.connectionpool:Starting new HTTPS connection (1): api.openalex.org:443\n",
            "DEBUG:urllib3.connectionpool:https://api.openalex.org:443 \"GET /works?filter=has_doi:true,concepts_count:%3E0,publication_year:2014&sample=200&per-page=200 HTTP/1.1\" 200 291633\n"
          ]
        },
        {
          "name": "stdout",
          "output_type": "stream",
          "text": [
            "plus que 952 publications pour completer l'année 2014\n"
          ]
        },
        {
          "name": "stderr",
          "output_type": "stream",
          "text": [
            "DEBUG:urllib3.connectionpool:Starting new HTTPS connection (1): api.openalex.org:443\n",
            "DEBUG:urllib3.connectionpool:https://api.openalex.org:443 \"GET /works?filter=has_doi:true,concepts_count:%3E0,publication_year:2014&sample=200&per-page=200 HTTP/1.1\" 200 299765\n"
          ]
        },
        {
          "name": "stdout",
          "output_type": "stream",
          "text": [
            "plus que 836 publications pour completer l'année 2014\n"
          ]
        },
        {
          "name": "stderr",
          "output_type": "stream",
          "text": [
            "DEBUG:urllib3.connectionpool:Starting new HTTPS connection (1): api.openalex.org:443\n",
            "DEBUG:urllib3.connectionpool:https://api.openalex.org:443 \"GET /works?filter=has_doi:true,concepts_count:%3E0,publication_year:2014&sample=200&per-page=200 HTTP/1.1\" 200 288670\n"
          ]
        },
        {
          "name": "stdout",
          "output_type": "stream",
          "text": [
            "plus que 720 publications pour completer l'année 2014\n"
          ]
        },
        {
          "name": "stderr",
          "output_type": "stream",
          "text": [
            "DEBUG:urllib3.connectionpool:Starting new HTTPS connection (1): api.openalex.org:443\n",
            "DEBUG:urllib3.connectionpool:https://api.openalex.org:443 \"GET /works?filter=has_doi:true,concepts_count:%3E0,publication_year:2014&sample=200&per-page=200 HTTP/1.1\" 200 297660\n"
          ]
        },
        {
          "name": "stdout",
          "output_type": "stream",
          "text": [
            "plus que 613 publications pour completer l'année 2014\n"
          ]
        },
        {
          "name": "stderr",
          "output_type": "stream",
          "text": [
            "DEBUG:urllib3.connectionpool:Starting new HTTPS connection (1): api.openalex.org:443\n",
            "DEBUG:urllib3.connectionpool:https://api.openalex.org:443 \"GET /works?filter=has_doi:true,concepts_count:%3E0,publication_year:2014&sample=200&per-page=200 HTTP/1.1\" 200 317577\n"
          ]
        },
        {
          "name": "stdout",
          "output_type": "stream",
          "text": [
            "plus que 498 publications pour completer l'année 2014\n"
          ]
        },
        {
          "name": "stderr",
          "output_type": "stream",
          "text": [
            "DEBUG:urllib3.connectionpool:Starting new HTTPS connection (1): api.openalex.org:443\n",
            "DEBUG:urllib3.connectionpool:https://api.openalex.org:443 \"GET /works?filter=has_doi:true,concepts_count:%3E0,publication_year:2014&sample=200&per-page=200 HTTP/1.1\" 200 301272\n"
          ]
        },
        {
          "name": "stdout",
          "output_type": "stream",
          "text": [
            "plus que 382 publications pour completer l'année 2014\n"
          ]
        },
        {
          "name": "stderr",
          "output_type": "stream",
          "text": [
            "DEBUG:urllib3.connectionpool:Starting new HTTPS connection (1): api.openalex.org:443\n",
            "DEBUG:urllib3.connectionpool:https://api.openalex.org:443 \"GET /works?filter=has_doi:true,concepts_count:%3E0,publication_year:2014&sample=200&per-page=200 HTTP/1.1\" 200 285366\n"
          ]
        },
        {
          "name": "stdout",
          "output_type": "stream",
          "text": [
            "plus que 270 publications pour completer l'année 2014\n"
          ]
        },
        {
          "name": "stderr",
          "output_type": "stream",
          "text": [
            "DEBUG:urllib3.connectionpool:Starting new HTTPS connection (1): api.openalex.org:443\n",
            "DEBUG:urllib3.connectionpool:https://api.openalex.org:443 \"GET /works?filter=has_doi:true,concepts_count:%3E0,publication_year:2014&sample=200&per-page=200 HTTP/1.1\" 200 278627\n"
          ]
        },
        {
          "name": "stdout",
          "output_type": "stream",
          "text": [
            "plus que 164 publications pour completer l'année 2014\n"
          ]
        },
        {
          "name": "stderr",
          "output_type": "stream",
          "text": [
            "DEBUG:urllib3.connectionpool:Starting new HTTPS connection (1): api.openalex.org:443\n",
            "DEBUG:urllib3.connectionpool:https://api.openalex.org:443 \"GET /works?filter=has_doi:true,concepts_count:%3E0,publication_year:2014&sample=200&per-page=200 HTTP/1.1\" 200 311550\n"
          ]
        },
        {
          "name": "stdout",
          "output_type": "stream",
          "text": [
            "plus que 53 publications pour completer l'année 2014\n"
          ]
        },
        {
          "name": "stderr",
          "output_type": "stream",
          "text": [
            "DEBUG:urllib3.connectionpool:Starting new HTTPS connection (1): api.openalex.org:443\n",
            "DEBUG:urllib3.connectionpool:https://api.openalex.org:443 \"GET /works?filter=has_doi:true,concepts_count:%3E0,publication_year:2021&sample=200&per-page=200 HTTP/1.1\" 200 351593\n"
          ]
        },
        {
          "name": "stdout",
          "output_type": "stream",
          "text": [
            "plus que 2449 publications pour completer l'année 2021\n"
          ]
        },
        {
          "name": "stderr",
          "output_type": "stream",
          "text": [
            "DEBUG:urllib3.connectionpool:Starting new HTTPS connection (1): api.openalex.org:443\n",
            "DEBUG:urllib3.connectionpool:https://api.openalex.org:443 \"GET /works?filter=has_doi:true,concepts_count:%3E0,publication_year:2021&sample=200&per-page=200 HTTP/1.1\" 200 348255\n"
          ]
        },
        {
          "name": "stdout",
          "output_type": "stream",
          "text": [
            "plus que 2340 publications pour completer l'année 2021\n"
          ]
        },
        {
          "name": "stderr",
          "output_type": "stream",
          "text": [
            "DEBUG:urllib3.connectionpool:Starting new HTTPS connection (1): api.openalex.org:443\n",
            "DEBUG:urllib3.connectionpool:https://api.openalex.org:443 \"GET /works?filter=has_doi:true,concepts_count:%3E0,publication_year:2021&sample=200&per-page=200 HTTP/1.1\" 200 342807\n"
          ]
        },
        {
          "name": "stdout",
          "output_type": "stream",
          "text": [
            "plus que 2228 publications pour completer l'année 2021\n"
          ]
        },
        {
          "name": "stderr",
          "output_type": "stream",
          "text": [
            "DEBUG:urllib3.connectionpool:Starting new HTTPS connection (1): api.openalex.org:443\n",
            "DEBUG:urllib3.connectionpool:https://api.openalex.org:443 \"GET /works?filter=has_doi:true,concepts_count:%3E0,publication_year:2021&sample=200&per-page=200 HTTP/1.1\" 200 363477\n"
          ]
        },
        {
          "name": "stdout",
          "output_type": "stream",
          "text": [
            "plus que 2109 publications pour completer l'année 2021\n"
          ]
        },
        {
          "name": "stderr",
          "output_type": "stream",
          "text": [
            "DEBUG:urllib3.connectionpool:Starting new HTTPS connection (1): api.openalex.org:443\n",
            "DEBUG:urllib3.connectionpool:https://api.openalex.org:443 \"GET /works?filter=has_doi:true,concepts_count:%3E0,publication_year:2021&sample=200&per-page=200 HTTP/1.1\" 200 361475\n"
          ]
        },
        {
          "name": "stdout",
          "output_type": "stream",
          "text": [
            "plus que 2003 publications pour completer l'année 2021\n"
          ]
        },
        {
          "name": "stderr",
          "output_type": "stream",
          "text": [
            "DEBUG:urllib3.connectionpool:Starting new HTTPS connection (1): api.openalex.org:443\n",
            "DEBUG:urllib3.connectionpool:https://api.openalex.org:443 \"GET /works?filter=has_doi:true,concepts_count:%3E0,publication_year:2021&sample=200&per-page=200 HTTP/1.1\" 200 358748\n"
          ]
        },
        {
          "name": "stdout",
          "output_type": "stream",
          "text": [
            "plus que 1890 publications pour completer l'année 2021\n"
          ]
        },
        {
          "name": "stderr",
          "output_type": "stream",
          "text": [
            "DEBUG:urllib3.connectionpool:Starting new HTTPS connection (1): api.openalex.org:443\n",
            "DEBUG:urllib3.connectionpool:https://api.openalex.org:443 \"GET /works?filter=has_doi:true,concepts_count:%3E0,publication_year:2021&sample=200&per-page=200 HTTP/1.1\" 200 343100\n"
          ]
        },
        {
          "name": "stdout",
          "output_type": "stream",
          "text": [
            "plus que 1790 publications pour completer l'année 2021\n"
          ]
        },
        {
          "name": "stderr",
          "output_type": "stream",
          "text": [
            "DEBUG:urllib3.connectionpool:Starting new HTTPS connection (1): api.openalex.org:443\n",
            "DEBUG:urllib3.connectionpool:https://api.openalex.org:443 \"GET /works?filter=has_doi:true,concepts_count:%3E0,publication_year:2021&sample=200&per-page=200 HTTP/1.1\" 200 369413\n"
          ]
        },
        {
          "name": "stdout",
          "output_type": "stream",
          "text": [
            "plus que 1684 publications pour completer l'année 2021\n"
          ]
        },
        {
          "name": "stderr",
          "output_type": "stream",
          "text": [
            "DEBUG:urllib3.connectionpool:Starting new HTTPS connection (1): api.openalex.org:443\n",
            "DEBUG:urllib3.connectionpool:https://api.openalex.org:443 \"GET /works?filter=has_doi:true,concepts_count:%3E0,publication_year:2021&sample=200&per-page=200 HTTP/1.1\" 200 352510\n"
          ]
        },
        {
          "name": "stdout",
          "output_type": "stream",
          "text": [
            "plus que 1574 publications pour completer l'année 2021\n"
          ]
        },
        {
          "name": "stderr",
          "output_type": "stream",
          "text": [
            "DEBUG:urllib3.connectionpool:Starting new HTTPS connection (1): api.openalex.org:443\n",
            "DEBUG:urllib3.connectionpool:https://api.openalex.org:443 \"GET /works?filter=has_doi:true,concepts_count:%3E0,publication_year:2021&sample=200&per-page=200 HTTP/1.1\" 200 370096\n"
          ]
        },
        {
          "name": "stdout",
          "output_type": "stream",
          "text": [
            "plus que 1467 publications pour completer l'année 2021\n"
          ]
        },
        {
          "name": "stderr",
          "output_type": "stream",
          "text": [
            "DEBUG:urllib3.connectionpool:Starting new HTTPS connection (1): api.openalex.org:443\n",
            "DEBUG:urllib3.connectionpool:https://api.openalex.org:443 \"GET /works?filter=has_doi:true,concepts_count:%3E0,publication_year:2021&sample=200&per-page=200 HTTP/1.1\" 200 345093\n"
          ]
        },
        {
          "name": "stdout",
          "output_type": "stream",
          "text": [
            "plus que 1345 publications pour completer l'année 2021\n"
          ]
        },
        {
          "name": "stderr",
          "output_type": "stream",
          "text": [
            "DEBUG:urllib3.connectionpool:Starting new HTTPS connection (1): api.openalex.org:443\n",
            "DEBUG:urllib3.connectionpool:https://api.openalex.org:443 \"GET /works?filter=has_doi:true,concepts_count:%3E0,publication_year:2021&sample=200&per-page=200 HTTP/1.1\" 200 356308\n"
          ]
        },
        {
          "name": "stdout",
          "output_type": "stream",
          "text": [
            "plus que 1238 publications pour completer l'année 2021\n"
          ]
        },
        {
          "name": "stderr",
          "output_type": "stream",
          "text": [
            "DEBUG:urllib3.connectionpool:Starting new HTTPS connection (1): api.openalex.org:443\n",
            "DEBUG:urllib3.connectionpool:https://api.openalex.org:443 \"GET /works?filter=has_doi:true,concepts_count:%3E0,publication_year:2021&sample=200&per-page=200 HTTP/1.1\" 200 330803\n"
          ]
        },
        {
          "name": "stdout",
          "output_type": "stream",
          "text": [
            "plus que 1123 publications pour completer l'année 2021\n"
          ]
        },
        {
          "name": "stderr",
          "output_type": "stream",
          "text": [
            "DEBUG:urllib3.connectionpool:Starting new HTTPS connection (1): api.openalex.org:443\n",
            "DEBUG:urllib3.connectionpool:https://api.openalex.org:443 \"GET /works?filter=has_doi:true,concepts_count:%3E0,publication_year:2021&sample=200&per-page=200 HTTP/1.1\" 200 334951\n"
          ]
        },
        {
          "name": "stdout",
          "output_type": "stream",
          "text": [
            "plus que 1024 publications pour completer l'année 2021\n"
          ]
        },
        {
          "name": "stderr",
          "output_type": "stream",
          "text": [
            "DEBUG:urllib3.connectionpool:Starting new HTTPS connection (1): api.openalex.org:443\n",
            "DEBUG:urllib3.connectionpool:https://api.openalex.org:443 \"GET /works?filter=has_doi:true,concepts_count:%3E0,publication_year:2021&sample=200&per-page=200 HTTP/1.1\" 200 342390\n"
          ]
        },
        {
          "name": "stdout",
          "output_type": "stream",
          "text": [
            "plus que 909 publications pour completer l'année 2021\n"
          ]
        },
        {
          "name": "stderr",
          "output_type": "stream",
          "text": [
            "DEBUG:urllib3.connectionpool:Starting new HTTPS connection (1): api.openalex.org:443\n",
            "DEBUG:urllib3.connectionpool:https://api.openalex.org:443 \"GET /works?filter=has_doi:true,concepts_count:%3E0,publication_year:2021&sample=200&per-page=200 HTTP/1.1\" 200 306165\n"
          ]
        },
        {
          "name": "stdout",
          "output_type": "stream",
          "text": [
            "plus que 789 publications pour completer l'année 2021\n"
          ]
        },
        {
          "name": "stderr",
          "output_type": "stream",
          "text": [
            "DEBUG:urllib3.connectionpool:Starting new HTTPS connection (1): api.openalex.org:443\n",
            "DEBUG:urllib3.connectionpool:https://api.openalex.org:443 \"GET /works?filter=has_doi:true,concepts_count:%3E0,publication_year:2021&sample=200&per-page=200 HTTP/1.1\" 200 341759\n"
          ]
        },
        {
          "name": "stdout",
          "output_type": "stream",
          "text": [
            "plus que 687 publications pour completer l'année 2021\n"
          ]
        },
        {
          "name": "stderr",
          "output_type": "stream",
          "text": [
            "DEBUG:urllib3.connectionpool:Starting new HTTPS connection (1): api.openalex.org:443\n",
            "DEBUG:urllib3.connectionpool:https://api.openalex.org:443 \"GET /works?filter=has_doi:true,concepts_count:%3E0,publication_year:2021&sample=200&per-page=200 HTTP/1.1\" 200 368572\n"
          ]
        },
        {
          "name": "stdout",
          "output_type": "stream",
          "text": [
            "plus que 569 publications pour completer l'année 2021\n"
          ]
        },
        {
          "name": "stderr",
          "output_type": "stream",
          "text": [
            "DEBUG:urllib3.connectionpool:Starting new HTTPS connection (1): api.openalex.org:443\n",
            "DEBUG:urllib3.connectionpool:https://api.openalex.org:443 \"GET /works?filter=has_doi:true,concepts_count:%3E0,publication_year:2021&sample=200&per-page=200 HTTP/1.1\" 200 370257\n"
          ]
        },
        {
          "name": "stdout",
          "output_type": "stream",
          "text": [
            "plus que 470 publications pour completer l'année 2021\n"
          ]
        },
        {
          "name": "stderr",
          "output_type": "stream",
          "text": [
            "DEBUG:urllib3.connectionpool:Starting new HTTPS connection (1): api.openalex.org:443\n",
            "DEBUG:urllib3.connectionpool:https://api.openalex.org:443 \"GET /works?filter=has_doi:true,concepts_count:%3E0,publication_year:2021&sample=200&per-page=200 HTTP/1.1\" 200 358741\n"
          ]
        },
        {
          "name": "stdout",
          "output_type": "stream",
          "text": [
            "plus que 364 publications pour completer l'année 2021\n"
          ]
        },
        {
          "name": "stderr",
          "output_type": "stream",
          "text": [
            "DEBUG:urllib3.connectionpool:Starting new HTTPS connection (1): api.openalex.org:443\n",
            "DEBUG:urllib3.connectionpool:https://api.openalex.org:443 \"GET /works?filter=has_doi:true,concepts_count:%3E0,publication_year:2021&sample=200&per-page=200 HTTP/1.1\" 200 393112\n"
          ]
        },
        {
          "name": "stdout",
          "output_type": "stream",
          "text": [
            "plus que 257 publications pour completer l'année 2021\n"
          ]
        },
        {
          "name": "stderr",
          "output_type": "stream",
          "text": [
            "DEBUG:urllib3.connectionpool:Starting new HTTPS connection (1): api.openalex.org:443\n",
            "DEBUG:urllib3.connectionpool:https://api.openalex.org:443 \"GET /works?filter=has_doi:true,concepts_count:%3E0,publication_year:2021&sample=200&per-page=200 HTTP/1.1\" 200 363781\n"
          ]
        },
        {
          "name": "stdout",
          "output_type": "stream",
          "text": [
            "plus que 149 publications pour completer l'année 2021\n"
          ]
        },
        {
          "name": "stderr",
          "output_type": "stream",
          "text": [
            "DEBUG:urllib3.connectionpool:Starting new HTTPS connection (1): api.openalex.org:443\n",
            "DEBUG:urllib3.connectionpool:https://api.openalex.org:443 \"GET /works?filter=has_doi:true,concepts_count:%3E0,publication_year:2021&sample=200&per-page=200 HTTP/1.1\" 200 341782\n"
          ]
        },
        {
          "name": "stdout",
          "output_type": "stream",
          "text": [
            "plus que 49 publications pour completer l'année 2021\n"
          ]
        },
        {
          "name": "stderr",
          "output_type": "stream",
          "text": [
            "DEBUG:urllib3.connectionpool:Starting new HTTPS connection (1): api.openalex.org:443\n",
            "DEBUG:urllib3.connectionpool:https://api.openalex.org:443 \"GET /works?filter=has_doi:true,concepts_count:%3E0,publication_year:2013&sample=200&per-page=200 HTTP/1.1\" 200 287416\n"
          ]
        },
        {
          "name": "stdout",
          "output_type": "stream",
          "text": [
            "plus que 2333 publications pour completer l'année 2013\n"
          ]
        },
        {
          "name": "stderr",
          "output_type": "stream",
          "text": [
            "DEBUG:urllib3.connectionpool:Starting new HTTPS connection (1): api.openalex.org:443\n",
            "DEBUG:urllib3.connectionpool:https://api.openalex.org:443 \"GET /works?filter=has_doi:true,concepts_count:%3E0,publication_year:2013&sample=200&per-page=200 HTTP/1.1\" 200 295238\n"
          ]
        },
        {
          "name": "stdout",
          "output_type": "stream",
          "text": [
            "plus que 2212 publications pour completer l'année 2013\n"
          ]
        },
        {
          "name": "stderr",
          "output_type": "stream",
          "text": [
            "DEBUG:urllib3.connectionpool:Starting new HTTPS connection (1): api.openalex.org:443\n",
            "DEBUG:urllib3.connectionpool:https://api.openalex.org:443 \"GET /works?filter=has_doi:true,concepts_count:%3E0,publication_year:2013&sample=200&per-page=200 HTTP/1.1\" 200 306937\n"
          ]
        },
        {
          "name": "stdout",
          "output_type": "stream",
          "text": [
            "plus que 2098 publications pour completer l'année 2013\n"
          ]
        },
        {
          "name": "stderr",
          "output_type": "stream",
          "text": [
            "DEBUG:urllib3.connectionpool:Starting new HTTPS connection (1): api.openalex.org:443\n",
            "DEBUG:urllib3.connectionpool:https://api.openalex.org:443 \"GET /works?filter=has_doi:true,concepts_count:%3E0,publication_year:2013&sample=200&per-page=200 HTTP/1.1\" 200 279705\n"
          ]
        },
        {
          "name": "stdout",
          "output_type": "stream",
          "text": [
            "plus que 1995 publications pour completer l'année 2013\n"
          ]
        },
        {
          "name": "stderr",
          "output_type": "stream",
          "text": [
            "DEBUG:urllib3.connectionpool:Starting new HTTPS connection (1): api.openalex.org:443\n",
            "DEBUG:urllib3.connectionpool:https://api.openalex.org:443 \"GET /works?filter=has_doi:true,concepts_count:%3E0,publication_year:2013&sample=200&per-page=200 HTTP/1.1\" 200 296385\n"
          ]
        },
        {
          "name": "stdout",
          "output_type": "stream",
          "text": [
            "plus que 1901 publications pour completer l'année 2013\n"
          ]
        },
        {
          "name": "stderr",
          "output_type": "stream",
          "text": [
            "DEBUG:urllib3.connectionpool:Starting new HTTPS connection (1): api.openalex.org:443\n",
            "DEBUG:urllib3.connectionpool:https://api.openalex.org:443 \"GET /works?filter=has_doi:true,concepts_count:%3E0,publication_year:2013&sample=200&per-page=200 HTTP/1.1\" 200 311636\n"
          ]
        },
        {
          "name": "stdout",
          "output_type": "stream",
          "text": [
            "plus que 1784 publications pour completer l'année 2013\n"
          ]
        },
        {
          "name": "stderr",
          "output_type": "stream",
          "text": [
            "DEBUG:urllib3.connectionpool:Starting new HTTPS connection (1): api.openalex.org:443\n",
            "DEBUG:urllib3.connectionpool:https://api.openalex.org:443 \"GET /works?filter=has_doi:true,concepts_count:%3E0,publication_year:2013&sample=200&per-page=200 HTTP/1.1\" 200 285404\n"
          ]
        },
        {
          "name": "stdout",
          "output_type": "stream",
          "text": [
            "plus que 1658 publications pour completer l'année 2013\n"
          ]
        },
        {
          "name": "stderr",
          "output_type": "stream",
          "text": [
            "DEBUG:urllib3.connectionpool:Starting new HTTPS connection (1): api.openalex.org:443\n",
            "DEBUG:urllib3.connectionpool:https://api.openalex.org:443 \"GET /works?filter=has_doi:true,concepts_count:%3E0,publication_year:2013&sample=200&per-page=200 HTTP/1.1\" 200 286100\n"
          ]
        },
        {
          "name": "stdout",
          "output_type": "stream",
          "text": [
            "plus que 1551 publications pour completer l'année 2013\n"
          ]
        },
        {
          "name": "stderr",
          "output_type": "stream",
          "text": [
            "DEBUG:urllib3.connectionpool:Starting new HTTPS connection (1): api.openalex.org:443\n",
            "DEBUG:urllib3.connectionpool:https://api.openalex.org:443 \"GET /works?filter=has_doi:true,concepts_count:%3E0,publication_year:2013&sample=200&per-page=200 HTTP/1.1\" 200 301643\n"
          ]
        },
        {
          "name": "stdout",
          "output_type": "stream",
          "text": [
            "plus que 1445 publications pour completer l'année 2013\n"
          ]
        },
        {
          "name": "stderr",
          "output_type": "stream",
          "text": [
            "DEBUG:urllib3.connectionpool:Starting new HTTPS connection (1): api.openalex.org:443\n",
            "DEBUG:urllib3.connectionpool:https://api.openalex.org:443 \"GET /works?filter=has_doi:true,concepts_count:%3E0,publication_year:2013&sample=200&per-page=200 HTTP/1.1\" 200 305441\n"
          ]
        },
        {
          "name": "stdout",
          "output_type": "stream",
          "text": [
            "plus que 1338 publications pour completer l'année 2013\n"
          ]
        },
        {
          "name": "stderr",
          "output_type": "stream",
          "text": [
            "DEBUG:urllib3.connectionpool:Starting new HTTPS connection (1): api.openalex.org:443\n",
            "DEBUG:urllib3.connectionpool:https://api.openalex.org:443 \"GET /works?filter=has_doi:true,concepts_count:%3E0,publication_year:2013&sample=200&per-page=200 HTTP/1.1\" 200 293342\n"
          ]
        },
        {
          "name": "stdout",
          "output_type": "stream",
          "text": [
            "plus que 1216 publications pour completer l'année 2013\n"
          ]
        },
        {
          "name": "stderr",
          "output_type": "stream",
          "text": [
            "DEBUG:urllib3.connectionpool:Starting new HTTPS connection (1): api.openalex.org:443\n",
            "DEBUG:urllib3.connectionpool:https://api.openalex.org:443 \"GET /works?filter=has_doi:true,concepts_count:%3E0,publication_year:2013&sample=200&per-page=200 HTTP/1.1\" 200 295367\n"
          ]
        },
        {
          "name": "stdout",
          "output_type": "stream",
          "text": [
            "plus que 1097 publications pour completer l'année 2013\n"
          ]
        },
        {
          "name": "stderr",
          "output_type": "stream",
          "text": [
            "DEBUG:urllib3.connectionpool:Starting new HTTPS connection (1): api.openalex.org:443\n",
            "DEBUG:urllib3.connectionpool:https://api.openalex.org:443 \"GET /works?filter=has_doi:true,concepts_count:%3E0,publication_year:2013&sample=200&per-page=200 HTTP/1.1\" 200 284696\n"
          ]
        },
        {
          "name": "stdout",
          "output_type": "stream",
          "text": [
            "plus que 989 publications pour completer l'année 2013\n"
          ]
        },
        {
          "name": "stderr",
          "output_type": "stream",
          "text": [
            "DEBUG:urllib3.connectionpool:Starting new HTTPS connection (1): api.openalex.org:443\n",
            "DEBUG:urllib3.connectionpool:https://api.openalex.org:443 \"GET /works?filter=has_doi:true,concepts_count:%3E0,publication_year:2013&sample=200&per-page=200 HTTP/1.1\" 200 304245\n"
          ]
        },
        {
          "name": "stdout",
          "output_type": "stream",
          "text": [
            "plus que 887 publications pour completer l'année 2013\n"
          ]
        },
        {
          "name": "stderr",
          "output_type": "stream",
          "text": [
            "DEBUG:urllib3.connectionpool:Starting new HTTPS connection (1): api.openalex.org:443\n",
            "DEBUG:urllib3.connectionpool:https://api.openalex.org:443 \"GET /works?filter=has_doi:true,concepts_count:%3E0,publication_year:2013&sample=200&per-page=200 HTTP/1.1\" 200 294407\n"
          ]
        },
        {
          "name": "stdout",
          "output_type": "stream",
          "text": [
            "plus que 770 publications pour completer l'année 2013\n"
          ]
        },
        {
          "name": "stderr",
          "output_type": "stream",
          "text": [
            "DEBUG:urllib3.connectionpool:Starting new HTTPS connection (1): api.openalex.org:443\n",
            "DEBUG:urllib3.connectionpool:https://api.openalex.org:443 \"GET /works?filter=has_doi:true,concepts_count:%3E0,publication_year:2013&sample=200&per-page=200 HTTP/1.1\" 200 292152\n"
          ]
        },
        {
          "name": "stdout",
          "output_type": "stream",
          "text": [
            "plus que 652 publications pour completer l'année 2013\n"
          ]
        },
        {
          "name": "stderr",
          "output_type": "stream",
          "text": [
            "DEBUG:urllib3.connectionpool:Starting new HTTPS connection (1): api.openalex.org:443\n",
            "DEBUG:urllib3.connectionpool:https://api.openalex.org:443 \"GET /works?filter=has_doi:true,concepts_count:%3E0,publication_year:2013&sample=200&per-page=200 HTTP/1.1\" 200 344000\n"
          ]
        },
        {
          "name": "stdout",
          "output_type": "stream",
          "text": [
            "plus que 534 publications pour completer l'année 2013\n"
          ]
        },
        {
          "name": "stderr",
          "output_type": "stream",
          "text": [
            "DEBUG:urllib3.connectionpool:Starting new HTTPS connection (1): api.openalex.org:443\n",
            "DEBUG:urllib3.connectionpool:https://api.openalex.org:443 \"GET /works?filter=has_doi:true,concepts_count:%3E0,publication_year:2013&sample=200&per-page=200 HTTP/1.1\" 200 296286\n"
          ]
        },
        {
          "name": "stdout",
          "output_type": "stream",
          "text": [
            "plus que 413 publications pour completer l'année 2013\n"
          ]
        },
        {
          "name": "stderr",
          "output_type": "stream",
          "text": [
            "DEBUG:urllib3.connectionpool:Starting new HTTPS connection (1): api.openalex.org:443\n",
            "DEBUG:urllib3.connectionpool:https://api.openalex.org:443 \"GET /works?filter=has_doi:true,concepts_count:%3E0,publication_year:2013&sample=200&per-page=200 HTTP/1.1\" 200 304281\n"
          ]
        },
        {
          "name": "stdout",
          "output_type": "stream",
          "text": [
            "plus que 296 publications pour completer l'année 2013\n"
          ]
        },
        {
          "name": "stderr",
          "output_type": "stream",
          "text": [
            "DEBUG:urllib3.connectionpool:Starting new HTTPS connection (1): api.openalex.org:443\n",
            "DEBUG:urllib3.connectionpool:https://api.openalex.org:443 \"GET /works?filter=has_doi:true,concepts_count:%3E0,publication_year:2013&sample=200&per-page=200 HTTP/1.1\" 200 295194\n"
          ]
        },
        {
          "name": "stdout",
          "output_type": "stream",
          "text": [
            "plus que 183 publications pour completer l'année 2013\n"
          ]
        },
        {
          "name": "stderr",
          "output_type": "stream",
          "text": [
            "DEBUG:urllib3.connectionpool:Starting new HTTPS connection (1): api.openalex.org:443\n",
            "DEBUG:urllib3.connectionpool:https://api.openalex.org:443 \"GET /works?filter=has_doi:true,concepts_count:%3E0,publication_year:2013&sample=200&per-page=200 HTTP/1.1\" 200 298654\n"
          ]
        },
        {
          "name": "stdout",
          "output_type": "stream",
          "text": [
            "plus que 63 publications pour completer l'année 2013\n"
          ]
        },
        {
          "name": "stderr",
          "output_type": "stream",
          "text": [
            "DEBUG:urllib3.connectionpool:Starting new HTTPS connection (1): api.openalex.org:443\n",
            "DEBUG:urllib3.connectionpool:https://api.openalex.org:443 \"GET /works?filter=has_doi:true,concepts_count:%3E0,publication_year:2012&sample=200&per-page=200 HTTP/1.1\" 200 287614\n"
          ]
        },
        {
          "name": "stdout",
          "output_type": "stream",
          "text": [
            "plus que 1336 publications pour completer l'année 2012\n"
          ]
        },
        {
          "name": "stderr",
          "output_type": "stream",
          "text": [
            "DEBUG:urllib3.connectionpool:Starting new HTTPS connection (1): api.openalex.org:443\n",
            "DEBUG:urllib3.connectionpool:https://api.openalex.org:443 \"GET /works?filter=has_doi:true,concepts_count:%3E0,publication_year:2012&sample=200&per-page=200 HTTP/1.1\" 200 271863\n"
          ]
        },
        {
          "name": "stdout",
          "output_type": "stream",
          "text": [
            "plus que 1232 publications pour completer l'année 2012\n"
          ]
        },
        {
          "name": "stderr",
          "output_type": "stream",
          "text": [
            "DEBUG:urllib3.connectionpool:Starting new HTTPS connection (1): api.openalex.org:443\n",
            "DEBUG:urllib3.connectionpool:https://api.openalex.org:443 \"GET /works?filter=has_doi:true,concepts_count:%3E0,publication_year:2012&sample=200&per-page=200 HTTP/1.1\" 200 285793\n"
          ]
        },
        {
          "name": "stdout",
          "output_type": "stream",
          "text": [
            "plus que 1133 publications pour completer l'année 2012\n"
          ]
        },
        {
          "name": "stderr",
          "output_type": "stream",
          "text": [
            "DEBUG:urllib3.connectionpool:Starting new HTTPS connection (1): api.openalex.org:443\n",
            "DEBUG:urllib3.connectionpool:https://api.openalex.org:443 \"GET /works?filter=has_doi:true,concepts_count:%3E0,publication_year:2012&sample=200&per-page=200 HTTP/1.1\" 200 283982\n"
          ]
        },
        {
          "name": "stdout",
          "output_type": "stream",
          "text": [
            "plus que 1020 publications pour completer l'année 2012\n"
          ]
        },
        {
          "name": "stderr",
          "output_type": "stream",
          "text": [
            "DEBUG:urllib3.connectionpool:Starting new HTTPS connection (1): api.openalex.org:443\n",
            "DEBUG:urllib3.connectionpool:https://api.openalex.org:443 \"GET /works?filter=has_doi:true,concepts_count:%3E0,publication_year:2012&sample=200&per-page=200 HTTP/1.1\" 200 311092\n"
          ]
        },
        {
          "name": "stdout",
          "output_type": "stream",
          "text": [
            "plus que 912 publications pour completer l'année 2012\n"
          ]
        },
        {
          "name": "stderr",
          "output_type": "stream",
          "text": [
            "DEBUG:urllib3.connectionpool:Starting new HTTPS connection (1): api.openalex.org:443\n",
            "DEBUG:urllib3.connectionpool:https://api.openalex.org:443 \"GET /works?filter=has_doi:true,concepts_count:%3E0,publication_year:2012&sample=200&per-page=200 HTTP/1.1\" 200 277502\n"
          ]
        },
        {
          "name": "stdout",
          "output_type": "stream",
          "text": [
            "plus que 791 publications pour completer l'année 2012\n"
          ]
        },
        {
          "name": "stderr",
          "output_type": "stream",
          "text": [
            "DEBUG:urllib3.connectionpool:Starting new HTTPS connection (1): api.openalex.org:443\n",
            "DEBUG:urllib3.connectionpool:https://api.openalex.org:443 \"GET /works?filter=has_doi:true,concepts_count:%3E0,publication_year:2012&sample=200&per-page=200 HTTP/1.1\" 200 286025\n"
          ]
        },
        {
          "name": "stdout",
          "output_type": "stream",
          "text": [
            "plus que 682 publications pour completer l'année 2012\n"
          ]
        },
        {
          "name": "stderr",
          "output_type": "stream",
          "text": [
            "DEBUG:urllib3.connectionpool:Starting new HTTPS connection (1): api.openalex.org:443\n",
            "DEBUG:urllib3.connectionpool:https://api.openalex.org:443 \"GET /works?filter=has_doi:true,concepts_count:%3E0,publication_year:2012&sample=200&per-page=200 HTTP/1.1\" 200 283805\n"
          ]
        },
        {
          "name": "stdout",
          "output_type": "stream",
          "text": [
            "plus que 569 publications pour completer l'année 2012\n"
          ]
        },
        {
          "name": "stderr",
          "output_type": "stream",
          "text": [
            "DEBUG:urllib3.connectionpool:Starting new HTTPS connection (1): api.openalex.org:443\n",
            "DEBUG:urllib3.connectionpool:https://api.openalex.org:443 \"GET /works?filter=has_doi:true,concepts_count:%3E0,publication_year:2012&sample=200&per-page=200 HTTP/1.1\" 200 291883\n"
          ]
        },
        {
          "name": "stdout",
          "output_type": "stream",
          "text": [
            "plus que 470 publications pour completer l'année 2012\n"
          ]
        },
        {
          "name": "stderr",
          "output_type": "stream",
          "text": [
            "DEBUG:urllib3.connectionpool:Starting new HTTPS connection (1): api.openalex.org:443\n",
            "DEBUG:urllib3.connectionpool:https://api.openalex.org:443 \"GET /works?filter=has_doi:true,concepts_count:%3E0,publication_year:2012&sample=200&per-page=200 HTTP/1.1\" 200 289808\n"
          ]
        },
        {
          "name": "stdout",
          "output_type": "stream",
          "text": [
            "plus que 361 publications pour completer l'année 2012\n"
          ]
        },
        {
          "name": "stderr",
          "output_type": "stream",
          "text": [
            "DEBUG:urllib3.connectionpool:Starting new HTTPS connection (1): api.openalex.org:443\n",
            "DEBUG:urllib3.connectionpool:https://api.openalex.org:443 \"GET /works?filter=has_doi:true,concepts_count:%3E0,publication_year:2012&sample=200&per-page=200 HTTP/1.1\" 200 293694\n"
          ]
        },
        {
          "name": "stdout",
          "output_type": "stream",
          "text": [
            "plus que 260 publications pour completer l'année 2012\n"
          ]
        },
        {
          "name": "stderr",
          "output_type": "stream",
          "text": [
            "DEBUG:urllib3.connectionpool:Starting new HTTPS connection (1): api.openalex.org:443\n",
            "DEBUG:urllib3.connectionpool:https://api.openalex.org:443 \"GET /works?filter=has_doi:true,concepts_count:%3E0,publication_year:2012&sample=200&per-page=200 HTTP/1.1\" 200 295763\n"
          ]
        },
        {
          "name": "stdout",
          "output_type": "stream",
          "text": [
            "plus que 131 publications pour completer l'année 2012\n"
          ]
        },
        {
          "name": "stderr",
          "output_type": "stream",
          "text": [
            "DEBUG:urllib3.connectionpool:Starting new HTTPS connection (1): api.openalex.org:443\n",
            "DEBUG:urllib3.connectionpool:https://api.openalex.org:443 \"GET /works?filter=has_doi:true,concepts_count:%3E0,publication_year:2012&sample=200&per-page=200 HTTP/1.1\" 200 305417\n"
          ]
        },
        {
          "name": "stdout",
          "output_type": "stream",
          "text": [
            "plus que 21 publications pour completer l'année 2012\n"
          ]
        },
        {
          "name": "stderr",
          "output_type": "stream",
          "text": [
            "DEBUG:urllib3.connectionpool:Starting new HTTPS connection (1): api.openalex.org:443\n",
            "DEBUG:urllib3.connectionpool:https://api.openalex.org:443 \"GET /works?filter=has_doi:true,concepts_count:%3E0,publication_year:2011&sample=200&per-page=200 HTTP/1.1\" 200 281367\n"
          ]
        },
        {
          "name": "stdout",
          "output_type": "stream",
          "text": [
            "plus que 935 publications pour completer l'année 2011\n"
          ]
        },
        {
          "name": "stderr",
          "output_type": "stream",
          "text": [
            "DEBUG:urllib3.connectionpool:Starting new HTTPS connection (1): api.openalex.org:443\n",
            "DEBUG:urllib3.connectionpool:https://api.openalex.org:443 \"GET /works?filter=has_doi:true,concepts_count:%3E0,publication_year:2011&sample=200&per-page=200 HTTP/1.1\" 200 313770\n"
          ]
        },
        {
          "name": "stdout",
          "output_type": "stream",
          "text": [
            "plus que 831 publications pour completer l'année 2011\n"
          ]
        },
        {
          "name": "stderr",
          "output_type": "stream",
          "text": [
            "DEBUG:urllib3.connectionpool:Starting new HTTPS connection (1): api.openalex.org:443\n",
            "DEBUG:urllib3.connectionpool:https://api.openalex.org:443 \"GET /works?filter=has_doi:true,concepts_count:%3E0,publication_year:2011&sample=200&per-page=200 HTTP/1.1\" 200 280003\n"
          ]
        },
        {
          "name": "stdout",
          "output_type": "stream",
          "text": [
            "plus que 718 publications pour completer l'année 2011\n"
          ]
        },
        {
          "name": "stderr",
          "output_type": "stream",
          "text": [
            "DEBUG:urllib3.connectionpool:Starting new HTTPS connection (1): api.openalex.org:443\n",
            "DEBUG:urllib3.connectionpool:https://api.openalex.org:443 \"GET /works?filter=has_doi:true,concepts_count:%3E0,publication_year:2011&sample=200&per-page=200 HTTP/1.1\" 200 316066\n"
          ]
        },
        {
          "name": "stdout",
          "output_type": "stream",
          "text": [
            "plus que 611 publications pour completer l'année 2011\n"
          ]
        },
        {
          "name": "stderr",
          "output_type": "stream",
          "text": [
            "DEBUG:urllib3.connectionpool:Starting new HTTPS connection (1): api.openalex.org:443\n",
            "DEBUG:urllib3.connectionpool:https://api.openalex.org:443 \"GET /works?filter=has_doi:true,concepts_count:%3E0,publication_year:2011&sample=200&per-page=200 HTTP/1.1\" 200 306667\n"
          ]
        },
        {
          "name": "stdout",
          "output_type": "stream",
          "text": [
            "plus que 486 publications pour completer l'année 2011\n"
          ]
        },
        {
          "name": "stderr",
          "output_type": "stream",
          "text": [
            "DEBUG:urllib3.connectionpool:Starting new HTTPS connection (1): api.openalex.org:443\n",
            "DEBUG:urllib3.connectionpool:https://api.openalex.org:443 \"GET /works?filter=has_doi:true,concepts_count:%3E0,publication_year:2011&sample=200&per-page=200 HTTP/1.1\" 200 292903\n"
          ]
        },
        {
          "name": "stdout",
          "output_type": "stream",
          "text": [
            "plus que 376 publications pour completer l'année 2011\n"
          ]
        },
        {
          "name": "stderr",
          "output_type": "stream",
          "text": [
            "DEBUG:urllib3.connectionpool:Starting new HTTPS connection (1): api.openalex.org:443\n",
            "DEBUG:urllib3.connectionpool:https://api.openalex.org:443 \"GET /works?filter=has_doi:true,concepts_count:%3E0,publication_year:2011&sample=200&per-page=200 HTTP/1.1\" 200 268292\n"
          ]
        },
        {
          "name": "stdout",
          "output_type": "stream",
          "text": [
            "plus que 263 publications pour completer l'année 2011\n"
          ]
        },
        {
          "name": "stderr",
          "output_type": "stream",
          "text": [
            "DEBUG:urllib3.connectionpool:Starting new HTTPS connection (1): api.openalex.org:443\n",
            "DEBUG:urllib3.connectionpool:https://api.openalex.org:443 \"GET /works?filter=has_doi:true,concepts_count:%3E0,publication_year:2011&sample=200&per-page=200 HTTP/1.1\" 200 268963\n"
          ]
        },
        {
          "name": "stdout",
          "output_type": "stream",
          "text": [
            "plus que 134 publications pour completer l'année 2011\n"
          ]
        },
        {
          "name": "stderr",
          "output_type": "stream",
          "text": [
            "DEBUG:urllib3.connectionpool:Starting new HTTPS connection (1): api.openalex.org:443\n",
            "DEBUG:urllib3.connectionpool:https://api.openalex.org:443 \"GET /works?filter=has_doi:true,concepts_count:%3E0,publication_year:2011&sample=200&per-page=200 HTTP/1.1\" 200 293837\n"
          ]
        },
        {
          "name": "stdout",
          "output_type": "stream",
          "text": [
            "plus que 25 publications pour completer l'année 2011\n"
          ]
        },
        {
          "name": "stderr",
          "output_type": "stream",
          "text": [
            "DEBUG:urllib3.connectionpool:Starting new HTTPS connection (1): api.openalex.org:443\n",
            "DEBUG:urllib3.connectionpool:https://api.openalex.org:443 \"GET /works?filter=has_doi:true,concepts_count:%3E0,publication_year:2010&sample=200&per-page=200 HTTP/1.1\" 200 287811\n"
          ]
        },
        {
          "name": "stdout",
          "output_type": "stream",
          "text": [
            "plus que 778 publications pour completer l'année 2010\n"
          ]
        },
        {
          "name": "stderr",
          "output_type": "stream",
          "text": [
            "DEBUG:urllib3.connectionpool:Starting new HTTPS connection (1): api.openalex.org:443\n",
            "DEBUG:urllib3.connectionpool:https://api.openalex.org:443 \"GET /works?filter=has_doi:true,concepts_count:%3E0,publication_year:2010&sample=200&per-page=200 HTTP/1.1\" 200 285746\n"
          ]
        },
        {
          "name": "stdout",
          "output_type": "stream",
          "text": [
            "plus que 668 publications pour completer l'année 2010\n"
          ]
        },
        {
          "name": "stderr",
          "output_type": "stream",
          "text": [
            "DEBUG:urllib3.connectionpool:Starting new HTTPS connection (1): api.openalex.org:443\n",
            "DEBUG:urllib3.connectionpool:https://api.openalex.org:443 \"GET /works?filter=has_doi:true,concepts_count:%3E0,publication_year:2010&sample=200&per-page=200 HTTP/1.1\" 200 292785\n"
          ]
        },
        {
          "name": "stdout",
          "output_type": "stream",
          "text": [
            "plus que 570 publications pour completer l'année 2010\n"
          ]
        },
        {
          "name": "stderr",
          "output_type": "stream",
          "text": [
            "DEBUG:urllib3.connectionpool:Starting new HTTPS connection (1): api.openalex.org:443\n",
            "DEBUG:urllib3.connectionpool:https://api.openalex.org:443 \"GET /works?filter=has_doi:true,concepts_count:%3E0,publication_year:2010&sample=200&per-page=200 HTTP/1.1\" 200 278677\n"
          ]
        },
        {
          "name": "stdout",
          "output_type": "stream",
          "text": [
            "plus que 457 publications pour completer l'année 2010\n"
          ]
        },
        {
          "name": "stderr",
          "output_type": "stream",
          "text": [
            "DEBUG:urllib3.connectionpool:Starting new HTTPS connection (1): api.openalex.org:443\n",
            "DEBUG:urllib3.connectionpool:https://api.openalex.org:443 \"GET /works?filter=has_doi:true,concepts_count:%3E0,publication_year:2010&sample=200&per-page=200 HTTP/1.1\" 200 291522\n"
          ]
        },
        {
          "name": "stdout",
          "output_type": "stream",
          "text": [
            "plus que 354 publications pour completer l'année 2010\n"
          ]
        },
        {
          "name": "stderr",
          "output_type": "stream",
          "text": [
            "DEBUG:urllib3.connectionpool:Starting new HTTPS connection (1): api.openalex.org:443\n",
            "DEBUG:urllib3.connectionpool:https://api.openalex.org:443 \"GET /works?filter=has_doi:true,concepts_count:%3E0,publication_year:2010&sample=200&per-page=200 HTTP/1.1\" 200 295279\n"
          ]
        },
        {
          "name": "stdout",
          "output_type": "stream",
          "text": [
            "plus que 230 publications pour completer l'année 2010\n"
          ]
        },
        {
          "name": "stderr",
          "output_type": "stream",
          "text": [
            "DEBUG:urllib3.connectionpool:Starting new HTTPS connection (1): api.openalex.org:443\n",
            "DEBUG:urllib3.connectionpool:https://api.openalex.org:443 \"GET /works?filter=has_doi:true,concepts_count:%3E0,publication_year:2010&sample=200&per-page=200 HTTP/1.1\" 200 280583\n"
          ]
        },
        {
          "name": "stdout",
          "output_type": "stream",
          "text": [
            "plus que 122 publications pour completer l'année 2010\n"
          ]
        },
        {
          "name": "stderr",
          "output_type": "stream",
          "text": [
            "DEBUG:urllib3.connectionpool:Starting new HTTPS connection (1): api.openalex.org:443\n",
            "DEBUG:urllib3.connectionpool:https://api.openalex.org:443 \"GET /works?filter=has_doi:true,concepts_count:%3E0,publication_year:2010&sample=200&per-page=200 HTTP/1.1\" 200 322001\n"
          ]
        },
        {
          "name": "stdout",
          "output_type": "stream",
          "text": [
            "plus que 5 publications pour completer l'année 2010\n"
          ]
        },
        {
          "name": "stderr",
          "output_type": "stream",
          "text": [
            "DEBUG:urllib3.connectionpool:Starting new HTTPS connection (1): api.openalex.org:443\n",
            "DEBUG:urllib3.connectionpool:https://api.openalex.org:443 \"GET /works?filter=has_doi:true,concepts_count:%3E0,publication_year:2009&sample=200&per-page=200 HTTP/1.1\" 200 301925\n"
          ]
        },
        {
          "name": "stdout",
          "output_type": "stream",
          "text": [
            "plus que 632 publications pour completer l'année 2009\n"
          ]
        },
        {
          "name": "stderr",
          "output_type": "stream",
          "text": [
            "DEBUG:urllib3.connectionpool:Starting new HTTPS connection (1): api.openalex.org:443\n",
            "DEBUG:urllib3.connectionpool:https://api.openalex.org:443 \"GET /works?filter=has_doi:true,concepts_count:%3E0,publication_year:2009&sample=200&per-page=200 HTTP/1.1\" 200 278372\n"
          ]
        },
        {
          "name": "stdout",
          "output_type": "stream",
          "text": [
            "plus que 516 publications pour completer l'année 2009\n"
          ]
        },
        {
          "name": "stderr",
          "output_type": "stream",
          "text": [
            "DEBUG:urllib3.connectionpool:Starting new HTTPS connection (1): api.openalex.org:443\n",
            "DEBUG:urllib3.connectionpool:https://api.openalex.org:443 \"GET /works?filter=has_doi:true,concepts_count:%3E0,publication_year:2009&sample=200&per-page=200 HTTP/1.1\" 200 304732\n"
          ]
        },
        {
          "name": "stdout",
          "output_type": "stream",
          "text": [
            "plus que 403 publications pour completer l'année 2009\n"
          ]
        },
        {
          "name": "stderr",
          "output_type": "stream",
          "text": [
            "DEBUG:urllib3.connectionpool:Starting new HTTPS connection (1): api.openalex.org:443\n",
            "DEBUG:urllib3.connectionpool:https://api.openalex.org:443 \"GET /works?filter=has_doi:true,concepts_count:%3E0,publication_year:2009&sample=200&per-page=200 HTTP/1.1\" 200 280814\n"
          ]
        },
        {
          "name": "stdout",
          "output_type": "stream",
          "text": [
            "plus que 290 publications pour completer l'année 2009\n"
          ]
        },
        {
          "name": "stderr",
          "output_type": "stream",
          "text": [
            "DEBUG:urllib3.connectionpool:Starting new HTTPS connection (1): api.openalex.org:443\n",
            "DEBUG:urllib3.connectionpool:https://api.openalex.org:443 \"GET /works?filter=has_doi:true,concepts_count:%3E0,publication_year:2009&sample=200&per-page=200 HTTP/1.1\" 200 289096\n"
          ]
        },
        {
          "name": "stdout",
          "output_type": "stream",
          "text": [
            "plus que 179 publications pour completer l'année 2009\n"
          ]
        },
        {
          "name": "stderr",
          "output_type": "stream",
          "text": [
            "DEBUG:urllib3.connectionpool:Starting new HTTPS connection (1): api.openalex.org:443\n",
            "DEBUG:urllib3.connectionpool:https://api.openalex.org:443 \"GET /works?filter=has_doi:true,concepts_count:%3E0,publication_year:2009&sample=200&per-page=200 HTTP/1.1\" 200 280950\n"
          ]
        },
        {
          "name": "stdout",
          "output_type": "stream",
          "text": [
            "plus que 61 publications pour completer l'année 2009\n"
          ]
        },
        {
          "name": "stderr",
          "output_type": "stream",
          "text": [
            "DEBUG:urllib3.connectionpool:Starting new HTTPS connection (1): api.openalex.org:443\n",
            "DEBUG:urllib3.connectionpool:https://api.openalex.org:443 \"GET /works?filter=has_doi:true,concepts_count:%3E0,publication_year:2008&sample=200&per-page=200 HTTP/1.1\" 200 272786\n"
          ]
        },
        {
          "name": "stdout",
          "output_type": "stream",
          "text": [
            "plus que 425 publications pour completer l'année 2008\n"
          ]
        },
        {
          "name": "stderr",
          "output_type": "stream",
          "text": [
            "DEBUG:urllib3.connectionpool:Starting new HTTPS connection (1): api.openalex.org:443\n",
            "DEBUG:urllib3.connectionpool:https://api.openalex.org:443 \"GET /works?filter=has_doi:true,concepts_count:%3E0,publication_year:2008&sample=200&per-page=200 HTTP/1.1\" 200 274718\n"
          ]
        },
        {
          "name": "stdout",
          "output_type": "stream",
          "text": [
            "plus que 315 publications pour completer l'année 2008\n"
          ]
        },
        {
          "name": "stderr",
          "output_type": "stream",
          "text": [
            "DEBUG:urllib3.connectionpool:Starting new HTTPS connection (1): api.openalex.org:443\n",
            "DEBUG:urllib3.connectionpool:https://api.openalex.org:443 \"GET /works?filter=has_doi:true,concepts_count:%3E0,publication_year:2008&sample=200&per-page=200 HTTP/1.1\" 200 298638\n"
          ]
        },
        {
          "name": "stdout",
          "output_type": "stream",
          "text": [
            "plus que 200 publications pour completer l'année 2008\n"
          ]
        },
        {
          "name": "stderr",
          "output_type": "stream",
          "text": [
            "DEBUG:urllib3.connectionpool:Starting new HTTPS connection (1): api.openalex.org:443\n",
            "DEBUG:urllib3.connectionpool:https://api.openalex.org:443 \"GET /works?filter=has_doi:true,concepts_count:%3E0,publication_year:2008&sample=200&per-page=200 HTTP/1.1\" 200 281594\n"
          ]
        },
        {
          "name": "stdout",
          "output_type": "stream",
          "text": [
            "plus que 72 publications pour completer l'année 2008\n"
          ]
        },
        {
          "name": "stderr",
          "output_type": "stream",
          "text": [
            "DEBUG:urllib3.connectionpool:Starting new HTTPS connection (1): api.openalex.org:443\n",
            "DEBUG:urllib3.connectionpool:https://api.openalex.org:443 \"GET /works?filter=has_doi:true,concepts_count:%3E0,publication_year:2007&sample=200&per-page=200 HTTP/1.1\" 200 274102\n"
          ]
        },
        {
          "name": "stdout",
          "output_type": "stream",
          "text": [
            "plus que 344 publications pour completer l'année 2007\n"
          ]
        },
        {
          "name": "stderr",
          "output_type": "stream",
          "text": [
            "DEBUG:urllib3.connectionpool:Starting new HTTPS connection (1): api.openalex.org:443\n",
            "DEBUG:urllib3.connectionpool:https://api.openalex.org:443 \"GET /works?filter=has_doi:true,concepts_count:%3E0,publication_year:2007&sample=200&per-page=200 HTTP/1.1\" 200 275907\n"
          ]
        },
        {
          "name": "stdout",
          "output_type": "stream",
          "text": [
            "plus que 231 publications pour completer l'année 2007\n"
          ]
        },
        {
          "name": "stderr",
          "output_type": "stream",
          "text": [
            "DEBUG:urllib3.connectionpool:Starting new HTTPS connection (1): api.openalex.org:443\n",
            "DEBUG:urllib3.connectionpool:https://api.openalex.org:443 \"GET /works?filter=has_doi:true,concepts_count:%3E0,publication_year:2007&sample=200&per-page=200 HTTP/1.1\" 200 266807\n"
          ]
        },
        {
          "name": "stdout",
          "output_type": "stream",
          "text": [
            "plus que 121 publications pour completer l'année 2007\n"
          ]
        },
        {
          "name": "stderr",
          "output_type": "stream",
          "text": [
            "DEBUG:urllib3.connectionpool:Starting new HTTPS connection (1): api.openalex.org:443\n",
            "DEBUG:urllib3.connectionpool:https://api.openalex.org:443 \"GET /works?filter=has_doi:true,concepts_count:%3E0,publication_year:2007&sample=200&per-page=200 HTTP/1.1\" 200 308314\n"
          ]
        },
        {
          "name": "stdout",
          "output_type": "stream",
          "text": [
            "plus que 15 publications pour completer l'année 2007\n"
          ]
        },
        {
          "name": "stderr",
          "output_type": "stream",
          "text": [
            "DEBUG:urllib3.connectionpool:Starting new HTTPS connection (1): api.openalex.org:443\n",
            "DEBUG:urllib3.connectionpool:https://api.openalex.org:443 \"GET /works?filter=has_doi:true,concepts_count:%3E0,publication_year:2006&sample=200&per-page=200 HTTP/1.1\" 200 272243\n"
          ]
        },
        {
          "name": "stdout",
          "output_type": "stream",
          "text": [
            "plus que 331 publications pour completer l'année 2006\n"
          ]
        },
        {
          "name": "stderr",
          "output_type": "stream",
          "text": [
            "DEBUG:urllib3.connectionpool:Starting new HTTPS connection (1): api.openalex.org:443\n",
            "DEBUG:urllib3.connectionpool:https://api.openalex.org:443 \"GET /works?filter=has_doi:true,concepts_count:%3E0,publication_year:2006&sample=200&per-page=200 HTTP/1.1\" 200 289006\n"
          ]
        },
        {
          "name": "stdout",
          "output_type": "stream",
          "text": [
            "plus que 207 publications pour completer l'année 2006\n"
          ]
        },
        {
          "name": "stderr",
          "output_type": "stream",
          "text": [
            "DEBUG:urllib3.connectionpool:Starting new HTTPS connection (1): api.openalex.org:443\n",
            "DEBUG:urllib3.connectionpool:https://api.openalex.org:443 \"GET /works?filter=has_doi:true,concepts_count:%3E0,publication_year:2006&sample=200&per-page=200 HTTP/1.1\" 200 282964\n"
          ]
        },
        {
          "name": "stdout",
          "output_type": "stream",
          "text": [
            "plus que 78 publications pour completer l'année 2006\n"
          ]
        },
        {
          "name": "stderr",
          "output_type": "stream",
          "text": [
            "DEBUG:urllib3.connectionpool:Starting new HTTPS connection (1): api.openalex.org:443\n",
            "DEBUG:urllib3.connectionpool:https://api.openalex.org:443 \"GET /works?filter=has_doi:true,concepts_count:%3E0,publication_year:2005&sample=200&per-page=200 HTTP/1.1\" 200 287572\n"
          ]
        },
        {
          "name": "stdout",
          "output_type": "stream",
          "text": [
            "plus que 253 publications pour completer l'année 2005\n"
          ]
        },
        {
          "name": "stderr",
          "output_type": "stream",
          "text": [
            "DEBUG:urllib3.connectionpool:Starting new HTTPS connection (1): api.openalex.org:443\n",
            "DEBUG:urllib3.connectionpool:https://api.openalex.org:443 \"GET /works?filter=has_doi:true,concepts_count:%3E0,publication_year:2005&sample=200&per-page=200 HTTP/1.1\" 200 280396\n"
          ]
        },
        {
          "name": "stdout",
          "output_type": "stream",
          "text": [
            "plus que 134 publications pour completer l'année 2005\n"
          ]
        },
        {
          "name": "stderr",
          "output_type": "stream",
          "text": [
            "DEBUG:urllib3.connectionpool:Starting new HTTPS connection (1): api.openalex.org:443\n",
            "DEBUG:urllib3.connectionpool:https://api.openalex.org:443 \"GET /works?filter=has_doi:true,concepts_count:%3E0,publication_year:2005&sample=200&per-page=200 HTTP/1.1\" 200 281327\n"
          ]
        },
        {
          "name": "stdout",
          "output_type": "stream",
          "text": [
            "plus que 14 publications pour completer l'année 2005\n"
          ]
        },
        {
          "name": "stderr",
          "output_type": "stream",
          "text": [
            "DEBUG:urllib3.connectionpool:Starting new HTTPS connection (1): api.openalex.org:443\n",
            "DEBUG:urllib3.connectionpool:https://api.openalex.org:443 \"GET /works?filter=has_doi:true,concepts_count:%3E0,publication_year:2003&sample=200&per-page=200 HTTP/1.1\" 200 260611\n"
          ]
        },
        {
          "name": "stdout",
          "output_type": "stream",
          "text": [
            "plus que 193 publications pour completer l'année 2003\n"
          ]
        },
        {
          "name": "stderr",
          "output_type": "stream",
          "text": [
            "DEBUG:urllib3.connectionpool:Starting new HTTPS connection (1): api.openalex.org:443\n",
            "DEBUG:urllib3.connectionpool:https://api.openalex.org:443 \"GET /works?filter=has_doi:true,concepts_count:%3E0,publication_year:2003&sample=200&per-page=200 HTTP/1.1\" 200 277415\n"
          ]
        },
        {
          "name": "stdout",
          "output_type": "stream",
          "text": [
            "plus que 72 publications pour completer l'année 2003\n"
          ]
        },
        {
          "name": "stderr",
          "output_type": "stream",
          "text": [
            "DEBUG:urllib3.connectionpool:Starting new HTTPS connection (1): api.openalex.org:443\n",
            "DEBUG:urllib3.connectionpool:https://api.openalex.org:443 \"GET /works?filter=has_doi:true,concepts_count:%3E0,publication_year:2004&sample=200&per-page=200 HTTP/1.1\" 200 294278\n"
          ]
        },
        {
          "name": "stdout",
          "output_type": "stream",
          "text": [
            "plus que 165 publications pour completer l'année 2004\n"
          ]
        },
        {
          "name": "stderr",
          "output_type": "stream",
          "text": [
            "DEBUG:urllib3.connectionpool:Starting new HTTPS connection (1): api.openalex.org:443\n",
            "DEBUG:urllib3.connectionpool:https://api.openalex.org:443 \"GET /works?filter=has_doi:true,concepts_count:%3E0,publication_year:2004&sample=200&per-page=200 HTTP/1.1\" 200 272091\n"
          ]
        },
        {
          "name": "stdout",
          "output_type": "stream",
          "text": [
            "plus que 48 publications pour completer l'année 2004\n"
          ]
        },
        {
          "name": "stderr",
          "output_type": "stream",
          "text": [
            "DEBUG:urllib3.connectionpool:Starting new HTTPS connection (1): api.openalex.org:443\n",
            "DEBUG:urllib3.connectionpool:https://api.openalex.org:443 \"GET /works?filter=has_doi:true,concepts_count:%3E0,publication_year:2002&sample=200&per-page=200 HTTP/1.1\" 200 318583\n"
          ]
        },
        {
          "name": "stdout",
          "output_type": "stream",
          "text": [
            "plus que 143 publications pour completer l'année 2002\n"
          ]
        },
        {
          "name": "stderr",
          "output_type": "stream",
          "text": [
            "DEBUG:urllib3.connectionpool:Starting new HTTPS connection (1): api.openalex.org:443\n",
            "DEBUG:urllib3.connectionpool:https://api.openalex.org:443 \"GET /works?filter=has_doi:true,concepts_count:%3E0,publication_year:2002&sample=200&per-page=200 HTTP/1.1\" 200 265082\n"
          ]
        },
        {
          "name": "stdout",
          "output_type": "stream",
          "text": [
            "plus que 25 publications pour completer l'année 2002\n"
          ]
        },
        {
          "name": "stderr",
          "output_type": "stream",
          "text": [
            "DEBUG:urllib3.connectionpool:Starting new HTTPS connection (1): api.openalex.org:443\n",
            "DEBUG:urllib3.connectionpool:https://api.openalex.org:443 \"GET /works?filter=has_doi:true,concepts_count:%3E0,publication_year:2000&sample=200&per-page=200 HTTP/1.1\" 200 258114\n"
          ]
        },
        {
          "name": "stdout",
          "output_type": "stream",
          "text": [
            "plus que 141 publications pour completer l'année 2000\n"
          ]
        },
        {
          "name": "stderr",
          "output_type": "stream",
          "text": [
            "DEBUG:urllib3.connectionpool:Starting new HTTPS connection (1): api.openalex.org:443\n",
            "DEBUG:urllib3.connectionpool:https://api.openalex.org:443 \"GET /works?filter=has_doi:true,concepts_count:%3E0,publication_year:2000&sample=200&per-page=200 HTTP/1.1\" 200 277569\n"
          ]
        },
        {
          "name": "stdout",
          "output_type": "stream",
          "text": [
            "plus que 10 publications pour completer l'année 2000\n"
          ]
        },
        {
          "name": "stderr",
          "output_type": "stream",
          "text": [
            "DEBUG:urllib3.connectionpool:Starting new HTTPS connection (1): api.openalex.org:443\n",
            "DEBUG:urllib3.connectionpool:https://api.openalex.org:443 \"GET /works?filter=has_doi:true,concepts_count:%3E0,publication_year:2001&sample=200&per-page=200 HTTP/1.1\" 200 295710\n"
          ]
        },
        {
          "name": "stdout",
          "output_type": "stream",
          "text": [
            "plus que 136 publications pour completer l'année 2001\n"
          ]
        },
        {
          "name": "stderr",
          "output_type": "stream",
          "text": [
            "DEBUG:urllib3.connectionpool:Starting new HTTPS connection (1): api.openalex.org:443\n",
            "DEBUG:urllib3.connectionpool:https://api.openalex.org:443 \"GET /works?filter=has_doi:true,concepts_count:%3E0,publication_year:2001&sample=200&per-page=200 HTTP/1.1\" 200 249934\n"
          ]
        },
        {
          "name": "stdout",
          "output_type": "stream",
          "text": [
            "plus que 2 publications pour completer l'année 2001\n"
          ]
        },
        {
          "name": "stderr",
          "output_type": "stream",
          "text": [
            "DEBUG:urllib3.connectionpool:Starting new HTTPS connection (1): api.openalex.org:443\n",
            "DEBUG:urllib3.connectionpool:https://api.openalex.org:443 \"GET /works?filter=has_doi:true,concepts_count:%3E0,publication_year:1999&sample=200&per-page=200 HTTP/1.1\" 200 265820\n"
          ]
        },
        {
          "name": "stdout",
          "output_type": "stream",
          "text": [
            "plus que 110 publications pour completer l'année 1999\n"
          ]
        },
        {
          "name": "stderr",
          "output_type": "stream",
          "text": [
            "DEBUG:urllib3.connectionpool:Starting new HTTPS connection (1): api.openalex.org:443\n",
            "DEBUG:urllib3.connectionpool:https://api.openalex.org:443 \"GET /works?filter=has_doi:true,concepts_count:%3E0,publication_year:1998&sample=200&per-page=200 HTTP/1.1\" 200 282968\n"
          ]
        },
        {
          "name": "stdout",
          "output_type": "stream",
          "text": [
            "plus que 79 publications pour completer l'année 1998\n"
          ]
        },
        {
          "name": "stderr",
          "output_type": "stream",
          "text": [
            "DEBUG:urllib3.connectionpool:Starting new HTTPS connection (1): api.openalex.org:443\n",
            "DEBUG:urllib3.connectionpool:https://api.openalex.org:443 \"GET /works?filter=has_doi:true,concepts_count:%3E0,publication_year:2022&sample=200&per-page=200 HTTP/1.1\" 200 331523\n"
          ]
        },
        {
          "name": "stdout",
          "output_type": "stream",
          "text": [
            "plus que 70 publications pour completer l'année 2022\n"
          ]
        },
        {
          "name": "stderr",
          "output_type": "stream",
          "text": [
            "DEBUG:urllib3.connectionpool:Starting new HTTPS connection (1): api.openalex.org:443\n",
            "DEBUG:urllib3.connectionpool:https://api.openalex.org:443 \"GET /works?filter=has_doi:true,concepts_count:%3E0,publication_year:1997&sample=200&per-page=200 HTTP/1.1\" 200 287715\n"
          ]
        },
        {
          "name": "stdout",
          "output_type": "stream",
          "text": [
            "plus que 57 publications pour completer l'année 1997\n"
          ]
        },
        {
          "name": "stderr",
          "output_type": "stream",
          "text": [
            "DEBUG:urllib3.connectionpool:Starting new HTTPS connection (1): api.openalex.org:443\n",
            "DEBUG:urllib3.connectionpool:https://api.openalex.org:443 \"GET /works?filter=has_doi:true,concepts_count:%3E0,publication_year:1996&sample=200&per-page=200 HTTP/1.1\" 200 273030\n"
          ]
        },
        {
          "name": "stdout",
          "output_type": "stream",
          "text": [
            "plus que 56 publications pour completer l'année 1996\n"
          ]
        },
        {
          "name": "stderr",
          "output_type": "stream",
          "text": [
            "DEBUG:urllib3.connectionpool:Starting new HTTPS connection (1): api.openalex.org:443\n",
            "DEBUG:urllib3.connectionpool:https://api.openalex.org:443 \"GET /works?filter=has_doi:true,concepts_count:%3E0,publication_year:1995&sample=200&per-page=200 HTTP/1.1\" 200 249868\n"
          ]
        },
        {
          "name": "stdout",
          "output_type": "stream",
          "text": [
            "plus que 41 publications pour completer l'année 1995\n"
          ]
        },
        {
          "name": "stderr",
          "output_type": "stream",
          "text": [
            "DEBUG:urllib3.connectionpool:Starting new HTTPS connection (1): api.openalex.org:443\n",
            "DEBUG:urllib3.connectionpool:https://api.openalex.org:443 \"GET /works?filter=has_doi:true,concepts_count:%3E0,publication_year:1994&sample=200&per-page=200 HTTP/1.1\" 200 248630\n"
          ]
        },
        {
          "name": "stdout",
          "output_type": "stream",
          "text": [
            "plus que 31 publications pour completer l'année 1994\n"
          ]
        },
        {
          "name": "stderr",
          "output_type": "stream",
          "text": [
            "DEBUG:urllib3.connectionpool:Starting new HTTPS connection (1): api.openalex.org:443\n",
            "DEBUG:urllib3.connectionpool:https://api.openalex.org:443 \"GET /works?filter=has_doi:true,concepts_count:%3E0,publication_year:1991&sample=200&per-page=200 HTTP/1.1\" 200 225720\n"
          ]
        },
        {
          "name": "stdout",
          "output_type": "stream",
          "text": [
            "plus que 25 publications pour completer l'année 1991\n"
          ]
        },
        {
          "name": "stderr",
          "output_type": "stream",
          "text": [
            "DEBUG:urllib3.connectionpool:Starting new HTTPS connection (1): api.openalex.org:443\n",
            "DEBUG:urllib3.connectionpool:https://api.openalex.org:443 \"GET /works?filter=has_doi:true,concepts_count:%3E0,publication_year:1989&sample=200&per-page=200 HTTP/1.1\" 200 243578\n"
          ]
        },
        {
          "name": "stdout",
          "output_type": "stream",
          "text": [
            "plus que 22 publications pour completer l'année 1989\n"
          ]
        },
        {
          "name": "stderr",
          "output_type": "stream",
          "text": [
            "DEBUG:urllib3.connectionpool:Starting new HTTPS connection (1): api.openalex.org:443\n",
            "DEBUG:urllib3.connectionpool:https://api.openalex.org:443 \"GET /works?filter=has_doi:true,concepts_count:%3E0,publication_year:1992&sample=200&per-page=200 HTTP/1.1\" 200 223231\n"
          ]
        },
        {
          "name": "stdout",
          "output_type": "stream",
          "text": [
            "plus que 21 publications pour completer l'année 1992\n"
          ]
        },
        {
          "name": "stderr",
          "output_type": "stream",
          "text": [
            "DEBUG:urllib3.connectionpool:Starting new HTTPS connection (1): api.openalex.org:443\n",
            "DEBUG:urllib3.connectionpool:https://api.openalex.org:443 \"GET /works?filter=has_doi:true,concepts_count:%3E0,publication_year:1993&sample=200&per-page=200 HTTP/1.1\" 200 247239\n"
          ]
        },
        {
          "name": "stdout",
          "output_type": "stream",
          "text": [
            "plus que 20 publications pour completer l'année 1993\n"
          ]
        },
        {
          "name": "stderr",
          "output_type": "stream",
          "text": [
            "DEBUG:urllib3.connectionpool:Starting new HTTPS connection (1): api.openalex.org:443\n",
            "DEBUG:urllib3.connectionpool:https://api.openalex.org:443 \"GET /works?filter=has_doi:true,concepts_count:%3E0,publication_year:1981&sample=200&per-page=200 HTTP/1.1\" 200 220333\n"
          ]
        },
        {
          "name": "stdout",
          "output_type": "stream",
          "text": [
            "plus que 17 publications pour completer l'année 1981\n"
          ]
        },
        {
          "name": "stderr",
          "output_type": "stream",
          "text": [
            "DEBUG:urllib3.connectionpool:Starting new HTTPS connection (1): api.openalex.org:443\n",
            "DEBUG:urllib3.connectionpool:https://api.openalex.org:443 \"GET /works?filter=has_doi:true,concepts_count:%3E0,publication_year:1990&sample=200&per-page=200 HTTP/1.1\" 200 230659\n"
          ]
        },
        {
          "name": "stdout",
          "output_type": "stream",
          "text": [
            "plus que 16 publications pour completer l'année 1990\n"
          ]
        },
        {
          "name": "stderr",
          "output_type": "stream",
          "text": [
            "DEBUG:urllib3.connectionpool:Starting new HTTPS connection (1): api.openalex.org:443\n",
            "DEBUG:urllib3.connectionpool:https://api.openalex.org:443 \"GET /works?filter=has_doi:true,concepts_count:%3E0,publication_year:1976&sample=200&per-page=200 HTTP/1.1\" 200 207258\n"
          ]
        },
        {
          "name": "stdout",
          "output_type": "stream",
          "text": [
            "plus que 16 publications pour completer l'année 1976\n"
          ]
        },
        {
          "name": "stderr",
          "output_type": "stream",
          "text": [
            "DEBUG:urllib3.connectionpool:Starting new HTTPS connection (1): api.openalex.org:443\n",
            "DEBUG:urllib3.connectionpool:https://api.openalex.org:443 \"GET /works?filter=has_doi:true,concepts_count:%3E0,publication_year:1975&sample=200&per-page=200 HTTP/1.1\" 200 204776\n"
          ]
        },
        {
          "name": "stdout",
          "output_type": "stream",
          "text": [
            "plus que 15 publications pour completer l'année 1975\n"
          ]
        },
        {
          "name": "stderr",
          "output_type": "stream",
          "text": [
            "DEBUG:urllib3.connectionpool:Starting new HTTPS connection (1): api.openalex.org:443\n",
            "DEBUG:urllib3.connectionpool:https://api.openalex.org:443 \"GET /works?filter=has_doi:true,concepts_count:%3E0,publication_year:1987&sample=200&per-page=200 HTTP/1.1\" 200 218811\n"
          ]
        },
        {
          "name": "stdout",
          "output_type": "stream",
          "text": [
            "plus que 13 publications pour completer l'année 1987\n"
          ]
        },
        {
          "name": "stderr",
          "output_type": "stream",
          "text": [
            "DEBUG:urllib3.connectionpool:Starting new HTTPS connection (1): api.openalex.org:443\n",
            "DEBUG:urllib3.connectionpool:https://api.openalex.org:443 \"GET /works?filter=has_doi:true,concepts_count:%3E0,publication_year:1985&sample=200&per-page=200 HTTP/1.1\" 200 212687\n"
          ]
        },
        {
          "name": "stdout",
          "output_type": "stream",
          "text": [
            "plus que 13 publications pour completer l'année 1985\n"
          ]
        },
        {
          "name": "stderr",
          "output_type": "stream",
          "text": [
            "DEBUG:urllib3.connectionpool:Starting new HTTPS connection (1): api.openalex.org:443\n",
            "DEBUG:urllib3.connectionpool:https://api.openalex.org:443 \"GET /works?filter=has_doi:true,concepts_count:%3E0,publication_year:1986&sample=200&per-page=200 HTTP/1.1\" 200 222621\n"
          ]
        },
        {
          "name": "stdout",
          "output_type": "stream",
          "text": [
            "plus que 11 publications pour completer l'année 1986\n"
          ]
        },
        {
          "name": "stderr",
          "output_type": "stream",
          "text": [
            "DEBUG:urllib3.connectionpool:Starting new HTTPS connection (1): api.openalex.org:443\n",
            "DEBUG:urllib3.connectionpool:https://api.openalex.org:443 \"GET /works?filter=has_doi:true,concepts_count:%3E0,publication_year:1988&sample=200&per-page=200 HTTP/1.1\" 200 222023\n"
          ]
        },
        {
          "name": "stdout",
          "output_type": "stream",
          "text": [
            "plus que 9 publications pour completer l'année 1988\n"
          ]
        },
        {
          "name": "stderr",
          "output_type": "stream",
          "text": [
            "DEBUG:urllib3.connectionpool:Starting new HTTPS connection (1): api.openalex.org:443\n",
            "DEBUG:urllib3.connectionpool:https://api.openalex.org:443 \"GET /works?filter=has_doi:true,concepts_count:%3E0,publication_year:1980&sample=200&per-page=200 HTTP/1.1\" 200 222283\n"
          ]
        },
        {
          "name": "stdout",
          "output_type": "stream",
          "text": [
            "plus que 8 publications pour completer l'année 1980\n"
          ]
        },
        {
          "name": "stderr",
          "output_type": "stream",
          "text": [
            "DEBUG:urllib3.connectionpool:Starting new HTTPS connection (1): api.openalex.org:443\n",
            "DEBUG:urllib3.connectionpool:https://api.openalex.org:443 \"GET /works?filter=has_doi:true,concepts_count:%3E0,publication_year:1984&sample=200&per-page=200 HTTP/1.1\" 200 213585\n"
          ]
        },
        {
          "name": "stdout",
          "output_type": "stream",
          "text": [
            "plus que 8 publications pour completer l'année 1984\n"
          ]
        },
        {
          "name": "stderr",
          "output_type": "stream",
          "text": [
            "DEBUG:urllib3.connectionpool:Starting new HTTPS connection (1): api.openalex.org:443\n",
            "DEBUG:urllib3.connectionpool:https://api.openalex.org:443 \"GET /works?filter=has_doi:true,concepts_count:%3E0,publication_year:1965&sample=200&per-page=200 HTTP/1.1\" 200 176190\n"
          ]
        },
        {
          "name": "stdout",
          "output_type": "stream",
          "text": [
            "plus que 8 publications pour completer l'année 1965\n"
          ]
        },
        {
          "name": "stderr",
          "output_type": "stream",
          "text": [
            "DEBUG:urllib3.connectionpool:Starting new HTTPS connection (1): api.openalex.org:443\n",
            "DEBUG:urllib3.connectionpool:https://api.openalex.org:443 \"GET /works?filter=has_doi:true,concepts_count:%3E0,publication_year:1982&sample=200&per-page=200 HTTP/1.1\" 200 212265\n"
          ]
        },
        {
          "name": "stdout",
          "output_type": "stream",
          "text": [
            "plus que 7 publications pour completer l'année 1982\n"
          ]
        },
        {
          "name": "stderr",
          "output_type": "stream",
          "text": [
            "DEBUG:urllib3.connectionpool:Starting new HTTPS connection (1): api.openalex.org:443\n",
            "DEBUG:urllib3.connectionpool:https://api.openalex.org:443 \"GET /works?filter=has_doi:true,concepts_count:%3E0,publication_year:1983&sample=200&per-page=200 HTTP/1.1\" 200 201463\n"
          ]
        },
        {
          "name": "stdout",
          "output_type": "stream",
          "text": [
            "plus que 6 publications pour completer l'année 1983\n"
          ]
        },
        {
          "name": "stderr",
          "output_type": "stream",
          "text": [
            "DEBUG:urllib3.connectionpool:Starting new HTTPS connection (1): api.openalex.org:443\n",
            "DEBUG:urllib3.connectionpool:https://api.openalex.org:443 \"GET /works?filter=has_doi:true,concepts_count:%3E0,publication_year:1978&sample=200&per-page=200 HTTP/1.1\" 200 214719\n"
          ]
        },
        {
          "name": "stdout",
          "output_type": "stream",
          "text": [
            "plus que 6 publications pour completer l'année 1978\n"
          ]
        },
        {
          "name": "stderr",
          "output_type": "stream",
          "text": [
            "DEBUG:urllib3.connectionpool:Starting new HTTPS connection (1): api.openalex.org:443\n",
            "DEBUG:urllib3.connectionpool:https://api.openalex.org:443 \"GET /works?filter=has_doi:true,concepts_count:%3E0,publication_year:1977&sample=200&per-page=200 HTTP/1.1\" 200 196443\n"
          ]
        },
        {
          "name": "stdout",
          "output_type": "stream",
          "text": [
            "plus que 6 publications pour completer l'année 1977\n"
          ]
        },
        {
          "name": "stderr",
          "output_type": "stream",
          "text": [
            "DEBUG:urllib3.connectionpool:Starting new HTTPS connection (1): api.openalex.org:443\n",
            "DEBUG:urllib3.connectionpool:https://api.openalex.org:443 \"GET /works?filter=has_doi:true,concepts_count:%3E0,publication_year:1973&sample=200&per-page=200 HTTP/1.1\" 200 202134\n"
          ]
        },
        {
          "name": "stdout",
          "output_type": "stream",
          "text": [
            "plus que 6 publications pour completer l'année 1973\n"
          ]
        },
        {
          "name": "stderr",
          "output_type": "stream",
          "text": [
            "DEBUG:urllib3.connectionpool:Starting new HTTPS connection (1): api.openalex.org:443\n",
            "DEBUG:urllib3.connectionpool:https://api.openalex.org:443 \"GET /works?filter=has_doi:true,concepts_count:%3E0,publication_year:1979&sample=200&per-page=200 HTTP/1.1\" 200 201509\n"
          ]
        },
        {
          "name": "stdout",
          "output_type": "stream",
          "text": [
            "plus que 5 publications pour completer l'année 1979\n"
          ]
        },
        {
          "name": "stderr",
          "output_type": "stream",
          "text": [
            "DEBUG:urllib3.connectionpool:Starting new HTTPS connection (1): api.openalex.org:443\n",
            "DEBUG:urllib3.connectionpool:https://api.openalex.org:443 \"GET /works?filter=has_doi:true,concepts_count:%3E0,publication_year:1970&sample=200&per-page=200 HTTP/1.1\" 200 209153\n"
          ]
        },
        {
          "name": "stdout",
          "output_type": "stream",
          "text": [
            "plus que 4 publications pour completer l'année 1970\n"
          ]
        },
        {
          "name": "stderr",
          "output_type": "stream",
          "text": [
            "DEBUG:urllib3.connectionpool:Starting new HTTPS connection (1): api.openalex.org:443\n",
            "DEBUG:urllib3.connectionpool:https://api.openalex.org:443 \"GET /works?filter=has_doi:true,concepts_count:%3E0,publication_year:1969&sample=200&per-page=200 HTTP/1.1\" 200 190233\n"
          ]
        },
        {
          "name": "stdout",
          "output_type": "stream",
          "text": [
            "plus que 4 publications pour completer l'année 1969\n"
          ]
        },
        {
          "name": "stderr",
          "output_type": "stream",
          "text": [
            "DEBUG:urllib3.connectionpool:Starting new HTTPS connection (1): api.openalex.org:443\n",
            "DEBUG:urllib3.connectionpool:https://api.openalex.org:443 \"GET /works?filter=has_doi:true,concepts_count:%3E0,publication_year:1955&sample=200&per-page=200 HTTP/1.1\" 200 147691\n"
          ]
        },
        {
          "name": "stdout",
          "output_type": "stream",
          "text": [
            "plus que 4 publications pour completer l'année 1955\n"
          ]
        },
        {
          "name": "stderr",
          "output_type": "stream",
          "text": [
            "DEBUG:urllib3.connectionpool:Starting new HTTPS connection (1): api.openalex.org:443\n",
            "DEBUG:urllib3.connectionpool:https://api.openalex.org:443 \"GET /works?filter=has_doi:true,concepts_count:%3E0,publication_year:1961&sample=200&per-page=200 HTTP/1.1\" 200 165093\n"
          ]
        },
        {
          "name": "stdout",
          "output_type": "stream",
          "text": [
            "plus que 4 publications pour completer l'année 1961\n"
          ]
        },
        {
          "name": "stderr",
          "output_type": "stream",
          "text": [
            "DEBUG:urllib3.connectionpool:Starting new HTTPS connection (1): api.openalex.org:443\n",
            "DEBUG:urllib3.connectionpool:https://api.openalex.org:443 \"GET /works?filter=has_doi:true,concepts_count:%3E0,publication_year:1959&sample=200&per-page=200 HTTP/1.1\" 200 161756\n"
          ]
        },
        {
          "name": "stdout",
          "output_type": "stream",
          "text": [
            "plus que 3 publications pour completer l'année 1959\n"
          ]
        },
        {
          "name": "stderr",
          "output_type": "stream",
          "text": [
            "DEBUG:urllib3.connectionpool:Starting new HTTPS connection (1): api.openalex.org:443\n",
            "DEBUG:urllib3.connectionpool:https://api.openalex.org:443 \"GET /works?filter=has_doi:true,concepts_count:%3E0,publication_year:1974&sample=200&per-page=200 HTTP/1.1\" 200 189659\n"
          ]
        },
        {
          "name": "stdout",
          "output_type": "stream",
          "text": [
            "plus que 3 publications pour completer l'année 1974\n"
          ]
        },
        {
          "name": "stderr",
          "output_type": "stream",
          "text": [
            "DEBUG:urllib3.connectionpool:Starting new HTTPS connection (1): api.openalex.org:443\n",
            "DEBUG:urllib3.connectionpool:https://api.openalex.org:443 \"GET /works?filter=has_doi:true,concepts_count:%3E0,publication_year:1950&sample=200&per-page=200 HTTP/1.1\" 200 148691\n"
          ]
        },
        {
          "name": "stdout",
          "output_type": "stream",
          "text": [
            "plus que 3 publications pour completer l'année 1950\n"
          ]
        },
        {
          "name": "stderr",
          "output_type": "stream",
          "text": [
            "DEBUG:urllib3.connectionpool:Starting new HTTPS connection (1): api.openalex.org:443\n",
            "DEBUG:urllib3.connectionpool:https://api.openalex.org:443 \"GET /works?filter=has_doi:true,concepts_count:%3E0,publication_year:1956&sample=200&per-page=200 HTTP/1.1\" 200 156269\n"
          ]
        },
        {
          "name": "stdout",
          "output_type": "stream",
          "text": [
            "plus que 3 publications pour completer l'année 1956\n"
          ]
        },
        {
          "name": "stderr",
          "output_type": "stream",
          "text": [
            "DEBUG:urllib3.connectionpool:Starting new HTTPS connection (1): api.openalex.org:443\n",
            "DEBUG:urllib3.connectionpool:https://api.openalex.org:443 \"GET /works?filter=has_doi:true,concepts_count:%3E0,publication_year:1963&sample=200&per-page=200 HTTP/1.1\" 200 168763\n"
          ]
        },
        {
          "name": "stdout",
          "output_type": "stream",
          "text": [
            "plus que 3 publications pour completer l'année 1963\n"
          ]
        },
        {
          "name": "stderr",
          "output_type": "stream",
          "text": [
            "DEBUG:urllib3.connectionpool:Starting new HTTPS connection (1): api.openalex.org:443\n",
            "DEBUG:urllib3.connectionpool:https://api.openalex.org:443 \"GET /works?filter=has_doi:true,concepts_count:%3E0,publication_year:1957&sample=200&per-page=200 HTTP/1.1\" 200 140897\n"
          ]
        },
        {
          "name": "stdout",
          "output_type": "stream",
          "text": [
            "plus que 3 publications pour completer l'année 1957\n"
          ]
        },
        {
          "name": "stderr",
          "output_type": "stream",
          "text": [
            "DEBUG:urllib3.connectionpool:Starting new HTTPS connection (1): api.openalex.org:443\n",
            "DEBUG:urllib3.connectionpool:https://api.openalex.org:443 \"GET /works?filter=has_doi:true,concepts_count:%3E0,publication_year:1960&sample=200&per-page=200 HTTP/1.1\" 200 156229\n"
          ]
        },
        {
          "name": "stdout",
          "output_type": "stream",
          "text": [
            "plus que 3 publications pour completer l'année 1960\n"
          ]
        },
        {
          "name": "stderr",
          "output_type": "stream",
          "text": [
            "DEBUG:urllib3.connectionpool:Starting new HTTPS connection (1): api.openalex.org:443\n",
            "DEBUG:urllib3.connectionpool:https://api.openalex.org:443 \"GET /works?filter=has_doi:true,concepts_count:%3E0,publication_year:1905&sample=200&per-page=200 HTTP/1.1\" 200 112592\n"
          ]
        },
        {
          "name": "stdout",
          "output_type": "stream",
          "text": [
            "plus que 2 publications pour completer l'année 1905\n"
          ]
        },
        {
          "name": "stderr",
          "output_type": "stream",
          "text": [
            "DEBUG:urllib3.connectionpool:Starting new HTTPS connection (1): api.openalex.org:443\n",
            "DEBUG:urllib3.connectionpool:https://api.openalex.org:443 \"GET /works?filter=has_doi:true,concepts_count:%3E0,publication_year:1951&sample=200&per-page=200 HTTP/1.1\" 200 141782\n"
          ]
        },
        {
          "name": "stdout",
          "output_type": "stream",
          "text": [
            "plus que 2 publications pour completer l'année 1951\n"
          ]
        },
        {
          "name": "stderr",
          "output_type": "stream",
          "text": [
            "DEBUG:urllib3.connectionpool:Starting new HTTPS connection (1): api.openalex.org:443\n",
            "DEBUG:urllib3.connectionpool:https://api.openalex.org:443 \"GET /works?filter=has_doi:true,concepts_count:%3E0,publication_year:1949&sample=200&per-page=200 HTTP/1.1\" 200 148751\n"
          ]
        },
        {
          "name": "stdout",
          "output_type": "stream",
          "text": [
            "plus que 2 publications pour completer l'année 1949\n"
          ]
        },
        {
          "name": "stderr",
          "output_type": "stream",
          "text": [
            "DEBUG:urllib3.connectionpool:Starting new HTTPS connection (1): api.openalex.org:443\n",
            "DEBUG:urllib3.connectionpool:https://api.openalex.org:443 \"GET /works?filter=has_doi:true,concepts_count:%3E0,publication_year:1966&sample=200&per-page=200 HTTP/1.1\" 200 169013\n"
          ]
        },
        {
          "name": "stdout",
          "output_type": "stream",
          "text": [
            "plus que 2 publications pour completer l'année 1966\n"
          ]
        },
        {
          "name": "stderr",
          "output_type": "stream",
          "text": [
            "DEBUG:urllib3.connectionpool:Starting new HTTPS connection (1): api.openalex.org:443\n",
            "DEBUG:urllib3.connectionpool:https://api.openalex.org:443 \"GET /works?filter=has_doi:true,concepts_count:%3E0,publication_year:1971&sample=200&per-page=200 HTTP/1.1\" 200 181405\n"
          ]
        },
        {
          "name": "stdout",
          "output_type": "stream",
          "text": [
            "plus que 2 publications pour completer l'année 1971\n"
          ]
        },
        {
          "name": "stderr",
          "output_type": "stream",
          "text": [
            "DEBUG:urllib3.connectionpool:Starting new HTTPS connection (1): api.openalex.org:443\n",
            "DEBUG:urllib3.connectionpool:https://api.openalex.org:443 \"GET /works?filter=has_doi:true,concepts_count:%3E0,publication_year:1972&sample=200&per-page=200 HTTP/1.1\" 200 180387\n"
          ]
        },
        {
          "name": "stdout",
          "output_type": "stream",
          "text": [
            "plus que 2 publications pour completer l'année 1972\n"
          ]
        },
        {
          "name": "stderr",
          "output_type": "stream",
          "text": [
            "DEBUG:urllib3.connectionpool:Starting new HTTPS connection (1): api.openalex.org:443\n",
            "DEBUG:urllib3.connectionpool:https://api.openalex.org:443 \"GET /works?filter=has_doi:true,concepts_count:%3E0,publication_year:1964&sample=200&per-page=200 HTTP/1.1\" 200 170696\n"
          ]
        },
        {
          "name": "stdout",
          "output_type": "stream",
          "text": [
            "plus que 2 publications pour completer l'année 1964\n"
          ]
        },
        {
          "name": "stderr",
          "output_type": "stream",
          "text": [
            "DEBUG:urllib3.connectionpool:Starting new HTTPS connection (1): api.openalex.org:443\n",
            "DEBUG:urllib3.connectionpool:https://api.openalex.org:443 \"GET /works?filter=has_doi:true,concepts_count:%3E0,publication_year:1962&sample=200&per-page=200 HTTP/1.1\" 200 157986\n"
          ]
        },
        {
          "name": "stdout",
          "output_type": "stream",
          "text": [
            "plus que 1 publications pour completer l'année 1962\n"
          ]
        },
        {
          "name": "stderr",
          "output_type": "stream",
          "text": [
            "DEBUG:urllib3.connectionpool:Starting new HTTPS connection (1): api.openalex.org:443\n",
            "DEBUG:urllib3.connectionpool:https://api.openalex.org:443 \"GET /works?filter=has_doi:true,concepts_count:%3E0,publication_year:1914&sample=200&per-page=200 HTTP/1.1\" 200 113704\n"
          ]
        },
        {
          "name": "stdout",
          "output_type": "stream",
          "text": [
            "plus que 1 publications pour completer l'année 1914\n"
          ]
        },
        {
          "name": "stderr",
          "output_type": "stream",
          "text": [
            "DEBUG:urllib3.connectionpool:Starting new HTTPS connection (1): api.openalex.org:443\n",
            "DEBUG:urllib3.connectionpool:https://api.openalex.org:443 \"GET /works?filter=has_doi:true,concepts_count:%3E0,publication_year:1861&sample=200&per-page=200 HTTP/1.1\" 200 86624\n"
          ]
        },
        {
          "name": "stdout",
          "output_type": "stream",
          "text": [
            "plus que 1 publications pour completer l'année 1861\n"
          ]
        },
        {
          "name": "stderr",
          "output_type": "stream",
          "text": [
            "DEBUG:urllib3.connectionpool:Starting new HTTPS connection (1): api.openalex.org:443\n",
            "DEBUG:urllib3.connectionpool:https://api.openalex.org:443 \"GET /works?filter=has_doi:true,concepts_count:%3E0,publication_year:1889&sample=200&per-page=200 HTTP/1.1\" 200 100918\n"
          ]
        },
        {
          "name": "stdout",
          "output_type": "stream",
          "text": [
            "plus que 1 publications pour completer l'année 1889\n"
          ]
        },
        {
          "name": "stderr",
          "output_type": "stream",
          "text": [
            "DEBUG:urllib3.connectionpool:Starting new HTTPS connection (1): api.openalex.org:443\n",
            "DEBUG:urllib3.connectionpool:https://api.openalex.org:443 \"GET /works?filter=has_doi:true,concepts_count:%3E0,publication_year:1893&sample=200&per-page=200 HTTP/1.1\" 200 95989\n"
          ]
        },
        {
          "name": "stdout",
          "output_type": "stream",
          "text": [
            "plus que 1 publications pour completer l'année 1893\n"
          ]
        },
        {
          "name": "stderr",
          "output_type": "stream",
          "text": [
            "DEBUG:urllib3.connectionpool:Starting new HTTPS connection (1): api.openalex.org:443\n",
            "DEBUG:urllib3.connectionpool:https://api.openalex.org:443 \"GET /works?filter=has_doi:true,concepts_count:%3E0,publication_year:1896&sample=200&per-page=200 HTTP/1.1\" 200 91318\n"
          ]
        },
        {
          "name": "stdout",
          "output_type": "stream",
          "text": [
            "plus que 1 publications pour completer l'année 1896\n"
          ]
        },
        {
          "name": "stderr",
          "output_type": "stream",
          "text": [
            "DEBUG:urllib3.connectionpool:Starting new HTTPS connection (1): api.openalex.org:443\n",
            "DEBUG:urllib3.connectionpool:https://api.openalex.org:443 \"GET /works?filter=has_doi:true,concepts_count:%3E0,publication_year:1897&sample=200&per-page=200 HTTP/1.1\" 200 98540\n"
          ]
        },
        {
          "name": "stdout",
          "output_type": "stream",
          "text": [
            "plus que 1 publications pour completer l'année 1897\n"
          ]
        },
        {
          "name": "stderr",
          "output_type": "stream",
          "text": [
            "DEBUG:urllib3.connectionpool:Starting new HTTPS connection (1): api.openalex.org:443\n",
            "DEBUG:urllib3.connectionpool:https://api.openalex.org:443 \"GET /works?filter=has_doi:true,concepts_count:%3E0,publication_year:1898&sample=200&per-page=200 HTTP/1.1\" 200 97355\n"
          ]
        },
        {
          "name": "stdout",
          "output_type": "stream",
          "text": [
            "plus que 1 publications pour completer l'année 1898\n"
          ]
        },
        {
          "name": "stderr",
          "output_type": "stream",
          "text": [
            "DEBUG:urllib3.connectionpool:Starting new HTTPS connection (1): api.openalex.org:443\n",
            "DEBUG:urllib3.connectionpool:https://api.openalex.org:443 \"GET /works?filter=has_doi:true,concepts_count:%3E0,publication_year:1900&sample=200&per-page=200 HTTP/1.1\" 200 97963\n"
          ]
        },
        {
          "name": "stdout",
          "output_type": "stream",
          "text": [
            "plus que 1 publications pour completer l'année 1900\n"
          ]
        },
        {
          "name": "stderr",
          "output_type": "stream",
          "text": [
            "DEBUG:urllib3.connectionpool:Starting new HTTPS connection (1): api.openalex.org:443\n",
            "DEBUG:urllib3.connectionpool:https://api.openalex.org:443 \"GET /works?filter=has_doi:true,concepts_count:%3E0,publication_year:1901&sample=200&per-page=200 HTTP/1.1\" 200 112809\n"
          ]
        },
        {
          "name": "stdout",
          "output_type": "stream",
          "text": [
            "plus que 1 publications pour completer l'année 1901\n"
          ]
        },
        {
          "name": "stderr",
          "output_type": "stream",
          "text": [
            "DEBUG:urllib3.connectionpool:Starting new HTTPS connection (1): api.openalex.org:443\n",
            "DEBUG:urllib3.connectionpool:https://api.openalex.org:443 \"GET /works?filter=has_doi:true,concepts_count:%3E0,publication_year:1909&sample=200&per-page=200 HTTP/1.1\" 200 95434\n"
          ]
        },
        {
          "name": "stdout",
          "output_type": "stream",
          "text": [
            "plus que 1 publications pour completer l'année 1909\n"
          ]
        },
        {
          "name": "stderr",
          "output_type": "stream",
          "text": [
            "DEBUG:urllib3.connectionpool:Starting new HTTPS connection (1): api.openalex.org:443\n",
            "DEBUG:urllib3.connectionpool:https://api.openalex.org:443 \"GET /works?filter=has_doi:true,concepts_count:%3E0,publication_year:1925&sample=200&per-page=200 HTTP/1.1\" 200 119641\n"
          ]
        },
        {
          "name": "stdout",
          "output_type": "stream",
          "text": [
            "plus que 1 publications pour completer l'année 1925\n"
          ]
        },
        {
          "name": "stderr",
          "output_type": "stream",
          "text": [
            "DEBUG:urllib3.connectionpool:Starting new HTTPS connection (1): api.openalex.org:443\n",
            "DEBUG:urllib3.connectionpool:https://api.openalex.org:443 \"GET /works?filter=has_doi:true,concepts_count:%3E0,publication_year:1921&sample=200&per-page=200 HTTP/1.1\" 200 110830\n"
          ]
        },
        {
          "name": "stdout",
          "output_type": "stream",
          "text": [
            "plus que 1 publications pour completer l'année 1921\n"
          ]
        },
        {
          "name": "stderr",
          "output_type": "stream",
          "text": [
            "DEBUG:urllib3.connectionpool:Starting new HTTPS connection (1): api.openalex.org:443\n",
            "DEBUG:urllib3.connectionpool:https://api.openalex.org:443 \"GET /works?filter=has_doi:true,concepts_count:%3E0,publication_year:1929&sample=200&per-page=200 HTTP/1.1\" 200 112786\n"
          ]
        },
        {
          "name": "stdout",
          "output_type": "stream",
          "text": [
            "plus que 1 publications pour completer l'année 1929\n"
          ]
        },
        {
          "name": "stderr",
          "output_type": "stream",
          "text": [
            "DEBUG:urllib3.connectionpool:Starting new HTTPS connection (1): api.openalex.org:443\n",
            "DEBUG:urllib3.connectionpool:https://api.openalex.org:443 \"GET /works?filter=has_doi:true,concepts_count:%3E0,publication_year:1933&sample=200&per-page=200 HTTP/1.1\" 200 130358\n"
          ]
        },
        {
          "name": "stdout",
          "output_type": "stream",
          "text": [
            "plus que 1 publications pour completer l'année 1933\n"
          ]
        },
        {
          "name": "stderr",
          "output_type": "stream",
          "text": [
            "DEBUG:urllib3.connectionpool:Starting new HTTPS connection (1): api.openalex.org:443\n",
            "DEBUG:urllib3.connectionpool:https://api.openalex.org:443 \"GET /works?filter=has_doi:true,concepts_count:%3E0,publication_year:1934&sample=200&per-page=200 HTTP/1.1\" 200 120086\n"
          ]
        },
        {
          "name": "stdout",
          "output_type": "stream",
          "text": [
            "plus que 1 publications pour completer l'année 1934\n"
          ]
        },
        {
          "name": "stderr",
          "output_type": "stream",
          "text": [
            "DEBUG:urllib3.connectionpool:Starting new HTTPS connection (1): api.openalex.org:443\n",
            "DEBUG:urllib3.connectionpool:https://api.openalex.org:443 \"GET /works?filter=has_doi:true,concepts_count:%3E0,publication_year:1935&sample=200&per-page=200 HTTP/1.1\" 200 131115\n"
          ]
        },
        {
          "name": "stdout",
          "output_type": "stream",
          "text": [
            "plus que 1 publications pour completer l'année 1935\n"
          ]
        },
        {
          "name": "stderr",
          "output_type": "stream",
          "text": [
            "DEBUG:urllib3.connectionpool:Starting new HTTPS connection (1): api.openalex.org:443\n",
            "DEBUG:urllib3.connectionpool:https://api.openalex.org:443 \"GET /works?filter=has_doi:true,concepts_count:%3E0,publication_year:1936&sample=200&per-page=200 HTTP/1.1\" 200 119516\n"
          ]
        },
        {
          "name": "stdout",
          "output_type": "stream",
          "text": [
            "plus que 1 publications pour completer l'année 1936\n"
          ]
        },
        {
          "name": "stderr",
          "output_type": "stream",
          "text": [
            "DEBUG:urllib3.connectionpool:Starting new HTTPS connection (1): api.openalex.org:443\n",
            "DEBUG:urllib3.connectionpool:https://api.openalex.org:443 \"GET /works?filter=has_doi:true,concepts_count:%3E0,publication_year:1938&sample=200&per-page=200 HTTP/1.1\" 200 128543\n"
          ]
        },
        {
          "name": "stdout",
          "output_type": "stream",
          "text": [
            "plus que 1 publications pour completer l'année 1938\n"
          ]
        },
        {
          "name": "stderr",
          "output_type": "stream",
          "text": [
            "DEBUG:urllib3.connectionpool:Starting new HTTPS connection (1): api.openalex.org:443\n",
            "DEBUG:urllib3.connectionpool:https://api.openalex.org:443 \"GET /works?filter=has_doi:true,concepts_count:%3E0,publication_year:1946&sample=200&per-page=200 HTTP/1.1\" 200 141211\n"
          ]
        },
        {
          "name": "stdout",
          "output_type": "stream",
          "text": [
            "plus que 1 publications pour completer l'année 1946\n"
          ]
        },
        {
          "name": "stderr",
          "output_type": "stream",
          "text": [
            "DEBUG:urllib3.connectionpool:Starting new HTTPS connection (1): api.openalex.org:443\n",
            "DEBUG:urllib3.connectionpool:https://api.openalex.org:443 \"GET /works?filter=has_doi:true,concepts_count:%3E0,publication_year:1735&sample=200&per-page=200 HTTP/1.1\" 200 72995\n"
          ]
        },
        {
          "name": "stdout",
          "output_type": "stream",
          "text": [
            "plus que 1 publications pour completer l'année 1735\n"
          ]
        },
        {
          "name": "stderr",
          "output_type": "stream",
          "text": [
            "DEBUG:urllib3.connectionpool:Starting new HTTPS connection (1): api.openalex.org:443\n",
            "DEBUG:urllib3.connectionpool:https://api.openalex.org:443 \"GET /works?filter=has_doi:true,concepts_count:%3E0,publication_year:1967&sample=200&per-page=200 HTTP/1.1\" 200 176112\n"
          ]
        },
        {
          "name": "stdout",
          "output_type": "stream",
          "text": [
            "plus que 1 publications pour completer l'année 1967\n"
          ]
        },
        {
          "name": "stderr",
          "output_type": "stream",
          "text": [
            "DEBUG:urllib3.connectionpool:Starting new HTTPS connection (1): api.openalex.org:443\n",
            "DEBUG:urllib3.connectionpool:https://api.openalex.org:443 \"GET /works?filter=has_doi:true,concepts_count:%3E0,publication_year:1954&sample=200&per-page=200 HTTP/1.1\" 200 153458\n"
          ]
        },
        {
          "name": "stdout",
          "output_type": "stream",
          "text": [
            "plus que 1 publications pour completer l'année 1954\n"
          ]
        },
        {
          "name": "stderr",
          "output_type": "stream",
          "text": [
            "DEBUG:urllib3.connectionpool:Starting new HTTPS connection (1): api.openalex.org:443\n",
            "DEBUG:urllib3.connectionpool:https://api.openalex.org:443 \"GET /works?filter=has_doi:true,concepts_count:%3E0,publication_year:1686&sample=200&per-page=200 HTTP/1.1\" 200 62445\n"
          ]
        },
        {
          "name": "stdout",
          "output_type": "stream",
          "text": [
            "plus que 1 publications pour completer l'année 1686\n"
          ]
        }
      ],
      "source": [
        "for year in list(year_counts.keys()):   \n",
        "    cached_openalex_data_not_ipcc[year]=[]\n",
        "    year_counts_not_ipcc[year]=0\n",
        "    while year_counts_not_ipcc[year]<year_counts[year]:\n",
        "        get_open_alex_data_not_in_references(dois,cached_openalex_data_not_ipcc,year_counts,year_counts_not_ipcc,year)\n",
        "    cached_openalex_data_not_ipcc[year]=cached_openalex_data_not_ipcc[year][:year_counts[year]]"
      ]
    },
    {
      "cell_type": "code",
      "execution_count": 27,
      "id": "21ed9a3f",
      "metadata": {},
      "outputs": [],
      "source": [
        "for year in list(year_counts.keys()):   \n",
        "    cached_openalex_data_not_ipcc[year]=cached_openalex_data_not_ipcc[year][:year_counts[year]] "
      ]
    },
    {
      "cell_type": "code",
      "execution_count": 28,
      "id": "f0b7b027",
      "metadata": {},
      "outputs": [],
      "source": [
        "write_cache(cached_openalex_data_not_ipcc,module_path+'\\\\IPCC_bibliography\\\\AR6\\\\structured_data\\\\caches\\\\cached_openalex_data_not_ipcc.pkl')"
      ]
    },
    {
      "cell_type": "code",
      "execution_count": 29,
      "id": "198f23bc",
      "metadata": {},
      "outputs": [],
      "source": [
        "df_not_ipcc=pd.DataFrame()\n",
        "countries_list = []\n",
        "concepts_list = []\n",
        "sdg_list = []\n",
        "topics_list = []\n",
        "is_OA_available_list=[]\n",
        "title_list=[]\n",
        "year_list=[]\n",
        "names_list=[]\n",
        "rors_list=[]\n",
        "institutions_names_list=[]\n",
        "locations_list=[]\n",
        "doi_list=[]\n",
        "locations_id_list=[]\n",
        "type_list=[]\n",
        "type_crossref_list=[]\n",
        "\n",
        "\n",
        "for k in range(len(aplatir(list(cached_openalex_data_not_ipcc.values())))):\n",
        "    countries,concepts,sdg,year,topics,doi,bool_OA,title,name,rors,institutions_names,locations_names,locations_id,type_OA,type_crossref=get_countries_concepts_sdg(cached_openalex_data=aplatir(list(cached_openalex_data_not_ipcc.values())),ipcc=False,i=k)\n",
        "\n",
        "    doi_list.append(doi)\n",
        "    countries_list.append(countries)\n",
        "    concepts_list.append(concepts)\n",
        "    sdg_list.append(sdg)\n",
        "    topics_list.append(topics)\n",
        "    is_OA_available_list.append(bool_OA)\n",
        "    title_list.append(title)\n",
        "    year_list.append(year)\n",
        "    names_list.append(name)\n",
        "    rors_list.append(rors)\n",
        "    institutions_names_list.append(institutions_names)\n",
        "    locations_list.append(locations_names)\n",
        "    locations_id_list.append(locations_id)\n",
        "    type_list.append(type_OA)\n",
        "    type_crossref_list.append(type_crossref)\n",
        "    \n",
        "df_not_ipcc['doi'] = doi_list\n",
        "df_not_ipcc['countries'] = countries_list\n",
        "df_not_ipcc['concepts'] = concepts_list\n",
        "df_not_ipcc['sdg'] = sdg_list\n",
        "df_not_ipcc['topics'] = topics_list\n",
        "df_not_ipcc['is_OA_available'] = is_OA_available_list\n",
        "df_not_ipcc['title'] = title_list\n",
        "df_not_ipcc['year'] = year_list\n",
        "df_not_ipcc['authors_name'] = names_list\n",
        "df_not_ipcc['rors'] = rors_list\n",
        "df_not_ipcc['institutions_names'] = institutions_names_list\n",
        "df_not_ipcc['locations_names'] = locations_list\n",
        "df_not_ipcc['locations_ids'] = locations_id_list\n",
        "df_not_ipcc['type'] = type_list\n",
        "df_not_ipcc['type_crossref'] = type_crossref_list"
      ]
    },
    {
      "cell_type": "code",
      "execution_count": 30,
      "id": "0c2b7946",
      "metadata": {},
      "outputs": [
        {
          "data": {
            "text/plain": [
              "48101"
            ]
          },
          "execution_count": 30,
          "metadata": {},
          "output_type": "execute_result"
        }
      ],
      "source": [
        "len(df_not_ipcc.dropna(subset=['year','doi', 'title','topics','locations_names','locations_ids']))"
      ]
    },
    {
      "cell_type": "code",
      "execution_count": 31,
      "id": "4d3fa9e8",
      "metadata": {},
      "outputs": [
        {
          "data": {
            "text/html": [
              "<div>\n",
              "<style scoped>\n",
              "    .dataframe tbody tr th:only-of-type {\n",
              "        vertical-align: middle;\n",
              "    }\n",
              "\n",
              "    .dataframe tbody tr th {\n",
              "        vertical-align: top;\n",
              "    }\n",
              "\n",
              "    .dataframe thead th {\n",
              "        text-align: right;\n",
              "    }\n",
              "</style>\n",
              "<table border=\"1\" class=\"dataframe\">\n",
              "  <thead>\n",
              "    <tr style=\"text-align: right;\">\n",
              "      <th></th>\n",
              "      <th>year</th>\n",
              "      <th>doi</th>\n",
              "      <th>title</th>\n",
              "      <th>topics</th>\n",
              "      <th>locations_names</th>\n",
              "      <th>locations_ids</th>\n",
              "    </tr>\n",
              "  </thead>\n",
              "  <tbody>\n",
              "  </tbody>\n",
              "</table>\n",
              "</div>"
            ],
            "text/plain": [
              "Empty DataFrame\n",
              "Columns: [year, doi, title, topics, locations_names, locations_ids]\n",
              "Index: []"
            ]
          },
          "execution_count": 31,
          "metadata": {},
          "output_type": "execute_result"
        }
      ],
      "source": [
        "df_not_ipcc[df_not_ipcc[['year', 'doi', 'title', 'topics', 'locations_names', 'locations_ids']].isna().any(axis=1)][['year', 'doi', 'title', 'topics', 'locations_names', 'locations_ids']]"
      ]
    },
    {
      "cell_type": "code",
      "execution_count": 32,
      "id": "036861ff",
      "metadata": {},
      "outputs": [
        {
          "data": {
            "text/plain": [
              "48101"
            ]
          },
          "execution_count": 32,
          "metadata": {},
          "output_type": "execute_result"
        }
      ],
      "source": [
        "len(aplatir(list(cached_openalex_data_not_ipcc.values())))"
      ]
    },
    {
      "cell_type": "code",
      "execution_count": 33,
      "id": "2b9f6ebd",
      "metadata": {},
      "outputs": [
        {
          "data": {
            "text/plain": [
              "48101"
            ]
          },
          "execution_count": 33,
          "metadata": {},
          "output_type": "execute_result"
        }
      ],
      "source": [
        "len(df_ipcc.dropna(subset=['year','doi', 'title','topics','locations_names','locations_ids']))"
      ]
    },
    {
      "cell_type": "code",
      "execution_count": 34,
      "id": "0bda9b04",
      "metadata": {},
      "outputs": [],
      "source": [
        "df_not_ipcc.to_json(module_path+f'\\\\IPCC_bibliography\\\\AR6\\\\structured_data\\\\data_model_ipcc\\\\data_not_ipcc.jsonl', orient='records', lines= True)"
      ]
    }
  ],
  "metadata": {
    "kernelspec": {
      "display_name": "tf",
      "language": "python",
      "name": "python3"
    },
    "language_info": {
      "codemirror_mode": {
        "name": "ipython",
        "version": 3
      },
      "file_extension": ".py",
      "mimetype": "text/x-python",
      "name": "python",
      "nbconvert_exporter": "python",
      "pygments_lexer": "ipython3",
      "version": "3.10.13"
    }
  },
  "nbformat": 4,
  "nbformat_minor": 5
}
