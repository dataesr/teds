{
  "cells": [
    {
      "cell_type": "code",
      "execution_count": 1,
      "id": "7f4a48e7",
      "metadata": {},
      "outputs": [],
      "source": [
        "import os\n",
        "import sys\n",
        "import pandas as pd\n",
        "import matplotlib.pyplot as plt\n",
        "\n",
        "module_path = os.path.abspath(os.path.join('..'))\n",
        "if module_path not in sys.path:\n",
        "    sys.path.append(module_path)\n",
        "from code_utils.read_ipcc_bib import read_bib_wg\n",
        "from code_utils.enriching_data_OpenAlex import get_countries_concepts_sdg,get_open_alex_data,get_open_alex_data_not_in_references\n",
        "from code_utils.utils import aplatir,wg_chap_to_dict,get_doi_cleaned,check_doi_glutton,get_year_ipcc\n",
        "from code_utils.pickle import load_cache,write_cache"
      ]
    },
    {
      "cell_type": "code",
      "execution_count": 2,
      "id": "d8613600",
      "metadata": {},
      "outputs": [],
      "source": [
        "cached_openalex_data = {}\n",
        "cached_openalex_data_not_ipcc = {}"
      ]
    },
    {
      "cell_type": "code",
      "execution_count": 3,
      "id": "0b48c157",
      "metadata": {},
      "outputs": [
        {
          "name": "stdout",
          "output_type": "stream",
          "text": [
            "54816 data in cached openalex data\n",
            "3 data in cached openalex data\n"
          ]
        }
      ],
      "source": [
        "try:\n",
        "    cached_openalex_data = load_cache(cached_openalex_data,module_path+'\\\\IPCC_bibliography\\\\AR6\\\\structured_data\\\\caches\\\\cached_openalex_data.pkl')\n",
        "    cached_openalex_data_not_ipcc = load_cache(cached_openalex_data_not_ipcc,module_path+'\\\\IPCC_bibliography\\\\AR6\\\\structured_data\\\\caches\\\\cached_openalex_data_not_ipcc.pkl')\n",
        "except:\n",
        "    #write_cache(cached_openalex_data,module_path+'\\\\IPCC_bibliography\\\\AR6\\\\structured_data\\\\caches\\\\cached_openalex_data.pkl')\n",
        "    #write_cache(cached_openalex_data_not_ipcc,module_path+'\\\\IPCC_bibliography\\\\AR6\\\\structured_data\\\\caches\\\\cached_openalex_data_not_ipcc.pkl')\n",
        "    print('oups not in bibliography folder')"
      ]
    },
    {
      "cell_type": "code",
      "execution_count": null,
      "id": "8eca4e26",
      "metadata": {},
      "outputs": [],
      "source": [
        "#write_cache(cached_openalex_data,module_path+'\\\\IPCC_bibliography\\\\AR6\\\\structured_data\\\\caches\\\\cached_openalex_data.pkl')\n",
        "#write_cache(cached_openalex_data_not_ipcc,module_path+'\\\\IPCC_bibliography\\\\AR6\\\\structured_data\\\\caches\\\\cached_openalex_data_not_ipcc.pkl')"
      ]
    },
    {
      "cell_type": "markdown",
      "id": "db6ea8c1",
      "metadata": {},
      "source": [
        "Read IPCC references in .bib files"
      ]
    },
    {
      "cell_type": "code",
      "execution_count": null,
      "id": "acf01178",
      "metadata": {},
      "outputs": [],
      "source": [
        "wgs={'1':{'wg1':[], 'dataframes_1':{}, 'listdir1':['IPCC_AR6_WGI_References_Chapter01.bib',\n",
        " 'IPCC_AR6_WGI_References_Chapter02.bib',\n",
        " 'IPCC_AR6_WGI_References_Chapter03.bib',\n",
        " 'IPCC_AR6_WGI_References_Chapter04.bib',\n",
        " 'IPCC_AR6_WGI_References_Chapter05.bib',\n",
        " 'IPCC_AR6_WGI_References_Chapter06.bib',\n",
        " 'IPCC_AR6_WGI_References_Chapter07.bib',\n",
        " 'IPCC_AR6_WGI_References_Chapter08.bib',\n",
        " 'IPCC_AR6_WGI_References_Chapter09.bib',\n",
        " 'IPCC_AR6_WGI_References_Chapter10.bib',\n",
        " 'IPCC_AR6_WGI_References_Chapter11.bib',\n",
        " 'IPCC_AR6_WGI_References_Chapter12.bib']},\n",
        "     '2':{'wg2':[], 'wg2_update':[], 'dataframes_2':{}, 'listdir2':os.listdir(module_path+f\"\\\\IPCC_bibliography\\\\AR6\\\\WG2\")},\n",
        "     '2_CROSS':{'wg2_CROSS':[], 'wg2_CROSS_update':[], 'dataframes_2_CROSS':{}, 'listdir2_CROSS':os.listdir(module_path+f\"\\\\IPCC_bibliography\\\\AR6\\\\WG2_CROSS\")},\n",
        "     '3':{'wg3':[], 'dataframes_3':{}, 'listdir3':os.listdir(module_path+f\"\\\\IPCC_bibliography\\\\AR6\\\\WG3\")}}"
      ]
    },
    {
      "cell_type": "code",
      "execution_count": null,
      "id": "a147ed03",
      "metadata": {},
      "outputs": [],
      "source": [
        "os.listdir(module_path+f\"\\\\IPCC_bibliography\\\\AR6\\\\WG1\")"
      ]
    },
    {
      "cell_type": "code",
      "execution_count": null,
      "id": "3723f07d",
      "metadata": {},
      "outputs": [],
      "source": [
        "for k in ['1','2','2_CROSS','3']:\n",
        "    wgs[k][f'df_{k}'] = read_bib_wg(wgs,k,verbose=True)\n",
        "    #wgs[k][f'df_{k}'].to_json(module_path+f'\\\\IPCC_bibliography\\\\AR6\\\\structured_data\\\\data_wg{k}.jsonl', orient='records', lines=True)"
      ]
    },
    {
      "cell_type": "markdown",
      "id": "ee989369",
      "metadata": {},
      "source": [
        "Read and clean the data from 'structured_data' folder"
      ]
    },
    {
      "cell_type": "code",
      "execution_count": null,
      "id": "25cd3cc6",
      "metadata": {},
      "outputs": [],
      "source": [
        "data_all={}"
      ]
    },
    {
      "cell_type": "code",
      "execution_count": null,
      "id": "742a33da",
      "metadata": {},
      "outputs": [],
      "source": [
        "for k in ['1','2','2_CROSS','3']:\n",
        "   #data_all[f'df_wg{k}']=wgs[k][f'df_{k}']\n",
        "   data_all[f'df_wg{k}']=pd.read_json(module_path+f'\\\\IPCC_bibliography\\\\AR6\\\\structured_data\\\\data_wg{k}.jsonl', lines= True)"
      ]
    },
    {
      "cell_type": "code",
      "execution_count": null,
      "id": "5140bc4f",
      "metadata": {},
      "outputs": [],
      "source": [
        "#all data \n",
        "df_ipcc=pd.concat(list(data_all.values()), ignore_index=True)"
      ]
    },
    {
      "cell_type": "code",
      "execution_count": null,
      "id": "937762fa",
      "metadata": {},
      "outputs": [],
      "source": [
        "df_ipcc.loc[:,'doi']=df_ipcc.loc[:,'doi'].apply(lambda x: get_doi_cleaned(x))\n",
        "df_ipcc.loc[:,'doi']=df_ipcc.loc[:,'doi'].apply(lambda x: None if str(x)[:4]=='http' else x)\n",
        "df_ipcc['freq']=1"
      ]
    },
    {
      "cell_type": "markdown",
      "id": "a70ea794",
      "metadata": {},
      "source": [
        "Enriching data through OpenAlex API integration"
      ]
    },
    {
      "cell_type": "code",
      "execution_count": null,
      "id": "b6a65467",
      "metadata": {},
      "outputs": [],
      "source": [
        "#df_unique_doi=df_ipcc.groupby(by=['doi','title','year'], dropna=True).agg({'wg': lambda x: list(x),'chap': lambda x: list(x)})\n",
        "df_unique_doi=df_ipcc[['doi','title','year']].drop_duplicates(subset=['doi']).dropna(subset=['doi'])\n",
        "df_unique_doi=df_unique_doi.reset_index()"
      ]
    },
    {
      "cell_type": "code",
      "execution_count": null,
      "id": "86e740ab",
      "metadata": {},
      "outputs": [],
      "source": [
        "#get data_OpenAlex from the API \n",
        "df_unique_doi.apply(lambda row: get_open_alex_data(cached_openalex_data,row['doi']), axis= 1)"
      ]
    },
    {
      "cell_type": "code",
      "execution_count": null,
      "id": "b8cc5e28",
      "metadata": {},
      "outputs": [],
      "source": [
        "len(cached_openalex_data)"
      ]
    },
    {
      "cell_type": "code",
      "execution_count": null,
      "id": "2408fe7d",
      "metadata": {},
      "outputs": [],
      "source": [
        "write_cache(cached_openalex_data,module_path+'\\\\IPCC_bibliography\\\\AR6\\\\structured_data\\\\caches\\\\cached_openalex_data.pkl')"
      ]
    },
    {
      "cell_type": "code",
      "execution_count": null,
      "id": "a7958613",
      "metadata": {},
      "outputs": [],
      "source": [
        "countries_list = []\n",
        "concepts_list = []\n",
        "sdg_list = []\n",
        "topics_list = []\n",
        "is_OA_available_list=[]\n",
        "title_list=[]\n",
        "year_list=[]\n",
        "names_list=[]\n",
        "rors_list=[]\n",
        "institutions_names_list=[]\n",
        "locations_list=[]\n",
        "locations_id_list=[]\n",
        "type_list=[]\n",
        "type_crossref_list=[]\n",
        "\n",
        "for i,row in df_unique_doi.iterrows():\n",
        "    countries,concepts,sdg,year,topics,doi,bool_OA,title,name,rors,institutions_names,locations_names,locations_id,type_OA,type_crossref=get_countries_concepts_sdg(cached_openalex_data,row)\n",
        "\n",
        "    countries_list.append(countries)\n",
        "    concepts_list.append(concepts)\n",
        "    sdg_list.append(sdg)\n",
        "    topics_list.append(topics)\n",
        "    is_OA_available_list.append(bool_OA)\n",
        "    title_list.append(title)\n",
        "    year_list.append(year)\n",
        "    names_list.append(name)\n",
        "    rors_list.append(rors)\n",
        "    institutions_names_list.append(institutions_names)\n",
        "    locations_list.append(locations_names)\n",
        "    locations_id_list.append(locations_id)\n",
        "    type_list.append(type_OA)\n",
        "    type_crossref_list.append(type_crossref)\n",
        "    \n",
        "\n",
        "df_unique_doi['countries'] = countries_list\n",
        "df_unique_doi['concepts'] = concepts_list\n",
        "df_unique_doi['sdg'] = sdg_list\n",
        "df_unique_doi['topics'] = topics_list\n",
        "df_unique_doi['is_OA_available'] = is_OA_available_list\n",
        "df_unique_doi['title_OA'] = title_list\n",
        "df_unique_doi['year_OA'] = year_list\n",
        "df_unique_doi['authors_name'] = names_list\n",
        "df_unique_doi['rors'] = rors_list\n",
        "df_unique_doi['institutions_names'] = institutions_names_list\n",
        "df_unique_doi['locations_names'] = locations_list\n",
        "df_unique_doi['locations_ids'] = locations_id_list\n",
        "df_unique_doi['type'] = type_list\n",
        "df_unique_doi['type_crossref'] = type_crossref_list"
      ]
    },
    {
      "cell_type": "code",
      "execution_count": null,
      "id": "b49540b7",
      "metadata": {},
      "outputs": [],
      "source": [
        "#df_unique_doi['wg_chap']=df_unique_doi.apply(lambda row: wg_chap_to_dict(row), axis=1)\n",
        "df_unique_doi.loc[:,'countries']=df_unique_doi.loc[:,'countries'].apply(lambda x: str(x).replace('nan','None').replace('[]','None').replace('[None]','None') if ((str(x)=='nan')|(str(x)=='[None]')|((str(x)=='[]'))) else x )\n",
        "df_unique_doi.loc[:,'countries']=df_unique_doi.loc[:,'countries'].apply(lambda x: ['None'] if x=='None' else x)\n",
        "df_unique_doi.loc[:,'year']=df_unique_doi.loc[:,'year'].apply(lambda x: get_year_ipcc(x))\n",
        "df_unique_doi['test_glutton']=df_unique_doi.apply(lambda row: check_doi_glutton(row), axis=1)\n",
        "df_unique_doi=df_unique_doi[(df_unique_doi['test_glutton']==True)&(pd.isna(df_unique_doi['is_OA_available'])==False)]"
      ]
    },
    {
      "cell_type": "code",
      "execution_count": null,
      "id": "d630f1d0",
      "metadata": {},
      "outputs": [],
      "source": [
        "df_unique_doi.to_json(module_path+f'\\\\IPCC_bibliography\\\\AR6\\\\structured_data\\\\data_model_ipcc\\\\data_ipcc.jsonl', orient='records', lines= True)"
      ]
    },
    {
      "cell_type": "code",
      "execution_count": null,
      "id": "718fde39",
      "metadata": {},
      "outputs": [],
      "source": [
        "df_ipcc=df_ipcc[['year', 'url', 'doi','title','author','freq']]"
      ]
    },
    {
      "cell_type": "code",
      "execution_count": null,
      "id": "9db6380a",
      "metadata": {},
      "outputs": [],
      "source": [
        "df_ipcc=pd.merge(df_ipcc, df_unique_doi[['doi','countries','concepts', 'sdg', 'topics', 'is_OA_available', 'title_OA', 'year_OA', 'authors_name', 'rors', 'institutions_names', 'locations_names', 'locations_ids', 'type', 'type_crossref', 'test_glutton']], on='doi', how='left')\n",
        "df_ipcc.loc[:,'countries']=df_ipcc.loc[:,'countries'].apply(lambda x: str(x).replace('nan','None').replace('[]','None').replace('[None]','None') if ((str(x)=='nan')|(str(x)=='[None]')|((str(x)=='[]'))) else x )\n",
        "df_ipcc.loc[:,'countries']=df_ipcc.loc[:,'countries'].apply(lambda x: ['None'] if x=='None' else x)"
      ]
    },
    {
      "cell_type": "code",
      "execution_count": null,
      "id": "2e99e570",
      "metadata": {},
      "outputs": [],
      "source": [
        "df_ipcc.loc[:,'year']=df_ipcc.loc[:,'year'].apply(lambda x: get_year_ipcc(x))"
      ]
    },
    {
      "cell_type": "code",
      "execution_count": null,
      "id": "4e753c79",
      "metadata": {},
      "outputs": [],
      "source": [
        "df_ipcc['test_glutton']=df_ipcc.apply(lambda row: check_doi_glutton(row), axis=1)"
      ]
    },
    {
      "cell_type": "code",
      "execution_count": null,
      "id": "81bd4120",
      "metadata": {},
      "outputs": [],
      "source": [
        "df_ipcc.drop_duplicates(subset=['doi']).test_glutton.value_counts()"
      ]
    },
    {
      "cell_type": "code",
      "execution_count": null,
      "id": "10a903a9",
      "metadata": {},
      "outputs": [],
      "source": [
        "df_ipcc=df_ipcc[(df_ipcc['test_glutton']==True)&(pd.isna(df_ipcc['is_OA_available'])==False)]"
      ]
    },
    {
      "cell_type": "code",
      "execution_count": null,
      "id": "0640e440",
      "metadata": {},
      "outputs": [],
      "source": [
        "df_ipcc.to_json(module_path+'\\\\IPCC_bibliography\\\\AR6\\\\structured_data\\\\data_ipcc_visualization.json', orient='records')"
      ]
    },
    {
      "cell_type": "code",
      "execution_count": null,
      "id": "0a712bda",
      "metadata": {},
      "outputs": [],
      "source": [
        "df_ipcc=pd.read_json(module_path+f'\\\\IPCC_bibliography\\\\AR6\\\\structured_data\\\\data_ipcc_visualization.json').dropna(subset=['year'])"
      ]
    },
    {
      "cell_type": "markdown",
      "id": "c4297ebd",
      "metadata": {},
      "source": [
        "Find the data for constructing the learning model ( IPCC related or not )"
      ]
    },
    {
      "cell_type": "code",
      "execution_count": 4,
      "id": "87f46aeb",
      "metadata": {},
      "outputs": [],
      "source": [
        "df_ipcc=pd.read_json(module_path+f'\\\\IPCC_bibliography\\\\AR6\\\\structured_data\\\\data_model_ipcc\\\\data_ipcc.jsonl', lines= True).dropna(subset=['year'])"
      ]
    },
    {
      "cell_type": "code",
      "execution_count": 5,
      "id": "d3d0fa68",
      "metadata": {},
      "outputs": [],
      "source": [
        "df_ipcc=df_ipcc.dropna(subset=['year','doi', 'title','topics','locations_names','locations_ids'])"
      ]
    },
    {
      "cell_type": "code",
      "execution_count": 6,
      "id": "9a053b33",
      "metadata": {},
      "outputs": [
        {
          "data": {
            "text/plain": [
              "48101"
            ]
          },
          "execution_count": 6,
          "metadata": {},
          "output_type": "execute_result"
        }
      ],
      "source": [
        "len(df_ipcc)"
      ]
    },
    {
      "cell_type": "code",
      "execution_count": 7,
      "id": "75d41602",
      "metadata": {},
      "outputs": [],
      "source": [
        "df_ipcc['year'] = pd.to_numeric(df_ipcc['year'], errors='coerce')\n",
        "year=df_ipcc.drop_duplicates(subset='doi')['year'].dropna().sort_values().apply(lambda x: int(x))\n",
        "year_counts = pd.Series(list(year)).value_counts().to_dict()"
      ]
    },
    {
      "cell_type": "code",
      "execution_count": 8,
      "id": "36db23d3",
      "metadata": {},
      "outputs": [
        {
          "data": {
            "text/plain": [
              "48101"
            ]
          },
          "execution_count": 8,
          "metadata": {},
          "output_type": "execute_result"
        }
      ],
      "source": [
        "sum(list(year_counts.values()))"
      ]
    },
    {
      "cell_type": "code",
      "execution_count": 9,
      "id": "8664f72f",
      "metadata": {},
      "outputs": [
        {
          "data": {
            "text/plain": [
              "17564"
            ]
          },
          "execution_count": 9,
          "metadata": {},
          "output_type": "execute_result"
        }
      ],
      "source": [
        "len(aplatir(list(cached_openalex_data_not_ipcc.values())))"
      ]
    },
    {
      "cell_type": "code",
      "execution_count": 12,
      "id": "bc72000a",
      "metadata": {},
      "outputs": [],
      "source": [
        "dois=list(df_ipcc.doi.dropna().drop_duplicates())+[x['doi'] for x in aplatir(list(cached_openalex_data_not_ipcc.values()))]\n",
        "year_counts_not_ipcc={}"
      ]
    },
    {
      "cell_type": "code",
      "execution_count": 13,
      "id": "3770f7fd",
      "metadata": {},
      "outputs": [
        {
          "name": "stderr",
          "output_type": "stream",
          "text": [
            "DEBUG:urllib3.connectionpool:Starting new HTTPS connection (1): api.openalex.org:443\n",
            "DEBUG:urllib3.connectionpool:https://api.openalex.org:443 \"GET /works?filter=has_doi:true,concepts_count:%3E0,publication_year:2018&sample=200&per-page=200 HTTP/1.1\" 200 276456\n"
          ]
        },
        {
          "name": "stdout",
          "output_type": "stream",
          "text": [
            "plus que 6729 publications pour completer l'année 2018\n"
          ]
        },
        {
          "name": "stderr",
          "output_type": "stream",
          "text": [
            "DEBUG:urllib3.connectionpool:Starting new HTTPS connection (1): api.openalex.org:443\n",
            "DEBUG:urllib3.connectionpool:https://api.openalex.org:443 \"GET /works?filter=has_doi:true,concepts_count:%3E0,publication_year:2018&sample=200&per-page=200 HTTP/1.1\" 200 324128\n"
          ]
        },
        {
          "name": "stdout",
          "output_type": "stream",
          "text": [
            "plus que 6632 publications pour completer l'année 2018\n"
          ]
        },
        {
          "name": "stderr",
          "output_type": "stream",
          "text": [
            "DEBUG:urllib3.connectionpool:Starting new HTTPS connection (1): api.openalex.org:443\n",
            "DEBUG:urllib3.connectionpool:https://api.openalex.org:443 \"GET /works?filter=has_doi:true,concepts_count:%3E0,publication_year:2018&sample=200&per-page=200 HTTP/1.1\" 200 326684\n"
          ]
        },
        {
          "name": "stdout",
          "output_type": "stream",
          "text": [
            "plus que 6526 publications pour completer l'année 2018\n"
          ]
        },
        {
          "name": "stderr",
          "output_type": "stream",
          "text": [
            "DEBUG:urllib3.connectionpool:Starting new HTTPS connection (1): api.openalex.org:443\n",
            "DEBUG:urllib3.connectionpool:https://api.openalex.org:443 \"GET /works?filter=has_doi:true,concepts_count:%3E0,publication_year:2018&sample=200&per-page=200 HTTP/1.1\" 200 308345\n"
          ]
        },
        {
          "name": "stdout",
          "output_type": "stream",
          "text": [
            "plus que 6422 publications pour completer l'année 2018\n"
          ]
        },
        {
          "name": "stderr",
          "output_type": "stream",
          "text": [
            "DEBUG:urllib3.connectionpool:Starting new HTTPS connection (1): api.openalex.org:443\n",
            "DEBUG:urllib3.connectionpool:https://api.openalex.org:443 \"GET /works?filter=has_doi:true,concepts_count:%3E0,publication_year:2018&sample=200&per-page=200 HTTP/1.1\" 200 322001\n"
          ]
        },
        {
          "name": "stdout",
          "output_type": "stream",
          "text": [
            "plus que 6315 publications pour completer l'année 2018\n"
          ]
        },
        {
          "name": "stderr",
          "output_type": "stream",
          "text": [
            "DEBUG:urllib3.connectionpool:Starting new HTTPS connection (1): api.openalex.org:443\n",
            "DEBUG:urllib3.connectionpool:https://api.openalex.org:443 \"GET /works?filter=has_doi:true,concepts_count:%3E0,publication_year:2018&sample=200&per-page=200 HTTP/1.1\" 200 328299\n"
          ]
        },
        {
          "name": "stdout",
          "output_type": "stream",
          "text": [
            "plus que 6208 publications pour completer l'année 2018\n"
          ]
        },
        {
          "name": "stderr",
          "output_type": "stream",
          "text": [
            "DEBUG:urllib3.connectionpool:Starting new HTTPS connection (1): api.openalex.org:443\n",
            "DEBUG:urllib3.connectionpool:https://api.openalex.org:443 \"GET /works?filter=has_doi:true,concepts_count:%3E0,publication_year:2018&sample=200&per-page=200 HTTP/1.1\" 200 320928\n"
          ]
        },
        {
          "name": "stdout",
          "output_type": "stream",
          "text": [
            "plus que 6096 publications pour completer l'année 2018\n"
          ]
        },
        {
          "name": "stderr",
          "output_type": "stream",
          "text": [
            "DEBUG:urllib3.connectionpool:Starting new HTTPS connection (1): api.openalex.org:443\n",
            "DEBUG:urllib3.connectionpool:https://api.openalex.org:443 \"GET /works?filter=has_doi:true,concepts_count:%3E0,publication_year:2018&sample=200&per-page=200 HTTP/1.1\" 200 340522\n"
          ]
        },
        {
          "name": "stdout",
          "output_type": "stream",
          "text": [
            "plus que 5990 publications pour completer l'année 2018\n"
          ]
        },
        {
          "name": "stderr",
          "output_type": "stream",
          "text": [
            "DEBUG:urllib3.connectionpool:Starting new HTTPS connection (1): api.openalex.org:443\n",
            "DEBUG:urllib3.connectionpool:https://api.openalex.org:443 \"GET /works?filter=has_doi:true,concepts_count:%3E0,publication_year:2018&sample=200&per-page=200 HTTP/1.1\" 200 293521\n"
          ]
        },
        {
          "name": "stdout",
          "output_type": "stream",
          "text": [
            "plus que 5880 publications pour completer l'année 2018\n"
          ]
        },
        {
          "name": "stderr",
          "output_type": "stream",
          "text": [
            "DEBUG:urllib3.connectionpool:Starting new HTTPS connection (1): api.openalex.org:443\n",
            "DEBUG:urllib3.connectionpool:https://api.openalex.org:443 \"GET /works?filter=has_doi:true,concepts_count:%3E0,publication_year:2018&sample=200&per-page=200 HTTP/1.1\" 200 285439\n"
          ]
        },
        {
          "name": "stdout",
          "output_type": "stream",
          "text": [
            "plus que 5784 publications pour completer l'année 2018\n"
          ]
        },
        {
          "name": "stderr",
          "output_type": "stream",
          "text": [
            "DEBUG:urllib3.connectionpool:Starting new HTTPS connection (1): api.openalex.org:443\n",
            "DEBUG:urllib3.connectionpool:https://api.openalex.org:443 \"GET /works?filter=has_doi:true,concepts_count:%3E0,publication_year:2018&sample=200&per-page=200 HTTP/1.1\" 200 320886\n"
          ]
        },
        {
          "name": "stdout",
          "output_type": "stream",
          "text": [
            "plus que 5673 publications pour completer l'année 2018\n"
          ]
        },
        {
          "name": "stderr",
          "output_type": "stream",
          "text": [
            "DEBUG:urllib3.connectionpool:Starting new HTTPS connection (1): api.openalex.org:443\n",
            "DEBUG:urllib3.connectionpool:https://api.openalex.org:443 \"GET /works?filter=has_doi:true,concepts_count:%3E0,publication_year:2018&sample=200&per-page=200 HTTP/1.1\" 200 301229\n"
          ]
        },
        {
          "name": "stdout",
          "output_type": "stream",
          "text": [
            "plus que 5559 publications pour completer l'année 2018\n"
          ]
        },
        {
          "name": "stderr",
          "output_type": "stream",
          "text": [
            "DEBUG:urllib3.connectionpool:Starting new HTTPS connection (1): api.openalex.org:443\n",
            "DEBUG:urllib3.connectionpool:https://api.openalex.org:443 \"GET /works?filter=has_doi:true,concepts_count:%3E0,publication_year:2018&sample=200&per-page=200 HTTP/1.1\" 200 341633\n"
          ]
        },
        {
          "name": "stdout",
          "output_type": "stream",
          "text": [
            "plus que 5455 publications pour completer l'année 2018\n"
          ]
        },
        {
          "name": "stderr",
          "output_type": "stream",
          "text": [
            "DEBUG:urllib3.connectionpool:Starting new HTTPS connection (1): api.openalex.org:443\n",
            "DEBUG:urllib3.connectionpool:https://api.openalex.org:443 \"GET /works?filter=has_doi:true,concepts_count:%3E0,publication_year:2018&sample=200&per-page=200 HTTP/1.1\" 200 359218\n"
          ]
        },
        {
          "name": "stdout",
          "output_type": "stream",
          "text": [
            "plus que 5332 publications pour completer l'année 2018\n"
          ]
        },
        {
          "name": "stderr",
          "output_type": "stream",
          "text": [
            "DEBUG:urllib3.connectionpool:Starting new HTTPS connection (1): api.openalex.org:443\n",
            "DEBUG:urllib3.connectionpool:https://api.openalex.org:443 \"GET /works?filter=has_doi:true,concepts_count:%3E0,publication_year:2018&sample=200&per-page=200 HTTP/1.1\" 200 314298\n"
          ]
        },
        {
          "name": "stdout",
          "output_type": "stream",
          "text": [
            "plus que 5219 publications pour completer l'année 2018\n"
          ]
        },
        {
          "name": "stderr",
          "output_type": "stream",
          "text": [
            "DEBUG:urllib3.connectionpool:Starting new HTTPS connection (1): api.openalex.org:443\n",
            "DEBUG:urllib3.connectionpool:https://api.openalex.org:443 \"GET /works?filter=has_doi:true,concepts_count:%3E0,publication_year:2018&sample=200&per-page=200 HTTP/1.1\" 200 331394\n"
          ]
        },
        {
          "name": "stdout",
          "output_type": "stream",
          "text": [
            "plus que 5116 publications pour completer l'année 2018\n"
          ]
        },
        {
          "name": "stderr",
          "output_type": "stream",
          "text": [
            "DEBUG:urllib3.connectionpool:Starting new HTTPS connection (1): api.openalex.org:443\n",
            "DEBUG:urllib3.connectionpool:https://api.openalex.org:443 \"GET /works?filter=has_doi:true,concepts_count:%3E0,publication_year:2018&sample=200&per-page=200 HTTP/1.1\" 200 300947\n"
          ]
        },
        {
          "name": "stdout",
          "output_type": "stream",
          "text": [
            "plus que 5015 publications pour completer l'année 2018\n"
          ]
        },
        {
          "name": "stderr",
          "output_type": "stream",
          "text": [
            "DEBUG:urllib3.connectionpool:Starting new HTTPS connection (1): api.openalex.org:443\n",
            "DEBUG:urllib3.connectionpool:https://api.openalex.org:443 \"GET /works?filter=has_doi:true,concepts_count:%3E0,publication_year:2018&sample=200&per-page=200 HTTP/1.1\" 200 311055\n"
          ]
        },
        {
          "name": "stdout",
          "output_type": "stream",
          "text": [
            "plus que 4918 publications pour completer l'année 2018\n"
          ]
        },
        {
          "name": "stderr",
          "output_type": "stream",
          "text": [
            "DEBUG:urllib3.connectionpool:Starting new HTTPS connection (1): api.openalex.org:443\n",
            "DEBUG:urllib3.connectionpool:https://api.openalex.org:443 \"GET /works?filter=has_doi:true,concepts_count:%3E0,publication_year:2018&sample=200&per-page=200 HTTP/1.1\" 200 333592\n"
          ]
        },
        {
          "name": "stdout",
          "output_type": "stream",
          "text": [
            "plus que 4802 publications pour completer l'année 2018\n"
          ]
        },
        {
          "name": "stderr",
          "output_type": "stream",
          "text": [
            "DEBUG:urllib3.connectionpool:Starting new HTTPS connection (1): api.openalex.org:443\n",
            "DEBUG:urllib3.connectionpool:https://api.openalex.org:443 \"GET /works?filter=has_doi:true,concepts_count:%3E0,publication_year:2018&sample=200&per-page=200 HTTP/1.1\" 200 311489\n"
          ]
        },
        {
          "name": "stdout",
          "output_type": "stream",
          "text": [
            "plus que 4703 publications pour completer l'année 2018\n"
          ]
        },
        {
          "name": "stderr",
          "output_type": "stream",
          "text": [
            "DEBUG:urllib3.connectionpool:Starting new HTTPS connection (1): api.openalex.org:443\n",
            "DEBUG:urllib3.connectionpool:https://api.openalex.org:443 \"GET /works?filter=has_doi:true,concepts_count:%3E0,publication_year:2018&sample=200&per-page=200 HTTP/1.1\" 200 309192\n"
          ]
        },
        {
          "name": "stdout",
          "output_type": "stream",
          "text": [
            "plus que 4599 publications pour completer l'année 2018\n"
          ]
        },
        {
          "name": "stderr",
          "output_type": "stream",
          "text": [
            "DEBUG:urllib3.connectionpool:Starting new HTTPS connection (1): api.openalex.org:443\n",
            "DEBUG:urllib3.connectionpool:https://api.openalex.org:443 \"GET /works?filter=has_doi:true,concepts_count:%3E0,publication_year:2018&sample=200&per-page=200 HTTP/1.1\" 200 291459\n"
          ]
        },
        {
          "name": "stdout",
          "output_type": "stream",
          "text": [
            "plus que 4491 publications pour completer l'année 2018\n"
          ]
        },
        {
          "name": "stderr",
          "output_type": "stream",
          "text": [
            "DEBUG:urllib3.connectionpool:Starting new HTTPS connection (1): api.openalex.org:443\n",
            "DEBUG:urllib3.connectionpool:https://api.openalex.org:443 \"GET /works?filter=has_doi:true,concepts_count:%3E0,publication_year:2018&sample=200&per-page=200 HTTP/1.1\" 200 307074\n"
          ]
        },
        {
          "name": "stdout",
          "output_type": "stream",
          "text": [
            "plus que 4397 publications pour completer l'année 2018\n"
          ]
        },
        {
          "name": "stderr",
          "output_type": "stream",
          "text": [
            "DEBUG:urllib3.connectionpool:Starting new HTTPS connection (1): api.openalex.org:443\n",
            "DEBUG:urllib3.connectionpool:https://api.openalex.org:443 \"GET /works?filter=has_doi:true,concepts_count:%3E0,publication_year:2018&sample=200&per-page=200 HTTP/1.1\" 200 339690\n"
          ]
        },
        {
          "name": "stdout",
          "output_type": "stream",
          "text": [
            "plus que 4292 publications pour completer l'année 2018\n"
          ]
        },
        {
          "name": "stderr",
          "output_type": "stream",
          "text": [
            "DEBUG:urllib3.connectionpool:Starting new HTTPS connection (1): api.openalex.org:443\n",
            "DEBUG:urllib3.connectionpool:https://api.openalex.org:443 \"GET /works?filter=has_doi:true,concepts_count:%3E0,publication_year:2018&sample=200&per-page=200 HTTP/1.1\" 200 307691\n"
          ]
        },
        {
          "name": "stdout",
          "output_type": "stream",
          "text": [
            "plus que 4189 publications pour completer l'année 2018\n"
          ]
        },
        {
          "name": "stderr",
          "output_type": "stream",
          "text": [
            "DEBUG:urllib3.connectionpool:Starting new HTTPS connection (1): api.openalex.org:443\n",
            "DEBUG:urllib3.connectionpool:https://api.openalex.org:443 \"GET /works?filter=has_doi:true,concepts_count:%3E0,publication_year:2018&sample=200&per-page=200 HTTP/1.1\" 200 329350\n"
          ]
        },
        {
          "name": "stdout",
          "output_type": "stream",
          "text": [
            "plus que 4082 publications pour completer l'année 2018\n"
          ]
        },
        {
          "name": "stderr",
          "output_type": "stream",
          "text": [
            "DEBUG:urllib3.connectionpool:Starting new HTTPS connection (1): api.openalex.org:443\n",
            "DEBUG:urllib3.connectionpool:https://api.openalex.org:443 \"GET /works?filter=has_doi:true,concepts_count:%3E0,publication_year:2018&sample=200&per-page=200 HTTP/1.1\" 200 331549\n"
          ]
        },
        {
          "name": "stdout",
          "output_type": "stream",
          "text": [
            "plus que 3981 publications pour completer l'année 2018\n"
          ]
        },
        {
          "name": "stderr",
          "output_type": "stream",
          "text": [
            "DEBUG:urllib3.connectionpool:Starting new HTTPS connection (1): api.openalex.org:443\n",
            "DEBUG:urllib3.connectionpool:https://api.openalex.org:443 \"GET /works?filter=has_doi:true,concepts_count:%3E0,publication_year:2018&sample=200&per-page=200 HTTP/1.1\" 200 299848\n"
          ]
        },
        {
          "name": "stdout",
          "output_type": "stream",
          "text": [
            "plus que 3875 publications pour completer l'année 2018\n"
          ]
        },
        {
          "name": "stderr",
          "output_type": "stream",
          "text": [
            "DEBUG:urllib3.connectionpool:Starting new HTTPS connection (1): api.openalex.org:443\n",
            "DEBUG:urllib3.connectionpool:https://api.openalex.org:443 \"GET /works?filter=has_doi:true,concepts_count:%3E0,publication_year:2018&sample=200&per-page=200 HTTP/1.1\" 200 311961\n"
          ]
        },
        {
          "name": "stdout",
          "output_type": "stream",
          "text": [
            "plus que 3766 publications pour completer l'année 2018\n"
          ]
        },
        {
          "name": "stderr",
          "output_type": "stream",
          "text": [
            "DEBUG:urllib3.connectionpool:Starting new HTTPS connection (1): api.openalex.org:443\n",
            "DEBUG:urllib3.connectionpool:https://api.openalex.org:443 \"GET /works?filter=has_doi:true,concepts_count:%3E0,publication_year:2018&sample=200&per-page=200 HTTP/1.1\" 200 343313\n"
          ]
        },
        {
          "name": "stdout",
          "output_type": "stream",
          "text": [
            "plus que 3659 publications pour completer l'année 2018\n"
          ]
        },
        {
          "name": "stderr",
          "output_type": "stream",
          "text": [
            "DEBUG:urllib3.connectionpool:Starting new HTTPS connection (1): api.openalex.org:443\n",
            "DEBUG:urllib3.connectionpool:https://api.openalex.org:443 \"GET /works?filter=has_doi:true,concepts_count:%3E0,publication_year:2018&sample=200&per-page=200 HTTP/1.1\" 200 287210\n"
          ]
        },
        {
          "name": "stdout",
          "output_type": "stream",
          "text": [
            "plus que 3537 publications pour completer l'année 2018\n"
          ]
        },
        {
          "name": "stderr",
          "output_type": "stream",
          "text": [
            "DEBUG:urllib3.connectionpool:Starting new HTTPS connection (1): api.openalex.org:443\n",
            "DEBUG:urllib3.connectionpool:https://api.openalex.org:443 \"GET /works?filter=has_doi:true,concepts_count:%3E0,publication_year:2018&sample=200&per-page=200 HTTP/1.1\" 200 365085\n"
          ]
        },
        {
          "name": "stdout",
          "output_type": "stream",
          "text": [
            "plus que 3446 publications pour completer l'année 2018\n"
          ]
        },
        {
          "name": "stderr",
          "output_type": "stream",
          "text": [
            "DEBUG:urllib3.connectionpool:Starting new HTTPS connection (1): api.openalex.org:443\n",
            "DEBUG:urllib3.connectionpool:https://api.openalex.org:443 \"GET /works?filter=has_doi:true,concepts_count:%3E0,publication_year:2018&sample=200&per-page=200 HTTP/1.1\" 200 346868\n"
          ]
        },
        {
          "name": "stdout",
          "output_type": "stream",
          "text": [
            "plus que 3336 publications pour completer l'année 2018\n"
          ]
        },
        {
          "name": "stderr",
          "output_type": "stream",
          "text": [
            "DEBUG:urllib3.connectionpool:Starting new HTTPS connection (1): api.openalex.org:443\n",
            "DEBUG:urllib3.connectionpool:https://api.openalex.org:443 \"GET /works?filter=has_doi:true,concepts_count:%3E0,publication_year:2018&sample=200&per-page=200 HTTP/1.1\" 200 302037\n"
          ]
        },
        {
          "name": "stdout",
          "output_type": "stream",
          "text": [
            "plus que 3219 publications pour completer l'année 2018\n"
          ]
        },
        {
          "name": "stderr",
          "output_type": "stream",
          "text": [
            "DEBUG:urllib3.connectionpool:Starting new HTTPS connection (1): api.openalex.org:443\n",
            "DEBUG:urllib3.connectionpool:https://api.openalex.org:443 \"GET /works?filter=has_doi:true,concepts_count:%3E0,publication_year:2018&sample=200&per-page=200 HTTP/1.1\" 200 300358\n"
          ]
        },
        {
          "name": "stdout",
          "output_type": "stream",
          "text": [
            "plus que 3110 publications pour completer l'année 2018\n"
          ]
        },
        {
          "name": "stderr",
          "output_type": "stream",
          "text": [
            "DEBUG:urllib3.connectionpool:Starting new HTTPS connection (1): api.openalex.org:443\n",
            "DEBUG:urllib3.connectionpool:https://api.openalex.org:443 \"GET /works?filter=has_doi:true,concepts_count:%3E0,publication_year:2018&sample=200&per-page=200 HTTP/1.1\" 200 280497\n"
          ]
        },
        {
          "name": "stdout",
          "output_type": "stream",
          "text": [
            "plus que 3006 publications pour completer l'année 2018\n"
          ]
        },
        {
          "name": "stderr",
          "output_type": "stream",
          "text": [
            "DEBUG:urllib3.connectionpool:Starting new HTTPS connection (1): api.openalex.org:443\n",
            "DEBUG:urllib3.connectionpool:https://api.openalex.org:443 \"GET /works?filter=has_doi:true,concepts_count:%3E0,publication_year:2018&sample=200&per-page=200 HTTP/1.1\" 200 306867\n"
          ]
        },
        {
          "name": "stdout",
          "output_type": "stream",
          "text": [
            "plus que 2905 publications pour completer l'année 2018\n"
          ]
        },
        {
          "name": "stderr",
          "output_type": "stream",
          "text": [
            "DEBUG:urllib3.connectionpool:Starting new HTTPS connection (1): api.openalex.org:443\n",
            "DEBUG:urllib3.connectionpool:https://api.openalex.org:443 \"GET /works?filter=has_doi:true,concepts_count:%3E0,publication_year:2018&sample=200&per-page=200 HTTP/1.1\" 200 269549\n"
          ]
        },
        {
          "name": "stdout",
          "output_type": "stream",
          "text": [
            "plus que 2795 publications pour completer l'année 2018\n"
          ]
        },
        {
          "name": "stderr",
          "output_type": "stream",
          "text": [
            "DEBUG:urllib3.connectionpool:Starting new HTTPS connection (1): api.openalex.org:443\n",
            "DEBUG:urllib3.connectionpool:https://api.openalex.org:443 \"GET /works?filter=has_doi:true,concepts_count:%3E0,publication_year:2018&sample=200&per-page=200 HTTP/1.1\" 200 291850\n"
          ]
        },
        {
          "name": "stdout",
          "output_type": "stream",
          "text": [
            "plus que 2703 publications pour completer l'année 2018\n"
          ]
        },
        {
          "name": "stderr",
          "output_type": "stream",
          "text": [
            "DEBUG:urllib3.connectionpool:Starting new HTTPS connection (1): api.openalex.org:443\n",
            "DEBUG:urllib3.connectionpool:https://api.openalex.org:443 \"GET /works?filter=has_doi:true,concepts_count:%3E0,publication_year:2018&sample=200&per-page=200 HTTP/1.1\" 200 299229\n"
          ]
        },
        {
          "name": "stdout",
          "output_type": "stream",
          "text": [
            "plus que 2606 publications pour completer l'année 2018\n"
          ]
        },
        {
          "name": "stderr",
          "output_type": "stream",
          "text": [
            "DEBUG:urllib3.connectionpool:Starting new HTTPS connection (1): api.openalex.org:443\n",
            "DEBUG:urllib3.connectionpool:https://api.openalex.org:443 \"GET /works?filter=has_doi:true,concepts_count:%3E0,publication_year:2018&sample=200&per-page=200 HTTP/1.1\" 200 311886\n"
          ]
        },
        {
          "name": "stdout",
          "output_type": "stream",
          "text": [
            "plus que 2511 publications pour completer l'année 2018\n"
          ]
        },
        {
          "name": "stderr",
          "output_type": "stream",
          "text": [
            "DEBUG:urllib3.connectionpool:Starting new HTTPS connection (1): api.openalex.org:443\n",
            "DEBUG:urllib3.connectionpool:https://api.openalex.org:443 \"GET /works?filter=has_doi:true,concepts_count:%3E0,publication_year:2018&sample=200&per-page=200 HTTP/1.1\" 200 304642\n"
          ]
        },
        {
          "name": "stdout",
          "output_type": "stream",
          "text": [
            "plus que 2415 publications pour completer l'année 2018\n"
          ]
        },
        {
          "name": "stderr",
          "output_type": "stream",
          "text": [
            "DEBUG:urllib3.connectionpool:Starting new HTTPS connection (1): api.openalex.org:443\n",
            "DEBUG:urllib3.connectionpool:https://api.openalex.org:443 \"GET /works?filter=has_doi:true,concepts_count:%3E0,publication_year:2018&sample=200&per-page=200 HTTP/1.1\" 200 299022\n"
          ]
        },
        {
          "name": "stdout",
          "output_type": "stream",
          "text": [
            "plus que 2300 publications pour completer l'année 2018\n"
          ]
        },
        {
          "name": "stderr",
          "output_type": "stream",
          "text": [
            "DEBUG:urllib3.connectionpool:Starting new HTTPS connection (1): api.openalex.org:443\n",
            "DEBUG:urllib3.connectionpool:https://api.openalex.org:443 \"GET /works?filter=has_doi:true,concepts_count:%3E0,publication_year:2018&sample=200&per-page=200 HTTP/1.1\" 200 347991\n"
          ]
        },
        {
          "name": "stdout",
          "output_type": "stream",
          "text": [
            "plus que 2195 publications pour completer l'année 2018\n"
          ]
        },
        {
          "name": "stderr",
          "output_type": "stream",
          "text": [
            "DEBUG:urllib3.connectionpool:Starting new HTTPS connection (1): api.openalex.org:443\n",
            "DEBUG:urllib3.connectionpool:https://api.openalex.org:443 \"GET /works?filter=has_doi:true,concepts_count:%3E0,publication_year:2018&sample=200&per-page=200 HTTP/1.1\" 200 304254\n"
          ]
        },
        {
          "name": "stdout",
          "output_type": "stream",
          "text": [
            "plus que 2083 publications pour completer l'année 2018\n"
          ]
        },
        {
          "name": "stderr",
          "output_type": "stream",
          "text": [
            "DEBUG:urllib3.connectionpool:Starting new HTTPS connection (1): api.openalex.org:443\n",
            "DEBUG:urllib3.connectionpool:https://api.openalex.org:443 \"GET /works?filter=has_doi:true,concepts_count:%3E0,publication_year:2018&sample=200&per-page=200 HTTP/1.1\" 200 354606\n"
          ]
        },
        {
          "name": "stdout",
          "output_type": "stream",
          "text": [
            "plus que 1978 publications pour completer l'année 2018\n"
          ]
        },
        {
          "name": "stderr",
          "output_type": "stream",
          "text": [
            "DEBUG:urllib3.connectionpool:Starting new HTTPS connection (1): api.openalex.org:443\n",
            "DEBUG:urllib3.connectionpool:https://api.openalex.org:443 \"GET /works?filter=has_doi:true,concepts_count:%3E0,publication_year:2018&sample=200&per-page=200 HTTP/1.1\" 200 297057\n"
          ]
        },
        {
          "name": "stdout",
          "output_type": "stream",
          "text": [
            "plus que 1857 publications pour completer l'année 2018\n"
          ]
        },
        {
          "name": "stderr",
          "output_type": "stream",
          "text": [
            "DEBUG:urllib3.connectionpool:Starting new HTTPS connection (1): api.openalex.org:443\n",
            "DEBUG:urllib3.connectionpool:https://api.openalex.org:443 \"GET /works?filter=has_doi:true,concepts_count:%3E0,publication_year:2018&sample=200&per-page=200 HTTP/1.1\" 200 316766\n"
          ]
        },
        {
          "name": "stdout",
          "output_type": "stream",
          "text": [
            "plus que 1752 publications pour completer l'année 2018\n"
          ]
        },
        {
          "name": "stderr",
          "output_type": "stream",
          "text": [
            "DEBUG:urllib3.connectionpool:Starting new HTTPS connection (1): api.openalex.org:443\n",
            "DEBUG:urllib3.connectionpool:https://api.openalex.org:443 \"GET /works?filter=has_doi:true,concepts_count:%3E0,publication_year:2018&sample=200&per-page=200 HTTP/1.1\" 200 300700\n"
          ]
        },
        {
          "name": "stdout",
          "output_type": "stream",
          "text": [
            "plus que 1648 publications pour completer l'année 2018\n"
          ]
        },
        {
          "name": "stderr",
          "output_type": "stream",
          "text": [
            "DEBUG:urllib3.connectionpool:Starting new HTTPS connection (1): api.openalex.org:443\n",
            "DEBUG:urllib3.connectionpool:https://api.openalex.org:443 \"GET /works?filter=has_doi:true,concepts_count:%3E0,publication_year:2018&sample=200&per-page=200 HTTP/1.1\" 200 313992\n"
          ]
        },
        {
          "name": "stdout",
          "output_type": "stream",
          "text": [
            "plus que 1549 publications pour completer l'année 2018\n"
          ]
        },
        {
          "name": "stderr",
          "output_type": "stream",
          "text": [
            "DEBUG:urllib3.connectionpool:Starting new HTTPS connection (1): api.openalex.org:443\n",
            "DEBUG:urllib3.connectionpool:https://api.openalex.org:443 \"GET /works?filter=has_doi:true,concepts_count:%3E0,publication_year:2018&sample=200&per-page=200 HTTP/1.1\" 200 303483\n"
          ]
        },
        {
          "name": "stdout",
          "output_type": "stream",
          "text": [
            "plus que 1437 publications pour completer l'année 2018\n"
          ]
        },
        {
          "name": "stderr",
          "output_type": "stream",
          "text": [
            "DEBUG:urllib3.connectionpool:Starting new HTTPS connection (1): api.openalex.org:443\n",
            "DEBUG:urllib3.connectionpool:https://api.openalex.org:443 \"GET /works?filter=has_doi:true,concepts_count:%3E0,publication_year:2018&sample=200&per-page=200 HTTP/1.1\" 200 315771\n"
          ]
        },
        {
          "name": "stdout",
          "output_type": "stream",
          "text": [
            "plus que 1335 publications pour completer l'année 2018\n"
          ]
        },
        {
          "name": "stderr",
          "output_type": "stream",
          "text": [
            "DEBUG:urllib3.connectionpool:Starting new HTTPS connection (1): api.openalex.org:443\n",
            "DEBUG:urllib3.connectionpool:https://api.openalex.org:443 \"GET /works?filter=has_doi:true,concepts_count:%3E0,publication_year:2018&sample=200&per-page=200 HTTP/1.1\" 200 315698\n"
          ]
        },
        {
          "name": "stdout",
          "output_type": "stream",
          "text": [
            "plus que 1235 publications pour completer l'année 2018\n"
          ]
        },
        {
          "name": "stderr",
          "output_type": "stream",
          "text": [
            "DEBUG:urllib3.connectionpool:Starting new HTTPS connection (1): api.openalex.org:443\n",
            "DEBUG:urllib3.connectionpool:https://api.openalex.org:443 \"GET /works?filter=has_doi:true,concepts_count:%3E0,publication_year:2018&sample=200&per-page=200 HTTP/1.1\" 200 322626\n"
          ]
        },
        {
          "name": "stdout",
          "output_type": "stream",
          "text": [
            "plus que 1130 publications pour completer l'année 2018\n"
          ]
        },
        {
          "name": "stderr",
          "output_type": "stream",
          "text": [
            "DEBUG:urllib3.connectionpool:Starting new HTTPS connection (1): api.openalex.org:443\n",
            "DEBUG:urllib3.connectionpool:https://api.openalex.org:443 \"GET /works?filter=has_doi:true,concepts_count:%3E0,publication_year:2018&sample=200&per-page=200 HTTP/1.1\" 200 304029\n"
          ]
        },
        {
          "name": "stdout",
          "output_type": "stream",
          "text": [
            "plus que 1024 publications pour completer l'année 2018\n"
          ]
        },
        {
          "name": "stderr",
          "output_type": "stream",
          "text": [
            "DEBUG:urllib3.connectionpool:Starting new HTTPS connection (1): api.openalex.org:443\n",
            "DEBUG:urllib3.connectionpool:https://api.openalex.org:443 \"GET /works?filter=has_doi:true,concepts_count:%3E0,publication_year:2018&sample=200&per-page=200 HTTP/1.1\" 200 315036\n"
          ]
        },
        {
          "name": "stdout",
          "output_type": "stream",
          "text": [
            "plus que 926 publications pour completer l'année 2018\n"
          ]
        },
        {
          "name": "stderr",
          "output_type": "stream",
          "text": [
            "DEBUG:urllib3.connectionpool:Starting new HTTPS connection (1): api.openalex.org:443\n",
            "DEBUG:urllib3.connectionpool:https://api.openalex.org:443 \"GET /works?filter=has_doi:true,concepts_count:%3E0,publication_year:2018&sample=200&per-page=200 HTTP/1.1\" 200 299854\n"
          ]
        },
        {
          "name": "stdout",
          "output_type": "stream",
          "text": [
            "plus que 824 publications pour completer l'année 2018\n"
          ]
        },
        {
          "name": "stderr",
          "output_type": "stream",
          "text": [
            "DEBUG:urllib3.connectionpool:Starting new HTTPS connection (1): api.openalex.org:443\n",
            "DEBUG:urllib3.connectionpool:https://api.openalex.org:443 \"GET /works?filter=has_doi:true,concepts_count:%3E0,publication_year:2018&sample=200&per-page=200 HTTP/1.1\" 200 284028\n"
          ]
        },
        {
          "name": "stdout",
          "output_type": "stream",
          "text": [
            "plus que 716 publications pour completer l'année 2018\n"
          ]
        },
        {
          "name": "stderr",
          "output_type": "stream",
          "text": [
            "DEBUG:urllib3.connectionpool:Starting new HTTPS connection (1): api.openalex.org:443\n",
            "DEBUG:urllib3.connectionpool:https://api.openalex.org:443 \"GET /works?filter=has_doi:true,concepts_count:%3E0,publication_year:2018&sample=200&per-page=200 HTTP/1.1\" 200 329286\n"
          ]
        },
        {
          "name": "stdout",
          "output_type": "stream",
          "text": [
            "plus que 604 publications pour completer l'année 2018\n"
          ]
        },
        {
          "name": "stderr",
          "output_type": "stream",
          "text": [
            "DEBUG:urllib3.connectionpool:Starting new HTTPS connection (1): api.openalex.org:443\n",
            "DEBUG:urllib3.connectionpool:https://api.openalex.org:443 \"GET /works?filter=has_doi:true,concepts_count:%3E0,publication_year:2018&sample=200&per-page=200 HTTP/1.1\" 200 296705\n"
          ]
        },
        {
          "name": "stdout",
          "output_type": "stream",
          "text": [
            "plus que 494 publications pour completer l'année 2018\n"
          ]
        },
        {
          "name": "stderr",
          "output_type": "stream",
          "text": [
            "DEBUG:urllib3.connectionpool:Starting new HTTPS connection (1): api.openalex.org:443\n",
            "DEBUG:urllib3.connectionpool:https://api.openalex.org:443 \"GET /works?filter=has_doi:true,concepts_count:%3E0,publication_year:2018&sample=200&per-page=200 HTTP/1.1\" 200 307787\n"
          ]
        },
        {
          "name": "stdout",
          "output_type": "stream",
          "text": [
            "plus que 396 publications pour completer l'année 2018\n"
          ]
        },
        {
          "name": "stderr",
          "output_type": "stream",
          "text": [
            "DEBUG:urllib3.connectionpool:Starting new HTTPS connection (1): api.openalex.org:443\n",
            "DEBUG:urllib3.connectionpool:https://api.openalex.org:443 \"GET /works?filter=has_doi:true,concepts_count:%3E0,publication_year:2018&sample=200&per-page=200 HTTP/1.1\" 200 305696\n"
          ]
        },
        {
          "name": "stdout",
          "output_type": "stream",
          "text": [
            "plus que 296 publications pour completer l'année 2018\n"
          ]
        },
        {
          "name": "stderr",
          "output_type": "stream",
          "text": [
            "DEBUG:urllib3.connectionpool:Starting new HTTPS connection (1): api.openalex.org:443\n",
            "DEBUG:urllib3.connectionpool:https://api.openalex.org:443 \"GET /works?filter=has_doi:true,concepts_count:%3E0,publication_year:2018&sample=200&per-page=200 HTTP/1.1\" 200 288949\n"
          ]
        },
        {
          "name": "stdout",
          "output_type": "stream",
          "text": [
            "plus que 196 publications pour completer l'année 2018\n"
          ]
        },
        {
          "name": "stderr",
          "output_type": "stream",
          "text": [
            "DEBUG:urllib3.connectionpool:Starting new HTTPS connection (1): api.openalex.org:443\n",
            "DEBUG:urllib3.connectionpool:https://api.openalex.org:443 \"GET /works?filter=has_doi:true,concepts_count:%3E0,publication_year:2018&sample=200&per-page=200 HTTP/1.1\" 200 306820\n"
          ]
        },
        {
          "name": "stdout",
          "output_type": "stream",
          "text": [
            "plus que 98 publications pour completer l'année 2018\n"
          ]
        },
        {
          "name": "stderr",
          "output_type": "stream",
          "text": [
            "DEBUG:urllib3.connectionpool:Starting new HTTPS connection (1): api.openalex.org:443\n",
            "DEBUG:urllib3.connectionpool:https://api.openalex.org:443 \"GET /works?filter=has_doi:true,concepts_count:%3E0,publication_year:2018&sample=200&per-page=200 HTTP/1.1\" 200 323613\n"
          ]
        },
        {
          "name": "stdout",
          "output_type": "stream",
          "text": [
            "plus que 8 publications pour completer l'année 2018\n"
          ]
        },
        {
          "name": "stderr",
          "output_type": "stream",
          "text": [
            "DEBUG:urllib3.connectionpool:Starting new HTTPS connection (1): api.openalex.org:443\n",
            "DEBUG:urllib3.connectionpool:https://api.openalex.org:443 \"GET /works?filter=has_doi:true,concepts_count:%3E0,publication_year:2019&sample=200&per-page=200 HTTP/1.1\" 200 317936\n"
          ]
        },
        {
          "name": "stdout",
          "output_type": "stream",
          "text": [
            "plus que 6564 publications pour completer l'année 2019\n"
          ]
        },
        {
          "name": "stderr",
          "output_type": "stream",
          "text": [
            "DEBUG:urllib3.connectionpool:Starting new HTTPS connection (1): api.openalex.org:443\n",
            "DEBUG:urllib3.connectionpool:https://api.openalex.org:443 \"GET /works?filter=has_doi:true,concepts_count:%3E0,publication_year:2019&sample=200&per-page=200 HTTP/1.1\" 200 289993\n"
          ]
        },
        {
          "name": "stdout",
          "output_type": "stream",
          "text": [
            "plus que 6456 publications pour completer l'année 2019\n"
          ]
        },
        {
          "name": "stderr",
          "output_type": "stream",
          "text": [
            "DEBUG:urllib3.connectionpool:Starting new HTTPS connection (1): api.openalex.org:443\n",
            "DEBUG:urllib3.connectionpool:https://api.openalex.org:443 \"GET /works?filter=has_doi:true,concepts_count:%3E0,publication_year:2019&sample=200&per-page=200 HTTP/1.1\" 200 304541\n"
          ]
        },
        {
          "name": "stdout",
          "output_type": "stream",
          "text": [
            "plus que 6351 publications pour completer l'année 2019\n"
          ]
        },
        {
          "name": "stderr",
          "output_type": "stream",
          "text": [
            "DEBUG:urllib3.connectionpool:Starting new HTTPS connection (1): api.openalex.org:443\n",
            "DEBUG:urllib3.connectionpool:https://api.openalex.org:443 \"GET /works?filter=has_doi:true,concepts_count:%3E0,publication_year:2019&sample=200&per-page=200 HTTP/1.1\" 200 327336\n"
          ]
        },
        {
          "name": "stdout",
          "output_type": "stream",
          "text": [
            "plus que 6240 publications pour completer l'année 2019\n"
          ]
        },
        {
          "name": "stderr",
          "output_type": "stream",
          "text": [
            "DEBUG:urllib3.connectionpool:Starting new HTTPS connection (1): api.openalex.org:443\n",
            "DEBUG:urllib3.connectionpool:https://api.openalex.org:443 \"GET /works?filter=has_doi:true,concepts_count:%3E0,publication_year:2019&sample=200&per-page=200 HTTP/1.1\" 200 326324\n"
          ]
        },
        {
          "name": "stdout",
          "output_type": "stream",
          "text": [
            "plus que 6152 publications pour completer l'année 2019\n"
          ]
        },
        {
          "name": "stderr",
          "output_type": "stream",
          "text": [
            "DEBUG:urllib3.connectionpool:Starting new HTTPS connection (1): api.openalex.org:443\n",
            "DEBUG:urllib3.connectionpool:https://api.openalex.org:443 \"GET /works?filter=has_doi:true,concepts_count:%3E0,publication_year:2019&sample=200&per-page=200 HTTP/1.1\" 200 297800\n"
          ]
        },
        {
          "name": "stdout",
          "output_type": "stream",
          "text": [
            "plus que 6060 publications pour completer l'année 2019\n"
          ]
        },
        {
          "name": "stderr",
          "output_type": "stream",
          "text": [
            "DEBUG:urllib3.connectionpool:Starting new HTTPS connection (1): api.openalex.org:443\n",
            "DEBUG:urllib3.connectionpool:https://api.openalex.org:443 \"GET /works?filter=has_doi:true,concepts_count:%3E0,publication_year:2019&sample=200&per-page=200 HTTP/1.1\" 200 301246\n"
          ]
        },
        {
          "name": "stdout",
          "output_type": "stream",
          "text": [
            "plus que 5959 publications pour completer l'année 2019\n"
          ]
        },
        {
          "name": "stderr",
          "output_type": "stream",
          "text": [
            "DEBUG:urllib3.connectionpool:Starting new HTTPS connection (1): api.openalex.org:443\n",
            "DEBUG:urllib3.connectionpool:https://api.openalex.org:443 \"GET /works?filter=has_doi:true,concepts_count:%3E0,publication_year:2019&sample=200&per-page=200 HTTP/1.1\" 200 348869\n"
          ]
        },
        {
          "name": "stdout",
          "output_type": "stream",
          "text": [
            "plus que 5872 publications pour completer l'année 2019\n"
          ]
        },
        {
          "name": "stderr",
          "output_type": "stream",
          "text": [
            "DEBUG:urllib3.connectionpool:Starting new HTTPS connection (1): api.openalex.org:443\n",
            "DEBUG:urllib3.connectionpool:https://api.openalex.org:443 \"GET /works?filter=has_doi:true,concepts_count:%3E0,publication_year:2019&sample=200&per-page=200 HTTP/1.1\" 200 300826\n"
          ]
        },
        {
          "name": "stdout",
          "output_type": "stream",
          "text": [
            "plus que 5772 publications pour completer l'année 2019\n"
          ]
        },
        {
          "name": "stderr",
          "output_type": "stream",
          "text": [
            "DEBUG:urllib3.connectionpool:Starting new HTTPS connection (1): api.openalex.org:443\n",
            "DEBUG:urllib3.connectionpool:https://api.openalex.org:443 \"GET /works?filter=has_doi:true,concepts_count:%3E0,publication_year:2019&sample=200&per-page=200 HTTP/1.1\" 200 340645\n"
          ]
        },
        {
          "name": "stdout",
          "output_type": "stream",
          "text": [
            "plus que 5667 publications pour completer l'année 2019\n"
          ]
        },
        {
          "name": "stderr",
          "output_type": "stream",
          "text": [
            "DEBUG:urllib3.connectionpool:Starting new HTTPS connection (1): api.openalex.org:443\n",
            "DEBUG:urllib3.connectionpool:https://api.openalex.org:443 \"GET /works?filter=has_doi:true,concepts_count:%3E0,publication_year:2019&sample=200&per-page=200 HTTP/1.1\" 200 357568\n"
          ]
        },
        {
          "name": "stdout",
          "output_type": "stream",
          "text": [
            "plus que 5564 publications pour completer l'année 2019\n"
          ]
        },
        {
          "name": "stderr",
          "output_type": "stream",
          "text": [
            "DEBUG:urllib3.connectionpool:Starting new HTTPS connection (1): api.openalex.org:443\n",
            "DEBUG:urllib3.connectionpool:https://api.openalex.org:443 \"GET /works?filter=has_doi:true,concepts_count:%3E0,publication_year:2019&sample=200&per-page=200 HTTP/1.1\" 200 305937\n"
          ]
        },
        {
          "name": "stdout",
          "output_type": "stream",
          "text": [
            "plus que 5464 publications pour completer l'année 2019\n"
          ]
        },
        {
          "name": "stderr",
          "output_type": "stream",
          "text": [
            "DEBUG:urllib3.connectionpool:Starting new HTTPS connection (1): api.openalex.org:443\n",
            "DEBUG:urllib3.connectionpool:https://api.openalex.org:443 \"GET /works?filter=has_doi:true,concepts_count:%3E0,publication_year:2019&sample=200&per-page=200 HTTP/1.1\" 200 359615\n"
          ]
        },
        {
          "name": "stdout",
          "output_type": "stream",
          "text": [
            "plus que 5347 publications pour completer l'année 2019\n"
          ]
        },
        {
          "name": "stderr",
          "output_type": "stream",
          "text": [
            "DEBUG:urllib3.connectionpool:Starting new HTTPS connection (1): api.openalex.org:443\n",
            "DEBUG:urllib3.connectionpool:https://api.openalex.org:443 \"GET /works?filter=has_doi:true,concepts_count:%3E0,publication_year:2019&sample=200&per-page=200 HTTP/1.1\" 200 368630\n"
          ]
        },
        {
          "name": "stdout",
          "output_type": "stream",
          "text": [
            "plus que 5231 publications pour completer l'année 2019\n"
          ]
        },
        {
          "name": "stderr",
          "output_type": "stream",
          "text": [
            "DEBUG:urllib3.connectionpool:Starting new HTTPS connection (1): api.openalex.org:443\n",
            "DEBUG:urllib3.connectionpool:https://api.openalex.org:443 \"GET /works?filter=has_doi:true,concepts_count:%3E0,publication_year:2019&sample=200&per-page=200 HTTP/1.1\" 200 364477\n"
          ]
        },
        {
          "name": "stdout",
          "output_type": "stream",
          "text": [
            "plus que 5118 publications pour completer l'année 2019\n"
          ]
        },
        {
          "name": "stderr",
          "output_type": "stream",
          "text": [
            "DEBUG:urllib3.connectionpool:Starting new HTTPS connection (1): api.openalex.org:443\n",
            "DEBUG:urllib3.connectionpool:https://api.openalex.org:443 \"GET /works?filter=has_doi:true,concepts_count:%3E0,publication_year:2019&sample=200&per-page=200 HTTP/1.1\" 200 275261\n"
          ]
        },
        {
          "name": "stdout",
          "output_type": "stream",
          "text": [
            "plus que 5000 publications pour completer l'année 2019\n"
          ]
        },
        {
          "name": "stderr",
          "output_type": "stream",
          "text": [
            "DEBUG:urllib3.connectionpool:Starting new HTTPS connection (1): api.openalex.org:443\n",
            "DEBUG:urllib3.connectionpool:https://api.openalex.org:443 \"GET /works?filter=has_doi:true,concepts_count:%3E0,publication_year:2019&sample=200&per-page=200 HTTP/1.1\" 200 338256\n"
          ]
        },
        {
          "name": "stdout",
          "output_type": "stream",
          "text": [
            "plus que 4904 publications pour completer l'année 2019\n"
          ]
        },
        {
          "name": "stderr",
          "output_type": "stream",
          "text": [
            "DEBUG:urllib3.connectionpool:Starting new HTTPS connection (1): api.openalex.org:443\n",
            "DEBUG:urllib3.connectionpool:https://api.openalex.org:443 \"GET /works?filter=has_doi:true,concepts_count:%3E0,publication_year:2019&sample=200&per-page=200 HTTP/1.1\" 200 344175\n"
          ]
        },
        {
          "name": "stdout",
          "output_type": "stream",
          "text": [
            "plus que 4798 publications pour completer l'année 2019\n"
          ]
        },
        {
          "name": "stderr",
          "output_type": "stream",
          "text": [
            "DEBUG:urllib3.connectionpool:Starting new HTTPS connection (1): api.openalex.org:443\n",
            "DEBUG:urllib3.connectionpool:https://api.openalex.org:443 \"GET /works?filter=has_doi:true,concepts_count:%3E0,publication_year:2019&sample=200&per-page=200 HTTP/1.1\" 200 335311\n"
          ]
        },
        {
          "name": "stdout",
          "output_type": "stream",
          "text": [
            "plus que 4694 publications pour completer l'année 2019\n"
          ]
        },
        {
          "name": "stderr",
          "output_type": "stream",
          "text": [
            "DEBUG:urllib3.connectionpool:Starting new HTTPS connection (1): api.openalex.org:443\n",
            "DEBUG:urllib3.connectionpool:https://api.openalex.org:443 \"GET /works?filter=has_doi:true,concepts_count:%3E0,publication_year:2019&sample=200&per-page=200 HTTP/1.1\" 200 298340\n"
          ]
        },
        {
          "name": "stdout",
          "output_type": "stream",
          "text": [
            "plus que 4576 publications pour completer l'année 2019\n"
          ]
        },
        {
          "name": "stderr",
          "output_type": "stream",
          "text": [
            "DEBUG:urllib3.connectionpool:Starting new HTTPS connection (1): api.openalex.org:443\n",
            "DEBUG:urllib3.connectionpool:https://api.openalex.org:443 \"GET /works?filter=has_doi:true,concepts_count:%3E0,publication_year:2019&sample=200&per-page=200 HTTP/1.1\" 200 308780\n"
          ]
        },
        {
          "name": "stdout",
          "output_type": "stream",
          "text": [
            "plus que 4462 publications pour completer l'année 2019\n"
          ]
        },
        {
          "name": "stderr",
          "output_type": "stream",
          "text": [
            "DEBUG:urllib3.connectionpool:Starting new HTTPS connection (1): api.openalex.org:443\n",
            "DEBUG:urllib3.connectionpool:https://api.openalex.org:443 \"GET /works?filter=has_doi:true,concepts_count:%3E0,publication_year:2019&sample=200&per-page=200 HTTP/1.1\" 200 347544\n"
          ]
        },
        {
          "name": "stdout",
          "output_type": "stream",
          "text": [
            "plus que 4351 publications pour completer l'année 2019\n"
          ]
        },
        {
          "name": "stderr",
          "output_type": "stream",
          "text": [
            "DEBUG:urllib3.connectionpool:Starting new HTTPS connection (1): api.openalex.org:443\n",
            "DEBUG:urllib3.connectionpool:https://api.openalex.org:443 \"GET /works?filter=has_doi:true,concepts_count:%3E0,publication_year:2019&sample=200&per-page=200 HTTP/1.1\" 200 300479\n"
          ]
        },
        {
          "name": "stdout",
          "output_type": "stream",
          "text": [
            "plus que 4227 publications pour completer l'année 2019\n"
          ]
        },
        {
          "name": "stderr",
          "output_type": "stream",
          "text": [
            "DEBUG:urllib3.connectionpool:Starting new HTTPS connection (1): api.openalex.org:443\n",
            "DEBUG:urllib3.connectionpool:https://api.openalex.org:443 \"GET /works?filter=has_doi:true,concepts_count:%3E0,publication_year:2019&sample=200&per-page=200 HTTP/1.1\" 200 321303\n"
          ]
        },
        {
          "name": "stdout",
          "output_type": "stream",
          "text": [
            "plus que 4137 publications pour completer l'année 2019\n"
          ]
        },
        {
          "name": "stderr",
          "output_type": "stream",
          "text": [
            "DEBUG:urllib3.connectionpool:Starting new HTTPS connection (1): api.openalex.org:443\n",
            "DEBUG:urllib3.connectionpool:https://api.openalex.org:443 \"GET /works?filter=has_doi:true,concepts_count:%3E0,publication_year:2019&sample=200&per-page=200 HTTP/1.1\" 200 328327\n"
          ]
        },
        {
          "name": "stdout",
          "output_type": "stream",
          "text": [
            "plus que 4033 publications pour completer l'année 2019\n"
          ]
        },
        {
          "name": "stderr",
          "output_type": "stream",
          "text": [
            "DEBUG:urllib3.connectionpool:Starting new HTTPS connection (1): api.openalex.org:443\n",
            "DEBUG:urllib3.connectionpool:https://api.openalex.org:443 \"GET /works?filter=has_doi:true,concepts_count:%3E0,publication_year:2019&sample=200&per-page=200 HTTP/1.1\" 200 336391\n"
          ]
        },
        {
          "name": "stdout",
          "output_type": "stream",
          "text": [
            "plus que 3929 publications pour completer l'année 2019\n"
          ]
        },
        {
          "name": "stderr",
          "output_type": "stream",
          "text": [
            "DEBUG:urllib3.connectionpool:Starting new HTTPS connection (1): api.openalex.org:443\n",
            "DEBUG:urllib3.connectionpool:https://api.openalex.org:443 \"GET /works?filter=has_doi:true,concepts_count:%3E0,publication_year:2019&sample=200&per-page=200 HTTP/1.1\" 200 310402\n"
          ]
        },
        {
          "name": "stdout",
          "output_type": "stream",
          "text": [
            "plus que 3832 publications pour completer l'année 2019\n"
          ]
        },
        {
          "name": "stderr",
          "output_type": "stream",
          "text": [
            "DEBUG:urllib3.connectionpool:Starting new HTTPS connection (1): api.openalex.org:443\n",
            "DEBUG:urllib3.connectionpool:https://api.openalex.org:443 \"GET /works?filter=has_doi:true,concepts_count:%3E0,publication_year:2019&sample=200&per-page=200 HTTP/1.1\" 200 295865\n"
          ]
        },
        {
          "name": "stdout",
          "output_type": "stream",
          "text": [
            "plus que 3733 publications pour completer l'année 2019\n"
          ]
        },
        {
          "name": "stderr",
          "output_type": "stream",
          "text": [
            "DEBUG:urllib3.connectionpool:Starting new HTTPS connection (1): api.openalex.org:443\n",
            "DEBUG:urllib3.connectionpool:https://api.openalex.org:443 \"GET /works?filter=has_doi:true,concepts_count:%3E0,publication_year:2019&sample=200&per-page=200 HTTP/1.1\" 200 314724\n"
          ]
        },
        {
          "name": "stdout",
          "output_type": "stream",
          "text": [
            "plus que 3629 publications pour completer l'année 2019\n"
          ]
        },
        {
          "name": "stderr",
          "output_type": "stream",
          "text": [
            "DEBUG:urllib3.connectionpool:Starting new HTTPS connection (1): api.openalex.org:443\n",
            "DEBUG:urllib3.connectionpool:https://api.openalex.org:443 \"GET /works?filter=has_doi:true,concepts_count:%3E0,publication_year:2019&sample=200&per-page=200 HTTP/1.1\" 200 323639\n"
          ]
        },
        {
          "name": "stdout",
          "output_type": "stream",
          "text": [
            "plus que 3525 publications pour completer l'année 2019\n"
          ]
        },
        {
          "name": "stderr",
          "output_type": "stream",
          "text": [
            "DEBUG:urllib3.connectionpool:Starting new HTTPS connection (1): api.openalex.org:443\n",
            "DEBUG:urllib3.connectionpool:https://api.openalex.org:443 \"GET /works?filter=has_doi:true,concepts_count:%3E0,publication_year:2019&sample=200&per-page=200 HTTP/1.1\" 200 339072\n"
          ]
        },
        {
          "name": "stdout",
          "output_type": "stream",
          "text": [
            "plus que 3422 publications pour completer l'année 2019\n"
          ]
        },
        {
          "name": "stderr",
          "output_type": "stream",
          "text": [
            "DEBUG:urllib3.connectionpool:Starting new HTTPS connection (1): api.openalex.org:443\n",
            "DEBUG:urllib3.connectionpool:https://api.openalex.org:443 \"GET /works?filter=has_doi:true,concepts_count:%3E0,publication_year:2019&sample=200&per-page=200 HTTP/1.1\" 200 341479\n"
          ]
        },
        {
          "name": "stdout",
          "output_type": "stream",
          "text": [
            "plus que 3309 publications pour completer l'année 2019\n"
          ]
        },
        {
          "name": "stderr",
          "output_type": "stream",
          "text": [
            "DEBUG:urllib3.connectionpool:Starting new HTTPS connection (1): api.openalex.org:443\n",
            "DEBUG:urllib3.connectionpool:https://api.openalex.org:443 \"GET /works?filter=has_doi:true,concepts_count:%3E0,publication_year:2019&sample=200&per-page=200 HTTP/1.1\" 200 322947\n"
          ]
        },
        {
          "name": "stdout",
          "output_type": "stream",
          "text": [
            "plus que 3202 publications pour completer l'année 2019\n"
          ]
        },
        {
          "name": "stderr",
          "output_type": "stream",
          "text": [
            "DEBUG:urllib3.connectionpool:Starting new HTTPS connection (1): api.openalex.org:443\n",
            "DEBUG:urllib3.connectionpool:https://api.openalex.org:443 \"GET /works?filter=has_doi:true,concepts_count:%3E0,publication_year:2019&sample=200&per-page=200 HTTP/1.1\" 200 310021\n"
          ]
        },
        {
          "name": "stdout",
          "output_type": "stream",
          "text": [
            "plus que 3098 publications pour completer l'année 2019\n"
          ]
        },
        {
          "name": "stderr",
          "output_type": "stream",
          "text": [
            "DEBUG:urllib3.connectionpool:Starting new HTTPS connection (1): api.openalex.org:443\n",
            "DEBUG:urllib3.connectionpool:https://api.openalex.org:443 \"GET /works?filter=has_doi:true,concepts_count:%3E0,publication_year:2019&sample=200&per-page=200 HTTP/1.1\" 200 359604\n"
          ]
        },
        {
          "name": "stdout",
          "output_type": "stream",
          "text": [
            "plus que 3000 publications pour completer l'année 2019\n"
          ]
        },
        {
          "name": "stderr",
          "output_type": "stream",
          "text": [
            "DEBUG:urllib3.connectionpool:Starting new HTTPS connection (1): api.openalex.org:443\n",
            "DEBUG:urllib3.connectionpool:https://api.openalex.org:443 \"GET /works?filter=has_doi:true,concepts_count:%3E0,publication_year:2019&sample=200&per-page=200 HTTP/1.1\" 200 314514\n"
          ]
        },
        {
          "name": "stdout",
          "output_type": "stream",
          "text": [
            "plus que 2879 publications pour completer l'année 2019\n"
          ]
        },
        {
          "name": "stderr",
          "output_type": "stream",
          "text": [
            "DEBUG:urllib3.connectionpool:Starting new HTTPS connection (1): api.openalex.org:443\n",
            "DEBUG:urllib3.connectionpool:https://api.openalex.org:443 \"GET /works?filter=has_doi:true,concepts_count:%3E0,publication_year:2019&sample=200&per-page=200 HTTP/1.1\" 200 303047\n"
          ]
        },
        {
          "name": "stdout",
          "output_type": "stream",
          "text": [
            "plus que 2779 publications pour completer l'année 2019\n"
          ]
        },
        {
          "name": "stderr",
          "output_type": "stream",
          "text": [
            "DEBUG:urllib3.connectionpool:Starting new HTTPS connection (1): api.openalex.org:443\n",
            "DEBUG:urllib3.connectionpool:https://api.openalex.org:443 \"GET /works?filter=has_doi:true,concepts_count:%3E0,publication_year:2019&sample=200&per-page=200 HTTP/1.1\" 200 290333\n"
          ]
        },
        {
          "name": "stdout",
          "output_type": "stream",
          "text": [
            "plus que 2676 publications pour completer l'année 2019\n"
          ]
        },
        {
          "name": "stderr",
          "output_type": "stream",
          "text": [
            "DEBUG:urllib3.connectionpool:Starting new HTTPS connection (1): api.openalex.org:443\n",
            "DEBUG:urllib3.connectionpool:https://api.openalex.org:443 \"GET /works?filter=has_doi:true,concepts_count:%3E0,publication_year:2019&sample=200&per-page=200 HTTP/1.1\" 200 315050\n"
          ]
        },
        {
          "name": "stdout",
          "output_type": "stream",
          "text": [
            "plus que 2579 publications pour completer l'année 2019\n"
          ]
        },
        {
          "name": "stderr",
          "output_type": "stream",
          "text": [
            "DEBUG:urllib3.connectionpool:Starting new HTTPS connection (1): api.openalex.org:443\n",
            "DEBUG:urllib3.connectionpool:https://api.openalex.org:443 \"GET /works?filter=has_doi:true,concepts_count:%3E0,publication_year:2019&sample=200&per-page=200 HTTP/1.1\" 200 294885\n"
          ]
        },
        {
          "name": "stdout",
          "output_type": "stream",
          "text": [
            "plus que 2478 publications pour completer l'année 2019\n"
          ]
        },
        {
          "name": "stderr",
          "output_type": "stream",
          "text": [
            "DEBUG:urllib3.connectionpool:Starting new HTTPS connection (1): api.openalex.org:443\n",
            "DEBUG:urllib3.connectionpool:https://api.openalex.org:443 \"GET /works?filter=has_doi:true,concepts_count:%3E0,publication_year:2019&sample=200&per-page=200 HTTP/1.1\" 200 308540\n"
          ]
        },
        {
          "name": "stdout",
          "output_type": "stream",
          "text": [
            "plus que 2371 publications pour completer l'année 2019\n"
          ]
        },
        {
          "name": "stderr",
          "output_type": "stream",
          "text": [
            "DEBUG:urllib3.connectionpool:Starting new HTTPS connection (1): api.openalex.org:443\n",
            "DEBUG:urllib3.connectionpool:https://api.openalex.org:443 \"GET /works?filter=has_doi:true,concepts_count:%3E0,publication_year:2019&sample=200&per-page=200 HTTP/1.1\" 200 283847\n"
          ]
        },
        {
          "name": "stdout",
          "output_type": "stream",
          "text": [
            "plus que 2262 publications pour completer l'année 2019\n"
          ]
        },
        {
          "name": "stderr",
          "output_type": "stream",
          "text": [
            "DEBUG:urllib3.connectionpool:Starting new HTTPS connection (1): api.openalex.org:443\n",
            "DEBUG:urllib3.connectionpool:https://api.openalex.org:443 \"GET /works?filter=has_doi:true,concepts_count:%3E0,publication_year:2019&sample=200&per-page=200 HTTP/1.1\" 200 291690\n"
          ]
        },
        {
          "name": "stdout",
          "output_type": "stream",
          "text": [
            "plus que 2160 publications pour completer l'année 2019\n"
          ]
        },
        {
          "name": "stderr",
          "output_type": "stream",
          "text": [
            "DEBUG:urllib3.connectionpool:Starting new HTTPS connection (1): api.openalex.org:443\n",
            "DEBUG:urllib3.connectionpool:https://api.openalex.org:443 \"GET /works?filter=has_doi:true,concepts_count:%3E0,publication_year:2019&sample=200&per-page=200 HTTP/1.1\" 200 325577\n"
          ]
        },
        {
          "name": "stdout",
          "output_type": "stream",
          "text": [
            "plus que 2065 publications pour completer l'année 2019\n"
          ]
        },
        {
          "name": "stderr",
          "output_type": "stream",
          "text": [
            "DEBUG:urllib3.connectionpool:Starting new HTTPS connection (1): api.openalex.org:443\n",
            "DEBUG:urllib3.connectionpool:https://api.openalex.org:443 \"GET /works?filter=has_doi:true,concepts_count:%3E0,publication_year:2019&sample=200&per-page=200 HTTP/1.1\" 200 323182\n"
          ]
        },
        {
          "name": "stdout",
          "output_type": "stream",
          "text": [
            "plus que 1952 publications pour completer l'année 2019\n"
          ]
        },
        {
          "name": "stderr",
          "output_type": "stream",
          "text": [
            "DEBUG:urllib3.connectionpool:Starting new HTTPS connection (1): api.openalex.org:443\n",
            "DEBUG:urllib3.connectionpool:https://api.openalex.org:443 \"GET /works?filter=has_doi:true,concepts_count:%3E0,publication_year:2019&sample=200&per-page=200 HTTP/1.1\" 200 345777\n"
          ]
        },
        {
          "name": "stdout",
          "output_type": "stream",
          "text": [
            "plus que 1848 publications pour completer l'année 2019\n"
          ]
        },
        {
          "name": "stderr",
          "output_type": "stream",
          "text": [
            "DEBUG:urllib3.connectionpool:Starting new HTTPS connection (1): api.openalex.org:443\n",
            "DEBUG:urllib3.connectionpool:https://api.openalex.org:443 \"GET /works?filter=has_doi:true,concepts_count:%3E0,publication_year:2019&sample=200&per-page=200 HTTP/1.1\" 200 326051\n"
          ]
        },
        {
          "name": "stdout",
          "output_type": "stream",
          "text": [
            "plus que 1741 publications pour completer l'année 2019\n"
          ]
        },
        {
          "name": "stderr",
          "output_type": "stream",
          "text": [
            "DEBUG:urllib3.connectionpool:Starting new HTTPS connection (1): api.openalex.org:443\n",
            "DEBUG:urllib3.connectionpool:https://api.openalex.org:443 \"GET /works?filter=has_doi:true,concepts_count:%3E0,publication_year:2019&sample=200&per-page=200 HTTP/1.1\" 200 341378\n"
          ]
        },
        {
          "name": "stdout",
          "output_type": "stream",
          "text": [
            "plus que 1624 publications pour completer l'année 2019\n"
          ]
        },
        {
          "name": "stderr",
          "output_type": "stream",
          "text": [
            "DEBUG:urllib3.connectionpool:Starting new HTTPS connection (1): api.openalex.org:443\n",
            "DEBUG:urllib3.connectionpool:https://api.openalex.org:443 \"GET /works?filter=has_doi:true,concepts_count:%3E0,publication_year:2019&sample=200&per-page=200 HTTP/1.1\" 200 293954\n"
          ]
        },
        {
          "name": "stdout",
          "output_type": "stream",
          "text": [
            "plus que 1515 publications pour completer l'année 2019\n"
          ]
        },
        {
          "name": "stderr",
          "output_type": "stream",
          "text": [
            "DEBUG:urllib3.connectionpool:Starting new HTTPS connection (1): api.openalex.org:443\n",
            "DEBUG:urllib3.connectionpool:https://api.openalex.org:443 \"GET /works?filter=has_doi:true,concepts_count:%3E0,publication_year:2019&sample=200&per-page=200 HTTP/1.1\" 200 313830\n"
          ]
        },
        {
          "name": "stdout",
          "output_type": "stream",
          "text": [
            "plus que 1409 publications pour completer l'année 2019\n"
          ]
        },
        {
          "name": "stderr",
          "output_type": "stream",
          "text": [
            "DEBUG:urllib3.connectionpool:Starting new HTTPS connection (1): api.openalex.org:443\n",
            "DEBUG:urllib3.connectionpool:https://api.openalex.org:443 \"GET /works?filter=has_doi:true,concepts_count:%3E0,publication_year:2019&sample=200&per-page=200 HTTP/1.1\" 200 322880\n"
          ]
        },
        {
          "name": "stdout",
          "output_type": "stream",
          "text": [
            "plus que 1310 publications pour completer l'année 2019\n"
          ]
        },
        {
          "name": "stderr",
          "output_type": "stream",
          "text": [
            "DEBUG:urllib3.connectionpool:Starting new HTTPS connection (1): api.openalex.org:443\n",
            "DEBUG:urllib3.connectionpool:https://api.openalex.org:443 \"GET /works?filter=has_doi:true,concepts_count:%3E0,publication_year:2019&sample=200&per-page=200 HTTP/1.1\" 200 294879\n"
          ]
        },
        {
          "name": "stdout",
          "output_type": "stream",
          "text": [
            "plus que 1208 publications pour completer l'année 2019\n"
          ]
        },
        {
          "name": "stderr",
          "output_type": "stream",
          "text": [
            "DEBUG:urllib3.connectionpool:Starting new HTTPS connection (1): api.openalex.org:443\n",
            "DEBUG:urllib3.connectionpool:https://api.openalex.org:443 \"GET /works?filter=has_doi:true,concepts_count:%3E0,publication_year:2019&sample=200&per-page=200 HTTP/1.1\" 200 318148\n"
          ]
        },
        {
          "name": "stdout",
          "output_type": "stream",
          "text": [
            "plus que 1104 publications pour completer l'année 2019\n"
          ]
        },
        {
          "name": "stderr",
          "output_type": "stream",
          "text": [
            "DEBUG:urllib3.connectionpool:Starting new HTTPS connection (1): api.openalex.org:443\n",
            "DEBUG:urllib3.connectionpool:https://api.openalex.org:443 \"GET /works?filter=has_doi:true,concepts_count:%3E0,publication_year:2019&sample=200&per-page=200 HTTP/1.1\" 200 315807\n"
          ]
        },
        {
          "name": "stdout",
          "output_type": "stream",
          "text": [
            "plus que 981 publications pour completer l'année 2019\n"
          ]
        },
        {
          "name": "stderr",
          "output_type": "stream",
          "text": [
            "DEBUG:urllib3.connectionpool:Starting new HTTPS connection (1): api.openalex.org:443\n",
            "DEBUG:urllib3.connectionpool:https://api.openalex.org:443 \"GET /works?filter=has_doi:true,concepts_count:%3E0,publication_year:2019&sample=200&per-page=200 HTTP/1.1\" 200 306800\n"
          ]
        },
        {
          "name": "stdout",
          "output_type": "stream",
          "text": [
            "plus que 876 publications pour completer l'année 2019\n"
          ]
        },
        {
          "name": "stderr",
          "output_type": "stream",
          "text": [
            "DEBUG:urllib3.connectionpool:Starting new HTTPS connection (1): api.openalex.org:443\n",
            "DEBUG:urllib3.connectionpool:https://api.openalex.org:443 \"GET /works?filter=has_doi:true,concepts_count:%3E0,publication_year:2019&sample=200&per-page=200 HTTP/1.1\" 200 308432\n"
          ]
        },
        {
          "name": "stdout",
          "output_type": "stream",
          "text": [
            "plus que 773 publications pour completer l'année 2019\n"
          ]
        },
        {
          "name": "stderr",
          "output_type": "stream",
          "text": [
            "DEBUG:urllib3.connectionpool:Starting new HTTPS connection (1): api.openalex.org:443\n",
            "DEBUG:urllib3.connectionpool:https://api.openalex.org:443 \"GET /works?filter=has_doi:true,concepts_count:%3E0,publication_year:2019&sample=200&per-page=200 HTTP/1.1\" 200 332465\n"
          ]
        },
        {
          "name": "stdout",
          "output_type": "stream",
          "text": [
            "plus que 664 publications pour completer l'année 2019\n"
          ]
        },
        {
          "name": "stderr",
          "output_type": "stream",
          "text": [
            "DEBUG:urllib3.connectionpool:Starting new HTTPS connection (1): api.openalex.org:443\n",
            "DEBUG:urllib3.connectionpool:https://api.openalex.org:443 \"GET /works?filter=has_doi:true,concepts_count:%3E0,publication_year:2019&sample=200&per-page=200 HTTP/1.1\" 200 308904\n"
          ]
        },
        {
          "name": "stdout",
          "output_type": "stream",
          "text": [
            "plus que 542 publications pour completer l'année 2019\n"
          ]
        },
        {
          "name": "stderr",
          "output_type": "stream",
          "text": [
            "DEBUG:urllib3.connectionpool:Starting new HTTPS connection (1): api.openalex.org:443\n",
            "DEBUG:urllib3.connectionpool:https://api.openalex.org:443 \"GET /works?filter=has_doi:true,concepts_count:%3E0,publication_year:2019&sample=200&per-page=200 HTTP/1.1\" 200 340245\n"
          ]
        },
        {
          "name": "stdout",
          "output_type": "stream",
          "text": [
            "plus que 439 publications pour completer l'année 2019\n"
          ]
        },
        {
          "name": "stderr",
          "output_type": "stream",
          "text": [
            "DEBUG:urllib3.connectionpool:Starting new HTTPS connection (1): api.openalex.org:443\n",
            "DEBUG:urllib3.connectionpool:https://api.openalex.org:443 \"GET /works?filter=has_doi:true,concepts_count:%3E0,publication_year:2019&sample=200&per-page=200 HTTP/1.1\" 200 322927\n"
          ]
        },
        {
          "name": "stdout",
          "output_type": "stream",
          "text": [
            "plus que 327 publications pour completer l'année 2019\n"
          ]
        },
        {
          "name": "stderr",
          "output_type": "stream",
          "text": [
            "DEBUG:urllib3.connectionpool:Starting new HTTPS connection (1): api.openalex.org:443\n",
            "DEBUG:urllib3.connectionpool:https://api.openalex.org:443 \"GET /works?filter=has_doi:true,concepts_count:%3E0,publication_year:2019&sample=200&per-page=200 HTTP/1.1\" 200 308037\n"
          ]
        },
        {
          "name": "stdout",
          "output_type": "stream",
          "text": [
            "plus que 211 publications pour completer l'année 2019\n"
          ]
        },
        {
          "name": "stderr",
          "output_type": "stream",
          "text": [
            "DEBUG:urllib3.connectionpool:Starting new HTTPS connection (1): api.openalex.org:443\n",
            "DEBUG:urllib3.connectionpool:https://api.openalex.org:443 \"GET /works?filter=has_doi:true,concepts_count:%3E0,publication_year:2019&sample=200&per-page=200 HTTP/1.1\" 200 331256\n"
          ]
        },
        {
          "name": "stdout",
          "output_type": "stream",
          "text": [
            "plus que 113 publications pour completer l'année 2019\n"
          ]
        },
        {
          "name": "stderr",
          "output_type": "stream",
          "text": [
            "DEBUG:urllib3.connectionpool:Starting new HTTPS connection (1): api.openalex.org:443\n",
            "DEBUG:urllib3.connectionpool:https://api.openalex.org:443 \"GET /works?filter=has_doi:true,concepts_count:%3E0,publication_year:2019&sample=200&per-page=200 HTTP/1.1\" 200 333740\n"
          ]
        },
        {
          "name": "stdout",
          "output_type": "stream",
          "text": [
            "plus que 4 publications pour completer l'année 2019\n"
          ]
        },
        {
          "name": "stderr",
          "output_type": "stream",
          "text": [
            "DEBUG:urllib3.connectionpool:Starting new HTTPS connection (1): api.openalex.org:443\n",
            "DEBUG:urllib3.connectionpool:https://api.openalex.org:443 \"GET /works?filter=has_doi:true,concepts_count:%3E0,publication_year:2020&sample=200&per-page=200 HTTP/1.1\" 200 347917\n"
          ]
        },
        {
          "name": "stdout",
          "output_type": "stream",
          "text": [
            "plus que 5707 publications pour completer l'année 2020\n"
          ]
        },
        {
          "name": "stderr",
          "output_type": "stream",
          "text": [
            "DEBUG:urllib3.connectionpool:Starting new HTTPS connection (1): api.openalex.org:443\n",
            "DEBUG:urllib3.connectionpool:https://api.openalex.org:443 \"GET /works?filter=has_doi:true,concepts_count:%3E0,publication_year:2020&sample=200&per-page=200 HTTP/1.1\" 200 347056\n"
          ]
        },
        {
          "name": "stdout",
          "output_type": "stream",
          "text": [
            "plus que 5605 publications pour completer l'année 2020\n"
          ]
        },
        {
          "name": "stderr",
          "output_type": "stream",
          "text": [
            "DEBUG:urllib3.connectionpool:Starting new HTTPS connection (1): api.openalex.org:443\n",
            "DEBUG:urllib3.connectionpool:https://api.openalex.org:443 \"GET /works?filter=has_doi:true,concepts_count:%3E0,publication_year:2020&sample=200&per-page=200 HTTP/1.1\" 200 352532\n"
          ]
        },
        {
          "name": "stdout",
          "output_type": "stream",
          "text": [
            "plus que 5509 publications pour completer l'année 2020\n"
          ]
        },
        {
          "name": "stderr",
          "output_type": "stream",
          "text": [
            "DEBUG:urllib3.connectionpool:Starting new HTTPS connection (1): api.openalex.org:443\n",
            "DEBUG:urllib3.connectionpool:https://api.openalex.org:443 \"GET /works?filter=has_doi:true,concepts_count:%3E0,publication_year:2020&sample=200&per-page=200 HTTP/1.1\" 200 302718\n"
          ]
        },
        {
          "name": "stdout",
          "output_type": "stream",
          "text": [
            "plus que 5396 publications pour completer l'année 2020\n"
          ]
        },
        {
          "name": "stderr",
          "output_type": "stream",
          "text": [
            "DEBUG:urllib3.connectionpool:Starting new HTTPS connection (1): api.openalex.org:443\n",
            "DEBUG:urllib3.connectionpool:https://api.openalex.org:443 \"GET /works?filter=has_doi:true,concepts_count:%3E0,publication_year:2020&sample=200&per-page=200 HTTP/1.1\" 200 318263\n"
          ]
        },
        {
          "name": "stdout",
          "output_type": "stream",
          "text": [
            "plus que 5293 publications pour completer l'année 2020\n"
          ]
        },
        {
          "name": "stderr",
          "output_type": "stream",
          "text": [
            "DEBUG:urllib3.connectionpool:Starting new HTTPS connection (1): api.openalex.org:443\n",
            "DEBUG:urllib3.connectionpool:https://api.openalex.org:443 \"GET /works?filter=has_doi:true,concepts_count:%3E0,publication_year:2020&sample=200&per-page=200 HTTP/1.1\" 200 301280\n"
          ]
        },
        {
          "name": "stdout",
          "output_type": "stream",
          "text": [
            "plus que 5193 publications pour completer l'année 2020\n"
          ]
        },
        {
          "name": "stderr",
          "output_type": "stream",
          "text": [
            "DEBUG:urllib3.connectionpool:Starting new HTTPS connection (1): api.openalex.org:443\n",
            "DEBUG:urllib3.connectionpool:https://api.openalex.org:443 \"GET /works?filter=has_doi:true,concepts_count:%3E0,publication_year:2020&sample=200&per-page=200 HTTP/1.1\" 200 403307\n"
          ]
        },
        {
          "name": "stdout",
          "output_type": "stream",
          "text": [
            "plus que 5087 publications pour completer l'année 2020\n"
          ]
        },
        {
          "name": "stderr",
          "output_type": "stream",
          "text": [
            "DEBUG:urllib3.connectionpool:Starting new HTTPS connection (1): api.openalex.org:443\n",
            "DEBUG:urllib3.connectionpool:https://api.openalex.org:443 \"GET /works?filter=has_doi:true,concepts_count:%3E0,publication_year:2020&sample=200&per-page=200 HTTP/1.1\" 200 353392\n"
          ]
        },
        {
          "name": "stdout",
          "output_type": "stream",
          "text": [
            "plus que 4978 publications pour completer l'année 2020\n"
          ]
        },
        {
          "name": "stderr",
          "output_type": "stream",
          "text": [
            "DEBUG:urllib3.connectionpool:Starting new HTTPS connection (1): api.openalex.org:443\n",
            "DEBUG:urllib3.connectionpool:https://api.openalex.org:443 \"GET /works?filter=has_doi:true,concepts_count:%3E0,publication_year:2020&sample=200&per-page=200 HTTP/1.1\" 200 316363\n"
          ]
        },
        {
          "name": "stdout",
          "output_type": "stream",
          "text": [
            "plus que 4878 publications pour completer l'année 2020\n"
          ]
        },
        {
          "name": "stderr",
          "output_type": "stream",
          "text": [
            "DEBUG:urllib3.connectionpool:Starting new HTTPS connection (1): api.openalex.org:443\n",
            "DEBUG:urllib3.connectionpool:https://api.openalex.org:443 \"GET /works?filter=has_doi:true,concepts_count:%3E0,publication_year:2020&sample=200&per-page=200 HTTP/1.1\" 200 330770\n"
          ]
        },
        {
          "name": "stdout",
          "output_type": "stream",
          "text": [
            "plus que 4784 publications pour completer l'année 2020\n"
          ]
        },
        {
          "name": "stderr",
          "output_type": "stream",
          "text": [
            "DEBUG:urllib3.connectionpool:Starting new HTTPS connection (1): api.openalex.org:443\n",
            "DEBUG:urllib3.connectionpool:https://api.openalex.org:443 \"GET /works?filter=has_doi:true,concepts_count:%3E0,publication_year:2020&sample=200&per-page=200 HTTP/1.1\" 200 342948\n"
          ]
        },
        {
          "name": "stdout",
          "output_type": "stream",
          "text": [
            "plus que 4682 publications pour completer l'année 2020\n"
          ]
        },
        {
          "name": "stderr",
          "output_type": "stream",
          "text": [
            "DEBUG:urllib3.connectionpool:Starting new HTTPS connection (1): api.openalex.org:443\n",
            "DEBUG:urllib3.connectionpool:https://api.openalex.org:443 \"GET /works?filter=has_doi:true,concepts_count:%3E0,publication_year:2020&sample=200&per-page=200 HTTP/1.1\" 200 324716\n"
          ]
        },
        {
          "name": "stdout",
          "output_type": "stream",
          "text": [
            "plus que 4570 publications pour completer l'année 2020\n"
          ]
        },
        {
          "name": "stderr",
          "output_type": "stream",
          "text": [
            "DEBUG:urllib3.connectionpool:Starting new HTTPS connection (1): api.openalex.org:443\n",
            "DEBUG:urllib3.connectionpool:https://api.openalex.org:443 \"GET /works?filter=has_doi:true,concepts_count:%3E0,publication_year:2020&sample=200&per-page=200 HTTP/1.1\" 200 321177\n"
          ]
        },
        {
          "name": "stdout",
          "output_type": "stream",
          "text": [
            "plus que 4471 publications pour completer l'année 2020\n"
          ]
        },
        {
          "name": "stderr",
          "output_type": "stream",
          "text": [
            "DEBUG:urllib3.connectionpool:Starting new HTTPS connection (1): api.openalex.org:443\n",
            "DEBUG:urllib3.connectionpool:https://api.openalex.org:443 \"GET /works?filter=has_doi:true,concepts_count:%3E0,publication_year:2020&sample=200&per-page=200 HTTP/1.1\" 200 328834\n"
          ]
        },
        {
          "name": "stdout",
          "output_type": "stream",
          "text": [
            "plus que 4360 publications pour completer l'année 2020\n"
          ]
        },
        {
          "name": "stderr",
          "output_type": "stream",
          "text": [
            "DEBUG:urllib3.connectionpool:Starting new HTTPS connection (1): api.openalex.org:443\n",
            "DEBUG:urllib3.connectionpool:https://api.openalex.org:443 \"GET /works?filter=has_doi:true,concepts_count:%3E0,publication_year:2020&sample=200&per-page=200 HTTP/1.1\" 200 313824\n"
          ]
        },
        {
          "name": "stdout",
          "output_type": "stream",
          "text": [
            "plus que 4255 publications pour completer l'année 2020\n"
          ]
        },
        {
          "name": "stderr",
          "output_type": "stream",
          "text": [
            "DEBUG:urllib3.connectionpool:Starting new HTTPS connection (1): api.openalex.org:443\n",
            "DEBUG:urllib3.connectionpool:https://api.openalex.org:443 \"GET /works?filter=has_doi:true,concepts_count:%3E0,publication_year:2020&sample=200&per-page=200 HTTP/1.1\" 200 323110\n"
          ]
        },
        {
          "name": "stdout",
          "output_type": "stream",
          "text": [
            "plus que 4155 publications pour completer l'année 2020\n"
          ]
        },
        {
          "name": "stderr",
          "output_type": "stream",
          "text": [
            "DEBUG:urllib3.connectionpool:Starting new HTTPS connection (1): api.openalex.org:443\n",
            "DEBUG:urllib3.connectionpool:https://api.openalex.org:443 \"GET /works?filter=has_doi:true,concepts_count:%3E0,publication_year:2020&sample=200&per-page=200 HTTP/1.1\" 200 332609\n"
          ]
        },
        {
          "name": "stdout",
          "output_type": "stream",
          "text": [
            "plus que 4047 publications pour completer l'année 2020\n"
          ]
        },
        {
          "name": "stderr",
          "output_type": "stream",
          "text": [
            "DEBUG:urllib3.connectionpool:Starting new HTTPS connection (1): api.openalex.org:443\n",
            "DEBUG:urllib3.connectionpool:https://api.openalex.org:443 \"GET /works?filter=has_doi:true,concepts_count:%3E0,publication_year:2020&sample=200&per-page=200 HTTP/1.1\" 200 347591\n"
          ]
        },
        {
          "name": "stdout",
          "output_type": "stream",
          "text": [
            "plus que 3941 publications pour completer l'année 2020\n"
          ]
        },
        {
          "name": "stderr",
          "output_type": "stream",
          "text": [
            "DEBUG:urllib3.connectionpool:Starting new HTTPS connection (1): api.openalex.org:443\n",
            "DEBUG:urllib3.connectionpool:https://api.openalex.org:443 \"GET /works?filter=has_doi:true,concepts_count:%3E0,publication_year:2020&sample=200&per-page=200 HTTP/1.1\" 200 336075\n"
          ]
        },
        {
          "name": "stdout",
          "output_type": "stream",
          "text": [
            "plus que 3833 publications pour completer l'année 2020\n"
          ]
        },
        {
          "name": "stderr",
          "output_type": "stream",
          "text": [
            "DEBUG:urllib3.connectionpool:Starting new HTTPS connection (1): api.openalex.org:443\n",
            "DEBUG:urllib3.connectionpool:https://api.openalex.org:443 \"GET /works?filter=has_doi:true,concepts_count:%3E0,publication_year:2020&sample=200&per-page=200 HTTP/1.1\" 200 319554\n"
          ]
        },
        {
          "name": "stdout",
          "output_type": "stream",
          "text": [
            "plus que 3750 publications pour completer l'année 2020\n"
          ]
        },
        {
          "name": "stderr",
          "output_type": "stream",
          "text": [
            "DEBUG:urllib3.connectionpool:Starting new HTTPS connection (1): api.openalex.org:443\n",
            "DEBUG:urllib3.connectionpool:https://api.openalex.org:443 \"GET /works?filter=has_doi:true,concepts_count:%3E0,publication_year:2020&sample=200&per-page=200 HTTP/1.1\" 200 342577\n"
          ]
        },
        {
          "name": "stdout",
          "output_type": "stream",
          "text": [
            "plus que 3648 publications pour completer l'année 2020\n"
          ]
        },
        {
          "name": "stderr",
          "output_type": "stream",
          "text": [
            "DEBUG:urllib3.connectionpool:Starting new HTTPS connection (1): api.openalex.org:443\n",
            "DEBUG:urllib3.connectionpool:https://api.openalex.org:443 \"GET /works?filter=has_doi:true,concepts_count:%3E0,publication_year:2020&sample=200&per-page=200 HTTP/1.1\" 200 310700\n"
          ]
        },
        {
          "name": "stdout",
          "output_type": "stream",
          "text": [
            "plus que 3551 publications pour completer l'année 2020\n"
          ]
        },
        {
          "name": "stderr",
          "output_type": "stream",
          "text": [
            "DEBUG:urllib3.connectionpool:Starting new HTTPS connection (1): api.openalex.org:443\n",
            "DEBUG:urllib3.connectionpool:https://api.openalex.org:443 \"GET /works?filter=has_doi:true,concepts_count:%3E0,publication_year:2020&sample=200&per-page=200 HTTP/1.1\" 200 326870\n"
          ]
        },
        {
          "name": "stdout",
          "output_type": "stream",
          "text": [
            "plus que 3451 publications pour completer l'année 2020\n"
          ]
        },
        {
          "name": "stderr",
          "output_type": "stream",
          "text": [
            "DEBUG:urllib3.connectionpool:Starting new HTTPS connection (1): api.openalex.org:443\n",
            "DEBUG:urllib3.connectionpool:https://api.openalex.org:443 \"GET /works?filter=has_doi:true,concepts_count:%3E0,publication_year:2020&sample=200&per-page=200 HTTP/1.1\" 200 349650\n"
          ]
        },
        {
          "name": "stdout",
          "output_type": "stream",
          "text": [
            "plus que 3349 publications pour completer l'année 2020\n"
          ]
        },
        {
          "name": "stderr",
          "output_type": "stream",
          "text": [
            "DEBUG:urllib3.connectionpool:Starting new HTTPS connection (1): api.openalex.org:443\n",
            "DEBUG:urllib3.connectionpool:https://api.openalex.org:443 \"GET /works?filter=has_doi:true,concepts_count:%3E0,publication_year:2020&sample=200&per-page=200 HTTP/1.1\" 200 327268\n"
          ]
        },
        {
          "name": "stdout",
          "output_type": "stream",
          "text": [
            "plus que 3237 publications pour completer l'année 2020\n"
          ]
        },
        {
          "name": "stderr",
          "output_type": "stream",
          "text": [
            "DEBUG:urllib3.connectionpool:Starting new HTTPS connection (1): api.openalex.org:443\n",
            "DEBUG:urllib3.connectionpool:https://api.openalex.org:443 \"GET /works?filter=has_doi:true,concepts_count:%3E0,publication_year:2020&sample=200&per-page=200 HTTP/1.1\" 200 309779\n"
          ]
        },
        {
          "name": "stdout",
          "output_type": "stream",
          "text": [
            "plus que 3132 publications pour completer l'année 2020\n"
          ]
        },
        {
          "name": "stderr",
          "output_type": "stream",
          "text": [
            "DEBUG:urllib3.connectionpool:Starting new HTTPS connection (1): api.openalex.org:443\n",
            "DEBUG:urllib3.connectionpool:https://api.openalex.org:443 \"GET /works?filter=has_doi:true,concepts_count:%3E0,publication_year:2020&sample=200&per-page=200 HTTP/1.1\" 200 312322\n"
          ]
        },
        {
          "name": "stdout",
          "output_type": "stream",
          "text": [
            "plus que 3032 publications pour completer l'année 2020\n"
          ]
        },
        {
          "name": "stderr",
          "output_type": "stream",
          "text": [
            "DEBUG:urllib3.connectionpool:Starting new HTTPS connection (1): api.openalex.org:443\n",
            "DEBUG:urllib3.connectionpool:https://api.openalex.org:443 \"GET /works?filter=has_doi:true,concepts_count:%3E0,publication_year:2020&sample=200&per-page=200 HTTP/1.1\" 200 346842\n"
          ]
        },
        {
          "name": "stdout",
          "output_type": "stream",
          "text": [
            "plus que 2926 publications pour completer l'année 2020\n"
          ]
        },
        {
          "name": "stderr",
          "output_type": "stream",
          "text": [
            "DEBUG:urllib3.connectionpool:Starting new HTTPS connection (1): api.openalex.org:443\n",
            "DEBUG:urllib3.connectionpool:https://api.openalex.org:443 \"GET /works?filter=has_doi:true,concepts_count:%3E0,publication_year:2020&sample=200&per-page=200 HTTP/1.1\" 200 339669\n"
          ]
        },
        {
          "name": "stdout",
          "output_type": "stream",
          "text": [
            "plus que 2826 publications pour completer l'année 2020\n"
          ]
        },
        {
          "name": "stderr",
          "output_type": "stream",
          "text": [
            "DEBUG:urllib3.connectionpool:Starting new HTTPS connection (1): api.openalex.org:443\n",
            "DEBUG:urllib3.connectionpool:https://api.openalex.org:443 \"GET /works?filter=has_doi:true,concepts_count:%3E0,publication_year:2020&sample=200&per-page=200 HTTP/1.1\" 200 317275\n"
          ]
        },
        {
          "name": "stdout",
          "output_type": "stream",
          "text": [
            "plus que 2723 publications pour completer l'année 2020\n"
          ]
        },
        {
          "name": "stderr",
          "output_type": "stream",
          "text": [
            "DEBUG:urllib3.connectionpool:Starting new HTTPS connection (1): api.openalex.org:443\n",
            "DEBUG:urllib3.connectionpool:https://api.openalex.org:443 \"GET /works?filter=has_doi:true,concepts_count:%3E0,publication_year:2020&sample=200&per-page=200 HTTP/1.1\" 200 326661\n"
          ]
        },
        {
          "name": "stdout",
          "output_type": "stream",
          "text": [
            "plus que 2622 publications pour completer l'année 2020\n"
          ]
        },
        {
          "name": "stderr",
          "output_type": "stream",
          "text": [
            "DEBUG:urllib3.connectionpool:Starting new HTTPS connection (1): api.openalex.org:443\n",
            "DEBUG:urllib3.connectionpool:https://api.openalex.org:443 \"GET /works?filter=has_doi:true,concepts_count:%3E0,publication_year:2020&sample=200&per-page=200 HTTP/1.1\" 200 337532\n"
          ]
        },
        {
          "name": "stdout",
          "output_type": "stream",
          "text": [
            "plus que 2510 publications pour completer l'année 2020\n"
          ]
        },
        {
          "name": "stderr",
          "output_type": "stream",
          "text": [
            "DEBUG:urllib3.connectionpool:Starting new HTTPS connection (1): api.openalex.org:443\n",
            "DEBUG:urllib3.connectionpool:https://api.openalex.org:443 \"GET /works?filter=has_doi:true,concepts_count:%3E0,publication_year:2020&sample=200&per-page=200 HTTP/1.1\" 200 316021\n"
          ]
        },
        {
          "name": "stdout",
          "output_type": "stream",
          "text": [
            "plus que 2401 publications pour completer l'année 2020\n"
          ]
        },
        {
          "name": "stderr",
          "output_type": "stream",
          "text": [
            "DEBUG:urllib3.connectionpool:Starting new HTTPS connection (1): api.openalex.org:443\n",
            "DEBUG:urllib3.connectionpool:https://api.openalex.org:443 \"GET /works?filter=has_doi:true,concepts_count:%3E0,publication_year:2020&sample=200&per-page=200 HTTP/1.1\" 200 310590\n"
          ]
        },
        {
          "name": "stdout",
          "output_type": "stream",
          "text": [
            "plus que 2298 publications pour completer l'année 2020\n"
          ]
        },
        {
          "name": "stderr",
          "output_type": "stream",
          "text": [
            "DEBUG:urllib3.connectionpool:Starting new HTTPS connection (1): api.openalex.org:443\n",
            "DEBUG:urllib3.connectionpool:https://api.openalex.org:443 \"GET /works?filter=has_doi:true,concepts_count:%3E0,publication_year:2020&sample=200&per-page=200 HTTP/1.1\" 200 321283\n"
          ]
        },
        {
          "name": "stdout",
          "output_type": "stream",
          "text": [
            "plus que 2196 publications pour completer l'année 2020\n"
          ]
        },
        {
          "name": "stderr",
          "output_type": "stream",
          "text": [
            "DEBUG:urllib3.connectionpool:Starting new HTTPS connection (1): api.openalex.org:443\n",
            "DEBUG:urllib3.connectionpool:https://api.openalex.org:443 \"GET /works?filter=has_doi:true,concepts_count:%3E0,publication_year:2020&sample=200&per-page=200 HTTP/1.1\" 200 303652\n"
          ]
        },
        {
          "name": "stdout",
          "output_type": "stream",
          "text": [
            "plus que 2096 publications pour completer l'année 2020\n"
          ]
        },
        {
          "name": "stderr",
          "output_type": "stream",
          "text": [
            "DEBUG:urllib3.connectionpool:Starting new HTTPS connection (1): api.openalex.org:443\n",
            "DEBUG:urllib3.connectionpool:https://api.openalex.org:443 \"GET /works?filter=has_doi:true,concepts_count:%3E0,publication_year:2020&sample=200&per-page=200 HTTP/1.1\" 200 314783\n"
          ]
        },
        {
          "name": "stdout",
          "output_type": "stream",
          "text": [
            "plus que 2000 publications pour completer l'année 2020\n"
          ]
        },
        {
          "name": "stderr",
          "output_type": "stream",
          "text": [
            "DEBUG:urllib3.connectionpool:Starting new HTTPS connection (1): api.openalex.org:443\n",
            "DEBUG:urllib3.connectionpool:https://api.openalex.org:443 \"GET /works?filter=has_doi:true,concepts_count:%3E0,publication_year:2020&sample=200&per-page=200 HTTP/1.1\" 200 291237\n"
          ]
        },
        {
          "name": "stdout",
          "output_type": "stream",
          "text": [
            "plus que 1895 publications pour completer l'année 2020\n"
          ]
        },
        {
          "name": "stderr",
          "output_type": "stream",
          "text": [
            "DEBUG:urllib3.connectionpool:Starting new HTTPS connection (1): api.openalex.org:443\n",
            "DEBUG:urllib3.connectionpool:https://api.openalex.org:443 \"GET /works?filter=has_doi:true,concepts_count:%3E0,publication_year:2020&sample=200&per-page=200 HTTP/1.1\" 200 324792\n"
          ]
        },
        {
          "name": "stdout",
          "output_type": "stream",
          "text": [
            "plus que 1805 publications pour completer l'année 2020\n"
          ]
        },
        {
          "name": "stderr",
          "output_type": "stream",
          "text": [
            "DEBUG:urllib3.connectionpool:Starting new HTTPS connection (1): api.openalex.org:443\n",
            "DEBUG:urllib3.connectionpool:https://api.openalex.org:443 \"GET /works?filter=has_doi:true,concepts_count:%3E0,publication_year:2020&sample=200&per-page=200 HTTP/1.1\" 200 332013\n"
          ]
        },
        {
          "name": "stdout",
          "output_type": "stream",
          "text": [
            "plus que 1703 publications pour completer l'année 2020\n"
          ]
        },
        {
          "name": "stderr",
          "output_type": "stream",
          "text": [
            "DEBUG:urllib3.connectionpool:Starting new HTTPS connection (1): api.openalex.org:443\n",
            "DEBUG:urllib3.connectionpool:https://api.openalex.org:443 \"GET /works?filter=has_doi:true,concepts_count:%3E0,publication_year:2020&sample=200&per-page=200 HTTP/1.1\" 200 311067\n"
          ]
        },
        {
          "name": "stdout",
          "output_type": "stream",
          "text": [
            "plus que 1601 publications pour completer l'année 2020\n"
          ]
        },
        {
          "name": "stderr",
          "output_type": "stream",
          "text": [
            "DEBUG:urllib3.connectionpool:Starting new HTTPS connection (1): api.openalex.org:443\n",
            "DEBUG:urllib3.connectionpool:https://api.openalex.org:443 \"GET /works?filter=has_doi:true,concepts_count:%3E0,publication_year:2020&sample=200&per-page=200 HTTP/1.1\" 200 334068\n"
          ]
        },
        {
          "name": "stdout",
          "output_type": "stream",
          "text": [
            "plus que 1498 publications pour completer l'année 2020\n"
          ]
        },
        {
          "name": "stderr",
          "output_type": "stream",
          "text": [
            "DEBUG:urllib3.connectionpool:Starting new HTTPS connection (1): api.openalex.org:443\n",
            "DEBUG:urllib3.connectionpool:https://api.openalex.org:443 \"GET /works?filter=has_doi:true,concepts_count:%3E0,publication_year:2020&sample=200&per-page=200 HTTP/1.1\" 200 316512\n"
          ]
        },
        {
          "name": "stdout",
          "output_type": "stream",
          "text": [
            "plus que 1409 publications pour completer l'année 2020\n"
          ]
        },
        {
          "name": "stderr",
          "output_type": "stream",
          "text": [
            "DEBUG:urllib3.connectionpool:Starting new HTTPS connection (1): api.openalex.org:443\n",
            "DEBUG:urllib3.connectionpool:https://api.openalex.org:443 \"GET /works?filter=has_doi:true,concepts_count:%3E0,publication_year:2020&sample=200&per-page=200 HTTP/1.1\" 200 328911\n"
          ]
        },
        {
          "name": "stdout",
          "output_type": "stream",
          "text": [
            "plus que 1310 publications pour completer l'année 2020\n"
          ]
        },
        {
          "name": "stderr",
          "output_type": "stream",
          "text": [
            "DEBUG:urllib3.connectionpool:Starting new HTTPS connection (1): api.openalex.org:443\n",
            "DEBUG:urllib3.connectionpool:https://api.openalex.org:443 \"GET /works?filter=has_doi:true,concepts_count:%3E0,publication_year:2020&sample=200&per-page=200 HTTP/1.1\" 200 302128\n"
          ]
        },
        {
          "name": "stdout",
          "output_type": "stream",
          "text": [
            "plus que 1207 publications pour completer l'année 2020\n"
          ]
        },
        {
          "name": "stderr",
          "output_type": "stream",
          "text": [
            "DEBUG:urllib3.connectionpool:Starting new HTTPS connection (1): api.openalex.org:443\n",
            "DEBUG:urllib3.connectionpool:https://api.openalex.org:443 \"GET /works?filter=has_doi:true,concepts_count:%3E0,publication_year:2020&sample=200&per-page=200 HTTP/1.1\" 200 326181\n"
          ]
        },
        {
          "name": "stdout",
          "output_type": "stream",
          "text": [
            "plus que 1100 publications pour completer l'année 2020\n"
          ]
        },
        {
          "name": "stderr",
          "output_type": "stream",
          "text": [
            "DEBUG:urllib3.connectionpool:Starting new HTTPS connection (1): api.openalex.org:443\n",
            "DEBUG:urllib3.connectionpool:https://api.openalex.org:443 \"GET /works?filter=has_doi:true,concepts_count:%3E0,publication_year:2020&sample=200&per-page=200 HTTP/1.1\" 200 338521\n"
          ]
        },
        {
          "name": "stdout",
          "output_type": "stream",
          "text": [
            "plus que 992 publications pour completer l'année 2020\n"
          ]
        },
        {
          "name": "stderr",
          "output_type": "stream",
          "text": [
            "DEBUG:urllib3.connectionpool:Starting new HTTPS connection (1): api.openalex.org:443\n",
            "DEBUG:urllib3.connectionpool:https://api.openalex.org:443 \"GET /works?filter=has_doi:true,concepts_count:%3E0,publication_year:2020&sample=200&per-page=200 HTTP/1.1\" 200 286677\n"
          ]
        },
        {
          "name": "stdout",
          "output_type": "stream",
          "text": [
            "plus que 892 publications pour completer l'année 2020\n"
          ]
        },
        {
          "name": "stderr",
          "output_type": "stream",
          "text": [
            "DEBUG:urllib3.connectionpool:Starting new HTTPS connection (1): api.openalex.org:443\n",
            "DEBUG:urllib3.connectionpool:https://api.openalex.org:443 \"GET /works?filter=has_doi:true,concepts_count:%3E0,publication_year:2020&sample=200&per-page=200 HTTP/1.1\" 200 327225\n"
          ]
        },
        {
          "name": "stdout",
          "output_type": "stream",
          "text": [
            "plus que 800 publications pour completer l'année 2020\n"
          ]
        },
        {
          "name": "stderr",
          "output_type": "stream",
          "text": [
            "DEBUG:urllib3.connectionpool:Starting new HTTPS connection (1): api.openalex.org:443\n",
            "DEBUG:urllib3.connectionpool:https://api.openalex.org:443 \"GET /works?filter=has_doi:true,concepts_count:%3E0,publication_year:2020&sample=200&per-page=200 HTTP/1.1\" 200 327176\n"
          ]
        },
        {
          "name": "stdout",
          "output_type": "stream",
          "text": [
            "plus que 691 publications pour completer l'année 2020\n"
          ]
        },
        {
          "name": "stderr",
          "output_type": "stream",
          "text": [
            "DEBUG:urllib3.connectionpool:Starting new HTTPS connection (1): api.openalex.org:443\n",
            "DEBUG:urllib3.connectionpool:https://api.openalex.org:443 \"GET /works?filter=has_doi:true,concepts_count:%3E0,publication_year:2020&sample=200&per-page=200 HTTP/1.1\" 200 329990\n"
          ]
        },
        {
          "name": "stdout",
          "output_type": "stream",
          "text": [
            "plus que 583 publications pour completer l'année 2020\n"
          ]
        },
        {
          "name": "stderr",
          "output_type": "stream",
          "text": [
            "DEBUG:urllib3.connectionpool:Starting new HTTPS connection (1): api.openalex.org:443\n",
            "DEBUG:urllib3.connectionpool:https://api.openalex.org:443 \"GET /works?filter=has_doi:true,concepts_count:%3E0,publication_year:2020&sample=200&per-page=200 HTTP/1.1\" 200 338347\n"
          ]
        },
        {
          "name": "stdout",
          "output_type": "stream",
          "text": [
            "plus que 482 publications pour completer l'année 2020\n"
          ]
        },
        {
          "name": "stderr",
          "output_type": "stream",
          "text": [
            "DEBUG:urllib3.connectionpool:Starting new HTTPS connection (1): api.openalex.org:443\n",
            "DEBUG:urllib3.connectionpool:https://api.openalex.org:443 \"GET /works?filter=has_doi:true,concepts_count:%3E0,publication_year:2020&sample=200&per-page=200 HTTP/1.1\" 200 350121\n"
          ]
        },
        {
          "name": "stdout",
          "output_type": "stream",
          "text": [
            "plus que 368 publications pour completer l'année 2020\n"
          ]
        },
        {
          "name": "stderr",
          "output_type": "stream",
          "text": [
            "DEBUG:urllib3.connectionpool:Starting new HTTPS connection (1): api.openalex.org:443\n",
            "DEBUG:urllib3.connectionpool:https://api.openalex.org:443 \"GET /works?filter=has_doi:true,concepts_count:%3E0,publication_year:2020&sample=200&per-page=200 HTTP/1.1\" 200 347347\n"
          ]
        },
        {
          "name": "stdout",
          "output_type": "stream",
          "text": [
            "plus que 245 publications pour completer l'année 2020\n"
          ]
        },
        {
          "name": "stderr",
          "output_type": "stream",
          "text": [
            "DEBUG:urllib3.connectionpool:Starting new HTTPS connection (1): api.openalex.org:443\n",
            "DEBUG:urllib3.connectionpool:https://api.openalex.org:443 \"GET /works?filter=has_doi:true,concepts_count:%3E0,publication_year:2020&sample=200&per-page=200 HTTP/1.1\" 200 317694\n"
          ]
        },
        {
          "name": "stdout",
          "output_type": "stream",
          "text": [
            "plus que 141 publications pour completer l'année 2020\n"
          ]
        },
        {
          "name": "stderr",
          "output_type": "stream",
          "text": [
            "DEBUG:urllib3.connectionpool:Starting new HTTPS connection (1): api.openalex.org:443\n",
            "DEBUG:urllib3.connectionpool:https://api.openalex.org:443 \"GET /works?filter=has_doi:true,concepts_count:%3E0,publication_year:2020&sample=200&per-page=200 HTTP/1.1\" 200 298102\n"
          ]
        },
        {
          "name": "stdout",
          "output_type": "stream",
          "text": [
            "plus que 36 publications pour completer l'année 2020\n"
          ]
        },
        {
          "name": "stderr",
          "output_type": "stream",
          "text": [
            "DEBUG:urllib3.connectionpool:Starting new HTTPS connection (1): api.openalex.org:443\n",
            "DEBUG:urllib3.connectionpool:https://api.openalex.org:443 \"GET /works?filter=has_doi:true,concepts_count:%3E0,publication_year:2017&sample=200&per-page=200 HTTP/1.1\" 200 298977\n"
          ]
        },
        {
          "name": "stdout",
          "output_type": "stream",
          "text": [
            "plus que 5541 publications pour completer l'année 2017\n"
          ]
        },
        {
          "name": "stderr",
          "output_type": "stream",
          "text": [
            "DEBUG:urllib3.connectionpool:Starting new HTTPS connection (1): api.openalex.org:443\n",
            "DEBUG:urllib3.connectionpool:https://api.openalex.org:443 \"GET /works?filter=has_doi:true,concepts_count:%3E0,publication_year:2017&sample=200&per-page=200 HTTP/1.1\" 200 299129\n"
          ]
        },
        {
          "name": "stdout",
          "output_type": "stream",
          "text": [
            "plus que 5439 publications pour completer l'année 2017\n"
          ]
        },
        {
          "name": "stderr",
          "output_type": "stream",
          "text": [
            "DEBUG:urllib3.connectionpool:Starting new HTTPS connection (1): api.openalex.org:443\n",
            "DEBUG:urllib3.connectionpool:https://api.openalex.org:443 \"GET /works?filter=has_doi:true,concepts_count:%3E0,publication_year:2017&sample=200&per-page=200 HTTP/1.1\" 200 324933\n"
          ]
        },
        {
          "name": "stdout",
          "output_type": "stream",
          "text": [
            "plus que 5334 publications pour completer l'année 2017\n"
          ]
        },
        {
          "name": "stderr",
          "output_type": "stream",
          "text": [
            "DEBUG:urllib3.connectionpool:Starting new HTTPS connection (1): api.openalex.org:443\n",
            "DEBUG:urllib3.connectionpool:https://api.openalex.org:443 \"GET /works?filter=has_doi:true,concepts_count:%3E0,publication_year:2017&sample=200&per-page=200 HTTP/1.1\" 200 325534\n"
          ]
        },
        {
          "name": "stdout",
          "output_type": "stream",
          "text": [
            "plus que 5229 publications pour completer l'année 2017\n"
          ]
        },
        {
          "name": "stderr",
          "output_type": "stream",
          "text": [
            "DEBUG:urllib3.connectionpool:Starting new HTTPS connection (1): api.openalex.org:443\n",
            "DEBUG:urllib3.connectionpool:https://api.openalex.org:443 \"GET /works?filter=has_doi:true,concepts_count:%3E0,publication_year:2017&sample=200&per-page=200 HTTP/1.1\" 200 295031\n"
          ]
        },
        {
          "name": "stdout",
          "output_type": "stream",
          "text": [
            "plus que 5122 publications pour completer l'année 2017\n"
          ]
        },
        {
          "name": "stderr",
          "output_type": "stream",
          "text": [
            "DEBUG:urllib3.connectionpool:Starting new HTTPS connection (1): api.openalex.org:443\n",
            "DEBUG:urllib3.connectionpool:https://api.openalex.org:443 \"GET /works?filter=has_doi:true,concepts_count:%3E0,publication_year:2017&sample=200&per-page=200 HTTP/1.1\" 200 306300\n"
          ]
        },
        {
          "name": "stdout",
          "output_type": "stream",
          "text": [
            "plus que 5018 publications pour completer l'année 2017\n"
          ]
        },
        {
          "name": "stderr",
          "output_type": "stream",
          "text": [
            "DEBUG:urllib3.connectionpool:Starting new HTTPS connection (1): api.openalex.org:443\n",
            "DEBUG:urllib3.connectionpool:https://api.openalex.org:443 \"GET /works?filter=has_doi:true,concepts_count:%3E0,publication_year:2017&sample=200&per-page=200 HTTP/1.1\" 200 279223\n"
          ]
        },
        {
          "name": "stdout",
          "output_type": "stream",
          "text": [
            "plus que 4899 publications pour completer l'année 2017\n"
          ]
        },
        {
          "name": "stderr",
          "output_type": "stream",
          "text": [
            "DEBUG:urllib3.connectionpool:Starting new HTTPS connection (1): api.openalex.org:443\n",
            "DEBUG:urllib3.connectionpool:https://api.openalex.org:443 \"GET /works?filter=has_doi:true,concepts_count:%3E0,publication_year:2017&sample=200&per-page=200 HTTP/1.1\" 200 307051\n"
          ]
        },
        {
          "name": "stdout",
          "output_type": "stream",
          "text": [
            "plus que 4798 publications pour completer l'année 2017\n"
          ]
        },
        {
          "name": "stderr",
          "output_type": "stream",
          "text": [
            "DEBUG:urllib3.connectionpool:Starting new HTTPS connection (1): api.openalex.org:443\n",
            "DEBUG:urllib3.connectionpool:https://api.openalex.org:443 \"GET /works?filter=has_doi:true,concepts_count:%3E0,publication_year:2017&sample=200&per-page=200 HTTP/1.1\" 200 269124\n"
          ]
        },
        {
          "name": "stdout",
          "output_type": "stream",
          "text": [
            "plus que 4693 publications pour completer l'année 2017\n"
          ]
        },
        {
          "name": "stderr",
          "output_type": "stream",
          "text": [
            "DEBUG:urllib3.connectionpool:Starting new HTTPS connection (1): api.openalex.org:443\n",
            "DEBUG:urllib3.connectionpool:https://api.openalex.org:443 \"GET /works?filter=has_doi:true,concepts_count:%3E0,publication_year:2017&sample=200&per-page=200 HTTP/1.1\" 200 307904\n"
          ]
        },
        {
          "name": "stdout",
          "output_type": "stream",
          "text": [
            "plus que 4602 publications pour completer l'année 2017\n"
          ]
        },
        {
          "name": "stderr",
          "output_type": "stream",
          "text": [
            "DEBUG:urllib3.connectionpool:Starting new HTTPS connection (1): api.openalex.org:443\n",
            "DEBUG:urllib3.connectionpool:https://api.openalex.org:443 \"GET /works?filter=has_doi:true,concepts_count:%3E0,publication_year:2017&sample=200&per-page=200 HTTP/1.1\" 200 314974\n"
          ]
        },
        {
          "name": "stdout",
          "output_type": "stream",
          "text": [
            "plus que 4505 publications pour completer l'année 2017\n"
          ]
        },
        {
          "name": "stderr",
          "output_type": "stream",
          "text": [
            "DEBUG:urllib3.connectionpool:Starting new HTTPS connection (1): api.openalex.org:443\n",
            "DEBUG:urllib3.connectionpool:https://api.openalex.org:443 \"GET /works?filter=has_doi:true,concepts_count:%3E0,publication_year:2017&sample=200&per-page=200 HTTP/1.1\" 200 342738\n"
          ]
        },
        {
          "name": "stdout",
          "output_type": "stream",
          "text": [
            "plus que 4405 publications pour completer l'année 2017\n"
          ]
        },
        {
          "name": "stderr",
          "output_type": "stream",
          "text": [
            "DEBUG:urllib3.connectionpool:Starting new HTTPS connection (1): api.openalex.org:443\n",
            "DEBUG:urllib3.connectionpool:https://api.openalex.org:443 \"GET /works?filter=has_doi:true,concepts_count:%3E0,publication_year:2017&sample=200&per-page=200 HTTP/1.1\" 200 323245\n"
          ]
        },
        {
          "name": "stdout",
          "output_type": "stream",
          "text": [
            "plus que 4298 publications pour completer l'année 2017\n"
          ]
        },
        {
          "name": "stderr",
          "output_type": "stream",
          "text": [
            "DEBUG:urllib3.connectionpool:Starting new HTTPS connection (1): api.openalex.org:443\n",
            "DEBUG:urllib3.connectionpool:https://api.openalex.org:443 \"GET /works?filter=has_doi:true,concepts_count:%3E0,publication_year:2017&sample=200&per-page=200 HTTP/1.1\" 200 326286\n"
          ]
        },
        {
          "name": "stdout",
          "output_type": "stream",
          "text": [
            "plus que 4183 publications pour completer l'année 2017\n"
          ]
        },
        {
          "name": "stderr",
          "output_type": "stream",
          "text": [
            "DEBUG:urllib3.connectionpool:Starting new HTTPS connection (1): api.openalex.org:443\n",
            "DEBUG:urllib3.connectionpool:https://api.openalex.org:443 \"GET /works?filter=has_doi:true,concepts_count:%3E0,publication_year:2017&sample=200&per-page=200 HTTP/1.1\" 200 309274\n"
          ]
        },
        {
          "name": "stdout",
          "output_type": "stream",
          "text": [
            "plus que 4075 publications pour completer l'année 2017\n"
          ]
        },
        {
          "name": "stderr",
          "output_type": "stream",
          "text": [
            "DEBUG:urllib3.connectionpool:Starting new HTTPS connection (1): api.openalex.org:443\n",
            "DEBUG:urllib3.connectionpool:https://api.openalex.org:443 \"GET /works?filter=has_doi:true,concepts_count:%3E0,publication_year:2017&sample=200&per-page=200 HTTP/1.1\" 200 290847\n"
          ]
        },
        {
          "name": "stdout",
          "output_type": "stream",
          "text": [
            "plus que 3984 publications pour completer l'année 2017\n"
          ]
        },
        {
          "name": "stderr",
          "output_type": "stream",
          "text": [
            "DEBUG:urllib3.connectionpool:Starting new HTTPS connection (1): api.openalex.org:443\n",
            "DEBUG:urllib3.connectionpool:https://api.openalex.org:443 \"GET /works?filter=has_doi:true,concepts_count:%3E0,publication_year:2017&sample=200&per-page=200 HTTP/1.1\" 200 302689\n"
          ]
        },
        {
          "name": "stdout",
          "output_type": "stream",
          "text": [
            "plus que 3887 publications pour completer l'année 2017\n"
          ]
        },
        {
          "name": "stderr",
          "output_type": "stream",
          "text": [
            "DEBUG:urllib3.connectionpool:Starting new HTTPS connection (1): api.openalex.org:443\n",
            "DEBUG:urllib3.connectionpool:https://api.openalex.org:443 \"GET /works?filter=has_doi:true,concepts_count:%3E0,publication_year:2017&sample=200&per-page=200 HTTP/1.1\" 200 313427\n"
          ]
        },
        {
          "name": "stdout",
          "output_type": "stream",
          "text": [
            "plus que 3779 publications pour completer l'année 2017\n"
          ]
        },
        {
          "name": "stderr",
          "output_type": "stream",
          "text": [
            "DEBUG:urllib3.connectionpool:Starting new HTTPS connection (1): api.openalex.org:443\n",
            "DEBUG:urllib3.connectionpool:https://api.openalex.org:443 \"GET /works?filter=has_doi:true,concepts_count:%3E0,publication_year:2017&sample=200&per-page=200 HTTP/1.1\" 200 297567\n"
          ]
        },
        {
          "name": "stdout",
          "output_type": "stream",
          "text": [
            "plus que 3681 publications pour completer l'année 2017\n"
          ]
        },
        {
          "name": "stderr",
          "output_type": "stream",
          "text": [
            "DEBUG:urllib3.connectionpool:Starting new HTTPS connection (1): api.openalex.org:443\n",
            "DEBUG:urllib3.connectionpool:https://api.openalex.org:443 \"GET /works?filter=has_doi:true,concepts_count:%3E0,publication_year:2017&sample=200&per-page=200 HTTP/1.1\" 200 286533\n"
          ]
        },
        {
          "name": "stdout",
          "output_type": "stream",
          "text": [
            "plus que 3579 publications pour completer l'année 2017\n"
          ]
        },
        {
          "name": "stderr",
          "output_type": "stream",
          "text": [
            "DEBUG:urllib3.connectionpool:Starting new HTTPS connection (1): api.openalex.org:443\n",
            "DEBUG:urllib3.connectionpool:https://api.openalex.org:443 \"GET /works?filter=has_doi:true,concepts_count:%3E0,publication_year:2017&sample=200&per-page=200 HTTP/1.1\" 200 298008\n"
          ]
        },
        {
          "name": "stdout",
          "output_type": "stream",
          "text": [
            "plus que 3469 publications pour completer l'année 2017\n"
          ]
        },
        {
          "name": "stderr",
          "output_type": "stream",
          "text": [
            "DEBUG:urllib3.connectionpool:Starting new HTTPS connection (1): api.openalex.org:443\n",
            "DEBUG:urllib3.connectionpool:https://api.openalex.org:443 \"GET /works?filter=has_doi:true,concepts_count:%3E0,publication_year:2017&sample=200&per-page=200 HTTP/1.1\" 200 295113\n"
          ]
        },
        {
          "name": "stdout",
          "output_type": "stream",
          "text": [
            "plus que 3362 publications pour completer l'année 2017\n"
          ]
        },
        {
          "name": "stderr",
          "output_type": "stream",
          "text": [
            "DEBUG:urllib3.connectionpool:Starting new HTTPS connection (1): api.openalex.org:443\n",
            "DEBUG:urllib3.connectionpool:https://api.openalex.org:443 \"GET /works?filter=has_doi:true,concepts_count:%3E0,publication_year:2017&sample=200&per-page=200 HTTP/1.1\" 200 297730\n"
          ]
        },
        {
          "name": "stdout",
          "output_type": "stream",
          "text": [
            "plus que 3257 publications pour completer l'année 2017\n"
          ]
        },
        {
          "name": "stderr",
          "output_type": "stream",
          "text": [
            "DEBUG:urllib3.connectionpool:Starting new HTTPS connection (1): api.openalex.org:443\n",
            "DEBUG:urllib3.connectionpool:https://api.openalex.org:443 \"GET /works?filter=has_doi:true,concepts_count:%3E0,publication_year:2017&sample=200&per-page=200 HTTP/1.1\" 200 303422\n"
          ]
        },
        {
          "name": "stdout",
          "output_type": "stream",
          "text": [
            "plus que 3151 publications pour completer l'année 2017\n"
          ]
        },
        {
          "name": "stderr",
          "output_type": "stream",
          "text": [
            "DEBUG:urllib3.connectionpool:Starting new HTTPS connection (1): api.openalex.org:443\n",
            "DEBUG:urllib3.connectionpool:https://api.openalex.org:443 \"GET /works?filter=has_doi:true,concepts_count:%3E0,publication_year:2017&sample=200&per-page=200 HTTP/1.1\" 200 317344\n"
          ]
        },
        {
          "name": "stdout",
          "output_type": "stream",
          "text": [
            "plus que 3045 publications pour completer l'année 2017\n"
          ]
        },
        {
          "name": "stderr",
          "output_type": "stream",
          "text": [
            "DEBUG:urllib3.connectionpool:Starting new HTTPS connection (1): api.openalex.org:443\n",
            "DEBUG:urllib3.connectionpool:https://api.openalex.org:443 \"GET /works?filter=has_doi:true,concepts_count:%3E0,publication_year:2017&sample=200&per-page=200 HTTP/1.1\" 200 308903\n"
          ]
        },
        {
          "name": "stdout",
          "output_type": "stream",
          "text": [
            "plus que 2935 publications pour completer l'année 2017\n"
          ]
        },
        {
          "name": "stderr",
          "output_type": "stream",
          "text": [
            "DEBUG:urllib3.connectionpool:Starting new HTTPS connection (1): api.openalex.org:443\n",
            "DEBUG:urllib3.connectionpool:https://api.openalex.org:443 \"GET /works?filter=has_doi:true,concepts_count:%3E0,publication_year:2017&sample=200&per-page=200 HTTP/1.1\" 200 288259\n"
          ]
        },
        {
          "name": "stdout",
          "output_type": "stream",
          "text": [
            "plus que 2825 publications pour completer l'année 2017\n"
          ]
        },
        {
          "name": "stderr",
          "output_type": "stream",
          "text": [
            "DEBUG:urllib3.connectionpool:Starting new HTTPS connection (1): api.openalex.org:443\n",
            "DEBUG:urllib3.connectionpool:https://api.openalex.org:443 \"GET /works?filter=has_doi:true,concepts_count:%3E0,publication_year:2017&sample=200&per-page=200 HTTP/1.1\" 200 315581\n"
          ]
        },
        {
          "name": "stdout",
          "output_type": "stream",
          "text": [
            "plus que 2708 publications pour completer l'année 2017\n"
          ]
        },
        {
          "name": "stderr",
          "output_type": "stream",
          "text": [
            "DEBUG:urllib3.connectionpool:Starting new HTTPS connection (1): api.openalex.org:443\n",
            "DEBUG:urllib3.connectionpool:https://api.openalex.org:443 \"GET /works?filter=has_doi:true,concepts_count:%3E0,publication_year:2017&sample=200&per-page=200 HTTP/1.1\" 200 288614\n"
          ]
        },
        {
          "name": "stdout",
          "output_type": "stream",
          "text": [
            "plus que 2605 publications pour completer l'année 2017\n"
          ]
        },
        {
          "name": "stderr",
          "output_type": "stream",
          "text": [
            "DEBUG:urllib3.connectionpool:Starting new HTTPS connection (1): api.openalex.org:443\n",
            "DEBUG:urllib3.connectionpool:https://api.openalex.org:443 \"GET /works?filter=has_doi:true,concepts_count:%3E0,publication_year:2017&sample=200&per-page=200 HTTP/1.1\" 200 294247\n"
          ]
        },
        {
          "name": "stdout",
          "output_type": "stream",
          "text": [
            "plus que 2506 publications pour completer l'année 2017\n"
          ]
        },
        {
          "name": "stderr",
          "output_type": "stream",
          "text": [
            "DEBUG:urllib3.connectionpool:Starting new HTTPS connection (1): api.openalex.org:443\n",
            "DEBUG:urllib3.connectionpool:https://api.openalex.org:443 \"GET /works?filter=has_doi:true,concepts_count:%3E0,publication_year:2017&sample=200&per-page=200 HTTP/1.1\" 200 315262\n"
          ]
        },
        {
          "name": "stdout",
          "output_type": "stream",
          "text": [
            "plus que 2406 publications pour completer l'année 2017\n"
          ]
        },
        {
          "name": "stderr",
          "output_type": "stream",
          "text": [
            "DEBUG:urllib3.connectionpool:Starting new HTTPS connection (1): api.openalex.org:443\n",
            "DEBUG:urllib3.connectionpool:https://api.openalex.org:443 \"GET /works?filter=has_doi:true,concepts_count:%3E0,publication_year:2017&sample=200&per-page=200 HTTP/1.1\" 200 279164\n"
          ]
        },
        {
          "name": "stdout",
          "output_type": "stream",
          "text": [
            "plus que 2296 publications pour completer l'année 2017\n"
          ]
        },
        {
          "name": "stderr",
          "output_type": "stream",
          "text": [
            "DEBUG:urllib3.connectionpool:Starting new HTTPS connection (1): api.openalex.org:443\n",
            "DEBUG:urllib3.connectionpool:https://api.openalex.org:443 \"GET /works?filter=has_doi:true,concepts_count:%3E0,publication_year:2017&sample=200&per-page=200 HTTP/1.1\" 200 288513\n"
          ]
        },
        {
          "name": "stdout",
          "output_type": "stream",
          "text": [
            "plus que 2194 publications pour completer l'année 2017\n"
          ]
        },
        {
          "name": "stderr",
          "output_type": "stream",
          "text": [
            "DEBUG:urllib3.connectionpool:Starting new HTTPS connection (1): api.openalex.org:443\n",
            "DEBUG:urllib3.connectionpool:https://api.openalex.org:443 \"GET /works?filter=has_doi:true,concepts_count:%3E0,publication_year:2017&sample=200&per-page=200 HTTP/1.1\" 200 295989\n"
          ]
        },
        {
          "name": "stdout",
          "output_type": "stream",
          "text": [
            "plus que 2100 publications pour completer l'année 2017\n"
          ]
        },
        {
          "name": "stderr",
          "output_type": "stream",
          "text": [
            "DEBUG:urllib3.connectionpool:Starting new HTTPS connection (1): api.openalex.org:443\n",
            "DEBUG:urllib3.connectionpool:https://api.openalex.org:443 \"GET /works?filter=has_doi:true,concepts_count:%3E0,publication_year:2017&sample=200&per-page=200 HTTP/1.1\" 200 313253\n"
          ]
        },
        {
          "name": "stdout",
          "output_type": "stream",
          "text": [
            "plus que 1994 publications pour completer l'année 2017\n"
          ]
        },
        {
          "name": "stderr",
          "output_type": "stream",
          "text": [
            "DEBUG:urllib3.connectionpool:Starting new HTTPS connection (1): api.openalex.org:443\n",
            "DEBUG:urllib3.connectionpool:https://api.openalex.org:443 \"GET /works?filter=has_doi:true,concepts_count:%3E0,publication_year:2017&sample=200&per-page=200 HTTP/1.1\" 200 325056\n"
          ]
        },
        {
          "name": "stdout",
          "output_type": "stream",
          "text": [
            "plus que 1889 publications pour completer l'année 2017\n"
          ]
        },
        {
          "name": "stderr",
          "output_type": "stream",
          "text": [
            "DEBUG:urllib3.connectionpool:Starting new HTTPS connection (1): api.openalex.org:443\n",
            "DEBUG:urllib3.connectionpool:https://api.openalex.org:443 \"GET /works?filter=has_doi:true,concepts_count:%3E0,publication_year:2017&sample=200&per-page=200 HTTP/1.1\" 200 282921\n"
          ]
        },
        {
          "name": "stdout",
          "output_type": "stream",
          "text": [
            "plus que 1780 publications pour completer l'année 2017\n"
          ]
        },
        {
          "name": "stderr",
          "output_type": "stream",
          "text": [
            "DEBUG:urllib3.connectionpool:Starting new HTTPS connection (1): api.openalex.org:443\n",
            "DEBUG:urllib3.connectionpool:https://api.openalex.org:443 \"GET /works?filter=has_doi:true,concepts_count:%3E0,publication_year:2017&sample=200&per-page=200 HTTP/1.1\" 200 308740\n"
          ]
        },
        {
          "name": "stdout",
          "output_type": "stream",
          "text": [
            "plus que 1681 publications pour completer l'année 2017\n"
          ]
        },
        {
          "name": "stderr",
          "output_type": "stream",
          "text": [
            "DEBUG:urllib3.connectionpool:Starting new HTTPS connection (1): api.openalex.org:443\n",
            "DEBUG:urllib3.connectionpool:https://api.openalex.org:443 \"GET /works?filter=has_doi:true,concepts_count:%3E0,publication_year:2017&sample=200&per-page=200 HTTP/1.1\" 200 311229\n"
          ]
        },
        {
          "name": "stdout",
          "output_type": "stream",
          "text": [
            "plus que 1580 publications pour completer l'année 2017\n"
          ]
        },
        {
          "name": "stderr",
          "output_type": "stream",
          "text": [
            "DEBUG:urllib3.connectionpool:Starting new HTTPS connection (1): api.openalex.org:443\n",
            "DEBUG:urllib3.connectionpool:https://api.openalex.org:443 \"GET /works?filter=has_doi:true,concepts_count:%3E0,publication_year:2017&sample=200&per-page=200 HTTP/1.1\" 200 296508\n"
          ]
        },
        {
          "name": "stdout",
          "output_type": "stream",
          "text": [
            "plus que 1462 publications pour completer l'année 2017\n"
          ]
        },
        {
          "name": "stderr",
          "output_type": "stream",
          "text": [
            "DEBUG:urllib3.connectionpool:Starting new HTTPS connection (1): api.openalex.org:443\n",
            "DEBUG:urllib3.connectionpool:https://api.openalex.org:443 \"GET /works?filter=has_doi:true,concepts_count:%3E0,publication_year:2017&sample=200&per-page=200 HTTP/1.1\" 200 309646\n"
          ]
        },
        {
          "name": "stdout",
          "output_type": "stream",
          "text": [
            "plus que 1372 publications pour completer l'année 2017\n"
          ]
        },
        {
          "name": "stderr",
          "output_type": "stream",
          "text": [
            "DEBUG:urllib3.connectionpool:Starting new HTTPS connection (1): api.openalex.org:443\n",
            "DEBUG:urllib3.connectionpool:https://api.openalex.org:443 \"GET /works?filter=has_doi:true,concepts_count:%3E0,publication_year:2017&sample=200&per-page=200 HTTP/1.1\" 200 319937\n"
          ]
        },
        {
          "name": "stdout",
          "output_type": "stream",
          "text": [
            "plus que 1257 publications pour completer l'année 2017\n"
          ]
        },
        {
          "name": "stderr",
          "output_type": "stream",
          "text": [
            "DEBUG:urllib3.connectionpool:Starting new HTTPS connection (1): api.openalex.org:443\n",
            "DEBUG:urllib3.connectionpool:https://api.openalex.org:443 \"GET /works?filter=has_doi:true,concepts_count:%3E0,publication_year:2017&sample=200&per-page=200 HTTP/1.1\" 200 336696\n"
          ]
        },
        {
          "name": "stdout",
          "output_type": "stream",
          "text": [
            "plus que 1150 publications pour completer l'année 2017\n"
          ]
        },
        {
          "name": "stderr",
          "output_type": "stream",
          "text": [
            "DEBUG:urllib3.connectionpool:Starting new HTTPS connection (1): api.openalex.org:443\n",
            "DEBUG:urllib3.connectionpool:https://api.openalex.org:443 \"GET /works?filter=has_doi:true,concepts_count:%3E0,publication_year:2017&sample=200&per-page=200 HTTP/1.1\" 200 323435\n"
          ]
        },
        {
          "name": "stdout",
          "output_type": "stream",
          "text": [
            "plus que 1044 publications pour completer l'année 2017\n"
          ]
        },
        {
          "name": "stderr",
          "output_type": "stream",
          "text": [
            "DEBUG:urllib3.connectionpool:Starting new HTTPS connection (1): api.openalex.org:443\n",
            "DEBUG:urllib3.connectionpool:https://api.openalex.org:443 \"GET /works?filter=has_doi:true,concepts_count:%3E0,publication_year:2017&sample=200&per-page=200 HTTP/1.1\" 200 280514\n"
          ]
        },
        {
          "name": "stdout",
          "output_type": "stream",
          "text": [
            "plus que 938 publications pour completer l'année 2017\n"
          ]
        },
        {
          "name": "stderr",
          "output_type": "stream",
          "text": [
            "DEBUG:urllib3.connectionpool:Starting new HTTPS connection (1): api.openalex.org:443\n",
            "DEBUG:urllib3.connectionpool:https://api.openalex.org:443 \"GET /works?filter=has_doi:true,concepts_count:%3E0,publication_year:2017&sample=200&per-page=200 HTTP/1.1\" 200 298492\n"
          ]
        },
        {
          "name": "stdout",
          "output_type": "stream",
          "text": [
            "plus que 841 publications pour completer l'année 2017\n"
          ]
        },
        {
          "name": "stderr",
          "output_type": "stream",
          "text": [
            "DEBUG:urllib3.connectionpool:Starting new HTTPS connection (1): api.openalex.org:443\n",
            "DEBUG:urllib3.connectionpool:https://api.openalex.org:443 \"GET /works?filter=has_doi:true,concepts_count:%3E0,publication_year:2017&sample=200&per-page=200 HTTP/1.1\" 200 292622\n"
          ]
        },
        {
          "name": "stdout",
          "output_type": "stream",
          "text": [
            "plus que 725 publications pour completer l'année 2017\n"
          ]
        },
        {
          "name": "stderr",
          "output_type": "stream",
          "text": [
            "DEBUG:urllib3.connectionpool:Starting new HTTPS connection (1): api.openalex.org:443\n",
            "DEBUG:urllib3.connectionpool:https://api.openalex.org:443 \"GET /works?filter=has_doi:true,concepts_count:%3E0,publication_year:2017&sample=200&per-page=200 HTTP/1.1\" 200 309012\n"
          ]
        },
        {
          "name": "stdout",
          "output_type": "stream",
          "text": [
            "plus que 632 publications pour completer l'année 2017\n"
          ]
        },
        {
          "name": "stderr",
          "output_type": "stream",
          "text": [
            "DEBUG:urllib3.connectionpool:Starting new HTTPS connection (1): api.openalex.org:443\n",
            "DEBUG:urllib3.connectionpool:https://api.openalex.org:443 \"GET /works?filter=has_doi:true,concepts_count:%3E0,publication_year:2017&sample=200&per-page=200 HTTP/1.1\" 200 307590\n"
          ]
        },
        {
          "name": "stdout",
          "output_type": "stream",
          "text": [
            "plus que 539 publications pour completer l'année 2017\n"
          ]
        },
        {
          "name": "stderr",
          "output_type": "stream",
          "text": [
            "DEBUG:urllib3.connectionpool:Starting new HTTPS connection (1): api.openalex.org:443\n",
            "DEBUG:urllib3.connectionpool:https://api.openalex.org:443 \"GET /works?filter=has_doi:true,concepts_count:%3E0,publication_year:2017&sample=200&per-page=200 HTTP/1.1\" 200 309747\n"
          ]
        },
        {
          "name": "stdout",
          "output_type": "stream",
          "text": [
            "plus que 441 publications pour completer l'année 2017\n"
          ]
        },
        {
          "name": "stderr",
          "output_type": "stream",
          "text": [
            "DEBUG:urllib3.connectionpool:Starting new HTTPS connection (1): api.openalex.org:443\n",
            "DEBUG:urllib3.connectionpool:https://api.openalex.org:443 \"GET /works?filter=has_doi:true,concepts_count:%3E0,publication_year:2017&sample=200&per-page=200 HTTP/1.1\" 200 292630\n"
          ]
        },
        {
          "name": "stdout",
          "output_type": "stream",
          "text": [
            "plus que 343 publications pour completer l'année 2017\n"
          ]
        },
        {
          "name": "stderr",
          "output_type": "stream",
          "text": [
            "DEBUG:urllib3.connectionpool:Starting new HTTPS connection (1): api.openalex.org:443\n",
            "DEBUG:urllib3.connectionpool:https://api.openalex.org:443 \"GET /works?filter=has_doi:true,concepts_count:%3E0,publication_year:2017&sample=200&per-page=200 HTTP/1.1\" 200 288972\n"
          ]
        },
        {
          "name": "stdout",
          "output_type": "stream",
          "text": [
            "plus que 243 publications pour completer l'année 2017\n"
          ]
        },
        {
          "name": "stderr",
          "output_type": "stream",
          "text": [
            "DEBUG:urllib3.connectionpool:Starting new HTTPS connection (1): api.openalex.org:443\n",
            "DEBUG:urllib3.connectionpool:https://api.openalex.org:443 \"GET /works?filter=has_doi:true,concepts_count:%3E0,publication_year:2017&sample=200&per-page=200 HTTP/1.1\" 200 280655\n"
          ]
        },
        {
          "name": "stdout",
          "output_type": "stream",
          "text": [
            "plus que 135 publications pour completer l'année 2017\n"
          ]
        },
        {
          "name": "stderr",
          "output_type": "stream",
          "text": [
            "DEBUG:urllib3.connectionpool:Starting new HTTPS connection (1): api.openalex.org:443\n",
            "DEBUG:urllib3.connectionpool:https://api.openalex.org:443 \"GET /works?filter=has_doi:true,concepts_count:%3E0,publication_year:2017&sample=200&per-page=200 HTTP/1.1\" 200 316968\n"
          ]
        },
        {
          "name": "stdout",
          "output_type": "stream",
          "text": [
            "plus que 52 publications pour completer l'année 2017\n"
          ]
        },
        {
          "name": "stderr",
          "output_type": "stream",
          "text": [
            "DEBUG:urllib3.connectionpool:Starting new HTTPS connection (1): api.openalex.org:443\n",
            "DEBUG:urllib3.connectionpool:https://api.openalex.org:443 \"GET /works?filter=has_doi:true,concepts_count:%3E0,publication_year:2016&sample=200&per-page=200 HTTP/1.1\" 200 301252\n"
          ]
        },
        {
          "name": "stdout",
          "output_type": "stream",
          "text": [
            "plus que 4941 publications pour completer l'année 2016\n"
          ]
        },
        {
          "name": "stderr",
          "output_type": "stream",
          "text": [
            "DEBUG:urllib3.connectionpool:Starting new HTTPS connection (1): api.openalex.org:443\n",
            "DEBUG:urllib3.connectionpool:https://api.openalex.org:443 \"GET /works?filter=has_doi:true,concepts_count:%3E0,publication_year:2016&sample=200&per-page=200 HTTP/1.1\" 200 326090\n"
          ]
        },
        {
          "name": "stdout",
          "output_type": "stream",
          "text": [
            "plus que 4824 publications pour completer l'année 2016\n"
          ]
        },
        {
          "name": "stderr",
          "output_type": "stream",
          "text": [
            "DEBUG:urllib3.connectionpool:Starting new HTTPS connection (1): api.openalex.org:443\n",
            "DEBUG:urllib3.connectionpool:https://api.openalex.org:443 \"GET /works?filter=has_doi:true,concepts_count:%3E0,publication_year:2016&sample=200&per-page=200 HTTP/1.1\" 200 289004\n"
          ]
        },
        {
          "name": "stdout",
          "output_type": "stream",
          "text": [
            "plus que 4714 publications pour completer l'année 2016\n"
          ]
        },
        {
          "name": "stderr",
          "output_type": "stream",
          "text": [
            "DEBUG:urllib3.connectionpool:Starting new HTTPS connection (1): api.openalex.org:443\n",
            "DEBUG:urllib3.connectionpool:https://api.openalex.org:443 \"GET /works?filter=has_doi:true,concepts_count:%3E0,publication_year:2016&sample=200&per-page=200 HTTP/1.1\" 200 280574\n"
          ]
        },
        {
          "name": "stdout",
          "output_type": "stream",
          "text": [
            "plus que 4616 publications pour completer l'année 2016\n"
          ]
        },
        {
          "name": "stderr",
          "output_type": "stream",
          "text": [
            "DEBUG:urllib3.connectionpool:Starting new HTTPS connection (1): api.openalex.org:443\n",
            "DEBUG:urllib3.connectionpool:https://api.openalex.org:443 \"GET /works?filter=has_doi:true,concepts_count:%3E0,publication_year:2016&sample=200&per-page=200 HTTP/1.1\" 200 333501\n"
          ]
        },
        {
          "name": "stdout",
          "output_type": "stream",
          "text": [
            "plus que 4513 publications pour completer l'année 2016\n"
          ]
        },
        {
          "name": "stderr",
          "output_type": "stream",
          "text": [
            "DEBUG:urllib3.connectionpool:Starting new HTTPS connection (1): api.openalex.org:443\n",
            "DEBUG:urllib3.connectionpool:https://api.openalex.org:443 \"GET /works?filter=has_doi:true,concepts_count:%3E0,publication_year:2016&sample=200&per-page=200 HTTP/1.1\" 200 297882\n"
          ]
        },
        {
          "name": "stdout",
          "output_type": "stream",
          "text": [
            "plus que 4404 publications pour completer l'année 2016\n"
          ]
        },
        {
          "name": "stderr",
          "output_type": "stream",
          "text": [
            "DEBUG:urllib3.connectionpool:Starting new HTTPS connection (1): api.openalex.org:443\n",
            "DEBUG:urllib3.connectionpool:https://api.openalex.org:443 \"GET /works?filter=has_doi:true,concepts_count:%3E0,publication_year:2016&sample=200&per-page=200 HTTP/1.1\" 200 300638\n"
          ]
        },
        {
          "name": "stdout",
          "output_type": "stream",
          "text": [
            "plus que 4304 publications pour completer l'année 2016\n"
          ]
        },
        {
          "name": "stderr",
          "output_type": "stream",
          "text": [
            "DEBUG:urllib3.connectionpool:Starting new HTTPS connection (1): api.openalex.org:443\n",
            "DEBUG:urllib3.connectionpool:https://api.openalex.org:443 \"GET /works?filter=has_doi:true,concepts_count:%3E0,publication_year:2016&sample=200&per-page=200 HTTP/1.1\" 200 298104\n"
          ]
        },
        {
          "name": "stdout",
          "output_type": "stream",
          "text": [
            "plus que 4205 publications pour completer l'année 2016\n"
          ]
        },
        {
          "name": "stderr",
          "output_type": "stream",
          "text": [
            "DEBUG:urllib3.connectionpool:Starting new HTTPS connection (1): api.openalex.org:443\n",
            "DEBUG:urllib3.connectionpool:https://api.openalex.org:443 \"GET /works?filter=has_doi:true,concepts_count:%3E0,publication_year:2016&sample=200&per-page=200 HTTP/1.1\" 200 275194\n"
          ]
        },
        {
          "name": "stdout",
          "output_type": "stream",
          "text": [
            "plus que 4091 publications pour completer l'année 2016\n"
          ]
        },
        {
          "name": "stderr",
          "output_type": "stream",
          "text": [
            "DEBUG:urllib3.connectionpool:Starting new HTTPS connection (1): api.openalex.org:443\n",
            "DEBUG:urllib3.connectionpool:https://api.openalex.org:443 \"GET /works?filter=has_doi:true,concepts_count:%3E0,publication_year:2016&sample=200&per-page=200 HTTP/1.1\" 200 288152\n"
          ]
        },
        {
          "name": "stdout",
          "output_type": "stream",
          "text": [
            "plus que 4000 publications pour completer l'année 2016\n"
          ]
        },
        {
          "name": "stderr",
          "output_type": "stream",
          "text": [
            "DEBUG:urllib3.connectionpool:Starting new HTTPS connection (1): api.openalex.org:443\n",
            "DEBUG:urllib3.connectionpool:https://api.openalex.org:443 \"GET /works?filter=has_doi:true,concepts_count:%3E0,publication_year:2016&sample=200&per-page=200 HTTP/1.1\" 200 304279\n"
          ]
        },
        {
          "name": "stdout",
          "output_type": "stream",
          "text": [
            "plus que 3891 publications pour completer l'année 2016\n"
          ]
        },
        {
          "name": "stderr",
          "output_type": "stream",
          "text": [
            "DEBUG:urllib3.connectionpool:Starting new HTTPS connection (1): api.openalex.org:443\n",
            "DEBUG:urllib3.connectionpool:https://api.openalex.org:443 \"GET /works?filter=has_doi:true,concepts_count:%3E0,publication_year:2016&sample=200&per-page=200 HTTP/1.1\" 200 302356\n"
          ]
        },
        {
          "name": "stdout",
          "output_type": "stream",
          "text": [
            "plus que 3783 publications pour completer l'année 2016\n"
          ]
        },
        {
          "name": "stderr",
          "output_type": "stream",
          "text": [
            "DEBUG:urllib3.connectionpool:Starting new HTTPS connection (1): api.openalex.org:443\n",
            "DEBUG:urllib3.connectionpool:https://api.openalex.org:443 \"GET /works?filter=has_doi:true,concepts_count:%3E0,publication_year:2016&sample=200&per-page=200 HTTP/1.1\" 200 284790\n"
          ]
        },
        {
          "name": "stdout",
          "output_type": "stream",
          "text": [
            "plus que 3672 publications pour completer l'année 2016\n"
          ]
        },
        {
          "name": "stderr",
          "output_type": "stream",
          "text": [
            "DEBUG:urllib3.connectionpool:Starting new HTTPS connection (1): api.openalex.org:443\n",
            "DEBUG:urllib3.connectionpool:https://api.openalex.org:443 \"GET /works?filter=has_doi:true,concepts_count:%3E0,publication_year:2016&sample=200&per-page=200 HTTP/1.1\" 200 327186\n"
          ]
        },
        {
          "name": "stdout",
          "output_type": "stream",
          "text": [
            "plus que 3576 publications pour completer l'année 2016\n"
          ]
        },
        {
          "name": "stderr",
          "output_type": "stream",
          "text": [
            "DEBUG:urllib3.connectionpool:Starting new HTTPS connection (1): api.openalex.org:443\n",
            "DEBUG:urllib3.connectionpool:https://api.openalex.org:443 \"GET /works?filter=has_doi:true,concepts_count:%3E0,publication_year:2016&sample=200&per-page=200 HTTP/1.1\" 200 280913\n"
          ]
        },
        {
          "name": "stdout",
          "output_type": "stream",
          "text": [
            "plus que 3456 publications pour completer l'année 2016\n"
          ]
        },
        {
          "name": "stderr",
          "output_type": "stream",
          "text": [
            "DEBUG:urllib3.connectionpool:Starting new HTTPS connection (1): api.openalex.org:443\n",
            "DEBUG:urllib3.connectionpool:https://api.openalex.org:443 \"GET /works?filter=has_doi:true,concepts_count:%3E0,publication_year:2016&sample=200&per-page=200 HTTP/1.1\" 200 300157\n"
          ]
        },
        {
          "name": "stdout",
          "output_type": "stream",
          "text": [
            "plus que 3360 publications pour completer l'année 2016\n"
          ]
        },
        {
          "name": "stderr",
          "output_type": "stream",
          "text": [
            "DEBUG:urllib3.connectionpool:Starting new HTTPS connection (1): api.openalex.org:443\n",
            "DEBUG:urllib3.connectionpool:https://api.openalex.org:443 \"GET /works?filter=has_doi:true,concepts_count:%3E0,publication_year:2016&sample=200&per-page=200 HTTP/1.1\" 200 305397\n"
          ]
        },
        {
          "name": "stdout",
          "output_type": "stream",
          "text": [
            "plus que 3255 publications pour completer l'année 2016\n"
          ]
        },
        {
          "name": "stderr",
          "output_type": "stream",
          "text": [
            "DEBUG:urllib3.connectionpool:Starting new HTTPS connection (1): api.openalex.org:443\n",
            "DEBUG:urllib3.connectionpool:https://api.openalex.org:443 \"GET /works?filter=has_doi:true,concepts_count:%3E0,publication_year:2016&sample=200&per-page=200 HTTP/1.1\" 200 284703\n"
          ]
        },
        {
          "name": "stdout",
          "output_type": "stream",
          "text": [
            "plus que 3145 publications pour completer l'année 2016\n"
          ]
        },
        {
          "name": "stderr",
          "output_type": "stream",
          "text": [
            "DEBUG:urllib3.connectionpool:Starting new HTTPS connection (1): api.openalex.org:443\n",
            "DEBUG:urllib3.connectionpool:https://api.openalex.org:443 \"GET /works?filter=has_doi:true,concepts_count:%3E0,publication_year:2016&sample=200&per-page=200 HTTP/1.1\" 200 295378\n"
          ]
        },
        {
          "name": "stdout",
          "output_type": "stream",
          "text": [
            "plus que 3044 publications pour completer l'année 2016\n"
          ]
        },
        {
          "name": "stderr",
          "output_type": "stream",
          "text": [
            "DEBUG:urllib3.connectionpool:Starting new HTTPS connection (1): api.openalex.org:443\n",
            "DEBUG:urllib3.connectionpool:https://api.openalex.org:443 \"GET /works?filter=has_doi:true,concepts_count:%3E0,publication_year:2016&sample=200&per-page=200 HTTP/1.1\" 200 279578\n"
          ]
        },
        {
          "name": "stdout",
          "output_type": "stream",
          "text": [
            "plus que 2936 publications pour completer l'année 2016\n"
          ]
        },
        {
          "name": "stderr",
          "output_type": "stream",
          "text": [
            "DEBUG:urllib3.connectionpool:Starting new HTTPS connection (1): api.openalex.org:443\n",
            "DEBUG:urllib3.connectionpool:https://api.openalex.org:443 \"GET /works?filter=has_doi:true,concepts_count:%3E0,publication_year:2016&sample=200&per-page=200 HTTP/1.1\" 200 318841\n"
          ]
        },
        {
          "name": "stdout",
          "output_type": "stream",
          "text": [
            "plus que 2835 publications pour completer l'année 2016\n"
          ]
        },
        {
          "name": "stderr",
          "output_type": "stream",
          "text": [
            "DEBUG:urllib3.connectionpool:Starting new HTTPS connection (1): api.openalex.org:443\n",
            "DEBUG:urllib3.connectionpool:https://api.openalex.org:443 \"GET /works?filter=has_doi:true,concepts_count:%3E0,publication_year:2016&sample=200&per-page=200 HTTP/1.1\" 200 319538\n"
          ]
        },
        {
          "name": "stdout",
          "output_type": "stream",
          "text": [
            "plus que 2720 publications pour completer l'année 2016\n"
          ]
        },
        {
          "name": "stderr",
          "output_type": "stream",
          "text": [
            "DEBUG:urllib3.connectionpool:Starting new HTTPS connection (1): api.openalex.org:443\n",
            "DEBUG:urllib3.connectionpool:https://api.openalex.org:443 \"GET /works?filter=has_doi:true,concepts_count:%3E0,publication_year:2016&sample=200&per-page=200 HTTP/1.1\" 200 326785\n"
          ]
        },
        {
          "name": "stdout",
          "output_type": "stream",
          "text": [
            "plus que 2597 publications pour completer l'année 2016\n"
          ]
        },
        {
          "name": "stderr",
          "output_type": "stream",
          "text": [
            "DEBUG:urllib3.connectionpool:Starting new HTTPS connection (1): api.openalex.org:443\n",
            "DEBUG:urllib3.connectionpool:https://api.openalex.org:443 \"GET /works?filter=has_doi:true,concepts_count:%3E0,publication_year:2016&sample=200&per-page=200 HTTP/1.1\" 200 314495\n"
          ]
        },
        {
          "name": "stdout",
          "output_type": "stream",
          "text": [
            "plus que 2498 publications pour completer l'année 2016\n"
          ]
        },
        {
          "name": "stderr",
          "output_type": "stream",
          "text": [
            "DEBUG:urllib3.connectionpool:Starting new HTTPS connection (1): api.openalex.org:443\n",
            "DEBUG:urllib3.connectionpool:https://api.openalex.org:443 \"GET /works?filter=has_doi:true,concepts_count:%3E0,publication_year:2016&sample=200&per-page=200 HTTP/1.1\" 200 311804\n"
          ]
        },
        {
          "name": "stdout",
          "output_type": "stream",
          "text": [
            "plus que 2386 publications pour completer l'année 2016\n"
          ]
        },
        {
          "name": "stderr",
          "output_type": "stream",
          "text": [
            "DEBUG:urllib3.connectionpool:Starting new HTTPS connection (1): api.openalex.org:443\n",
            "DEBUG:urllib3.connectionpool:https://api.openalex.org:443 \"GET /works?filter=has_doi:true,concepts_count:%3E0,publication_year:2016&sample=200&per-page=200 HTTP/1.1\" 200 296413\n"
          ]
        },
        {
          "name": "stdout",
          "output_type": "stream",
          "text": [
            "plus que 2284 publications pour completer l'année 2016\n"
          ]
        },
        {
          "name": "stderr",
          "output_type": "stream",
          "text": [
            "DEBUG:urllib3.connectionpool:Starting new HTTPS connection (1): api.openalex.org:443\n",
            "DEBUG:urllib3.connectionpool:https://api.openalex.org:443 \"GET /works?filter=has_doi:true,concepts_count:%3E0,publication_year:2016&sample=200&per-page=200 HTTP/1.1\" 200 300121\n"
          ]
        },
        {
          "name": "stdout",
          "output_type": "stream",
          "text": [
            "plus que 2174 publications pour completer l'année 2016\n"
          ]
        },
        {
          "name": "stderr",
          "output_type": "stream",
          "text": [
            "DEBUG:urllib3.connectionpool:Starting new HTTPS connection (1): api.openalex.org:443\n",
            "DEBUG:urllib3.connectionpool:https://api.openalex.org:443 \"GET /works?filter=has_doi:true,concepts_count:%3E0,publication_year:2016&sample=200&per-page=200 HTTP/1.1\" 200 336972\n"
          ]
        },
        {
          "name": "stdout",
          "output_type": "stream",
          "text": [
            "plus que 2066 publications pour completer l'année 2016\n"
          ]
        },
        {
          "name": "stderr",
          "output_type": "stream",
          "text": [
            "DEBUG:urllib3.connectionpool:Starting new HTTPS connection (1): api.openalex.org:443\n",
            "DEBUG:urllib3.connectionpool:https://api.openalex.org:443 \"GET /works?filter=has_doi:true,concepts_count:%3E0,publication_year:2016&sample=200&per-page=200 HTTP/1.1\" 200 306768\n"
          ]
        },
        {
          "name": "stdout",
          "output_type": "stream",
          "text": [
            "plus que 1965 publications pour completer l'année 2016\n"
          ]
        },
        {
          "name": "stderr",
          "output_type": "stream",
          "text": [
            "DEBUG:urllib3.connectionpool:Starting new HTTPS connection (1): api.openalex.org:443\n",
            "DEBUG:urllib3.connectionpool:https://api.openalex.org:443 \"GET /works?filter=has_doi:true,concepts_count:%3E0,publication_year:2016&sample=200&per-page=200 HTTP/1.1\" 200 292123\n"
          ]
        },
        {
          "name": "stdout",
          "output_type": "stream",
          "text": [
            "plus que 1858 publications pour completer l'année 2016\n"
          ]
        },
        {
          "name": "stderr",
          "output_type": "stream",
          "text": [
            "DEBUG:urllib3.connectionpool:Starting new HTTPS connection (1): api.openalex.org:443\n",
            "DEBUG:urllib3.connectionpool:https://api.openalex.org:443 \"GET /works?filter=has_doi:true,concepts_count:%3E0,publication_year:2016&sample=200&per-page=200 HTTP/1.1\" 200 271459\n"
          ]
        },
        {
          "name": "stdout",
          "output_type": "stream",
          "text": [
            "plus que 1755 publications pour completer l'année 2016\n"
          ]
        },
        {
          "name": "stderr",
          "output_type": "stream",
          "text": [
            "DEBUG:urllib3.connectionpool:Starting new HTTPS connection (1): api.openalex.org:443\n",
            "DEBUG:urllib3.connectionpool:https://api.openalex.org:443 \"GET /works?filter=has_doi:true,concepts_count:%3E0,publication_year:2016&sample=200&per-page=200 HTTP/1.1\" 200 284776\n"
          ]
        },
        {
          "name": "stdout",
          "output_type": "stream",
          "text": [
            "plus que 1667 publications pour completer l'année 2016\n"
          ]
        },
        {
          "name": "stderr",
          "output_type": "stream",
          "text": [
            "DEBUG:urllib3.connectionpool:Starting new HTTPS connection (1): api.openalex.org:443\n",
            "DEBUG:urllib3.connectionpool:https://api.openalex.org:443 \"GET /works?filter=has_doi:true,concepts_count:%3E0,publication_year:2016&sample=200&per-page=200 HTTP/1.1\" 200 286580\n"
          ]
        },
        {
          "name": "stdout",
          "output_type": "stream",
          "text": [
            "plus que 1563 publications pour completer l'année 2016\n"
          ]
        },
        {
          "name": "stderr",
          "output_type": "stream",
          "text": [
            "DEBUG:urllib3.connectionpool:Starting new HTTPS connection (1): api.openalex.org:443\n",
            "DEBUG:urllib3.connectionpool:https://api.openalex.org:443 \"GET /works?filter=has_doi:true,concepts_count:%3E0,publication_year:2016&sample=200&per-page=200 HTTP/1.1\" 200 300852\n"
          ]
        },
        {
          "name": "stdout",
          "output_type": "stream",
          "text": [
            "plus que 1461 publications pour completer l'année 2016\n"
          ]
        },
        {
          "name": "stderr",
          "output_type": "stream",
          "text": [
            "DEBUG:urllib3.connectionpool:Starting new HTTPS connection (1): api.openalex.org:443\n",
            "DEBUG:urllib3.connectionpool:https://api.openalex.org:443 \"GET /works?filter=has_doi:true,concepts_count:%3E0,publication_year:2016&sample=200&per-page=200 HTTP/1.1\" 200 296943\n"
          ]
        },
        {
          "name": "stdout",
          "output_type": "stream",
          "text": [
            "plus que 1365 publications pour completer l'année 2016\n"
          ]
        },
        {
          "name": "stderr",
          "output_type": "stream",
          "text": [
            "DEBUG:urllib3.connectionpool:Starting new HTTPS connection (1): api.openalex.org:443\n",
            "DEBUG:urllib3.connectionpool:https://api.openalex.org:443 \"GET /works?filter=has_doi:true,concepts_count:%3E0,publication_year:2016&sample=200&per-page=200 HTTP/1.1\" 200 318991\n"
          ]
        },
        {
          "name": "stdout",
          "output_type": "stream",
          "text": [
            "plus que 1260 publications pour completer l'année 2016\n"
          ]
        },
        {
          "name": "stderr",
          "output_type": "stream",
          "text": [
            "DEBUG:urllib3.connectionpool:Starting new HTTPS connection (1): api.openalex.org:443\n",
            "DEBUG:urllib3.connectionpool:https://api.openalex.org:443 \"GET /works?filter=has_doi:true,concepts_count:%3E0,publication_year:2016&sample=200&per-page=200 HTTP/1.1\" 200 268279\n"
          ]
        },
        {
          "name": "stdout",
          "output_type": "stream",
          "text": [
            "plus que 1153 publications pour completer l'année 2016\n"
          ]
        },
        {
          "name": "stderr",
          "output_type": "stream",
          "text": [
            "DEBUG:urllib3.connectionpool:Starting new HTTPS connection (1): api.openalex.org:443\n",
            "DEBUG:urllib3.connectionpool:https://api.openalex.org:443 \"GET /works?filter=has_doi:true,concepts_count:%3E0,publication_year:2016&sample=200&per-page=200 HTTP/1.1\" 200 272888\n"
          ]
        },
        {
          "name": "stdout",
          "output_type": "stream",
          "text": [
            "plus que 1058 publications pour completer l'année 2016\n"
          ]
        },
        {
          "name": "stderr",
          "output_type": "stream",
          "text": [
            "DEBUG:urllib3.connectionpool:Starting new HTTPS connection (1): api.openalex.org:443\n",
            "DEBUG:urllib3.connectionpool:https://api.openalex.org:443 \"GET /works?filter=has_doi:true,concepts_count:%3E0,publication_year:2016&sample=200&per-page=200 HTTP/1.1\" 200 302836\n"
          ]
        },
        {
          "name": "stdout",
          "output_type": "stream",
          "text": [
            "plus que 966 publications pour completer l'année 2016\n"
          ]
        },
        {
          "name": "stderr",
          "output_type": "stream",
          "text": [
            "DEBUG:urllib3.connectionpool:Starting new HTTPS connection (1): api.openalex.org:443\n",
            "DEBUG:urllib3.connectionpool:https://api.openalex.org:443 \"GET /works?filter=has_doi:true,concepts_count:%3E0,publication_year:2016&sample=200&per-page=200 HTTP/1.1\" 200 306627\n"
          ]
        },
        {
          "name": "stdout",
          "output_type": "stream",
          "text": [
            "plus que 869 publications pour completer l'année 2016\n"
          ]
        },
        {
          "name": "stderr",
          "output_type": "stream",
          "text": [
            "DEBUG:urllib3.connectionpool:Starting new HTTPS connection (1): api.openalex.org:443\n",
            "DEBUG:urllib3.connectionpool:https://api.openalex.org:443 \"GET /works?filter=has_doi:true,concepts_count:%3E0,publication_year:2016&sample=200&per-page=200 HTTP/1.1\" 200 312981\n"
          ]
        },
        {
          "name": "stdout",
          "output_type": "stream",
          "text": [
            "plus que 768 publications pour completer l'année 2016\n"
          ]
        },
        {
          "name": "stderr",
          "output_type": "stream",
          "text": [
            "DEBUG:urllib3.connectionpool:Starting new HTTPS connection (1): api.openalex.org:443\n",
            "DEBUG:urllib3.connectionpool:https://api.openalex.org:443 \"GET /works?filter=has_doi:true,concepts_count:%3E0,publication_year:2016&sample=200&per-page=200 HTTP/1.1\" 200 279353\n"
          ]
        },
        {
          "name": "stdout",
          "output_type": "stream",
          "text": [
            "plus que 662 publications pour completer l'année 2016\n"
          ]
        },
        {
          "name": "stderr",
          "output_type": "stream",
          "text": [
            "DEBUG:urllib3.connectionpool:Starting new HTTPS connection (1): api.openalex.org:443\n",
            "DEBUG:urllib3.connectionpool:https://api.openalex.org:443 \"GET /works?filter=has_doi:true,concepts_count:%3E0,publication_year:2016&sample=200&per-page=200 HTTP/1.1\" 200 311944\n"
          ]
        },
        {
          "name": "stdout",
          "output_type": "stream",
          "text": [
            "plus que 564 publications pour completer l'année 2016\n"
          ]
        },
        {
          "name": "stderr",
          "output_type": "stream",
          "text": [
            "DEBUG:urllib3.connectionpool:Starting new HTTPS connection (1): api.openalex.org:443\n",
            "DEBUG:urllib3.connectionpool:https://api.openalex.org:443 \"GET /works?filter=has_doi:true,concepts_count:%3E0,publication_year:2016&sample=200&per-page=200 HTTP/1.1\" 200 286318\n"
          ]
        },
        {
          "name": "stdout",
          "output_type": "stream",
          "text": [
            "plus que 464 publications pour completer l'année 2016\n"
          ]
        },
        {
          "name": "stderr",
          "output_type": "stream",
          "text": [
            "DEBUG:urllib3.connectionpool:Starting new HTTPS connection (1): api.openalex.org:443\n",
            "DEBUG:urllib3.connectionpool:https://api.openalex.org:443 \"GET /works?filter=has_doi:true,concepts_count:%3E0,publication_year:2016&sample=200&per-page=200 HTTP/1.1\" 200 296194\n"
          ]
        },
        {
          "name": "stdout",
          "output_type": "stream",
          "text": [
            "plus que 348 publications pour completer l'année 2016\n"
          ]
        },
        {
          "name": "stderr",
          "output_type": "stream",
          "text": [
            "DEBUG:urllib3.connectionpool:Starting new HTTPS connection (1): api.openalex.org:443\n",
            "DEBUG:urllib3.connectionpool:https://api.openalex.org:443 \"GET /works?filter=has_doi:true,concepts_count:%3E0,publication_year:2016&sample=200&per-page=200 HTTP/1.1\" 200 302954\n"
          ]
        },
        {
          "name": "stdout",
          "output_type": "stream",
          "text": [
            "plus que 245 publications pour completer l'année 2016\n"
          ]
        },
        {
          "name": "stderr",
          "output_type": "stream",
          "text": [
            "DEBUG:urllib3.connectionpool:Starting new HTTPS connection (1): api.openalex.org:443\n",
            "DEBUG:urllib3.connectionpool:https://api.openalex.org:443 \"GET /works?filter=has_doi:true,concepts_count:%3E0,publication_year:2016&sample=200&per-page=200 HTTP/1.1\" 200 284645\n"
          ]
        },
        {
          "name": "stdout",
          "output_type": "stream",
          "text": [
            "plus que 138 publications pour completer l'année 2016\n"
          ]
        },
        {
          "name": "stderr",
          "output_type": "stream",
          "text": [
            "DEBUG:urllib3.connectionpool:Starting new HTTPS connection (1): api.openalex.org:443\n",
            "DEBUG:urllib3.connectionpool:https://api.openalex.org:443 \"GET /works?filter=has_doi:true,concepts_count:%3E0,publication_year:2016&sample=200&per-page=200 HTTP/1.1\" 200 316041\n"
          ]
        },
        {
          "name": "stdout",
          "output_type": "stream",
          "text": [
            "plus que 25 publications pour completer l'année 2016\n"
          ]
        },
        {
          "name": "stderr",
          "output_type": "stream",
          "text": [
            "DEBUG:urllib3.connectionpool:Starting new HTTPS connection (1): api.openalex.org:443\n",
            "DEBUG:urllib3.connectionpool:https://api.openalex.org:443 \"GET /works?filter=has_doi:true,concepts_count:%3E0,publication_year:2015&sample=200&per-page=200 HTTP/1.1\" 200 308543\n"
          ]
        },
        {
          "name": "stdout",
          "output_type": "stream",
          "text": [
            "plus que 4030 publications pour completer l'année 2015\n"
          ]
        },
        {
          "name": "stderr",
          "output_type": "stream",
          "text": [
            "DEBUG:urllib3.connectionpool:Starting new HTTPS connection (1): api.openalex.org:443\n",
            "DEBUG:urllib3.connectionpool:https://api.openalex.org:443 \"GET /works?filter=has_doi:true,concepts_count:%3E0,publication_year:2015&sample=200&per-page=200 HTTP/1.1\" 200 297134\n"
          ]
        },
        {
          "name": "stdout",
          "output_type": "stream",
          "text": [
            "plus que 3904 publications pour completer l'année 2015\n"
          ]
        },
        {
          "name": "stderr",
          "output_type": "stream",
          "text": [
            "DEBUG:urllib3.connectionpool:Starting new HTTPS connection (1): api.openalex.org:443\n",
            "DEBUG:urllib3.connectionpool:https://api.openalex.org:443 \"GET /works?filter=has_doi:true,concepts_count:%3E0,publication_year:2015&sample=200&per-page=200 HTTP/1.1\" 200 304621\n"
          ]
        },
        {
          "name": "stdout",
          "output_type": "stream",
          "text": [
            "plus que 3806 publications pour completer l'année 2015\n"
          ]
        },
        {
          "name": "stderr",
          "output_type": "stream",
          "text": [
            "DEBUG:urllib3.connectionpool:Starting new HTTPS connection (1): api.openalex.org:443\n",
            "DEBUG:urllib3.connectionpool:https://api.openalex.org:443 \"GET /works?filter=has_doi:true,concepts_count:%3E0,publication_year:2015&sample=200&per-page=200 HTTP/1.1\" 200 300987\n"
          ]
        },
        {
          "name": "stdout",
          "output_type": "stream",
          "text": [
            "plus que 3686 publications pour completer l'année 2015\n"
          ]
        },
        {
          "name": "stderr",
          "output_type": "stream",
          "text": [
            "DEBUG:urllib3.connectionpool:Starting new HTTPS connection (1): api.openalex.org:443\n",
            "DEBUG:urllib3.connectionpool:https://api.openalex.org:443 \"GET /works?filter=has_doi:true,concepts_count:%3E0,publication_year:2015&sample=200&per-page=200 HTTP/1.1\" 200 318867\n"
          ]
        },
        {
          "name": "stdout",
          "output_type": "stream",
          "text": [
            "plus que 3578 publications pour completer l'année 2015\n"
          ]
        },
        {
          "name": "stderr",
          "output_type": "stream",
          "text": [
            "DEBUG:urllib3.connectionpool:Starting new HTTPS connection (1): api.openalex.org:443\n",
            "DEBUG:urllib3.connectionpool:https://api.openalex.org:443 \"GET /works?filter=has_doi:true,concepts_count:%3E0,publication_year:2015&sample=200&per-page=200 HTTP/1.1\" 200 321091\n"
          ]
        },
        {
          "name": "stdout",
          "output_type": "stream",
          "text": [
            "plus que 3462 publications pour completer l'année 2015\n"
          ]
        },
        {
          "name": "stderr",
          "output_type": "stream",
          "text": [
            "DEBUG:urllib3.connectionpool:Starting new HTTPS connection (1): api.openalex.org:443\n",
            "DEBUG:urllib3.connectionpool:https://api.openalex.org:443 \"GET /works?filter=has_doi:true,concepts_count:%3E0,publication_year:2015&sample=200&per-page=200 HTTP/1.1\" 200 308401\n"
          ]
        },
        {
          "name": "stdout",
          "output_type": "stream",
          "text": [
            "plus que 3352 publications pour completer l'année 2015\n"
          ]
        },
        {
          "name": "stderr",
          "output_type": "stream",
          "text": [
            "DEBUG:urllib3.connectionpool:Starting new HTTPS connection (1): api.openalex.org:443\n",
            "DEBUG:urllib3.connectionpool:https://api.openalex.org:443 \"GET /works?filter=has_doi:true,concepts_count:%3E0,publication_year:2015&sample=200&per-page=200 HTTP/1.1\" 200 306308\n"
          ]
        },
        {
          "name": "stdout",
          "output_type": "stream",
          "text": [
            "plus que 3243 publications pour completer l'année 2015\n"
          ]
        },
        {
          "name": "stderr",
          "output_type": "stream",
          "text": [
            "DEBUG:urllib3.connectionpool:Starting new HTTPS connection (1): api.openalex.org:443\n",
            "DEBUG:urllib3.connectionpool:https://api.openalex.org:443 \"GET /works?filter=has_doi:true,concepts_count:%3E0,publication_year:2015&sample=200&per-page=200 HTTP/1.1\" 200 309304\n"
          ]
        },
        {
          "name": "stdout",
          "output_type": "stream",
          "text": [
            "plus que 3132 publications pour completer l'année 2015\n"
          ]
        },
        {
          "name": "stderr",
          "output_type": "stream",
          "text": [
            "DEBUG:urllib3.connectionpool:Starting new HTTPS connection (1): api.openalex.org:443\n",
            "DEBUG:urllib3.connectionpool:https://api.openalex.org:443 \"GET /works?filter=has_doi:true,concepts_count:%3E0,publication_year:2015&sample=200&per-page=200 HTTP/1.1\" 200 333849\n"
          ]
        },
        {
          "name": "stdout",
          "output_type": "stream",
          "text": [
            "plus que 3023 publications pour completer l'année 2015\n"
          ]
        },
        {
          "name": "stderr",
          "output_type": "stream",
          "text": [
            "DEBUG:urllib3.connectionpool:Starting new HTTPS connection (1): api.openalex.org:443\n",
            "DEBUG:urllib3.connectionpool:https://api.openalex.org:443 \"GET /works?filter=has_doi:true,concepts_count:%3E0,publication_year:2015&sample=200&per-page=200 HTTP/1.1\" 200 301026\n"
          ]
        },
        {
          "name": "stdout",
          "output_type": "stream",
          "text": [
            "plus que 2901 publications pour completer l'année 2015\n"
          ]
        },
        {
          "name": "stderr",
          "output_type": "stream",
          "text": [
            "DEBUG:urllib3.connectionpool:Starting new HTTPS connection (1): api.openalex.org:443\n",
            "DEBUG:urllib3.connectionpool:https://api.openalex.org:443 \"GET /works?filter=has_doi:true,concepts_count:%3E0,publication_year:2015&sample=200&per-page=200 HTTP/1.1\" 200 312384\n"
          ]
        },
        {
          "name": "stdout",
          "output_type": "stream",
          "text": [
            "plus que 2794 publications pour completer l'année 2015\n"
          ]
        },
        {
          "name": "stderr",
          "output_type": "stream",
          "text": [
            "DEBUG:urllib3.connectionpool:Starting new HTTPS connection (1): api.openalex.org:443\n",
            "DEBUG:urllib3.connectionpool:https://api.openalex.org:443 \"GET /works?filter=has_doi:true,concepts_count:%3E0,publication_year:2015&sample=200&per-page=200 HTTP/1.1\" 200 276412\n"
          ]
        },
        {
          "name": "stdout",
          "output_type": "stream",
          "text": [
            "plus que 2697 publications pour completer l'année 2015\n"
          ]
        },
        {
          "name": "stderr",
          "output_type": "stream",
          "text": [
            "DEBUG:urllib3.connectionpool:Starting new HTTPS connection (1): api.openalex.org:443\n",
            "DEBUG:urllib3.connectionpool:https://api.openalex.org:443 \"GET /works?filter=has_doi:true,concepts_count:%3E0,publication_year:2015&sample=200&per-page=200 HTTP/1.1\" 200 335265\n"
          ]
        },
        {
          "name": "stdout",
          "output_type": "stream",
          "text": [
            "plus que 2587 publications pour completer l'année 2015\n"
          ]
        },
        {
          "name": "stderr",
          "output_type": "stream",
          "text": [
            "DEBUG:urllib3.connectionpool:Starting new HTTPS connection (1): api.openalex.org:443\n",
            "DEBUG:urllib3.connectionpool:https://api.openalex.org:443 \"GET /works?filter=has_doi:true,concepts_count:%3E0,publication_year:2015&sample=200&per-page=200 HTTP/1.1\" 200 289075\n"
          ]
        },
        {
          "name": "stdout",
          "output_type": "stream",
          "text": [
            "plus que 2475 publications pour completer l'année 2015\n"
          ]
        },
        {
          "name": "stderr",
          "output_type": "stream",
          "text": [
            "DEBUG:urllib3.connectionpool:Starting new HTTPS connection (1): api.openalex.org:443\n",
            "DEBUG:urllib3.connectionpool:https://api.openalex.org:443 \"GET /works?filter=has_doi:true,concepts_count:%3E0,publication_year:2015&sample=200&per-page=200 HTTP/1.1\" 200 272805\n"
          ]
        },
        {
          "name": "stdout",
          "output_type": "stream",
          "text": [
            "plus que 2360 publications pour completer l'année 2015\n"
          ]
        },
        {
          "name": "stderr",
          "output_type": "stream",
          "text": [
            "DEBUG:urllib3.connectionpool:Starting new HTTPS connection (1): api.openalex.org:443\n",
            "DEBUG:urllib3.connectionpool:https://api.openalex.org:443 \"GET /works?filter=has_doi:true,concepts_count:%3E0,publication_year:2015&sample=200&per-page=200 HTTP/1.1\" 200 305666\n"
          ]
        },
        {
          "name": "stdout",
          "output_type": "stream",
          "text": [
            "plus que 2251 publications pour completer l'année 2015\n"
          ]
        },
        {
          "name": "stderr",
          "output_type": "stream",
          "text": [
            "DEBUG:urllib3.connectionpool:Starting new HTTPS connection (1): api.openalex.org:443\n",
            "DEBUG:urllib3.connectionpool:https://api.openalex.org:443 \"GET /works?filter=has_doi:true,concepts_count:%3E0,publication_year:2015&sample=200&per-page=200 HTTP/1.1\" 200 290167\n"
          ]
        },
        {
          "name": "stdout",
          "output_type": "stream",
          "text": [
            "plus que 2151 publications pour completer l'année 2015\n"
          ]
        },
        {
          "name": "stderr",
          "output_type": "stream",
          "text": [
            "DEBUG:urllib3.connectionpool:Starting new HTTPS connection (1): api.openalex.org:443\n",
            "DEBUG:urllib3.connectionpool:https://api.openalex.org:443 \"GET /works?filter=has_doi:true,concepts_count:%3E0,publication_year:2015&sample=200&per-page=200 HTTP/1.1\" 200 303631\n"
          ]
        },
        {
          "name": "stdout",
          "output_type": "stream",
          "text": [
            "plus que 2052 publications pour completer l'année 2015\n"
          ]
        },
        {
          "name": "stderr",
          "output_type": "stream",
          "text": [
            "DEBUG:urllib3.connectionpool:Starting new HTTPS connection (1): api.openalex.org:443\n",
            "DEBUG:urllib3.connectionpool:https://api.openalex.org:443 \"GET /works?filter=has_doi:true,concepts_count:%3E0,publication_year:2015&sample=200&per-page=200 HTTP/1.1\" 200 300430\n"
          ]
        },
        {
          "name": "stdout",
          "output_type": "stream",
          "text": [
            "plus que 1944 publications pour completer l'année 2015\n"
          ]
        },
        {
          "name": "stderr",
          "output_type": "stream",
          "text": [
            "DEBUG:urllib3.connectionpool:Starting new HTTPS connection (1): api.openalex.org:443\n",
            "DEBUG:urllib3.connectionpool:https://api.openalex.org:443 \"GET /works?filter=has_doi:true,concepts_count:%3E0,publication_year:2015&sample=200&per-page=200 HTTP/1.1\" 200 308831\n"
          ]
        },
        {
          "name": "stdout",
          "output_type": "stream",
          "text": [
            "plus que 1835 publications pour completer l'année 2015\n"
          ]
        },
        {
          "name": "stderr",
          "output_type": "stream",
          "text": [
            "DEBUG:urllib3.connectionpool:Starting new HTTPS connection (1): api.openalex.org:443\n",
            "DEBUG:urllib3.connectionpool:https://api.openalex.org:443 \"GET /works?filter=has_doi:true,concepts_count:%3E0,publication_year:2015&sample=200&per-page=200 HTTP/1.1\" 200 288362\n"
          ]
        },
        {
          "name": "stdout",
          "output_type": "stream",
          "text": [
            "plus que 1717 publications pour completer l'année 2015\n"
          ]
        },
        {
          "name": "stderr",
          "output_type": "stream",
          "text": [
            "DEBUG:urllib3.connectionpool:Starting new HTTPS connection (1): api.openalex.org:443\n",
            "DEBUG:urllib3.connectionpool:https://api.openalex.org:443 \"GET /works?filter=has_doi:true,concepts_count:%3E0,publication_year:2015&sample=200&per-page=200 HTTP/1.1\" 200 326848\n"
          ]
        },
        {
          "name": "stdout",
          "output_type": "stream",
          "text": [
            "plus que 1610 publications pour completer l'année 2015\n"
          ]
        },
        {
          "name": "stderr",
          "output_type": "stream",
          "text": [
            "DEBUG:urllib3.connectionpool:Starting new HTTPS connection (1): api.openalex.org:443\n",
            "DEBUG:urllib3.connectionpool:https://api.openalex.org:443 \"GET /works?filter=has_doi:true,concepts_count:%3E0,publication_year:2015&sample=200&per-page=200 HTTP/1.1\" 200 304286\n"
          ]
        },
        {
          "name": "stdout",
          "output_type": "stream",
          "text": [
            "plus que 1489 publications pour completer l'année 2015\n"
          ]
        },
        {
          "name": "stderr",
          "output_type": "stream",
          "text": [
            "DEBUG:urllib3.connectionpool:Starting new HTTPS connection (1): api.openalex.org:443\n",
            "DEBUG:urllib3.connectionpool:https://api.openalex.org:443 \"GET /works?filter=has_doi:true,concepts_count:%3E0,publication_year:2015&sample=200&per-page=200 HTTP/1.1\" 200 323912\n"
          ]
        },
        {
          "name": "stdout",
          "output_type": "stream",
          "text": [
            "plus que 1372 publications pour completer l'année 2015\n"
          ]
        },
        {
          "name": "stderr",
          "output_type": "stream",
          "text": [
            "DEBUG:urllib3.connectionpool:Starting new HTTPS connection (1): api.openalex.org:443\n",
            "DEBUG:urllib3.connectionpool:https://api.openalex.org:443 \"GET /works?filter=has_doi:true,concepts_count:%3E0,publication_year:2015&sample=200&per-page=200 HTTP/1.1\" 200 283621\n"
          ]
        },
        {
          "name": "stdout",
          "output_type": "stream",
          "text": [
            "plus que 1264 publications pour completer l'année 2015\n"
          ]
        },
        {
          "name": "stderr",
          "output_type": "stream",
          "text": [
            "DEBUG:urllib3.connectionpool:Starting new HTTPS connection (1): api.openalex.org:443\n",
            "DEBUG:urllib3.connectionpool:https://api.openalex.org:443 \"GET /works?filter=has_doi:true,concepts_count:%3E0,publication_year:2015&sample=200&per-page=200 HTTP/1.1\" 200 316668\n"
          ]
        },
        {
          "name": "stdout",
          "output_type": "stream",
          "text": [
            "plus que 1150 publications pour completer l'année 2015\n"
          ]
        },
        {
          "name": "stderr",
          "output_type": "stream",
          "text": [
            "DEBUG:urllib3.connectionpool:Starting new HTTPS connection (1): api.openalex.org:443\n",
            "DEBUG:urllib3.connectionpool:https://api.openalex.org:443 \"GET /works?filter=has_doi:true,concepts_count:%3E0,publication_year:2015&sample=200&per-page=200 HTTP/1.1\" 200 331741\n"
          ]
        },
        {
          "name": "stdout",
          "output_type": "stream",
          "text": [
            "plus que 1042 publications pour completer l'année 2015\n"
          ]
        },
        {
          "name": "stderr",
          "output_type": "stream",
          "text": [
            "DEBUG:urllib3.connectionpool:Starting new HTTPS connection (1): api.openalex.org:443\n",
            "DEBUG:urllib3.connectionpool:https://api.openalex.org:443 \"GET /works?filter=has_doi:true,concepts_count:%3E0,publication_year:2015&sample=200&per-page=200 HTTP/1.1\" 200 311617\n"
          ]
        },
        {
          "name": "stdout",
          "output_type": "stream",
          "text": [
            "plus que 925 publications pour completer l'année 2015\n"
          ]
        },
        {
          "name": "stderr",
          "output_type": "stream",
          "text": [
            "DEBUG:urllib3.connectionpool:Starting new HTTPS connection (1): api.openalex.org:443\n",
            "DEBUG:urllib3.connectionpool:https://api.openalex.org:443 \"GET /works?filter=has_doi:true,concepts_count:%3E0,publication_year:2015&sample=200&per-page=200 HTTP/1.1\" 200 304362\n"
          ]
        },
        {
          "name": "stdout",
          "output_type": "stream",
          "text": [
            "plus que 810 publications pour completer l'année 2015\n"
          ]
        },
        {
          "name": "stderr",
          "output_type": "stream",
          "text": [
            "DEBUG:urllib3.connectionpool:Starting new HTTPS connection (1): api.openalex.org:443\n",
            "DEBUG:urllib3.connectionpool:https://api.openalex.org:443 \"GET /works?filter=has_doi:true,concepts_count:%3E0,publication_year:2015&sample=200&per-page=200 HTTP/1.1\" 200 289322\n"
          ]
        },
        {
          "name": "stdout",
          "output_type": "stream",
          "text": [
            "plus que 704 publications pour completer l'année 2015\n"
          ]
        },
        {
          "name": "stderr",
          "output_type": "stream",
          "text": [
            "DEBUG:urllib3.connectionpool:Starting new HTTPS connection (1): api.openalex.org:443\n",
            "DEBUG:urllib3.connectionpool:https://api.openalex.org:443 \"GET /works?filter=has_doi:true,concepts_count:%3E0,publication_year:2015&sample=200&per-page=200 HTTP/1.1\" 200 297968\n"
          ]
        },
        {
          "name": "stdout",
          "output_type": "stream",
          "text": [
            "plus que 586 publications pour completer l'année 2015\n"
          ]
        },
        {
          "name": "stderr",
          "output_type": "stream",
          "text": [
            "DEBUG:urllib3.connectionpool:Starting new HTTPS connection (1): api.openalex.org:443\n",
            "DEBUG:urllib3.connectionpool:https://api.openalex.org:443 \"GET /works?filter=has_doi:true,concepts_count:%3E0,publication_year:2015&sample=200&per-page=200 HTTP/1.1\" 200 317649\n"
          ]
        },
        {
          "name": "stdout",
          "output_type": "stream",
          "text": [
            "plus que 479 publications pour completer l'année 2015\n"
          ]
        },
        {
          "name": "stderr",
          "output_type": "stream",
          "text": [
            "DEBUG:urllib3.connectionpool:Starting new HTTPS connection (1): api.openalex.org:443\n",
            "DEBUG:urllib3.connectionpool:https://api.openalex.org:443 \"GET /works?filter=has_doi:true,concepts_count:%3E0,publication_year:2015&sample=200&per-page=200 HTTP/1.1\" 200 298802\n"
          ]
        },
        {
          "name": "stdout",
          "output_type": "stream",
          "text": [
            "plus que 365 publications pour completer l'année 2015\n"
          ]
        },
        {
          "name": "stderr",
          "output_type": "stream",
          "text": [
            "DEBUG:urllib3.connectionpool:Starting new HTTPS connection (1): api.openalex.org:443\n",
            "DEBUG:urllib3.connectionpool:https://api.openalex.org:443 \"GET /works?filter=has_doi:true,concepts_count:%3E0,publication_year:2015&sample=200&per-page=200 HTTP/1.1\" 200 292779\n"
          ]
        },
        {
          "name": "stdout",
          "output_type": "stream",
          "text": [
            "plus que 249 publications pour completer l'année 2015\n"
          ]
        },
        {
          "name": "stderr",
          "output_type": "stream",
          "text": [
            "DEBUG:urllib3.connectionpool:Starting new HTTPS connection (1): api.openalex.org:443\n",
            "DEBUG:urllib3.connectionpool:https://api.openalex.org:443 \"GET /works?filter=has_doi:true,concepts_count:%3E0,publication_year:2015&sample=200&per-page=200 HTTP/1.1\" 200 291706\n"
          ]
        },
        {
          "name": "stdout",
          "output_type": "stream",
          "text": [
            "plus que 136 publications pour completer l'année 2015\n"
          ]
        },
        {
          "name": "stderr",
          "output_type": "stream",
          "text": [
            "DEBUG:urllib3.connectionpool:Starting new HTTPS connection (1): api.openalex.org:443\n",
            "DEBUG:urllib3.connectionpool:https://api.openalex.org:443 \"GET /works?filter=has_doi:true,concepts_count:%3E0,publication_year:2015&sample=200&per-page=200 HTTP/1.1\" 200 298013\n"
          ]
        },
        {
          "name": "stdout",
          "output_type": "stream",
          "text": [
            "plus que 37 publications pour completer l'année 2015\n"
          ]
        },
        {
          "name": "stderr",
          "output_type": "stream",
          "text": [
            "DEBUG:urllib3.connectionpool:Starting new HTTPS connection (1): api.openalex.org:443\n",
            "DEBUG:urllib3.connectionpool:https://api.openalex.org:443 \"GET /works?filter=has_doi:true,concepts_count:%3E0,publication_year:2014&sample=200&per-page=200 HTTP/1.1\" 200 312044\n"
          ]
        },
        {
          "name": "stdout",
          "output_type": "stream",
          "text": [
            "plus que 3218 publications pour completer l'année 2014\n"
          ]
        },
        {
          "name": "stderr",
          "output_type": "stream",
          "text": [
            "DEBUG:urllib3.connectionpool:Starting new HTTPS connection (1): api.openalex.org:443\n",
            "DEBUG:urllib3.connectionpool:https://api.openalex.org:443 \"GET /works?filter=has_doi:true,concepts_count:%3E0,publication_year:2014&sample=200&per-page=200 HTTP/1.1\" 200 302472\n"
          ]
        },
        {
          "name": "stdout",
          "output_type": "stream",
          "text": [
            "plus que 3104 publications pour completer l'année 2014\n"
          ]
        },
        {
          "name": "stderr",
          "output_type": "stream",
          "text": [
            "DEBUG:urllib3.connectionpool:Starting new HTTPS connection (1): api.openalex.org:443\n",
            "DEBUG:urllib3.connectionpool:https://api.openalex.org:443 \"GET /works?filter=has_doi:true,concepts_count:%3E0,publication_year:2014&sample=200&per-page=200 HTTP/1.1\" 200 290012\n"
          ]
        },
        {
          "name": "stdout",
          "output_type": "stream",
          "text": [
            "plus que 3000 publications pour completer l'année 2014\n"
          ]
        },
        {
          "name": "stderr",
          "output_type": "stream",
          "text": [
            "DEBUG:urllib3.connectionpool:Starting new HTTPS connection (1): api.openalex.org:443\n",
            "DEBUG:urllib3.connectionpool:https://api.openalex.org:443 \"GET /works?filter=has_doi:true,concepts_count:%3E0,publication_year:2014&sample=200&per-page=200 HTTP/1.1\" 200 274077\n"
          ]
        },
        {
          "name": "stdout",
          "output_type": "stream",
          "text": [
            "plus que 2895 publications pour completer l'année 2014\n"
          ]
        },
        {
          "name": "stderr",
          "output_type": "stream",
          "text": [
            "DEBUG:urllib3.connectionpool:Starting new HTTPS connection (1): api.openalex.org:443\n",
            "DEBUG:urllib3.connectionpool:https://api.openalex.org:443 \"GET /works?filter=has_doi:true,concepts_count:%3E0,publication_year:2014&sample=200&per-page=200 HTTP/1.1\" 200 311371\n"
          ]
        },
        {
          "name": "stdout",
          "output_type": "stream",
          "text": [
            "plus que 2785 publications pour completer l'année 2014\n"
          ]
        },
        {
          "name": "stderr",
          "output_type": "stream",
          "text": [
            "DEBUG:urllib3.connectionpool:Starting new HTTPS connection (1): api.openalex.org:443\n",
            "DEBUG:urllib3.connectionpool:https://api.openalex.org:443 \"GET /works?filter=has_doi:true,concepts_count:%3E0,publication_year:2014&sample=200&per-page=200 HTTP/1.1\" 200 325139\n"
          ]
        },
        {
          "name": "stdout",
          "output_type": "stream",
          "text": [
            "plus que 2671 publications pour completer l'année 2014\n"
          ]
        },
        {
          "name": "stderr",
          "output_type": "stream",
          "text": [
            "DEBUG:urllib3.connectionpool:Starting new HTTPS connection (1): api.openalex.org:443\n",
            "DEBUG:urllib3.connectionpool:https://api.openalex.org:443 \"GET /works?filter=has_doi:true,concepts_count:%3E0,publication_year:2014&sample=200&per-page=200 HTTP/1.1\" 200 283042\n"
          ]
        },
        {
          "name": "stdout",
          "output_type": "stream",
          "text": [
            "plus que 2568 publications pour completer l'année 2014\n"
          ]
        },
        {
          "name": "stderr",
          "output_type": "stream",
          "text": [
            "DEBUG:urllib3.connectionpool:Starting new HTTPS connection (1): api.openalex.org:443\n",
            "DEBUG:urllib3.connectionpool:https://api.openalex.org:443 \"GET /works?filter=has_doi:true,concepts_count:%3E0,publication_year:2014&sample=200&per-page=200 HTTP/1.1\" 200 278847\n"
          ]
        },
        {
          "name": "stdout",
          "output_type": "stream",
          "text": [
            "plus que 2460 publications pour completer l'année 2014\n"
          ]
        },
        {
          "name": "stderr",
          "output_type": "stream",
          "text": [
            "DEBUG:urllib3.connectionpool:Starting new HTTPS connection (1): api.openalex.org:443\n",
            "DEBUG:urllib3.connectionpool:https://api.openalex.org:443 \"GET /works?filter=has_doi:true,concepts_count:%3E0,publication_year:2014&sample=200&per-page=200 HTTP/1.1\" 200 280527\n"
          ]
        },
        {
          "name": "stdout",
          "output_type": "stream",
          "text": [
            "plus que 2362 publications pour completer l'année 2014\n"
          ]
        },
        {
          "name": "stderr",
          "output_type": "stream",
          "text": [
            "DEBUG:urllib3.connectionpool:Starting new HTTPS connection (1): api.openalex.org:443\n",
            "DEBUG:urllib3.connectionpool:https://api.openalex.org:443 \"GET /works?filter=has_doi:true,concepts_count:%3E0,publication_year:2014&sample=200&per-page=200 HTTP/1.1\" 200 284356\n"
          ]
        },
        {
          "name": "stdout",
          "output_type": "stream",
          "text": [
            "plus que 2254 publications pour completer l'année 2014\n"
          ]
        },
        {
          "name": "stderr",
          "output_type": "stream",
          "text": [
            "DEBUG:urllib3.connectionpool:Starting new HTTPS connection (1): api.openalex.org:443\n",
            "DEBUG:urllib3.connectionpool:https://api.openalex.org:443 \"GET /works?filter=has_doi:true,concepts_count:%3E0,publication_year:2014&sample=200&per-page=200 HTTP/1.1\" 200 316315\n"
          ]
        },
        {
          "name": "stdout",
          "output_type": "stream",
          "text": [
            "plus que 2141 publications pour completer l'année 2014\n"
          ]
        },
        {
          "name": "stderr",
          "output_type": "stream",
          "text": [
            "DEBUG:urllib3.connectionpool:Starting new HTTPS connection (1): api.openalex.org:443\n",
            "DEBUG:urllib3.connectionpool:https://api.openalex.org:443 \"GET /works?filter=has_doi:true,concepts_count:%3E0,publication_year:2014&sample=200&per-page=200 HTTP/1.1\" 200 298274\n"
          ]
        },
        {
          "name": "stdout",
          "output_type": "stream",
          "text": [
            "plus que 2023 publications pour completer l'année 2014\n"
          ]
        },
        {
          "name": "stderr",
          "output_type": "stream",
          "text": [
            "DEBUG:urllib3.connectionpool:Starting new HTTPS connection (1): api.openalex.org:443\n",
            "DEBUG:urllib3.connectionpool:https://api.openalex.org:443 \"GET /works?filter=has_doi:true,concepts_count:%3E0,publication_year:2014&sample=200&per-page=200 HTTP/1.1\" 200 348744\n"
          ]
        },
        {
          "name": "stdout",
          "output_type": "stream",
          "text": [
            "plus que 1911 publications pour completer l'année 2014\n"
          ]
        },
        {
          "name": "stderr",
          "output_type": "stream",
          "text": [
            "DEBUG:urllib3.connectionpool:Starting new HTTPS connection (1): api.openalex.org:443\n",
            "DEBUG:urllib3.connectionpool:https://api.openalex.org:443 \"GET /works?filter=has_doi:true,concepts_count:%3E0,publication_year:2014&sample=200&per-page=200 HTTP/1.1\" 200 286753\n"
          ]
        },
        {
          "name": "stdout",
          "output_type": "stream",
          "text": [
            "plus que 1789 publications pour completer l'année 2014\n"
          ]
        },
        {
          "name": "stderr",
          "output_type": "stream",
          "text": [
            "DEBUG:urllib3.connectionpool:Starting new HTTPS connection (1): api.openalex.org:443\n",
            "DEBUG:urllib3.connectionpool:https://api.openalex.org:443 \"GET /works?filter=has_doi:true,concepts_count:%3E0,publication_year:2014&sample=200&per-page=200 HTTP/1.1\" 200 292231\n"
          ]
        },
        {
          "name": "stdout",
          "output_type": "stream",
          "text": [
            "plus que 1680 publications pour completer l'année 2014\n"
          ]
        },
        {
          "name": "stderr",
          "output_type": "stream",
          "text": [
            "DEBUG:urllib3.connectionpool:Starting new HTTPS connection (1): api.openalex.org:443\n",
            "DEBUG:urllib3.connectionpool:https://api.openalex.org:443 \"GET /works?filter=has_doi:true,concepts_count:%3E0,publication_year:2014&sample=200&per-page=200 HTTP/1.1\" 200 287047\n"
          ]
        },
        {
          "name": "stdout",
          "output_type": "stream",
          "text": [
            "plus que 1576 publications pour completer l'année 2014\n"
          ]
        },
        {
          "name": "stderr",
          "output_type": "stream",
          "text": [
            "DEBUG:urllib3.connectionpool:Starting new HTTPS connection (1): api.openalex.org:443\n",
            "DEBUG:urllib3.connectionpool:https://api.openalex.org:443 \"GET /works?filter=has_doi:true,concepts_count:%3E0,publication_year:2014&sample=200&per-page=200 HTTP/1.1\" 200 274993\n"
          ]
        },
        {
          "name": "stdout",
          "output_type": "stream",
          "text": [
            "plus que 1470 publications pour completer l'année 2014\n"
          ]
        },
        {
          "name": "stderr",
          "output_type": "stream",
          "text": [
            "DEBUG:urllib3.connectionpool:Starting new HTTPS connection (1): api.openalex.org:443\n",
            "DEBUG:urllib3.connectionpool:https://api.openalex.org:443 \"GET /works?filter=has_doi:true,concepts_count:%3E0,publication_year:2014&sample=200&per-page=200 HTTP/1.1\" 200 297024\n"
          ]
        },
        {
          "name": "stdout",
          "output_type": "stream",
          "text": [
            "plus que 1361 publications pour completer l'année 2014\n"
          ]
        },
        {
          "name": "stderr",
          "output_type": "stream",
          "text": [
            "DEBUG:urllib3.connectionpool:Starting new HTTPS connection (1): api.openalex.org:443\n",
            "DEBUG:urllib3.connectionpool:https://api.openalex.org:443 \"GET /works?filter=has_doi:true,concepts_count:%3E0,publication_year:2014&sample=200&per-page=200 HTTP/1.1\" 200 289727\n"
          ]
        },
        {
          "name": "stdout",
          "output_type": "stream",
          "text": [
            "plus que 1257 publications pour completer l'année 2014\n"
          ]
        },
        {
          "name": "stderr",
          "output_type": "stream",
          "text": [
            "DEBUG:urllib3.connectionpool:Starting new HTTPS connection (1): api.openalex.org:443\n",
            "DEBUG:urllib3.connectionpool:https://api.openalex.org:443 \"GET /works?filter=has_doi:true,concepts_count:%3E0,publication_year:2014&sample=200&per-page=200 HTTP/1.1\" 200 289966\n"
          ]
        },
        {
          "name": "stdout",
          "output_type": "stream",
          "text": [
            "plus que 1144 publications pour completer l'année 2014\n"
          ]
        },
        {
          "name": "stderr",
          "output_type": "stream",
          "text": [
            "DEBUG:urllib3.connectionpool:Starting new HTTPS connection (1): api.openalex.org:443\n",
            "DEBUG:urllib3.connectionpool:https://api.openalex.org:443 \"GET /works?filter=has_doi:true,concepts_count:%3E0,publication_year:2014&sample=200&per-page=200 HTTP/1.1\" 200 298811\n"
          ]
        },
        {
          "name": "stdout",
          "output_type": "stream",
          "text": [
            "plus que 1029 publications pour completer l'année 2014\n"
          ]
        },
        {
          "name": "stderr",
          "output_type": "stream",
          "text": [
            "DEBUG:urllib3.connectionpool:Starting new HTTPS connection (1): api.openalex.org:443\n",
            "DEBUG:urllib3.connectionpool:https://api.openalex.org:443 \"GET /works?filter=has_doi:true,concepts_count:%3E0,publication_year:2014&sample=200&per-page=200 HTTP/1.1\" 200 269914\n"
          ]
        },
        {
          "name": "stdout",
          "output_type": "stream",
          "text": [
            "plus que 916 publications pour completer l'année 2014\n"
          ]
        },
        {
          "name": "stderr",
          "output_type": "stream",
          "text": [
            "DEBUG:urllib3.connectionpool:Starting new HTTPS connection (1): api.openalex.org:443\n",
            "DEBUG:urllib3.connectionpool:https://api.openalex.org:443 \"GET /works?filter=has_doi:true,concepts_count:%3E0,publication_year:2014&sample=200&per-page=200 HTTP/1.1\" 200 297184\n"
          ]
        },
        {
          "name": "stdout",
          "output_type": "stream",
          "text": [
            "plus que 830 publications pour completer l'année 2014\n"
          ]
        },
        {
          "name": "stderr",
          "output_type": "stream",
          "text": [
            "DEBUG:urllib3.connectionpool:Starting new HTTPS connection (1): api.openalex.org:443\n",
            "DEBUG:urllib3.connectionpool:https://api.openalex.org:443 \"GET /works?filter=has_doi:true,concepts_count:%3E0,publication_year:2014&sample=200&per-page=200 HTTP/1.1\" 200 313582\n"
          ]
        },
        {
          "name": "stdout",
          "output_type": "stream",
          "text": [
            "plus que 722 publications pour completer l'année 2014\n"
          ]
        },
        {
          "name": "stderr",
          "output_type": "stream",
          "text": [
            "DEBUG:urllib3.connectionpool:Starting new HTTPS connection (1): api.openalex.org:443\n",
            "DEBUG:urllib3.connectionpool:https://api.openalex.org:443 \"GET /works?filter=has_doi:true,concepts_count:%3E0,publication_year:2014&sample=200&per-page=200 HTTP/1.1\" 200 291878\n"
          ]
        },
        {
          "name": "stdout",
          "output_type": "stream",
          "text": [
            "plus que 624 publications pour completer l'année 2014\n"
          ]
        },
        {
          "name": "stderr",
          "output_type": "stream",
          "text": [
            "DEBUG:urllib3.connectionpool:Starting new HTTPS connection (1): api.openalex.org:443\n",
            "DEBUG:urllib3.connectionpool:https://api.openalex.org:443 \"GET /works?filter=has_doi:true,concepts_count:%3E0,publication_year:2014&sample=200&per-page=200 HTTP/1.1\" 200 289058\n"
          ]
        },
        {
          "name": "stdout",
          "output_type": "stream",
          "text": [
            "plus que 518 publications pour completer l'année 2014\n"
          ]
        },
        {
          "name": "stderr",
          "output_type": "stream",
          "text": [
            "DEBUG:urllib3.connectionpool:Starting new HTTPS connection (1): api.openalex.org:443\n",
            "DEBUG:urllib3.connectionpool:https://api.openalex.org:443 \"GET /works?filter=has_doi:true,concepts_count:%3E0,publication_year:2014&sample=200&per-page=200 HTTP/1.1\" 200 304667\n"
          ]
        },
        {
          "name": "stdout",
          "output_type": "stream",
          "text": [
            "plus que 406 publications pour completer l'année 2014\n"
          ]
        },
        {
          "name": "stderr",
          "output_type": "stream",
          "text": [
            "DEBUG:urllib3.connectionpool:Starting new HTTPS connection (1): api.openalex.org:443\n",
            "DEBUG:urllib3.connectionpool:https://api.openalex.org:443 \"GET /works?filter=has_doi:true,concepts_count:%3E0,publication_year:2014&sample=200&per-page=200 HTTP/1.1\" 200 282553\n"
          ]
        },
        {
          "name": "stdout",
          "output_type": "stream",
          "text": [
            "plus que 297 publications pour completer l'année 2014\n"
          ]
        },
        {
          "name": "stderr",
          "output_type": "stream",
          "text": [
            "DEBUG:urllib3.connectionpool:Starting new HTTPS connection (1): api.openalex.org:443\n",
            "DEBUG:urllib3.connectionpool:https://api.openalex.org:443 \"GET /works?filter=has_doi:true,concepts_count:%3E0,publication_year:2014&sample=200&per-page=200 HTTP/1.1\" 200 267329\n"
          ]
        },
        {
          "name": "stdout",
          "output_type": "stream",
          "text": [
            "plus que 183 publications pour completer l'année 2014\n"
          ]
        },
        {
          "name": "stderr",
          "output_type": "stream",
          "text": [
            "DEBUG:urllib3.connectionpool:Starting new HTTPS connection (1): api.openalex.org:443\n",
            "DEBUG:urllib3.connectionpool:https://api.openalex.org:443 \"GET /works?filter=has_doi:true,concepts_count:%3E0,publication_year:2014&sample=200&per-page=200 HTTP/1.1\" 200 294338\n"
          ]
        },
        {
          "name": "stdout",
          "output_type": "stream",
          "text": [
            "plus que 82 publications pour completer l'année 2014\n"
          ]
        },
        {
          "name": "stderr",
          "output_type": "stream",
          "text": [
            "DEBUG:urllib3.connectionpool:Starting new HTTPS connection (1): api.openalex.org:443\n",
            "DEBUG:urllib3.connectionpool:https://api.openalex.org:443 \"GET /works?filter=has_doi:true,concepts_count:%3E0,publication_year:2021&sample=200&per-page=200 HTTP/1.1\" 200 365736\n"
          ]
        },
        {
          "name": "stdout",
          "output_type": "stream",
          "text": [
            "plus que 2449 publications pour completer l'année 2021\n"
          ]
        },
        {
          "name": "stderr",
          "output_type": "stream",
          "text": [
            "DEBUG:urllib3.connectionpool:Starting new HTTPS connection (1): api.openalex.org:443\n",
            "DEBUG:urllib3.connectionpool:https://api.openalex.org:443 \"GET /works?filter=has_doi:true,concepts_count:%3E0,publication_year:2021&sample=200&per-page=200 HTTP/1.1\" 200 335353\n"
          ]
        },
        {
          "name": "stdout",
          "output_type": "stream",
          "text": [
            "plus que 2345 publications pour completer l'année 2021\n"
          ]
        },
        {
          "name": "stderr",
          "output_type": "stream",
          "text": [
            "DEBUG:urllib3.connectionpool:Starting new HTTPS connection (1): api.openalex.org:443\n",
            "DEBUG:urllib3.connectionpool:https://api.openalex.org:443 \"GET /works?filter=has_doi:true,concepts_count:%3E0,publication_year:2021&sample=200&per-page=200 HTTP/1.1\" 200 355692\n"
          ]
        },
        {
          "name": "stdout",
          "output_type": "stream",
          "text": [
            "plus que 2223 publications pour completer l'année 2021\n"
          ]
        },
        {
          "name": "stderr",
          "output_type": "stream",
          "text": [
            "DEBUG:urllib3.connectionpool:Starting new HTTPS connection (1): api.openalex.org:443\n",
            "DEBUG:urllib3.connectionpool:https://api.openalex.org:443 \"GET /works?filter=has_doi:true,concepts_count:%3E0,publication_year:2021&sample=200&per-page=200 HTTP/1.1\" 200 326945\n"
          ]
        },
        {
          "name": "stdout",
          "output_type": "stream",
          "text": [
            "plus que 2127 publications pour completer l'année 2021\n"
          ]
        },
        {
          "name": "stderr",
          "output_type": "stream",
          "text": [
            "DEBUG:urllib3.connectionpool:Starting new HTTPS connection (1): api.openalex.org:443\n",
            "DEBUG:urllib3.connectionpool:https://api.openalex.org:443 \"GET /works?filter=has_doi:true,concepts_count:%3E0,publication_year:2021&sample=200&per-page=200 HTTP/1.1\" 200 359675\n"
          ]
        },
        {
          "name": "stdout",
          "output_type": "stream",
          "text": [
            "plus que 2022 publications pour completer l'année 2021\n"
          ]
        },
        {
          "name": "stderr",
          "output_type": "stream",
          "text": [
            "DEBUG:urllib3.connectionpool:Starting new HTTPS connection (1): api.openalex.org:443\n",
            "DEBUG:urllib3.connectionpool:https://api.openalex.org:443 \"GET /works?filter=has_doi:true,concepts_count:%3E0,publication_year:2021&sample=200&per-page=200 HTTP/1.1\" 200 329820\n"
          ]
        },
        {
          "name": "stdout",
          "output_type": "stream",
          "text": [
            "plus que 1923 publications pour completer l'année 2021\n"
          ]
        },
        {
          "name": "stderr",
          "output_type": "stream",
          "text": [
            "DEBUG:urllib3.connectionpool:Starting new HTTPS connection (1): api.openalex.org:443\n",
            "DEBUG:urllib3.connectionpool:https://api.openalex.org:443 \"GET /works?filter=has_doi:true,concepts_count:%3E0,publication_year:2021&sample=200&per-page=200 HTTP/1.1\" 200 357378\n"
          ]
        },
        {
          "name": "stdout",
          "output_type": "stream",
          "text": [
            "plus que 1824 publications pour completer l'année 2021\n"
          ]
        },
        {
          "name": "stderr",
          "output_type": "stream",
          "text": [
            "DEBUG:urllib3.connectionpool:Starting new HTTPS connection (1): api.openalex.org:443\n",
            "DEBUG:urllib3.connectionpool:https://api.openalex.org:443 \"GET /works?filter=has_doi:true,concepts_count:%3E0,publication_year:2021&sample=200&per-page=200 HTTP/1.1\" 200 371357\n"
          ]
        },
        {
          "name": "stdout",
          "output_type": "stream",
          "text": [
            "plus que 1711 publications pour completer l'année 2021\n"
          ]
        },
        {
          "name": "stderr",
          "output_type": "stream",
          "text": [
            "DEBUG:urllib3.connectionpool:Starting new HTTPS connection (1): api.openalex.org:443\n",
            "DEBUG:urllib3.connectionpool:https://api.openalex.org:443 \"GET /works?filter=has_doi:true,concepts_count:%3E0,publication_year:2021&sample=200&per-page=200 HTTP/1.1\" 200 365128\n"
          ]
        },
        {
          "name": "stdout",
          "output_type": "stream",
          "text": [
            "plus que 1602 publications pour completer l'année 2021\n"
          ]
        },
        {
          "name": "stderr",
          "output_type": "stream",
          "text": [
            "DEBUG:urllib3.connectionpool:Starting new HTTPS connection (1): api.openalex.org:443\n",
            "DEBUG:urllib3.connectionpool:https://api.openalex.org:443 \"GET /works?filter=has_doi:true,concepts_count:%3E0,publication_year:2021&sample=200&per-page=200 HTTP/1.1\" 200 335401\n"
          ]
        },
        {
          "name": "stdout",
          "output_type": "stream",
          "text": [
            "plus que 1498 publications pour completer l'année 2021\n"
          ]
        },
        {
          "name": "stderr",
          "output_type": "stream",
          "text": [
            "DEBUG:urllib3.connectionpool:Starting new HTTPS connection (1): api.openalex.org:443\n",
            "DEBUG:urllib3.connectionpool:https://api.openalex.org:443 \"GET /works?filter=has_doi:true,concepts_count:%3E0,publication_year:2021&sample=200&per-page=200 HTTP/1.1\" 200 365160\n"
          ]
        },
        {
          "name": "stdout",
          "output_type": "stream",
          "text": [
            "plus que 1379 publications pour completer l'année 2021\n"
          ]
        },
        {
          "name": "stderr",
          "output_type": "stream",
          "text": [
            "DEBUG:urllib3.connectionpool:Starting new HTTPS connection (1): api.openalex.org:443\n",
            "DEBUG:urllib3.connectionpool:https://api.openalex.org:443 \"GET /works?filter=has_doi:true,concepts_count:%3E0,publication_year:2021&sample=200&per-page=200 HTTP/1.1\" 200 346701\n"
          ]
        },
        {
          "name": "stdout",
          "output_type": "stream",
          "text": [
            "plus que 1279 publications pour completer l'année 2021\n"
          ]
        },
        {
          "name": "stderr",
          "output_type": "stream",
          "text": [
            "DEBUG:urllib3.connectionpool:Starting new HTTPS connection (1): api.openalex.org:443\n",
            "DEBUG:urllib3.connectionpool:https://api.openalex.org:443 \"GET /works?filter=has_doi:true,concepts_count:%3E0,publication_year:2021&sample=200&per-page=200 HTTP/1.1\" 200 406859\n"
          ]
        },
        {
          "name": "stdout",
          "output_type": "stream",
          "text": [
            "plus que 1177 publications pour completer l'année 2021\n"
          ]
        },
        {
          "name": "stderr",
          "output_type": "stream",
          "text": [
            "DEBUG:urllib3.connectionpool:Starting new HTTPS connection (1): api.openalex.org:443\n",
            "DEBUG:urllib3.connectionpool:https://api.openalex.org:443 \"GET /works?filter=has_doi:true,concepts_count:%3E0,publication_year:2021&sample=200&per-page=200 HTTP/1.1\" 200 341609\n"
          ]
        },
        {
          "name": "stdout",
          "output_type": "stream",
          "text": [
            "plus que 1049 publications pour completer l'année 2021\n"
          ]
        },
        {
          "name": "stderr",
          "output_type": "stream",
          "text": [
            "DEBUG:urllib3.connectionpool:Starting new HTTPS connection (1): api.openalex.org:443\n",
            "DEBUG:urllib3.connectionpool:https://api.openalex.org:443 \"GET /works?filter=has_doi:true,concepts_count:%3E0,publication_year:2021&sample=200&per-page=200 HTTP/1.1\" 200 347540\n"
          ]
        },
        {
          "name": "stdout",
          "output_type": "stream",
          "text": [
            "plus que 954 publications pour completer l'année 2021\n"
          ]
        },
        {
          "name": "stderr",
          "output_type": "stream",
          "text": [
            "DEBUG:urllib3.connectionpool:Starting new HTTPS connection (1): api.openalex.org:443\n",
            "DEBUG:urllib3.connectionpool:https://api.openalex.org:443 \"GET /works?filter=has_doi:true,concepts_count:%3E0,publication_year:2021&sample=200&per-page=200 HTTP/1.1\" 200 370733\n"
          ]
        },
        {
          "name": "stdout",
          "output_type": "stream",
          "text": [
            "plus que 843 publications pour completer l'année 2021\n"
          ]
        },
        {
          "name": "stderr",
          "output_type": "stream",
          "text": [
            "DEBUG:urllib3.connectionpool:Starting new HTTPS connection (1): api.openalex.org:443\n",
            "DEBUG:urllib3.connectionpool:https://api.openalex.org:443 \"GET /works?filter=has_doi:true,concepts_count:%3E0,publication_year:2021&sample=200&per-page=200 HTTP/1.1\" 200 359837\n"
          ]
        },
        {
          "name": "stdout",
          "output_type": "stream",
          "text": [
            "plus que 728 publications pour completer l'année 2021\n"
          ]
        },
        {
          "name": "stderr",
          "output_type": "stream",
          "text": [
            "DEBUG:urllib3.connectionpool:Starting new HTTPS connection (1): api.openalex.org:443\n",
            "DEBUG:urllib3.connectionpool:https://api.openalex.org:443 \"GET /works?filter=has_doi:true,concepts_count:%3E0,publication_year:2021&sample=200&per-page=200 HTTP/1.1\" 200 373168\n"
          ]
        },
        {
          "name": "stdout",
          "output_type": "stream",
          "text": [
            "plus que 606 publications pour completer l'année 2021\n"
          ]
        },
        {
          "name": "stderr",
          "output_type": "stream",
          "text": [
            "DEBUG:urllib3.connectionpool:Starting new HTTPS connection (1): api.openalex.org:443\n",
            "DEBUG:urllib3.connectionpool:https://api.openalex.org:443 \"GET /works?filter=has_doi:true,concepts_count:%3E0,publication_year:2021&sample=200&per-page=200 HTTP/1.1\" 200 386296\n"
          ]
        },
        {
          "name": "stdout",
          "output_type": "stream",
          "text": [
            "plus que 495 publications pour completer l'année 2021\n"
          ]
        },
        {
          "name": "stderr",
          "output_type": "stream",
          "text": [
            "DEBUG:urllib3.connectionpool:Starting new HTTPS connection (1): api.openalex.org:443\n",
            "DEBUG:urllib3.connectionpool:https://api.openalex.org:443 \"GET /works?filter=has_doi:true,concepts_count:%3E0,publication_year:2021&sample=200&per-page=200 HTTP/1.1\" 200 344177\n"
          ]
        },
        {
          "name": "stdout",
          "output_type": "stream",
          "text": [
            "plus que 380 publications pour completer l'année 2021\n"
          ]
        },
        {
          "name": "stderr",
          "output_type": "stream",
          "text": [
            "DEBUG:urllib3.connectionpool:Starting new HTTPS connection (1): api.openalex.org:443\n",
            "DEBUG:urllib3.connectionpool:https://api.openalex.org:443 \"GET /works?filter=has_doi:true,concepts_count:%3E0,publication_year:2021&sample=200&per-page=200 HTTP/1.1\" 200 326565\n"
          ]
        },
        {
          "name": "stdout",
          "output_type": "stream",
          "text": [
            "plus que 268 publications pour completer l'année 2021\n"
          ]
        },
        {
          "name": "stderr",
          "output_type": "stream",
          "text": [
            "DEBUG:urllib3.connectionpool:Starting new HTTPS connection (1): api.openalex.org:443\n",
            "DEBUG:urllib3.connectionpool:https://api.openalex.org:443 \"GET /works?filter=has_doi:true,concepts_count:%3E0,publication_year:2021&sample=200&per-page=200 HTTP/1.1\" 200 310303\n"
          ]
        },
        {
          "name": "stdout",
          "output_type": "stream",
          "text": [
            "plus que 167 publications pour completer l'année 2021\n"
          ]
        },
        {
          "name": "stderr",
          "output_type": "stream",
          "text": [
            "DEBUG:urllib3.connectionpool:Starting new HTTPS connection (1): api.openalex.org:443\n",
            "DEBUG:urllib3.connectionpool:https://api.openalex.org:443 \"GET /works?filter=has_doi:true,concepts_count:%3E0,publication_year:2021&sample=200&per-page=200 HTTP/1.1\" 200 356632\n"
          ]
        },
        {
          "name": "stdout",
          "output_type": "stream",
          "text": [
            "plus que 54 publications pour completer l'année 2021\n"
          ]
        },
        {
          "name": "stderr",
          "output_type": "stream",
          "text": [
            "DEBUG:urllib3.connectionpool:Starting new HTTPS connection (1): api.openalex.org:443\n",
            "DEBUG:urllib3.connectionpool:https://api.openalex.org:443 \"GET /works?filter=has_doi:true,concepts_count:%3E0,publication_year:2013&sample=200&per-page=200 HTTP/1.1\" 200 295708\n"
          ]
        },
        {
          "name": "stdout",
          "output_type": "stream",
          "text": [
            "plus que 2333 publications pour completer l'année 2013\n"
          ]
        },
        {
          "name": "stderr",
          "output_type": "stream",
          "text": [
            "DEBUG:urllib3.connectionpool:Starting new HTTPS connection (1): api.openalex.org:443\n",
            "DEBUG:urllib3.connectionpool:https://api.openalex.org:443 \"GET /works?filter=has_doi:true,concepts_count:%3E0,publication_year:2013&sample=200&per-page=200 HTTP/1.1\" 200 298678\n"
          ]
        },
        {
          "name": "stdout",
          "output_type": "stream",
          "text": [
            "plus que 2218 publications pour completer l'année 2013\n"
          ]
        },
        {
          "name": "stderr",
          "output_type": "stream",
          "text": [
            "DEBUG:urllib3.connectionpool:Starting new HTTPS connection (1): api.openalex.org:443\n",
            "DEBUG:urllib3.connectionpool:https://api.openalex.org:443 \"GET /works?filter=has_doi:true,concepts_count:%3E0,publication_year:2013&sample=200&per-page=200 HTTP/1.1\" 200 302566\n"
          ]
        },
        {
          "name": "stdout",
          "output_type": "stream",
          "text": [
            "plus que 2108 publications pour completer l'année 2013\n"
          ]
        },
        {
          "name": "stderr",
          "output_type": "stream",
          "text": [
            "DEBUG:urllib3.connectionpool:Starting new HTTPS connection (1): api.openalex.org:443\n",
            "DEBUG:urllib3.connectionpool:https://api.openalex.org:443 \"GET /works?filter=has_doi:true,concepts_count:%3E0,publication_year:2013&sample=200&per-page=200 HTTP/1.1\" 200 316656\n"
          ]
        },
        {
          "name": "stdout",
          "output_type": "stream",
          "text": [
            "plus que 1997 publications pour completer l'année 2013\n"
          ]
        },
        {
          "name": "stderr",
          "output_type": "stream",
          "text": [
            "DEBUG:urllib3.connectionpool:Starting new HTTPS connection (1): api.openalex.org:443\n",
            "DEBUG:urllib3.connectionpool:https://api.openalex.org:443 \"GET /works?filter=has_doi:true,concepts_count:%3E0,publication_year:2013&sample=200&per-page=200 HTTP/1.1\" 200 309806\n"
          ]
        },
        {
          "name": "stdout",
          "output_type": "stream",
          "text": [
            "plus que 1870 publications pour completer l'année 2013\n"
          ]
        },
        {
          "name": "stderr",
          "output_type": "stream",
          "text": [
            "DEBUG:urllib3.connectionpool:Starting new HTTPS connection (1): api.openalex.org:443\n",
            "DEBUG:urllib3.connectionpool:https://api.openalex.org:443 \"GET /works?filter=has_doi:true,concepts_count:%3E0,publication_year:2013&sample=200&per-page=200 HTTP/1.1\" 200 325378\n"
          ]
        },
        {
          "name": "stdout",
          "output_type": "stream",
          "text": [
            "plus que 1755 publications pour completer l'année 2013\n"
          ]
        },
        {
          "name": "stderr",
          "output_type": "stream",
          "text": [
            "DEBUG:urllib3.connectionpool:Starting new HTTPS connection (1): api.openalex.org:443\n",
            "DEBUG:urllib3.connectionpool:https://api.openalex.org:443 \"GET /works?filter=has_doi:true,concepts_count:%3E0,publication_year:2013&sample=200&per-page=200 HTTP/1.1\" 200 276920\n"
          ]
        },
        {
          "name": "stdout",
          "output_type": "stream",
          "text": [
            "plus que 1634 publications pour completer l'année 2013\n"
          ]
        },
        {
          "name": "stderr",
          "output_type": "stream",
          "text": [
            "DEBUG:urllib3.connectionpool:Starting new HTTPS connection (1): api.openalex.org:443\n",
            "DEBUG:urllib3.connectionpool:https://api.openalex.org:443 \"GET /works?filter=has_doi:true,concepts_count:%3E0,publication_year:2013&sample=200&per-page=200 HTTP/1.1\" 200 285702\n"
          ]
        },
        {
          "name": "stdout",
          "output_type": "stream",
          "text": [
            "plus que 1538 publications pour completer l'année 2013\n"
          ]
        },
        {
          "name": "stderr",
          "output_type": "stream",
          "text": [
            "DEBUG:urllib3.connectionpool:Starting new HTTPS connection (1): api.openalex.org:443\n",
            "DEBUG:urllib3.connectionpool:https://api.openalex.org:443 \"GET /works?filter=has_doi:true,concepts_count:%3E0,publication_year:2013&sample=200&per-page=200 HTTP/1.1\" 200 311525\n"
          ]
        },
        {
          "name": "stdout",
          "output_type": "stream",
          "text": [
            "plus que 1431 publications pour completer l'année 2013\n"
          ]
        },
        {
          "name": "stderr",
          "output_type": "stream",
          "text": [
            "DEBUG:urllib3.connectionpool:Starting new HTTPS connection (1): api.openalex.org:443\n",
            "DEBUG:urllib3.connectionpool:https://api.openalex.org:443 \"GET /works?filter=has_doi:true,concepts_count:%3E0,publication_year:2013&sample=200&per-page=200 HTTP/1.1\" 200 301978\n"
          ]
        },
        {
          "name": "stdout",
          "output_type": "stream",
          "text": [
            "plus que 1308 publications pour completer l'année 2013\n"
          ]
        },
        {
          "name": "stderr",
          "output_type": "stream",
          "text": [
            "DEBUG:urllib3.connectionpool:Starting new HTTPS connection (1): api.openalex.org:443\n",
            "DEBUG:urllib3.connectionpool:https://api.openalex.org:443 \"GET /works?filter=has_doi:true,concepts_count:%3E0,publication_year:2013&sample=200&per-page=200 HTTP/1.1\" 200 297820\n"
          ]
        },
        {
          "name": "stdout",
          "output_type": "stream",
          "text": [
            "plus que 1195 publications pour completer l'année 2013\n"
          ]
        },
        {
          "name": "stderr",
          "output_type": "stream",
          "text": [
            "DEBUG:urllib3.connectionpool:Starting new HTTPS connection (1): api.openalex.org:443\n",
            "DEBUG:urllib3.connectionpool:https://api.openalex.org:443 \"GET /works?filter=has_doi:true,concepts_count:%3E0,publication_year:2013&sample=200&per-page=200 HTTP/1.1\" 200 300749\n"
          ]
        },
        {
          "name": "stdout",
          "output_type": "stream",
          "text": [
            "plus que 1077 publications pour completer l'année 2013\n"
          ]
        },
        {
          "name": "stderr",
          "output_type": "stream",
          "text": [
            "DEBUG:urllib3.connectionpool:Starting new HTTPS connection (1): api.openalex.org:443\n",
            "DEBUG:urllib3.connectionpool:https://api.openalex.org:443 \"GET /works?filter=has_doi:true,concepts_count:%3E0,publication_year:2013&sample=200&per-page=200 HTTP/1.1\" 200 281968\n"
          ]
        },
        {
          "name": "stdout",
          "output_type": "stream",
          "text": [
            "plus que 962 publications pour completer l'année 2013\n"
          ]
        },
        {
          "name": "stderr",
          "output_type": "stream",
          "text": [
            "DEBUG:urllib3.connectionpool:Starting new HTTPS connection (1): api.openalex.org:443\n",
            "DEBUG:urllib3.connectionpool:https://api.openalex.org:443 \"GET /works?filter=has_doi:true,concepts_count:%3E0,publication_year:2013&sample=200&per-page=200 HTTP/1.1\" 200 284793\n"
          ]
        },
        {
          "name": "stdout",
          "output_type": "stream",
          "text": [
            "plus que 851 publications pour completer l'année 2013\n"
          ]
        },
        {
          "name": "stderr",
          "output_type": "stream",
          "text": [
            "DEBUG:urllib3.connectionpool:Starting new HTTPS connection (1): api.openalex.org:443\n",
            "DEBUG:urllib3.connectionpool:https://api.openalex.org:443 \"GET /works?filter=has_doi:true,concepts_count:%3E0,publication_year:2013&sample=200&per-page=200 HTTP/1.1\" 200 290126\n"
          ]
        },
        {
          "name": "stdout",
          "output_type": "stream",
          "text": [
            "plus que 737 publications pour completer l'année 2013\n"
          ]
        },
        {
          "name": "stderr",
          "output_type": "stream",
          "text": [
            "DEBUG:urllib3.connectionpool:Starting new HTTPS connection (1): api.openalex.org:443\n",
            "DEBUG:urllib3.connectionpool:https://api.openalex.org:443 \"GET /works?filter=has_doi:true,concepts_count:%3E0,publication_year:2013&sample=200&per-page=200 HTTP/1.1\" 200 272197\n"
          ]
        },
        {
          "name": "stdout",
          "output_type": "stream",
          "text": [
            "plus que 623 publications pour completer l'année 2013\n"
          ]
        },
        {
          "name": "stderr",
          "output_type": "stream",
          "text": [
            "DEBUG:urllib3.connectionpool:Starting new HTTPS connection (1): api.openalex.org:443\n",
            "DEBUG:urllib3.connectionpool:https://api.openalex.org:443 \"GET /works?filter=has_doi:true,concepts_count:%3E0,publication_year:2013&sample=200&per-page=200 HTTP/1.1\" 200 306028\n"
          ]
        },
        {
          "name": "stdout",
          "output_type": "stream",
          "text": [
            "plus que 518 publications pour completer l'année 2013\n"
          ]
        },
        {
          "name": "stderr",
          "output_type": "stream",
          "text": [
            "DEBUG:urllib3.connectionpool:Starting new HTTPS connection (1): api.openalex.org:443\n",
            "DEBUG:urllib3.connectionpool:https://api.openalex.org:443 \"GET /works?filter=has_doi:true,concepts_count:%3E0,publication_year:2013&sample=200&per-page=200 HTTP/1.1\" 200 291540\n"
          ]
        },
        {
          "name": "stdout",
          "output_type": "stream",
          "text": [
            "plus que 414 publications pour completer l'année 2013\n"
          ]
        },
        {
          "name": "stderr",
          "output_type": "stream",
          "text": [
            "DEBUG:urllib3.connectionpool:Starting new HTTPS connection (1): api.openalex.org:443\n",
            "DEBUG:urllib3.connectionpool:https://api.openalex.org:443 \"GET /works?filter=has_doi:true,concepts_count:%3E0,publication_year:2013&sample=200&per-page=200 HTTP/1.1\" 200 303641\n"
          ]
        },
        {
          "name": "stdout",
          "output_type": "stream",
          "text": [
            "plus que 302 publications pour completer l'année 2013\n"
          ]
        },
        {
          "name": "stderr",
          "output_type": "stream",
          "text": [
            "DEBUG:urllib3.connectionpool:Starting new HTTPS connection (1): api.openalex.org:443\n",
            "DEBUG:urllib3.connectionpool:https://api.openalex.org:443 \"GET /works?filter=has_doi:true,concepts_count:%3E0,publication_year:2013&sample=200&per-page=200 HTTP/1.1\" 200 305564\n"
          ]
        },
        {
          "name": "stdout",
          "output_type": "stream",
          "text": [
            "plus que 185 publications pour completer l'année 2013\n"
          ]
        },
        {
          "name": "stderr",
          "output_type": "stream",
          "text": [
            "DEBUG:urllib3.connectionpool:Starting new HTTPS connection (1): api.openalex.org:443\n",
            "DEBUG:urllib3.connectionpool:https://api.openalex.org:443 \"GET /works?filter=has_doi:true,concepts_count:%3E0,publication_year:2013&sample=200&per-page=200 HTTP/1.1\" 200 285980\n"
          ]
        },
        {
          "name": "stdout",
          "output_type": "stream",
          "text": [
            "plus que 62 publications pour completer l'année 2013\n"
          ]
        },
        {
          "name": "stderr",
          "output_type": "stream",
          "text": [
            "DEBUG:urllib3.connectionpool:Starting new HTTPS connection (1): api.openalex.org:443\n",
            "DEBUG:urllib3.connectionpool:https://api.openalex.org:443 \"GET /works?filter=has_doi:true,concepts_count:%3E0,publication_year:2012&sample=200&per-page=200 HTTP/1.1\" 200 266949\n"
          ]
        },
        {
          "name": "stdout",
          "output_type": "stream",
          "text": [
            "plus que 1336 publications pour completer l'année 2012\n"
          ]
        },
        {
          "name": "stderr",
          "output_type": "stream",
          "text": [
            "DEBUG:urllib3.connectionpool:Starting new HTTPS connection (1): api.openalex.org:443\n",
            "DEBUG:urllib3.connectionpool:https://api.openalex.org:443 \"GET /works?filter=has_doi:true,concepts_count:%3E0,publication_year:2012&sample=200&per-page=200 HTTP/1.1\" 200 297470\n"
          ]
        },
        {
          "name": "stdout",
          "output_type": "stream",
          "text": [
            "plus que 1215 publications pour completer l'année 2012\n"
          ]
        },
        {
          "name": "stderr",
          "output_type": "stream",
          "text": [
            "DEBUG:urllib3.connectionpool:Starting new HTTPS connection (1): api.openalex.org:443\n",
            "DEBUG:urllib3.connectionpool:https://api.openalex.org:443 \"GET /works?filter=has_doi:true,concepts_count:%3E0,publication_year:2012&sample=200&per-page=200 HTTP/1.1\" 200 272192\n"
          ]
        },
        {
          "name": "stdout",
          "output_type": "stream",
          "text": [
            "plus que 1106 publications pour completer l'année 2012\n"
          ]
        },
        {
          "name": "stderr",
          "output_type": "stream",
          "text": [
            "DEBUG:urllib3.connectionpool:Starting new HTTPS connection (1): api.openalex.org:443\n",
            "DEBUG:urllib3.connectionpool:https://api.openalex.org:443 \"GET /works?filter=has_doi:true,concepts_count:%3E0,publication_year:2012&sample=200&per-page=200 HTTP/1.1\" 200 310890\n"
          ]
        },
        {
          "name": "stdout",
          "output_type": "stream",
          "text": [
            "plus que 1003 publications pour completer l'année 2012\n"
          ]
        },
        {
          "name": "stderr",
          "output_type": "stream",
          "text": [
            "DEBUG:urllib3.connectionpool:Starting new HTTPS connection (1): api.openalex.org:443\n",
            "DEBUG:urllib3.connectionpool:https://api.openalex.org:443 \"GET /works?filter=has_doi:true,concepts_count:%3E0,publication_year:2012&sample=200&per-page=200 HTTP/1.1\" 200 312471\n"
          ]
        },
        {
          "name": "stdout",
          "output_type": "stream",
          "text": [
            "plus que 887 publications pour completer l'année 2012\n"
          ]
        },
        {
          "name": "stderr",
          "output_type": "stream",
          "text": [
            "DEBUG:urllib3.connectionpool:Starting new HTTPS connection (1): api.openalex.org:443\n",
            "DEBUG:urllib3.connectionpool:https://api.openalex.org:443 \"GET /works?filter=has_doi:true,concepts_count:%3E0,publication_year:2012&sample=200&per-page=200 HTTP/1.1\" 200 291300\n"
          ]
        },
        {
          "name": "stdout",
          "output_type": "stream",
          "text": [
            "plus que 767 publications pour completer l'année 2012\n"
          ]
        },
        {
          "name": "stderr",
          "output_type": "stream",
          "text": [
            "DEBUG:urllib3.connectionpool:Starting new HTTPS connection (1): api.openalex.org:443\n",
            "DEBUG:urllib3.connectionpool:https://api.openalex.org:443 \"GET /works?filter=has_doi:true,concepts_count:%3E0,publication_year:2012&sample=200&per-page=200 HTTP/1.1\" 200 305223\n"
          ]
        },
        {
          "name": "stdout",
          "output_type": "stream",
          "text": [
            "plus que 662 publications pour completer l'année 2012\n"
          ]
        },
        {
          "name": "stderr",
          "output_type": "stream",
          "text": [
            "DEBUG:urllib3.connectionpool:Starting new HTTPS connection (1): api.openalex.org:443\n",
            "DEBUG:urllib3.connectionpool:https://api.openalex.org:443 \"GET /works?filter=has_doi:true,concepts_count:%3E0,publication_year:2012&sample=200&per-page=200 HTTP/1.1\" 200 275111\n"
          ]
        },
        {
          "name": "stdout",
          "output_type": "stream",
          "text": [
            "plus que 537 publications pour completer l'année 2012\n"
          ]
        },
        {
          "name": "stderr",
          "output_type": "stream",
          "text": [
            "DEBUG:urllib3.connectionpool:Starting new HTTPS connection (1): api.openalex.org:443\n",
            "DEBUG:urllib3.connectionpool:https://api.openalex.org:443 \"GET /works?filter=has_doi:true,concepts_count:%3E0,publication_year:2012&sample=200&per-page=200 HTTP/1.1\" 200 303854\n"
          ]
        },
        {
          "name": "stdout",
          "output_type": "stream",
          "text": [
            "plus que 436 publications pour completer l'année 2012\n"
          ]
        },
        {
          "name": "stderr",
          "output_type": "stream",
          "text": [
            "DEBUG:urllib3.connectionpool:Starting new HTTPS connection (1): api.openalex.org:443\n",
            "DEBUG:urllib3.connectionpool:https://api.openalex.org:443 \"GET /works?filter=has_doi:true,concepts_count:%3E0,publication_year:2012&sample=200&per-page=200 HTTP/1.1\" 200 323169\n"
          ]
        },
        {
          "name": "stdout",
          "output_type": "stream",
          "text": [
            "plus que 312 publications pour completer l'année 2012\n"
          ]
        },
        {
          "name": "stderr",
          "output_type": "stream",
          "text": [
            "DEBUG:urllib3.connectionpool:Starting new HTTPS connection (1): api.openalex.org:443\n",
            "DEBUG:urllib3.connectionpool:https://api.openalex.org:443 \"GET /works?filter=has_doi:true,concepts_count:%3E0,publication_year:2012&sample=200&per-page=200 HTTP/1.1\" 200 312703\n"
          ]
        },
        {
          "name": "stdout",
          "output_type": "stream",
          "text": [
            "plus que 203 publications pour completer l'année 2012\n"
          ]
        },
        {
          "name": "stderr",
          "output_type": "stream",
          "text": [
            "DEBUG:urllib3.connectionpool:Starting new HTTPS connection (1): api.openalex.org:443\n",
            "DEBUG:urllib3.connectionpool:https://api.openalex.org:443 \"GET /works?filter=has_doi:true,concepts_count:%3E0,publication_year:2012&sample=200&per-page=200 HTTP/1.1\" 200 309095\n"
          ]
        },
        {
          "name": "stdout",
          "output_type": "stream",
          "text": [
            "plus que 98 publications pour completer l'année 2012\n"
          ]
        },
        {
          "name": "stderr",
          "output_type": "stream",
          "text": [
            "DEBUG:urllib3.connectionpool:Starting new HTTPS connection (1): api.openalex.org:443\n",
            "DEBUG:urllib3.connectionpool:https://api.openalex.org:443 \"GET /works?filter=has_doi:true,concepts_count:%3E0,publication_year:2011&sample=200&per-page=200 HTTP/1.1\" 200 277752\n"
          ]
        },
        {
          "name": "stdout",
          "output_type": "stream",
          "text": [
            "plus que 935 publications pour completer l'année 2011\n"
          ]
        },
        {
          "name": "stderr",
          "output_type": "stream",
          "text": [
            "DEBUG:urllib3.connectionpool:Starting new HTTPS connection (1): api.openalex.org:443\n",
            "DEBUG:urllib3.connectionpool:https://api.openalex.org:443 \"GET /works?filter=has_doi:true,concepts_count:%3E0,publication_year:2011&sample=200&per-page=200 HTTP/1.1\" 200 278662\n"
          ]
        },
        {
          "name": "stdout",
          "output_type": "stream",
          "text": [
            "plus que 821 publications pour completer l'année 2011\n"
          ]
        },
        {
          "name": "stderr",
          "output_type": "stream",
          "text": [
            "DEBUG:urllib3.connectionpool:Starting new HTTPS connection (1): api.openalex.org:443\n",
            "DEBUG:urllib3.connectionpool:https://api.openalex.org:443 \"GET /works?filter=has_doi:true,concepts_count:%3E0,publication_year:2011&sample=200&per-page=200 HTTP/1.1\" 200 306351\n"
          ]
        },
        {
          "name": "stdout",
          "output_type": "stream",
          "text": [
            "plus que 707 publications pour completer l'année 2011\n"
          ]
        },
        {
          "name": "stderr",
          "output_type": "stream",
          "text": [
            "DEBUG:urllib3.connectionpool:Starting new HTTPS connection (1): api.openalex.org:443\n",
            "DEBUG:urllib3.connectionpool:https://api.openalex.org:443 \"GET /works?filter=has_doi:true,concepts_count:%3E0,publication_year:2011&sample=200&per-page=200 HTTP/1.1\" 200 273359\n"
          ]
        },
        {
          "name": "stdout",
          "output_type": "stream",
          "text": [
            "plus que 592 publications pour completer l'année 2011\n"
          ]
        },
        {
          "name": "stderr",
          "output_type": "stream",
          "text": [
            "DEBUG:urllib3.connectionpool:Starting new HTTPS connection (1): api.openalex.org:443\n",
            "DEBUG:urllib3.connectionpool:https://api.openalex.org:443 \"GET /works?filter=has_doi:true,concepts_count:%3E0,publication_year:2011&sample=200&per-page=200 HTTP/1.1\" 200 294921\n"
          ]
        },
        {
          "name": "stdout",
          "output_type": "stream",
          "text": [
            "plus que 490 publications pour completer l'année 2011\n"
          ]
        },
        {
          "name": "stderr",
          "output_type": "stream",
          "text": [
            "DEBUG:urllib3.connectionpool:Starting new HTTPS connection (1): api.openalex.org:443\n",
            "DEBUG:urllib3.connectionpool:https://api.openalex.org:443 \"GET /works?filter=has_doi:true,concepts_count:%3E0,publication_year:2011&sample=200&per-page=200 HTTP/1.1\" 200 289968\n"
          ]
        },
        {
          "name": "stdout",
          "output_type": "stream",
          "text": [
            "plus que 378 publications pour completer l'année 2011\n"
          ]
        },
        {
          "name": "stderr",
          "output_type": "stream",
          "text": [
            "DEBUG:urllib3.connectionpool:Starting new HTTPS connection (1): api.openalex.org:443\n",
            "DEBUG:urllib3.connectionpool:https://api.openalex.org:443 \"GET /works?filter=has_doi:true,concepts_count:%3E0,publication_year:2011&sample=200&per-page=200 HTTP/1.1\" 200 274366\n"
          ]
        },
        {
          "name": "stdout",
          "output_type": "stream",
          "text": [
            "plus que 264 publications pour completer l'année 2011\n"
          ]
        },
        {
          "name": "stderr",
          "output_type": "stream",
          "text": [
            "DEBUG:urllib3.connectionpool:Starting new HTTPS connection (1): api.openalex.org:443\n",
            "DEBUG:urllib3.connectionpool:https://api.openalex.org:443 \"GET /works?filter=has_doi:true,concepts_count:%3E0,publication_year:2011&sample=200&per-page=200 HTTP/1.1\" 200 301929\n"
          ]
        },
        {
          "name": "stdout",
          "output_type": "stream",
          "text": [
            "plus que 154 publications pour completer l'année 2011\n"
          ]
        },
        {
          "name": "stderr",
          "output_type": "stream",
          "text": [
            "DEBUG:urllib3.connectionpool:Starting new HTTPS connection (1): api.openalex.org:443\n",
            "DEBUG:urllib3.connectionpool:https://api.openalex.org:443 \"GET /works?filter=has_doi:true,concepts_count:%3E0,publication_year:2011&sample=200&per-page=200 HTTP/1.1\" 200 306096\n"
          ]
        },
        {
          "name": "stdout",
          "output_type": "stream",
          "text": [
            "plus que 44 publications pour completer l'année 2011\n"
          ]
        },
        {
          "name": "stderr",
          "output_type": "stream",
          "text": [
            "DEBUG:urllib3.connectionpool:Starting new HTTPS connection (1): api.openalex.org:443\n",
            "DEBUG:urllib3.connectionpool:https://api.openalex.org:443 \"GET /works?filter=has_doi:true,concepts_count:%3E0,publication_year:2010&sample=200&per-page=200 HTTP/1.1\" 200 286803\n"
          ]
        },
        {
          "name": "stdout",
          "output_type": "stream",
          "text": [
            "plus que 778 publications pour completer l'année 2010\n"
          ]
        },
        {
          "name": "stderr",
          "output_type": "stream",
          "text": [
            "DEBUG:urllib3.connectionpool:Starting new HTTPS connection (1): api.openalex.org:443\n",
            "DEBUG:urllib3.connectionpool:https://api.openalex.org:443 \"GET /works?filter=has_doi:true,concepts_count:%3E0,publication_year:2010&sample=200&per-page=200 HTTP/1.1\" 200 285154\n"
          ]
        },
        {
          "name": "stdout",
          "output_type": "stream",
          "text": [
            "plus que 660 publications pour completer l'année 2010\n"
          ]
        },
        {
          "name": "stderr",
          "output_type": "stream",
          "text": [
            "DEBUG:urllib3.connectionpool:Starting new HTTPS connection (1): api.openalex.org:443\n",
            "DEBUG:urllib3.connectionpool:https://api.openalex.org:443 \"GET /works?filter=has_doi:true,concepts_count:%3E0,publication_year:2010&sample=200&per-page=200 HTTP/1.1\" 200 292091\n"
          ]
        },
        {
          "name": "stdout",
          "output_type": "stream",
          "text": [
            "plus que 544 publications pour completer l'année 2010\n"
          ]
        },
        {
          "name": "stderr",
          "output_type": "stream",
          "text": [
            "DEBUG:urllib3.connectionpool:Starting new HTTPS connection (1): api.openalex.org:443\n",
            "DEBUG:urllib3.connectionpool:https://api.openalex.org:443 \"GET /works?filter=has_doi:true,concepts_count:%3E0,publication_year:2010&sample=200&per-page=200 HTTP/1.1\" 200 290260\n"
          ]
        },
        {
          "name": "stdout",
          "output_type": "stream",
          "text": [
            "plus que 438 publications pour completer l'année 2010\n"
          ]
        },
        {
          "name": "stderr",
          "output_type": "stream",
          "text": [
            "DEBUG:urllib3.connectionpool:Starting new HTTPS connection (1): api.openalex.org:443\n",
            "DEBUG:urllib3.connectionpool:https://api.openalex.org:443 \"GET /works?filter=has_doi:true,concepts_count:%3E0,publication_year:2010&sample=200&per-page=200 HTTP/1.1\" 200 291924\n"
          ]
        },
        {
          "name": "stdout",
          "output_type": "stream",
          "text": [
            "plus que 320 publications pour completer l'année 2010\n"
          ]
        },
        {
          "name": "stderr",
          "output_type": "stream",
          "text": [
            "DEBUG:urllib3.connectionpool:Starting new HTTPS connection (1): api.openalex.org:443\n",
            "DEBUG:urllib3.connectionpool:https://api.openalex.org:443 \"GET /works?filter=has_doi:true,concepts_count:%3E0,publication_year:2010&sample=200&per-page=200 HTTP/1.1\" 200 292860\n"
          ]
        },
        {
          "name": "stdout",
          "output_type": "stream",
          "text": [
            "plus que 219 publications pour completer l'année 2010\n"
          ]
        },
        {
          "name": "stderr",
          "output_type": "stream",
          "text": [
            "DEBUG:urllib3.connectionpool:Starting new HTTPS connection (1): api.openalex.org:443\n",
            "DEBUG:urllib3.connectionpool:https://api.openalex.org:443 \"GET /works?filter=has_doi:true,concepts_count:%3E0,publication_year:2010&sample=200&per-page=200 HTTP/1.1\" 200 300789\n"
          ]
        },
        {
          "name": "stdout",
          "output_type": "stream",
          "text": [
            "plus que 97 publications pour completer l'année 2010\n"
          ]
        },
        {
          "name": "stderr",
          "output_type": "stream",
          "text": [
            "DEBUG:urllib3.connectionpool:Starting new HTTPS connection (1): api.openalex.org:443\n",
            "DEBUG:urllib3.connectionpool:https://api.openalex.org:443 \"GET /works?filter=has_doi:true,concepts_count:%3E0,publication_year:2009&sample=200&per-page=200 HTTP/1.1\" 200 289362\n"
          ]
        },
        {
          "name": "stdout",
          "output_type": "stream",
          "text": [
            "plus que 632 publications pour completer l'année 2009\n"
          ]
        },
        {
          "name": "stderr",
          "output_type": "stream",
          "text": [
            "DEBUG:urllib3.connectionpool:Starting new HTTPS connection (1): api.openalex.org:443\n",
            "DEBUG:urllib3.connectionpool:https://api.openalex.org:443 \"GET /works?filter=has_doi:true,concepts_count:%3E0,publication_year:2009&sample=200&per-page=200 HTTP/1.1\" 200 310326\n"
          ]
        },
        {
          "name": "stdout",
          "output_type": "stream",
          "text": [
            "plus que 520 publications pour completer l'année 2009\n"
          ]
        },
        {
          "name": "stderr",
          "output_type": "stream",
          "text": [
            "DEBUG:urllib3.connectionpool:Starting new HTTPS connection (1): api.openalex.org:443\n",
            "DEBUG:urllib3.connectionpool:https://api.openalex.org:443 \"GET /works?filter=has_doi:true,concepts_count:%3E0,publication_year:2009&sample=200&per-page=200 HTTP/1.1\" 200 279523\n"
          ]
        },
        {
          "name": "stdout",
          "output_type": "stream",
          "text": [
            "plus que 401 publications pour completer l'année 2009\n"
          ]
        },
        {
          "name": "stderr",
          "output_type": "stream",
          "text": [
            "DEBUG:urllib3.connectionpool:Starting new HTTPS connection (1): api.openalex.org:443\n",
            "DEBUG:urllib3.connectionpool:https://api.openalex.org:443 \"GET /works?filter=has_doi:true,concepts_count:%3E0,publication_year:2009&sample=200&per-page=200 HTTP/1.1\" 200 281655\n"
          ]
        },
        {
          "name": "stdout",
          "output_type": "stream",
          "text": [
            "plus que 288 publications pour completer l'année 2009\n"
          ]
        },
        {
          "name": "stderr",
          "output_type": "stream",
          "text": [
            "DEBUG:urllib3.connectionpool:Starting new HTTPS connection (1): api.openalex.org:443\n",
            "DEBUG:urllib3.connectionpool:https://api.openalex.org:443 \"GET /works?filter=has_doi:true,concepts_count:%3E0,publication_year:2009&sample=200&per-page=200 HTTP/1.1\" 200 298559\n"
          ]
        },
        {
          "name": "stdout",
          "output_type": "stream",
          "text": [
            "plus que 171 publications pour completer l'année 2009\n"
          ]
        },
        {
          "name": "stderr",
          "output_type": "stream",
          "text": [
            "DEBUG:urllib3.connectionpool:Starting new HTTPS connection (1): api.openalex.org:443\n",
            "DEBUG:urllib3.connectionpool:https://api.openalex.org:443 \"GET /works?filter=has_doi:true,concepts_count:%3E0,publication_year:2009&sample=200&per-page=200 HTTP/1.1\" 200 285657\n"
          ]
        },
        {
          "name": "stdout",
          "output_type": "stream",
          "text": [
            "plus que 61 publications pour completer l'année 2009\n"
          ]
        },
        {
          "name": "stderr",
          "output_type": "stream",
          "text": [
            "DEBUG:urllib3.connectionpool:Starting new HTTPS connection (1): api.openalex.org:443\n",
            "DEBUG:urllib3.connectionpool:https://api.openalex.org:443 \"GET /works?filter=has_doi:true,concepts_count:%3E0,publication_year:2008&sample=200&per-page=200 HTTP/1.1\" 200 276450\n"
          ]
        },
        {
          "name": "stdout",
          "output_type": "stream",
          "text": [
            "plus que 425 publications pour completer l'année 2008\n"
          ]
        },
        {
          "name": "stderr",
          "output_type": "stream",
          "text": [
            "DEBUG:urllib3.connectionpool:Starting new HTTPS connection (1): api.openalex.org:443\n",
            "DEBUG:urllib3.connectionpool:https://api.openalex.org:443 \"GET /works?filter=has_doi:true,concepts_count:%3E0,publication_year:2008&sample=200&per-page=200 HTTP/1.1\" 200 266363\n"
          ]
        },
        {
          "name": "stdout",
          "output_type": "stream",
          "text": [
            "plus que 313 publications pour completer l'année 2008\n"
          ]
        },
        {
          "name": "stderr",
          "output_type": "stream",
          "text": [
            "DEBUG:urllib3.connectionpool:Starting new HTTPS connection (1): api.openalex.org:443\n",
            "DEBUG:urllib3.connectionpool:https://api.openalex.org:443 \"GET /works?filter=has_doi:true,concepts_count:%3E0,publication_year:2008&sample=200&per-page=200 HTTP/1.1\" 200 285020\n"
          ]
        },
        {
          "name": "stdout",
          "output_type": "stream",
          "text": [
            "plus que 207 publications pour completer l'année 2008\n"
          ]
        },
        {
          "name": "stderr",
          "output_type": "stream",
          "text": [
            "DEBUG:urllib3.connectionpool:Starting new HTTPS connection (1): api.openalex.org:443\n",
            "DEBUG:urllib3.connectionpool:https://api.openalex.org:443 \"GET /works?filter=has_doi:true,concepts_count:%3E0,publication_year:2008&sample=200&per-page=200 HTTP/1.1\" 200 270790\n"
          ]
        },
        {
          "name": "stdout",
          "output_type": "stream",
          "text": [
            "plus que 91 publications pour completer l'année 2008\n"
          ]
        },
        {
          "name": "stderr",
          "output_type": "stream",
          "text": [
            "DEBUG:urllib3.connectionpool:Starting new HTTPS connection (1): api.openalex.org:443\n",
            "DEBUG:urllib3.connectionpool:https://api.openalex.org:443 \"GET /works?filter=has_doi:true,concepts_count:%3E0,publication_year:2007&sample=200&per-page=200 HTTP/1.1\" 200 258942\n"
          ]
        },
        {
          "name": "stdout",
          "output_type": "stream",
          "text": [
            "plus que 344 publications pour completer l'année 2007\n"
          ]
        },
        {
          "name": "stderr",
          "output_type": "stream",
          "text": [
            "DEBUG:urllib3.connectionpool:Starting new HTTPS connection (1): api.openalex.org:443\n",
            "DEBUG:urllib3.connectionpool:https://api.openalex.org:443 \"GET /works?filter=has_doi:true,concepts_count:%3E0,publication_year:2007&sample=200&per-page=200 HTTP/1.1\" 200 257773\n"
          ]
        },
        {
          "name": "stdout",
          "output_type": "stream",
          "text": [
            "plus que 234 publications pour completer l'année 2007\n"
          ]
        },
        {
          "name": "stderr",
          "output_type": "stream",
          "text": [
            "DEBUG:urllib3.connectionpool:Starting new HTTPS connection (1): api.openalex.org:443\n",
            "DEBUG:urllib3.connectionpool:https://api.openalex.org:443 \"GET /works?filter=has_doi:true,concepts_count:%3E0,publication_year:2007&sample=200&per-page=200 HTTP/1.1\" 200 284018\n"
          ]
        },
        {
          "name": "stdout",
          "output_type": "stream",
          "text": [
            "plus que 138 publications pour completer l'année 2007\n"
          ]
        },
        {
          "name": "stderr",
          "output_type": "stream",
          "text": [
            "DEBUG:urllib3.connectionpool:Starting new HTTPS connection (1): api.openalex.org:443\n",
            "DEBUG:urllib3.connectionpool:https://api.openalex.org:443 \"GET /works?filter=has_doi:true,concepts_count:%3E0,publication_year:2007&sample=200&per-page=200 HTTP/1.1\" 200 281901\n"
          ]
        },
        {
          "name": "stdout",
          "output_type": "stream",
          "text": [
            "plus que 28 publications pour completer l'année 2007\n"
          ]
        },
        {
          "name": "stderr",
          "output_type": "stream",
          "text": [
            "DEBUG:urllib3.connectionpool:Starting new HTTPS connection (1): api.openalex.org:443\n",
            "DEBUG:urllib3.connectionpool:https://api.openalex.org:443 \"GET /works?filter=has_doi:true,concepts_count:%3E0,publication_year:2006&sample=200&per-page=200 HTTP/1.1\" 200 281619\n"
          ]
        },
        {
          "name": "stdout",
          "output_type": "stream",
          "text": [
            "plus que 331 publications pour completer l'année 2006\n"
          ]
        },
        {
          "name": "stderr",
          "output_type": "stream",
          "text": [
            "DEBUG:urllib3.connectionpool:Starting new HTTPS connection (1): api.openalex.org:443\n",
            "DEBUG:urllib3.connectionpool:https://api.openalex.org:443 \"GET /works?filter=has_doi:true,concepts_count:%3E0,publication_year:2006&sample=200&per-page=200 HTTP/1.1\" 200 262607\n"
          ]
        },
        {
          "name": "stdout",
          "output_type": "stream",
          "text": [
            "plus que 203 publications pour completer l'année 2006\n"
          ]
        },
        {
          "name": "stderr",
          "output_type": "stream",
          "text": [
            "DEBUG:urllib3.connectionpool:Starting new HTTPS connection (1): api.openalex.org:443\n",
            "DEBUG:urllib3.connectionpool:https://api.openalex.org:443 \"GET /works?filter=has_doi:true,concepts_count:%3E0,publication_year:2006&sample=200&per-page=200 HTTP/1.1\" 200 310604\n"
          ]
        },
        {
          "name": "stdout",
          "output_type": "stream",
          "text": [
            "plus que 91 publications pour completer l'année 2006\n"
          ]
        },
        {
          "name": "stderr",
          "output_type": "stream",
          "text": [
            "DEBUG:urllib3.connectionpool:Starting new HTTPS connection (1): api.openalex.org:443\n",
            "DEBUG:urllib3.connectionpool:https://api.openalex.org:443 \"GET /works?filter=has_doi:true,concepts_count:%3E0,publication_year:2005&sample=200&per-page=200 HTTP/1.1\" 200 277258\n"
          ]
        },
        {
          "name": "stdout",
          "output_type": "stream",
          "text": [
            "plus que 253 publications pour completer l'année 2005\n"
          ]
        },
        {
          "name": "stderr",
          "output_type": "stream",
          "text": [
            "DEBUG:urllib3.connectionpool:Starting new HTTPS connection (1): api.openalex.org:443\n",
            "DEBUG:urllib3.connectionpool:https://api.openalex.org:443 \"GET /works?filter=has_doi:true,concepts_count:%3E0,publication_year:2005&sample=200&per-page=200 HTTP/1.1\" 200 298227\n"
          ]
        },
        {
          "name": "stdout",
          "output_type": "stream",
          "text": [
            "plus que 128 publications pour completer l'année 2005\n"
          ]
        },
        {
          "name": "stderr",
          "output_type": "stream",
          "text": [
            "DEBUG:urllib3.connectionpool:Starting new HTTPS connection (1): api.openalex.org:443\n",
            "DEBUG:urllib3.connectionpool:https://api.openalex.org:443 \"GET /works?filter=has_doi:true,concepts_count:%3E0,publication_year:2005&sample=200&per-page=200 HTTP/1.1\" 200 296231\n"
          ]
        },
        {
          "name": "stdout",
          "output_type": "stream",
          "text": [
            "plus que 15 publications pour completer l'année 2005\n"
          ]
        },
        {
          "name": "stderr",
          "output_type": "stream",
          "text": [
            "DEBUG:urllib3.connectionpool:Starting new HTTPS connection (1): api.openalex.org:443\n",
            "DEBUG:urllib3.connectionpool:https://api.openalex.org:443 \"GET /works?filter=has_doi:true,concepts_count:%3E0,publication_year:2003&sample=200&per-page=200 HTTP/1.1\" 200 260659\n"
          ]
        },
        {
          "name": "stdout",
          "output_type": "stream",
          "text": [
            "plus que 193 publications pour completer l'année 2003\n"
          ]
        },
        {
          "name": "stderr",
          "output_type": "stream",
          "text": [
            "DEBUG:urllib3.connectionpool:Starting new HTTPS connection (1): api.openalex.org:443\n",
            "DEBUG:urllib3.connectionpool:https://api.openalex.org:443 \"GET /works?filter=has_doi:true,concepts_count:%3E0,publication_year:2003&sample=200&per-page=200 HTTP/1.1\" 200 291315\n"
          ]
        },
        {
          "name": "stdout",
          "output_type": "stream",
          "text": [
            "plus que 86 publications pour completer l'année 2003\n"
          ]
        },
        {
          "name": "stderr",
          "output_type": "stream",
          "text": [
            "DEBUG:urllib3.connectionpool:Starting new HTTPS connection (1): api.openalex.org:443\n",
            "DEBUG:urllib3.connectionpool:https://api.openalex.org:443 \"GET /works?filter=has_doi:true,concepts_count:%3E0,publication_year:2004&sample=200&per-page=200 HTTP/1.1\" 200 265305\n"
          ]
        },
        {
          "name": "stdout",
          "output_type": "stream",
          "text": [
            "plus que 165 publications pour completer l'année 2004\n"
          ]
        },
        {
          "name": "stderr",
          "output_type": "stream",
          "text": [
            "DEBUG:urllib3.connectionpool:Starting new HTTPS connection (1): api.openalex.org:443\n",
            "DEBUG:urllib3.connectionpool:https://api.openalex.org:443 \"GET /works?filter=has_doi:true,concepts_count:%3E0,publication_year:2004&sample=200&per-page=200 HTTP/1.1\" 200 279468\n"
          ]
        },
        {
          "name": "stdout",
          "output_type": "stream",
          "text": [
            "plus que 50 publications pour completer l'année 2004\n"
          ]
        },
        {
          "name": "stderr",
          "output_type": "stream",
          "text": [
            "DEBUG:urllib3.connectionpool:Starting new HTTPS connection (1): api.openalex.org:443\n",
            "DEBUG:urllib3.connectionpool:https://api.openalex.org:443 \"GET /works?filter=has_doi:true,concepts_count:%3E0,publication_year:2002&sample=200&per-page=200 HTTP/1.1\" 200 275053\n"
          ]
        },
        {
          "name": "stdout",
          "output_type": "stream",
          "text": [
            "plus que 143 publications pour completer l'année 2002\n"
          ]
        },
        {
          "name": "stderr",
          "output_type": "stream",
          "text": [
            "DEBUG:urllib3.connectionpool:Starting new HTTPS connection (1): api.openalex.org:443\n",
            "DEBUG:urllib3.connectionpool:https://api.openalex.org:443 \"GET /works?filter=has_doi:true,concepts_count:%3E0,publication_year:2002&sample=200&per-page=200 HTTP/1.1\" 200 282661\n"
          ]
        },
        {
          "name": "stdout",
          "output_type": "stream",
          "text": [
            "plus que 30 publications pour completer l'année 2002\n"
          ]
        },
        {
          "name": "stderr",
          "output_type": "stream",
          "text": [
            "DEBUG:urllib3.connectionpool:Starting new HTTPS connection (1): api.openalex.org:443\n",
            "DEBUG:urllib3.connectionpool:https://api.openalex.org:443 \"GET /works?filter=has_doi:true,concepts_count:%3E0,publication_year:2000&sample=200&per-page=200 HTTP/1.1\" 200 248672\n"
          ]
        },
        {
          "name": "stdout",
          "output_type": "stream",
          "text": [
            "plus que 141 publications pour completer l'année 2000\n"
          ]
        },
        {
          "name": "stderr",
          "output_type": "stream",
          "text": [
            "DEBUG:urllib3.connectionpool:Starting new HTTPS connection (1): api.openalex.org:443\n",
            "DEBUG:urllib3.connectionpool:https://api.openalex.org:443 \"GET /works?filter=has_doi:true,concepts_count:%3E0,publication_year:2000&sample=200&per-page=200 HTTP/1.1\" 200 263219\n"
          ]
        },
        {
          "name": "stdout",
          "output_type": "stream",
          "text": [
            "plus que 21 publications pour completer l'année 2000\n"
          ]
        },
        {
          "name": "stderr",
          "output_type": "stream",
          "text": [
            "DEBUG:urllib3.connectionpool:Starting new HTTPS connection (1): api.openalex.org:443\n",
            "DEBUG:urllib3.connectionpool:https://api.openalex.org:443 \"GET /works?filter=has_doi:true,concepts_count:%3E0,publication_year:2001&sample=200&per-page=200 HTTP/1.1\" 200 264283\n"
          ]
        },
        {
          "name": "stdout",
          "output_type": "stream",
          "text": [
            "plus que 136 publications pour completer l'année 2001\n"
          ]
        },
        {
          "name": "stderr",
          "output_type": "stream",
          "text": [
            "DEBUG:urllib3.connectionpool:Starting new HTTPS connection (1): api.openalex.org:443\n",
            "DEBUG:urllib3.connectionpool:https://api.openalex.org:443 \"GET /works?filter=has_doi:true,concepts_count:%3E0,publication_year:2001&sample=200&per-page=200 HTTP/1.1\" 200 293846\n"
          ]
        },
        {
          "name": "stdout",
          "output_type": "stream",
          "text": [
            "plus que 13 publications pour completer l'année 2001\n"
          ]
        },
        {
          "name": "stderr",
          "output_type": "stream",
          "text": [
            "DEBUG:urllib3.connectionpool:Starting new HTTPS connection (1): api.openalex.org:443\n",
            "DEBUG:urllib3.connectionpool:https://api.openalex.org:443 \"GET /works?filter=has_doi:true,concepts_count:%3E0,publication_year:1999&sample=200&per-page=200 HTTP/1.1\" 200 261636\n"
          ]
        },
        {
          "name": "stdout",
          "output_type": "stream",
          "text": [
            "plus que 110 publications pour completer l'année 1999\n"
          ]
        },
        {
          "name": "stderr",
          "output_type": "stream",
          "text": [
            "DEBUG:urllib3.connectionpool:Starting new HTTPS connection (1): api.openalex.org:443\n",
            "DEBUG:urllib3.connectionpool:https://api.openalex.org:443 \"GET /works?filter=has_doi:true,concepts_count:%3E0,publication_year:1998&sample=200&per-page=200 HTTP/1.1\" 200 247170\n"
          ]
        },
        {
          "name": "stdout",
          "output_type": "stream",
          "text": [
            "plus que 79 publications pour completer l'année 1998\n"
          ]
        },
        {
          "name": "stderr",
          "output_type": "stream",
          "text": [
            "DEBUG:urllib3.connectionpool:Starting new HTTPS connection (1): api.openalex.org:443\n",
            "DEBUG:urllib3.connectionpool:https://api.openalex.org:443 \"GET /works?filter=has_doi:true,concepts_count:%3E0,publication_year:2022&sample=200&per-page=200 HTTP/1.1\" 200 355071\n"
          ]
        },
        {
          "name": "stdout",
          "output_type": "stream",
          "text": [
            "plus que 70 publications pour completer l'année 2022\n"
          ]
        },
        {
          "name": "stderr",
          "output_type": "stream",
          "text": [
            "DEBUG:urllib3.connectionpool:Starting new HTTPS connection (1): api.openalex.org:443\n",
            "DEBUG:urllib3.connectionpool:https://api.openalex.org:443 \"GET /works?filter=has_doi:true,concepts_count:%3E0,publication_year:1997&sample=200&per-page=200 HTTP/1.1\" 200 272025\n"
          ]
        },
        {
          "name": "stdout",
          "output_type": "stream",
          "text": [
            "plus que 57 publications pour completer l'année 1997\n"
          ]
        },
        {
          "name": "stderr",
          "output_type": "stream",
          "text": [
            "DEBUG:urllib3.connectionpool:Starting new HTTPS connection (1): api.openalex.org:443\n",
            "DEBUG:urllib3.connectionpool:https://api.openalex.org:443 \"GET /works?filter=has_doi:true,concepts_count:%3E0,publication_year:1996&sample=200&per-page=200 HTTP/1.1\" 200 241965\n"
          ]
        },
        {
          "name": "stdout",
          "output_type": "stream",
          "text": [
            "plus que 56 publications pour completer l'année 1996\n"
          ]
        },
        {
          "name": "stderr",
          "output_type": "stream",
          "text": [
            "DEBUG:urllib3.connectionpool:Starting new HTTPS connection (1): api.openalex.org:443\n",
            "DEBUG:urllib3.connectionpool:https://api.openalex.org:443 \"GET /works?filter=has_doi:true,concepts_count:%3E0,publication_year:1995&sample=200&per-page=200 HTTP/1.1\" 200 239858\n"
          ]
        },
        {
          "name": "stdout",
          "output_type": "stream",
          "text": [
            "plus que 41 publications pour completer l'année 1995\n"
          ]
        },
        {
          "name": "stderr",
          "output_type": "stream",
          "text": [
            "DEBUG:urllib3.connectionpool:Starting new HTTPS connection (1): api.openalex.org:443\n",
            "DEBUG:urllib3.connectionpool:https://api.openalex.org:443 \"GET /works?filter=has_doi:true,concepts_count:%3E0,publication_year:1994&sample=200&per-page=200 HTTP/1.1\" 200 244091\n"
          ]
        },
        {
          "name": "stdout",
          "output_type": "stream",
          "text": [
            "plus que 31 publications pour completer l'année 1994\n"
          ]
        },
        {
          "name": "stderr",
          "output_type": "stream",
          "text": [
            "DEBUG:urllib3.connectionpool:Starting new HTTPS connection (1): api.openalex.org:443\n",
            "DEBUG:urllib3.connectionpool:https://api.openalex.org:443 \"GET /works?filter=has_doi:true,concepts_count:%3E0,publication_year:1991&sample=200&per-page=200 HTTP/1.1\" 200 236107\n"
          ]
        },
        {
          "name": "stdout",
          "output_type": "stream",
          "text": [
            "plus que 25 publications pour completer l'année 1991\n"
          ]
        },
        {
          "name": "stderr",
          "output_type": "stream",
          "text": [
            "DEBUG:urllib3.connectionpool:Starting new HTTPS connection (1): api.openalex.org:443\n",
            "DEBUG:urllib3.connectionpool:https://api.openalex.org:443 \"GET /works?filter=has_doi:true,concepts_count:%3E0,publication_year:1989&sample=200&per-page=200 HTTP/1.1\" 200 225685\n"
          ]
        },
        {
          "name": "stdout",
          "output_type": "stream",
          "text": [
            "plus que 22 publications pour completer l'année 1989\n"
          ]
        },
        {
          "name": "stderr",
          "output_type": "stream",
          "text": [
            "DEBUG:urllib3.connectionpool:Starting new HTTPS connection (1): api.openalex.org:443\n",
            "DEBUG:urllib3.connectionpool:https://api.openalex.org:443 \"GET /works?filter=has_doi:true,concepts_count:%3E0,publication_year:1992&sample=200&per-page=200 HTTP/1.1\" 200 243898\n"
          ]
        },
        {
          "name": "stdout",
          "output_type": "stream",
          "text": [
            "plus que 21 publications pour completer l'année 1992\n"
          ]
        },
        {
          "name": "stderr",
          "output_type": "stream",
          "text": [
            "DEBUG:urllib3.connectionpool:Starting new HTTPS connection (1): api.openalex.org:443\n",
            "DEBUG:urllib3.connectionpool:https://api.openalex.org:443 \"GET /works?filter=has_doi:true,concepts_count:%3E0,publication_year:1993&sample=200&per-page=200 HTTP/1.1\" 200 227372\n"
          ]
        },
        {
          "name": "stdout",
          "output_type": "stream",
          "text": [
            "plus que 20 publications pour completer l'année 1993\n"
          ]
        },
        {
          "name": "stderr",
          "output_type": "stream",
          "text": [
            "DEBUG:urllib3.connectionpool:Starting new HTTPS connection (1): api.openalex.org:443\n",
            "DEBUG:urllib3.connectionpool:https://api.openalex.org:443 \"GET /works?filter=has_doi:true,concepts_count:%3E0,publication_year:1981&sample=200&per-page=200 HTTP/1.1\" 200 208422\n"
          ]
        },
        {
          "name": "stdout",
          "output_type": "stream",
          "text": [
            "plus que 17 publications pour completer l'année 1981\n"
          ]
        },
        {
          "name": "stderr",
          "output_type": "stream",
          "text": [
            "DEBUG:urllib3.connectionpool:Starting new HTTPS connection (1): api.openalex.org:443\n",
            "DEBUG:urllib3.connectionpool:https://api.openalex.org:443 \"GET /works?filter=has_doi:true,concepts_count:%3E0,publication_year:1990&sample=200&per-page=200 HTTP/1.1\" 200 229848\n"
          ]
        },
        {
          "name": "stdout",
          "output_type": "stream",
          "text": [
            "plus que 16 publications pour completer l'année 1990\n"
          ]
        },
        {
          "name": "stderr",
          "output_type": "stream",
          "text": [
            "DEBUG:urllib3.connectionpool:Starting new HTTPS connection (1): api.openalex.org:443\n",
            "DEBUG:urllib3.connectionpool:https://api.openalex.org:443 \"GET /works?filter=has_doi:true,concepts_count:%3E0,publication_year:1976&sample=200&per-page=200 HTTP/1.1\" 200 197758\n"
          ]
        },
        {
          "name": "stdout",
          "output_type": "stream",
          "text": [
            "plus que 16 publications pour completer l'année 1976\n"
          ]
        },
        {
          "name": "stderr",
          "output_type": "stream",
          "text": [
            "DEBUG:urllib3.connectionpool:Starting new HTTPS connection (1): api.openalex.org:443\n",
            "DEBUG:urllib3.connectionpool:https://api.openalex.org:443 \"GET /works?filter=has_doi:true,concepts_count:%3E0,publication_year:1975&sample=200&per-page=200 HTTP/1.1\" 200 203704\n"
          ]
        },
        {
          "name": "stdout",
          "output_type": "stream",
          "text": [
            "plus que 15 publications pour completer l'année 1975\n"
          ]
        },
        {
          "name": "stderr",
          "output_type": "stream",
          "text": [
            "DEBUG:urllib3.connectionpool:Starting new HTTPS connection (1): api.openalex.org:443\n",
            "DEBUG:urllib3.connectionpool:https://api.openalex.org:443 \"GET /works?filter=has_doi:true,concepts_count:%3E0,publication_year:1987&sample=200&per-page=200 HTTP/1.1\" 200 213307\n"
          ]
        },
        {
          "name": "stdout",
          "output_type": "stream",
          "text": [
            "plus que 13 publications pour completer l'année 1987\n"
          ]
        },
        {
          "name": "stderr",
          "output_type": "stream",
          "text": [
            "DEBUG:urllib3.connectionpool:Starting new HTTPS connection (1): api.openalex.org:443\n",
            "DEBUG:urllib3.connectionpool:https://api.openalex.org:443 \"GET /works?filter=has_doi:true,concepts_count:%3E0,publication_year:1985&sample=200&per-page=200 HTTP/1.1\" 200 230914\n"
          ]
        },
        {
          "name": "stdout",
          "output_type": "stream",
          "text": [
            "plus que 13 publications pour completer l'année 1985\n"
          ]
        },
        {
          "name": "stderr",
          "output_type": "stream",
          "text": [
            "DEBUG:urllib3.connectionpool:Starting new HTTPS connection (1): api.openalex.org:443\n",
            "DEBUG:urllib3.connectionpool:https://api.openalex.org:443 \"GET /works?filter=has_doi:true,concepts_count:%3E0,publication_year:1986&sample=200&per-page=200 HTTP/1.1\" 200 222030\n"
          ]
        },
        {
          "name": "stdout",
          "output_type": "stream",
          "text": [
            "plus que 11 publications pour completer l'année 1986\n"
          ]
        },
        {
          "name": "stderr",
          "output_type": "stream",
          "text": [
            "DEBUG:urllib3.connectionpool:Starting new HTTPS connection (1): api.openalex.org:443\n",
            "DEBUG:urllib3.connectionpool:https://api.openalex.org:443 \"GET /works?filter=has_doi:true,concepts_count:%3E0,publication_year:1988&sample=200&per-page=200 HTTP/1.1\" 200 223975\n"
          ]
        },
        {
          "name": "stdout",
          "output_type": "stream",
          "text": [
            "plus que 9 publications pour completer l'année 1988\n"
          ]
        },
        {
          "name": "stderr",
          "output_type": "stream",
          "text": [
            "DEBUG:urllib3.connectionpool:Starting new HTTPS connection (1): api.openalex.org:443\n",
            "DEBUG:urllib3.connectionpool:https://api.openalex.org:443 \"GET /works?filter=has_doi:true,concepts_count:%3E0,publication_year:1980&sample=200&per-page=200 HTTP/1.1\" 200 195152\n"
          ]
        },
        {
          "name": "stdout",
          "output_type": "stream",
          "text": [
            "plus que 8 publications pour completer l'année 1980\n"
          ]
        },
        {
          "name": "stderr",
          "output_type": "stream",
          "text": [
            "DEBUG:urllib3.connectionpool:Starting new HTTPS connection (1): api.openalex.org:443\n",
            "DEBUG:urllib3.connectionpool:https://api.openalex.org:443 \"GET /works?filter=has_doi:true,concepts_count:%3E0,publication_year:1984&sample=200&per-page=200 HTTP/1.1\" 200 217068\n"
          ]
        },
        {
          "name": "stdout",
          "output_type": "stream",
          "text": [
            "plus que 8 publications pour completer l'année 1984\n"
          ]
        },
        {
          "name": "stderr",
          "output_type": "stream",
          "text": [
            "DEBUG:urllib3.connectionpool:Starting new HTTPS connection (1): api.openalex.org:443\n",
            "DEBUG:urllib3.connectionpool:https://api.openalex.org:443 \"GET /works?filter=has_doi:true,concepts_count:%3E0,publication_year:1965&sample=200&per-page=200 HTTP/1.1\" 200 171014\n"
          ]
        },
        {
          "name": "stdout",
          "output_type": "stream",
          "text": [
            "plus que 8 publications pour completer l'année 1965\n"
          ]
        },
        {
          "name": "stderr",
          "output_type": "stream",
          "text": [
            "DEBUG:urllib3.connectionpool:Starting new HTTPS connection (1): api.openalex.org:443\n",
            "DEBUG:urllib3.connectionpool:https://api.openalex.org:443 \"GET /works?filter=has_doi:true,concepts_count:%3E0,publication_year:1982&sample=200&per-page=200 HTTP/1.1\" 200 224352\n"
          ]
        },
        {
          "name": "stdout",
          "output_type": "stream",
          "text": [
            "plus que 7 publications pour completer l'année 1982\n"
          ]
        },
        {
          "name": "stderr",
          "output_type": "stream",
          "text": [
            "DEBUG:urllib3.connectionpool:Starting new HTTPS connection (1): api.openalex.org:443\n",
            "DEBUG:urllib3.connectionpool:https://api.openalex.org:443 \"GET /works?filter=has_doi:true,concepts_count:%3E0,publication_year:1983&sample=200&per-page=200 HTTP/1.1\" 200 205490\n"
          ]
        },
        {
          "name": "stdout",
          "output_type": "stream",
          "text": [
            "plus que 6 publications pour completer l'année 1983\n"
          ]
        },
        {
          "name": "stderr",
          "output_type": "stream",
          "text": [
            "DEBUG:urllib3.connectionpool:Starting new HTTPS connection (1): api.openalex.org:443\n",
            "DEBUG:urllib3.connectionpool:https://api.openalex.org:443 \"GET /works?filter=has_doi:true,concepts_count:%3E0,publication_year:1978&sample=200&per-page=200 HTTP/1.1\" 200 196076\n"
          ]
        },
        {
          "name": "stdout",
          "output_type": "stream",
          "text": [
            "plus que 6 publications pour completer l'année 1978\n"
          ]
        },
        {
          "name": "stderr",
          "output_type": "stream",
          "text": [
            "DEBUG:urllib3.connectionpool:Starting new HTTPS connection (1): api.openalex.org:443\n",
            "DEBUG:urllib3.connectionpool:https://api.openalex.org:443 \"GET /works?filter=has_doi:true,concepts_count:%3E0,publication_year:1977&sample=200&per-page=200 HTTP/1.1\" 200 191954\n"
          ]
        },
        {
          "name": "stdout",
          "output_type": "stream",
          "text": [
            "plus que 6 publications pour completer l'année 1977\n"
          ]
        },
        {
          "name": "stderr",
          "output_type": "stream",
          "text": [
            "DEBUG:urllib3.connectionpool:Starting new HTTPS connection (1): api.openalex.org:443\n",
            "DEBUG:urllib3.connectionpool:https://api.openalex.org:443 \"GET /works?filter=has_doi:true,concepts_count:%3E0,publication_year:1973&sample=200&per-page=200 HTTP/1.1\" 200 200831\n"
          ]
        },
        {
          "name": "stdout",
          "output_type": "stream",
          "text": [
            "plus que 6 publications pour completer l'année 1973\n"
          ]
        },
        {
          "name": "stderr",
          "output_type": "stream",
          "text": [
            "DEBUG:urllib3.connectionpool:Starting new HTTPS connection (1): api.openalex.org:443\n",
            "DEBUG:urllib3.connectionpool:https://api.openalex.org:443 \"GET /works?filter=has_doi:true,concepts_count:%3E0,publication_year:1979&sample=200&per-page=200 HTTP/1.1\" 200 203560\n"
          ]
        },
        {
          "name": "stdout",
          "output_type": "stream",
          "text": [
            "plus que 5 publications pour completer l'année 1979\n"
          ]
        },
        {
          "name": "stderr",
          "output_type": "stream",
          "text": [
            "DEBUG:urllib3.connectionpool:Starting new HTTPS connection (1): api.openalex.org:443\n",
            "DEBUG:urllib3.connectionpool:https://api.openalex.org:443 \"GET /works?filter=has_doi:true,concepts_count:%3E0,publication_year:1970&sample=200&per-page=200 HTTP/1.1\" 200 198621\n"
          ]
        },
        {
          "name": "stdout",
          "output_type": "stream",
          "text": [
            "plus que 4 publications pour completer l'année 1970\n"
          ]
        },
        {
          "name": "stderr",
          "output_type": "stream",
          "text": [
            "DEBUG:urllib3.connectionpool:Starting new HTTPS connection (1): api.openalex.org:443\n",
            "DEBUG:urllib3.connectionpool:https://api.openalex.org:443 \"GET /works?filter=has_doi:true,concepts_count:%3E0,publication_year:1969&sample=200&per-page=200 HTTP/1.1\" 200 200444\n"
          ]
        },
        {
          "name": "stdout",
          "output_type": "stream",
          "text": [
            "plus que 4 publications pour completer l'année 1969\n"
          ]
        },
        {
          "name": "stderr",
          "output_type": "stream",
          "text": [
            "DEBUG:urllib3.connectionpool:Starting new HTTPS connection (1): api.openalex.org:443\n",
            "DEBUG:urllib3.connectionpool:https://api.openalex.org:443 \"GET /works?filter=has_doi:true,concepts_count:%3E0,publication_year:1955&sample=200&per-page=200 HTTP/1.1\" 200 148481\n"
          ]
        },
        {
          "name": "stdout",
          "output_type": "stream",
          "text": [
            "plus que 4 publications pour completer l'année 1955\n"
          ]
        },
        {
          "name": "stderr",
          "output_type": "stream",
          "text": [
            "DEBUG:urllib3.connectionpool:Starting new HTTPS connection (1): api.openalex.org:443\n",
            "DEBUG:urllib3.connectionpool:https://api.openalex.org:443 \"GET /works?filter=has_doi:true,concepts_count:%3E0,publication_year:1961&sample=200&per-page=200 HTTP/1.1\" 200 179141\n"
          ]
        },
        {
          "name": "stdout",
          "output_type": "stream",
          "text": [
            "plus que 4 publications pour completer l'année 1961\n"
          ]
        },
        {
          "name": "stderr",
          "output_type": "stream",
          "text": [
            "DEBUG:urllib3.connectionpool:Starting new HTTPS connection (1): api.openalex.org:443\n",
            "DEBUG:urllib3.connectionpool:https://api.openalex.org:443 \"GET /works?filter=has_doi:true,concepts_count:%3E0,publication_year:1959&sample=200&per-page=200 HTTP/1.1\" 200 158725\n"
          ]
        },
        {
          "name": "stdout",
          "output_type": "stream",
          "text": [
            "plus que 3 publications pour completer l'année 1959\n"
          ]
        },
        {
          "name": "stderr",
          "output_type": "stream",
          "text": [
            "DEBUG:urllib3.connectionpool:Starting new HTTPS connection (1): api.openalex.org:443\n",
            "DEBUG:urllib3.connectionpool:https://api.openalex.org:443 \"GET /works?filter=has_doi:true,concepts_count:%3E0,publication_year:1974&sample=200&per-page=200 HTTP/1.1\" 200 191020\n"
          ]
        },
        {
          "name": "stdout",
          "output_type": "stream",
          "text": [
            "plus que 3 publications pour completer l'année 1974\n"
          ]
        },
        {
          "name": "stderr",
          "output_type": "stream",
          "text": [
            "DEBUG:urllib3.connectionpool:Starting new HTTPS connection (1): api.openalex.org:443\n",
            "DEBUG:urllib3.connectionpool:https://api.openalex.org:443 \"GET /works?filter=has_doi:true,concepts_count:%3E0,publication_year:1950&sample=200&per-page=200 HTTP/1.1\" 200 145717\n"
          ]
        },
        {
          "name": "stdout",
          "output_type": "stream",
          "text": [
            "plus que 3 publications pour completer l'année 1950\n"
          ]
        },
        {
          "name": "stderr",
          "output_type": "stream",
          "text": [
            "DEBUG:urllib3.connectionpool:Starting new HTTPS connection (1): api.openalex.org:443\n",
            "DEBUG:urllib3.connectionpool:https://api.openalex.org:443 \"GET /works?filter=has_doi:true,concepts_count:%3E0,publication_year:1956&sample=200&per-page=200 HTTP/1.1\" 200 161277\n"
          ]
        },
        {
          "name": "stdout",
          "output_type": "stream",
          "text": [
            "plus que 3 publications pour completer l'année 1956\n"
          ]
        },
        {
          "name": "stderr",
          "output_type": "stream",
          "text": [
            "DEBUG:urllib3.connectionpool:Starting new HTTPS connection (1): api.openalex.org:443\n",
            "DEBUG:urllib3.connectionpool:https://api.openalex.org:443 \"GET /works?filter=has_doi:true,concepts_count:%3E0,publication_year:1963&sample=200&per-page=200 HTTP/1.1\" 200 155953\n"
          ]
        },
        {
          "name": "stdout",
          "output_type": "stream",
          "text": [
            "plus que 3 publications pour completer l'année 1963\n"
          ]
        },
        {
          "name": "stderr",
          "output_type": "stream",
          "text": [
            "DEBUG:urllib3.connectionpool:Starting new HTTPS connection (1): api.openalex.org:443\n",
            "DEBUG:urllib3.connectionpool:https://api.openalex.org:443 \"GET /works?filter=has_doi:true,concepts_count:%3E0,publication_year:1957&sample=200&per-page=200 HTTP/1.1\" 200 156157\n"
          ]
        },
        {
          "name": "stdout",
          "output_type": "stream",
          "text": [
            "plus que 3 publications pour completer l'année 1957\n"
          ]
        },
        {
          "name": "stderr",
          "output_type": "stream",
          "text": [
            "DEBUG:urllib3.connectionpool:Starting new HTTPS connection (1): api.openalex.org:443\n",
            "DEBUG:urllib3.connectionpool:https://api.openalex.org:443 \"GET /works?filter=has_doi:true,concepts_count:%3E0,publication_year:1960&sample=200&per-page=200 HTTP/1.1\" 200 161209\n"
          ]
        },
        {
          "name": "stdout",
          "output_type": "stream",
          "text": [
            "plus que 3 publications pour completer l'année 1960\n"
          ]
        },
        {
          "name": "stderr",
          "output_type": "stream",
          "text": [
            "DEBUG:urllib3.connectionpool:Starting new HTTPS connection (1): api.openalex.org:443\n",
            "DEBUG:urllib3.connectionpool:https://api.openalex.org:443 \"GET /works?filter=has_doi:true,concepts_count:%3E0,publication_year:1905&sample=200&per-page=200 HTTP/1.1\" 200 99602\n"
          ]
        },
        {
          "name": "stdout",
          "output_type": "stream",
          "text": [
            "plus que 2 publications pour completer l'année 1905\n"
          ]
        },
        {
          "name": "stderr",
          "output_type": "stream",
          "text": [
            "DEBUG:urllib3.connectionpool:Starting new HTTPS connection (1): api.openalex.org:443\n",
            "DEBUG:urllib3.connectionpool:https://api.openalex.org:443 \"GET /works?filter=has_doi:true,concepts_count:%3E0,publication_year:1951&sample=200&per-page=200 HTTP/1.1\" 200 153061\n"
          ]
        },
        {
          "name": "stdout",
          "output_type": "stream",
          "text": [
            "plus que 2 publications pour completer l'année 1951\n"
          ]
        },
        {
          "name": "stderr",
          "output_type": "stream",
          "text": [
            "DEBUG:urllib3.connectionpool:Starting new HTTPS connection (1): api.openalex.org:443\n",
            "DEBUG:urllib3.connectionpool:https://api.openalex.org:443 \"GET /works?filter=has_doi:true,concepts_count:%3E0,publication_year:1949&sample=200&per-page=200 HTTP/1.1\" 200 165954\n"
          ]
        },
        {
          "name": "stdout",
          "output_type": "stream",
          "text": [
            "plus que 2 publications pour completer l'année 1949\n"
          ]
        },
        {
          "name": "stderr",
          "output_type": "stream",
          "text": [
            "DEBUG:urllib3.connectionpool:Starting new HTTPS connection (1): api.openalex.org:443\n",
            "DEBUG:urllib3.connectionpool:https://api.openalex.org:443 \"GET /works?filter=has_doi:true,concepts_count:%3E0,publication_year:1966&sample=200&per-page=200 HTTP/1.1\" 200 176499\n"
          ]
        },
        {
          "name": "stdout",
          "output_type": "stream",
          "text": [
            "plus que 2 publications pour completer l'année 1966\n"
          ]
        },
        {
          "name": "stderr",
          "output_type": "stream",
          "text": [
            "DEBUG:urllib3.connectionpool:Starting new HTTPS connection (1): api.openalex.org:443\n",
            "DEBUG:urllib3.connectionpool:https://api.openalex.org:443 \"GET /works?filter=has_doi:true,concepts_count:%3E0,publication_year:1971&sample=200&per-page=200 HTTP/1.1\" 200 204534\n"
          ]
        },
        {
          "name": "stdout",
          "output_type": "stream",
          "text": [
            "plus que 2 publications pour completer l'année 1971\n"
          ]
        },
        {
          "name": "stderr",
          "output_type": "stream",
          "text": [
            "DEBUG:urllib3.connectionpool:Starting new HTTPS connection (1): api.openalex.org:443\n",
            "DEBUG:urllib3.connectionpool:https://api.openalex.org:443 \"GET /works?filter=has_doi:true,concepts_count:%3E0,publication_year:1972&sample=200&per-page=200 HTTP/1.1\" 200 179294\n"
          ]
        },
        {
          "name": "stdout",
          "output_type": "stream",
          "text": [
            "plus que 2 publications pour completer l'année 1972\n"
          ]
        },
        {
          "name": "stderr",
          "output_type": "stream",
          "text": [
            "DEBUG:urllib3.connectionpool:Starting new HTTPS connection (1): api.openalex.org:443\n",
            "DEBUG:urllib3.connectionpool:https://api.openalex.org:443 \"GET /works?filter=has_doi:true,concepts_count:%3E0,publication_year:1964&sample=200&per-page=200 HTTP/1.1\" 200 165777\n"
          ]
        },
        {
          "name": "stdout",
          "output_type": "stream",
          "text": [
            "plus que 2 publications pour completer l'année 1964\n"
          ]
        },
        {
          "name": "stderr",
          "output_type": "stream",
          "text": [
            "DEBUG:urllib3.connectionpool:Starting new HTTPS connection (1): api.openalex.org:443\n",
            "DEBUG:urllib3.connectionpool:https://api.openalex.org:443 \"GET /works?filter=has_doi:true,concepts_count:%3E0,publication_year:1962&sample=200&per-page=200 HTTP/1.1\" 200 166280\n"
          ]
        },
        {
          "name": "stdout",
          "output_type": "stream",
          "text": [
            "plus que 1 publications pour completer l'année 1962\n"
          ]
        },
        {
          "name": "stderr",
          "output_type": "stream",
          "text": [
            "DEBUG:urllib3.connectionpool:Starting new HTTPS connection (1): api.openalex.org:443\n",
            "DEBUG:urllib3.connectionpool:https://api.openalex.org:443 \"GET /works?filter=has_doi:true,concepts_count:%3E0,publication_year:1914&sample=200&per-page=200 HTTP/1.1\" 200 112548\n"
          ]
        },
        {
          "name": "stdout",
          "output_type": "stream",
          "text": [
            "plus que 1 publications pour completer l'année 1914\n"
          ]
        },
        {
          "name": "stderr",
          "output_type": "stream",
          "text": [
            "DEBUG:urllib3.connectionpool:Starting new HTTPS connection (1): api.openalex.org:443\n",
            "DEBUG:urllib3.connectionpool:https://api.openalex.org:443 \"GET /works?filter=has_doi:true,concepts_count:%3E0,publication_year:1861&sample=200&per-page=200 HTTP/1.1\" 200 82515\n"
          ]
        },
        {
          "name": "stdout",
          "output_type": "stream",
          "text": [
            "plus que 1 publications pour completer l'année 1861\n"
          ]
        },
        {
          "name": "stderr",
          "output_type": "stream",
          "text": [
            "DEBUG:urllib3.connectionpool:Starting new HTTPS connection (1): api.openalex.org:443\n",
            "DEBUG:urllib3.connectionpool:https://api.openalex.org:443 \"GET /works?filter=has_doi:true,concepts_count:%3E0,publication_year:1889&sample=200&per-page=200 HTTP/1.1\" 200 102533\n"
          ]
        },
        {
          "name": "stdout",
          "output_type": "stream",
          "text": [
            "plus que 1 publications pour completer l'année 1889\n"
          ]
        },
        {
          "name": "stderr",
          "output_type": "stream",
          "text": [
            "DEBUG:urllib3.connectionpool:Starting new HTTPS connection (1): api.openalex.org:443\n",
            "DEBUG:urllib3.connectionpool:https://api.openalex.org:443 \"GET /works?filter=has_doi:true,concepts_count:%3E0,publication_year:1893&sample=200&per-page=200 HTTP/1.1\" 200 98867\n"
          ]
        },
        {
          "name": "stdout",
          "output_type": "stream",
          "text": [
            "plus que 1 publications pour completer l'année 1893\n"
          ]
        },
        {
          "name": "stderr",
          "output_type": "stream",
          "text": [
            "DEBUG:urllib3.connectionpool:Starting new HTTPS connection (1): api.openalex.org:443\n",
            "DEBUG:urllib3.connectionpool:https://api.openalex.org:443 \"GET /works?filter=has_doi:true,concepts_count:%3E0,publication_year:1896&sample=200&per-page=200 HTTP/1.1\" 200 92327\n"
          ]
        },
        {
          "name": "stdout",
          "output_type": "stream",
          "text": [
            "plus que 1 publications pour completer l'année 1896\n"
          ]
        },
        {
          "name": "stderr",
          "output_type": "stream",
          "text": [
            "DEBUG:urllib3.connectionpool:Starting new HTTPS connection (1): api.openalex.org:443\n",
            "DEBUG:urllib3.connectionpool:https://api.openalex.org:443 \"GET /works?filter=has_doi:true,concepts_count:%3E0,publication_year:1897&sample=200&per-page=200 HTTP/1.1\" 200 105809\n"
          ]
        },
        {
          "name": "stdout",
          "output_type": "stream",
          "text": [
            "plus que 1 publications pour completer l'année 1897\n"
          ]
        },
        {
          "name": "stderr",
          "output_type": "stream",
          "text": [
            "DEBUG:urllib3.connectionpool:Starting new HTTPS connection (1): api.openalex.org:443\n",
            "DEBUG:urllib3.connectionpool:https://api.openalex.org:443 \"GET /works?filter=has_doi:true,concepts_count:%3E0,publication_year:1898&sample=200&per-page=200 HTTP/1.1\" 200 96142\n"
          ]
        },
        {
          "name": "stdout",
          "output_type": "stream",
          "text": [
            "plus que 1 publications pour completer l'année 1898\n"
          ]
        },
        {
          "name": "stderr",
          "output_type": "stream",
          "text": [
            "DEBUG:urllib3.connectionpool:Starting new HTTPS connection (1): api.openalex.org:443\n",
            "DEBUG:urllib3.connectionpool:https://api.openalex.org:443 \"GET /works?filter=has_doi:true,concepts_count:%3E0,publication_year:1900&sample=200&per-page=200 HTTP/1.1\" 200 104477\n"
          ]
        },
        {
          "name": "stdout",
          "output_type": "stream",
          "text": [
            "plus que 1 publications pour completer l'année 1900\n"
          ]
        },
        {
          "name": "stderr",
          "output_type": "stream",
          "text": [
            "DEBUG:urllib3.connectionpool:Starting new HTTPS connection (1): api.openalex.org:443\n",
            "DEBUG:urllib3.connectionpool:https://api.openalex.org:443 \"GET /works?filter=has_doi:true,concepts_count:%3E0,publication_year:1901&sample=200&per-page=200 HTTP/1.1\" 200 107247\n"
          ]
        },
        {
          "name": "stdout",
          "output_type": "stream",
          "text": [
            "plus que 1 publications pour completer l'année 1901\n"
          ]
        },
        {
          "name": "stderr",
          "output_type": "stream",
          "text": [
            "DEBUG:urllib3.connectionpool:Starting new HTTPS connection (1): api.openalex.org:443\n",
            "DEBUG:urllib3.connectionpool:https://api.openalex.org:443 \"GET /works?filter=has_doi:true,concepts_count:%3E0,publication_year:1909&sample=200&per-page=200 HTTP/1.1\" 200 98835\n"
          ]
        },
        {
          "name": "stdout",
          "output_type": "stream",
          "text": [
            "plus que 1 publications pour completer l'année 1909\n"
          ]
        },
        {
          "name": "stderr",
          "output_type": "stream",
          "text": [
            "DEBUG:urllib3.connectionpool:Starting new HTTPS connection (1): api.openalex.org:443\n",
            "DEBUG:urllib3.connectionpool:https://api.openalex.org:443 \"GET /works?filter=has_doi:true,concepts_count:%3E0,publication_year:1925&sample=200&per-page=200 HTTP/1.1\" 200 114590\n"
          ]
        },
        {
          "name": "stdout",
          "output_type": "stream",
          "text": [
            "plus que 1 publications pour completer l'année 1925\n"
          ]
        },
        {
          "name": "stderr",
          "output_type": "stream",
          "text": [
            "DEBUG:urllib3.connectionpool:Starting new HTTPS connection (1): api.openalex.org:443\n",
            "DEBUG:urllib3.connectionpool:https://api.openalex.org:443 \"GET /works?filter=has_doi:true,concepts_count:%3E0,publication_year:1921&sample=200&per-page=200 HTTP/1.1\" 200 120721\n"
          ]
        },
        {
          "name": "stdout",
          "output_type": "stream",
          "text": [
            "plus que 1 publications pour completer l'année 1921\n"
          ]
        },
        {
          "name": "stderr",
          "output_type": "stream",
          "text": [
            "DEBUG:urllib3.connectionpool:Starting new HTTPS connection (1): api.openalex.org:443\n",
            "DEBUG:urllib3.connectionpool:https://api.openalex.org:443 \"GET /works?filter=has_doi:true,concepts_count:%3E0,publication_year:1929&sample=200&per-page=200 HTTP/1.1\" 200 128924\n"
          ]
        },
        {
          "name": "stdout",
          "output_type": "stream",
          "text": [
            "plus que 1 publications pour completer l'année 1929\n"
          ]
        },
        {
          "name": "stderr",
          "output_type": "stream",
          "text": [
            "DEBUG:urllib3.connectionpool:Starting new HTTPS connection (1): api.openalex.org:443\n",
            "DEBUG:urllib3.connectionpool:https://api.openalex.org:443 \"GET /works?filter=has_doi:true,concepts_count:%3E0,publication_year:1933&sample=200&per-page=200 HTTP/1.1\" 200 114265\n"
          ]
        },
        {
          "name": "stdout",
          "output_type": "stream",
          "text": [
            "plus que 1 publications pour completer l'année 1933\n"
          ]
        },
        {
          "name": "stderr",
          "output_type": "stream",
          "text": [
            "DEBUG:urllib3.connectionpool:Starting new HTTPS connection (1): api.openalex.org:443\n",
            "DEBUG:urllib3.connectionpool:https://api.openalex.org:443 \"GET /works?filter=has_doi:true,concepts_count:%3E0,publication_year:1934&sample=200&per-page=200 HTTP/1.1\" 200 117316\n"
          ]
        },
        {
          "name": "stdout",
          "output_type": "stream",
          "text": [
            "plus que 1 publications pour completer l'année 1934\n"
          ]
        },
        {
          "name": "stderr",
          "output_type": "stream",
          "text": [
            "DEBUG:urllib3.connectionpool:Starting new HTTPS connection (1): api.openalex.org:443\n",
            "DEBUG:urllib3.connectionpool:https://api.openalex.org:443 \"GET /works?filter=has_doi:true,concepts_count:%3E0,publication_year:1935&sample=200&per-page=200 HTTP/1.1\" 200 115003\n"
          ]
        },
        {
          "name": "stdout",
          "output_type": "stream",
          "text": [
            "plus que 1 publications pour completer l'année 1935\n"
          ]
        },
        {
          "name": "stderr",
          "output_type": "stream",
          "text": [
            "DEBUG:urllib3.connectionpool:Starting new HTTPS connection (1): api.openalex.org:443\n",
            "DEBUG:urllib3.connectionpool:https://api.openalex.org:443 \"GET /works?filter=has_doi:true,concepts_count:%3E0,publication_year:1936&sample=200&per-page=200 HTTP/1.1\" 200 128618\n"
          ]
        },
        {
          "name": "stdout",
          "output_type": "stream",
          "text": [
            "plus que 1 publications pour completer l'année 1936\n"
          ]
        },
        {
          "name": "stderr",
          "output_type": "stream",
          "text": [
            "DEBUG:urllib3.connectionpool:Starting new HTTPS connection (1): api.openalex.org:443\n",
            "DEBUG:urllib3.connectionpool:https://api.openalex.org:443 \"GET /works?filter=has_doi:true,concepts_count:%3E0,publication_year:1938&sample=200&per-page=200 HTTP/1.1\" 200 122785\n"
          ]
        },
        {
          "name": "stdout",
          "output_type": "stream",
          "text": [
            "plus que 1 publications pour completer l'année 1938\n"
          ]
        },
        {
          "name": "stderr",
          "output_type": "stream",
          "text": [
            "DEBUG:urllib3.connectionpool:Starting new HTTPS connection (1): api.openalex.org:443\n",
            "DEBUG:urllib3.connectionpool:https://api.openalex.org:443 \"GET /works?filter=has_doi:true,concepts_count:%3E0,publication_year:1946&sample=200&per-page=200 HTTP/1.1\" 200 145558\n"
          ]
        },
        {
          "name": "stdout",
          "output_type": "stream",
          "text": [
            "plus que 1 publications pour completer l'année 1946\n"
          ]
        },
        {
          "name": "stderr",
          "output_type": "stream",
          "text": [
            "DEBUG:urllib3.connectionpool:Starting new HTTPS connection (1): api.openalex.org:443\n",
            "DEBUG:urllib3.connectionpool:https://api.openalex.org:443 \"GET /works?filter=has_doi:true,concepts_count:%3E0,publication_year:1735&sample=200&per-page=200 HTTP/1.1\" 200 73039\n"
          ]
        },
        {
          "name": "stdout",
          "output_type": "stream",
          "text": [
            "plus que 1 publications pour completer l'année 1735\n"
          ]
        },
        {
          "name": "stderr",
          "output_type": "stream",
          "text": [
            "DEBUG:urllib3.connectionpool:Starting new HTTPS connection (1): api.openalex.org:443\n",
            "DEBUG:urllib3.connectionpool:https://api.openalex.org:443 \"GET /works?filter=has_doi:true,concepts_count:%3E0,publication_year:1967&sample=200&per-page=200 HTTP/1.1\" 200 167463\n"
          ]
        },
        {
          "name": "stdout",
          "output_type": "stream",
          "text": [
            "plus que 1 publications pour completer l'année 1967\n"
          ]
        },
        {
          "name": "stderr",
          "output_type": "stream",
          "text": [
            "DEBUG:urllib3.connectionpool:Starting new HTTPS connection (1): api.openalex.org:443\n",
            "DEBUG:urllib3.connectionpool:https://api.openalex.org:443 \"GET /works?filter=has_doi:true,concepts_count:%3E0,publication_year:1954&sample=200&per-page=200 HTTP/1.1\" 200 154769\n"
          ]
        },
        {
          "name": "stdout",
          "output_type": "stream",
          "text": [
            "plus que 1 publications pour completer l'année 1954\n"
          ]
        },
        {
          "name": "stderr",
          "output_type": "stream",
          "text": [
            "DEBUG:urllib3.connectionpool:Starting new HTTPS connection (1): api.openalex.org:443\n",
            "DEBUG:urllib3.connectionpool:https://api.openalex.org:443 \"GET /works?filter=has_doi:true,concepts_count:%3E0,publication_year:1686&sample=200&per-page=200 HTTP/1.1\" 200 62858\n"
          ]
        },
        {
          "name": "stdout",
          "output_type": "stream",
          "text": [
            "plus que 1 publications pour completer l'année 1686\n"
          ]
        }
      ],
      "source": [
        "for year in list(year_counts.keys()):   \n",
        "    cached_openalex_data_not_ipcc[year]=[]\n",
        "    year_counts_not_ipcc[year]=0\n",
        "    while year_counts_not_ipcc[year]<year_counts[year]:\n",
        "        get_open_alex_data_not_in_references(dois,cached_openalex_data_not_ipcc,year_counts,year_counts_not_ipcc,year)\n",
        "    cached_openalex_data_not_ipcc[year]=cached_openalex_data_not_ipcc[year][:year_counts[year]]"
      ]
    },
    {
      "cell_type": "code",
      "execution_count": 14,
      "id": "21ed9a3f",
      "metadata": {},
      "outputs": [],
      "source": [
        "for year in list(year_counts.keys()):   \n",
        "    cached_openalex_data_not_ipcc[year]=cached_openalex_data_not_ipcc[year][:year_counts[year]]"
      ]
    },
    {
      "cell_type": "code",
      "execution_count": 15,
      "id": "f0b7b027",
      "metadata": {},
      "outputs": [],
      "source": [
        "write_cache(cached_openalex_data_not_ipcc,module_path+'\\\\IPCC_bibliography\\\\AR6\\\\structured_data\\\\caches\\\\cached_openalex_data_not_ipcc.pkl')"
      ]
    },
    {
      "cell_type": "code",
      "execution_count": 18,
      "id": "198f23bc",
      "metadata": {},
      "outputs": [],
      "source": [
        "df_not_ipcc=pd.DataFrame()\n",
        "countries_list = []\n",
        "concepts_list = []\n",
        "sdg_list = []\n",
        "topics_list = []\n",
        "is_OA_available_list=[]\n",
        "title_list=[]\n",
        "year_list=[]\n",
        "names_list=[]\n",
        "rors_list=[]\n",
        "institutions_names_list=[]\n",
        "locations_list=[]\n",
        "doi_list=[]\n",
        "locations_id_list=[]\n",
        "type_list=[]\n",
        "type_crossref_list=[]\n",
        "\n",
        "\n",
        "for k in range(len(aplatir(list(cached_openalex_data_not_ipcc.values())))):\n",
        "    countries,concepts,sdg,year,topics,doi,bool_OA,title,name,rors,institutions_names,locations_names,locations_id,type_OA,type_crossref=get_countries_concepts_sdg(cached_openalex_data=aplatir(list(cached_openalex_data_not_ipcc.values())),ipcc=False,i=k)\n",
        "\n",
        "    doi_list.append(doi)\n",
        "    countries_list.append(countries)\n",
        "    concepts_list.append(concepts)\n",
        "    sdg_list.append(sdg)\n",
        "    topics_list.append(topics)\n",
        "    is_OA_available_list.append(bool_OA)\n",
        "    title_list.append(title)\n",
        "    year_list.append(year)\n",
        "    names_list.append(name)\n",
        "    rors_list.append(rors)\n",
        "    institutions_names_list.append(institutions_names)\n",
        "    locations_list.append(locations_names)\n",
        "    locations_id_list.append(locations_id)\n",
        "    type_list.append(type_OA)\n",
        "    type_crossref_list.append(type_crossref)\n",
        "    \n",
        "df_not_ipcc['doi'] = doi_list\n",
        "df_not_ipcc['countries'] = countries_list\n",
        "df_not_ipcc['concepts'] = concepts_list\n",
        "df_not_ipcc['sdg'] = sdg_list\n",
        "df_not_ipcc['topics'] = topics_list\n",
        "df_not_ipcc['is_OA_available'] = is_OA_available_list\n",
        "df_not_ipcc['title'] = title_list\n",
        "df_not_ipcc['year'] = year_list\n",
        "df_not_ipcc['authors_name'] = names_list\n",
        "df_not_ipcc['rors'] = rors_list\n",
        "df_not_ipcc['institutions_names'] = institutions_names_list\n",
        "df_not_ipcc['locations_names'] = locations_list\n",
        "df_not_ipcc['locations_ids'] = locations_id_list\n",
        "df_not_ipcc['type'] = type_list\n",
        "df_not_ipcc['type_crossref'] = type_crossref_list"
      ]
    },
    {
      "cell_type": "code",
      "execution_count": 19,
      "id": "0c2b7946",
      "metadata": {},
      "outputs": [
        {
          "data": {
            "text/plain": [
              "48099"
            ]
          },
          "execution_count": 19,
          "metadata": {},
          "output_type": "execute_result"
        }
      ],
      "source": [
        "len(df_not_ipcc.dropna(subset=['year','doi', 'title','topics','locations_names','locations_ids']))"
      ]
    },
    {
      "cell_type": "code",
      "execution_count": 26,
      "id": "4d3fa9e8",
      "metadata": {},
      "outputs": [
        {
          "data": {
            "text/html": [
              "<div>\n",
              "<style scoped>\n",
              "    .dataframe tbody tr th:only-of-type {\n",
              "        vertical-align: middle;\n",
              "    }\n",
              "\n",
              "    .dataframe tbody tr th {\n",
              "        vertical-align: top;\n",
              "    }\n",
              "\n",
              "    .dataframe thead th {\n",
              "        text-align: right;\n",
              "    }\n",
              "</style>\n",
              "<table border=\"1\" class=\"dataframe\">\n",
              "  <thead>\n",
              "    <tr style=\"text-align: right;\">\n",
              "      <th></th>\n",
              "      <th>year</th>\n",
              "      <th>doi</th>\n",
              "      <th>title</th>\n",
              "      <th>topics</th>\n",
              "      <th>locations_names</th>\n",
              "      <th>locations_ids</th>\n",
              "    </tr>\n",
              "  </thead>\n",
              "  <tbody>\n",
              "    <tr>\n",
              "      <th>20565</th>\n",
              "      <td>2017</td>\n",
              "      <td>https://doi.org/10.1136/bmjspcare-2017-00133.42</td>\n",
              "      <td>P-42 Injectable medication at the end of life:...</td>\n",
              "      <td>[Palliative Care and End-of-Life Issues, Pharm...</td>\n",
              "      <td>Poster presentations</td>\n",
              "      <td>None</td>\n",
              "    </tr>\n",
              "    <tr>\n",
              "      <th>24351</th>\n",
              "      <td>2017</td>\n",
              "      <td>https://doi.org/10.1136/bmjspcare-2017-00133.60</td>\n",
              "      <td>P-60 A pilot survey of educational and develop...</td>\n",
              "      <td>[Primary Care and Health Outcomes, Palliative ...</td>\n",
              "      <td>Poster presentations</td>\n",
              "      <td>None</td>\n",
              "    </tr>\n",
              "  </tbody>\n",
              "</table>\n",
              "</div>"
            ],
            "text/plain": [
              "       year                                              doi  \\\n",
              "20565  2017  https://doi.org/10.1136/bmjspcare-2017-00133.42   \n",
              "24351  2017  https://doi.org/10.1136/bmjspcare-2017-00133.60   \n",
              "\n",
              "                                                   title  \\\n",
              "20565  P-42 Injectable medication at the end of life:...   \n",
              "24351  P-60 A pilot survey of educational and develop...   \n",
              "\n",
              "                                                  topics  \\\n",
              "20565  [Palliative Care and End-of-Life Issues, Pharm...   \n",
              "24351  [Primary Care and Health Outcomes, Palliative ...   \n",
              "\n",
              "            locations_names locations_ids  \n",
              "20565  Poster presentations          None  \n",
              "24351  Poster presentations          None  "
            ]
          },
          "execution_count": 26,
          "metadata": {},
          "output_type": "execute_result"
        }
      ],
      "source": [
        "df_not_ipcc[df_not_ipcc[['year', 'doi', 'title', 'topics', 'locations_names', 'locations_ids']].isna().any(axis=1)][['year', 'doi', 'title', 'topics', 'locations_names', 'locations_ids']]"
      ]
    },
    {
      "cell_type": "code",
      "execution_count": 20,
      "id": "036861ff",
      "metadata": {},
      "outputs": [
        {
          "data": {
            "text/plain": [
              "48101"
            ]
          },
          "execution_count": 20,
          "metadata": {},
          "output_type": "execute_result"
        }
      ],
      "source": [
        "len(aplatir(list(cached_openalex_data_not_ipcc.values())))"
      ]
    },
    {
      "cell_type": "code",
      "execution_count": null,
      "id": "2b9f6ebd",
      "metadata": {},
      "outputs": [],
      "source": [
        "len(df_ipcc.dropna(subset=['year','doi', 'title','topics','locations_names','locations_ids']))"
      ]
    },
    {
      "cell_type": "code",
      "execution_count": null,
      "id": "0bda9b04",
      "metadata": {},
      "outputs": [],
      "source": [
        "df_not_ipcc.to_json(module_path+f'\\\\IPCC_bibliography\\\\AR6\\\\structured_data\\\\data_model_ipcc\\\\data_not_ipcc.jsonl', orient='records', lines= True)"
      ]
    }
  ],
  "metadata": {
    "kernelspec": {
      "display_name": "tf",
      "language": "python",
      "name": "python3"
    },
    "language_info": {
      "codemirror_mode": {
        "name": "ipython",
        "version": 3
      },
      "file_extension": ".py",
      "mimetype": "text/x-python",
      "name": "python",
      "nbconvert_exporter": "python",
      "pygments_lexer": "ipython3",
      "version": "3.10.13"
    }
  },
  "nbformat": 4,
  "nbformat_minor": 5
}
