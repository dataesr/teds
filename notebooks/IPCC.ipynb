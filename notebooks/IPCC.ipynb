{
 "cells": [
  {
   "cell_type": "code",
   "execution_count": null,
   "id": "7f4a48e7",
   "metadata": {},
   "outputs": [],
   "source": [
    "import os\n",
    "import sys\n",
    "import pandas as pd\n",
    "import matplotlib.pyplot as plt\n",
    "\n",
    "module_path = os.path.abspath(os.path.join('..'))\n",
    "if module_path not in sys.path:\n",
    "    sys.path.append(module_path)\n",
    "from code_utils.read_ipcc_bib import read_bib_wg\n",
    "from code_utils.enriching_data_OpenAlex import get_countries_concepts_sdg,get_open_alex_data,get_open_alex_data_not_in_references\n",
    "from code_utils.utils import aplatir,wg_chap_to_dict,get_doi_cleaned,check_doi_glutton,get_year_ipcc\n",
    "from code_utils.pickle import load_cache,write_cache"
   ]
  },
  {
   "cell_type": "code",
   "execution_count": null,
   "id": "d8613600",
   "metadata": {},
   "outputs": [],
   "source": [
    "cached_openalex_data = {}\n",
    "cached_openalex_data_not_ipcc = {}"
   ]
  },
  {
   "cell_type": "code",
   "execution_count": null,
   "id": "0b48c157",
   "metadata": {},
   "outputs": [],
   "source": [
    "try:\n",
    "    cached_openalex_data = load_cache(cached_openalex_data,module_path+'\\\\IPCC_bibliography\\\\AR6\\\\structured_data\\\\caches\\\\cached_openalex_data.pkl')\n",
    "    cached_openalex_data_not_ipcc = load_cache(cached_openalex_data_not_ipcc,module_path+'\\\\IPCC_bibliography\\\\AR6\\\\structured_data\\\\caches\\\\cached_openalex_data_not_ipcc.pkl')\n",
    "except:\n",
    "    #write_cache(cached_openalex_data,module_path+'\\\\IPCC_bibliography\\\\AR6\\\\structured_data\\\\caches\\\\cached_openalex_data.pkl')\n",
    "    #write_cache(cached_openalex_data_not_ipcc,module_path+'\\\\IPCC_bibliography\\\\AR6\\\\structured_data\\\\caches\\\\cached_openalex_data_not_ipcc.pkl')\n",
    "    print('oups not in bibliography folder')"
   ]
  },
  {
   "cell_type": "markdown",
   "id": "db6ea8c1",
   "metadata": {},
   "source": [
    "Read IPCC references in .bib files"
   ]
  },
  {
   "cell_type": "code",
   "execution_count": null,
   "id": "acf01178",
   "metadata": {},
   "outputs": [],
   "source": [
    "wgs={'1':{'wg1':[], 'dataframes_1':{}, 'listdir1':['IPCC_AR6_WGI_References_Chapter01.bib',\n",
    " 'IPCC_AR6_WGI_References_Chapter02.bib',\n",
    " 'IPCC_AR6_WGI_References_Chapter03.bib',\n",
    " 'IPCC_AR6_WGI_References_Chapter04.bib',\n",
    " 'IPCC_AR6_WGI_References_Chapter05.bib',\n",
    " 'IPCC_AR6_WGI_References_Chapter06.bib',\n",
    " 'IPCC_AR6_WGI_References_Chapter07.bib',\n",
    " 'IPCC_AR6_WGI_References_Chapter08.bib',\n",
    " 'IPCC_AR6_WGI_References_Chapter09.bib',\n",
    " 'IPCC_AR6_WGI_References_Chapter10.bib',\n",
    " 'IPCC_AR6_WGI_References_Chapter11.bib',\n",
    " 'IPCC_AR6_WGI_References_Chapter12.bib']},\n",
    "     '2':{'wg2':[], 'wg2_update':[], 'dataframes_2':{}, 'listdir2':os.listdir(module_path+f\"\\\\IPCC_bibliography\\\\AR6\\\\WG2\")},\n",
    "     '2_CROSS':{'wg2_CROSS':[], 'wg2_CROSS_update':[], 'dataframes_2_CROSS':{}, 'listdir2_CROSS':os.listdir(module_path+f\"\\\\IPCC_bibliography\\\\AR6\\\\WG2_CROSS\")},\n",
    "     '3':{'wg3':[], 'dataframes_3':{}, 'listdir3':os.listdir(module_path+f\"\\\\IPCC_bibliography\\\\AR6\\\\WG3\")}}"
   ]
  },
  {
   "cell_type": "code",
   "execution_count": null,
   "id": "a147ed03",
   "metadata": {},
   "outputs": [],
   "source": [
    "os.listdir(module_path+f\"\\\\IPCC_bibliography\\\\AR6\\\\WG1\")"
   ]
  },
  {
   "cell_type": "code",
   "execution_count": null,
   "id": "3723f07d",
   "metadata": {},
   "outputs": [],
   "source": [
    "for k in ['1','2','2_CROSS','3']:\n",
    "    wgs[k][f'df_{k}'] = read_bib_wg(wgs,k,verbose=True)\n",
    "    #wgs[k][f'df_{k}'].to_json(module_path+f'\\\\IPCC_bibliography\\\\AR6\\\\structured_data\\\\data_wg{k}.jsonl', orient='records', lines=True)"
   ]
  },
  {
   "cell_type": "markdown",
   "id": "ee989369",
   "metadata": {},
   "source": [
    "Read and clean the data from 'structured_data' folder"
   ]
  },
  {
   "cell_type": "code",
   "execution_count": null,
   "id": "25cd3cc6",
   "metadata": {},
   "outputs": [],
   "source": [
    "data_all={}"
   ]
  },
  {
   "cell_type": "code",
   "execution_count": null,
   "id": "742a33da",
   "metadata": {},
   "outputs": [],
   "source": [
    "for k in ['1','2','2_CROSS','3']:\n",
    "   #data_all[f'df_wg{k}']=wgs[k][f'df_{k}']\n",
    "   data_all[f'df_wg{k}']=pd.read_json(module_path+f'\\\\IPCC_bibliography\\\\AR6\\\\structured_data\\\\data_wg{k}.jsonl', lines= True)"
   ]
  },
  {
   "cell_type": "code",
   "execution_count": null,
   "id": "5140bc4f",
   "metadata": {},
   "outputs": [],
   "source": [
    "#all data \n",
    "df_ipcc=pd.concat(list(data_all.values()), ignore_index=True)"
   ]
  },
  {
   "cell_type": "code",
   "execution_count": null,
   "id": "937762fa",
   "metadata": {},
   "outputs": [],
   "source": [
    "df_ipcc.loc[:,'doi']=df_ipcc.loc[:,'doi'].apply(lambda x: get_doi_cleaned(x))\n",
    "df_ipcc.loc[:,'doi']=df_ipcc.loc[:,'doi'].apply(lambda x: None if str(x)[:4]=='http' else x)\n",
    "df_ipcc['freq']=1"
   ]
  },
  {
   "cell_type": "markdown",
   "id": "a70ea794",
   "metadata": {},
   "source": [
    "Enriching data through OpenAlex API integration"
   ]
  },
  {
   "cell_type": "code",
   "execution_count": null,
   "id": "b6a65467",
   "metadata": {},
   "outputs": [],
   "source": [
    "#df_unique_doi=df_ipcc.groupby(by=['doi','title','year'], dropna=True).agg({'wg': lambda x: list(x),'chap': lambda x: list(x)})\n",
    "df_unique_doi=df_ipcc[['doi','title','year']].drop_duplicates(subset=['doi']).dropna(subset=['doi'])\n",
    "df_unique_doi=df_unique_doi.reset_index()"
   ]
  },
  {
   "cell_type": "code",
   "execution_count": null,
   "id": "86e740ab",
   "metadata": {},
   "outputs": [],
   "source": [
    "#get data_OpenAlex from the API \n",
    "df_unique_doi.apply(lambda row: get_open_alex_data(cached_openalex_data,row['doi']), axis= 1)"
   ]
  },
  {
   "cell_type": "code",
   "execution_count": null,
   "id": "b8cc5e28",
   "metadata": {},
   "outputs": [],
   "source": [
    "len(cached_openalex_data)"
   ]
  },
  {
   "cell_type": "code",
   "execution_count": null,
   "id": "2408fe7d",
   "metadata": {},
   "outputs": [],
   "source": [
    "write_cache(cached_openalex_data,module_path+'\\\\IPCC_bibliography\\\\AR6\\\\structured_data\\\\caches\\\\cached_openalex_data.pkl')"
   ]
  },
  {
   "cell_type": "code",
   "execution_count": null,
   "id": "a7958613",
   "metadata": {},
   "outputs": [],
   "source": [
    "countries_list = []\n",
    "concepts_list = []\n",
    "sdg_list = []\n",
    "topics_list = []\n",
    "is_OA_available_list=[]\n",
    "title_list=[]\n",
    "year_list=[]\n",
    "names_list=[]\n",
    "rors_list=[]\n",
    "institutions_names_list=[]\n",
    "locations_list=[]\n",
    "locations_id_list=[]\n",
    "type_list=[]\n",
    "type_crossref_list=[]\n",
    "\n",
    "for i,row in df_unique_doi.iterrows():\n",
    "    countries,concepts,sdg,year,topics,doi,bool_OA,title,name,rors,institutions_names,locations_names,locations_id,type_OA,type_crossref=get_countries_concepts_sdg(cached_openalex_data,row)\n",
    "\n",
    "    countries_list.append(countries)\n",
    "    concepts_list.append(concepts)\n",
    "    sdg_list.append(sdg)\n",
    "    topics_list.append(topics)\n",
    "    is_OA_available_list.append(bool_OA)\n",
    "    title_list.append(title)\n",
    "    year_list.append(year)\n",
    "    names_list.append(name)\n",
    "    rors_list.append(rors)\n",
    "    institutions_names_list.append(institutions_names)\n",
    "    locations_list.append(locations_names)\n",
    "    locations_id_list.append(locations_id)\n",
    "    type_list.append(type_OA)\n",
    "    type_crossref_list.append(type_crossref)\n",
    "    \n",
    "\n",
    "df_unique_doi['countries'] = countries_list\n",
    "df_unique_doi['concepts'] = concepts_list\n",
    "df_unique_doi['sdg'] = sdg_list\n",
    "df_unique_doi['topics'] = topics_list\n",
    "df_unique_doi['is_OA_available'] = is_OA_available_list\n",
    "df_unique_doi['title_OA'] = title_list\n",
    "df_unique_doi['year_OA'] = year_list\n",
    "df_unique_doi['authors_name'] = names_list\n",
    "df_unique_doi['rors'] = rors_list\n",
    "df_unique_doi['institutions_names'] = institutions_names_list\n",
    "df_unique_doi['locations_names'] = locations_list\n",
    "df_unique_doi['locations_ids'] = locations_id_list\n",
    "df_unique_doi['type'] = type_list\n",
    "df_unique_doi['type_crossref'] = type_crossref_list"
   ]
  },
  {
   "cell_type": "code",
   "execution_count": null,
   "id": "e7134d3c",
   "metadata": {},
   "outputs": [],
   "source": [
    "df_unique_doi.locations_ids[0]"
   ]
  },
  {
   "cell_type": "code",
   "execution_count": null,
   "id": "b49540b7",
   "metadata": {},
   "outputs": [],
   "source": [
    "#df_unique_doi['wg_chap']=df_unique_doi.apply(lambda row: wg_chap_to_dict(row), axis=1)\n",
    "df_unique_doi.loc[:,'countries']=df_unique_doi.loc[:,'countries'].apply(lambda x: str(x).replace('nan','None').replace('[]','None').replace('[None]','None') if ((str(x)=='nan')|(str(x)=='[None]')|((str(x)=='[]'))) else x )\n",
    "df_unique_doi.loc[:,'countries']=df_unique_doi.loc[:,'countries'].apply(lambda x: ['None'] if x=='None' else x)\n",
    "df_unique_doi.loc[:,'year']=df_unique_doi.loc[:,'year'].apply(lambda x: get_year_ipcc(x))\n",
    "df_unique_doi['test_glutton']=df_unique_doi.apply(lambda row: check_doi_glutton(row), axis=1)\n",
    "df_unique_doi=df_unique_doi[(df_unique_doi['test_glutton']==True)&(pd.isna(df_unique_doi['is_OA_available'])==False)]"
   ]
  },
  {
   "cell_type": "code",
   "execution_count": null,
   "id": "d630f1d0",
   "metadata": {},
   "outputs": [],
   "source": [
    "df_unique_doi.to_json(module_path+f'\\\\IPCC_bibliography\\\\AR6\\\\structured_data\\\\data_model_ipcc\\\\data_ipcc.jsonl', orient='records', lines= True)"
   ]
  },
  {
   "cell_type": "code",
   "execution_count": null,
   "id": "718fde39",
   "metadata": {},
   "outputs": [],
   "source": [
    "df_ipcc=df_ipcc[['year', 'url', 'doi','title','author','freq']]"
   ]
  },
  {
   "cell_type": "code",
   "execution_count": null,
   "id": "9db6380a",
   "metadata": {},
   "outputs": [],
   "source": [
    "df_ipcc=pd.merge(df_ipcc, df_unique_doi, on='doi', how='left')\n",
    "df_ipcc.loc[:,'countries']=df_ipcc.loc[:,'countries'].apply(lambda x: str(x).replace('nan','None').replace('[]','None').replace('[None]','None') if ((str(x)=='nan')|(str(x)=='[None]')|((str(x)=='[]'))) else x )\n",
    "df_ipcc.loc[:,'countries']=df_ipcc.loc[:,'countries'].apply(lambda x: ['None'] if x=='None' else x)"
   ]
  },
  {
   "cell_type": "code",
   "execution_count": null,
   "id": "2e99e570",
   "metadata": {},
   "outputs": [],
   "source": [
    "df_ipcc.loc[:,'year']=df_ipcc.loc[:,'year'].apply(lambda x: get_year_ipcc(x))"
   ]
  },
  {
   "cell_type": "code",
   "execution_count": null,
   "id": "4e753c79",
   "metadata": {},
   "outputs": [],
   "source": [
    "df_ipcc['test_glutton']=df_ipcc.apply(lambda row: check_doi_glutton(row), axis=1)"
   ]
  },
  {
   "cell_type": "code",
   "execution_count": null,
   "id": "81bd4120",
   "metadata": {},
   "outputs": [],
   "source": [
    "df_ipcc.drop_duplicates(subset=['doi']).test_glutton.value_counts()"
   ]
  },
  {
   "cell_type": "code",
   "execution_count": null,
   "id": "10a903a9",
   "metadata": {},
   "outputs": [],
   "source": [
    "df_ipcc=df_ipcc[(df_ipcc['test_glutton']==True)&(pd.isna(df_ipcc['is_OA_available'])==False)]"
   ]
  },
  {
   "cell_type": "code",
   "execution_count": null,
   "id": "0640e440",
   "metadata": {},
   "outputs": [],
   "source": [
    "df_ipcc.to_json(module_path+'\\\\IPCC_bibliography\\\\AR6\\\\structured_data\\\\data_ipcc_visualization.json', orient='records')"
   ]
  },
  {
   "cell_type": "markdown",
   "id": "c4297ebd",
   "metadata": {},
   "source": [
    "Find the data for constructing the learning model ( IPCC related or not )"
   ]
  },
  {
   "cell_type": "code",
   "execution_count": null,
   "id": "87f46aeb",
   "metadata": {},
   "outputs": [],
   "source": [
    "df_ipcc=pd.read_json(module_path+f'\\\\IPCC_bibliography\\\\AR6\\\\structured_data\\\\data_model_ipcc\\\\data_ipcc.jsonl', lines= True).dropna(subset=['year'])"
   ]
  },
  {
   "cell_type": "code",
   "execution_count": null,
   "id": "d3d0fa68",
   "metadata": {},
   "outputs": [],
   "source": [
    "df_ipcc=df_ipcc.dropna(subset=['year','doi', 'title','topics','locations_names','locations_ids'])"
   ]
  },
  {
   "cell_type": "code",
   "execution_count": null,
   "id": "9a053b33",
   "metadata": {},
   "outputs": [],
   "source": [
    "len(df_ipcc)"
   ]
  },
  {
   "cell_type": "code",
   "execution_count": null,
   "id": "75d41602",
   "metadata": {},
   "outputs": [],
   "source": [
    "df_ipcc['year'] = pd.to_numeric(df_ipcc['year'], errors='coerce')\n",
    "year=df_ipcc.drop_duplicates(subset='doi')['year'].dropna().sort_values().apply(lambda x: int(x))\n",
    "year_counts = pd.Series(list(year)).value_counts().to_dict()"
   ]
  },
  {
   "cell_type": "code",
   "execution_count": null,
   "id": "36db23d3",
   "metadata": {},
   "outputs": [],
   "source": [
    "sum(list(year_counts.values()))"
   ]
  },
  {
   "cell_type": "code",
   "execution_count": null,
   "id": "8664f72f",
   "metadata": {},
   "outputs": [],
   "source": [
    "len(aplatir(list(cached_openalex_data_not_ipcc.values())))"
   ]
  },
  {
   "cell_type": "code",
   "execution_count": null,
   "id": "bc72000a",
   "metadata": {},
   "outputs": [],
   "source": [
    "dois=list(df_ipcc.doi.dropna().drop_duplicates())+list(df_not_ipcc.doi.dropna().drop_duplicates())\n",
    "year_counts_not_ipcc={}"
   ]
  },
  {
   "cell_type": "code",
   "execution_count": null,
   "id": "3770f7fd",
   "metadata": {},
   "outputs": [],
   "source": [
    "for year in list(year_counts.keys()):   \n",
    "    cached_openalex_data_not_ipcc[year]=[]\n",
    "    year_counts_not_ipcc[year]=0\n",
    "    while year_counts_not_ipcc[year]<year_counts[year]:\n",
    "        get_open_alex_data_not_in_references(dois,cached_openalex_data_not_ipcc,year_counts,year_counts_not_ipcc,year)\n",
    "    cached_openalex_data_not_ipcc[year]=cached_openalex_data_not_ipcc[year][:year_counts[year]]"
   ]
  },
  {
   "cell_type": "code",
   "execution_count": null,
   "id": "21ed9a3f",
   "metadata": {},
   "outputs": [],
   "source": [
    "for year in list(year_counts.keys()):   \n",
    "    cached_openalex_data_not_ipcc[year]=cached_openalex_data_not_ipcc[year][:year_counts[year]]"
   ]
  },
  {
   "cell_type": "code",
   "execution_count": null,
   "id": "f0b7b027",
   "metadata": {},
   "outputs": [],
   "source": [
    "write_cache(cached_openalex_data_not_ipcc,module_path+'\\\\IPCC_bibliography\\\\AR6\\\\structured_data\\\\caches\\\\cached_openalex_data_not_ipcc.pkl')"
   ]
  },
  {
   "cell_type": "code",
   "execution_count": null,
   "id": "198f23bc",
   "metadata": {},
   "outputs": [],
   "source": [
    "df_not_ipcc=pd.DataFrame()\n",
    "countries_list = []\n",
    "concepts_list = []\n",
    "sdg_list = []\n",
    "topics_list = []\n",
    "is_OA_available_list=[]\n",
    "title_list=[]\n",
    "year_list=[]\n",
    "names_list=[]\n",
    "rors_list=[]\n",
    "institutions_names_list=[]\n",
    "locations_list=[]\n",
    "doi_list=[]\n",
    "locations_id_list=[]\n",
    "\n",
    "\n",
    "for k in range(len(aplatir(list(cached_openalex_data_not_ipcc.values())))):\n",
    "    countries,concepts,sdg,year,topics,doi,bool_OA,title,name,rors,institutions_names,locations_names,locations_id=get_countries_concepts_sdg(cached_openalex_data=aplatir(list(cached_openalex_data_not_ipcc.values())),ipcc=False,i=k)\n",
    "\n",
    "    doi_list.append(doi)\n",
    "    countries_list.append(countries)\n",
    "    concepts_list.append(concepts)\n",
    "    sdg_list.append(sdg)\n",
    "    topics_list.append(topics)\n",
    "    is_OA_available_list.append(bool_OA)\n",
    "    title_list.append(title)\n",
    "    year_list.append(year)\n",
    "    names_list.append(name)\n",
    "    rors_list.append(rors)\n",
    "    institutions_names_list.append(institutions_names)\n",
    "    locations_list.append(locations_names)\n",
    "    locations_id_list.append(locations_id)\n",
    "    \n",
    "df_not_ipcc['doi'] = doi_list\n",
    "df_not_ipcc['countries'] = countries_list\n",
    "df_not_ipcc['concepts'] = concepts_list\n",
    "df_not_ipcc['sdg'] = sdg_list\n",
    "df_not_ipcc['topics'] = topics_list\n",
    "df_not_ipcc['is_OA_available'] = is_OA_available_list\n",
    "df_not_ipcc['title'] = title_list\n",
    "df_not_ipcc['year'] = year_list\n",
    "df_not_ipcc['authors_name'] = names_list\n",
    "df_not_ipcc['rors'] = rors_list\n",
    "df_not_ipcc['institutions_names'] = institutions_names_list\n",
    "df_not_ipcc['locations_names'] = locations_list\n",
    "df_not_ipcc['locations_ids'] = locations_id_list"
   ]
  },
  {
   "cell_type": "code",
   "execution_count": null,
   "id": "0c2b7946",
   "metadata": {},
   "outputs": [],
   "source": [
    "len(df_not_ipcc.dropna(subset=['year','doi', 'title','topics','locations_names','locations_ids']))"
   ]
  },
  {
   "cell_type": "code",
   "execution_count": null,
   "id": "2b9f6ebd",
   "metadata": {},
   "outputs": [],
   "source": [
    "len(df_ipcc.dropna(subset=['year','doi', 'title','topics','locations_names','locations_ids']))"
   ]
  },
  {
   "cell_type": "code",
   "execution_count": null,
   "id": "0bda9b04",
   "metadata": {},
   "outputs": [],
   "source": [
    "df_not_ipcc.to_json(module_path+f'\\\\IPCC_bibliography\\\\AR6\\\\structured_data\\\\data_model_ipcc\\\\data_not_ipcc.jsonl', orient='records', lines= True)"
   ]
  }
 ],
 "metadata": {
  "kernelspec": {
   "display_name": "tf",
   "language": "python",
   "name": "python3"
  },
  "language_info": {
   "codemirror_mode": {
    "name": "ipython",
    "version": 3
   },
   "file_extension": ".py",
   "mimetype": "text/x-python",
   "name": "python",
   "nbconvert_exporter": "python",
   "pygments_lexer": "ipython3",
   "version": "3.10.13"
  }
 },
 "nbformat": 4,
 "nbformat_minor": 5
}
