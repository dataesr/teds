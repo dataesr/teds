{
 "cells": [
  {
   "cell_type": "code",
   "execution_count": null,
   "id": "7f4a48e7",
   "metadata": {},
   "outputs": [],
   "source": [
    "import os\n",
    "import sys\n",
    "module_path = os.path.abspath(os.path.join('..'))\n",
    "if module_path not in sys.path:\n",
    "    sys.path.append(module_path)\n",
    "    \n",
    "from code_utils.glutton import get_doi_glutton\n",
    "from code_utils.read_ipcc_bib import read_bib_wgi"
   ]
  },
  {
   "cell_type": "code",
   "execution_count": null,
   "id": "a168593f",
   "metadata": {},
   "outputs": [],
   "source": [
    "df_wgi = read_bib_wgi(verbose=True)"
   ]
  },
  {
   "cell_type": "code",
   "execution_count": null,
   "id": "62678af3",
   "metadata": {},
   "outputs": [],
   "source": []
  }
 ],
 "metadata": {
  "kernelspec": {
   "display_name": "Python 3",
   "language": "python",
   "name": "python3"
  },
  "language_info": {
   "codemirror_mode": {
    "name": "ipython",
    "version": 3
   },
   "file_extension": ".py",
   "mimetype": "text/x-python",
   "name": "python",
   "nbconvert_exporter": "python",
   "pygments_lexer": "ipython3",
   "version": "3.9.18"
  }
 },
 "nbformat": 4,
 "nbformat_minor": 5
}
