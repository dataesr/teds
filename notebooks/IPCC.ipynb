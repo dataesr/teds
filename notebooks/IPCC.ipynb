{
 "cells": [
  {
   "cell_type": "code",
   "execution_count": 4,
   "id": "7f4a48e7",
   "metadata": {},
   "outputs": [],
   "source": [
    "import os\n",
    "import sys\n",
    "import pandas as pd\n",
    "import matplotlib.pyplot as plt\n",
    "\n",
    "module_path = os.path.abspath(os.path.join('..'))\n",
    "if module_path not in sys.path:\n",
    "    sys.path.append(module_path)\n",
    "from code_utils.read_ipcc_bib import read_bib_wg\n",
    "from code_utils.enriching_data_OpenAlex import get_countries_concepts_sdg,get_open_alex_data,get_open_alex_data_not_in_references\n",
    "from code_utils.utils import aplatir,wg_chap_to_dict,get_doi_cleaned\n",
    "from code_utils.pickle import load_cache,write_cache"
   ]
  },
  {
   "cell_type": "code",
   "execution_count": 5,
   "id": "d8613600",
   "metadata": {},
   "outputs": [],
   "source": [
    "cached_openalex_data = {}\n",
    "cached_openalex_data_not_ipcc = {}"
   ]
  },
  {
   "cell_type": "code",
   "execution_count": 6,
   "id": "0b48c157",
   "metadata": {},
   "outputs": [
    {
     "name": "stdout",
     "output_type": "stream",
     "text": [
      "54821 data in cached openalex data\n",
      "102 data in cached openalex data\n"
     ]
    }
   ],
   "source": [
    "try:\n",
    "    cached_openalex_data = load_cache(cached_openalex_data,module_path+'\\\\IPCC_bibliography\\\\AR6\\\\structured_data\\\\cached_openalex_data.pkl')\n",
    "    cached_openalex_data_not_ipcc = load_cache(cached_openalex_data_not_ipcc,module_path+'\\\\IPCC_bibliography\\\\AR6\\\\structured_data\\\\cached_openalex_data_not_ipcc.pkl')\n",
    "except:\n",
    "    #write_cache(cached_openalex_data,module_path+'\\\\IPCC_bibliography\\\\AR6\\\\structured_data\\\\cached_openalex_data.pkl')\n",
    "    #write_cache(cached_openalex_data_not_ipcc,module_path+'\\\\IPCC_bibliography\\\\AR6\\\\structured_data\\\\cached_openalex_data_not_ipcc.pkl')\n",
    "    print('oups not in bibliography folder')"
   ]
  },
  {
   "cell_type": "code",
   "execution_count": 4,
   "id": "8eca4e26",
   "metadata": {},
   "outputs": [],
   "source": [
    "#write_cache(cached_openalex_data,module_path+'\\\\IPCC_bibliography\\\\AR6\\\\structured_data\\\\cached_openalex_data.pkl')\n",
    "#write_cache(cached_openalex_data_not_ipcc,module_path+'\\\\IPCC_bibliography\\\\AR6\\\\structured_data\\\\cached_openalex_data_not_ipcc.pkl')"
   ]
  },
  {
   "cell_type": "markdown",
   "id": "db6ea8c1",
   "metadata": {},
   "source": [
    "Read IPCC references in .bib files"
   ]
  },
  {
   "cell_type": "code",
   "execution_count": null,
   "id": "acf01178",
   "metadata": {},
   "outputs": [],
   "source": [
    "wgs={'1':{'wg1':[], 'dataframes_1':{}, 'listdir1':os.listdir(module_path+f\"\\\\IPCC_bibliography\\\\AR6\\\\WG1\")},\n",
    "     '2':{'wg2':[], 'wg2_update':[], 'dataframes_2':{}, 'listdir2':os.listdir(module_path+f\"\\\\IPCC_bibliography\\\\AR6\\\\WG2\")},\n",
    "     '2_CROSS':{'wg2_CROSS':[], 'wg2_CROSS_update':[], 'dataframes_2_CROSS':{}, 'listdir2_CROSS':os.listdir(module_path+f\"\\\\IPCC_bibliography\\\\AR6\\\\WG2_CROSS\")},\n",
    "     '3':{'wg1':[], 'dataframes_3':{}, 'listdir3':os.listdir(module_path+f\"\\\\IPCC_bibliography\\\\AR6\\\\WG3\")}}"
   ]
  },
  {
   "cell_type": "code",
   "execution_count": null,
   "id": "3723f07d",
   "metadata": {},
   "outputs": [],
   "source": [
    "for k in ['1','2','2_CROSS','3']:\n",
    "    wgs[k][f'df_{k}'] = read_bib_wg(wgs,k,verbose=True)\n",
    "    #wgs[k][f'df_{k}'].to_json(module_path+f'\\\\IPCC_bibliography\\\\AR6\\\\structured_data\\\\data_wg{k}.jsonl', orient='records', lines=True)"
   ]
  },
  {
   "cell_type": "markdown",
   "id": "ee989369",
   "metadata": {},
   "source": [
    "Read and clean the data from 'structured_data' folder"
   ]
  },
  {
   "cell_type": "code",
   "execution_count": 4,
   "id": "25cd3cc6",
   "metadata": {},
   "outputs": [],
   "source": [
    "data_all={}"
   ]
  },
  {
   "cell_type": "code",
   "execution_count": 5,
   "id": "3b65104c",
   "metadata": {},
   "outputs": [],
   "source": [
    "for k in ['1','2','2_CROSS','3']:\n",
    "   data_all[f'df_wg{k}']=pd.read_json(module_path+f'\\\\IPCC_bibliography\\\\AR6\\\\structured_data\\\\data_wg{k}.jsonl', lines= True)"
   ]
  },
  {
   "cell_type": "code",
   "execution_count": 6,
   "id": "5140bc4f",
   "metadata": {},
   "outputs": [],
   "source": [
    "#all data \n",
    "df_ipcc=pd.concat(list(data_all.values()), ignore_index=True)"
   ]
  },
  {
   "cell_type": "code",
   "execution_count": 7,
   "id": "937762fa",
   "metadata": {},
   "outputs": [],
   "source": [
    "df_ipcc.loc[:,'doi']=df_ipcc.loc[:,'doi'].apply(lambda x: get_doi_cleaned(x))\n",
    "df_ipcc.loc[:,'doi']=df_ipcc.loc[:,'doi'].apply(lambda x: None if str(x)[:4]=='http' else x)\n",
    "df_ipcc['freq']=1"
   ]
  },
  {
   "cell_type": "markdown",
   "id": "a70ea794",
   "metadata": {},
   "source": [
    "Enriching data through OpenAlex API integration"
   ]
  },
  {
   "cell_type": "code",
   "execution_count": 28,
   "id": "b6a65467",
   "metadata": {},
   "outputs": [],
   "source": [
    "df_unique_doi=df_ipcc.groupby(by=['doi','year'], dropna=True).agg({'wg': lambda x: list(x),'chap': lambda x: list(x)})"
   ]
  },
  {
   "cell_type": "code",
   "execution_count": 29,
   "id": "87a11d11",
   "metadata": {},
   "outputs": [],
   "source": [
    "df_unique_doi=df_unique_doi.reset_index()"
   ]
  },
  {
   "cell_type": "code",
   "execution_count": 30,
   "id": "86e740ab",
   "metadata": {},
   "outputs": [
    {
     "data": {
      "text/plain": [
       "0                                                       []\n",
       "1                                                       []\n",
       "2        [{'id': 'https://openalex.org/W2154789424', 'd...\n",
       "3        [{'id': 'https://openalex.org/W2136833125', 'd...\n",
       "4        [{'id': 'https://openalex.org/W2074805800', 'd...\n",
       "                               ...                        \n",
       "58537    [{'id': 'https://openalex.org/W2747424513', 'd...\n",
       "58538    [{'id': 'https://openalex.org/W2506544221', 'd...\n",
       "58539    [{'id': 'https://openalex.org/W2507013578', 'd...\n",
       "58540    [{'id': 'https://openalex.org/W4231805395', 'd...\n",
       "58541                                                   []\n",
       "Length: 58542, dtype: object"
      ]
     },
     "execution_count": 30,
     "metadata": {},
     "output_type": "execute_result"
    }
   ],
   "source": [
    "#get data_OpenAlex from the API \n",
    "df_unique_doi.apply(lambda row: get_open_alex_data(cached_openalex_data,row['doi']), axis= 1)"
   ]
  },
  {
   "cell_type": "code",
   "execution_count": 11,
   "id": "b8cc5e28",
   "metadata": {},
   "outputs": [
    {
     "data": {
      "text/plain": [
       "54821"
      ]
     },
     "execution_count": 11,
     "metadata": {},
     "output_type": "execute_result"
    }
   ],
   "source": [
    "len(cached_openalex_data)"
   ]
  },
  {
   "cell_type": "code",
   "execution_count": 10,
   "id": "fdf81e8b",
   "metadata": {},
   "outputs": [
    {
     "data": {
      "text/plain": [
       "[{'is_oa': False,\n",
       "  'landing_page_url': 'https://doi.org/10.1001/jama.2012.108940',\n",
       "  'pdf_url': None,\n",
       "  'source': {'id': 'https://openalex.org/S172573765',\n",
       "   'display_name': 'JAMA',\n",
       "   'issn_l': '0098-7484',\n",
       "   'issn': ['0098-7484', '1538-3598'],\n",
       "   'is_oa': False,\n",
       "   'is_in_doaj': False,\n",
       "   'host_organization': 'https://openalex.org/P4310320259',\n",
       "   'host_organization_name': 'American Medical Association',\n",
       "   'host_organization_lineage': ['https://openalex.org/P4310320259'],\n",
       "   'host_organization_lineage_names': ['American Medical Association'],\n",
       "   'type': 'journal'},\n",
       "  'license': None,\n",
       "  'version': None,\n",
       "  'is_accepted': False,\n",
       "  'is_published': False},\n",
       " {'is_oa': False,\n",
       "  'landing_page_url': 'https://pubmed.ncbi.nlm.nih.gov/23281545',\n",
       "  'pdf_url': None,\n",
       "  'source': {'id': 'https://openalex.org/S4306525036',\n",
       "   'display_name': 'PubMed',\n",
       "   'issn_l': None,\n",
       "   'issn': None,\n",
       "   'is_oa': False,\n",
       "   'is_in_doaj': False,\n",
       "   'host_organization': 'https://openalex.org/I1299303238',\n",
       "   'host_organization_name': 'National Institutes of Health',\n",
       "   'host_organization_lineage': ['https://openalex.org/I1299303238'],\n",
       "   'host_organization_lineage_names': ['National Institutes of Health'],\n",
       "   'type': 'repository'},\n",
       "  'license': None,\n",
       "  'version': None,\n",
       "  'is_accepted': False,\n",
       "  'is_published': False}]"
      ]
     },
     "execution_count": 10,
     "metadata": {},
     "output_type": "execute_result"
    }
   ],
   "source": [
    "cached_openalex_data['10.1001/jama.2012.108940'][0].get('locations')"
   ]
  },
  {
   "cell_type": "code",
   "execution_count": 13,
   "id": "2408fe7d",
   "metadata": {},
   "outputs": [],
   "source": [
    "write_cache(cached_openalex_data,module_path+'\\\\IPCC_bibliography\\\\AR6\\\\structured_data\\\\cached_openalex_data.pkl')"
   ]
  },
  {
   "cell_type": "code",
   "execution_count": 40,
   "id": "a7958613",
   "metadata": {},
   "outputs": [],
   "source": [
    "countries_list = []\n",
    "concepts_list = []\n",
    "sdg_list = []\n",
    "topics_list = []\n",
    "is_OA_available_list=[]\n",
    "title_list=[]\n",
    "year_list=[]\n",
    "names_list=[]\n",
    "rors_list=[]\n",
    "institutions_names_list=[]\n",
    "\n",
    "\n",
    "for i,row in df_unique_doi.iterrows():\n",
    "    countries,concepts,sdg,year,topics,doi,bool_OA,title,name,rors,institutions_names=get_countries_concepts_sdg(cached_openalex_data,row)\n",
    "\n",
    "    countries_list.append(countries)\n",
    "    concepts_list.append(concepts)\n",
    "    sdg_list.append(sdg)\n",
    "    topics_list.append(topics)\n",
    "    is_OA_available_list.append(bool_OA)\n",
    "    title_list.append(title)\n",
    "    year_list.append(year)\n",
    "    names_list.append(name)\n",
    "    rors_list.append(rors)\n",
    "    institutions_names_list.append(institutions_names)\n",
    "    \n",
    "\n",
    "df_unique_doi['countries'] = countries_list\n",
    "df_unique_doi['concepts'] = concepts_list\n",
    "df_unique_doi['sdg'] = sdg_list\n",
    "df_unique_doi['topics'] = topics_list\n",
    "df_unique_doi['is_OA_available'] = is_OA_available_list\n",
    "df_unique_doi['title_OA'] = title_list\n",
    "df_unique_doi['year_OA'] = year_list\n",
    "df_unique_doi['authors_name'] = names_list\n",
    "df_unique_doi['rors'] = rors_list\n",
    "df_unique_doi['institutions_names'] = institutions_names_list"
   ]
  },
  {
   "cell_type": "code",
   "execution_count": 41,
   "id": "b49540b7",
   "metadata": {},
   "outputs": [],
   "source": [
    "df_unique_doi['wg_chap']=df_unique_doi.apply(lambda row: wg_chap_to_dict(row), axis=1)"
   ]
  },
  {
   "cell_type": "code",
   "execution_count": 42,
   "id": "d38a82b3",
   "metadata": {},
   "outputs": [
    {
     "data": {
      "text/html": [
       "<div>\n",
       "<style scoped>\n",
       "    .dataframe tbody tr th:only-of-type {\n",
       "        vertical-align: middle;\n",
       "    }\n",
       "\n",
       "    .dataframe tbody tr th {\n",
       "        vertical-align: top;\n",
       "    }\n",
       "\n",
       "    .dataframe thead th {\n",
       "        text-align: right;\n",
       "    }\n",
       "</style>\n",
       "<table border=\"1\" class=\"dataframe\">\n",
       "  <thead>\n",
       "    <tr style=\"text-align: right;\">\n",
       "      <th></th>\n",
       "      <th>doi</th>\n",
       "      <th>year</th>\n",
       "      <th>wg</th>\n",
       "      <th>chap</th>\n",
       "      <th>countries</th>\n",
       "      <th>concepts</th>\n",
       "      <th>sdg</th>\n",
       "      <th>topics</th>\n",
       "      <th>is_OA_available</th>\n",
       "      <th>title_OA</th>\n",
       "      <th>year_OA</th>\n",
       "      <th>authors_name</th>\n",
       "      <th>rors</th>\n",
       "      <th>institutions_names</th>\n",
       "      <th>wg_chap</th>\n",
       "    </tr>\n",
       "  </thead>\n",
       "  <tbody>\n",
       "    <tr>\n",
       "      <th>2</th>\n",
       "      <td>10.1001/jama.2012.108940</td>\n",
       "      <td>2012</td>\n",
       "      <td>[wg2]</td>\n",
       "      <td>[wg2_chap_06]</td>\n",
       "      <td>[US]</td>\n",
       "      <td>[{'name': 'Medicine'}, {'name': 'Medical emerg...</td>\n",
       "      <td>None</td>\n",
       "      <td>[{'name': 'Disaster Response and Public Health...</td>\n",
       "      <td>True</td>\n",
       "      <td>Emergency Preparedness and Public Health</td>\n",
       "      <td>2012.0</td>\n",
       "      <td>[{'Tia Powell': ['US']}, {'Dan Hanfling': ['US...</td>\n",
       "      <td>[[{'https://ror.org/05cf8a891': 'US'}], [{'htt...</td>\n",
       "      <td>[[{'Albert Einstein College of Medicine': 'US'...</td>\n",
       "      <td>[{'name': 'wg2_chap_06', 'wg': '2', 'chap': 6}]</td>\n",
       "    </tr>\n",
       "    <tr>\n",
       "      <th>3</th>\n",
       "      <td>10.1001/jama.2014.13186</td>\n",
       "      <td>2014</td>\n",
       "      <td>[wg2]</td>\n",
       "      <td>[wg2_chap_07]</td>\n",
       "      <td>[GB, US]</td>\n",
       "      <td>[{'name': 'Climate change'}, {'name': 'Medicin...</td>\n",
       "      <td>[{'id': '13', 'name': 'Climate action'}]</td>\n",
       "      <td>[{'name': 'Impact of Climate Change on Human H...</td>\n",
       "      <td>True</td>\n",
       "      <td>Climate Change</td>\n",
       "      <td>2014.0</td>\n",
       "      <td>[{'Jonathan A. Patz': ['US']}, {'Howard Frumki...</td>\n",
       "      <td>[[{'https://ror.org/03e3qgk42': 'US'}, {'https...</td>\n",
       "      <td>[[{'University of Wisconsin Health': 'US'}, {'...</td>\n",
       "      <td>[{'name': 'wg2_chap_07', 'wg': '2', 'chap': 7}]</td>\n",
       "    </tr>\n",
       "    <tr>\n",
       "      <th>4</th>\n",
       "      <td>10.1001/jama.2014.15715</td>\n",
       "      <td>2014</td>\n",
       "      <td>[wg2]</td>\n",
       "      <td>[wg2_chap_07]</td>\n",
       "      <td>[US]</td>\n",
       "      <td>[{'name': 'Medicine'}, {'name': 'Percentile'},...</td>\n",
       "      <td>[{'id': '3', 'name': 'Good health and well-bei...</td>\n",
       "      <td>[{'name': 'Impact of Climate Change on Human H...</td>\n",
       "      <td>True</td>\n",
       "      <td>Cause-Specific Risk of Hospital Admission Rela...</td>\n",
       "      <td>2014.0</td>\n",
       "      <td>[{'Jennifer F. Bobb': ['US']}, {'Ziad Obermeye...</td>\n",
       "      <td>[[{'https://ror.org/03vek6s52': 'US'}], [{'htt...</td>\n",
       "      <td>[[{'Harvard University': 'US'}], [{'Brigham an...</td>\n",
       "      <td>[{'name': 'wg2_chap_07', 'wg': '2', 'chap': 7}]</td>\n",
       "    </tr>\n",
       "    <tr>\n",
       "      <th>5</th>\n",
       "      <td>10.1001/jama.2020.1097</td>\n",
       "      <td>2020</td>\n",
       "      <td>[wg2]</td>\n",
       "      <td>[wg2_chap_07]</td>\n",
       "      <td>[US]</td>\n",
       "      <td>[{'name': 'Medicine'}, {'name': 'Coronavirus d...</td>\n",
       "      <td>[{'id': '3', 'name': 'Good health and well-bei...</td>\n",
       "      <td>[{'name': 'Modeling the Dynamics of COVID-19 P...</td>\n",
       "      <td>True</td>\n",
       "      <td>The Novel Coronavirus Originating in Wuhan, China</td>\n",
       "      <td>2020.0</td>\n",
       "      <td>[{'Alexandra Phelan': ['US']}, {'Rebecca Katz'...</td>\n",
       "      <td>[[{'https://ror.org/05vzafd60': 'US'}, {'https...</td>\n",
       "      <td>[[{'Georgetown University': 'US'}, {'Center fo...</td>\n",
       "      <td>[{'name': 'wg2_chap_07', 'wg': '2', 'chap': 7}]</td>\n",
       "    </tr>\n",
       "    <tr>\n",
       "      <th>6</th>\n",
       "      <td>10.1001/jama.2020.15398</td>\n",
       "      <td>2020</td>\n",
       "      <td>[wg2, wg2, wg2_cross]</td>\n",
       "      <td>[wg2_chap_04, wg2_chap_07, wg2_cross_chap_2]</td>\n",
       "      <td>[US]</td>\n",
       "      <td>[{'name': 'Medicine'}, {'name': 'Family medici...</td>\n",
       "      <td>None</td>\n",
       "      <td>[{'name': 'Tropical Cyclone Intensity and Clim...</td>\n",
       "      <td>True</td>\n",
       "      <td>Cascading Risks of COVID-19 Resurgence During ...</td>\n",
       "      <td>2020.0</td>\n",
       "      <td>[{'James M. Shultz': ['US']}, {'Craig Fugate':...</td>\n",
       "      <td>[[{'https://ror.org/02dgjyy92': 'US'}], [{'htt...</td>\n",
       "      <td>[[{'University of Miami': 'US'}], [{'Craig Tec...</td>\n",
       "      <td>[{'name': 'wg2_chap_04', 'wg': '2', 'chap': 4}...</td>\n",
       "    </tr>\n",
       "    <tr>\n",
       "      <th>...</th>\n",
       "      <td>...</td>\n",
       "      <td>...</td>\n",
       "      <td>...</td>\n",
       "      <td>...</td>\n",
       "      <td>...</td>\n",
       "      <td>...</td>\n",
       "      <td>...</td>\n",
       "      <td>...</td>\n",
       "      <td>...</td>\n",
       "      <td>...</td>\n",
       "      <td>...</td>\n",
       "      <td>...</td>\n",
       "      <td>...</td>\n",
       "      <td>...</td>\n",
       "      <td>...</td>\n",
       "    </tr>\n",
       "    <tr>\n",
       "      <th>58536</th>\n",
       "      <td>10.9774/gleaf.9781315651354</td>\n",
       "      <td>2017</td>\n",
       "      <td>[wg3]</td>\n",
       "      <td>[wg3_chap_01]</td>\n",
       "      <td>[]</td>\n",
       "      <td>[{'name': 'Climate change'}, {'name': 'Environ...</td>\n",
       "      <td>[{'id': '13', 'name': 'Climate action'}]</td>\n",
       "      <td>[{'name': 'Measurement and Evaluation of Susta...</td>\n",
       "      <td>True</td>\n",
       "      <td>Institutional Capacity for Climate Change Resp...</td>\n",
       "      <td>2017.0</td>\n",
       "      <td>[{'Theresa Scavenius': []}, {'Steve Rayner': []}]</td>\n",
       "      <td>[[], []]</td>\n",
       "      <td>[[], []]</td>\n",
       "      <td>[{'name': 'wg3_chap_01', 'wg': '3', 'chap': 1}]</td>\n",
       "    </tr>\n",
       "    <tr>\n",
       "      <th>58537</th>\n",
       "      <td>10.9778/cmajo.20170047</td>\n",
       "      <td>2017</td>\n",
       "      <td>[wg2]</td>\n",
       "      <td>[wg2_chap_14]</td>\n",
       "      <td>[CA]</td>\n",
       "      <td>[{'name': 'Anxiety'}, {'name': 'Mental health'...</td>\n",
       "      <td>[{'id': '3', 'name': 'Good health and well-bei...</td>\n",
       "      <td>[{'name': 'Fire Safety in Tunnel Fires'}, {'na...</td>\n",
       "      <td>True</td>\n",
       "      <td>Effects of the Fort McMurray wildfires on the ...</td>\n",
       "      <td>2017.0</td>\n",
       "      <td>[{'Nicola Cherry': ['CA']}, {'Whitney Haynes':...</td>\n",
       "      <td>[[{'https://ror.org/0160cpw27': 'CA'}], [{'htt...</td>\n",
       "      <td>[[{'University of Alberta': 'CA'}], [{'Univers...</td>\n",
       "      <td>[{'name': 'wg2_chap_14', 'wg': '2', 'chap': 14}]</td>\n",
       "    </tr>\n",
       "    <tr>\n",
       "      <th>58538</th>\n",
       "      <td>10.9783/9780812205381.291</td>\n",
       "      <td>2006</td>\n",
       "      <td>[wg3]</td>\n",
       "      <td>[wg3_chap_14]</td>\n",
       "      <td>[]</td>\n",
       "      <td>[{'name': 'Covenant'}, {'name': 'Law and econo...</td>\n",
       "      <td>[{'id': '11', 'name': 'Sustainable cities and ...</td>\n",
       "      <td>[{'name': 'Sustainable Development and Economi...</td>\n",
       "      <td>True</td>\n",
       "      <td>4. CESCR General Comment No. 4 (1991) on the R...</td>\n",
       "      <td>2006.0</td>\n",
       "      <td>[{'Scott Leckie': []}, {'Anne Gallagher': []}]</td>\n",
       "      <td>[[], []]</td>\n",
       "      <td>[[], []]</td>\n",
       "      <td>[{'name': 'wg3_chap_14', 'wg': '3', 'chap': 14}]</td>\n",
       "    </tr>\n",
       "    <tr>\n",
       "      <th>58539</th>\n",
       "      <td>10.9783/9780812205381.336</td>\n",
       "      <td>2006</td>\n",
       "      <td>[wg3]</td>\n",
       "      <td>[wg3_chap_14]</td>\n",
       "      <td>[]</td>\n",
       "      <td>[{'name': 'Covenant'}, {'name': 'Right to food...</td>\n",
       "      <td>[{'id': '2', 'name': 'Zero hunger'}]</td>\n",
       "      <td>[{'name': 'Role of Public International Law in...</td>\n",
       "      <td>True</td>\n",
       "      <td>12. CESCR General Comment No. 12 (1999) on the...</td>\n",
       "      <td>2006.0</td>\n",
       "      <td>[{'Scott Leckie': []}, {'Anne Gallagher': []}]</td>\n",
       "      <td>[[], []]</td>\n",
       "      <td>[[], []]</td>\n",
       "      <td>[{'name': 'wg3_chap_14', 'wg': '3', 'chap': 14}]</td>\n",
       "    </tr>\n",
       "    <tr>\n",
       "      <th>58540</th>\n",
       "      <td>10.9785/9783504386818-026</td>\n",
       "      <td>2020</td>\n",
       "      <td>[wg3]</td>\n",
       "      <td>[wg3_chap_10]</td>\n",
       "      <td>[None]</td>\n",
       "      <td>[{'name': 'Political science'}]</td>\n",
       "      <td>None</td>\n",
       "      <td>[{'name': 'Labor Relations and Union Revitaliz...</td>\n",
       "      <td>True</td>\n",
       "      <td>Europäische Betriebsräte-Gesetz – Gesetz über ...</td>\n",
       "      <td>2020.0</td>\n",
       "      <td>[None]</td>\n",
       "      <td>[None]</td>\n",
       "      <td>[None]</td>\n",
       "      <td>[{'name': 'wg3_chap_10', 'wg': '3', 'chap': 10}]</td>\n",
       "    </tr>\n",
       "  </tbody>\n",
       "</table>\n",
       "<p>58248 rows × 15 columns</p>\n",
       "</div>"
      ],
      "text/plain": [
       "                               doi  year                     wg  \\\n",
       "2         10.1001/jama.2012.108940  2012                  [wg2]   \n",
       "3          10.1001/jama.2014.13186  2014                  [wg2]   \n",
       "4          10.1001/jama.2014.15715  2014                  [wg2]   \n",
       "5           10.1001/jama.2020.1097  2020                  [wg2]   \n",
       "6          10.1001/jama.2020.15398  2020  [wg2, wg2, wg2_cross]   \n",
       "...                            ...   ...                    ...   \n",
       "58536  10.9774/gleaf.9781315651354  2017                  [wg3]   \n",
       "58537       10.9778/cmajo.20170047  2017                  [wg2]   \n",
       "58538    10.9783/9780812205381.291  2006                  [wg3]   \n",
       "58539    10.9783/9780812205381.336  2006                  [wg3]   \n",
       "58540    10.9785/9783504386818-026  2020                  [wg3]   \n",
       "\n",
       "                                               chap countries  \\\n",
       "2                                     [wg2_chap_06]      [US]   \n",
       "3                                     [wg2_chap_07]  [GB, US]   \n",
       "4                                     [wg2_chap_07]      [US]   \n",
       "5                                     [wg2_chap_07]      [US]   \n",
       "6      [wg2_chap_04, wg2_chap_07, wg2_cross_chap_2]      [US]   \n",
       "...                                             ...       ...   \n",
       "58536                                 [wg3_chap_01]        []   \n",
       "58537                                 [wg2_chap_14]      [CA]   \n",
       "58538                                 [wg3_chap_14]        []   \n",
       "58539                                 [wg3_chap_14]        []   \n",
       "58540                                 [wg3_chap_10]    [None]   \n",
       "\n",
       "                                                concepts  \\\n",
       "2      [{'name': 'Medicine'}, {'name': 'Medical emerg...   \n",
       "3      [{'name': 'Climate change'}, {'name': 'Medicin...   \n",
       "4      [{'name': 'Medicine'}, {'name': 'Percentile'},...   \n",
       "5      [{'name': 'Medicine'}, {'name': 'Coronavirus d...   \n",
       "6      [{'name': 'Medicine'}, {'name': 'Family medici...   \n",
       "...                                                  ...   \n",
       "58536  [{'name': 'Climate change'}, {'name': 'Environ...   \n",
       "58537  [{'name': 'Anxiety'}, {'name': 'Mental health'...   \n",
       "58538  [{'name': 'Covenant'}, {'name': 'Law and econo...   \n",
       "58539  [{'name': 'Covenant'}, {'name': 'Right to food...   \n",
       "58540                    [{'name': 'Political science'}]   \n",
       "\n",
       "                                                     sdg  \\\n",
       "2                                                   None   \n",
       "3               [{'id': '13', 'name': 'Climate action'}]   \n",
       "4      [{'id': '3', 'name': 'Good health and well-bei...   \n",
       "5      [{'id': '3', 'name': 'Good health and well-bei...   \n",
       "6                                                   None   \n",
       "...                                                  ...   \n",
       "58536           [{'id': '13', 'name': 'Climate action'}]   \n",
       "58537  [{'id': '3', 'name': 'Good health and well-bei...   \n",
       "58538  [{'id': '11', 'name': 'Sustainable cities and ...   \n",
       "58539               [{'id': '2', 'name': 'Zero hunger'}]   \n",
       "58540                                               None   \n",
       "\n",
       "                                                  topics  is_OA_available  \\\n",
       "2      [{'name': 'Disaster Response and Public Health...             True   \n",
       "3      [{'name': 'Impact of Climate Change on Human H...             True   \n",
       "4      [{'name': 'Impact of Climate Change on Human H...             True   \n",
       "5      [{'name': 'Modeling the Dynamics of COVID-19 P...             True   \n",
       "6      [{'name': 'Tropical Cyclone Intensity and Clim...             True   \n",
       "...                                                  ...              ...   \n",
       "58536  [{'name': 'Measurement and Evaluation of Susta...             True   \n",
       "58537  [{'name': 'Fire Safety in Tunnel Fires'}, {'na...             True   \n",
       "58538  [{'name': 'Sustainable Development and Economi...             True   \n",
       "58539  [{'name': 'Role of Public International Law in...             True   \n",
       "58540  [{'name': 'Labor Relations and Union Revitaliz...             True   \n",
       "\n",
       "                                                title_OA  year_OA  \\\n",
       "2               Emergency Preparedness and Public Health   2012.0   \n",
       "3                                         Climate Change   2014.0   \n",
       "4      Cause-Specific Risk of Hospital Admission Rela...   2014.0   \n",
       "5      The Novel Coronavirus Originating in Wuhan, China   2020.0   \n",
       "6      Cascading Risks of COVID-19 Resurgence During ...   2020.0   \n",
       "...                                                  ...      ...   \n",
       "58536  Institutional Capacity for Climate Change Resp...   2017.0   \n",
       "58537  Effects of the Fort McMurray wildfires on the ...   2017.0   \n",
       "58538  4. CESCR General Comment No. 4 (1991) on the R...   2006.0   \n",
       "58539  12. CESCR General Comment No. 12 (1999) on the...   2006.0   \n",
       "58540  Europäische Betriebsräte-Gesetz – Gesetz über ...   2020.0   \n",
       "\n",
       "                                            authors_name  \\\n",
       "2      [{'Tia Powell': ['US']}, {'Dan Hanfling': ['US...   \n",
       "3      [{'Jonathan A. Patz': ['US']}, {'Howard Frumki...   \n",
       "4      [{'Jennifer F. Bobb': ['US']}, {'Ziad Obermeye...   \n",
       "5      [{'Alexandra Phelan': ['US']}, {'Rebecca Katz'...   \n",
       "6      [{'James M. Shultz': ['US']}, {'Craig Fugate':...   \n",
       "...                                                  ...   \n",
       "58536  [{'Theresa Scavenius': []}, {'Steve Rayner': []}]   \n",
       "58537  [{'Nicola Cherry': ['CA']}, {'Whitney Haynes':...   \n",
       "58538     [{'Scott Leckie': []}, {'Anne Gallagher': []}]   \n",
       "58539     [{'Scott Leckie': []}, {'Anne Gallagher': []}]   \n",
       "58540                                             [None]   \n",
       "\n",
       "                                                    rors  \\\n",
       "2      [[{'https://ror.org/05cf8a891': 'US'}], [{'htt...   \n",
       "3      [[{'https://ror.org/03e3qgk42': 'US'}, {'https...   \n",
       "4      [[{'https://ror.org/03vek6s52': 'US'}], [{'htt...   \n",
       "5      [[{'https://ror.org/05vzafd60': 'US'}, {'https...   \n",
       "6      [[{'https://ror.org/02dgjyy92': 'US'}], [{'htt...   \n",
       "...                                                  ...   \n",
       "58536                                           [[], []]   \n",
       "58537  [[{'https://ror.org/0160cpw27': 'CA'}], [{'htt...   \n",
       "58538                                           [[], []]   \n",
       "58539                                           [[], []]   \n",
       "58540                                             [None]   \n",
       "\n",
       "                                      institutions_names  \\\n",
       "2      [[{'Albert Einstein College of Medicine': 'US'...   \n",
       "3      [[{'University of Wisconsin Health': 'US'}, {'...   \n",
       "4      [[{'Harvard University': 'US'}], [{'Brigham an...   \n",
       "5      [[{'Georgetown University': 'US'}, {'Center fo...   \n",
       "6      [[{'University of Miami': 'US'}], [{'Craig Tec...   \n",
       "...                                                  ...   \n",
       "58536                                           [[], []]   \n",
       "58537  [[{'University of Alberta': 'CA'}], [{'Univers...   \n",
       "58538                                           [[], []]   \n",
       "58539                                           [[], []]   \n",
       "58540                                             [None]   \n",
       "\n",
       "                                                 wg_chap  \n",
       "2        [{'name': 'wg2_chap_06', 'wg': '2', 'chap': 6}]  \n",
       "3        [{'name': 'wg2_chap_07', 'wg': '2', 'chap': 7}]  \n",
       "4        [{'name': 'wg2_chap_07', 'wg': '2', 'chap': 7}]  \n",
       "5        [{'name': 'wg2_chap_07', 'wg': '2', 'chap': 7}]  \n",
       "6      [{'name': 'wg2_chap_04', 'wg': '2', 'chap': 4}...  \n",
       "...                                                  ...  \n",
       "58536    [{'name': 'wg3_chap_01', 'wg': '3', 'chap': 1}]  \n",
       "58537   [{'name': 'wg2_chap_14', 'wg': '2', 'chap': 14}]  \n",
       "58538   [{'name': 'wg3_chap_14', 'wg': '3', 'chap': 14}]  \n",
       "58539   [{'name': 'wg3_chap_14', 'wg': '3', 'chap': 14}]  \n",
       "58540   [{'name': 'wg3_chap_10', 'wg': '3', 'chap': 10}]  \n",
       "\n",
       "[58248 rows x 15 columns]"
      ]
     },
     "execution_count": 42,
     "metadata": {},
     "output_type": "execute_result"
    }
   ],
   "source": [
    "df_unique_doi[df_unique_doi.is_OA_available]"
   ]
  },
  {
   "cell_type": "code",
   "execution_count": null,
   "id": "2dc6cdf0",
   "metadata": {},
   "outputs": [],
   "source": [
    "dd=df_unique_doi[df_unique_doi.is_OA_available]\n",
    "dd=dd.dropna(subset=['doi']).groupby(['doi']).agg({'wg_chap': lambda x: aplatir(list(x)),'countries':lambda x: list(x)[0],'topics':lambda x: list(x)[0],'title_OA':lambda x: list(x)[0],'year_OA':lambda x: list(x)[0]}).reset_index()"
   ]
  },
  {
   "cell_type": "code",
   "execution_count": 43,
   "id": "5fb4a15f",
   "metadata": {},
   "outputs": [],
   "source": [
    "df_unique_doi[df_unique_doi.is_OA_available].to_json(module_path+'\\\\IPCC_bibliography\\\\AR6\\\\structured_data\\\\data_ipcc_model.json', orient='records')"
   ]
  },
  {
   "cell_type": "code",
   "execution_count": null,
   "id": "e47a5b41",
   "metadata": {},
   "outputs": [],
   "source": [
    "df_ipcc=df_ipcc[['year', 'url', 'doi','title','author','freq']]"
   ]
  },
  {
   "cell_type": "code",
   "execution_count": null,
   "id": "9db6380a",
   "metadata": {},
   "outputs": [],
   "source": [
    "df_ipcc=pd.merge(df_ipcc, df_unique_doi, on='doi', how='left')\n",
    "df_ipcc.loc[:,'countries']=df_ipcc.loc[:,'countries'].apply(lambda x: str(x).replace('nan','None').replace('[]','None').replace('[None]','None') if ((str(x)=='nan')|(str(x)=='[None]')|((str(x)=='[]'))) else x )\n",
    "df_ipcc.loc[:,'countries']=df_ipcc.loc[:,'countries'].apply(lambda x: ['None'] if x=='None' else x)"
   ]
  },
  {
   "cell_type": "code",
   "execution_count": null,
   "id": "0640e440",
   "metadata": {},
   "outputs": [],
   "source": [
    "df_ipcc.to_json(module_path+'\\\\IPCC_bibliography\\\\AR6\\\\structured_data\\\\data_ipcc_visualization.json', orient='records')"
   ]
  },
  {
   "cell_type": "markdown",
   "id": "c4297ebd",
   "metadata": {},
   "source": [
    "Find the data for constructing the learning model ( IPCC related or not )"
   ]
  },
  {
   "cell_type": "code",
   "execution_count": null,
   "id": "87f46aeb",
   "metadata": {},
   "outputs": [],
   "source": [
    "df_ipcc=pd.read_json(module_path+'\\\\IPCC_bibliography\\\\AR6\\\\structured_data\\\\data_ipcc_model.json')"
   ]
  },
  {
   "cell_type": "code",
   "execution_count": null,
   "id": "61289815",
   "metadata": {},
   "outputs": [],
   "source": [
    "len(df_ipcc)"
   ]
  },
  {
   "cell_type": "code",
   "execution_count": null,
   "id": "75d41602",
   "metadata": {},
   "outputs": [],
   "source": [
    "df_ipcc['year'] = pd.to_numeric(df_ipcc['year'], errors='coerce')\n",
    "year=df_ipcc.drop_duplicates(subset='doi')['year'].dropna().sort_values().apply(lambda x: int(x))\n",
    "year_counts = pd.Series(list(year)).value_counts().to_dict()"
   ]
  },
  {
   "cell_type": "code",
   "execution_count": null,
   "id": "8664f72f",
   "metadata": {},
   "outputs": [],
   "source": [
    "len(aplatir(list(cached_openalex_data_not_ipcc.values())))"
   ]
  },
  {
   "cell_type": "code",
   "execution_count": null,
   "id": "bc72000a",
   "metadata": {},
   "outputs": [],
   "source": [
    "dois=list(df_ipcc.doi.dropna().drop_duplicates())\n",
    "year_counts_not_ipcc={}"
   ]
  },
  {
   "cell_type": "code",
   "execution_count": null,
   "id": "3770f7fd",
   "metadata": {},
   "outputs": [],
   "source": [
    "for year in list(year_counts.keys()):   \n",
    "    cached_openalex_data_not_ipcc[year]=[]\n",
    "    year_counts_not_ipcc[year]=0\n",
    "    while year_counts_not_ipcc[year]<year_counts[year]:\n",
    "        get_open_alex_data_not_in_references(dois,cached_openalex_data_not_ipcc,year_counts,year_counts_not_ipcc,year)\n",
    "    cached_openalex_data_not_ipcc[year]=cached_openalex_data_not_ipcc[year][:year_counts[year]]"
   ]
  },
  {
   "cell_type": "code",
   "execution_count": null,
   "id": "b162deec",
   "metadata": {},
   "outputs": [],
   "source": [
    "year_counts[2018]"
   ]
  },
  {
   "cell_type": "code",
   "execution_count": null,
   "id": "b73fe02d",
   "metadata": {},
   "outputs": [],
   "source": [
    "len(cached_openalex_data_not_ipcc[2018])"
   ]
  },
  {
   "cell_type": "code",
   "execution_count": null,
   "id": "f0b7b027",
   "metadata": {},
   "outputs": [],
   "source": [
    "write_cache(cached_openalex_data_not_ipcc,module_path+'\\\\IPCC_bibliography\\\\AR6\\\\structured_data\\\\cached_openalex_data_not_ipcc.pkl')"
   ]
  },
  {
   "cell_type": "code",
   "execution_count": null,
   "id": "3df8fa8a",
   "metadata": {},
   "outputs": [],
   "source": [
    "df_not_ipcc=pd.DataFrame()\n",
    "year_list = []\n",
    "countries_list = []\n",
    "concepts_list = []\n",
    "sdg_list = []\n",
    "topics_list = []\n",
    "dois_list = []\n",
    "title_list=[]\n",
    "for k in range(len(aplatir(list(cached_openalex_data_not_ipcc.values())))):\n",
    "    countries,concepts,sdg,year,topics,doi,bool_OA,title=get_countries_concepts_sdg(cached_openalex_data=aplatir(list(cached_openalex_data_not_ipcc.values())),ipcc=False,i=k)\n",
    "\n",
    "    countries_list.append(countries)\n",
    "    concepts_list.append(concepts)\n",
    "    sdg_list.append(sdg)\n",
    "    year_list.append(year)   \n",
    "    topics_list.append(topics)   \n",
    "    dois_list.append(doi)\n",
    "    title_list.append(title)   \n",
    "\n",
    "df_not_ipcc['countries'] = countries_list\n",
    "df_not_ipcc['concepts'] = concepts_list\n",
    "df_not_ipcc['sdg'] = sdg_list\n",
    "df_not_ipcc['year'] = year_list\n",
    "df_not_ipcc['topics'] = topics_list\n",
    "df_not_ipcc['doi'] = dois_list\n",
    "df_not_ipcc['title_OA'] = title_list"
   ]
  },
  {
   "cell_type": "code",
   "execution_count": null,
   "id": "0c2b7946",
   "metadata": {},
   "outputs": [],
   "source": [
    "len(df_not_ipcc)"
   ]
  },
  {
   "cell_type": "code",
   "execution_count": null,
   "id": "0bda9b04",
   "metadata": {},
   "outputs": [],
   "source": [
    "df_not_ipcc.to_json(module_path+f'\\\\IPCC_bibliography\\\\AR6\\\\structured_data\\\\data_not_ipcc.jsonl', orient='records', lines= True)"
   ]
  }
 ],
 "metadata": {
  "kernelspec": {
   "display_name": "Python 3",
   "language": "python",
   "name": "python3"
  },
  "language_info": {
   "codemirror_mode": {
    "name": "ipython",
    "version": 3
   },
   "file_extension": ".py",
   "mimetype": "text/x-python",
   "name": "python",
   "nbconvert_exporter": "python",
   "pygments_lexer": "ipython3",
   "version": "3.10.13"
  }
 },
 "nbformat": 4,
 "nbformat_minor": 5
}
