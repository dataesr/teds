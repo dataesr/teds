{
 "cells": [
  {
   "cell_type": "code",
   "execution_count": 1,
   "id": "7f4a48e7",
   "metadata": {},
   "outputs": [],
   "source": [
    "import os\n",
    "import sys\n",
    "import pandas as pd\n",
    "import matplotlib.pyplot as plt\n",
    "import requests\n",
    "\n",
    "module_path = os.path.abspath(os.path.join('..'))\n",
    "if module_path not in sys.path:\n",
    "    sys.path.append(module_path)\n",
    "from code_utils.read_ipcc_bib import read_bib_wg\n",
    "from code_utils.enriching_data_OpenAlex import get_countries_concepts_sdg,get_publi_not_in_ipcc,get_open_alex_data\n",
    "from code_utils.utils import aplatir,wg_chap_to_dict,get_doi_cleaned\n",
    "from code_utils.glutton import get_doi_glutton"
   ]
  },
  {
   "cell_type": "markdown",
   "id": "db6ea8c1",
   "metadata": {},
   "source": [
    "Read IPCC references in .bib files"
   ]
  },
  {
   "cell_type": "code",
   "execution_count": 2,
   "id": "acf01178",
   "metadata": {},
   "outputs": [],
   "source": [
    "wgs={'1':{'wg1':[], 'dataframes_1':{}, 'listdir1':os.listdir(module_path+f\"\\\\IPCC_bibliography\\\\AR6\\\\WG1\")},\n",
    "     '2':{'wg2':[], 'wg2_update':[], 'dataframes_2':{}, 'listdir2':os.listdir(module_path+f\"\\\\IPCC_bibliography\\\\AR6\\\\WG2\")},\n",
    "     '2_CROSS':{'wg2_CROSS':[], 'wg2_CROSS_update':[], 'dataframes_2_CROSS':{}, 'listdir2_CROSS':os.listdir(module_path+f\"\\\\IPCC_bibliography\\\\AR6\\\\WG2_CROSS\")},\n",
    "     '3':{'wg1':[], 'dataframes_3':{}, 'listdir3':os.listdir(module_path+f\"\\\\IPCC_bibliography\\\\AR6\\\\WG3\")}}"
   ]
  },
  {
   "cell_type": "code",
   "execution_count": null,
   "id": "3723f07d",
   "metadata": {},
   "outputs": [],
   "source": [
    "for k in ['1','2','2_CROSS','3']:\n",
    "    wgs[k][f'df_{k}'] = read_bib_wg(wgs,k,verbose=True)\n",
    "    print(wgs[k][f'wg{k}_update'])\n",
    "    #wgs[k][f'df_{k}'].to_json(module_path+f'\\\\IPCC_bibliography\\\\AR6\\\\structured_data\\\\data_wg{k}.jsonl', orient='records', lines=True)"
   ]
  },
  {
   "cell_type": "markdown",
   "id": "ee989369",
   "metadata": {},
   "source": [
    "Read and clean the data from 'structured_data' folder"
   ]
  },
  {
   "cell_type": "code",
   "execution_count": 3,
   "id": "25cd3cc6",
   "metadata": {},
   "outputs": [],
   "source": [
    "data_all={}"
   ]
  },
  {
   "cell_type": "code",
   "execution_count": 4,
   "id": "3b65104c",
   "metadata": {},
   "outputs": [],
   "source": [
    "for k in ['1','2','2_CROSS','3']:\n",
    "   data_all[f'df_wg{k}']=pd.read_json(module_path+f'\\\\IPCC_bibliography\\\\AR6\\\\structured_data\\\\data_wg{k}.jsonl', lines= True)"
   ]
  },
  {
   "cell_type": "code",
   "execution_count": 5,
   "id": "5140bc4f",
   "metadata": {},
   "outputs": [],
   "source": [
    "#all data \n",
    "df_ipcc=pd.concat(list(data_all.values()), ignore_index=True)"
   ]
  },
  {
   "cell_type": "code",
   "execution_count": 6,
   "id": "937762fa",
   "metadata": {},
   "outputs": [],
   "source": [
    "df_ipcc['doi']=df_ipcc.loc[:,'doi'].apply(lambda x: get_doi_cleaned(x))\n",
    "df_ipcc.loc[:,'doi']=df_ipcc.loc[:,'doi'].apply(lambda x: None if str(x)[:4]=='http' else x)\n",
    "df_ipcc['freq']=1"
   ]
  },
  {
   "cell_type": "markdown",
   "id": "a70ea794",
   "metadata": {},
   "source": [
    "Enriching data through OpenAlex API integration"
   ]
  },
  {
   "cell_type": "code",
   "execution_count": 7,
   "id": "b6a65467",
   "metadata": {},
   "outputs": [],
   "source": [
    "df_unique_doi=df_ipcc.groupby(by='doi', dropna=True).agg({'wg': lambda x: list(x),'chap': lambda x: list(x), 'freq': 'sum'})"
   ]
  },
  {
   "cell_type": "code",
   "execution_count": 8,
   "id": "87a11d11",
   "metadata": {},
   "outputs": [],
   "source": [
    "df_unique_doi=df_unique_doi.reset_index()"
   ]
  },
  {
   "cell_type": "code",
   "execution_count": 20,
   "id": "86e740ab",
   "metadata": {},
   "outputs": [],
   "source": [
    "#get data_OpenAlex from the API (6h)\n",
    "json_OA=[]\n",
    "df_unique_doi.apply(lambda row: get_open_alex_data(json_OA,row['doi']), axis= 1)\n",
    "df_OA=pd.DataFrame(json_OA)"
   ]
  },
  {
   "cell_type": "code",
   "execution_count": null,
   "id": "c2c501c7",
   "metadata": {},
   "outputs": [],
   "source": [
    "df_doi_bizarre=df_unique_doi.loc[df_unique_doi.isin(list(df_OA.loc[df_OA.results==[],'doi']))]\n",
    "df_doi_bizarre.loc[:,'doi']=df_doi_bizarre.progress_apply(get_doi_glutton,axis=1)"
   ]
  },
  {
   "cell_type": "code",
   "execution_count": null,
   "id": "8a537ece",
   "metadata": {},
   "outputs": [],
   "source": [
    "df_OA1=df_OA[~df_OA.doi.isin(list(df_OA.loc[df_OA.results==[],'doi']))]"
   ]
  },
  {
   "cell_type": "code",
   "execution_count": null,
   "id": "4ef3a498",
   "metadata": {},
   "outputs": [],
   "source": [
    "json_OA2=[]\n",
    "df_doi_bizarre.apply(lambda row: get_open_alex_data(json_OA2,row['doi']), axis= 1)\n",
    "df_OA2=pd.DataFrame(json_OA2)"
   ]
  },
  {
   "cell_type": "code",
   "execution_count": null,
   "id": "8f080ef3",
   "metadata": {},
   "outputs": [],
   "source": [
    "df_OA_complet=pd.concat([df_OA1,df_OA2])"
   ]
  },
  {
   "cell_type": "code",
   "execution_count": null,
   "id": "79f161f1",
   "metadata": {},
   "outputs": [],
   "source": [
    "df_OA_complet.to_json(module_path+'\\\\IPCC_bibliography\\\\AR6\\\\structured_data\\\\data_OpenAlex.json', orient='records')"
   ]
  },
  {
   "cell_type": "code",
   "execution_count": null,
   "id": "a0a12ef1",
   "metadata": {},
   "outputs": [],
   "source": [
    "#get data_OpenAlex from the file\n",
    "data_OpenAlex_all=pd.read_json(module_path+f'\\\\IPCC_bibliography\\\\AR6\\\\structured_data\\\\data_OpenAlex.json')"
   ]
  },
  {
   "cell_type": "code",
   "execution_count": null,
   "id": "a7958613",
   "metadata": {},
   "outputs": [],
   "source": [
    "countries_list = []\n",
    "concepts_list = []\n",
    "sdg_list = []\n",
    "for i,row in df_unique_doi.iterrows():\n",
    "    countries,concepts,sdg=get_countries_concepts_sdg(data_OpenAlex_all,row)\n",
    "\n",
    "    countries_list.append(countries)\n",
    "    concepts_list.append(concepts)\n",
    "    sdg_list.append(sdg)\n",
    "    \n",
    "\n",
    "df_unique_doi['countries'] = countries_list\n",
    "df_unique_doi['concepts'] = concepts_list\n",
    "df_unique_doi['sdg'] = sdg_list"
   ]
  },
  {
   "cell_type": "code",
   "execution_count": null,
   "id": "d1ab81d8",
   "metadata": {},
   "outputs": [],
   "source": [
    "df_unique_doi['wg_chap']=df_unique_doi.apply(lambda row: wg_chap_to_dict(row), axis=1)"
   ]
  },
  {
   "cell_type": "code",
   "execution_count": null,
   "id": "1c178b94",
   "metadata": {},
   "outputs": [],
   "source": [
    "# df_unique_doi.to_json(module_path+f'\\\\IPCC_bibliography\\\\AR6\\\\structured_data\\\\data_unique_doi.jsonl', orient= 'records', lines= True)"
   ]
  },
  {
   "cell_type": "markdown",
   "id": "202c6e93",
   "metadata": {},
   "source": [
    "Visualization of the contribution of each countries in ipcc references"
   ]
  },
  {
   "cell_type": "code",
   "execution_count": null,
   "id": "f43905ad",
   "metadata": {},
   "outputs": [],
   "source": [
    "df_unique_doi=pd.read_json(module_path+f'\\\\IPCC_bibliography\\\\AR6\\\\structured_data\\\\data_unique_doi.jsonl', lines= True)"
   ]
  },
  {
   "cell_type": "code",
   "execution_count": null,
   "id": "a14a338a",
   "metadata": {},
   "outputs": [],
   "source": [
    "df_unique_doi=df_unique_doi[['doi','countries','concepts','sdg','wg_chap']]"
   ]
  },
  {
   "cell_type": "code",
   "execution_count": null,
   "id": "59166cbf",
   "metadata": {},
   "outputs": [],
   "source": [
    "df_ipcc=pd.merge(df_ipcc, df_unique_doi, on='doi', how='left')\n",
    "df_ipcc.loc[:,'countries']=df_ipcc.loc[:,'countries'].apply(lambda x: str(x).replace('nan','None').replace('[]','None').replace('[None]','None') if ((str(x)=='nan')|(str(x)=='[None]')|((str(x)=='[]'))) else x )\n",
    "df_ipcc.loc[:,'countries']=df_ipcc.loc[:,'countries'].apply(lambda x: ['None'] if x=='None' else x)"
   ]
  },
  {
   "cell_type": "code",
   "execution_count": null,
   "id": "bcc95597",
   "metadata": {},
   "outputs": [],
   "source": [
    "data_counts = pd.Series(aplatir(list(df_ipcc['countries']))).value_counts().drop('None')"
   ]
  },
  {
   "cell_type": "code",
   "execution_count": null,
   "id": "b9bd0824",
   "metadata": {},
   "outputs": [],
   "source": [
    "plt.figure(figsize=(10, 6))\n",
    "data_counts[:20].plot(kind='bar')\n",
    "ax = data_counts[:20].plot(kind='bar')\n",
    "for i, v in enumerate(data_counts[:20]):\n",
    "    ax.text(i, v + 0.1, str(v), ha='center', va='bottom')\n",
    "plt.show()"
   ]
  },
  {
   "cell_type": "markdown",
   "id": "c4297ebd",
   "metadata": {},
   "source": [
    "Find the data for constructing the learning model ( IPCC related or not )"
   ]
  },
  {
   "cell_type": "code",
   "execution_count": null,
   "id": "bcad6efa",
   "metadata": {},
   "outputs": [],
   "source": [
    "df_ipcc[df_ipcc['wg']=='wg1'].year.max()"
   ]
  },
  {
   "cell_type": "code",
   "execution_count": null,
   "id": "75d41602",
   "metadata": {},
   "outputs": [],
   "source": [
    "df_ipcc['year'] = pd.to_numeric(df_ipcc['year'], errors='coerce')\n",
    "year=df_ipcc.drop_duplicates(subset='doi')['year'].dropna().sort_values().apply(lambda x: int(x))\n",
    "year_counts = pd.Series(list(year)).value_counts().to_dict()\n",
    "del year_counts[202]"
   ]
  },
  {
   "cell_type": "code",
   "execution_count": null,
   "id": "bc72000a",
   "metadata": {},
   "outputs": [],
   "source": [
    "dois=list(df_unique_doi.doi)"
   ]
  },
  {
   "cell_type": "code",
   "execution_count": null,
   "id": "607c73ff",
   "metadata": {},
   "outputs": [],
   "source": [
    "dict_year={}\n",
    "year_counts_not_ipcc={}"
   ]
  },
  {
   "cell_type": "code",
   "execution_count": null,
   "id": "6f7093d6",
   "metadata": {},
   "outputs": [],
   "source": [
    "while sum(list(year_counts_not_ipcc.values()))<len(dois):\n",
    "    get_publi_not_in_ipcc(dois,dict_year,year_counts,year_counts_not_ipcc)"
   ]
  },
  {
   "cell_type": "code",
   "execution_count": null,
   "id": "5f74b9cd",
   "metadata": {},
   "outputs": [],
   "source": [
    "pd.DataFrame(aplatir(list(dict_year.values()))).to_json(module_path+f'\\\\IPCC_bibliography\\\\AR6\\\\structured_data\\\\data_not_ipcc.jsonl', orient= 'records', lines= True)"
   ]
  }
 ],
 "metadata": {
  "kernelspec": {
   "display_name": "Python 3",
   "language": "python",
   "name": "python3"
  },
  "language_info": {
   "codemirror_mode": {
    "name": "ipython",
    "version": 3
   },
   "file_extension": ".py",
   "mimetype": "text/x-python",
   "name": "python",
   "nbconvert_exporter": "python",
   "pygments_lexer": "ipython3",
   "version": "3.10.13"
  }
 },
 "nbformat": 4,
 "nbformat_minor": 5
}
