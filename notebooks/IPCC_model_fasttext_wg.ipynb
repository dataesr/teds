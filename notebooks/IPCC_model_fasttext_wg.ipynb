{
 "cells": [
  {
   "cell_type": "code",
   "execution_count": 2,
   "metadata": {},
   "outputs": [],
   "source": [
    "import os\n",
    "import sys\n",
    "import pandas as pd\n",
    "import matplotlib.pyplot as plt\n",
    "import re\n",
    "\n",
    "module_path=os.path.abspath(os.path.join('..'))\n",
    "if module_path not in sys.path:\n",
    "    sys.path.append(module_path)\n",
    "\n",
    "import fasttext\n",
    "from sklearn.metrics import confusion_matrix\n",
    "from sklearn.model_selection import train_test_split\n",
    "from sklearn.ensemble import RandomForestClassifier \n",
    "import warnings\n",
    "from sklearn.metrics import accuracy_score, recall_score, f1_score, roc_auc_score, confusion_matrix\n",
    "from sklearn.preprocessing import MultiLabelBinarizer\n",
    "import numpy as np\n",
    "import neattext.functions as nfx\n",
    " \n",
    "warnings.filterwarnings(action='ignore')\n",
    "\n",
    "from code_utils.utils import preprocess,aplatir"
   ]
  },
  {
   "cell_type": "code",
   "execution_count": 3,
   "metadata": {},
   "outputs": [],
   "source": [
    "df_ipcc=pd.read_json(module_path+f'\\\\IPCC_bibliography\\\\AR6\\\\structured_data\\\\data_model_ipcc\\\\data_ipcc.jsonl', lines= True).dropna(subset=['year'])"
   ]
  },
  {
   "cell_type": "code",
   "execution_count": 4,
   "metadata": {},
   "outputs": [],
   "source": [
    "wg_doi=pd.read_json('ipcc_wg.json')"
   ]
  },
  {
   "cell_type": "code",
   "execution_count": 5,
   "metadata": {},
   "outputs": [],
   "source": [
    "df_ipcc=df_ipcc.merge(wg_doi,on='doi',how='left')"
   ]
  },
  {
   "cell_type": "code",
   "execution_count": 6,
   "metadata": {},
   "outputs": [
    {
     "data": {
      "text/plain": [
       "Index(['index', 'doi', 'title', 'year', 'countries', 'concepts', 'sdg',\n",
       "       'topics', 'is_OA_available', 'title_OA', 'year_OA', 'authors_name',\n",
       "       'rors', 'institutions_names', 'locations_names', 'locations_ids',\n",
       "       'test_glutton', 'wg'],\n",
       "      dtype='object')"
      ]
     },
     "execution_count": 6,
     "metadata": {},
     "output_type": "execute_result"
    }
   ],
   "source": [
    "df_ipcc.columns"
   ]
  },
  {
   "cell_type": "code",
   "execution_count": 7,
   "metadata": {},
   "outputs": [],
   "source": [
    "dict_wg={'wg1':'science','wg2':'adaptation','wg2_cross':'adaptation','wg3':'mitigation'}"
   ]
  },
  {
   "cell_type": "code",
   "execution_count": 8,
   "metadata": {},
   "outputs": [],
   "source": [
    "df_ipcc['wg_name']=df_ipcc['wg'].apply(lambda y: [dict_wg[str(x)] for x in y] if isinstance(y, list) else None)"
   ]
  },
  {
   "cell_type": "code",
   "execution_count": 9,
   "metadata": {},
   "outputs": [],
   "source": [
    "df_ipcc=df_ipcc[['year','doi', 'title','topics','locations_names','locations_ids','wg_name']]"
   ]
  },
  {
   "cell_type": "code",
   "execution_count": 10,
   "metadata": {},
   "outputs": [],
   "source": [
    "df_ipcc=df_ipcc.dropna(subset=['year','doi', 'title','topics','locations_names','locations_ids']).drop_duplicates(subset=['doi'])"
   ]
  },
  {
   "cell_type": "code",
   "execution_count": 11,
   "metadata": {},
   "outputs": [],
   "source": [
    "data_counts=pd.Series([int(x) for x in list(df_ipcc.year.dropna())]).value_counts()\n",
    "data_counts=pd.Series(dict(data_counts)).sort_index()"
   ]
  },
  {
   "cell_type": "markdown",
   "metadata": {},
   "source": [
    "building the learning dataset"
   ]
  },
  {
   "cell_type": "code",
   "execution_count": 12,
   "metadata": {},
   "outputs": [],
   "source": [
    "df_all=df_ipcc"
   ]
  },
  {
   "cell_type": "code",
   "execution_count": 13,
   "metadata": {},
   "outputs": [],
   "source": [
    "df_all.loc[:,'doi']=df_all.loc[:,'doi'].apply(lambda x: str(nfx.remove_stopwords(x)).replace('https://doi.org/','').lower())"
   ]
  },
  {
   "cell_type": "code",
   "execution_count": 14,
   "metadata": {},
   "outputs": [],
   "source": [
    "df_all.loc[:,'title']=df_all.loc[:,'title'].apply(lambda x: str(nfx.remove_stopwords(x)).replace('}','').replace('{','').lower())"
   ]
  },
  {
   "cell_type": "code",
   "execution_count": 15,
   "metadata": {},
   "outputs": [],
   "source": [
    "df_all.loc[:,'topics']=df_all.loc[:,'topics'].apply(lambda x: nfx.remove_stopwords(' '.join(x)).lower())"
   ]
  },
  {
   "cell_type": "code",
   "execution_count": 16,
   "metadata": {},
   "outputs": [
    {
     "data": {
      "text/html": [
       "<div>\n",
       "<style scoped>\n",
       "    .dataframe tbody tr th:only-of-type {\n",
       "        vertical-align: middle;\n",
       "    }\n",
       "\n",
       "    .dataframe tbody tr th {\n",
       "        vertical-align: top;\n",
       "    }\n",
       "\n",
       "    .dataframe thead th {\n",
       "        text-align: right;\n",
       "    }\n",
       "</style>\n",
       "<table border=\"1\" class=\"dataframe\">\n",
       "  <thead>\n",
       "    <tr style=\"text-align: right;\">\n",
       "      <th></th>\n",
       "      <th>year</th>\n",
       "      <th>doi</th>\n",
       "      <th>title</th>\n",
       "      <th>topics</th>\n",
       "      <th>locations_names</th>\n",
       "      <th>locations_ids</th>\n",
       "      <th>wg_name</th>\n",
       "    </tr>\n",
       "  </thead>\n",
       "  <tbody>\n",
       "    <tr>\n",
       "      <th>0</th>\n",
       "      <td>2019.0</td>\n",
       "      <td>10.3389/978-2-88963-118-6</td>\n",
       "      <td>oceanobs'19: ocean opportunity. volume 1</td>\n",
       "      <td>marine biodiversity ecosystem functioning</td>\n",
       "      <td>Frontiers research topics</td>\n",
       "      <td>1664-8714</td>\n",
       "      <td>[science]</td>\n",
       "    </tr>\n",
       "    <tr>\n",
       "      <th>2</th>\n",
       "      <td>1900.0</td>\n",
       "      <td>10.1002/andp.19003081208</td>\n",
       "      <td>\\\"uber die bedeutung des wasserdampfes und der...</td>\n",
       "      <td>stratospheric chemistry climate change impacts...</td>\n",
       "      <td>Annalen der Physik</td>\n",
       "      <td>0003-3804</td>\n",
       "      <td>[science]</td>\n",
       "    </tr>\n",
       "    <tr>\n",
       "      <th>3</th>\n",
       "      <td>1964.0</td>\n",
       "      <td>10.3402/tellusa.v16i1.8885</td>\n",
       "      <td>the parameters atmospheric turbidity</td>\n",
       "      <td>dynamics ocean surface waves wind interaction</td>\n",
       "      <td>Tellus A</td>\n",
       "      <td>0280-6495</td>\n",
       "      <td>[science]</td>\n",
       "    </tr>\n",
       "    <tr>\n",
       "      <th>4</th>\n",
       "      <td>1929.0</td>\n",
       "      <td>10.1080/20014422.1929.11880498</td>\n",
       "      <td>on atmospheric transmission sun radiation dust...</td>\n",
       "      <td>aerosols' impact climate hydrological cycle</td>\n",
       "      <td>Geografiska Annaler</td>\n",
       "      <td>1651-3215</td>\n",
       "      <td>[science]</td>\n",
       "    </tr>\n",
       "    <tr>\n",
       "      <th>5</th>\n",
       "      <td>2013.0</td>\n",
       "      <td>10.1002/rog.20022</td>\n",
       "      <td>a review global ocean temperature observations...</td>\n",
       "      <td>oceanic modeling circulation studies global se...</td>\n",
       "      <td>Reviews of Geophysics</td>\n",
       "      <td>1944-9208</td>\n",
       "      <td>[science, adaptation]</td>\n",
       "    </tr>\n",
       "    <tr>\n",
       "      <th>...</th>\n",
       "      <td>...</td>\n",
       "      <td>...</td>\n",
       "      <td>...</td>\n",
       "      <td>...</td>\n",
       "      <td>...</td>\n",
       "      <td>...</td>\n",
       "      <td>...</td>\n",
       "    </tr>\n",
       "    <tr>\n",
       "      <th>52877</th>\n",
       "      <td>2017.0</td>\n",
       "      <td>10.1007/s11625-017-0498-1</td>\n",
       "      <td>facilitating data-intensive approaches innovat...</td>\n",
       "      <td>smart cities: innovations challenges living la...</td>\n",
       "      <td>Sustainability Science</td>\n",
       "      <td>1862-4057</td>\n",
       "      <td>[mitigation]</td>\n",
       "    </tr>\n",
       "    <tr>\n",
       "      <th>52878</th>\n",
       "      <td>2021.0</td>\n",
       "      <td>10.1016/j.worlddev.2020.105249</td>\n",
       "      <td>china's green transformation eco-industrial parks</td>\n",
       "      <td>industrial symbiosis eco-industrial parks conc...</td>\n",
       "      <td>World Development</td>\n",
       "      <td>0305-750X</td>\n",
       "      <td>[mitigation]</td>\n",
       "    </tr>\n",
       "    <tr>\n",
       "      <th>52880</th>\n",
       "      <td>2018.0</td>\n",
       "      <td>10.1016/j.jclepro.2018.05.194</td>\n",
       "      <td>water-energy-food nexus: concepts, questions m...</td>\n",
       "      <td>integrated management water, energy, food reso...</td>\n",
       "      <td>Journal of Cleaner Production</td>\n",
       "      <td>0959-6526</td>\n",
       "      <td>[mitigation]</td>\n",
       "    </tr>\n",
       "    <tr>\n",
       "      <th>52881</th>\n",
       "      <td>2018.0</td>\n",
       "      <td>10.1016/j.apenergy.2017.07.036</td>\n",
       "      <td>water-food-energy nexus optimization approach ...</td>\n",
       "      <td>integrated management water, energy, food reso...</td>\n",
       "      <td>Applied Energy</td>\n",
       "      <td>0306-2619</td>\n",
       "      <td>[mitigation]</td>\n",
       "    </tr>\n",
       "    <tr>\n",
       "      <th>52882</th>\n",
       "      <td>2013.0</td>\n",
       "      <td>10.1016/j.enpol.2013.08.092</td>\n",
       "      <td>extent wind power deployment affect vested int...</td>\n",
       "      <td>social acceptance renewable energy innovation ...</td>\n",
       "      <td>Energy Policy</td>\n",
       "      <td>0301-4215</td>\n",
       "      <td>[mitigation]</td>\n",
       "    </tr>\n",
       "  </tbody>\n",
       "</table>\n",
       "<p>48219 rows × 7 columns</p>\n",
       "</div>"
      ],
      "text/plain": [
       "         year                             doi  \\\n",
       "0      2019.0       10.3389/978-2-88963-118-6   \n",
       "2      1900.0        10.1002/andp.19003081208   \n",
       "3      1964.0      10.3402/tellusa.v16i1.8885   \n",
       "4      1929.0  10.1080/20014422.1929.11880498   \n",
       "5      2013.0               10.1002/rog.20022   \n",
       "...       ...                             ...   \n",
       "52877  2017.0       10.1007/s11625-017-0498-1   \n",
       "52878  2021.0  10.1016/j.worlddev.2020.105249   \n",
       "52880  2018.0   10.1016/j.jclepro.2018.05.194   \n",
       "52881  2018.0  10.1016/j.apenergy.2017.07.036   \n",
       "52882  2013.0     10.1016/j.enpol.2013.08.092   \n",
       "\n",
       "                                                   title  \\\n",
       "0               oceanobs'19: ocean opportunity. volume 1   \n",
       "2      \\\"uber die bedeutung des wasserdampfes und der...   \n",
       "3                   the parameters atmospheric turbidity   \n",
       "4      on atmospheric transmission sun radiation dust...   \n",
       "5      a review global ocean temperature observations...   \n",
       "...                                                  ...   \n",
       "52877  facilitating data-intensive approaches innovat...   \n",
       "52878  china's green transformation eco-industrial parks   \n",
       "52880  water-energy-food nexus: concepts, questions m...   \n",
       "52881  water-food-energy nexus optimization approach ...   \n",
       "52882  extent wind power deployment affect vested int...   \n",
       "\n",
       "                                                  topics  \\\n",
       "0              marine biodiversity ecosystem functioning   \n",
       "2      stratospheric chemistry climate change impacts...   \n",
       "3          dynamics ocean surface waves wind interaction   \n",
       "4            aerosols' impact climate hydrological cycle   \n",
       "5      oceanic modeling circulation studies global se...   \n",
       "...                                                  ...   \n",
       "52877  smart cities: innovations challenges living la...   \n",
       "52878  industrial symbiosis eco-industrial parks conc...   \n",
       "52880  integrated management water, energy, food reso...   \n",
       "52881  integrated management water, energy, food reso...   \n",
       "52882  social acceptance renewable energy innovation ...   \n",
       "\n",
       "                     locations_names locations_ids                wg_name  \n",
       "0          Frontiers research topics     1664-8714              [science]  \n",
       "2                 Annalen der Physik     0003-3804              [science]  \n",
       "3                           Tellus A     0280-6495              [science]  \n",
       "4                Geografiska Annaler     1651-3215              [science]  \n",
       "5              Reviews of Geophysics     1944-9208  [science, adaptation]  \n",
       "...                              ...           ...                    ...  \n",
       "52877         Sustainability Science     1862-4057           [mitigation]  \n",
       "52878              World Development     0305-750X           [mitigation]  \n",
       "52880  Journal of Cleaner Production     0959-6526           [mitigation]  \n",
       "52881                 Applied Energy     0306-2619           [mitigation]  \n",
       "52882                  Energy Policy     0301-4215           [mitigation]  \n",
       "\n",
       "[48219 rows x 7 columns]"
      ]
     },
     "execution_count": 16,
     "metadata": {},
     "output_type": "execute_result"
    }
   ],
   "source": [
    "df_all"
   ]
  },
  {
   "cell_type": "code",
   "execution_count": 17,
   "metadata": {},
   "outputs": [
    {
     "data": {
      "text/plain": [
       "Index(['year', 'doi', 'title', 'topics', 'locations_names', 'locations_ids',\n",
       "       'wg_name'],\n",
       "      dtype='object')"
      ]
     },
     "execution_count": 17,
     "metadata": {},
     "output_type": "execute_result"
    }
   ],
   "source": [
    "df_all.columns"
   ]
  },
  {
   "cell_type": "markdown",
   "metadata": {},
   "source": [
    "using fasttext"
   ]
  },
  {
   "cell_type": "code",
   "execution_count": 18,
   "metadata": {},
   "outputs": [],
   "source": [
    "df_all['label']=df_all['wg_name'].apply(lambda x: ' '.join(['__label__' + str(y) for y in x])) \n",
    "df_all['category_description']=df_all['label']+' '+df_all['title']+' '+df_all['topics']+' '+df_all['locations_names']+' '+df_all['locations_ids']"
   ]
  },
  {
   "cell_type": "code",
   "execution_count": 19,
   "metadata": {},
   "outputs": [],
   "source": [
    "train, test=train_test_split(df_all, test_size=0.2, random_state=42)"
   ]
  },
  {
   "cell_type": "code",
   "execution_count": 20,
   "metadata": {},
   "outputs": [
    {
     "data": {
      "text/plain": [
       "((38575, 9), (9644, 9))"
      ]
     },
     "execution_count": 20,
     "metadata": {},
     "output_type": "execute_result"
    }
   ],
   "source": [
    "train.shape, test.shape"
   ]
  },
  {
   "cell_type": "code",
   "execution_count": 21,
   "metadata": {},
   "outputs": [],
   "source": [
    "train.to_csv(\"teds_wg.train\", columns=[\"category_description\"], index=False, header=False)\n",
    "test.to_csv(\"teds_wg.test\", columns=[\"category_description\"], index=False, header=False)"
   ]
  },
  {
   "cell_type": "code",
   "execution_count": 22,
   "metadata": {},
   "outputs": [
    {
     "data": {
      "text/plain": [
       "(7903, 0.8768821966341895, 0.7833163784333672)"
      ]
     },
     "execution_count": 22,
     "metadata": {},
     "output_type": "execute_result"
    }
   ],
   "source": [
    "model=fasttext.train_supervised(input=\"teds_wg.train\", loss='ova')\n",
    "model.test(\"teds_wg.test\")"
   ]
  },
  {
   "cell_type": "code",
   "execution_count": 23,
   "metadata": {},
   "outputs": [],
   "source": [
    "model.save_model(\"fasttext_model_teds_wg.bin\")"
   ]
  },
  {
   "cell_type": "code",
   "execution_count": 24,
   "metadata": {},
   "outputs": [],
   "source": [
    "model=fasttext.load_model(\"fasttext_model_teds_wg.bin\")"
   ]
  },
  {
   "cell_type": "code",
   "execution_count": 25,
   "metadata": {},
   "outputs": [],
   "source": [
    "test_data=pd.read_csv(\"teds_wg.test\", header=None, names=[\"text\"])"
   ]
  },
  {
   "cell_type": "code",
   "execution_count": null,
   "metadata": {},
   "outputs": [],
   "source": [
    "# pour multi labels\n",
    "true_labels=[]\n",
    "predicted_labels=[]\n",
    "\n",
    "label_order=['__label__science', '__label__adaptation', '__label__mitigation']\n",
    "\n",
    "for line in test_data[\"text\"]:\n",
    "    label, text=line.split(' ', 1)\n",
    "    if '__label__not_ipcc' in label:\n",
    "        labels_list=[0, 0, 0]  \n",
    "    else:\n",
    "        labels_list=[1 if x in label.split(' ') else 0 for x in label_order]\n",
    "    true_labels.append(labels_list)\n",
    "    \n",
    "    text=text.strip()\n",
    "    labels, probabilities=model.predict(text, k=-1, threshold=0.5)\n",
    "    if '__label__not_ipcc' in labels:\n",
    "        predicted_label=[0, 0, 0]  \n",
    "    else:\n",
    "        predicted_label=[1 if x in labels else 0 for x in label_order]\n",
    "    predicted_labels.append(predicted_label)"
   ]
  },
  {
   "cell_type": "code",
   "execution_count": 26,
   "metadata": {},
   "outputs": [],
   "source": [
    "# pour multi labels\n",
    "true_labels = []\n",
    "predicted_labels = []\n",
    "\n",
    "for line in test_data[\"text\"]:\n",
    "    label, text = line.split(' ', 1)\n",
    "    labels_list = [x.replace('__label__', '').strip() for x in label.split(',')]\n",
    "    true_labels.append(labels_list)\n",
    "    \n",
    "    text = text.strip()\n",
    "    labels, probabilities = model.predict(text, k=-1, threshold=0.5)\n",
    "    predicted_labels.append([x.replace('__label__', '').strip() for x in labels])\n",
    "\n",
    "mlb = MultiLabelBinarizer()\n",
    "true_labels = mlb.fit_transform(true_labels)\n",
    "predicted_labels = mlb.transform(predicted_labels)"
   ]
  },
  {
   "cell_type": "code",
   "execution_count": 27,
   "metadata": {},
   "outputs": [
    {
     "data": {
      "text/plain": [
       "array([[0, 0, 1],\n",
       "       [1, 0, 0],\n",
       "       [0, 1, 0],\n",
       "       ...,\n",
       "       [0, 0, 1],\n",
       "       [1, 0, 0],\n",
       "       [1, 0, 0]])"
      ]
     },
     "execution_count": 27,
     "metadata": {},
     "output_type": "execute_result"
    }
   ],
   "source": [
    "predicted_labels"
   ]
  },
  {
   "cell_type": "code",
   "execution_count": 28,
   "metadata": {},
   "outputs": [
    {
     "data": {
      "text/plain": [
       "array([[0, 0, 1],\n",
       "       [1, 0, 0],\n",
       "       [0, 1, 0],\n",
       "       ...,\n",
       "       [0, 0, 1],\n",
       "       [1, 0, 0],\n",
       "       [1, 0, 0]])"
      ]
     },
     "execution_count": 28,
     "metadata": {},
     "output_type": "execute_result"
    }
   ],
   "source": [
    "true_labels"
   ]
  },
  {
   "cell_type": "code",
   "execution_count": 31,
   "metadata": {},
   "outputs": [],
   "source": [
    "#conf_matrix=confusion_matrix(true_labels, predicted_labels)"
   ]
  },
  {
   "cell_type": "code",
   "execution_count": 30,
   "metadata": {},
   "outputs": [
    {
     "name": "stdout",
     "output_type": "stream",
     "text": [
      "\n",
      "matrice de confusion pour 'adaptation':\n",
      "[[3560  914]\n",
      " [ 593 4577]]\n",
      "Accuracy pour 'adaptation': 0.8437\n",
      "Recall pour 'adaptation': 0.8853\n",
      "F1 score pour 'adaptation': 0.8586\n",
      "\n",
      "matrice de confusion pour 'mitigation':\n",
      "[[7098  575]\n",
      " [ 301 1670]]\n",
      "Accuracy pour 'mitigation': 0.9092\n",
      "Recall pour 'mitigation': 0.8473\n",
      "F1 score pour 'mitigation': 0.7922\n",
      "\n",
      "matrice de confusion pour 'science':\n",
      "[[6818  323]\n",
      " [ 446 2057]]\n",
      "Accuracy pour 'science': 0.9203\n",
      "Recall pour 'science': 0.8218\n",
      "F1 score pour 'science': 0.8425\n"
     ]
    }
   ],
   "source": [
    "labels=mlb.classes_\n",
    "\n",
    "for i, label in enumerate(labels):\n",
    "    conf_matrix=confusion_matrix(true_labels[:, i], predicted_labels[:, i])\n",
    "    print(f\"\\nmatrice de confusion pour '{label}':\")\n",
    "    print(conf_matrix)\n",
    "    accuracy=accuracy_score(true_labels[:, i], predicted_labels[:, i])\n",
    "    recall=recall_score(true_labels[:, i], predicted_labels[:, i])\n",
    "    f1=f1_score(true_labels[:, i], predicted_labels[:, i])\n",
    "    print(f\"Accuracy pour '{label}': {accuracy:.4f}\")\n",
    "    print(f\"Recall pour '{label}': {recall:.4f}\")\n",
    "    print(f\"F1 score pour '{label}': {f1:.4f}\")"
   ]
  },
  {
   "cell_type": "code",
   "execution_count": 32,
   "metadata": {},
   "outputs": [
    {
     "data": {
      "text/plain": [
       "0.7983201990875155"
      ]
     },
     "execution_count": 32,
     "metadata": {},
     "output_type": "execute_result"
    }
   ],
   "source": [
    "accuracy_score(true_labels, predicted_labels)"
   ]
  },
  {
   "cell_type": "code",
   "execution_count": 33,
   "metadata": {},
   "outputs": [
    {
     "data": {
      "text/plain": [
       "0.861053504769805"
      ]
     },
     "execution_count": 33,
     "metadata": {},
     "output_type": "execute_result"
    }
   ],
   "source": [
    "recall_score(true_labels, predicted_labels, average=\"weighted\")"
   ]
  },
  {
   "cell_type": "code",
   "execution_count": 34,
   "metadata": {},
   "outputs": [
    {
     "data": {
      "text/plain": [
       "0.8408822273933394"
      ]
     },
     "execution_count": 34,
     "metadata": {},
     "output_type": "execute_result"
    }
   ],
   "source": [
    "f1_score(true_labels, predicted_labels, average=\"weighted\")"
   ]
  },
  {
   "cell_type": "code",
   "execution_count": 35,
   "metadata": {},
   "outputs": [],
   "source": [
    "t=test.iloc[0,:]"
   ]
  },
  {
   "cell_type": "code",
   "execution_count": 36,
   "metadata": {},
   "outputs": [
    {
     "data": {
      "text/plain": [
       "year                                                               2020.0\n",
       "doi                                                  10.1029/2020gl087014\n",
       "title                   interannual variability outflow weddell sea water\n",
       "topics                  oceanic modeling circulation studies climate c...\n",
       "locations_names                              Geophysical Research Letters\n",
       "locations_ids                                                   0094-8276\n",
       "wg_name                                                         [science]\n",
       "label                                                    __label__science\n",
       "category_description    __label__science interannual variability outfl...\n",
       "Name: 8360, dtype: object"
      ]
     },
     "execution_count": 36,
     "metadata": {},
     "output_type": "execute_result"
    }
   ],
   "source": [
    "t"
   ]
  },
  {
   "cell_type": "code",
   "execution_count": 37,
   "metadata": {},
   "outputs": [
    {
     "data": {
      "text/plain": [
       "(('__label__science', '__label__adaptation', '__label__mitigation'),\n",
       " array([8.63401651e-01, 2.01823220e-01, 1.00000034e-05]))"
      ]
     },
     "execution_count": 37,
     "metadata": {},
     "output_type": "execute_result"
    }
   ],
   "source": [
    "model.predict(nfx.remove_stopwords(f\"{t.title} {t.topics} {t.locations_names} {t.locations_ids}\"), k=-1)"
   ]
  },
  {
   "cell_type": "code",
   "execution_count": 38,
   "metadata": {},
   "outputs": [
    {
     "data": {
      "text/plain": [
       "(('__label__science',), array([0.86340165]))"
      ]
     },
     "execution_count": 38,
     "metadata": {},
     "output_type": "execute_result"
    }
   ],
   "source": [
    "model.predict(nfx.remove_stopwords(f\"{t.title} {t.topics} {t.locations_names} {t.locations_ids}\"))"
   ]
  }
 ],
 "metadata": {
  "kernelspec": {
   "display_name": "Python 3",
   "language": "python",
   "name": "python3"
  },
  "language_info": {
   "codemirror_mode": {
    "name": "ipython",
    "version": 3
   },
   "file_extension": ".py",
   "mimetype": "text/x-python",
   "name": "python",
   "nbconvert_exporter": "python",
   "pygments_lexer": "ipython3",
   "version": "3.11.4"
  }
 },
 "nbformat": 4,
 "nbformat_minor": 2
}
